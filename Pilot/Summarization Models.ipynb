{
  "nbformat": 4,
  "nbformat_minor": 0,
  "metadata": {
    "colab": {
      "name": "Summarization.ipynb",
      "provenance": [],
      "include_colab_link": true
    },
    "kernelspec": {
      "name": "python3",
      "display_name": "Python 3"
    }
  },
  "cells": [
    {
      "cell_type": "markdown",
      "metadata": {
        "id": "view-in-github",
        "colab_type": "text"
      },
      "source": [
        "<a href=\"https://colab.research.google.com/github/s-miramontes/News_Filter/blob/emma/Pilot/Summarization%20Models.ipynb\" target=\"_parent\"><img src=\"https://colab.research.google.com/assets/colab-badge.svg\" alt=\"Open In Colab\"/></a>"
      ]
    },
    {
      "cell_type": "markdown",
      "metadata": {
        "id": "nUam-k50Z15W",
        "colab_type": "text"
      },
      "source": [
        "# Summarize Clusters"
      ]
    },
    {
      "cell_type": "markdown",
      "metadata": {
        "id": "VYcEPbXgZ1-v",
        "colab_type": "text"
      },
      "source": [
        "## BERT method"
      ]
    },
    {
      "cell_type": "code",
      "metadata": {
        "id": "oEXgpzo6Zxqb",
        "colab_type": "code",
        "colab": {
          "base_uri": "https://localhost:8080/",
          "height": 598
        },
        "outputId": "ea8d06af-946f-4cb1-a608-0138b8cf361d"
      },
      "source": [
        "!pip install bert-extractive-summarizer"
      ],
      "execution_count": 15,
      "outputs": [
        {
          "output_type": "stream",
          "text": [
            "Requirement already satisfied: bert-extractive-summarizer in ./anaconda3/lib/python3.7/site-packages (0.4.1)\r\n",
            "Requirement already satisfied: scikit-learn in ./anaconda3/lib/python3.7/site-packages (from bert-extractive-summarizer) (0.21.3)\r\n",
            "Requirement already satisfied: transformers in ./anaconda3/lib/python3.7/site-packages (from bert-extractive-summarizer) (2.2.2)\r\n",
            "Requirement already satisfied: spacy in ./anaconda3/lib/python3.7/site-packages (from bert-extractive-summarizer) (2.1.3)\n",
            "Requirement already satisfied: scipy>=0.17.0 in ./anaconda3/lib/python3.7/site-packages (from scikit-learn->bert-extractive-summarizer) (1.4.1)\n",
            "Requirement already satisfied: numpy>=1.11.0 in ./anaconda3/lib/python3.7/site-packages (from scikit-learn->bert-extractive-summarizer) (1.17.2)\n",
            "Requirement already satisfied: joblib>=0.11 in ./anaconda3/lib/python3.7/site-packages (from scikit-learn->bert-extractive-summarizer) (0.13.2)\n",
            "Requirement already satisfied: tqdm in ./anaconda3/lib/python3.7/site-packages (from transformers->bert-extractive-summarizer) (4.36.1)\n",
            "Requirement already satisfied: sacremoses in ./anaconda3/lib/python3.7/site-packages (from transformers->bert-extractive-summarizer) (0.0.38)\n",
            "Requirement already satisfied: regex in ./anaconda3/lib/python3.7/site-packages (from transformers->bert-extractive-summarizer) (2020.4.4)\n",
            "Requirement already satisfied: boto3 in ./anaconda3/lib/python3.7/site-packages (from transformers->bert-extractive-summarizer) (1.12.11)\n",
            "Requirement already satisfied: sentencepiece in ./anaconda3/lib/python3.7/site-packages (from transformers->bert-extractive-summarizer) (0.1.85)\n",
            "Requirement already satisfied: requests in ./anaconda3/lib/python3.7/site-packages (from transformers->bert-extractive-summarizer) (2.22.0)\n",
            "Requirement already satisfied: murmurhash<1.1.0,>=0.28.0 in ./anaconda3/lib/python3.7/site-packages (from spacy->bert-extractive-summarizer) (1.0.2)\n",
            "Requirement already satisfied: wasabi<1.1.0,>=0.2.0 in ./anaconda3/lib/python3.7/site-packages (from spacy->bert-extractive-summarizer) (0.6.0)\n",
            "Requirement already satisfied: jsonschema<3.0.0,>=2.6.0 in ./anaconda3/lib/python3.7/site-packages (from spacy->bert-extractive-summarizer) (2.6.0)\n",
            "Requirement already satisfied: cymem<2.1.0,>=2.0.2 in ./anaconda3/lib/python3.7/site-packages (from spacy->bert-extractive-summarizer) (2.0.3)\n",
            "Requirement already satisfied: plac<1.0.0,>=0.9.6 in ./anaconda3/lib/python3.7/site-packages (from spacy->bert-extractive-summarizer) (0.9.6)\n",
            "Requirement already satisfied: preshed<2.1.0,>=2.0.1 in ./anaconda3/lib/python3.7/site-packages (from spacy->bert-extractive-summarizer) (2.0.1)\n",
            "Requirement already satisfied: srsly<1.1.0,>=0.0.5 in ./anaconda3/lib/python3.7/site-packages (from spacy->bert-extractive-summarizer) (1.0.1)\n",
            "Requirement already satisfied: thinc<7.1.0,>=7.0.2 in ./anaconda3/lib/python3.7/site-packages (from spacy->bert-extractive-summarizer) (7.0.8)\n",
            "Requirement already satisfied: blis<0.3.0,>=0.2.2 in ./anaconda3/lib/python3.7/site-packages (from spacy->bert-extractive-summarizer) (0.2.4)\n",
            "Requirement already satisfied: click in ./anaconda3/lib/python3.7/site-packages (from sacremoses->transformers->bert-extractive-summarizer) (7.0)\n",
            "Requirement already satisfied: six in ./anaconda3/lib/python3.7/site-packages (from sacremoses->transformers->bert-extractive-summarizer) (1.12.0)\n",
            "Requirement already satisfied: botocore<1.16.0,>=1.15.11 in ./anaconda3/lib/python3.7/site-packages (from boto3->transformers->bert-extractive-summarizer) (1.15.11)\n",
            "Requirement already satisfied: jmespath<1.0.0,>=0.7.1 in ./anaconda3/lib/python3.7/site-packages (from boto3->transformers->bert-extractive-summarizer) (0.9.5)\n",
            "Requirement already satisfied: s3transfer<0.4.0,>=0.3.0 in ./anaconda3/lib/python3.7/site-packages (from boto3->transformers->bert-extractive-summarizer) (0.3.3)\n",
            "Requirement already satisfied: certifi>=2017.4.17 in ./anaconda3/lib/python3.7/site-packages (from requests->transformers->bert-extractive-summarizer) (2019.9.11)\n",
            "Requirement already satisfied: urllib3!=1.25.0,!=1.25.1,<1.26,>=1.21.1 in ./anaconda3/lib/python3.7/site-packages (from requests->transformers->bert-extractive-summarizer) (1.24.2)\n",
            "Requirement already satisfied: chardet<3.1.0,>=3.0.2 in ./anaconda3/lib/python3.7/site-packages (from requests->transformers->bert-extractive-summarizer) (3.0.4)\n",
            "Requirement already satisfied: idna<2.9,>=2.5 in ./anaconda3/lib/python3.7/site-packages (from requests->transformers->bert-extractive-summarizer) (2.8)\n",
            "Requirement already satisfied: docutils<0.16,>=0.10 in ./anaconda3/lib/python3.7/site-packages (from botocore<1.16.0,>=1.15.11->boto3->transformers->bert-extractive-summarizer) (0.15.2)\n",
            "Requirement already satisfied: python-dateutil<3.0.0,>=2.1 in ./anaconda3/lib/python3.7/site-packages (from botocore<1.16.0,>=1.15.11->boto3->transformers->bert-extractive-summarizer) (2.8.0)\n"
          ],
          "name": "stdout"
        }
      ]
    },
    {
      "cell_type": "code",
      "metadata": {
        "id": "gGtyeDYib1nz",
        "colab_type": "code",
        "colab": {
          "base_uri": "https://localhost:8080/",
          "height": 1000
        },
        "outputId": "7b6ba5b5-bd80-448e-be9c-0025ddb618c3"
      },
      "source": [
        "!pip install spacy==2.1.3\n",
        "!pip install transformers==2.2.2\n",
        "!pip install neuralcoref"
      ],
      "execution_count": 14,
      "outputs": [
        {
          "output_type": "stream",
          "text": [
            "Requirement already satisfied: spacy==2.1.3 in ./anaconda3/lib/python3.7/site-packages (2.1.3)\n",
            "Requirement already satisfied: cymem<2.1.0,>=2.0.2 in ./anaconda3/lib/python3.7/site-packages (from spacy==2.1.3) (2.0.3)\n",
            "Requirement already satisfied: preshed<2.1.0,>=2.0.1 in ./anaconda3/lib/python3.7/site-packages (from spacy==2.1.3) (2.0.1)\n",
            "Requirement already satisfied: wasabi<1.1.0,>=0.2.0 in ./anaconda3/lib/python3.7/site-packages (from spacy==2.1.3) (0.6.0)\n",
            "Requirement already satisfied: jsonschema<3.0.0,>=2.6.0 in ./anaconda3/lib/python3.7/site-packages (from spacy==2.1.3) (2.6.0)\n",
            "Requirement already satisfied: blis<0.3.0,>=0.2.2 in ./anaconda3/lib/python3.7/site-packages (from spacy==2.1.3) (0.2.4)\n",
            "Requirement already satisfied: thinc<7.1.0,>=7.0.2 in ./anaconda3/lib/python3.7/site-packages (from spacy==2.1.3) (7.0.8)\n",
            "Requirement already satisfied: srsly<1.1.0,>=0.0.5 in ./anaconda3/lib/python3.7/site-packages (from spacy==2.1.3) (1.0.1)\n",
            "Requirement already satisfied: requests<3.0.0,>=2.13.0 in ./anaconda3/lib/python3.7/site-packages (from spacy==2.1.3) (2.22.0)\n",
            "Requirement already satisfied: numpy>=1.15.0 in ./anaconda3/lib/python3.7/site-packages (from spacy==2.1.3) (1.17.2)\n",
            "Requirement already satisfied: murmurhash<1.1.0,>=0.28.0 in ./anaconda3/lib/python3.7/site-packages (from spacy==2.1.3) (1.0.2)\n",
            "Requirement already satisfied: plac<1.0.0,>=0.9.6 in ./anaconda3/lib/python3.7/site-packages (from spacy==2.1.3) (0.9.6)\n",
            "Requirement already satisfied: tqdm<5.0.0,>=4.10.0 in ./anaconda3/lib/python3.7/site-packages (from thinc<7.1.0,>=7.0.2->spacy==2.1.3) (4.36.1)\n",
            "Requirement already satisfied: idna<2.9,>=2.5 in ./anaconda3/lib/python3.7/site-packages (from requests<3.0.0,>=2.13.0->spacy==2.1.3) (2.8)\n",
            "Requirement already satisfied: certifi>=2017.4.17 in ./anaconda3/lib/python3.7/site-packages (from requests<3.0.0,>=2.13.0->spacy==2.1.3) (2019.9.11)\n",
            "Requirement already satisfied: chardet<3.1.0,>=3.0.2 in ./anaconda3/lib/python3.7/site-packages (from requests<3.0.0,>=2.13.0->spacy==2.1.3) (3.0.4)\n",
            "Requirement already satisfied: urllib3!=1.25.0,!=1.25.1,<1.26,>=1.21.1 in ./anaconda3/lib/python3.7/site-packages (from requests<3.0.0,>=2.13.0->spacy==2.1.3) (1.24.2)\n",
            "Requirement already satisfied: transformers==2.2.2 in ./anaconda3/lib/python3.7/site-packages (2.2.2)\n",
            "Requirement already satisfied: boto3 in ./anaconda3/lib/python3.7/site-packages (from transformers==2.2.2) (1.12.11)\n",
            "Requirement already satisfied: requests in ./anaconda3/lib/python3.7/site-packages (from transformers==2.2.2) (2.22.0)\n",
            "Requirement already satisfied: tqdm in ./anaconda3/lib/python3.7/site-packages (from transformers==2.2.2) (4.36.1)\n",
            "Requirement already satisfied: sentencepiece in ./anaconda3/lib/python3.7/site-packages (from transformers==2.2.2) (0.1.85)\n",
            "Requirement already satisfied: sacremoses in ./anaconda3/lib/python3.7/site-packages (from transformers==2.2.2) (0.0.38)\n",
            "Requirement already satisfied: regex in ./anaconda3/lib/python3.7/site-packages (from transformers==2.2.2) (2020.4.4)\n",
            "Requirement already satisfied: numpy in ./anaconda3/lib/python3.7/site-packages (from transformers==2.2.2) (1.17.2)\n",
            "Requirement already satisfied: botocore<1.16.0,>=1.15.11 in ./anaconda3/lib/python3.7/site-packages (from boto3->transformers==2.2.2) (1.15.11)\n",
            "Requirement already satisfied: jmespath<1.0.0,>=0.7.1 in ./anaconda3/lib/python3.7/site-packages (from boto3->transformers==2.2.2) (0.9.5)\n",
            "Requirement already satisfied: s3transfer<0.4.0,>=0.3.0 in ./anaconda3/lib/python3.7/site-packages (from boto3->transformers==2.2.2) (0.3.3)\n",
            "Requirement already satisfied: urllib3!=1.25.0,!=1.25.1,<1.26,>=1.21.1 in ./anaconda3/lib/python3.7/site-packages (from requests->transformers==2.2.2) (1.24.2)\n",
            "Requirement already satisfied: chardet<3.1.0,>=3.0.2 in ./anaconda3/lib/python3.7/site-packages (from requests->transformers==2.2.2) (3.0.4)\n",
            "Requirement already satisfied: certifi>=2017.4.17 in ./anaconda3/lib/python3.7/site-packages (from requests->transformers==2.2.2) (2019.9.11)\n",
            "Requirement already satisfied: idna<2.9,>=2.5 in ./anaconda3/lib/python3.7/site-packages (from requests->transformers==2.2.2) (2.8)\n",
            "Requirement already satisfied: six in ./anaconda3/lib/python3.7/site-packages (from sacremoses->transformers==2.2.2) (1.12.0)\n",
            "Requirement already satisfied: joblib in ./anaconda3/lib/python3.7/site-packages (from sacremoses->transformers==2.2.2) (0.13.2)\n",
            "Requirement already satisfied: click in ./anaconda3/lib/python3.7/site-packages (from sacremoses->transformers==2.2.2) (7.0)\n",
            "Requirement already satisfied: python-dateutil<3.0.0,>=2.1 in ./anaconda3/lib/python3.7/site-packages (from botocore<1.16.0,>=1.15.11->boto3->transformers==2.2.2) (2.8.0)\n",
            "Requirement already satisfied: docutils<0.16,>=0.10 in ./anaconda3/lib/python3.7/site-packages (from botocore<1.16.0,>=1.15.11->boto3->transformers==2.2.2) (0.15.2)\n",
            "Requirement already satisfied: neuralcoref in ./anaconda3/lib/python3.7/site-packages (4.0)\n",
            "Requirement already satisfied: spacy>=2.1.0 in ./anaconda3/lib/python3.7/site-packages (from neuralcoref) (2.1.3)\n",
            "Requirement already satisfied: boto3 in ./anaconda3/lib/python3.7/site-packages (from neuralcoref) (1.12.11)\n",
            "Requirement already satisfied: requests<3.0.0,>=2.13.0 in ./anaconda3/lib/python3.7/site-packages (from neuralcoref) (2.22.0)\n",
            "Requirement already satisfied: numpy>=1.15.0 in ./anaconda3/lib/python3.7/site-packages (from neuralcoref) (1.17.2)\n",
            "Requirement already satisfied: murmurhash<1.1.0,>=0.28.0 in ./anaconda3/lib/python3.7/site-packages (from spacy>=2.1.0->neuralcoref) (1.0.2)\n",
            "Requirement already satisfied: srsly<1.1.0,>=0.0.5 in ./anaconda3/lib/python3.7/site-packages (from spacy>=2.1.0->neuralcoref) (1.0.1)\n",
            "Requirement already satisfied: cymem<2.1.0,>=2.0.2 in ./anaconda3/lib/python3.7/site-packages (from spacy>=2.1.0->neuralcoref) (2.0.3)\n",
            "Requirement already satisfied: wasabi<1.1.0,>=0.2.0 in ./anaconda3/lib/python3.7/site-packages (from spacy>=2.1.0->neuralcoref) (0.6.0)\n",
            "Requirement already satisfied: preshed<2.1.0,>=2.0.1 in ./anaconda3/lib/python3.7/site-packages (from spacy>=2.1.0->neuralcoref) (2.0.1)\n",
            "Requirement already satisfied: jsonschema<3.0.0,>=2.6.0 in ./anaconda3/lib/python3.7/site-packages (from spacy>=2.1.0->neuralcoref) (2.6.0)\n",
            "Requirement already satisfied: thinc<7.1.0,>=7.0.2 in ./anaconda3/lib/python3.7/site-packages (from spacy>=2.1.0->neuralcoref) (7.0.8)\n",
            "Requirement already satisfied: blis<0.3.0,>=0.2.2 in ./anaconda3/lib/python3.7/site-packages (from spacy>=2.1.0->neuralcoref) (0.2.4)\n",
            "Requirement already satisfied: plac<1.0.0,>=0.9.6 in ./anaconda3/lib/python3.7/site-packages (from spacy>=2.1.0->neuralcoref) (0.9.6)\n",
            "Requirement already satisfied: jmespath<1.0.0,>=0.7.1 in ./anaconda3/lib/python3.7/site-packages (from boto3->neuralcoref) (0.9.5)\n",
            "Requirement already satisfied: s3transfer<0.4.0,>=0.3.0 in ./anaconda3/lib/python3.7/site-packages (from boto3->neuralcoref) (0.3.3)\n",
            "Requirement already satisfied: botocore<1.16.0,>=1.15.11 in ./anaconda3/lib/python3.7/site-packages (from boto3->neuralcoref) (1.15.11)\n",
            "Requirement already satisfied: certifi>=2017.4.17 in ./anaconda3/lib/python3.7/site-packages (from requests<3.0.0,>=2.13.0->neuralcoref) (2019.9.11)\n",
            "Requirement already satisfied: urllib3!=1.25.0,!=1.25.1,<1.26,>=1.21.1 in ./anaconda3/lib/python3.7/site-packages (from requests<3.0.0,>=2.13.0->neuralcoref) (1.24.2)\n",
            "Requirement already satisfied: chardet<3.1.0,>=3.0.2 in ./anaconda3/lib/python3.7/site-packages (from requests<3.0.0,>=2.13.0->neuralcoref) (3.0.4)\n",
            "Requirement already satisfied: idna<2.9,>=2.5 in ./anaconda3/lib/python3.7/site-packages (from requests<3.0.0,>=2.13.0->neuralcoref) (2.8)\n",
            "Requirement already satisfied: tqdm<5.0.0,>=4.10.0 in ./anaconda3/lib/python3.7/site-packages (from thinc<7.1.0,>=7.0.2->spacy>=2.1.0->neuralcoref) (4.36.1)\n",
            "Requirement already satisfied: docutils<0.16,>=0.10 in ./anaconda3/lib/python3.7/site-packages (from botocore<1.16.0,>=1.15.11->boto3->neuralcoref) (0.15.2)\n",
            "Requirement already satisfied: python-dateutil<3.0.0,>=2.1 in ./anaconda3/lib/python3.7/site-packages (from botocore<1.16.0,>=1.15.11->boto3->neuralcoref) (2.8.0)\n",
            "Requirement already satisfied: six>=1.5 in ./anaconda3/lib/python3.7/site-packages (from python-dateutil<3.0.0,>=2.1->botocore<1.16.0,>=1.15.11->boto3->neuralcoref) (1.12.0)\n"
          ],
          "name": "stdout"
        }
      ]
    },
    {
      "cell_type": "code",
      "metadata": {
        "id": "oP-yG_9AcMgv",
        "colab_type": "code",
        "colab": {
          "base_uri": "https://localhost:8080/",
          "height": 173
        },
        "outputId": "13ad6218-882c-4ee6-9abb-a8dbefd093c8"
      },
      "source": [
        "!pip install --upgrade pip"
      ],
      "execution_count": 12,
      "outputs": [
        {
          "output_type": "stream",
          "text": [
            "Collecting pip\n",
            "\u001b[?25l  Downloading https://files.pythonhosted.org/packages/54/0c/d01aa759fdc501a58f431eb594a17495f15b88da142ce14b5845662c13f3/pip-20.0.2-py2.py3-none-any.whl (1.4MB)\n",
            "\u001b[K     |████████████████████████████████| 1.4MB 3.4MB/s \n",
            "\u001b[?25hInstalling collected packages: pip\n",
            "  Found existing installation: pip 19.3.1\n",
            "    Uninstalling pip-19.3.1:\n",
            "      Successfully uninstalled pip-19.3.1\n",
            "Successfully installed pip-20.0.2\n"
          ],
          "name": "stdout"
        }
      ]
    },
    {
      "cell_type": "code",
      "metadata": {
        "id": "wdzVvgZWb68y",
        "colab_type": "code",
        "colab": {
          "base_uri": "https://localhost:8080/",
          "height": 640
        },
        "outputId": "352d464c-0ee3-4418-ab27-31a1958f41ed"
      },
      "source": [
        "from summarizer import Summarizer\n",
        "\n",
        "body = 'Text body that you want to summarize with BERT'\n",
        "body2 = 'Something else you want to summarize with BERT'\n",
        "model = Summarizer()\n",
        "model(body)\n",
        "model(body2)"
      ],
      "execution_count": 16,
      "outputs": [
        {
          "output_type": "error",
          "ename": "NameError",
          "evalue": "ignored",
          "traceback": [
            "\u001b[0;31m---------------------------------------------------------------------------\u001b[0m",
            "\u001b[0;31mNameError\u001b[0m                                 Traceback (most recent call last)",
            "\u001b[0;32m<ipython-input-16-3b4384c20fe2>\u001b[0m in \u001b[0;36m<module>\u001b[0;34m\u001b[0m\n\u001b[0;32m----> 1\u001b[0;31m \u001b[0;32mfrom\u001b[0m \u001b[0msummarizer\u001b[0m \u001b[0;32mimport\u001b[0m \u001b[0mSummarizer\u001b[0m\u001b[0;34m\u001b[0m\u001b[0;34m\u001b[0m\u001b[0m\n\u001b[0m\u001b[1;32m      2\u001b[0m \u001b[0;34m\u001b[0m\u001b[0m\n\u001b[1;32m      3\u001b[0m \u001b[0mbody\u001b[0m \u001b[0;34m=\u001b[0m \u001b[0;34m'Text body that you want to summarize with BERT'\u001b[0m\u001b[0;34m\u001b[0m\u001b[0;34m\u001b[0m\u001b[0m\n\u001b[1;32m      4\u001b[0m \u001b[0mbody2\u001b[0m \u001b[0;34m=\u001b[0m \u001b[0;34m'Something else you want to summarize with BERT'\u001b[0m\u001b[0;34m\u001b[0m\u001b[0;34m\u001b[0m\u001b[0m\n\u001b[1;32m      5\u001b[0m \u001b[0mmodel\u001b[0m \u001b[0;34m=\u001b[0m \u001b[0mSummarizer\u001b[0m\u001b[0;34m(\u001b[0m\u001b[0;34m)\u001b[0m\u001b[0;34m\u001b[0m\u001b[0;34m\u001b[0m\u001b[0m\n",
            "\u001b[0;32m~/anaconda3/lib/python3.7/site-packages/summarizer/__init__.py\u001b[0m in \u001b[0;36m<module>\u001b[0;34m\u001b[0m\n\u001b[0;32m----> 1\u001b[0;31m \u001b[0;32mfrom\u001b[0m \u001b[0msummarizer\u001b[0m\u001b[0;34m.\u001b[0m\u001b[0mmodel_processors\u001b[0m \u001b[0;32mimport\u001b[0m \u001b[0mSummarizer\u001b[0m\u001b[0;34m,\u001b[0m \u001b[0mSingleModel\u001b[0m\u001b[0;34m,\u001b[0m \u001b[0mTransformerSummarizer\u001b[0m\u001b[0;34m\u001b[0m\u001b[0;34m\u001b[0m\u001b[0m\n\u001b[0m",
            "\u001b[0;32m~/anaconda3/lib/python3.7/site-packages/summarizer/model_processors.py\u001b[0m in \u001b[0;36m<module>\u001b[0;34m\u001b[0m\n\u001b[0;32m----> 1\u001b[0;31m \u001b[0;32mfrom\u001b[0m \u001b[0msummarizer\u001b[0m\u001b[0;34m.\u001b[0m\u001b[0mbert_parent\u001b[0m \u001b[0;32mimport\u001b[0m \u001b[0mBertParent\u001b[0m\u001b[0;34m\u001b[0m\u001b[0;34m\u001b[0m\u001b[0m\n\u001b[0m\u001b[1;32m      2\u001b[0m \u001b[0;32mfrom\u001b[0m \u001b[0msummarizer\u001b[0m\u001b[0;34m.\u001b[0m\u001b[0mcluster_features\u001b[0m \u001b[0;32mimport\u001b[0m \u001b[0mClusterFeatures\u001b[0m\u001b[0;34m\u001b[0m\u001b[0;34m\u001b[0m\u001b[0m\n\u001b[1;32m      3\u001b[0m \u001b[0;32mfrom\u001b[0m \u001b[0msummarizer\u001b[0m\u001b[0;34m.\u001b[0m\u001b[0msentence_handler\u001b[0m \u001b[0;32mimport\u001b[0m \u001b[0mSentenceHandler\u001b[0m\u001b[0;34m\u001b[0m\u001b[0;34m\u001b[0m\u001b[0m\n\u001b[1;32m      4\u001b[0m \u001b[0;32mfrom\u001b[0m \u001b[0mtyping\u001b[0m \u001b[0;32mimport\u001b[0m \u001b[0mList\u001b[0m\u001b[0;34m\u001b[0m\u001b[0;34m\u001b[0m\u001b[0m\n\u001b[1;32m      5\u001b[0m \u001b[0;32mfrom\u001b[0m \u001b[0mabc\u001b[0m \u001b[0;32mimport\u001b[0m \u001b[0mabstractmethod\u001b[0m\u001b[0;34m\u001b[0m\u001b[0;34m\u001b[0m\u001b[0m\n",
            "\u001b[0;32m~/anaconda3/lib/python3.7/site-packages/summarizer/bert_parent.py\u001b[0m in \u001b[0;36m<module>\u001b[0;34m\u001b[0m\n\u001b[1;32m      9\u001b[0m \u001b[0;34m\u001b[0m\u001b[0m\n\u001b[1;32m     10\u001b[0m \u001b[0;34m\u001b[0m\u001b[0m\n\u001b[0;32m---> 11\u001b[0;31m \u001b[0;32mclass\u001b[0m \u001b[0mBertParent\u001b[0m\u001b[0;34m(\u001b[0m\u001b[0mobject\u001b[0m\u001b[0;34m)\u001b[0m\u001b[0;34m:\u001b[0m\u001b[0;34m\u001b[0m\u001b[0;34m\u001b[0m\u001b[0m\n\u001b[0m\u001b[1;32m     12\u001b[0m \u001b[0;34m\u001b[0m\u001b[0m\n\u001b[1;32m     13\u001b[0m     \"\"\"\n",
            "\u001b[0;32m~/anaconda3/lib/python3.7/site-packages/summarizer/bert_parent.py\u001b[0m in \u001b[0;36mBertParent\u001b[0;34m()\u001b[0m\n\u001b[1;32m     16\u001b[0m \u001b[0;34m\u001b[0m\u001b[0m\n\u001b[1;32m     17\u001b[0m     MODELS = {\n\u001b[0;32m---> 18\u001b[0;31m         \u001b[0;34m'bert-base-uncased'\u001b[0m\u001b[0;34m:\u001b[0m \u001b[0;34m(\u001b[0m\u001b[0mBertModel\u001b[0m\u001b[0;34m,\u001b[0m \u001b[0mBertTokenizer\u001b[0m\u001b[0;34m)\u001b[0m\u001b[0;34m,\u001b[0m\u001b[0;34m\u001b[0m\u001b[0;34m\u001b[0m\u001b[0m\n\u001b[0m\u001b[1;32m     19\u001b[0m         \u001b[0;34m'bert-large-uncased'\u001b[0m\u001b[0;34m:\u001b[0m \u001b[0;34m(\u001b[0m\u001b[0mBertModel\u001b[0m\u001b[0;34m,\u001b[0m \u001b[0mBertTokenizer\u001b[0m\u001b[0;34m)\u001b[0m\u001b[0;34m,\u001b[0m\u001b[0;34m\u001b[0m\u001b[0;34m\u001b[0m\u001b[0m\n\u001b[1;32m     20\u001b[0m         \u001b[0;34m'xlnet-base-cased'\u001b[0m\u001b[0;34m:\u001b[0m \u001b[0;34m(\u001b[0m\u001b[0mXLNetModel\u001b[0m\u001b[0;34m,\u001b[0m \u001b[0mXLNetTokenizer\u001b[0m\u001b[0;34m)\u001b[0m\u001b[0;34m,\u001b[0m\u001b[0;34m\u001b[0m\u001b[0;34m\u001b[0m\u001b[0m\n",
            "\u001b[0;31mNameError\u001b[0m: name 'BertModel' is not defined"
          ]
        }
      ]
    },
    {
      "cell_type": "code",
      "metadata": {
        "id": "Jy1tW6aqcbGi",
        "colab_type": "code",
        "colab": {}
      },
      "source": [
        ""
      ],
      "execution_count": 0,
      "outputs": []
    }
  ]
}