{
  "nbformat": 4,
  "nbformat_minor": 0,
  "metadata": {
    "colab": {
      "name": "Summarization.ipynb",
      "provenance": [],
      "include_colab_link": true
    },
    "kernelspec": {
      "name": "python3",
      "display_name": "Python 3"
    }
  },
  "cells": [
    {
      "cell_type": "markdown",
      "metadata": {
        "id": "view-in-github",
        "colab_type": "text"
      },
      "source": [
        "<a href=\"https://colab.research.google.com/github/s-miramontes/News_Filter/blob/emma/Pilot/Summarization%20Models.ipynb\" target=\"_parent\"><img src=\"https://colab.research.google.com/assets/colab-badge.svg\" alt=\"Open In Colab\"/></a>"
      ]
    },
    {
      "cell_type": "markdown",
      "metadata": {
        "id": "nUam-k50Z15W",
        "colab_type": "text"
      },
      "source": [
        "# Summarize Clusters"
      ]
    },
    {
      "cell_type": "markdown",
      "metadata": {
        "id": "VYcEPbXgZ1-v",
        "colab_type": "text"
      },
      "source": [
        "## BERT method"
      ]
    },
    {
      "cell_type": "code",
      "metadata": {
        "id": "oEXgpzo6Zxqb",
        "colab_type": "code",
        "outputId": "4bd71986-8553-4e06-ed33-28d5ecbfff70",
        "colab": {
          "base_uri": "https://localhost:8080/",
          "height": 1000
        }
      },
      "source": [
        "# install libraries \n",
        "\n",
        "!pip install bert-extractive-summarizer\n",
        "\n",
        "!pip install spacy==2.1.3\n",
        "!pip install transformers==2.2.2\n",
        "!pip install neuralcoref\n",
        "\n",
        "!pip install torch"
      ],
      "execution_count": 1,
      "outputs": [
        {
          "output_type": "stream",
          "text": [
            "Requirement already satisfied: bert-extractive-summarizer in ./anaconda3/lib/python3.7/site-packages (0.4.1)\r\n",
            "Requirement already satisfied: transformers in ./anaconda3/lib/python3.7/site-packages (from bert-extractive-summarizer) (2.2.2)\r\n",
            "Requirement already satisfied: scikit-learn in ./anaconda3/lib/python3.7/site-packages (from bert-extractive-summarizer) (0.21.3)\r\n",
            "Requirement already satisfied: spacy in ./anaconda3/lib/python3.7/site-packages (from bert-extractive-summarizer) (2.1.3)\n",
            "Requirement already satisfied: numpy in ./anaconda3/lib/python3.7/site-packages (from transformers->bert-extractive-summarizer) (1.17.2)\n",
            "Requirement already satisfied: regex in ./anaconda3/lib/python3.7/site-packages (from transformers->bert-extractive-summarizer) (2020.4.4)\n",
            "Requirement already satisfied: boto3 in ./anaconda3/lib/python3.7/site-packages (from transformers->bert-extractive-summarizer) (1.12.11)\n",
            "Requirement already satisfied: sentencepiece in ./anaconda3/lib/python3.7/site-packages (from transformers->bert-extractive-summarizer) (0.1.85)\n",
            "Requirement already satisfied: requests in ./anaconda3/lib/python3.7/site-packages (from transformers->bert-extractive-summarizer) (2.22.0)\n",
            "Requirement already satisfied: sacremoses in ./anaconda3/lib/python3.7/site-packages (from transformers->bert-extractive-summarizer) (0.0.38)\n",
            "Requirement already satisfied: tqdm in ./anaconda3/lib/python3.7/site-packages (from transformers->bert-extractive-summarizer) (4.36.1)\n",
            "Requirement already satisfied: joblib>=0.11 in ./anaconda3/lib/python3.7/site-packages (from scikit-learn->bert-extractive-summarizer) (0.13.2)\n",
            "Requirement already satisfied: scipy>=0.17.0 in ./anaconda3/lib/python3.7/site-packages (from scikit-learn->bert-extractive-summarizer) (1.4.1)\n",
            "Requirement already satisfied: plac<1.0.0,>=0.9.6 in ./anaconda3/lib/python3.7/site-packages (from spacy->bert-extractive-summarizer) (0.9.6)\n",
            "Requirement already satisfied: wasabi<1.1.0,>=0.2.0 in ./anaconda3/lib/python3.7/site-packages (from spacy->bert-extractive-summarizer) (0.6.0)\n",
            "Requirement already satisfied: blis<0.3.0,>=0.2.2 in ./anaconda3/lib/python3.7/site-packages (from spacy->bert-extractive-summarizer) (0.2.4)\n",
            "Requirement already satisfied: jsonschema<3.0.0,>=2.6.0 in ./anaconda3/lib/python3.7/site-packages (from spacy->bert-extractive-summarizer) (2.6.0)\n",
            "Requirement already satisfied: murmurhash<1.1.0,>=0.28.0 in ./anaconda3/lib/python3.7/site-packages (from spacy->bert-extractive-summarizer) (1.0.2)\n",
            "Requirement already satisfied: srsly<1.1.0,>=0.0.5 in ./anaconda3/lib/python3.7/site-packages (from spacy->bert-extractive-summarizer) (1.0.1)\n",
            "Requirement already satisfied: thinc<7.1.0,>=7.0.2 in ./anaconda3/lib/python3.7/site-packages (from spacy->bert-extractive-summarizer) (7.0.8)\n",
            "Requirement already satisfied: preshed<2.1.0,>=2.0.1 in ./anaconda3/lib/python3.7/site-packages (from spacy->bert-extractive-summarizer) (2.0.1)\n",
            "Requirement already satisfied: cymem<2.1.0,>=2.0.2 in ./anaconda3/lib/python3.7/site-packages (from spacy->bert-extractive-summarizer) (2.0.3)\n",
            "Requirement already satisfied: s3transfer<0.4.0,>=0.3.0 in ./anaconda3/lib/python3.7/site-packages (from boto3->transformers->bert-extractive-summarizer) (0.3.3)\n",
            "Requirement already satisfied: botocore<1.16.0,>=1.15.11 in ./anaconda3/lib/python3.7/site-packages (from boto3->transformers->bert-extractive-summarizer) (1.15.11)\n",
            "Requirement already satisfied: jmespath<1.0.0,>=0.7.1 in ./anaconda3/lib/python3.7/site-packages (from boto3->transformers->bert-extractive-summarizer) (0.9.5)\n",
            "Requirement already satisfied: idna<2.9,>=2.5 in ./anaconda3/lib/python3.7/site-packages (from requests->transformers->bert-extractive-summarizer) (2.8)\n",
            "Requirement already satisfied: certifi>=2017.4.17 in ./anaconda3/lib/python3.7/site-packages (from requests->transformers->bert-extractive-summarizer) (2019.9.11)\n",
            "Requirement already satisfied: urllib3!=1.25.0,!=1.25.1,<1.26,>=1.21.1 in ./anaconda3/lib/python3.7/site-packages (from requests->transformers->bert-extractive-summarizer) (1.24.2)\n",
            "Requirement already satisfied: chardet<3.1.0,>=3.0.2 in ./anaconda3/lib/python3.7/site-packages (from requests->transformers->bert-extractive-summarizer) (3.0.4)\n",
            "Requirement already satisfied: click in ./anaconda3/lib/python3.7/site-packages (from sacremoses->transformers->bert-extractive-summarizer) (7.0)\n",
            "Requirement already satisfied: six in ./anaconda3/lib/python3.7/site-packages (from sacremoses->transformers->bert-extractive-summarizer) (1.12.0)\n",
            "Requirement already satisfied: docutils<0.16,>=0.10 in ./anaconda3/lib/python3.7/site-packages (from botocore<1.16.0,>=1.15.11->boto3->transformers->bert-extractive-summarizer) (0.15.2)\n",
            "Requirement already satisfied: python-dateutil<3.0.0,>=2.1 in ./anaconda3/lib/python3.7/site-packages (from botocore<1.16.0,>=1.15.11->boto3->transformers->bert-extractive-summarizer) (2.8.0)\n",
            "^C\n",
            "\u001b[31mERROR: Operation cancelled by user\u001b[0m\n",
            "Requirement already satisfied: spacy==2.1.3 in ./anaconda3/lib/python3.7/site-packages (2.1.3)\n",
            "Requirement already satisfied: srsly<1.1.0,>=0.0.5 in ./anaconda3/lib/python3.7/site-packages (from spacy==2.1.3) (1.0.1)\n",
            "Requirement already satisfied: numpy>=1.15.0 in ./anaconda3/lib/python3.7/site-packages (from spacy==2.1.3) (1.17.2)\n",
            "Requirement already satisfied: murmurhash<1.1.0,>=0.28.0 in ./anaconda3/lib/python3.7/site-packages (from spacy==2.1.3) (1.0.2)\n",
            "Requirement already satisfied: wasabi<1.1.0,>=0.2.0 in ./anaconda3/lib/python3.7/site-packages (from spacy==2.1.3) (0.6.0)\n",
            "Requirement already satisfied: thinc<7.1.0,>=7.0.2 in ./anaconda3/lib/python3.7/site-packages (from spacy==2.1.3) (7.0.8)\n",
            "Requirement already satisfied: preshed<2.1.0,>=2.0.1 in ./anaconda3/lib/python3.7/site-packages (from spacy==2.1.3) (2.0.1)\n",
            "Requirement already satisfied: cymem<2.1.0,>=2.0.2 in ./anaconda3/lib/python3.7/site-packages (from spacy==2.1.3) (2.0.3)\n",
            "Requirement already satisfied: blis<0.3.0,>=0.2.2 in ./anaconda3/lib/python3.7/site-packages (from spacy==2.1.3) (0.2.4)\n",
            "Requirement already satisfied: jsonschema<3.0.0,>=2.6.0 in ./anaconda3/lib/python3.7/site-packages (from spacy==2.1.3) (2.6.0)\n",
            "Requirement already satisfied: requests<3.0.0,>=2.13.0 in ./anaconda3/lib/python3.7/site-packages (from spacy==2.1.3) (2.22.0)\n",
            "Requirement already satisfied: plac<1.0.0,>=0.9.6 in ./anaconda3/lib/python3.7/site-packages (from spacy==2.1.3) (0.9.6)\n",
            "Requirement already satisfied: tqdm<5.0.0,>=4.10.0 in ./anaconda3/lib/python3.7/site-packages (from thinc<7.1.0,>=7.0.2->spacy==2.1.3) (4.36.1)\n",
            "Requirement already satisfied: chardet<3.1.0,>=3.0.2 in ./anaconda3/lib/python3.7/site-packages (from requests<3.0.0,>=2.13.0->spacy==2.1.3) (3.0.4)\n",
            "Requirement already satisfied: idna<2.9,>=2.5 in ./anaconda3/lib/python3.7/site-packages (from requests<3.0.0,>=2.13.0->spacy==2.1.3) (2.8)\n",
            "Requirement already satisfied: certifi>=2017.4.17 in ./anaconda3/lib/python3.7/site-packages (from requests<3.0.0,>=2.13.0->spacy==2.1.3) (2019.9.11)\n",
            "Requirement already satisfied: urllib3!=1.25.0,!=1.25.1,<1.26,>=1.21.1 in ./anaconda3/lib/python3.7/site-packages (from requests<3.0.0,>=2.13.0->spacy==2.1.3) (1.24.2)\n",
            "Requirement already satisfied: transformers==2.2.2 in ./anaconda3/lib/python3.7/site-packages (2.2.2)\n",
            "Requirement already satisfied: numpy in ./anaconda3/lib/python3.7/site-packages (from transformers==2.2.2) (1.17.2)\n",
            "Requirement already satisfied: sentencepiece in ./anaconda3/lib/python3.7/site-packages (from transformers==2.2.2) (0.1.85)\n",
            "Requirement already satisfied: sacremoses in ./anaconda3/lib/python3.7/site-packages (from transformers==2.2.2) (0.0.38)\n",
            "Requirement already satisfied: regex in ./anaconda3/lib/python3.7/site-packages (from transformers==2.2.2) (2020.4.4)\n",
            "Requirement already satisfied: boto3 in ./anaconda3/lib/python3.7/site-packages (from transformers==2.2.2) (1.12.11)\n",
            "Requirement already satisfied: tqdm in ./anaconda3/lib/python3.7/site-packages (from transformers==2.2.2) (4.36.1)\n",
            "Requirement already satisfied: requests in ./anaconda3/lib/python3.7/site-packages (from transformers==2.2.2) (2.22.0)\n",
            "Requirement already satisfied: click in ./anaconda3/lib/python3.7/site-packages (from sacremoses->transformers==2.2.2) (7.0)\n",
            "Requirement already satisfied: joblib in ./anaconda3/lib/python3.7/site-packages (from sacremoses->transformers==2.2.2) (0.13.2)\n",
            "Requirement already satisfied: six in ./anaconda3/lib/python3.7/site-packages (from sacremoses->transformers==2.2.2) (1.12.0)\n",
            "Requirement already satisfied: botocore<1.16.0,>=1.15.11 in ./anaconda3/lib/python3.7/site-packages (from boto3->transformers==2.2.2) (1.15.11)\n",
            "Requirement already satisfied: s3transfer<0.4.0,>=0.3.0 in ./anaconda3/lib/python3.7/site-packages (from boto3->transformers==2.2.2) (0.3.3)\n",
            "Requirement already satisfied: jmespath<1.0.0,>=0.7.1 in ./anaconda3/lib/python3.7/site-packages (from boto3->transformers==2.2.2) (0.9.5)\n",
            "Requirement already satisfied: idna<2.9,>=2.5 in ./anaconda3/lib/python3.7/site-packages (from requests->transformers==2.2.2) (2.8)\n",
            "Requirement already satisfied: urllib3!=1.25.0,!=1.25.1,<1.26,>=1.21.1 in ./anaconda3/lib/python3.7/site-packages (from requests->transformers==2.2.2) (1.24.2)\n",
            "Requirement already satisfied: certifi>=2017.4.17 in ./anaconda3/lib/python3.7/site-packages (from requests->transformers==2.2.2) (2019.9.11)\n",
            "Requirement already satisfied: chardet<3.1.0,>=3.0.2 in ./anaconda3/lib/python3.7/site-packages (from requests->transformers==2.2.2) (3.0.4)\n",
            "Requirement already satisfied: docutils<0.16,>=0.10 in ./anaconda3/lib/python3.7/site-packages (from botocore<1.16.0,>=1.15.11->boto3->transformers==2.2.2) (0.15.2)\n",
            "Requirement already satisfied: python-dateutil<3.0.0,>=2.1 in ./anaconda3/lib/python3.7/site-packages (from botocore<1.16.0,>=1.15.11->boto3->transformers==2.2.2) (2.8.0)\n",
            "Requirement already satisfied: neuralcoref in ./anaconda3/lib/python3.7/site-packages (4.0)\n",
            "Requirement already satisfied: requests<3.0.0,>=2.13.0 in ./anaconda3/lib/python3.7/site-packages (from neuralcoref) (2.22.0)\n",
            "Requirement already satisfied: boto3 in ./anaconda3/lib/python3.7/site-packages (from neuralcoref) (1.12.11)\n",
            "Requirement already satisfied: spacy>=2.1.0 in ./anaconda3/lib/python3.7/site-packages (from neuralcoref) (2.1.3)\n",
            "Requirement already satisfied: numpy>=1.15.0 in ./anaconda3/lib/python3.7/site-packages (from neuralcoref) (1.17.2)\n",
            "Requirement already satisfied: idna<2.9,>=2.5 in ./anaconda3/lib/python3.7/site-packages (from requests<3.0.0,>=2.13.0->neuralcoref) (2.8)\n",
            "Requirement already satisfied: urllib3!=1.25.0,!=1.25.1,<1.26,>=1.21.1 in ./anaconda3/lib/python3.7/site-packages (from requests<3.0.0,>=2.13.0->neuralcoref) (1.24.2)\n",
            "Requirement already satisfied: chardet<3.1.0,>=3.0.2 in ./anaconda3/lib/python3.7/site-packages (from requests<3.0.0,>=2.13.0->neuralcoref) (3.0.4)\n",
            "Requirement already satisfied: certifi>=2017.4.17 in ./anaconda3/lib/python3.7/site-packages (from requests<3.0.0,>=2.13.0->neuralcoref) (2019.9.11)\n",
            "Requirement already satisfied: botocore<1.16.0,>=1.15.11 in ./anaconda3/lib/python3.7/site-packages (from boto3->neuralcoref) (1.15.11)\n",
            "Requirement already satisfied: jmespath<1.0.0,>=0.7.1 in ./anaconda3/lib/python3.7/site-packages (from boto3->neuralcoref) (0.9.5)\n",
            "Requirement already satisfied: s3transfer<0.4.0,>=0.3.0 in ./anaconda3/lib/python3.7/site-packages (from boto3->neuralcoref) (0.3.3)\n",
            "Requirement already satisfied: thinc<7.1.0,>=7.0.2 in ./anaconda3/lib/python3.7/site-packages (from spacy>=2.1.0->neuralcoref) (7.0.8)\n",
            "Requirement already satisfied: srsly<1.1.0,>=0.0.5 in ./anaconda3/lib/python3.7/site-packages (from spacy>=2.1.0->neuralcoref) (1.0.1)\n",
            "Requirement already satisfied: blis<0.3.0,>=0.2.2 in ./anaconda3/lib/python3.7/site-packages (from spacy>=2.1.0->neuralcoref) (0.2.4)\n",
            "Requirement already satisfied: plac<1.0.0,>=0.9.6 in ./anaconda3/lib/python3.7/site-packages (from spacy>=2.1.0->neuralcoref) (0.9.6)\n",
            "Requirement already satisfied: jsonschema<3.0.0,>=2.6.0 in ./anaconda3/lib/python3.7/site-packages (from spacy>=2.1.0->neuralcoref) (2.6.0)\n",
            "Requirement already satisfied: wasabi<1.1.0,>=0.2.0 in ./anaconda3/lib/python3.7/site-packages (from spacy>=2.1.0->neuralcoref) (0.6.0)\n",
            "Requirement already satisfied: cymem<2.1.0,>=2.0.2 in ./anaconda3/lib/python3.7/site-packages (from spacy>=2.1.0->neuralcoref) (2.0.3)\n",
            "Requirement already satisfied: preshed<2.1.0,>=2.0.1 in ./anaconda3/lib/python3.7/site-packages (from spacy>=2.1.0->neuralcoref) (2.0.1)\n",
            "Requirement already satisfied: murmurhash<1.1.0,>=0.28.0 in ./anaconda3/lib/python3.7/site-packages (from spacy>=2.1.0->neuralcoref) (1.0.2)\n",
            "Requirement already satisfied: docutils<0.16,>=0.10 in ./anaconda3/lib/python3.7/site-packages (from botocore<1.16.0,>=1.15.11->boto3->neuralcoref) (0.15.2)\n",
            "Requirement already satisfied: python-dateutil<3.0.0,>=2.1 in ./anaconda3/lib/python3.7/site-packages (from botocore<1.16.0,>=1.15.11->boto3->neuralcoref) (2.8.0)\n",
            "Requirement already satisfied: tqdm<5.0.0,>=4.10.0 in ./anaconda3/lib/python3.7/site-packages (from thinc<7.1.0,>=7.0.2->spacy>=2.1.0->neuralcoref) (4.36.1)\n",
            "Requirement already satisfied: six>=1.5 in ./anaconda3/lib/python3.7/site-packages (from python-dateutil<3.0.0,>=2.1->botocore<1.16.0,>=1.15.11->boto3->neuralcoref) (1.12.0)\n",
            "Requirement already satisfied: torch in ./anaconda3/lib/python3.7/site-packages (1.4.0)\n"
          ],
          "name": "stdout"
        }
      ]
    },
    {
      "cell_type": "code",
      "metadata": {
        "id": "Jy1tW6aqcbGi",
        "colab_type": "code",
        "colab": {}
      },
      "source": [
        "# import statements \n",
        "\n",
        "from summarizer import Summarizer\n",
        "import pandas as pd"
      ],
      "execution_count": 0,
      "outputs": []
    },
    {
      "cell_type": "code",
      "metadata": {
        "id": "xs9unWKFexih",
        "colab_type": "code",
        "colab": {}
      },
      "source": [
        "# import cluster data\n",
        "\n",
        "cluster1 = pd.read_csv(\"w266/finalproj/clusters/cluster1.csv\")\n",
        "cluster2 = pd.read_csv(\"w266/finalproj/clusters/cluster2.csv\")\n",
        "cluster3 = pd.read_csv(\"w266/finalproj/clusters/cluster3.csv\")"
      ],
      "execution_count": 0,
      "outputs": []
    },
    {
      "cell_type": "code",
      "metadata": {
        "id": "wdzVvgZWb68y",
        "colab_type": "code",
        "colab": {}
      },
      "source": [
        "# instantiate summarizer\n",
        "model = Summarizer()\n",
        "\n",
        "# return summary of cluster \n",
        "def make_summary(cluster):\n",
        "  body = ' '.join(cluster.text)\n",
        "  result = model(body, min_length=50, ratio=0.1)\n",
        "  full = ''.join(result)\n",
        "  return full"
      ],
      "execution_count": 0,
      "outputs": []
    },
    {
      "cell_type": "code",
      "metadata": {
        "id": "JPancIBuf4Yv",
        "colab_type": "code",
        "colab": {
          "base_uri": "https://localhost:8080/",
          "height": 54
        },
        "outputId": "5d8c1928-5924-4797-f9ce-e92040530f86"
      },
      "source": [
        "# summary of cluster 1: \"Hillary Clinton defends handling of Benghazi attack\"\n",
        "summary1 = make_summary(cluster1)\n",
        "print(summary1)"
      ],
      "execution_count": 22,
      "outputs": [
        {
          "output_type": "stream",
          "text": [
            "Exclusive - Sarah Palin: Administration Lies, Soldiers Die. Much like today’s refusal to believe real threats  —   denying Islam put the “I” in ISIS  —   they are wrapping America’s children in a suicide vest. But this report was different this report was put forth by the House Benghazi committee itself, the culmination of a   $7m investigation, the upshot of which is that nobody not reached during the attack could have been saved, and further that the Obama administration talking points, while initially misinformed, were not intentionally misleading. It is, in short, the last word on Benghazi for sometime. The GOP stoops for scandal  The Republican yearning to pin a scandal on Hillary Clinton knows no bounds. From what is publicly known about the emails, I am unimpressed. Over more booing, Ramos trudged onward, saying that “some of the families claim that you lied to them”  —   especially Patricia Smith, the mother of State Department official Sean Smith, who died in the attacks of Sept. 11, 2012. And it tracks on a claim from Republican presidential hopeful Sen. Marco Rubio ( .) Holding the former secretary of state accountable for how she characterized an attack that killed four U. S. personnel is a worthwhile undertaking. Then, instead of taking charge that night, Hillary Clinton decided to go home and sleep!\n"
          ],
          "name": "stdout"
        }
      ]
    },
    {
      "cell_type": "code",
      "metadata": {
        "id": "o5zF_DtkgNNY",
        "colab_type": "code",
        "colab": {
          "base_uri": "https://localhost:8080/",
          "height": 54
        },
        "outputId": "14a1546f-5eca-4a24-adf4-d4805c0bb760"
      },
      "source": [
        "# summary of cluster 2: \"Women's March Highlights\"\n",
        "summary2 = make_summary(cluster2)\n",
        "print(summary2)"
      ],
      "execution_count": 23,
      "outputs": [
        {
          "output_type": "stream",
          "text": [
            "Women Share Why They Hit The Streets At The Sundance Women’s March ’ Earlier this morning, protesters marched down Main Street in Park City, Utah  —   where the Sundance Film Festival is currently taking place  —   in a Women’s March organized by Chelsea Handler.’ ’ The Exhausting Work of Tallying America’s Largest Protest But over the weekend, as President Donald Trump fought with the media over the attendance at his inauguration —  experts’ estimates put the crowd at about 160, 000 people, while Trump falsely claimed an attendance of 1. His post attracted the attention of Erica Chenoweth, a professor at the University of Denver and an expert on nonviolent protest. They set up a Google form for people to send in their own estimates and share sources. The   protest set for Jan. 21 keeps running into weird trouble. Organizers’ dodge: Claim the whole thing is a tribute to King.) It’s almost as if no one’s treating this thing seriously. Women’s March organizers prepare for hundreds of thousands of protesters At about 10am on Saturday, as a quarter of a million or more people gather in protest at the base of Capitol Hill for the Women’s March on Washington, the newly minted President Donald Trump will be on his knees at “a service of prayer and reflection” at the National Cathedral. But the roar of the masses will surely reach the president’s ears later, as the speeches and   performers wrap up the    hour rally and the demonstrators march to the Ellipse, the large green space opposite the White House. I put a lot of my energy under Obama into supporting black women’s leadership and women’s leadership overall  —   we could have broken the glass ceiling with Hillary Clinton and it didn’t happen, so that’s what’s motivated me to take part,” she added. Pingree said Trump was the most unpredictable incoming president most people had ever witnessed. She saw in it coded language designed to further divide rather than unite voters and to erase civil liberties, she said.\n"
          ],
          "name": "stdout"
        }
      ]
    },
    {
      "cell_type": "code",
      "metadata": {
        "id": "r5U-dx5JhMGr",
        "colab_type": "code",
        "colab": {
          "base_uri": "https://localhost:8080/",
          "height": 54
        },
        "outputId": "c3e4fae8-6f3e-4390-8f88-434dc81bc4d8"
      },
      "source": [
        "# summary of cluster 3: \"Hillary Clinton emails\"\n",
        "summary3 = make_summary(cluster3)\n",
        "print(summary3)"
      ],
      "execution_count": 24,
      "outputs": [
        {
          "output_type": "stream",
          "text": [
            "Hillary Clinton pal Neera Tanden’s greatest hits from WikiLeaks emails Tanden has a potty mouth, and talks a lot of trash, but she’s also mostly right whenever she complains about something, such as the absurd secrecy of Hillary’s inner circle of friends, who withheld information about her email habits at the State Department because “they wanted to get away with it. ” CLICK TO READ MORE FROM HEAT STREET,    Hillary Clinton Deleted More Emails Than She Sent to the State Department  Chris Cillizza of the Washington Post confirms a data point implicit in today’s news that the FBI has found 15, 000 emails from Hillary Clinton’s unsecure homebrew server, from which she conducted the work as Secretary of State and housed classified information. From the Washington Post:  Clinton deleted more emails than she turned over. In a network   event, Baier pressed Clinton at length about her use of a private email server while she was the US secretary of state.’ ’”\n"
          ],
          "name": "stdout"
        }
      ]
    },
    {
      "cell_type": "code",
      "metadata": {
        "id": "i4eFfEKFh33a",
        "colab_type": "code",
        "colab": {}
      },
      "source": [
        ""
      ],
      "execution_count": 0,
      "outputs": []
    }
  ]
}