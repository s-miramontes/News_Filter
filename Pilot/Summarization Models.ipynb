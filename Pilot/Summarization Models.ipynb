{
  "nbformat": 4,
  "nbformat_minor": 0,
  "metadata": {
    "colab": {
      "name": "Summarization.ipynb",
      "provenance": [],
      "include_colab_link": true
    },
    "kernelspec": {
      "name": "python3",
      "display_name": "Python 3"
    }
  },
  "cells": [
    {
      "cell_type": "markdown",
      "metadata": {
        "id": "view-in-github",
        "colab_type": "text"
      },
      "source": [
        "<a href=\"https://colab.research.google.com/github/s-miramontes/News_Filter/blob/emma/Pilot/Summarization%20Models.ipynb\" target=\"_parent\"><img src=\"https://colab.research.google.com/assets/colab-badge.svg\" alt=\"Open In Colab\"/></a>"
      ]
    },
    {
      "cell_type": "markdown",
      "metadata": {
        "id": "nUam-k50Z15W",
        "colab_type": "text"
      },
      "source": [
        "# Summarize Clusters"
      ]
    },
    {
      "cell_type": "markdown",
      "metadata": {
        "id": "VYcEPbXgZ1-v",
        "colab_type": "text"
      },
      "source": [
        "## BERT method"
      ]
    },
    {
      "cell_type": "code",
      "metadata": {
        "id": "0_zH39chtgXG",
        "colab_type": "code",
        "colab": {}
      },
      "source": [
        "# install libraries \n",
        "\n",
        "#!pip install bert-extractive-summarizer\n",
        "\n",
        "#!pip install spacy==2.1.3\n",
        "#!pip install transformers==2.2.2\n",
        "#!pip install neuralcoref\n",
        "\n",
        "#!pip install torch"
      ],
      "execution_count": 0,
      "outputs": []
    },
    {
      "cell_type": "code",
      "metadata": {
        "id": "Jy1tW6aqcbGi",
        "colab_type": "code",
        "colab": {}
      },
      "source": [
        "# import statements \n",
        "\n",
        "from summarizer import Summarizer\n",
        "import pandas as pd"
      ],
      "execution_count": 0,
      "outputs": []
    },
    {
      "cell_type": "code",
      "metadata": {
        "id": "xs9unWKFexih",
        "colab_type": "code",
        "colab": {}
      },
      "source": [
        "# import cluster data\n",
        "\n",
        "cluster1 = pd.read_csv(\"w266/finalproj/clusters/cluster1.csv\")\n",
        "cluster2 = pd.read_csv(\"w266/finalproj/clusters/cluster2.csv\")\n",
        "cluster3 = pd.read_csv(\"w266/finalproj/clusters/cluster3.csv\")"
      ],
      "execution_count": 0,
      "outputs": []
    },
    {
      "cell_type": "code",
      "metadata": {
        "id": "wdzVvgZWb68y",
        "colab_type": "code",
        "colab": {}
      },
      "source": [
        "# instantiate summarizer\n",
        "model = Summarizer()\n",
        "\n",
        "# return summary of all articles in cluster \n",
        "def makeSummary(cluster):\n",
        "  body = ' '.join(cluster.text)\n",
        "  result = model(body, min_length=50, ratio=0.1)\n",
        "  return result"
      ],
      "execution_count": 0,
      "outputs": []
    },
    {
      "cell_type": "code",
      "metadata": {
        "id": "JPancIBuf4Yv",
        "colab_type": "code",
        "outputId": "6eb6ca52-47a0-4e38-e33d-7805247f99f9",
        "colab": {
          "base_uri": "https://localhost:8080/",
          "height": 54
        }
      },
      "source": [
        "# summary of cluster 1: \"Hillary Clinton defends handling of Benghazi attack\"\n",
        "summary1 = makeSummary(cluster1)\n",
        "print(summary1)"
      ],
      "execution_count": 4,
      "outputs": [
        {
          "output_type": "stream",
          "text": [
            "Exclusive - Sarah Palin: Administration Lies, Soldiers Die. Much like today’s refusal to believe real threats  —   denying Islam put the “I” in ISIS  —   they are wrapping America’s children in a suicide vest. But this report was different this report was put forth by the House Benghazi committee itself, the culmination of a   $7m investigation, the upshot of which is that nobody not reached during the attack could have been saved, and further that the Obama administration talking points, while initially misinformed, were not intentionally misleading. It is, in short, the last word on Benghazi for sometime. The GOP stoops for scandal  The Republican yearning to pin a scandal on Hillary Clinton knows no bounds. From what is publicly known about the emails, I am unimpressed. Over more booing, Ramos trudged onward, saying that “some of the families claim that you lied to them”  —   especially Patricia Smith, the mother of State Department official Sean Smith, who died in the attacks of Sept. 11, 2012. And it tracks on a claim from Republican presidential hopeful Sen. Marco Rubio ( .) Holding the former secretary of state accountable for how she characterized an attack that killed four U. S. personnel is a worthwhile undertaking. Then, instead of taking charge that night, Hillary Clinton decided to go home and sleep!\n"
          ],
          "name": "stdout"
        }
      ]
    },
    {
      "cell_type": "code",
      "metadata": {
        "id": "o5zF_DtkgNNY",
        "colab_type": "code",
        "outputId": "5a8fd0c5-188d-4865-c89b-660684e410a2",
        "colab": {
          "base_uri": "https://localhost:8080/",
          "height": 54
        }
      },
      "source": [
        "# summary of cluster 2: \"Women's March Highlights\"\n",
        "summary2 = makeSummary(cluster2)\n",
        "print(summary2)"
      ],
      "execution_count": 8,
      "outputs": [
        {
          "output_type": "stream",
          "text": [
            "Women Share Why They Hit The Streets At The Sundance Women’s March ’ Earlier this morning, protesters marched down Main Street in Park City, Utah  —   where the Sundance Film Festival is currently taking place  —   in a Women’s March organized by Chelsea Handler.’ ’ The Exhausting Work of Tallying America’s Largest Protest But over the weekend, as President Donald Trump fought with the media over the attendance at his inauguration —  experts’ estimates put the crowd at about 160, 000 people, while Trump falsely claimed an attendance of 1. His post attracted the attention of Erica Chenoweth, a professor at the University of Denver and an expert on nonviolent protest. They set up a Google form for people to send in their own estimates and share sources. The   protest set for Jan. 21 keeps running into weird trouble. Organizers’ dodge: Claim the whole thing is a tribute to King.) It’s almost as if no one’s treating this thing seriously. Women’s March organizers prepare for hundreds of thousands of protesters At about 10am on Saturday, as a quarter of a million or more people gather in protest at the base of Capitol Hill for the Women’s March on Washington, the newly minted President Donald Trump will be on his knees at “a service of prayer and reflection” at the National Cathedral. But the roar of the masses will surely reach the president’s ears later, as the speeches and   performers wrap up the    hour rally and the demonstrators march to the Ellipse, the large green space opposite the White House. I put a lot of my energy under Obama into supporting black women’s leadership and women’s leadership overall  —   we could have broken the glass ceiling with Hillary Clinton and it didn’t happen, so that’s what’s motivated me to take part,” she added. Pingree said Trump was the most unpredictable incoming president most people had ever witnessed. She saw in it coded language designed to further divide rather than unite voters and to erase civil liberties, she said.\n"
          ],
          "name": "stdout"
        }
      ]
    },
    {
      "cell_type": "code",
      "metadata": {
        "id": "r5U-dx5JhMGr",
        "colab_type": "code",
        "outputId": "0acba1a8-dfdf-45e5-8835-b2f59c3bf9c0",
        "colab": {
          "base_uri": "https://localhost:8080/",
          "height": 54
        }
      },
      "source": [
        "# summary of cluster 3: \"Hillary Clinton emails\"\n",
        "summary3 = makeSummary(cluster3)\n",
        "print(summary3)"
      ],
      "execution_count": 9,
      "outputs": [
        {
          "output_type": "stream",
          "text": [
            "Hillary Clinton pal Neera Tanden’s greatest hits from WikiLeaks emails Tanden has a potty mouth, and talks a lot of trash, but she’s also mostly right whenever she complains about something, such as the absurd secrecy of Hillary’s inner circle of friends, who withheld information about her email habits at the State Department because “they wanted to get away with it. ” CLICK TO READ MORE FROM HEAT STREET,    Hillary Clinton Deleted More Emails Than She Sent to the State Department  Chris Cillizza of the Washington Post confirms a data point implicit in today’s news that the FBI has found 15, 000 emails from Hillary Clinton’s unsecure homebrew server, from which she conducted the work as Secretary of State and housed classified information. From the Washington Post:  Clinton deleted more emails than she turned over. In a network   event, Baier pressed Clinton at length about her use of a private email server while she was the US secretary of state.’ ’”\n"
          ],
          "name": "stdout"
        }
      ]
    },
    {
      "cell_type": "code",
      "metadata": {
        "id": "i4eFfEKFh33a",
        "colab_type": "code",
        "colab": {}
      },
      "source": [
        "# return summary of each article in cluster\n",
        "def makeIndSummary(cluster):\n",
        "  result = {}\n",
        "  for i in range(len(cluster.text)):\n",
        "    result[i] = model(cluster.text[i], min_length=50, ratio=0.1) \n",
        "  return result"
      ],
      "execution_count": 0,
      "outputs": []
    },
    {
      "cell_type": "code",
      "metadata": {
        "id": "0rpPrgTvAs-j",
        "colab_type": "code",
        "colab": {
          "base_uri": "https://localhost:8080/",
          "height": 54
        },
        "outputId": "ac6fa814-7c74-4823-b88e-edb66c6d6e61"
      },
      "source": [
        "# summary of each article in cluster 1: \"Hillary Clinton defends handling of Benghazi attack\"\n",
        "summaryInd1 = makeIndSummary(cluster1)\n",
        "print(summaryInd1)"
      ],
      "execution_count": 16,
      "outputs": [
        {
          "output_type": "stream",
          "text": [
            "{0: 'Exclusive - Sarah Palin: Administration Lies, Soldiers Die. In command of the greatest military in the world, yet officials sat back in Washington’s comfort, not allowing our troops to do their job to protect fellow Americans.', 1: 'Benghazi may be over, but #Benghazi has a life of its own To understand the story of Benghazi, you first have to understand there are two of them. It is, in short, the last word on Benghazi for sometime. In all the years and tens of thousands of hours spent investigating the tragedy, the biggest upshot by far has been the revelation that Clinton used a private email server during her time as secretary of state  —   a security lapse that was both unwitting and not directly tied to Benghazi in any way.', 2: 'The GOP stoops for scandal  The Republican yearning to pin a scandal on Hillary Clinton knows no bounds. Peter   Washington Post)   Let’s see, there’s the Clinton Foundation and the vast amount of money it has raised, including from foreign governments, potentates and moguls. From what is publicly known about the emails, I am unimpressed. Clinton’s critics note that David Petraeus, a former CIA director and one of the most lauded military officers of his time, pleaded guilty to a misdemeanor charge and was hit with a $100, 000 fine for that offense.', 3: 'Univision’s Ramos picked the wrong Benghazi question for Hillary Clinton      Jorge Ramos chose flash over substance. Over more booing, Ramos trudged onward, saying that “some of the families claim that you lied to them”  —   especially Patricia Smith, the mother of State Department official Sean Smith, who died in the attacks of Sept. 11, 2012. Responding to a Benghazi accusation requires a detailed tour through one of the most investigated incidents in U. S. diplomatic history.', 4: 'Donald Trump on Benghazi: ’Hillary Clinton Decided to Go Home and Sleep’  GOP frontrunner Donald Trump, looking toward the general election, criticized Democrat frontrunner Hillary Clinton and President Obama’s foreign policy during his formal address on Wednesday at the Mayflower Hotel in Washington, D. C.[“We have made the Middle East more unstable and chaotic than ever before,” Trump said. “'}\n"
          ],
          "name": "stdout"
        }
      ]
    },
    {
      "cell_type": "code",
      "metadata": {
        "id": "hrEY8EgmC48E",
        "colab_type": "code",
        "colab": {}
      },
      "source": [
        "# summary of each article in cluster 2: \"Women's March Highlights\"\n",
        "summaryInd2 = makeIndSummary(cluster2)\n",
        "print(summaryInd2)"
      ],
      "execution_count": 0,
      "outputs": []
    },
    {
      "cell_type": "code",
      "metadata": {
        "id": "_fbv6MH9sx7D",
        "colab_type": "code",
        "colab": {}
      },
      "source": [
        "# summary of each article in cluster 3: \"Hillary Clinton emails\"summaryInd3 = makdIndSummary(cluster3)\n",
        "summaryInd3 = makeIndSummary(cluster3)\n",
        "print(summaryInd3)"
      ],
      "execution_count": 0,
      "outputs": []
    }
  ]
}