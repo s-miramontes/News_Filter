{
  "nbformat": 4,
  "nbformat_minor": 0,
  "metadata": {
    "colab": {
      "name": "Summarization.ipynb",
      "provenance": [],
      "include_colab_link": true
    },
    "kernelspec": {
      "name": "python3",
      "display_name": "Python 3"
    }
  },
  "cells": [
    {
      "cell_type": "markdown",
      "metadata": {
        "id": "view-in-github",
        "colab_type": "text"
      },
      "source": [
        "<a href=\"https://colab.research.google.com/github/s-miramontes/News_Filter/blob/emma/Pilot/Summarization%20Models.ipynb\" target=\"_parent\"><img src=\"https://colab.research.google.com/assets/colab-badge.svg\" alt=\"Open In Colab\"/></a>"
      ]
    },
    {
      "cell_type": "markdown",
      "metadata": {
        "id": "nUam-k50Z15W",
        "colab_type": "text"
      },
      "source": [
        "# Summarize Clusters"
      ]
    },
    {
      "cell_type": "markdown",
      "metadata": {
        "id": "VYcEPbXgZ1-v",
        "colab_type": "text"
      },
      "source": [
        "## BERT method"
      ]
    },
    {
      "cell_type": "code",
      "metadata": {
        "id": "oEXgpzo6Zxqb",
        "colab_type": "code",
        "outputId": "4bd71986-8553-4e06-ed33-28d5ecbfff70",
        "colab": {
          "base_uri": "https://localhost:8080/",
          "height": 1000
        }
      },
      "source": [
        "!pip install bert-extractive-summarizer\n",
        "\n",
        "!pip install spacy==2.1.3\n",
        "!pip install transformers==2.2.2\n",
        "!pip install neuralcoref\n",
        "\n",
        "!pip install torch"
      ],
      "execution_count": 1,
      "outputs": [
        {
          "output_type": "stream",
          "text": [
            "Requirement already satisfied: bert-extractive-summarizer in ./anaconda3/lib/python3.7/site-packages (0.4.1)\r\n",
            "Requirement already satisfied: transformers in ./anaconda3/lib/python3.7/site-packages (from bert-extractive-summarizer) (2.2.2)\r\n",
            "Requirement already satisfied: scikit-learn in ./anaconda3/lib/python3.7/site-packages (from bert-extractive-summarizer) (0.21.3)\r\n",
            "Requirement already satisfied: spacy in ./anaconda3/lib/python3.7/site-packages (from bert-extractive-summarizer) (2.1.3)\n",
            "Requirement already satisfied: numpy in ./anaconda3/lib/python3.7/site-packages (from transformers->bert-extractive-summarizer) (1.17.2)\n",
            "Requirement already satisfied: regex in ./anaconda3/lib/python3.7/site-packages (from transformers->bert-extractive-summarizer) (2020.4.4)\n",
            "Requirement already satisfied: boto3 in ./anaconda3/lib/python3.7/site-packages (from transformers->bert-extractive-summarizer) (1.12.11)\n",
            "Requirement already satisfied: sentencepiece in ./anaconda3/lib/python3.7/site-packages (from transformers->bert-extractive-summarizer) (0.1.85)\n",
            "Requirement already satisfied: requests in ./anaconda3/lib/python3.7/site-packages (from transformers->bert-extractive-summarizer) (2.22.0)\n",
            "Requirement already satisfied: sacremoses in ./anaconda3/lib/python3.7/site-packages (from transformers->bert-extractive-summarizer) (0.0.38)\n",
            "Requirement already satisfied: tqdm in ./anaconda3/lib/python3.7/site-packages (from transformers->bert-extractive-summarizer) (4.36.1)\n",
            "Requirement already satisfied: joblib>=0.11 in ./anaconda3/lib/python3.7/site-packages (from scikit-learn->bert-extractive-summarizer) (0.13.2)\n",
            "Requirement already satisfied: scipy>=0.17.0 in ./anaconda3/lib/python3.7/site-packages (from scikit-learn->bert-extractive-summarizer) (1.4.1)\n",
            "Requirement already satisfied: plac<1.0.0,>=0.9.6 in ./anaconda3/lib/python3.7/site-packages (from spacy->bert-extractive-summarizer) (0.9.6)\n",
            "Requirement already satisfied: wasabi<1.1.0,>=0.2.0 in ./anaconda3/lib/python3.7/site-packages (from spacy->bert-extractive-summarizer) (0.6.0)\n",
            "Requirement already satisfied: blis<0.3.0,>=0.2.2 in ./anaconda3/lib/python3.7/site-packages (from spacy->bert-extractive-summarizer) (0.2.4)\n",
            "Requirement already satisfied: jsonschema<3.0.0,>=2.6.0 in ./anaconda3/lib/python3.7/site-packages (from spacy->bert-extractive-summarizer) (2.6.0)\n",
            "Requirement already satisfied: murmurhash<1.1.0,>=0.28.0 in ./anaconda3/lib/python3.7/site-packages (from spacy->bert-extractive-summarizer) (1.0.2)\n",
            "Requirement already satisfied: srsly<1.1.0,>=0.0.5 in ./anaconda3/lib/python3.7/site-packages (from spacy->bert-extractive-summarizer) (1.0.1)\n",
            "Requirement already satisfied: thinc<7.1.0,>=7.0.2 in ./anaconda3/lib/python3.7/site-packages (from spacy->bert-extractive-summarizer) (7.0.8)\n",
            "Requirement already satisfied: preshed<2.1.0,>=2.0.1 in ./anaconda3/lib/python3.7/site-packages (from spacy->bert-extractive-summarizer) (2.0.1)\n",
            "Requirement already satisfied: cymem<2.1.0,>=2.0.2 in ./anaconda3/lib/python3.7/site-packages (from spacy->bert-extractive-summarizer) (2.0.3)\n",
            "Requirement already satisfied: s3transfer<0.4.0,>=0.3.0 in ./anaconda3/lib/python3.7/site-packages (from boto3->transformers->bert-extractive-summarizer) (0.3.3)\n",
            "Requirement already satisfied: botocore<1.16.0,>=1.15.11 in ./anaconda3/lib/python3.7/site-packages (from boto3->transformers->bert-extractive-summarizer) (1.15.11)\n",
            "Requirement already satisfied: jmespath<1.0.0,>=0.7.1 in ./anaconda3/lib/python3.7/site-packages (from boto3->transformers->bert-extractive-summarizer) (0.9.5)\n",
            "Requirement already satisfied: idna<2.9,>=2.5 in ./anaconda3/lib/python3.7/site-packages (from requests->transformers->bert-extractive-summarizer) (2.8)\n",
            "Requirement already satisfied: certifi>=2017.4.17 in ./anaconda3/lib/python3.7/site-packages (from requests->transformers->bert-extractive-summarizer) (2019.9.11)\n",
            "Requirement already satisfied: urllib3!=1.25.0,!=1.25.1,<1.26,>=1.21.1 in ./anaconda3/lib/python3.7/site-packages (from requests->transformers->bert-extractive-summarizer) (1.24.2)\n",
            "Requirement already satisfied: chardet<3.1.0,>=3.0.2 in ./anaconda3/lib/python3.7/site-packages (from requests->transformers->bert-extractive-summarizer) (3.0.4)\n",
            "Requirement already satisfied: click in ./anaconda3/lib/python3.7/site-packages (from sacremoses->transformers->bert-extractive-summarizer) (7.0)\n",
            "Requirement already satisfied: six in ./anaconda3/lib/python3.7/site-packages (from sacremoses->transformers->bert-extractive-summarizer) (1.12.0)\n",
            "Requirement already satisfied: docutils<0.16,>=0.10 in ./anaconda3/lib/python3.7/site-packages (from botocore<1.16.0,>=1.15.11->boto3->transformers->bert-extractive-summarizer) (0.15.2)\n",
            "Requirement already satisfied: python-dateutil<3.0.0,>=2.1 in ./anaconda3/lib/python3.7/site-packages (from botocore<1.16.0,>=1.15.11->boto3->transformers->bert-extractive-summarizer) (2.8.0)\n",
            "^C\n",
            "\u001b[31mERROR: Operation cancelled by user\u001b[0m\n",
            "Requirement already satisfied: spacy==2.1.3 in ./anaconda3/lib/python3.7/site-packages (2.1.3)\n",
            "Requirement already satisfied: srsly<1.1.0,>=0.0.5 in ./anaconda3/lib/python3.7/site-packages (from spacy==2.1.3) (1.0.1)\n",
            "Requirement already satisfied: numpy>=1.15.0 in ./anaconda3/lib/python3.7/site-packages (from spacy==2.1.3) (1.17.2)\n",
            "Requirement already satisfied: murmurhash<1.1.0,>=0.28.0 in ./anaconda3/lib/python3.7/site-packages (from spacy==2.1.3) (1.0.2)\n",
            "Requirement already satisfied: wasabi<1.1.0,>=0.2.0 in ./anaconda3/lib/python3.7/site-packages (from spacy==2.1.3) (0.6.0)\n",
            "Requirement already satisfied: thinc<7.1.0,>=7.0.2 in ./anaconda3/lib/python3.7/site-packages (from spacy==2.1.3) (7.0.8)\n",
            "Requirement already satisfied: preshed<2.1.0,>=2.0.1 in ./anaconda3/lib/python3.7/site-packages (from spacy==2.1.3) (2.0.1)\n",
            "Requirement already satisfied: cymem<2.1.0,>=2.0.2 in ./anaconda3/lib/python3.7/site-packages (from spacy==2.1.3) (2.0.3)\n",
            "Requirement already satisfied: blis<0.3.0,>=0.2.2 in ./anaconda3/lib/python3.7/site-packages (from spacy==2.1.3) (0.2.4)\n",
            "Requirement already satisfied: jsonschema<3.0.0,>=2.6.0 in ./anaconda3/lib/python3.7/site-packages (from spacy==2.1.3) (2.6.0)\n",
            "Requirement already satisfied: requests<3.0.0,>=2.13.0 in ./anaconda3/lib/python3.7/site-packages (from spacy==2.1.3) (2.22.0)\n",
            "Requirement already satisfied: plac<1.0.0,>=0.9.6 in ./anaconda3/lib/python3.7/site-packages (from spacy==2.1.3) (0.9.6)\n",
            "Requirement already satisfied: tqdm<5.0.0,>=4.10.0 in ./anaconda3/lib/python3.7/site-packages (from thinc<7.1.0,>=7.0.2->spacy==2.1.3) (4.36.1)\n",
            "Requirement already satisfied: chardet<3.1.0,>=3.0.2 in ./anaconda3/lib/python3.7/site-packages (from requests<3.0.0,>=2.13.0->spacy==2.1.3) (3.0.4)\n",
            "Requirement already satisfied: idna<2.9,>=2.5 in ./anaconda3/lib/python3.7/site-packages (from requests<3.0.0,>=2.13.0->spacy==2.1.3) (2.8)\n",
            "Requirement already satisfied: certifi>=2017.4.17 in ./anaconda3/lib/python3.7/site-packages (from requests<3.0.0,>=2.13.0->spacy==2.1.3) (2019.9.11)\n",
            "Requirement already satisfied: urllib3!=1.25.0,!=1.25.1,<1.26,>=1.21.1 in ./anaconda3/lib/python3.7/site-packages (from requests<3.0.0,>=2.13.0->spacy==2.1.3) (1.24.2)\n",
            "Requirement already satisfied: transformers==2.2.2 in ./anaconda3/lib/python3.7/site-packages (2.2.2)\n",
            "Requirement already satisfied: numpy in ./anaconda3/lib/python3.7/site-packages (from transformers==2.2.2) (1.17.2)\n",
            "Requirement already satisfied: sentencepiece in ./anaconda3/lib/python3.7/site-packages (from transformers==2.2.2) (0.1.85)\n",
            "Requirement already satisfied: sacremoses in ./anaconda3/lib/python3.7/site-packages (from transformers==2.2.2) (0.0.38)\n",
            "Requirement already satisfied: regex in ./anaconda3/lib/python3.7/site-packages (from transformers==2.2.2) (2020.4.4)\n",
            "Requirement already satisfied: boto3 in ./anaconda3/lib/python3.7/site-packages (from transformers==2.2.2) (1.12.11)\n",
            "Requirement already satisfied: tqdm in ./anaconda3/lib/python3.7/site-packages (from transformers==2.2.2) (4.36.1)\n",
            "Requirement already satisfied: requests in ./anaconda3/lib/python3.7/site-packages (from transformers==2.2.2) (2.22.0)\n",
            "Requirement already satisfied: click in ./anaconda3/lib/python3.7/site-packages (from sacremoses->transformers==2.2.2) (7.0)\n",
            "Requirement already satisfied: joblib in ./anaconda3/lib/python3.7/site-packages (from sacremoses->transformers==2.2.2) (0.13.2)\n",
            "Requirement already satisfied: six in ./anaconda3/lib/python3.7/site-packages (from sacremoses->transformers==2.2.2) (1.12.0)\n",
            "Requirement already satisfied: botocore<1.16.0,>=1.15.11 in ./anaconda3/lib/python3.7/site-packages (from boto3->transformers==2.2.2) (1.15.11)\n",
            "Requirement already satisfied: s3transfer<0.4.0,>=0.3.0 in ./anaconda3/lib/python3.7/site-packages (from boto3->transformers==2.2.2) (0.3.3)\n",
            "Requirement already satisfied: jmespath<1.0.0,>=0.7.1 in ./anaconda3/lib/python3.7/site-packages (from boto3->transformers==2.2.2) (0.9.5)\n",
            "Requirement already satisfied: idna<2.9,>=2.5 in ./anaconda3/lib/python3.7/site-packages (from requests->transformers==2.2.2) (2.8)\n",
            "Requirement already satisfied: urllib3!=1.25.0,!=1.25.1,<1.26,>=1.21.1 in ./anaconda3/lib/python3.7/site-packages (from requests->transformers==2.2.2) (1.24.2)\n",
            "Requirement already satisfied: certifi>=2017.4.17 in ./anaconda3/lib/python3.7/site-packages (from requests->transformers==2.2.2) (2019.9.11)\n",
            "Requirement already satisfied: chardet<3.1.0,>=3.0.2 in ./anaconda3/lib/python3.7/site-packages (from requests->transformers==2.2.2) (3.0.4)\n",
            "Requirement already satisfied: docutils<0.16,>=0.10 in ./anaconda3/lib/python3.7/site-packages (from botocore<1.16.0,>=1.15.11->boto3->transformers==2.2.2) (0.15.2)\n",
            "Requirement already satisfied: python-dateutil<3.0.0,>=2.1 in ./anaconda3/lib/python3.7/site-packages (from botocore<1.16.0,>=1.15.11->boto3->transformers==2.2.2) (2.8.0)\n",
            "Requirement already satisfied: neuralcoref in ./anaconda3/lib/python3.7/site-packages (4.0)\n",
            "Requirement already satisfied: requests<3.0.0,>=2.13.0 in ./anaconda3/lib/python3.7/site-packages (from neuralcoref) (2.22.0)\n",
            "Requirement already satisfied: boto3 in ./anaconda3/lib/python3.7/site-packages (from neuralcoref) (1.12.11)\n",
            "Requirement already satisfied: spacy>=2.1.0 in ./anaconda3/lib/python3.7/site-packages (from neuralcoref) (2.1.3)\n",
            "Requirement already satisfied: numpy>=1.15.0 in ./anaconda3/lib/python3.7/site-packages (from neuralcoref) (1.17.2)\n",
            "Requirement already satisfied: idna<2.9,>=2.5 in ./anaconda3/lib/python3.7/site-packages (from requests<3.0.0,>=2.13.0->neuralcoref) (2.8)\n",
            "Requirement already satisfied: urllib3!=1.25.0,!=1.25.1,<1.26,>=1.21.1 in ./anaconda3/lib/python3.7/site-packages (from requests<3.0.0,>=2.13.0->neuralcoref) (1.24.2)\n",
            "Requirement already satisfied: chardet<3.1.0,>=3.0.2 in ./anaconda3/lib/python3.7/site-packages (from requests<3.0.0,>=2.13.0->neuralcoref) (3.0.4)\n",
            "Requirement already satisfied: certifi>=2017.4.17 in ./anaconda3/lib/python3.7/site-packages (from requests<3.0.0,>=2.13.0->neuralcoref) (2019.9.11)\n",
            "Requirement already satisfied: botocore<1.16.0,>=1.15.11 in ./anaconda3/lib/python3.7/site-packages (from boto3->neuralcoref) (1.15.11)\n",
            "Requirement already satisfied: jmespath<1.0.0,>=0.7.1 in ./anaconda3/lib/python3.7/site-packages (from boto3->neuralcoref) (0.9.5)\n",
            "Requirement already satisfied: s3transfer<0.4.0,>=0.3.0 in ./anaconda3/lib/python3.7/site-packages (from boto3->neuralcoref) (0.3.3)\n",
            "Requirement already satisfied: thinc<7.1.0,>=7.0.2 in ./anaconda3/lib/python3.7/site-packages (from spacy>=2.1.0->neuralcoref) (7.0.8)\n",
            "Requirement already satisfied: srsly<1.1.0,>=0.0.5 in ./anaconda3/lib/python3.7/site-packages (from spacy>=2.1.0->neuralcoref) (1.0.1)\n",
            "Requirement already satisfied: blis<0.3.0,>=0.2.2 in ./anaconda3/lib/python3.7/site-packages (from spacy>=2.1.0->neuralcoref) (0.2.4)\n",
            "Requirement already satisfied: plac<1.0.0,>=0.9.6 in ./anaconda3/lib/python3.7/site-packages (from spacy>=2.1.0->neuralcoref) (0.9.6)\n",
            "Requirement already satisfied: jsonschema<3.0.0,>=2.6.0 in ./anaconda3/lib/python3.7/site-packages (from spacy>=2.1.0->neuralcoref) (2.6.0)\n",
            "Requirement already satisfied: wasabi<1.1.0,>=0.2.0 in ./anaconda3/lib/python3.7/site-packages (from spacy>=2.1.0->neuralcoref) (0.6.0)\n",
            "Requirement already satisfied: cymem<2.1.0,>=2.0.2 in ./anaconda3/lib/python3.7/site-packages (from spacy>=2.1.0->neuralcoref) (2.0.3)\n",
            "Requirement already satisfied: preshed<2.1.0,>=2.0.1 in ./anaconda3/lib/python3.7/site-packages (from spacy>=2.1.0->neuralcoref) (2.0.1)\n",
            "Requirement already satisfied: murmurhash<1.1.0,>=0.28.0 in ./anaconda3/lib/python3.7/site-packages (from spacy>=2.1.0->neuralcoref) (1.0.2)\n",
            "Requirement already satisfied: docutils<0.16,>=0.10 in ./anaconda3/lib/python3.7/site-packages (from botocore<1.16.0,>=1.15.11->boto3->neuralcoref) (0.15.2)\n",
            "Requirement already satisfied: python-dateutil<3.0.0,>=2.1 in ./anaconda3/lib/python3.7/site-packages (from botocore<1.16.0,>=1.15.11->boto3->neuralcoref) (2.8.0)\n",
            "Requirement already satisfied: tqdm<5.0.0,>=4.10.0 in ./anaconda3/lib/python3.7/site-packages (from thinc<7.1.0,>=7.0.2->spacy>=2.1.0->neuralcoref) (4.36.1)\n",
            "Requirement already satisfied: six>=1.5 in ./anaconda3/lib/python3.7/site-packages (from python-dateutil<3.0.0,>=2.1->botocore<1.16.0,>=1.15.11->boto3->neuralcoref) (1.12.0)\n",
            "Requirement already satisfied: torch in ./anaconda3/lib/python3.7/site-packages (1.4.0)\n"
          ],
          "name": "stdout"
        }
      ]
    },
    {
      "cell_type": "code",
      "metadata": {
        "id": "Jy1tW6aqcbGi",
        "colab_type": "code",
        "colab": {}
      },
      "source": [
        "from summarizer import Summarizer\n",
        "import pandas as pd"
      ],
      "execution_count": 0,
      "outputs": []
    },
    {
      "cell_type": "code",
      "metadata": {
        "id": "xs9unWKFexih",
        "colab_type": "code",
        "colab": {}
      },
      "source": [
        "cluster1 = pd.read_csv(\"w266/finalproj/clusters/cluster1.csv\")\n",
        "cluster2 = pd.read_csv(\"w266/finalproj/clusters/cluster2.csv\")\n",
        "cluster3 = pd.read_csv(\"w266/finalproj/clusters/cluster3.csv\")"
      ],
      "execution_count": 0,
      "outputs": []
    },
    {
      "cell_type": "code",
      "metadata": {
        "id": "r_xh7XJHfQ6H",
        "colab_type": "code",
        "colab": {
          "base_uri": "https://localhost:8080/",
          "height": 54
        },
        "outputId": "58c6f801-959d-429c-b6d3-e8cf9a734d1d"
      },
      "source": [
        ""
      ],
      "execution_count": 10,
      "outputs": [
        {
          "output_type": "execute_result",
          "data": {
            "text/plain": [
              "'Exclusive - Sarah Palin: Administration Lies, Soldiers Die. Yes, Hillary, at Every Point ‘It Matters’  Listening to the Benghazi Committee reveal what we knew  —   the Obama Administration’s devastating lies cost lives, and at any point it just doesn’t matter to them. Thank you to Congressional investigators for their report. [The Administration’s deception is beyond shameful. They sat back and allowed our peacekeepers to die during what they witnessed becoming a suicide mission. In command of the greatest military in the world, yet officials sat back in Washington’s comfort, not allowing our troops to do their job to protect fellow Americans.  Hillary left our men behind. Hillary is disqualified from serving as Commander in Chief. The Administration lies and denies in places like Benghazi, which cost innocent American lives. Much like today’s refusal to believe real threats  —   denying Islam put the “I” in ISIS  —   they are wrapping America’s children in a suicide vest. Benghazi may be over, but #Benghazi has a life of its own To understand the story of Benghazi, you first have to understand there are two of them. The first Benghazi is the   city in Libya where in 2012 the US ambassador Chris Stevens and three other Americans were killed in an attack on a diplomatic station. The second is #Benghazi, a dumpster fire of conspiracy theories and nakedly political attacks, fanned by rightwing Twitter trolls and fed by the    conviction that, despite overwhelming evidence to the contrary, there’s a   coverup at work. The conclusive   Benghazi report has finally been issued. It has no major revelations nor any further evidence of wrongdoing by Hillary Clinton, who has already taken “full responsibility” for the tragedy  —   now get ready to hear a whole lot more about #Benghazi. A casual observer would be forgiven for thinking the report was already out there, as this is the eighth congressional panel to explore the attack, and in October Clinton sat for an   grilling on the matter that yielded so little damning information it was widely seen as a joke, with committee Republicans artfully carrying out their role as the butt. But this report was different this report was put forth by the House Benghazi committee itself, the culmination of a   $7m investigation, the upshot of which is that nobody not reached during the attack could have been saved, and further that the Obama administration talking points, while initially misinformed, were not intentionally misleading. It is, in short, the last word on Benghazi for sometime. But don’t expect to stop reading about #Benghazi. Donald Trump will continue to peddle absurdities, such as the notion that Clinton somehow “slept” through the Benghazi attack. Fox News and others will continue to raise it. Outside groups will continue to file requests for information, and Twitter trolls from far and wide will do their worst. Never mind that we’ve now had more investigations of Benghazi than every   terror attack in recent history combined. Never mind that these investigations have now cost American taxpayers a minimum of $23m, or that there’s not a single select committee to investigate the tens of thousands of Americans killed by gun violence each year. The Benghazi committee’s tireless leader, Trey Gowdy, has already taken issue with what appears to be the overwhelming consensus that his report is a dud, insisting that new information in the report “should fundamentally change the way you view what happened in Benghazi”. So far, so bad for Gowdy. The New York Times headline could hardly have read better for the Clinton camp if it were drafted by her campaign manager. And even the rightwing Drudge Report, which gave a banner headline to Clinton’s uneventful testimony on Benghazi this fall, seems to have lost interest. At the time, the real smoking gun of the hearing from Matt Drudge’s perspective was a coughing fit and slow speech, which he claimed at the time was “obvious” evidence she was  —   horror of horrors  —   taking   meds. In all the years and tens of thousands of hours spent investigating the tragedy, the biggest upshot by far has been the revelation that Clinton used a private email server during her time as secretary of state  —   a security lapse that was both unwitting and not directly tied to Benghazi in any way. The second biggest upshot is likely the personal misfortune for Kevin McCarthy, who  —   as result of his comment suggesting the entire   Benghazi investigation is a patently political attempt to tar Clinton  —   is not the House speaker. That is also likely a blessing for McCarthy’s party. If we were going to hear the end of #Benghazi when all reasonable roads of inquiry had been taken, it would have happened long ago. Instead we’ll stop hearing about it when Republicans stop trying to undermine Clinton and conspiracy theorists stop their theorizing  —   which is to say, when the sky falls down and the sea runs dry, or in a word: never. The GOP stoops for scandal  The Republican yearning to pin a scandal on Hillary Clinton knows no bounds. Any scandal will do, real or imagined. She must somehow be  —   or appear to be  —   guilty of something . They tried Benghazi. Boy, did they try Benghazi. House Republicans even put together a special committee, which Majority Leader Kevin McCarthy praised for hurting Clinton’s chances of being elected president. “Everybody thought Hillary Clinton was unbeatable, right?” he said in September. “But we put together a Benghazi special committee, a select committee. What are her numbers today? Her numbers are dropping. ”  To the GOP’s consternation, however, those numbers recovered nicely. According to the RealClearPolitics average of polls, she leads Donald Trump by about 5 points; the most recent Washington   News survey showed her ahead by 12. Adding insult to injury, the Benghazi committee came up  . Rep. Trey Gowdy ( . C.) the panel’s chairman, released a final report last week that found no smoking gun. In fact, it didn’t even find smoke. The September 2012 attacks on U. S. diplomatic and intelligence facilities in Benghazi, Libya, that killed Ambassador J. Christopher Stevens and three other Americans should be blamed on the terrorists who committed the assault  —   not on the secretary of state. Even if she happens to be named Clinton. So if Benghazi isn’t the   scandal, what else might be? Trump keeps threatening to   the 1990s by dredging up Bill Clinton’s womanizing and even the suicide of Clinton friend and associate Vince Foster. That is a realm peopled mostly by conspiracy theorists wearing tinfoil hats; Trump can go there if he wants, but the rest of the country won’t follow.   House Republicans released their report on the attack on the 2012 U. S. diplomatic outpost in Benghazi on June 28. Here are the 5 most serious accusations in the report. (Peter   Washington Post)   Let’s see, there’s the Clinton Foundation and the vast amount of money it has raised, including from foreign governments, potentates and moguls. The problem with this line of attack is that the foundation, by all accounts, does a lot of good around the world. And it generally operates in a way that Republicans should applaud, not simply doling out money but instead boosting the capacity of local governments and organizations to solve their own problems. What other grist for the scandal mill could there be? I’m being somewhat disingenuous, of course. There are Hillary Clinton’s emails.  As I’ve written, Clinton was wrong to decline a government email account when she was secretary of state and instead use a private account run from a server in her house. What was she thinking? I doubt it was “convenience,” as she still claims. I’ve believed all along that Clinton wanted control. I think she wanted to guarantee that no personal or foundation emails would ever become part of the public record and thus potentially subject to release. It is certainly true that the Clintons have legions of political enemies who would love to root through the family’s private affairs. This fact does not, however, make Clinton’s actions right. But were they illegal? And were they criminal? That’s what the FBI and Justice Department lawyers are trying to ascertain. From what is publicly known about the emails, I am unimpressed. The salient issue is whether she mishandled classified material. Clinton’s critics note that David Petraeus, a former CIA director and one of the most lauded military officers of his time, pleaded guilty to a misdemeanor charge and was hit with a $100, 000 fine for that offense. But it seems to me that routing potentially sensitive emails through a private server is different from handing classified information to one’s mistress, which is what Petraeus did.             Caption   See who supports Donald Trump.  Paul D. Ryan  The House speaker endorsed Trump’s bid for president on June 2. Joshua     Univision’s Ramos picked the wrong Benghazi question for Hillary Clinton      Jorge Ramos chose flash over substance. In last night’s   Post Democratic presidential debate, anchor Ramos went straight after former secretary of State Hillary Clinton over one of the key issues in the last presidential race. “I want to continue with the issue of trust. Secretary Clinton, on the night of the attacks in Benghazi, you sent an   to your daughter Chelsea   …    ” said Ramos. That ellipsis? It represents booing from the crowd at Miami Dade College. Benghazi needs no introduction with political audiences around the country. Anyhow, Ramos plowed through, noting that Clinton had emailed Chelsea Clinton to say that   “was responsible for the killing of the Americans. ” Over more booing, Ramos trudged onward, saying that “some of the families claim that you lied to them”  —   especially Patricia Smith, the mother of State Department official Sean Smith, who died in the attacks of Sept. 11, 2012. Ramos played a clip of Patricia Smith on Fox News saying that “Hillary and [President] Obama and [  Secretary Leon] Panetta, [Vice President Joe] Biden and [U. S. permanent representative to the U. N.] Susan Rice all told me that it was a video when they knew   …     it was not the video. ” Those comments by Patricia Smith have played into the   accusation that Obama administration officials, in the immediate aftermath of Benghazi, attempted to blame the attacks on an   video instead of terrorism  —   as part of a scheme to insulate themselves from criticism in advance of the 2012 presidential election. Responding to a Benghazi accusation requires a detailed tour through one of the most investigated incidents in U. S. diplomatic history. Clinton answered with words of sympathy for Patricia Smith, whose grief “I certainly can’t even imagine. ” Then she said Patricia Smith was “absolutely wrong. ” The talking points then rushed forth: Clinton pointed out that the officials cited by Patricia Smith were “scrambling” to figure out Benghazi in those hazy days in   2012; that she’d testified on Capitol Hill last fall for 11 hours about these events; and that Benghazi was politicized unlike other tragedies in which the United States lost personnel overseas. Pressed pointedly by Ramos on why she had sent an email to her daughter about   (actually, an “  ” organization) yet tell grieving families about a video, Clinton replied, “At the time I   with my daughter, a terrorist group had taken credit for the attacks on our facility in Benghazi. Within 16, 18 hours, they rescinded taking credit. They did it all on social media. And the video did play a role,” said Clinton. “We have captured one of the lead terrorists and he admits it was both a terrorist attack and it was influenced by the video. This was fog of war. This was complicated. The most effective, comprehensive reports and studies demonstrate that. ” The question by Ramos reaches back to that   hearing in October, when Clinton answered lawmakers’ questions about her Benghazi actions, again. And it tracks on a claim from Republican presidential hopeful Sen. Marco Rubio ( .) that Clinton is a “liar” for the apparent contradiction in her statements. That claim itself has stirred a   whirlwind, from The Washington Post’s Glenn Kessler, Breitbart’s John Nolte and the Weekly Standard’s Mark Hemingway. Holding the former secretary of state accountable for how she characterized an attack that killed four U. S. personnel is a worthwhile undertaking. It does make a difference. None of which is to say that it’s the best Benghazi question for Clinton at a nationally televised debate where there’s little time to hash out the intricacies of   Benghazi intelligence. Here’s the best question: Ms. Clinton, a study that you yourself commissioned found that our diplomatic compound in Benghazi was unprepared for the attacks of Sept. 11, 2012, despite having sustained attacks in previous months and operating in a cratering security backdrop. When Diane Sawyer of ABC News asked you whether you wished you had acted differently, you said in part, “I take responsibility, but I was not making security decisions. ” Is that the sort of leadership you will bring to the White House? Just a suggestion.  Donald Trump on Benghazi: ’Hillary Clinton Decided to Go Home and Sleep’  GOP frontrunner Donald Trump, looking toward the general election, criticized Democrat frontrunner Hillary Clinton and President Obama’s foreign policy during his formal address on Wednesday at the Mayflower Hotel in Washington, D. C.[“We have made the Middle East more unstable and chaotic than ever before,” Trump said. “Our actions in Iraq, Libya and Syria have helped unleash ISIS. And we’re in a war against radical Islam, but President Obama won’t even name the enemy!”  “We’ve let our rivals and challengers think they can get away with anything,” he added. “If President Obama’s goal had been to weaken America, he could not have done a better job. ” Trump then turned his attention to Clinton. “Hillary Clinton also refuses to say the words “radical Islam,” even as she pushes for a massive increase in refugees,” he jabbed. Trump brought up the 2012 terrorist attack in Benghazi, Libya where four Americans died under Secretary of State Hillary Clinton’s tenure. After Secretary Clinton’s failed intervention in Libya, Islamic terrorists in Benghazi took down our consulate and killed our ambassador and three brave Americans. Then, instead of taking charge that night, Hillary Clinton decided to go home and sleep! Incredible. Clinton blames it all on a video, an excuse that was a total lie. Our Ambassador was murdered and our Secretary of State misled the nation  —   and by the way, she was not awake to take that call at 3 o’clock in the morning. “And now ISIS is making millions of dollars a week selling Libyan oil,” Trump charged, vowing, “This will change when I am president. ” Trump’s full foreign policy speech can be read here.'"
            ]
          },
          "metadata": {
            "tags": []
          },
          "execution_count": 10
        }
      ]
    },
    {
      "cell_type": "code",
      "metadata": {
        "id": "wdzVvgZWb68y",
        "colab_type": "code",
        "colab": {}
      },
      "source": [
        "model = Summarizer()\n",
        "\n",
        "def make_summary(body):\n",
        "  result = model(body, min_length=50, ratio=0.1)\n",
        "  full = ''.join(result)\n",
        "  return full"
      ],
      "execution_count": 0,
      "outputs": []
    },
    {
      "cell_type": "code",
      "metadata": {
        "id": "JPancIBuf4Yv",
        "colab_type": "code",
        "colab": {
          "base_uri": "https://localhost:8080/",
          "height": 54
        },
        "outputId": "d37cb145-a887-41b6-c749-1b51a382a34c"
      },
      "source": [
        "summary1 = make_summary(' '.join(cluster1.text))\n",
        "print(summary1)"
      ],
      "execution_count": 17,
      "outputs": [
        {
          "output_type": "stream",
          "text": [
            "Exclusive - Sarah Palin: Administration Lies, Soldiers Die. Much like today’s refusal to believe real threats  —   denying Islam put the “I” in ISIS  —   they are wrapping America’s children in a suicide vest. But this report was different this report was put forth by the House Benghazi committee itself, the culmination of a   $7m investigation, the upshot of which is that nobody not reached during the attack could have been saved, and further that the Obama administration talking points, while initially misinformed, were not intentionally misleading. It is, in short, the last word on Benghazi for sometime. The GOP stoops for scandal  The Republican yearning to pin a scandal on Hillary Clinton knows no bounds. From what is publicly known about the emails, I am unimpressed. Over more booing, Ramos trudged onward, saying that “some of the families claim that you lied to them”  —   especially Patricia Smith, the mother of State Department official Sean Smith, who died in the attacks of Sept. 11, 2012. And it tracks on a claim from Republican presidential hopeful Sen. Marco Rubio ( .) Holding the former secretary of state accountable for how she characterized an attack that killed four U. S. personnel is a worthwhile undertaking. Then, instead of taking charge that night, Hillary Clinton decided to go home and sleep!\n"
          ],
          "name": "stdout"
        }
      ]
    },
    {
      "cell_type": "code",
      "metadata": {
        "id": "o5zF_DtkgNNY",
        "colab_type": "code",
        "colab": {
          "base_uri": "https://localhost:8080/",
          "height": 54
        },
        "outputId": "b997b589-3763-4975-e03e-012b9a8b346a"
      },
      "source": [
        "summary2 = make_summary(' '.join(cluster2.text))\n",
        "print(summary2)"
      ],
      "execution_count": 18,
      "outputs": [
        {
          "output_type": "stream",
          "text": [
            "Women Share Why They Hit The Streets At The Sundance Women’s March ’ Earlier this morning, protesters marched down Main Street in Park City, Utah  —   where the Sundance Film Festival is currently taking place  —   in a Women’s March organized by Chelsea Handler.’ ’ The Exhausting Work of Tallying America’s Largest Protest But over the weekend, as President Donald Trump fought with the media over the attendance at his inauguration —  experts’ estimates put the crowd at about 160, 000 people, while Trump falsely claimed an attendance of 1. His post attracted the attention of Erica Chenoweth, a professor at the University of Denver and an expert on nonviolent protest. They set up a Google form for people to send in their own estimates and share sources. The   protest set for Jan. 21 keeps running into weird trouble. Organizers’ dodge: Claim the whole thing is a tribute to King.) It’s almost as if no one’s treating this thing seriously. Women’s March organizers prepare for hundreds of thousands of protesters At about 10am on Saturday, as a quarter of a million or more people gather in protest at the base of Capitol Hill for the Women’s March on Washington, the newly minted President Donald Trump will be on his knees at “a service of prayer and reflection” at the National Cathedral. But the roar of the masses will surely reach the president’s ears later, as the speeches and   performers wrap up the    hour rally and the demonstrators march to the Ellipse, the large green space opposite the White House. I put a lot of my energy under Obama into supporting black women’s leadership and women’s leadership overall  —   we could have broken the glass ceiling with Hillary Clinton and it didn’t happen, so that’s what’s motivated me to take part,” she added. Pingree said Trump was the most unpredictable incoming president most people had ever witnessed. She saw in it coded language designed to further divide rather than unite voters and to erase civil liberties, she said.\n"
          ],
          "name": "stdout"
        }
      ]
    },
    {
      "cell_type": "code",
      "metadata": {
        "id": "r5U-dx5JhMGr",
        "colab_type": "code",
        "colab": {
          "base_uri": "https://localhost:8080/",
          "height": 54
        },
        "outputId": "f652d9b7-05db-439c-b766-bfbc850d8b50"
      },
      "source": [
        "summary3 = make_summary(' '.join(cluster3.text))\n",
        "print(summary3)"
      ],
      "execution_count": 19,
      "outputs": [
        {
          "output_type": "stream",
          "text": [
            "Hillary Clinton pal Neera Tanden’s greatest hits from WikiLeaks emails Tanden has a potty mouth, and talks a lot of trash, but she’s also mostly right whenever she complains about something, such as the absurd secrecy of Hillary’s inner circle of friends, who withheld information about her email habits at the State Department because “they wanted to get away with it. ” CLICK TO READ MORE FROM HEAT STREET,    Hillary Clinton Deleted More Emails Than She Sent to the State Department  Chris Cillizza of the Washington Post confirms a data point implicit in today’s news that the FBI has found 15, 000 emails from Hillary Clinton’s unsecure homebrew server, from which she conducted the work as Secretary of State and housed classified information. From the Washington Post:  Clinton deleted more emails than she turned over. In a network   event, Baier pressed Clinton at length about her use of a private email server while she was the US secretary of state.’ ’”\n"
          ],
          "name": "stdout"
        }
      ]
    },
    {
      "cell_type": "code",
      "metadata": {
        "id": "i4eFfEKFh33a",
        "colab_type": "code",
        "colab": {}
      },
      "source": [
        ""
      ],
      "execution_count": 0,
      "outputs": []
    }
  ]
}