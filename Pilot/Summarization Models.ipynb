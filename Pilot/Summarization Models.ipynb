{
  "nbformat": 4,
  "nbformat_minor": 0,
  "metadata": {
    "colab": {
      "name": "Summarization.ipynb",
      "provenance": [],
      "include_colab_link": true
    },
    "kernelspec": {
      "name": "python3",
      "display_name": "Python 3"
    }
  },
  "cells": [
    {
      "cell_type": "markdown",
      "metadata": {
        "id": "view-in-github",
        "colab_type": "text"
      },
      "source": [
        "<a href=\"https://colab.research.google.com/github/s-miramontes/News_Filter/blob/emma/Pilot/Summarization%20Models.ipynb\" target=\"_parent\"><img src=\"https://colab.research.google.com/assets/colab-badge.svg\" alt=\"Open In Colab\"/></a>"
      ]
    },
    {
      "cell_type": "markdown",
      "metadata": {
        "id": "nUam-k50Z15W",
        "colab_type": "text"
      },
      "source": [
        "# Summarize Clusters"
      ]
    },
    {
      "cell_type": "markdown",
      "metadata": {
        "id": "VYcEPbXgZ1-v",
        "colab_type": "text"
      },
      "source": [
        "## BERT method"
      ]
    },
    {
      "cell_type": "code",
      "metadata": {
        "id": "0_zH39chtgXG",
        "colab_type": "code",
        "colab": {}
      },
      "source": [
        "# install libraries \n",
        "\n",
        "#!pip install bert-extractive-summarizer\n",
        "\n",
        "#!pip install spacy==2.1.3\n",
        "#!pip install transformers==2.2.2\n",
        "#!pip install neuralcoref\n",
        "\n",
        "#!pip install torch"
      ],
      "execution_count": 0,
      "outputs": []
    },
    {
      "cell_type": "code",
      "metadata": {
        "id": "Jy1tW6aqcbGi",
        "colab_type": "code",
        "colab": {}
      },
      "source": [
        "# import statements \n",
        "\n",
        "from summarizer import Summarizer\n",
        "import pandas as pd"
      ],
      "execution_count": 0,
      "outputs": []
    },
    {
      "cell_type": "code",
      "metadata": {
        "id": "xs9unWKFexih",
        "colab_type": "code",
        "colab": {}
      },
      "source": [
        "# import cluster data\n",
        "\n",
        "cluster1 = pd.read_csv(\"w266/finalproj/clusters/cluster1.csv\")\n",
        "cluster2 = pd.read_csv(\"w266/finalproj/clusters/cluster2.csv\")\n",
        "cluster3 = pd.read_csv(\"w266/finalproj/clusters/cluster3.csv\")"
      ],
      "execution_count": 0,
      "outputs": []
    },
    {
      "cell_type": "code",
      "metadata": {
        "id": "wdzVvgZWb68y",
        "colab_type": "code",
        "colab": {}
      },
      "source": [
        "# instantiate summarizer\n",
        "model = Summarizer()\n",
        "\n",
        "# return summary of all articles in cluster \n",
        "def makeSummary(cluster):\n",
        "  body = ' '.join(cluster.text)\n",
        "  result = model(body, min_length=50, ratio=0.1)\n",
        "  return result"
      ],
      "execution_count": 0,
      "outputs": []
    },
    {
      "cell_type": "code",
      "metadata": {
        "id": "JPancIBuf4Yv",
        "colab_type": "code",
        "outputId": "d404c2b2-6a70-45c5-8648-2182e0f40f43",
        "colab": {
          "base_uri": "https://localhost:8080/",
          "height": 54
        }
      },
      "source": [
        "# summary of cluster 1: \"Hillary Clinton defends handling of Benghazi attack\"\n",
        "summary1 = makeSummary(cluster1)\n",
        "print(summary1)"
      ],
      "execution_count": 4,
      "outputs": [
        {
          "output_type": "stream",
          "text": [
            "Exclusive - Sarah Palin: Administration Lies, Soldiers Die. Much like today’s refusal to believe real threats  —   denying Islam put the “I” in ISIS  —   they are wrapping America’s children in a suicide vest. But this report was different this report was put forth by the House Benghazi committee itself, the culmination of a   $7m investigation, the upshot of which is that nobody not reached during the attack could have been saved, and further that the Obama administration talking points, while initially misinformed, were not intentionally misleading. It is, in short, the last word on Benghazi for sometime. The GOP stoops for scandal  The Republican yearning to pin a scandal on Hillary Clinton knows no bounds. From what is publicly known about the emails, I am unimpressed. Over more booing, Ramos trudged onward, saying that “some of the families claim that you lied to them”  —   especially Patricia Smith, the mother of State Department official Sean Smith, who died in the attacks of Sept. 11, 2012. And it tracks on a claim from Republican presidential hopeful Sen. Marco Rubio ( .) Holding the former secretary of state accountable for how she characterized an attack that killed four U. S. personnel is a worthwhile undertaking. Then, instead of taking charge that night, Hillary Clinton decided to go home and sleep!\n"
          ],
          "name": "stdout"
        }
      ]
    },
    {
      "cell_type": "code",
      "metadata": {
        "id": "o5zF_DtkgNNY",
        "colab_type": "code",
        "outputId": "960d2205-6cff-46a0-8da8-3bfc81a1de51",
        "colab": {
          "base_uri": "https://localhost:8080/",
          "height": 54
        }
      },
      "source": [
        "# summary of cluster 2: \"Women's March Highlights\"\n",
        "summary2 = makeSummary(cluster2)\n",
        "print(summary2)"
      ],
      "execution_count": 5,
      "outputs": [
        {
          "output_type": "stream",
          "text": [
            "Women Share Why They Hit The Streets At The Sundance Women’s March ’ Earlier this morning, protesters marched down Main Street in Park City, Utah  —   where the Sundance Film Festival is currently taking place  —   in a Women’s March organized by Chelsea Handler.’ ’ The Exhausting Work of Tallying America’s Largest Protest But over the weekend, as President Donald Trump fought with the media over the attendance at his inauguration —  experts’ estimates put the crowd at about 160, 000 people, while Trump falsely claimed an attendance of 1. His post attracted the attention of Erica Chenoweth, a professor at the University of Denver and an expert on nonviolent protest. They set up a Google form for people to send in their own estimates and share sources. The   protest set for Jan. 21 keeps running into weird trouble. Organizers’ dodge: Claim the whole thing is a tribute to King.) It’s almost as if no one’s treating this thing seriously. Women’s March organizers prepare for hundreds of thousands of protesters At about 10am on Saturday, as a quarter of a million or more people gather in protest at the base of Capitol Hill for the Women’s March on Washington, the newly minted President Donald Trump will be on his knees at “a service of prayer and reflection” at the National Cathedral. But the roar of the masses will surely reach the president’s ears later, as the speeches and   performers wrap up the    hour rally and the demonstrators march to the Ellipse, the large green space opposite the White House. I put a lot of my energy under Obama into supporting black women’s leadership and women’s leadership overall  —   we could have broken the glass ceiling with Hillary Clinton and it didn’t happen, so that’s what’s motivated me to take part,” she added. Pingree said Trump was the most unpredictable incoming president most people had ever witnessed. She saw in it coded language designed to further divide rather than unite voters and to erase civil liberties, she said.\n"
          ],
          "name": "stdout"
        }
      ]
    },
    {
      "cell_type": "code",
      "metadata": {
        "id": "r5U-dx5JhMGr",
        "colab_type": "code",
        "outputId": "9355e842-a152-46f9-b41a-287960c16842",
        "colab": {
          "base_uri": "https://localhost:8080/",
          "height": 54
        }
      },
      "source": [
        "# summary of cluster 3: \"Hillary Clinton emails\"\n",
        "summary3 = makeSummary(cluster3)\n",
        "print(summary3)"
      ],
      "execution_count": 6,
      "outputs": [
        {
          "output_type": "stream",
          "text": [
            "Hillary Clinton pal Neera Tanden’s greatest hits from WikiLeaks emails Tanden has a potty mouth, and talks a lot of trash, but she’s also mostly right whenever she complains about something, such as the absurd secrecy of Hillary’s inner circle of friends, who withheld information about her email habits at the State Department because “they wanted to get away with it. ” CLICK TO READ MORE FROM HEAT STREET,    Hillary Clinton Deleted More Emails Than She Sent to the State Department  Chris Cillizza of the Washington Post confirms a data point implicit in today’s news that the FBI has found 15, 000 emails from Hillary Clinton’s unsecure homebrew server, from which she conducted the work as Secretary of State and housed classified information. From the Washington Post:  Clinton deleted more emails than she turned over. In a network   event, Baier pressed Clinton at length about her use of a private email server while she was the US secretary of state.’ ’”\n"
          ],
          "name": "stdout"
        }
      ]
    },
    {
      "cell_type": "code",
      "metadata": {
        "id": "i4eFfEKFh33a",
        "colab_type": "code",
        "colab": {}
      },
      "source": [
        "# return summary of each article in cluster\n",
        "def makeIndSummary(cluster):\n",
        "  result = {}\n",
        "  for i in range(len(cluster.text)):\n",
        "    result[i] = model(cluster.text[i], min_length=50, ratio=0.1) \n",
        "  return result"
      ],
      "execution_count": 0,
      "outputs": []
    },
    {
      "cell_type": "code",
      "metadata": {
        "id": "0rpPrgTvAs-j",
        "colab_type": "code",
        "outputId": "02c67958-b967-4901-84c1-9b928a94420e",
        "colab": {
          "base_uri": "https://localhost:8080/",
          "height": 54
        }
      },
      "source": [
        "# summary of each article in cluster 1: \"Hillary Clinton defends handling of Benghazi attack\"\n",
        "summaryInd1 = makeIndSummary(cluster1)\n",
        "print(summaryInd1)"
      ],
      "execution_count": 8,
      "outputs": [
        {
          "output_type": "stream",
          "text": [
            "{0: 'Exclusive - Sarah Palin: Administration Lies, Soldiers Die. In command of the greatest military in the world, yet officials sat back in Washington’s comfort, not allowing our troops to do their job to protect fellow Americans.', 1: 'Benghazi may be over, but #Benghazi has a life of its own To understand the story of Benghazi, you first have to understand there are two of them. It is, in short, the last word on Benghazi for sometime. In all the years and tens of thousands of hours spent investigating the tragedy, the biggest upshot by far has been the revelation that Clinton used a private email server during her time as secretary of state  —   a security lapse that was both unwitting and not directly tied to Benghazi in any way.', 2: 'The GOP stoops for scandal  The Republican yearning to pin a scandal on Hillary Clinton knows no bounds. Peter   Washington Post)   Let’s see, there’s the Clinton Foundation and the vast amount of money it has raised, including from foreign governments, potentates and moguls. From what is publicly known about the emails, I am unimpressed. Clinton’s critics note that David Petraeus, a former CIA director and one of the most lauded military officers of his time, pleaded guilty to a misdemeanor charge and was hit with a $100, 000 fine for that offense.', 3: 'Univision’s Ramos picked the wrong Benghazi question for Hillary Clinton      Jorge Ramos chose flash over substance. Over more booing, Ramos trudged onward, saying that “some of the families claim that you lied to them”  —   especially Patricia Smith, the mother of State Department official Sean Smith, who died in the attacks of Sept. 11, 2012. Responding to a Benghazi accusation requires a detailed tour through one of the most investigated incidents in U. S. diplomatic history.', 4: 'Donald Trump on Benghazi: ’Hillary Clinton Decided to Go Home and Sleep’  GOP frontrunner Donald Trump, looking toward the general election, criticized Democrat frontrunner Hillary Clinton and President Obama’s foreign policy during his formal address on Wednesday at the Mayflower Hotel in Washington, D. C.[“We have made the Middle East more unstable and chaotic than ever before,” Trump said. “'}\n"
          ],
          "name": "stdout"
        }
      ]
    },
    {
      "cell_type": "code",
      "metadata": {
        "id": "hrEY8EgmC48E",
        "colab_type": "code",
        "colab": {
          "base_uri": "https://localhost:8080/",
          "height": 54
        },
        "outputId": "87e4cf7a-2e4a-431c-d8db-031793eb77a3"
      },
      "source": [
        "# summary of each article in cluster 2: \"Women's March Highlights\"\n",
        "summaryInd2 = makeIndSummary(cluster2)\n",
        "print(summaryInd2)"
      ],
      "execution_count": 9,
      "outputs": [
        {
          "output_type": "stream",
          "text": [
            "{0: 'Women Share Why They Hit The Streets At The Sundance Women’s\\xa0March ’ Earlier this morning, protesters marched down Main Street in Park City, Utah  —   where the Sundance Film Festival is currently taking place  —   in a Women’s March organized by Chelsea Handler.’ ’', 1: 'podcast Subscribe via iTunes, Audioboom, Mixcloud, Soundcloud, Acast, Stitcher and join the discussion on Facebook and Twitter, It is estimated that millions of people worldwide marched in conjunction with Saturday’s Women’s March on Washington. But while Saturday invigorated the movement to resist Trump, many are asking how to turn the energy of the demonstration into action.', 2: 'The Exhausting Work of Tallying America’s Largest Protest But over the weekend, as President Donald Trump fought with the media over the attendance at his inauguration —  experts’ estimates put the crowd at about 160, 000 people, while Trump falsely claimed an attendance of 1. They set up a Google form for people to send in their own estimates and share sources. The spreadsheet also tallies attendance at rallies in more than 100 cities around the world. Chenoweth studies emerging political movements, so she jumped on the opportunity to watch a new one perhaps begin to unfold here in the U. S. But more fundamentally, she said, the act of counting itself is an important one. “ It’s Time Network had been in touch with the organizers of the Women’s March since early January, the spokesperson said, and had offered to turn over all the data they gathered by SMS —  they asked participants for their phone number, zip code, email, and where they marched —  to the organizers.', 3: 'The Women’s March on Washington is becoming a\\xa0joke Is the Women’s March on Washington cursed? But it’s The Washington Post’s debacle that makes us suspect a curse: Thursday’s edition of the paper’s free giveaway, Express, was all about the march  —   but the cover was dominated by a giant male symbol, rather than the female one.', 4: 'Women’s March organizers prepare for hundreds of thousands of protesters At about 10am on Saturday, as a quarter of a million or more people gather in protest at the base of Capitol Hill for the Women’s March on Washington, the newly minted President Donald Trump will be on his knees at “a service of prayer and reflection” at the National Cathedral. I hope he will be praying about how to be the president of all the people. I put a lot of my energy under Obama into supporting black women’s leadership and women’s leadership overall  —   we could have broken the glass ceiling with Hillary Clinton and it didn’t happen, so that’s what’s motivated me to take part,” she added. Following scuffles and arrests in protests coinciding with the inauguration on Friday, Billoo said she hoped the Women’s March on Washington itself would be a wholly peaceful rally and demonstration.'}\n"
          ],
          "name": "stdout"
        }
      ]
    },
    {
      "cell_type": "code",
      "metadata": {
        "id": "_fbv6MH9sx7D",
        "colab_type": "code",
        "colab": {
          "base_uri": "https://localhost:8080/",
          "height": 54
        },
        "outputId": "fb287cd5-92f3-4c4c-e195-bd46658d7859"
      },
      "source": [
        "# summary of each article in cluster 3: \"Hillary Clinton emails\"summaryInd3 = makdIndSummary(cluster3)\n",
        "summaryInd3 = makeIndSummary(cluster3)\n",
        "print(summaryInd3)"
      ],
      "execution_count": 10,
      "outputs": [
        {
          "output_type": "stream",
          "text": [
            "{0: 'Hillary Clinton pal Neera Tanden’s greatest hits from WikiLeaks emails Tanden has a potty mouth, and talks a lot of trash, but she’s also mostly right whenever she complains about something, such as the absurd secrecy of Hillary’s inner circle of friends, who withheld information about her email habits at the State Department because “they wanted to get away with it. ”', 1: 'Hillary Clinton Deleted More Emails Than She Sent to the State Department  Chris Cillizza of the Washington Post confirms a data point implicit in today’s news that the FBI has found 15, 000 emails from Hillary Clinton’s unsecure homebrew server, from which she conducted the work as Secretary of State and housed classified information. And there was never anyone outside of Clinton’s direct orbit brought in to oversee the process.', 2: 'Hillary Clinton’s email problems might be even worse than we thought        Here’s the good news for Hillary Clinton: The FBI has recommended that no charges be brought following its investigation of the former secretary of state’s private email server. Most importantly, Comey said the FBI found 110 emails on Clinton’s server that were classified at the time they were sent or received.', 3: 'Fox News anchor grills Hillary Clinton on her email scandal ’’ ’Fox News host Bret Baier grilled Hillary Clinton over her use of a private email server during her first appearance on the network in more than two years on Monday.’ ’ In a network   event, Baier pressed Clinton at length about her use of a private email server while she was the US secretary of state.’ ’”', 4: 'Thank you, Anthony Weiner’  Donald Trump thanked Hillary Clinton’s top aide Huma Abedin and her estranged husband, disgraced former lawmaker Anthony Weiner, during his campaign rally in Grand Rapids, Michigan. [ “As you know, the FBI has reopened its investigation into Hillary Clinton and discovered another 650, 000 emails,” Trump announced. “'}\n"
          ],
          "name": "stdout"
        }
      ]
    },
    {
      "cell_type": "code",
      "metadata": {
        "id": "nkdU7O0qcmkQ",
        "colab_type": "code",
        "colab": {}
      },
      "source": [
        ""
      ],
      "execution_count": 0,
      "outputs": []
    }
  ]
}