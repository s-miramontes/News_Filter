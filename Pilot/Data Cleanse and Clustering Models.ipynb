{
  "nbformat": 4,
  "nbformat_minor": 0,
  "metadata": {
    "kernelspec": {
      "display_name": "Python 3",
      "language": "python",
      "name": "python3"
    },
    "language_info": {
      "codemirror_mode": {
        "name": "ipython",
        "version": 3
      },
      "file_extension": ".py",
      "mimetype": "text/x-python",
      "name": "python",
      "nbconvert_exporter": "python",
      "pygments_lexer": "ipython3",
      "version": "3.7.3"
    },
    "colab": {
      "name": "Data Cleanse and Clustering Models.ipynb",
      "provenance": [],
      "machine_shape": "hm",
      "include_colab_link": true
    }
  },
  "cells": [
    {
      "cell_type": "markdown",
      "metadata": {
        "id": "view-in-github",
        "colab_type": "text"
      },
      "source": [
        "<a href=\"https://colab.research.google.com/github/s-miramontes/News_Filter/blob/emma/Pilot/Data%20Cleanse%20and%20Clustering%20Models.ipynb\" target=\"_parent\"><img src=\"https://colab.research.google.com/assets/colab-badge.svg\" alt=\"Open In Colab\"/></a>"
      ]
    },
    {
      "cell_type": "markdown",
      "metadata": {
        "id": "XcKFzFa9rw7L",
        "colab_type": "text"
      },
      "source": [
        "# Clustering News Headlines\n",
        "\n",
        "In this notebook we begin my importing data to analyze its contents and be able to determine the best clustering algorithm to determine the articles that are mostly related to each other."
      ]
    },
    {
      "cell_type": "markdown",
      "metadata": {
        "id": "9_yv0Wugrw7Q",
        "colab_type": "text"
      },
      "source": [
        "We start by importing some dependencies"
      ]
    },
    {
      "cell_type": "code",
      "metadata": {
        "id": "qfPkC9ajrw7S",
        "colab_type": "code",
        "colab": {}
      },
      "source": [
        "import numpy as np\n",
        "import pandas as pd\n",
        "\n",
        "import nltk\n",
        "from nltk.corpus import stopwords\n",
        "nltk.download('stopwords')\n",
        "\n",
        "import re\n",
        "from nltk.stem.snowball import SnowballStemmer\n",
        "\n",
        "from sklearn.feature_extraction.text import TfidfVectorizer"
      ],
      "execution_count": 0,
      "outputs": []
    },
    {
      "cell_type": "markdown",
      "metadata": {
        "id": "1vaQv_w0sd2J",
        "colab_type": "text"
      },
      "source": [
        "## Importing Data from Local File System\n",
        "\n",
        "Datasets are located here: https://www.kaggle.com/snapcrack/all-the-news/version/4#articles3.csv\n",
        "\n",
        "Proceed to download all three 'csv' files, and store them in a 'data' directory at the location of your choice.\n"
      ]
    },
    {
      "cell_type": "markdown",
      "metadata": {
        "id": "NvT6334UtXp8",
        "colab_type": "text"
      },
      "source": [
        "*Note: It might be a better idea to have a way to import the data from the cloud (google drive) rather than from the user's local file system. Let's leave it like this for now, mainly bringing this up for easy reproducibility.*"
      ]
    },
    {
      "cell_type": "markdown",
      "metadata": {
        "id": "NjY6UfPdtXUE",
        "colab_type": "text"
      },
      "source": [
        "Instead, we can mount google drive and import the datasets from an existing file in the cloud."
      ]
    },
    {
      "cell_type": "code",
      "metadata": {
        "id": "z0OVNb1IGYsJ",
        "colab_type": "code",
        "colab": {}
      },
      "source": [
        "from pydrive.auth import GoogleAuth\n",
        "from pydrive.drive import GoogleDrive\n",
        "from google.colab import auth\n",
        "from oauth2client.client import GoogleCredentials"
      ],
      "execution_count": 0,
      "outputs": []
    },
    {
      "cell_type": "code",
      "metadata": {
        "id": "W-C_jjIx_ovd",
        "colab_type": "code",
        "colab": {}
      },
      "source": [
        "auth.authenticate_user()\n",
        "gauth = GoogleAuth()\n",
        "gauth.credentials = GoogleCredentials.get_application_default()\n",
        "drive = GoogleDrive(gauth)"
      ],
      "execution_count": 0,
      "outputs": []
    },
    {
      "cell_type": "markdown",
      "metadata": {
        "id": "-lmS8cQ2_oru",
        "colab_type": "text"
      },
      "source": [
        "For every file available we have a shared link:\n",
        "\n",
        "CSV File: 'Articles 3':\n",
        "https://drive.google.com/a/berkeley.edu/file/d/1BDhi5FuIvJ_6jiIdIFXRjT0w6tgfNk10/view?usp=sharing\n",
        "\n",
        "CSV File: 'Articles 2':\n",
        "https://drive.google.com/a/berkeley.edu/file/d/1qpoRkKEOnxYg_12e0RdeRi-JWUGWNFP3/view?usp=sharing\n",
        "\n",
        "CSV File: 'Articles 1':\n",
        "https://drive.google.com/a/berkeley.edu/file/d/1c9NbOIx7M6PgyJKxR9E7HgzuJlxGIaXU/view?usp=sharing\n",
        "\n",
        "\n",
        "For each of the links above, we utiliz the File ID provided:\n",
        "\n",
        "- Articles 1 File ID: '1BDhi5FuIvJ_6jiIdIFXRjT0w6tgfNk10'\n",
        "- Articles 2 File ID: '1qpoRkKEOnxYg_12e0RdeRi-JWUGWNFP3'\n",
        "- Articles 3 File ID: '1c9NbOIx7M6PgyJKxR9E7HgzuJlxGIaXU'\n"
      ]
    },
    {
      "cell_type": "code",
      "metadata": {
        "id": "Yo9j0HpN_om3",
        "colab_type": "code",
        "colab": {}
      },
      "source": [
        "downloaded3 = drive.CreateFile({'id':\"1BDhi5FuIvJ_6jiIdIFXRjT0w6tgfNk10\"})   # replace the id with id of file you want to access\n",
        "downloaded3.GetContentFile('articles3.csv.zip')        # replace the file name with your file\n",
        "\n",
        "downloaded2 = drive.CreateFile({'id': \"1qpoRkKEOnxYg_12e0RdeRi-JWUGWNFP3\"})\n",
        "downloaded2.GetContentFile('articles2.csv.zip')\n",
        "\n",
        "downloaded1 = drive.CreateFile({'id': \"1c9NbOIx7M6PgyJKxR9E7HgzuJlxGIaXU\"})\n",
        "downloaded1.GetContentFile('articles1.csv.zip')"
      ],
      "execution_count": 0,
      "outputs": []
    },
    {
      "cell_type": "code",
      "metadata": {
        "id": "LWGIyGKy_ohe",
        "colab_type": "code",
        "colab": {}
      },
      "source": [
        "articles_3 = pd.read_csv('articles3.csv.zip', compression='zip')\n",
        "articles_2 = pd.read_csv('articles2.csv.zip', compression='zip')\n",
        "articles_1 = pd.read_csv('articles1.csv.zip', compression='zip')"
      ],
      "execution_count": 0,
      "outputs": []
    },
    {
      "cell_type": "code",
      "metadata": {
        "id": "BMp3ER1V_oZW",
        "colab_type": "code",
        "outputId": "2247051f-387b-4fab-8cd7-6e022a237ca3",
        "colab": {
          "base_uri": "https://localhost:8080/",
          "height": 191
        }
      },
      "source": [
        "articles_3.head()"
      ],
      "execution_count": 7,
      "outputs": [
        {
          "output_type": "execute_result",
          "data": {
            "text/html": [
              "<div>\n",
              "<style scoped>\n",
              "    .dataframe tbody tr th:only-of-type {\n",
              "        vertical-align: middle;\n",
              "    }\n",
              "\n",
              "    .dataframe tbody tr th {\n",
              "        vertical-align: top;\n",
              "    }\n",
              "\n",
              "    .dataframe thead th {\n",
              "        text-align: right;\n",
              "    }\n",
              "</style>\n",
              "<table border=\"1\" class=\"dataframe\">\n",
              "  <thead>\n",
              "    <tr style=\"text-align: right;\">\n",
              "      <th></th>\n",
              "      <th>Unnamed: 0</th>\n",
              "      <th>id</th>\n",
              "      <th>title</th>\n",
              "      <th>publication</th>\n",
              "      <th>author</th>\n",
              "      <th>date</th>\n",
              "      <th>year</th>\n",
              "      <th>month</th>\n",
              "      <th>url</th>\n",
              "      <th>content</th>\n",
              "    </tr>\n",
              "  </thead>\n",
              "  <tbody>\n",
              "    <tr>\n",
              "      <th>0</th>\n",
              "      <td>103459</td>\n",
              "      <td>151908</td>\n",
              "      <td>Alton Sterling’s son: ’Everyone needs to prote...</td>\n",
              "      <td>Guardian</td>\n",
              "      <td>Jessica Glenza</td>\n",
              "      <td>2016-07-13</td>\n",
              "      <td>2016.0</td>\n",
              "      <td>7.0</td>\n",
              "      <td>https://www.theguardian.com/us-news/2016/jul/1...</td>\n",
              "      <td>The son of a Louisiana man whose father was sh...</td>\n",
              "    </tr>\n",
              "    <tr>\n",
              "      <th>1</th>\n",
              "      <td>103460</td>\n",
              "      <td>151909</td>\n",
              "      <td>Shakespeare’s first four folios sell at auctio...</td>\n",
              "      <td>Guardian</td>\n",
              "      <td>NaN</td>\n",
              "      <td>2016-05-25</td>\n",
              "      <td>2016.0</td>\n",
              "      <td>5.0</td>\n",
              "      <td>https://www.theguardian.com/culture/2016/may/2...</td>\n",
              "      <td>Copies of William Shakespeare’s first four boo...</td>\n",
              "    </tr>\n",
              "    <tr>\n",
              "      <th>2</th>\n",
              "      <td>103461</td>\n",
              "      <td>151910</td>\n",
              "      <td>My grandmother’s death saved me from a life of...</td>\n",
              "      <td>Guardian</td>\n",
              "      <td>Robert Pendry</td>\n",
              "      <td>2016-10-31</td>\n",
              "      <td>2016.0</td>\n",
              "      <td>10.0</td>\n",
              "      <td>https://www.theguardian.com/commentisfree/2016...</td>\n",
              "      <td>Debt: $20, 000, Source: College, credit cards,...</td>\n",
              "    </tr>\n",
              "    <tr>\n",
              "      <th>3</th>\n",
              "      <td>103462</td>\n",
              "      <td>151911</td>\n",
              "      <td>I feared my life lacked meaning. Cancer pushed...</td>\n",
              "      <td>Guardian</td>\n",
              "      <td>Bradford Frost</td>\n",
              "      <td>2016-11-26</td>\n",
              "      <td>2016.0</td>\n",
              "      <td>11.0</td>\n",
              "      <td>https://www.theguardian.com/commentisfree/2016...</td>\n",
              "      <td>It was late. I was drunk, nearing my 35th birt...</td>\n",
              "    </tr>\n",
              "    <tr>\n",
              "      <th>4</th>\n",
              "      <td>103463</td>\n",
              "      <td>151912</td>\n",
              "      <td>Texas man serving life sentence innocent of do...</td>\n",
              "      <td>Guardian</td>\n",
              "      <td>NaN</td>\n",
              "      <td>2016-08-20</td>\n",
              "      <td>2016.0</td>\n",
              "      <td>8.0</td>\n",
              "      <td>https://www.theguardian.com/us-news/2016/aug/2...</td>\n",
              "      <td>A central Texas man serving a life sentence fo...</td>\n",
              "    </tr>\n",
              "  </tbody>\n",
              "</table>\n",
              "</div>"
            ],
            "text/plain": [
              "   Unnamed: 0  ...                                            content\n",
              "0      103459  ...  The son of a Louisiana man whose father was sh...\n",
              "1      103460  ...  Copies of William Shakespeare’s first four boo...\n",
              "2      103461  ...  Debt: $20, 000, Source: College, credit cards,...\n",
              "3      103462  ...  It was late. I was drunk, nearing my 35th birt...\n",
              "4      103463  ...  A central Texas man serving a life sentence fo...\n",
              "\n",
              "[5 rows x 10 columns]"
            ]
          },
          "metadata": {
            "tags": []
          },
          "execution_count": 7
        }
      ]
    },
    {
      "cell_type": "code",
      "metadata": {
        "id": "bWjyZH92_oFe",
        "colab_type": "code",
        "outputId": "53f33814-78c2-4d24-907e-37a900b503ae",
        "colab": {
          "base_uri": "https://localhost:8080/",
          "height": 191
        }
      },
      "source": [
        "articles_2.head()"
      ],
      "execution_count": 8,
      "outputs": [
        {
          "output_type": "execute_result",
          "data": {
            "text/html": [
              "<div>\n",
              "<style scoped>\n",
              "    .dataframe tbody tr th:only-of-type {\n",
              "        vertical-align: middle;\n",
              "    }\n",
              "\n",
              "    .dataframe tbody tr th {\n",
              "        vertical-align: top;\n",
              "    }\n",
              "\n",
              "    .dataframe thead th {\n",
              "        text-align: right;\n",
              "    }\n",
              "</style>\n",
              "<table border=\"1\" class=\"dataframe\">\n",
              "  <thead>\n",
              "    <tr style=\"text-align: right;\">\n",
              "      <th></th>\n",
              "      <th>Unnamed: 0</th>\n",
              "      <th>id</th>\n",
              "      <th>title</th>\n",
              "      <th>publication</th>\n",
              "      <th>author</th>\n",
              "      <th>date</th>\n",
              "      <th>year</th>\n",
              "      <th>month</th>\n",
              "      <th>url</th>\n",
              "      <th>content</th>\n",
              "    </tr>\n",
              "  </thead>\n",
              "  <tbody>\n",
              "    <tr>\n",
              "      <th>0</th>\n",
              "      <td>53293</td>\n",
              "      <td>73471</td>\n",
              "      <td>Patriots Day Is Best When It Digs Past the Her...</td>\n",
              "      <td>Atlantic</td>\n",
              "      <td>David Sims</td>\n",
              "      <td>2017-01-11</td>\n",
              "      <td>2017.0</td>\n",
              "      <td>1.0</td>\n",
              "      <td>NaN</td>\n",
              "      <td>Patriots Day, Peter Berg’s new thriller that r...</td>\n",
              "    </tr>\n",
              "    <tr>\n",
              "      <th>1</th>\n",
              "      <td>53294</td>\n",
              "      <td>73472</td>\n",
              "      <td>A Break in the Search for the Origin of Comple...</td>\n",
              "      <td>Atlantic</td>\n",
              "      <td>Ed Yong</td>\n",
              "      <td>2017-01-11</td>\n",
              "      <td>2017.0</td>\n",
              "      <td>1.0</td>\n",
              "      <td>NaN</td>\n",
              "      <td>In Norse mythology, humans and our world were ...</td>\n",
              "    </tr>\n",
              "    <tr>\n",
              "      <th>2</th>\n",
              "      <td>53295</td>\n",
              "      <td>73474</td>\n",
              "      <td>Obama’s Ingenious Mention of Atticus Finch</td>\n",
              "      <td>Atlantic</td>\n",
              "      <td>Spencer Kornhaber</td>\n",
              "      <td>2017-01-11</td>\n",
              "      <td>2017.0</td>\n",
              "      <td>1.0</td>\n",
              "      <td>NaN</td>\n",
              "      <td>“If our democracy is to work in this increasin...</td>\n",
              "    </tr>\n",
              "    <tr>\n",
              "      <th>3</th>\n",
              "      <td>53296</td>\n",
              "      <td>73475</td>\n",
              "      <td>Donald Trump Meets, and Assails, the Press</td>\n",
              "      <td>Atlantic</td>\n",
              "      <td>David A. Graham</td>\n",
              "      <td>2017-01-11</td>\n",
              "      <td>2017.0</td>\n",
              "      <td>1.0</td>\n",
              "      <td>NaN</td>\n",
              "      <td>Updated on January 11 at 5:05 p. m. In his fir...</td>\n",
              "    </tr>\n",
              "    <tr>\n",
              "      <th>4</th>\n",
              "      <td>53297</td>\n",
              "      <td>73476</td>\n",
              "      <td>Trump: ’I Think’ Hacking Was Russian</td>\n",
              "      <td>Atlantic</td>\n",
              "      <td>Kaveh Waddell</td>\n",
              "      <td>2017-01-11</td>\n",
              "      <td>2017.0</td>\n",
              "      <td>1.0</td>\n",
              "      <td>NaN</td>\n",
              "      <td>Updated at 12:25 p. m. After months of equivoc...</td>\n",
              "    </tr>\n",
              "  </tbody>\n",
              "</table>\n",
              "</div>"
            ],
            "text/plain": [
              "   Unnamed: 0     id  ...  url                                            content\n",
              "0       53293  73471  ...  NaN  Patriots Day, Peter Berg’s new thriller that r...\n",
              "1       53294  73472  ...  NaN  In Norse mythology, humans and our world were ...\n",
              "2       53295  73474  ...  NaN  “If our democracy is to work in this increasin...\n",
              "3       53296  73475  ...  NaN  Updated on January 11 at 5:05 p. m. In his fir...\n",
              "4       53297  73476  ...  NaN  Updated at 12:25 p. m. After months of equivoc...\n",
              "\n",
              "[5 rows x 10 columns]"
            ]
          },
          "metadata": {
            "tags": []
          },
          "execution_count": 8
        }
      ]
    },
    {
      "cell_type": "code",
      "metadata": {
        "id": "I2qaWd4A_nmv",
        "colab_type": "code",
        "outputId": "95600311-ca41-454b-a217-a505cf317bb6",
        "colab": {
          "base_uri": "https://localhost:8080/",
          "height": 191
        }
      },
      "source": [
        "articles_1.head()"
      ],
      "execution_count": 9,
      "outputs": [
        {
          "output_type": "execute_result",
          "data": {
            "text/html": [
              "<div>\n",
              "<style scoped>\n",
              "    .dataframe tbody tr th:only-of-type {\n",
              "        vertical-align: middle;\n",
              "    }\n",
              "\n",
              "    .dataframe tbody tr th {\n",
              "        vertical-align: top;\n",
              "    }\n",
              "\n",
              "    .dataframe thead th {\n",
              "        text-align: right;\n",
              "    }\n",
              "</style>\n",
              "<table border=\"1\" class=\"dataframe\">\n",
              "  <thead>\n",
              "    <tr style=\"text-align: right;\">\n",
              "      <th></th>\n",
              "      <th>Unnamed: 0</th>\n",
              "      <th>id</th>\n",
              "      <th>title</th>\n",
              "      <th>publication</th>\n",
              "      <th>author</th>\n",
              "      <th>date</th>\n",
              "      <th>year</th>\n",
              "      <th>month</th>\n",
              "      <th>url</th>\n",
              "      <th>content</th>\n",
              "    </tr>\n",
              "  </thead>\n",
              "  <tbody>\n",
              "    <tr>\n",
              "      <th>0</th>\n",
              "      <td>0</td>\n",
              "      <td>17283</td>\n",
              "      <td>House Republicans Fret About Winning Their Hea...</td>\n",
              "      <td>New York Times</td>\n",
              "      <td>Carl Hulse</td>\n",
              "      <td>2016-12-31</td>\n",
              "      <td>2016.0</td>\n",
              "      <td>12.0</td>\n",
              "      <td>NaN</td>\n",
              "      <td>WASHINGTON  —   Congressional Republicans have...</td>\n",
              "    </tr>\n",
              "    <tr>\n",
              "      <th>1</th>\n",
              "      <td>1</td>\n",
              "      <td>17284</td>\n",
              "      <td>Rift Between Officers and Residents as Killing...</td>\n",
              "      <td>New York Times</td>\n",
              "      <td>Benjamin Mueller and Al Baker</td>\n",
              "      <td>2017-06-19</td>\n",
              "      <td>2017.0</td>\n",
              "      <td>6.0</td>\n",
              "      <td>NaN</td>\n",
              "      <td>After the bullet shells get counted, the blood...</td>\n",
              "    </tr>\n",
              "    <tr>\n",
              "      <th>2</th>\n",
              "      <td>2</td>\n",
              "      <td>17285</td>\n",
              "      <td>Tyrus Wong, ‘Bambi’ Artist Thwarted by Racial ...</td>\n",
              "      <td>New York Times</td>\n",
              "      <td>Margalit Fox</td>\n",
              "      <td>2017-01-06</td>\n",
              "      <td>2017.0</td>\n",
              "      <td>1.0</td>\n",
              "      <td>NaN</td>\n",
              "      <td>When Walt Disney’s “Bambi” opened in 1942, cri...</td>\n",
              "    </tr>\n",
              "    <tr>\n",
              "      <th>3</th>\n",
              "      <td>3</td>\n",
              "      <td>17286</td>\n",
              "      <td>Among Deaths in 2016, a Heavy Toll in Pop Musi...</td>\n",
              "      <td>New York Times</td>\n",
              "      <td>William McDonald</td>\n",
              "      <td>2017-04-10</td>\n",
              "      <td>2017.0</td>\n",
              "      <td>4.0</td>\n",
              "      <td>NaN</td>\n",
              "      <td>Death may be the great equalizer, but it isn’t...</td>\n",
              "    </tr>\n",
              "    <tr>\n",
              "      <th>4</th>\n",
              "      <td>4</td>\n",
              "      <td>17287</td>\n",
              "      <td>Kim Jong-un Says North Korea Is Preparing to T...</td>\n",
              "      <td>New York Times</td>\n",
              "      <td>Choe Sang-Hun</td>\n",
              "      <td>2017-01-02</td>\n",
              "      <td>2017.0</td>\n",
              "      <td>1.0</td>\n",
              "      <td>NaN</td>\n",
              "      <td>SEOUL, South Korea  —   North Korea’s leader, ...</td>\n",
              "    </tr>\n",
              "  </tbody>\n",
              "</table>\n",
              "</div>"
            ],
            "text/plain": [
              "   Unnamed: 0     id  ... url                                            content\n",
              "0           0  17283  ... NaN  WASHINGTON  —   Congressional Republicans have...\n",
              "1           1  17284  ... NaN  After the bullet shells get counted, the blood...\n",
              "2           2  17285  ... NaN  When Walt Disney’s “Bambi” opened in 1942, cri...\n",
              "3           3  17286  ... NaN  Death may be the great equalizer, but it isn’t...\n",
              "4           4  17287  ... NaN  SEOUL, South Korea  —   North Korea’s leader, ...\n",
              "\n",
              "[5 rows x 10 columns]"
            ]
          },
          "metadata": {
            "tags": []
          },
          "execution_count": 9
        }
      ]
    },
    {
      "cell_type": "code",
      "metadata": {
        "id": "Q62vtXwaR9og",
        "colab_type": "code",
        "outputId": "0429e7c4-00ce-4f6b-9659-36b52c5df802",
        "colab": {
          "base_uri": "https://localhost:8080/",
          "height": 33
        }
      },
      "source": [
        "set(articles_3.publication)"
      ],
      "execution_count": 10,
      "outputs": [
        {
          "output_type": "execute_result",
          "data": {
            "text/plain": [
              "{'Guardian', 'NPR', 'Reuters', 'Vox', 'Washington Post'}"
            ]
          },
          "metadata": {
            "tags": []
          },
          "execution_count": 10
        }
      ]
    },
    {
      "cell_type": "code",
      "metadata": {
        "id": "n9ILnYjuGgjC",
        "colab_type": "code",
        "outputId": "71cd6c8b-9c02-4ae6-f9c1-98c8a323767f",
        "colab": {
          "base_uri": "https://localhost:8080/",
          "height": 131
        }
      },
      "source": [
        "set(articles_2.publication)"
      ],
      "execution_count": 11,
      "outputs": [
        {
          "output_type": "execute_result",
          "data": {
            "text/plain": [
              "{'Atlantic',\n",
              " 'Buzzfeed News',\n",
              " 'Fox News',\n",
              " 'Guardian',\n",
              " 'National Review',\n",
              " 'New York Post',\n",
              " 'Talking Points Memo'}"
            ]
          },
          "metadata": {
            "tags": []
          },
          "execution_count": 11
        }
      ]
    },
    {
      "cell_type": "code",
      "metadata": {
        "id": "_GuTjI-0G7U5",
        "colab_type": "code",
        "outputId": "bd41500b-11b2-48f5-e756-8552684b34fe",
        "colab": {
          "base_uri": "https://localhost:8080/",
          "height": 33
        }
      },
      "source": [
        "set(articles_1.publication)"
      ],
      "execution_count": 12,
      "outputs": [
        {
          "output_type": "execute_result",
          "data": {
            "text/plain": [
              "{'Atlantic', 'Breitbart', 'Business Insider', 'CNN', 'New York Times'}"
            ]
          },
          "metadata": {
            "tags": []
          },
          "execution_count": 12
        }
      ]
    },
    {
      "cell_type": "code",
      "metadata": {
        "id": "6-c_j1F0G8YL",
        "colab_type": "code",
        "colab": {}
      },
      "source": [
        "full_data = pd.concat([articles_1, articles_2, articles_3], ignore_index=True)"
      ],
      "execution_count": 0,
      "outputs": []
    },
    {
      "cell_type": "code",
      "metadata": {
        "id": "Nusfid1cHd8l",
        "colab_type": "code",
        "outputId": "4f8d2bc1-6dc3-44ca-bdbd-89cca5f0236c",
        "colab": {
          "base_uri": "https://localhost:8080/",
          "height": 570
        }
      },
      "source": [
        "full_data"
      ],
      "execution_count": 56,
      "outputs": [
        {
          "output_type": "execute_result",
          "data": {
            "text/html": [
              "<div>\n",
              "<style scoped>\n",
              "    .dataframe tbody tr th:only-of-type {\n",
              "        vertical-align: middle;\n",
              "    }\n",
              "\n",
              "    .dataframe tbody tr th {\n",
              "        vertical-align: top;\n",
              "    }\n",
              "\n",
              "    .dataframe thead th {\n",
              "        text-align: right;\n",
              "    }\n",
              "</style>\n",
              "<table border=\"1\" class=\"dataframe\">\n",
              "  <thead>\n",
              "    <tr style=\"text-align: right;\">\n",
              "      <th></th>\n",
              "      <th>Unnamed: 0</th>\n",
              "      <th>id</th>\n",
              "      <th>title</th>\n",
              "      <th>publication</th>\n",
              "      <th>author</th>\n",
              "      <th>date</th>\n",
              "      <th>year</th>\n",
              "      <th>month</th>\n",
              "      <th>url</th>\n",
              "      <th>content</th>\n",
              "    </tr>\n",
              "  </thead>\n",
              "  <tbody>\n",
              "    <tr>\n",
              "      <th>0</th>\n",
              "      <td>0</td>\n",
              "      <td>17283</td>\n",
              "      <td>House Republicans Fret About Winning Their Hea...</td>\n",
              "      <td>New York Times</td>\n",
              "      <td>Carl Hulse</td>\n",
              "      <td>2016-12-31</td>\n",
              "      <td>2016.0</td>\n",
              "      <td>12.0</td>\n",
              "      <td>NaN</td>\n",
              "      <td>WASHINGTON  —   Congressional Republicans have...</td>\n",
              "    </tr>\n",
              "    <tr>\n",
              "      <th>1</th>\n",
              "      <td>1</td>\n",
              "      <td>17284</td>\n",
              "      <td>Rift Between Officers and Residents as Killing...</td>\n",
              "      <td>New York Times</td>\n",
              "      <td>Benjamin Mueller and Al Baker</td>\n",
              "      <td>2017-06-19</td>\n",
              "      <td>2017.0</td>\n",
              "      <td>6.0</td>\n",
              "      <td>NaN</td>\n",
              "      <td>After the bullet shells get counted, the blood...</td>\n",
              "    </tr>\n",
              "    <tr>\n",
              "      <th>2</th>\n",
              "      <td>2</td>\n",
              "      <td>17285</td>\n",
              "      <td>Tyrus Wong, ‘Bambi’ Artist Thwarted by Racial ...</td>\n",
              "      <td>New York Times</td>\n",
              "      <td>Margalit Fox</td>\n",
              "      <td>2017-01-06</td>\n",
              "      <td>2017.0</td>\n",
              "      <td>1.0</td>\n",
              "      <td>NaN</td>\n",
              "      <td>When Walt Disney’s “Bambi” opened in 1942, cri...</td>\n",
              "    </tr>\n",
              "    <tr>\n",
              "      <th>3</th>\n",
              "      <td>3</td>\n",
              "      <td>17286</td>\n",
              "      <td>Among Deaths in 2016, a Heavy Toll in Pop Musi...</td>\n",
              "      <td>New York Times</td>\n",
              "      <td>William McDonald</td>\n",
              "      <td>2017-04-10</td>\n",
              "      <td>2017.0</td>\n",
              "      <td>4.0</td>\n",
              "      <td>NaN</td>\n",
              "      <td>Death may be the great equalizer, but it isn’t...</td>\n",
              "    </tr>\n",
              "    <tr>\n",
              "      <th>4</th>\n",
              "      <td>4</td>\n",
              "      <td>17287</td>\n",
              "      <td>Kim Jong-un Says North Korea Is Preparing to T...</td>\n",
              "      <td>New York Times</td>\n",
              "      <td>Choe Sang-Hun</td>\n",
              "      <td>2017-01-02</td>\n",
              "      <td>2017.0</td>\n",
              "      <td>1.0</td>\n",
              "      <td>NaN</td>\n",
              "      <td>SEOUL, South Korea  —   North Korea’s leader, ...</td>\n",
              "    </tr>\n",
              "    <tr>\n",
              "      <th>...</th>\n",
              "      <td>...</td>\n",
              "      <td>...</td>\n",
              "      <td>...</td>\n",
              "      <td>...</td>\n",
              "      <td>...</td>\n",
              "      <td>...</td>\n",
              "      <td>...</td>\n",
              "      <td>...</td>\n",
              "      <td>...</td>\n",
              "      <td>...</td>\n",
              "    </tr>\n",
              "    <tr>\n",
              "      <th>142565</th>\n",
              "      <td>146028</td>\n",
              "      <td>218078</td>\n",
              "      <td>An eavesdropping Uber driver saved his 16-year...</td>\n",
              "      <td>Washington Post</td>\n",
              "      <td>Avi Selk</td>\n",
              "      <td>2016-12-30</td>\n",
              "      <td>2016.0</td>\n",
              "      <td>12.0</td>\n",
              "      <td>https://web.archive.org/web/20161231004909/htt...</td>\n",
              "      <td>Uber driver Keith Avila picked up a p...</td>\n",
              "    </tr>\n",
              "    <tr>\n",
              "      <th>142566</th>\n",
              "      <td>146029</td>\n",
              "      <td>218079</td>\n",
              "      <td>Plane carrying six people returning from a Cav...</td>\n",
              "      <td>Washington Post</td>\n",
              "      <td>Sarah Larimer</td>\n",
              "      <td>2016-12-30</td>\n",
              "      <td>2016.0</td>\n",
              "      <td>12.0</td>\n",
              "      <td>https://web.archive.org/web/20161231004909/htt...</td>\n",
              "      <td>Crews on Friday continued to search L...</td>\n",
              "    </tr>\n",
              "    <tr>\n",
              "      <th>142567</th>\n",
              "      <td>146030</td>\n",
              "      <td>218080</td>\n",
              "      <td>After helping a fraction of homeowners expecte...</td>\n",
              "      <td>Washington Post</td>\n",
              "      <td>Renae Merle</td>\n",
              "      <td>2016-12-30</td>\n",
              "      <td>2016.0</td>\n",
              "      <td>12.0</td>\n",
              "      <td>https://web.archive.org/web/20161231004909/htt...</td>\n",
              "      <td>When the Obama administration announced a...</td>\n",
              "    </tr>\n",
              "    <tr>\n",
              "      <th>142568</th>\n",
              "      <td>146031</td>\n",
              "      <td>218081</td>\n",
              "      <td>Yes, this is real: Michigan just banned bannin...</td>\n",
              "      <td>Washington Post</td>\n",
              "      <td>Chelsea Harvey</td>\n",
              "      <td>2016-12-30</td>\n",
              "      <td>2016.0</td>\n",
              "      <td>12.0</td>\n",
              "      <td>https://web.archive.org/web/20161231004909/htt...</td>\n",
              "      <td>This story has been updated. A new law in...</td>\n",
              "    </tr>\n",
              "    <tr>\n",
              "      <th>142569</th>\n",
              "      <td>146032</td>\n",
              "      <td>218082</td>\n",
              "      <td>What happened in Washington state after voters...</td>\n",
              "      <td>Washington Post</td>\n",
              "      <td>Christopher Ingraham</td>\n",
              "      <td>2016-12-29</td>\n",
              "      <td>2016.0</td>\n",
              "      <td>12.0</td>\n",
              "      <td>https://web.archive.org/web/20161231004909/htt...</td>\n",
              "      <td>The nation’s first recreational marijuana...</td>\n",
              "    </tr>\n",
              "  </tbody>\n",
              "</table>\n",
              "<p>142570 rows × 10 columns</p>\n",
              "</div>"
            ],
            "text/plain": [
              "        Unnamed: 0  ...                                            content\n",
              "0                0  ...  WASHINGTON  —   Congressional Republicans have...\n",
              "1                1  ...  After the bullet shells get counted, the blood...\n",
              "2                2  ...  When Walt Disney’s “Bambi” opened in 1942, cri...\n",
              "3                3  ...  Death may be the great equalizer, but it isn’t...\n",
              "4                4  ...  SEOUL, South Korea  —   North Korea’s leader, ...\n",
              "...            ...  ...                                                ...\n",
              "142565      146028  ...           Uber driver Keith Avila picked up a p...\n",
              "142566      146029  ...           Crews on Friday continued to search L...\n",
              "142567      146030  ...       When the Obama administration announced a...\n",
              "142568      146031  ...       This story has been updated. A new law in...\n",
              "142569      146032  ...       The nation’s first recreational marijuana...\n",
              "\n",
              "[142570 rows x 10 columns]"
            ]
          },
          "metadata": {
            "tags": []
          },
          "execution_count": 56
        }
      ]
    },
    {
      "cell_type": "code",
      "metadata": {
        "id": "KF1gdGRjK7HB",
        "colab_type": "code",
        "colab": {}
      },
      "source": [
        "# remove duplicates\n",
        "full_data = full_data.drop_duplicates(subset=['title', 'publication', 'author', 'date'])"
      ],
      "execution_count": 0,
      "outputs": []
    },
    {
      "cell_type": "code",
      "metadata": {
        "id": "FoumqwwKQJ29",
        "colab_type": "code",
        "colab": {}
      },
      "source": [
        "# remove missing titles \n",
        "full_data = full_data.dropna(subset=['title'])"
      ],
      "execution_count": 0,
      "outputs": []
    },
    {
      "cell_type": "code",
      "metadata": {
        "id": "2hMvyiEgMB9s",
        "colab_type": "code",
        "colab": {}
      },
      "source": [
        "def preprocess_text(text):\n",
        "\n",
        "  # function to remove punctuation \n",
        "  def Punctuation(string): \n",
        "    return re.sub(r'[\\W]', ' ', string)\n",
        "\n",
        "  # remove punctuation and perform tokenization\n",
        "  text = Punctuation(text.lower()).split()\n",
        "\n",
        "  # remove stop words and stem\n",
        "  stop_words = set(stopwords.words('english'))\n",
        "  stemmer = SnowballStemmer(\"english\")\n",
        "  text = [stemmer.stem(t) for t in text if not t in stop_words]\n",
        "\n",
        "  return text\n"
      ],
      "execution_count": 0,
      "outputs": []
    },
    {
      "cell_type": "code",
      "metadata": {
        "id": "BlMVZ3R6m3u4",
        "colab_type": "code",
        "colab": {}
      },
      "source": [
        "tfidf_vectorizer = TfidfVectorizer(stop_words='english', use_idf=True, tokenizer=preprocess_text, ngram_range=(1,3))"
      ],
      "execution_count": 0,
      "outputs": []
    },
    {
      "cell_type": "code",
      "metadata": {
        "id": "ERDwOvRIqOzz",
        "colab_type": "code",
        "colab": {
          "base_uri": "https://localhost:8080/",
          "height": 33
        },
        "outputId": "9c37841f-adf4-47c6-bd69-def7db45622e"
      },
      "source": [
        "tfidf_matrix = tfidf_vectorizer.fit_transform(full_data.title)\n",
        "print(tfidf_matrix.shape)"
      ],
      "execution_count": 65,
      "outputs": [
        {
          "output_type": "stream",
          "text": [
            "(142568, 1209582)\n"
          ],
          "name": "stdout"
        }
      ]
    },
    {
      "cell_type": "code",
      "metadata": {
        "id": "c2OIREHaqdqL",
        "colab_type": "code",
        "colab": {}
      },
      "source": [
        "from sklearn.metrics.pairwise import cosine_similarity\n",
        "dist = 1 - cosine_similarity(tfidf_matrix)"
      ],
      "execution_count": 0,
      "outputs": []
    },
    {
      "cell_type": "code",
      "metadata": {
        "id": "qQdkuVXpsGS4",
        "colab_type": "code",
        "colab": {}
      },
      "source": [
        ""
      ],
      "execution_count": 0,
      "outputs": []
    }
  ]
}