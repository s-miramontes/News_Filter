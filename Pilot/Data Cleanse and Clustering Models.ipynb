{
  "nbformat": 4,
  "nbformat_minor": 0,
  "metadata": {
    "kernelspec": {
      "name": "python3",
      "display_name": "Python 3"
    },
    "language_info": {
      "codemirror_mode": {
        "name": "ipython",
        "version": 3
      },
      "file_extension": ".py",
      "mimetype": "text/x-python",
      "name": "python",
      "nbconvert_exporter": "python",
      "pygments_lexer": "ipython3",
      "version": "3.7.3"
    },
    "colab": {
      "name": "Data Cleanse and Clustering Models.ipynb",
      "provenance": [],
      "machine_shape": "hm",
      "include_colab_link": true
    },
    "accelerator": "TPU"
  },
  "cells": [
    {
      "cell_type": "markdown",
      "metadata": {
        "id": "view-in-github",
        "colab_type": "text"
      },
      "source": [
        "<a href=\"https://colab.research.google.com/github/s-miramontes/News_Filter/blob/emma/Pilot/Data%20Cleanse%20and%20Clustering%20Models.ipynb\" target=\"_parent\"><img src=\"https://colab.research.google.com/assets/colab-badge.svg\" alt=\"Open In Colab\"/></a>"
      ]
    },
    {
      "cell_type": "markdown",
      "metadata": {
        "id": "XcKFzFa9rw7L",
        "colab_type": "text"
      },
      "source": [
        "# Clustering News Headlines\n",
        "\n",
        "In this notebook we begin by importing data to analyze its contents and to determine the best clustering algorithm to determine the articles that are most related to each other. "
      ]
    },
    {
      "cell_type": "markdown",
      "metadata": {
        "id": "9_yv0Wugrw7Q",
        "colab_type": "text"
      },
      "source": [
        "We start by importing some dependencies and downloading libraries"
      ]
    },
    {
      "cell_type": "code",
      "metadata": {
        "id": "nMXlP5VTfMDZ",
        "colab_type": "code",
        "colab": {}
      },
      "source": [
        "%%capture\n",
        "# Install the latest Tensorflow version.\n",
        "!pip3 install --upgrade tensorflow-gpu\n",
        "# Install TF-Hub.\n",
        "!pip3 install tensorflow-hub\n",
        "!pip3 install seaborn"
      ],
      "execution_count": 0,
      "outputs": []
    },
    {
      "cell_type": "code",
      "metadata": {
        "id": "qfPkC9ajrw7S",
        "colab_type": "code",
        "outputId": "485550e5-628e-4f97-8fc1-f7b4d0a4a103",
        "colab": {
          "base_uri": "https://localhost:8080/",
          "height": 68
        }
      },
      "source": [
        "import os\n",
        "\n",
        "import numpy as np\n",
        "import pandas as pd\n",
        "\n",
        "import nltk\n",
        "from nltk.corpus import stopwords\n",
        "nltk.download('stopwords')\n",
        "from nltk.stem.snowball import SnowballStemmer\n",
        "import re\n",
        "\n",
        "from sklearn.feature_extraction.text import TfidfVectorizer\n",
        "\n",
        "from sklearn.cluster import KMeans\n",
        "\n",
        "from sklearn.metrics.pairwise import cosine_similarity\n",
        "\n",
        "from absl import logging\n",
        "\n",
        "import tensorflow as tf\n",
        "import tensorflow_hub as hub\n",
        "\n",
        "import heapq\n",
        "import operator\n",
        "\n",
        "from math import sqrt\n",
        "from joblib import Parallel, delayed\n"
      ],
      "execution_count": 1,
      "outputs": [
        {
          "output_type": "stream",
          "text": [
            "[nltk_data] Downloading package stopwords to\n",
            "[nltk_data]     /home/erusson/nltk_data...\n",
            "[nltk_data]   Package stopwords is already up-to-date!\n"
          ],
          "name": "stderr"
        }
      ]
    },
    {
      "cell_type": "markdown",
      "metadata": {
        "id": "1vaQv_w0sd2J",
        "colab_type": "text"
      },
      "source": [
        "## Importing Data from Local File System\n",
        "\n",
        "Datasets are located here: https://www.kaggle.com/snapcrack/all-the-news/version/4#articles3.csv\n",
        "\n",
        "Proceed to download all three 'csv' files, and store them in a 'data' directory at the location of your choice.\n"
      ]
    },
    {
      "cell_type": "code",
      "metadata": {
        "id": "LWGIyGKy_ohe",
        "colab_type": "code",
        "colab": {}
      },
      "source": [
        "articles_3 = pd.read_csv('w266/finalproj/data/articles3.csv')\n",
        "articles_2 = pd.read_csv('w266/finalproj/data/articles2.csv')\n",
        "articles_1 = pd.read_csv('w266/finalproj/data/articles1.csv')"
      ],
      "execution_count": 0,
      "outputs": []
    },
    {
      "cell_type": "code",
      "metadata": {
        "id": "BMp3ER1V_oZW",
        "colab_type": "code",
        "colab": {}
      },
      "source": [
        "articles_3.head()"
      ],
      "execution_count": 0,
      "outputs": []
    },
    {
      "cell_type": "code",
      "metadata": {
        "id": "bWjyZH92_oFe",
        "colab_type": "code",
        "colab": {}
      },
      "source": [
        "articles_2.head()"
      ],
      "execution_count": 0,
      "outputs": []
    },
    {
      "cell_type": "code",
      "metadata": {
        "id": "I2qaWd4A_nmv",
        "colab_type": "code",
        "colab": {}
      },
      "source": [
        "articles_1.head()"
      ],
      "execution_count": 0,
      "outputs": []
    },
    {
      "cell_type": "code",
      "metadata": {
        "id": "Q62vtXwaR9og",
        "colab_type": "code",
        "colab": {}
      },
      "source": [
        "# publications in articles_3.csv\n",
        "set(articles_3.publication)"
      ],
      "execution_count": 0,
      "outputs": []
    },
    {
      "cell_type": "code",
      "metadata": {
        "id": "n9ILnYjuGgjC",
        "colab_type": "code",
        "colab": {}
      },
      "source": [
        "# publications in articles_2.csv\n",
        "set(articles_2.publication)"
      ],
      "execution_count": 0,
      "outputs": []
    },
    {
      "cell_type": "code",
      "metadata": {
        "id": "_GuTjI-0G7U5",
        "colab_type": "code",
        "colab": {}
      },
      "source": [
        "# publications in articles_1.csv\n",
        "set(articles_1.publication)"
      ],
      "execution_count": 0,
      "outputs": []
    },
    {
      "cell_type": "code",
      "metadata": {
        "id": "6-c_j1F0G8YL",
        "colab_type": "code",
        "outputId": "ea7e051d-5d6a-46aa-bf0e-7a74163cb45d",
        "colab": {
          "base_uri": "https://localhost:8080/",
          "height": 34
        }
      },
      "source": [
        "# join all datasets into one\n",
        "full_data = pd.concat([articles_1, articles_2, articles_3], ignore_index=True)\n",
        "\n",
        "full_data.shape"
      ],
      "execution_count": 3,
      "outputs": [
        {
          "output_type": "execute_result",
          "data": {
            "text/plain": [
              "(142570, 10)"
            ]
          },
          "metadata": {
            "tags": []
          },
          "execution_count": 3
        }
      ]
    },
    {
      "cell_type": "code",
      "metadata": {
        "id": "Nusfid1cHd8l",
        "colab_type": "code",
        "outputId": "5b8a3c54-9df8-4535-9c5f-fa9566154415",
        "colab": {
          "base_uri": "https://localhost:8080/",
          "height": 306
        }
      },
      "source": [
        "full_data.head()"
      ],
      "execution_count": 4,
      "outputs": [
        {
          "output_type": "execute_result",
          "data": {
            "text/plain": [
              "   Unnamed: 0     id                                              title  \\\n",
              "0           0  17283  House Republicans Fret About Winning Their Hea...   \n",
              "1           1  17284  Rift Between Officers and Residents as Killing...   \n",
              "2           2  17285  Tyrus Wong, ‘Bambi’ Artist Thwarted by Racial ...   \n",
              "3           3  17286  Among Deaths in 2016, a Heavy Toll in Pop Musi...   \n",
              "4           4  17287  Kim Jong-un Says North Korea Is Preparing to T...   \n",
              "\n",
              "      publication                         author        date    year  month  \\\n",
              "0  New York Times                     Carl Hulse  2016-12-31  2016.0   12.0   \n",
              "1  New York Times  Benjamin Mueller and Al Baker  2017-06-19  2017.0    6.0   \n",
              "2  New York Times                   Margalit Fox  2017-01-06  2017.0    1.0   \n",
              "3  New York Times               William McDonald  2017-04-10  2017.0    4.0   \n",
              "4  New York Times                  Choe Sang-Hun  2017-01-02  2017.0    1.0   \n",
              "\n",
              "   url                                            content  \n",
              "0  NaN  WASHINGTON  —   Congressional Republicans have...  \n",
              "1  NaN  After the bullet shells get counted, the blood...  \n",
              "2  NaN  When Walt Disney’s “Bambi” opened in 1942, cri...  \n",
              "3  NaN  Death may be the great equalizer, but it isn’t...  \n",
              "4  NaN  SEOUL, South Korea  —   North Korea’s leader, ...  "
            ],
            "text/html": [
              "<div>\n",
              "<style scoped>\n",
              "    .dataframe tbody tr th:only-of-type {\n",
              "        vertical-align: middle;\n",
              "    }\n",
              "\n",
              "    .dataframe tbody tr th {\n",
              "        vertical-align: top;\n",
              "    }\n",
              "\n",
              "    .dataframe thead th {\n",
              "        text-align: right;\n",
              "    }\n",
              "</style>\n",
              "<table border=\"1\" class=\"dataframe\">\n",
              "  <thead>\n",
              "    <tr style=\"text-align: right;\">\n",
              "      <th></th>\n",
              "      <th>Unnamed: 0</th>\n",
              "      <th>id</th>\n",
              "      <th>title</th>\n",
              "      <th>publication</th>\n",
              "      <th>author</th>\n",
              "      <th>date</th>\n",
              "      <th>year</th>\n",
              "      <th>month</th>\n",
              "      <th>url</th>\n",
              "      <th>content</th>\n",
              "    </tr>\n",
              "  </thead>\n",
              "  <tbody>\n",
              "    <tr>\n",
              "      <td>0</td>\n",
              "      <td>0</td>\n",
              "      <td>17283</td>\n",
              "      <td>House Republicans Fret About Winning Their Hea...</td>\n",
              "      <td>New York Times</td>\n",
              "      <td>Carl Hulse</td>\n",
              "      <td>2016-12-31</td>\n",
              "      <td>2016.0</td>\n",
              "      <td>12.0</td>\n",
              "      <td>NaN</td>\n",
              "      <td>WASHINGTON  —   Congressional Republicans have...</td>\n",
              "    </tr>\n",
              "    <tr>\n",
              "      <td>1</td>\n",
              "      <td>1</td>\n",
              "      <td>17284</td>\n",
              "      <td>Rift Between Officers and Residents as Killing...</td>\n",
              "      <td>New York Times</td>\n",
              "      <td>Benjamin Mueller and Al Baker</td>\n",
              "      <td>2017-06-19</td>\n",
              "      <td>2017.0</td>\n",
              "      <td>6.0</td>\n",
              "      <td>NaN</td>\n",
              "      <td>After the bullet shells get counted, the blood...</td>\n",
              "    </tr>\n",
              "    <tr>\n",
              "      <td>2</td>\n",
              "      <td>2</td>\n",
              "      <td>17285</td>\n",
              "      <td>Tyrus Wong, ‘Bambi’ Artist Thwarted by Racial ...</td>\n",
              "      <td>New York Times</td>\n",
              "      <td>Margalit Fox</td>\n",
              "      <td>2017-01-06</td>\n",
              "      <td>2017.0</td>\n",
              "      <td>1.0</td>\n",
              "      <td>NaN</td>\n",
              "      <td>When Walt Disney’s “Bambi” opened in 1942, cri...</td>\n",
              "    </tr>\n",
              "    <tr>\n",
              "      <td>3</td>\n",
              "      <td>3</td>\n",
              "      <td>17286</td>\n",
              "      <td>Among Deaths in 2016, a Heavy Toll in Pop Musi...</td>\n",
              "      <td>New York Times</td>\n",
              "      <td>William McDonald</td>\n",
              "      <td>2017-04-10</td>\n",
              "      <td>2017.0</td>\n",
              "      <td>4.0</td>\n",
              "      <td>NaN</td>\n",
              "      <td>Death may be the great equalizer, but it isn’t...</td>\n",
              "    </tr>\n",
              "    <tr>\n",
              "      <td>4</td>\n",
              "      <td>4</td>\n",
              "      <td>17287</td>\n",
              "      <td>Kim Jong-un Says North Korea Is Preparing to T...</td>\n",
              "      <td>New York Times</td>\n",
              "      <td>Choe Sang-Hun</td>\n",
              "      <td>2017-01-02</td>\n",
              "      <td>2017.0</td>\n",
              "      <td>1.0</td>\n",
              "      <td>NaN</td>\n",
              "      <td>SEOUL, South Korea  —   North Korea’s leader, ...</td>\n",
              "    </tr>\n",
              "  </tbody>\n",
              "</table>\n",
              "</div>"
            ]
          },
          "metadata": {
            "tags": []
          },
          "execution_count": 4
        }
      ]
    },
    {
      "cell_type": "code",
      "metadata": {
        "id": "KF1gdGRjK7HB",
        "colab_type": "code",
        "colab": {}
      },
      "source": [
        "# remove duplicates\n",
        "full_data = full_data.drop_duplicates(subset=['title', 'publication', 'author', 'date'])"
      ],
      "execution_count": 0,
      "outputs": []
    },
    {
      "cell_type": "code",
      "metadata": {
        "id": "FoumqwwKQJ29",
        "colab_type": "code",
        "colab": {}
      },
      "source": [
        "# remove missing titles \n",
        "full_data = full_data.dropna(subset=['title'])"
      ],
      "execution_count": 0,
      "outputs": []
    },
    {
      "cell_type": "code",
      "metadata": {
        "id": "geKADAkQ1isB",
        "colab_type": "code",
        "outputId": "101aedb7-3aa6-4e23-ae7a-daea8f6e3a4b",
        "colab": {
          "base_uri": "https://localhost:8080/",
          "height": 272
        }
      },
      "source": [
        "# sample 13k observations from full_data (set seed to 5)\n",
        "small_data = full_data.sample(n=13000, random_state=5).reset_index()\n",
        "set(small_data.publication)"
      ],
      "execution_count": 7,
      "outputs": [
        {
          "output_type": "execute_result",
          "data": {
            "text/plain": [
              "{'Atlantic',\n",
              " 'Breitbart',\n",
              " 'Business Insider',\n",
              " 'Buzzfeed News',\n",
              " 'CNN',\n",
              " 'Fox News',\n",
              " 'Guardian',\n",
              " 'NPR',\n",
              " 'National Review',\n",
              " 'New York Post',\n",
              " 'New York Times',\n",
              " 'Reuters',\n",
              " 'Talking Points Memo',\n",
              " 'Vox',\n",
              " 'Washington Post'}"
            ]
          },
          "metadata": {
            "tags": []
          },
          "execution_count": 7
        }
      ]
    },
    {
      "cell_type": "code",
      "metadata": {
        "id": "oHsWKlomnvcj",
        "colab_type": "code",
        "outputId": "ec3bb72a-4b73-4112-9a7e-a00f1ed48a6a",
        "colab": {
          "base_uri": "https://localhost:8080/",
          "height": 34
        }
      },
      "source": [
        "small_data.shape"
      ],
      "execution_count": 8,
      "outputs": [
        {
          "output_type": "execute_result",
          "data": {
            "text/plain": [
              "(13000, 11)"
            ]
          },
          "metadata": {
            "tags": []
          },
          "execution_count": 8
        }
      ]
    },
    {
      "cell_type": "code",
      "metadata": {
        "id": "bn6X4KaWBDxt",
        "colab_type": "code",
        "outputId": "3b204b9f-b07b-4923-f0c4-82aab1df1262",
        "colab": {
          "base_uri": "https://localhost:8080/",
          "height": 493
        }
      },
      "source": [
        "small_data.head()"
      ],
      "execution_count": 9,
      "outputs": [
        {
          "output_type": "execute_result",
          "data": {
            "text/plain": [
              "    index  Unnamed: 0      id  \\\n",
              "0   74496       77946  118473   \n",
              "1   71184       74592  113594   \n",
              "2  120205      123668  184574   \n",
              "3  128977      132440  199665   \n",
              "4  134837      138300  208223   \n",
              "\n",
              "                                               title      publication  \\\n",
              "0  Chaos in the Family, Chaos in the State: The W...  National Review   \n",
              "1   US Civil Rights Commission Will Observe Stand...    Buzzfeed News   \n",
              "2  Venezuela hunts rogue helicopter attackers, Ma...          Reuters   \n",
              "3  Fruit juice isn’t much better for you than sod...              Vox   \n",
              "4  Sessions won’t testify at congressional budget...  Washington Post   \n",
              "\n",
              "                                  author        date    year  month  \\\n",
              "0                    Kevin D. Williamson  2016-03-17  2016.0    3.0   \n",
              "1                       Nidhi Subbaraman  2016-12-08  2016.0   12.0   \n",
              "2  Andrew Cawthorne and Victoria Ramirez  2017-06-29  2017.0    6.0   \n",
              "3                           Julia Belluz   2016/3/25  2016.0    3.0   \n",
              "4                           Sari Horwitz  2017-06-10  2017.0    6.0   \n",
              "\n",
              "                                                 url  \\\n",
              "0  http://www.nationalreview.com/article/432876/d...   \n",
              "1  https://web.archive.org/web/20161208153906/htt...   \n",
              "2  http://www.reuters.com/article/us-venezuela-po...   \n",
              "3  http://www.vox.com/2016/3/25/11305614/soda-jui...   \n",
              "4  https://web.archive.org/web/20170611000758/htt...   \n",
              "\n",
              "                                             content  \n",
              "0  Michael Brendan Dougherty is bitter. I think t...  \n",
              "1   WASHINGTON  —   The US Commission on Civil Ri...  \n",
              "2   The Venezuelan government hunted on Wednesday...  \n",
              "3   One of the biggest public health wins of rece...  \n",
              "4   Attorney General Jeff Sessions, who had agree...  "
            ],
            "text/html": [
              "<div>\n",
              "<style scoped>\n",
              "    .dataframe tbody tr th:only-of-type {\n",
              "        vertical-align: middle;\n",
              "    }\n",
              "\n",
              "    .dataframe tbody tr th {\n",
              "        vertical-align: top;\n",
              "    }\n",
              "\n",
              "    .dataframe thead th {\n",
              "        text-align: right;\n",
              "    }\n",
              "</style>\n",
              "<table border=\"1\" class=\"dataframe\">\n",
              "  <thead>\n",
              "    <tr style=\"text-align: right;\">\n",
              "      <th></th>\n",
              "      <th>index</th>\n",
              "      <th>Unnamed: 0</th>\n",
              "      <th>id</th>\n",
              "      <th>title</th>\n",
              "      <th>publication</th>\n",
              "      <th>author</th>\n",
              "      <th>date</th>\n",
              "      <th>year</th>\n",
              "      <th>month</th>\n",
              "      <th>url</th>\n",
              "      <th>content</th>\n",
              "    </tr>\n",
              "  </thead>\n",
              "  <tbody>\n",
              "    <tr>\n",
              "      <td>0</td>\n",
              "      <td>74496</td>\n",
              "      <td>77946</td>\n",
              "      <td>118473</td>\n",
              "      <td>Chaos in the Family, Chaos in the State: The W...</td>\n",
              "      <td>National Review</td>\n",
              "      <td>Kevin D. Williamson</td>\n",
              "      <td>2016-03-17</td>\n",
              "      <td>2016.0</td>\n",
              "      <td>3.0</td>\n",
              "      <td>http://www.nationalreview.com/article/432876/d...</td>\n",
              "      <td>Michael Brendan Dougherty is bitter. I think t...</td>\n",
              "    </tr>\n",
              "    <tr>\n",
              "      <td>1</td>\n",
              "      <td>71184</td>\n",
              "      <td>74592</td>\n",
              "      <td>113594</td>\n",
              "      <td>US Civil Rights Commission Will Observe Stand...</td>\n",
              "      <td>Buzzfeed News</td>\n",
              "      <td>Nidhi Subbaraman</td>\n",
              "      <td>2016-12-08</td>\n",
              "      <td>2016.0</td>\n",
              "      <td>12.0</td>\n",
              "      <td>https://web.archive.org/web/20161208153906/htt...</td>\n",
              "      <td>WASHINGTON  —   The US Commission on Civil Ri...</td>\n",
              "    </tr>\n",
              "    <tr>\n",
              "      <td>2</td>\n",
              "      <td>120205</td>\n",
              "      <td>123668</td>\n",
              "      <td>184574</td>\n",
              "      <td>Venezuela hunts rogue helicopter attackers, Ma...</td>\n",
              "      <td>Reuters</td>\n",
              "      <td>Andrew Cawthorne and Victoria Ramirez</td>\n",
              "      <td>2017-06-29</td>\n",
              "      <td>2017.0</td>\n",
              "      <td>6.0</td>\n",
              "      <td>http://www.reuters.com/article/us-venezuela-po...</td>\n",
              "      <td>The Venezuelan government hunted on Wednesday...</td>\n",
              "    </tr>\n",
              "    <tr>\n",
              "      <td>3</td>\n",
              "      <td>128977</td>\n",
              "      <td>132440</td>\n",
              "      <td>199665</td>\n",
              "      <td>Fruit juice isn’t much better for you than sod...</td>\n",
              "      <td>Vox</td>\n",
              "      <td>Julia Belluz</td>\n",
              "      <td>2016/3/25</td>\n",
              "      <td>2016.0</td>\n",
              "      <td>3.0</td>\n",
              "      <td>http://www.vox.com/2016/3/25/11305614/soda-jui...</td>\n",
              "      <td>One of the biggest public health wins of rece...</td>\n",
              "    </tr>\n",
              "    <tr>\n",
              "      <td>4</td>\n",
              "      <td>134837</td>\n",
              "      <td>138300</td>\n",
              "      <td>208223</td>\n",
              "      <td>Sessions won’t testify at congressional budget...</td>\n",
              "      <td>Washington Post</td>\n",
              "      <td>Sari Horwitz</td>\n",
              "      <td>2017-06-10</td>\n",
              "      <td>2017.0</td>\n",
              "      <td>6.0</td>\n",
              "      <td>https://web.archive.org/web/20170611000758/htt...</td>\n",
              "      <td>Attorney General Jeff Sessions, who had agree...</td>\n",
              "    </tr>\n",
              "  </tbody>\n",
              "</table>\n",
              "</div>"
            ]
          },
          "metadata": {
            "tags": []
          },
          "execution_count": 9
        }
      ]
    },
    {
      "cell_type": "code",
      "metadata": {
        "id": "Fz-CUd81yb81",
        "colab_type": "code",
        "outputId": "4bc1528d-5bd6-4feb-ec58-884d00ae8376",
        "colab": {
          "base_uri": "https://localhost:8080/",
          "height": 102
        }
      },
      "source": [
        "# remove publisher tags from article titles \n",
        "\n",
        "def clean_title(title):\n",
        "  title = re.sub(r\"(- Breitbart)(?!.*\\1)\", '', title)\n",
        "  title = re.sub(r'(- The New York Times)(?!.*\\1)', '', title)\n",
        "  return title\n",
        "  \n",
        "just_titles = Parallel(n_jobs=16)(delayed(clean_title)(title) for title in small_data.title)\n",
        "\n",
        "just_titles[:5]"
      ],
      "execution_count": 10,
      "outputs": [
        {
          "output_type": "execute_result",
          "data": {
            "text/plain": [
              "['Chaos in the Family, Chaos in the State: The White Working Class’s Dysfunction',\n",
              " ' US Civil Rights Commission Will Observe Standing Rock\\xa0Standoff',\n",
              " 'Venezuela hunts rogue helicopter attackers, Maduro foes suspicious',\n",
              " 'Fruit juice isn’t much better for you than soda. Let’s stop pretending otherwise.',\n",
              " 'Sessions won’t testify at congressional budget hearings but at Senate intelligence hearing instead']"
            ]
          },
          "metadata": {
            "tags": []
          },
          "execution_count": 10
        }
      ]
    },
    {
      "cell_type": "code",
      "metadata": {
        "id": "W-KoWU84-e4B",
        "colab_type": "code",
        "outputId": "279c093f-500c-4983-a7f4-c7dd69d69ed5",
        "colab": {
          "base_uri": "https://localhost:8080/",
          "height": 34
        }
      },
      "source": [
        "len(just_titles)"
      ],
      "execution_count": 11,
      "outputs": [
        {
          "output_type": "execute_result",
          "data": {
            "text/plain": [
              "13000"
            ]
          },
          "metadata": {
            "tags": []
          },
          "execution_count": 11
        }
      ]
    },
    {
      "cell_type": "code",
      "metadata": {
        "id": "_SQFGoXw-Y3Q",
        "colab_type": "code",
        "colab": {
          "base_uri": "https://localhost:8080/",
          "height": 34
        },
        "outputId": "705b982d-ea17-4e9c-eaf2-8c523ce920a0"
      },
      "source": [
        "# store ids of titles \n",
        "id_list = small_data.copy().id\n",
        "\n",
        "len(id_list)"
      ],
      "execution_count": 12,
      "outputs": [
        {
          "output_type": "execute_result",
          "data": {
            "text/plain": [
              "13000"
            ]
          },
          "metadata": {
            "tags": []
          },
          "execution_count": 12
        }
      ]
    },
    {
      "cell_type": "code",
      "metadata": {
        "id": "iXEvn1pUgb9h",
        "colab_type": "code",
        "outputId": "91d5c90a-916b-4067-bc7e-04b81e7eccde",
        "colab": {
          "base_uri": "https://localhost:8080/",
          "height": 122
        }
      },
      "source": [
        "# join with content of article\n",
        "\n",
        "small_text = list(map(lambda i,j: i + \" \" + j, just_titles, small_data.content))\n",
        "\n",
        "small_text[:5]"
      ],
      "execution_count": 13,
      "outputs": [
        {
          "output_type": "execute_result",
          "data": {
            "text/plain": [
              "['Chaos in the Family, Chaos in the State: The White Working Class’s Dysfunction Michael Brendan Dougherty is bitter. I think that I can write that in both truth and charity. (I think you might even say that he and I are friends.) Dougherty is a conservative of the sort sometimes advertised as “paleo” and served as national correspondent for The American Conservative. Like many conservative writers with those associations, Dougherty spends a great deal of time lambasting the conservative movement and its organs, from which he feels, for whatever reason, estranged  —   an alienation that carries with it more than a little to suggest that it is somewhat personal. You know: Them. Donald Trump is the headline, and explaining the benighted white working class to Them is the main matter. Sanctimony is the literary mode, for Dougherty and for many others doing the same work with less literary facility. Never mind the petty sneering (as though the conservative movement were populated by septuagenarians who say things like “learn computers”) and the rhetorical need to invent moral debasement (tax cuts are good for the rich people in Connecticut who don’t use cocaine, too) and Dougherty’s ignoring out of existence those   parts of the economy that are outside of the Manhattan —  Connecticut finance corridor. And never mind the math, too: It is really quite difficult to design federal tax cuts that benefit people who do not pay much in the way of federal taxes. Set all that aside: What, really, is the case for staying in Garbutt? RELATED: If Your Town Is Failing, Just Go: A Prescription for Impoverished Communities, There was no Garbutt, N. Y. until 1804, when Zachariah Garbutt and his son John settled there. They built a grist mill, and, in the course of digging its foundations, they discovered a rich vein of gypsum, at that time used as a fertilizer. A gypsum industry sprang up and ran its course. Then Garbutt died. “As the years passed away, a change came over the spirit of their dream,” wrote local historian George E. Slocum. “Their church was demolished and its timber put to an ignoble use their schools were reduced to one, and that a primary their hotels were converted into dwelling houses their workshops, one by one, slowly and silently sank from sight until there was but little left to the burg except its name. ” Slocum wrote that in . . . 1908. The emergence of the   wallboard industry gave Garbutt a little bump at the beginning of the 20th century, but it wasn’t enough. The U. S. Census Bureau doesn’t even keep data on Garbutt. To invoke Burkean conservatism in the service of preserving a community that was exnihilated into existence around a single commodity and lasted barely a century is the indulgence of absurd sentimentality. Yes, young men of Garbutt  —   get off your asses and go find a job: You’re a   bus ride away from the gas fields of Pennsylvania. Stonehenge didn’t work out, either: Good luck. Garbutt is Trump Country, and Dougherty, while not a   Trumpkin, is generally sympathetic to Trump’s critique of current American economic policy, namely that international trade and immigration are dispossessing the white working class. There is not, in fact, very much evidence for those claims: Immigration does put some downward pressure on wages, but it also puts downward pressure on prices.     workers’ money income may have stagnated, but their real income  —   what they can buy with the money they earn  —   has continued to improve modestly. The main effect of new immigrants’ wage competition is felt in the wages of earlier immigrants. But the effects of immigration overall are tiny compared with the effects of factors such as   expenses. In many   occupations, overall compensation in fact has gone up over the years, but the additional compensation has come largely or entirely in the form of medical benefits. In some cases, the expense of medical benefits has gone up so much that total compensation has increased even while money wages have gone down. That’s the worst of all possible worlds: It costs more to employ those   American workers, but they don’t feel any richer  —   and if their employers are paying more for the same benefits (or paying more for inferior benefits under the   Affordable Care Act) they aren’t any richer, practically speaking. On the trade front, American manufacturing continues to expand and thrive  —   an absolute economic fact that is, perversely, unknown to the great majority of Americans, who believe precisely the opposite to be the case. Americans have false beliefs about manufacturing for a few reasons: One is that while our factories produce much more than in the past, they employ fewer people another is that we tend to produce capital goods and import consumer goods  —   you won’t see much labeled “Made in the USA” at Walmart, but you’ll see it on everything from the aircraft flown by foreign airlines to the robotics in automobile factories overseas. Another factor, particularly relevant to the question of manufacturing and trade, is that a large (but declining) share of those imported consumer goods comes from China, a country with which we have a large trade deficit. That isn’t because the Chinese are clever, but because they are poor: With an average annual income of less than $9, 000, the typical Chinese household is not well positioned to buy   goods, which are generally expensive. (China is a large consumer of U. S. agricultural products, especially soybeans.) Add to that poorly informed and sentimental ideas about what those old Rust Belt factory jobs actually paid  —   you can have a 1957 standard of living, if you really want it, quite cheap  —   and you get a holistic critique of U. S. economic policy that is wholly bunk. Which isn’t to say that the Mikes of Dougherty’s world have it good  —   they don’t. But they aren’t victims of the wily Chinese, scheming to make them poor: In the story of the white working class’s descent into dysfunction, they are the victims and the villains both. RELATED: The White Ghetto: In Appalachia, The Country Is Beautiful and the Society is Broken, The Washington Post’s “Wonkbook” newsletter compared the counties Trump won in the   Super Tuesday primaries with the demographic data and found trends that will surprise no one who has been paying attention (and certainly no one, I hope, who has been reading this magazine). The life expectancies among    white Americans have been plummeting in an almost unprecedented fashion, a trend not seen on such a large scale since the collapse of the Soviet Union and the social anarchy that prevailed in Russia afterward. Trump counties had proportionally fewer people with college degrees. Trump counties had fewer people working. And the white people in Trump counties were likely to die younger. The causes of death were “increased rates of disease and ill health, increased drug overdose and abuse, and suicide,” the Post’s Wonkblog website reported. This is horrifyingly consistent with other findings. The manufacturing numbers  —   and the entire gloriously complex tale of globalization  —   go in fits and starts: a little improvement here, a little improvement there, and a radically better world in raw material terms (and let’s not sniff at those) every couple of decades. Go back and read the novels of the 1980s or watch The Brady Bunch and ask yourself why    suburban families living in large, comfortable homes and holding down prestigious jobs were worried about the price of butter and meat, and then ask yourself when was the last time you heard someone complain that he couldn’t afford a stick of butter. That change happened a little at a time, here and there. RELATED:    Deaths Are a Cultural Problem, The   numbers, on the other hand, came down on us like a meteor. Before the war, divorce had been such an alien phenomenon that it animated such   stories as The Gay Divorcee, a play in which a fictitious act of adultery had to be invented to move the plot forward. Divorce in 1960 was so rare as to carry a hint of scandalous glamour, which it kept throughout the 1970s and 1980s, with women’s magazines writing lifestyle pieces about informal weekday dinner parties for divorcées (the word itself is today faintly ludicrous) and men’s magazines celebrating divorce as a second adolescence. The divorce rate doubled over the span of a few decades  —   even as the marriage rate was declining. Add to that the violence of abortion, which fundamentally alters the relationship between men, women, and children, and what exactly “family” means to those of us born around the time Roe v. Wade was decided becomes a very difficult question. The concept of the nation as an extended family is the notion that separates   conservatism, with its roots in the   ideas that informed the American founding, from       European nationalism. In Europe, this is an idea popular with the Right: It is entirely unsurprising that Trump has enjoyed the endorsement of, among other European rightists,   Le Pen. In the United States, it is an idea  —   and an error  —   popular on both sides of the political divide: The distastefully squishy progressive writer George Lakoff argues that the American Right prefers a strict patriarchal model of the family and, therefore, a similar model of political life, while the Left is inclined toward the maternal and the nurturing. (  critics of free trade and free enterprise in the   world often speak of “nurturing” economic policies, because they do not wish to write the word “socialism. ”) But it is an idea that fits at best uneasily with the aspirations of American conservatism. One of the worst errors in public life is the common one of mistaking the metaphor for the thing itself. In reality  —   and reality is not optional  —   the president isn’t the national dad (Governor John Kasich’s insistence notwithstanding) and government is neither paternal nor maternal. The nation isn’t your family. Your family is your family. RELATED: The Buchanan Boys: The Trump Voters Aren’t a New Phenomenon, The metaphor points both ways: Nationalism may speak to a longing for lost national greatness, but in our own time, it speaks at least as strongly to the longing after  —   the great howling lamentation for  —   the ideal family that never was lost, because it never was formed. The Mikes of the world may be struggling to make it in the global economy, but what they really are shut out of is the traditional family. The current social regime of illegitimacy, serial monogamy, abortion, and liberal divorce has rendered traditional families optional, at best  —   the great majority of divorces are initiated by wives, not by husbands  —   and the welfare state has at least in part supplanted the Mikes in their role as providers, assuming that they have the wherewithal to fill that role in the first place. Traditional avenues for achieving respect, status, and permanence are lost to them. Milo Yiannopoulos of Breitbart London has done more to put homosexual camp in the service of   authoritarianism than any man has since the fellows at Hugo Boss sewed all those nifty SS uniforms. He refers to Trump  —   this will not surprise you  —   as “Daddy,”  . It is easy to imagine a generation of young men being raised without fathers and looking out the window like a kid in an   special, waiting for Daddy to come home. Many of them slip into harmless Clark Griswold —  ism, trying to provide for their own children the ideal families they themselves never had. But some of them end up grown men still staring out that window, waiting for the   figure they have spent their lives imagining, the protector and vindicator who will protect them, provide for them, and set things in order. RELATED: How   Abuse Unleashed a Heroin Epidemic, Dougherty cites the work of the conservative polemicist Sam Francis, one of those old   conservatives who very much embraced the paterfamilias model of government. His analysis, like mine, finds emotional and policy links between the Trump movement and its earlier incarnation, the Pat Buchanan movement. For Dougherty, Francis provides the philosophical link. He also provides the stylistic link: He was a kook. “Francis eventually turned into something resembling an   white nationalist,” Dougherty writes, “penning his most racist material under a pen name. Buchanan didn’t take Francis’s advice in 1996, not entirely. But 20 years later, [Francis’s book] From Household to Nation reads like a political manifesto from which the Trump campaign springs. ” From Household to Nation is typical in that it is based on a category error, asking economics to do what economics doesn’t: to provide the means “not simply to gain material satisfaction but to support families and the social institutions and identities that evolve from families as the fundamental units of human society and human action. ” Economics is about satisfying human wants, not defining them. The problem isn’t that Americans cannot sustain families, but that they do not wish to. It is therefore strange to me that Dougherty so fundamentally misdiagnoses the conservative reaction to Trump: “A Trump win,” he writes in another piece, “at least temporarily threatens the conservative movement, because it threatens to expose how inessential its ideas are to holding together the party. ” (Dougherty also equates the fundraising engaged in by conservative organizations with the Social Security fraud that sustains his fictional Mike, a characterization that indicates the emotional temperament at work here.) Of course there is careerism in the conservative movement, but to proceed as though it were impossible to imagine that conservatives oppose a man running (knowingly or not) on a Sam Francis platform because we oppose the loopy crackpot racist ideas of Sam Francis is to perform an intellectual disservice. It is also immoral. It is immoral because it perpetuates a lie: that the white working class that finds itself attracted to Trump has been victimized by outside forces. It hasn’t. The white middle class may like the idea of Trump as a giant pulsing humanoid middle finger held up in the face of the Cathedral, they may sing hymns to Trump the destroyer and whisper darkly about “globalists” and  —   odious, stupid term  —   “the Establishment,” but nobody did this to them. They failed themselves. RELATED:   Whites Have Moral Responsibilities  —   In Defense of Kevin Williamson, If you spend time in hardscrabble, white upstate New York, or eastern Kentucky, or my own native West Texas, and you take an honest look at the welfare dependency, the drug and alcohol addiction, the family anarchy  —   which is to say, the whelping of human children with all the respect and wisdom of a stray dog  —   you will come to an awful realization. It wasn’t Beijing. It wasn’t even Washington, as bad as Washington can be. It wasn’t immigrants from Mexico, excessive and problematic as our current immigration levels are. It wasn’t any of that. Nothing happened to them. There wasn’t some awful disaster. There wasn’t a war or a famine or a plague or a foreign occupation. Even the economic changes of the past few decades do very little to explain the dysfunction and negligence  —   and the incomprehensible malice  —   of poor white America. So the gypsum business in Garbutt ain’t what it used to be. There is more to life in the 21st century than wallboard and cheap sentimentality about how the Man closed the factories down. The truth about these dysfunctional, downscale communities is that they deserve to die. Economically, they are negative assets. Morally, they are indefensible. Forget all your cheap theatrical Bruce Springsteen crap. Forget your sanctimony about struggling Rust Belt factory towns and your conspiracy theories about the wily Orientals stealing our jobs. Forget your goddamned gypsum, and, if he has a problem with that, forget Ed Burke, too. The white American underclass is in thrall to a vicious, selfish culture whose main products are misery and used heroin needles. Donald Trump’s speeches make them feel good. So does OxyContin. What they need isn’t analgesics, literal or political. They need real opportunity, which means that they need real change, which means that they need  . If you want to live, get out of Garbutt.,',\n",
              " ' US Civil Rights Commission Will Observe Standing Rock\\xa0Standoff  WASHINGTON  —   The US Commission on Civil Rights will send a delegation to visit the campsite in North Dakota, where hundreds of people have gathered to protest the building of the Dakota Access Pipeline. The goal is to meet with tribal leaders, water protectors, as well as state and government authorities. The commission is the independent, bipartisan federal civil rights watchdog group, established by the 1957 Civil Rights Act. “That has become the seminal issue of the day when it comes to Native American rights,” commission chair Martin Castro, who will travel to Standing Rock, told BuzzFeed News. “This is to me the closest thing to what we’ve done since the time that we would go down in the 1960s to the Jim Crow South, to examine what’s going on on the ground, on an open active issue, where there is engagement between the community and the government. ” Commissioners voted in a Friday meeting to make the trip, after David Archambault II, chairman of the Standing Rock Sioux tribe, sent a letter inviting the commission to visit. The observers intend to travel there early next week. The commission is currently researching an update to its 2003 report, “Unmet Needs,” that examines Native American life as well as the government’s stewardship of the communities and their lands. “We cannot as a commission be looking at civil rights for Native Americans and unmet needs in Indian Country in the 21st century without now looking at what’s going on in Standing Rock,” Castro said. “Ideally we’d want to observe and meet with all parties involved, from the Army Corps of engineers to the protestor who just got hit with the water cannon,” Castro said. “Hopefully we will not only write a report about what we’ve seen, but also   with players involved to see how matters may be improved. ”The visit follows two weeks of mounting tensions at Standing Rock. On November 21, police drenched protestors with water cannons in frigid temperatures, leading to the hospitalization of at least 17 people. The Army Corps of Engineers last Friday said that it intends to close lands that include the campsite by Dec. 5. On Monday, the North Dakota governor Jack Dalrymple issued an emergency evacuation order that called on protestors to vacate campsite, citing incoming cold weather. State officials have threatened to fine people traveling to the site. US Senator Corey Booker this week called for a Department of Justice investigation into the police actions in Standing Rock. In the past, police have used tear gas, rubber bullets, and police dogs against people who have gathered at the site. At least 2, 000 veterans plan to travel to the site this weekend, in solidarity with the movement.  ',\n",
              " 'Venezuela hunts rogue helicopter attackers, Maduro foes suspicious  The Venezuelan government hunted on Wednesday for rogue policemen who attacked key installations by helicopter, but critics of President Nicolas Maduro suspected the raid may have been staged to justify repression. In extraordinary scenes over Caracas around sunset on Tuesday, the stolen helicopter fired shots at the Interior Ministry and dropped grenades on the Supreme Court, both viewed by Venezuela’s opposition as bastions of support for a dictator. Nobody was injured. Officials said special forces were seeking Oscar Perez, 36, a police pilot named as the mastermind of the raid by the helicopter that carried a banner saying ”Freedom!” In 2015, Perez   and starred in ”Death Suspended,” an action film in which he played the lead role as a government agent rescuing a kidnapped businessman. There was no sign on Wednesday of Perez, whom officials condemned as a ”psychopath” but the helicopter was found on Venezuela’s northern Caribbean coastline. ”We ask for maximum support to find this fanatic, extremist terrorist,” vice president Tareck El Aissami said. The attack exacerbated an already   political crisis in Venezuela after three months of opposition protests demanding general elections and fixes for the sinking economy. At least 76 people have died in the unrest since April, the latest a    man shot in the head near a protest in the Petare slum of Caracas, authorities said on Wednesday.  Hundreds more people have been injured and arrested in what Maduro terms an ongoing coup attempt with U. S. encouragement. The attack fed a conspiracy theory by opposition supporters that it may have been a government setup and overshadowed other drama on Tuesday, including the besieging of opposition legislators by gangs in the National Assembly. The helicopter raid also coincided with a judicial measure weakening the powers of dissident chief state prosecutor Luisa Ortega, who has emerged as a major challenger to Maduro. ”It seems like a movie,” said Julio Borges, leader of the   legislature, of the helicopter raid. ”Some people say it is a   some that it is real . .. Yesterday was full of contradictions . .. A thousand things are happening, but I summarize it like this: a government is decaying and rotting, while a nation is fighting for dignity.”  Though Perez posted a video on social media showing himself in front of four hooded armed men and claiming to represent a coalition of security and civilian officials rising up against ”tyranny,” there was no evidence of deeper support.  ”CHEAP SHOW” The government, however, accused the policemen of links to the CIA and to Miguel Rodriguez, a former interior minister and intelligence chief under Maduro and his predecessor Hugo Chavez, who recently broke with the government. ”I’m not at all convinced by the helicopter incident,” Rodriguez told Reuters on Wednesday, saying the figures behind Perez in the video looked like dummies and expressing surprise the helicopter could fly freely and also not injure anyone. ”Conclusion: a cheap show. Who gains from this? Only Nicolas for two reasons: to give credibility to his coup d’etat talk, and to blame Rodriguez,” he added, referring to himself. Around the time of the attack, the   Supreme Court expanded the role of the state ombudsman, a human rights guarantor who is closely allied with Maduro, by giving him powers previously held only by the state prosecutor’s office.     Opposition leaders described that as an attempt to supplant chief prosecutor Ortega, who has confronted both Maduro and the Supreme Court this year after splitting ranks. The Supreme Court on Wednesday evening said it approved a measure blocking Ortega from leaving the country, freezing her bank accounts, and summoning her to a July 4 hearing to discuss whether she has committed ”serious offenses.”  Adding to Venezuela’s   atmosphere, opposition supporters again took to the streets nationwide on Wednesday to barricade roads.  One opposition lawmaker, Juan Guaido, filmed himself bleeding from wounds he said were inflicted by rubber bullets.  Opposition supporters hope that cracks within government may swing the crisis their way, and have been delighted to see heavyweights like Ortega and Rodriguez oppose Maduro. Their main focus is to stop a July 30 vote called by Maduro to form a   known as a Constituent Assembly, with powers to rewrite the constitution and supersede other institutions. Maduro says the assembly is the only way to bring peace to Venezuela, but opponents say it is a sham vote intended solely to keep an unpopular government in power.  ”We can’t let July 30 happen, we mustn’t,” said children’s health worker Rosa Toro, 52, blocking a road with friends. ”We’re being governed by criminals, traffickers and thieves,” added lawyer Matias Perez, 40, protesting with a plastic trumpet. Government officials lined up on Wednesday to condemn the helicopter attack, insisting it was the work of a few individuals and not representative of wider dissent.  Foreign Minister Samuel Moncada complained about the lack of international condemnation of the attack, saying it contrasted with the barrage of foreign criticism of the government. ”In Europe it’s now eight at night, but we’ve not had any reaction from European Union countries,” he said of a bloc that has been strongly critical of Maduro in recent months. The minister rejected accusations that the attack was carried out by the government for its own purposes.  ”Who can believe we are that sophisticated? Sending someone to throw grenades, who can believe that?” he asked.        (Additional reporting by Eyanir Chinea, Silene Ramirez, Brian Ellsworth, Herbert Villaraga, Diego Ore, Corina Pons and Girish Gupta; Editing by Jeffrey Benkoe and Andrew Hay) SEOUL North Korea said on Wednesday its newly developed intercontinental ballistic missile (ICBM) can carry a large nuclear warhead, triggering a call by Washington for global action to hold it accountable for pursuing nuclear weapons. WASHINGTON U. S. President Donald Trump will get a chance to patch up   ties this week when he meets with NATO allies still rattled by his failure on an earlier trip to embrace the principle that an attack against one member is an attack against all. ',\n",
              " 'Fruit juice isn’t much better for you than soda. Let’s stop pretending otherwise.  One of the biggest public health wins of recent decades has been America’s slow shift away from soda.    With more awareness about the very strong correlation between guzzling sweet, fizzy drinks, and obesity and tooth decay, sales of beverages like   and Pepsi have slumped. But there’s pretty good evidence that Americans are still getting hoodwinked by juices and other sugary beverages.         ”Cola” refers to both   and   cola carbonates. ”Juice” covers all packaged juices from fruits or vegetables, including 100% juice, nectars ( % juice content) juice drinks (up to 24% juice content) and   drinks (no juice content). ”Sports and energy drinks” refers to drinks that promise to boost energy levels such as  Red Bull, Monster, and RockStar.    Check out this data from Euromonitor. Its analysis of US retail beverage sales over the past five years finds that while the soda category is shrinking, juice sales have held steady, and sales of energy and sports drinks have been growing. Here’s how the market looks in terms of volume (millions of liters) sold:         This article in BMJ Open demonstrated the extent of the problem: The researchers looked at how much of the American diet is composed of   foods and added sugars. They found that 58 percent of total energy intake  —   more than half of the calories Americans consume!  —   came from foods that are packed with lots of flavors, colors, and sweeteners. And almost 90 percent of the added sugars Americans consume came from heavily processed foods  —   the two main sources being soft drinks (17 percent) closely followed by fruit drinks (14 percent). (In this case, ”fruit drinks” refers to processed juices with added sugars.) To be clear: Soda remains a big public health threat. As Marion Nestle, a New York University professor and author of the new book Soda Politics. points out, ”Sales of [soda alternatives] are up, but not nearly so much as to compensate for the decline in Coke and Pepsi.” But the data suggests that Americans are finding new ways to pack calories into their diet through other sugary drinks. We should think of juice as soda without the fizz Most juices and sports drinks have as much or even more sugar than soda, as you can see in this chart from the Harvard School of Public Health:               You might think fruit juice is inherently healthier than soda because it comes from fruit. But that’s not always the case. I asked nutrition researchers this question, and they all pointed out that the sugar in fruit juice is more concentrated than it is in whole fruits. When you drink fruit juice, you get a mega dose of sugar the same way you do when you drink soda. ”Juices have some nutritional value when the sugars are not added. But people don’t drink all that much [natural fruit] juice  —   it’s too expensive. They drink juice drinks with added sugars,” said Nestle.  These juices drinks  —   like bottled cranberry or grape juices  —   are basically sugar water with artificial flavors and little nutritional benefit. And even pure fruit juices that deliver vitamins and nutrients  —   like freshly squeezed orange juice  —   also deliver a lot of calories and sugar.  That said, nutritionists aren’t arguing you have to avoid fruit juice entirely. Real fruit juices are nutritionally superior to sodas and can be part of a healthy diet  —   albeit in moderation, Nestle said. ”Juices, like any other source of liquid sugars, are best consumed in small amounts.”  We’re starting to tax soda  —   but not juice A handful of countries are moving to tax sugary drinks in an effort to fight obesity. But in some instances, the taxes continue to focus on soda, and overlook the huge quantities of sugar people are consuming in fruit juice. In Britain, for example, the government just announced a forthcoming sugary drinks tax  —   but it only applies to soft drinks with added sugar, and excludes all   beverages and fruit juices. (See the Treasury Department’s fact sheet on the soda tax). That means beverages like milkshakes and cranberry juices won’t be taxed even though they’re nearly as damaging to health from a nutrition standpoint.    Berkeley, California, has a tax on sugary drinks, but it also excludes sweetened milk products and 100 percent juices. Soda companies in the UK are considering legal action over the tax on the basis of discrimination, since the tax excludes other sugary drinks. They raise a fair point. If the taxes focused on sugar content and calories, many more beverage companies  —   makers of chocolate milk, energy drinks, and fruit juice  —   would be affected. But as Nestle pointed out, there are political reasons that doesn’t happen. ”A tax on sweetened milk,” she said, ”will bring down the wrath of the dairy industry, which no legislator wants to take on.” Correction: A previous version of this article incorrectly stated the details of exclusions on Berkeley’s soda tax.           ',\n",
              " 'Sessions won’t testify at congressional budget hearings but at Senate intelligence hearing instead  Attorney General Jeff Sessions, who had agreed to testify this week before the Senate and House appropriations committees about the Justice Department budget, wrote the chairmen of the committees Saturday and said he was sending his deputy to testify instead.  Sessions was scheduled to testify before Congress on Tuesday for the first time since he was confirmed as attorney general in February. In light of former FBI director James B. Comey’s testimony last week, Sessions was expected to get many questions from lawmakers about his contacts with Russian officials during the 2016 election campaign. Sessions wrote to the two chairmen that he would testify before the Senate Intelligence Committee on Tuesday instead. A Justice Department official said that committee hearing probably will be closed to the public.  In early March, The Washington Post reported that Sessions twice met with Russian Ambassador Sergey Kislyak during the campaign and did not disclose that to the Senate Judiciary Committee during his confirmation hearing in January. The next day, Sessions recused himself from the Russia investigation and said it would be overseen by his deputy attorney general, who last month appointed a special counsel to handle the probe.  [  Sessions recuses himself from Russia investigation probe]        (Victoria   Washington Post)   Sessions also was expected to get questions about his involvement in the firing of Comey and the news that he offered his resignation to President Trump at one point recently. “I previously accepted an invitation to testify on behalf of the Department of Justice before the House and Senate Appropriations Subcommittees about the department’s FY18 budget, which funds the department’s efforts in several important areas such as combating the opioid crisis and violent crime,” Sessions wrote to Sen. Richard C. Shelby ( .) chairman of the Appropriations subcommittee on commerce, justice, science and related agencies, and Rep. John Abney Culberson ( .) chairman of the House Appropriations subcommittee on commerce, justice, science and related agencies. “In light of reports regarding Mr. Comey’s recent testimony before the Senate Select Committee on Intelligence, it is important that I have an opportunity to address these matters in the appropriate forum,” Sessions wrote. “The Senate Intelligence Committee is the most appropriate forum for such matters, as it has been conducting an investigation and has access to relevant, classified information. ” Comey testified Thursday that the bureau had information about Sessions  —   before he recused himself from overseeing the investigation into Russian meddling in the 2016 election  —   that would have made it “problematic” for him to be involved in the probe.  [Comey said FBI information about Sessions would have made his involvement in Russia probe problematic]  Sessions wrote the chairmen that Deputy Attorney General Rod J. Rosenstein will take his place before both the House and Senate subcommittees to testify about the Justice Department’s budget.  Sessions said he was “pleased to accept” the invitation to appear before members of the Senate Select Committee on Tuesday. Spokesmen for the chairman and ranking minority member of the committee could not be reached to confirm whether the hearing will be open or closed to the public.       (Zoeann   Washington Post)   ']"
            ]
          },
          "metadata": {
            "tags": []
          },
          "execution_count": 13
        }
      ]
    },
    {
      "cell_type": "code",
      "metadata": {
        "id": "dH0EFhZAitgI",
        "colab_type": "code",
        "outputId": "e18047f6-a106-4fcd-ffcf-ba140e0370b5",
        "colab": {
          "base_uri": "https://localhost:8080/",
          "height": 34
        }
      },
      "source": [
        "len(small_text)"
      ],
      "execution_count": 14,
      "outputs": [
        {
          "output_type": "execute_result",
          "data": {
            "text/plain": [
              "13000"
            ]
          },
          "metadata": {
            "tags": []
          },
          "execution_count": 14
        }
      ]
    },
    {
      "cell_type": "markdown",
      "metadata": {
        "id": "e4K6F7sfBPF6",
        "colab_type": "text"
      },
      "source": [
        "## Clustering with tf-idf, k-means, and k-nn\n",
        "\n",
        "\n",
        "*   create tf-idf features\n",
        "*   cluster with k-means\n",
        "*   predidct with k-nn\n",
        "\n",
        "\n"
      ]
    },
    {
      "cell_type": "markdown",
      "metadata": {
        "id": "d_ZMQTurrcB3",
        "colab_type": "text"
      },
      "source": [
        "### Create Matrix of TF-IDF Features"
      ]
    },
    {
      "cell_type": "code",
      "metadata": {
        "id": "2hMvyiEgMB9s",
        "colab_type": "code",
        "colab": {}
      },
      "source": [
        "def preprocess_text(text):\n",
        "\n",
        "  # function to remove punctuation \n",
        "  def Punctuation(string): \n",
        "    return re.sub(r'[\\W_]', ' ', string)\n",
        "\n",
        "  # remove punctuation and perform tokenization\n",
        "  text = Punctuation(text.lower()).split()\n",
        "\n",
        "  # remove stop words and stem\n",
        "  stop_words = set(stopwords.words('english'))\n",
        "  stemmer = SnowballStemmer(\"english\")\n",
        "  text = Parallel(n_jobs=16)(delayed(stemmer.stem)(t) for t in text if not t in stop_words)\n",
        "\n",
        "  return text\n"
      ],
      "execution_count": 0,
      "outputs": []
    },
    {
      "cell_type": "code",
      "metadata": {
        "id": "BlMVZ3R6m3u4",
        "colab_type": "code",
        "colab": {}
      },
      "source": [
        "# instantiate tfidf vectorizer \n",
        "tfidf_vectorizer = TfidfVectorizer(max_features=5000, stop_words='english', use_idf=True, tokenizer=preprocess_text, ngram_range=(1,3))"
      ],
      "execution_count": 0,
      "outputs": []
    },
    {
      "cell_type": "code",
      "metadata": {
        "id": "ERDwOvRIqOzz",
        "colab_type": "code",
        "colab": {}
      },
      "source": [
        "# fit small_text to vectorizer (fit and transform)\n",
        "tfidf_matrix = tfidf_vectorizer.fit_transform(small_text)\n",
        "print(tfidf_matrix.shape)"
      ],
      "execution_count": 0,
      "outputs": []
    },
    {
      "cell_type": "code",
      "metadata": {
        "id": "qQdkuVXpsGS4",
        "colab_type": "code",
        "colab": {}
      },
      "source": [
        "# reduce memory \n",
        "tfidf_matrix = tfidf_matrix.astype(np.float32)"
      ],
      "execution_count": 0,
      "outputs": []
    },
    {
      "cell_type": "markdown",
      "metadata": {
        "id": "buQTeidTrTdd",
        "colab_type": "text"
      },
      "source": [
        "### Run K-Means Clustering "
      ]
    },
    {
      "cell_type": "code",
      "metadata": {
        "id": "qZOcpt_JzrJ5",
        "colab_type": "code",
        "colab": {}
      },
      "source": [
        "# set 25 clusters\n",
        "num_clusters = 25\n",
        "\n",
        "# instantiate k-means (set seed to 10)\n",
        "km = KMeans(n_clusters=num_clusters, random_state=10)\n",
        "\n",
        "# fit tf-idf features to k-means\n",
        "km.fit(tfidf_matrix)\n",
        "\n",
        "# list of cluster assignments \n",
        "clusters = km.labels_.tolist()"
      ],
      "execution_count": 0,
      "outputs": []
    },
    {
      "cell_type": "code",
      "metadata": {
        "id": "PGgSlunJBdyB",
        "colab_type": "code",
        "colab": {}
      },
      "source": [
        "# cosine similarities for each row with respective cluster center\n",
        "def cluster_sim(i, label):\n",
        " return cosine_similarity(tfidf_matrix[i].toarray(), km.cluster_centers_[label].reshape(1, -1))[0][0]\n",
        "\n",
        "cos_sim = Parallel(n_jobs=16)(delayed(cluster_sim)(i, label) for i,label in enumerate(km.labels_))"
      ],
      "execution_count": 0,
      "outputs": []
    },
    {
      "cell_type": "code",
      "metadata": {
        "id": "ZvAUqB9N89BL",
        "colab_type": "code",
        "colab": {}
      },
      "source": [
        "# sum of squared distances of samples to their closest cluster center.\n",
        "km.inertia_"
      ],
      "execution_count": 0,
      "outputs": []
    },
    {
      "cell_type": "code",
      "metadata": {
        "id": "N7g5G8jD6KMT",
        "colab_type": "code",
        "colab": {}
      },
      "source": [
        "# dataframe with title, cluster, and cosine similarity \n",
        "title_data = pd.DataFrame({'title':small_data.title, 'cluster':clusters, 'cos_sim':cos_sim})\n",
        "\n",
        "title_data.shape"
      ],
      "execution_count": 0,
      "outputs": []
    },
    {
      "cell_type": "code",
      "metadata": {
        "id": "W0jSRaADmGRv",
        "colab_type": "code",
        "colab": {}
      },
      "source": [
        "title_data.head()"
      ],
      "execution_count": 0,
      "outputs": []
    },
    {
      "cell_type": "code",
      "metadata": {
        "id": "BCKbniucOLbA",
        "colab_type": "code",
        "colab": {}
      },
      "source": [
        "# inspect titles with highest cosine similarity in clusters \n",
        "top_5 = title_data.groupby('cluster')['cos_sim'].nlargest(5)\n",
        "for i,ind in top_5.index:\n",
        "  print(\"cluster\", i)\n",
        "  print(just_titles[ind])\n",
        "  print('-------------')"
      ],
      "execution_count": 0,
      "outputs": []
    },
    {
      "cell_type": "markdown",
      "metadata": {
        "id": "AgFJfTEFwFDo",
        "colab_type": "text"
      },
      "source": [
        "### Predict Cluster of Input"
      ]
    },
    {
      "cell_type": "code",
      "metadata": {
        "id": "szMoBqi1wSuD",
        "colab_type": "code",
        "colab": {}
      },
      "source": [
        "input_topic = [\"Hillary Clinton defends handling of Benghazi attack\", \"Women's March Highlights\", \"Hillary Clinton emails\"]"
      ],
      "execution_count": 0,
      "outputs": []
    },
    {
      "cell_type": "code",
      "metadata": {
        "id": "Y4feyPvMwObG",
        "colab_type": "code",
        "colab": {}
      },
      "source": [
        "# run tfidf vectorizer on input (transform)\n",
        "tfidf_input = tfidf_vectorizer.transform(input_topic)\n",
        "\n",
        "# function to make tfidf features into list for k-nn \n",
        "def make_list(features, i): \n",
        "  return features.getrow(i).toarray()[0].tolist()\n",
        "\n",
        "# make list of tfidf_input\n",
        "tfidf_input = Parallel(n_jobs=16)(delayed(make_list)(tfidf_input, i) for i in range(tfidf_input.shape[0]))"
      ],
      "execution_count": 0,
      "outputs": []
    },
    {
      "cell_type": "code",
      "metadata": {
        "id": "pWK5pgF-s8JX",
        "colab_type": "code",
        "colab": {}
      },
      "source": [
        "# make list of tfidf_matrix\n",
        "tfidf_list = Parallel(n_jobs=16)(delayed(make_list)(tfidf_matrix, i) for i in range(tfidf_matrix.shape[0]))\n"
      ],
      "execution_count": 0,
      "outputs": []
    },
    {
      "cell_type": "code",
      "metadata": {
        "id": "hcdaRmCDlnXt",
        "colab_type": "code",
        "colab": {}
      },
      "source": [
        "np.random.seed(5)\n",
        "X_train = tfidf_list\n",
        "y_train = title_data.cluster\n",
        "X_test  = tfidf_input\n",
        "\n",
        "# create and fit a nearest-neighbor classifier\n",
        "from sklearn.neighbors import KNeighborsClassifier\n",
        "knn = KNeighborsClassifier()\n",
        "knn.fit(X_train, y_train) \n",
        "\n",
        "res = knn.predict(X_test)"
      ],
      "execution_count": 0,
      "outputs": []
    },
    {
      "cell_type": "code",
      "metadata": {
        "id": "AuXKhKub7Ov_",
        "colab_type": "code",
        "colab": {}
      },
      "source": [
        "print(res)"
      ],
      "execution_count": 0,
      "outputs": []
    },
    {
      "cell_type": "code",
      "metadata": {
        "id": "yR_arJegAV15",
        "colab_type": "code",
        "colab": {}
      },
      "source": [
        "for i,ind in top_5.index:\n",
        "  if (i==8) | (i==11):\n",
        "    print(\"cluster\", i)\n",
        "    print(just_titles[ind])\n",
        "    print('-------------')\n",
        "\n",
        "# [\"Hillary Clinton defends handling of Benghazi attack\", \"Women's March Highlights\", \"Hillary Clinton emails\"]"
      ],
      "execution_count": 0,
      "outputs": []
    },
    {
      "cell_type": "code",
      "metadata": {
        "id": "waw-GjFzpNET",
        "colab_type": "code",
        "colab": {}
      },
      "source": [
        ""
      ],
      "execution_count": 0,
      "outputs": []
    },
    {
      "cell_type": "markdown",
      "metadata": {
        "id": "tK-5qkWX0fcK",
        "colab_type": "text"
      },
      "source": [
        "## Clustering with the Universal Sentence Encoder \n",
        "\n",
        "run seperately from tf-idf"
      ]
    },
    {
      "cell_type": "markdown",
      "metadata": {
        "id": "dPzMmZWiCT4C",
        "colab_type": "text"
      },
      "source": [
        "### Create Embeddings on Training Data"
      ]
    },
    {
      "cell_type": "code",
      "metadata": {
        "id": "c1szPzWf0ohZ",
        "colab_type": "code",
        "colab": {}
      },
      "source": [
        "# load the Universal Sentence Encoder's TF Hub module\n",
        "\n",
        "#module_url = \"https://tfhub.dev/google/universal-sentence-encoder/4\" #param [\"https://tfhub.dev/google/universal-sentence-encoder/4\", \"https://tfhub.dev/google/universal-sentence-encoder-large/5\"]\n",
        "#model = hub.load(module_url)\n",
        "#print (\"module %s loaded\" % module_url)\n",
        "\n",
        "# download model from https://tfhub.dev/google/universal-sentence-encoder/4 and save locally \n",
        "model = hub.load(\"w266/finalproj/tmp\")\n"
      ],
      "execution_count": 0,
      "outputs": []
    },
    {
      "cell_type": "code",
      "metadata": {
        "id": "I89VehR_0osy",
        "colab_type": "code",
        "colab": {}
      },
      "source": [
        "# reduce logging output\n",
        "logging.set_verbosity(logging.ERROR)\n",
        "\n",
        "# compute a representation for each article\n",
        "small_embeddings = model(small_text)"
      ],
      "execution_count": 0,
      "outputs": []
    },
    {
      "cell_type": "code",
      "metadata": {
        "id": "yQIBcTS88NEu",
        "colab_type": "code",
        "colab": {}
      },
      "source": [
        "# semantic similarity of two sentences can be trivially computed as the inner product of the encodings\n",
        "corr = np.inner(small_embeddings, small_embeddings)"
      ],
      "execution_count": 0,
      "outputs": []
    },
    {
      "cell_type": "code",
      "metadata": {
        "id": "3Nn_UqU_AxFN",
        "colab_type": "code",
        "outputId": "c009b803-397a-47b6-d181-4aacdd4059fa",
        "colab": {
          "base_uri": "https://localhost:8080/",
          "height": 984
        }
      },
      "source": [
        "# data frame of titles and semantic similarities\n",
        "corr_df = pd.DataFrame(corr)\n",
        "corr_df.columns = just_titles\n",
        "corr_df.index = just_titles\n",
        "\n",
        "corr_df.head()"
      ],
      "execution_count": 18,
      "outputs": [
        {
          "output_type": "execute_result",
          "data": {
            "text/plain": [
              "                                                    Chaos in the Family, Chaos in the State: The White Working Class’s Dysfunction  \\\n",
              "Chaos in the Family, Chaos in the State: The Wh...                                           1.000000                                \n",
              " US Civil Rights Commission Will Observe Standi...                                           0.291457                                \n",
              "Venezuela hunts rogue helicopter attackers, Mad...                                           0.336936                                \n",
              "Fruit juice isn’t much better for you than soda...                                           0.256971                                \n",
              "Sessions won’t testify at congressional budget ...                                           0.181461                                \n",
              "\n",
              "                                                     US Civil Rights Commission Will Observe Standing Rock Standoff  \\\n",
              "Chaos in the Family, Chaos in the State: The Wh...                                           0.291457                 \n",
              " US Civil Rights Commission Will Observe Standi...                                           1.000000                 \n",
              "Venezuela hunts rogue helicopter attackers, Mad...                                           0.543982                 \n",
              "Fruit juice isn’t much better for you than soda...                                           0.109070                 \n",
              "Sessions won’t testify at congressional budget ...                                           0.411541                 \n",
              "\n",
              "                                                    Venezuela hunts rogue helicopter attackers, Maduro foes suspicious  \\\n",
              "Chaos in the Family, Chaos in the State: The Wh...                                           0.336936                    \n",
              " US Civil Rights Commission Will Observe Standi...                                           0.543982                    \n",
              "Venezuela hunts rogue helicopter attackers, Mad...                                           1.000000                    \n",
              "Fruit juice isn’t much better for you than soda...                                           0.106961                    \n",
              "Sessions won’t testify at congressional budget ...                                           0.405647                    \n",
              "\n",
              "                                                    Fruit juice isn’t much better for you than soda. Let’s stop pretending otherwise.  \\\n",
              "Chaos in the Family, Chaos in the State: The Wh...                                           0.256971                                   \n",
              " US Civil Rights Commission Will Observe Standi...                                           0.109070                                   \n",
              "Venezuela hunts rogue helicopter attackers, Mad...                                           0.106961                                   \n",
              "Fruit juice isn’t much better for you than soda...                                           1.000000                                   \n",
              "Sessions won’t testify at congressional budget ...                                           0.052951                                   \n",
              "\n",
              "                                                    Sessions won’t testify at congressional budget hearings but at Senate intelligence hearing instead  \\\n",
              "Chaos in the Family, Chaos in the State: The Wh...                                           0.181461                                                    \n",
              " US Civil Rights Commission Will Observe Standi...                                           0.411541                                                    \n",
              "Venezuela hunts rogue helicopter attackers, Mad...                                           0.405647                                                    \n",
              "Fruit juice isn’t much better for you than soda...                                           0.052951                                                    \n",
              "Sessions won’t testify at congressional budget ...                                           1.000000                                                    \n",
              "\n",
              "                                                    Qatar: UAE and Saudi Arabia step up pressure in diplomatic crisis  \\\n",
              "Chaos in the Family, Chaos in the State: The Wh...                                           0.282036                   \n",
              " US Civil Rights Commission Will Observe Standi...                                           0.422529                   \n",
              "Venezuela hunts rogue helicopter attackers, Mad...                                           0.540752                   \n",
              "Fruit juice isn’t much better for you than soda...                                           0.109257                   \n",
              "Sessions won’t testify at congressional budget ...                                           0.384612                   \n",
              "\n",
              "                                                    ’The 4-Hour Workweek’ author says a 3-step process he learned from Tony Robbins drastically improved his life  \\\n",
              "Chaos in the Family, Chaos in the State: The Wh...                                           0.389552                                                               \n",
              " US Civil Rights Commission Will Observe Standi...                                           0.224046                                                               \n",
              "Venezuela hunts rogue helicopter attackers, Mad...                                           0.184615                                                               \n",
              "Fruit juice isn’t much better for you than soda...                                           0.242693                                                               \n",
              "Sessions won’t testify at congressional budget ...                                           0.176325                                                               \n",
              "\n",
              "                                                    Rick Perry Attacked for Keeping His Word  \\\n",
              "Chaos in the Family, Chaos in the State: The Wh...                                  0.316919   \n",
              " US Civil Rights Commission Will Observe Standi...                                  0.271750   \n",
              "Venezuela hunts rogue helicopter attackers, Mad...                                  0.287032   \n",
              "Fruit juice isn’t much better for you than soda...                                  0.108912   \n",
              "Sessions won’t testify at congressional budget ...                                  0.368784   \n",
              "\n",
              "                                                    Watch how a mathematician explains an astonishing coincidence  \\\n",
              "Chaos in the Family, Chaos in the State: The Wh...                                           0.289691               \n",
              " US Civil Rights Commission Will Observe Standi...                                           0.141546               \n",
              "Venezuela hunts rogue helicopter attackers, Mad...                                           0.161188               \n",
              "Fruit juice isn’t much better for you than soda...                                           0.146040               \n",
              "Sessions won’t testify at congressional budget ...                                           0.109351               \n",
              "\n",
              "                                                    Second baby bald eagle begins hatching process at National Arboretum  \\\n",
              "Chaos in the Family, Chaos in the State: The Wh...                                           0.295462                      \n",
              " US Civil Rights Commission Will Observe Standi...                                           0.381025                      \n",
              "Venezuela hunts rogue helicopter attackers, Mad...                                           0.340552                      \n",
              "Fruit juice isn’t much better for you than soda...                                           0.155383                      \n",
              "Sessions won’t testify at congressional budget ...                                           0.225344                      \n",
              "\n",
              "                                                    ...  \\\n",
              "Chaos in the Family, Chaos in the State: The Wh...  ...   \n",
              " US Civil Rights Commission Will Observe Standi...  ...   \n",
              "Venezuela hunts rogue helicopter attackers, Mad...  ...   \n",
              "Fruit juice isn’t much better for you than soda...  ...   \n",
              "Sessions won’t testify at congressional budget ...  ...   \n",
              "\n",
              "                                                    McDonald’s, Chick-fil-A, and Subway are making changes to profit off the shifting definition of ’healthy’  \\\n",
              "Chaos in the Family, Chaos in the State: The Wh...                                           0.217885                                                           \n",
              " US Civil Rights Commission Will Observe Standi...                                           0.059385                                                           \n",
              "Venezuela hunts rogue helicopter attackers, Mad...                                           0.084700                                                           \n",
              "Fruit juice isn’t much better for you than soda...                                           0.344664                                                           \n",
              "Sessions won’t testify at congressional budget ...                                           0.033626                                                           \n",
              "\n",
              "                                                    Bernie says the AP twisted his ‘messy’ convention prediction  \\\n",
              "Chaos in the Family, Chaos in the State: The Wh...                                           0.347041              \n",
              " US Civil Rights Commission Will Observe Standi...                                           0.298766              \n",
              "Venezuela hunts rogue helicopter attackers, Mad...                                           0.344075              \n",
              "Fruit juice isn’t much better for you than soda...                                           0.227382              \n",
              "Sessions won’t testify at congressional budget ...                                           0.316896              \n",
              "\n",
              "                                                     Nevada’s Joe Heck Aims to Keep the Senate Republican  \\\n",
              "Chaos in the Family, Chaos in the State: The Wh...                                           0.459125       \n",
              " US Civil Rights Commission Will Observe Standi...                                           0.349619       \n",
              "Venezuela hunts rogue helicopter attackers, Mad...                                           0.400919       \n",
              "Fruit juice isn’t much better for you than soda...                                           0.186247       \n",
              "Sessions won’t testify at congressional budget ...                                           0.351867       \n",
              "\n",
              "                                                    Donald Trump: John McCain and Lindsey Graham ‘Looking to Start World War III’  \\\n",
              "Chaos in the Family, Chaos in the State: The Wh...                                           0.317545                               \n",
              " US Civil Rights Commission Will Observe Standi...                                           0.275823                               \n",
              "Venezuela hunts rogue helicopter attackers, Mad...                                           0.310918                               \n",
              "Fruit juice isn’t much better for you than soda...                                           0.101332                               \n",
              "Sessions won’t testify at congressional budget ...                                           0.394767                               \n",
              "\n",
              "                                                    Radiohead Announces New Album, Hear Another New Song  \\\n",
              "Chaos in the Family, Chaos in the State: The Wh...                                           0.065338      \n",
              " US Civil Rights Commission Will Observe Standi...                                           0.209703      \n",
              "Venezuela hunts rogue helicopter attackers, Mad...                                           0.255471      \n",
              "Fruit juice isn’t much better for you than soda...                                           0.064881      \n",
              "Sessions won’t testify at congressional budget ...                                           0.222523      \n",
              "\n",
              "                                                    Roger Federer and Rafael Nadal roll back years for unexpected encore  \\\n",
              "Chaos in the Family, Chaos in the State: The Wh...                                           0.159626                      \n",
              " US Civil Rights Commission Will Observe Standi...                                           0.112333                      \n",
              "Venezuela hunts rogue helicopter attackers, Mad...                                           0.267033                      \n",
              "Fruit juice isn’t much better for you than soda...                                           0.121565                      \n",
              "Sessions won’t testify at congressional budget ...                                           0.173553                      \n",
              "\n",
              "                                                    Why voters like She’s Not Trump  \\\n",
              "Chaos in the Family, Chaos in the State: The Wh...                         0.458244   \n",
              " US Civil Rights Commission Will Observe Standi...                         0.268490   \n",
              "Venezuela hunts rogue helicopter attackers, Mad...                         0.259199   \n",
              "Fruit juice isn’t much better for you than soda...                         0.248952   \n",
              "Sessions won’t testify at congressional budget ...                         0.287082   \n",
              "\n",
              "                                                    Advanced Placement Tests To Hide History of Religion and Islamic Jihad in Europe   \\\n",
              "Chaos in the Family, Chaos in the State: The Wh...                                           0.456367                                   \n",
              " US Civil Rights Commission Will Observe Standi...                                           0.271677                                   \n",
              "Venezuela hunts rogue helicopter attackers, Mad...                                           0.362642                                   \n",
              "Fruit juice isn’t much better for you than soda...                                           0.207817                                   \n",
              "Sessions won’t testify at congressional budget ...                                           0.243409                                   \n",
              "\n",
              "                                                    Little Simz  \\\n",
              "Chaos in the Family, Chaos in the State: The Wh...     0.228482   \n",
              " US Civil Rights Commission Will Observe Standi...     0.186528   \n",
              "Venezuela hunts rogue helicopter attackers, Mad...     0.265640   \n",
              "Fruit juice isn’t much better for you than soda...     0.171043   \n",
              "Sessions won’t testify at congressional budget ...     0.216823   \n",
              "\n",
              "                                                    Wilhelmina to feature transgender model this fall  \n",
              "Chaos in the Family, Chaos in the State: The Wh...                                           0.326126  \n",
              " US Civil Rights Commission Will Observe Standi...                                           0.228896  \n",
              "Venezuela hunts rogue helicopter attackers, Mad...                                           0.168313  \n",
              "Fruit juice isn’t much better for you than soda...                                           0.204495  \n",
              "Sessions won’t testify at congressional budget ...                                           0.191981  \n",
              "\n",
              "[5 rows x 13000 columns]"
            ],
            "text/html": [
              "<div>\n",
              "<style scoped>\n",
              "    .dataframe tbody tr th:only-of-type {\n",
              "        vertical-align: middle;\n",
              "    }\n",
              "\n",
              "    .dataframe tbody tr th {\n",
              "        vertical-align: top;\n",
              "    }\n",
              "\n",
              "    .dataframe thead th {\n",
              "        text-align: right;\n",
              "    }\n",
              "</style>\n",
              "<table border=\"1\" class=\"dataframe\">\n",
              "  <thead>\n",
              "    <tr style=\"text-align: right;\">\n",
              "      <th></th>\n",
              "      <th>Chaos in the Family, Chaos in the State: The White Working Class’s Dysfunction</th>\n",
              "      <th>US Civil Rights Commission Will Observe Standing Rock Standoff</th>\n",
              "      <th>Venezuela hunts rogue helicopter attackers, Maduro foes suspicious</th>\n",
              "      <th>Fruit juice isn’t much better for you than soda. Let’s stop pretending otherwise.</th>\n",
              "      <th>Sessions won’t testify at congressional budget hearings but at Senate intelligence hearing instead</th>\n",
              "      <th>Qatar: UAE and Saudi Arabia step up pressure in diplomatic crisis</th>\n",
              "      <th>’The 4-Hour Workweek’ author says a 3-step process he learned from Tony Robbins drastically improved his life</th>\n",
              "      <th>Rick Perry Attacked for Keeping His Word</th>\n",
              "      <th>Watch how a mathematician explains an astonishing coincidence</th>\n",
              "      <th>Second baby bald eagle begins hatching process at National Arboretum</th>\n",
              "      <th>...</th>\n",
              "      <th>McDonald’s, Chick-fil-A, and Subway are making changes to profit off the shifting definition of ’healthy’</th>\n",
              "      <th>Bernie says the AP twisted his ‘messy’ convention prediction</th>\n",
              "      <th>Nevada’s Joe Heck Aims to Keep the Senate Republican</th>\n",
              "      <th>Donald Trump: John McCain and Lindsey Graham ‘Looking to Start World War III’</th>\n",
              "      <th>Radiohead Announces New Album, Hear Another New Song</th>\n",
              "      <th>Roger Federer and Rafael Nadal roll back years for unexpected encore</th>\n",
              "      <th>Why voters like She’s Not Trump</th>\n",
              "      <th>Advanced Placement Tests To Hide History of Religion and Islamic Jihad in Europe</th>\n",
              "      <th>Little Simz</th>\n",
              "      <th>Wilhelmina to feature transgender model this fall</th>\n",
              "    </tr>\n",
              "  </thead>\n",
              "  <tbody>\n",
              "    <tr>\n",
              "      <td>Chaos in the Family, Chaos in the State: The White Working Class’s Dysfunction</td>\n",
              "      <td>1.000000</td>\n",
              "      <td>0.291457</td>\n",
              "      <td>0.336936</td>\n",
              "      <td>0.256971</td>\n",
              "      <td>0.181461</td>\n",
              "      <td>0.282036</td>\n",
              "      <td>0.389552</td>\n",
              "      <td>0.316919</td>\n",
              "      <td>0.289691</td>\n",
              "      <td>0.295462</td>\n",
              "      <td>...</td>\n",
              "      <td>0.217885</td>\n",
              "      <td>0.347041</td>\n",
              "      <td>0.459125</td>\n",
              "      <td>0.317545</td>\n",
              "      <td>0.065338</td>\n",
              "      <td>0.159626</td>\n",
              "      <td>0.458244</td>\n",
              "      <td>0.456367</td>\n",
              "      <td>0.228482</td>\n",
              "      <td>0.326126</td>\n",
              "    </tr>\n",
              "    <tr>\n",
              "      <td>US Civil Rights Commission Will Observe Standing Rock Standoff</td>\n",
              "      <td>0.291457</td>\n",
              "      <td>1.000000</td>\n",
              "      <td>0.543982</td>\n",
              "      <td>0.109070</td>\n",
              "      <td>0.411541</td>\n",
              "      <td>0.422529</td>\n",
              "      <td>0.224046</td>\n",
              "      <td>0.271750</td>\n",
              "      <td>0.141546</td>\n",
              "      <td>0.381025</td>\n",
              "      <td>...</td>\n",
              "      <td>0.059385</td>\n",
              "      <td>0.298766</td>\n",
              "      <td>0.349619</td>\n",
              "      <td>0.275823</td>\n",
              "      <td>0.209703</td>\n",
              "      <td>0.112333</td>\n",
              "      <td>0.268490</td>\n",
              "      <td>0.271677</td>\n",
              "      <td>0.186528</td>\n",
              "      <td>0.228896</td>\n",
              "    </tr>\n",
              "    <tr>\n",
              "      <td>Venezuela hunts rogue helicopter attackers, Maduro foes suspicious</td>\n",
              "      <td>0.336936</td>\n",
              "      <td>0.543982</td>\n",
              "      <td>1.000000</td>\n",
              "      <td>0.106961</td>\n",
              "      <td>0.405647</td>\n",
              "      <td>0.540752</td>\n",
              "      <td>0.184615</td>\n",
              "      <td>0.287032</td>\n",
              "      <td>0.161188</td>\n",
              "      <td>0.340552</td>\n",
              "      <td>...</td>\n",
              "      <td>0.084700</td>\n",
              "      <td>0.344075</td>\n",
              "      <td>0.400919</td>\n",
              "      <td>0.310918</td>\n",
              "      <td>0.255471</td>\n",
              "      <td>0.267033</td>\n",
              "      <td>0.259199</td>\n",
              "      <td>0.362642</td>\n",
              "      <td>0.265640</td>\n",
              "      <td>0.168313</td>\n",
              "    </tr>\n",
              "    <tr>\n",
              "      <td>Fruit juice isn’t much better for you than soda. Let’s stop pretending otherwise.</td>\n",
              "      <td>0.256971</td>\n",
              "      <td>0.109070</td>\n",
              "      <td>0.106961</td>\n",
              "      <td>1.000000</td>\n",
              "      <td>0.052951</td>\n",
              "      <td>0.109257</td>\n",
              "      <td>0.242693</td>\n",
              "      <td>0.108912</td>\n",
              "      <td>0.146040</td>\n",
              "      <td>0.155383</td>\n",
              "      <td>...</td>\n",
              "      <td>0.344664</td>\n",
              "      <td>0.227382</td>\n",
              "      <td>0.186247</td>\n",
              "      <td>0.101332</td>\n",
              "      <td>0.064881</td>\n",
              "      <td>0.121565</td>\n",
              "      <td>0.248952</td>\n",
              "      <td>0.207817</td>\n",
              "      <td>0.171043</td>\n",
              "      <td>0.204495</td>\n",
              "    </tr>\n",
              "    <tr>\n",
              "      <td>Sessions won’t testify at congressional budget hearings but at Senate intelligence hearing instead</td>\n",
              "      <td>0.181461</td>\n",
              "      <td>0.411541</td>\n",
              "      <td>0.405647</td>\n",
              "      <td>0.052951</td>\n",
              "      <td>1.000000</td>\n",
              "      <td>0.384612</td>\n",
              "      <td>0.176325</td>\n",
              "      <td>0.368784</td>\n",
              "      <td>0.109351</td>\n",
              "      <td>0.225344</td>\n",
              "      <td>...</td>\n",
              "      <td>0.033626</td>\n",
              "      <td>0.316896</td>\n",
              "      <td>0.351867</td>\n",
              "      <td>0.394767</td>\n",
              "      <td>0.222523</td>\n",
              "      <td>0.173553</td>\n",
              "      <td>0.287082</td>\n",
              "      <td>0.243409</td>\n",
              "      <td>0.216823</td>\n",
              "      <td>0.191981</td>\n",
              "    </tr>\n",
              "  </tbody>\n",
              "</table>\n",
              "<p>5 rows × 13000 columns</p>\n",
              "</div>"
            ]
          },
          "metadata": {
            "tags": []
          },
          "execution_count": 18
        }
      ]
    },
    {
      "cell_type": "code",
      "metadata": {
        "id": "BzfcHB1YBFd-",
        "colab_type": "code",
        "outputId": "11383c3d-eb85-48aa-b33f-ffcf918ead5d",
        "colab": {
          "base_uri": "https://localhost:8080/",
          "height": 442
        }
      },
      "source": [
        "# function to return the column index of the top five values in a row of a dataframe\n",
        "def find_top5ind(df, i):\n",
        "  return list(list(zip(*heapq.nlargest(5, enumerate(df.iloc[i,:]), key=operator.itemgetter(1))))[0])\n",
        "\n",
        "# function to return the top 5 values in a list\n",
        "def find_top5(lst, ind):\n",
        "  return [lst[i] for i in ind]\n",
        "\n",
        "# find index of 5 most similar titles \n",
        "top5_ind = Parallel(n_jobs=16)(delayed(find_top5ind)(corr_df, i) for i in range(len(corr_df)))\n",
        "\n",
        "# show most similar titles -- sanity check\n",
        "top5 = Parallel(n_jobs=16)(delayed(find_top5)(just_titles, ind) for ind in top5_ind)\n",
        "\n",
        "top5[:5]"
      ],
      "execution_count": 44,
      "outputs": [
        {
          "output_type": "execute_result",
          "data": {
            "text/plain": [
              "[['Chaos in the Family, Chaos in the State: The White Working Class’s Dysfunction',\n",
              "  'After Trump, conservatives should stop longing for the past — and learn a little humility',\n",
              "  'The alt-right is more than warmed-over white supremacy. It’s that, but way way weirder.',\n",
              "  'The Return of ‘Street Corner Conservatism’',\n",
              "  'Liberals should get behind marriage (Opinion)'],\n",
              " [' US Civil Rights Commission Will Observe Standing Rock\\xa0Standoff',\n",
              "  ' Cory Booker Calls For Federal Investigation Into Police Tactics At Dakota Access\\xa0Pipeline',\n",
              "  'Army will close Dakota pipeline protesters’ campsite, Sioux leader\\xa0says',\n",
              "  'Dakota Access Pipeline protest site is cleared',\n",
              "  'Protesters, Police Still Clashing Over Disputed North Dakota Pipeline'],\n",
              " ['Venezuela hunts rogue helicopter attackers, Maduro foes suspicious',\n",
              "  'Venezuelan opposition blocks streets to protest Maduro power shakeup',\n",
              "  'Protester dies, minister sacked after Paraguay re-election vote',\n",
              "  'Venezuela Erupts In ’Mother Of All Protests’ As Anti-Maduro Sentiment Seethes',\n",
              "  'Confusion In Venezuela After Helicopter Attack On Supreme Court'],\n",
              " ['Fruit juice isn’t much better for you than soda. Let’s stop pretending otherwise.',\n",
              "  'Souring On Sweet? Voters In 4 Cities Pass Soda Tax Measures',\n",
              "  'Tax Soda To Fight Obesity, WHO Urges Nations Around The Globe',\n",
              "  'How The Food Industry Manipulates Taste Buds With ’Salt Sugar Fat’',\n",
              "  ' Nutrition Labels Will Now Show Calories For The Whole Tub Of Ice\\xa0Cream'],\n",
              " ['Sessions won’t testify at congressional budget hearings but at Senate intelligence hearing instead',\n",
              "  'Feinstein calls for investigation of ’all matters related to obstruction of justice’',\n",
              "  'Jeff Sessions Pushes Back On Parts Of Comey’s Testimony',\n",
              "  'Top Democrat calls for investigation of Loretta Lynch’s Clinton\\xa0probe',\n",
              "  ' Jeff Sessions Recuses Himself From Any Federal Investigation Into The Presidential Election']]"
            ]
          },
          "metadata": {
            "tags": []
          },
          "execution_count": 44
        }
      ]
    },
    {
      "cell_type": "markdown",
      "metadata": {
        "id": "0BoZUgwkSxqv",
        "colab_type": "text"
      },
      "source": [
        "### Assign Cluster to Input"
      ]
    },
    {
      "cell_type": "code",
      "metadata": {
        "id": "dR1IAgUzpzx_",
        "colab_type": "code",
        "colab": {}
      },
      "source": [
        "# examples of user given inputs\n",
        "input_topic = [\"Hillary Clinton defends handling of Benghazi attack\", \"Women's March Highlights\", \"Hillary Clinton emails\"]\n",
        "\n",
        "# compute a representation for each input\n",
        "input_embeddings = model(input_topic)"
      ],
      "execution_count": 0,
      "outputs": []
    },
    {
      "cell_type": "code",
      "metadata": {
        "id": "gTCA7uDVqTBs",
        "colab_type": "code",
        "colab": {}
      },
      "source": [
        "# semantic similarity between inputs and training articles\n",
        "inp_corr = np.inner(input_embeddings, small_embeddings)"
      ],
      "execution_count": 0,
      "outputs": []
    },
    {
      "cell_type": "code",
      "metadata": {
        "id": "4yXrp2mjqZjV",
        "colab_type": "code",
        "outputId": "6bcd8b66-5583-46dc-c189-697f3d43ebc4",
        "colab": {
          "base_uri": "https://localhost:8080/",
          "height": 548
        }
      },
      "source": [
        "# data frame of titles and semantic similarities\n",
        "inp_df = pd.DataFrame(inp_corr)\n",
        "inp_df.columns = just_titles\n",
        "inp_df.index = input_topic\n",
        "\n",
        "inp_df"
      ],
      "execution_count": 22,
      "outputs": [
        {
          "output_type": "execute_result",
          "data": {
            "text/plain": [
              "                                                    Chaos in the Family, Chaos in the State: The White Working Class’s Dysfunction  \\\n",
              "Hillary Clinton defends handling of Benghazi at...                                           0.019261                                \n",
              "Women's March Highlights                                                                     0.045296                                \n",
              "Hillary Clinton emails                                                                       0.036642                                \n",
              "\n",
              "                                                     US Civil Rights Commission Will Observe Standing Rock Standoff  \\\n",
              "Hillary Clinton defends handling of Benghazi at...                                           0.135737                 \n",
              "Women's March Highlights                                                                     0.119294                 \n",
              "Hillary Clinton emails                                                                       0.032883                 \n",
              "\n",
              "                                                    Venezuela hunts rogue helicopter attackers, Maduro foes suspicious  \\\n",
              "Hillary Clinton defends handling of Benghazi at...                                           0.213940                    \n",
              "Women's March Highlights                                                                    -0.000519                    \n",
              "Hillary Clinton emails                                                                       0.058746                    \n",
              "\n",
              "                                                    Fruit juice isn’t much better for you than soda. Let’s stop pretending otherwise.  \\\n",
              "Hillary Clinton defends handling of Benghazi at...                                          -0.040233                                   \n",
              "Women's March Highlights                                                                     0.065587                                   \n",
              "Hillary Clinton emails                                                                       0.017771                                   \n",
              "\n",
              "                                                    Sessions won’t testify at congressional budget hearings but at Senate intelligence hearing instead  \\\n",
              "Hillary Clinton defends handling of Benghazi at...                                           0.270479                                                    \n",
              "Women's March Highlights                                                                     0.049757                                                    \n",
              "Hillary Clinton emails                                                                       0.199208                                                    \n",
              "\n",
              "                                                    Qatar: UAE and Saudi Arabia step up pressure in diplomatic crisis  \\\n",
              "Hillary Clinton defends handling of Benghazi at...                                           0.242178                   \n",
              "Women's March Highlights                                                                    -0.028455                   \n",
              "Hillary Clinton emails                                                                       0.109163                   \n",
              "\n",
              "                                                    ’The 4-Hour Workweek’ author says a 3-step process he learned from Tony Robbins drastically improved his life  \\\n",
              "Hillary Clinton defends handling of Benghazi at...                                          -0.059264                                                               \n",
              "Women's March Highlights                                                                    -0.019417                                                               \n",
              "Hillary Clinton emails                                                                      -0.048110                                                               \n",
              "\n",
              "                                                    Rick Perry Attacked for Keeping His Word  \\\n",
              "Hillary Clinton defends handling of Benghazi at...                                  0.235375   \n",
              "Women's March Highlights                                                            0.070615   \n",
              "Hillary Clinton emails                                                              0.151369   \n",
              "\n",
              "                                                    Watch how a mathematician explains an astonishing coincidence  \\\n",
              "Hillary Clinton defends handling of Benghazi at...                                           0.039634               \n",
              "Women's March Highlights                                                                     0.004875               \n",
              "Hillary Clinton emails                                                                       0.013369               \n",
              "\n",
              "                                                    Second baby bald eagle begins hatching process at National Arboretum  \\\n",
              "Hillary Clinton defends handling of Benghazi at...                                           0.098044                      \n",
              "Women's March Highlights                                                                     0.166220                      \n",
              "Hillary Clinton emails                                                                       0.053923                      \n",
              "\n",
              "                                                    ...  \\\n",
              "Hillary Clinton defends handling of Benghazi at...  ...   \n",
              "Women's March Highlights                            ...   \n",
              "Hillary Clinton emails                              ...   \n",
              "\n",
              "                                                    McDonald’s, Chick-fil-A, and Subway are making changes to profit off the shifting definition of ’healthy’  \\\n",
              "Hillary Clinton defends handling of Benghazi at...                                           0.077255                                                           \n",
              "Women's March Highlights                                                                     0.006225                                                           \n",
              "Hillary Clinton emails                                                                       0.073164                                                           \n",
              "\n",
              "                                                    Bernie says the AP twisted his ‘messy’ convention prediction  \\\n",
              "Hillary Clinton defends handling of Benghazi at...                                           0.288595              \n",
              "Women's March Highlights                                                                     0.128500              \n",
              "Hillary Clinton emails                                                                       0.322738              \n",
              "\n",
              "                                                     Nevada’s Joe Heck Aims to Keep the Senate Republican  \\\n",
              "Hillary Clinton defends handling of Benghazi at...                                           0.195516       \n",
              "Women's March Highlights                                                                     0.060778       \n",
              "Hillary Clinton emails                                                                       0.131154       \n",
              "\n",
              "                                                    Donald Trump: John McCain and Lindsey Graham ‘Looking to Start World War III’  \\\n",
              "Hillary Clinton defends handling of Benghazi at...                                           0.280349                               \n",
              "Women's March Highlights                                                                     0.000330                               \n",
              "Hillary Clinton emails                                                                       0.256044                               \n",
              "\n",
              "                                                    Radiohead Announces New Album, Hear Another New Song  \\\n",
              "Hillary Clinton defends handling of Benghazi at...                                           0.027464      \n",
              "Women's March Highlights                                                                     0.051476      \n",
              "Hillary Clinton emails                                                                       0.063897      \n",
              "\n",
              "                                                    Roger Federer and Rafael Nadal roll back years for unexpected encore  \\\n",
              "Hillary Clinton defends handling of Benghazi at...                                           0.020349                      \n",
              "Women's March Highlights                                                                     0.025595                      \n",
              "Hillary Clinton emails                                                                       0.047353                      \n",
              "\n",
              "                                                    Why voters like She’s Not Trump  \\\n",
              "Hillary Clinton defends handling of Benghazi at...                         0.281599   \n",
              "Women's March Highlights                                                   0.123450   \n",
              "Hillary Clinton emails                                                     0.367134   \n",
              "\n",
              "                                                    Advanced Placement Tests To Hide History of Religion and Islamic Jihad in Europe   \\\n",
              "Hillary Clinton defends handling of Benghazi at...                                           0.114124                                   \n",
              "Women's March Highlights                                                                     0.030094                                   \n",
              "Hillary Clinton emails                                                                      -0.036238                                   \n",
              "\n",
              "                                                    Little Simz  \\\n",
              "Hillary Clinton defends handling of Benghazi at...     0.017507   \n",
              "Women's March Highlights                               0.040689   \n",
              "Hillary Clinton emails                                 0.014079   \n",
              "\n",
              "                                                    Wilhelmina to feature transgender model this fall  \n",
              "Hillary Clinton defends handling of Benghazi at...                                          -0.070851  \n",
              "Women's March Highlights                                                                     0.124655  \n",
              "Hillary Clinton emails                                                                       0.013729  \n",
              "\n",
              "[3 rows x 13000 columns]"
            ],
            "text/html": [
              "<div>\n",
              "<style scoped>\n",
              "    .dataframe tbody tr th:only-of-type {\n",
              "        vertical-align: middle;\n",
              "    }\n",
              "\n",
              "    .dataframe tbody tr th {\n",
              "        vertical-align: top;\n",
              "    }\n",
              "\n",
              "    .dataframe thead th {\n",
              "        text-align: right;\n",
              "    }\n",
              "</style>\n",
              "<table border=\"1\" class=\"dataframe\">\n",
              "  <thead>\n",
              "    <tr style=\"text-align: right;\">\n",
              "      <th></th>\n",
              "      <th>Chaos in the Family, Chaos in the State: The White Working Class’s Dysfunction</th>\n",
              "      <th>US Civil Rights Commission Will Observe Standing Rock Standoff</th>\n",
              "      <th>Venezuela hunts rogue helicopter attackers, Maduro foes suspicious</th>\n",
              "      <th>Fruit juice isn’t much better for you than soda. Let’s stop pretending otherwise.</th>\n",
              "      <th>Sessions won’t testify at congressional budget hearings but at Senate intelligence hearing instead</th>\n",
              "      <th>Qatar: UAE and Saudi Arabia step up pressure in diplomatic crisis</th>\n",
              "      <th>’The 4-Hour Workweek’ author says a 3-step process he learned from Tony Robbins drastically improved his life</th>\n",
              "      <th>Rick Perry Attacked for Keeping His Word</th>\n",
              "      <th>Watch how a mathematician explains an astonishing coincidence</th>\n",
              "      <th>Second baby bald eagle begins hatching process at National Arboretum</th>\n",
              "      <th>...</th>\n",
              "      <th>McDonald’s, Chick-fil-A, and Subway are making changes to profit off the shifting definition of ’healthy’</th>\n",
              "      <th>Bernie says the AP twisted his ‘messy’ convention prediction</th>\n",
              "      <th>Nevada’s Joe Heck Aims to Keep the Senate Republican</th>\n",
              "      <th>Donald Trump: John McCain and Lindsey Graham ‘Looking to Start World War III’</th>\n",
              "      <th>Radiohead Announces New Album, Hear Another New Song</th>\n",
              "      <th>Roger Federer and Rafael Nadal roll back years for unexpected encore</th>\n",
              "      <th>Why voters like She’s Not Trump</th>\n",
              "      <th>Advanced Placement Tests To Hide History of Religion and Islamic Jihad in Europe</th>\n",
              "      <th>Little Simz</th>\n",
              "      <th>Wilhelmina to feature transgender model this fall</th>\n",
              "    </tr>\n",
              "  </thead>\n",
              "  <tbody>\n",
              "    <tr>\n",
              "      <td>Hillary Clinton defends handling of Benghazi attack</td>\n",
              "      <td>0.019261</td>\n",
              "      <td>0.135737</td>\n",
              "      <td>0.213940</td>\n",
              "      <td>-0.040233</td>\n",
              "      <td>0.270479</td>\n",
              "      <td>0.242178</td>\n",
              "      <td>-0.059264</td>\n",
              "      <td>0.235375</td>\n",
              "      <td>0.039634</td>\n",
              "      <td>0.098044</td>\n",
              "      <td>...</td>\n",
              "      <td>0.077255</td>\n",
              "      <td>0.288595</td>\n",
              "      <td>0.195516</td>\n",
              "      <td>0.280349</td>\n",
              "      <td>0.027464</td>\n",
              "      <td>0.020349</td>\n",
              "      <td>0.281599</td>\n",
              "      <td>0.114124</td>\n",
              "      <td>0.017507</td>\n",
              "      <td>-0.070851</td>\n",
              "    </tr>\n",
              "    <tr>\n",
              "      <td>Women's March Highlights</td>\n",
              "      <td>0.045296</td>\n",
              "      <td>0.119294</td>\n",
              "      <td>-0.000519</td>\n",
              "      <td>0.065587</td>\n",
              "      <td>0.049757</td>\n",
              "      <td>-0.028455</td>\n",
              "      <td>-0.019417</td>\n",
              "      <td>0.070615</td>\n",
              "      <td>0.004875</td>\n",
              "      <td>0.166220</td>\n",
              "      <td>...</td>\n",
              "      <td>0.006225</td>\n",
              "      <td>0.128500</td>\n",
              "      <td>0.060778</td>\n",
              "      <td>0.000330</td>\n",
              "      <td>0.051476</td>\n",
              "      <td>0.025595</td>\n",
              "      <td>0.123450</td>\n",
              "      <td>0.030094</td>\n",
              "      <td>0.040689</td>\n",
              "      <td>0.124655</td>\n",
              "    </tr>\n",
              "    <tr>\n",
              "      <td>Hillary Clinton emails</td>\n",
              "      <td>0.036642</td>\n",
              "      <td>0.032883</td>\n",
              "      <td>0.058746</td>\n",
              "      <td>0.017771</td>\n",
              "      <td>0.199208</td>\n",
              "      <td>0.109163</td>\n",
              "      <td>-0.048110</td>\n",
              "      <td>0.151369</td>\n",
              "      <td>0.013369</td>\n",
              "      <td>0.053923</td>\n",
              "      <td>...</td>\n",
              "      <td>0.073164</td>\n",
              "      <td>0.322738</td>\n",
              "      <td>0.131154</td>\n",
              "      <td>0.256044</td>\n",
              "      <td>0.063897</td>\n",
              "      <td>0.047353</td>\n",
              "      <td>0.367134</td>\n",
              "      <td>-0.036238</td>\n",
              "      <td>0.014079</td>\n",
              "      <td>0.013729</td>\n",
              "    </tr>\n",
              "  </tbody>\n",
              "</table>\n",
              "<p>3 rows × 13000 columns</p>\n",
              "</div>"
            ]
          },
          "metadata": {
            "tags": []
          },
          "execution_count": 22
        }
      ]
    },
    {
      "cell_type": "code",
      "metadata": {
        "id": "YbSILk45qv0L",
        "colab_type": "code",
        "outputId": "bad39b2d-8d9d-45b1-e8c9-381cd87e187b",
        "colab": {
          "base_uri": "https://localhost:8080/",
          "height": 272
        }
      },
      "source": [
        "# find index of 5 most similar titles \n",
        "top5_ind = Parallel(n_jobs=16)(delayed(find_top5ind)(inp_df, i) for i in range(len(inp_df)))\n",
        "\n",
        "# show most similar titles -- final clusters\n",
        "top5 = Parallel(n_jobs=16)(delayed(find_top5)(just_titles, ind) for ind in top5_ind)\n",
        "\n",
        "top5[:5]\n",
        "# topics: [\"Hillary Clinton defends handling of Benghazi attack\", \"Women's March Highlights\", \"Hillary Clinton emails\"]"
      ],
      "execution_count": 45,
      "outputs": [
        {
          "output_type": "execute_result",
          "data": {
            "text/plain": [
              "[['Benghazi may be over, but #Benghazi has a life of its own',\n",
              "  'Univision’s Ramos picked the wrong Benghazi question for Hillary Clinton',\n",
              "  'Donald Trump on Benghazi: ’Hillary Clinton Decided to Go Home and Sleep’ ',\n",
              "  'The GOP stoops for scandal',\n",
              "  'Exclusive - Sarah Palin: Administration Lies, Soldiers Die. Yes, Hillary, at Every Point ‘It Matters’ '],\n",
              " ['The Women’s March on Washington is becoming a\\xa0joke',\n",
              "  ' Women Share Why They Hit The Streets At The Sundance Women’s\\xa0March',\n",
              "  'Women will march on – What would a feminist do? podcast',\n",
              "  'The Exhausting Work of Tallying America’s Largest Protest',\n",
              "  'Women’s March organizers prepare for hundreds of thousands of protesters'],\n",
              " ['Donald Trump: ’Good Job, Huma. Thank you, Anthony Weiner’ ',\n",
              "  'Fox News anchor grills Hillary Clinton on her email scandal',\n",
              "  'Hillary Clinton’s email problems might be even worse than we thought',\n",
              "  'Hillary Clinton pal Neera Tanden’s greatest hits from WikiLeaks emails',\n",
              "  'Hillary Clinton Deleted More Emails Than She Sent to the State Department ']]"
            ]
          },
          "metadata": {
            "tags": []
          },
          "execution_count": 45
        }
      ]
    },
    {
      "cell_type": "code",
      "metadata": {
        "id": "h5Y4qit2rHJ_",
        "colab_type": "code",
        "colab": {
          "base_uri": "https://localhost:8080/",
          "height": 68
        },
        "outputId": "36b8fe27-0201-423c-b075-ac210c2bad9d"
      },
      "source": [
        "# index of most similar titles \n",
        "top5id = Parallel(n_jobs=16)(delayed(find_top5)(id_list, ind) for ind in top5_ind)\n",
        "\n",
        "top5id[:5]"
      ],
      "execution_count": 47,
      "outputs": [
        {
          "output_type": "execute_result",
          "data": {
            "text/plain": [
              "[[152203, 210482, 47436, 213302, 39123],\n",
              " [122748, 103164, 149141, 73686, 147468],\n",
              " [40299, 68550, 213322, 86663, 44841]]"
            ]
          },
          "metadata": {
            "tags": []
          },
          "execution_count": 47
        }
      ]
    },
    {
      "cell_type": "code",
      "metadata": {
        "id": "YXNyS0i7YaHO",
        "colab_type": "code",
        "colab": {}
      },
      "source": [
        "# cleaned text for clusters \n",
        "top5text = Parallel(n_jobs=16)(delayed(find_top5)(small_text, ind) for ind in top5_ind)\n",
        "\n",
        "top5text[:5]"
      ],
      "execution_count": 0,
      "outputs": []
    },
    {
      "cell_type": "markdown",
      "metadata": {
        "id": "qHmgcv1HIXol",
        "colab_type": "text"
      },
      "source": [
        "### Output Clusters"
      ]
    },
    {
      "cell_type": "code",
      "metadata": {
        "id": "ySnuQITiIWqf",
        "colab_type": "code",
        "colab": {}
      },
      "source": [
        "# first example: \"Hillary Clinton defends handling of Benghazi attack\"\n",
        "cluster1 = small_data.iloc[[i in top5id[0] for i in small_data.id]]\n",
        "text1_df = pd.DataFrame({'id':top5id[0], 'text':top5text[0]})\n",
        "cluster1 = cluster1.merge(text1_df, on='id')\n",
        "\n",
        "# second example: \"Women's March Highlights\"\n",
        "cluster2 = small_data.iloc[[i in top5id[1] for i in small_data.id]]\n",
        "text2_df = pd.DataFrame({'id':top5id[1], 'text':top5text[1]})\n",
        "cluster2 = cluster2.merge(text2_df, on='id')\n",
        "\n",
        "# third example: \"Hillary Clinton emails\"\n",
        "cluster3 = small_data.iloc[[i in top5id[2] for i in small_data.id]]\n",
        "text3_df = pd.DataFrame({'id':top5id[2], 'text':top5text[2]})\n",
        "cluster3 = cluster3.merge(text3_df, on='id')"
      ],
      "execution_count": 0,
      "outputs": []
    },
    {
      "cell_type": "code",
      "metadata": {
        "id": "PKDdi7B-My6z",
        "colab_type": "code",
        "colab": {}
      },
      "source": [
        "# save each cluster data to csv\n",
        "cluster1.to_csv(\"w266/finalproj/clusters/cluster1.csv\", index=False)\n",
        "cluster2.to_csv(\"w266/finalproj/clusters/cluster2.csv\", index=False)\n",
        "cluster3.to_csv(\"w266/finalproj/clusters/cluster3.csv\", index=False)"
      ],
      "execution_count": 0,
      "outputs": []
    },
    {
      "cell_type": "markdown",
      "metadata": {
        "id": "Nxz6ruD2pOQ_",
        "colab_type": "text"
      },
      "source": [
        "#### Sanity Check to see if individual vs mass inputs create different embeddings -- NO"
      ]
    },
    {
      "cell_type": "code",
      "metadata": {
        "id": "Qd5T0SESnsNr",
        "colab_type": "code",
        "colab": {}
      },
      "source": [
        "a = model([\"hi my name is emma\"])\n",
        "b = model([\"nice to meet you\"])\n",
        "c = model([\"hi what's your name\"])"
      ],
      "execution_count": 0,
      "outputs": []
    },
    {
      "cell_type": "code",
      "metadata": {
        "id": "kWwl5j7_n4Uq",
        "colab_type": "code",
        "colab": {}
      },
      "source": [
        "d = model([\"hi my name is emma\", \"nice to meet you\", \"hi what's your name\"])"
      ],
      "execution_count": 0,
      "outputs": []
    },
    {
      "cell_type": "code",
      "metadata": {
        "id": "WR5AvYhaoPQx",
        "colab_type": "code",
        "colab": {}
      },
      "source": [
        "e = np.concatenate((a, b, c))"
      ],
      "execution_count": 0,
      "outputs": []
    },
    {
      "cell_type": "code",
      "metadata": {
        "id": "iDEafG2DoWiS",
        "colab_type": "code",
        "colab": {}
      },
      "source": [
        "f = np.array(d)"
      ],
      "execution_count": 0,
      "outputs": []
    },
    {
      "cell_type": "code",
      "metadata": {
        "id": "I1MtlmAaoq3U",
        "colab_type": "code",
        "colab": {}
      },
      "source": [
        "np.inner(e, e)"
      ],
      "execution_count": 0,
      "outputs": []
    },
    {
      "cell_type": "code",
      "metadata": {
        "id": "HvCWvQALpcu9",
        "colab_type": "code",
        "colab": {}
      },
      "source": [
        "np.inner(f, f)"
      ],
      "execution_count": 0,
      "outputs": []
    },
    {
      "cell_type": "code",
      "metadata": {
        "id": "UzG8RSFIpmY1",
        "colab_type": "code",
        "colab": {}
      },
      "source": [
        ""
      ],
      "execution_count": 0,
      "outputs": []
    },
    {
      "cell_type": "code",
      "metadata": {
        "id": "3f9C7R5CUTgs",
        "colab_type": "code",
        "colab": {}
      },
      "source": [
        ""
      ],
      "execution_count": 0,
      "outputs": []
    }
  ]
}