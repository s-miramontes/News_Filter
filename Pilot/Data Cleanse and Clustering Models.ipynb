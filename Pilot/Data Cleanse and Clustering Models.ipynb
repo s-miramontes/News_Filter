{
  "nbformat": 4,
  "nbformat_minor": 0,
  "metadata": {
    "kernelspec": {
      "name": "python3",
      "display_name": "Python 3"
    },
    "language_info": {
      "codemirror_mode": {
        "name": "ipython",
        "version": 3
      },
      "file_extension": ".py",
      "mimetype": "text/x-python",
      "name": "python",
      "nbconvert_exporter": "python",
      "pygments_lexer": "ipython3",
      "version": "3.7.3"
    },
    "colab": {
      "name": "Data Cleanse and Clustering Models.ipynb",
      "provenance": [],
      "machine_shape": "hm",
      "include_colab_link": true
    },
    "accelerator": "TPU"
  },
  "cells": [
    {
      "cell_type": "markdown",
      "metadata": {
        "id": "view-in-github",
        "colab_type": "text"
      },
      "source": [
        "<a href=\"https://colab.research.google.com/github/s-miramontes/News_Filter/blob/silvia/Pilot/Data%20Cleanse%20and%20Clustering%20Models.ipynb\" target=\"_parent\"><img src=\"https://colab.research.google.com/assets/colab-badge.svg\" alt=\"Open In Colab\"/></a>"
      ]
    },
    {
      "cell_type": "markdown",
      "metadata": {
        "id": "XcKFzFa9rw7L",
        "colab_type": "text"
      },
      "source": [
        "# Clustering News Headlines\n",
        "\n",
        "In this notebook we begin by importing data to analyze its contents and to determine the best clustering algorithm to determine the articles that are most related to each other. "
      ]
    },
    {
      "cell_type": "markdown",
      "metadata": {
        "id": "9_yv0Wugrw7Q",
        "colab_type": "text"
      },
      "source": [
        "We start by importing some dependencies and downloading libraries"
      ]
    },
    {
      "cell_type": "code",
      "metadata": {
        "id": "nMXlP5VTfMDZ",
        "colab_type": "code",
        "colab": {}
      },
      "source": [
        "%%capture\n",
        "# Install the latest Tensorflow version.\n",
        "!pip3 install --upgrade tensorflow-gpu\n",
        "# Install TF-Hub.\n",
        "!pip3 install tensorflow-hub\n",
        "!pip3 install seaborn"
      ],
      "execution_count": 0,
      "outputs": []
    },
    {
      "cell_type": "code",
      "metadata": {
        "id": "qfPkC9ajrw7S",
        "colab_type": "code",
        "outputId": "003990ff-42fb-46f7-bcf7-d2fa8ab6200d",
        "colab": {
          "base_uri": "https://localhost:8080/",
          "height": 69
        }
      },
      "source": [
        "import os\n",
        "\n",
        "import numpy as np\n",
        "import pandas as pd\n",
        "\n",
        "import nltk\n",
        "from nltk.corpus import stopwords\n",
        "nltk.download('stopwords')\n",
        "from nltk.stem.snowball import SnowballStemmer\n",
        "import re\n",
        "\n",
        "from sklearn.feature_extraction.text import TfidfVectorizer\n",
        "\n",
        "from sklearn.cluster import KMeans\n",
        "\n",
        "from sklearn.metrics.pairwise import cosine_similarity\n",
        "\n",
        "from absl import logging\n",
        "\n",
        "import tensorflow as tf\n",
        "import tensorflow_hub as hub\n",
        "\n",
        "import heapq\n",
        "import operator\n",
        "\n",
        "from math import sqrt\n",
        "from joblib import Parallel, delayed\n"
      ],
      "execution_count": 1,
      "outputs": [
        {
          "output_type": "stream",
          "text": [
            "[nltk_data] Downloading package stopwords to\n",
            "[nltk_data]     /home/silvsilva/nltk_data...\n",
            "[nltk_data]   Package stopwords is already up-to-date!\n"
          ],
          "name": "stderr"
        }
      ]
    },
    {
      "cell_type": "markdown",
      "metadata": {
        "id": "1vaQv_w0sd2J",
        "colab_type": "text"
      },
      "source": [
        "## Importing Data from Local File System\n",
        "\n",
        "Datasets are located here: https://www.kaggle.com/snapcrack/all-the-news/version/4#articles3.csv\n",
        "\n",
        "Proceed to download all three 'csv' files, and store them in a 'data' directory at the location of your choice.\n"
      ]
    },
    {
      "cell_type": "code",
      "metadata": {
        "id": "LWGIyGKy_ohe",
        "colab_type": "code",
        "colab": {}
      },
      "source": [
        "articles_3 = pd.read_csv('data/articles3.csv')\n",
        "articles_2 = pd.read_csv('data/articles2.csv')\n",
        "articles_1 = pd.read_csv('data/articles1.csv')"
      ],
      "execution_count": 0,
      "outputs": []
    },
    {
      "cell_type": "code",
      "metadata": {
        "id": "BMp3ER1V_oZW",
        "colab_type": "code",
        "outputId": "e3696eb0-3a90-468f-e94b-ebcb236c9152",
        "colab": {
          "base_uri": "https://localhost:8080/",
          "height": 475
        }
      },
      "source": [
        "articles_3.head()"
      ],
      "execution_count": 0,
      "outputs": [
        {
          "output_type": "execute_result",
          "data": {
            "text/plain": [
              "   Unnamed: 0      id                                              title  \\\n",
              "0      103459  151908  Alton Sterling’s son: ’Everyone needs to prote...   \n",
              "1      103460  151909  Shakespeare’s first four folios sell at auctio...   \n",
              "2      103461  151910  My grandmother’s death saved me from a life of...   \n",
              "3      103462  151911  I feared my life lacked meaning. Cancer pushed...   \n",
              "4      103463  151912  Texas man serving life sentence innocent of do...   \n",
              "\n",
              "  publication          author        date    year  month  \\\n",
              "0    Guardian  Jessica Glenza  2016-07-13  2016.0    7.0   \n",
              "1    Guardian             NaN  2016-05-25  2016.0    5.0   \n",
              "2    Guardian   Robert Pendry  2016-10-31  2016.0   10.0   \n",
              "3    Guardian  Bradford Frost  2016-11-26  2016.0   11.0   \n",
              "4    Guardian             NaN  2016-08-20  2016.0    8.0   \n",
              "\n",
              "                                                 url  \\\n",
              "0  https://www.theguardian.com/us-news/2016/jul/1...   \n",
              "1  https://www.theguardian.com/culture/2016/may/2...   \n",
              "2  https://www.theguardian.com/commentisfree/2016...   \n",
              "3  https://www.theguardian.com/commentisfree/2016...   \n",
              "4  https://www.theguardian.com/us-news/2016/aug/2...   \n",
              "\n",
              "                                             content  \n",
              "0  The son of a Louisiana man whose father was sh...  \n",
              "1  Copies of William Shakespeare’s first four boo...  \n",
              "2  Debt: $20, 000, Source: College, credit cards,...  \n",
              "3  It was late. I was drunk, nearing my 35th birt...  \n",
              "4  A central Texas man serving a life sentence fo...  "
            ],
            "text/html": [
              "<div>\n",
              "<style scoped>\n",
              "    .dataframe tbody tr th:only-of-type {\n",
              "        vertical-align: middle;\n",
              "    }\n",
              "\n",
              "    .dataframe tbody tr th {\n",
              "        vertical-align: top;\n",
              "    }\n",
              "\n",
              "    .dataframe thead th {\n",
              "        text-align: right;\n",
              "    }\n",
              "</style>\n",
              "<table border=\"1\" class=\"dataframe\">\n",
              "  <thead>\n",
              "    <tr style=\"text-align: right;\">\n",
              "      <th></th>\n",
              "      <th>Unnamed: 0</th>\n",
              "      <th>id</th>\n",
              "      <th>title</th>\n",
              "      <th>publication</th>\n",
              "      <th>author</th>\n",
              "      <th>date</th>\n",
              "      <th>year</th>\n",
              "      <th>month</th>\n",
              "      <th>url</th>\n",
              "      <th>content</th>\n",
              "    </tr>\n",
              "  </thead>\n",
              "  <tbody>\n",
              "    <tr>\n",
              "      <th>0</th>\n",
              "      <td>103459</td>\n",
              "      <td>151908</td>\n",
              "      <td>Alton Sterling’s son: ’Everyone needs to prote...</td>\n",
              "      <td>Guardian</td>\n",
              "      <td>Jessica Glenza</td>\n",
              "      <td>2016-07-13</td>\n",
              "      <td>2016.0</td>\n",
              "      <td>7.0</td>\n",
              "      <td>https://www.theguardian.com/us-news/2016/jul/1...</td>\n",
              "      <td>The son of a Louisiana man whose father was sh...</td>\n",
              "    </tr>\n",
              "    <tr>\n",
              "      <th>1</th>\n",
              "      <td>103460</td>\n",
              "      <td>151909</td>\n",
              "      <td>Shakespeare’s first four folios sell at auctio...</td>\n",
              "      <td>Guardian</td>\n",
              "      <td>NaN</td>\n",
              "      <td>2016-05-25</td>\n",
              "      <td>2016.0</td>\n",
              "      <td>5.0</td>\n",
              "      <td>https://www.theguardian.com/culture/2016/may/2...</td>\n",
              "      <td>Copies of William Shakespeare’s first four boo...</td>\n",
              "    </tr>\n",
              "    <tr>\n",
              "      <th>2</th>\n",
              "      <td>103461</td>\n",
              "      <td>151910</td>\n",
              "      <td>My grandmother’s death saved me from a life of...</td>\n",
              "      <td>Guardian</td>\n",
              "      <td>Robert Pendry</td>\n",
              "      <td>2016-10-31</td>\n",
              "      <td>2016.0</td>\n",
              "      <td>10.0</td>\n",
              "      <td>https://www.theguardian.com/commentisfree/2016...</td>\n",
              "      <td>Debt: $20, 000, Source: College, credit cards,...</td>\n",
              "    </tr>\n",
              "    <tr>\n",
              "      <th>3</th>\n",
              "      <td>103462</td>\n",
              "      <td>151911</td>\n",
              "      <td>I feared my life lacked meaning. Cancer pushed...</td>\n",
              "      <td>Guardian</td>\n",
              "      <td>Bradford Frost</td>\n",
              "      <td>2016-11-26</td>\n",
              "      <td>2016.0</td>\n",
              "      <td>11.0</td>\n",
              "      <td>https://www.theguardian.com/commentisfree/2016...</td>\n",
              "      <td>It was late. I was drunk, nearing my 35th birt...</td>\n",
              "    </tr>\n",
              "    <tr>\n",
              "      <th>4</th>\n",
              "      <td>103463</td>\n",
              "      <td>151912</td>\n",
              "      <td>Texas man serving life sentence innocent of do...</td>\n",
              "      <td>Guardian</td>\n",
              "      <td>NaN</td>\n",
              "      <td>2016-08-20</td>\n",
              "      <td>2016.0</td>\n",
              "      <td>8.0</td>\n",
              "      <td>https://www.theguardian.com/us-news/2016/aug/2...</td>\n",
              "      <td>A central Texas man serving a life sentence fo...</td>\n",
              "    </tr>\n",
              "  </tbody>\n",
              "</table>\n",
              "</div>"
            ]
          },
          "metadata": {
            "tags": []
          },
          "execution_count": 3
        }
      ]
    },
    {
      "cell_type": "code",
      "metadata": {
        "id": "bWjyZH92_oFe",
        "colab_type": "code",
        "outputId": "e0c86375-176d-4418-b99b-c2e4c62286c8",
        "colab": {
          "base_uri": "https://localhost:8080/",
          "height": 302
        }
      },
      "source": [
        "articles_2.head()"
      ],
      "execution_count": 0,
      "outputs": [
        {
          "output_type": "execute_result",
          "data": {
            "text/plain": [
              "   Unnamed: 0     id                                              title  \\\n",
              "0       53293  73471  Patriots Day Is Best When It Digs Past the Her...   \n",
              "1       53294  73472  A Break in the Search for the Origin of Comple...   \n",
              "2       53295  73474         Obama’s Ingenious Mention of Atticus Finch   \n",
              "3       53296  73475         Donald Trump Meets, and Assails, the Press   \n",
              "4       53297  73476               Trump: ’I Think’ Hacking Was Russian   \n",
              "\n",
              "  publication             author        date    year  month  url  \\\n",
              "0    Atlantic         David Sims  2017-01-11  2017.0    1.0  NaN   \n",
              "1    Atlantic            Ed Yong  2017-01-11  2017.0    1.0  NaN   \n",
              "2    Atlantic  Spencer Kornhaber  2017-01-11  2017.0    1.0  NaN   \n",
              "3    Atlantic    David A. Graham  2017-01-11  2017.0    1.0  NaN   \n",
              "4    Atlantic      Kaveh Waddell  2017-01-11  2017.0    1.0  NaN   \n",
              "\n",
              "                                             content  \n",
              "0  Patriots Day, Peter Berg’s new thriller that r...  \n",
              "1  In Norse mythology, humans and our world were ...  \n",
              "2  “If our democracy is to work in this increasin...  \n",
              "3  Updated on January 11 at 5:05 p. m. In his fir...  \n",
              "4  Updated at 12:25 p. m. After months of equivoc...  "
            ],
            "text/html": [
              "<div>\n",
              "<style scoped>\n",
              "    .dataframe tbody tr th:only-of-type {\n",
              "        vertical-align: middle;\n",
              "    }\n",
              "\n",
              "    .dataframe tbody tr th {\n",
              "        vertical-align: top;\n",
              "    }\n",
              "\n",
              "    .dataframe thead th {\n",
              "        text-align: right;\n",
              "    }\n",
              "</style>\n",
              "<table border=\"1\" class=\"dataframe\">\n",
              "  <thead>\n",
              "    <tr style=\"text-align: right;\">\n",
              "      <th></th>\n",
              "      <th>Unnamed: 0</th>\n",
              "      <th>id</th>\n",
              "      <th>title</th>\n",
              "      <th>publication</th>\n",
              "      <th>author</th>\n",
              "      <th>date</th>\n",
              "      <th>year</th>\n",
              "      <th>month</th>\n",
              "      <th>url</th>\n",
              "      <th>content</th>\n",
              "    </tr>\n",
              "  </thead>\n",
              "  <tbody>\n",
              "    <tr>\n",
              "      <th>0</th>\n",
              "      <td>53293</td>\n",
              "      <td>73471</td>\n",
              "      <td>Patriots Day Is Best When It Digs Past the Her...</td>\n",
              "      <td>Atlantic</td>\n",
              "      <td>David Sims</td>\n",
              "      <td>2017-01-11</td>\n",
              "      <td>2017.0</td>\n",
              "      <td>1.0</td>\n",
              "      <td>NaN</td>\n",
              "      <td>Patriots Day, Peter Berg’s new thriller that r...</td>\n",
              "    </tr>\n",
              "    <tr>\n",
              "      <th>1</th>\n",
              "      <td>53294</td>\n",
              "      <td>73472</td>\n",
              "      <td>A Break in the Search for the Origin of Comple...</td>\n",
              "      <td>Atlantic</td>\n",
              "      <td>Ed Yong</td>\n",
              "      <td>2017-01-11</td>\n",
              "      <td>2017.0</td>\n",
              "      <td>1.0</td>\n",
              "      <td>NaN</td>\n",
              "      <td>In Norse mythology, humans and our world were ...</td>\n",
              "    </tr>\n",
              "    <tr>\n",
              "      <th>2</th>\n",
              "      <td>53295</td>\n",
              "      <td>73474</td>\n",
              "      <td>Obama’s Ingenious Mention of Atticus Finch</td>\n",
              "      <td>Atlantic</td>\n",
              "      <td>Spencer Kornhaber</td>\n",
              "      <td>2017-01-11</td>\n",
              "      <td>2017.0</td>\n",
              "      <td>1.0</td>\n",
              "      <td>NaN</td>\n",
              "      <td>“If our democracy is to work in this increasin...</td>\n",
              "    </tr>\n",
              "    <tr>\n",
              "      <th>3</th>\n",
              "      <td>53296</td>\n",
              "      <td>73475</td>\n",
              "      <td>Donald Trump Meets, and Assails, the Press</td>\n",
              "      <td>Atlantic</td>\n",
              "      <td>David A. Graham</td>\n",
              "      <td>2017-01-11</td>\n",
              "      <td>2017.0</td>\n",
              "      <td>1.0</td>\n",
              "      <td>NaN</td>\n",
              "      <td>Updated on January 11 at 5:05 p. m. In his fir...</td>\n",
              "    </tr>\n",
              "    <tr>\n",
              "      <th>4</th>\n",
              "      <td>53297</td>\n",
              "      <td>73476</td>\n",
              "      <td>Trump: ’I Think’ Hacking Was Russian</td>\n",
              "      <td>Atlantic</td>\n",
              "      <td>Kaveh Waddell</td>\n",
              "      <td>2017-01-11</td>\n",
              "      <td>2017.0</td>\n",
              "      <td>1.0</td>\n",
              "      <td>NaN</td>\n",
              "      <td>Updated at 12:25 p. m. After months of equivoc...</td>\n",
              "    </tr>\n",
              "  </tbody>\n",
              "</table>\n",
              "</div>"
            ]
          },
          "metadata": {
            "tags": []
          },
          "execution_count": 4
        }
      ]
    },
    {
      "cell_type": "code",
      "metadata": {
        "id": "I2qaWd4A_nmv",
        "colab_type": "code",
        "outputId": "62452195-6c04-4fe6-a6bb-f55947186ab1",
        "colab": {
          "base_uri": "https://localhost:8080/",
          "height": 302
        }
      },
      "source": [
        "articles_1.head()"
      ],
      "execution_count": 0,
      "outputs": [
        {
          "output_type": "execute_result",
          "data": {
            "text/plain": [
              "   Unnamed: 0     id                                              title  \\\n",
              "0           0  17283  House Republicans Fret About Winning Their Hea...   \n",
              "1           1  17284  Rift Between Officers and Residents as Killing...   \n",
              "2           2  17285  Tyrus Wong, ‘Bambi’ Artist Thwarted by Racial ...   \n",
              "3           3  17286  Among Deaths in 2016, a Heavy Toll in Pop Musi...   \n",
              "4           4  17287  Kim Jong-un Says North Korea Is Preparing to T...   \n",
              "\n",
              "      publication                         author        date    year  month  \\\n",
              "0  New York Times                     Carl Hulse  2016-12-31  2016.0   12.0   \n",
              "1  New York Times  Benjamin Mueller and Al Baker  2017-06-19  2017.0    6.0   \n",
              "2  New York Times                   Margalit Fox  2017-01-06  2017.0    1.0   \n",
              "3  New York Times               William McDonald  2017-04-10  2017.0    4.0   \n",
              "4  New York Times                  Choe Sang-Hun  2017-01-02  2017.0    1.0   \n",
              "\n",
              "   url                                            content  \n",
              "0  NaN  WASHINGTON  —   Congressional Republicans have...  \n",
              "1  NaN  After the bullet shells get counted, the blood...  \n",
              "2  NaN  When Walt Disney’s “Bambi” opened in 1942, cri...  \n",
              "3  NaN  Death may be the great equalizer, but it isn’t...  \n",
              "4  NaN  SEOUL, South Korea  —   North Korea’s leader, ...  "
            ],
            "text/html": [
              "<div>\n",
              "<style scoped>\n",
              "    .dataframe tbody tr th:only-of-type {\n",
              "        vertical-align: middle;\n",
              "    }\n",
              "\n",
              "    .dataframe tbody tr th {\n",
              "        vertical-align: top;\n",
              "    }\n",
              "\n",
              "    .dataframe thead th {\n",
              "        text-align: right;\n",
              "    }\n",
              "</style>\n",
              "<table border=\"1\" class=\"dataframe\">\n",
              "  <thead>\n",
              "    <tr style=\"text-align: right;\">\n",
              "      <th></th>\n",
              "      <th>Unnamed: 0</th>\n",
              "      <th>id</th>\n",
              "      <th>title</th>\n",
              "      <th>publication</th>\n",
              "      <th>author</th>\n",
              "      <th>date</th>\n",
              "      <th>year</th>\n",
              "      <th>month</th>\n",
              "      <th>url</th>\n",
              "      <th>content</th>\n",
              "    </tr>\n",
              "  </thead>\n",
              "  <tbody>\n",
              "    <tr>\n",
              "      <th>0</th>\n",
              "      <td>0</td>\n",
              "      <td>17283</td>\n",
              "      <td>House Republicans Fret About Winning Their Hea...</td>\n",
              "      <td>New York Times</td>\n",
              "      <td>Carl Hulse</td>\n",
              "      <td>2016-12-31</td>\n",
              "      <td>2016.0</td>\n",
              "      <td>12.0</td>\n",
              "      <td>NaN</td>\n",
              "      <td>WASHINGTON  —   Congressional Republicans have...</td>\n",
              "    </tr>\n",
              "    <tr>\n",
              "      <th>1</th>\n",
              "      <td>1</td>\n",
              "      <td>17284</td>\n",
              "      <td>Rift Between Officers and Residents as Killing...</td>\n",
              "      <td>New York Times</td>\n",
              "      <td>Benjamin Mueller and Al Baker</td>\n",
              "      <td>2017-06-19</td>\n",
              "      <td>2017.0</td>\n",
              "      <td>6.0</td>\n",
              "      <td>NaN</td>\n",
              "      <td>After the bullet shells get counted, the blood...</td>\n",
              "    </tr>\n",
              "    <tr>\n",
              "      <th>2</th>\n",
              "      <td>2</td>\n",
              "      <td>17285</td>\n",
              "      <td>Tyrus Wong, ‘Bambi’ Artist Thwarted by Racial ...</td>\n",
              "      <td>New York Times</td>\n",
              "      <td>Margalit Fox</td>\n",
              "      <td>2017-01-06</td>\n",
              "      <td>2017.0</td>\n",
              "      <td>1.0</td>\n",
              "      <td>NaN</td>\n",
              "      <td>When Walt Disney’s “Bambi” opened in 1942, cri...</td>\n",
              "    </tr>\n",
              "    <tr>\n",
              "      <th>3</th>\n",
              "      <td>3</td>\n",
              "      <td>17286</td>\n",
              "      <td>Among Deaths in 2016, a Heavy Toll in Pop Musi...</td>\n",
              "      <td>New York Times</td>\n",
              "      <td>William McDonald</td>\n",
              "      <td>2017-04-10</td>\n",
              "      <td>2017.0</td>\n",
              "      <td>4.0</td>\n",
              "      <td>NaN</td>\n",
              "      <td>Death may be the great equalizer, but it isn’t...</td>\n",
              "    </tr>\n",
              "    <tr>\n",
              "      <th>4</th>\n",
              "      <td>4</td>\n",
              "      <td>17287</td>\n",
              "      <td>Kim Jong-un Says North Korea Is Preparing to T...</td>\n",
              "      <td>New York Times</td>\n",
              "      <td>Choe Sang-Hun</td>\n",
              "      <td>2017-01-02</td>\n",
              "      <td>2017.0</td>\n",
              "      <td>1.0</td>\n",
              "      <td>NaN</td>\n",
              "      <td>SEOUL, South Korea  —   North Korea’s leader, ...</td>\n",
              "    </tr>\n",
              "  </tbody>\n",
              "</table>\n",
              "</div>"
            ]
          },
          "metadata": {
            "tags": []
          },
          "execution_count": 5
        }
      ]
    },
    {
      "cell_type": "code",
      "metadata": {
        "id": "Q62vtXwaR9og",
        "colab_type": "code",
        "outputId": "30e44d11-a13d-4cc7-b78f-1d6daafde1a3",
        "colab": {
          "base_uri": "https://localhost:8080/",
          "height": 35
        }
      },
      "source": [
        "# publications in articles_3.csv\n",
        "set(articles_3.publication)"
      ],
      "execution_count": 3,
      "outputs": [
        {
          "output_type": "execute_result",
          "data": {
            "text/plain": [
              "{'Guardian', 'NPR', 'Reuters', 'Vox', 'Washington Post'}"
            ]
          },
          "metadata": {
            "tags": []
          },
          "execution_count": 3
        }
      ]
    },
    {
      "cell_type": "code",
      "metadata": {
        "id": "n9ILnYjuGgjC",
        "colab_type": "code",
        "outputId": "99496328-b684-492f-f321-5f9d7def14d5",
        "colab": {
          "base_uri": "https://localhost:8080/",
          "height": 138
        }
      },
      "source": [
        "# publications in articles_2.csv\n",
        "set(articles_2.publication)"
      ],
      "execution_count": 4,
      "outputs": [
        {
          "output_type": "execute_result",
          "data": {
            "text/plain": [
              "{'Atlantic',\n",
              " 'Buzzfeed News',\n",
              " 'Fox News',\n",
              " 'Guardian',\n",
              " 'National Review',\n",
              " 'New York Post',\n",
              " 'Talking Points Memo'}"
            ]
          },
          "metadata": {
            "tags": []
          },
          "execution_count": 4
        }
      ]
    },
    {
      "cell_type": "code",
      "metadata": {
        "id": "_GuTjI-0G7U5",
        "colab_type": "code",
        "outputId": "7680cfa8-2ba1-476d-a62d-b2917464f540",
        "colab": {
          "base_uri": "https://localhost:8080/",
          "height": 35
        }
      },
      "source": [
        "# publications in articles_1.csv\n",
        "set(articles_1.publication)"
      ],
      "execution_count": 7,
      "outputs": [
        {
          "output_type": "execute_result",
          "data": {
            "text/plain": [
              "{'Atlantic', 'Breitbart', 'Business Insider', 'CNN', 'New York Times'}"
            ]
          },
          "metadata": {
            "tags": []
          },
          "execution_count": 7
        }
      ]
    },
    {
      "cell_type": "code",
      "metadata": {
        "id": "6-c_j1F0G8YL",
        "colab_type": "code",
        "outputId": "8f0265b1-e138-43ea-880f-0dbd054d9f04",
        "colab": {
          "base_uri": "https://localhost:8080/",
          "height": 35
        }
      },
      "source": [
        "# join all datasets into one\n",
        "full_data = pd.concat([articles_1, articles_2, articles_3], ignore_index=True)\n",
        "\n",
        "full_data.shape"
      ],
      "execution_count": 3,
      "outputs": [
        {
          "output_type": "execute_result",
          "data": {
            "text/plain": [
              "(142570, 10)"
            ]
          },
          "metadata": {
            "tags": []
          },
          "execution_count": 3
        }
      ]
    },
    {
      "cell_type": "code",
      "metadata": {
        "id": "Nusfid1cHd8l",
        "colab_type": "code",
        "outputId": "5fd584bc-ec31-4f6b-8a50-8ee5ba0462d9",
        "colab": {
          "base_uri": "https://localhost:8080/",
          "height": 198
        }
      },
      "source": [
        "full_data.head()"
      ],
      "execution_count": 9,
      "outputs": [
        {
          "output_type": "execute_result",
          "data": {
            "text/plain": [
              "   Unnamed: 0     id                                              title  \\\n",
              "0           0  17283  House Republicans Fret About Winning Their Hea...   \n",
              "1           1  17284  Rift Between Officers and Residents as Killing...   \n",
              "2           2  17285  Tyrus Wong, ‘Bambi’ Artist Thwarted by Racial ...   \n",
              "3           3  17286  Among Deaths in 2016, a Heavy Toll in Pop Musi...   \n",
              "4           4  17287  Kim Jong-un Says North Korea Is Preparing to T...   \n",
              "\n",
              "      publication                         author        date    year  month  \\\n",
              "0  New York Times                     Carl Hulse  2016-12-31  2016.0   12.0   \n",
              "1  New York Times  Benjamin Mueller and Al Baker  2017-06-19  2017.0    6.0   \n",
              "2  New York Times                   Margalit Fox  2017-01-06  2017.0    1.0   \n",
              "3  New York Times               William McDonald  2017-04-10  2017.0    4.0   \n",
              "4  New York Times                  Choe Sang-Hun  2017-01-02  2017.0    1.0   \n",
              "\n",
              "   url                                            content  \n",
              "0  NaN  WASHINGTON  —   Congressional Republicans have...  \n",
              "1  NaN  After the bullet shells get counted, the blood...  \n",
              "2  NaN  When Walt Disney’s “Bambi” opened in 1942, cri...  \n",
              "3  NaN  Death may be the great equalizer, but it isn’t...  \n",
              "4  NaN  SEOUL, South Korea  —   North Korea’s leader, ...  "
            ],
            "text/html": [
              "<div>\n",
              "<style scoped>\n",
              "    .dataframe tbody tr th:only-of-type {\n",
              "        vertical-align: middle;\n",
              "    }\n",
              "\n",
              "    .dataframe tbody tr th {\n",
              "        vertical-align: top;\n",
              "    }\n",
              "\n",
              "    .dataframe thead th {\n",
              "        text-align: right;\n",
              "    }\n",
              "</style>\n",
              "<table border=\"1\" class=\"dataframe\">\n",
              "  <thead>\n",
              "    <tr style=\"text-align: right;\">\n",
              "      <th></th>\n",
              "      <th>Unnamed: 0</th>\n",
              "      <th>id</th>\n",
              "      <th>title</th>\n",
              "      <th>publication</th>\n",
              "      <th>author</th>\n",
              "      <th>date</th>\n",
              "      <th>year</th>\n",
              "      <th>month</th>\n",
              "      <th>url</th>\n",
              "      <th>content</th>\n",
              "    </tr>\n",
              "  </thead>\n",
              "  <tbody>\n",
              "    <tr>\n",
              "      <th>0</th>\n",
              "      <td>0</td>\n",
              "      <td>17283</td>\n",
              "      <td>House Republicans Fret About Winning Their Hea...</td>\n",
              "      <td>New York Times</td>\n",
              "      <td>Carl Hulse</td>\n",
              "      <td>2016-12-31</td>\n",
              "      <td>2016.0</td>\n",
              "      <td>12.0</td>\n",
              "      <td>NaN</td>\n",
              "      <td>WASHINGTON  —   Congressional Republicans have...</td>\n",
              "    </tr>\n",
              "    <tr>\n",
              "      <th>1</th>\n",
              "      <td>1</td>\n",
              "      <td>17284</td>\n",
              "      <td>Rift Between Officers and Residents as Killing...</td>\n",
              "      <td>New York Times</td>\n",
              "      <td>Benjamin Mueller and Al Baker</td>\n",
              "      <td>2017-06-19</td>\n",
              "      <td>2017.0</td>\n",
              "      <td>6.0</td>\n",
              "      <td>NaN</td>\n",
              "      <td>After the bullet shells get counted, the blood...</td>\n",
              "    </tr>\n",
              "    <tr>\n",
              "      <th>2</th>\n",
              "      <td>2</td>\n",
              "      <td>17285</td>\n",
              "      <td>Tyrus Wong, ‘Bambi’ Artist Thwarted by Racial ...</td>\n",
              "      <td>New York Times</td>\n",
              "      <td>Margalit Fox</td>\n",
              "      <td>2017-01-06</td>\n",
              "      <td>2017.0</td>\n",
              "      <td>1.0</td>\n",
              "      <td>NaN</td>\n",
              "      <td>When Walt Disney’s “Bambi” opened in 1942, cri...</td>\n",
              "    </tr>\n",
              "    <tr>\n",
              "      <th>3</th>\n",
              "      <td>3</td>\n",
              "      <td>17286</td>\n",
              "      <td>Among Deaths in 2016, a Heavy Toll in Pop Musi...</td>\n",
              "      <td>New York Times</td>\n",
              "      <td>William McDonald</td>\n",
              "      <td>2017-04-10</td>\n",
              "      <td>2017.0</td>\n",
              "      <td>4.0</td>\n",
              "      <td>NaN</td>\n",
              "      <td>Death may be the great equalizer, but it isn’t...</td>\n",
              "    </tr>\n",
              "    <tr>\n",
              "      <th>4</th>\n",
              "      <td>4</td>\n",
              "      <td>17287</td>\n",
              "      <td>Kim Jong-un Says North Korea Is Preparing to T...</td>\n",
              "      <td>New York Times</td>\n",
              "      <td>Choe Sang-Hun</td>\n",
              "      <td>2017-01-02</td>\n",
              "      <td>2017.0</td>\n",
              "      <td>1.0</td>\n",
              "      <td>NaN</td>\n",
              "      <td>SEOUL, South Korea  —   North Korea’s leader, ...</td>\n",
              "    </tr>\n",
              "  </tbody>\n",
              "</table>\n",
              "</div>"
            ]
          },
          "metadata": {
            "tags": []
          },
          "execution_count": 9
        }
      ]
    },
    {
      "cell_type": "code",
      "metadata": {
        "id": "KF1gdGRjK7HB",
        "colab_type": "code",
        "colab": {}
      },
      "source": [
        "# remove duplicates\n",
        "full_data = full_data.drop_duplicates(subset=['title', 'publication', 'author', 'date'])"
      ],
      "execution_count": 0,
      "outputs": []
    },
    {
      "cell_type": "code",
      "metadata": {
        "id": "FoumqwwKQJ29",
        "colab_type": "code",
        "colab": {}
      },
      "source": [
        "# remove missing titles \n",
        "full_data = full_data.dropna(subset=['title'])"
      ],
      "execution_count": 0,
      "outputs": []
    },
    {
      "cell_type": "code",
      "metadata": {
        "id": "geKADAkQ1isB",
        "colab_type": "code",
        "outputId": "fca2047b-0583-4dfc-b876-7ec589ed7c41",
        "colab": {
          "base_uri": "https://localhost:8080/",
          "height": 276
        }
      },
      "source": [
        "# sample 13k observations from full_data (set seed to 5)\n",
        "small_data = full_data.sample(n=13000, random_state=5).reset_index()\n",
        "set(small_data.publication)"
      ],
      "execution_count": 7,
      "outputs": [
        {
          "output_type": "execute_result",
          "data": {
            "text/plain": [
              "{'Atlantic',\n",
              " 'Breitbart',\n",
              " 'Business Insider',\n",
              " 'Buzzfeed News',\n",
              " 'CNN',\n",
              " 'Fox News',\n",
              " 'Guardian',\n",
              " 'NPR',\n",
              " 'National Review',\n",
              " 'New York Post',\n",
              " 'New York Times',\n",
              " 'Reuters',\n",
              " 'Talking Points Memo',\n",
              " 'Vox',\n",
              " 'Washington Post'}"
            ]
          },
          "metadata": {
            "tags": []
          },
          "execution_count": 7
        }
      ]
    },
    {
      "cell_type": "code",
      "metadata": {
        "id": "oHsWKlomnvcj",
        "colab_type": "code",
        "outputId": "faade47c-d73d-465a-b14d-77971f7bc116",
        "colab": {
          "base_uri": "https://localhost:8080/",
          "height": 35
        }
      },
      "source": [
        "small_data.shape"
      ],
      "execution_count": 8,
      "outputs": [
        {
          "output_type": "execute_result",
          "data": {
            "text/plain": [
              "(13000, 11)"
            ]
          },
          "metadata": {
            "tags": []
          },
          "execution_count": 8
        }
      ]
    },
    {
      "cell_type": "code",
      "metadata": {
        "id": "bn6X4KaWBDxt",
        "colab_type": "code",
        "outputId": "c77d2d96-c254-4c3d-8b39-c40cdbea30a7",
        "colab": {
          "base_uri": "https://localhost:8080/",
          "height": 302
        }
      },
      "source": [
        "small_data.head()"
      ],
      "execution_count": 16,
      "outputs": [
        {
          "output_type": "execute_result",
          "data": {
            "text/plain": [
              "    index  Unnamed: 0      id  \\\n",
              "0   74496       77946  118473   \n",
              "1   71184       74592  113594   \n",
              "2  120205      123668  184574   \n",
              "3  128977      132440  199665   \n",
              "4  134837      138300  208223   \n",
              "\n",
              "                                               title      publication  \\\n",
              "0  Chaos in the Family, Chaos in the State: The W...  National Review   \n",
              "1   US Civil Rights Commission Will Observe Stand...    Buzzfeed News   \n",
              "2  Venezuela hunts rogue helicopter attackers, Ma...          Reuters   \n",
              "3  Fruit juice isn’t much better for you than sod...              Vox   \n",
              "4  Sessions won’t testify at congressional budget...  Washington Post   \n",
              "\n",
              "                                  author        date    year  month  \\\n",
              "0                    Kevin D. Williamson  2016-03-17  2016.0    3.0   \n",
              "1                       Nidhi Subbaraman  2016-12-08  2016.0   12.0   \n",
              "2  Andrew Cawthorne and Victoria Ramirez  2017-06-29  2017.0    6.0   \n",
              "3                           Julia Belluz   2016/3/25  2016.0    3.0   \n",
              "4                           Sari Horwitz  2017-06-10  2017.0    6.0   \n",
              "\n",
              "                                                 url  \\\n",
              "0  http://www.nationalreview.com/article/432876/d...   \n",
              "1  https://web.archive.org/web/20161208153906/htt...   \n",
              "2  http://www.reuters.com/article/us-venezuela-po...   \n",
              "3  http://www.vox.com/2016/3/25/11305614/soda-jui...   \n",
              "4  https://web.archive.org/web/20170611000758/htt...   \n",
              "\n",
              "                                             content  \n",
              "0  Michael Brendan Dougherty is bitter. I think t...  \n",
              "1   WASHINGTON  —   The US Commission on Civil Ri...  \n",
              "2   The Venezuelan government hunted on Wednesday...  \n",
              "3   One of the biggest public health wins of rece...  \n",
              "4   Attorney General Jeff Sessions, who had agree...  "
            ],
            "text/html": [
              "<div>\n",
              "<style scoped>\n",
              "    .dataframe tbody tr th:only-of-type {\n",
              "        vertical-align: middle;\n",
              "    }\n",
              "\n",
              "    .dataframe tbody tr th {\n",
              "        vertical-align: top;\n",
              "    }\n",
              "\n",
              "    .dataframe thead th {\n",
              "        text-align: right;\n",
              "    }\n",
              "</style>\n",
              "<table border=\"1\" class=\"dataframe\">\n",
              "  <thead>\n",
              "    <tr style=\"text-align: right;\">\n",
              "      <th></th>\n",
              "      <th>index</th>\n",
              "      <th>Unnamed: 0</th>\n",
              "      <th>id</th>\n",
              "      <th>title</th>\n",
              "      <th>publication</th>\n",
              "      <th>author</th>\n",
              "      <th>date</th>\n",
              "      <th>year</th>\n",
              "      <th>month</th>\n",
              "      <th>url</th>\n",
              "      <th>content</th>\n",
              "    </tr>\n",
              "  </thead>\n",
              "  <tbody>\n",
              "    <tr>\n",
              "      <th>0</th>\n",
              "      <td>74496</td>\n",
              "      <td>77946</td>\n",
              "      <td>118473</td>\n",
              "      <td>Chaos in the Family, Chaos in the State: The W...</td>\n",
              "      <td>National Review</td>\n",
              "      <td>Kevin D. Williamson</td>\n",
              "      <td>2016-03-17</td>\n",
              "      <td>2016.0</td>\n",
              "      <td>3.0</td>\n",
              "      <td>http://www.nationalreview.com/article/432876/d...</td>\n",
              "      <td>Michael Brendan Dougherty is bitter. I think t...</td>\n",
              "    </tr>\n",
              "    <tr>\n",
              "      <th>1</th>\n",
              "      <td>71184</td>\n",
              "      <td>74592</td>\n",
              "      <td>113594</td>\n",
              "      <td>US Civil Rights Commission Will Observe Stand...</td>\n",
              "      <td>Buzzfeed News</td>\n",
              "      <td>Nidhi Subbaraman</td>\n",
              "      <td>2016-12-08</td>\n",
              "      <td>2016.0</td>\n",
              "      <td>12.0</td>\n",
              "      <td>https://web.archive.org/web/20161208153906/htt...</td>\n",
              "      <td>WASHINGTON  —   The US Commission on Civil Ri...</td>\n",
              "    </tr>\n",
              "    <tr>\n",
              "      <th>2</th>\n",
              "      <td>120205</td>\n",
              "      <td>123668</td>\n",
              "      <td>184574</td>\n",
              "      <td>Venezuela hunts rogue helicopter attackers, Ma...</td>\n",
              "      <td>Reuters</td>\n",
              "      <td>Andrew Cawthorne and Victoria Ramirez</td>\n",
              "      <td>2017-06-29</td>\n",
              "      <td>2017.0</td>\n",
              "      <td>6.0</td>\n",
              "      <td>http://www.reuters.com/article/us-venezuela-po...</td>\n",
              "      <td>The Venezuelan government hunted on Wednesday...</td>\n",
              "    </tr>\n",
              "    <tr>\n",
              "      <th>3</th>\n",
              "      <td>128977</td>\n",
              "      <td>132440</td>\n",
              "      <td>199665</td>\n",
              "      <td>Fruit juice isn’t much better for you than sod...</td>\n",
              "      <td>Vox</td>\n",
              "      <td>Julia Belluz</td>\n",
              "      <td>2016/3/25</td>\n",
              "      <td>2016.0</td>\n",
              "      <td>3.0</td>\n",
              "      <td>http://www.vox.com/2016/3/25/11305614/soda-jui...</td>\n",
              "      <td>One of the biggest public health wins of rece...</td>\n",
              "    </tr>\n",
              "    <tr>\n",
              "      <th>4</th>\n",
              "      <td>134837</td>\n",
              "      <td>138300</td>\n",
              "      <td>208223</td>\n",
              "      <td>Sessions won’t testify at congressional budget...</td>\n",
              "      <td>Washington Post</td>\n",
              "      <td>Sari Horwitz</td>\n",
              "      <td>2017-06-10</td>\n",
              "      <td>2017.0</td>\n",
              "      <td>6.0</td>\n",
              "      <td>https://web.archive.org/web/20170611000758/htt...</td>\n",
              "      <td>Attorney General Jeff Sessions, who had agree...</td>\n",
              "    </tr>\n",
              "  </tbody>\n",
              "</table>\n",
              "</div>"
            ]
          },
          "metadata": {
            "tags": []
          },
          "execution_count": 16
        }
      ]
    },
    {
      "cell_type": "code",
      "metadata": {
        "id": "Fz-CUd81yb81",
        "colab_type": "code",
        "outputId": "48386fc3-8fb4-4c2b-c1b6-49a41e397272",
        "colab": {
          "base_uri": "https://localhost:8080/",
          "height": 104
        }
      },
      "source": [
        "# remove publisher tags from article titles \n",
        "\n",
        "def clean_title(title):\n",
        "  title = re.sub(r\"(- Breitbart)(?!.*\\1)\", '', title)\n",
        "  title = re.sub(r'(- The New York Times)(?!.*\\1)', '', title)\n",
        "  return title\n",
        "  \n",
        "just_titles = Parallel(n_jobs=16)(delayed(clean_title)(title) for title in small_data.title)\n",
        "\n",
        "just_titles[:5]"
      ],
      "execution_count": 9,
      "outputs": [
        {
          "output_type": "execute_result",
          "data": {
            "text/plain": [
              "['Chaos in the Family, Chaos in the State: The White Working Class’s Dysfunction',\n",
              " ' US Civil Rights Commission Will Observe Standing Rock\\xa0Standoff',\n",
              " 'Venezuela hunts rogue helicopter attackers, Maduro foes suspicious',\n",
              " 'Fruit juice isn’t much better for you than soda. Let’s stop pretending otherwise.',\n",
              " 'Sessions won’t testify at congressional budget hearings but at Senate intelligence hearing instead']"
            ]
          },
          "metadata": {
            "tags": []
          },
          "execution_count": 9
        }
      ]
    },
    {
      "cell_type": "code",
      "metadata": {
        "id": "W-KoWU84-e4B",
        "colab_type": "code",
        "outputId": "b4ca83ce-4702-4cf6-cbbb-9d28aed0503b",
        "colab": {
          "base_uri": "https://localhost:8080/",
          "height": 35
        }
      },
      "source": [
        "len(just_titles)"
      ],
      "execution_count": 10,
      "outputs": [
        {
          "output_type": "execute_result",
          "data": {
            "text/plain": [
              "13000"
            ]
          },
          "metadata": {
            "tags": []
          },
          "execution_count": 10
        }
      ]
    },
    {
      "cell_type": "code",
      "metadata": {
        "id": "_SQFGoXw-Y3Q",
        "colab_type": "code",
        "outputId": "aa88663a-dd52-4140-d260-10fe47e8b5f0",
        "colab": {
          "base_uri": "https://localhost:8080/",
          "height": 35
        }
      },
      "source": [
        "# store ids of titles \n",
        "id_list = small_data.copy().id\n",
        "\n",
        "len(id_list)"
      ],
      "execution_count": 11,
      "outputs": [
        {
          "output_type": "execute_result",
          "data": {
            "text/plain": [
              "13000"
            ]
          },
          "metadata": {
            "tags": []
          },
          "execution_count": 11
        }
      ]
    },
    {
      "cell_type": "code",
      "metadata": {
        "id": "iXEvn1pUgb9h",
        "colab_type": "code",
        "outputId": "3ce098f8-c44a-4eaf-f79d-76f78d5ef087",
        "colab": {
          "base_uri": "https://localhost:8080/",
          "height": 124
        }
      },
      "source": [
        "# join with content of article\n",
        "\n",
        "small_text = list(map(lambda i,j: i + \" \" + j, just_titles, small_data.content))\n",
        "\n",
        "small_text[:5]"
      ],
      "execution_count": 12,
      "outputs": [
        {
          "output_type": "execute_result",
          "data": {
            "text/plain": [
              "['Chaos in the Family, Chaos in the State: The White Working Class’s Dysfunction Michael Brendan Dougherty is bitter. I think that I can write that in both truth and charity. (I think you might even say that he and I are friends.) Dougherty is a conservative of the sort sometimes advertised as “paleo” and served as national correspondent for The American Conservative. Like many conservative writers with those associations, Dougherty spends a great deal of time lambasting the conservative movement and its organs, from which he feels, for whatever reason, estranged  —   an alienation that carries with it more than a little to suggest that it is somewhat personal. You know: Them. Donald Trump is the headline, and explaining the benighted white working class to Them is the main matter. Sanctimony is the literary mode, for Dougherty and for many others doing the same work with less literary facility. Never mind the petty sneering (as though the conservative movement were populated by septuagenarians who say things like “learn computers”) and the rhetorical need to invent moral debasement (tax cuts are good for the rich people in Connecticut who don’t use cocaine, too) and Dougherty’s ignoring out of existence those   parts of the economy that are outside of the Manhattan —  Connecticut finance corridor. And never mind the math, too: It is really quite difficult to design federal tax cuts that benefit people who do not pay much in the way of federal taxes. Set all that aside: What, really, is the case for staying in Garbutt? RELATED: If Your Town Is Failing, Just Go: A Prescription for Impoverished Communities, There was no Garbutt, N. Y. until 1804, when Zachariah Garbutt and his son John settled there. They built a grist mill, and, in the course of digging its foundations, they discovered a rich vein of gypsum, at that time used as a fertilizer. A gypsum industry sprang up and ran its course. Then Garbutt died. “As the years passed away, a change came over the spirit of their dream,” wrote local historian George E. Slocum. “Their church was demolished and its timber put to an ignoble use their schools were reduced to one, and that a primary their hotels were converted into dwelling houses their workshops, one by one, slowly and silently sank from sight until there was but little left to the burg except its name. ” Slocum wrote that in . . . 1908. The emergence of the   wallboard industry gave Garbutt a little bump at the beginning of the 20th century, but it wasn’t enough. The U. S. Census Bureau doesn’t even keep data on Garbutt. To invoke Burkean conservatism in the service of preserving a community that was exnihilated into existence around a single commodity and lasted barely a century is the indulgence of absurd sentimentality. Yes, young men of Garbutt  —   get off your asses and go find a job: You’re a   bus ride away from the gas fields of Pennsylvania. Stonehenge didn’t work out, either: Good luck. Garbutt is Trump Country, and Dougherty, while not a   Trumpkin, is generally sympathetic to Trump’s critique of current American economic policy, namely that international trade and immigration are dispossessing the white working class. There is not, in fact, very much evidence for those claims: Immigration does put some downward pressure on wages, but it also puts downward pressure on prices.     workers’ money income may have stagnated, but their real income  —   what they can buy with the money they earn  —   has continued to improve modestly. The main effect of new immigrants’ wage competition is felt in the wages of earlier immigrants. But the effects of immigration overall are tiny compared with the effects of factors such as   expenses. In many   occupations, overall compensation in fact has gone up over the years, but the additional compensation has come largely or entirely in the form of medical benefits. In some cases, the expense of medical benefits has gone up so much that total compensation has increased even while money wages have gone down. That’s the worst of all possible worlds: It costs more to employ those   American workers, but they don’t feel any richer  —   and if their employers are paying more for the same benefits (or paying more for inferior benefits under the   Affordable Care Act) they aren’t any richer, practically speaking. On the trade front, American manufacturing continues to expand and thrive  —   an absolute economic fact that is, perversely, unknown to the great majority of Americans, who believe precisely the opposite to be the case. Americans have false beliefs about manufacturing for a few reasons: One is that while our factories produce much more than in the past, they employ fewer people another is that we tend to produce capital goods and import consumer goods  —   you won’t see much labeled “Made in the USA” at Walmart, but you’ll see it on everything from the aircraft flown by foreign airlines to the robotics in automobile factories overseas. Another factor, particularly relevant to the question of manufacturing and trade, is that a large (but declining) share of those imported consumer goods comes from China, a country with which we have a large trade deficit. That isn’t because the Chinese are clever, but because they are poor: With an average annual income of less than $9, 000, the typical Chinese household is not well positioned to buy   goods, which are generally expensive. (China is a large consumer of U. S. agricultural products, especially soybeans.) Add to that poorly informed and sentimental ideas about what those old Rust Belt factory jobs actually paid  —   you can have a 1957 standard of living, if you really want it, quite cheap  —   and you get a holistic critique of U. S. economic policy that is wholly bunk. Which isn’t to say that the Mikes of Dougherty’s world have it good  —   they don’t. But they aren’t victims of the wily Chinese, scheming to make them poor: In the story of the white working class’s descent into dysfunction, they are the victims and the villains both. RELATED: The White Ghetto: In Appalachia, The Country Is Beautiful and the Society is Broken, The Washington Post’s “Wonkbook” newsletter compared the counties Trump won in the   Super Tuesday primaries with the demographic data and found trends that will surprise no one who has been paying attention (and certainly no one, I hope, who has been reading this magazine). The life expectancies among    white Americans have been plummeting in an almost unprecedented fashion, a trend not seen on such a large scale since the collapse of the Soviet Union and the social anarchy that prevailed in Russia afterward. Trump counties had proportionally fewer people with college degrees. Trump counties had fewer people working. And the white people in Trump counties were likely to die younger. The causes of death were “increased rates of disease and ill health, increased drug overdose and abuse, and suicide,” the Post’s Wonkblog website reported. This is horrifyingly consistent with other findings. The manufacturing numbers  —   and the entire gloriously complex tale of globalization  —   go in fits and starts: a little improvement here, a little improvement there, and a radically better world in raw material terms (and let’s not sniff at those) every couple of decades. Go back and read the novels of the 1980s or watch The Brady Bunch and ask yourself why    suburban families living in large, comfortable homes and holding down prestigious jobs were worried about the price of butter and meat, and then ask yourself when was the last time you heard someone complain that he couldn’t afford a stick of butter. That change happened a little at a time, here and there. RELATED:    Deaths Are a Cultural Problem, The   numbers, on the other hand, came down on us like a meteor. Before the war, divorce had been such an alien phenomenon that it animated such   stories as The Gay Divorcee, a play in which a fictitious act of adultery had to be invented to move the plot forward. Divorce in 1960 was so rare as to carry a hint of scandalous glamour, which it kept throughout the 1970s and 1980s, with women’s magazines writing lifestyle pieces about informal weekday dinner parties for divorcées (the word itself is today faintly ludicrous) and men’s magazines celebrating divorce as a second adolescence. The divorce rate doubled over the span of a few decades  —   even as the marriage rate was declining. Add to that the violence of abortion, which fundamentally alters the relationship between men, women, and children, and what exactly “family” means to those of us born around the time Roe v. Wade was decided becomes a very difficult question. The concept of the nation as an extended family is the notion that separates   conservatism, with its roots in the   ideas that informed the American founding, from       European nationalism. In Europe, this is an idea popular with the Right: It is entirely unsurprising that Trump has enjoyed the endorsement of, among other European rightists,   Le Pen. In the United States, it is an idea  —   and an error  —   popular on both sides of the political divide: The distastefully squishy progressive writer George Lakoff argues that the American Right prefers a strict patriarchal model of the family and, therefore, a similar model of political life, while the Left is inclined toward the maternal and the nurturing. (  critics of free trade and free enterprise in the   world often speak of “nurturing” economic policies, because they do not wish to write the word “socialism. ”) But it is an idea that fits at best uneasily with the aspirations of American conservatism. One of the worst errors in public life is the common one of mistaking the metaphor for the thing itself. In reality  —   and reality is not optional  —   the president isn’t the national dad (Governor John Kasich’s insistence notwithstanding) and government is neither paternal nor maternal. The nation isn’t your family. Your family is your family. RELATED: The Buchanan Boys: The Trump Voters Aren’t a New Phenomenon, The metaphor points both ways: Nationalism may speak to a longing for lost national greatness, but in our own time, it speaks at least as strongly to the longing after  —   the great howling lamentation for  —   the ideal family that never was lost, because it never was formed. The Mikes of the world may be struggling to make it in the global economy, but what they really are shut out of is the traditional family. The current social regime of illegitimacy, serial monogamy, abortion, and liberal divorce has rendered traditional families optional, at best  —   the great majority of divorces are initiated by wives, not by husbands  —   and the welfare state has at least in part supplanted the Mikes in their role as providers, assuming that they have the wherewithal to fill that role in the first place. Traditional avenues for achieving respect, status, and permanence are lost to them. Milo Yiannopoulos of Breitbart London has done more to put homosexual camp in the service of   authoritarianism than any man has since the fellows at Hugo Boss sewed all those nifty SS uniforms. He refers to Trump  —   this will not surprise you  —   as “Daddy,”  . It is easy to imagine a generation of young men being raised without fathers and looking out the window like a kid in an   special, waiting for Daddy to come home. Many of them slip into harmless Clark Griswold —  ism, trying to provide for their own children the ideal families they themselves never had. But some of them end up grown men still staring out that window, waiting for the   figure they have spent their lives imagining, the protector and vindicator who will protect them, provide for them, and set things in order. RELATED: How   Abuse Unleashed a Heroin Epidemic, Dougherty cites the work of the conservative polemicist Sam Francis, one of those old   conservatives who very much embraced the paterfamilias model of government. His analysis, like mine, finds emotional and policy links between the Trump movement and its earlier incarnation, the Pat Buchanan movement. For Dougherty, Francis provides the philosophical link. He also provides the stylistic link: He was a kook. “Francis eventually turned into something resembling an   white nationalist,” Dougherty writes, “penning his most racist material under a pen name. Buchanan didn’t take Francis’s advice in 1996, not entirely. But 20 years later, [Francis’s book] From Household to Nation reads like a political manifesto from which the Trump campaign springs. ” From Household to Nation is typical in that it is based on a category error, asking economics to do what economics doesn’t: to provide the means “not simply to gain material satisfaction but to support families and the social institutions and identities that evolve from families as the fundamental units of human society and human action. ” Economics is about satisfying human wants, not defining them. The problem isn’t that Americans cannot sustain families, but that they do not wish to. It is therefore strange to me that Dougherty so fundamentally misdiagnoses the conservative reaction to Trump: “A Trump win,” he writes in another piece, “at least temporarily threatens the conservative movement, because it threatens to expose how inessential its ideas are to holding together the party. ” (Dougherty also equates the fundraising engaged in by conservative organizations with the Social Security fraud that sustains his fictional Mike, a characterization that indicates the emotional temperament at work here.) Of course there is careerism in the conservative movement, but to proceed as though it were impossible to imagine that conservatives oppose a man running (knowingly or not) on a Sam Francis platform because we oppose the loopy crackpot racist ideas of Sam Francis is to perform an intellectual disservice. It is also immoral. It is immoral because it perpetuates a lie: that the white working class that finds itself attracted to Trump has been victimized by outside forces. It hasn’t. The white middle class may like the idea of Trump as a giant pulsing humanoid middle finger held up in the face of the Cathedral, they may sing hymns to Trump the destroyer and whisper darkly about “globalists” and  —   odious, stupid term  —   “the Establishment,” but nobody did this to them. They failed themselves. RELATED:   Whites Have Moral Responsibilities  —   In Defense of Kevin Williamson, If you spend time in hardscrabble, white upstate New York, or eastern Kentucky, or my own native West Texas, and you take an honest look at the welfare dependency, the drug and alcohol addiction, the family anarchy  —   which is to say, the whelping of human children with all the respect and wisdom of a stray dog  —   you will come to an awful realization. It wasn’t Beijing. It wasn’t even Washington, as bad as Washington can be. It wasn’t immigrants from Mexico, excessive and problematic as our current immigration levels are. It wasn’t any of that. Nothing happened to them. There wasn’t some awful disaster. There wasn’t a war or a famine or a plague or a foreign occupation. Even the economic changes of the past few decades do very little to explain the dysfunction and negligence  —   and the incomprehensible malice  —   of poor white America. So the gypsum business in Garbutt ain’t what it used to be. There is more to life in the 21st century than wallboard and cheap sentimentality about how the Man closed the factories down. The truth about these dysfunctional, downscale communities is that they deserve to die. Economically, they are negative assets. Morally, they are indefensible. Forget all your cheap theatrical Bruce Springsteen crap. Forget your sanctimony about struggling Rust Belt factory towns and your conspiracy theories about the wily Orientals stealing our jobs. Forget your goddamned gypsum, and, if he has a problem with that, forget Ed Burke, too. The white American underclass is in thrall to a vicious, selfish culture whose main products are misery and used heroin needles. Donald Trump’s speeches make them feel good. So does OxyContin. What they need isn’t analgesics, literal or political. They need real opportunity, which means that they need real change, which means that they need  . If you want to live, get out of Garbutt.,',\n",
              " ' US Civil Rights Commission Will Observe Standing Rock\\xa0Standoff  WASHINGTON  —   The US Commission on Civil Rights will send a delegation to visit the campsite in North Dakota, where hundreds of people have gathered to protest the building of the Dakota Access Pipeline. The goal is to meet with tribal leaders, water protectors, as well as state and government authorities. The commission is the independent, bipartisan federal civil rights watchdog group, established by the 1957 Civil Rights Act. “That has become the seminal issue of the day when it comes to Native American rights,” commission chair Martin Castro, who will travel to Standing Rock, told BuzzFeed News. “This is to me the closest thing to what we’ve done since the time that we would go down in the 1960s to the Jim Crow South, to examine what’s going on on the ground, on an open active issue, where there is engagement between the community and the government. ” Commissioners voted in a Friday meeting to make the trip, after David Archambault II, chairman of the Standing Rock Sioux tribe, sent a letter inviting the commission to visit. The observers intend to travel there early next week. The commission is currently researching an update to its 2003 report, “Unmet Needs,” that examines Native American life as well as the government’s stewardship of the communities and their lands. “We cannot as a commission be looking at civil rights for Native Americans and unmet needs in Indian Country in the 21st century without now looking at what’s going on in Standing Rock,” Castro said. “Ideally we’d want to observe and meet with all parties involved, from the Army Corps of engineers to the protestor who just got hit with the water cannon,” Castro said. “Hopefully we will not only write a report about what we’ve seen, but also   with players involved to see how matters may be improved. ”The visit follows two weeks of mounting tensions at Standing Rock. On November 21, police drenched protestors with water cannons in frigid temperatures, leading to the hospitalization of at least 17 people. The Army Corps of Engineers last Friday said that it intends to close lands that include the campsite by Dec. 5. On Monday, the North Dakota governor Jack Dalrymple issued an emergency evacuation order that called on protestors to vacate campsite, citing incoming cold weather. State officials have threatened to fine people traveling to the site. US Senator Corey Booker this week called for a Department of Justice investigation into the police actions in Standing Rock. In the past, police have used tear gas, rubber bullets, and police dogs against people who have gathered at the site. At least 2, 000 veterans plan to travel to the site this weekend, in solidarity with the movement.  ',\n",
              " 'Venezuela hunts rogue helicopter attackers, Maduro foes suspicious  The Venezuelan government hunted on Wednesday for rogue policemen who attacked key installations by helicopter, but critics of President Nicolas Maduro suspected the raid may have been staged to justify repression. In extraordinary scenes over Caracas around sunset on Tuesday, the stolen helicopter fired shots at the Interior Ministry and dropped grenades on the Supreme Court, both viewed by Venezuela’s opposition as bastions of support for a dictator. Nobody was injured. Officials said special forces were seeking Oscar Perez, 36, a police pilot named as the mastermind of the raid by the helicopter that carried a banner saying ”Freedom!” In 2015, Perez   and starred in ”Death Suspended,” an action film in which he played the lead role as a government agent rescuing a kidnapped businessman. There was no sign on Wednesday of Perez, whom officials condemned as a ”psychopath” but the helicopter was found on Venezuela’s northern Caribbean coastline. ”We ask for maximum support to find this fanatic, extremist terrorist,” vice president Tareck El Aissami said. The attack exacerbated an already   political crisis in Venezuela after three months of opposition protests demanding general elections and fixes for the sinking economy. At least 76 people have died in the unrest since April, the latest a    man shot in the head near a protest in the Petare slum of Caracas, authorities said on Wednesday.  Hundreds more people have been injured and arrested in what Maduro terms an ongoing coup attempt with U. S. encouragement. The attack fed a conspiracy theory by opposition supporters that it may have been a government setup and overshadowed other drama on Tuesday, including the besieging of opposition legislators by gangs in the National Assembly. The helicopter raid also coincided with a judicial measure weakening the powers of dissident chief state prosecutor Luisa Ortega, who has emerged as a major challenger to Maduro. ”It seems like a movie,” said Julio Borges, leader of the   legislature, of the helicopter raid. ”Some people say it is a   some that it is real . .. Yesterday was full of contradictions . .. A thousand things are happening, but I summarize it like this: a government is decaying and rotting, while a nation is fighting for dignity.”  Though Perez posted a video on social media showing himself in front of four hooded armed men and claiming to represent a coalition of security and civilian officials rising up against ”tyranny,” there was no evidence of deeper support.  ”CHEAP SHOW” The government, however, accused the policemen of links to the CIA and to Miguel Rodriguez, a former interior minister and intelligence chief under Maduro and his predecessor Hugo Chavez, who recently broke with the government. ”I’m not at all convinced by the helicopter incident,” Rodriguez told Reuters on Wednesday, saying the figures behind Perez in the video looked like dummies and expressing surprise the helicopter could fly freely and also not injure anyone. ”Conclusion: a cheap show. Who gains from this? Only Nicolas for two reasons: to give credibility to his coup d’etat talk, and to blame Rodriguez,” he added, referring to himself. Around the time of the attack, the   Supreme Court expanded the role of the state ombudsman, a human rights guarantor who is closely allied with Maduro, by giving him powers previously held only by the state prosecutor’s office.     Opposition leaders described that as an attempt to supplant chief prosecutor Ortega, who has confronted both Maduro and the Supreme Court this year after splitting ranks. The Supreme Court on Wednesday evening said it approved a measure blocking Ortega from leaving the country, freezing her bank accounts, and summoning her to a July 4 hearing to discuss whether she has committed ”serious offenses.”  Adding to Venezuela’s   atmosphere, opposition supporters again took to the streets nationwide on Wednesday to barricade roads.  One opposition lawmaker, Juan Guaido, filmed himself bleeding from wounds he said were inflicted by rubber bullets.  Opposition supporters hope that cracks within government may swing the crisis their way, and have been delighted to see heavyweights like Ortega and Rodriguez oppose Maduro. Their main focus is to stop a July 30 vote called by Maduro to form a   known as a Constituent Assembly, with powers to rewrite the constitution and supersede other institutions. Maduro says the assembly is the only way to bring peace to Venezuela, but opponents say it is a sham vote intended solely to keep an unpopular government in power.  ”We can’t let July 30 happen, we mustn’t,” said children’s health worker Rosa Toro, 52, blocking a road with friends. ”We’re being governed by criminals, traffickers and thieves,” added lawyer Matias Perez, 40, protesting with a plastic trumpet. Government officials lined up on Wednesday to condemn the helicopter attack, insisting it was the work of a few individuals and not representative of wider dissent.  Foreign Minister Samuel Moncada complained about the lack of international condemnation of the attack, saying it contrasted with the barrage of foreign criticism of the government. ”In Europe it’s now eight at night, but we’ve not had any reaction from European Union countries,” he said of a bloc that has been strongly critical of Maduro in recent months. The minister rejected accusations that the attack was carried out by the government for its own purposes.  ”Who can believe we are that sophisticated? Sending someone to throw grenades, who can believe that?” he asked.        (Additional reporting by Eyanir Chinea, Silene Ramirez, Brian Ellsworth, Herbert Villaraga, Diego Ore, Corina Pons and Girish Gupta; Editing by Jeffrey Benkoe and Andrew Hay) SEOUL North Korea said on Wednesday its newly developed intercontinental ballistic missile (ICBM) can carry a large nuclear warhead, triggering a call by Washington for global action to hold it accountable for pursuing nuclear weapons. WASHINGTON U. S. President Donald Trump will get a chance to patch up   ties this week when he meets with NATO allies still rattled by his failure on an earlier trip to embrace the principle that an attack against one member is an attack against all. ',\n",
              " 'Fruit juice isn’t much better for you than soda. Let’s stop pretending otherwise.  One of the biggest public health wins of recent decades has been America’s slow shift away from soda.    With more awareness about the very strong correlation between guzzling sweet, fizzy drinks, and obesity and tooth decay, sales of beverages like   and Pepsi have slumped. But there’s pretty good evidence that Americans are still getting hoodwinked by juices and other sugary beverages.         ”Cola” refers to both   and   cola carbonates. ”Juice” covers all packaged juices from fruits or vegetables, including 100% juice, nectars ( % juice content) juice drinks (up to 24% juice content) and   drinks (no juice content). ”Sports and energy drinks” refers to drinks that promise to boost energy levels such as  Red Bull, Monster, and RockStar.    Check out this data from Euromonitor. Its analysis of US retail beverage sales over the past five years finds that while the soda category is shrinking, juice sales have held steady, and sales of energy and sports drinks have been growing. Here’s how the market looks in terms of volume (millions of liters) sold:         This article in BMJ Open demonstrated the extent of the problem: The researchers looked at how much of the American diet is composed of   foods and added sugars. They found that 58 percent of total energy intake  —   more than half of the calories Americans consume!  —   came from foods that are packed with lots of flavors, colors, and sweeteners. And almost 90 percent of the added sugars Americans consume came from heavily processed foods  —   the two main sources being soft drinks (17 percent) closely followed by fruit drinks (14 percent). (In this case, ”fruit drinks” refers to processed juices with added sugars.) To be clear: Soda remains a big public health threat. As Marion Nestle, a New York University professor and author of the new book Soda Politics. points out, ”Sales of [soda alternatives] are up, but not nearly so much as to compensate for the decline in Coke and Pepsi.” But the data suggests that Americans are finding new ways to pack calories into their diet through other sugary drinks. We should think of juice as soda without the fizz Most juices and sports drinks have as much or even more sugar than soda, as you can see in this chart from the Harvard School of Public Health:               You might think fruit juice is inherently healthier than soda because it comes from fruit. But that’s not always the case. I asked nutrition researchers this question, and they all pointed out that the sugar in fruit juice is more concentrated than it is in whole fruits. When you drink fruit juice, you get a mega dose of sugar the same way you do when you drink soda. ”Juices have some nutritional value when the sugars are not added. But people don’t drink all that much [natural fruit] juice  —   it’s too expensive. They drink juice drinks with added sugars,” said Nestle.  These juices drinks  —   like bottled cranberry or grape juices  —   are basically sugar water with artificial flavors and little nutritional benefit. And even pure fruit juices that deliver vitamins and nutrients  —   like freshly squeezed orange juice  —   also deliver a lot of calories and sugar.  That said, nutritionists aren’t arguing you have to avoid fruit juice entirely. Real fruit juices are nutritionally superior to sodas and can be part of a healthy diet  —   albeit in moderation, Nestle said. ”Juices, like any other source of liquid sugars, are best consumed in small amounts.”  We’re starting to tax soda  —   but not juice A handful of countries are moving to tax sugary drinks in an effort to fight obesity. But in some instances, the taxes continue to focus on soda, and overlook the huge quantities of sugar people are consuming in fruit juice. In Britain, for example, the government just announced a forthcoming sugary drinks tax  —   but it only applies to soft drinks with added sugar, and excludes all   beverages and fruit juices. (See the Treasury Department’s fact sheet on the soda tax). That means beverages like milkshakes and cranberry juices won’t be taxed even though they’re nearly as damaging to health from a nutrition standpoint.    Berkeley, California, has a tax on sugary drinks, but it also excludes sweetened milk products and 100 percent juices. Soda companies in the UK are considering legal action over the tax on the basis of discrimination, since the tax excludes other sugary drinks. They raise a fair point. If the taxes focused on sugar content and calories, many more beverage companies  —   makers of chocolate milk, energy drinks, and fruit juice  —   would be affected. But as Nestle pointed out, there are political reasons that doesn’t happen. ”A tax on sweetened milk,” she said, ”will bring down the wrath of the dairy industry, which no legislator wants to take on.” Correction: A previous version of this article incorrectly stated the details of exclusions on Berkeley’s soda tax.           ',\n",
              " 'Sessions won’t testify at congressional budget hearings but at Senate intelligence hearing instead  Attorney General Jeff Sessions, who had agreed to testify this week before the Senate and House appropriations committees about the Justice Department budget, wrote the chairmen of the committees Saturday and said he was sending his deputy to testify instead.  Sessions was scheduled to testify before Congress on Tuesday for the first time since he was confirmed as attorney general in February. In light of former FBI director James B. Comey’s testimony last week, Sessions was expected to get many questions from lawmakers about his contacts with Russian officials during the 2016 election campaign. Sessions wrote to the two chairmen that he would testify before the Senate Intelligence Committee on Tuesday instead. A Justice Department official said that committee hearing probably will be closed to the public.  In early March, The Washington Post reported that Sessions twice met with Russian Ambassador Sergey Kislyak during the campaign and did not disclose that to the Senate Judiciary Committee during his confirmation hearing in January. The next day, Sessions recused himself from the Russia investigation and said it would be overseen by his deputy attorney general, who last month appointed a special counsel to handle the probe.  [  Sessions recuses himself from Russia investigation probe]        (Victoria   Washington Post)   Sessions also was expected to get questions about his involvement in the firing of Comey and the news that he offered his resignation to President Trump at one point recently. “I previously accepted an invitation to testify on behalf of the Department of Justice before the House and Senate Appropriations Subcommittees about the department’s FY18 budget, which funds the department’s efforts in several important areas such as combating the opioid crisis and violent crime,” Sessions wrote to Sen. Richard C. Shelby ( .) chairman of the Appropriations subcommittee on commerce, justice, science and related agencies, and Rep. John Abney Culberson ( .) chairman of the House Appropriations subcommittee on commerce, justice, science and related agencies. “In light of reports regarding Mr. Comey’s recent testimony before the Senate Select Committee on Intelligence, it is important that I have an opportunity to address these matters in the appropriate forum,” Sessions wrote. “The Senate Intelligence Committee is the most appropriate forum for such matters, as it has been conducting an investigation and has access to relevant, classified information. ” Comey testified Thursday that the bureau had information about Sessions  —   before he recused himself from overseeing the investigation into Russian meddling in the 2016 election  —   that would have made it “problematic” for him to be involved in the probe.  [Comey said FBI information about Sessions would have made his involvement in Russia probe problematic]  Sessions wrote the chairmen that Deputy Attorney General Rod J. Rosenstein will take his place before both the House and Senate subcommittees to testify about the Justice Department’s budget.  Sessions said he was “pleased to accept” the invitation to appear before members of the Senate Select Committee on Tuesday. Spokesmen for the chairman and ranking minority member of the committee could not be reached to confirm whether the hearing will be open or closed to the public.       (Zoeann   Washington Post)   ']"
            ]
          },
          "metadata": {
            "tags": []
          },
          "execution_count": 12
        }
      ]
    },
    {
      "cell_type": "code",
      "metadata": {
        "id": "dH0EFhZAitgI",
        "colab_type": "code",
        "outputId": "5b0c12bc-06e6-44df-d4a3-88ed0b690dc8",
        "colab": {
          "base_uri": "https://localhost:8080/",
          "height": 35
        }
      },
      "source": [
        "len(small_text)"
      ],
      "execution_count": 13,
      "outputs": [
        {
          "output_type": "execute_result",
          "data": {
            "text/plain": [
              "13000"
            ]
          },
          "metadata": {
            "tags": []
          },
          "execution_count": 13
        }
      ]
    },
    {
      "cell_type": "markdown",
      "metadata": {
        "id": "e4K6F7sfBPF6",
        "colab_type": "text"
      },
      "source": [
        "## Clustering with tf-idf, k-means, and k-nn\n",
        "\n",
        "\n",
        "*   create tf-idf features\n",
        "*   cluster with k-means\n",
        "*   predidct with k-nn\n",
        "\n",
        "\n"
      ]
    },
    {
      "cell_type": "markdown",
      "metadata": {
        "id": "d_ZMQTurrcB3",
        "colab_type": "text"
      },
      "source": [
        "### Create Matrix of TF-IDF Features"
      ]
    },
    {
      "cell_type": "code",
      "metadata": {
        "id": "2hMvyiEgMB9s",
        "colab_type": "code",
        "colab": {}
      },
      "source": [
        "def preprocess_text(text):\n",
        "\n",
        "  # function to remove punctuation \n",
        "  def Punctuation(string): \n",
        "    return re.sub(r'[\\W_]', ' ', string)\n",
        "\n",
        "  # remove punctuation and perform tokenization\n",
        "  text = Punctuation(text.lower()).split()\n",
        "\n",
        "  # remove stop words and stem\n",
        "  stop_words = set(stopwords.words('english'))\n",
        "  stemmer = SnowballStemmer(\"english\")\n",
        "  text = Parallel(n_jobs=16)(delayed(stemmer.stem)(t) for t in text if not t in stop_words)\n",
        "\n",
        "  return text\n"
      ],
      "execution_count": 0,
      "outputs": []
    },
    {
      "cell_type": "code",
      "metadata": {
        "id": "BlMVZ3R6m3u4",
        "colab_type": "code",
        "colab": {}
      },
      "source": [
        "# instantiate tfidf vectorizer \n",
        "tfidf_vectorizer = TfidfVectorizer(max_features=5000, stop_words='english', use_idf=True, tokenizer=preprocess_text, ngram_range=(1,3))"
      ],
      "execution_count": 0,
      "outputs": []
    },
    {
      "cell_type": "code",
      "metadata": {
        "id": "ERDwOvRIqOzz",
        "colab_type": "code",
        "colab": {}
      },
      "source": [
        "# fit small_text to vectorizer (fit and transform)\n",
        "tfidf_matrix = tfidf_vectorizer.fit_transform(small_text)\n",
        "print(tfidf_matrix.shape)"
      ],
      "execution_count": 0,
      "outputs": []
    },
    {
      "cell_type": "code",
      "metadata": {
        "id": "qQdkuVXpsGS4",
        "colab_type": "code",
        "colab": {}
      },
      "source": [
        "# reduce memory \n",
        "tfidf_matrix = tfidf_matrix.astype(np.float32)"
      ],
      "execution_count": 0,
      "outputs": []
    },
    {
      "cell_type": "markdown",
      "metadata": {
        "id": "buQTeidTrTdd",
        "colab_type": "text"
      },
      "source": [
        "### Run K-Means Clustering "
      ]
    },
    {
      "cell_type": "code",
      "metadata": {
        "id": "qZOcpt_JzrJ5",
        "colab_type": "code",
        "colab": {}
      },
      "source": [
        "# set 25 clusters\n",
        "num_clusters = 25\n",
        "\n",
        "# instantiate k-means (set seed to 10)\n",
        "km = KMeans(n_clusters=num_clusters, random_state=10)\n",
        "\n",
        "# fit tf-idf features to k-means\n",
        "km.fit(tfidf_matrix)\n",
        "\n",
        "# list of cluster assignments \n",
        "clusters = km.labels_.tolist()"
      ],
      "execution_count": 0,
      "outputs": []
    },
    {
      "cell_type": "code",
      "metadata": {
        "id": "PGgSlunJBdyB",
        "colab_type": "code",
        "colab": {}
      },
      "source": [
        "# cosine similarities for each row with respective cluster center\n",
        "def cluster_sim(i, label):\n",
        " return cosine_similarity(tfidf_matrix[i].toarray(), km.cluster_centers_[label].reshape(1, -1))[0][0]\n",
        "\n",
        "cos_sim = Parallel(n_jobs=16)(delayed(cluster_sim)(i, label) for i,label in enumerate(km.labels_))"
      ],
      "execution_count": 0,
      "outputs": []
    },
    {
      "cell_type": "code",
      "metadata": {
        "id": "ZvAUqB9N89BL",
        "colab_type": "code",
        "colab": {}
      },
      "source": [
        "# sum of squared distances of samples to their closest cluster center.\n",
        "km.inertia_"
      ],
      "execution_count": 0,
      "outputs": []
    },
    {
      "cell_type": "code",
      "metadata": {
        "id": "N7g5G8jD6KMT",
        "colab_type": "code",
        "colab": {}
      },
      "source": [
        "# dataframe with title, cluster, and cosine similarity \n",
        "title_data = pd.DataFrame({'title':small_data.title, 'cluster':clusters, 'cos_sim':cos_sim})\n",
        "\n",
        "title_data.shape"
      ],
      "execution_count": 0,
      "outputs": []
    },
    {
      "cell_type": "code",
      "metadata": {
        "id": "W0jSRaADmGRv",
        "colab_type": "code",
        "colab": {}
      },
      "source": [
        "title_data.head()"
      ],
      "execution_count": 0,
      "outputs": []
    },
    {
      "cell_type": "code",
      "metadata": {
        "id": "BCKbniucOLbA",
        "colab_type": "code",
        "colab": {}
      },
      "source": [
        "# inspect titles with highest cosine similarity in clusters \n",
        "top_5 = title_data.groupby('cluster')['cos_sim'].nlargest(5)\n",
        "for i,ind in top_5.index:\n",
        "  print(\"cluster\", i)\n",
        "  print(just_titles[ind])\n",
        "  print('-------------')"
      ],
      "execution_count": 0,
      "outputs": []
    },
    {
      "cell_type": "markdown",
      "metadata": {
        "id": "AgFJfTEFwFDo",
        "colab_type": "text"
      },
      "source": [
        "### Predict Cluster of Input"
      ]
    },
    {
      "cell_type": "code",
      "metadata": {
        "id": "szMoBqi1wSuD",
        "colab_type": "code",
        "colab": {}
      },
      "source": [
        "input_topic = [\"Hillary Clinton defends handling of Benghazi attack\", \"Women's March Highlights\", \"Hillary Clinton emails\"]"
      ],
      "execution_count": 0,
      "outputs": []
    },
    {
      "cell_type": "code",
      "metadata": {
        "id": "Y4feyPvMwObG",
        "colab_type": "code",
        "colab": {}
      },
      "source": [
        "# run tfidf vectorizer on input (transform)\n",
        "tfidf_input = tfidf_vectorizer.transform(input_topic)\n",
        "\n",
        "# function to make tfidf features into list for k-nn \n",
        "def make_list(features, i): \n",
        "  return features.getrow(i).toarray()[0].tolist()\n",
        "\n",
        "# make list of tfidf_input\n",
        "tfidf_input = Parallel(n_jobs=16)(delayed(make_list)(tfidf_input, i) for i in range(tfidf_input.shape[0]))"
      ],
      "execution_count": 0,
      "outputs": []
    },
    {
      "cell_type": "code",
      "metadata": {
        "id": "pWK5pgF-s8JX",
        "colab_type": "code",
        "colab": {}
      },
      "source": [
        "# make list of tfidf_matrix\n",
        "tfidf_list = Parallel(n_jobs=16)(delayed(make_list)(tfidf_matrix, i) for i in range(tfidf_matrix.shape[0]))\n"
      ],
      "execution_count": 0,
      "outputs": []
    },
    {
      "cell_type": "code",
      "metadata": {
        "id": "hcdaRmCDlnXt",
        "colab_type": "code",
        "colab": {}
      },
      "source": [
        "np.random.seed(5)\n",
        "X_train = tfidf_list\n",
        "y_train = title_data.cluster\n",
        "X_test  = tfidf_input\n",
        "\n",
        "# create and fit a nearest-neighbor classifier\n",
        "from sklearn.neighbors import KNeighborsClassifier\n",
        "knn = KNeighborsClassifier()\n",
        "knn.fit(X_train, y_train) \n",
        "\n",
        "res = knn.predict(X_test)"
      ],
      "execution_count": 0,
      "outputs": []
    },
    {
      "cell_type": "code",
      "metadata": {
        "id": "AuXKhKub7Ov_",
        "colab_type": "code",
        "colab": {}
      },
      "source": [
        "print(res)"
      ],
      "execution_count": 0,
      "outputs": []
    },
    {
      "cell_type": "code",
      "metadata": {
        "id": "yR_arJegAV15",
        "colab_type": "code",
        "colab": {}
      },
      "source": [
        "for i,ind in top_5.index:\n",
        "  if (i==8) | (i==11):\n",
        "    print(\"cluster\", i)\n",
        "    print(just_titles[ind])\n",
        "    print('-------------')\n",
        "\n",
        "# [\"Hillary Clinton defends handling of Benghazi attack\", \"Women's March Highlights\", \"Hillary Clinton emails\"]"
      ],
      "execution_count": 0,
      "outputs": []
    },
    {
      "cell_type": "code",
      "metadata": {
        "id": "waw-GjFzpNET",
        "colab_type": "code",
        "colab": {}
      },
      "source": [
        ""
      ],
      "execution_count": 0,
      "outputs": []
    },
    {
      "cell_type": "markdown",
      "metadata": {
        "id": "tK-5qkWX0fcK",
        "colab_type": "text"
      },
      "source": [
        "## Clustering with the Universal Sentence Encoder \n",
        "\n",
        "run seperately from tf-idf"
      ]
    },
    {
      "cell_type": "markdown",
      "metadata": {
        "id": "dPzMmZWiCT4C",
        "colab_type": "text"
      },
      "source": [
        "### Create Embeddings on Training Data"
      ]
    },
    {
      "cell_type": "code",
      "metadata": {
        "id": "WaDWR7ECPODW",
        "colab_type": "code",
        "outputId": "ed0e8f8e-7534-4a6c-ccd5-004d9b562dae",
        "colab": {
          "base_uri": "https://localhost:8080/",
          "height": 35
        }
      },
      "source": [
        "!pwd"
      ],
      "execution_count": 0,
      "outputs": [
        {
          "output_type": "stream",
          "text": [
            "/home/silvsilva/w266Final\r\n"
          ],
          "name": "stdout"
        }
      ]
    },
    {
      "cell_type": "code",
      "metadata": {
        "id": "c1szPzWf0ohZ",
        "colab_type": "code",
        "colab": {}
      },
      "source": [
        "# load the Universal Sentence Encoder's TF Hub module\n",
        "\n",
        "#module_url = \"https://tfhub.dev/google/universal-sentence-encoder/4\" #param [\"https://tfhub.dev/google/universal-sentence-encoder/4\", \"https://tfhub.dev/google/universal-sentence-encoder-large/5\"]\n",
        "#model = hub.load(module_url)\n",
        "#print (\"module %s loaded\" % module_url)\n",
        "\n",
        "# download model from https://tfhub.dev/google/universal-sentence-encoder/4 and save locally \n",
        "model = hub.load(\"tmp\")\n"
      ],
      "execution_count": 0,
      "outputs": []
    },
    {
      "cell_type": "code",
      "metadata": {
        "id": "I89VehR_0osy",
        "colab_type": "code",
        "colab": {}
      },
      "source": [
        "# reduce logging output\n",
        "logging.set_verbosity(logging.ERROR)\n",
        "\n",
        "# compute a representation for each article\n",
        "small_embeddings = model(small_text)"
      ],
      "execution_count": 0,
      "outputs": []
    },
    {
      "cell_type": "code",
      "metadata": {
        "id": "yQIBcTS88NEu",
        "colab_type": "code",
        "colab": {}
      },
      "source": [
        "# semantic similarity of two sentences can be trivially computed as the inner product of the encodings\n",
        "corr = np.inner(small_embeddings, small_embeddings)"
      ],
      "execution_count": 0,
      "outputs": []
    },
    {
      "cell_type": "code",
      "metadata": {
        "id": "3Nn_UqU_AxFN",
        "colab_type": "code",
        "outputId": "22a89a72-30d8-43e6-9d0e-3f6e65baa89a",
        "colab": {
          "base_uri": "https://localhost:8080/",
          "height": 973
        }
      },
      "source": [
        "# data frame of titles and semantic similarities\n",
        "corr_df = pd.DataFrame(corr)\n",
        "corr_df.columns = just_titles\n",
        "corr_df.index = just_titles\n",
        "\n",
        "corr_df.head()"
      ],
      "execution_count": 17,
      "outputs": [
        {
          "output_type": "execute_result",
          "data": {
            "text/plain": [
              "                                                    Chaos in the Family, Chaos in the State: The White Working Class’s Dysfunction  \\\n",
              "Chaos in the Family, Chaos in the State: The Wh...                                           1.000000                                \n",
              " US Civil Rights Commission Will Observe Standi...                                           0.291457                                \n",
              "Venezuela hunts rogue helicopter attackers, Mad...                                           0.336936                                \n",
              "Fruit juice isn’t much better for you than soda...                                           0.256971                                \n",
              "Sessions won’t testify at congressional budget ...                                           0.181461                                \n",
              "\n",
              "                                                     US Civil Rights Commission Will Observe Standing Rock Standoff  \\\n",
              "Chaos in the Family, Chaos in the State: The Wh...                                           0.291457                 \n",
              " US Civil Rights Commission Will Observe Standi...                                           1.000000                 \n",
              "Venezuela hunts rogue helicopter attackers, Mad...                                           0.543982                 \n",
              "Fruit juice isn’t much better for you than soda...                                           0.109070                 \n",
              "Sessions won’t testify at congressional budget ...                                           0.411541                 \n",
              "\n",
              "                                                    Venezuela hunts rogue helicopter attackers, Maduro foes suspicious  \\\n",
              "Chaos in the Family, Chaos in the State: The Wh...                                           0.336936                    \n",
              " US Civil Rights Commission Will Observe Standi...                                           0.543982                    \n",
              "Venezuela hunts rogue helicopter attackers, Mad...                                           1.000000                    \n",
              "Fruit juice isn’t much better for you than soda...                                           0.106961                    \n",
              "Sessions won’t testify at congressional budget ...                                           0.405647                    \n",
              "\n",
              "                                                    Fruit juice isn’t much better for you than soda. Let’s stop pretending otherwise.  \\\n",
              "Chaos in the Family, Chaos in the State: The Wh...                                           0.256971                                   \n",
              " US Civil Rights Commission Will Observe Standi...                                           0.109070                                   \n",
              "Venezuela hunts rogue helicopter attackers, Mad...                                           0.106961                                   \n",
              "Fruit juice isn’t much better for you than soda...                                           0.999999                                   \n",
              "Sessions won’t testify at congressional budget ...                                           0.052951                                   \n",
              "\n",
              "                                                    Sessions won’t testify at congressional budget hearings but at Senate intelligence hearing instead  \\\n",
              "Chaos in the Family, Chaos in the State: The Wh...                                           0.181461                                                    \n",
              " US Civil Rights Commission Will Observe Standi...                                           0.411541                                                    \n",
              "Venezuela hunts rogue helicopter attackers, Mad...                                           0.405647                                                    \n",
              "Fruit juice isn’t much better for you than soda...                                           0.052951                                                    \n",
              "Sessions won’t testify at congressional budget ...                                           1.000000                                                    \n",
              "\n",
              "                                                    Qatar: UAE and Saudi Arabia step up pressure in diplomatic crisis  \\\n",
              "Chaos in the Family, Chaos in the State: The Wh...                                           0.282036                   \n",
              " US Civil Rights Commission Will Observe Standi...                                           0.422529                   \n",
              "Venezuela hunts rogue helicopter attackers, Mad...                                           0.540752                   \n",
              "Fruit juice isn’t much better for you than soda...                                           0.109257                   \n",
              "Sessions won’t testify at congressional budget ...                                           0.384612                   \n",
              "\n",
              "                                                    ’The 4-Hour Workweek’ author says a 3-step process he learned from Tony Robbins drastically improved his life  \\\n",
              "Chaos in the Family, Chaos in the State: The Wh...                                           0.389551                                                               \n",
              " US Civil Rights Commission Will Observe Standi...                                           0.224046                                                               \n",
              "Venezuela hunts rogue helicopter attackers, Mad...                                           0.184615                                                               \n",
              "Fruit juice isn’t much better for you than soda...                                           0.242693                                                               \n",
              "Sessions won’t testify at congressional budget ...                                           0.176325                                                               \n",
              "\n",
              "                                                    Rick Perry Attacked for Keeping His Word  \\\n",
              "Chaos in the Family, Chaos in the State: The Wh...                                  0.316919   \n",
              " US Civil Rights Commission Will Observe Standi...                                  0.271750   \n",
              "Venezuela hunts rogue helicopter attackers, Mad...                                  0.287032   \n",
              "Fruit juice isn’t much better for you than soda...                                  0.108912   \n",
              "Sessions won’t testify at congressional budget ...                                  0.368784   \n",
              "\n",
              "                                                    Watch how a mathematician explains an astonishing coincidence  \\\n",
              "Chaos in the Family, Chaos in the State: The Wh...                                           0.289691               \n",
              " US Civil Rights Commission Will Observe Standi...                                           0.141546               \n",
              "Venezuela hunts rogue helicopter attackers, Mad...                                           0.161188               \n",
              "Fruit juice isn’t much better for you than soda...                                           0.146040               \n",
              "Sessions won’t testify at congressional budget ...                                           0.109351               \n",
              "\n",
              "                                                    Second baby bald eagle begins hatching process at National Arboretum  \\\n",
              "Chaos in the Family, Chaos in the State: The Wh...                                           0.295462                      \n",
              " US Civil Rights Commission Will Observe Standi...                                           0.381025                      \n",
              "Venezuela hunts rogue helicopter attackers, Mad...                                           0.340552                      \n",
              "Fruit juice isn’t much better for you than soda...                                           0.155383                      \n",
              "Sessions won’t testify at congressional budget ...                                           0.225344                      \n",
              "\n",
              "                                                    ...  \\\n",
              "Chaos in the Family, Chaos in the State: The Wh...  ...   \n",
              " US Civil Rights Commission Will Observe Standi...  ...   \n",
              "Venezuela hunts rogue helicopter attackers, Mad...  ...   \n",
              "Fruit juice isn’t much better for you than soda...  ...   \n",
              "Sessions won’t testify at congressional budget ...  ...   \n",
              "\n",
              "                                                    McDonald’s, Chick-fil-A, and Subway are making changes to profit off the shifting definition of ’healthy’  \\\n",
              "Chaos in the Family, Chaos in the State: The Wh...                                           0.217885                                                           \n",
              " US Civil Rights Commission Will Observe Standi...                                           0.059385                                                           \n",
              "Venezuela hunts rogue helicopter attackers, Mad...                                           0.084700                                                           \n",
              "Fruit juice isn’t much better for you than soda...                                           0.344664                                                           \n",
              "Sessions won’t testify at congressional budget ...                                           0.033626                                                           \n",
              "\n",
              "                                                    Bernie says the AP twisted his ‘messy’ convention prediction  \\\n",
              "Chaos in the Family, Chaos in the State: The Wh...                                           0.347041              \n",
              " US Civil Rights Commission Will Observe Standi...                                           0.298766              \n",
              "Venezuela hunts rogue helicopter attackers, Mad...                                           0.344075              \n",
              "Fruit juice isn’t much better for you than soda...                                           0.227382              \n",
              "Sessions won’t testify at congressional budget ...                                           0.316896              \n",
              "\n",
              "                                                     Nevada’s Joe Heck Aims to Keep the Senate Republican  \\\n",
              "Chaos in the Family, Chaos in the State: The Wh...                                           0.459125       \n",
              " US Civil Rights Commission Will Observe Standi...                                           0.349619       \n",
              "Venezuela hunts rogue helicopter attackers, Mad...                                           0.400920       \n",
              "Fruit juice isn’t much better for you than soda...                                           0.186247       \n",
              "Sessions won’t testify at congressional budget ...                                           0.351867       \n",
              "\n",
              "                                                    Donald Trump: John McCain and Lindsey Graham ‘Looking to Start World War III’  \\\n",
              "Chaos in the Family, Chaos in the State: The Wh...                                           0.317545                               \n",
              " US Civil Rights Commission Will Observe Standi...                                           0.275823                               \n",
              "Venezuela hunts rogue helicopter attackers, Mad...                                           0.310918                               \n",
              "Fruit juice isn’t much better for you than soda...                                           0.101332                               \n",
              "Sessions won’t testify at congressional budget ...                                           0.394767                               \n",
              "\n",
              "                                                    Radiohead Announces New Album, Hear Another New Song  \\\n",
              "Chaos in the Family, Chaos in the State: The Wh...                                           0.065338      \n",
              " US Civil Rights Commission Will Observe Standi...                                           0.209703      \n",
              "Venezuela hunts rogue helicopter attackers, Mad...                                           0.255471      \n",
              "Fruit juice isn’t much better for you than soda...                                           0.064881      \n",
              "Sessions won’t testify at congressional budget ...                                           0.222523      \n",
              "\n",
              "                                                    Roger Federer and Rafael Nadal roll back years for unexpected encore  \\\n",
              "Chaos in the Family, Chaos in the State: The Wh...                                           0.159626                      \n",
              " US Civil Rights Commission Will Observe Standi...                                           0.112333                      \n",
              "Venezuela hunts rogue helicopter attackers, Mad...                                           0.267033                      \n",
              "Fruit juice isn’t much better for you than soda...                                           0.121565                      \n",
              "Sessions won’t testify at congressional budget ...                                           0.173553                      \n",
              "\n",
              "                                                    Why voters like She’s Not Trump  \\\n",
              "Chaos in the Family, Chaos in the State: The Wh...                         0.458244   \n",
              " US Civil Rights Commission Will Observe Standi...                         0.268490   \n",
              "Venezuela hunts rogue helicopter attackers, Mad...                         0.259199   \n",
              "Fruit juice isn’t much better for you than soda...                         0.248952   \n",
              "Sessions won’t testify at congressional budget ...                         0.287082   \n",
              "\n",
              "                                                    Advanced Placement Tests To Hide History of Religion and Islamic Jihad in Europe   \\\n",
              "Chaos in the Family, Chaos in the State: The Wh...                                           0.456368                                   \n",
              " US Civil Rights Commission Will Observe Standi...                                           0.271677                                   \n",
              "Venezuela hunts rogue helicopter attackers, Mad...                                           0.362642                                   \n",
              "Fruit juice isn’t much better for you than soda...                                           0.207818                                   \n",
              "Sessions won’t testify at congressional budget ...                                           0.243409                                   \n",
              "\n",
              "                                                    Little Simz  \\\n",
              "Chaos in the Family, Chaos in the State: The Wh...     0.228482   \n",
              " US Civil Rights Commission Will Observe Standi...     0.186529   \n",
              "Venezuela hunts rogue helicopter attackers, Mad...     0.265640   \n",
              "Fruit juice isn’t much better for you than soda...     0.171043   \n",
              "Sessions won’t testify at congressional budget ...     0.216823   \n",
              "\n",
              "                                                    Wilhelmina to feature transgender model this fall  \n",
              "Chaos in the Family, Chaos in the State: The Wh...                                           0.326126  \n",
              " US Civil Rights Commission Will Observe Standi...                                           0.228896  \n",
              "Venezuela hunts rogue helicopter attackers, Mad...                                           0.168313  \n",
              "Fruit juice isn’t much better for you than soda...                                           0.204495  \n",
              "Sessions won’t testify at congressional budget ...                                           0.191981  \n",
              "\n",
              "[5 rows x 13000 columns]"
            ],
            "text/html": [
              "<div>\n",
              "<style scoped>\n",
              "    .dataframe tbody tr th:only-of-type {\n",
              "        vertical-align: middle;\n",
              "    }\n",
              "\n",
              "    .dataframe tbody tr th {\n",
              "        vertical-align: top;\n",
              "    }\n",
              "\n",
              "    .dataframe thead th {\n",
              "        text-align: right;\n",
              "    }\n",
              "</style>\n",
              "<table border=\"1\" class=\"dataframe\">\n",
              "  <thead>\n",
              "    <tr style=\"text-align: right;\">\n",
              "      <th></th>\n",
              "      <th>Chaos in the Family, Chaos in the State: The White Working Class’s Dysfunction</th>\n",
              "      <th>US Civil Rights Commission Will Observe Standing Rock Standoff</th>\n",
              "      <th>Venezuela hunts rogue helicopter attackers, Maduro foes suspicious</th>\n",
              "      <th>Fruit juice isn’t much better for you than soda. Let’s stop pretending otherwise.</th>\n",
              "      <th>Sessions won’t testify at congressional budget hearings but at Senate intelligence hearing instead</th>\n",
              "      <th>Qatar: UAE and Saudi Arabia step up pressure in diplomatic crisis</th>\n",
              "      <th>’The 4-Hour Workweek’ author says a 3-step process he learned from Tony Robbins drastically improved his life</th>\n",
              "      <th>Rick Perry Attacked for Keeping His Word</th>\n",
              "      <th>Watch how a mathematician explains an astonishing coincidence</th>\n",
              "      <th>Second baby bald eagle begins hatching process at National Arboretum</th>\n",
              "      <th>...</th>\n",
              "      <th>McDonald’s, Chick-fil-A, and Subway are making changes to profit off the shifting definition of ’healthy’</th>\n",
              "      <th>Bernie says the AP twisted his ‘messy’ convention prediction</th>\n",
              "      <th>Nevada’s Joe Heck Aims to Keep the Senate Republican</th>\n",
              "      <th>Donald Trump: John McCain and Lindsey Graham ‘Looking to Start World War III’</th>\n",
              "      <th>Radiohead Announces New Album, Hear Another New Song</th>\n",
              "      <th>Roger Federer and Rafael Nadal roll back years for unexpected encore</th>\n",
              "      <th>Why voters like She’s Not Trump</th>\n",
              "      <th>Advanced Placement Tests To Hide History of Religion and Islamic Jihad in Europe</th>\n",
              "      <th>Little Simz</th>\n",
              "      <th>Wilhelmina to feature transgender model this fall</th>\n",
              "    </tr>\n",
              "  </thead>\n",
              "  <tbody>\n",
              "    <tr>\n",
              "      <th>Chaos in the Family, Chaos in the State: The White Working Class’s Dysfunction</th>\n",
              "      <td>1.000000</td>\n",
              "      <td>0.291457</td>\n",
              "      <td>0.336936</td>\n",
              "      <td>0.256971</td>\n",
              "      <td>0.181461</td>\n",
              "      <td>0.282036</td>\n",
              "      <td>0.389551</td>\n",
              "      <td>0.316919</td>\n",
              "      <td>0.289691</td>\n",
              "      <td>0.295462</td>\n",
              "      <td>...</td>\n",
              "      <td>0.217885</td>\n",
              "      <td>0.347041</td>\n",
              "      <td>0.459125</td>\n",
              "      <td>0.317545</td>\n",
              "      <td>0.065338</td>\n",
              "      <td>0.159626</td>\n",
              "      <td>0.458244</td>\n",
              "      <td>0.456368</td>\n",
              "      <td>0.228482</td>\n",
              "      <td>0.326126</td>\n",
              "    </tr>\n",
              "    <tr>\n",
              "      <th>US Civil Rights Commission Will Observe Standing Rock Standoff</th>\n",
              "      <td>0.291457</td>\n",
              "      <td>1.000000</td>\n",
              "      <td>0.543982</td>\n",
              "      <td>0.109070</td>\n",
              "      <td>0.411541</td>\n",
              "      <td>0.422529</td>\n",
              "      <td>0.224046</td>\n",
              "      <td>0.271750</td>\n",
              "      <td>0.141546</td>\n",
              "      <td>0.381025</td>\n",
              "      <td>...</td>\n",
              "      <td>0.059385</td>\n",
              "      <td>0.298766</td>\n",
              "      <td>0.349619</td>\n",
              "      <td>0.275823</td>\n",
              "      <td>0.209703</td>\n",
              "      <td>0.112333</td>\n",
              "      <td>0.268490</td>\n",
              "      <td>0.271677</td>\n",
              "      <td>0.186529</td>\n",
              "      <td>0.228896</td>\n",
              "    </tr>\n",
              "    <tr>\n",
              "      <th>Venezuela hunts rogue helicopter attackers, Maduro foes suspicious</th>\n",
              "      <td>0.336936</td>\n",
              "      <td>0.543982</td>\n",
              "      <td>1.000000</td>\n",
              "      <td>0.106961</td>\n",
              "      <td>0.405647</td>\n",
              "      <td>0.540752</td>\n",
              "      <td>0.184615</td>\n",
              "      <td>0.287032</td>\n",
              "      <td>0.161188</td>\n",
              "      <td>0.340552</td>\n",
              "      <td>...</td>\n",
              "      <td>0.084700</td>\n",
              "      <td>0.344075</td>\n",
              "      <td>0.400920</td>\n",
              "      <td>0.310918</td>\n",
              "      <td>0.255471</td>\n",
              "      <td>0.267033</td>\n",
              "      <td>0.259199</td>\n",
              "      <td>0.362642</td>\n",
              "      <td>0.265640</td>\n",
              "      <td>0.168313</td>\n",
              "    </tr>\n",
              "    <tr>\n",
              "      <th>Fruit juice isn’t much better for you than soda. Let’s stop pretending otherwise.</th>\n",
              "      <td>0.256971</td>\n",
              "      <td>0.109070</td>\n",
              "      <td>0.106961</td>\n",
              "      <td>0.999999</td>\n",
              "      <td>0.052951</td>\n",
              "      <td>0.109257</td>\n",
              "      <td>0.242693</td>\n",
              "      <td>0.108912</td>\n",
              "      <td>0.146040</td>\n",
              "      <td>0.155383</td>\n",
              "      <td>...</td>\n",
              "      <td>0.344664</td>\n",
              "      <td>0.227382</td>\n",
              "      <td>0.186247</td>\n",
              "      <td>0.101332</td>\n",
              "      <td>0.064881</td>\n",
              "      <td>0.121565</td>\n",
              "      <td>0.248952</td>\n",
              "      <td>0.207818</td>\n",
              "      <td>0.171043</td>\n",
              "      <td>0.204495</td>\n",
              "    </tr>\n",
              "    <tr>\n",
              "      <th>Sessions won’t testify at congressional budget hearings but at Senate intelligence hearing instead</th>\n",
              "      <td>0.181461</td>\n",
              "      <td>0.411541</td>\n",
              "      <td>0.405647</td>\n",
              "      <td>0.052951</td>\n",
              "      <td>1.000000</td>\n",
              "      <td>0.384612</td>\n",
              "      <td>0.176325</td>\n",
              "      <td>0.368784</td>\n",
              "      <td>0.109351</td>\n",
              "      <td>0.225344</td>\n",
              "      <td>...</td>\n",
              "      <td>0.033626</td>\n",
              "      <td>0.316896</td>\n",
              "      <td>0.351867</td>\n",
              "      <td>0.394767</td>\n",
              "      <td>0.222523</td>\n",
              "      <td>0.173553</td>\n",
              "      <td>0.287082</td>\n",
              "      <td>0.243409</td>\n",
              "      <td>0.216823</td>\n",
              "      <td>0.191981</td>\n",
              "    </tr>\n",
              "  </tbody>\n",
              "</table>\n",
              "<p>5 rows × 13000 columns</p>\n",
              "</div>"
            ]
          },
          "metadata": {
            "tags": []
          },
          "execution_count": 17
        }
      ]
    },
    {
      "cell_type": "code",
      "metadata": {
        "id": "BzfcHB1YBFd-",
        "colab_type": "code",
        "outputId": "96f5d3ff-4cba-4801-d169-2d4bf846ba8d",
        "colab": {
          "base_uri": "https://localhost:8080/",
          "height": 449
        }
      },
      "source": [
        "# function to return the column index of the top five values in a row of a dataframe\n",
        "def find_top5ind(df, i):\n",
        "  return list(list(zip(*heapq.nlargest(5, enumerate(df.iloc[i,:]), key=operator.itemgetter(1))))[0])\n",
        "\n",
        "# function to return the top 5 values in a list\n",
        "def find_top5(lst, ind):\n",
        "  return [lst[i] for i in ind]\n",
        "\n",
        "# find index of 5 most similar titles \n",
        "top5_ind = Parallel(n_jobs=16)(delayed(find_top5ind)(corr_df, i) for i in range(len(corr_df)))\n",
        "\n",
        "# show most similar titles -- sanity check\n",
        "top5 = Parallel(n_jobs=16)(delayed(find_top5)(just_titles, ind) for ind in top5_ind)\n",
        "\n",
        "top5[:5]"
      ],
      "execution_count": 18,
      "outputs": [
        {
          "output_type": "execute_result",
          "data": {
            "text/plain": [
              "[['Chaos in the Family, Chaos in the State: The White Working Class’s Dysfunction',\n",
              "  'After Trump, conservatives should stop longing for the past — and learn a little humility',\n",
              "  'The alt-right is more than warmed-over white supremacy. It’s that, but way way weirder.',\n",
              "  'The Return of ‘Street Corner Conservatism’',\n",
              "  'Liberals should get behind marriage (Opinion)'],\n",
              " [' US Civil Rights Commission Will Observe Standing Rock\\xa0Standoff',\n",
              "  ' Cory Booker Calls For Federal Investigation Into Police Tactics At Dakota Access\\xa0Pipeline',\n",
              "  'Army will close Dakota pipeline protesters’ campsite, Sioux leader\\xa0says',\n",
              "  'Dakota Access Pipeline protest site is cleared',\n",
              "  'Protesters, Police Still Clashing Over Disputed North Dakota Pipeline'],\n",
              " ['Venezuela hunts rogue helicopter attackers, Maduro foes suspicious',\n",
              "  'Venezuelan opposition blocks streets to protest Maduro power shakeup',\n",
              "  'Protester dies, minister sacked after Paraguay re-election vote',\n",
              "  'Venezuela Erupts In ’Mother Of All Protests’ As Anti-Maduro Sentiment Seethes',\n",
              "  'Confusion In Venezuela After Helicopter Attack On Supreme Court'],\n",
              " ['Fruit juice isn’t much better for you than soda. Let’s stop pretending otherwise.',\n",
              "  'Souring On Sweet? Voters In 4 Cities Pass Soda Tax Measures',\n",
              "  'Tax Soda To Fight Obesity, WHO Urges Nations Around The Globe',\n",
              "  'How The Food Industry Manipulates Taste Buds With ’Salt Sugar Fat’',\n",
              "  ' Nutrition Labels Will Now Show Calories For The Whole Tub Of Ice\\xa0Cream'],\n",
              " ['Sessions won’t testify at congressional budget hearings but at Senate intelligence hearing instead',\n",
              "  'Feinstein calls for investigation of ’all matters related to obstruction of justice’',\n",
              "  'Jeff Sessions Pushes Back On Parts Of Comey’s Testimony',\n",
              "  'Top Democrat calls for investigation of Loretta Lynch’s Clinton\\xa0probe',\n",
              "  ' Jeff Sessions Recuses Himself From Any Federal Investigation Into The Presidential Election']]"
            ]
          },
          "metadata": {
            "tags": []
          },
          "execution_count": 18
        }
      ]
    },
    {
      "cell_type": "markdown",
      "metadata": {
        "id": "0BoZUgwkSxqv",
        "colab_type": "text"
      },
      "source": [
        "### Assign Cluster to Input"
      ]
    },
    {
      "cell_type": "code",
      "metadata": {
        "id": "dR1IAgUzpzx_",
        "colab_type": "code",
        "colab": {}
      },
      "source": [
        "# examples of user given inputs\n",
        "input_topic = [\"Hillary Clinton defends handling of Benghazi attack\", \"Women's March Highlights\", \"Hillary Clinton emails\"]\n",
        "\n",
        "# compute a representation for each input\n",
        "input_embeddings = model(input_topic)"
      ],
      "execution_count": 0,
      "outputs": []
    },
    {
      "cell_type": "code",
      "metadata": {
        "id": "gTCA7uDVqTBs",
        "colab_type": "code",
        "colab": {}
      },
      "source": [
        "# semantic similarity between inputs and training articles\n",
        "inp_corr = np.inner(input_embeddings, small_embeddings)"
      ],
      "execution_count": 0,
      "outputs": []
    },
    {
      "cell_type": "code",
      "metadata": {
        "id": "4yXrp2mjqZjV",
        "colab_type": "code",
        "outputId": "1a778584-9c49-48a1-fda5-be9285501903",
        "colab": {
          "base_uri": "https://localhost:8080/",
          "height": 550
        }
      },
      "source": [
        "# data frame of titles and semantic similarities\n",
        "inp_df = pd.DataFrame(inp_corr)\n",
        "inp_df.columns = just_titles\n",
        "inp_df.index = input_topic\n",
        "\n",
        "inp_df"
      ],
      "execution_count": 21,
      "outputs": [
        {
          "output_type": "execute_result",
          "data": {
            "text/plain": [
              "                                                    Chaos in the Family, Chaos in the State: The White Working Class’s Dysfunction  \\\n",
              "Hillary Clinton defends handling of Benghazi at...                                           0.019261                                \n",
              "Women's March Highlights                                                                     0.045296                                \n",
              "Hillary Clinton emails                                                                       0.036642                                \n",
              "\n",
              "                                                     US Civil Rights Commission Will Observe Standing Rock Standoff  \\\n",
              "Hillary Clinton defends handling of Benghazi at...                                           0.135737                 \n",
              "Women's March Highlights                                                                     0.119294                 \n",
              "Hillary Clinton emails                                                                       0.032883                 \n",
              "\n",
              "                                                    Venezuela hunts rogue helicopter attackers, Maduro foes suspicious  \\\n",
              "Hillary Clinton defends handling of Benghazi at...                                           0.213940                    \n",
              "Women's March Highlights                                                                    -0.000519                    \n",
              "Hillary Clinton emails                                                                       0.058746                    \n",
              "\n",
              "                                                    Fruit juice isn’t much better for you than soda. Let’s stop pretending otherwise.  \\\n",
              "Hillary Clinton defends handling of Benghazi at...                                          -0.040233                                   \n",
              "Women's March Highlights                                                                     0.065587                                   \n",
              "Hillary Clinton emails                                                                       0.017771                                   \n",
              "\n",
              "                                                    Sessions won’t testify at congressional budget hearings but at Senate intelligence hearing instead  \\\n",
              "Hillary Clinton defends handling of Benghazi at...                                           0.270479                                                    \n",
              "Women's March Highlights                                                                     0.049757                                                    \n",
              "Hillary Clinton emails                                                                       0.199208                                                    \n",
              "\n",
              "                                                    Qatar: UAE and Saudi Arabia step up pressure in diplomatic crisis  \\\n",
              "Hillary Clinton defends handling of Benghazi at...                                           0.242178                   \n",
              "Women's March Highlights                                                                    -0.028455                   \n",
              "Hillary Clinton emails                                                                       0.109163                   \n",
              "\n",
              "                                                    ’The 4-Hour Workweek’ author says a 3-step process he learned from Tony Robbins drastically improved his life  \\\n",
              "Hillary Clinton defends handling of Benghazi at...                                          -0.059264                                                               \n",
              "Women's March Highlights                                                                    -0.019417                                                               \n",
              "Hillary Clinton emails                                                                      -0.048110                                                               \n",
              "\n",
              "                                                    Rick Perry Attacked for Keeping His Word  \\\n",
              "Hillary Clinton defends handling of Benghazi at...                                  0.235375   \n",
              "Women's March Highlights                                                            0.070615   \n",
              "Hillary Clinton emails                                                              0.151369   \n",
              "\n",
              "                                                    Watch how a mathematician explains an astonishing coincidence  \\\n",
              "Hillary Clinton defends handling of Benghazi at...                                           0.039634               \n",
              "Women's March Highlights                                                                     0.004875               \n",
              "Hillary Clinton emails                                                                       0.013369               \n",
              "\n",
              "                                                    Second baby bald eagle begins hatching process at National Arboretum  \\\n",
              "Hillary Clinton defends handling of Benghazi at...                                           0.098044                      \n",
              "Women's March Highlights                                                                     0.166220                      \n",
              "Hillary Clinton emails                                                                       0.053923                      \n",
              "\n",
              "                                                    ...  \\\n",
              "Hillary Clinton defends handling of Benghazi at...  ...   \n",
              "Women's March Highlights                            ...   \n",
              "Hillary Clinton emails                              ...   \n",
              "\n",
              "                                                    McDonald’s, Chick-fil-A, and Subway are making changes to profit off the shifting definition of ’healthy’  \\\n",
              "Hillary Clinton defends handling of Benghazi at...                                           0.077255                                                           \n",
              "Women's March Highlights                                                                     0.006225                                                           \n",
              "Hillary Clinton emails                                                                       0.073164                                                           \n",
              "\n",
              "                                                    Bernie says the AP twisted his ‘messy’ convention prediction  \\\n",
              "Hillary Clinton defends handling of Benghazi at...                                           0.288595              \n",
              "Women's March Highlights                                                                     0.128500              \n",
              "Hillary Clinton emails                                                                       0.322738              \n",
              "\n",
              "                                                     Nevada’s Joe Heck Aims to Keep the Senate Republican  \\\n",
              "Hillary Clinton defends handling of Benghazi at...                                           0.195516       \n",
              "Women's March Highlights                                                                     0.060778       \n",
              "Hillary Clinton emails                                                                       0.131154       \n",
              "\n",
              "                                                    Donald Trump: John McCain and Lindsey Graham ‘Looking to Start World War III’  \\\n",
              "Hillary Clinton defends handling of Benghazi at...                                           0.280349                               \n",
              "Women's March Highlights                                                                     0.000330                               \n",
              "Hillary Clinton emails                                                                       0.256044                               \n",
              "\n",
              "                                                    Radiohead Announces New Album, Hear Another New Song  \\\n",
              "Hillary Clinton defends handling of Benghazi at...                                           0.027464      \n",
              "Women's March Highlights                                                                     0.051476      \n",
              "Hillary Clinton emails                                                                       0.063897      \n",
              "\n",
              "                                                    Roger Federer and Rafael Nadal roll back years for unexpected encore  \\\n",
              "Hillary Clinton defends handling of Benghazi at...                                           0.020349                      \n",
              "Women's March Highlights                                                                     0.025595                      \n",
              "Hillary Clinton emails                                                                       0.047352                      \n",
              "\n",
              "                                                    Why voters like She’s Not Trump  \\\n",
              "Hillary Clinton defends handling of Benghazi at...                         0.281599   \n",
              "Women's March Highlights                                                   0.123450   \n",
              "Hillary Clinton emails                                                     0.367134   \n",
              "\n",
              "                                                    Advanced Placement Tests To Hide History of Religion and Islamic Jihad in Europe   \\\n",
              "Hillary Clinton defends handling of Benghazi at...                                           0.114124                                   \n",
              "Women's March Highlights                                                                     0.030094                                   \n",
              "Hillary Clinton emails                                                                      -0.036238                                   \n",
              "\n",
              "                                                    Little Simz  \\\n",
              "Hillary Clinton defends handling of Benghazi at...     0.017507   \n",
              "Women's March Highlights                               0.040689   \n",
              "Hillary Clinton emails                                 0.014079   \n",
              "\n",
              "                                                    Wilhelmina to feature transgender model this fall  \n",
              "Hillary Clinton defends handling of Benghazi at...                                          -0.070851  \n",
              "Women's March Highlights                                                                     0.124655  \n",
              "Hillary Clinton emails                                                                       0.013729  \n",
              "\n",
              "[3 rows x 13000 columns]"
            ],
            "text/html": [
              "<div>\n",
              "<style scoped>\n",
              "    .dataframe tbody tr th:only-of-type {\n",
              "        vertical-align: middle;\n",
              "    }\n",
              "\n",
              "    .dataframe tbody tr th {\n",
              "        vertical-align: top;\n",
              "    }\n",
              "\n",
              "    .dataframe thead th {\n",
              "        text-align: right;\n",
              "    }\n",
              "</style>\n",
              "<table border=\"1\" class=\"dataframe\">\n",
              "  <thead>\n",
              "    <tr style=\"text-align: right;\">\n",
              "      <th></th>\n",
              "      <th>Chaos in the Family, Chaos in the State: The White Working Class’s Dysfunction</th>\n",
              "      <th>US Civil Rights Commission Will Observe Standing Rock Standoff</th>\n",
              "      <th>Venezuela hunts rogue helicopter attackers, Maduro foes suspicious</th>\n",
              "      <th>Fruit juice isn’t much better for you than soda. Let’s stop pretending otherwise.</th>\n",
              "      <th>Sessions won’t testify at congressional budget hearings but at Senate intelligence hearing instead</th>\n",
              "      <th>Qatar: UAE and Saudi Arabia step up pressure in diplomatic crisis</th>\n",
              "      <th>’The 4-Hour Workweek’ author says a 3-step process he learned from Tony Robbins drastically improved his life</th>\n",
              "      <th>Rick Perry Attacked for Keeping His Word</th>\n",
              "      <th>Watch how a mathematician explains an astonishing coincidence</th>\n",
              "      <th>Second baby bald eagle begins hatching process at National Arboretum</th>\n",
              "      <th>...</th>\n",
              "      <th>McDonald’s, Chick-fil-A, and Subway are making changes to profit off the shifting definition of ’healthy’</th>\n",
              "      <th>Bernie says the AP twisted his ‘messy’ convention prediction</th>\n",
              "      <th>Nevada’s Joe Heck Aims to Keep the Senate Republican</th>\n",
              "      <th>Donald Trump: John McCain and Lindsey Graham ‘Looking to Start World War III’</th>\n",
              "      <th>Radiohead Announces New Album, Hear Another New Song</th>\n",
              "      <th>Roger Federer and Rafael Nadal roll back years for unexpected encore</th>\n",
              "      <th>Why voters like She’s Not Trump</th>\n",
              "      <th>Advanced Placement Tests To Hide History of Religion and Islamic Jihad in Europe</th>\n",
              "      <th>Little Simz</th>\n",
              "      <th>Wilhelmina to feature transgender model this fall</th>\n",
              "    </tr>\n",
              "  </thead>\n",
              "  <tbody>\n",
              "    <tr>\n",
              "      <th>Hillary Clinton defends handling of Benghazi attack</th>\n",
              "      <td>0.019261</td>\n",
              "      <td>0.135737</td>\n",
              "      <td>0.213940</td>\n",
              "      <td>-0.040233</td>\n",
              "      <td>0.270479</td>\n",
              "      <td>0.242178</td>\n",
              "      <td>-0.059264</td>\n",
              "      <td>0.235375</td>\n",
              "      <td>0.039634</td>\n",
              "      <td>0.098044</td>\n",
              "      <td>...</td>\n",
              "      <td>0.077255</td>\n",
              "      <td>0.288595</td>\n",
              "      <td>0.195516</td>\n",
              "      <td>0.280349</td>\n",
              "      <td>0.027464</td>\n",
              "      <td>0.020349</td>\n",
              "      <td>0.281599</td>\n",
              "      <td>0.114124</td>\n",
              "      <td>0.017507</td>\n",
              "      <td>-0.070851</td>\n",
              "    </tr>\n",
              "    <tr>\n",
              "      <th>Women's March Highlights</th>\n",
              "      <td>0.045296</td>\n",
              "      <td>0.119294</td>\n",
              "      <td>-0.000519</td>\n",
              "      <td>0.065587</td>\n",
              "      <td>0.049757</td>\n",
              "      <td>-0.028455</td>\n",
              "      <td>-0.019417</td>\n",
              "      <td>0.070615</td>\n",
              "      <td>0.004875</td>\n",
              "      <td>0.166220</td>\n",
              "      <td>...</td>\n",
              "      <td>0.006225</td>\n",
              "      <td>0.128500</td>\n",
              "      <td>0.060778</td>\n",
              "      <td>0.000330</td>\n",
              "      <td>0.051476</td>\n",
              "      <td>0.025595</td>\n",
              "      <td>0.123450</td>\n",
              "      <td>0.030094</td>\n",
              "      <td>0.040689</td>\n",
              "      <td>0.124655</td>\n",
              "    </tr>\n",
              "    <tr>\n",
              "      <th>Hillary Clinton emails</th>\n",
              "      <td>0.036642</td>\n",
              "      <td>0.032883</td>\n",
              "      <td>0.058746</td>\n",
              "      <td>0.017771</td>\n",
              "      <td>0.199208</td>\n",
              "      <td>0.109163</td>\n",
              "      <td>-0.048110</td>\n",
              "      <td>0.151369</td>\n",
              "      <td>0.013369</td>\n",
              "      <td>0.053923</td>\n",
              "      <td>...</td>\n",
              "      <td>0.073164</td>\n",
              "      <td>0.322738</td>\n",
              "      <td>0.131154</td>\n",
              "      <td>0.256044</td>\n",
              "      <td>0.063897</td>\n",
              "      <td>0.047352</td>\n",
              "      <td>0.367134</td>\n",
              "      <td>-0.036238</td>\n",
              "      <td>0.014079</td>\n",
              "      <td>0.013729</td>\n",
              "    </tr>\n",
              "  </tbody>\n",
              "</table>\n",
              "<p>3 rows × 13000 columns</p>\n",
              "</div>"
            ]
          },
          "metadata": {
            "tags": []
          },
          "execution_count": 21
        }
      ]
    },
    {
      "cell_type": "code",
      "metadata": {
        "id": "YbSILk45qv0L",
        "colab_type": "code",
        "outputId": "f844595d-e2e6-4f0d-c4f5-004a9e7812ad",
        "colab": {
          "base_uri": "https://localhost:8080/",
          "height": 276
        }
      },
      "source": [
        "# find index of 5 most similar titles \n",
        "top5_ind = Parallel(n_jobs=16)(delayed(find_top5ind)(inp_df, i) for i in range(len(inp_df)))\n",
        "\n",
        "# show most similar titles -- final clusters\n",
        "top5 = Parallel(n_jobs=16)(delayed(find_top5)(just_titles, ind) for ind in top5_ind)\n",
        "\n",
        "top5[:5]\n",
        "# topics: [\"Hillary Clinton defends handling of Benghazi attack\", \"Women's March Highlights\", \"Hillary Clinton emails\"]"
      ],
      "execution_count": 22,
      "outputs": [
        {
          "output_type": "execute_result",
          "data": {
            "text/plain": [
              "[['Benghazi may be over, but #Benghazi has a life of its own',\n",
              "  'Univision’s Ramos picked the wrong Benghazi question for Hillary Clinton',\n",
              "  'Donald Trump on Benghazi: ’Hillary Clinton Decided to Go Home and Sleep’ ',\n",
              "  'The GOP stoops for scandal',\n",
              "  'Exclusive - Sarah Palin: Administration Lies, Soldiers Die. Yes, Hillary, at Every Point ‘It Matters’ '],\n",
              " ['The Women’s March on Washington is becoming a\\xa0joke',\n",
              "  ' Women Share Why They Hit The Streets At The Sundance Women’s\\xa0March',\n",
              "  'Women will march on – What would a feminist do? podcast',\n",
              "  'The Exhausting Work of Tallying America’s Largest Protest',\n",
              "  'Women’s March organizers prepare for hundreds of thousands of protesters'],\n",
              " ['Donald Trump: ’Good Job, Huma. Thank you, Anthony Weiner’ ',\n",
              "  'Fox News anchor grills Hillary Clinton on her email scandal',\n",
              "  'Hillary Clinton’s email problems might be even worse than we thought',\n",
              "  'Hillary Clinton pal Neera Tanden’s greatest hits from WikiLeaks emails',\n",
              "  'Hillary Clinton Deleted More Emails Than She Sent to the State Department ']]"
            ]
          },
          "metadata": {
            "tags": []
          },
          "execution_count": 22
        }
      ]
    },
    {
      "cell_type": "code",
      "metadata": {
        "id": "h5Y4qit2rHJ_",
        "colab_type": "code",
        "outputId": "dbaa4e12-e4df-46bb-be75-6a103141bbd1",
        "colab": {
          "base_uri": "https://localhost:8080/",
          "height": 69
        }
      },
      "source": [
        "# index of most similar titles \n",
        "top5id = Parallel(n_jobs=16)(delayed(find_top5)(id_list, ind) for ind in top5_ind)\n",
        "\n",
        "top5id[:5]"
      ],
      "execution_count": 23,
      "outputs": [
        {
          "output_type": "execute_result",
          "data": {
            "text/plain": [
              "[[152203, 210482, 47436, 213302, 39123],\n",
              " [122748, 103164, 149141, 73686, 147468],\n",
              " [40299, 68550, 213322, 86663, 44841]]"
            ]
          },
          "metadata": {
            "tags": []
          },
          "execution_count": 23
        }
      ]
    },
    {
      "cell_type": "code",
      "metadata": {
        "id": "YXNyS0i7YaHO",
        "colab_type": "code",
        "outputId": "ed7abdb8-4bfc-485a-d32b-3718bec5939b",
        "colab": {
          "base_uri": "https://localhost:8080/",
          "height": 296
        }
      },
      "source": [
        "# cleaned text for clusters \n",
        "top5text = Parallel(n_jobs=16)(delayed(find_top5)(small_text, ind) for ind in top5_ind)\n",
        "\n",
        "top5text[:5]"
      ],
      "execution_count": 24,
      "outputs": [
        {
          "output_type": "execute_result",
          "data": {
            "text/plain": [
              "[['Benghazi may be over, but #Benghazi has a life of its own To understand the story of Benghazi, you first have to understand there are two of them. The first Benghazi is the   city in Libya where in 2012 the US ambassador Chris Stevens and three other Americans were killed in an attack on a diplomatic station. The second is #Benghazi, a dumpster fire of conspiracy theories and nakedly political attacks, fanned by rightwing Twitter trolls and fed by the    conviction that, despite overwhelming evidence to the contrary, there’s a   coverup at work. The conclusive   Benghazi report has finally been issued. It has no major revelations nor any further evidence of wrongdoing by Hillary Clinton, who has already taken “full responsibility” for the tragedy  —   now get ready to hear a whole lot more about #Benghazi. A casual observer would be forgiven for thinking the report was already out there, as this is the eighth congressional panel to explore the attack, and in October Clinton sat for an   grilling on the matter that yielded so little damning information it was widely seen as a joke, with committee Republicans artfully carrying out their role as the butt. But this report was different this report was put forth by the House Benghazi committee itself, the culmination of a   $7m investigation, the upshot of which is that nobody not reached during the attack could have been saved, and further that the Obama administration talking points, while initially misinformed, were not intentionally misleading. It is, in short, the last word on Benghazi for sometime. But don’t expect to stop reading about #Benghazi. Donald Trump will continue to peddle absurdities, such as the notion that Clinton somehow “slept” through the Benghazi attack. Fox News and others will continue to raise it. Outside groups will continue to file requests for information, and Twitter trolls from far and wide will do their worst. Never mind that we’ve now had more investigations of Benghazi than every   terror attack in recent history combined. Never mind that these investigations have now cost American taxpayers a minimum of $23m, or that there’s not a single select committee to investigate the tens of thousands of Americans killed by gun violence each year. The Benghazi committee’s tireless leader, Trey Gowdy, has already taken issue with what appears to be the overwhelming consensus that his report is a dud, insisting that new information in the report “should fundamentally change the way you view what happened in Benghazi”. So far, so bad for Gowdy. The New York Times headline could hardly have read better for the Clinton camp if it were drafted by her campaign manager. And even the rightwing Drudge Report, which gave a banner headline to Clinton’s uneventful testimony on Benghazi this fall, seems to have lost interest. At the time, the real smoking gun of the hearing from Matt Drudge’s perspective was a coughing fit and slow speech, which he claimed at the time was “obvious” evidence she was  —   horror of horrors  —   taking   meds. In all the years and tens of thousands of hours spent investigating the tragedy, the biggest upshot by far has been the revelation that Clinton used a private email server during her time as secretary of state  —   a security lapse that was both unwitting and not directly tied to Benghazi in any way. The second biggest upshot is likely the personal misfortune for Kevin McCarthy, who  —   as result of his comment suggesting the entire   Benghazi investigation is a patently political attempt to tar Clinton  —   is not the House speaker. That is also likely a blessing for McCarthy’s party. If we were going to hear the end of #Benghazi when all reasonable roads of inquiry had been taken, it would have happened long ago. Instead we’ll stop hearing about it when Republicans stop trying to undermine Clinton and conspiracy theorists stop their theorizing  —   which is to say, when the sky falls down and the sea runs dry, or in a word: never.',\n",
              "  'Univision’s Ramos picked the wrong Benghazi question for Hillary Clinton      Jorge Ramos chose flash over substance. In last night’s   Post Democratic presidential debate, anchor Ramos went straight after former secretary of State Hillary Clinton over one of the key issues in the last presidential race. “I want to continue with the issue of trust. Secretary Clinton, on the night of the attacks in Benghazi, you sent an   to your daughter Chelsea   …    ” said Ramos. That ellipsis? It represents booing from the crowd at Miami Dade College. Benghazi needs no introduction with political audiences around the country. Anyhow, Ramos plowed through, noting that Clinton had emailed Chelsea Clinton to say that   “was responsible for the killing of the Americans. ” Over more booing, Ramos trudged onward, saying that “some of the families claim that you lied to them”  —   especially Patricia Smith, the mother of State Department official Sean Smith, who died in the attacks of Sept. 11, 2012. Ramos played a clip of Patricia Smith on Fox News saying that “Hillary and [President] Obama and [  Secretary Leon] Panetta, [Vice President Joe] Biden and [U. S. permanent representative to the U. N.] Susan Rice all told me that it was a video when they knew   …     it was not the video. ” Those comments by Patricia Smith have played into the   accusation that Obama administration officials, in the immediate aftermath of Benghazi, attempted to blame the attacks on an   video instead of terrorism  —   as part of a scheme to insulate themselves from criticism in advance of the 2012 presidential election. Responding to a Benghazi accusation requires a detailed tour through one of the most investigated incidents in U. S. diplomatic history. Clinton answered with words of sympathy for Patricia Smith, whose grief “I certainly can’t even imagine. ” Then she said Patricia Smith was “absolutely wrong. ” The talking points then rushed forth: Clinton pointed out that the officials cited by Patricia Smith were “scrambling” to figure out Benghazi in those hazy days in   2012; that she’d testified on Capitol Hill last fall for 11 hours about these events; and that Benghazi was politicized unlike other tragedies in which the United States lost personnel overseas. Pressed pointedly by Ramos on why she had sent an email to her daughter about   (actually, an “  ” organization) yet tell grieving families about a video, Clinton replied, “At the time I   with my daughter, a terrorist group had taken credit for the attacks on our facility in Benghazi. Within 16, 18 hours, they rescinded taking credit. They did it all on social media. And the video did play a role,” said Clinton. “We have captured one of the lead terrorists and he admits it was both a terrorist attack and it was influenced by the video. This was fog of war. This was complicated. The most effective, comprehensive reports and studies demonstrate that. ” The question by Ramos reaches back to that   hearing in October, when Clinton answered lawmakers’ questions about her Benghazi actions, again. And it tracks on a claim from Republican presidential hopeful Sen. Marco Rubio ( .) that Clinton is a “liar” for the apparent contradiction in her statements. That claim itself has stirred a   whirlwind, from The Washington Post’s Glenn Kessler, Breitbart’s John Nolte and the Weekly Standard’s Mark Hemingway. Holding the former secretary of state accountable for how she characterized an attack that killed four U. S. personnel is a worthwhile undertaking. It does make a difference. None of which is to say that it’s the best Benghazi question for Clinton at a nationally televised debate where there’s little time to hash out the intricacies of   Benghazi intelligence. Here’s the best question: Ms. Clinton, a study that you yourself commissioned found that our diplomatic compound in Benghazi was unprepared for the attacks of Sept. 11, 2012, despite having sustained attacks in previous months and operating in a cratering security backdrop. When Diane Sawyer of ABC News asked you whether you wished you had acted differently, you said in part, “I take responsibility, but I was not making security decisions. ” Is that the sort of leadership you will bring to the White House? Just a suggestion. ',\n",
              "  'Donald Trump on Benghazi: ’Hillary Clinton Decided to Go Home and Sleep’  GOP frontrunner Donald Trump, looking toward the general election, criticized Democrat frontrunner Hillary Clinton and President Obama’s foreign policy during his formal address on Wednesday at the Mayflower Hotel in Washington, D. C.[“We have made the Middle East more unstable and chaotic than ever before,” Trump said. “Our actions in Iraq, Libya and Syria have helped unleash ISIS. And we’re in a war against radical Islam, but President Obama won’t even name the enemy!”  “We’ve let our rivals and challengers think they can get away with anything,” he added. “If President Obama’s goal had been to weaken America, he could not have done a better job. ” Trump then turned his attention to Clinton. “Hillary Clinton also refuses to say the words “radical Islam,” even as she pushes for a massive increase in refugees,” he jabbed. Trump brought up the 2012 terrorist attack in Benghazi, Libya where four Americans died under Secretary of State Hillary Clinton’s tenure. After Secretary Clinton’s failed intervention in Libya, Islamic terrorists in Benghazi took down our consulate and killed our ambassador and three brave Americans. Then, instead of taking charge that night, Hillary Clinton decided to go home and sleep! Incredible. Clinton blames it all on a video, an excuse that was a total lie. Our Ambassador was murdered and our Secretary of State misled the nation  —   and by the way, she was not awake to take that call at 3 o’clock in the morning. “And now ISIS is making millions of dollars a week selling Libyan oil,” Trump charged, vowing, “This will change when I am president. ” Trump’s full foreign policy speech can be read here.',\n",
              "  'The GOP stoops for scandal  The Republican yearning to pin a scandal on Hillary Clinton knows no bounds. Any scandal will do, real or imagined. She must somehow be  —   or appear to be  —   guilty of something . They tried Benghazi. Boy, did they try Benghazi. House Republicans even put together a special committee, which Majority Leader Kevin McCarthy praised for hurting Clinton’s chances of being elected president. “Everybody thought Hillary Clinton was unbeatable, right?” he said in September. “But we put together a Benghazi special committee, a select committee. What are her numbers today? Her numbers are dropping. ”  To the GOP’s consternation, however, those numbers recovered nicely. According to the RealClearPolitics average of polls, she leads Donald Trump by about 5 points; the most recent Washington   News survey showed her ahead by 12. Adding insult to injury, the Benghazi committee came up  . Rep. Trey Gowdy ( . C.) the panel’s chairman, released a final report last week that found no smoking gun. In fact, it didn’t even find smoke. The September 2012 attacks on U. S. diplomatic and intelligence facilities in Benghazi, Libya, that killed Ambassador J. Christopher Stevens and three other Americans should be blamed on the terrorists who committed the assault  —   not on the secretary of state. Even if she happens to be named Clinton. So if Benghazi isn’t the   scandal, what else might be? Trump keeps threatening to   the 1990s by dredging up Bill Clinton’s womanizing and even the suicide of Clinton friend and associate Vince Foster. That is a realm peopled mostly by conspiracy theorists wearing tinfoil hats; Trump can go there if he wants, but the rest of the country won’t follow.   House Republicans released their report on the attack on the 2012 U. S. diplomatic outpost in Benghazi on June 28. Here are the 5 most serious accusations in the report. (Peter   Washington Post)   Let’s see, there’s the Clinton Foundation and the vast amount of money it has raised, including from foreign governments, potentates and moguls. The problem with this line of attack is that the foundation, by all accounts, does a lot of good around the world. And it generally operates in a way that Republicans should applaud, not simply doling out money but instead boosting the capacity of local governments and organizations to solve their own problems. What other grist for the scandal mill could there be? I’m being somewhat disingenuous, of course. There are Hillary Clinton’s emails.  As I’ve written, Clinton was wrong to decline a government email account when she was secretary of state and instead use a private account run from a server in her house. What was she thinking? I doubt it was “convenience,” as she still claims. I’ve believed all along that Clinton wanted control. I think she wanted to guarantee that no personal or foundation emails would ever become part of the public record and thus potentially subject to release. It is certainly true that the Clintons have legions of political enemies who would love to root through the family’s private affairs. This fact does not, however, make Clinton’s actions right. But were they illegal? And were they criminal? That’s what the FBI and Justice Department lawyers are trying to ascertain. From what is publicly known about the emails, I am unimpressed. The salient issue is whether she mishandled classified material. Clinton’s critics note that David Petraeus, a former CIA director and one of the most lauded military officers of his time, pleaded guilty to a misdemeanor charge and was hit with a $100, 000 fine for that offense. But it seems to me that routing potentially sensitive emails through a private server is different from handing classified information to one’s mistress, which is what Petraeus did.             Caption   See who supports Donald Trump.  Paul D. Ryan  The House speaker endorsed Trump’s bid for president on June 2. Joshua    ',\n",
              "  'Exclusive - Sarah Palin: Administration Lies, Soldiers Die. Yes, Hillary, at Every Point ‘It Matters’  Listening to the Benghazi Committee reveal what we knew  —   the Obama Administration’s devastating lies cost lives, and at any point it just doesn’t matter to them. Thank you to Congressional investigators for their report. [The Administration’s deception is beyond shameful. They sat back and allowed our peacekeepers to die during what they witnessed becoming a suicide mission. In command of the greatest military in the world, yet officials sat back in Washington’s comfort, not allowing our troops to do their job to protect fellow Americans.  Hillary left our men behind. Hillary is disqualified from serving as Commander in Chief. The Administration lies and denies in places like Benghazi, which cost innocent American lives. Much like today’s refusal to believe real threats  —   denying Islam put the “I” in ISIS  —   they are wrapping America’s children in a suicide vest.'],\n",
              " ['The Women’s March on Washington is becoming a\\xa0joke Is the Women’s March on Washington cursed? The   protest set for Jan. 21 keeps running into weird trouble.  Start with the name, originally the Million Women’s March. The three white feminists who thought up the idea felt obliged to change that title after they faced charges of “cultural appropriation. ” No joke: An early comment on   complained of “white feminists taking the name of something that Black people started to address our struggles. ” You see, 1997 saw a Million Woman March in DC for    —   a follow to Louis Farrakhan’s 1995 Million Man March. Even the new name prompted grumbles that it “appropriates” from the Dr. Martin Luther King Jr.  1963 March on Washington. (Organizers’ dodge: Claim the whole thing is a tribute to King.) And,   the event’s page is still plagued with “arguments about whether an event organized primarily by white women can be sufficiently ‘intersectional’  —   or attuned to the issues faced by, say, poor minority women who reside at the ‘intersection’ of class, race, and gender concerns in America. ” The march, she charges, “is shaping up to be a   exercise in search of a cause. ”  But it’s The Washington Post’s debacle that makes us suspect a curse: Thursday’s edition of the paper’s free giveaway, Express, was all about the march  —   but the cover was dominated by a giant male symbol, rather than the female one. It’s almost as if no one’s treating this thing seriously.',\n",
              "  ' Women Share Why They Hit The Streets At The Sundance Women’s\\xa0March ’ Earlier this morning, protesters marched down Main Street in Park City, Utah  —   where the Sundance Film Festival is currently taking place  —   in a Women’s March organized by Chelsea Handler.’ ’ BuzzFeed News was on site and asked women why they were participating in the march. Here are their answers:’ ’ “Marching for my grandchildren & 30 years of students in public schools”’ ’ “Trump is not an ally to the colorful, complicated, spirited people of this country! ”’ ’ “We need to advocate for EVERYONE, regardless of political climate”’ ’ “Equality for WOMEN  —   no harassment”’ ’ “I march for THE FUTURE”’ ’ “I’m a school counselor #publicschool”’ ’ “Inequality is unsustainable”’ ’ “I’m here to stand up for the rights of those that are threatened  —   minorities, women, & OUR EARTH”’ ’ “To put Trump on notice”’ ’ “I will no longer be silent”’ ’ “For the radical idea that women are people, too”’ ’ “Future is female. ‘Balance’ ‘Spiritual’ Beginning Life Happiness ‘Fire in the Home’  —   LOVE”’ ’ “I marched for Civil Rights. I marched against the war. Now I march for my kids. ”’ ’ “So I can be anything when I grow up”’]   ',\n",
              "  'Women will march on – What would a feminist do? podcast Subscribe via iTunes, Audioboom, Mixcloud, Soundcloud, Acast, Stitcher and join the discussion on Facebook and Twitter, It is estimated that millions of people worldwide marched in conjunction with Saturday’s Women’s March on Washington. Across the globe, people came together on President Donald Trump’s first full day in office in an act of mass catharsis and solidarity, bringing individual messages of human rights and social justice.  But while Saturday invigorated the movement to resist Trump, many are asking how to turn the energy of the demonstration into action. This week, host Jessica Valenti talks with Jamia Wilson, executive director of Women, Action, and the Media, about what happened on Saturday and what comes next. The pair examine some criticisms of the march and look at plans to keep the momentum going. As always, we want to hear from you: Please join the conversation in the comments below.',\n",
              "  'The Exhausting Work of Tallying America’s Largest Protest But over the weekend, as President Donald Trump fought with the media over the attendance at his inauguration —  experts’ estimates put the crowd at about 160, 000 people, while Trump falsely claimed an attendance of 1. 5 million —  a pair of   professors began work on a sprawling database that compiles attendance numbers from every protest, demonstration, and march affiliated with the Women’s March on Washington that they could find. On Saturday, Jeremy Pressman, a professor of political science at the University of Connecticut, was planning to attend a Women’s March in Hartford. Before he set out, he wondered if anyone was assembling on a spreadsheet to track attendance at the various marches. He asked on Twitter, and soon, someone replied, “Don’t know, but hope so!” Pressman tweeted back: “I’m starting one. ” Pressman scoured the internet for links to news stories with   estimates. He added each to a Google spreadsheet, with a high and low estimate for attendance in each city he found. Within two hours, he tweeted an early version of the spreadsheet. His post attracted the attention of Erica Chenoweth, a professor at the University of Denver and an expert on nonviolent protest. Chenoweth offered to help with the tedious, long work of compiling news reports, and by Sunday morning, Pressman had an initial estimate: Between 3. 6 and 4. 6 million people had marched the day before. (At press time, the   estimate has fallen to 3. 3 million.) As my colleague Conor wrote this morning, even the bottom line would make the Women’s March the largest protest in United States history. At first, most of the data came from news reports, but before long, “social media started working,” Pressman told me. People started tweeting new information at Pressman and Chenoweth, and some dug up the professors’ emails in order to send in more detailed reports. They set up a Google form for people to send in their own estimates and share sources. The spreadsheet currently has entries for nearly 550 cities and towns in the U. S. from the march in D. C. (470, 000 to 680, 000 participants) to a protest in Show Low, Arizona (one participant). The spreadsheet also tallies attendance at rallies in more than 100 cities around the world. Chenoweth studies emerging political movements, so she jumped on the opportunity to watch a new one perhaps begin to unfold here in the U. S. But more fundamentally, she said, the act of counting itself is an important one. “It’s a really empowering thing to be noticed and to be tallied,” she said. “That actually came to be much more evident to me when people started emailing us and tweeting at us, reporting that they had two, five, seven, 12 people in their tiny outpost. ” The Women’s March has some of the hallmarks of the beginning of a successful movement, Chenoweth said. The ability to mobilize large numbers of people is often associated with the creation of an effective campaign. The fact that the march was inclusive and broad rather than tied to a specific policy goal helped draw big numbers, Chenoweth said, and the explicitly   nature of the protests helped attract even more. The level of organization on display at events large to small bodes well for the social movement, as does the proportion of march participants who aren’t usually politically engaged. As the researchers keep gathering data, they’re grappling with the implications of suddenly becoming the stewards of sensitive information. When they started out on Saturday, they didn’t expect that people would report their own participation in marches. Their submission form doesn’t ask for any identifying information, and Chenoweth says they’re taking care not to expose those who emailed in to say they participated in a demonstration from a personal or work address. Chenoweth and Pressman’s spreadsheet is separate from another effort to gather attendance data using SMS messaging. This text census, which was put together by an organization called It’s Time Network, has raised questions about privacy and its affiliation with the organizers of the Women’s March. In person and on social media, demonstrators were urged to text the words “count me” to the number 89800. Those instructions were boosted by celebrities like Jamie Lee Curtis and George Takei, who have large followings on Twitter. Despite appearing at first to be an official effort from the Women’s March organizers themselves, the march’s official Twitter account briefly tweeted, then deleted, a message distancing itself from the headcount, according to Snopes. A spokesperson for It’s Time Networks, which partners with organizations focused on empowering women and girls, said the confusion was the result of “an unfortunate miscommunication. ” It’s Time Network had been in touch with the organizers of the Women’s March since early January, the spokesperson said, and had offered to turn over all the data they gathered by SMS —  they asked participants for their phone number, zip code, email, and where they marched —  to the organizers. It’s unclear whether the march organizers ever officially endorsed the text census —  emails to a spokesperson for the Women’s March weren’t returned —  or what they plan to do with the data they’ll receive. While participants were asked to text in order to be counted, one of the main goals of the campaign is to build a list of phone numbers that belong to people who demonstrated on Saturday, or who supported the marches. If the march organizers choose to, they’ll be able to send messages to the list of people who asked to be counted. Some privacy advocates pointed out on Twitter that the number that march participants were asked to text —  89800 —  appears to be connected to a company that uses the number to send up to eight monthly “alerts regarding promotions, coupons, and time sensitive deals from local businesses. ” The   message associated with the marketing line, however, is “DEALMEIN” rather than “count me. ” The company that appears to maintain 89800, txtwire, could not be reached for comment. Chenoweth said she spoke with representatives of It’s Time Network a few weeks ago, and cautioned against using SMS messaging to gather data on march participants. “I don’t know if you guys want to be liable for keeping people’s personal information about their participation,” she warned. “If you are, make sure that people know the risks of   at an individual level. ” She and Pressman are still building out their census spreadsheet, and they’ve already enlisted at least one research assistant for help. “I view this as a first cut,” Pressman said of the spreadsheet as it stands. He told me he wanted to break out participation by U. S. state —  and within hours of our conversation, a new tab appeared on the spreadsheet that did just that. The pair is thinking about ways to institutionalize their ad hoc   operation to track future events. For now, they hope that a running count of will offer march leaders and participants a rare commodity in organizing: a way to measure their success.',\n",
              "  'Women’s March organizers prepare for hundreds of thousands of protesters At about 10am on Saturday, as a quarter of a million or more people gather in protest at the base of Capitol Hill for the Women’s March on Washington, the newly minted President Donald Trump will be on his knees at “a service of prayer and reflection” at the National Cathedral. From that perch four miles away from the White House he won’t, initially, be able to hear the civil rights legend Angela Davis, the feminist icon Gloria Steinem or the   campaigner Cecile Richards addressing the crowds at the march. But the roar of the masses will surely reach the president’s ears later, as the speeches and   performers wrap up the    hour rally and the demonstrators march to the Ellipse, the large green space opposite the White House. He may even see them if he steps out on to the balcony in the residence to admire the view of the Washington Monument. “I hope he will be praying about how to be the president of all the people. We are not going to let our rights be rolled back by anyone,” Melanie Campbell, president of the National Coalition on Black Civic Participation and a speaker at the march, said. The march organizers are still officially only expecting a crowd of 200, 000 to 250, 000 people  —   mostly women, but also many men  —   based on the number who have registered. But those close to the planning acknowledge that they are prepared, in coordination with the police, city officials and thousands of volunteers and private security staff, if the numbers swell considerably, to half a million or beyond. The event is expected to turn into one of the largest marches in US history and although it is not billed specifically as an   protest, most of the causes represented are those deemed under threat from the new administration. “I’m speaking out and marching because healthcare is under attack and women’s reproductive rights are under attack. So many awful things were said about women by the incoming president,” said Campbell. “I put a lot of my energy under Obama into supporting black women’s leadership and women’s leadership overall  —   we could have broken the glass ceiling with Hillary Clinton and it didn’t happen, so that’s what’s motivated me to take part,” she added. Campbell took exception to Trump’s gloomy inaugural speech and his portraiture of inner cities as being in a state of a   “American carnage”. “That’s not the urban America I know. Not that there are not problems, but it’s not all rocked with violence and poverty. America is already great, it’s a melting pot and must continue to be,” she said. On Saturday morning, Campbell and other speakers’ voices will boom out from jumbotrons positioned among the thousands packing along Independence Avenue, calling for action on racial equality, climate change, criminal justice reform, a higher minimum wage, immigrants’ rights and a host of other progressive issues. Among those on stage or seated next to the stage in VIP seating will be some of the   members of Congress from the Democratic party who were set to boycott Trump’s inauguration ceremony on Friday.  One of those is US representative Chellie Pingree. While Trump was being sworn in on Friday, she was visiting a Planned Parenthood center and a business owned by immigrants in her home state of Maine, before flying to Washington in the afternoon to get ready for the march. On Saturday morning, she will gather with fellow politicians on stage at the rally and then march with some of the 5, 000 women attending from the state of Maine. “We need to do everything we can to let the incoming administration know we are not happy about their agenda. I’ve had unprecedented numbers of my constituents calling me worried about healthcare, the environment, public education, and they feel disrespected,” she said. Pingree said Trump was the most unpredictable incoming president most people had ever witnessed. While Trump struggled to get   names to perform at his inauguration celebrations, the Women’s March on Washington has attracted singing and acting stars such as Katy Perry America Ferrera, who is also speaking at the rally the Orange is the New Black cast member Uzo Aduba the actor Scarlett Johansson Cher and the young actor and singer Zendaya. The march grew organically, from a feminist outcry on Facebook in the immediate aftershock of the election result. Organizers now hope it will kickstart a new era of grassroots activism across a long list of progressive issues chiefly related to equality and social and economic justice. What began as an expression of frustration and a call to action on social media then morphed into a mass mobilization across multiple progressive causes. The event began to be physically realized on Friday as buses, trains and planes started pouring into Washington, packed full of women  —   and supportive male friends dotted among them. Although   sister marches are taking place in as many as 300 cities across all 50 states, as well as internationally, thousands chose the capital city to make their presence felt next to the Capitol and the White House. “This is what a plane full of women who are ready to resist the Trump agenda looks like,” read one tweet, showing a flight bound for DC packed with women smiling and waving ecstatically, some wearing pink knit “pussy hats” that have become an informal uniform for the march. “I am a woman of color and a Muslim from an immigrant family whose country is now going to be led by someone who has been openly   and sexist, has attacked Muslims and is surrounding himself with some horrible people for his cabinet,” said Zahra Billoo, director of the San Francisco chapter of the Council on   Relations and a speaker at the march. “I don’t think that everyone who voted for Donald Trump is racist, but they were willing to overlook that part of his campaign for whatever reason, and that’s not acceptable. We’ve seen the fallout, in hate crimes, and there is a need for inspiration and community across racial lines, religious lines, family lines, across many communities in America right now,” she said. Billoo said she found Trump’s inaugural speech “no better than so many of his campaign speeches”. She saw in it coded language designed to further divide rather than unite voters and to erase civil liberties, she said.  “All of this ‘America first’ is one way of saying if you don’t agree with us, we will come after you,” she said. Following scuffles and arrests in protests coinciding with the inauguration on Friday, Billoo said she hoped the Women’s March on Washington itself would be a wholly peaceful rally and demonstration. The march is due to finish at dusk. But Linda Sarsour, one of the four march   hopes that the end of the event will mark the beginning of a new movement. “Making the march happen has been one of the largest grassroots efforts that anyone has ever seen. This is a mass mobilization and we intend to hold the administration to account,” she said.'],\n",
              " ['Donald Trump: ’Good Job, Huma. Thank you, Anthony Weiner’  Donald Trump thanked Hillary Clinton’s top aide Huma Abedin and her estranged husband, disgraced former lawmaker Anthony Weiner, during his campaign rally in Grand Rapids, Michigan. [Trump blasted the former secretary of state for the FBI investigation into her use of a private email server.  “As you know, the FBI has reopened its investigation into Hillary Clinton and discovered another 650, 000 emails,” Trump announced. “She lied under oath when she turned over all of her work related emails. Just one more lie out of so many. ” “She has brought all of this on herself,” the Republican nominee stated, alleging that “Hillary is the one who set up an illegal private email server in a closet to shield her criminal activity. Hillary is the one who engaged in a corrupt    scheme at the state department. ” “650, 000! You know what I call that? That’s the mother lode,” Trump said. “I think we hit the mother lode as they say in the good old mining industry. ” ”Thank you, Huma. Thank you, Huma. Good job, Huma. Thank you, Anthony Weiner.”  —   @realDonaldTrump on @HillaryClinton email investigation pic. twitter.   —   Fox News (@FoxNews) October 31, 2016,  “We can be sure that what is in those emails is absolutely devastating,” Trump suggested. “Thank you, Huma. Thank you, Huma. Good job, Huma. Thank you, Anthony Weiner. ” The crowd erupted in cheers after Trump thanked Weiner, who is reportedly the reason why the FBI renewed its investigation into Clinton as the 650, 000 emails were allegedly found on Weiner’s laptop.',\n",
              "  'Fox News anchor grills Hillary Clinton on her email scandal ’’ ’Fox News host Bret Baier grilled Hillary Clinton over her use of a private email server during her first appearance on the network in more than two years on Monday.’ ’In a network   event, Baier pressed Clinton at length about her use of a private email server while she was the US secretary of state.’ ’”The FBI investigation is still hanging over your campaign, and there are some Democrats who are worried about the other shoe dropping,” Baier said.’ ’The former secretary of state vigorously refuted claims that her past statements about sharing classified information on her private server were inaccurate.’ ’”There’’s a lot of misinformation going on around here, so let me start with the facts,” Clinton said.’ ’Last March, facing ’ ’Clinton reiterated that she believed she made a ”mistake” in using a personal email account instead of an official government account. But she argued that none of the emails she sent or received were marked classified at the time.’ ’”I have said it wasn’’t the best choice to use a personal email. It was a mistake,” Clinton said. ”However, I am not alone in that. Many people in the government, past and current, have on occasion or in practice have done the same. ”’ ’Baier then confronted Clinton about the classification process itself, asking whether she believed the   emails even needed to be classified.’ ’”So your contention now is the 2, 100 or so emails should not have been classified at any time, now or then?” Baier asked.’ ’Clinton, disagreed, but called for the emails to be released.’ ’”Release it, and once the American people see it, they will see how absurd this is,” Clinton said, spurring applause in the audience.’ ’Fox News host Bret Baier grilled Hillary. ..’',\n",
              "  'Hillary Clinton’s email problems might be even worse than we thought        Here’s the good news for Hillary Clinton: The FBI has recommended that no charges be brought following its investigation of the former secretary of state’s private email server. Here’s the bad news: Just about everything else. FBI Director James B. Comey dismantled large portions of Clinton’s   story about her private server and what she sent or received on it during a stirring   news conference, after which he took no questions. While Comey exonerated Clinton, legally speaking, he provided huge amounts of fodder that could badly hamstring her in the court of public opinion. Most importantly, Comey said the FBI found 110 emails on Clinton’s server that were classified at the time they were sent or received. That stands in direct contradiction to Clinton’s repeated insistence she never sent or received any classified emails. And it even stands in contrast to her amended statement that she never knowingly sent or received any classified information.              Caption   The former secretary of state clinched the number of delegates needed to be the Democratic nominee for president.  July 5, 2016 Hillary Clinton and President Obama campaign together for the first time at a rally in Charlotte.  Melina   Washington Post  ',\n",
              "  'Hillary Clinton pal Neera Tanden’s greatest hits from WikiLeaks emails Tanden has a potty mouth, and talks a lot of trash, but she’s also mostly right whenever she complains about something, such as the absurd secrecy of Hillary’s inner circle of friends, who withheld information about her email habits at the State Department because “they wanted to get away with it. ” Here are some of Tanden’s greatest hits: “    insane” That’s how Tanden described the scandal involving Hillary Clinton’s use of a private email server as secretary of state. “Do we actually know who told Hillary she could use a private email?” she wrote in an email to Clinton campaign chairman John Podesta in 2015. “And has that person been drawn and quartered?” “    these   ” See the Fox News 2016 battleground prediction map and make your own election projections. See Predictions Map → Those were Tanden’s choice words for liberals criticizing Hillary Clinton for using the phrase “all lives matter. ” “He’s a    ” Tanden expressed her displeasure when she learned that Democratic operative Faiz Shakir, who currently works for Senate Minority Leader Harry Reid, had started advising Hillary Clinton’s primary challenger Bernie Sanders. “I find him a bit insufferable” This was Tanden’s response to New York City mayor Bill de Blasio’s reluctance to endorse Hillary Clinton. CLICK TO READ MORE FROM HEAT STREET,   ',\n",
              "  'Hillary Clinton Deleted More Emails Than She Sent to the State Department  Chris Cillizza of the Washington Post confirms a data point implicit in today’s news that the FBI has found 15, 000 emails from Hillary Clinton’s unsecure homebrew server, from which she conducted the work as Secretary of State and housed classified information. She hid more emails from the State Department than she handed over to it for mandatory federal records keeping. [From the Washington Post:  Clinton deleted more emails than she turned over. Her team never actually read all of the emails, skimming subject lines instead. And there was never anyone outside of Clinton’s direct orbit brought in to oversee the process. The essence of Clinton’s argument regarding this   process was: Trust me. As in, my team of lawyers found all of the emails that were even tangentially tied to my day job as the nation’s top diplomat and turned them over to the State Department.   …     [W]e know from FBI Director James B. Comey that during its investigation, the FBI found several thousand   emails that had not been previously turned over by Clinton. While these 15, 000 appear to be at least part of what Comey is referring to, there’s no way today of knowing how much overlap between those two sets there actually is. Read the rest of the story here.']]"
            ]
          },
          "metadata": {
            "tags": []
          },
          "execution_count": 24
        }
      ]
    },
    {
      "cell_type": "markdown",
      "metadata": {
        "id": "qHmgcv1HIXol",
        "colab_type": "text"
      },
      "source": [
        "### Output Clusters\n",
        "\n",
        "Don't re-run this because these files have already been created. \n",
        "- /News_Filter/Pilot/clusters\n",
        "- cluster1.csv, cluster2.csv, cluster3.csv"
      ]
    },
    {
      "cell_type": "code",
      "metadata": {
        "id": "ySnuQITiIWqf",
        "colab_type": "code",
        "colab": {}
      },
      "source": [
        "# first example: \"Hillary Clinton defends handling of Benghazi attack\"\n",
        "cluster1 = small_data.iloc[[i in top5id[0] for i in small_data.id]]\n",
        "text1_df = pd.DataFrame({'id':top5id[0], 'text':top5text[0]})\n",
        "cluster1 = cluster1.merge(text1_df, on='id')\n",
        "\n",
        "# second example: \"Women's March Highlights\"\n",
        "cluster2 = small_data.iloc[[i in top5id[1] for i in small_data.id]]\n",
        "text2_df = pd.DataFrame({'id':top5id[1], 'text':top5text[1]})\n",
        "cluster2 = cluster2.merge(text2_df, on='id')\n",
        "\n",
        "# third example: \"Hillary Clinton emails\"\n",
        "cluster3 = small_data.iloc[[i in top5id[2] for i in small_data.id]]\n",
        "text3_df = pd.DataFrame({'id':top5id[2], 'text':top5text[2]})\n",
        "cluster3 = cluster3.merge(text3_df, on='id')"
      ],
      "execution_count": 0,
      "outputs": []
    },
    {
      "cell_type": "code",
      "metadata": {
        "id": "PKDdi7B-My6z",
        "colab_type": "code",
        "colab": {
          "base_uri": "https://localhost:8080/",
          "height": 583
        },
        "outputId": "9c144eea-8267-4c7e-f019-8329f46669f4"
      },
      "source": [
        "# save each cluster data to csv\n",
        "cluster1.to_csv(\"w266/finalproj/clusters/cluster1.csv\", index=False)\n",
        "cluster2.to_csv(\"w266/finalproj/clusters/cluster2.csv\", index=False)\n",
        "cluster3.to_csv(\"w266/finalproj/clusters/cluster3.csv\", index=False)"
      ],
      "execution_count": 34,
      "outputs": [
        {
          "output_type": "error",
          "ename": "FileNotFoundError",
          "evalue": "ignored",
          "traceback": [
            "\u001b[0;31m---------------------------------------------------------------------------\u001b[0m",
            "\u001b[0;31mFileNotFoundError\u001b[0m                         Traceback (most recent call last)",
            "\u001b[0;32m<ipython-input-34-45212482e2d7>\u001b[0m in \u001b[0;36m<module>\u001b[0;34m\u001b[0m\n\u001b[0;32m----> 1\u001b[0;31m \u001b[0mcluster1\u001b[0m\u001b[0;34m.\u001b[0m\u001b[0mto_csv\u001b[0m\u001b[0;34m(\u001b[0m\u001b[0;34m\"w266/finalproj/clusters/cluster1.csv\"\u001b[0m\u001b[0;34m,\u001b[0m \u001b[0mindex\u001b[0m\u001b[0;34m=\u001b[0m\u001b[0;32mFalse\u001b[0m\u001b[0;34m)\u001b[0m\u001b[0;34m\u001b[0m\u001b[0;34m\u001b[0m\u001b[0m\n\u001b[0m\u001b[1;32m      2\u001b[0m \u001b[0mcluster2\u001b[0m\u001b[0;34m.\u001b[0m\u001b[0mto_csv\u001b[0m\u001b[0;34m(\u001b[0m\u001b[0;34m\"w266/finalproj/clusters/cluster2.csv\"\u001b[0m\u001b[0;34m,\u001b[0m \u001b[0mindex\u001b[0m\u001b[0;34m=\u001b[0m\u001b[0;32mFalse\u001b[0m\u001b[0;34m)\u001b[0m\u001b[0;34m\u001b[0m\u001b[0;34m\u001b[0m\u001b[0m\n\u001b[1;32m      3\u001b[0m \u001b[0mcluster3\u001b[0m\u001b[0;34m.\u001b[0m\u001b[0mto_csv\u001b[0m\u001b[0;34m(\u001b[0m\u001b[0;34m\"w266/finalproj/clusters/cluster3.csv\"\u001b[0m\u001b[0;34m,\u001b[0m \u001b[0mindex\u001b[0m\u001b[0;34m=\u001b[0m\u001b[0;32mFalse\u001b[0m\u001b[0;34m)\u001b[0m\u001b[0;34m\u001b[0m\u001b[0;34m\u001b[0m\u001b[0m\n",
            "\u001b[0;32m~/anaconda3/lib/python3.7/site-packages/pandas/core/generic.py\u001b[0m in \u001b[0;36mto_csv\u001b[0;34m(self, path_or_buf, sep, na_rep, float_format, columns, header, index, index_label, mode, encoding, compression, quoting, quotechar, line_terminator, chunksize, date_format, doublequote, escapechar, decimal)\u001b[0m\n\u001b[1;32m   3202\u001b[0m             \u001b[0mdecimal\u001b[0m\u001b[0;34m=\u001b[0m\u001b[0mdecimal\u001b[0m\u001b[0;34m,\u001b[0m\u001b[0;34m\u001b[0m\u001b[0;34m\u001b[0m\u001b[0m\n\u001b[1;32m   3203\u001b[0m         )\n\u001b[0;32m-> 3204\u001b[0;31m         \u001b[0mformatter\u001b[0m\u001b[0;34m.\u001b[0m\u001b[0msave\u001b[0m\u001b[0;34m(\u001b[0m\u001b[0;34m)\u001b[0m\u001b[0;34m\u001b[0m\u001b[0;34m\u001b[0m\u001b[0m\n\u001b[0m\u001b[1;32m   3205\u001b[0m \u001b[0;34m\u001b[0m\u001b[0m\n\u001b[1;32m   3206\u001b[0m         \u001b[0;32mif\u001b[0m \u001b[0mpath_or_buf\u001b[0m \u001b[0;32mis\u001b[0m \u001b[0;32mNone\u001b[0m\u001b[0;34m:\u001b[0m\u001b[0;34m\u001b[0m\u001b[0;34m\u001b[0m\u001b[0m\n",
            "\u001b[0;32m~/anaconda3/lib/python3.7/site-packages/pandas/io/formats/csvs.py\u001b[0m in \u001b[0;36msave\u001b[0;34m(self)\u001b[0m\n\u001b[1;32m    186\u001b[0m                 \u001b[0mself\u001b[0m\u001b[0;34m.\u001b[0m\u001b[0mmode\u001b[0m\u001b[0;34m,\u001b[0m\u001b[0;34m\u001b[0m\u001b[0;34m\u001b[0m\u001b[0m\n\u001b[1;32m    187\u001b[0m                 \u001b[0mencoding\u001b[0m\u001b[0;34m=\u001b[0m\u001b[0mself\u001b[0m\u001b[0;34m.\u001b[0m\u001b[0mencoding\u001b[0m\u001b[0;34m,\u001b[0m\u001b[0;34m\u001b[0m\u001b[0;34m\u001b[0m\u001b[0m\n\u001b[0;32m--> 188\u001b[0;31m                 \u001b[0mcompression\u001b[0m\u001b[0;34m=\u001b[0m\u001b[0mdict\u001b[0m\u001b[0;34m(\u001b[0m\u001b[0mself\u001b[0m\u001b[0;34m.\u001b[0m\u001b[0mcompression_args\u001b[0m\u001b[0;34m,\u001b[0m \u001b[0mmethod\u001b[0m\u001b[0;34m=\u001b[0m\u001b[0mself\u001b[0m\u001b[0;34m.\u001b[0m\u001b[0mcompression\u001b[0m\u001b[0;34m)\u001b[0m\u001b[0;34m,\u001b[0m\u001b[0;34m\u001b[0m\u001b[0;34m\u001b[0m\u001b[0m\n\u001b[0m\u001b[1;32m    189\u001b[0m             )\n\u001b[1;32m    190\u001b[0m             \u001b[0mclose\u001b[0m \u001b[0;34m=\u001b[0m \u001b[0;32mTrue\u001b[0m\u001b[0;34m\u001b[0m\u001b[0;34m\u001b[0m\u001b[0m\n",
            "\u001b[0;32m~/anaconda3/lib/python3.7/site-packages/pandas/io/common.py\u001b[0m in \u001b[0;36mget_handle\u001b[0;34m(path_or_buf, mode, encoding, compression, memory_map, is_text)\u001b[0m\n\u001b[1;32m    426\u001b[0m         \u001b[0;32mif\u001b[0m \u001b[0mencoding\u001b[0m\u001b[0;34m:\u001b[0m\u001b[0;34m\u001b[0m\u001b[0;34m\u001b[0m\u001b[0m\n\u001b[1;32m    427\u001b[0m             \u001b[0;31m# Encoding\u001b[0m\u001b[0;34m\u001b[0m\u001b[0;34m\u001b[0m\u001b[0;34m\u001b[0m\u001b[0m\n\u001b[0;32m--> 428\u001b[0;31m             \u001b[0mf\u001b[0m \u001b[0;34m=\u001b[0m \u001b[0mopen\u001b[0m\u001b[0;34m(\u001b[0m\u001b[0mpath_or_buf\u001b[0m\u001b[0;34m,\u001b[0m \u001b[0mmode\u001b[0m\u001b[0;34m,\u001b[0m \u001b[0mencoding\u001b[0m\u001b[0;34m=\u001b[0m\u001b[0mencoding\u001b[0m\u001b[0;34m,\u001b[0m \u001b[0mnewline\u001b[0m\u001b[0;34m=\u001b[0m\u001b[0;34m\"\"\u001b[0m\u001b[0;34m)\u001b[0m\u001b[0;34m\u001b[0m\u001b[0;34m\u001b[0m\u001b[0m\n\u001b[0m\u001b[1;32m    429\u001b[0m         \u001b[0;32melif\u001b[0m \u001b[0mis_text\u001b[0m\u001b[0;34m:\u001b[0m\u001b[0;34m\u001b[0m\u001b[0;34m\u001b[0m\u001b[0m\n\u001b[1;32m    430\u001b[0m             \u001b[0;31m# No explicit encoding\u001b[0m\u001b[0;34m\u001b[0m\u001b[0;34m\u001b[0m\u001b[0;34m\u001b[0m\u001b[0m\n",
            "\u001b[0;31mFileNotFoundError\u001b[0m: [Errno 2] No such file or directory: 'w266/finalproj/clusters/cluster1.csv'"
          ]
        }
      ]
    },
    {
      "cell_type": "markdown",
      "metadata": {
        "id": "Nxz6ruD2pOQ_",
        "colab_type": "text"
      },
      "source": [
        "#### Sanity Check to see if individual vs mass inputs create different embeddings -- NO"
      ]
    },
    {
      "cell_type": "code",
      "metadata": {
        "id": "Qd5T0SESnsNr",
        "colab_type": "code",
        "colab": {}
      },
      "source": [
        "a = model([\"hi my name is emma\"])\n",
        "b = model([\"nice to meet you\"])\n",
        "c = model([\"hi what's your name\"])"
      ],
      "execution_count": 0,
      "outputs": []
    },
    {
      "cell_type": "code",
      "metadata": {
        "id": "kWwl5j7_n4Uq",
        "colab_type": "code",
        "colab": {}
      },
      "source": [
        "d = model([\"hi my name is emma\", \"nice to meet you\", \"hi what's your name\"])"
      ],
      "execution_count": 0,
      "outputs": []
    },
    {
      "cell_type": "code",
      "metadata": {
        "id": "WR5AvYhaoPQx",
        "colab_type": "code",
        "colab": {}
      },
      "source": [
        "e = np.concatenate((a, b, c))"
      ],
      "execution_count": 0,
      "outputs": []
    },
    {
      "cell_type": "code",
      "metadata": {
        "id": "iDEafG2DoWiS",
        "colab_type": "code",
        "colab": {}
      },
      "source": [
        "f = np.array(d)"
      ],
      "execution_count": 0,
      "outputs": []
    },
    {
      "cell_type": "code",
      "metadata": {
        "id": "I1MtlmAaoq3U",
        "colab_type": "code",
        "colab": {}
      },
      "source": [
        "np.inner(e, e)"
      ],
      "execution_count": 0,
      "outputs": []
    },
    {
      "cell_type": "code",
      "metadata": {
        "id": "HvCWvQALpcu9",
        "colab_type": "code",
        "colab": {}
      },
      "source": [
        "np.inner(f, f)"
      ],
      "execution_count": 0,
      "outputs": []
    },
    {
      "cell_type": "code",
      "metadata": {
        "id": "UzG8RSFIpmY1",
        "colab_type": "code",
        "colab": {}
      },
      "source": [
        ""
      ],
      "execution_count": 0,
      "outputs": []
    },
    {
      "cell_type": "code",
      "metadata": {
        "id": "3f9C7R5CUTgs",
        "colab_type": "code",
        "colab": {}
      },
      "source": [
        ""
      ],
      "execution_count": 0,
      "outputs": []
    },
    {
      "cell_type": "markdown",
      "metadata": {
        "id": "fFCwEPP_Xehx",
        "colab_type": "text"
      },
      "source": [
        "### Summarization via Similarity Matrix\n",
        "\n",
        "We proceed to use the outputted and saved clusters above to summarize via a similarity matrix"
      ]
    },
    {
      "cell_type": "code",
      "metadata": {
        "id": "TfoNJ7wKX5gk",
        "colab_type": "code",
        "colab": {}
      },
      "source": [
        "# importing the csv files\n",
        "lst_files = ['News_Filter/Pilot/clusters/cluster1.csv', \n",
        "             'News_Filter/Pilot/clusters/cluster2.csv',\n",
        "             'News_Filter/Pilot/clusters/cluster3.csv']\n",
        "clusters = Parallel(n_jobs=3)(delayed(pd.read_csv)(csv_file) for csv_file in lst_files)"
      ],
      "execution_count": 0,
      "outputs": []
    },
    {
      "cell_type": "code",
      "metadata": {
        "id": "zUweTmVdYxZ_",
        "colab_type": "code",
        "colab": {}
      },
      "source": [
        "# importing some dependencies\n",
        "from nltk.cluster.util import cosine_distance\n",
        "import networkx as nx"
      ],
      "execution_count": 0,
      "outputs": []
    },
    {
      "cell_type": "code",
      "metadata": {
        "id": "PgN4fHPnYzjR",
        "colab_type": "code",
        "outputId": "3e066c3a-bfff-40c5-e72a-1c4ca41a70e5",
        "colab": {
          "base_uri": "https://localhost:8080/",
          "height": 302
        }
      },
      "source": [
        "# how do these clusters look like?\n",
        "clusters[0]"
      ],
      "execution_count": 27,
      "outputs": [
        {
          "output_type": "execute_result",
          "data": {
            "text/plain": [
              "    index  Unnamed: 0      id  \\\n",
              "0   20374       20377   39123   \n",
              "1  100217      103677  152203   \n",
              "2  138814      142277  213302   \n",
              "3  136585      140048  210482   \n",
              "4   28667       28675   47436   \n",
              "\n",
              "                                               title      publication  \\\n",
              "0  Exclusive - Sarah Palin: Administration Lies, ...        Breitbart   \n",
              "1  Benghazi may be over, but #Benghazi has a life...         Guardian   \n",
              "2                         The GOP stoops for scandal  Washington Post   \n",
              "3  Univision’s Ramos picked the wrong Benghazi qu...  Washington Post   \n",
              "4  Donald Trump on Benghazi: ’Hillary Clinton Dec...        Breitbart   \n",
              "\n",
              "            author        date    year  month  \\\n",
              "0      Sarah Palin  2016-06-28  2016.0    6.0   \n",
              "1     Lucia Graves  2016-06-28  2016.0    6.0   \n",
              "2  Eugene Robinson  2016-07-04  2016.0    7.0   \n",
              "3      Erik Wemple  2016-03-10  2016.0    3.0   \n",
              "4      Alex Swoyer  2016-04-27  2016.0    4.0   \n",
              "\n",
              "                                                 url  \\\n",
              "0                                                NaN   \n",
              "1  https://www.theguardian.com/commentisfree/2016...   \n",
              "2  https://web.archive.org/web/20160705001849/htt...   \n",
              "3  https://web.archive.org/web/20160311000724/htt...   \n",
              "4                                                NaN   \n",
              "\n",
              "                                             content  \\\n",
              "0  Listening to the Benghazi Committee reveal wha...   \n",
              "1  To understand the story of Benghazi, you first...   \n",
              "2   The Republican yearning to pin a scandal on H...   \n",
              "3       Jorge Ramos chose flash over substance. I...   \n",
              "4  GOP frontrunner Donald Trump, looking toward t...   \n",
              "\n",
              "                                                text  \n",
              "0  Exclusive - Sarah Palin: Administration Lies, ...  \n",
              "1  Benghazi may be over, but #Benghazi has a life...  \n",
              "2  The GOP stoops for scandal  The Republican yea...  \n",
              "3  Univision’s Ramos picked the wrong Benghazi qu...  \n",
              "4  Donald Trump on Benghazi: ’Hillary Clinton Dec...  "
            ],
            "text/html": [
              "<div>\n",
              "<style scoped>\n",
              "    .dataframe tbody tr th:only-of-type {\n",
              "        vertical-align: middle;\n",
              "    }\n",
              "\n",
              "    .dataframe tbody tr th {\n",
              "        vertical-align: top;\n",
              "    }\n",
              "\n",
              "    .dataframe thead th {\n",
              "        text-align: right;\n",
              "    }\n",
              "</style>\n",
              "<table border=\"1\" class=\"dataframe\">\n",
              "  <thead>\n",
              "    <tr style=\"text-align: right;\">\n",
              "      <th></th>\n",
              "      <th>index</th>\n",
              "      <th>Unnamed: 0</th>\n",
              "      <th>id</th>\n",
              "      <th>title</th>\n",
              "      <th>publication</th>\n",
              "      <th>author</th>\n",
              "      <th>date</th>\n",
              "      <th>year</th>\n",
              "      <th>month</th>\n",
              "      <th>url</th>\n",
              "      <th>content</th>\n",
              "      <th>text</th>\n",
              "    </tr>\n",
              "  </thead>\n",
              "  <tbody>\n",
              "    <tr>\n",
              "      <th>0</th>\n",
              "      <td>20374</td>\n",
              "      <td>20377</td>\n",
              "      <td>39123</td>\n",
              "      <td>Exclusive - Sarah Palin: Administration Lies, ...</td>\n",
              "      <td>Breitbart</td>\n",
              "      <td>Sarah Palin</td>\n",
              "      <td>2016-06-28</td>\n",
              "      <td>2016.0</td>\n",
              "      <td>6.0</td>\n",
              "      <td>NaN</td>\n",
              "      <td>Listening to the Benghazi Committee reveal wha...</td>\n",
              "      <td>Exclusive - Sarah Palin: Administration Lies, ...</td>\n",
              "    </tr>\n",
              "    <tr>\n",
              "      <th>1</th>\n",
              "      <td>100217</td>\n",
              "      <td>103677</td>\n",
              "      <td>152203</td>\n",
              "      <td>Benghazi may be over, but #Benghazi has a life...</td>\n",
              "      <td>Guardian</td>\n",
              "      <td>Lucia Graves</td>\n",
              "      <td>2016-06-28</td>\n",
              "      <td>2016.0</td>\n",
              "      <td>6.0</td>\n",
              "      <td>https://www.theguardian.com/commentisfree/2016...</td>\n",
              "      <td>To understand the story of Benghazi, you first...</td>\n",
              "      <td>Benghazi may be over, but #Benghazi has a life...</td>\n",
              "    </tr>\n",
              "    <tr>\n",
              "      <th>2</th>\n",
              "      <td>138814</td>\n",
              "      <td>142277</td>\n",
              "      <td>213302</td>\n",
              "      <td>The GOP stoops for scandal</td>\n",
              "      <td>Washington Post</td>\n",
              "      <td>Eugene Robinson</td>\n",
              "      <td>2016-07-04</td>\n",
              "      <td>2016.0</td>\n",
              "      <td>7.0</td>\n",
              "      <td>https://web.archive.org/web/20160705001849/htt...</td>\n",
              "      <td>The Republican yearning to pin a scandal on H...</td>\n",
              "      <td>The GOP stoops for scandal  The Republican yea...</td>\n",
              "    </tr>\n",
              "    <tr>\n",
              "      <th>3</th>\n",
              "      <td>136585</td>\n",
              "      <td>140048</td>\n",
              "      <td>210482</td>\n",
              "      <td>Univision’s Ramos picked the wrong Benghazi qu...</td>\n",
              "      <td>Washington Post</td>\n",
              "      <td>Erik Wemple</td>\n",
              "      <td>2016-03-10</td>\n",
              "      <td>2016.0</td>\n",
              "      <td>3.0</td>\n",
              "      <td>https://web.archive.org/web/20160311000724/htt...</td>\n",
              "      <td>Jorge Ramos chose flash over substance. I...</td>\n",
              "      <td>Univision’s Ramos picked the wrong Benghazi qu...</td>\n",
              "    </tr>\n",
              "    <tr>\n",
              "      <th>4</th>\n",
              "      <td>28667</td>\n",
              "      <td>28675</td>\n",
              "      <td>47436</td>\n",
              "      <td>Donald Trump on Benghazi: ’Hillary Clinton Dec...</td>\n",
              "      <td>Breitbart</td>\n",
              "      <td>Alex Swoyer</td>\n",
              "      <td>2016-04-27</td>\n",
              "      <td>2016.0</td>\n",
              "      <td>4.0</td>\n",
              "      <td>NaN</td>\n",
              "      <td>GOP frontrunner Donald Trump, looking toward t...</td>\n",
              "      <td>Donald Trump on Benghazi: ’Hillary Clinton Dec...</td>\n",
              "    </tr>\n",
              "  </tbody>\n",
              "</table>\n",
              "</div>"
            ]
          },
          "metadata": {
            "tags": []
          },
          "execution_count": 27
        }
      ]
    },
    {
      "cell_type": "markdown",
      "metadata": {
        "id": "k7vj_OYzZva4",
        "colab_type": "text"
      },
      "source": [
        "So each of the members inside of \"clusters\" is already a data frame. Therefore the actual data we care about, is the summarization of the content of each row within each dataframe."
      ]
    },
    {
      "cell_type": "code",
      "metadata": {
        "id": "Wx6M4jC5aVrl",
        "colab_type": "code",
        "outputId": "12c11969-e1ff-4e15-ad49-a012f69c963e",
        "colab": {
          "base_uri": "https://localhost:8080/",
          "height": 69
        }
      },
      "source": [
        "clusters[0].columns"
      ],
      "execution_count": 28,
      "outputs": [
        {
          "output_type": "execute_result",
          "data": {
            "text/plain": [
              "Index(['index', 'Unnamed: 0', 'id', 'title', 'publication', 'author', 'date',\n",
              "       'year', 'month', 'url', 'content', 'text'],\n",
              "      dtype='object')"
            ]
          },
          "metadata": {
            "tags": []
          },
          "execution_count": 28
        }
      ]
    },
    {
      "cell_type": "code",
      "metadata": {
        "id": "WOfEOyVJaLvx",
        "colab_type": "code",
        "colab": {}
      },
      "source": [
        "# lets create variables for the content of each of these\n",
        "clust_cont1 = clusters[0]['text'] \n",
        "clust_cont2 = clusters[1]['text']\n",
        "clust_cont3 = clusters[2]['text']"
      ],
      "execution_count": 0,
      "outputs": []
    },
    {
      "cell_type": "markdown",
      "metadata": {
        "id": "OPyG3_-ra0-D",
        "colab_type": "text"
      },
      "source": [
        "Some functions to work with:"
      ]
    },
    {
      "cell_type": "code",
      "metadata": {
        "id": "GHb5izQBaiQs",
        "colab_type": "code",
        "colab": {}
      },
      "source": [
        "def read_content(piece):\n",
        "  article = piece.split(\". \")\n",
        "  sentences = []\n",
        "\n",
        "  for sentence in article:\n",
        "    #print(sentence)\n",
        "    sentences.append(sentence.replace(\"[^a-zA-Z]\", \" \").split(\" \"))\n",
        "    #sentences.pop()\n",
        "\n",
        "  return sentences"
      ],
      "execution_count": 0,
      "outputs": []
    },
    {
      "cell_type": "code",
      "metadata": {
        "id": "zNE6EfpEgGOt",
        "colab_type": "code",
        "colab": {}
      },
      "source": [
        "# measuring similarity\n",
        "def sentence_similarity(sent1, sent2, stopwords=None):\n",
        "  if stopwords is None:\n",
        "    stopwords=[]\n",
        "\n",
        "  sent1 = [w.lower() for w in sent1]\n",
        "  sent2 = [w.lower() for w in sent2]\n",
        "\n",
        "  all_words = list(set(sent1 + sent2))\n",
        "\n",
        "  vector1 = [0] * len(all_words)\n",
        "  vector2 = [0] * len(all_words)\n",
        "\n",
        "  # build vector for the first sentence\n",
        "  for w in sent1:\n",
        "    if w in stopwords:\n",
        "      continue\n",
        "    vector1[all_words.index(w)] += 1\n",
        "\n",
        "  # build vector for second sentence\n",
        "  for w in sent2:\n",
        "    if w in stopwords:\n",
        "      continue\n",
        "    vector2[all_words.index(w)] += 1\n",
        "\n",
        "  return 1 - cosine_distance(vector1, vector2)"
      ],
      "execution_count": 0,
      "outputs": []
    },
    {
      "cell_type": "code",
      "metadata": {
        "id": "qUbWn0uSbdvJ",
        "colab_type": "code",
        "colab": {}
      },
      "source": [
        "# similarity matrix: cos sim to find similarity btw sent\n",
        "def build_sim_matrix(sentences, stop_words):\n",
        "  # create empty sim matrix\n",
        "  sim_matrix = np.zeros((len(sentences), len(sentences)))\n",
        "\n",
        "  for i in range(len(sentences)):\n",
        "    for j in range(len(sentences)):\n",
        "      if i == j: # skip if both are same sent\n",
        "        continue\n",
        "      sim_matrix[i][j] = sentence_similarity(sentences[i],\n",
        "                                             sentences[j],\n",
        "                                             stop_words)\n",
        "  return sim_matrix"
      ],
      "execution_count": 0,
      "outputs": []
    },
    {
      "cell_type": "code",
      "metadata": {
        "id": "SaWVVhWldMsk",
        "colab_type": "code",
        "colab": {}
      },
      "source": [
        "# generate summary method\n",
        "def generate_summary(content, top_n=5):\n",
        "  stop_words = stopwords.words('english')\n",
        "  summarized_text=[]\n",
        "\n",
        "  # first read in article and tokenize\n",
        "  sentences = read_content(content)\n",
        "\n",
        "  # second generate sim matrix accross sents\n",
        "  sent_sim_mat = build_sim_matrix(sentences, stop_words)\n",
        "\n",
        "  # third rank sentences in sim matrix\n",
        "  sent_sim_graph = nx.from_numpy_array(sent_sim_mat)\n",
        "\n",
        "  scores = nx.pagerank(sent_sim_graph, max_iter=5000)\n",
        "\n",
        "  # fourth sort the rank and pick top sent\n",
        "  ranked_sent = sorted(((scores[i],s) for i,s in enumerate(sentences)),\n",
        "                       reverse=True)\n",
        "\n",
        "  for i in range(top_n):\n",
        "    summarized_text.append(\" \".join(ranked_sent[i][1]))\n",
        "\n",
        "  # fifth, output the sumarized text\n",
        "  output = \". \".join(summarized_text)\n",
        "  #print(\"Summarized Text: \\n\", \". \".join(summarized_text))\n",
        "\n",
        "  return output"
      ],
      "execution_count": 0,
      "outputs": []
    },
    {
      "cell_type": "code",
      "metadata": {
        "id": "bPJgDWC85Giy",
        "colab_type": "code",
        "colab": {}
      },
      "source": [
        "def get_summaries(cluster_name):\n",
        "  '''\n",
        "  input: list of articles in cluster\n",
        "  output: dictionary with valid summaries\n",
        "  '''\n",
        "\n",
        "  summa = {}\n",
        "  for j in range(len(cluster_name)):\n",
        "    try:\n",
        "      out = generate_summary(cluster_name[j])\n",
        "      summa[j] = out\n",
        "    except:\n",
        "      continue\n",
        "  \n",
        "  return summa\n"
      ],
      "execution_count": 0,
      "outputs": []
    },
    {
      "cell_type": "markdown",
      "metadata": {
        "id": "abRbd86F5rNx",
        "colab_type": "text"
      },
      "source": [
        "Finally, here is a call per cluster."
      ]
    },
    {
      "cell_type": "code",
      "metadata": {
        "id": "FQuK0fTi52s3",
        "colab_type": "code",
        "outputId": "93db24ca-081b-4d76-ede3-2cac5118dda7",
        "colab": {
          "base_uri": "https://localhost:8080/",
          "height": 52
        }
      },
      "source": [
        "first = get_summaries(clust_cont1.values)\n",
        "second = get_summaries(clust_cont2.values)\n",
        "third = get_summaries(clust_cont3.values)"
      ],
      "execution_count": 35,
      "outputs": [
        {
          "output_type": "stream",
          "text": [
            "/home/silvsilva/anaconda3/lib/python3.7/site-packages/nltk/cluster/util.py:133: RuntimeWarning: invalid value encountered in true_divide\n",
            "  return 1 - (numpy.dot(u, v) / (sqrt(numpy.dot(u, u)) * sqrt(numpy.dot(v, v))))\n"
          ],
          "name": "stderr"
        }
      ]
    },
    {
      "cell_type": "code",
      "metadata": {
        "id": "B14NfhZP6m6L",
        "colab_type": "code",
        "outputId": "c02b42f3-4410-4e12-c1a0-7480a3c555ea",
        "colab": {
          "base_uri": "https://localhost:8080/",
          "height": 121
        }
      },
      "source": [
        "clust_cont1"
      ],
      "execution_count": 36,
      "outputs": [
        {
          "output_type": "execute_result",
          "data": {
            "text/plain": [
              "0    Exclusive - Sarah Palin: Administration Lies, ...\n",
              "1    Benghazi may be over, but #Benghazi has a life...\n",
              "2    The GOP stoops for scandal  The Republican yea...\n",
              "3    Univision’s Ramos picked the wrong Benghazi qu...\n",
              "4    Donald Trump on Benghazi: ’Hillary Clinton Dec...\n",
              "Name: text, dtype: object"
            ]
          },
          "metadata": {
            "tags": []
          },
          "execution_count": 36
        }
      ]
    },
    {
      "cell_type": "code",
      "metadata": {
        "id": "twxusW9j6DrI",
        "colab_type": "code",
        "outputId": "e2869ce6-2847-49d3-b682-72182b8da383",
        "colab": {
          "base_uri": "https://localhost:8080/",
          "height": 89
        }
      },
      "source": [
        "first"
      ],
      "execution_count": 37,
      "outputs": [
        {
          "output_type": "execute_result",
          "data": {
            "text/plain": [
              "{0: 'Yes, Hillary, at Every Point ‘It Matters’  Listening to the Benghazi Committee reveal what we knew  —   the Obama Administration’s devastating lies cost lives, and at any point it just doesn’t matter to them. Much like today’s refusal to believe real threats  —   denying Islam put the “I” in ISIS  —   they are wrapping America’s children in a suicide vest..  Hillary left our men behind. They sat back and allowed our peacekeepers to die during what they witnessed becoming a suicide mission. Exclusive - Sarah Palin: Administration Lies, Soldiers Die',\n",
              " 1: 'The second biggest upshot is likely the personal misfortune for Kevin McCarthy, who  —   as result of his comment suggesting the entire   Benghazi investigation is a patently political attempt to tar Clinton  —   is not the House speaker. The conclusive   Benghazi report has finally been issued. At the time, the real smoking gun of the hearing from Matt Drudge’s perspective was a coughing fit and slow speech, which he claimed at the time was “obvious” evidence she was  —   horror of horrors  —   taking   meds. The second is #Benghazi, a dumpster fire of conspiracy theories and nakedly political attacks, fanned by rightwing Twitter trolls and fed by the    conviction that, despite overwhelming evidence to the contrary, there’s a   coverup at work. Never mind that we’ve now had more investigations of Benghazi than every   terror attack in recent history combined',\n",
              " 4: 'Donald Trump on Benghazi: ’Hillary Clinton Decided to Go Home and Sleep’  GOP frontrunner Donald Trump, looking toward the general election, criticized Democrat frontrunner Hillary Clinton and President Obama’s foreign policy during his formal address on Wednesday at the Mayflower Hotel in Washington, D. ” Trump then turned his attention to Clinton. Trump brought up the 2012 terrorist attack in Benghazi, Libya where four Americans died under Secretary of State Hillary Clinton’s tenure. Then, instead of taking charge that night, Hillary Clinton decided to go home and sleep! Incredible. “And now ISIS is making millions of dollars a week selling Libyan oil,” Trump charged, vowing, “This will change when I am president'}"
            ]
          },
          "metadata": {
            "tags": []
          },
          "execution_count": 37
        }
      ]
    },
    {
      "cell_type": "code",
      "metadata": {
        "id": "n1vfPpSi-5Dc",
        "colab_type": "code",
        "outputId": "177ac433-cc54-4558-8b3a-48b1f8be3562",
        "colab": {
          "base_uri": "https://localhost:8080/",
          "height": 55
        }
      },
      "source": [
        "clust_cont2[0]"
      ],
      "execution_count": 38,
      "outputs": [
        {
          "output_type": "execute_result",
          "data": {
            "text/plain": [
              "' Women Share Why They Hit The Streets At The Sundance Women’s\\xa0March ’ Earlier this morning, protesters marched down Main Street in Park City, Utah  —   where the Sundance Film Festival is currently taking place  —   in a Women’s March organized by Chelsea Handler.’ ’ BuzzFeed News was on site and asked women why they were participating in the march. Here are their answers:’ ’ “Marching for my grandchildren & 30 years of students in public schools”’ ’ “Trump is not an ally to the colorful, complicated, spirited people of this country! ”’ ’ “We need to advocate for EVERYONE, regardless of political climate”’ ’ “Equality for WOMEN  —   no harassment”’ ’ “I march for THE FUTURE”’ ’ “I’m a school counselor #publicschool”’ ’ “Inequality is unsustainable”’ ’ “I’m here to stand up for the rights of those that are threatened  —   minorities, women, & OUR EARTH”’ ’ “To put Trump on notice”’ ’ “I will no longer be silent”’ ’ “For the radical idea that women are people, too”’ ’ “Future is female. ‘Balance’ ‘Spiritual’ Beginning Life Happiness ‘Fire in the Home’  —   LOVE”’ ’ “I marched for Civil Rights. I marched against the war. Now I march for my kids. ”’ ’ “So I can be anything when I grow up”’]   '"
            ]
          },
          "metadata": {
            "tags": []
          },
          "execution_count": 38
        }
      ]
    },
    {
      "cell_type": "code",
      "metadata": {
        "id": "jbIksOI86GwI",
        "colab_type": "code",
        "outputId": "5c8d0fa2-31b7-4647-af85-8ebf772f24aa",
        "colab": {
          "base_uri": "https://localhost:8080/",
          "height": 106
        }
      },
      "source": [
        "second"
      ],
      "execution_count": 39,
      "outputs": [
        {
          "output_type": "execute_result",
          "data": {
            "text/plain": [
              "{0: ' Women Share Why They Hit The Streets At The Sundance Women’s\\xa0March ’ Earlier this morning, protesters marched down Main Street in Park City, Utah  —   where the Sundance Film Festival is currently taking place  —   in a Women’s March organized by Chelsea Handler.’ ’ BuzzFeed News was on site and asked women why they were participating in the march. ‘Balance’ ‘Spiritual’ Beginning Life Happiness ‘Fire in the Home’  —   LOVE”’ ’ “I marched for Civil Rights. ”’ ’ “So I can be anything when I grow up”’]   . Here are their answers:’ ’ “Marching for my grandchildren & 30 years of students in public schools”’ ’ “Trump is not an ally to the colorful, complicated, spirited people of this country! ”’ ’ “We need to advocate for EVERYONE, regardless of political climate”’ ’ “Equality for WOMEN  —   no harassment”’ ’ “I march for THE FUTURE”’ ’ “I’m a school counselor #publicschool”’ ’ “Inequality is unsustainable”’ ’ “I’m here to stand up for the rights of those that are threatened  —   minorities, women, & OUR EARTH”’ ’ “To put Trump on notice”’ ’ “I will no longer be silent”’ ’ “For the radical idea that women are people, too”’ ’ “Future is female. I marched against the war',\n",
              " 1: 'Women will march on – What would a feminist do? podcast Subscribe via iTunes, Audioboom, Mixcloud, Soundcloud, Acast, Stitcher and join the discussion on Facebook and Twitter, It is estimated that millions of people worldwide marched in conjunction with Saturday’s Women’s March on Washington. The pair examine some criticisms of the march and look at plans to keep the momentum going. This week, host Jessica Valenti talks with Jamia Wilson, executive director of Women, Action, and the Media, about what happened on Saturday and what comes next.  But while Saturday invigorated the movement to resist Trump, many are asking how to turn the energy of the demonstration into action. As always, we want to hear from you: Please join the conversation in the comments below.',\n",
              " 3: '” You see, 1997 saw a Million Woman March in DC for    —   a follow to Louis Farrakhan’s 1995 Million Man March. ”  But it’s The Washington Post’s debacle that makes us suspect a curse: Thursday’s edition of the paper’s free giveaway, Express, was all about the march  —   but the cover was dominated by a giant male symbol, rather than the female one.  1963 March on Washington. (Organizers’ dodge: Claim the whole thing is a tribute to King.) And,   the event’s page is still plagued with “arguments about whether an event organized primarily by white women can be sufficiently ‘intersectional’  —   or attuned to the issues faced by, say, poor minority women who reside at the ‘intersection’ of class, race, and gender concerns in America. The Women’s March on Washington is becoming a\\xa0joke Is the Women’s March on Washington cursed? The   protest set for Jan',\n",
              " 4: 'The march organizers are still officially only expecting a crowd of 200, 000 to 250, 000 people  —   mostly women, but also many men  —   based on the number who have registered. “I am a woman of color and a Muslim from an immigrant family whose country is now going to be led by someone who has been openly   and sexist, has attacked Muslims and is surrounding himself with some horrible people for his cabinet,” said Zahra Billoo, director of the San Francisco chapter of the Council on   Relations and a speaker at the march. But the roar of the masses will surely reach the president’s ears later, as the speeches and   performers wrap up the    hour rally and the demonstrators march to the Ellipse, the large green space opposite the White House. But Linda Sarsour, one of the four march   hopes that the end of the event will mark the beginning of a new movement. The event began to be physically realized on Friday as buses, trains and planes started pouring into Washington, packed full of women  —   and supportive male friends dotted among them'}"
            ]
          },
          "metadata": {
            "tags": []
          },
          "execution_count": 39
        }
      ]
    },
    {
      "cell_type": "code",
      "metadata": {
        "id": "4YA_Fgb6-9SF",
        "colab_type": "code",
        "outputId": "ce9a3931-7197-4456-955b-544ef9740ad6",
        "colab": {
          "base_uri": "https://localhost:8080/",
          "height": 55
        }
      },
      "source": [
        "clust_cont3[0]"
      ],
      "execution_count": 40,
      "outputs": [
        {
          "output_type": "execute_result",
          "data": {
            "text/plain": [
              "'Hillary Clinton pal Neera Tanden’s greatest hits from WikiLeaks emails Tanden has a potty mouth, and talks a lot of trash, but she’s also mostly right whenever she complains about something, such as the absurd secrecy of Hillary’s inner circle of friends, who withheld information about her email habits at the State Department because “they wanted to get away with it. ” Here are some of Tanden’s greatest hits: “    insane” That’s how Tanden described the scandal involving Hillary Clinton’s use of a private email server as secretary of state. “Do we actually know who told Hillary she could use a private email?” she wrote in an email to Clinton campaign chairman John Podesta in 2015. “And has that person been drawn and quartered?” “    these   ” See the Fox News 2016 battleground prediction map and make your own election projections. See Predictions Map → Those were Tanden’s choice words for liberals criticizing Hillary Clinton for using the phrase “all lives matter. ” “He’s a    ” Tanden expressed her displeasure when she learned that Democratic operative Faiz Shakir, who currently works for Senate Minority Leader Harry Reid, had started advising Hillary Clinton’s primary challenger Bernie Sanders. “I find him a bit insufferable” This was Tanden’s response to New York City mayor Bill de Blasio’s reluctance to endorse Hillary Clinton. CLICK TO READ MORE FROM HEAT STREET,   '"
            ]
          },
          "metadata": {
            "tags": []
          },
          "execution_count": 40
        }
      ]
    },
    {
      "cell_type": "code",
      "metadata": {
        "id": "CvB3loSS6RZR",
        "colab_type": "code",
        "outputId": "a7ab30f6-7a6c-48f2-c0b6-557019bcb522",
        "colab": {
          "base_uri": "https://localhost:8080/",
          "height": 124
        }
      },
      "source": [
        "third"
      ],
      "execution_count": 41,
      "outputs": [
        {
          "output_type": "execute_result",
          "data": {
            "text/plain": [
              "{0: '” Here are some of Tanden’s greatest hits: “    insane” That’s how Tanden described the scandal involving Hillary Clinton’s use of a private email server as secretary of state. “And has that person been drawn and quartered?” “    these   ” See the Fox News 2016 battleground prediction map and make your own election projections. CLICK TO READ MORE FROM HEAT STREET,   . ” “He’s a    ” Tanden expressed her displeasure when she learned that Democratic operative Faiz Shakir, who currently works for Senate Minority Leader Harry Reid, had started advising Hillary Clinton’s primary challenger Bernie Sanders. See Predictions Map → Those were Tanden’s choice words for liberals criticizing Hillary Clinton for using the phrase “all lives matter',\n",
              " 1: 'Comey that during its investigation, the FBI found several thousand   emails that had not been previously turned over by Clinton. Hillary Clinton Deleted More Emails Than She Sent to the State Department  Chris Cillizza of the Washington Post confirms a data point implicit in today’s news that the FBI has found 15, 000 emails from Hillary Clinton’s unsecure homebrew server, from which she conducted the work as Secretary of State and housed classified information. [From the Washington Post:  Clinton deleted more emails than she turned over.   …     [W]e know from FBI Director James B. The essence of Clinton’s argument regarding this   process was: Trust me',\n",
              " 2: 'Comey dismantled large portions of Clinton’s   story about her private server and what she sent or received on it during a stirring   news conference, after which he took no questions. Hillary Clinton’s email problems might be even worse than we thought        Here’s the good news for Hillary Clinton: The FBI has recommended that no charges be brought following its investigation of the former secretary of state’s private email server.              Caption   The former secretary of state clinched the number of delegates needed to be the Democratic nominee for president.  Melina   Washington Post  . Most importantly, Comey said the FBI found 110 emails on Clinton’s server that were classified at the time they were sent or received',\n",
              " 3: 'Fox News anchor grills Hillary Clinton on her email scandal ’’ ’Fox News host Bret Baier grilled Hillary Clinton over her use of a private email server during her first appearance on the network in more than two years on Monday.’ ’In a network   event, Baier pressed Clinton at length about her use of a private email server while she was the US secretary of state.’ ’”The FBI investigation is still hanging over your campaign, and there are some Democrats who are worried about the other shoe dropping,” Baier said.’ ’The former secretary of state vigorously refuted claims that her past statements about sharing classified information on her private server were inaccurate.’ ’”There’’s a lot of misinformation going on around here, so let me start with the facts,” Clinton said.’ ’Last March, facing ’ ’Clinton reiterated that she believed she made a ”mistake” in using a personal email account instead of an official government account. ”’ ’Baier then confronted Clinton about the classification process itself, asking whether she believed the   emails even needed to be classified.’ ’”So your contention now is the 2, 100 or so emails should not have been classified at any time, now or then?” Baier asked.’ ’Clinton, disagreed, but called for the emails to be released.’ ’”Release it, and once the American people see it, they will see how absurd this is,” Clinton said, spurring applause in the audience.’ ’Fox News host Bret Baier grilled Hillary. It was a mistake,” Clinton said. But she argued that none of the emails she sent or received were marked classified at the time.’ ’”I have said it wasn’’t the best choice to use a personal email. Many people in the government, past and current, have on occasion or in practice have done the same',\n",
              " 4: 'Thank you, Huma. Thank you, Huma. Thank you, Anthony Weiner.”  —   @realDonaldTrump on @HillaryClinton email investigation pic. ” ”Thank you, Huma. “Thank you, Huma'}"
            ]
          },
          "metadata": {
            "tags": []
          },
          "execution_count": 41
        }
      ]
    },
    {
      "cell_type": "markdown",
      "metadata": {
        "id": "ebg84FyK6Smd",
        "colab_type": "text"
      },
      "source": [
        "### Doing the Summary of the Summaries\n",
        "Re-input the outputted summaries to create a summary of each of the outputted summaries for each cluster.\n",
        "\n",
        "So:\n",
        "- First: outputs a dictionary of the summaries made for each text in the the first cluster. The key is the number of the article within that cluster. The values are the summaries for each of those texts.\n",
        "- Second: follows same structure as above.\n",
        "- Third: follow same structure too\n",
        "- Fourth: same for this one."
      ]
    },
    {
      "cell_type": "code",
      "metadata": {
        "id": "QGBBfib_vYfT",
        "colab_type": "code",
        "outputId": "3d9195c1-7157-4002-cd6d-3c550d5e4261",
        "colab": {
          "base_uri": "https://localhost:8080/",
          "height": 89
        }
      },
      "source": [
        "# so let's just make it work with the first outputted clusters.\n",
        "first"
      ],
      "execution_count": 42,
      "outputs": [
        {
          "output_type": "execute_result",
          "data": {
            "text/plain": [
              "{0: 'Yes, Hillary, at Every Point ‘It Matters’  Listening to the Benghazi Committee reveal what we knew  —   the Obama Administration’s devastating lies cost lives, and at any point it just doesn’t matter to them. Much like today’s refusal to believe real threats  —   denying Islam put the “I” in ISIS  —   they are wrapping America’s children in a suicide vest..  Hillary left our men behind. They sat back and allowed our peacekeepers to die during what they witnessed becoming a suicide mission. Exclusive - Sarah Palin: Administration Lies, Soldiers Die',\n",
              " 1: 'The second biggest upshot is likely the personal misfortune for Kevin McCarthy, who  —   as result of his comment suggesting the entire   Benghazi investigation is a patently political attempt to tar Clinton  —   is not the House speaker. The conclusive   Benghazi report has finally been issued. At the time, the real smoking gun of the hearing from Matt Drudge’s perspective was a coughing fit and slow speech, which he claimed at the time was “obvious” evidence she was  —   horror of horrors  —   taking   meds. The second is #Benghazi, a dumpster fire of conspiracy theories and nakedly political attacks, fanned by rightwing Twitter trolls and fed by the    conviction that, despite overwhelming evidence to the contrary, there’s a   coverup at work. Never mind that we’ve now had more investigations of Benghazi than every   terror attack in recent history combined',\n",
              " 4: 'Donald Trump on Benghazi: ’Hillary Clinton Decided to Go Home and Sleep’  GOP frontrunner Donald Trump, looking toward the general election, criticized Democrat frontrunner Hillary Clinton and President Obama’s foreign policy during his formal address on Wednesday at the Mayflower Hotel in Washington, D. ” Trump then turned his attention to Clinton. Trump brought up the 2012 terrorist attack in Benghazi, Libya where four Americans died under Secretary of State Hillary Clinton’s tenure. Then, instead of taking charge that night, Hillary Clinton decided to go home and sleep! Incredible. “And now ISIS is making millions of dollars a week selling Libyan oil,” Trump charged, vowing, “This will change when I am president'}"
            ]
          },
          "metadata": {
            "tags": []
          },
          "execution_count": 42
        }
      ]
    },
    {
      "cell_type": "code",
      "metadata": {
        "id": "akoF5g4pvZM9",
        "colab_type": "code",
        "outputId": "ac8f687a-9367-4315-b3c2-3c2f653ebc46",
        "colab": {
          "base_uri": "https://localhost:8080/",
          "height": 138
        }
      },
      "source": [
        "frame_first = pd.DataFrame.from_dict(first, orient= 'index')\n",
        "frame_first"
      ],
      "execution_count": 43,
      "outputs": [
        {
          "output_type": "execute_result",
          "data": {
            "text/plain": [
              "                                                   0\n",
              "0  Yes, Hillary, at Every Point ‘It Matters’  Lis...\n",
              "1  The second biggest upshot is likely the person...\n",
              "4  Donald Trump on Benghazi: ’Hillary Clinton Dec..."
            ],
            "text/html": [
              "<div>\n",
              "<style scoped>\n",
              "    .dataframe tbody tr th:only-of-type {\n",
              "        vertical-align: middle;\n",
              "    }\n",
              "\n",
              "    .dataframe tbody tr th {\n",
              "        vertical-align: top;\n",
              "    }\n",
              "\n",
              "    .dataframe thead th {\n",
              "        text-align: right;\n",
              "    }\n",
              "</style>\n",
              "<table border=\"1\" class=\"dataframe\">\n",
              "  <thead>\n",
              "    <tr style=\"text-align: right;\">\n",
              "      <th></th>\n",
              "      <th>0</th>\n",
              "    </tr>\n",
              "  </thead>\n",
              "  <tbody>\n",
              "    <tr>\n",
              "      <th>0</th>\n",
              "      <td>Yes, Hillary, at Every Point ‘It Matters’  Lis...</td>\n",
              "    </tr>\n",
              "    <tr>\n",
              "      <th>1</th>\n",
              "      <td>The second biggest upshot is likely the person...</td>\n",
              "    </tr>\n",
              "    <tr>\n",
              "      <th>4</th>\n",
              "      <td>Donald Trump on Benghazi: ’Hillary Clinton Dec...</td>\n",
              "    </tr>\n",
              "  </tbody>\n",
              "</table>\n",
              "</div>"
            ]
          },
          "metadata": {
            "tags": []
          },
          "execution_count": 43
        }
      ]
    },
    {
      "cell_type": "code",
      "metadata": {
        "id": "T8ztF_dVwwzZ",
        "colab_type": "code",
        "colab": {}
      },
      "source": [
        "entire_text = []\n",
        "add_text = \"\"\n",
        "for text in frame_first[0]:\n",
        "  add_text += text\n",
        "entire_text.append(add_text)\n"
      ],
      "execution_count": 0,
      "outputs": []
    },
    {
      "cell_type": "code",
      "metadata": {
        "id": "p8gUD_pWwwPH",
        "colab_type": "code",
        "outputId": "e3bfcefb-2bac-4779-875e-1e4f7e405743",
        "colab": {
          "base_uri": "https://localhost:8080/",
          "height": 55
        }
      },
      "source": [
        "# first summary of first cluster/topic:\n",
        "generate_summary(entire_text[0])"
      ],
      "execution_count": 45,
      "outputs": [
        {
          "output_type": "execute_result",
          "data": {
            "text/plain": [
              "'Much like today’s refusal to believe real threats  —   denying Islam put the “I” in ISIS  —   they are wrapping America’s children in a suicide vest.. Exclusive - Sarah Palin: Administration Lies, Soldiers DieThe second biggest upshot is likely the personal misfortune for Kevin McCarthy, who  —   as result of his comment suggesting the entire   Benghazi investigation is a patently political attempt to tar Clinton  —   is not the House speaker. At the time, the real smoking gun of the hearing from Matt Drudge’s perspective was a coughing fit and slow speech, which he claimed at the time was “obvious” evidence she was  —   horror of horrors  —   taking   meds. Never mind that we’ve now had more investigations of Benghazi than every   terror attack in recent history combinedDonald Trump on Benghazi: ’Hillary Clinton Decided to Go Home and Sleep’  GOP frontrunner Donald Trump, looking toward the general election, criticized Democrat frontrunner Hillary Clinton and President Obama’s foreign policy during his formal address on Wednesday at the Mayflower Hotel in Washington, D. The second is #Benghazi, a dumpster fire of conspiracy theories and nakedly political attacks, fanned by rightwing Twitter trolls and fed by the    conviction that, despite overwhelming evidence to the contrary, there’s a   coverup at work'"
            ]
          },
          "metadata": {
            "tags": []
          },
          "execution_count": 45
        }
      ]
    },
    {
      "cell_type": "code",
      "metadata": {
        "id": "D8e45fjIvZn8",
        "colab_type": "code",
        "colab": {}
      },
      "source": [
        "def summary_summaries(cluster):\n",
        "  \"\"\"\n",
        "  Recall that each cluster is a dictionary\n",
        "  Key: Article number\n",
        "  Values: Text\n",
        "\n",
        "  Thus, cluster - dictionary\n",
        "  \"\"\"\n",
        "  articles = cluster.values()\n",
        "  concat_ = \"\"\n",
        "  for article in articles:\n",
        "    concat_ += article\n",
        "  \n",
        "  summary = generate_summary(concat_)\n",
        "\n",
        "  return summary\n",
        "\n"
      ],
      "execution_count": 0,
      "outputs": []
    },
    {
      "cell_type": "markdown",
      "metadata": {
        "id": "iSfTrScmICgk",
        "colab_type": "text"
      },
      "source": [
        "**Here are all summary of summaries per each cluster.**"
      ]
    },
    {
      "cell_type": "code",
      "metadata": {
        "id": "O_wyMrVTyMm7",
        "colab_type": "code",
        "colab": {}
      },
      "source": [
        "first_summary = summary_summaries(first)\n",
        "second_summary = summary_summaries(second)\n",
        "third_summary = summary_summaries(third)"
      ],
      "execution_count": 0,
      "outputs": []
    },
    {
      "cell_type": "code",
      "metadata": {
        "id": "lE3jNJq-I4pB",
        "colab_type": "code",
        "colab": {
          "base_uri": "https://localhost:8080/",
          "height": 55
        },
        "outputId": "5ebb151a-594a-48ed-e7e0-ecca77ae5aac"
      },
      "source": [
        "# outputting for the sake of the github repo\n",
        "first_summary"
      ],
      "execution_count": 49,
      "outputs": [
        {
          "output_type": "execute_result",
          "data": {
            "text/plain": [
              "'Much like today’s refusal to believe real threats  —   denying Islam put the “I” in ISIS  —   they are wrapping America’s children in a suicide vest.. Exclusive - Sarah Palin: Administration Lies, Soldiers DieThe second biggest upshot is likely the personal misfortune for Kevin McCarthy, who  —   as result of his comment suggesting the entire   Benghazi investigation is a patently political attempt to tar Clinton  —   is not the House speaker. At the time, the real smoking gun of the hearing from Matt Drudge’s perspective was a coughing fit and slow speech, which he claimed at the time was “obvious” evidence she was  —   horror of horrors  —   taking   meds. Never mind that we’ve now had more investigations of Benghazi than every   terror attack in recent history combinedDonald Trump on Benghazi: ’Hillary Clinton Decided to Go Home and Sleep’  GOP frontrunner Donald Trump, looking toward the general election, criticized Democrat frontrunner Hillary Clinton and President Obama’s foreign policy during his formal address on Wednesday at the Mayflower Hotel in Washington, D. The second is #Benghazi, a dumpster fire of conspiracy theories and nakedly political attacks, fanned by rightwing Twitter trolls and fed by the    conviction that, despite overwhelming evidence to the contrary, there’s a   coverup at work'"
            ]
          },
          "metadata": {
            "tags": []
          },
          "execution_count": 49
        }
      ]
    },
    {
      "cell_type": "code",
      "metadata": {
        "id": "w-7DaLWRI4c5",
        "colab_type": "code",
        "colab": {
          "base_uri": "https://localhost:8080/",
          "height": 55
        },
        "outputId": "6f2fe757-fbb0-42cd-c553-9d0c8cafe403"
      },
      "source": [
        "second_summary"
      ],
      "execution_count": 50,
      "outputs": [
        {
          "output_type": "execute_result",
          "data": {
            "text/plain": [
              "'The Women’s March on Washington is becoming a\\xa0joke Is the Women’s March on Washington cursed? The   protest set for JanThe march organizers are still officially only expecting a crowd of 200, 000 to 250, 000 people  —   mostly women, but also many men  —   based on the number who have registered.  Women Share Why They Hit The Streets At The Sundance Women’s\\xa0March ’ Earlier this morning, protesters marched down Main Street in Park City, Utah  —   where the Sundance Film Festival is currently taking place  —   in a Women’s March organized by Chelsea Handler.’ ’ BuzzFeed News was on site and asked women why they were participating in the march. As always, we want to hear from you: Please join the conversation in the comments below.” You see, 1997 saw a Million Woman March in DC for    —   a follow to Louis Farrakhan’s 1995 Million Man March. ”’ ’ “So I can be anything when I grow up”’]   . But the roar of the masses will surely reach the president’s ears later, as the speeches and   performers wrap up the    hour rally and the demonstrators march to the Ellipse, the large green space opposite the White House'"
            ]
          },
          "metadata": {
            "tags": []
          },
          "execution_count": 50
        }
      ]
    },
    {
      "cell_type": "code",
      "metadata": {
        "id": "3iYFhWu5I4Qk",
        "colab_type": "code",
        "colab": {
          "base_uri": "https://localhost:8080/",
          "height": 55
        },
        "outputId": "373065fa-c40a-40cb-a068-283ff3996638"
      },
      "source": [
        "third_summary"
      ],
      "execution_count": 51,
      "outputs": [
        {
          "output_type": "execute_result",
          "data": {
            "text/plain": [
              "'             Caption   The former secretary of state clinched the number of delegates needed to be the Democratic nominee for president.  Melina   Washington Post  . Hillary Clinton’s email problems might be even worse than we thought        Here’s the good news for Hillary Clinton: The FBI has recommended that no charges be brought following its investigation of the former secretary of state’s private email server.   …     [W]e know from FBI Director James B. Thank you, Anthony Weiner.”  —   @realDonaldTrump on @HillaryClinton email investigation pic'"
            ]
          },
          "metadata": {
            "tags": []
          },
          "execution_count": 51
        }
      ]
    },
    {
      "cell_type": "markdown",
      "metadata": {
        "id": "it0PVXSbvZxG",
        "colab_type": "text"
      },
      "source": [
        "**Now we will like to see if these inputs result in the same clusters as before.**\n",
        "\n",
        "We will use the universal encoder to cluster these summaries (1 per cluster) to determine whether we have lost some of the syntactic meaning behind each article.\n",
        "\n",
        "Recall the topics we had:\n",
        "1. Hillary Clinton Benghazi\n",
        "2. Women's March\n",
        "3. I forgot.\n"
      ]
    },
    {
      "cell_type": "code",
      "metadata": {
        "id": "_bx3wLOSIhLt",
        "colab_type": "code",
        "colab": {}
      },
      "source": [
        "# YOU HAVE ALREADY DONE THIS PART\n",
        "\n",
        "# FOLLOWING EM'S CODE\n",
        "# small data is already loaded in this notebook (messy, sorry)\n",
        "# model is already loaded from folder 'tmp'\n",
        "\n",
        "#emb_model = hub.load('tmp')\n",
        "#logging.set_verbosity(logging.ERROR)\n",
        "\n",
        "# compute embeddings for each article in 'small_data'\n",
        "#train_embeddings = emb_model(small_data.content)"
      ],
      "execution_count": 0,
      "outputs": []
    },
    {
      "cell_type": "code",
      "metadata": {
        "id": "bSnZxdhfIg7W",
        "colab_type": "code",
        "colab": {}
      },
      "source": [
        "# get clusters\n",
        "clusters = pd.read_csv('clusters.csv')"
      ],
      "execution_count": 0,
      "outputs": []
    },
    {
      "cell_type": "code",
      "metadata": {
        "id": "1UI_Y3-cvaFX",
        "colab_type": "code",
        "colab": {
          "base_uri": "https://localhost:8080/",
          "height": 1000
        },
        "outputId": "3a19e21b-22dc-45b4-f404-a5493da036d8"
      },
      "source": [
        "clusters"
      ],
      "execution_count": 58,
      "outputs": [
        {
          "output_type": "execute_result",
          "data": {
            "text/plain": [
              "        id                                              title  \\\n",
              "0    45558  Paul Ryan Backs President Obama’s Sanctions Ov...   \n",
              "1    72300  Putin’s chaos strategy is coming back to bite him   \n",
              "2   194362  Russia intervened to help Trump win election: ...   \n",
              "3    59828        Russian hacking activity continues unabated   \n",
              "4    92926  Trump: Special Counsel Will Prove My Team Didn...   \n",
              "5   205453  Russia’s assault on America’s elections is jus...   \n",
              "6    67261  Top-secret NSA report: Russian hackers tried t...   \n",
              "7    72962  Clinton campaign backs effort to brief Elector...   \n",
              "8    72358  The US government is launching a massive effor...   \n",
              "9    31540  Clinton Aide Jennifer Palmieri Blasts Trump fo...   \n",
              "10   70464  TRUMP: Adversaries of US ’almost certainly hav...   \n",
              "11   49591  Rand Paul: Hillary Could Get Five Years in Pri...   \n",
              "12   56439  Assange: ’We have more material related to the...   \n",
              "13   85727  Clinton team used special program to scrub ser...   \n",
              "14   92404  Trump Goes After Clinton, Comey In Late-Night ...   \n",
              "15   68550  Fox News anchor grills Hillary Clinton on her ...   \n",
              "16   40299  Donald Trump: ’Good Job, Huma. Thank you, Anth...   \n",
              "17   39429  Comedian Shouts News Headlines to WikiLeaks’ J...   \n",
              "18  213302                         The GOP stoops for scandal   \n",
              "19   86771  ’Didn’t want her to run’: Podesta says top Cli...   \n",
              "20   34095  Lena Dunham: Feminists Must Enlighten White Wo...   \n",
              "21  103164   Women Share Why They Hit The Streets At The S...   \n",
              "22   48701  Beyoncé Named Most Charitable Celeb for Black ...   \n",
              "23   73686  The Exhausting Work of Tallying America’s Larg...   \n",
              "24   74730                 Imagining an Economy Without Women   \n",
              "25   60705                             Badass women of sci-fi   \n",
              "26   38222  Actor Tony Goldwyn at DNC: Hillary Will Change...   \n",
              "27  122748  The Women’s March on Washington is becoming a ...   \n",
              "28  147468  Women’s March organizers prepare for hundreds ...   \n",
              "29  161410  At Anti-Abortion Rally, Pence Tells Protesters...   \n",
              "30   96444  Sanders’ Nevada Concession Speech: ’We Have Ma...   \n",
              "31   39532  Bernie Sanders Sells Out, Endorses Hillary Cli...   \n",
              "32  117693  Sanders Claims ‘Momentum’ Despite Stagnating P...   \n",
              "33   68874  Hillary Clinton and Bernie Sanders have report...   \n",
              "34  199737  Bernie Sanders’s fans show Hillary Clinton wha...   \n",
              "35   67766  Democrats are bracing for a nasty debate betwe...   \n",
              "36   97167  Sanders Camp Defends ’Excuse Me, I’m Talking’ ...   \n",
              "37   55909  Bernie Sanders poised to endorse Hillary Clint...   \n",
              "38   96452  Will Ferrell Campaigns For Clinton After Being...   \n",
              "39   49182     Spike Lee Endorses Bernie Sanders in Radio Ad    \n",
              "40   28111  Since Trump, ICE Arrests of Non-Felon Illegal ...   \n",
              "41  214420  Donald Trump’s plan to bar Muslim immigrants f...   \n",
              "42   80967  The Problem With Only Letting In the ’Good’ Im...   \n",
              "43   45658  Marco Rubio: I’m The Best When It Comes To Fix...   \n",
              "44   46778  Border Surge: Apprehensions Decline with 23,76...   \n",
              "45  120670              Fixing Immigration, Trump or No Trump   \n",
              "46  163918  Once Routine, ICE Check-Ins Now Fill Immigrant...   \n",
              "47  205111  Federal agents conduct immigration enforcement...   \n",
              "48  163453  Spotlight On Migrant Crimes Drums Up Support F...   \n",
              "49   34717  Rubio: We’re Not Going to ‘Round Up and Deport...   \n",
              "\n",
              "            publication                     author        date    year  month  \\\n",
              "0             Breitbart            Adelle Nazarian  2016-12-29  2016.0   12.0   \n",
              "1      Business Insider                        NaN  2016-10-31  2016.0   10.0   \n",
              "2               Reuters               John Walcott  2016-12-10  2016.0   12.0   \n",
              "3                   CNN           Shimon Prokupecz  2016-12-16  2016.0   12.0   \n",
              "4   Talking Points Memo                        NaN         NaN     NaN    NaN   \n",
              "5       Washington Post             David Ignatius  2017-02-23  2017.0    2.0   \n",
              "6      Business Insider           Natasha Bertrand  2017-06-06  2017.0    6.0   \n",
              "7      Business Insider               Pamela Engel  2016-12-13  2016.0   12.0   \n",
              "8      Business Insider                 Mark Abadi  2016-11-04  2016.0   11.0   \n",
              "9             Breitbart                  Adam Shaw  2017-05-16  2017.0    5.0   \n",
              "10     Business Insider                Allan Smith  2016-07-05  2016.0    7.0   \n",
              "11            Breitbart                Trent Baker  2016-08-12  2016.0    8.0   \n",
              "12                  CNN               Eugene Scott  2016-07-30  2016.0    7.0   \n",
              "13             Fox News                        NaN  2016-08-26  2016.0    8.0   \n",
              "14  Talking Points Memo                        NaN         NaN     NaN    NaN   \n",
              "15     Business Insider               Maxwell Tani  2016-03-08  2016.0    3.0   \n",
              "16            Breitbart                Alex Swoyer  2016-10-31  2016.0   10.0   \n",
              "17            Breitbart               Charlie Nash  2016-10-20  2016.0   10.0   \n",
              "18      Washington Post            Eugene Robinson  2016-07-04  2016.0    7.0   \n",
              "19             Fox News                        NaN  2016-11-06  2016.0   11.0   \n",
              "20            Breitbart                    Pam Key  2017-02-10  2017.0    2.0   \n",
              "21        Buzzfeed News             Keely Flaherty  2017-01-22  2017.0    1.0   \n",
              "22            Breitbart              Jerome Hudson  2016-12-27  2016.0   12.0   \n",
              "23             Atlantic              Kaveh Waddell  2017-01-23  2017.0    1.0   \n",
              "24             Atlantic                Bourree Lam  2017-03-08  2017.0    3.0   \n",
              "25                  CNN                        NaN  2014-07-25  2014.0    7.0   \n",
              "26            Breitbart              Jerome Hudson  2016-07-26  2016.0    7.0   \n",
              "27        New York Post       Post Editorial Board  2017-01-05  2017.0    1.0   \n",
              "28             Guardian             Joanna Walters  2017-01-20  2017.0    1.0   \n",
              "29                  NPR                Colin Dwyer  2017-01-27  2017.0    1.0   \n",
              "30  Talking Points Memo                        NaN  2016-02-21  2016.0    2.0   \n",
              "31            Breitbart            Dustin Stockton  2016-07-12  2016.0    7.0   \n",
              "32      National Review           Brendan Bordelon  2016-01-30  2016.0    1.0   \n",
              "33     Business Insider                        NaN  2016-03-29  2016.0    3.0   \n",
              "34                  Vox               Tara Golshan   2016/3/30  2016.0    3.0   \n",
              "35     Business Insider                        NaN  2016-01-18  2016.0    1.0   \n",
              "36  Talking Points Memo                        NaN  2016-03-07  2016.0    3.0   \n",
              "37                  CNN               Sophie Tatum  2016-07-10  2016.0    7.0   \n",
              "38  Talking Points Memo                        NaN  2016-02-20  2016.0    2.0   \n",
              "39            Breitbart              Jerome Hudson  2016-02-23  2016.0    2.0   \n",
              "40            Breitbart   Assemblyman Tim Donnelly  2017-04-18  2017.0    4.0   \n",
              "41      Washington Post                Philip Bump  2016-08-15  2016.0    8.0   \n",
              "42             Atlantic  Alexia Fernández Campbell  2016-10-11  2016.0   10.0   \n",
              "43            Breitbart           Charlie Spiering  2016-01-04  2016.0    1.0   \n",
              "44            Breitbart               Caroline May  2016-02-03  2016.0    2.0   \n",
              "45      National Review        Kevin D. Williamson  2016-09-04  2016.0    9.0   \n",
              "46                  NPR                  Joel Rose  2017-04-18  2017.0    4.0   \n",
              "47      Washington Post         Abigail Hauslohner  2017-02-10  2017.0    2.0   \n",
              "48                  NPR               John Burnett  2017-04-03  2017.0    4.0   \n",
              "49            Breitbart                    Pam Key  2016-01-17  2016.0    1.0   \n",
              "\n",
              "                                                  url  \\\n",
              "0                                                 NaN   \n",
              "1                                                 NaN   \n",
              "2   http://www.reuters.com/article/us-usa-election...   \n",
              "3                                                 NaN   \n",
              "4   https://web.archive.org/web/20170518003300/htt...   \n",
              "5   https://web.archive.org/web/20170224004841/htt...   \n",
              "6                                                 NaN   \n",
              "7                                                 NaN   \n",
              "8                                                 NaN   \n",
              "9                                                 NaN   \n",
              "10                                                NaN   \n",
              "11                                                NaN   \n",
              "12                                                NaN   \n",
              "13  https://web.archive.org/web/20160827002737/htt...   \n",
              "14  https://web.archive.org/web/20170504003151/htt...   \n",
              "15                                                NaN   \n",
              "16                                                NaN   \n",
              "17                                                NaN   \n",
              "18  https://web.archive.org/web/20160705001849/htt...   \n",
              "19  https://web.archive.org/web/20161107000356/htt...   \n",
              "20                                                NaN   \n",
              "21  https://web.archive.org/web/20170122001437/htt...   \n",
              "22                                                NaN   \n",
              "23                                                NaN   \n",
              "24                                                NaN   \n",
              "25                                                NaN   \n",
              "26                                                NaN   \n",
              "27  https://web.archive.org/web/20170107004213/htt...   \n",
              "28  https://www.theguardian.com/world/2017/jan/20/...   \n",
              "29  http://www.npr.org/sections/thetwo-way/2017/01...   \n",
              "30  https://web.archive.org/web/20160221014431/htt...   \n",
              "31                                                NaN   \n",
              "32  http://www.nationalreview.com/article/430544/i...   \n",
              "33                                                NaN   \n",
              "34  http://www.vox.com/2016/3/30/11332820/tonedown...   \n",
              "35                                                NaN   \n",
              "36  https://web.archive.org/web/20160308070023/htt...   \n",
              "37                                                NaN   \n",
              "38  https://web.archive.org/web/20160221014431/htt...   \n",
              "39                                                NaN   \n",
              "40                                                NaN   \n",
              "41  https://web.archive.org/web/20160816000419/htt...   \n",
              "42                                                NaN   \n",
              "43                                                NaN   \n",
              "44                                                NaN   \n",
              "45  http://www.nationalreview.com/article/439668/i...   \n",
              "46  http://www.npr.org/2017/04/18/524365639/once-r...   \n",
              "47  https://web.archive.org/web/20170211005455/htt...   \n",
              "48  http://www.npr.org/2017/04/03/522424593/immigr...   \n",
              "49                                                NaN   \n",
              "\n",
              "                                              content  \\\n",
              "0   House Speaker Paul Ryan issued a statement on ...   \n",
              "1   ’  ’ ’   Back in March, when the U. S. electio...   \n",
              "2    U. S. intelligence analysts have concluded th...   \n",
              "3    (CNN) Russian cyberhacking activity has conti...   \n",
              "4   President Donald Trump responded Wednesday to ...   \n",
              "5    One of the most startling allegations in a Ja...   \n",
              "6   ’  ’ ’   Hackers associated with Russia’’s mil...   \n",
              "7   ’  ’ ’   A top adviser to Hillary Clinton said...   \n",
              "8   ’  ’ ”   The US government is launching a mass...   \n",
              "9   Former Clinton aide Jennifer Palmieri has blas...   \n",
              "10  ’  ’ ’   Donald Trump said in a Tuesday statem...   \n",
              "11  During Thursday’s “O’Reilly Factor,” Sen. Rand...   \n",
              "12   (CNN) WikiLeaks founder Julian Assange is boa...   \n",
              "13  “They didn’t just push the delete button. They...   \n",
              "14  President Donald Trump on Tuesday night bashed...   \n",
              "15  ’’ ’Fox News host Bret Baier grilled Hillary C...   \n",
              "16  Donald Trump thanked Hillary Clinton’s top aid...   \n",
              "17  A man who has described himself as “Julian Ass...   \n",
              "18   The Republican yearning to pin a scandal on H...   \n",
              "19  The exchange between Podesta and Center for Am...   \n",
              "20  Friday on ABC’s “The View,” actress Lena Dunha...   \n",
              "21  ’ Earlier this morning, protesters marched dow...   \n",
              "22  Pop superstar Beyoncé Knowles has been named 2...   \n",
              "23  But over the weekend, as President Donald Trum...   \n",
              "24  According to a study by the Center of American...   \n",
              "25                                  Badass women of     \n",
              "26  Actor Tony Goldwyn  —   best known for his rol...   \n",
              "27  Is the Women’s March on Washington cursed? The...   \n",
              "28  At about 10am on Saturday, as a quarter of a m...   \n",
              "29  Once more, the National Mall has swelled with ...   \n",
              "30  Sen. Bernie Sanders ( ) conceded the Democrati...   \n",
              "31  Senator Bernie Sanders endorsed former Secreta...   \n",
              "32  Cedar Rapids, Iowa  —   Senator Bernie Sanders...   \n",
              "33  ’’ ’Democratic presidential candidates Sen. Be...   \n",
              "34   Hillary Clinton’s campaign says Bernie Sander...   \n",
              "35  ’’ ’For months, when Sen. Bernie Sanders ( ) h...   \n",
              "36  Following the Democratic presidential debate i...   \n",
              "37  Washington (CNN) Bernie Sanders is positioned ...   \n",
              "38  Hillary Clinton’s presidential campaign on Sat...   \n",
              "39  Filmmaker and New York native Spike Lee made h...   \n",
              "40  Immigration and Customs Enforcement (ICE) is n...   \n",
              "41            On Monday, Donald Trump gave a speec...   \n",
              "42          For us to continue writing great stori...   \n",
              "43  Republican presidential candidate Senator Marc...   \n",
              "44  While the level of border apprehensions of una...   \n",
              "45  U. S. immigration law is a mess, and U. S.   e...   \n",
              "46  Florinda Lorenzo has been in the U. S. illegal...   \n",
              "47   U. S. immigration authorities made a series o...   \n",
              "48  As Donald Trump regularly spotlights violent c...   \n",
              "49  Sunday on NBC’s “Meet the Press,” Republican p...   \n",
              "\n",
              "                                                 text  cluster_labels  \n",
              "0   Paul Ryan Backs President Obama’s Sanctions Ov...               1  \n",
              "1   Putin’s chaos strategy is coming back to bite ...               1  \n",
              "2   Russia intervened to help Trump win election: ...               1  \n",
              "3   Russian hacking activity continues unabated  (...               1  \n",
              "4   Trump: Special Counsel Will Prove My Team Didn...               1  \n",
              "5   Russia’s assault on America’s elections is jus...               1  \n",
              "6   Top-secret NSA report: Russian hackers tried t...               1  \n",
              "7   Clinton campaign backs effort to brief Elector...               1  \n",
              "8   The US government is launching a massive effor...               1  \n",
              "9   Clinton Aide Jennifer Palmieri Blasts Trump fo...               1  \n",
              "10  TRUMP: Adversaries of US ’almost certainly hav...               2  \n",
              "11  Rand Paul: Hillary Could Get Five Years in Pri...               2  \n",
              "12  Assange: ’We have more material related to the...               2  \n",
              "13  Clinton team used special program to scrub ser...               2  \n",
              "14  Trump Goes After Clinton, Comey In Late-Night ...               2  \n",
              "15  Fox News anchor grills Hillary Clinton on her ...               2  \n",
              "16  Donald Trump: ’Good Job, Huma. Thank you, Anth...               2  \n",
              "17  Comedian Shouts News Headlines to WikiLeaks’ J...               2  \n",
              "18  The GOP stoops for scandal  The Republican yea...               2  \n",
              "19  ’Didn’t want her to run’: Podesta says top Cli...               2  \n",
              "20  Lena Dunham: Feminists Must Enlighten White Wo...               3  \n",
              "21   Women Share Why They Hit The Streets At The S...               3  \n",
              "22  Beyoncé Named Most Charitable Celeb for Black ...               3  \n",
              "23  The Exhausting Work of Tallying America’s Larg...               3  \n",
              "24  Imagining an Economy Without Women According t...               3  \n",
              "25           Badass women of sci-fi Badass women of                 3  \n",
              "26  Actor Tony Goldwyn at DNC: Hillary Will Change...               3  \n",
              "27  The Women’s March on Washington is becoming a ...               3  \n",
              "28  Women’s March organizers prepare for hundreds ...               3  \n",
              "29  At Anti-Abortion Rally, Pence Tells Protesters...               3  \n",
              "30  Sanders’ Nevada Concession Speech: ’We Have Ma...               4  \n",
              "31  Bernie Sanders Sells Out, Endorses Hillary Cli...               4  \n",
              "32  Sanders Claims ‘Momentum’ Despite Stagnating P...               4  \n",
              "33  Hillary Clinton and Bernie Sanders have report...               4  \n",
              "34  Bernie Sanders’s fans show Hillary Clinton wha...               4  \n",
              "35  Democrats are bracing for a nasty debate betwe...               4  \n",
              "36  Sanders Camp Defends ’Excuse Me, I’m Talking’ ...               4  \n",
              "37  Bernie Sanders poised to endorse Hillary Clint...               4  \n",
              "38  Will Ferrell Campaigns For Clinton After Being...               4  \n",
              "39  Spike Lee Endorses Bernie Sanders in Radio Ad ...               4  \n",
              "40  Since Trump, ICE Arrests of Non-Felon Illegal ...               5  \n",
              "41  Donald Trump’s plan to bar Muslim immigrants f...               5  \n",
              "42  The Problem With Only Letting In the ’Good’ Im...               5  \n",
              "43  Marco Rubio: I’m The Best When It Comes To Fix...               5  \n",
              "44  Border Surge: Apprehensions Decline with 23,76...               5  \n",
              "45  Fixing Immigration, Trump or No Trump U. S. im...               5  \n",
              "46  Once Routine, ICE Check-Ins Now Fill Immigrant...               5  \n",
              "47  Federal agents conduct immigration enforcement...               5  \n",
              "48  Spotlight On Migrant Crimes Drums Up Support F...               5  \n",
              "49  Rubio: We’re Not Going to ‘Round Up and Deport...               5  "
            ],
            "text/html": [
              "<div>\n",
              "<style scoped>\n",
              "    .dataframe tbody tr th:only-of-type {\n",
              "        vertical-align: middle;\n",
              "    }\n",
              "\n",
              "    .dataframe tbody tr th {\n",
              "        vertical-align: top;\n",
              "    }\n",
              "\n",
              "    .dataframe thead th {\n",
              "        text-align: right;\n",
              "    }\n",
              "</style>\n",
              "<table border=\"1\" class=\"dataframe\">\n",
              "  <thead>\n",
              "    <tr style=\"text-align: right;\">\n",
              "      <th></th>\n",
              "      <th>id</th>\n",
              "      <th>title</th>\n",
              "      <th>publication</th>\n",
              "      <th>author</th>\n",
              "      <th>date</th>\n",
              "      <th>year</th>\n",
              "      <th>month</th>\n",
              "      <th>url</th>\n",
              "      <th>content</th>\n",
              "      <th>text</th>\n",
              "      <th>cluster_labels</th>\n",
              "    </tr>\n",
              "  </thead>\n",
              "  <tbody>\n",
              "    <tr>\n",
              "      <th>0</th>\n",
              "      <td>45558</td>\n",
              "      <td>Paul Ryan Backs President Obama’s Sanctions Ov...</td>\n",
              "      <td>Breitbart</td>\n",
              "      <td>Adelle Nazarian</td>\n",
              "      <td>2016-12-29</td>\n",
              "      <td>2016.0</td>\n",
              "      <td>12.0</td>\n",
              "      <td>NaN</td>\n",
              "      <td>House Speaker Paul Ryan issued a statement on ...</td>\n",
              "      <td>Paul Ryan Backs President Obama’s Sanctions Ov...</td>\n",
              "      <td>1</td>\n",
              "    </tr>\n",
              "    <tr>\n",
              "      <th>1</th>\n",
              "      <td>72300</td>\n",
              "      <td>Putin’s chaos strategy is coming back to bite him</td>\n",
              "      <td>Business Insider</td>\n",
              "      <td>NaN</td>\n",
              "      <td>2016-10-31</td>\n",
              "      <td>2016.0</td>\n",
              "      <td>10.0</td>\n",
              "      <td>NaN</td>\n",
              "      <td>’  ’ ’   Back in March, when the U. S. electio...</td>\n",
              "      <td>Putin’s chaos strategy is coming back to bite ...</td>\n",
              "      <td>1</td>\n",
              "    </tr>\n",
              "    <tr>\n",
              "      <th>2</th>\n",
              "      <td>194362</td>\n",
              "      <td>Russia intervened to help Trump win election: ...</td>\n",
              "      <td>Reuters</td>\n",
              "      <td>John Walcott</td>\n",
              "      <td>2016-12-10</td>\n",
              "      <td>2016.0</td>\n",
              "      <td>12.0</td>\n",
              "      <td>http://www.reuters.com/article/us-usa-election...</td>\n",
              "      <td>U. S. intelligence analysts have concluded th...</td>\n",
              "      <td>Russia intervened to help Trump win election: ...</td>\n",
              "      <td>1</td>\n",
              "    </tr>\n",
              "    <tr>\n",
              "      <th>3</th>\n",
              "      <td>59828</td>\n",
              "      <td>Russian hacking activity continues unabated</td>\n",
              "      <td>CNN</td>\n",
              "      <td>Shimon Prokupecz</td>\n",
              "      <td>2016-12-16</td>\n",
              "      <td>2016.0</td>\n",
              "      <td>12.0</td>\n",
              "      <td>NaN</td>\n",
              "      <td>(CNN) Russian cyberhacking activity has conti...</td>\n",
              "      <td>Russian hacking activity continues unabated  (...</td>\n",
              "      <td>1</td>\n",
              "    </tr>\n",
              "    <tr>\n",
              "      <th>4</th>\n",
              "      <td>92926</td>\n",
              "      <td>Trump: Special Counsel Will Prove My Team Didn...</td>\n",
              "      <td>Talking Points Memo</td>\n",
              "      <td>NaN</td>\n",
              "      <td>NaN</td>\n",
              "      <td>NaN</td>\n",
              "      <td>NaN</td>\n",
              "      <td>https://web.archive.org/web/20170518003300/htt...</td>\n",
              "      <td>President Donald Trump responded Wednesday to ...</td>\n",
              "      <td>Trump: Special Counsel Will Prove My Team Didn...</td>\n",
              "      <td>1</td>\n",
              "    </tr>\n",
              "    <tr>\n",
              "      <th>5</th>\n",
              "      <td>205453</td>\n",
              "      <td>Russia’s assault on America’s elections is jus...</td>\n",
              "      <td>Washington Post</td>\n",
              "      <td>David Ignatius</td>\n",
              "      <td>2017-02-23</td>\n",
              "      <td>2017.0</td>\n",
              "      <td>2.0</td>\n",
              "      <td>https://web.archive.org/web/20170224004841/htt...</td>\n",
              "      <td>One of the most startling allegations in a Ja...</td>\n",
              "      <td>Russia’s assault on America’s elections is jus...</td>\n",
              "      <td>1</td>\n",
              "    </tr>\n",
              "    <tr>\n",
              "      <th>6</th>\n",
              "      <td>67261</td>\n",
              "      <td>Top-secret NSA report: Russian hackers tried t...</td>\n",
              "      <td>Business Insider</td>\n",
              "      <td>Natasha Bertrand</td>\n",
              "      <td>2017-06-06</td>\n",
              "      <td>2017.0</td>\n",
              "      <td>6.0</td>\n",
              "      <td>NaN</td>\n",
              "      <td>’  ’ ’   Hackers associated with Russia’’s mil...</td>\n",
              "      <td>Top-secret NSA report: Russian hackers tried t...</td>\n",
              "      <td>1</td>\n",
              "    </tr>\n",
              "    <tr>\n",
              "      <th>7</th>\n",
              "      <td>72962</td>\n",
              "      <td>Clinton campaign backs effort to brief Elector...</td>\n",
              "      <td>Business Insider</td>\n",
              "      <td>Pamela Engel</td>\n",
              "      <td>2016-12-13</td>\n",
              "      <td>2016.0</td>\n",
              "      <td>12.0</td>\n",
              "      <td>NaN</td>\n",
              "      <td>’  ’ ’   A top adviser to Hillary Clinton said...</td>\n",
              "      <td>Clinton campaign backs effort to brief Elector...</td>\n",
              "      <td>1</td>\n",
              "    </tr>\n",
              "    <tr>\n",
              "      <th>8</th>\n",
              "      <td>72358</td>\n",
              "      <td>The US government is launching a massive effor...</td>\n",
              "      <td>Business Insider</td>\n",
              "      <td>Mark Abadi</td>\n",
              "      <td>2016-11-04</td>\n",
              "      <td>2016.0</td>\n",
              "      <td>11.0</td>\n",
              "      <td>NaN</td>\n",
              "      <td>’  ’ ”   The US government is launching a mass...</td>\n",
              "      <td>The US government is launching a massive effor...</td>\n",
              "      <td>1</td>\n",
              "    </tr>\n",
              "    <tr>\n",
              "      <th>9</th>\n",
              "      <td>31540</td>\n",
              "      <td>Clinton Aide Jennifer Palmieri Blasts Trump fo...</td>\n",
              "      <td>Breitbart</td>\n",
              "      <td>Adam Shaw</td>\n",
              "      <td>2017-05-16</td>\n",
              "      <td>2017.0</td>\n",
              "      <td>5.0</td>\n",
              "      <td>NaN</td>\n",
              "      <td>Former Clinton aide Jennifer Palmieri has blas...</td>\n",
              "      <td>Clinton Aide Jennifer Palmieri Blasts Trump fo...</td>\n",
              "      <td>1</td>\n",
              "    </tr>\n",
              "    <tr>\n",
              "      <th>10</th>\n",
              "      <td>70464</td>\n",
              "      <td>TRUMP: Adversaries of US ’almost certainly hav...</td>\n",
              "      <td>Business Insider</td>\n",
              "      <td>Allan Smith</td>\n",
              "      <td>2016-07-05</td>\n",
              "      <td>2016.0</td>\n",
              "      <td>7.0</td>\n",
              "      <td>NaN</td>\n",
              "      <td>’  ’ ’   Donald Trump said in a Tuesday statem...</td>\n",
              "      <td>TRUMP: Adversaries of US ’almost certainly hav...</td>\n",
              "      <td>2</td>\n",
              "    </tr>\n",
              "    <tr>\n",
              "      <th>11</th>\n",
              "      <td>49591</td>\n",
              "      <td>Rand Paul: Hillary Could Get Five Years in Pri...</td>\n",
              "      <td>Breitbart</td>\n",
              "      <td>Trent Baker</td>\n",
              "      <td>2016-08-12</td>\n",
              "      <td>2016.0</td>\n",
              "      <td>8.0</td>\n",
              "      <td>NaN</td>\n",
              "      <td>During Thursday’s “O’Reilly Factor,” Sen. Rand...</td>\n",
              "      <td>Rand Paul: Hillary Could Get Five Years in Pri...</td>\n",
              "      <td>2</td>\n",
              "    </tr>\n",
              "    <tr>\n",
              "      <th>12</th>\n",
              "      <td>56439</td>\n",
              "      <td>Assange: ’We have more material related to the...</td>\n",
              "      <td>CNN</td>\n",
              "      <td>Eugene Scott</td>\n",
              "      <td>2016-07-30</td>\n",
              "      <td>2016.0</td>\n",
              "      <td>7.0</td>\n",
              "      <td>NaN</td>\n",
              "      <td>(CNN) WikiLeaks founder Julian Assange is boa...</td>\n",
              "      <td>Assange: ’We have more material related to the...</td>\n",
              "      <td>2</td>\n",
              "    </tr>\n",
              "    <tr>\n",
              "      <th>13</th>\n",
              "      <td>85727</td>\n",
              "      <td>Clinton team used special program to scrub ser...</td>\n",
              "      <td>Fox News</td>\n",
              "      <td>NaN</td>\n",
              "      <td>2016-08-26</td>\n",
              "      <td>2016.0</td>\n",
              "      <td>8.0</td>\n",
              "      <td>https://web.archive.org/web/20160827002737/htt...</td>\n",
              "      <td>“They didn’t just push the delete button. They...</td>\n",
              "      <td>Clinton team used special program to scrub ser...</td>\n",
              "      <td>2</td>\n",
              "    </tr>\n",
              "    <tr>\n",
              "      <th>14</th>\n",
              "      <td>92404</td>\n",
              "      <td>Trump Goes After Clinton, Comey In Late-Night ...</td>\n",
              "      <td>Talking Points Memo</td>\n",
              "      <td>NaN</td>\n",
              "      <td>NaN</td>\n",
              "      <td>NaN</td>\n",
              "      <td>NaN</td>\n",
              "      <td>https://web.archive.org/web/20170504003151/htt...</td>\n",
              "      <td>President Donald Trump on Tuesday night bashed...</td>\n",
              "      <td>Trump Goes After Clinton, Comey In Late-Night ...</td>\n",
              "      <td>2</td>\n",
              "    </tr>\n",
              "    <tr>\n",
              "      <th>15</th>\n",
              "      <td>68550</td>\n",
              "      <td>Fox News anchor grills Hillary Clinton on her ...</td>\n",
              "      <td>Business Insider</td>\n",
              "      <td>Maxwell Tani</td>\n",
              "      <td>2016-03-08</td>\n",
              "      <td>2016.0</td>\n",
              "      <td>3.0</td>\n",
              "      <td>NaN</td>\n",
              "      <td>’’ ’Fox News host Bret Baier grilled Hillary C...</td>\n",
              "      <td>Fox News anchor grills Hillary Clinton on her ...</td>\n",
              "      <td>2</td>\n",
              "    </tr>\n",
              "    <tr>\n",
              "      <th>16</th>\n",
              "      <td>40299</td>\n",
              "      <td>Donald Trump: ’Good Job, Huma. Thank you, Anth...</td>\n",
              "      <td>Breitbart</td>\n",
              "      <td>Alex Swoyer</td>\n",
              "      <td>2016-10-31</td>\n",
              "      <td>2016.0</td>\n",
              "      <td>10.0</td>\n",
              "      <td>NaN</td>\n",
              "      <td>Donald Trump thanked Hillary Clinton’s top aid...</td>\n",
              "      <td>Donald Trump: ’Good Job, Huma. Thank you, Anth...</td>\n",
              "      <td>2</td>\n",
              "    </tr>\n",
              "    <tr>\n",
              "      <th>17</th>\n",
              "      <td>39429</td>\n",
              "      <td>Comedian Shouts News Headlines to WikiLeaks’ J...</td>\n",
              "      <td>Breitbart</td>\n",
              "      <td>Charlie Nash</td>\n",
              "      <td>2016-10-20</td>\n",
              "      <td>2016.0</td>\n",
              "      <td>10.0</td>\n",
              "      <td>NaN</td>\n",
              "      <td>A man who has described himself as “Julian Ass...</td>\n",
              "      <td>Comedian Shouts News Headlines to WikiLeaks’ J...</td>\n",
              "      <td>2</td>\n",
              "    </tr>\n",
              "    <tr>\n",
              "      <th>18</th>\n",
              "      <td>213302</td>\n",
              "      <td>The GOP stoops for scandal</td>\n",
              "      <td>Washington Post</td>\n",
              "      <td>Eugene Robinson</td>\n",
              "      <td>2016-07-04</td>\n",
              "      <td>2016.0</td>\n",
              "      <td>7.0</td>\n",
              "      <td>https://web.archive.org/web/20160705001849/htt...</td>\n",
              "      <td>The Republican yearning to pin a scandal on H...</td>\n",
              "      <td>The GOP stoops for scandal  The Republican yea...</td>\n",
              "      <td>2</td>\n",
              "    </tr>\n",
              "    <tr>\n",
              "      <th>19</th>\n",
              "      <td>86771</td>\n",
              "      <td>’Didn’t want her to run’: Podesta says top Cli...</td>\n",
              "      <td>Fox News</td>\n",
              "      <td>NaN</td>\n",
              "      <td>2016-11-06</td>\n",
              "      <td>2016.0</td>\n",
              "      <td>11.0</td>\n",
              "      <td>https://web.archive.org/web/20161107000356/htt...</td>\n",
              "      <td>The exchange between Podesta and Center for Am...</td>\n",
              "      <td>’Didn’t want her to run’: Podesta says top Cli...</td>\n",
              "      <td>2</td>\n",
              "    </tr>\n",
              "    <tr>\n",
              "      <th>20</th>\n",
              "      <td>34095</td>\n",
              "      <td>Lena Dunham: Feminists Must Enlighten White Wo...</td>\n",
              "      <td>Breitbart</td>\n",
              "      <td>Pam Key</td>\n",
              "      <td>2017-02-10</td>\n",
              "      <td>2017.0</td>\n",
              "      <td>2.0</td>\n",
              "      <td>NaN</td>\n",
              "      <td>Friday on ABC’s “The View,” actress Lena Dunha...</td>\n",
              "      <td>Lena Dunham: Feminists Must Enlighten White Wo...</td>\n",
              "      <td>3</td>\n",
              "    </tr>\n",
              "    <tr>\n",
              "      <th>21</th>\n",
              "      <td>103164</td>\n",
              "      <td>Women Share Why They Hit The Streets At The S...</td>\n",
              "      <td>Buzzfeed News</td>\n",
              "      <td>Keely Flaherty</td>\n",
              "      <td>2017-01-22</td>\n",
              "      <td>2017.0</td>\n",
              "      <td>1.0</td>\n",
              "      <td>https://web.archive.org/web/20170122001437/htt...</td>\n",
              "      <td>’ Earlier this morning, protesters marched dow...</td>\n",
              "      <td>Women Share Why They Hit The Streets At The S...</td>\n",
              "      <td>3</td>\n",
              "    </tr>\n",
              "    <tr>\n",
              "      <th>22</th>\n",
              "      <td>48701</td>\n",
              "      <td>Beyoncé Named Most Charitable Celeb for Black ...</td>\n",
              "      <td>Breitbart</td>\n",
              "      <td>Jerome Hudson</td>\n",
              "      <td>2016-12-27</td>\n",
              "      <td>2016.0</td>\n",
              "      <td>12.0</td>\n",
              "      <td>NaN</td>\n",
              "      <td>Pop superstar Beyoncé Knowles has been named 2...</td>\n",
              "      <td>Beyoncé Named Most Charitable Celeb for Black ...</td>\n",
              "      <td>3</td>\n",
              "    </tr>\n",
              "    <tr>\n",
              "      <th>23</th>\n",
              "      <td>73686</td>\n",
              "      <td>The Exhausting Work of Tallying America’s Larg...</td>\n",
              "      <td>Atlantic</td>\n",
              "      <td>Kaveh Waddell</td>\n",
              "      <td>2017-01-23</td>\n",
              "      <td>2017.0</td>\n",
              "      <td>1.0</td>\n",
              "      <td>NaN</td>\n",
              "      <td>But over the weekend, as President Donald Trum...</td>\n",
              "      <td>The Exhausting Work of Tallying America’s Larg...</td>\n",
              "      <td>3</td>\n",
              "    </tr>\n",
              "    <tr>\n",
              "      <th>24</th>\n",
              "      <td>74730</td>\n",
              "      <td>Imagining an Economy Without Women</td>\n",
              "      <td>Atlantic</td>\n",
              "      <td>Bourree Lam</td>\n",
              "      <td>2017-03-08</td>\n",
              "      <td>2017.0</td>\n",
              "      <td>3.0</td>\n",
              "      <td>NaN</td>\n",
              "      <td>According to a study by the Center of American...</td>\n",
              "      <td>Imagining an Economy Without Women According t...</td>\n",
              "      <td>3</td>\n",
              "    </tr>\n",
              "    <tr>\n",
              "      <th>25</th>\n",
              "      <td>60705</td>\n",
              "      <td>Badass women of sci-fi</td>\n",
              "      <td>CNN</td>\n",
              "      <td>NaN</td>\n",
              "      <td>2014-07-25</td>\n",
              "      <td>2014.0</td>\n",
              "      <td>7.0</td>\n",
              "      <td>NaN</td>\n",
              "      <td>Badass women of</td>\n",
              "      <td>Badass women of sci-fi Badass women of</td>\n",
              "      <td>3</td>\n",
              "    </tr>\n",
              "    <tr>\n",
              "      <th>26</th>\n",
              "      <td>38222</td>\n",
              "      <td>Actor Tony Goldwyn at DNC: Hillary Will Change...</td>\n",
              "      <td>Breitbart</td>\n",
              "      <td>Jerome Hudson</td>\n",
              "      <td>2016-07-26</td>\n",
              "      <td>2016.0</td>\n",
              "      <td>7.0</td>\n",
              "      <td>NaN</td>\n",
              "      <td>Actor Tony Goldwyn  —   best known for his rol...</td>\n",
              "      <td>Actor Tony Goldwyn at DNC: Hillary Will Change...</td>\n",
              "      <td>3</td>\n",
              "    </tr>\n",
              "    <tr>\n",
              "      <th>27</th>\n",
              "      <td>122748</td>\n",
              "      <td>The Women’s March on Washington is becoming a ...</td>\n",
              "      <td>New York Post</td>\n",
              "      <td>Post Editorial Board</td>\n",
              "      <td>2017-01-05</td>\n",
              "      <td>2017.0</td>\n",
              "      <td>1.0</td>\n",
              "      <td>https://web.archive.org/web/20170107004213/htt...</td>\n",
              "      <td>Is the Women’s March on Washington cursed? The...</td>\n",
              "      <td>The Women’s March on Washington is becoming a ...</td>\n",
              "      <td>3</td>\n",
              "    </tr>\n",
              "    <tr>\n",
              "      <th>28</th>\n",
              "      <td>147468</td>\n",
              "      <td>Women’s March organizers prepare for hundreds ...</td>\n",
              "      <td>Guardian</td>\n",
              "      <td>Joanna Walters</td>\n",
              "      <td>2017-01-20</td>\n",
              "      <td>2017.0</td>\n",
              "      <td>1.0</td>\n",
              "      <td>https://www.theguardian.com/world/2017/jan/20/...</td>\n",
              "      <td>At about 10am on Saturday, as a quarter of a m...</td>\n",
              "      <td>Women’s March organizers prepare for hundreds ...</td>\n",
              "      <td>3</td>\n",
              "    </tr>\n",
              "    <tr>\n",
              "      <th>29</th>\n",
              "      <td>161410</td>\n",
              "      <td>At Anti-Abortion Rally, Pence Tells Protesters...</td>\n",
              "      <td>NPR</td>\n",
              "      <td>Colin Dwyer</td>\n",
              "      <td>2017-01-27</td>\n",
              "      <td>2017.0</td>\n",
              "      <td>1.0</td>\n",
              "      <td>http://www.npr.org/sections/thetwo-way/2017/01...</td>\n",
              "      <td>Once more, the National Mall has swelled with ...</td>\n",
              "      <td>At Anti-Abortion Rally, Pence Tells Protesters...</td>\n",
              "      <td>3</td>\n",
              "    </tr>\n",
              "    <tr>\n",
              "      <th>30</th>\n",
              "      <td>96444</td>\n",
              "      <td>Sanders’ Nevada Concession Speech: ’We Have Ma...</td>\n",
              "      <td>Talking Points Memo</td>\n",
              "      <td>NaN</td>\n",
              "      <td>2016-02-21</td>\n",
              "      <td>2016.0</td>\n",
              "      <td>2.0</td>\n",
              "      <td>https://web.archive.org/web/20160221014431/htt...</td>\n",
              "      <td>Sen. Bernie Sanders ( ) conceded the Democrati...</td>\n",
              "      <td>Sanders’ Nevada Concession Speech: ’We Have Ma...</td>\n",
              "      <td>4</td>\n",
              "    </tr>\n",
              "    <tr>\n",
              "      <th>31</th>\n",
              "      <td>39532</td>\n",
              "      <td>Bernie Sanders Sells Out, Endorses Hillary Cli...</td>\n",
              "      <td>Breitbart</td>\n",
              "      <td>Dustin Stockton</td>\n",
              "      <td>2016-07-12</td>\n",
              "      <td>2016.0</td>\n",
              "      <td>7.0</td>\n",
              "      <td>NaN</td>\n",
              "      <td>Senator Bernie Sanders endorsed former Secreta...</td>\n",
              "      <td>Bernie Sanders Sells Out, Endorses Hillary Cli...</td>\n",
              "      <td>4</td>\n",
              "    </tr>\n",
              "    <tr>\n",
              "      <th>32</th>\n",
              "      <td>117693</td>\n",
              "      <td>Sanders Claims ‘Momentum’ Despite Stagnating P...</td>\n",
              "      <td>National Review</td>\n",
              "      <td>Brendan Bordelon</td>\n",
              "      <td>2016-01-30</td>\n",
              "      <td>2016.0</td>\n",
              "      <td>1.0</td>\n",
              "      <td>http://www.nationalreview.com/article/430544/i...</td>\n",
              "      <td>Cedar Rapids, Iowa  —   Senator Bernie Sanders...</td>\n",
              "      <td>Sanders Claims ‘Momentum’ Despite Stagnating P...</td>\n",
              "      <td>4</td>\n",
              "    </tr>\n",
              "    <tr>\n",
              "      <th>33</th>\n",
              "      <td>68874</td>\n",
              "      <td>Hillary Clinton and Bernie Sanders have report...</td>\n",
              "      <td>Business Insider</td>\n",
              "      <td>NaN</td>\n",
              "      <td>2016-03-29</td>\n",
              "      <td>2016.0</td>\n",
              "      <td>3.0</td>\n",
              "      <td>NaN</td>\n",
              "      <td>’’ ’Democratic presidential candidates Sen. Be...</td>\n",
              "      <td>Hillary Clinton and Bernie Sanders have report...</td>\n",
              "      <td>4</td>\n",
              "    </tr>\n",
              "    <tr>\n",
              "      <th>34</th>\n",
              "      <td>199737</td>\n",
              "      <td>Bernie Sanders’s fans show Hillary Clinton wha...</td>\n",
              "      <td>Vox</td>\n",
              "      <td>Tara Golshan</td>\n",
              "      <td>2016/3/30</td>\n",
              "      <td>2016.0</td>\n",
              "      <td>3.0</td>\n",
              "      <td>http://www.vox.com/2016/3/30/11332820/tonedown...</td>\n",
              "      <td>Hillary Clinton’s campaign says Bernie Sander...</td>\n",
              "      <td>Bernie Sanders’s fans show Hillary Clinton wha...</td>\n",
              "      <td>4</td>\n",
              "    </tr>\n",
              "    <tr>\n",
              "      <th>35</th>\n",
              "      <td>67766</td>\n",
              "      <td>Democrats are bracing for a nasty debate betwe...</td>\n",
              "      <td>Business Insider</td>\n",
              "      <td>NaN</td>\n",
              "      <td>2016-01-18</td>\n",
              "      <td>2016.0</td>\n",
              "      <td>1.0</td>\n",
              "      <td>NaN</td>\n",
              "      <td>’’ ’For months, when Sen. Bernie Sanders ( ) h...</td>\n",
              "      <td>Democrats are bracing for a nasty debate betwe...</td>\n",
              "      <td>4</td>\n",
              "    </tr>\n",
              "    <tr>\n",
              "      <th>36</th>\n",
              "      <td>97167</td>\n",
              "      <td>Sanders Camp Defends ’Excuse Me, I’m Talking’ ...</td>\n",
              "      <td>Talking Points Memo</td>\n",
              "      <td>NaN</td>\n",
              "      <td>2016-03-07</td>\n",
              "      <td>2016.0</td>\n",
              "      <td>3.0</td>\n",
              "      <td>https://web.archive.org/web/20160308070023/htt...</td>\n",
              "      <td>Following the Democratic presidential debate i...</td>\n",
              "      <td>Sanders Camp Defends ’Excuse Me, I’m Talking’ ...</td>\n",
              "      <td>4</td>\n",
              "    </tr>\n",
              "    <tr>\n",
              "      <th>37</th>\n",
              "      <td>55909</td>\n",
              "      <td>Bernie Sanders poised to endorse Hillary Clint...</td>\n",
              "      <td>CNN</td>\n",
              "      <td>Sophie Tatum</td>\n",
              "      <td>2016-07-10</td>\n",
              "      <td>2016.0</td>\n",
              "      <td>7.0</td>\n",
              "      <td>NaN</td>\n",
              "      <td>Washington (CNN) Bernie Sanders is positioned ...</td>\n",
              "      <td>Bernie Sanders poised to endorse Hillary Clint...</td>\n",
              "      <td>4</td>\n",
              "    </tr>\n",
              "    <tr>\n",
              "      <th>38</th>\n",
              "      <td>96452</td>\n",
              "      <td>Will Ferrell Campaigns For Clinton After Being...</td>\n",
              "      <td>Talking Points Memo</td>\n",
              "      <td>NaN</td>\n",
              "      <td>2016-02-20</td>\n",
              "      <td>2016.0</td>\n",
              "      <td>2.0</td>\n",
              "      <td>https://web.archive.org/web/20160221014431/htt...</td>\n",
              "      <td>Hillary Clinton’s presidential campaign on Sat...</td>\n",
              "      <td>Will Ferrell Campaigns For Clinton After Being...</td>\n",
              "      <td>4</td>\n",
              "    </tr>\n",
              "    <tr>\n",
              "      <th>39</th>\n",
              "      <td>49182</td>\n",
              "      <td>Spike Lee Endorses Bernie Sanders in Radio Ad</td>\n",
              "      <td>Breitbart</td>\n",
              "      <td>Jerome Hudson</td>\n",
              "      <td>2016-02-23</td>\n",
              "      <td>2016.0</td>\n",
              "      <td>2.0</td>\n",
              "      <td>NaN</td>\n",
              "      <td>Filmmaker and New York native Spike Lee made h...</td>\n",
              "      <td>Spike Lee Endorses Bernie Sanders in Radio Ad ...</td>\n",
              "      <td>4</td>\n",
              "    </tr>\n",
              "    <tr>\n",
              "      <th>40</th>\n",
              "      <td>28111</td>\n",
              "      <td>Since Trump, ICE Arrests of Non-Felon Illegal ...</td>\n",
              "      <td>Breitbart</td>\n",
              "      <td>Assemblyman Tim Donnelly</td>\n",
              "      <td>2017-04-18</td>\n",
              "      <td>2017.0</td>\n",
              "      <td>4.0</td>\n",
              "      <td>NaN</td>\n",
              "      <td>Immigration and Customs Enforcement (ICE) is n...</td>\n",
              "      <td>Since Trump, ICE Arrests of Non-Felon Illegal ...</td>\n",
              "      <td>5</td>\n",
              "    </tr>\n",
              "    <tr>\n",
              "      <th>41</th>\n",
              "      <td>214420</td>\n",
              "      <td>Donald Trump’s plan to bar Muslim immigrants f...</td>\n",
              "      <td>Washington Post</td>\n",
              "      <td>Philip Bump</td>\n",
              "      <td>2016-08-15</td>\n",
              "      <td>2016.0</td>\n",
              "      <td>8.0</td>\n",
              "      <td>https://web.archive.org/web/20160816000419/htt...</td>\n",
              "      <td>On Monday, Donald Trump gave a speec...</td>\n",
              "      <td>Donald Trump’s plan to bar Muslim immigrants f...</td>\n",
              "      <td>5</td>\n",
              "    </tr>\n",
              "    <tr>\n",
              "      <th>42</th>\n",
              "      <td>80967</td>\n",
              "      <td>The Problem With Only Letting In the ’Good’ Im...</td>\n",
              "      <td>Atlantic</td>\n",
              "      <td>Alexia Fernández Campbell</td>\n",
              "      <td>2016-10-11</td>\n",
              "      <td>2016.0</td>\n",
              "      <td>10.0</td>\n",
              "      <td>NaN</td>\n",
              "      <td>For us to continue writing great stori...</td>\n",
              "      <td>The Problem With Only Letting In the ’Good’ Im...</td>\n",
              "      <td>5</td>\n",
              "    </tr>\n",
              "    <tr>\n",
              "      <th>43</th>\n",
              "      <td>45658</td>\n",
              "      <td>Marco Rubio: I’m The Best When It Comes To Fix...</td>\n",
              "      <td>Breitbart</td>\n",
              "      <td>Charlie Spiering</td>\n",
              "      <td>2016-01-04</td>\n",
              "      <td>2016.0</td>\n",
              "      <td>1.0</td>\n",
              "      <td>NaN</td>\n",
              "      <td>Republican presidential candidate Senator Marc...</td>\n",
              "      <td>Marco Rubio: I’m The Best When It Comes To Fix...</td>\n",
              "      <td>5</td>\n",
              "    </tr>\n",
              "    <tr>\n",
              "      <th>44</th>\n",
              "      <td>46778</td>\n",
              "      <td>Border Surge: Apprehensions Decline with 23,76...</td>\n",
              "      <td>Breitbart</td>\n",
              "      <td>Caroline May</td>\n",
              "      <td>2016-02-03</td>\n",
              "      <td>2016.0</td>\n",
              "      <td>2.0</td>\n",
              "      <td>NaN</td>\n",
              "      <td>While the level of border apprehensions of una...</td>\n",
              "      <td>Border Surge: Apprehensions Decline with 23,76...</td>\n",
              "      <td>5</td>\n",
              "    </tr>\n",
              "    <tr>\n",
              "      <th>45</th>\n",
              "      <td>120670</td>\n",
              "      <td>Fixing Immigration, Trump or No Trump</td>\n",
              "      <td>National Review</td>\n",
              "      <td>Kevin D. Williamson</td>\n",
              "      <td>2016-09-04</td>\n",
              "      <td>2016.0</td>\n",
              "      <td>9.0</td>\n",
              "      <td>http://www.nationalreview.com/article/439668/i...</td>\n",
              "      <td>U. S. immigration law is a mess, and U. S.   e...</td>\n",
              "      <td>Fixing Immigration, Trump or No Trump U. S. im...</td>\n",
              "      <td>5</td>\n",
              "    </tr>\n",
              "    <tr>\n",
              "      <th>46</th>\n",
              "      <td>163918</td>\n",
              "      <td>Once Routine, ICE Check-Ins Now Fill Immigrant...</td>\n",
              "      <td>NPR</td>\n",
              "      <td>Joel Rose</td>\n",
              "      <td>2017-04-18</td>\n",
              "      <td>2017.0</td>\n",
              "      <td>4.0</td>\n",
              "      <td>http://www.npr.org/2017/04/18/524365639/once-r...</td>\n",
              "      <td>Florinda Lorenzo has been in the U. S. illegal...</td>\n",
              "      <td>Once Routine, ICE Check-Ins Now Fill Immigrant...</td>\n",
              "      <td>5</td>\n",
              "    </tr>\n",
              "    <tr>\n",
              "      <th>47</th>\n",
              "      <td>205111</td>\n",
              "      <td>Federal agents conduct immigration enforcement...</td>\n",
              "      <td>Washington Post</td>\n",
              "      <td>Abigail Hauslohner</td>\n",
              "      <td>2017-02-10</td>\n",
              "      <td>2017.0</td>\n",
              "      <td>2.0</td>\n",
              "      <td>https://web.archive.org/web/20170211005455/htt...</td>\n",
              "      <td>U. S. immigration authorities made a series o...</td>\n",
              "      <td>Federal agents conduct immigration enforcement...</td>\n",
              "      <td>5</td>\n",
              "    </tr>\n",
              "    <tr>\n",
              "      <th>48</th>\n",
              "      <td>163453</td>\n",
              "      <td>Spotlight On Migrant Crimes Drums Up Support F...</td>\n",
              "      <td>NPR</td>\n",
              "      <td>John Burnett</td>\n",
              "      <td>2017-04-03</td>\n",
              "      <td>2017.0</td>\n",
              "      <td>4.0</td>\n",
              "      <td>http://www.npr.org/2017/04/03/522424593/immigr...</td>\n",
              "      <td>As Donald Trump regularly spotlights violent c...</td>\n",
              "      <td>Spotlight On Migrant Crimes Drums Up Support F...</td>\n",
              "      <td>5</td>\n",
              "    </tr>\n",
              "    <tr>\n",
              "      <th>49</th>\n",
              "      <td>34717</td>\n",
              "      <td>Rubio: We’re Not Going to ‘Round Up and Deport...</td>\n",
              "      <td>Breitbart</td>\n",
              "      <td>Pam Key</td>\n",
              "      <td>2016-01-17</td>\n",
              "      <td>2016.0</td>\n",
              "      <td>1.0</td>\n",
              "      <td>NaN</td>\n",
              "      <td>Sunday on NBC’s “Meet the Press,” Republican p...</td>\n",
              "      <td>Rubio: We’re Not Going to ‘Round Up and Deport...</td>\n",
              "      <td>5</td>\n",
              "    </tr>\n",
              "  </tbody>\n",
              "</table>\n",
              "</div>"
            ]
          },
          "metadata": {
            "tags": []
          },
          "execution_count": 58
        }
      ]
    },
    {
      "cell_type": "markdown",
      "metadata": {
        "id": "E4hbYLAfvaNj",
        "colab_type": "text"
      },
      "source": [
        ""
      ]
    },
    {
      "cell_type": "code",
      "metadata": {
        "id": "tMFdlAEHQCNP",
        "colab_type": "code",
        "colab": {}
      },
      "source": [
        ""
      ],
      "execution_count": 0,
      "outputs": []
    },
    {
      "cell_type": "code",
      "metadata": {
        "id": "2PicqBOFvaWA",
        "colab_type": "code",
        "colab": {
          "base_uri": "https://localhost:8080/",
          "height": 52
        },
        "outputId": "560d6bb3-5797-40ed-e8cc-1b669cf43dac"
      },
      "source": [
        "# summarize every article in clusters\n",
        "cluster_summaries = []\n",
        "for i in range(1,6):\n",
        "  # argument below is the list of articles for each cluster\n",
        "  summaries = get_summaries(clusters[clusters.cluster_labels == i].reset_index().content)\n",
        "  cluster_summaries.append(summaries)"
      ],
      "execution_count": 59,
      "outputs": [
        {
          "output_type": "stream",
          "text": [
            "/home/silvsilva/anaconda3/lib/python3.7/site-packages/nltk/cluster/util.py:133: RuntimeWarning: invalid value encountered in true_divide\n",
            "  return 1 - (numpy.dot(u, v) / (sqrt(numpy.dot(u, u)) * sqrt(numpy.dot(v, v))))\n"
          ],
          "name": "stderr"
        }
      ]
    },
    {
      "cell_type": "code",
      "metadata": {
        "id": "d4plh5B7PBa_",
        "colab_type": "code",
        "colab": {
          "base_uri": "https://localhost:8080/",
          "height": 555
        },
        "outputId": "1e5c23af-4c6d-47ef-b1c3-c62ffd7fa97a"
      },
      "source": [
        "cluster_summaries"
      ],
      "execution_count": 60,
      "outputs": [
        {
          "output_type": "execute_result",
          "data": {
            "text/plain": [
              "[{3: ' The attempts appear to trace back to some of the same Russian hackers behind the breaches of Democratic Party organizations in the past year, one official said.  Russians ”continue to do all kinds of stuff” against American political organizations, think tanks and thought leaders another US official said.  (CNN) Russian cyberhacking activity has continued largely unabated since the November election, including against US political organizations, US officials briefed on the investigation told CNN on Thursday.  Among the attempted cyber breaches are phishing attempts targeting Democratic presidential nominee Hillary Clinton’s campaign, one official says.   ”It’s not like the one and done deal here',\n",
              "  6: '’ ’   The NSA document offers the  ’ ’  ’ ’  ’ ’   ’ ’’ ’  ’ ’  ’ ’  ’ ’   ’ ’  ’ ” Kremlin had ordered cyberattacks on the   Democratic National Committee and Hillary Clinton’s campaign   chairman, John Podesta, during the 2016 election. ’  ’ ’   Hackers associated with Russia’’s military intelligence agency   targeted a company with information on US voting software days   before the election and used the data to launch ”voter    ” cyberattacks on local government officials,   according to a    that was leaked to . ” ’   But he said last week that ”patriotically minded” Russians,   whom he compared to artists, might have taken it upon themselves   ”to fight against those who say bad things about Russia,”   according to The    which was present at his news conference with Russian and foreign   outlets in St. ’ ’  ’ ’  ’ ”Hackers associated with Russia’s military. ..” ’’ ’’ ’’',\n",
              "  7: '’ ’   Ten of the electors  Director of National Intelligence James   Clapper to brief the Electoral College before its December 19   vote. This should distress every   American.” ’ ’   The Washington Post and The New York Times reported on Friday   that  concluded that   Russia interfered in the election to help   Donald   Trump. ’  ’ ’   A top adviser to Hillary Clinton said on Monday that the campaign   wants Electoral College members to receive a briefing on Russian   interference in the US presidential election. ’ ’   ”Electors have a solemn responsibility under the Constitution,   and we support their efforts to have their questions addressed,”   John Podesta, who chaired the Clinton campaign, said in a   statement. ’ ’   Podesta added: ”Each day that month, our campaign decried the   interference of Russia in our campaign and its evident goal of   hurting our campaign to aid Donald Trump',\n",
              "  8: '’ ’   One ”  scenario” the officials envision is a     that shuts down part of the internet. ’ ’   Other   operations could include the release of fake   documents that could damage one of the candidates without giving   the media a chance to   them. ” ’   The White House and the Department of Homeland Security are   leading the effort against Russian   government   officials told NBC News. ’  ’ ”   The US government is launching a massive effort to stop Russian   hackers from interfering with the results of next week’s   presidential election, according to a major report . ’ ’’ ’   ”Given [the Russians’’] past behavior in other contexts, we   understand the way they like to go about potentially causing   confusion and so we want to make sure that we are mitigating that   potential,” a Department of Homeland Security official told NBC   News',\n",
              "  9: '“Has there been a president ever who’s been that obsessed about proving that he’s legitimate?” Yet Palmieri’s remarks, and the Times’ reporting, ignores the role Palmieri  —   as well as others on the Clinton campaign team  —   have played in trying to delegitimize Trump’s election.   —   Jennifer Palmieri (@jmpalmieri) May 12, 2017,  On Friday, the Washington Post published an   by Podesta, which called for the firing of Trump’s top aides who refuse to speak “truth to power,” and called for “a special counsel to investigate Russia’s interference in our election, possible collusion by the Trump campaign, and Trump’s ongoing attempts to interfere in the investigation. Palmieri retweeted the rambling   minute video complete with meandering spider diagrams: Watch this: https:  . ”  In March, Palmieri wrote a piece for the Washington Post, ominously titled “The Clinton campaign warned you about Russia. ” Later in the article, Palmieri expressed shock about Trump’s frequent references to his   win in November'},\n",
              " {0: '”Our adversaries almost certainly have a   blackmail file on Hillary Clinton, and this fact alone   disqualifies her from service.” ’ ’   Comey announced Tuesday that the FBI would  be filed against Clinton, despite   characterizing her conduct handling classified information as   ”extremely careless.” ’ ’   ”The final jury will be the American people, and they will issue   the verdict on her corruption, incompetence, and bad judgment on   November 8,” Trump said. ’ ’   The presumptive Republican nominee said Comey laid out a   ”detailed case” of how Clinton ”compromised the safety of the   American people by storing highly classified information on a   private email server with no security.” ’ ’   ”He confirmed that her email could easily have been hacked by   hostile actors, and confirmed that those she emailed with were   hacked,” he said. ’ ’   Trump alleged ”it was no accident” charges were not filed against   Clinton ”the exact same day as President Barack Obama campaigns   with her for the first time.” ’ ’   ”Folks  —   the system is rigged,” he said. Bill Clinton didn’’t accidentally run   into the attorney general on the airport tarmac last week in   Phoenix.” ’ ”   Attorney General Loretta Lynch maintained last week that she   chatted with the former president about grandchildren and golf,   not the FBI’s probe into his wife’s handling of classified   information. ”The normal punishment,   in this case, would include losing authority to handle classified   information, and that too disqualifies Hillary Clinton from being   president.” ’ ’   Trump added: ”But because of our rigged system that holds the   American people to one standard and people like Hillary Clinton   to another, it does not look like she will be facing the criminal   charges that she deserves',\n",
              "  1: 'Rand Paul ( ) said that if WikiLeaks has emails that prove Democratic presidential nominee Hillary Clinton and her State Department were aware weapons were going to Islamic terrorists, Clinton could get five years in prison for lying to Congress. You can get five years in prison. I do believe that the CIA annex in Benghazi was procuring weapons, some of them to get them away from the jihadists in Libya.  “It’s a felony to lie to Congress. He added, “I find it hard to believe that Hillary Clinton, who all the news report have said she was the biggest advocate for arming the Islamic rebels in Syria, many of them turned out to be not only enemies of ours, some of them also turned out to be enemies of Israel',\n",
              "  2: ' (CNN) WikiLeaks founder Julian Assange is boasting about how his group’s release of hacked Democratic National Committee emails is affecting the US presidential election    and says it has unreleased information about Hillary Clinton’s campaign. Assange said release of the information was timed to coincide with the start of the Democratic National Convention. ”It was the presenter that used that term.” Assange also said more material is forthcoming that is ”extremely interesting.” ”We have more material related to the Hillary Clinton campaign. It had to had to have been before (the convention).”  Cooper asked Assange if the hack was connected to his ”personal animus” toward Clinton.  ”That’s when we knew there would be maximum interest by readers, but also, we have a responsibility to,” Assange said',\n",
              "  3: '“She said she did it for convenience, but I didn’t see the   questions. 13 to show which emails are  .     . Aside from the   email review process, WikiLeaks founder Julian Assange told Fox News’ “The Kelly File” he has more documents and plans to release the emails before November. Trey Gowdy,  ',\n",
              "  5: '’’ ’Fox News host Bret Baier grilled Hillary Clinton over her use of a private email server during her first appearance on the network in more than two years on Monday.’ ’In a network   event, Baier pressed Clinton at length about her use of a private email server while she was the US secretary of state.’ ’”The FBI investigation is still hanging over your campaign, and there are some Democrats who are worried about the other shoe dropping,” Baier said.’ ’The former secretary of state vigorously refuted claims that her past statements about sharing classified information on her private server were inaccurate.’ ’”There’’s a lot of misinformation going on around here, so let me start with the facts,” Clinton said.’ ’Last March, facing ’ ’Clinton reiterated that she believed she made a ”mistake” in using a personal email account instead of an official government account. ”’ ’Baier then confronted Clinton about the classification process itself, asking whether she believed the   emails even needed to be classified.’ ’”So your contention now is the 2, 100 or so emails should not have been classified at any time, now or then?” Baier asked.’ ’Clinton, disagreed, but called for the emails to be released.’ ’”Release it, and once the American people see it, they will see how absurd this is,” Clinton said, spurring applause in the audience.’ ’Fox News host Bret Baier grilled Hillary. It was a mistake,” Clinton said. But she argued that none of the emails she sent or received were marked classified at the time.’ ’”I have said it wasn’’t the best choice to use a personal email. Many people in the government, past and current, have on occasion or in practice have done the same',\n",
              "  6: 'Thank you, Huma. Thank you, Huma. Thank you, Anthony Weiner.”  —   @realDonaldTrump on @HillaryClinton email investigation pic. ” ”Thank you, Huma. “Thank you, Huma',\n",
              "  9: '” CLINTON AIDE CRIED FOUL ON OBAMA’S EMAIL DENIAL, That conversation wasn’t the first time Podesta and Tanden had speculated that Mills played a central role in the establishment of Clinton’s private email system. Just hours after The New York Times broke the Clinton email story on March 2, Podesta and Tanden exchanged emails about the nascent controversy that would dog Clinton throughout her run to the Democratic presidential nomination. The exchange between Podesta and Center for American Progress head Neera Tanden on July 24, 2015, started when Tanden asked if Podesta knew “who told Hillary she could use a private email? Has that person been drawn and quartered?” “Don’t you think Cheryl?” Podesta answered. ” Podesta replied “Unbelievable” before Tanden answered her earlier question: “I guess I know the answer[.] they wanted to get away with it. The FBI interviewed Mills during its probe into Clinton’s private email server, but Mills was granted partial immunity for her cooperation and wasn’t charged with a crime'},\n",
              " {0: 'I also think it’s really important to understand so many women aren’t raised with the rhetoric of  . ”  Partial transcript as follows: DUNHAM: I think it’s really important to remember that it is an incredible problem that 53% of women in this country  —   53% of white women in this country voted for Donald Trump which means that they’re not only voting against the interests of their sisters, of women who may not look like them, who they may not understand but whose rights are just as important, but also remember that they are in that case voting against their own best interest. To me a part of feminism  —   it’s almost like being a parent to a teenager where they’re so mad at you, they think you’re such a piece of crap and you’re like, I know you hate me right now but the reason I’m doing this is because I love you and I want us all to be safe. DUNHAM: I think it’s really important —  Of course I understand what you’re saying. DUNHAM: But what I was going to say is that  —   FARIS: Without food on the table it’s hard for them to see another perspective when they’re clearing no money and to pay for their healthcare',\n",
              "  1: '’ Earlier this morning, protesters marched down Main Street in Park City, Utah  —   where the Sundance Film Festival is currently taking place  —   in a Women’s March organized by Chelsea Handler.’ ’ BuzzFeed News was on site and asked women why they were participating in the march. ‘Balance’ ‘Spiritual’ Beginning Life Happiness ‘Fire in the Home’  —   LOVE”’ ’ “I marched for Civil Rights. ”’ ’ “So I can be anything when I grow up”’]   . Here are their answers:’ ’ “Marching for my grandchildren & 30 years of students in public schools”’ ’ “Trump is not an ally to the colorful, complicated, spirited people of this country! ”’ ’ “We need to advocate for EVERYONE, regardless of political climate”’ ’ “Equality for WOMEN  —   no harassment”’ ’ “I march for THE FUTURE”’ ’ “I’m a school counselor #publicschool”’ ’ “Inequality is unsustainable”’ ’ “I’m here to stand up for the rights of those that are threatened  —   minorities, women, & OUR EARTH”’ ’ “To put Trump on notice”’ ’ “I will no longer be silent”’ ’ “For the radical idea that women are people, too”’ ’ “Future is female. I marched against the war',\n",
              "  2: '  —   DoSomething. [The New York     DoSomething. The    singer sparked controversy in February when she performed her anthem “Formation” at the Super Bowl halftime show.   Follow Jerome Hudson on Twitter @jeromeehudson. ” After the   shooting deaths of two black men in July, the singer penned an open later directed at American law enforcement',\n",
              "  6: 'Actor Tony Goldwyn  —   best known for his role as President Fitzgerald Grant on ABC’s Scandal  —   introduced the Mothers of the Movement, a politically active group of mothers whose children were killed in   shootings in recent years, at the Democratic National Convention on Tuesday evening.   —   Hollywood Reporter (@THR) July 27, 2016,  Goldwyn is a longtime supporter of Hillary Clinton.  #DemsInPhilly https:  . We have to name them and own them  —   and then change them. Tony Goldwyn Introduces Mothers of the Movement: ”We Can Change the World” https:  ',\n",
              "  7: '” You see, 1997 saw a Million Woman March in DC for    —   a follow to Louis Farrakhan’s 1995 Million Man March. ”  But it’s The Washington Post’s debacle that makes us suspect a curse: Thursday’s edition of the paper’s free giveaway, Express, was all about the march  —   but the cover was dominated by a giant male symbol, rather than the female one. Is the Women’s March on Washington cursed? The   protest set for Jan. (Organizers’ dodge: Claim the whole thing is a tribute to King.) And,   the event’s page is still plagued with “arguments about whether an event organized primarily by white women can be sufficiently ‘intersectional’  —   or attuned to the issues faced by, say, poor minority women who reside at the ‘intersection’ of class, race, and gender concerns in America.  1963 March on Washington',\n",
              "  8: 'The march organizers are still officially only expecting a crowd of 200, 000 to 250, 000 people  —   mostly women, but also many men  —   based on the number who have registered. “I am a woman of color and a Muslim from an immigrant family whose country is now going to be led by someone who has been openly   and sexist, has attacked Muslims and is surrounding himself with some horrible people for his cabinet,” said Zahra Billoo, director of the San Francisco chapter of the Council on   Relations and a speaker at the march. But the roar of the masses will surely reach the president’s ears later, as the speeches and   performers wrap up the    hour rally and the demonstrators march to the Ellipse, the large green space opposite the White House. But Linda Sarsour, one of the four march   hopes that the end of the event will mark the beginning of a new movement. The event began to be physically realized on Friday as buses, trains and planes started pouring into Washington, packed full of women  —   and supportive male friends dotted among them'},\n",
              " {0: '”We are going to be taking on a very powerful and   super PAC, a super PAC that receives significant amounts of money from Wall Street and wealthy special interests,” he said.. ”What this entire campaign has been about is the issue of momentum, is the issue of bringing more and more people into the political process,” he continued, noting that people are starting to hear his message. ”And together we are going to create an economy that works for all of us and not just the top one percent.” Sanders thanked his supporters and said he believes he has ”an excellent chance to win many” of the Super Tuesday primaries in March. Bernie Sanders ( ) conceded the Democratic Nevada caucus in a Saturday speech, noting that his presidential campaign has come a long way in the past few months. And the American people are catching on that we have a rigged economy',\n",
              "  1: 'SANDERS: CLINTON SUPPORTS   IN MIDDLE EAST THROUGH WAR AND INVASION, Senator Sanders continued to take subtle shots at Clinton even as he endorsed her.  —   #ThirdPartyorBust (@ausgates) July 12, 2016,  Presumptive Republican nominee Donald Trump’s campaign issued a statement ahead of the Sanders endorsement of Hillary titled, “Top Five Reasons Sanders Supporters Will Never Be Excited About Hillary Clinton.   —   Bernie Wan’s Ghost (@Old_Bern_Kenobi) July 12, 2016,   Black Men for Bernie founder Bruce Carter gave his reaction to Breitbart News in a short statement: As a true supporter of people I am saddened by Senator Sanders decision. After how the democrats sabotaged  backstabbed Bernie and his supporters he’s going to us be used, Hillary is lying  corrupt #NeverHillary,  —   #BernieOrBust (@MalyndaNyc) July 12, 2016,  @LostDiva Watching Hillary stand there next to Bernie Sanders with fake smile and clap was really disgustingWonder if Bernie was threatened,  —   Ninjetta (@RealNinjetta) July 12, 2016,  @JenBumpas @F5Huffman it looked as if Hillary was holding a gun to him. SANDERS: HILLARY CLINTON = D',\n",
              "  2: 'But 51 percent of likely Democratic   say Sanders “cares about people like you,” compared to just 37 percent for Clinton. Cedar Rapids, Iowa  —   Senator Bernie Sanders came out swinging Saturday night after the release of the   final Des Moines Register before Monday’s Iowa caucuses, arguing at a raucous Cedar Rapids rally that the Hawkeye State remains “virtually tied” as he and Hillary Clinton enter the home stretch. “I think any objective observer  —   somebody who’s not partisan on either side  —   will come to the clear conclusion that the campaign, right now, that has the energy, that has the momentum, that is bringing working people and young people in, is our campaign!” Sanders crowed to thunderous applause at a rally here. More Bernie Sanders Senator Sanders’s Wife Lawyers Up after Allegations of Bank FraudBernie Sanders, Theocrat‘They Reject Christ, They Stand Condemned’: What Sanders Probably HeardSanders was also careful to tout his political viability in a   matchup, seeking to blunt the Clinton’s campaign’s line that he is too extreme to win against a Republican. RELATED: Final   Poll: Trump Holds His Lead, There’s more mixed news for both candidates buried deeper in the poll',\n",
              "  4: '\\r  —   Arabs For Bernie (@ArabsForBernie) March 30, 2016      #ToneDownForWhat #StillSanders #Bernie2016 #WeNotMe pic. \\r  —   Travis Ruger (@TravisRuger) March 30, 2016    And then there’s Rand Paul, who seems to just be trolling the whole thing:      So @HillaryClinton doesn’t like your tone @SenSanders? She clearly has never heard your folk album https:  . \\r  —   People For Bernie (@People4Bernie) March 28, 2016      . \\r  —   NC For Bernie (@NCForBernie) March 29, 2016      . #ToneDownForWhat\\r  —   Maddie Moore (@mooooregasm) March 28, 2016    The hashtag formed after Clinton’s strategist Joel Benenson said the campaign was weary of participating in a debate because the Sanders campaign told the Washington Post the team was polling which issues would cause the most damage in the New York primary',\n",
              "  5: 'It led the Clinton campaign to hold a conference call with reporters and accuse Sanders of breaking a pledge not to run negative ads during the campaign.” ’”We were very surprised today to see that Bernie Sanders had launched a negative television advertisement against Hillary,” Clinton campaign manager Robby Mook said on the call.’ ’”We were particularly surprised because he had personally pledged  —   and his campaign had pledged  —   never to run a negative advertisement,” he added. ”’ ’”It’ll be interesting to see  —   Sanders has never shrunk from a fight. ”And the reason that you know that it is tightening is that in the last week, I’ve seen more attacks from Clinton and   group on Bernie Sanders than in the months prior combined. ..”   ’ ’’ ” ’t’t’tIf you ever want to work for a campaign that shares your values on health care, there’s always room at Bernie 2016. Bernie is showing that you can take on the corrupt   system',\n",
              "  6: 'The president of Correct the Record, a   group, issued a statement criticizing Sanders. ”But perhaps nothing from this debate will be more memorable than Bernie Sanders rudely flying off the handle  —   losing his temper and shushing Secretary Clinton, wagging his finger and repeatedly yelling the likes of ’excuse me, I’m talking’ and ’let me finish. ”It was a cringe worthy moment from Senator Sanders more fitting of the GOP debate stage than the Democratic one.” Words Clinton aides are using in spin room to describe Sanders’ tone tonight: ”desperate”  ”disrespectful” #DemDebate,  —   Monica Alba (@AlbaMonica) March 7, 2016, . Because I’ll tell you, the thing that’s connecting with him is his honesty, his authenticity, and the fact that he his who he is.” During a discussion on the auto industry, Clinton started to interject while Sanders was speaking. ”Excuse me, I’m talking,” Sanders told Clinton',\n",
              "  7: ' A Tuesday Sanders endorsement of Clinton would still cut timing close, though, with the Democratic convention in Philadelphia set to open in just over two weeks..  A pending Sanders endorsement was among two outstanding issues for the Clinton campaign, along with questions over Clinton’s email server use.  Climate change, health care and a minimum wage hike are among the issues that the Sanders campaign are calling victories.  Even after the primary season ended, Sanders stayed in the race and vowed to carry his fight to the convention. The Sanders campaign confirmed Monday that the Vermont senator will appear with Clinton at a Portsmouth High School rally',\n",
              "  8: '  —   Hillary Clinton (@HillaryClinton) February 20, 2016,  The Clinton campaign confirmed to CNN that Ferrell supported Clinton and is even hosting a fundraiser for the former secretary of state in Los Angeles. :  .  CNN also has a screenshot of the Sanders campaign webpage that listed Ferrell supporting Sanders.. Your location: https:  . Hillary Clinton’s presidential campaign on Saturday touted a video of Will Ferrell telling Nevadans to caucus for her —  even though the actor had been listed as a supporter on Sen',\n",
              "  9: '[“Wake up, South Carolina!” Lee said in the   radio spot. Hillary Clinton currently holds a   lead over Bernie Sanders in South Carolina, according to the Real Clear Politics average of polls. “That’s why I’m officially endorsing my brother Bernie Sanders,” Lee said, adding: Bernie takes no money from corporations —  nada! Which means he is not on the take. Bernie Sanders known in a radio ad released Tuesday morning. ”   Lee referred to the socialist senator from Vermont as “Bernie from Brooklyn,” while detailing the Democratic hopeful’s   civil rights record'},\n",
              " {0: '. ” Elzea’s statement went on to say that while ICE “focuses its enforcement resources on individuals who pose a threat to national security, public safety, and border security  …    [Homeland Security] Secretary [John] Kelly has made clear, ICE will no longer exempt classes or categories of removable aliens from potential enforcement. FaceBook: https:  .  Twitter:  @PatriotNotPol. Even though Trump’s arrest and deportation statistics haven’t surpassed Obama’s according to The Week, “It’s the tactics Trump’s ICE agents use  —   arresting [illegal] immigrants in state and local courthouses and on the way to work, as well as apparently targeting immigrant advocates who speak out  —   that has struck terror into [illegal] immigrant communities',\n",
              "  3: '[In a New Hampshire town hall meeting, the Florida Senator argued that he was not a supporter of amnesty  —   even though his immigration bill proposed by the Senate “Gang of Eight” offered illegal immigrants a path to citizenship. “It’s very easy to stand up and talk tough on immigration, it’s very easy for someone in Congress to say, ‘I’m against illegal immigration’ but offer no ideas,” he said, “And that’s why for thirty years nothing has happened on this issue   …     it’s gotten worse because they talk about it but they don’t do anything about it. But Rubio criticized his Republican colleagues running for president for refusing to come up with a solution to deal with the millions of illegal immigrants currently in the country  —   arguing that they were making the problem worse.  “No one who has ever run for president understands this issue personally better than I do and that’s why I can tell you and you should tell your friends that no one running for president is better prepared to fix it than me,” he said in response to a voter who asked Rubio how voters would ever trust him on immigration because of his “soft” reputation on the issue. “There has to be real consequences for violating our immigration laws, so if you are a criminal you going to be immediately deported   …     if you violated our immigration laws there will be a substantial consequences for having done so',\n",
              "  9: 'TODD: So not  —   RUBIO: Under immigration law. It’s clear now more than ever that we won’t be able to do anything on people here illegally until we first prove to people that illegal immigration is under control and America is safe. It’s clear now more than ever that we won’t be able to do anything on people here illegally until we first prove to people that illegal immigration is under control and America is safe. ”  Partial transcript as follows: TODD: Let me ask you on the 11 million, are you still for finding a way for them to legally stay in the United States? RUBIO: If you’re a criminal alien, no, you can’t stay. I’ve said that before, that’s been  —   a felon, someone who’s committed a crime, a   related  —   obviously  —   and that’s what I’ve talked about in the past'}]"
            ]
          },
          "metadata": {
            "tags": []
          },
          "execution_count": 60
        }
      ]
    },
    {
      "cell_type": "markdown",
      "metadata": {
        "id": "4uOIkGhbPCHp",
        "colab_type": "text"
      },
      "source": [
        "**Now make a summary of summaries for each cluster**"
      ]
    },
    {
      "cell_type": "code",
      "metadata": {
        "id": "9Q21iDPaPCSx",
        "colab_type": "code",
        "colab": {
          "base_uri": "https://localhost:8080/",
          "height": 35
        },
        "outputId": "fa00561a-a76f-40fb-b0de-a15556cb2863"
      },
      "source": [
        "# summarizing summaries of each cluster outputted above\n",
        "# note that each dictionary in list denotes a cluster\n",
        "# there is five clusters\n",
        "len(cluster_summaries)"
      ],
      "execution_count": 63,
      "outputs": [
        {
          "output_type": "execute_result",
          "data": {
            "text/plain": [
              "5"
            ]
          },
          "metadata": {
            "tags": []
          },
          "execution_count": 63
        }
      ]
    },
    {
      "cell_type": "code",
      "metadata": {
        "id": "zLh6ayGuSU28",
        "colab_type": "code",
        "colab": {}
      },
      "source": [
        "\n",
        "# this is already iterating through the list\n",
        "# each element in list is a dictionary\n",
        "# hence the function you made up works\n",
        "\n",
        "summary_of_summaries = []\n",
        "for summaries in cluster_summaries:\n",
        "  # this is a summary of concatenated text\n",
        "  summario = summary_summaries(summaries)\n",
        "  summary_of_summaries.append(summario)\n"
      ],
      "execution_count": 0,
      "outputs": []
    },
    {
      "cell_type": "code",
      "metadata": {
        "id": "b7-Hui5PSVMY",
        "colab_type": "code",
        "colab": {
          "base_uri": "https://localhost:8080/",
          "height": 35
        },
        "outputId": "217ad958-937b-4ffa-c415-70c9ea2e6b52"
      },
      "source": [
        "len(summary_of_summaries)"
      ],
      "execution_count": 67,
      "outputs": [
        {
          "output_type": "execute_result",
          "data": {
            "text/plain": [
              "5"
            ]
          },
          "metadata": {
            "tags": []
          },
          "execution_count": 67
        }
      ]
    },
    {
      "cell_type": "markdown",
      "metadata": {
        "id": "T50ADeYRSVXp",
        "colab_type": "text"
      },
      "source": [
        "### Evaluate Summary of Summaries with Univ Sent Enc\n",
        "Goal: each summary is clustered with original articles used to create the summaries."
      ]
    },
    {
      "cell_type": "code",
      "metadata": {
        "id": "UMwCzG1OSVk1",
        "colab_type": "code",
        "colab": {}
      },
      "source": [
        "# create embeddings for each user summary\n",
        "summary_embeddings = model(summary_of_summaries)"
      ],
      "execution_count": 0,
      "outputs": []
    },
    {
      "cell_type": "code",
      "metadata": {
        "id": "9swJk2cLSVy5",
        "colab_type": "code",
        "colab": {
          "base_uri": "https://localhost:8080/",
          "height": 35
        },
        "outputId": "b114d3a4-bb16-4b49-9d42-b1ef5b18992b"
      },
      "source": [
        "# data frame of titles and semantic similarities\n",
        "cos_df = pd.DataFrame(cosine_similarity(summary_embeddings, small_embeddings))\n",
        "cos_df.columns = small_data.title\n",
        "cos_df.index = [summary_of_summaries[i][:50] for i in range(len(summary_of_summaries))]\n",
        "\n",
        "cos_df.shape"
      ],
      "execution_count": 69,
      "outputs": [
        {
          "output_type": "execute_result",
          "data": {
            "text/plain": [
              "(5, 13000)"
            ]
          },
          "metadata": {
            "tags": []
          },
          "execution_count": 69
        }
      ]
    },
    {
      "cell_type": "code",
      "metadata": {
        "id": "JqcT4Xp5SV_B",
        "colab_type": "code",
        "colab": {}
      },
      "source": [
        "# func to return the column index of the top n values in a row of a dataframe\n",
        "\n",
        "def find_topind(df, i ,n):\n",
        "  return list(list(zip(*heapq.nlargest(n, enumerate(df.iloc[i,:]), key=operator.itemgetter(1))))[0])\n",
        "\n",
        "# function to return the top n values in a list\n",
        "def find_top(lst, ind):\n",
        "  return [lst[i] for i in ind]\n",
        "\n",
        "# how many articles per cluster\n",
        "n = 10\n",
        "\n",
        "#find index of n most similar articles\n",
        "top_ind = Parallel(n_jobs=16)(delayed(find_topind)(cos_df, i, n) for i in range(len(cos_df)))"
      ],
      "execution_count": 0,
      "outputs": []
    },
    {
      "cell_type": "code",
      "metadata": {
        "id": "vgVWkyKBWdFF",
        "colab_type": "code",
        "colab": {
          "base_uri": "https://localhost:8080/",
          "height": 104
        },
        "outputId": "434f8b17-9cf0-49fc-913d-69b303be566e"
      },
      "source": [
        "# ids of most similar articles \n",
        "top_id = Parallel(n_jobs=16)(delayed(find_top)(small_data.id, ind) for ind in top_ind)\n",
        "\n",
        "top_id"
      ],
      "execution_count": 71,
      "outputs": [
        {
          "output_type": "execute_result",
          "data": {
            "text/plain": [
              "[[67261, 72358, 194362, 58394, 72962, 87784, 73049, 66558, 59828, 45558],\n",
              " [70464, 189841, 55757, 42840, 213322, 120746, 38810, 42339, 202858, 156620],\n",
              " [103164, 157279, 113231, 37346, 122748, 58922, 183701, 50953, 147468, 28692],\n",
              " [199737, 96452, 67766, 39532, 55909, 68874, 49239, 209446, 213842, 211304],\n",
              " [34717, 31626, 45658, 29924, 163918, 94510, 203153, 29675, 87437, 120670]]"
            ]
          },
          "metadata": {
            "tags": []
          },
          "execution_count": 71
        }
      ]
    },
    {
      "cell_type": "code",
      "metadata": {
        "id": "VDVaV4eCWcOF",
        "colab_type": "code",
        "colab": {
          "base_uri": "https://localhost:8080/",
          "height": 104
        },
        "outputId": "a911cd7b-4f5e-4dd3-94a4-08b0b80a028c"
      },
      "source": [
        "# ids of original articles  \n",
        "og_ids = []\n",
        "for i in range(1,6):\n",
        "  cluster = clusters[clusters.cluster_labels == i]\n",
        "  og_ids.append(list(cluster.id))\n",
        "\n",
        "og_ids"
      ],
      "execution_count": 72,
      "outputs": [
        {
          "output_type": "execute_result",
          "data": {
            "text/plain": [
              "[[45558, 72300, 194362, 59828, 92926, 205453, 67261, 72962, 72358, 31540],\n",
              " [70464, 49591, 56439, 85727, 92404, 68550, 40299, 39429, 213302, 86771],\n",
              " [34095, 103164, 48701, 73686, 74730, 60705, 38222, 122748, 147468, 161410],\n",
              " [96444, 39532, 117693, 68874, 199737, 67766, 97167, 55909, 96452, 49182],\n",
              " [28111, 214420, 80967, 45658, 46778, 120670, 163918, 205111, 163453, 34717]]"
            ]
          },
          "metadata": {
            "tags": []
          },
          "execution_count": 72
        }
      ]
    },
    {
      "cell_type": "code",
      "metadata": {
        "id": "326w-H2GWbw5",
        "colab_type": "code",
        "colab": {
          "base_uri": "https://localhost:8080/",
          "height": 35
        },
        "outputId": "fcc72a3b-537f-45e2-8678-0ced016f64c5"
      },
      "source": [
        "# proportion of original articles clustered with summaries \n",
        "np.mean([sum([id in top_id[i] for id in og_ids[i]])/10 for i in range(len(og_ids))])\n"
      ],
      "execution_count": 73,
      "outputs": [
        {
          "output_type": "execute_result",
          "data": {
            "text/plain": [
              "0.4"
            ]
          },
          "metadata": {
            "tags": []
          },
          "execution_count": 73
        }
      ]
    },
    {
      "cell_type": "code",
      "metadata": {
        "id": "uDlVpemzSWK-",
        "colab_type": "code",
        "colab": {}
      },
      "source": [
        ""
      ],
      "execution_count": 0,
      "outputs": []
    }
  ]
}