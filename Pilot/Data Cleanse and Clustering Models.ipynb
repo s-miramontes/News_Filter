{
  "nbformat": 4,
  "nbformat_minor": 0,
  "metadata": {
    "kernelspec": {
      "name": "python3",
      "display_name": "Python 3"
    },
    "language_info": {
      "codemirror_mode": {
        "name": "ipython",
        "version": 3
      },
      "file_extension": ".py",
      "mimetype": "text/x-python",
      "name": "python",
      "nbconvert_exporter": "python",
      "pygments_lexer": "ipython3",
      "version": "3.7.3"
    },
    "colab": {
      "name": "Data Cleanse and Clustering Models.ipynb",
      "provenance": [],
      "machine_shape": "hm",
      "include_colab_link": true
    },
    "accelerator": "TPU"
  },
  "cells": [
    {
      "cell_type": "markdown",
      "metadata": {
        "id": "view-in-github",
        "colab_type": "text"
      },
      "source": [
        "<a href=\"https://colab.research.google.com/github/s-miramontes/News_Filter/blob/silvia/Pilot/Data%20Cleanse%20and%20Clustering%20Models.ipynb\" target=\"_parent\"><img src=\"https://colab.research.google.com/assets/colab-badge.svg\" alt=\"Open In Colab\"/></a>"
      ]
    },
    {
      "cell_type": "markdown",
      "metadata": {
        "id": "XcKFzFa9rw7L",
        "colab_type": "text"
      },
      "source": [
        "# Clustering News Headlines\n",
        "\n",
        "In this notebook we begin by importing data to analyze its contents and to determine the best clustering algorithm to determine the articles that are most related to each other. "
      ]
    },
    {
      "cell_type": "markdown",
      "metadata": {
        "id": "9_yv0Wugrw7Q",
        "colab_type": "text"
      },
      "source": [
        "We start by importing some dependencies and downloading libraries"
      ]
    },
    {
      "cell_type": "code",
      "metadata": {
        "id": "nMXlP5VTfMDZ",
        "colab_type": "code",
        "colab": {}
      },
      "source": [
        "%%capture\n",
        "# Install the latest Tensorflow version.\n",
        "!pip3 install --upgrade tensorflow-gpu\n",
        "# Install TF-Hub.\n",
        "!pip3 install tensorflow-hub\n",
        "!pip3 install seaborn"
      ],
      "execution_count": 0,
      "outputs": []
    },
    {
      "cell_type": "code",
      "metadata": {
        "id": "qfPkC9ajrw7S",
        "colab_type": "code",
        "outputId": "70dedeba-a971-459c-fca5-88210b7a4979",
        "colab": {
          "base_uri": "https://localhost:8080/",
          "height": 69
        }
      },
      "source": [
        "import os\n",
        "\n",
        "import numpy as np\n",
        "import pandas as pd\n",
        "\n",
        "import nltk\n",
        "from nltk.corpus import stopwords\n",
        "nltk.download('stopwords')\n",
        "from nltk.stem.snowball import SnowballStemmer\n",
        "import re\n",
        "\n",
        "from sklearn.feature_extraction.text import TfidfVectorizer\n",
        "\n",
        "from sklearn.cluster import KMeans\n",
        "\n",
        "from sklearn.metrics.pairwise import cosine_similarity\n",
        "\n",
        "from absl import logging\n",
        "\n",
        "import tensorflow as tf\n",
        "import tensorflow_hub as hub\n",
        "\n",
        "import heapq\n",
        "import operator\n",
        "\n",
        "from math import sqrt\n",
        "from joblib import Parallel, delayed\n"
      ],
      "execution_count": 1,
      "outputs": [
        {
          "output_type": "stream",
          "text": [
            "[nltk_data] Downloading package stopwords to\n",
            "[nltk_data]     /home/silvsilva/nltk_data...\n",
            "[nltk_data]   Package stopwords is already up-to-date!\n"
          ],
          "name": "stderr"
        }
      ]
    },
    {
      "cell_type": "markdown",
      "metadata": {
        "id": "1vaQv_w0sd2J",
        "colab_type": "text"
      },
      "source": [
        "## Importing Data from Local File System\n",
        "\n",
        "Datasets are located here: https://www.kaggle.com/snapcrack/all-the-news/version/4#articles3.csv\n",
        "\n",
        "Proceed to download all three 'csv' files, and store them in a 'data' directory at the location of your choice.\n"
      ]
    },
    {
      "cell_type": "code",
      "metadata": {
        "id": "LWGIyGKy_ohe",
        "colab_type": "code",
        "colab": {}
      },
      "source": [
        "articles_3 = pd.read_csv('data/articles3.csv')\n",
        "articles_2 = pd.read_csv('data/articles2.csv')\n",
        "articles_1 = pd.read_csv('data/articles1.csv')"
      ],
      "execution_count": 0,
      "outputs": []
    },
    {
      "cell_type": "code",
      "metadata": {
        "id": "BMp3ER1V_oZW",
        "colab_type": "code",
        "colab": {
          "base_uri": "https://localhost:8080/",
          "height": 475
        },
        "outputId": "e3696eb0-3a90-468f-e94b-ebcb236c9152"
      },
      "source": [
        "articles_3.head()"
      ],
      "execution_count": 3,
      "outputs": [
        {
          "output_type": "execute_result",
          "data": {
            "text/plain": [
              "   Unnamed: 0      id                                              title  \\\n",
              "0      103459  151908  Alton Sterling’s son: ’Everyone needs to prote...   \n",
              "1      103460  151909  Shakespeare’s first four folios sell at auctio...   \n",
              "2      103461  151910  My grandmother’s death saved me from a life of...   \n",
              "3      103462  151911  I feared my life lacked meaning. Cancer pushed...   \n",
              "4      103463  151912  Texas man serving life sentence innocent of do...   \n",
              "\n",
              "  publication          author        date    year  month  \\\n",
              "0    Guardian  Jessica Glenza  2016-07-13  2016.0    7.0   \n",
              "1    Guardian             NaN  2016-05-25  2016.0    5.0   \n",
              "2    Guardian   Robert Pendry  2016-10-31  2016.0   10.0   \n",
              "3    Guardian  Bradford Frost  2016-11-26  2016.0   11.0   \n",
              "4    Guardian             NaN  2016-08-20  2016.0    8.0   \n",
              "\n",
              "                                                 url  \\\n",
              "0  https://www.theguardian.com/us-news/2016/jul/1...   \n",
              "1  https://www.theguardian.com/culture/2016/may/2...   \n",
              "2  https://www.theguardian.com/commentisfree/2016...   \n",
              "3  https://www.theguardian.com/commentisfree/2016...   \n",
              "4  https://www.theguardian.com/us-news/2016/aug/2...   \n",
              "\n",
              "                                             content  \n",
              "0  The son of a Louisiana man whose father was sh...  \n",
              "1  Copies of William Shakespeare’s first four boo...  \n",
              "2  Debt: $20, 000, Source: College, credit cards,...  \n",
              "3  It was late. I was drunk, nearing my 35th birt...  \n",
              "4  A central Texas man serving a life sentence fo...  "
            ],
            "text/html": [
              "<div>\n",
              "<style scoped>\n",
              "    .dataframe tbody tr th:only-of-type {\n",
              "        vertical-align: middle;\n",
              "    }\n",
              "\n",
              "    .dataframe tbody tr th {\n",
              "        vertical-align: top;\n",
              "    }\n",
              "\n",
              "    .dataframe thead th {\n",
              "        text-align: right;\n",
              "    }\n",
              "</style>\n",
              "<table border=\"1\" class=\"dataframe\">\n",
              "  <thead>\n",
              "    <tr style=\"text-align: right;\">\n",
              "      <th></th>\n",
              "      <th>Unnamed: 0</th>\n",
              "      <th>id</th>\n",
              "      <th>title</th>\n",
              "      <th>publication</th>\n",
              "      <th>author</th>\n",
              "      <th>date</th>\n",
              "      <th>year</th>\n",
              "      <th>month</th>\n",
              "      <th>url</th>\n",
              "      <th>content</th>\n",
              "    </tr>\n",
              "  </thead>\n",
              "  <tbody>\n",
              "    <tr>\n",
              "      <th>0</th>\n",
              "      <td>103459</td>\n",
              "      <td>151908</td>\n",
              "      <td>Alton Sterling’s son: ’Everyone needs to prote...</td>\n",
              "      <td>Guardian</td>\n",
              "      <td>Jessica Glenza</td>\n",
              "      <td>2016-07-13</td>\n",
              "      <td>2016.0</td>\n",
              "      <td>7.0</td>\n",
              "      <td>https://www.theguardian.com/us-news/2016/jul/1...</td>\n",
              "      <td>The son of a Louisiana man whose father was sh...</td>\n",
              "    </tr>\n",
              "    <tr>\n",
              "      <th>1</th>\n",
              "      <td>103460</td>\n",
              "      <td>151909</td>\n",
              "      <td>Shakespeare’s first four folios sell at auctio...</td>\n",
              "      <td>Guardian</td>\n",
              "      <td>NaN</td>\n",
              "      <td>2016-05-25</td>\n",
              "      <td>2016.0</td>\n",
              "      <td>5.0</td>\n",
              "      <td>https://www.theguardian.com/culture/2016/may/2...</td>\n",
              "      <td>Copies of William Shakespeare’s first four boo...</td>\n",
              "    </tr>\n",
              "    <tr>\n",
              "      <th>2</th>\n",
              "      <td>103461</td>\n",
              "      <td>151910</td>\n",
              "      <td>My grandmother’s death saved me from a life of...</td>\n",
              "      <td>Guardian</td>\n",
              "      <td>Robert Pendry</td>\n",
              "      <td>2016-10-31</td>\n",
              "      <td>2016.0</td>\n",
              "      <td>10.0</td>\n",
              "      <td>https://www.theguardian.com/commentisfree/2016...</td>\n",
              "      <td>Debt: $20, 000, Source: College, credit cards,...</td>\n",
              "    </tr>\n",
              "    <tr>\n",
              "      <th>3</th>\n",
              "      <td>103462</td>\n",
              "      <td>151911</td>\n",
              "      <td>I feared my life lacked meaning. Cancer pushed...</td>\n",
              "      <td>Guardian</td>\n",
              "      <td>Bradford Frost</td>\n",
              "      <td>2016-11-26</td>\n",
              "      <td>2016.0</td>\n",
              "      <td>11.0</td>\n",
              "      <td>https://www.theguardian.com/commentisfree/2016...</td>\n",
              "      <td>It was late. I was drunk, nearing my 35th birt...</td>\n",
              "    </tr>\n",
              "    <tr>\n",
              "      <th>4</th>\n",
              "      <td>103463</td>\n",
              "      <td>151912</td>\n",
              "      <td>Texas man serving life sentence innocent of do...</td>\n",
              "      <td>Guardian</td>\n",
              "      <td>NaN</td>\n",
              "      <td>2016-08-20</td>\n",
              "      <td>2016.0</td>\n",
              "      <td>8.0</td>\n",
              "      <td>https://www.theguardian.com/us-news/2016/aug/2...</td>\n",
              "      <td>A central Texas man serving a life sentence fo...</td>\n",
              "    </tr>\n",
              "  </tbody>\n",
              "</table>\n",
              "</div>"
            ]
          },
          "metadata": {
            "tags": []
          },
          "execution_count": 3
        }
      ]
    },
    {
      "cell_type": "code",
      "metadata": {
        "id": "bWjyZH92_oFe",
        "colab_type": "code",
        "colab": {
          "base_uri": "https://localhost:8080/",
          "height": 302
        },
        "outputId": "e0c86375-176d-4418-b99b-c2e4c62286c8"
      },
      "source": [
        "articles_2.head()"
      ],
      "execution_count": 4,
      "outputs": [
        {
          "output_type": "execute_result",
          "data": {
            "text/plain": [
              "   Unnamed: 0     id                                              title  \\\n",
              "0       53293  73471  Patriots Day Is Best When It Digs Past the Her...   \n",
              "1       53294  73472  A Break in the Search for the Origin of Comple...   \n",
              "2       53295  73474         Obama’s Ingenious Mention of Atticus Finch   \n",
              "3       53296  73475         Donald Trump Meets, and Assails, the Press   \n",
              "4       53297  73476               Trump: ’I Think’ Hacking Was Russian   \n",
              "\n",
              "  publication             author        date    year  month  url  \\\n",
              "0    Atlantic         David Sims  2017-01-11  2017.0    1.0  NaN   \n",
              "1    Atlantic            Ed Yong  2017-01-11  2017.0    1.0  NaN   \n",
              "2    Atlantic  Spencer Kornhaber  2017-01-11  2017.0    1.0  NaN   \n",
              "3    Atlantic    David A. Graham  2017-01-11  2017.0    1.0  NaN   \n",
              "4    Atlantic      Kaveh Waddell  2017-01-11  2017.0    1.0  NaN   \n",
              "\n",
              "                                             content  \n",
              "0  Patriots Day, Peter Berg’s new thriller that r...  \n",
              "1  In Norse mythology, humans and our world were ...  \n",
              "2  “If our democracy is to work in this increasin...  \n",
              "3  Updated on January 11 at 5:05 p. m. In his fir...  \n",
              "4  Updated at 12:25 p. m. After months of equivoc...  "
            ],
            "text/html": [
              "<div>\n",
              "<style scoped>\n",
              "    .dataframe tbody tr th:only-of-type {\n",
              "        vertical-align: middle;\n",
              "    }\n",
              "\n",
              "    .dataframe tbody tr th {\n",
              "        vertical-align: top;\n",
              "    }\n",
              "\n",
              "    .dataframe thead th {\n",
              "        text-align: right;\n",
              "    }\n",
              "</style>\n",
              "<table border=\"1\" class=\"dataframe\">\n",
              "  <thead>\n",
              "    <tr style=\"text-align: right;\">\n",
              "      <th></th>\n",
              "      <th>Unnamed: 0</th>\n",
              "      <th>id</th>\n",
              "      <th>title</th>\n",
              "      <th>publication</th>\n",
              "      <th>author</th>\n",
              "      <th>date</th>\n",
              "      <th>year</th>\n",
              "      <th>month</th>\n",
              "      <th>url</th>\n",
              "      <th>content</th>\n",
              "    </tr>\n",
              "  </thead>\n",
              "  <tbody>\n",
              "    <tr>\n",
              "      <th>0</th>\n",
              "      <td>53293</td>\n",
              "      <td>73471</td>\n",
              "      <td>Patriots Day Is Best When It Digs Past the Her...</td>\n",
              "      <td>Atlantic</td>\n",
              "      <td>David Sims</td>\n",
              "      <td>2017-01-11</td>\n",
              "      <td>2017.0</td>\n",
              "      <td>1.0</td>\n",
              "      <td>NaN</td>\n",
              "      <td>Patriots Day, Peter Berg’s new thriller that r...</td>\n",
              "    </tr>\n",
              "    <tr>\n",
              "      <th>1</th>\n",
              "      <td>53294</td>\n",
              "      <td>73472</td>\n",
              "      <td>A Break in the Search for the Origin of Comple...</td>\n",
              "      <td>Atlantic</td>\n",
              "      <td>Ed Yong</td>\n",
              "      <td>2017-01-11</td>\n",
              "      <td>2017.0</td>\n",
              "      <td>1.0</td>\n",
              "      <td>NaN</td>\n",
              "      <td>In Norse mythology, humans and our world were ...</td>\n",
              "    </tr>\n",
              "    <tr>\n",
              "      <th>2</th>\n",
              "      <td>53295</td>\n",
              "      <td>73474</td>\n",
              "      <td>Obama’s Ingenious Mention of Atticus Finch</td>\n",
              "      <td>Atlantic</td>\n",
              "      <td>Spencer Kornhaber</td>\n",
              "      <td>2017-01-11</td>\n",
              "      <td>2017.0</td>\n",
              "      <td>1.0</td>\n",
              "      <td>NaN</td>\n",
              "      <td>“If our democracy is to work in this increasin...</td>\n",
              "    </tr>\n",
              "    <tr>\n",
              "      <th>3</th>\n",
              "      <td>53296</td>\n",
              "      <td>73475</td>\n",
              "      <td>Donald Trump Meets, and Assails, the Press</td>\n",
              "      <td>Atlantic</td>\n",
              "      <td>David A. Graham</td>\n",
              "      <td>2017-01-11</td>\n",
              "      <td>2017.0</td>\n",
              "      <td>1.0</td>\n",
              "      <td>NaN</td>\n",
              "      <td>Updated on January 11 at 5:05 p. m. In his fir...</td>\n",
              "    </tr>\n",
              "    <tr>\n",
              "      <th>4</th>\n",
              "      <td>53297</td>\n",
              "      <td>73476</td>\n",
              "      <td>Trump: ’I Think’ Hacking Was Russian</td>\n",
              "      <td>Atlantic</td>\n",
              "      <td>Kaveh Waddell</td>\n",
              "      <td>2017-01-11</td>\n",
              "      <td>2017.0</td>\n",
              "      <td>1.0</td>\n",
              "      <td>NaN</td>\n",
              "      <td>Updated at 12:25 p. m. After months of equivoc...</td>\n",
              "    </tr>\n",
              "  </tbody>\n",
              "</table>\n",
              "</div>"
            ]
          },
          "metadata": {
            "tags": []
          },
          "execution_count": 4
        }
      ]
    },
    {
      "cell_type": "code",
      "metadata": {
        "id": "I2qaWd4A_nmv",
        "colab_type": "code",
        "colab": {
          "base_uri": "https://localhost:8080/",
          "height": 302
        },
        "outputId": "62452195-6c04-4fe6-a6bb-f55947186ab1"
      },
      "source": [
        "articles_1.head()"
      ],
      "execution_count": 5,
      "outputs": [
        {
          "output_type": "execute_result",
          "data": {
            "text/plain": [
              "   Unnamed: 0     id                                              title  \\\n",
              "0           0  17283  House Republicans Fret About Winning Their Hea...   \n",
              "1           1  17284  Rift Between Officers and Residents as Killing...   \n",
              "2           2  17285  Tyrus Wong, ‘Bambi’ Artist Thwarted by Racial ...   \n",
              "3           3  17286  Among Deaths in 2016, a Heavy Toll in Pop Musi...   \n",
              "4           4  17287  Kim Jong-un Says North Korea Is Preparing to T...   \n",
              "\n",
              "      publication                         author        date    year  month  \\\n",
              "0  New York Times                     Carl Hulse  2016-12-31  2016.0   12.0   \n",
              "1  New York Times  Benjamin Mueller and Al Baker  2017-06-19  2017.0    6.0   \n",
              "2  New York Times                   Margalit Fox  2017-01-06  2017.0    1.0   \n",
              "3  New York Times               William McDonald  2017-04-10  2017.0    4.0   \n",
              "4  New York Times                  Choe Sang-Hun  2017-01-02  2017.0    1.0   \n",
              "\n",
              "   url                                            content  \n",
              "0  NaN  WASHINGTON  —   Congressional Republicans have...  \n",
              "1  NaN  After the bullet shells get counted, the blood...  \n",
              "2  NaN  When Walt Disney’s “Bambi” opened in 1942, cri...  \n",
              "3  NaN  Death may be the great equalizer, but it isn’t...  \n",
              "4  NaN  SEOUL, South Korea  —   North Korea’s leader, ...  "
            ],
            "text/html": [
              "<div>\n",
              "<style scoped>\n",
              "    .dataframe tbody tr th:only-of-type {\n",
              "        vertical-align: middle;\n",
              "    }\n",
              "\n",
              "    .dataframe tbody tr th {\n",
              "        vertical-align: top;\n",
              "    }\n",
              "\n",
              "    .dataframe thead th {\n",
              "        text-align: right;\n",
              "    }\n",
              "</style>\n",
              "<table border=\"1\" class=\"dataframe\">\n",
              "  <thead>\n",
              "    <tr style=\"text-align: right;\">\n",
              "      <th></th>\n",
              "      <th>Unnamed: 0</th>\n",
              "      <th>id</th>\n",
              "      <th>title</th>\n",
              "      <th>publication</th>\n",
              "      <th>author</th>\n",
              "      <th>date</th>\n",
              "      <th>year</th>\n",
              "      <th>month</th>\n",
              "      <th>url</th>\n",
              "      <th>content</th>\n",
              "    </tr>\n",
              "  </thead>\n",
              "  <tbody>\n",
              "    <tr>\n",
              "      <th>0</th>\n",
              "      <td>0</td>\n",
              "      <td>17283</td>\n",
              "      <td>House Republicans Fret About Winning Their Hea...</td>\n",
              "      <td>New York Times</td>\n",
              "      <td>Carl Hulse</td>\n",
              "      <td>2016-12-31</td>\n",
              "      <td>2016.0</td>\n",
              "      <td>12.0</td>\n",
              "      <td>NaN</td>\n",
              "      <td>WASHINGTON  —   Congressional Republicans have...</td>\n",
              "    </tr>\n",
              "    <tr>\n",
              "      <th>1</th>\n",
              "      <td>1</td>\n",
              "      <td>17284</td>\n",
              "      <td>Rift Between Officers and Residents as Killing...</td>\n",
              "      <td>New York Times</td>\n",
              "      <td>Benjamin Mueller and Al Baker</td>\n",
              "      <td>2017-06-19</td>\n",
              "      <td>2017.0</td>\n",
              "      <td>6.0</td>\n",
              "      <td>NaN</td>\n",
              "      <td>After the bullet shells get counted, the blood...</td>\n",
              "    </tr>\n",
              "    <tr>\n",
              "      <th>2</th>\n",
              "      <td>2</td>\n",
              "      <td>17285</td>\n",
              "      <td>Tyrus Wong, ‘Bambi’ Artist Thwarted by Racial ...</td>\n",
              "      <td>New York Times</td>\n",
              "      <td>Margalit Fox</td>\n",
              "      <td>2017-01-06</td>\n",
              "      <td>2017.0</td>\n",
              "      <td>1.0</td>\n",
              "      <td>NaN</td>\n",
              "      <td>When Walt Disney’s “Bambi” opened in 1942, cri...</td>\n",
              "    </tr>\n",
              "    <tr>\n",
              "      <th>3</th>\n",
              "      <td>3</td>\n",
              "      <td>17286</td>\n",
              "      <td>Among Deaths in 2016, a Heavy Toll in Pop Musi...</td>\n",
              "      <td>New York Times</td>\n",
              "      <td>William McDonald</td>\n",
              "      <td>2017-04-10</td>\n",
              "      <td>2017.0</td>\n",
              "      <td>4.0</td>\n",
              "      <td>NaN</td>\n",
              "      <td>Death may be the great equalizer, but it isn’t...</td>\n",
              "    </tr>\n",
              "    <tr>\n",
              "      <th>4</th>\n",
              "      <td>4</td>\n",
              "      <td>17287</td>\n",
              "      <td>Kim Jong-un Says North Korea Is Preparing to T...</td>\n",
              "      <td>New York Times</td>\n",
              "      <td>Choe Sang-Hun</td>\n",
              "      <td>2017-01-02</td>\n",
              "      <td>2017.0</td>\n",
              "      <td>1.0</td>\n",
              "      <td>NaN</td>\n",
              "      <td>SEOUL, South Korea  —   North Korea’s leader, ...</td>\n",
              "    </tr>\n",
              "  </tbody>\n",
              "</table>\n",
              "</div>"
            ]
          },
          "metadata": {
            "tags": []
          },
          "execution_count": 5
        }
      ]
    },
    {
      "cell_type": "code",
      "metadata": {
        "id": "Q62vtXwaR9og",
        "colab_type": "code",
        "colab": {
          "base_uri": "https://localhost:8080/",
          "height": 35
        },
        "outputId": "e8980f48-72ac-4461-eef6-84214bf103e4"
      },
      "source": [
        "# publications in articles_3.csv\n",
        "set(articles_3.publication)"
      ],
      "execution_count": 6,
      "outputs": [
        {
          "output_type": "execute_result",
          "data": {
            "text/plain": [
              "{'Guardian', 'NPR', 'Reuters', 'Vox', 'Washington Post'}"
            ]
          },
          "metadata": {
            "tags": []
          },
          "execution_count": 6
        }
      ]
    },
    {
      "cell_type": "code",
      "metadata": {
        "id": "n9ILnYjuGgjC",
        "colab_type": "code",
        "colab": {
          "base_uri": "https://localhost:8080/",
          "height": 138
        },
        "outputId": "86b0110e-589d-49cb-9aa3-e7786419d818"
      },
      "source": [
        "# publications in articles_2.csv\n",
        "set(articles_2.publication)"
      ],
      "execution_count": 7,
      "outputs": [
        {
          "output_type": "execute_result",
          "data": {
            "text/plain": [
              "{'Atlantic',\n",
              " 'Buzzfeed News',\n",
              " 'Fox News',\n",
              " 'Guardian',\n",
              " 'National Review',\n",
              " 'New York Post',\n",
              " 'Talking Points Memo'}"
            ]
          },
          "metadata": {
            "tags": []
          },
          "execution_count": 7
        }
      ]
    },
    {
      "cell_type": "code",
      "metadata": {
        "id": "_GuTjI-0G7U5",
        "colab_type": "code",
        "colab": {
          "base_uri": "https://localhost:8080/",
          "height": 35
        },
        "outputId": "4accb4d3-2371-424a-ff3b-be7842351a3c"
      },
      "source": [
        "# publications in articles_1.csv\n",
        "set(articles_1.publication)"
      ],
      "execution_count": 8,
      "outputs": [
        {
          "output_type": "execute_result",
          "data": {
            "text/plain": [
              "{'Atlantic', 'Breitbart', 'Business Insider', 'CNN', 'New York Times'}"
            ]
          },
          "metadata": {
            "tags": []
          },
          "execution_count": 8
        }
      ]
    },
    {
      "cell_type": "code",
      "metadata": {
        "id": "6-c_j1F0G8YL",
        "colab_type": "code",
        "outputId": "e1d4a309-56c4-4f32-f8de-12b49625b8df",
        "colab": {
          "base_uri": "https://localhost:8080/",
          "height": 35
        }
      },
      "source": [
        "# join all datasets into one\n",
        "full_data = pd.concat([articles_1, articles_2, articles_3], ignore_index=True)\n",
        "\n",
        "full_data.shape"
      ],
      "execution_count": 9,
      "outputs": [
        {
          "output_type": "execute_result",
          "data": {
            "text/plain": [
              "(142570, 10)"
            ]
          },
          "metadata": {
            "tags": []
          },
          "execution_count": 9
        }
      ]
    },
    {
      "cell_type": "code",
      "metadata": {
        "id": "Nusfid1cHd8l",
        "colab_type": "code",
        "outputId": "993281f1-2224-4e83-ee1e-b9ae8d579fd6",
        "colab": {
          "base_uri": "https://localhost:8080/",
          "height": 302
        }
      },
      "source": [
        "full_data.head()"
      ],
      "execution_count": 10,
      "outputs": [
        {
          "output_type": "execute_result",
          "data": {
            "text/plain": [
              "   Unnamed: 0     id                                              title  \\\n",
              "0           0  17283  House Republicans Fret About Winning Their Hea...   \n",
              "1           1  17284  Rift Between Officers and Residents as Killing...   \n",
              "2           2  17285  Tyrus Wong, ‘Bambi’ Artist Thwarted by Racial ...   \n",
              "3           3  17286  Among Deaths in 2016, a Heavy Toll in Pop Musi...   \n",
              "4           4  17287  Kim Jong-un Says North Korea Is Preparing to T...   \n",
              "\n",
              "      publication                         author        date    year  month  \\\n",
              "0  New York Times                     Carl Hulse  2016-12-31  2016.0   12.0   \n",
              "1  New York Times  Benjamin Mueller and Al Baker  2017-06-19  2017.0    6.0   \n",
              "2  New York Times                   Margalit Fox  2017-01-06  2017.0    1.0   \n",
              "3  New York Times               William McDonald  2017-04-10  2017.0    4.0   \n",
              "4  New York Times                  Choe Sang-Hun  2017-01-02  2017.0    1.0   \n",
              "\n",
              "   url                                            content  \n",
              "0  NaN  WASHINGTON  —   Congressional Republicans have...  \n",
              "1  NaN  After the bullet shells get counted, the blood...  \n",
              "2  NaN  When Walt Disney’s “Bambi” opened in 1942, cri...  \n",
              "3  NaN  Death may be the great equalizer, but it isn’t...  \n",
              "4  NaN  SEOUL, South Korea  —   North Korea’s leader, ...  "
            ],
            "text/html": [
              "<div>\n",
              "<style scoped>\n",
              "    .dataframe tbody tr th:only-of-type {\n",
              "        vertical-align: middle;\n",
              "    }\n",
              "\n",
              "    .dataframe tbody tr th {\n",
              "        vertical-align: top;\n",
              "    }\n",
              "\n",
              "    .dataframe thead th {\n",
              "        text-align: right;\n",
              "    }\n",
              "</style>\n",
              "<table border=\"1\" class=\"dataframe\">\n",
              "  <thead>\n",
              "    <tr style=\"text-align: right;\">\n",
              "      <th></th>\n",
              "      <th>Unnamed: 0</th>\n",
              "      <th>id</th>\n",
              "      <th>title</th>\n",
              "      <th>publication</th>\n",
              "      <th>author</th>\n",
              "      <th>date</th>\n",
              "      <th>year</th>\n",
              "      <th>month</th>\n",
              "      <th>url</th>\n",
              "      <th>content</th>\n",
              "    </tr>\n",
              "  </thead>\n",
              "  <tbody>\n",
              "    <tr>\n",
              "      <th>0</th>\n",
              "      <td>0</td>\n",
              "      <td>17283</td>\n",
              "      <td>House Republicans Fret About Winning Their Hea...</td>\n",
              "      <td>New York Times</td>\n",
              "      <td>Carl Hulse</td>\n",
              "      <td>2016-12-31</td>\n",
              "      <td>2016.0</td>\n",
              "      <td>12.0</td>\n",
              "      <td>NaN</td>\n",
              "      <td>WASHINGTON  —   Congressional Republicans have...</td>\n",
              "    </tr>\n",
              "    <tr>\n",
              "      <th>1</th>\n",
              "      <td>1</td>\n",
              "      <td>17284</td>\n",
              "      <td>Rift Between Officers and Residents as Killing...</td>\n",
              "      <td>New York Times</td>\n",
              "      <td>Benjamin Mueller and Al Baker</td>\n",
              "      <td>2017-06-19</td>\n",
              "      <td>2017.0</td>\n",
              "      <td>6.0</td>\n",
              "      <td>NaN</td>\n",
              "      <td>After the bullet shells get counted, the blood...</td>\n",
              "    </tr>\n",
              "    <tr>\n",
              "      <th>2</th>\n",
              "      <td>2</td>\n",
              "      <td>17285</td>\n",
              "      <td>Tyrus Wong, ‘Bambi’ Artist Thwarted by Racial ...</td>\n",
              "      <td>New York Times</td>\n",
              "      <td>Margalit Fox</td>\n",
              "      <td>2017-01-06</td>\n",
              "      <td>2017.0</td>\n",
              "      <td>1.0</td>\n",
              "      <td>NaN</td>\n",
              "      <td>When Walt Disney’s “Bambi” opened in 1942, cri...</td>\n",
              "    </tr>\n",
              "    <tr>\n",
              "      <th>3</th>\n",
              "      <td>3</td>\n",
              "      <td>17286</td>\n",
              "      <td>Among Deaths in 2016, a Heavy Toll in Pop Musi...</td>\n",
              "      <td>New York Times</td>\n",
              "      <td>William McDonald</td>\n",
              "      <td>2017-04-10</td>\n",
              "      <td>2017.0</td>\n",
              "      <td>4.0</td>\n",
              "      <td>NaN</td>\n",
              "      <td>Death may be the great equalizer, but it isn’t...</td>\n",
              "    </tr>\n",
              "    <tr>\n",
              "      <th>4</th>\n",
              "      <td>4</td>\n",
              "      <td>17287</td>\n",
              "      <td>Kim Jong-un Says North Korea Is Preparing to T...</td>\n",
              "      <td>New York Times</td>\n",
              "      <td>Choe Sang-Hun</td>\n",
              "      <td>2017-01-02</td>\n",
              "      <td>2017.0</td>\n",
              "      <td>1.0</td>\n",
              "      <td>NaN</td>\n",
              "      <td>SEOUL, South Korea  —   North Korea’s leader, ...</td>\n",
              "    </tr>\n",
              "  </tbody>\n",
              "</table>\n",
              "</div>"
            ]
          },
          "metadata": {
            "tags": []
          },
          "execution_count": 10
        }
      ]
    },
    {
      "cell_type": "code",
      "metadata": {
        "id": "KF1gdGRjK7HB",
        "colab_type": "code",
        "colab": {}
      },
      "source": [
        "# remove duplicates\n",
        "full_data = full_data.drop_duplicates(subset=['title', 'publication', 'author', 'date'])"
      ],
      "execution_count": 0,
      "outputs": []
    },
    {
      "cell_type": "code",
      "metadata": {
        "id": "FoumqwwKQJ29",
        "colab_type": "code",
        "colab": {}
      },
      "source": [
        "# remove missing titles \n",
        "full_data = full_data.dropna(subset=['title'])"
      ],
      "execution_count": 0,
      "outputs": []
    },
    {
      "cell_type": "code",
      "metadata": {
        "id": "geKADAkQ1isB",
        "colab_type": "code",
        "outputId": "2187fc5d-9569-42e9-fe37-70aa6e4e3cbc",
        "colab": {
          "base_uri": "https://localhost:8080/",
          "height": 276
        }
      },
      "source": [
        "# sample 13k observations from full_data (set seed to 5)\n",
        "small_data = full_data.sample(n=13000, random_state=5).reset_index()\n",
        "set(small_data.publication)"
      ],
      "execution_count": 13,
      "outputs": [
        {
          "output_type": "execute_result",
          "data": {
            "text/plain": [
              "{'Atlantic',\n",
              " 'Breitbart',\n",
              " 'Business Insider',\n",
              " 'Buzzfeed News',\n",
              " 'CNN',\n",
              " 'Fox News',\n",
              " 'Guardian',\n",
              " 'NPR',\n",
              " 'National Review',\n",
              " 'New York Post',\n",
              " 'New York Times',\n",
              " 'Reuters',\n",
              " 'Talking Points Memo',\n",
              " 'Vox',\n",
              " 'Washington Post'}"
            ]
          },
          "metadata": {
            "tags": []
          },
          "execution_count": 13
        }
      ]
    },
    {
      "cell_type": "code",
      "metadata": {
        "id": "oHsWKlomnvcj",
        "colab_type": "code",
        "outputId": "6b5b1ceb-f262-4a6e-b275-d3ae62eef0ba",
        "colab": {
          "base_uri": "https://localhost:8080/",
          "height": 35
        }
      },
      "source": [
        "small_data.shape"
      ],
      "execution_count": 14,
      "outputs": [
        {
          "output_type": "execute_result",
          "data": {
            "text/plain": [
              "(13000, 11)"
            ]
          },
          "metadata": {
            "tags": []
          },
          "execution_count": 14
        }
      ]
    },
    {
      "cell_type": "code",
      "metadata": {
        "id": "bn6X4KaWBDxt",
        "colab_type": "code",
        "outputId": "387e68a4-0f3f-4fbe-d7f2-90d9e51291fc",
        "colab": {
          "base_uri": "https://localhost:8080/",
          "height": 492
        }
      },
      "source": [
        "small_data.head()"
      ],
      "execution_count": 15,
      "outputs": [
        {
          "output_type": "execute_result",
          "data": {
            "text/plain": [
              "    index  Unnamed: 0      id  \\\n",
              "0   74496       77946  118473   \n",
              "1   71184       74592  113594   \n",
              "2  120205      123668  184574   \n",
              "3  128977      132440  199665   \n",
              "4  134837      138300  208223   \n",
              "\n",
              "                                               title      publication  \\\n",
              "0  Chaos in the Family, Chaos in the State: The W...  National Review   \n",
              "1   US Civil Rights Commission Will Observe Stand...    Buzzfeed News   \n",
              "2  Venezuela hunts rogue helicopter attackers, Ma...          Reuters   \n",
              "3  Fruit juice isn’t much better for you than sod...              Vox   \n",
              "4  Sessions won’t testify at congressional budget...  Washington Post   \n",
              "\n",
              "                                  author        date    year  month  \\\n",
              "0                    Kevin D. Williamson  2016-03-17  2016.0    3.0   \n",
              "1                       Nidhi Subbaraman  2016-12-08  2016.0   12.0   \n",
              "2  Andrew Cawthorne and Victoria Ramirez  2017-06-29  2017.0    6.0   \n",
              "3                           Julia Belluz   2016/3/25  2016.0    3.0   \n",
              "4                           Sari Horwitz  2017-06-10  2017.0    6.0   \n",
              "\n",
              "                                                 url  \\\n",
              "0  http://www.nationalreview.com/article/432876/d...   \n",
              "1  https://web.archive.org/web/20161208153906/htt...   \n",
              "2  http://www.reuters.com/article/us-venezuela-po...   \n",
              "3  http://www.vox.com/2016/3/25/11305614/soda-jui...   \n",
              "4  https://web.archive.org/web/20170611000758/htt...   \n",
              "\n",
              "                                             content  \n",
              "0  Michael Brendan Dougherty is bitter. I think t...  \n",
              "1   WASHINGTON  —   The US Commission on Civil Ri...  \n",
              "2   The Venezuelan government hunted on Wednesday...  \n",
              "3   One of the biggest public health wins of rece...  \n",
              "4   Attorney General Jeff Sessions, who had agree...  "
            ],
            "text/html": [
              "<div>\n",
              "<style scoped>\n",
              "    .dataframe tbody tr th:only-of-type {\n",
              "        vertical-align: middle;\n",
              "    }\n",
              "\n",
              "    .dataframe tbody tr th {\n",
              "        vertical-align: top;\n",
              "    }\n",
              "\n",
              "    .dataframe thead th {\n",
              "        text-align: right;\n",
              "    }\n",
              "</style>\n",
              "<table border=\"1\" class=\"dataframe\">\n",
              "  <thead>\n",
              "    <tr style=\"text-align: right;\">\n",
              "      <th></th>\n",
              "      <th>index</th>\n",
              "      <th>Unnamed: 0</th>\n",
              "      <th>id</th>\n",
              "      <th>title</th>\n",
              "      <th>publication</th>\n",
              "      <th>author</th>\n",
              "      <th>date</th>\n",
              "      <th>year</th>\n",
              "      <th>month</th>\n",
              "      <th>url</th>\n",
              "      <th>content</th>\n",
              "    </tr>\n",
              "  </thead>\n",
              "  <tbody>\n",
              "    <tr>\n",
              "      <th>0</th>\n",
              "      <td>74496</td>\n",
              "      <td>77946</td>\n",
              "      <td>118473</td>\n",
              "      <td>Chaos in the Family, Chaos in the State: The W...</td>\n",
              "      <td>National Review</td>\n",
              "      <td>Kevin D. Williamson</td>\n",
              "      <td>2016-03-17</td>\n",
              "      <td>2016.0</td>\n",
              "      <td>3.0</td>\n",
              "      <td>http://www.nationalreview.com/article/432876/d...</td>\n",
              "      <td>Michael Brendan Dougherty is bitter. I think t...</td>\n",
              "    </tr>\n",
              "    <tr>\n",
              "      <th>1</th>\n",
              "      <td>71184</td>\n",
              "      <td>74592</td>\n",
              "      <td>113594</td>\n",
              "      <td>US Civil Rights Commission Will Observe Stand...</td>\n",
              "      <td>Buzzfeed News</td>\n",
              "      <td>Nidhi Subbaraman</td>\n",
              "      <td>2016-12-08</td>\n",
              "      <td>2016.0</td>\n",
              "      <td>12.0</td>\n",
              "      <td>https://web.archive.org/web/20161208153906/htt...</td>\n",
              "      <td>WASHINGTON  —   The US Commission on Civil Ri...</td>\n",
              "    </tr>\n",
              "    <tr>\n",
              "      <th>2</th>\n",
              "      <td>120205</td>\n",
              "      <td>123668</td>\n",
              "      <td>184574</td>\n",
              "      <td>Venezuela hunts rogue helicopter attackers, Ma...</td>\n",
              "      <td>Reuters</td>\n",
              "      <td>Andrew Cawthorne and Victoria Ramirez</td>\n",
              "      <td>2017-06-29</td>\n",
              "      <td>2017.0</td>\n",
              "      <td>6.0</td>\n",
              "      <td>http://www.reuters.com/article/us-venezuela-po...</td>\n",
              "      <td>The Venezuelan government hunted on Wednesday...</td>\n",
              "    </tr>\n",
              "    <tr>\n",
              "      <th>3</th>\n",
              "      <td>128977</td>\n",
              "      <td>132440</td>\n",
              "      <td>199665</td>\n",
              "      <td>Fruit juice isn’t much better for you than sod...</td>\n",
              "      <td>Vox</td>\n",
              "      <td>Julia Belluz</td>\n",
              "      <td>2016/3/25</td>\n",
              "      <td>2016.0</td>\n",
              "      <td>3.0</td>\n",
              "      <td>http://www.vox.com/2016/3/25/11305614/soda-jui...</td>\n",
              "      <td>One of the biggest public health wins of rece...</td>\n",
              "    </tr>\n",
              "    <tr>\n",
              "      <th>4</th>\n",
              "      <td>134837</td>\n",
              "      <td>138300</td>\n",
              "      <td>208223</td>\n",
              "      <td>Sessions won’t testify at congressional budget...</td>\n",
              "      <td>Washington Post</td>\n",
              "      <td>Sari Horwitz</td>\n",
              "      <td>2017-06-10</td>\n",
              "      <td>2017.0</td>\n",
              "      <td>6.0</td>\n",
              "      <td>https://web.archive.org/web/20170611000758/htt...</td>\n",
              "      <td>Attorney General Jeff Sessions, who had agree...</td>\n",
              "    </tr>\n",
              "  </tbody>\n",
              "</table>\n",
              "</div>"
            ]
          },
          "metadata": {
            "tags": []
          },
          "execution_count": 15
        }
      ]
    },
    {
      "cell_type": "code",
      "metadata": {
        "id": "Fz-CUd81yb81",
        "colab_type": "code",
        "outputId": "6c342e05-b5c0-42bd-85df-d2ad5f5557a5",
        "colab": {
          "base_uri": "https://localhost:8080/",
          "height": 104
        }
      },
      "source": [
        "# remove publisher tags from article titles \n",
        "\n",
        "def clean_title(title):\n",
        "  title = re.sub(r\"(- Breitbart)(?!.*\\1)\", '', title)\n",
        "  title = re.sub(r'(- The New York Times)(?!.*\\1)', '', title)\n",
        "  return title\n",
        "  \n",
        "just_titles = Parallel(n_jobs=16)(delayed(clean_title)(title) for title in small_data.title)\n",
        "\n",
        "just_titles[:5]"
      ],
      "execution_count": 16,
      "outputs": [
        {
          "output_type": "execute_result",
          "data": {
            "text/plain": [
              "['Chaos in the Family, Chaos in the State: The White Working Class’s Dysfunction',\n",
              " ' US Civil Rights Commission Will Observe Standing Rock\\xa0Standoff',\n",
              " 'Venezuela hunts rogue helicopter attackers, Maduro foes suspicious',\n",
              " 'Fruit juice isn’t much better for you than soda. Let’s stop pretending otherwise.',\n",
              " 'Sessions won’t testify at congressional budget hearings but at Senate intelligence hearing instead']"
            ]
          },
          "metadata": {
            "tags": []
          },
          "execution_count": 16
        }
      ]
    },
    {
      "cell_type": "code",
      "metadata": {
        "id": "W-KoWU84-e4B",
        "colab_type": "code",
        "outputId": "713862e4-160a-4b5d-dd20-b18045ef303d",
        "colab": {
          "base_uri": "https://localhost:8080/",
          "height": 35
        }
      },
      "source": [
        "len(just_titles)"
      ],
      "execution_count": 17,
      "outputs": [
        {
          "output_type": "execute_result",
          "data": {
            "text/plain": [
              "13000"
            ]
          },
          "metadata": {
            "tags": []
          },
          "execution_count": 17
        }
      ]
    },
    {
      "cell_type": "code",
      "metadata": {
        "id": "_SQFGoXw-Y3Q",
        "colab_type": "code",
        "outputId": "bcdd0450-f63f-40de-e607-4df1881053d5",
        "colab": {
          "base_uri": "https://localhost:8080/",
          "height": 35
        }
      },
      "source": [
        "# store ids of titles \n",
        "id_list = small_data.copy().id\n",
        "\n",
        "len(id_list)"
      ],
      "execution_count": 18,
      "outputs": [
        {
          "output_type": "execute_result",
          "data": {
            "text/plain": [
              "13000"
            ]
          },
          "metadata": {
            "tags": []
          },
          "execution_count": 18
        }
      ]
    },
    {
      "cell_type": "code",
      "metadata": {
        "id": "iXEvn1pUgb9h",
        "colab_type": "code",
        "outputId": "db7c4f00-30f5-4f55-87ba-c0d7d331994b",
        "colab": {
          "base_uri": "https://localhost:8080/",
          "height": 124
        }
      },
      "source": [
        "# join with content of article\n",
        "\n",
        "small_text = list(map(lambda i,j: i + \" \" + j, just_titles, small_data.content))\n",
        "\n",
        "small_text[:5]"
      ],
      "execution_count": 19,
      "outputs": [
        {
          "output_type": "execute_result",
          "data": {
            "text/plain": [
              "['Chaos in the Family, Chaos in the State: The White Working Class’s Dysfunction Michael Brendan Dougherty is bitter. I think that I can write that in both truth and charity. (I think you might even say that he and I are friends.) Dougherty is a conservative of the sort sometimes advertised as “paleo” and served as national correspondent for The American Conservative. Like many conservative writers with those associations, Dougherty spends a great deal of time lambasting the conservative movement and its organs, from which he feels, for whatever reason, estranged  —   an alienation that carries with it more than a little to suggest that it is somewhat personal. You know: Them. Donald Trump is the headline, and explaining the benighted white working class to Them is the main matter. Sanctimony is the literary mode, for Dougherty and for many others doing the same work with less literary facility. Never mind the petty sneering (as though the conservative movement were populated by septuagenarians who say things like “learn computers”) and the rhetorical need to invent moral debasement (tax cuts are good for the rich people in Connecticut who don’t use cocaine, too) and Dougherty’s ignoring out of existence those   parts of the economy that are outside of the Manhattan —  Connecticut finance corridor. And never mind the math, too: It is really quite difficult to design federal tax cuts that benefit people who do not pay much in the way of federal taxes. Set all that aside: What, really, is the case for staying in Garbutt? RELATED: If Your Town Is Failing, Just Go: A Prescription for Impoverished Communities, There was no Garbutt, N. Y. until 1804, when Zachariah Garbutt and his son John settled there. They built a grist mill, and, in the course of digging its foundations, they discovered a rich vein of gypsum, at that time used as a fertilizer. A gypsum industry sprang up and ran its course. Then Garbutt died. “As the years passed away, a change came over the spirit of their dream,” wrote local historian George E. Slocum. “Their church was demolished and its timber put to an ignoble use their schools were reduced to one, and that a primary their hotels were converted into dwelling houses their workshops, one by one, slowly and silently sank from sight until there was but little left to the burg except its name. ” Slocum wrote that in . . . 1908. The emergence of the   wallboard industry gave Garbutt a little bump at the beginning of the 20th century, but it wasn’t enough. The U. S. Census Bureau doesn’t even keep data on Garbutt. To invoke Burkean conservatism in the service of preserving a community that was exnihilated into existence around a single commodity and lasted barely a century is the indulgence of absurd sentimentality. Yes, young men of Garbutt  —   get off your asses and go find a job: You’re a   bus ride away from the gas fields of Pennsylvania. Stonehenge didn’t work out, either: Good luck. Garbutt is Trump Country, and Dougherty, while not a   Trumpkin, is generally sympathetic to Trump’s critique of current American economic policy, namely that international trade and immigration are dispossessing the white working class. There is not, in fact, very much evidence for those claims: Immigration does put some downward pressure on wages, but it also puts downward pressure on prices.     workers’ money income may have stagnated, but their real income  —   what they can buy with the money they earn  —   has continued to improve modestly. The main effect of new immigrants’ wage competition is felt in the wages of earlier immigrants. But the effects of immigration overall are tiny compared with the effects of factors such as   expenses. In many   occupations, overall compensation in fact has gone up over the years, but the additional compensation has come largely or entirely in the form of medical benefits. In some cases, the expense of medical benefits has gone up so much that total compensation has increased even while money wages have gone down. That’s the worst of all possible worlds: It costs more to employ those   American workers, but they don’t feel any richer  —   and if their employers are paying more for the same benefits (or paying more for inferior benefits under the   Affordable Care Act) they aren’t any richer, practically speaking. On the trade front, American manufacturing continues to expand and thrive  —   an absolute economic fact that is, perversely, unknown to the great majority of Americans, who believe precisely the opposite to be the case. Americans have false beliefs about manufacturing for a few reasons: One is that while our factories produce much more than in the past, they employ fewer people another is that we tend to produce capital goods and import consumer goods  —   you won’t see much labeled “Made in the USA” at Walmart, but you’ll see it on everything from the aircraft flown by foreign airlines to the robotics in automobile factories overseas. Another factor, particularly relevant to the question of manufacturing and trade, is that a large (but declining) share of those imported consumer goods comes from China, a country with which we have a large trade deficit. That isn’t because the Chinese are clever, but because they are poor: With an average annual income of less than $9, 000, the typical Chinese household is not well positioned to buy   goods, which are generally expensive. (China is a large consumer of U. S. agricultural products, especially soybeans.) Add to that poorly informed and sentimental ideas about what those old Rust Belt factory jobs actually paid  —   you can have a 1957 standard of living, if you really want it, quite cheap  —   and you get a holistic critique of U. S. economic policy that is wholly bunk. Which isn’t to say that the Mikes of Dougherty’s world have it good  —   they don’t. But they aren’t victims of the wily Chinese, scheming to make them poor: In the story of the white working class’s descent into dysfunction, they are the victims and the villains both. RELATED: The White Ghetto: In Appalachia, The Country Is Beautiful and the Society is Broken, The Washington Post’s “Wonkbook” newsletter compared the counties Trump won in the   Super Tuesday primaries with the demographic data and found trends that will surprise no one who has been paying attention (and certainly no one, I hope, who has been reading this magazine). The life expectancies among    white Americans have been plummeting in an almost unprecedented fashion, a trend not seen on such a large scale since the collapse of the Soviet Union and the social anarchy that prevailed in Russia afterward. Trump counties had proportionally fewer people with college degrees. Trump counties had fewer people working. And the white people in Trump counties were likely to die younger. The causes of death were “increased rates of disease and ill health, increased drug overdose and abuse, and suicide,” the Post’s Wonkblog website reported. This is horrifyingly consistent with other findings. The manufacturing numbers  —   and the entire gloriously complex tale of globalization  —   go in fits and starts: a little improvement here, a little improvement there, and a radically better world in raw material terms (and let’s not sniff at those) every couple of decades. Go back and read the novels of the 1980s or watch The Brady Bunch and ask yourself why    suburban families living in large, comfortable homes and holding down prestigious jobs were worried about the price of butter and meat, and then ask yourself when was the last time you heard someone complain that he couldn’t afford a stick of butter. That change happened a little at a time, here and there. RELATED:    Deaths Are a Cultural Problem, The   numbers, on the other hand, came down on us like a meteor. Before the war, divorce had been such an alien phenomenon that it animated such   stories as The Gay Divorcee, a play in which a fictitious act of adultery had to be invented to move the plot forward. Divorce in 1960 was so rare as to carry a hint of scandalous glamour, which it kept throughout the 1970s and 1980s, with women’s magazines writing lifestyle pieces about informal weekday dinner parties for divorcées (the word itself is today faintly ludicrous) and men’s magazines celebrating divorce as a second adolescence. The divorce rate doubled over the span of a few decades  —   even as the marriage rate was declining. Add to that the violence of abortion, which fundamentally alters the relationship between men, women, and children, and what exactly “family” means to those of us born around the time Roe v. Wade was decided becomes a very difficult question. The concept of the nation as an extended family is the notion that separates   conservatism, with its roots in the   ideas that informed the American founding, from       European nationalism. In Europe, this is an idea popular with the Right: It is entirely unsurprising that Trump has enjoyed the endorsement of, among other European rightists,   Le Pen. In the United States, it is an idea  —   and an error  —   popular on both sides of the political divide: The distastefully squishy progressive writer George Lakoff argues that the American Right prefers a strict patriarchal model of the family and, therefore, a similar model of political life, while the Left is inclined toward the maternal and the nurturing. (  critics of free trade and free enterprise in the   world often speak of “nurturing” economic policies, because they do not wish to write the word “socialism. ”) But it is an idea that fits at best uneasily with the aspirations of American conservatism. One of the worst errors in public life is the common one of mistaking the metaphor for the thing itself. In reality  —   and reality is not optional  —   the president isn’t the national dad (Governor John Kasich’s insistence notwithstanding) and government is neither paternal nor maternal. The nation isn’t your family. Your family is your family. RELATED: The Buchanan Boys: The Trump Voters Aren’t a New Phenomenon, The metaphor points both ways: Nationalism may speak to a longing for lost national greatness, but in our own time, it speaks at least as strongly to the longing after  —   the great howling lamentation for  —   the ideal family that never was lost, because it never was formed. The Mikes of the world may be struggling to make it in the global economy, but what they really are shut out of is the traditional family. The current social regime of illegitimacy, serial monogamy, abortion, and liberal divorce has rendered traditional families optional, at best  —   the great majority of divorces are initiated by wives, not by husbands  —   and the welfare state has at least in part supplanted the Mikes in their role as providers, assuming that they have the wherewithal to fill that role in the first place. Traditional avenues for achieving respect, status, and permanence are lost to them. Milo Yiannopoulos of Breitbart London has done more to put homosexual camp in the service of   authoritarianism than any man has since the fellows at Hugo Boss sewed all those nifty SS uniforms. He refers to Trump  —   this will not surprise you  —   as “Daddy,”  . It is easy to imagine a generation of young men being raised without fathers and looking out the window like a kid in an   special, waiting for Daddy to come home. Many of them slip into harmless Clark Griswold —  ism, trying to provide for their own children the ideal families they themselves never had. But some of them end up grown men still staring out that window, waiting for the   figure they have spent their lives imagining, the protector and vindicator who will protect them, provide for them, and set things in order. RELATED: How   Abuse Unleashed a Heroin Epidemic, Dougherty cites the work of the conservative polemicist Sam Francis, one of those old   conservatives who very much embraced the paterfamilias model of government. His analysis, like mine, finds emotional and policy links between the Trump movement and its earlier incarnation, the Pat Buchanan movement. For Dougherty, Francis provides the philosophical link. He also provides the stylistic link: He was a kook. “Francis eventually turned into something resembling an   white nationalist,” Dougherty writes, “penning his most racist material under a pen name. Buchanan didn’t take Francis’s advice in 1996, not entirely. But 20 years later, [Francis’s book] From Household to Nation reads like a political manifesto from which the Trump campaign springs. ” From Household to Nation is typical in that it is based on a category error, asking economics to do what economics doesn’t: to provide the means “not simply to gain material satisfaction but to support families and the social institutions and identities that evolve from families as the fundamental units of human society and human action. ” Economics is about satisfying human wants, not defining them. The problem isn’t that Americans cannot sustain families, but that they do not wish to. It is therefore strange to me that Dougherty so fundamentally misdiagnoses the conservative reaction to Trump: “A Trump win,” he writes in another piece, “at least temporarily threatens the conservative movement, because it threatens to expose how inessential its ideas are to holding together the party. ” (Dougherty also equates the fundraising engaged in by conservative organizations with the Social Security fraud that sustains his fictional Mike, a characterization that indicates the emotional temperament at work here.) Of course there is careerism in the conservative movement, but to proceed as though it were impossible to imagine that conservatives oppose a man running (knowingly or not) on a Sam Francis platform because we oppose the loopy crackpot racist ideas of Sam Francis is to perform an intellectual disservice. It is also immoral. It is immoral because it perpetuates a lie: that the white working class that finds itself attracted to Trump has been victimized by outside forces. It hasn’t. The white middle class may like the idea of Trump as a giant pulsing humanoid middle finger held up in the face of the Cathedral, they may sing hymns to Trump the destroyer and whisper darkly about “globalists” and  —   odious, stupid term  —   “the Establishment,” but nobody did this to them. They failed themselves. RELATED:   Whites Have Moral Responsibilities  —   In Defense of Kevin Williamson, If you spend time in hardscrabble, white upstate New York, or eastern Kentucky, or my own native West Texas, and you take an honest look at the welfare dependency, the drug and alcohol addiction, the family anarchy  —   which is to say, the whelping of human children with all the respect and wisdom of a stray dog  —   you will come to an awful realization. It wasn’t Beijing. It wasn’t even Washington, as bad as Washington can be. It wasn’t immigrants from Mexico, excessive and problematic as our current immigration levels are. It wasn’t any of that. Nothing happened to them. There wasn’t some awful disaster. There wasn’t a war or a famine or a plague or a foreign occupation. Even the economic changes of the past few decades do very little to explain the dysfunction and negligence  —   and the incomprehensible malice  —   of poor white America. So the gypsum business in Garbutt ain’t what it used to be. There is more to life in the 21st century than wallboard and cheap sentimentality about how the Man closed the factories down. The truth about these dysfunctional, downscale communities is that they deserve to die. Economically, they are negative assets. Morally, they are indefensible. Forget all your cheap theatrical Bruce Springsteen crap. Forget your sanctimony about struggling Rust Belt factory towns and your conspiracy theories about the wily Orientals stealing our jobs. Forget your goddamned gypsum, and, if he has a problem with that, forget Ed Burke, too. The white American underclass is in thrall to a vicious, selfish culture whose main products are misery and used heroin needles. Donald Trump’s speeches make them feel good. So does OxyContin. What they need isn’t analgesics, literal or political. They need real opportunity, which means that they need real change, which means that they need  . If you want to live, get out of Garbutt.,',\n",
              " ' US Civil Rights Commission Will Observe Standing Rock\\xa0Standoff  WASHINGTON  —   The US Commission on Civil Rights will send a delegation to visit the campsite in North Dakota, where hundreds of people have gathered to protest the building of the Dakota Access Pipeline. The goal is to meet with tribal leaders, water protectors, as well as state and government authorities. The commission is the independent, bipartisan federal civil rights watchdog group, established by the 1957 Civil Rights Act. “That has become the seminal issue of the day when it comes to Native American rights,” commission chair Martin Castro, who will travel to Standing Rock, told BuzzFeed News. “This is to me the closest thing to what we’ve done since the time that we would go down in the 1960s to the Jim Crow South, to examine what’s going on on the ground, on an open active issue, where there is engagement between the community and the government. ” Commissioners voted in a Friday meeting to make the trip, after David Archambault II, chairman of the Standing Rock Sioux tribe, sent a letter inviting the commission to visit. The observers intend to travel there early next week. The commission is currently researching an update to its 2003 report, “Unmet Needs,” that examines Native American life as well as the government’s stewardship of the communities and their lands. “We cannot as a commission be looking at civil rights for Native Americans and unmet needs in Indian Country in the 21st century without now looking at what’s going on in Standing Rock,” Castro said. “Ideally we’d want to observe and meet with all parties involved, from the Army Corps of engineers to the protestor who just got hit with the water cannon,” Castro said. “Hopefully we will not only write a report about what we’ve seen, but also   with players involved to see how matters may be improved. ”The visit follows two weeks of mounting tensions at Standing Rock. On November 21, police drenched protestors with water cannons in frigid temperatures, leading to the hospitalization of at least 17 people. The Army Corps of Engineers last Friday said that it intends to close lands that include the campsite by Dec. 5. On Monday, the North Dakota governor Jack Dalrymple issued an emergency evacuation order that called on protestors to vacate campsite, citing incoming cold weather. State officials have threatened to fine people traveling to the site. US Senator Corey Booker this week called for a Department of Justice investigation into the police actions in Standing Rock. In the past, police have used tear gas, rubber bullets, and police dogs against people who have gathered at the site. At least 2, 000 veterans plan to travel to the site this weekend, in solidarity with the movement.  ',\n",
              " 'Venezuela hunts rogue helicopter attackers, Maduro foes suspicious  The Venezuelan government hunted on Wednesday for rogue policemen who attacked key installations by helicopter, but critics of President Nicolas Maduro suspected the raid may have been staged to justify repression. In extraordinary scenes over Caracas around sunset on Tuesday, the stolen helicopter fired shots at the Interior Ministry and dropped grenades on the Supreme Court, both viewed by Venezuela’s opposition as bastions of support for a dictator. Nobody was injured. Officials said special forces were seeking Oscar Perez, 36, a police pilot named as the mastermind of the raid by the helicopter that carried a banner saying ”Freedom!” In 2015, Perez   and starred in ”Death Suspended,” an action film in which he played the lead role as a government agent rescuing a kidnapped businessman. There was no sign on Wednesday of Perez, whom officials condemned as a ”psychopath” but the helicopter was found on Venezuela’s northern Caribbean coastline. ”We ask for maximum support to find this fanatic, extremist terrorist,” vice president Tareck El Aissami said. The attack exacerbated an already   political crisis in Venezuela after three months of opposition protests demanding general elections and fixes for the sinking economy. At least 76 people have died in the unrest since April, the latest a    man shot in the head near a protest in the Petare slum of Caracas, authorities said on Wednesday.  Hundreds more people have been injured and arrested in what Maduro terms an ongoing coup attempt with U. S. encouragement. The attack fed a conspiracy theory by opposition supporters that it may have been a government setup and overshadowed other drama on Tuesday, including the besieging of opposition legislators by gangs in the National Assembly. The helicopter raid also coincided with a judicial measure weakening the powers of dissident chief state prosecutor Luisa Ortega, who has emerged as a major challenger to Maduro. ”It seems like a movie,” said Julio Borges, leader of the   legislature, of the helicopter raid. ”Some people say it is a   some that it is real . .. Yesterday was full of contradictions . .. A thousand things are happening, but I summarize it like this: a government is decaying and rotting, while a nation is fighting for dignity.”  Though Perez posted a video on social media showing himself in front of four hooded armed men and claiming to represent a coalition of security and civilian officials rising up against ”tyranny,” there was no evidence of deeper support.  ”CHEAP SHOW” The government, however, accused the policemen of links to the CIA and to Miguel Rodriguez, a former interior minister and intelligence chief under Maduro and his predecessor Hugo Chavez, who recently broke with the government. ”I’m not at all convinced by the helicopter incident,” Rodriguez told Reuters on Wednesday, saying the figures behind Perez in the video looked like dummies and expressing surprise the helicopter could fly freely and also not injure anyone. ”Conclusion: a cheap show. Who gains from this? Only Nicolas for two reasons: to give credibility to his coup d’etat talk, and to blame Rodriguez,” he added, referring to himself. Around the time of the attack, the   Supreme Court expanded the role of the state ombudsman, a human rights guarantor who is closely allied with Maduro, by giving him powers previously held only by the state prosecutor’s office.     Opposition leaders described that as an attempt to supplant chief prosecutor Ortega, who has confronted both Maduro and the Supreme Court this year after splitting ranks. The Supreme Court on Wednesday evening said it approved a measure blocking Ortega from leaving the country, freezing her bank accounts, and summoning her to a July 4 hearing to discuss whether she has committed ”serious offenses.”  Adding to Venezuela’s   atmosphere, opposition supporters again took to the streets nationwide on Wednesday to barricade roads.  One opposition lawmaker, Juan Guaido, filmed himself bleeding from wounds he said were inflicted by rubber bullets.  Opposition supporters hope that cracks within government may swing the crisis their way, and have been delighted to see heavyweights like Ortega and Rodriguez oppose Maduro. Their main focus is to stop a July 30 vote called by Maduro to form a   known as a Constituent Assembly, with powers to rewrite the constitution and supersede other institutions. Maduro says the assembly is the only way to bring peace to Venezuela, but opponents say it is a sham vote intended solely to keep an unpopular government in power.  ”We can’t let July 30 happen, we mustn’t,” said children’s health worker Rosa Toro, 52, blocking a road with friends. ”We’re being governed by criminals, traffickers and thieves,” added lawyer Matias Perez, 40, protesting with a plastic trumpet. Government officials lined up on Wednesday to condemn the helicopter attack, insisting it was the work of a few individuals and not representative of wider dissent.  Foreign Minister Samuel Moncada complained about the lack of international condemnation of the attack, saying it contrasted with the barrage of foreign criticism of the government. ”In Europe it’s now eight at night, but we’ve not had any reaction from European Union countries,” he said of a bloc that has been strongly critical of Maduro in recent months. The minister rejected accusations that the attack was carried out by the government for its own purposes.  ”Who can believe we are that sophisticated? Sending someone to throw grenades, who can believe that?” he asked.        (Additional reporting by Eyanir Chinea, Silene Ramirez, Brian Ellsworth, Herbert Villaraga, Diego Ore, Corina Pons and Girish Gupta; Editing by Jeffrey Benkoe and Andrew Hay) SEOUL North Korea said on Wednesday its newly developed intercontinental ballistic missile (ICBM) can carry a large nuclear warhead, triggering a call by Washington for global action to hold it accountable for pursuing nuclear weapons. WASHINGTON U. S. President Donald Trump will get a chance to patch up   ties this week when he meets with NATO allies still rattled by his failure on an earlier trip to embrace the principle that an attack against one member is an attack against all. ',\n",
              " 'Fruit juice isn’t much better for you than soda. Let’s stop pretending otherwise.  One of the biggest public health wins of recent decades has been America’s slow shift away from soda.    With more awareness about the very strong correlation between guzzling sweet, fizzy drinks, and obesity and tooth decay, sales of beverages like   and Pepsi have slumped. But there’s pretty good evidence that Americans are still getting hoodwinked by juices and other sugary beverages.         ”Cola” refers to both   and   cola carbonates. ”Juice” covers all packaged juices from fruits or vegetables, including 100% juice, nectars ( % juice content) juice drinks (up to 24% juice content) and   drinks (no juice content). ”Sports and energy drinks” refers to drinks that promise to boost energy levels such as  Red Bull, Monster, and RockStar.    Check out this data from Euromonitor. Its analysis of US retail beverage sales over the past five years finds that while the soda category is shrinking, juice sales have held steady, and sales of energy and sports drinks have been growing. Here’s how the market looks in terms of volume (millions of liters) sold:         This article in BMJ Open demonstrated the extent of the problem: The researchers looked at how much of the American diet is composed of   foods and added sugars. They found that 58 percent of total energy intake  —   more than half of the calories Americans consume!  —   came from foods that are packed with lots of flavors, colors, and sweeteners. And almost 90 percent of the added sugars Americans consume came from heavily processed foods  —   the two main sources being soft drinks (17 percent) closely followed by fruit drinks (14 percent). (In this case, ”fruit drinks” refers to processed juices with added sugars.) To be clear: Soda remains a big public health threat. As Marion Nestle, a New York University professor and author of the new book Soda Politics. points out, ”Sales of [soda alternatives] are up, but not nearly so much as to compensate for the decline in Coke and Pepsi.” But the data suggests that Americans are finding new ways to pack calories into their diet through other sugary drinks. We should think of juice as soda without the fizz Most juices and sports drinks have as much or even more sugar than soda, as you can see in this chart from the Harvard School of Public Health:               You might think fruit juice is inherently healthier than soda because it comes from fruit. But that’s not always the case. I asked nutrition researchers this question, and they all pointed out that the sugar in fruit juice is more concentrated than it is in whole fruits. When you drink fruit juice, you get a mega dose of sugar the same way you do when you drink soda. ”Juices have some nutritional value when the sugars are not added. But people don’t drink all that much [natural fruit] juice  —   it’s too expensive. They drink juice drinks with added sugars,” said Nestle.  These juices drinks  —   like bottled cranberry or grape juices  —   are basically sugar water with artificial flavors and little nutritional benefit. And even pure fruit juices that deliver vitamins and nutrients  —   like freshly squeezed orange juice  —   also deliver a lot of calories and sugar.  That said, nutritionists aren’t arguing you have to avoid fruit juice entirely. Real fruit juices are nutritionally superior to sodas and can be part of a healthy diet  —   albeit in moderation, Nestle said. ”Juices, like any other source of liquid sugars, are best consumed in small amounts.”  We’re starting to tax soda  —   but not juice A handful of countries are moving to tax sugary drinks in an effort to fight obesity. But in some instances, the taxes continue to focus on soda, and overlook the huge quantities of sugar people are consuming in fruit juice. In Britain, for example, the government just announced a forthcoming sugary drinks tax  —   but it only applies to soft drinks with added sugar, and excludes all   beverages and fruit juices. (See the Treasury Department’s fact sheet on the soda tax). That means beverages like milkshakes and cranberry juices won’t be taxed even though they’re nearly as damaging to health from a nutrition standpoint.    Berkeley, California, has a tax on sugary drinks, but it also excludes sweetened milk products and 100 percent juices. Soda companies in the UK are considering legal action over the tax on the basis of discrimination, since the tax excludes other sugary drinks. They raise a fair point. If the taxes focused on sugar content and calories, many more beverage companies  —   makers of chocolate milk, energy drinks, and fruit juice  —   would be affected. But as Nestle pointed out, there are political reasons that doesn’t happen. ”A tax on sweetened milk,” she said, ”will bring down the wrath of the dairy industry, which no legislator wants to take on.” Correction: A previous version of this article incorrectly stated the details of exclusions on Berkeley’s soda tax.           ',\n",
              " 'Sessions won’t testify at congressional budget hearings but at Senate intelligence hearing instead  Attorney General Jeff Sessions, who had agreed to testify this week before the Senate and House appropriations committees about the Justice Department budget, wrote the chairmen of the committees Saturday and said he was sending his deputy to testify instead.  Sessions was scheduled to testify before Congress on Tuesday for the first time since he was confirmed as attorney general in February. In light of former FBI director James B. Comey’s testimony last week, Sessions was expected to get many questions from lawmakers about his contacts with Russian officials during the 2016 election campaign. Sessions wrote to the two chairmen that he would testify before the Senate Intelligence Committee on Tuesday instead. A Justice Department official said that committee hearing probably will be closed to the public.  In early March, The Washington Post reported that Sessions twice met with Russian Ambassador Sergey Kislyak during the campaign and did not disclose that to the Senate Judiciary Committee during his confirmation hearing in January. The next day, Sessions recused himself from the Russia investigation and said it would be overseen by his deputy attorney general, who last month appointed a special counsel to handle the probe.  [  Sessions recuses himself from Russia investigation probe]        (Victoria   Washington Post)   Sessions also was expected to get questions about his involvement in the firing of Comey and the news that he offered his resignation to President Trump at one point recently. “I previously accepted an invitation to testify on behalf of the Department of Justice before the House and Senate Appropriations Subcommittees about the department’s FY18 budget, which funds the department’s efforts in several important areas such as combating the opioid crisis and violent crime,” Sessions wrote to Sen. Richard C. Shelby ( .) chairman of the Appropriations subcommittee on commerce, justice, science and related agencies, and Rep. John Abney Culberson ( .) chairman of the House Appropriations subcommittee on commerce, justice, science and related agencies. “In light of reports regarding Mr. Comey’s recent testimony before the Senate Select Committee on Intelligence, it is important that I have an opportunity to address these matters in the appropriate forum,” Sessions wrote. “The Senate Intelligence Committee is the most appropriate forum for such matters, as it has been conducting an investigation and has access to relevant, classified information. ” Comey testified Thursday that the bureau had information about Sessions  —   before he recused himself from overseeing the investigation into Russian meddling in the 2016 election  —   that would have made it “problematic” for him to be involved in the probe.  [Comey said FBI information about Sessions would have made his involvement in Russia probe problematic]  Sessions wrote the chairmen that Deputy Attorney General Rod J. Rosenstein will take his place before both the House and Senate subcommittees to testify about the Justice Department’s budget.  Sessions said he was “pleased to accept” the invitation to appear before members of the Senate Select Committee on Tuesday. Spokesmen for the chairman and ranking minority member of the committee could not be reached to confirm whether the hearing will be open or closed to the public.       (Zoeann   Washington Post)   ']"
            ]
          },
          "metadata": {
            "tags": []
          },
          "execution_count": 19
        }
      ]
    },
    {
      "cell_type": "code",
      "metadata": {
        "id": "dH0EFhZAitgI",
        "colab_type": "code",
        "outputId": "de5af63c-5a43-48ae-8464-fe5896509c2b",
        "colab": {
          "base_uri": "https://localhost:8080/",
          "height": 35
        }
      },
      "source": [
        "len(small_text)"
      ],
      "execution_count": 20,
      "outputs": [
        {
          "output_type": "execute_result",
          "data": {
            "text/plain": [
              "13000"
            ]
          },
          "metadata": {
            "tags": []
          },
          "execution_count": 20
        }
      ]
    },
    {
      "cell_type": "markdown",
      "metadata": {
        "id": "e4K6F7sfBPF6",
        "colab_type": "text"
      },
      "source": [
        "## Clustering with tf-idf, k-means, and k-nn\n",
        "\n",
        "\n",
        "*   create tf-idf features\n",
        "*   cluster with k-means\n",
        "*   predidct with k-nn\n",
        "\n",
        "\n"
      ]
    },
    {
      "cell_type": "markdown",
      "metadata": {
        "id": "d_ZMQTurrcB3",
        "colab_type": "text"
      },
      "source": [
        "### Create Matrix of TF-IDF Features"
      ]
    },
    {
      "cell_type": "code",
      "metadata": {
        "id": "2hMvyiEgMB9s",
        "colab_type": "code",
        "colab": {}
      },
      "source": [
        "def preprocess_text(text):\n",
        "\n",
        "  # function to remove punctuation \n",
        "  def Punctuation(string): \n",
        "    return re.sub(r'[\\W_]', ' ', string)\n",
        "\n",
        "  # remove punctuation and perform tokenization\n",
        "  text = Punctuation(text.lower()).split()\n",
        "\n",
        "  # remove stop words and stem\n",
        "  stop_words = set(stopwords.words('english'))\n",
        "  stemmer = SnowballStemmer(\"english\")\n",
        "  text = Parallel(n_jobs=16)(delayed(stemmer.stem)(t) for t in text if not t in stop_words)\n",
        "\n",
        "  return text\n"
      ],
      "execution_count": 0,
      "outputs": []
    },
    {
      "cell_type": "code",
      "metadata": {
        "id": "BlMVZ3R6m3u4",
        "colab_type": "code",
        "colab": {}
      },
      "source": [
        "# instantiate tfidf vectorizer \n",
        "tfidf_vectorizer = TfidfVectorizer(max_features=5000, stop_words='english', use_idf=True, tokenizer=preprocess_text, ngram_range=(1,3))"
      ],
      "execution_count": 0,
      "outputs": []
    },
    {
      "cell_type": "code",
      "metadata": {
        "id": "ERDwOvRIqOzz",
        "colab_type": "code",
        "colab": {}
      },
      "source": [
        "# fit small_text to vectorizer (fit and transform)\n",
        "tfidf_matrix = tfidf_vectorizer.fit_transform(small_text)\n",
        "print(tfidf_matrix.shape)"
      ],
      "execution_count": 0,
      "outputs": []
    },
    {
      "cell_type": "code",
      "metadata": {
        "id": "qQdkuVXpsGS4",
        "colab_type": "code",
        "colab": {}
      },
      "source": [
        "# reduce memory \n",
        "tfidf_matrix = tfidf_matrix.astype(np.float32)"
      ],
      "execution_count": 0,
      "outputs": []
    },
    {
      "cell_type": "markdown",
      "metadata": {
        "id": "buQTeidTrTdd",
        "colab_type": "text"
      },
      "source": [
        "### Run K-Means Clustering "
      ]
    },
    {
      "cell_type": "code",
      "metadata": {
        "id": "qZOcpt_JzrJ5",
        "colab_type": "code",
        "colab": {}
      },
      "source": [
        "# set 25 clusters\n",
        "num_clusters = 25\n",
        "\n",
        "# instantiate k-means (set seed to 10)\n",
        "km = KMeans(n_clusters=num_clusters, random_state=10)\n",
        "\n",
        "# fit tf-idf features to k-means\n",
        "km.fit(tfidf_matrix)\n",
        "\n",
        "# list of cluster assignments \n",
        "clusters = km.labels_.tolist()"
      ],
      "execution_count": 0,
      "outputs": []
    },
    {
      "cell_type": "code",
      "metadata": {
        "id": "PGgSlunJBdyB",
        "colab_type": "code",
        "colab": {}
      },
      "source": [
        "# cosine similarities for each row with respective cluster center\n",
        "def cluster_sim(i, label):\n",
        " return cosine_similarity(tfidf_matrix[i].toarray(), km.cluster_centers_[label].reshape(1, -1))[0][0]\n",
        "\n",
        "cos_sim = Parallel(n_jobs=16)(delayed(cluster_sim)(i, label) for i,label in enumerate(km.labels_))"
      ],
      "execution_count": 0,
      "outputs": []
    },
    {
      "cell_type": "code",
      "metadata": {
        "id": "ZvAUqB9N89BL",
        "colab_type": "code",
        "colab": {}
      },
      "source": [
        "# sum of squared distances of samples to their closest cluster center.\n",
        "km.inertia_"
      ],
      "execution_count": 0,
      "outputs": []
    },
    {
      "cell_type": "code",
      "metadata": {
        "id": "N7g5G8jD6KMT",
        "colab_type": "code",
        "colab": {}
      },
      "source": [
        "# dataframe with title, cluster, and cosine similarity \n",
        "title_data = pd.DataFrame({'title':small_data.title, 'cluster':clusters, 'cos_sim':cos_sim})\n",
        "\n",
        "title_data.shape"
      ],
      "execution_count": 0,
      "outputs": []
    },
    {
      "cell_type": "code",
      "metadata": {
        "id": "W0jSRaADmGRv",
        "colab_type": "code",
        "colab": {}
      },
      "source": [
        "title_data.head()"
      ],
      "execution_count": 0,
      "outputs": []
    },
    {
      "cell_type": "code",
      "metadata": {
        "id": "BCKbniucOLbA",
        "colab_type": "code",
        "colab": {}
      },
      "source": [
        "# inspect titles with highest cosine similarity in clusters \n",
        "top_5 = title_data.groupby('cluster')['cos_sim'].nlargest(5)\n",
        "for i,ind in top_5.index:\n",
        "  print(\"cluster\", i)\n",
        "  print(just_titles[ind])\n",
        "  print('-------------')"
      ],
      "execution_count": 0,
      "outputs": []
    },
    {
      "cell_type": "markdown",
      "metadata": {
        "id": "AgFJfTEFwFDo",
        "colab_type": "text"
      },
      "source": [
        "### Predict Cluster of Input"
      ]
    },
    {
      "cell_type": "code",
      "metadata": {
        "id": "szMoBqi1wSuD",
        "colab_type": "code",
        "colab": {}
      },
      "source": [
        "input_topic = [\"Hillary Clinton defends handling of Benghazi attack\", \"Women's March Highlights\", \"Hillary Clinton emails\"]"
      ],
      "execution_count": 0,
      "outputs": []
    },
    {
      "cell_type": "code",
      "metadata": {
        "id": "Y4feyPvMwObG",
        "colab_type": "code",
        "colab": {}
      },
      "source": [
        "# run tfidf vectorizer on input (transform)\n",
        "tfidf_input = tfidf_vectorizer.transform(input_topic)\n",
        "\n",
        "# function to make tfidf features into list for k-nn \n",
        "def make_list(features, i): \n",
        "  return features.getrow(i).toarray()[0].tolist()\n",
        "\n",
        "# make list of tfidf_input\n",
        "tfidf_input = Parallel(n_jobs=16)(delayed(make_list)(tfidf_input, i) for i in range(tfidf_input.shape[0]))"
      ],
      "execution_count": 0,
      "outputs": []
    },
    {
      "cell_type": "code",
      "metadata": {
        "id": "pWK5pgF-s8JX",
        "colab_type": "code",
        "colab": {}
      },
      "source": [
        "# make list of tfidf_matrix\n",
        "tfidf_list = Parallel(n_jobs=16)(delayed(make_list)(tfidf_matrix, i) for i in range(tfidf_matrix.shape[0]))\n"
      ],
      "execution_count": 0,
      "outputs": []
    },
    {
      "cell_type": "code",
      "metadata": {
        "id": "hcdaRmCDlnXt",
        "colab_type": "code",
        "colab": {}
      },
      "source": [
        "np.random.seed(5)\n",
        "X_train = tfidf_list\n",
        "y_train = title_data.cluster\n",
        "X_test  = tfidf_input\n",
        "\n",
        "# create and fit a nearest-neighbor classifier\n",
        "from sklearn.neighbors import KNeighborsClassifier\n",
        "knn = KNeighborsClassifier()\n",
        "knn.fit(X_train, y_train) \n",
        "\n",
        "res = knn.predict(X_test)"
      ],
      "execution_count": 0,
      "outputs": []
    },
    {
      "cell_type": "code",
      "metadata": {
        "id": "AuXKhKub7Ov_",
        "colab_type": "code",
        "colab": {}
      },
      "source": [
        "print(res)"
      ],
      "execution_count": 0,
      "outputs": []
    },
    {
      "cell_type": "code",
      "metadata": {
        "id": "yR_arJegAV15",
        "colab_type": "code",
        "colab": {}
      },
      "source": [
        "for i,ind in top_5.index:\n",
        "  if (i==8) | (i==11):\n",
        "    print(\"cluster\", i)\n",
        "    print(just_titles[ind])\n",
        "    print('-------------')\n",
        "\n",
        "# [\"Hillary Clinton defends handling of Benghazi attack\", \"Women's March Highlights\", \"Hillary Clinton emails\"]"
      ],
      "execution_count": 0,
      "outputs": []
    },
    {
      "cell_type": "code",
      "metadata": {
        "id": "waw-GjFzpNET",
        "colab_type": "code",
        "colab": {}
      },
      "source": [
        ""
      ],
      "execution_count": 0,
      "outputs": []
    },
    {
      "cell_type": "markdown",
      "metadata": {
        "id": "tK-5qkWX0fcK",
        "colab_type": "text"
      },
      "source": [
        "## Clustering with the Universal Sentence Encoder \n",
        "\n",
        "run seperately from tf-idf"
      ]
    },
    {
      "cell_type": "markdown",
      "metadata": {
        "id": "dPzMmZWiCT4C",
        "colab_type": "text"
      },
      "source": [
        "### Create Embeddings on Training Data"
      ]
    },
    {
      "cell_type": "code",
      "metadata": {
        "id": "WaDWR7ECPODW",
        "colab_type": "code",
        "colab": {
          "base_uri": "https://localhost:8080/",
          "height": 35
        },
        "outputId": "ed0e8f8e-7534-4a6c-ccd5-004d9b562dae"
      },
      "source": [
        "!pwd"
      ],
      "execution_count": 23,
      "outputs": [
        {
          "output_type": "stream",
          "text": [
            "/home/silvsilva/w266Final\r\n"
          ],
          "name": "stdout"
        }
      ]
    },
    {
      "cell_type": "code",
      "metadata": {
        "id": "c1szPzWf0ohZ",
        "colab_type": "code",
        "colab": {}
      },
      "source": [
        "# load the Universal Sentence Encoder's TF Hub module\n",
        "\n",
        "#module_url = \"https://tfhub.dev/google/universal-sentence-encoder/4\" #param [\"https://tfhub.dev/google/universal-sentence-encoder/4\", \"https://tfhub.dev/google/universal-sentence-encoder-large/5\"]\n",
        "#model = hub.load(module_url)\n",
        "#print (\"module %s loaded\" % module_url)\n",
        "\n",
        "# download model from https://tfhub.dev/google/universal-sentence-encoder/4 and save locally \n",
        "model = hub.load(\"tmp\")\n"
      ],
      "execution_count": 0,
      "outputs": []
    },
    {
      "cell_type": "code",
      "metadata": {
        "id": "I89VehR_0osy",
        "colab_type": "code",
        "colab": {}
      },
      "source": [
        "# reduce logging output\n",
        "logging.set_verbosity(logging.ERROR)\n",
        "\n",
        "# compute a representation for each article\n",
        "small_embeddings = model(small_text)"
      ],
      "execution_count": 0,
      "outputs": []
    },
    {
      "cell_type": "code",
      "metadata": {
        "id": "yQIBcTS88NEu",
        "colab_type": "code",
        "colab": {}
      },
      "source": [
        "# semantic similarity of two sentences can be trivially computed as the inner product of the encodings\n",
        "corr = np.inner(small_embeddings, small_embeddings)"
      ],
      "execution_count": 0,
      "outputs": []
    },
    {
      "cell_type": "code",
      "metadata": {
        "id": "3Nn_UqU_AxFN",
        "colab_type": "code",
        "outputId": "534d04a7-dcb4-42e9-8260-53b2c2108fb9",
        "colab": {
          "base_uri": "https://localhost:8080/",
          "height": 973
        }
      },
      "source": [
        "# data frame of titles and semantic similarities\n",
        "corr_df = pd.DataFrame(corr)\n",
        "corr_df.columns = just_titles\n",
        "corr_df.index = just_titles\n",
        "\n",
        "corr_df.head()"
      ],
      "execution_count": 28,
      "outputs": [
        {
          "output_type": "execute_result",
          "data": {
            "text/plain": [
              "                                                    Chaos in the Family, Chaos in the State: The White Working Class’s Dysfunction  \\\n",
              "Chaos in the Family, Chaos in the State: The Wh...                                           1.000000                                \n",
              " US Civil Rights Commission Will Observe Standi...                                           0.291457                                \n",
              "Venezuela hunts rogue helicopter attackers, Mad...                                           0.336936                                \n",
              "Fruit juice isn’t much better for you than soda...                                           0.256971                                \n",
              "Sessions won’t testify at congressional budget ...                                           0.181461                                \n",
              "\n",
              "                                                     US Civil Rights Commission Will Observe Standing Rock Standoff  \\\n",
              "Chaos in the Family, Chaos in the State: The Wh...                                           0.291457                 \n",
              " US Civil Rights Commission Will Observe Standi...                                           1.000000                 \n",
              "Venezuela hunts rogue helicopter attackers, Mad...                                           0.543982                 \n",
              "Fruit juice isn’t much better for you than soda...                                           0.109070                 \n",
              "Sessions won’t testify at congressional budget ...                                           0.411541                 \n",
              "\n",
              "                                                    Venezuela hunts rogue helicopter attackers, Maduro foes suspicious  \\\n",
              "Chaos in the Family, Chaos in the State: The Wh...                                           0.336936                    \n",
              " US Civil Rights Commission Will Observe Standi...                                           0.543982                    \n",
              "Venezuela hunts rogue helicopter attackers, Mad...                                           1.000000                    \n",
              "Fruit juice isn’t much better for you than soda...                                           0.106961                    \n",
              "Sessions won’t testify at congressional budget ...                                           0.405647                    \n",
              "\n",
              "                                                    Fruit juice isn’t much better for you than soda. Let’s stop pretending otherwise.  \\\n",
              "Chaos in the Family, Chaos in the State: The Wh...                                           0.256971                                   \n",
              " US Civil Rights Commission Will Observe Standi...                                           0.109070                                   \n",
              "Venezuela hunts rogue helicopter attackers, Mad...                                           0.106961                                   \n",
              "Fruit juice isn’t much better for you than soda...                                           0.999999                                   \n",
              "Sessions won’t testify at congressional budget ...                                           0.052951                                   \n",
              "\n",
              "                                                    Sessions won’t testify at congressional budget hearings but at Senate intelligence hearing instead  \\\n",
              "Chaos in the Family, Chaos in the State: The Wh...                                           0.181461                                                    \n",
              " US Civil Rights Commission Will Observe Standi...                                           0.411541                                                    \n",
              "Venezuela hunts rogue helicopter attackers, Mad...                                           0.405647                                                    \n",
              "Fruit juice isn’t much better for you than soda...                                           0.052951                                                    \n",
              "Sessions won’t testify at congressional budget ...                                           1.000000                                                    \n",
              "\n",
              "                                                    Qatar: UAE and Saudi Arabia step up pressure in diplomatic crisis  \\\n",
              "Chaos in the Family, Chaos in the State: The Wh...                                           0.282036                   \n",
              " US Civil Rights Commission Will Observe Standi...                                           0.422529                   \n",
              "Venezuela hunts rogue helicopter attackers, Mad...                                           0.540752                   \n",
              "Fruit juice isn’t much better for you than soda...                                           0.109257                   \n",
              "Sessions won’t testify at congressional budget ...                                           0.384612                   \n",
              "\n",
              "                                                    ’The 4-Hour Workweek’ author says a 3-step process he learned from Tony Robbins drastically improved his life  \\\n",
              "Chaos in the Family, Chaos in the State: The Wh...                                           0.389551                                                               \n",
              " US Civil Rights Commission Will Observe Standi...                                           0.224046                                                               \n",
              "Venezuela hunts rogue helicopter attackers, Mad...                                           0.184615                                                               \n",
              "Fruit juice isn’t much better for you than soda...                                           0.242693                                                               \n",
              "Sessions won’t testify at congressional budget ...                                           0.176325                                                               \n",
              "\n",
              "                                                    Rick Perry Attacked for Keeping His Word  \\\n",
              "Chaos in the Family, Chaos in the State: The Wh...                                  0.316919   \n",
              " US Civil Rights Commission Will Observe Standi...                                  0.271750   \n",
              "Venezuela hunts rogue helicopter attackers, Mad...                                  0.287032   \n",
              "Fruit juice isn’t much better for you than soda...                                  0.108912   \n",
              "Sessions won’t testify at congressional budget ...                                  0.368784   \n",
              "\n",
              "                                                    Watch how a mathematician explains an astonishing coincidence  \\\n",
              "Chaos in the Family, Chaos in the State: The Wh...                                           0.289691               \n",
              " US Civil Rights Commission Will Observe Standi...                                           0.141546               \n",
              "Venezuela hunts rogue helicopter attackers, Mad...                                           0.161188               \n",
              "Fruit juice isn’t much better for you than soda...                                           0.146040               \n",
              "Sessions won’t testify at congressional budget ...                                           0.109351               \n",
              "\n",
              "                                                    Second baby bald eagle begins hatching process at National Arboretum  \\\n",
              "Chaos in the Family, Chaos in the State: The Wh...                                           0.295462                      \n",
              " US Civil Rights Commission Will Observe Standi...                                           0.381025                      \n",
              "Venezuela hunts rogue helicopter attackers, Mad...                                           0.340552                      \n",
              "Fruit juice isn’t much better for you than soda...                                           0.155383                      \n",
              "Sessions won’t testify at congressional budget ...                                           0.225344                      \n",
              "\n",
              "                                                    ...  \\\n",
              "Chaos in the Family, Chaos in the State: The Wh...  ...   \n",
              " US Civil Rights Commission Will Observe Standi...  ...   \n",
              "Venezuela hunts rogue helicopter attackers, Mad...  ...   \n",
              "Fruit juice isn’t much better for you than soda...  ...   \n",
              "Sessions won’t testify at congressional budget ...  ...   \n",
              "\n",
              "                                                    McDonald’s, Chick-fil-A, and Subway are making changes to profit off the shifting definition of ’healthy’  \\\n",
              "Chaos in the Family, Chaos in the State: The Wh...                                           0.217885                                                           \n",
              " US Civil Rights Commission Will Observe Standi...                                           0.059385                                                           \n",
              "Venezuela hunts rogue helicopter attackers, Mad...                                           0.084700                                                           \n",
              "Fruit juice isn’t much better for you than soda...                                           0.344664                                                           \n",
              "Sessions won’t testify at congressional budget ...                                           0.033626                                                           \n",
              "\n",
              "                                                    Bernie says the AP twisted his ‘messy’ convention prediction  \\\n",
              "Chaos in the Family, Chaos in the State: The Wh...                                           0.347041              \n",
              " US Civil Rights Commission Will Observe Standi...                                           0.298766              \n",
              "Venezuela hunts rogue helicopter attackers, Mad...                                           0.344075              \n",
              "Fruit juice isn’t much better for you than soda...                                           0.227382              \n",
              "Sessions won’t testify at congressional budget ...                                           0.316896              \n",
              "\n",
              "                                                     Nevada’s Joe Heck Aims to Keep the Senate Republican  \\\n",
              "Chaos in the Family, Chaos in the State: The Wh...                                           0.459125       \n",
              " US Civil Rights Commission Will Observe Standi...                                           0.349619       \n",
              "Venezuela hunts rogue helicopter attackers, Mad...                                           0.400920       \n",
              "Fruit juice isn’t much better for you than soda...                                           0.186247       \n",
              "Sessions won’t testify at congressional budget ...                                           0.351867       \n",
              "\n",
              "                                                    Donald Trump: John McCain and Lindsey Graham ‘Looking to Start World War III’  \\\n",
              "Chaos in the Family, Chaos in the State: The Wh...                                           0.317545                               \n",
              " US Civil Rights Commission Will Observe Standi...                                           0.275823                               \n",
              "Venezuela hunts rogue helicopter attackers, Mad...                                           0.310918                               \n",
              "Fruit juice isn’t much better for you than soda...                                           0.101332                               \n",
              "Sessions won’t testify at congressional budget ...                                           0.394767                               \n",
              "\n",
              "                                                    Radiohead Announces New Album, Hear Another New Song  \\\n",
              "Chaos in the Family, Chaos in the State: The Wh...                                           0.065338      \n",
              " US Civil Rights Commission Will Observe Standi...                                           0.209703      \n",
              "Venezuela hunts rogue helicopter attackers, Mad...                                           0.255471      \n",
              "Fruit juice isn’t much better for you than soda...                                           0.064881      \n",
              "Sessions won’t testify at congressional budget ...                                           0.222523      \n",
              "\n",
              "                                                    Roger Federer and Rafael Nadal roll back years for unexpected encore  \\\n",
              "Chaos in the Family, Chaos in the State: The Wh...                                           0.159626                      \n",
              " US Civil Rights Commission Will Observe Standi...                                           0.112333                      \n",
              "Venezuela hunts rogue helicopter attackers, Mad...                                           0.267033                      \n",
              "Fruit juice isn’t much better for you than soda...                                           0.121565                      \n",
              "Sessions won’t testify at congressional budget ...                                           0.173553                      \n",
              "\n",
              "                                                    Why voters like She’s Not Trump  \\\n",
              "Chaos in the Family, Chaos in the State: The Wh...                         0.458244   \n",
              " US Civil Rights Commission Will Observe Standi...                         0.268490   \n",
              "Venezuela hunts rogue helicopter attackers, Mad...                         0.259199   \n",
              "Fruit juice isn’t much better for you than soda...                         0.248952   \n",
              "Sessions won’t testify at congressional budget ...                         0.287082   \n",
              "\n",
              "                                                    Advanced Placement Tests To Hide History of Religion and Islamic Jihad in Europe   \\\n",
              "Chaos in the Family, Chaos in the State: The Wh...                                           0.456368                                   \n",
              " US Civil Rights Commission Will Observe Standi...                                           0.271677                                   \n",
              "Venezuela hunts rogue helicopter attackers, Mad...                                           0.362642                                   \n",
              "Fruit juice isn’t much better for you than soda...                                           0.207818                                   \n",
              "Sessions won’t testify at congressional budget ...                                           0.243409                                   \n",
              "\n",
              "                                                    Little Simz  \\\n",
              "Chaos in the Family, Chaos in the State: The Wh...     0.228482   \n",
              " US Civil Rights Commission Will Observe Standi...     0.186529   \n",
              "Venezuela hunts rogue helicopter attackers, Mad...     0.265640   \n",
              "Fruit juice isn’t much better for you than soda...     0.171043   \n",
              "Sessions won’t testify at congressional budget ...     0.216823   \n",
              "\n",
              "                                                    Wilhelmina to feature transgender model this fall  \n",
              "Chaos in the Family, Chaos in the State: The Wh...                                           0.326126  \n",
              " US Civil Rights Commission Will Observe Standi...                                           0.228896  \n",
              "Venezuela hunts rogue helicopter attackers, Mad...                                           0.168313  \n",
              "Fruit juice isn’t much better for you than soda...                                           0.204495  \n",
              "Sessions won’t testify at congressional budget ...                                           0.191981  \n",
              "\n",
              "[5 rows x 13000 columns]"
            ],
            "text/html": [
              "<div>\n",
              "<style scoped>\n",
              "    .dataframe tbody tr th:only-of-type {\n",
              "        vertical-align: middle;\n",
              "    }\n",
              "\n",
              "    .dataframe tbody tr th {\n",
              "        vertical-align: top;\n",
              "    }\n",
              "\n",
              "    .dataframe thead th {\n",
              "        text-align: right;\n",
              "    }\n",
              "</style>\n",
              "<table border=\"1\" class=\"dataframe\">\n",
              "  <thead>\n",
              "    <tr style=\"text-align: right;\">\n",
              "      <th></th>\n",
              "      <th>Chaos in the Family, Chaos in the State: The White Working Class’s Dysfunction</th>\n",
              "      <th>US Civil Rights Commission Will Observe Standing Rock Standoff</th>\n",
              "      <th>Venezuela hunts rogue helicopter attackers, Maduro foes suspicious</th>\n",
              "      <th>Fruit juice isn’t much better for you than soda. Let’s stop pretending otherwise.</th>\n",
              "      <th>Sessions won’t testify at congressional budget hearings but at Senate intelligence hearing instead</th>\n",
              "      <th>Qatar: UAE and Saudi Arabia step up pressure in diplomatic crisis</th>\n",
              "      <th>’The 4-Hour Workweek’ author says a 3-step process he learned from Tony Robbins drastically improved his life</th>\n",
              "      <th>Rick Perry Attacked for Keeping His Word</th>\n",
              "      <th>Watch how a mathematician explains an astonishing coincidence</th>\n",
              "      <th>Second baby bald eagle begins hatching process at National Arboretum</th>\n",
              "      <th>...</th>\n",
              "      <th>McDonald’s, Chick-fil-A, and Subway are making changes to profit off the shifting definition of ’healthy’</th>\n",
              "      <th>Bernie says the AP twisted his ‘messy’ convention prediction</th>\n",
              "      <th>Nevada’s Joe Heck Aims to Keep the Senate Republican</th>\n",
              "      <th>Donald Trump: John McCain and Lindsey Graham ‘Looking to Start World War III’</th>\n",
              "      <th>Radiohead Announces New Album, Hear Another New Song</th>\n",
              "      <th>Roger Federer and Rafael Nadal roll back years for unexpected encore</th>\n",
              "      <th>Why voters like She’s Not Trump</th>\n",
              "      <th>Advanced Placement Tests To Hide History of Religion and Islamic Jihad in Europe</th>\n",
              "      <th>Little Simz</th>\n",
              "      <th>Wilhelmina to feature transgender model this fall</th>\n",
              "    </tr>\n",
              "  </thead>\n",
              "  <tbody>\n",
              "    <tr>\n",
              "      <th>Chaos in the Family, Chaos in the State: The White Working Class’s Dysfunction</th>\n",
              "      <td>1.000000</td>\n",
              "      <td>0.291457</td>\n",
              "      <td>0.336936</td>\n",
              "      <td>0.256971</td>\n",
              "      <td>0.181461</td>\n",
              "      <td>0.282036</td>\n",
              "      <td>0.389551</td>\n",
              "      <td>0.316919</td>\n",
              "      <td>0.289691</td>\n",
              "      <td>0.295462</td>\n",
              "      <td>...</td>\n",
              "      <td>0.217885</td>\n",
              "      <td>0.347041</td>\n",
              "      <td>0.459125</td>\n",
              "      <td>0.317545</td>\n",
              "      <td>0.065338</td>\n",
              "      <td>0.159626</td>\n",
              "      <td>0.458244</td>\n",
              "      <td>0.456368</td>\n",
              "      <td>0.228482</td>\n",
              "      <td>0.326126</td>\n",
              "    </tr>\n",
              "    <tr>\n",
              "      <th>US Civil Rights Commission Will Observe Standing Rock Standoff</th>\n",
              "      <td>0.291457</td>\n",
              "      <td>1.000000</td>\n",
              "      <td>0.543982</td>\n",
              "      <td>0.109070</td>\n",
              "      <td>0.411541</td>\n",
              "      <td>0.422529</td>\n",
              "      <td>0.224046</td>\n",
              "      <td>0.271750</td>\n",
              "      <td>0.141546</td>\n",
              "      <td>0.381025</td>\n",
              "      <td>...</td>\n",
              "      <td>0.059385</td>\n",
              "      <td>0.298766</td>\n",
              "      <td>0.349619</td>\n",
              "      <td>0.275823</td>\n",
              "      <td>0.209703</td>\n",
              "      <td>0.112333</td>\n",
              "      <td>0.268490</td>\n",
              "      <td>0.271677</td>\n",
              "      <td>0.186529</td>\n",
              "      <td>0.228896</td>\n",
              "    </tr>\n",
              "    <tr>\n",
              "      <th>Venezuela hunts rogue helicopter attackers, Maduro foes suspicious</th>\n",
              "      <td>0.336936</td>\n",
              "      <td>0.543982</td>\n",
              "      <td>1.000000</td>\n",
              "      <td>0.106961</td>\n",
              "      <td>0.405647</td>\n",
              "      <td>0.540752</td>\n",
              "      <td>0.184615</td>\n",
              "      <td>0.287032</td>\n",
              "      <td>0.161188</td>\n",
              "      <td>0.340552</td>\n",
              "      <td>...</td>\n",
              "      <td>0.084700</td>\n",
              "      <td>0.344075</td>\n",
              "      <td>0.400920</td>\n",
              "      <td>0.310918</td>\n",
              "      <td>0.255471</td>\n",
              "      <td>0.267033</td>\n",
              "      <td>0.259199</td>\n",
              "      <td>0.362642</td>\n",
              "      <td>0.265640</td>\n",
              "      <td>0.168313</td>\n",
              "    </tr>\n",
              "    <tr>\n",
              "      <th>Fruit juice isn’t much better for you than soda. Let’s stop pretending otherwise.</th>\n",
              "      <td>0.256971</td>\n",
              "      <td>0.109070</td>\n",
              "      <td>0.106961</td>\n",
              "      <td>0.999999</td>\n",
              "      <td>0.052951</td>\n",
              "      <td>0.109257</td>\n",
              "      <td>0.242693</td>\n",
              "      <td>0.108912</td>\n",
              "      <td>0.146040</td>\n",
              "      <td>0.155383</td>\n",
              "      <td>...</td>\n",
              "      <td>0.344664</td>\n",
              "      <td>0.227382</td>\n",
              "      <td>0.186247</td>\n",
              "      <td>0.101332</td>\n",
              "      <td>0.064881</td>\n",
              "      <td>0.121565</td>\n",
              "      <td>0.248952</td>\n",
              "      <td>0.207818</td>\n",
              "      <td>0.171043</td>\n",
              "      <td>0.204495</td>\n",
              "    </tr>\n",
              "    <tr>\n",
              "      <th>Sessions won’t testify at congressional budget hearings but at Senate intelligence hearing instead</th>\n",
              "      <td>0.181461</td>\n",
              "      <td>0.411541</td>\n",
              "      <td>0.405647</td>\n",
              "      <td>0.052951</td>\n",
              "      <td>1.000000</td>\n",
              "      <td>0.384612</td>\n",
              "      <td>0.176325</td>\n",
              "      <td>0.368784</td>\n",
              "      <td>0.109351</td>\n",
              "      <td>0.225344</td>\n",
              "      <td>...</td>\n",
              "      <td>0.033626</td>\n",
              "      <td>0.316896</td>\n",
              "      <td>0.351867</td>\n",
              "      <td>0.394767</td>\n",
              "      <td>0.222523</td>\n",
              "      <td>0.173553</td>\n",
              "      <td>0.287082</td>\n",
              "      <td>0.243409</td>\n",
              "      <td>0.216823</td>\n",
              "      <td>0.191981</td>\n",
              "    </tr>\n",
              "  </tbody>\n",
              "</table>\n",
              "<p>5 rows × 13000 columns</p>\n",
              "</div>"
            ]
          },
          "metadata": {
            "tags": []
          },
          "execution_count": 28
        }
      ]
    },
    {
      "cell_type": "code",
      "metadata": {
        "id": "BzfcHB1YBFd-",
        "colab_type": "code",
        "outputId": "eb3caa65-87b3-4892-92bb-04e4be83999b",
        "colab": {
          "base_uri": "https://localhost:8080/",
          "height": 449
        }
      },
      "source": [
        "# function to return the column index of the top five values in a row of a dataframe\n",
        "def find_top5ind(df, i):\n",
        "  return list(list(zip(*heapq.nlargest(5, enumerate(df.iloc[i,:]), key=operator.itemgetter(1))))[0])\n",
        "\n",
        "# function to return the top 5 values in a list\n",
        "def find_top5(lst, ind):\n",
        "  return [lst[i] for i in ind]\n",
        "\n",
        "# find index of 5 most similar titles \n",
        "top5_ind = Parallel(n_jobs=16)(delayed(find_top5ind)(corr_df, i) for i in range(len(corr_df)))\n",
        "\n",
        "# show most similar titles -- sanity check\n",
        "top5 = Parallel(n_jobs=16)(delayed(find_top5)(just_titles, ind) for ind in top5_ind)\n",
        "\n",
        "top5[:5]"
      ],
      "execution_count": 29,
      "outputs": [
        {
          "output_type": "execute_result",
          "data": {
            "text/plain": [
              "[['Chaos in the Family, Chaos in the State: The White Working Class’s Dysfunction',\n",
              "  'After Trump, conservatives should stop longing for the past — and learn a little humility',\n",
              "  'The alt-right is more than warmed-over white supremacy. It’s that, but way way weirder.',\n",
              "  'The Return of ‘Street Corner Conservatism’',\n",
              "  'Liberals should get behind marriage (Opinion)'],\n",
              " [' US Civil Rights Commission Will Observe Standing Rock\\xa0Standoff',\n",
              "  ' Cory Booker Calls For Federal Investigation Into Police Tactics At Dakota Access\\xa0Pipeline',\n",
              "  'Army will close Dakota pipeline protesters’ campsite, Sioux leader\\xa0says',\n",
              "  'Dakota Access Pipeline protest site is cleared',\n",
              "  'Protesters, Police Still Clashing Over Disputed North Dakota Pipeline'],\n",
              " ['Venezuela hunts rogue helicopter attackers, Maduro foes suspicious',\n",
              "  'Venezuelan opposition blocks streets to protest Maduro power shakeup',\n",
              "  'Protester dies, minister sacked after Paraguay re-election vote',\n",
              "  'Venezuela Erupts In ’Mother Of All Protests’ As Anti-Maduro Sentiment Seethes',\n",
              "  'Confusion In Venezuela After Helicopter Attack On Supreme Court'],\n",
              " ['Fruit juice isn’t much better for you than soda. Let’s stop pretending otherwise.',\n",
              "  'Souring On Sweet? Voters In 4 Cities Pass Soda Tax Measures',\n",
              "  'Tax Soda To Fight Obesity, WHO Urges Nations Around The Globe',\n",
              "  'How The Food Industry Manipulates Taste Buds With ’Salt Sugar Fat’',\n",
              "  ' Nutrition Labels Will Now Show Calories For The Whole Tub Of Ice\\xa0Cream'],\n",
              " ['Sessions won’t testify at congressional budget hearings but at Senate intelligence hearing instead',\n",
              "  'Feinstein calls for investigation of ’all matters related to obstruction of justice’',\n",
              "  'Jeff Sessions Pushes Back On Parts Of Comey’s Testimony',\n",
              "  'Top Democrat calls for investigation of Loretta Lynch’s Clinton\\xa0probe',\n",
              "  ' Jeff Sessions Recuses Himself From Any Federal Investigation Into The Presidential Election']]"
            ]
          },
          "metadata": {
            "tags": []
          },
          "execution_count": 29
        }
      ]
    },
    {
      "cell_type": "markdown",
      "metadata": {
        "id": "0BoZUgwkSxqv",
        "colab_type": "text"
      },
      "source": [
        "### Assign Cluster to Input"
      ]
    },
    {
      "cell_type": "code",
      "metadata": {
        "id": "dR1IAgUzpzx_",
        "colab_type": "code",
        "colab": {}
      },
      "source": [
        "# examples of user given inputs\n",
        "input_topic = [\"Hillary Clinton defends handling of Benghazi attack\", \"Women's March Highlights\", \"Hillary Clinton emails\"]\n",
        "\n",
        "# compute a representation for each input\n",
        "input_embeddings = model(input_topic)"
      ],
      "execution_count": 0,
      "outputs": []
    },
    {
      "cell_type": "code",
      "metadata": {
        "id": "gTCA7uDVqTBs",
        "colab_type": "code",
        "colab": {}
      },
      "source": [
        "# semantic similarity between inputs and training articles\n",
        "inp_corr = np.inner(input_embeddings, small_embeddings)"
      ],
      "execution_count": 0,
      "outputs": []
    },
    {
      "cell_type": "code",
      "metadata": {
        "id": "4yXrp2mjqZjV",
        "colab_type": "code",
        "outputId": "d0e79be5-caf8-45f2-d018-7b3d37c95ff5",
        "colab": {
          "base_uri": "https://localhost:8080/",
          "height": 550
        }
      },
      "source": [
        "# data frame of titles and semantic similarities\n",
        "inp_df = pd.DataFrame(inp_corr)\n",
        "inp_df.columns = just_titles\n",
        "inp_df.index = input_topic\n",
        "\n",
        "inp_df"
      ],
      "execution_count": 32,
      "outputs": [
        {
          "output_type": "execute_result",
          "data": {
            "text/plain": [
              "                                                    Chaos in the Family, Chaos in the State: The White Working Class’s Dysfunction  \\\n",
              "Hillary Clinton defends handling of Benghazi at...                                           0.019261                                \n",
              "Women's March Highlights                                                                     0.045296                                \n",
              "Hillary Clinton emails                                                                       0.036642                                \n",
              "\n",
              "                                                     US Civil Rights Commission Will Observe Standing Rock Standoff  \\\n",
              "Hillary Clinton defends handling of Benghazi at...                                           0.135737                 \n",
              "Women's March Highlights                                                                     0.119294                 \n",
              "Hillary Clinton emails                                                                       0.032883                 \n",
              "\n",
              "                                                    Venezuela hunts rogue helicopter attackers, Maduro foes suspicious  \\\n",
              "Hillary Clinton defends handling of Benghazi at...                                           0.213940                    \n",
              "Women's March Highlights                                                                    -0.000519                    \n",
              "Hillary Clinton emails                                                                       0.058746                    \n",
              "\n",
              "                                                    Fruit juice isn’t much better for you than soda. Let’s stop pretending otherwise.  \\\n",
              "Hillary Clinton defends handling of Benghazi at...                                          -0.040233                                   \n",
              "Women's March Highlights                                                                     0.065587                                   \n",
              "Hillary Clinton emails                                                                       0.017771                                   \n",
              "\n",
              "                                                    Sessions won’t testify at congressional budget hearings but at Senate intelligence hearing instead  \\\n",
              "Hillary Clinton defends handling of Benghazi at...                                           0.270479                                                    \n",
              "Women's March Highlights                                                                     0.049757                                                    \n",
              "Hillary Clinton emails                                                                       0.199208                                                    \n",
              "\n",
              "                                                    Qatar: UAE and Saudi Arabia step up pressure in diplomatic crisis  \\\n",
              "Hillary Clinton defends handling of Benghazi at...                                           0.242178                   \n",
              "Women's March Highlights                                                                    -0.028455                   \n",
              "Hillary Clinton emails                                                                       0.109163                   \n",
              "\n",
              "                                                    ’The 4-Hour Workweek’ author says a 3-step process he learned from Tony Robbins drastically improved his life  \\\n",
              "Hillary Clinton defends handling of Benghazi at...                                          -0.059264                                                               \n",
              "Women's March Highlights                                                                    -0.019417                                                               \n",
              "Hillary Clinton emails                                                                      -0.048110                                                               \n",
              "\n",
              "                                                    Rick Perry Attacked for Keeping His Word  \\\n",
              "Hillary Clinton defends handling of Benghazi at...                                  0.235375   \n",
              "Women's March Highlights                                                            0.070615   \n",
              "Hillary Clinton emails                                                              0.151369   \n",
              "\n",
              "                                                    Watch how a mathematician explains an astonishing coincidence  \\\n",
              "Hillary Clinton defends handling of Benghazi at...                                           0.039634               \n",
              "Women's March Highlights                                                                     0.004875               \n",
              "Hillary Clinton emails                                                                       0.013369               \n",
              "\n",
              "                                                    Second baby bald eagle begins hatching process at National Arboretum  \\\n",
              "Hillary Clinton defends handling of Benghazi at...                                           0.098044                      \n",
              "Women's March Highlights                                                                     0.166220                      \n",
              "Hillary Clinton emails                                                                       0.053923                      \n",
              "\n",
              "                                                    ...  \\\n",
              "Hillary Clinton defends handling of Benghazi at...  ...   \n",
              "Women's March Highlights                            ...   \n",
              "Hillary Clinton emails                              ...   \n",
              "\n",
              "                                                    McDonald’s, Chick-fil-A, and Subway are making changes to profit off the shifting definition of ’healthy’  \\\n",
              "Hillary Clinton defends handling of Benghazi at...                                           0.077255                                                           \n",
              "Women's March Highlights                                                                     0.006225                                                           \n",
              "Hillary Clinton emails                                                                       0.073164                                                           \n",
              "\n",
              "                                                    Bernie says the AP twisted his ‘messy’ convention prediction  \\\n",
              "Hillary Clinton defends handling of Benghazi at...                                           0.288595              \n",
              "Women's March Highlights                                                                     0.128500              \n",
              "Hillary Clinton emails                                                                       0.322738              \n",
              "\n",
              "                                                     Nevada’s Joe Heck Aims to Keep the Senate Republican  \\\n",
              "Hillary Clinton defends handling of Benghazi at...                                           0.195516       \n",
              "Women's March Highlights                                                                     0.060778       \n",
              "Hillary Clinton emails                                                                       0.131154       \n",
              "\n",
              "                                                    Donald Trump: John McCain and Lindsey Graham ‘Looking to Start World War III’  \\\n",
              "Hillary Clinton defends handling of Benghazi at...                                           0.280349                               \n",
              "Women's March Highlights                                                                     0.000330                               \n",
              "Hillary Clinton emails                                                                       0.256044                               \n",
              "\n",
              "                                                    Radiohead Announces New Album, Hear Another New Song  \\\n",
              "Hillary Clinton defends handling of Benghazi at...                                           0.027464      \n",
              "Women's March Highlights                                                                     0.051476      \n",
              "Hillary Clinton emails                                                                       0.063897      \n",
              "\n",
              "                                                    Roger Federer and Rafael Nadal roll back years for unexpected encore  \\\n",
              "Hillary Clinton defends handling of Benghazi at...                                           0.020349                      \n",
              "Women's March Highlights                                                                     0.025595                      \n",
              "Hillary Clinton emails                                                                       0.047352                      \n",
              "\n",
              "                                                    Why voters like She’s Not Trump  \\\n",
              "Hillary Clinton defends handling of Benghazi at...                         0.281599   \n",
              "Women's March Highlights                                                   0.123450   \n",
              "Hillary Clinton emails                                                     0.367134   \n",
              "\n",
              "                                                    Advanced Placement Tests To Hide History of Religion and Islamic Jihad in Europe   \\\n",
              "Hillary Clinton defends handling of Benghazi at...                                           0.114124                                   \n",
              "Women's March Highlights                                                                     0.030094                                   \n",
              "Hillary Clinton emails                                                                      -0.036238                                   \n",
              "\n",
              "                                                    Little Simz  \\\n",
              "Hillary Clinton defends handling of Benghazi at...     0.017507   \n",
              "Women's March Highlights                               0.040689   \n",
              "Hillary Clinton emails                                 0.014079   \n",
              "\n",
              "                                                    Wilhelmina to feature transgender model this fall  \n",
              "Hillary Clinton defends handling of Benghazi at...                                          -0.070851  \n",
              "Women's March Highlights                                                                     0.124655  \n",
              "Hillary Clinton emails                                                                       0.013729  \n",
              "\n",
              "[3 rows x 13000 columns]"
            ],
            "text/html": [
              "<div>\n",
              "<style scoped>\n",
              "    .dataframe tbody tr th:only-of-type {\n",
              "        vertical-align: middle;\n",
              "    }\n",
              "\n",
              "    .dataframe tbody tr th {\n",
              "        vertical-align: top;\n",
              "    }\n",
              "\n",
              "    .dataframe thead th {\n",
              "        text-align: right;\n",
              "    }\n",
              "</style>\n",
              "<table border=\"1\" class=\"dataframe\">\n",
              "  <thead>\n",
              "    <tr style=\"text-align: right;\">\n",
              "      <th></th>\n",
              "      <th>Chaos in the Family, Chaos in the State: The White Working Class’s Dysfunction</th>\n",
              "      <th>US Civil Rights Commission Will Observe Standing Rock Standoff</th>\n",
              "      <th>Venezuela hunts rogue helicopter attackers, Maduro foes suspicious</th>\n",
              "      <th>Fruit juice isn’t much better for you than soda. Let’s stop pretending otherwise.</th>\n",
              "      <th>Sessions won’t testify at congressional budget hearings but at Senate intelligence hearing instead</th>\n",
              "      <th>Qatar: UAE and Saudi Arabia step up pressure in diplomatic crisis</th>\n",
              "      <th>’The 4-Hour Workweek’ author says a 3-step process he learned from Tony Robbins drastically improved his life</th>\n",
              "      <th>Rick Perry Attacked for Keeping His Word</th>\n",
              "      <th>Watch how a mathematician explains an astonishing coincidence</th>\n",
              "      <th>Second baby bald eagle begins hatching process at National Arboretum</th>\n",
              "      <th>...</th>\n",
              "      <th>McDonald’s, Chick-fil-A, and Subway are making changes to profit off the shifting definition of ’healthy’</th>\n",
              "      <th>Bernie says the AP twisted his ‘messy’ convention prediction</th>\n",
              "      <th>Nevada’s Joe Heck Aims to Keep the Senate Republican</th>\n",
              "      <th>Donald Trump: John McCain and Lindsey Graham ‘Looking to Start World War III’</th>\n",
              "      <th>Radiohead Announces New Album, Hear Another New Song</th>\n",
              "      <th>Roger Federer and Rafael Nadal roll back years for unexpected encore</th>\n",
              "      <th>Why voters like She’s Not Trump</th>\n",
              "      <th>Advanced Placement Tests To Hide History of Religion and Islamic Jihad in Europe</th>\n",
              "      <th>Little Simz</th>\n",
              "      <th>Wilhelmina to feature transgender model this fall</th>\n",
              "    </tr>\n",
              "  </thead>\n",
              "  <tbody>\n",
              "    <tr>\n",
              "      <th>Hillary Clinton defends handling of Benghazi attack</th>\n",
              "      <td>0.019261</td>\n",
              "      <td>0.135737</td>\n",
              "      <td>0.213940</td>\n",
              "      <td>-0.040233</td>\n",
              "      <td>0.270479</td>\n",
              "      <td>0.242178</td>\n",
              "      <td>-0.059264</td>\n",
              "      <td>0.235375</td>\n",
              "      <td>0.039634</td>\n",
              "      <td>0.098044</td>\n",
              "      <td>...</td>\n",
              "      <td>0.077255</td>\n",
              "      <td>0.288595</td>\n",
              "      <td>0.195516</td>\n",
              "      <td>0.280349</td>\n",
              "      <td>0.027464</td>\n",
              "      <td>0.020349</td>\n",
              "      <td>0.281599</td>\n",
              "      <td>0.114124</td>\n",
              "      <td>0.017507</td>\n",
              "      <td>-0.070851</td>\n",
              "    </tr>\n",
              "    <tr>\n",
              "      <th>Women's March Highlights</th>\n",
              "      <td>0.045296</td>\n",
              "      <td>0.119294</td>\n",
              "      <td>-0.000519</td>\n",
              "      <td>0.065587</td>\n",
              "      <td>0.049757</td>\n",
              "      <td>-0.028455</td>\n",
              "      <td>-0.019417</td>\n",
              "      <td>0.070615</td>\n",
              "      <td>0.004875</td>\n",
              "      <td>0.166220</td>\n",
              "      <td>...</td>\n",
              "      <td>0.006225</td>\n",
              "      <td>0.128500</td>\n",
              "      <td>0.060778</td>\n",
              "      <td>0.000330</td>\n",
              "      <td>0.051476</td>\n",
              "      <td>0.025595</td>\n",
              "      <td>0.123450</td>\n",
              "      <td>0.030094</td>\n",
              "      <td>0.040689</td>\n",
              "      <td>0.124655</td>\n",
              "    </tr>\n",
              "    <tr>\n",
              "      <th>Hillary Clinton emails</th>\n",
              "      <td>0.036642</td>\n",
              "      <td>0.032883</td>\n",
              "      <td>0.058746</td>\n",
              "      <td>0.017771</td>\n",
              "      <td>0.199208</td>\n",
              "      <td>0.109163</td>\n",
              "      <td>-0.048110</td>\n",
              "      <td>0.151369</td>\n",
              "      <td>0.013369</td>\n",
              "      <td>0.053923</td>\n",
              "      <td>...</td>\n",
              "      <td>0.073164</td>\n",
              "      <td>0.322738</td>\n",
              "      <td>0.131154</td>\n",
              "      <td>0.256044</td>\n",
              "      <td>0.063897</td>\n",
              "      <td>0.047352</td>\n",
              "      <td>0.367134</td>\n",
              "      <td>-0.036238</td>\n",
              "      <td>0.014079</td>\n",
              "      <td>0.013729</td>\n",
              "    </tr>\n",
              "  </tbody>\n",
              "</table>\n",
              "<p>3 rows × 13000 columns</p>\n",
              "</div>"
            ]
          },
          "metadata": {
            "tags": []
          },
          "execution_count": 32
        }
      ]
    },
    {
      "cell_type": "code",
      "metadata": {
        "id": "YbSILk45qv0L",
        "colab_type": "code",
        "outputId": "a832f27d-9bad-4d89-99c7-c618882927c6",
        "colab": {
          "base_uri": "https://localhost:8080/",
          "height": 276
        }
      },
      "source": [
        "# find index of 5 most similar titles \n",
        "top5_ind = Parallel(n_jobs=16)(delayed(find_top5ind)(inp_df, i) for i in range(len(inp_df)))\n",
        "\n",
        "# show most similar titles -- final clusters\n",
        "top5 = Parallel(n_jobs=16)(delayed(find_top5)(just_titles, ind) for ind in top5_ind)\n",
        "\n",
        "top5[:5]\n",
        "# topics: [\"Hillary Clinton defends handling of Benghazi attack\", \"Women's March Highlights\", \"Hillary Clinton emails\"]"
      ],
      "execution_count": 33,
      "outputs": [
        {
          "output_type": "execute_result",
          "data": {
            "text/plain": [
              "[['Benghazi may be over, but #Benghazi has a life of its own',\n",
              "  'Univision’s Ramos picked the wrong Benghazi question for Hillary Clinton',\n",
              "  'Donald Trump on Benghazi: ’Hillary Clinton Decided to Go Home and Sleep’ ',\n",
              "  'The GOP stoops for scandal',\n",
              "  'Exclusive - Sarah Palin: Administration Lies, Soldiers Die. Yes, Hillary, at Every Point ‘It Matters’ '],\n",
              " ['The Women’s March on Washington is becoming a\\xa0joke',\n",
              "  ' Women Share Why They Hit The Streets At The Sundance Women’s\\xa0March',\n",
              "  'Women will march on – What would a feminist do? podcast',\n",
              "  'The Exhausting Work of Tallying America’s Largest Protest',\n",
              "  'Women’s March organizers prepare for hundreds of thousands of protesters'],\n",
              " ['Donald Trump: ’Good Job, Huma. Thank you, Anthony Weiner’ ',\n",
              "  'Fox News anchor grills Hillary Clinton on her email scandal',\n",
              "  'Hillary Clinton’s email problems might be even worse than we thought',\n",
              "  'Hillary Clinton pal Neera Tanden’s greatest hits from WikiLeaks emails',\n",
              "  'Hillary Clinton Deleted More Emails Than She Sent to the State Department ']]"
            ]
          },
          "metadata": {
            "tags": []
          },
          "execution_count": 33
        }
      ]
    },
    {
      "cell_type": "code",
      "metadata": {
        "id": "h5Y4qit2rHJ_",
        "colab_type": "code",
        "outputId": "8a552bae-d23d-4eb2-c4ae-32ee68cf7bc7",
        "colab": {
          "base_uri": "https://localhost:8080/",
          "height": 69
        }
      },
      "source": [
        "# index of most similar titles \n",
        "top5id = Parallel(n_jobs=16)(delayed(find_top5)(id_list, ind) for ind in top5_ind)\n",
        "\n",
        "top5id[:5]"
      ],
      "execution_count": 34,
      "outputs": [
        {
          "output_type": "execute_result",
          "data": {
            "text/plain": [
              "[[152203, 210482, 47436, 213302, 39123],\n",
              " [122748, 103164, 149141, 73686, 147468],\n",
              " [40299, 68550, 213322, 86663, 44841]]"
            ]
          },
          "metadata": {
            "tags": []
          },
          "execution_count": 34
        }
      ]
    },
    {
      "cell_type": "code",
      "metadata": {
        "id": "YXNyS0i7YaHO",
        "colab_type": "code",
        "colab": {
          "base_uri": "https://localhost:8080/",
          "height": 296
        },
        "outputId": "a4545e35-918f-4484-d1b3-ffb0d4430d20"
      },
      "source": [
        "# cleaned text for clusters \n",
        "top5text = Parallel(n_jobs=16)(delayed(find_top5)(small_text, ind) for ind in top5_ind)\n",
        "\n",
        "top5text[:5]"
      ],
      "execution_count": 35,
      "outputs": [
        {
          "output_type": "execute_result",
          "data": {
            "text/plain": [
              "[['Benghazi may be over, but #Benghazi has a life of its own To understand the story of Benghazi, you first have to understand there are two of them. The first Benghazi is the   city in Libya where in 2012 the US ambassador Chris Stevens and three other Americans were killed in an attack on a diplomatic station. The second is #Benghazi, a dumpster fire of conspiracy theories and nakedly political attacks, fanned by rightwing Twitter trolls and fed by the    conviction that, despite overwhelming evidence to the contrary, there’s a   coverup at work. The conclusive   Benghazi report has finally been issued. It has no major revelations nor any further evidence of wrongdoing by Hillary Clinton, who has already taken “full responsibility” for the tragedy  —   now get ready to hear a whole lot more about #Benghazi. A casual observer would be forgiven for thinking the report was already out there, as this is the eighth congressional panel to explore the attack, and in October Clinton sat for an   grilling on the matter that yielded so little damning information it was widely seen as a joke, with committee Republicans artfully carrying out their role as the butt. But this report was different this report was put forth by the House Benghazi committee itself, the culmination of a   $7m investigation, the upshot of which is that nobody not reached during the attack could have been saved, and further that the Obama administration talking points, while initially misinformed, were not intentionally misleading. It is, in short, the last word on Benghazi for sometime. But don’t expect to stop reading about #Benghazi. Donald Trump will continue to peddle absurdities, such as the notion that Clinton somehow “slept” through the Benghazi attack. Fox News and others will continue to raise it. Outside groups will continue to file requests for information, and Twitter trolls from far and wide will do their worst. Never mind that we’ve now had more investigations of Benghazi than every   terror attack in recent history combined. Never mind that these investigations have now cost American taxpayers a minimum of $23m, or that there’s not a single select committee to investigate the tens of thousands of Americans killed by gun violence each year. The Benghazi committee’s tireless leader, Trey Gowdy, has already taken issue with what appears to be the overwhelming consensus that his report is a dud, insisting that new information in the report “should fundamentally change the way you view what happened in Benghazi”. So far, so bad for Gowdy. The New York Times headline could hardly have read better for the Clinton camp if it were drafted by her campaign manager. And even the rightwing Drudge Report, which gave a banner headline to Clinton’s uneventful testimony on Benghazi this fall, seems to have lost interest. At the time, the real smoking gun of the hearing from Matt Drudge’s perspective was a coughing fit and slow speech, which he claimed at the time was “obvious” evidence she was  —   horror of horrors  —   taking   meds. In all the years and tens of thousands of hours spent investigating the tragedy, the biggest upshot by far has been the revelation that Clinton used a private email server during her time as secretary of state  —   a security lapse that was both unwitting and not directly tied to Benghazi in any way. The second biggest upshot is likely the personal misfortune for Kevin McCarthy, who  —   as result of his comment suggesting the entire   Benghazi investigation is a patently political attempt to tar Clinton  —   is not the House speaker. That is also likely a blessing for McCarthy’s party. If we were going to hear the end of #Benghazi when all reasonable roads of inquiry had been taken, it would have happened long ago. Instead we’ll stop hearing about it when Republicans stop trying to undermine Clinton and conspiracy theorists stop their theorizing  —   which is to say, when the sky falls down and the sea runs dry, or in a word: never.',\n",
              "  'Univision’s Ramos picked the wrong Benghazi question for Hillary Clinton      Jorge Ramos chose flash over substance. In last night’s   Post Democratic presidential debate, anchor Ramos went straight after former secretary of State Hillary Clinton over one of the key issues in the last presidential race. “I want to continue with the issue of trust. Secretary Clinton, on the night of the attacks in Benghazi, you sent an   to your daughter Chelsea   …    ” said Ramos. That ellipsis? It represents booing from the crowd at Miami Dade College. Benghazi needs no introduction with political audiences around the country. Anyhow, Ramos plowed through, noting that Clinton had emailed Chelsea Clinton to say that   “was responsible for the killing of the Americans. ” Over more booing, Ramos trudged onward, saying that “some of the families claim that you lied to them”  —   especially Patricia Smith, the mother of State Department official Sean Smith, who died in the attacks of Sept. 11, 2012. Ramos played a clip of Patricia Smith on Fox News saying that “Hillary and [President] Obama and [  Secretary Leon] Panetta, [Vice President Joe] Biden and [U. S. permanent representative to the U. N.] Susan Rice all told me that it was a video when they knew   …     it was not the video. ” Those comments by Patricia Smith have played into the   accusation that Obama administration officials, in the immediate aftermath of Benghazi, attempted to blame the attacks on an   video instead of terrorism  —   as part of a scheme to insulate themselves from criticism in advance of the 2012 presidential election. Responding to a Benghazi accusation requires a detailed tour through one of the most investigated incidents in U. S. diplomatic history. Clinton answered with words of sympathy for Patricia Smith, whose grief “I certainly can’t even imagine. ” Then she said Patricia Smith was “absolutely wrong. ” The talking points then rushed forth: Clinton pointed out that the officials cited by Patricia Smith were “scrambling” to figure out Benghazi in those hazy days in   2012; that she’d testified on Capitol Hill last fall for 11 hours about these events; and that Benghazi was politicized unlike other tragedies in which the United States lost personnel overseas. Pressed pointedly by Ramos on why she had sent an email to her daughter about   (actually, an “  ” organization) yet tell grieving families about a video, Clinton replied, “At the time I   with my daughter, a terrorist group had taken credit for the attacks on our facility in Benghazi. Within 16, 18 hours, they rescinded taking credit. They did it all on social media. And the video did play a role,” said Clinton. “We have captured one of the lead terrorists and he admits it was both a terrorist attack and it was influenced by the video. This was fog of war. This was complicated. The most effective, comprehensive reports and studies demonstrate that. ” The question by Ramos reaches back to that   hearing in October, when Clinton answered lawmakers’ questions about her Benghazi actions, again. And it tracks on a claim from Republican presidential hopeful Sen. Marco Rubio ( .) that Clinton is a “liar” for the apparent contradiction in her statements. That claim itself has stirred a   whirlwind, from The Washington Post’s Glenn Kessler, Breitbart’s John Nolte and the Weekly Standard’s Mark Hemingway. Holding the former secretary of state accountable for how she characterized an attack that killed four U. S. personnel is a worthwhile undertaking. It does make a difference. None of which is to say that it’s the best Benghazi question for Clinton at a nationally televised debate where there’s little time to hash out the intricacies of   Benghazi intelligence. Here’s the best question: Ms. Clinton, a study that you yourself commissioned found that our diplomatic compound in Benghazi was unprepared for the attacks of Sept. 11, 2012, despite having sustained attacks in previous months and operating in a cratering security backdrop. When Diane Sawyer of ABC News asked you whether you wished you had acted differently, you said in part, “I take responsibility, but I was not making security decisions. ” Is that the sort of leadership you will bring to the White House? Just a suggestion. ',\n",
              "  'Donald Trump on Benghazi: ’Hillary Clinton Decided to Go Home and Sleep’  GOP frontrunner Donald Trump, looking toward the general election, criticized Democrat frontrunner Hillary Clinton and President Obama’s foreign policy during his formal address on Wednesday at the Mayflower Hotel in Washington, D. C.[“We have made the Middle East more unstable and chaotic than ever before,” Trump said. “Our actions in Iraq, Libya and Syria have helped unleash ISIS. And we’re in a war against radical Islam, but President Obama won’t even name the enemy!”  “We’ve let our rivals and challengers think they can get away with anything,” he added. “If President Obama’s goal had been to weaken America, he could not have done a better job. ” Trump then turned his attention to Clinton. “Hillary Clinton also refuses to say the words “radical Islam,” even as she pushes for a massive increase in refugees,” he jabbed. Trump brought up the 2012 terrorist attack in Benghazi, Libya where four Americans died under Secretary of State Hillary Clinton’s tenure. After Secretary Clinton’s failed intervention in Libya, Islamic terrorists in Benghazi took down our consulate and killed our ambassador and three brave Americans. Then, instead of taking charge that night, Hillary Clinton decided to go home and sleep! Incredible. Clinton blames it all on a video, an excuse that was a total lie. Our Ambassador was murdered and our Secretary of State misled the nation  —   and by the way, she was not awake to take that call at 3 o’clock in the morning. “And now ISIS is making millions of dollars a week selling Libyan oil,” Trump charged, vowing, “This will change when I am president. ” Trump’s full foreign policy speech can be read here.',\n",
              "  'The GOP stoops for scandal  The Republican yearning to pin a scandal on Hillary Clinton knows no bounds. Any scandal will do, real or imagined. She must somehow be  —   or appear to be  —   guilty of something . They tried Benghazi. Boy, did they try Benghazi. House Republicans even put together a special committee, which Majority Leader Kevin McCarthy praised for hurting Clinton’s chances of being elected president. “Everybody thought Hillary Clinton was unbeatable, right?” he said in September. “But we put together a Benghazi special committee, a select committee. What are her numbers today? Her numbers are dropping. ”  To the GOP’s consternation, however, those numbers recovered nicely. According to the RealClearPolitics average of polls, she leads Donald Trump by about 5 points; the most recent Washington   News survey showed her ahead by 12. Adding insult to injury, the Benghazi committee came up  . Rep. Trey Gowdy ( . C.) the panel’s chairman, released a final report last week that found no smoking gun. In fact, it didn’t even find smoke. The September 2012 attacks on U. S. diplomatic and intelligence facilities in Benghazi, Libya, that killed Ambassador J. Christopher Stevens and three other Americans should be blamed on the terrorists who committed the assault  —   not on the secretary of state. Even if she happens to be named Clinton. So if Benghazi isn’t the   scandal, what else might be? Trump keeps threatening to   the 1990s by dredging up Bill Clinton’s womanizing and even the suicide of Clinton friend and associate Vince Foster. That is a realm peopled mostly by conspiracy theorists wearing tinfoil hats; Trump can go there if he wants, but the rest of the country won’t follow.   House Republicans released their report on the attack on the 2012 U. S. diplomatic outpost in Benghazi on June 28. Here are the 5 most serious accusations in the report. (Peter   Washington Post)   Let’s see, there’s the Clinton Foundation and the vast amount of money it has raised, including from foreign governments, potentates and moguls. The problem with this line of attack is that the foundation, by all accounts, does a lot of good around the world. And it generally operates in a way that Republicans should applaud, not simply doling out money but instead boosting the capacity of local governments and organizations to solve their own problems. What other grist for the scandal mill could there be? I’m being somewhat disingenuous, of course. There are Hillary Clinton’s emails.  As I’ve written, Clinton was wrong to decline a government email account when she was secretary of state and instead use a private account run from a server in her house. What was she thinking? I doubt it was “convenience,” as she still claims. I’ve believed all along that Clinton wanted control. I think she wanted to guarantee that no personal or foundation emails would ever become part of the public record and thus potentially subject to release. It is certainly true that the Clintons have legions of political enemies who would love to root through the family’s private affairs. This fact does not, however, make Clinton’s actions right. But were they illegal? And were they criminal? That’s what the FBI and Justice Department lawyers are trying to ascertain. From what is publicly known about the emails, I am unimpressed. The salient issue is whether she mishandled classified material. Clinton’s critics note that David Petraeus, a former CIA director and one of the most lauded military officers of his time, pleaded guilty to a misdemeanor charge and was hit with a $100, 000 fine for that offense. But it seems to me that routing potentially sensitive emails through a private server is different from handing classified information to one’s mistress, which is what Petraeus did.             Caption   See who supports Donald Trump.  Paul D. Ryan  The House speaker endorsed Trump’s bid for president on June 2. Joshua    ',\n",
              "  'Exclusive - Sarah Palin: Administration Lies, Soldiers Die. Yes, Hillary, at Every Point ‘It Matters’  Listening to the Benghazi Committee reveal what we knew  —   the Obama Administration’s devastating lies cost lives, and at any point it just doesn’t matter to them. Thank you to Congressional investigators for their report. [The Administration’s deception is beyond shameful. They sat back and allowed our peacekeepers to die during what they witnessed becoming a suicide mission. In command of the greatest military in the world, yet officials sat back in Washington’s comfort, not allowing our troops to do their job to protect fellow Americans.  Hillary left our men behind. Hillary is disqualified from serving as Commander in Chief. The Administration lies and denies in places like Benghazi, which cost innocent American lives. Much like today’s refusal to believe real threats  —   denying Islam put the “I” in ISIS  —   they are wrapping America’s children in a suicide vest.'],\n",
              " ['The Women’s March on Washington is becoming a\\xa0joke Is the Women’s March on Washington cursed? The   protest set for Jan. 21 keeps running into weird trouble.  Start with the name, originally the Million Women’s March. The three white feminists who thought up the idea felt obliged to change that title after they faced charges of “cultural appropriation. ” No joke: An early comment on   complained of “white feminists taking the name of something that Black people started to address our struggles. ” You see, 1997 saw a Million Woman March in DC for    —   a follow to Louis Farrakhan’s 1995 Million Man March. Even the new name prompted grumbles that it “appropriates” from the Dr. Martin Luther King Jr.  1963 March on Washington. (Organizers’ dodge: Claim the whole thing is a tribute to King.) And,   the event’s page is still plagued with “arguments about whether an event organized primarily by white women can be sufficiently ‘intersectional’  —   or attuned to the issues faced by, say, poor minority women who reside at the ‘intersection’ of class, race, and gender concerns in America. ” The march, she charges, “is shaping up to be a   exercise in search of a cause. ”  But it’s The Washington Post’s debacle that makes us suspect a curse: Thursday’s edition of the paper’s free giveaway, Express, was all about the march  —   but the cover was dominated by a giant male symbol, rather than the female one. It’s almost as if no one’s treating this thing seriously.',\n",
              "  ' Women Share Why They Hit The Streets At The Sundance Women’s\\xa0March ’ Earlier this morning, protesters marched down Main Street in Park City, Utah  —   where the Sundance Film Festival is currently taking place  —   in a Women’s March organized by Chelsea Handler.’ ’ BuzzFeed News was on site and asked women why they were participating in the march. Here are their answers:’ ’ “Marching for my grandchildren & 30 years of students in public schools”’ ’ “Trump is not an ally to the colorful, complicated, spirited people of this country! ”’ ’ “We need to advocate for EVERYONE, regardless of political climate”’ ’ “Equality for WOMEN  —   no harassment”’ ’ “I march for THE FUTURE”’ ’ “I’m a school counselor #publicschool”’ ’ “Inequality is unsustainable”’ ’ “I’m here to stand up for the rights of those that are threatened  —   minorities, women, & OUR EARTH”’ ’ “To put Trump on notice”’ ’ “I will no longer be silent”’ ’ “For the radical idea that women are people, too”’ ’ “Future is female. ‘Balance’ ‘Spiritual’ Beginning Life Happiness ‘Fire in the Home’  —   LOVE”’ ’ “I marched for Civil Rights. I marched against the war. Now I march for my kids. ”’ ’ “So I can be anything when I grow up”’]   ',\n",
              "  'Women will march on – What would a feminist do? podcast Subscribe via iTunes, Audioboom, Mixcloud, Soundcloud, Acast, Stitcher and join the discussion on Facebook and Twitter, It is estimated that millions of people worldwide marched in conjunction with Saturday’s Women’s March on Washington. Across the globe, people came together on President Donald Trump’s first full day in office in an act of mass catharsis and solidarity, bringing individual messages of human rights and social justice.  But while Saturday invigorated the movement to resist Trump, many are asking how to turn the energy of the demonstration into action. This week, host Jessica Valenti talks with Jamia Wilson, executive director of Women, Action, and the Media, about what happened on Saturday and what comes next. The pair examine some criticisms of the march and look at plans to keep the momentum going. As always, we want to hear from you: Please join the conversation in the comments below.',\n",
              "  'The Exhausting Work of Tallying America’s Largest Protest But over the weekend, as President Donald Trump fought with the media over the attendance at his inauguration —  experts’ estimates put the crowd at about 160, 000 people, while Trump falsely claimed an attendance of 1. 5 million —  a pair of   professors began work on a sprawling database that compiles attendance numbers from every protest, demonstration, and march affiliated with the Women’s March on Washington that they could find. On Saturday, Jeremy Pressman, a professor of political science at the University of Connecticut, was planning to attend a Women’s March in Hartford. Before he set out, he wondered if anyone was assembling on a spreadsheet to track attendance at the various marches. He asked on Twitter, and soon, someone replied, “Don’t know, but hope so!” Pressman tweeted back: “I’m starting one. ” Pressman scoured the internet for links to news stories with   estimates. He added each to a Google spreadsheet, with a high and low estimate for attendance in each city he found. Within two hours, he tweeted an early version of the spreadsheet. His post attracted the attention of Erica Chenoweth, a professor at the University of Denver and an expert on nonviolent protest. Chenoweth offered to help with the tedious, long work of compiling news reports, and by Sunday morning, Pressman had an initial estimate: Between 3. 6 and 4. 6 million people had marched the day before. (At press time, the   estimate has fallen to 3. 3 million.) As my colleague Conor wrote this morning, even the bottom line would make the Women’s March the largest protest in United States history. At first, most of the data came from news reports, but before long, “social media started working,” Pressman told me. People started tweeting new information at Pressman and Chenoweth, and some dug up the professors’ emails in order to send in more detailed reports. They set up a Google form for people to send in their own estimates and share sources. The spreadsheet currently has entries for nearly 550 cities and towns in the U. S. from the march in D. C. (470, 000 to 680, 000 participants) to a protest in Show Low, Arizona (one participant). The spreadsheet also tallies attendance at rallies in more than 100 cities around the world. Chenoweth studies emerging political movements, so she jumped on the opportunity to watch a new one perhaps begin to unfold here in the U. S. But more fundamentally, she said, the act of counting itself is an important one. “It’s a really empowering thing to be noticed and to be tallied,” she said. “That actually came to be much more evident to me when people started emailing us and tweeting at us, reporting that they had two, five, seven, 12 people in their tiny outpost. ” The Women’s March has some of the hallmarks of the beginning of a successful movement, Chenoweth said. The ability to mobilize large numbers of people is often associated with the creation of an effective campaign. The fact that the march was inclusive and broad rather than tied to a specific policy goal helped draw big numbers, Chenoweth said, and the explicitly   nature of the protests helped attract even more. The level of organization on display at events large to small bodes well for the social movement, as does the proportion of march participants who aren’t usually politically engaged. As the researchers keep gathering data, they’re grappling with the implications of suddenly becoming the stewards of sensitive information. When they started out on Saturday, they didn’t expect that people would report their own participation in marches. Their submission form doesn’t ask for any identifying information, and Chenoweth says they’re taking care not to expose those who emailed in to say they participated in a demonstration from a personal or work address. Chenoweth and Pressman’s spreadsheet is separate from another effort to gather attendance data using SMS messaging. This text census, which was put together by an organization called It’s Time Network, has raised questions about privacy and its affiliation with the organizers of the Women’s March. In person and on social media, demonstrators were urged to text the words “count me” to the number 89800. Those instructions were boosted by celebrities like Jamie Lee Curtis and George Takei, who have large followings on Twitter. Despite appearing at first to be an official effort from the Women’s March organizers themselves, the march’s official Twitter account briefly tweeted, then deleted, a message distancing itself from the headcount, according to Snopes. A spokesperson for It’s Time Networks, which partners with organizations focused on empowering women and girls, said the confusion was the result of “an unfortunate miscommunication. ” It’s Time Network had been in touch with the organizers of the Women’s March since early January, the spokesperson said, and had offered to turn over all the data they gathered by SMS —  they asked participants for their phone number, zip code, email, and where they marched —  to the organizers. It’s unclear whether the march organizers ever officially endorsed the text census —  emails to a spokesperson for the Women’s March weren’t returned —  or what they plan to do with the data they’ll receive. While participants were asked to text in order to be counted, one of the main goals of the campaign is to build a list of phone numbers that belong to people who demonstrated on Saturday, or who supported the marches. If the march organizers choose to, they’ll be able to send messages to the list of people who asked to be counted. Some privacy advocates pointed out on Twitter that the number that march participants were asked to text —  89800 —  appears to be connected to a company that uses the number to send up to eight monthly “alerts regarding promotions, coupons, and time sensitive deals from local businesses. ” The   message associated with the marketing line, however, is “DEALMEIN” rather than “count me. ” The company that appears to maintain 89800, txtwire, could not be reached for comment. Chenoweth said she spoke with representatives of It’s Time Network a few weeks ago, and cautioned against using SMS messaging to gather data on march participants. “I don’t know if you guys want to be liable for keeping people’s personal information about their participation,” she warned. “If you are, make sure that people know the risks of   at an individual level. ” She and Pressman are still building out their census spreadsheet, and they’ve already enlisted at least one research assistant for help. “I view this as a first cut,” Pressman said of the spreadsheet as it stands. He told me he wanted to break out participation by U. S. state —  and within hours of our conversation, a new tab appeared on the spreadsheet that did just that. The pair is thinking about ways to institutionalize their ad hoc   operation to track future events. For now, they hope that a running count of will offer march leaders and participants a rare commodity in organizing: a way to measure their success.',\n",
              "  'Women’s March organizers prepare for hundreds of thousands of protesters At about 10am on Saturday, as a quarter of a million or more people gather in protest at the base of Capitol Hill for the Women’s March on Washington, the newly minted President Donald Trump will be on his knees at “a service of prayer and reflection” at the National Cathedral. From that perch four miles away from the White House he won’t, initially, be able to hear the civil rights legend Angela Davis, the feminist icon Gloria Steinem or the   campaigner Cecile Richards addressing the crowds at the march. But the roar of the masses will surely reach the president’s ears later, as the speeches and   performers wrap up the    hour rally and the demonstrators march to the Ellipse, the large green space opposite the White House. He may even see them if he steps out on to the balcony in the residence to admire the view of the Washington Monument. “I hope he will be praying about how to be the president of all the people. We are not going to let our rights be rolled back by anyone,” Melanie Campbell, president of the National Coalition on Black Civic Participation and a speaker at the march, said. The march organizers are still officially only expecting a crowd of 200, 000 to 250, 000 people  —   mostly women, but also many men  —   based on the number who have registered. But those close to the planning acknowledge that they are prepared, in coordination with the police, city officials and thousands of volunteers and private security staff, if the numbers swell considerably, to half a million or beyond. The event is expected to turn into one of the largest marches in US history and although it is not billed specifically as an   protest, most of the causes represented are those deemed under threat from the new administration. “I’m speaking out and marching because healthcare is under attack and women’s reproductive rights are under attack. So many awful things were said about women by the incoming president,” said Campbell. “I put a lot of my energy under Obama into supporting black women’s leadership and women’s leadership overall  —   we could have broken the glass ceiling with Hillary Clinton and it didn’t happen, so that’s what’s motivated me to take part,” she added. Campbell took exception to Trump’s gloomy inaugural speech and his portraiture of inner cities as being in a state of a   “American carnage”. “That’s not the urban America I know. Not that there are not problems, but it’s not all rocked with violence and poverty. America is already great, it’s a melting pot and must continue to be,” she said. On Saturday morning, Campbell and other speakers’ voices will boom out from jumbotrons positioned among the thousands packing along Independence Avenue, calling for action on racial equality, climate change, criminal justice reform, a higher minimum wage, immigrants’ rights and a host of other progressive issues. Among those on stage or seated next to the stage in VIP seating will be some of the   members of Congress from the Democratic party who were set to boycott Trump’s inauguration ceremony on Friday.  One of those is US representative Chellie Pingree. While Trump was being sworn in on Friday, she was visiting a Planned Parenthood center and a business owned by immigrants in her home state of Maine, before flying to Washington in the afternoon to get ready for the march. On Saturday morning, she will gather with fellow politicians on stage at the rally and then march with some of the 5, 000 women attending from the state of Maine. “We need to do everything we can to let the incoming administration know we are not happy about their agenda. I’ve had unprecedented numbers of my constituents calling me worried about healthcare, the environment, public education, and they feel disrespected,” she said. Pingree said Trump was the most unpredictable incoming president most people had ever witnessed. While Trump struggled to get   names to perform at his inauguration celebrations, the Women’s March on Washington has attracted singing and acting stars such as Katy Perry America Ferrera, who is also speaking at the rally the Orange is the New Black cast member Uzo Aduba the actor Scarlett Johansson Cher and the young actor and singer Zendaya. The march grew organically, from a feminist outcry on Facebook in the immediate aftershock of the election result. Organizers now hope it will kickstart a new era of grassroots activism across a long list of progressive issues chiefly related to equality and social and economic justice. What began as an expression of frustration and a call to action on social media then morphed into a mass mobilization across multiple progressive causes. The event began to be physically realized on Friday as buses, trains and planes started pouring into Washington, packed full of women  —   and supportive male friends dotted among them. Although   sister marches are taking place in as many as 300 cities across all 50 states, as well as internationally, thousands chose the capital city to make their presence felt next to the Capitol and the White House. “This is what a plane full of women who are ready to resist the Trump agenda looks like,” read one tweet, showing a flight bound for DC packed with women smiling and waving ecstatically, some wearing pink knit “pussy hats” that have become an informal uniform for the march. “I am a woman of color and a Muslim from an immigrant family whose country is now going to be led by someone who has been openly   and sexist, has attacked Muslims and is surrounding himself with some horrible people for his cabinet,” said Zahra Billoo, director of the San Francisco chapter of the Council on   Relations and a speaker at the march. “I don’t think that everyone who voted for Donald Trump is racist, but they were willing to overlook that part of his campaign for whatever reason, and that’s not acceptable. We’ve seen the fallout, in hate crimes, and there is a need for inspiration and community across racial lines, religious lines, family lines, across many communities in America right now,” she said. Billoo said she found Trump’s inaugural speech “no better than so many of his campaign speeches”. She saw in it coded language designed to further divide rather than unite voters and to erase civil liberties, she said.  “All of this ‘America first’ is one way of saying if you don’t agree with us, we will come after you,” she said. Following scuffles and arrests in protests coinciding with the inauguration on Friday, Billoo said she hoped the Women’s March on Washington itself would be a wholly peaceful rally and demonstration. The march is due to finish at dusk. But Linda Sarsour, one of the four march   hopes that the end of the event will mark the beginning of a new movement. “Making the march happen has been one of the largest grassroots efforts that anyone has ever seen. This is a mass mobilization and we intend to hold the administration to account,” she said.'],\n",
              " ['Donald Trump: ’Good Job, Huma. Thank you, Anthony Weiner’  Donald Trump thanked Hillary Clinton’s top aide Huma Abedin and her estranged husband, disgraced former lawmaker Anthony Weiner, during his campaign rally in Grand Rapids, Michigan. [Trump blasted the former secretary of state for the FBI investigation into her use of a private email server.  “As you know, the FBI has reopened its investigation into Hillary Clinton and discovered another 650, 000 emails,” Trump announced. “She lied under oath when she turned over all of her work related emails. Just one more lie out of so many. ” “She has brought all of this on herself,” the Republican nominee stated, alleging that “Hillary is the one who set up an illegal private email server in a closet to shield her criminal activity. Hillary is the one who engaged in a corrupt    scheme at the state department. ” “650, 000! You know what I call that? That’s the mother lode,” Trump said. “I think we hit the mother lode as they say in the good old mining industry. ” ”Thank you, Huma. Thank you, Huma. Good job, Huma. Thank you, Anthony Weiner.”  —   @realDonaldTrump on @HillaryClinton email investigation pic. twitter.   —   Fox News (@FoxNews) October 31, 2016,  “We can be sure that what is in those emails is absolutely devastating,” Trump suggested. “Thank you, Huma. Thank you, Huma. Good job, Huma. Thank you, Anthony Weiner. ” The crowd erupted in cheers after Trump thanked Weiner, who is reportedly the reason why the FBI renewed its investigation into Clinton as the 650, 000 emails were allegedly found on Weiner’s laptop.',\n",
              "  'Fox News anchor grills Hillary Clinton on her email scandal ’’ ’Fox News host Bret Baier grilled Hillary Clinton over her use of a private email server during her first appearance on the network in more than two years on Monday.’ ’In a network   event, Baier pressed Clinton at length about her use of a private email server while she was the US secretary of state.’ ’”The FBI investigation is still hanging over your campaign, and there are some Democrats who are worried about the other shoe dropping,” Baier said.’ ’The former secretary of state vigorously refuted claims that her past statements about sharing classified information on her private server were inaccurate.’ ’”There’’s a lot of misinformation going on around here, so let me start with the facts,” Clinton said.’ ’Last March, facing ’ ’Clinton reiterated that she believed she made a ”mistake” in using a personal email account instead of an official government account. But she argued that none of the emails she sent or received were marked classified at the time.’ ’”I have said it wasn’’t the best choice to use a personal email. It was a mistake,” Clinton said. ”However, I am not alone in that. Many people in the government, past and current, have on occasion or in practice have done the same. ”’ ’Baier then confronted Clinton about the classification process itself, asking whether she believed the   emails even needed to be classified.’ ’”So your contention now is the 2, 100 or so emails should not have been classified at any time, now or then?” Baier asked.’ ’Clinton, disagreed, but called for the emails to be released.’ ’”Release it, and once the American people see it, they will see how absurd this is,” Clinton said, spurring applause in the audience.’ ’Fox News host Bret Baier grilled Hillary. ..’',\n",
              "  'Hillary Clinton’s email problems might be even worse than we thought        Here’s the good news for Hillary Clinton: The FBI has recommended that no charges be brought following its investigation of the former secretary of state’s private email server. Here’s the bad news: Just about everything else. FBI Director James B. Comey dismantled large portions of Clinton’s   story about her private server and what she sent or received on it during a stirring   news conference, after which he took no questions. While Comey exonerated Clinton, legally speaking, he provided huge amounts of fodder that could badly hamstring her in the court of public opinion. Most importantly, Comey said the FBI found 110 emails on Clinton’s server that were classified at the time they were sent or received. That stands in direct contradiction to Clinton’s repeated insistence she never sent or received any classified emails. And it even stands in contrast to her amended statement that she never knowingly sent or received any classified information.              Caption   The former secretary of state clinched the number of delegates needed to be the Democratic nominee for president.  July 5, 2016 Hillary Clinton and President Obama campaign together for the first time at a rally in Charlotte.  Melina   Washington Post  ',\n",
              "  'Hillary Clinton pal Neera Tanden’s greatest hits from WikiLeaks emails Tanden has a potty mouth, and talks a lot of trash, but she’s also mostly right whenever she complains about something, such as the absurd secrecy of Hillary’s inner circle of friends, who withheld information about her email habits at the State Department because “they wanted to get away with it. ” Here are some of Tanden’s greatest hits: “    insane” That’s how Tanden described the scandal involving Hillary Clinton’s use of a private email server as secretary of state. “Do we actually know who told Hillary she could use a private email?” she wrote in an email to Clinton campaign chairman John Podesta in 2015. “And has that person been drawn and quartered?” “    these   ” See the Fox News 2016 battleground prediction map and make your own election projections. See Predictions Map → Those were Tanden’s choice words for liberals criticizing Hillary Clinton for using the phrase “all lives matter. ” “He’s a    ” Tanden expressed her displeasure when she learned that Democratic operative Faiz Shakir, who currently works for Senate Minority Leader Harry Reid, had started advising Hillary Clinton’s primary challenger Bernie Sanders. “I find him a bit insufferable” This was Tanden’s response to New York City mayor Bill de Blasio’s reluctance to endorse Hillary Clinton. CLICK TO READ MORE FROM HEAT STREET,   ',\n",
              "  'Hillary Clinton Deleted More Emails Than She Sent to the State Department  Chris Cillizza of the Washington Post confirms a data point implicit in today’s news that the FBI has found 15, 000 emails from Hillary Clinton’s unsecure homebrew server, from which she conducted the work as Secretary of State and housed classified information. She hid more emails from the State Department than she handed over to it for mandatory federal records keeping. [From the Washington Post:  Clinton deleted more emails than she turned over. Her team never actually read all of the emails, skimming subject lines instead. And there was never anyone outside of Clinton’s direct orbit brought in to oversee the process. The essence of Clinton’s argument regarding this   process was: Trust me. As in, my team of lawyers found all of the emails that were even tangentially tied to my day job as the nation’s top diplomat and turned them over to the State Department.   …     [W]e know from FBI Director James B. Comey that during its investigation, the FBI found several thousand   emails that had not been previously turned over by Clinton. While these 15, 000 appear to be at least part of what Comey is referring to, there’s no way today of knowing how much overlap between those two sets there actually is. Read the rest of the story here.']]"
            ]
          },
          "metadata": {
            "tags": []
          },
          "execution_count": 35
        }
      ]
    },
    {
      "cell_type": "markdown",
      "metadata": {
        "id": "qHmgcv1HIXol",
        "colab_type": "text"
      },
      "source": [
        "### Output Clusters\n",
        "\n",
        "Don't re-run this because these files have already been created. \n",
        "- /News_Filter/Pilot/clusters\n",
        "- cluster1.csv, cluster2.csv, cluster3.csv"
      ]
    },
    {
      "cell_type": "code",
      "metadata": {
        "id": "ySnuQITiIWqf",
        "colab_type": "code",
        "colab": {}
      },
      "source": [
        "# first example: \"Hillary Clinton defends handling of Benghazi attack\"\n",
        "cluster1 = small_data.iloc[[i in top5id[0] for i in small_data.id]]\n",
        "text1_df = pd.DataFrame({'id':top5id[0], 'text':top5text[0]})\n",
        "cluster1 = cluster1.merge(text1_df, on='id')\n",
        "\n",
        "# second example: \"Women's March Highlights\"\n",
        "cluster2 = small_data.iloc[[i in top5id[1] for i in small_data.id]]\n",
        "text2_df = pd.DataFrame({'id':top5id[1], 'text':top5text[1]})\n",
        "cluster2 = cluster2.merge(text2_df, on='id')\n",
        "\n",
        "# third example: \"Hillary Clinton emails\"\n",
        "cluster3 = small_data.iloc[[i in top5id[2] for i in small_data.id]]\n",
        "text3_df = pd.DataFrame({'id':top5id[2], 'text':top5text[2]})\n",
        "cluster3 = cluster3.merge(text3_df, on='id')"
      ],
      "execution_count": 0,
      "outputs": []
    },
    {
      "cell_type": "code",
      "metadata": {
        "id": "PKDdi7B-My6z",
        "colab_type": "code",
        "colab": {}
      },
      "source": [
        "# save each cluster data to csv\n",
        "cluster1.to_csv(\"w266/finalproj/clusters/cluster1.csv\", index=False)\n",
        "cluster2.to_csv(\"w266/finalproj/clusters/cluster2.csv\", index=False)\n",
        "cluster3.to_csv(\"w266/finalproj/clusters/cluster3.csv\", index=False)"
      ],
      "execution_count": 0,
      "outputs": []
    },
    {
      "cell_type": "markdown",
      "metadata": {
        "id": "Nxz6ruD2pOQ_",
        "colab_type": "text"
      },
      "source": [
        "#### Sanity Check to see if individual vs mass inputs create different embeddings -- NO"
      ]
    },
    {
      "cell_type": "code",
      "metadata": {
        "id": "Qd5T0SESnsNr",
        "colab_type": "code",
        "colab": {}
      },
      "source": [
        "a = model([\"hi my name is emma\"])\n",
        "b = model([\"nice to meet you\"])\n",
        "c = model([\"hi what's your name\"])"
      ],
      "execution_count": 0,
      "outputs": []
    },
    {
      "cell_type": "code",
      "metadata": {
        "id": "kWwl5j7_n4Uq",
        "colab_type": "code",
        "colab": {}
      },
      "source": [
        "d = model([\"hi my name is emma\", \"nice to meet you\", \"hi what's your name\"])"
      ],
      "execution_count": 0,
      "outputs": []
    },
    {
      "cell_type": "code",
      "metadata": {
        "id": "WR5AvYhaoPQx",
        "colab_type": "code",
        "colab": {}
      },
      "source": [
        "e = np.concatenate((a, b, c))"
      ],
      "execution_count": 0,
      "outputs": []
    },
    {
      "cell_type": "code",
      "metadata": {
        "id": "iDEafG2DoWiS",
        "colab_type": "code",
        "colab": {}
      },
      "source": [
        "f = np.array(d)"
      ],
      "execution_count": 0,
      "outputs": []
    },
    {
      "cell_type": "code",
      "metadata": {
        "id": "I1MtlmAaoq3U",
        "colab_type": "code",
        "colab": {}
      },
      "source": [
        "np.inner(e, e)"
      ],
      "execution_count": 0,
      "outputs": []
    },
    {
      "cell_type": "code",
      "metadata": {
        "id": "HvCWvQALpcu9",
        "colab_type": "code",
        "colab": {}
      },
      "source": [
        "np.inner(f, f)"
      ],
      "execution_count": 0,
      "outputs": []
    },
    {
      "cell_type": "code",
      "metadata": {
        "id": "UzG8RSFIpmY1",
        "colab_type": "code",
        "colab": {}
      },
      "source": [
        ""
      ],
      "execution_count": 0,
      "outputs": []
    },
    {
      "cell_type": "code",
      "metadata": {
        "id": "3f9C7R5CUTgs",
        "colab_type": "code",
        "colab": {}
      },
      "source": [
        ""
      ],
      "execution_count": 0,
      "outputs": []
    },
    {
      "cell_type": "markdown",
      "metadata": {
        "id": "fFCwEPP_Xehx",
        "colab_type": "text"
      },
      "source": [
        "### Summarization via Similarity Matrix\n",
        "\n",
        "We proceed to use the outputted and saved clusters above to summarize via a similarity matrix"
      ]
    },
    {
      "cell_type": "code",
      "metadata": {
        "id": "TfoNJ7wKX5gk",
        "colab_type": "code",
        "colab": {}
      },
      "source": [
        "# importing the csv files\n",
        "lst_files = ['News_Filter/Pilot/clusters/cluster1.csv', \n",
        "             'News_Filter/Pilot/clusters/cluster2.csv',\n",
        "             'News_Filter/Pilot/clusters/cluster3.csv']\n",
        "clusters = Parallel(n_jobs=3)(delayed(pd.read_csv)(csv_file) for csv_file in lst_files)"
      ],
      "execution_count": 0,
      "outputs": []
    },
    {
      "cell_type": "code",
      "metadata": {
        "id": "zUweTmVdYxZ_",
        "colab_type": "code",
        "colab": {}
      },
      "source": [
        "# importing some dependencies\n",
        "from nltk.cluster.util import cosine_distance\n",
        "import networkx as nx"
      ],
      "execution_count": 0,
      "outputs": []
    },
    {
      "cell_type": "code",
      "metadata": {
        "id": "PgN4fHPnYzjR",
        "colab_type": "code",
        "colab": {
          "base_uri": "https://localhost:8080/",
          "height": 650
        },
        "outputId": "3f195c0f-1452-4bde-fd7e-ab6e107ee66a"
      },
      "source": [
        "# how do these clusters look like?\n",
        "clusters[0]"
      ],
      "execution_count": 43,
      "outputs": [
        {
          "output_type": "execute_result",
          "data": {
            "text/plain": [
              "    index  Unnamed: 0      id  \\\n",
              "0   20374       20377   39123   \n",
              "1  100217      103677  152203   \n",
              "2  138814      142277  213302   \n",
              "3  136585      140048  210482   \n",
              "4   28667       28675   47436   \n",
              "\n",
              "                                               title      publication  \\\n",
              "0  Exclusive - Sarah Palin: Administration Lies, ...        Breitbart   \n",
              "1  Benghazi may be over, but #Benghazi has a life...         Guardian   \n",
              "2                         The GOP stoops for scandal  Washington Post   \n",
              "3  Univision’s Ramos picked the wrong Benghazi qu...  Washington Post   \n",
              "4  Donald Trump on Benghazi: ’Hillary Clinton Dec...        Breitbart   \n",
              "\n",
              "            author        date    year  month  \\\n",
              "0      Sarah Palin  2016-06-28  2016.0    6.0   \n",
              "1     Lucia Graves  2016-06-28  2016.0    6.0   \n",
              "2  Eugene Robinson  2016-07-04  2016.0    7.0   \n",
              "3      Erik Wemple  2016-03-10  2016.0    3.0   \n",
              "4      Alex Swoyer  2016-04-27  2016.0    4.0   \n",
              "\n",
              "                                                 url  \\\n",
              "0                                                NaN   \n",
              "1  https://www.theguardian.com/commentisfree/2016...   \n",
              "2  https://web.archive.org/web/20160705001849/htt...   \n",
              "3  https://web.archive.org/web/20160311000724/htt...   \n",
              "4                                                NaN   \n",
              "\n",
              "                                             content  \\\n",
              "0  Listening to the Benghazi Committee reveal wha...   \n",
              "1  To understand the story of Benghazi, you first...   \n",
              "2   The Republican yearning to pin a scandal on H...   \n",
              "3       Jorge Ramos chose flash over substance. I...   \n",
              "4  GOP frontrunner Donald Trump, looking toward t...   \n",
              "\n",
              "                                                text  \n",
              "0  Exclusive - Sarah Palin: Administration Lies, ...  \n",
              "1  Benghazi may be over, but #Benghazi has a life...  \n",
              "2  The GOP stoops for scandal  The Republican yea...  \n",
              "3  Univision’s Ramos picked the wrong Benghazi qu...  \n",
              "4  Donald Trump on Benghazi: ’Hillary Clinton Dec...  "
            ],
            "text/html": [
              "<div>\n",
              "<style scoped>\n",
              "    .dataframe tbody tr th:only-of-type {\n",
              "        vertical-align: middle;\n",
              "    }\n",
              "\n",
              "    .dataframe tbody tr th {\n",
              "        vertical-align: top;\n",
              "    }\n",
              "\n",
              "    .dataframe thead th {\n",
              "        text-align: right;\n",
              "    }\n",
              "</style>\n",
              "<table border=\"1\" class=\"dataframe\">\n",
              "  <thead>\n",
              "    <tr style=\"text-align: right;\">\n",
              "      <th></th>\n",
              "      <th>index</th>\n",
              "      <th>Unnamed: 0</th>\n",
              "      <th>id</th>\n",
              "      <th>title</th>\n",
              "      <th>publication</th>\n",
              "      <th>author</th>\n",
              "      <th>date</th>\n",
              "      <th>year</th>\n",
              "      <th>month</th>\n",
              "      <th>url</th>\n",
              "      <th>content</th>\n",
              "      <th>text</th>\n",
              "    </tr>\n",
              "  </thead>\n",
              "  <tbody>\n",
              "    <tr>\n",
              "      <th>0</th>\n",
              "      <td>20374</td>\n",
              "      <td>20377</td>\n",
              "      <td>39123</td>\n",
              "      <td>Exclusive - Sarah Palin: Administration Lies, ...</td>\n",
              "      <td>Breitbart</td>\n",
              "      <td>Sarah Palin</td>\n",
              "      <td>2016-06-28</td>\n",
              "      <td>2016.0</td>\n",
              "      <td>6.0</td>\n",
              "      <td>NaN</td>\n",
              "      <td>Listening to the Benghazi Committee reveal wha...</td>\n",
              "      <td>Exclusive - Sarah Palin: Administration Lies, ...</td>\n",
              "    </tr>\n",
              "    <tr>\n",
              "      <th>1</th>\n",
              "      <td>100217</td>\n",
              "      <td>103677</td>\n",
              "      <td>152203</td>\n",
              "      <td>Benghazi may be over, but #Benghazi has a life...</td>\n",
              "      <td>Guardian</td>\n",
              "      <td>Lucia Graves</td>\n",
              "      <td>2016-06-28</td>\n",
              "      <td>2016.0</td>\n",
              "      <td>6.0</td>\n",
              "      <td>https://www.theguardian.com/commentisfree/2016...</td>\n",
              "      <td>To understand the story of Benghazi, you first...</td>\n",
              "      <td>Benghazi may be over, but #Benghazi has a life...</td>\n",
              "    </tr>\n",
              "    <tr>\n",
              "      <th>2</th>\n",
              "      <td>138814</td>\n",
              "      <td>142277</td>\n",
              "      <td>213302</td>\n",
              "      <td>The GOP stoops for scandal</td>\n",
              "      <td>Washington Post</td>\n",
              "      <td>Eugene Robinson</td>\n",
              "      <td>2016-07-04</td>\n",
              "      <td>2016.0</td>\n",
              "      <td>7.0</td>\n",
              "      <td>https://web.archive.org/web/20160705001849/htt...</td>\n",
              "      <td>The Republican yearning to pin a scandal on H...</td>\n",
              "      <td>The GOP stoops for scandal  The Republican yea...</td>\n",
              "    </tr>\n",
              "    <tr>\n",
              "      <th>3</th>\n",
              "      <td>136585</td>\n",
              "      <td>140048</td>\n",
              "      <td>210482</td>\n",
              "      <td>Univision’s Ramos picked the wrong Benghazi qu...</td>\n",
              "      <td>Washington Post</td>\n",
              "      <td>Erik Wemple</td>\n",
              "      <td>2016-03-10</td>\n",
              "      <td>2016.0</td>\n",
              "      <td>3.0</td>\n",
              "      <td>https://web.archive.org/web/20160311000724/htt...</td>\n",
              "      <td>Jorge Ramos chose flash over substance. I...</td>\n",
              "      <td>Univision’s Ramos picked the wrong Benghazi qu...</td>\n",
              "    </tr>\n",
              "    <tr>\n",
              "      <th>4</th>\n",
              "      <td>28667</td>\n",
              "      <td>28675</td>\n",
              "      <td>47436</td>\n",
              "      <td>Donald Trump on Benghazi: ’Hillary Clinton Dec...</td>\n",
              "      <td>Breitbart</td>\n",
              "      <td>Alex Swoyer</td>\n",
              "      <td>2016-04-27</td>\n",
              "      <td>2016.0</td>\n",
              "      <td>4.0</td>\n",
              "      <td>NaN</td>\n",
              "      <td>GOP frontrunner Donald Trump, looking toward t...</td>\n",
              "      <td>Donald Trump on Benghazi: ’Hillary Clinton Dec...</td>\n",
              "    </tr>\n",
              "  </tbody>\n",
              "</table>\n",
              "</div>"
            ]
          },
          "metadata": {
            "tags": []
          },
          "execution_count": 43
        }
      ]
    },
    {
      "cell_type": "markdown",
      "metadata": {
        "id": "k7vj_OYzZva4",
        "colab_type": "text"
      },
      "source": [
        "So each of the members inside of \"clusters\" is already a data frame. Therefore the actual data we care about, is the summarization of the content of each row within each dataframe."
      ]
    },
    {
      "cell_type": "code",
      "metadata": {
        "id": "Wx6M4jC5aVrl",
        "colab_type": "code",
        "colab": {
          "base_uri": "https://localhost:8080/",
          "height": 69
        },
        "outputId": "0b5b583f-e9e3-4951-aa4f-ecd2875d06b3"
      },
      "source": [
        "clusters[0].columns"
      ],
      "execution_count": 44,
      "outputs": [
        {
          "output_type": "execute_result",
          "data": {
            "text/plain": [
              "Index(['index', 'Unnamed: 0', 'id', 'title', 'publication', 'author', 'date',\n",
              "       'year', 'month', 'url', 'content', 'text'],\n",
              "      dtype='object')"
            ]
          },
          "metadata": {
            "tags": []
          },
          "execution_count": 44
        }
      ]
    },
    {
      "cell_type": "code",
      "metadata": {
        "id": "WOfEOyVJaLvx",
        "colab_type": "code",
        "colab": {}
      },
      "source": [
        "# lets create variables for the content of each of these\n",
        "clust_cont1 = clusters[0]['content'] \n",
        "clust_cont2 = clusters[1]['content']\n",
        "clust_cont3 = clusters[2]['content']"
      ],
      "execution_count": 0,
      "outputs": []
    },
    {
      "cell_type": "markdown",
      "metadata": {
        "id": "OPyG3_-ra0-D",
        "colab_type": "text"
      },
      "source": [
        "Some functions to work with:"
      ]
    },
    {
      "cell_type": "code",
      "metadata": {
        "id": "GHb5izQBaiQs",
        "colab_type": "code",
        "colab": {}
      },
      "source": [
        "def read_content(piece):\n",
        "  article = piece.split(\". \")\n",
        "  sentences = []\n",
        "\n",
        "  for sentence in article:\n",
        "    #print(sentence)\n",
        "    sentences.append(sentence.replace(\"[^a-zA-Z]\", \" \").split(\" \"))\n",
        "    #sentences.pop()\n",
        "\n",
        "  return sentences"
      ],
      "execution_count": 0,
      "outputs": []
    },
    {
      "cell_type": "code",
      "metadata": {
        "id": "zNE6EfpEgGOt",
        "colab_type": "code",
        "colab": {}
      },
      "source": [
        "# measuring similarity\n",
        "def sentence_similarity(sent1, sent2, stopwords=None):\n",
        "  if stopwords is None:\n",
        "    stopwords=[]\n",
        "\n",
        "  sent1 = [w.lower() for w in sent1]\n",
        "  sent2 = [w.lower() for w in sent2]\n",
        "\n",
        "  all_words = list(set(sent1 + sent2))\n",
        "\n",
        "  vector1 = [0] * len(all_words)\n",
        "  vector2 = [0] * len(all_words)\n",
        "\n",
        "  # build vector for the first sentence\n",
        "  for w in sent1:\n",
        "    if w in stopwords:\n",
        "      continue\n",
        "    vector1[all_words.index(w)] += 1\n",
        "\n",
        "  # build vector for second sentence\n",
        "  for w in sent2:\n",
        "    if w in stopwords:\n",
        "      continue\n",
        "    vector2[all_words.index(w)] += 1\n",
        "\n",
        "  return 1 - cosine_distance(vector1, vector2)"
      ],
      "execution_count": 0,
      "outputs": []
    },
    {
      "cell_type": "code",
      "metadata": {
        "id": "qUbWn0uSbdvJ",
        "colab_type": "code",
        "colab": {}
      },
      "source": [
        "# similarity matrix: cos sim to find similarity btw sent\n",
        "def build_sim_matrix(sentences, stop_words):\n",
        "  # create empty sim matrix\n",
        "  sim_matrix = np.zeros((len(sentences), len(sentences)))\n",
        "\n",
        "  for i in range(len(sentences)):\n",
        "    for j in range(len(sentences)):\n",
        "      if i == j: # skip if both are same sent\n",
        "        continue\n",
        "      sim_matrix[i][j] = sentence_similarity(sentences[i],\n",
        "                                             sentences[j],\n",
        "                                             stop_words)\n",
        "  return sim_matrix"
      ],
      "execution_count": 0,
      "outputs": []
    },
    {
      "cell_type": "code",
      "metadata": {
        "id": "SaWVVhWldMsk",
        "colab_type": "code",
        "colab": {}
      },
      "source": [
        "# generate summary method\n",
        "def generate_summary(content, top_n=5):\n",
        "  stop_words = stopwords.words('english')\n",
        "  summarized_text=[]\n",
        "\n",
        "  # first read in article and tokenize\n",
        "  sentences = read_content(content)\n",
        "\n",
        "  # second generate sim matrix accross sents\n",
        "  sent_sim_mat = build_sim_matrix(sentences, stop_words)\n",
        "\n",
        "  # third rank sentences in sim matrix\n",
        "  sent_sim_graph = nx.from_numpy_array(sent_sim_mat)\n",
        "\n",
        "  scores = nx.pagerank(sent_sim_graph, max_iter=5000)\n",
        "\n",
        "  # fourth sort the rank and pick top sent\n",
        "  ranked_sent = sorted(((scores[i],s) for i,s in enumerate(sentences)),\n",
        "                       reverse=True)\n",
        "\n",
        "  for i in range(top_n):\n",
        "    summarized_text.append(\" \".join(ranked_sent[i][1]))\n",
        "\n",
        "  # fifth, output the sumarized text\n",
        "  output = \". \".join(summarized_text)\n",
        "  #print(\"Summarized Text: \\n\", \". \".join(summarized_text))\n",
        "\n",
        "  return output"
      ],
      "execution_count": 0,
      "outputs": []
    },
    {
      "cell_type": "code",
      "metadata": {
        "id": "bPJgDWC85Giy",
        "colab_type": "code",
        "colab": {}
      },
      "source": [
        "def get_summaries(cluster_name):\n",
        "  '''\n",
        "  input: list of articles\n",
        "  output: dictionary with valid summaries\n",
        "  '''\n",
        "\n",
        "  summa = {}\n",
        "  for j in range(len(cluster_name)):\n",
        "    try:\n",
        "      out = generate_summary(cluster_name[j])\n",
        "      summa[j] = out\n",
        "    except:\n",
        "      continue\n",
        "  \n",
        "  return summa\n"
      ],
      "execution_count": 0,
      "outputs": []
    },
    {
      "cell_type": "markdown",
      "metadata": {
        "id": "abRbd86F5rNx",
        "colab_type": "text"
      },
      "source": [
        "Finally, here is a call per cluster."
      ]
    },
    {
      "cell_type": "code",
      "metadata": {
        "id": "FQuK0fTi52s3",
        "colab_type": "code",
        "colab": {
          "base_uri": "https://localhost:8080/",
          "height": 52
        },
        "outputId": "254b25fc-1487-4e6b-f05f-dc6a191da40a"
      },
      "source": [
        "first = get_summaries(clust_cont1.values)\n",
        "second = get_summaries(clust_cont2.values)\n",
        "third = get_summaries(clust_cont3.values)"
      ],
      "execution_count": 132,
      "outputs": [
        {
          "output_type": "stream",
          "text": [
            "/home/silvsilva/anaconda3/lib/python3.7/site-packages/nltk/cluster/util.py:133: RuntimeWarning: invalid value encountered in true_divide\n",
            "  return 1 - (numpy.dot(u, v) / (sqrt(numpy.dot(u, u)) * sqrt(numpy.dot(v, v))))\n"
          ],
          "name": "stderr"
        }
      ]
    },
    {
      "cell_type": "code",
      "metadata": {
        "id": "B14NfhZP6m6L",
        "colab_type": "code",
        "colab": {
          "base_uri": "https://localhost:8080/",
          "height": 55
        },
        "outputId": "e376c2f8-b4dc-4ab5-e9f0-5aa92b3af922"
      },
      "source": [
        "clust_cont1[0]"
      ],
      "execution_count": 137,
      "outputs": [
        {
          "output_type": "execute_result",
          "data": {
            "text/plain": [
              "'Listening to the Benghazi Committee reveal what we knew  —   the Obama Administration’s devastating lies cost lives, and at any point it just doesn’t matter to them. Thank you to Congressional investigators for their report. [The Administration’s deception is beyond shameful. They sat back and allowed our peacekeepers to die during what they witnessed becoming a suicide mission. In command of the greatest military in the world, yet officials sat back in Washington’s comfort, not allowing our troops to do their job to protect fellow Americans.  Hillary left our men behind. Hillary is disqualified from serving as Commander in Chief. The Administration lies and denies in places like Benghazi, which cost innocent American lives. Much like today’s refusal to believe real threats  —   denying Islam put the “I” in ISIS  —   they are wrapping America’s children in a suicide vest.'"
            ]
          },
          "metadata": {
            "tags": []
          },
          "execution_count": 137
        }
      ]
    },
    {
      "cell_type": "code",
      "metadata": {
        "id": "twxusW9j6DrI",
        "colab_type": "code",
        "colab": {
          "base_uri": "https://localhost:8080/",
          "height": 89
        },
        "outputId": "fbccd983-dc76-4ec0-9d50-3db26600dd82"
      },
      "source": [
        "first"
      ],
      "execution_count": 144,
      "outputs": [
        {
          "output_type": "execute_result",
          "data": {
            "text/plain": [
              "{0: 'Listening to the Benghazi Committee reveal what we knew  —   the Obama Administration’s devastating lies cost lives, and at any point it just doesn’t matter to them. Much like today’s refusal to believe real threats  —   denying Islam put the “I” in ISIS  —   they are wrapping America’s children in a suicide vest..  Hillary left our men behind. They sat back and allowed our peacekeepers to die during what they witnessed becoming a suicide mission. In command of the greatest military in the world, yet officials sat back in Washington’s comfort, not allowing our troops to do their job to protect fellow Americans',\n",
              " 1: 'The second biggest upshot is likely the personal misfortune for Kevin McCarthy, who  —   as result of his comment suggesting the entire   Benghazi investigation is a patently political attempt to tar Clinton  —   is not the House speaker. The conclusive   Benghazi report has finally been issued. At the time, the real smoking gun of the hearing from Matt Drudge’s perspective was a coughing fit and slow speech, which he claimed at the time was “obvious” evidence she was  —   horror of horrors  —   taking   meds. The second is #Benghazi, a dumpster fire of conspiracy theories and nakedly political attacks, fanned by rightwing Twitter trolls and fed by the    conviction that, despite overwhelming evidence to the contrary, there’s a   coverup at work. Never mind that we’ve now had more investigations of Benghazi than every   terror attack in recent history combined',\n",
              " 4: '” Trump then turned his attention to Clinton. Trump brought up the 2012 terrorist attack in Benghazi, Libya where four Americans died under Secretary of State Hillary Clinton’s tenure. GOP frontrunner Donald Trump, looking toward the general election, criticized Democrat frontrunner Hillary Clinton and President Obama’s foreign policy during his formal address on Wednesday at the Mayflower Hotel in Washington, D. “And now ISIS is making millions of dollars a week selling Libyan oil,” Trump charged, vowing, “This will change when I am president. Then, instead of taking charge that night, Hillary Clinton decided to go home and sleep! Incredible'}"
            ]
          },
          "metadata": {
            "tags": []
          },
          "execution_count": 144
        }
      ]
    },
    {
      "cell_type": "code",
      "metadata": {
        "id": "jbIksOI86GwI",
        "colab_type": "code",
        "colab": {
          "base_uri": "https://localhost:8080/",
          "height": 106
        },
        "outputId": "c5ab02ff-634a-4116-9f85-a5fdc845bb3f"
      },
      "source": [
        "second"
      ],
      "execution_count": 134,
      "outputs": [
        {
          "output_type": "execute_result",
          "data": {
            "text/plain": [
              "{0: '’ Earlier this morning, protesters marched down Main Street in Park City, Utah  —   where the Sundance Film Festival is currently taking place  —   in a Women’s March organized by Chelsea Handler.’ ’ BuzzFeed News was on site and asked women why they were participating in the march. ‘Balance’ ‘Spiritual’ Beginning Life Happiness ‘Fire in the Home’  —   LOVE”’ ’ “I marched for Civil Rights. ”’ ’ “So I can be anything when I grow up”’]   . Here are their answers:’ ’ “Marching for my grandchildren & 30 years of students in public schools”’ ’ “Trump is not an ally to the colorful, complicated, spirited people of this country! ”’ ’ “We need to advocate for EVERYONE, regardless of political climate”’ ’ “Equality for WOMEN  —   no harassment”’ ’ “I march for THE FUTURE”’ ’ “I’m a school counselor #publicschool”’ ’ “Inequality is unsustainable”’ ’ “I’m here to stand up for the rights of those that are threatened  —   minorities, women, & OUR EARTH”’ ’ “To put Trump on notice”’ ’ “I will no longer be silent”’ ’ “For the radical idea that women are people, too”’ ’ “Future is female. I marched against the war',\n",
              " 1: 'Subscribe via iTunes, Audioboom, Mixcloud, Soundcloud, Acast, Stitcher and join the discussion on Facebook and Twitter, It is estimated that millions of people worldwide marched in conjunction with Saturday’s Women’s March on Washington. This week, host Jessica Valenti talks with Jamia Wilson, executive director of Women, Action, and the Media, about what happened on Saturday and what comes next.  But while Saturday invigorated the movement to resist Trump, many are asking how to turn the energy of the demonstration into action. The pair examine some criticisms of the march and look at plans to keep the momentum going. As always, we want to hear from you: Please join the conversation in the comments below.',\n",
              " 3: '” You see, 1997 saw a Million Woman March in DC for    —   a follow to Louis Farrakhan’s 1995 Million Man March. ”  But it’s The Washington Post’s debacle that makes us suspect a curse: Thursday’s edition of the paper’s free giveaway, Express, was all about the march  —   but the cover was dominated by a giant male symbol, rather than the female one. Is the Women’s March on Washington cursed? The   protest set for Jan. (Organizers’ dodge: Claim the whole thing is a tribute to King.) And,   the event’s page is still plagued with “arguments about whether an event organized primarily by white women can be sufficiently ‘intersectional’  —   or attuned to the issues faced by, say, poor minority women who reside at the ‘intersection’ of class, race, and gender concerns in America.  1963 March on Washington',\n",
              " 4: 'The march organizers are still officially only expecting a crowd of 200, 000 to 250, 000 people  —   mostly women, but also many men  —   based on the number who have registered. “I am a woman of color and a Muslim from an immigrant family whose country is now going to be led by someone who has been openly   and sexist, has attacked Muslims and is surrounding himself with some horrible people for his cabinet,” said Zahra Billoo, director of the San Francisco chapter of the Council on   Relations and a speaker at the march. But the roar of the masses will surely reach the president’s ears later, as the speeches and   performers wrap up the    hour rally and the demonstrators march to the Ellipse, the large green space opposite the White House. But Linda Sarsour, one of the four march   hopes that the end of the event will mark the beginning of a new movement. The event began to be physically realized on Friday as buses, trains and planes started pouring into Washington, packed full of women  —   and supportive male friends dotted among them'}"
            ]
          },
          "metadata": {
            "tags": []
          },
          "execution_count": 134
        }
      ]
    },
    {
      "cell_type": "code",
      "metadata": {
        "id": "CvB3loSS6RZR",
        "colab_type": "code",
        "colab": {
          "base_uri": "https://localhost:8080/",
          "height": 124
        },
        "outputId": "6a588d75-ca98-427e-f055-e5d8dc15156b"
      },
      "source": [
        "third"
      ],
      "execution_count": 135,
      "outputs": [
        {
          "output_type": "execute_result",
          "data": {
            "text/plain": [
              "{0: '” Here are some of Tanden’s greatest hits: “    insane” That’s how Tanden described the scandal involving Hillary Clinton’s use of a private email server as secretary of state. “And has that person been drawn and quartered?” “    these   ” See the Fox News 2016 battleground prediction map and make your own election projections. CLICK TO READ MORE FROM HEAT STREET,   . ” “He’s a    ” Tanden expressed her displeasure when she learned that Democratic operative Faiz Shakir, who currently works for Senate Minority Leader Harry Reid, had started advising Hillary Clinton’s primary challenger Bernie Sanders. “Do we actually know who told Hillary she could use a private email?” she wrote in an email to Clinton campaign chairman John Podesta in 2015',\n",
              " 1: 'Comey that during its investigation, the FBI found several thousand   emails that had not been previously turned over by Clinton. [From the Washington Post:  Clinton deleted more emails than she turned over.   …     [W]e know from FBI Director James B. The essence of Clinton’s argument regarding this   process was: Trust me. As in, my team of lawyers found all of the emails that were even tangentially tied to my day job as the nation’s top diplomat and turned them over to the State Department',\n",
              " 2: 'Comey dismantled large portions of Clinton’s   story about her private server and what she sent or received on it during a stirring   news conference, after which he took no questions.        Here’s the good news for Hillary Clinton: The FBI has recommended that no charges be brought following its investigation of the former secretary of state’s private email server.              Caption   The former secretary of state clinched the number of delegates needed to be the Democratic nominee for president.  Melina   Washington Post  . Most importantly, Comey said the FBI found 110 emails on Clinton’s server that were classified at the time they were sent or received',\n",
              " 3: '’’ ’Fox News host Bret Baier grilled Hillary Clinton over her use of a private email server during her first appearance on the network in more than two years on Monday.’ ’In a network   event, Baier pressed Clinton at length about her use of a private email server while she was the US secretary of state.’ ’”The FBI investigation is still hanging over your campaign, and there are some Democrats who are worried about the other shoe dropping,” Baier said.’ ’The former secretary of state vigorously refuted claims that her past statements about sharing classified information on her private server were inaccurate.’ ’”There’’s a lot of misinformation going on around here, so let me start with the facts,” Clinton said.’ ’Last March, facing ’ ’Clinton reiterated that she believed she made a ”mistake” in using a personal email account instead of an official government account. ”’ ’Baier then confronted Clinton about the classification process itself, asking whether she believed the   emails even needed to be classified.’ ’”So your contention now is the 2, 100 or so emails should not have been classified at any time, now or then?” Baier asked.’ ’Clinton, disagreed, but called for the emails to be released.’ ’”Release it, and once the American people see it, they will see how absurd this is,” Clinton said, spurring applause in the audience.’ ’Fox News host Bret Baier grilled Hillary. It was a mistake,” Clinton said. But she argued that none of the emails she sent or received were marked classified at the time.’ ’”I have said it wasn’’t the best choice to use a personal email. Many people in the government, past and current, have on occasion or in practice have done the same',\n",
              " 4: 'Thank you, Huma. Thank you, Huma. Thank you, Anthony Weiner.”  —   @realDonaldTrump on @HillaryClinton email investigation pic. ” ”Thank you, Huma. “Thank you, Huma'}"
            ]
          },
          "metadata": {
            "tags": []
          },
          "execution_count": 135
        }
      ]
    },
    {
      "cell_type": "code",
      "metadata": {
        "id": "ebg84FyK6Smd",
        "colab_type": "code",
        "colab": {}
      },
      "source": [
        ""
      ],
      "execution_count": 0,
      "outputs": []
    }
  ]
}