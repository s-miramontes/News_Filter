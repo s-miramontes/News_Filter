{
  "nbformat": 4,
  "nbformat_minor": 0,
  "metadata": {
    "kernelspec": {
      "name": "python3",
      "display_name": "Python 3"
    },
    "language_info": {
      "codemirror_mode": {
        "name": "ipython",
        "version": 3
      },
      "file_extension": ".py",
      "mimetype": "text/x-python",
      "name": "python",
      "nbconvert_exporter": "python",
      "pygments_lexer": "ipython3",
      "version": "3.7.3"
    },
    "colab": {
      "name": "Data Cleanse and Clustering Models.ipynb",
      "provenance": [],
      "machine_shape": "hm",
      "include_colab_link": true
    },
    "accelerator": "TPU"
  },
  "cells": [
    {
      "cell_type": "markdown",
      "metadata": {
        "id": "view-in-github",
        "colab_type": "text"
      },
      "source": [
        "<a href=\"https://colab.research.google.com/github/s-miramontes/News_Filter/blob/emma/Pilot/Data%20Cleanse%20and%20Clustering%20Models.ipynb\" target=\"_parent\"><img src=\"https://colab.research.google.com/assets/colab-badge.svg\" alt=\"Open In Colab\"/></a>"
      ]
    },
    {
      "cell_type": "markdown",
      "metadata": {
        "id": "XcKFzFa9rw7L",
        "colab_type": "text"
      },
      "source": [
        "# Clustering News Headlines\n",
        "\n",
        "In this notebook we begin my importing data to analyze its contents and be able to determine the best clustering algorithm to determine the articles that are mostly related to each other."
      ]
    },
    {
      "cell_type": "markdown",
      "metadata": {
        "id": "9_yv0Wugrw7Q",
        "colab_type": "text"
      },
      "source": [
        "We start by importing some dependencies"
      ]
    },
    {
      "cell_type": "code",
      "metadata": {
        "id": "qfPkC9ajrw7S",
        "colab_type": "code",
        "outputId": "1d8100ac-fd82-471c-d725-4293dc9a8be0",
        "colab": {
          "base_uri": "https://localhost:8080/"
        }
      },
      "source": [
        "import numpy as np\n",
        "import pandas as pd\n",
        "\n",
        "import nltk\n",
        "from nltk.corpus import stopwords\n",
        "nltk.download('stopwords')\n",
        "\n",
        "import re\n",
        "from nltk.stem.snowball import SnowballStemmer\n",
        "\n",
        "from sklearn.feature_extraction.text import TfidfVectorizer\n",
        "\n",
        "from sklearn.cluster import KMeans\n",
        "\n",
        "from sklearn.metrics.pairwise import cosine_similarity"
      ],
      "execution_count": 1,
      "outputs": [
        {
          "output_type": "stream",
          "text": [
            "[nltk_data] Downloading package stopwords to\n",
            "[nltk_data]     /home/erusson/nltk_data...\n",
            "[nltk_data]   Package stopwords is already up-to-date!\n"
          ],
          "name": "stderr"
        }
      ]
    },
    {
      "cell_type": "code",
      "metadata": {
        "id": "nMXlP5VTfMDZ",
        "colab_type": "code",
        "colab": {}
      },
      "source": [
        "%%capture\n",
        "# Install the latest Tensorflow version.\n",
        "!pip3 install --upgrade tensorflow-gpu\n",
        "# Install TF-Hub.\n",
        "!pip3 install tensorflow-hub\n",
        "!pip3 install seaborn"
      ],
      "execution_count": 0,
      "outputs": []
    },
    {
      "cell_type": "code",
      "metadata": {
        "id": "DL-MzysMfN6c",
        "colab_type": "code",
        "colab": {}
      },
      "source": [
        "from absl import logging\n",
        "\n",
        "import tensorflow as tf\n",
        "import tensorflow_hub as hub\n",
        "\n",
        "import os\n",
        "\n",
        "import heapq\n",
        "import operator"
      ],
      "execution_count": 0,
      "outputs": []
    },
    {
      "cell_type": "markdown",
      "metadata": {
        "id": "1vaQv_w0sd2J",
        "colab_type": "text"
      },
      "source": [
        "## Importing Data from Local File System\n",
        "\n",
        "Datasets are located here: https://www.kaggle.com/snapcrack/all-the-news/version/4#articles3.csv\n",
        "\n",
        "Proceed to download all three 'csv' files, and store them in a 'data' directory at the location of your choice.\n"
      ]
    },
    {
      "cell_type": "markdown",
      "metadata": {
        "id": "NvT6334UtXp8",
        "colab_type": "text"
      },
      "source": [
        "*Note: It might be a better idea to have a way to import the data from the cloud (google drive) rather than from the user's local file system. Let's leave it like this for now, mainly bringing this up for easy reproducibility.*"
      ]
    },
    {
      "cell_type": "markdown",
      "metadata": {
        "id": "NjY6UfPdtXUE",
        "colab_type": "text"
      },
      "source": [
        "Instead, we can mount google drive and import the datasets from an existing file in the cloud."
      ]
    },
    {
      "cell_type": "code",
      "metadata": {
        "id": "z0OVNb1IGYsJ",
        "colab_type": "code",
        "outputId": "268229a0-59f1-40e3-8095-d1ebc5bb64a5",
        "colab": {
          "base_uri": "https://localhost:8080/"
        }
      },
      "source": [
        "# from pydrive.auth import GoogleAuth\n",
        "# from pydrive.drive import GoogleDrive\n",
        "# from google.colab import auth\n",
        "# from oauth2client.client import GoogleCredentials"
      ],
      "execution_count": 0,
      "outputs": [
        {
          "output_type": "error",
          "ename": "ModuleNotFoundError",
          "evalue": "ignored",
          "traceback": [
            "\u001b[0;31m---------------------------------------------------------------------------\u001b[0m",
            "\u001b[0;31mModuleNotFoundError\u001b[0m                       Traceback (most recent call last)",
            "\u001b[0;32m<ipython-input-4-761aabc1b564>\u001b[0m in \u001b[0;36m<module>\u001b[0;34m\u001b[0m\n\u001b[0;32m----> 1\u001b[0;31m \u001b[0;32mfrom\u001b[0m \u001b[0mpydrive\u001b[0m\u001b[0;34m.\u001b[0m\u001b[0mauth\u001b[0m \u001b[0;32mimport\u001b[0m \u001b[0mGoogleAuth\u001b[0m\u001b[0;34m\u001b[0m\u001b[0;34m\u001b[0m\u001b[0m\n\u001b[0m\u001b[1;32m      2\u001b[0m \u001b[0;32mfrom\u001b[0m \u001b[0mpydrive\u001b[0m\u001b[0;34m.\u001b[0m\u001b[0mdrive\u001b[0m \u001b[0;32mimport\u001b[0m \u001b[0mGoogleDrive\u001b[0m\u001b[0;34m\u001b[0m\u001b[0;34m\u001b[0m\u001b[0m\n\u001b[1;32m      3\u001b[0m \u001b[0;32mfrom\u001b[0m \u001b[0mgoogle\u001b[0m\u001b[0;34m.\u001b[0m\u001b[0mcolab\u001b[0m \u001b[0;32mimport\u001b[0m \u001b[0mauth\u001b[0m\u001b[0;34m\u001b[0m\u001b[0;34m\u001b[0m\u001b[0m\n\u001b[1;32m      4\u001b[0m \u001b[0;32mfrom\u001b[0m \u001b[0moauth2client\u001b[0m\u001b[0;34m.\u001b[0m\u001b[0mclient\u001b[0m \u001b[0;32mimport\u001b[0m \u001b[0mGoogleCredentials\u001b[0m\u001b[0;34m\u001b[0m\u001b[0;34m\u001b[0m\u001b[0m\n",
            "\u001b[0;31mModuleNotFoundError\u001b[0m: No module named 'pydrive'"
          ]
        }
      ]
    },
    {
      "cell_type": "code",
      "metadata": {
        "id": "W-C_jjIx_ovd",
        "colab_type": "code",
        "colab": {}
      },
      "source": [
        "# auth.authenticate_user()\n",
        "# gauth = GoogleAuth()\n",
        "# gauth.credentials = GoogleCredentials.get_application_default()\n",
        "# drive = GoogleDrive(gauth)"
      ],
      "execution_count": 0,
      "outputs": []
    },
    {
      "cell_type": "markdown",
      "metadata": {
        "id": "-lmS8cQ2_oru",
        "colab_type": "text"
      },
      "source": [
        "For every file available we have a shared link:\n",
        "\n",
        "CSV File: 'Articles 3':\n",
        "https://drive.google.com/a/berkeley.edu/file/d/1BDhi5FuIvJ_6jiIdIFXRjT0w6tgfNk10/view?usp=sharing\n",
        "\n",
        "CSV File: 'Articles 2':\n",
        "https://drive.google.com/a/berkeley.edu/file/d/1qpoRkKEOnxYg_12e0RdeRi-JWUGWNFP3/view?usp=sharing\n",
        "\n",
        "CSV File: 'Articles 1':\n",
        "https://drive.google.com/a/berkeley.edu/file/d/1c9NbOIx7M6PgyJKxR9E7HgzuJlxGIaXU/view?usp=sharing\n",
        "\n",
        "\n",
        "For each of the links above, we utiliz the File ID provided:\n",
        "\n",
        "- Articles 1 File ID: '1BDhi5FuIvJ_6jiIdIFXRjT0w6tgfNk10'\n",
        "- Articles 2 File ID: '1qpoRkKEOnxYg_12e0RdeRi-JWUGWNFP3'\n",
        "- Articles 3 File ID: '1c9NbOIx7M6PgyJKxR9E7HgzuJlxGIaXU'\n"
      ]
    },
    {
      "cell_type": "code",
      "metadata": {
        "id": "Yo9j0HpN_om3",
        "colab_type": "code",
        "colab": {}
      },
      "source": [
        "# downloaded3 = drive.CreateFile({'id':\"1BDhi5FuIvJ_6jiIdIFXRjT0w6tgfNk10\"})   # replace the id with id of file you want to access\n",
        "# downloaded3.GetContentFile('articles3.csv.zip')        # replace the file name with your file\n",
        "\n",
        "# downloaded2 = drive.CreateFile({'id': \"1qpoRkKEOnxYg_12e0RdeRi-JWUGWNFP3\"})\n",
        "# downloaded2.GetContentFile('articles2.csv.zip')\n",
        "\n",
        "# downloaded1 = drive.CreateFile({'id': \"1c9NbOIx7M6PgyJKxR9E7HgzuJlxGIaXU\"})\n",
        "# downloaded1.GetContentFile('articles1.csv.zip')"
      ],
      "execution_count": 0,
      "outputs": []
    },
    {
      "cell_type": "code",
      "metadata": {
        "id": "LWGIyGKy_ohe",
        "colab_type": "code",
        "colab": {}
      },
      "source": [
        "articles_3 = pd.read_csv('w266/articles3.csv')\n",
        "articles_2 = pd.read_csv('w266/articles2.csv')\n",
        "articles_1 = pd.read_csv('w266/articles1.csv')"
      ],
      "execution_count": 0,
      "outputs": []
    },
    {
      "cell_type": "code",
      "metadata": {
        "id": "BMp3ER1V_oZW",
        "colab_type": "code",
        "outputId": "09aa7eef-eca3-4a3e-f451-19cacff6e766",
        "colab": {
          "base_uri": "https://localhost:8080/",
          "height": 564
        }
      },
      "source": [
        "articles_3.head()"
      ],
      "execution_count": 0,
      "outputs": [
        {
          "output_type": "execute_result",
          "data": {
            "text/html": [
              "<div>\n",
              "<style scoped>\n",
              "    .dataframe tbody tr th:only-of-type {\n",
              "        vertical-align: middle;\n",
              "    }\n",
              "\n",
              "    .dataframe tbody tr th {\n",
              "        vertical-align: top;\n",
              "    }\n",
              "\n",
              "    .dataframe thead th {\n",
              "        text-align: right;\n",
              "    }\n",
              "</style>\n",
              "<table border=\"1\" class=\"dataframe\">\n",
              "  <thead>\n",
              "    <tr style=\"text-align: right;\">\n",
              "      <th></th>\n",
              "      <th>Unnamed: 0</th>\n",
              "      <th>id</th>\n",
              "      <th>title</th>\n",
              "      <th>publication</th>\n",
              "      <th>author</th>\n",
              "      <th>date</th>\n",
              "      <th>year</th>\n",
              "      <th>month</th>\n",
              "      <th>url</th>\n",
              "      <th>content</th>\n",
              "    </tr>\n",
              "  </thead>\n",
              "  <tbody>\n",
              "    <tr>\n",
              "      <th>0</th>\n",
              "      <td>103459</td>\n",
              "      <td>151908</td>\n",
              "      <td>Alton Sterling’s son: ’Everyone needs to prote...</td>\n",
              "      <td>Guardian</td>\n",
              "      <td>Jessica Glenza</td>\n",
              "      <td>2016-07-13</td>\n",
              "      <td>2016.0</td>\n",
              "      <td>7.0</td>\n",
              "      <td>https://www.theguardian.com/us-news/2016/jul/1...</td>\n",
              "      <td>The son of a Louisiana man whose father was sh...</td>\n",
              "    </tr>\n",
              "    <tr>\n",
              "      <th>1</th>\n",
              "      <td>103460</td>\n",
              "      <td>151909</td>\n",
              "      <td>Shakespeare’s first four folios sell at auctio...</td>\n",
              "      <td>Guardian</td>\n",
              "      <td>NaN</td>\n",
              "      <td>2016-05-25</td>\n",
              "      <td>2016.0</td>\n",
              "      <td>5.0</td>\n",
              "      <td>https://www.theguardian.com/culture/2016/may/2...</td>\n",
              "      <td>Copies of William Shakespeare’s first four boo...</td>\n",
              "    </tr>\n",
              "    <tr>\n",
              "      <th>2</th>\n",
              "      <td>103461</td>\n",
              "      <td>151910</td>\n",
              "      <td>My grandmother’s death saved me from a life of...</td>\n",
              "      <td>Guardian</td>\n",
              "      <td>Robert Pendry</td>\n",
              "      <td>2016-10-31</td>\n",
              "      <td>2016.0</td>\n",
              "      <td>10.0</td>\n",
              "      <td>https://www.theguardian.com/commentisfree/2016...</td>\n",
              "      <td>Debt: $20, 000, Source: College, credit cards,...</td>\n",
              "    </tr>\n",
              "    <tr>\n",
              "      <th>3</th>\n",
              "      <td>103462</td>\n",
              "      <td>151911</td>\n",
              "      <td>I feared my life lacked meaning. Cancer pushed...</td>\n",
              "      <td>Guardian</td>\n",
              "      <td>Bradford Frost</td>\n",
              "      <td>2016-11-26</td>\n",
              "      <td>2016.0</td>\n",
              "      <td>11.0</td>\n",
              "      <td>https://www.theguardian.com/commentisfree/2016...</td>\n",
              "      <td>It was late. I was drunk, nearing my 35th birt...</td>\n",
              "    </tr>\n",
              "    <tr>\n",
              "      <th>4</th>\n",
              "      <td>103463</td>\n",
              "      <td>151912</td>\n",
              "      <td>Texas man serving life sentence innocent of do...</td>\n",
              "      <td>Guardian</td>\n",
              "      <td>NaN</td>\n",
              "      <td>2016-08-20</td>\n",
              "      <td>2016.0</td>\n",
              "      <td>8.0</td>\n",
              "      <td>https://www.theguardian.com/us-news/2016/aug/2...</td>\n",
              "      <td>A central Texas man serving a life sentence fo...</td>\n",
              "    </tr>\n",
              "  </tbody>\n",
              "</table>\n",
              "</div>"
            ],
            "text/plain": [
              "   Unnamed: 0  ...                                            content\n",
              "0      103459  ...  The son of a Louisiana man whose father was sh...\n",
              "1      103460  ...  Copies of William Shakespeare’s first four boo...\n",
              "2      103461  ...  Debt: $20, 000, Source: College, credit cards,...\n",
              "3      103462  ...  It was late. I was drunk, nearing my 35th birt...\n",
              "4      103463  ...  A central Texas man serving a life sentence fo...\n",
              "\n",
              "[5 rows x 10 columns]"
            ]
          },
          "metadata": {
            "tags": []
          },
          "execution_count": 8
        }
      ]
    },
    {
      "cell_type": "code",
      "metadata": {
        "id": "bWjyZH92_oFe",
        "colab_type": "code",
        "outputId": "621ddc7b-ca20-42d6-d5cc-a85413878885",
        "colab": {
          "base_uri": "https://localhost:8080/",
          "height": 595
        }
      },
      "source": [
        "articles_2.head()"
      ],
      "execution_count": 0,
      "outputs": [
        {
          "output_type": "execute_result",
          "data": {
            "text/html": [
              "<div>\n",
              "<style scoped>\n",
              "    .dataframe tbody tr th:only-of-type {\n",
              "        vertical-align: middle;\n",
              "    }\n",
              "\n",
              "    .dataframe tbody tr th {\n",
              "        vertical-align: top;\n",
              "    }\n",
              "\n",
              "    .dataframe thead th {\n",
              "        text-align: right;\n",
              "    }\n",
              "</style>\n",
              "<table border=\"1\" class=\"dataframe\">\n",
              "  <thead>\n",
              "    <tr style=\"text-align: right;\">\n",
              "      <th></th>\n",
              "      <th>Unnamed: 0</th>\n",
              "      <th>id</th>\n",
              "      <th>title</th>\n",
              "      <th>publication</th>\n",
              "      <th>author</th>\n",
              "      <th>date</th>\n",
              "      <th>year</th>\n",
              "      <th>month</th>\n",
              "      <th>url</th>\n",
              "      <th>content</th>\n",
              "    </tr>\n",
              "  </thead>\n",
              "  <tbody>\n",
              "    <tr>\n",
              "      <th>0</th>\n",
              "      <td>53293</td>\n",
              "      <td>73471</td>\n",
              "      <td>Patriots Day Is Best When It Digs Past the Her...</td>\n",
              "      <td>Atlantic</td>\n",
              "      <td>David Sims</td>\n",
              "      <td>2017-01-11</td>\n",
              "      <td>2017.0</td>\n",
              "      <td>1.0</td>\n",
              "      <td>NaN</td>\n",
              "      <td>Patriots Day, Peter Berg’s new thriller that r...</td>\n",
              "    </tr>\n",
              "    <tr>\n",
              "      <th>1</th>\n",
              "      <td>53294</td>\n",
              "      <td>73472</td>\n",
              "      <td>A Break in the Search for the Origin of Comple...</td>\n",
              "      <td>Atlantic</td>\n",
              "      <td>Ed Yong</td>\n",
              "      <td>2017-01-11</td>\n",
              "      <td>2017.0</td>\n",
              "      <td>1.0</td>\n",
              "      <td>NaN</td>\n",
              "      <td>In Norse mythology, humans and our world were ...</td>\n",
              "    </tr>\n",
              "    <tr>\n",
              "      <th>2</th>\n",
              "      <td>53295</td>\n",
              "      <td>73474</td>\n",
              "      <td>Obama’s Ingenious Mention of Atticus Finch</td>\n",
              "      <td>Atlantic</td>\n",
              "      <td>Spencer Kornhaber</td>\n",
              "      <td>2017-01-11</td>\n",
              "      <td>2017.0</td>\n",
              "      <td>1.0</td>\n",
              "      <td>NaN</td>\n",
              "      <td>“If our democracy is to work in this increasin...</td>\n",
              "    </tr>\n",
              "    <tr>\n",
              "      <th>3</th>\n",
              "      <td>53296</td>\n",
              "      <td>73475</td>\n",
              "      <td>Donald Trump Meets, and Assails, the Press</td>\n",
              "      <td>Atlantic</td>\n",
              "      <td>David A. Graham</td>\n",
              "      <td>2017-01-11</td>\n",
              "      <td>2017.0</td>\n",
              "      <td>1.0</td>\n",
              "      <td>NaN</td>\n",
              "      <td>Updated on January 11 at 5:05 p. m. In his fir...</td>\n",
              "    </tr>\n",
              "    <tr>\n",
              "      <th>4</th>\n",
              "      <td>53297</td>\n",
              "      <td>73476</td>\n",
              "      <td>Trump: ’I Think’ Hacking Was Russian</td>\n",
              "      <td>Atlantic</td>\n",
              "      <td>Kaveh Waddell</td>\n",
              "      <td>2017-01-11</td>\n",
              "      <td>2017.0</td>\n",
              "      <td>1.0</td>\n",
              "      <td>NaN</td>\n",
              "      <td>Updated at 12:25 p. m. After months of equivoc...</td>\n",
              "    </tr>\n",
              "  </tbody>\n",
              "</table>\n",
              "</div>"
            ],
            "text/plain": [
              "   Unnamed: 0     id  ...  url                                            content\n",
              "0       53293  73471  ...  NaN  Patriots Day, Peter Berg’s new thriller that r...\n",
              "1       53294  73472  ...  NaN  In Norse mythology, humans and our world were ...\n",
              "2       53295  73474  ...  NaN  “If our democracy is to work in this increasin...\n",
              "3       53296  73475  ...  NaN  Updated on January 11 at 5:05 p. m. In his fir...\n",
              "4       53297  73476  ...  NaN  Updated at 12:25 p. m. After months of equivoc...\n",
              "\n",
              "[5 rows x 10 columns]"
            ]
          },
          "metadata": {
            "tags": []
          },
          "execution_count": 9
        }
      ]
    },
    {
      "cell_type": "code",
      "metadata": {
        "id": "I2qaWd4A_nmv",
        "colab_type": "code",
        "outputId": "80191102-ee1c-4f8b-f7e5-c321030f2c02",
        "colab": {
          "base_uri": "https://localhost:8080/",
          "height": 615
        }
      },
      "source": [
        "articles_1.head()"
      ],
      "execution_count": 0,
      "outputs": [
        {
          "output_type": "execute_result",
          "data": {
            "text/html": [
              "<div>\n",
              "<style scoped>\n",
              "    .dataframe tbody tr th:only-of-type {\n",
              "        vertical-align: middle;\n",
              "    }\n",
              "\n",
              "    .dataframe tbody tr th {\n",
              "        vertical-align: top;\n",
              "    }\n",
              "\n",
              "    .dataframe thead th {\n",
              "        text-align: right;\n",
              "    }\n",
              "</style>\n",
              "<table border=\"1\" class=\"dataframe\">\n",
              "  <thead>\n",
              "    <tr style=\"text-align: right;\">\n",
              "      <th></th>\n",
              "      <th>Unnamed: 0</th>\n",
              "      <th>id</th>\n",
              "      <th>title</th>\n",
              "      <th>publication</th>\n",
              "      <th>author</th>\n",
              "      <th>date</th>\n",
              "      <th>year</th>\n",
              "      <th>month</th>\n",
              "      <th>url</th>\n",
              "      <th>content</th>\n",
              "    </tr>\n",
              "  </thead>\n",
              "  <tbody>\n",
              "    <tr>\n",
              "      <th>0</th>\n",
              "      <td>0</td>\n",
              "      <td>17283</td>\n",
              "      <td>House Republicans Fret About Winning Their Hea...</td>\n",
              "      <td>New York Times</td>\n",
              "      <td>Carl Hulse</td>\n",
              "      <td>2016-12-31</td>\n",
              "      <td>2016.0</td>\n",
              "      <td>12.0</td>\n",
              "      <td>NaN</td>\n",
              "      <td>WASHINGTON  —   Congressional Republicans have...</td>\n",
              "    </tr>\n",
              "    <tr>\n",
              "      <th>1</th>\n",
              "      <td>1</td>\n",
              "      <td>17284</td>\n",
              "      <td>Rift Between Officers and Residents as Killing...</td>\n",
              "      <td>New York Times</td>\n",
              "      <td>Benjamin Mueller and Al Baker</td>\n",
              "      <td>2017-06-19</td>\n",
              "      <td>2017.0</td>\n",
              "      <td>6.0</td>\n",
              "      <td>NaN</td>\n",
              "      <td>After the bullet shells get counted, the blood...</td>\n",
              "    </tr>\n",
              "    <tr>\n",
              "      <th>2</th>\n",
              "      <td>2</td>\n",
              "      <td>17285</td>\n",
              "      <td>Tyrus Wong, ‘Bambi’ Artist Thwarted by Racial ...</td>\n",
              "      <td>New York Times</td>\n",
              "      <td>Margalit Fox</td>\n",
              "      <td>2017-01-06</td>\n",
              "      <td>2017.0</td>\n",
              "      <td>1.0</td>\n",
              "      <td>NaN</td>\n",
              "      <td>When Walt Disney’s “Bambi” opened in 1942, cri...</td>\n",
              "    </tr>\n",
              "    <tr>\n",
              "      <th>3</th>\n",
              "      <td>3</td>\n",
              "      <td>17286</td>\n",
              "      <td>Among Deaths in 2016, a Heavy Toll in Pop Musi...</td>\n",
              "      <td>New York Times</td>\n",
              "      <td>William McDonald</td>\n",
              "      <td>2017-04-10</td>\n",
              "      <td>2017.0</td>\n",
              "      <td>4.0</td>\n",
              "      <td>NaN</td>\n",
              "      <td>Death may be the great equalizer, but it isn’t...</td>\n",
              "    </tr>\n",
              "    <tr>\n",
              "      <th>4</th>\n",
              "      <td>4</td>\n",
              "      <td>17287</td>\n",
              "      <td>Kim Jong-un Says North Korea Is Preparing to T...</td>\n",
              "      <td>New York Times</td>\n",
              "      <td>Choe Sang-Hun</td>\n",
              "      <td>2017-01-02</td>\n",
              "      <td>2017.0</td>\n",
              "      <td>1.0</td>\n",
              "      <td>NaN</td>\n",
              "      <td>SEOUL, South Korea  —   North Korea’s leader, ...</td>\n",
              "    </tr>\n",
              "  </tbody>\n",
              "</table>\n",
              "</div>"
            ],
            "text/plain": [
              "   Unnamed: 0     id  ... url                                            content\n",
              "0           0  17283  ... NaN  WASHINGTON  —   Congressional Republicans have...\n",
              "1           1  17284  ... NaN  After the bullet shells get counted, the blood...\n",
              "2           2  17285  ... NaN  When Walt Disney’s “Bambi” opened in 1942, cri...\n",
              "3           3  17286  ... NaN  Death may be the great equalizer, but it isn’t...\n",
              "4           4  17287  ... NaN  SEOUL, South Korea  —   North Korea’s leader, ...\n",
              "\n",
              "[5 rows x 10 columns]"
            ]
          },
          "metadata": {
            "tags": []
          },
          "execution_count": 10
        }
      ]
    },
    {
      "cell_type": "code",
      "metadata": {
        "id": "Q62vtXwaR9og",
        "colab_type": "code",
        "outputId": "c9f1757b-7a1c-423b-b5b0-0d71b719de2e",
        "colab": {
          "base_uri": "https://localhost:8080/",
          "height": 34
        }
      },
      "source": [
        "set(articles_3.publication)"
      ],
      "execution_count": 0,
      "outputs": [
        {
          "output_type": "execute_result",
          "data": {
            "text/plain": [
              "{'Guardian', 'NPR', 'Reuters', 'Vox', 'Washington Post'}"
            ]
          },
          "metadata": {
            "tags": []
          },
          "execution_count": 11
        }
      ]
    },
    {
      "cell_type": "code",
      "metadata": {
        "id": "n9ILnYjuGgjC",
        "colab_type": "code",
        "outputId": "6e084778-233b-4ccf-9804-32b08c0471e8",
        "colab": {
          "base_uri": "https://localhost:8080/",
          "height": 136
        }
      },
      "source": [
        "set(articles_2.publication)"
      ],
      "execution_count": 0,
      "outputs": [
        {
          "output_type": "execute_result",
          "data": {
            "text/plain": [
              "{'Atlantic',\n",
              " 'Buzzfeed News',\n",
              " 'Fox News',\n",
              " 'Guardian',\n",
              " 'National Review',\n",
              " 'New York Post',\n",
              " 'Talking Points Memo'}"
            ]
          },
          "metadata": {
            "tags": []
          },
          "execution_count": 12
        }
      ]
    },
    {
      "cell_type": "code",
      "metadata": {
        "id": "_GuTjI-0G7U5",
        "colab_type": "code",
        "outputId": "cb9d2d4b-c815-44dc-cbb9-176a27fbf9d0",
        "colab": {
          "base_uri": "https://localhost:8080/",
          "height": 34
        }
      },
      "source": [
        "set(articles_1.publication)"
      ],
      "execution_count": 0,
      "outputs": [
        {
          "output_type": "execute_result",
          "data": {
            "text/plain": [
              "{'Atlantic', 'Breitbart', 'Business Insider', 'CNN', 'New York Times'}"
            ]
          },
          "metadata": {
            "tags": []
          },
          "execution_count": 13
        }
      ]
    },
    {
      "cell_type": "code",
      "metadata": {
        "id": "6-c_j1F0G8YL",
        "colab_type": "code",
        "colab": {}
      },
      "source": [
        "full_data = pd.concat([articles_1, articles_2, articles_3], ignore_index=True)"
      ],
      "execution_count": 0,
      "outputs": []
    },
    {
      "cell_type": "code",
      "metadata": {
        "id": "Nusfid1cHd8l",
        "colab_type": "code",
        "outputId": "cd6b9629-bbab-4ba9-d25e-9e7ab7888949",
        "colab": {
          "base_uri": "https://localhost:8080/",
          "height": 946
        }
      },
      "source": [
        "full_data"
      ],
      "execution_count": 5,
      "outputs": [
        {
          "output_type": "execute_result",
          "data": {
            "text/plain": [
              "        Unnamed: 0      id                                              title  \\\n",
              "0                0   17283  House Republicans Fret About Winning Their Hea...   \n",
              "1                1   17284  Rift Between Officers and Residents as Killing...   \n",
              "2                2   17285  Tyrus Wong, ‘Bambi’ Artist Thwarted by Racial ...   \n",
              "3                3   17286  Among Deaths in 2016, a Heavy Toll in Pop Musi...   \n",
              "4                4   17287  Kim Jong-un Says North Korea Is Preparing to T...   \n",
              "...            ...     ...                                                ...   \n",
              "142565      146028  218078  An eavesdropping Uber driver saved his 16-year...   \n",
              "142566      146029  218079  Plane carrying six people returning from a Cav...   \n",
              "142567      146030  218080  After helping a fraction of homeowners expecte...   \n",
              "142568      146031  218081  Yes, this is real: Michigan just banned bannin...   \n",
              "142569      146032  218082  What happened in Washington state after voters...   \n",
              "\n",
              "            publication                         author        date    year  \\\n",
              "0        New York Times                     Carl Hulse  2016-12-31  2016.0   \n",
              "1        New York Times  Benjamin Mueller and Al Baker  2017-06-19  2017.0   \n",
              "2        New York Times                   Margalit Fox  2017-01-06  2017.0   \n",
              "3        New York Times               William McDonald  2017-04-10  2017.0   \n",
              "4        New York Times                  Choe Sang-Hun  2017-01-02  2017.0   \n",
              "...                 ...                            ...         ...     ...   \n",
              "142565  Washington Post                       Avi Selk  2016-12-30  2016.0   \n",
              "142566  Washington Post                  Sarah Larimer  2016-12-30  2016.0   \n",
              "142567  Washington Post                    Renae Merle  2016-12-30  2016.0   \n",
              "142568  Washington Post                 Chelsea Harvey  2016-12-30  2016.0   \n",
              "142569  Washington Post           Christopher Ingraham  2016-12-29  2016.0   \n",
              "\n",
              "        month                                                url  \\\n",
              "0        12.0                                                NaN   \n",
              "1         6.0                                                NaN   \n",
              "2         1.0                                                NaN   \n",
              "3         4.0                                                NaN   \n",
              "4         1.0                                                NaN   \n",
              "...       ...                                                ...   \n",
              "142565   12.0  https://web.archive.org/web/20161231004909/htt...   \n",
              "142566   12.0  https://web.archive.org/web/20161231004909/htt...   \n",
              "142567   12.0  https://web.archive.org/web/20161231004909/htt...   \n",
              "142568   12.0  https://web.archive.org/web/20161231004909/htt...   \n",
              "142569   12.0  https://web.archive.org/web/20161231004909/htt...   \n",
              "\n",
              "                                                  content  \n",
              "0       WASHINGTON  —   Congressional Republicans have...  \n",
              "1       After the bullet shells get counted, the blood...  \n",
              "2       When Walt Disney’s “Bambi” opened in 1942, cri...  \n",
              "3       Death may be the great equalizer, but it isn’t...  \n",
              "4       SEOUL, South Korea  —   North Korea’s leader, ...  \n",
              "...                                                   ...  \n",
              "142565           Uber driver Keith Avila picked up a p...  \n",
              "142566           Crews on Friday continued to search L...  \n",
              "142567       When the Obama administration announced a...  \n",
              "142568       This story has been updated. A new law in...  \n",
              "142569       The nation’s first recreational marijuana...  \n",
              "\n",
              "[142570 rows x 10 columns]"
            ],
            "text/html": [
              "<div>\n",
              "<style scoped>\n",
              "    .dataframe tbody tr th:only-of-type {\n",
              "        vertical-align: middle;\n",
              "    }\n",
              "\n",
              "    .dataframe tbody tr th {\n",
              "        vertical-align: top;\n",
              "    }\n",
              "\n",
              "    .dataframe thead th {\n",
              "        text-align: right;\n",
              "    }\n",
              "</style>\n",
              "<table border=\"1\" class=\"dataframe\">\n",
              "  <thead>\n",
              "    <tr style=\"text-align: right;\">\n",
              "      <th></th>\n",
              "      <th>Unnamed: 0</th>\n",
              "      <th>id</th>\n",
              "      <th>title</th>\n",
              "      <th>publication</th>\n",
              "      <th>author</th>\n",
              "      <th>date</th>\n",
              "      <th>year</th>\n",
              "      <th>month</th>\n",
              "      <th>url</th>\n",
              "      <th>content</th>\n",
              "    </tr>\n",
              "  </thead>\n",
              "  <tbody>\n",
              "    <tr>\n",
              "      <td>0</td>\n",
              "      <td>0</td>\n",
              "      <td>17283</td>\n",
              "      <td>House Republicans Fret About Winning Their Hea...</td>\n",
              "      <td>New York Times</td>\n",
              "      <td>Carl Hulse</td>\n",
              "      <td>2016-12-31</td>\n",
              "      <td>2016.0</td>\n",
              "      <td>12.0</td>\n",
              "      <td>NaN</td>\n",
              "      <td>WASHINGTON  —   Congressional Republicans have...</td>\n",
              "    </tr>\n",
              "    <tr>\n",
              "      <td>1</td>\n",
              "      <td>1</td>\n",
              "      <td>17284</td>\n",
              "      <td>Rift Between Officers and Residents as Killing...</td>\n",
              "      <td>New York Times</td>\n",
              "      <td>Benjamin Mueller and Al Baker</td>\n",
              "      <td>2017-06-19</td>\n",
              "      <td>2017.0</td>\n",
              "      <td>6.0</td>\n",
              "      <td>NaN</td>\n",
              "      <td>After the bullet shells get counted, the blood...</td>\n",
              "    </tr>\n",
              "    <tr>\n",
              "      <td>2</td>\n",
              "      <td>2</td>\n",
              "      <td>17285</td>\n",
              "      <td>Tyrus Wong, ‘Bambi’ Artist Thwarted by Racial ...</td>\n",
              "      <td>New York Times</td>\n",
              "      <td>Margalit Fox</td>\n",
              "      <td>2017-01-06</td>\n",
              "      <td>2017.0</td>\n",
              "      <td>1.0</td>\n",
              "      <td>NaN</td>\n",
              "      <td>When Walt Disney’s “Bambi” opened in 1942, cri...</td>\n",
              "    </tr>\n",
              "    <tr>\n",
              "      <td>3</td>\n",
              "      <td>3</td>\n",
              "      <td>17286</td>\n",
              "      <td>Among Deaths in 2016, a Heavy Toll in Pop Musi...</td>\n",
              "      <td>New York Times</td>\n",
              "      <td>William McDonald</td>\n",
              "      <td>2017-04-10</td>\n",
              "      <td>2017.0</td>\n",
              "      <td>4.0</td>\n",
              "      <td>NaN</td>\n",
              "      <td>Death may be the great equalizer, but it isn’t...</td>\n",
              "    </tr>\n",
              "    <tr>\n",
              "      <td>4</td>\n",
              "      <td>4</td>\n",
              "      <td>17287</td>\n",
              "      <td>Kim Jong-un Says North Korea Is Preparing to T...</td>\n",
              "      <td>New York Times</td>\n",
              "      <td>Choe Sang-Hun</td>\n",
              "      <td>2017-01-02</td>\n",
              "      <td>2017.0</td>\n",
              "      <td>1.0</td>\n",
              "      <td>NaN</td>\n",
              "      <td>SEOUL, South Korea  —   North Korea’s leader, ...</td>\n",
              "    </tr>\n",
              "    <tr>\n",
              "      <td>...</td>\n",
              "      <td>...</td>\n",
              "      <td>...</td>\n",
              "      <td>...</td>\n",
              "      <td>...</td>\n",
              "      <td>...</td>\n",
              "      <td>...</td>\n",
              "      <td>...</td>\n",
              "      <td>...</td>\n",
              "      <td>...</td>\n",
              "      <td>...</td>\n",
              "    </tr>\n",
              "    <tr>\n",
              "      <td>142565</td>\n",
              "      <td>146028</td>\n",
              "      <td>218078</td>\n",
              "      <td>An eavesdropping Uber driver saved his 16-year...</td>\n",
              "      <td>Washington Post</td>\n",
              "      <td>Avi Selk</td>\n",
              "      <td>2016-12-30</td>\n",
              "      <td>2016.0</td>\n",
              "      <td>12.0</td>\n",
              "      <td>https://web.archive.org/web/20161231004909/htt...</td>\n",
              "      <td>Uber driver Keith Avila picked up a p...</td>\n",
              "    </tr>\n",
              "    <tr>\n",
              "      <td>142566</td>\n",
              "      <td>146029</td>\n",
              "      <td>218079</td>\n",
              "      <td>Plane carrying six people returning from a Cav...</td>\n",
              "      <td>Washington Post</td>\n",
              "      <td>Sarah Larimer</td>\n",
              "      <td>2016-12-30</td>\n",
              "      <td>2016.0</td>\n",
              "      <td>12.0</td>\n",
              "      <td>https://web.archive.org/web/20161231004909/htt...</td>\n",
              "      <td>Crews on Friday continued to search L...</td>\n",
              "    </tr>\n",
              "    <tr>\n",
              "      <td>142567</td>\n",
              "      <td>146030</td>\n",
              "      <td>218080</td>\n",
              "      <td>After helping a fraction of homeowners expecte...</td>\n",
              "      <td>Washington Post</td>\n",
              "      <td>Renae Merle</td>\n",
              "      <td>2016-12-30</td>\n",
              "      <td>2016.0</td>\n",
              "      <td>12.0</td>\n",
              "      <td>https://web.archive.org/web/20161231004909/htt...</td>\n",
              "      <td>When the Obama administration announced a...</td>\n",
              "    </tr>\n",
              "    <tr>\n",
              "      <td>142568</td>\n",
              "      <td>146031</td>\n",
              "      <td>218081</td>\n",
              "      <td>Yes, this is real: Michigan just banned bannin...</td>\n",
              "      <td>Washington Post</td>\n",
              "      <td>Chelsea Harvey</td>\n",
              "      <td>2016-12-30</td>\n",
              "      <td>2016.0</td>\n",
              "      <td>12.0</td>\n",
              "      <td>https://web.archive.org/web/20161231004909/htt...</td>\n",
              "      <td>This story has been updated. A new law in...</td>\n",
              "    </tr>\n",
              "    <tr>\n",
              "      <td>142569</td>\n",
              "      <td>146032</td>\n",
              "      <td>218082</td>\n",
              "      <td>What happened in Washington state after voters...</td>\n",
              "      <td>Washington Post</td>\n",
              "      <td>Christopher Ingraham</td>\n",
              "      <td>2016-12-29</td>\n",
              "      <td>2016.0</td>\n",
              "      <td>12.0</td>\n",
              "      <td>https://web.archive.org/web/20161231004909/htt...</td>\n",
              "      <td>The nation’s first recreational marijuana...</td>\n",
              "    </tr>\n",
              "  </tbody>\n",
              "</table>\n",
              "<p>142570 rows × 10 columns</p>\n",
              "</div>"
            ]
          },
          "metadata": {
            "tags": []
          },
          "execution_count": 5
        }
      ]
    },
    {
      "cell_type": "code",
      "metadata": {
        "id": "KF1gdGRjK7HB",
        "colab_type": "code",
        "colab": {}
      },
      "source": [
        "# remove duplicates\n",
        "full_data = full_data.drop_duplicates(subset=['title', 'publication', 'author', 'date'])"
      ],
      "execution_count": 0,
      "outputs": []
    },
    {
      "cell_type": "code",
      "metadata": {
        "id": "FoumqwwKQJ29",
        "colab_type": "code",
        "colab": {}
      },
      "source": [
        "# remove missing titles \n",
        "full_data = full_data.dropna(subset=['title'])"
      ],
      "execution_count": 0,
      "outputs": []
    },
    {
      "cell_type": "code",
      "metadata": {
        "id": "geKADAkQ1isB",
        "colab_type": "code",
        "outputId": "14deebec-0bda-4a66-85ff-f921981ae438",
        "colab": {
          "base_uri": "https://localhost:8080/",
          "height": 272
        }
      },
      "source": [
        "# sample from full_data (set seed to 5)\n",
        "small_data = full_data.sample(n=10000, random_state=5).reset_index()\n",
        "set(small_data.publication)"
      ],
      "execution_count": 8,
      "outputs": [
        {
          "output_type": "execute_result",
          "data": {
            "text/plain": [
              "{'Atlantic',\n",
              " 'Breitbart',\n",
              " 'Business Insider',\n",
              " 'Buzzfeed News',\n",
              " 'CNN',\n",
              " 'Fox News',\n",
              " 'Guardian',\n",
              " 'NPR',\n",
              " 'National Review',\n",
              " 'New York Post',\n",
              " 'New York Times',\n",
              " 'Reuters',\n",
              " 'Talking Points Memo',\n",
              " 'Vox',\n",
              " 'Washington Post'}"
            ]
          },
          "metadata": {
            "tags": []
          },
          "execution_count": 8
        }
      ]
    },
    {
      "cell_type": "code",
      "metadata": {
        "id": "oHsWKlomnvcj",
        "colab_type": "code",
        "outputId": "adebeb7e-8806-4ef0-f545-0f6e18601f34",
        "colab": {
          "base_uri": "https://localhost:8080/",
          "height": 980
        }
      },
      "source": [
        "small_data"
      ],
      "execution_count": 9,
      "outputs": [
        {
          "output_type": "execute_result",
          "data": {
            "text/plain": [
              "       index  Unnamed: 0      id  \\\n",
              "0      74496       77946  118473   \n",
              "1      71184       74592  113594   \n",
              "2     120205      123668  184574   \n",
              "3     128977      132440  199665   \n",
              "4     134837      138300  208223   \n",
              "...      ...         ...     ...   \n",
              "9995  137105      140568  211140   \n",
              "9996   60293       63612   86308   \n",
              "9997   55079       58389   80070   \n",
              "9998  110248      113711  168509   \n",
              "9999  123649      127112  190014   \n",
              "\n",
              "                                                  title      publication  \\\n",
              "0     Chaos in the Family, Chaos in the State: The W...  National Review   \n",
              "1      US Civil Rights Commission Will Observe Stand...    Buzzfeed News   \n",
              "2     Venezuela hunts rogue helicopter attackers, Ma...          Reuters   \n",
              "3     Fruit juice isn’t much better for you than sod...              Vox   \n",
              "4     Sessions won’t testify at congressional budget...  Washington Post   \n",
              "...                                                 ...              ...   \n",
              "9995  Patient secretly recorded doctors as they oper...  Washington Post   \n",
              "9996  Fox News Poll: Clinton edges Trump by two poin...         Fox News   \n",
              "9997  The Atlantic  Politics & Policy Daily: Trump’s...         Atlantic   \n",
              "9998  A Son In Chains. A Depressed Mom. Here’s What ...              NPR   \n",
              "9999  Trump’s expected VP pick: coal advocate who de...          Reuters   \n",
              "\n",
              "                                     author        date    year  month  \\\n",
              "0                       Kevin D. Williamson  2016-03-17  2016.0    3.0   \n",
              "1                          Nidhi Subbaraman  2016-12-08  2016.0   12.0   \n",
              "2     Andrew Cawthorne and Victoria Ramirez  2017-06-29  2017.0    6.0   \n",
              "3                              Julia Belluz   2016/3/25  2016.0    3.0   \n",
              "4                              Sari Horwitz  2017-06-10  2017.0    6.0   \n",
              "...                                     ...         ...     ...    ...   \n",
              "9995                             Yanan Wang  2016-04-07  2016.0    4.0   \n",
              "9996                           Dana Blanton  2016-10-07  2016.0   10.0   \n",
              "9997                         Elaine Godfrey  2016-08-31  2016.0    8.0   \n",
              "9998                        Nurith Aizenman  2016-04-15  2016.0    4.0   \n",
              "9999      Valerie Volcovici and Grant Smith  2016-07-15  2016.0    7.0   \n",
              "\n",
              "                                                    url  \\\n",
              "0     http://www.nationalreview.com/article/432876/d...   \n",
              "1     https://web.archive.org/web/20161208153906/htt...   \n",
              "2     http://www.reuters.com/article/us-venezuela-po...   \n",
              "3     http://www.vox.com/2016/3/25/11305614/soda-jui...   \n",
              "4     https://web.archive.org/web/20170611000758/htt...   \n",
              "...                                                 ...   \n",
              "9995  https://web.archive.org/web/20160408000201/htt...   \n",
              "9996  https://web.archive.org/web/20161008002456/htt...   \n",
              "9997                                                NaN   \n",
              "9998  http://www.npr.org/sections/goatsandsoda/2016/...   \n",
              "9999  http://www.reuters.com/article/us-usa-election...   \n",
              "\n",
              "                                                content  \n",
              "0     Michael Brendan Dougherty is bitter. I think t...  \n",
              "1      WASHINGTON  —   The US Commission on Civil Ri...  \n",
              "2      The Venezuelan government hunted on Wednesday...  \n",
              "3      One of the biggest public health wins of rece...  \n",
              "4      Attorney General Jeff Sessions, who had agree...  \n",
              "...                                                 ...  \n",
              "9995         Last summer, Ethel Easter wanted nothin...  \n",
              "9996  Third party candidates Gary Johnson (6 percent...  \n",
              "9997          For us to continue writing great stori...  \n",
              "9998  It was a hospital  —   but to psychologist Ink...  \n",
              "9999   Republican Donald Trump’s selection of Indian...  \n",
              "\n",
              "[10000 rows x 11 columns]"
            ],
            "text/html": [
              "<div>\n",
              "<style scoped>\n",
              "    .dataframe tbody tr th:only-of-type {\n",
              "        vertical-align: middle;\n",
              "    }\n",
              "\n",
              "    .dataframe tbody tr th {\n",
              "        vertical-align: top;\n",
              "    }\n",
              "\n",
              "    .dataframe thead th {\n",
              "        text-align: right;\n",
              "    }\n",
              "</style>\n",
              "<table border=\"1\" class=\"dataframe\">\n",
              "  <thead>\n",
              "    <tr style=\"text-align: right;\">\n",
              "      <th></th>\n",
              "      <th>index</th>\n",
              "      <th>Unnamed: 0</th>\n",
              "      <th>id</th>\n",
              "      <th>title</th>\n",
              "      <th>publication</th>\n",
              "      <th>author</th>\n",
              "      <th>date</th>\n",
              "      <th>year</th>\n",
              "      <th>month</th>\n",
              "      <th>url</th>\n",
              "      <th>content</th>\n",
              "    </tr>\n",
              "  </thead>\n",
              "  <tbody>\n",
              "    <tr>\n",
              "      <td>0</td>\n",
              "      <td>74496</td>\n",
              "      <td>77946</td>\n",
              "      <td>118473</td>\n",
              "      <td>Chaos in the Family, Chaos in the State: The W...</td>\n",
              "      <td>National Review</td>\n",
              "      <td>Kevin D. Williamson</td>\n",
              "      <td>2016-03-17</td>\n",
              "      <td>2016.0</td>\n",
              "      <td>3.0</td>\n",
              "      <td>http://www.nationalreview.com/article/432876/d...</td>\n",
              "      <td>Michael Brendan Dougherty is bitter. I think t...</td>\n",
              "    </tr>\n",
              "    <tr>\n",
              "      <td>1</td>\n",
              "      <td>71184</td>\n",
              "      <td>74592</td>\n",
              "      <td>113594</td>\n",
              "      <td>US Civil Rights Commission Will Observe Stand...</td>\n",
              "      <td>Buzzfeed News</td>\n",
              "      <td>Nidhi Subbaraman</td>\n",
              "      <td>2016-12-08</td>\n",
              "      <td>2016.0</td>\n",
              "      <td>12.0</td>\n",
              "      <td>https://web.archive.org/web/20161208153906/htt...</td>\n",
              "      <td>WASHINGTON  —   The US Commission on Civil Ri...</td>\n",
              "    </tr>\n",
              "    <tr>\n",
              "      <td>2</td>\n",
              "      <td>120205</td>\n",
              "      <td>123668</td>\n",
              "      <td>184574</td>\n",
              "      <td>Venezuela hunts rogue helicopter attackers, Ma...</td>\n",
              "      <td>Reuters</td>\n",
              "      <td>Andrew Cawthorne and Victoria Ramirez</td>\n",
              "      <td>2017-06-29</td>\n",
              "      <td>2017.0</td>\n",
              "      <td>6.0</td>\n",
              "      <td>http://www.reuters.com/article/us-venezuela-po...</td>\n",
              "      <td>The Venezuelan government hunted on Wednesday...</td>\n",
              "    </tr>\n",
              "    <tr>\n",
              "      <td>3</td>\n",
              "      <td>128977</td>\n",
              "      <td>132440</td>\n",
              "      <td>199665</td>\n",
              "      <td>Fruit juice isn’t much better for you than sod...</td>\n",
              "      <td>Vox</td>\n",
              "      <td>Julia Belluz</td>\n",
              "      <td>2016/3/25</td>\n",
              "      <td>2016.0</td>\n",
              "      <td>3.0</td>\n",
              "      <td>http://www.vox.com/2016/3/25/11305614/soda-jui...</td>\n",
              "      <td>One of the biggest public health wins of rece...</td>\n",
              "    </tr>\n",
              "    <tr>\n",
              "      <td>4</td>\n",
              "      <td>134837</td>\n",
              "      <td>138300</td>\n",
              "      <td>208223</td>\n",
              "      <td>Sessions won’t testify at congressional budget...</td>\n",
              "      <td>Washington Post</td>\n",
              "      <td>Sari Horwitz</td>\n",
              "      <td>2017-06-10</td>\n",
              "      <td>2017.0</td>\n",
              "      <td>6.0</td>\n",
              "      <td>https://web.archive.org/web/20170611000758/htt...</td>\n",
              "      <td>Attorney General Jeff Sessions, who had agree...</td>\n",
              "    </tr>\n",
              "    <tr>\n",
              "      <td>...</td>\n",
              "      <td>...</td>\n",
              "      <td>...</td>\n",
              "      <td>...</td>\n",
              "      <td>...</td>\n",
              "      <td>...</td>\n",
              "      <td>...</td>\n",
              "      <td>...</td>\n",
              "      <td>...</td>\n",
              "      <td>...</td>\n",
              "      <td>...</td>\n",
              "      <td>...</td>\n",
              "    </tr>\n",
              "    <tr>\n",
              "      <td>9995</td>\n",
              "      <td>137105</td>\n",
              "      <td>140568</td>\n",
              "      <td>211140</td>\n",
              "      <td>Patient secretly recorded doctors as they oper...</td>\n",
              "      <td>Washington Post</td>\n",
              "      <td>Yanan Wang</td>\n",
              "      <td>2016-04-07</td>\n",
              "      <td>2016.0</td>\n",
              "      <td>4.0</td>\n",
              "      <td>https://web.archive.org/web/20160408000201/htt...</td>\n",
              "      <td>Last summer, Ethel Easter wanted nothin...</td>\n",
              "    </tr>\n",
              "    <tr>\n",
              "      <td>9996</td>\n",
              "      <td>60293</td>\n",
              "      <td>63612</td>\n",
              "      <td>86308</td>\n",
              "      <td>Fox News Poll: Clinton edges Trump by two poin...</td>\n",
              "      <td>Fox News</td>\n",
              "      <td>Dana Blanton</td>\n",
              "      <td>2016-10-07</td>\n",
              "      <td>2016.0</td>\n",
              "      <td>10.0</td>\n",
              "      <td>https://web.archive.org/web/20161008002456/htt...</td>\n",
              "      <td>Third party candidates Gary Johnson (6 percent...</td>\n",
              "    </tr>\n",
              "    <tr>\n",
              "      <td>9997</td>\n",
              "      <td>55079</td>\n",
              "      <td>58389</td>\n",
              "      <td>80070</td>\n",
              "      <td>The Atlantic  Politics &amp; Policy Daily: Trump’s...</td>\n",
              "      <td>Atlantic</td>\n",
              "      <td>Elaine Godfrey</td>\n",
              "      <td>2016-08-31</td>\n",
              "      <td>2016.0</td>\n",
              "      <td>8.0</td>\n",
              "      <td>NaN</td>\n",
              "      <td>For us to continue writing great stori...</td>\n",
              "    </tr>\n",
              "    <tr>\n",
              "      <td>9998</td>\n",
              "      <td>110248</td>\n",
              "      <td>113711</td>\n",
              "      <td>168509</td>\n",
              "      <td>A Son In Chains. A Depressed Mom. Here’s What ...</td>\n",
              "      <td>NPR</td>\n",
              "      <td>Nurith Aizenman</td>\n",
              "      <td>2016-04-15</td>\n",
              "      <td>2016.0</td>\n",
              "      <td>4.0</td>\n",
              "      <td>http://www.npr.org/sections/goatsandsoda/2016/...</td>\n",
              "      <td>It was a hospital  —   but to psychologist Ink...</td>\n",
              "    </tr>\n",
              "    <tr>\n",
              "      <td>9999</td>\n",
              "      <td>123649</td>\n",
              "      <td>127112</td>\n",
              "      <td>190014</td>\n",
              "      <td>Trump’s expected VP pick: coal advocate who de...</td>\n",
              "      <td>Reuters</td>\n",
              "      <td>Valerie Volcovici and Grant Smith</td>\n",
              "      <td>2016-07-15</td>\n",
              "      <td>2016.0</td>\n",
              "      <td>7.0</td>\n",
              "      <td>http://www.reuters.com/article/us-usa-election...</td>\n",
              "      <td>Republican Donald Trump’s selection of Indian...</td>\n",
              "    </tr>\n",
              "  </tbody>\n",
              "</table>\n",
              "<p>10000 rows × 11 columns</p>\n",
              "</div>"
            ]
          },
          "metadata": {
            "tags": []
          },
          "execution_count": 9
        }
      ]
    },
    {
      "cell_type": "code",
      "metadata": {
        "id": "Fz-CUd81yb81",
        "colab_type": "code",
        "outputId": "15df2d27-245b-4dbb-a625-8b9e839cb997",
        "colab": {
          "base_uri": "https://localhost:8080/",
          "height": 102
        }
      },
      "source": [
        "# remove publisher tags from article titles \n",
        "\n",
        "just_titles = []\n",
        "\n",
        "for title in small_data.title:\n",
        "  title = re.sub(r\"(- Breitbart)(?!.*\\1)\", '', title)\n",
        "  title = re.sub(r'(- The New York Times)(?!.*\\1)', '', title)\n",
        "  just_titles.append(title)\n",
        "\n",
        "just_titles[:5]"
      ],
      "execution_count": 10,
      "outputs": [
        {
          "output_type": "execute_result",
          "data": {
            "text/plain": [
              "['Chaos in the Family, Chaos in the State: The White Working Class’s Dysfunction',\n",
              " ' US Civil Rights Commission Will Observe Standing Rock\\xa0Standoff',\n",
              " 'Venezuela hunts rogue helicopter attackers, Maduro foes suspicious',\n",
              " 'Fruit juice isn’t much better for you than soda. Let’s stop pretending otherwise.',\n",
              " 'Sessions won’t testify at congressional budget hearings but at Senate intelligence hearing instead']"
            ]
          },
          "metadata": {
            "tags": []
          },
          "execution_count": 10
        }
      ]
    },
    {
      "cell_type": "code",
      "metadata": {
        "id": "W-KoWU84-e4B",
        "colab_type": "code",
        "outputId": "f3239a59-08c8-451f-864a-d4650c554b5b",
        "colab": {
          "base_uri": "https://localhost:8080/",
          "height": 34
        }
      },
      "source": [
        "len(just_titles)"
      ],
      "execution_count": 11,
      "outputs": [
        {
          "output_type": "execute_result",
          "data": {
            "text/plain": [
              "10000"
            ]
          },
          "metadata": {
            "tags": []
          },
          "execution_count": 11
        }
      ]
    },
    {
      "cell_type": "code",
      "metadata": {
        "id": "iXEvn1pUgb9h",
        "colab_type": "code",
        "outputId": "27e96b49-e592-46f9-e196-02108b2264f7",
        "colab": {
          "base_uri": "https://localhost:8080/",
          "height": 122
        }
      },
      "source": [
        "# join with content of article\n",
        "\n",
        "small_text = list(map(lambda i,j: i + \" \" + j, just_titles, small_data.content))\n",
        "\n",
        "small_text[:5]"
      ],
      "execution_count": 12,
      "outputs": [
        {
          "output_type": "execute_result",
          "data": {
            "text/plain": [
              "['Chaos in the Family, Chaos in the State: The White Working Class’s Dysfunction Michael Brendan Dougherty is bitter. I think that I can write that in both truth and charity. (I think you might even say that he and I are friends.) Dougherty is a conservative of the sort sometimes advertised as “paleo” and served as national correspondent for The American Conservative. Like many conservative writers with those associations, Dougherty spends a great deal of time lambasting the conservative movement and its organs, from which he feels, for whatever reason, estranged  —   an alienation that carries with it more than a little to suggest that it is somewhat personal. You know: Them. Donald Trump is the headline, and explaining the benighted white working class to Them is the main matter. Sanctimony is the literary mode, for Dougherty and for many others doing the same work with less literary facility. Never mind the petty sneering (as though the conservative movement were populated by septuagenarians who say things like “learn computers”) and the rhetorical need to invent moral debasement (tax cuts are good for the rich people in Connecticut who don’t use cocaine, too) and Dougherty’s ignoring out of existence those   parts of the economy that are outside of the Manhattan —  Connecticut finance corridor. And never mind the math, too: It is really quite difficult to design federal tax cuts that benefit people who do not pay much in the way of federal taxes. Set all that aside: What, really, is the case for staying in Garbutt? RELATED: If Your Town Is Failing, Just Go: A Prescription for Impoverished Communities, There was no Garbutt, N. Y. until 1804, when Zachariah Garbutt and his son John settled there. They built a grist mill, and, in the course of digging its foundations, they discovered a rich vein of gypsum, at that time used as a fertilizer. A gypsum industry sprang up and ran its course. Then Garbutt died. “As the years passed away, a change came over the spirit of their dream,” wrote local historian George E. Slocum. “Their church was demolished and its timber put to an ignoble use their schools were reduced to one, and that a primary their hotels were converted into dwelling houses their workshops, one by one, slowly and silently sank from sight until there was but little left to the burg except its name. ” Slocum wrote that in . . . 1908. The emergence of the   wallboard industry gave Garbutt a little bump at the beginning of the 20th century, but it wasn’t enough. The U. S. Census Bureau doesn’t even keep data on Garbutt. To invoke Burkean conservatism in the service of preserving a community that was exnihilated into existence around a single commodity and lasted barely a century is the indulgence of absurd sentimentality. Yes, young men of Garbutt  —   get off your asses and go find a job: You’re a   bus ride away from the gas fields of Pennsylvania. Stonehenge didn’t work out, either: Good luck. Garbutt is Trump Country, and Dougherty, while not a   Trumpkin, is generally sympathetic to Trump’s critique of current American economic policy, namely that international trade and immigration are dispossessing the white working class. There is not, in fact, very much evidence for those claims: Immigration does put some downward pressure on wages, but it also puts downward pressure on prices.     workers’ money income may have stagnated, but their real income  —   what they can buy with the money they earn  —   has continued to improve modestly. The main effect of new immigrants’ wage competition is felt in the wages of earlier immigrants. But the effects of immigration overall are tiny compared with the effects of factors such as   expenses. In many   occupations, overall compensation in fact has gone up over the years, but the additional compensation has come largely or entirely in the form of medical benefits. In some cases, the expense of medical benefits has gone up so much that total compensation has increased even while money wages have gone down. That’s the worst of all possible worlds: It costs more to employ those   American workers, but they don’t feel any richer  —   and if their employers are paying more for the same benefits (or paying more for inferior benefits under the   Affordable Care Act) they aren’t any richer, practically speaking. On the trade front, American manufacturing continues to expand and thrive  —   an absolute economic fact that is, perversely, unknown to the great majority of Americans, who believe precisely the opposite to be the case. Americans have false beliefs about manufacturing for a few reasons: One is that while our factories produce much more than in the past, they employ fewer people another is that we tend to produce capital goods and import consumer goods  —   you won’t see much labeled “Made in the USA” at Walmart, but you’ll see it on everything from the aircraft flown by foreign airlines to the robotics in automobile factories overseas. Another factor, particularly relevant to the question of manufacturing and trade, is that a large (but declining) share of those imported consumer goods comes from China, a country with which we have a large trade deficit. That isn’t because the Chinese are clever, but because they are poor: With an average annual income of less than $9, 000, the typical Chinese household is not well positioned to buy   goods, which are generally expensive. (China is a large consumer of U. S. agricultural products, especially soybeans.) Add to that poorly informed and sentimental ideas about what those old Rust Belt factory jobs actually paid  —   you can have a 1957 standard of living, if you really want it, quite cheap  —   and you get a holistic critique of U. S. economic policy that is wholly bunk. Which isn’t to say that the Mikes of Dougherty’s world have it good  —   they don’t. But they aren’t victims of the wily Chinese, scheming to make them poor: In the story of the white working class’s descent into dysfunction, they are the victims and the villains both. RELATED: The White Ghetto: In Appalachia, The Country Is Beautiful and the Society is Broken, The Washington Post’s “Wonkbook” newsletter compared the counties Trump won in the   Super Tuesday primaries with the demographic data and found trends that will surprise no one who has been paying attention (and certainly no one, I hope, who has been reading this magazine). The life expectancies among    white Americans have been plummeting in an almost unprecedented fashion, a trend not seen on such a large scale since the collapse of the Soviet Union and the social anarchy that prevailed in Russia afterward. Trump counties had proportionally fewer people with college degrees. Trump counties had fewer people working. And the white people in Trump counties were likely to die younger. The causes of death were “increased rates of disease and ill health, increased drug overdose and abuse, and suicide,” the Post’s Wonkblog website reported. This is horrifyingly consistent with other findings. The manufacturing numbers  —   and the entire gloriously complex tale of globalization  —   go in fits and starts: a little improvement here, a little improvement there, and a radically better world in raw material terms (and let’s not sniff at those) every couple of decades. Go back and read the novels of the 1980s or watch The Brady Bunch and ask yourself why    suburban families living in large, comfortable homes and holding down prestigious jobs were worried about the price of butter and meat, and then ask yourself when was the last time you heard someone complain that he couldn’t afford a stick of butter. That change happened a little at a time, here and there. RELATED:    Deaths Are a Cultural Problem, The   numbers, on the other hand, came down on us like a meteor. Before the war, divorce had been such an alien phenomenon that it animated such   stories as The Gay Divorcee, a play in which a fictitious act of adultery had to be invented to move the plot forward. Divorce in 1960 was so rare as to carry a hint of scandalous glamour, which it kept throughout the 1970s and 1980s, with women’s magazines writing lifestyle pieces about informal weekday dinner parties for divorcées (the word itself is today faintly ludicrous) and men’s magazines celebrating divorce as a second adolescence. The divorce rate doubled over the span of a few decades  —   even as the marriage rate was declining. Add to that the violence of abortion, which fundamentally alters the relationship between men, women, and children, and what exactly “family” means to those of us born around the time Roe v. Wade was decided becomes a very difficult question. The concept of the nation as an extended family is the notion that separates   conservatism, with its roots in the   ideas that informed the American founding, from       European nationalism. In Europe, this is an idea popular with the Right: It is entirely unsurprising that Trump has enjoyed the endorsement of, among other European rightists,   Le Pen. In the United States, it is an idea  —   and an error  —   popular on both sides of the political divide: The distastefully squishy progressive writer George Lakoff argues that the American Right prefers a strict patriarchal model of the family and, therefore, a similar model of political life, while the Left is inclined toward the maternal and the nurturing. (  critics of free trade and free enterprise in the   world often speak of “nurturing” economic policies, because they do not wish to write the word “socialism. ”) But it is an idea that fits at best uneasily with the aspirations of American conservatism. One of the worst errors in public life is the common one of mistaking the metaphor for the thing itself. In reality  —   and reality is not optional  —   the president isn’t the national dad (Governor John Kasich’s insistence notwithstanding) and government is neither paternal nor maternal. The nation isn’t your family. Your family is your family. RELATED: The Buchanan Boys: The Trump Voters Aren’t a New Phenomenon, The metaphor points both ways: Nationalism may speak to a longing for lost national greatness, but in our own time, it speaks at least as strongly to the longing after  —   the great howling lamentation for  —   the ideal family that never was lost, because it never was formed. The Mikes of the world may be struggling to make it in the global economy, but what they really are shut out of is the traditional family. The current social regime of illegitimacy, serial monogamy, abortion, and liberal divorce has rendered traditional families optional, at best  —   the great majority of divorces are initiated by wives, not by husbands  —   and the welfare state has at least in part supplanted the Mikes in their role as providers, assuming that they have the wherewithal to fill that role in the first place. Traditional avenues for achieving respect, status, and permanence are lost to them. Milo Yiannopoulos of Breitbart London has done more to put homosexual camp in the service of   authoritarianism than any man has since the fellows at Hugo Boss sewed all those nifty SS uniforms. He refers to Trump  —   this will not surprise you  —   as “Daddy,”  . It is easy to imagine a generation of young men being raised without fathers and looking out the window like a kid in an   special, waiting for Daddy to come home. Many of them slip into harmless Clark Griswold —  ism, trying to provide for their own children the ideal families they themselves never had. But some of them end up grown men still staring out that window, waiting for the   figure they have spent their lives imagining, the protector and vindicator who will protect them, provide for them, and set things in order. RELATED: How   Abuse Unleashed a Heroin Epidemic, Dougherty cites the work of the conservative polemicist Sam Francis, one of those old   conservatives who very much embraced the paterfamilias model of government. His analysis, like mine, finds emotional and policy links between the Trump movement and its earlier incarnation, the Pat Buchanan movement. For Dougherty, Francis provides the philosophical link. He also provides the stylistic link: He was a kook. “Francis eventually turned into something resembling an   white nationalist,” Dougherty writes, “penning his most racist material under a pen name. Buchanan didn’t take Francis’s advice in 1996, not entirely. But 20 years later, [Francis’s book] From Household to Nation reads like a political manifesto from which the Trump campaign springs. ” From Household to Nation is typical in that it is based on a category error, asking economics to do what economics doesn’t: to provide the means “not simply to gain material satisfaction but to support families and the social institutions and identities that evolve from families as the fundamental units of human society and human action. ” Economics is about satisfying human wants, not defining them. The problem isn’t that Americans cannot sustain families, but that they do not wish to. It is therefore strange to me that Dougherty so fundamentally misdiagnoses the conservative reaction to Trump: “A Trump win,” he writes in another piece, “at least temporarily threatens the conservative movement, because it threatens to expose how inessential its ideas are to holding together the party. ” (Dougherty also equates the fundraising engaged in by conservative organizations with the Social Security fraud that sustains his fictional Mike, a characterization that indicates the emotional temperament at work here.) Of course there is careerism in the conservative movement, but to proceed as though it were impossible to imagine that conservatives oppose a man running (knowingly or not) on a Sam Francis platform because we oppose the loopy crackpot racist ideas of Sam Francis is to perform an intellectual disservice. It is also immoral. It is immoral because it perpetuates a lie: that the white working class that finds itself attracted to Trump has been victimized by outside forces. It hasn’t. The white middle class may like the idea of Trump as a giant pulsing humanoid middle finger held up in the face of the Cathedral, they may sing hymns to Trump the destroyer and whisper darkly about “globalists” and  —   odious, stupid term  —   “the Establishment,” but nobody did this to them. They failed themselves. RELATED:   Whites Have Moral Responsibilities  —   In Defense of Kevin Williamson, If you spend time in hardscrabble, white upstate New York, or eastern Kentucky, or my own native West Texas, and you take an honest look at the welfare dependency, the drug and alcohol addiction, the family anarchy  —   which is to say, the whelping of human children with all the respect and wisdom of a stray dog  —   you will come to an awful realization. It wasn’t Beijing. It wasn’t even Washington, as bad as Washington can be. It wasn’t immigrants from Mexico, excessive and problematic as our current immigration levels are. It wasn’t any of that. Nothing happened to them. There wasn’t some awful disaster. There wasn’t a war or a famine or a plague or a foreign occupation. Even the economic changes of the past few decades do very little to explain the dysfunction and negligence  —   and the incomprehensible malice  —   of poor white America. So the gypsum business in Garbutt ain’t what it used to be. There is more to life in the 21st century than wallboard and cheap sentimentality about how the Man closed the factories down. The truth about these dysfunctional, downscale communities is that they deserve to die. Economically, they are negative assets. Morally, they are indefensible. Forget all your cheap theatrical Bruce Springsteen crap. Forget your sanctimony about struggling Rust Belt factory towns and your conspiracy theories about the wily Orientals stealing our jobs. Forget your goddamned gypsum, and, if he has a problem with that, forget Ed Burke, too. The white American underclass is in thrall to a vicious, selfish culture whose main products are misery and used heroin needles. Donald Trump’s speeches make them feel good. So does OxyContin. What they need isn’t analgesics, literal or political. They need real opportunity, which means that they need real change, which means that they need  . If you want to live, get out of Garbutt.,',\n",
              " ' US Civil Rights Commission Will Observe Standing Rock\\xa0Standoff  WASHINGTON  —   The US Commission on Civil Rights will send a delegation to visit the campsite in North Dakota, where hundreds of people have gathered to protest the building of the Dakota Access Pipeline. The goal is to meet with tribal leaders, water protectors, as well as state and government authorities. The commission is the independent, bipartisan federal civil rights watchdog group, established by the 1957 Civil Rights Act. “That has become the seminal issue of the day when it comes to Native American rights,” commission chair Martin Castro, who will travel to Standing Rock, told BuzzFeed News. “This is to me the closest thing to what we’ve done since the time that we would go down in the 1960s to the Jim Crow South, to examine what’s going on on the ground, on an open active issue, where there is engagement between the community and the government. ” Commissioners voted in a Friday meeting to make the trip, after David Archambault II, chairman of the Standing Rock Sioux tribe, sent a letter inviting the commission to visit. The observers intend to travel there early next week. The commission is currently researching an update to its 2003 report, “Unmet Needs,” that examines Native American life as well as the government’s stewardship of the communities and their lands. “We cannot as a commission be looking at civil rights for Native Americans and unmet needs in Indian Country in the 21st century without now looking at what’s going on in Standing Rock,” Castro said. “Ideally we’d want to observe and meet with all parties involved, from the Army Corps of engineers to the protestor who just got hit with the water cannon,” Castro said. “Hopefully we will not only write a report about what we’ve seen, but also   with players involved to see how matters may be improved. ”The visit follows two weeks of mounting tensions at Standing Rock. On November 21, police drenched protestors with water cannons in frigid temperatures, leading to the hospitalization of at least 17 people. The Army Corps of Engineers last Friday said that it intends to close lands that include the campsite by Dec. 5. On Monday, the North Dakota governor Jack Dalrymple issued an emergency evacuation order that called on protestors to vacate campsite, citing incoming cold weather. State officials have threatened to fine people traveling to the site. US Senator Corey Booker this week called for a Department of Justice investigation into the police actions in Standing Rock. In the past, police have used tear gas, rubber bullets, and police dogs against people who have gathered at the site. At least 2, 000 veterans plan to travel to the site this weekend, in solidarity with the movement.  ',\n",
              " 'Venezuela hunts rogue helicopter attackers, Maduro foes suspicious  The Venezuelan government hunted on Wednesday for rogue policemen who attacked key installations by helicopter, but critics of President Nicolas Maduro suspected the raid may have been staged to justify repression. In extraordinary scenes over Caracas around sunset on Tuesday, the stolen helicopter fired shots at the Interior Ministry and dropped grenades on the Supreme Court, both viewed by Venezuela’s opposition as bastions of support for a dictator. Nobody was injured. Officials said special forces were seeking Oscar Perez, 36, a police pilot named as the mastermind of the raid by the helicopter that carried a banner saying ”Freedom!” In 2015, Perez   and starred in ”Death Suspended,” an action film in which he played the lead role as a government agent rescuing a kidnapped businessman. There was no sign on Wednesday of Perez, whom officials condemned as a ”psychopath” but the helicopter was found on Venezuela’s northern Caribbean coastline. ”We ask for maximum support to find this fanatic, extremist terrorist,” vice president Tareck El Aissami said. The attack exacerbated an already   political crisis in Venezuela after three months of opposition protests demanding general elections and fixes for the sinking economy. At least 76 people have died in the unrest since April, the latest a    man shot in the head near a protest in the Petare slum of Caracas, authorities said on Wednesday.  Hundreds more people have been injured and arrested in what Maduro terms an ongoing coup attempt with U. S. encouragement. The attack fed a conspiracy theory by opposition supporters that it may have been a government setup and overshadowed other drama on Tuesday, including the besieging of opposition legislators by gangs in the National Assembly. The helicopter raid also coincided with a judicial measure weakening the powers of dissident chief state prosecutor Luisa Ortega, who has emerged as a major challenger to Maduro. ”It seems like a movie,” said Julio Borges, leader of the   legislature, of the helicopter raid. ”Some people say it is a   some that it is real . .. Yesterday was full of contradictions . .. A thousand things are happening, but I summarize it like this: a government is decaying and rotting, while a nation is fighting for dignity.”  Though Perez posted a video on social media showing himself in front of four hooded armed men and claiming to represent a coalition of security and civilian officials rising up against ”tyranny,” there was no evidence of deeper support.  ”CHEAP SHOW” The government, however, accused the policemen of links to the CIA and to Miguel Rodriguez, a former interior minister and intelligence chief under Maduro and his predecessor Hugo Chavez, who recently broke with the government. ”I’m not at all convinced by the helicopter incident,” Rodriguez told Reuters on Wednesday, saying the figures behind Perez in the video looked like dummies and expressing surprise the helicopter could fly freely and also not injure anyone. ”Conclusion: a cheap show. Who gains from this? Only Nicolas for two reasons: to give credibility to his coup d’etat talk, and to blame Rodriguez,” he added, referring to himself. Around the time of the attack, the   Supreme Court expanded the role of the state ombudsman, a human rights guarantor who is closely allied with Maduro, by giving him powers previously held only by the state prosecutor’s office.     Opposition leaders described that as an attempt to supplant chief prosecutor Ortega, who has confronted both Maduro and the Supreme Court this year after splitting ranks. The Supreme Court on Wednesday evening said it approved a measure blocking Ortega from leaving the country, freezing her bank accounts, and summoning her to a July 4 hearing to discuss whether she has committed ”serious offenses.”  Adding to Venezuela’s   atmosphere, opposition supporters again took to the streets nationwide on Wednesday to barricade roads.  One opposition lawmaker, Juan Guaido, filmed himself bleeding from wounds he said were inflicted by rubber bullets.  Opposition supporters hope that cracks within government may swing the crisis their way, and have been delighted to see heavyweights like Ortega and Rodriguez oppose Maduro. Their main focus is to stop a July 30 vote called by Maduro to form a   known as a Constituent Assembly, with powers to rewrite the constitution and supersede other institutions. Maduro says the assembly is the only way to bring peace to Venezuela, but opponents say it is a sham vote intended solely to keep an unpopular government in power.  ”We can’t let July 30 happen, we mustn’t,” said children’s health worker Rosa Toro, 52, blocking a road with friends. ”We’re being governed by criminals, traffickers and thieves,” added lawyer Matias Perez, 40, protesting with a plastic trumpet. Government officials lined up on Wednesday to condemn the helicopter attack, insisting it was the work of a few individuals and not representative of wider dissent.  Foreign Minister Samuel Moncada complained about the lack of international condemnation of the attack, saying it contrasted with the barrage of foreign criticism of the government. ”In Europe it’s now eight at night, but we’ve not had any reaction from European Union countries,” he said of a bloc that has been strongly critical of Maduro in recent months. The minister rejected accusations that the attack was carried out by the government for its own purposes.  ”Who can believe we are that sophisticated? Sending someone to throw grenades, who can believe that?” he asked.        (Additional reporting by Eyanir Chinea, Silene Ramirez, Brian Ellsworth, Herbert Villaraga, Diego Ore, Corina Pons and Girish Gupta; Editing by Jeffrey Benkoe and Andrew Hay) SEOUL North Korea said on Wednesday its newly developed intercontinental ballistic missile (ICBM) can carry a large nuclear warhead, triggering a call by Washington for global action to hold it accountable for pursuing nuclear weapons. WASHINGTON U. S. President Donald Trump will get a chance to patch up   ties this week when he meets with NATO allies still rattled by his failure on an earlier trip to embrace the principle that an attack against one member is an attack against all. ',\n",
              " 'Fruit juice isn’t much better for you than soda. Let’s stop pretending otherwise.  One of the biggest public health wins of recent decades has been America’s slow shift away from soda.    With more awareness about the very strong correlation between guzzling sweet, fizzy drinks, and obesity and tooth decay, sales of beverages like   and Pepsi have slumped. But there’s pretty good evidence that Americans are still getting hoodwinked by juices and other sugary beverages.         ”Cola” refers to both   and   cola carbonates. ”Juice” covers all packaged juices from fruits or vegetables, including 100% juice, nectars ( % juice content) juice drinks (up to 24% juice content) and   drinks (no juice content). ”Sports and energy drinks” refers to drinks that promise to boost energy levels such as  Red Bull, Monster, and RockStar.    Check out this data from Euromonitor. Its analysis of US retail beverage sales over the past five years finds that while the soda category is shrinking, juice sales have held steady, and sales of energy and sports drinks have been growing. Here’s how the market looks in terms of volume (millions of liters) sold:         This article in BMJ Open demonstrated the extent of the problem: The researchers looked at how much of the American diet is composed of   foods and added sugars. They found that 58 percent of total energy intake  —   more than half of the calories Americans consume!  —   came from foods that are packed with lots of flavors, colors, and sweeteners. And almost 90 percent of the added sugars Americans consume came from heavily processed foods  —   the two main sources being soft drinks (17 percent) closely followed by fruit drinks (14 percent). (In this case, ”fruit drinks” refers to processed juices with added sugars.) To be clear: Soda remains a big public health threat. As Marion Nestle, a New York University professor and author of the new book Soda Politics. points out, ”Sales of [soda alternatives] are up, but not nearly so much as to compensate for the decline in Coke and Pepsi.” But the data suggests that Americans are finding new ways to pack calories into their diet through other sugary drinks. We should think of juice as soda without the fizz Most juices and sports drinks have as much or even more sugar than soda, as you can see in this chart from the Harvard School of Public Health:               You might think fruit juice is inherently healthier than soda because it comes from fruit. But that’s not always the case. I asked nutrition researchers this question, and they all pointed out that the sugar in fruit juice is more concentrated than it is in whole fruits. When you drink fruit juice, you get a mega dose of sugar the same way you do when you drink soda. ”Juices have some nutritional value when the sugars are not added. But people don’t drink all that much [natural fruit] juice  —   it’s too expensive. They drink juice drinks with added sugars,” said Nestle.  These juices drinks  —   like bottled cranberry or grape juices  —   are basically sugar water with artificial flavors and little nutritional benefit. And even pure fruit juices that deliver vitamins and nutrients  —   like freshly squeezed orange juice  —   also deliver a lot of calories and sugar.  That said, nutritionists aren’t arguing you have to avoid fruit juice entirely. Real fruit juices are nutritionally superior to sodas and can be part of a healthy diet  —   albeit in moderation, Nestle said. ”Juices, like any other source of liquid sugars, are best consumed in small amounts.”  We’re starting to tax soda  —   but not juice A handful of countries are moving to tax sugary drinks in an effort to fight obesity. But in some instances, the taxes continue to focus on soda, and overlook the huge quantities of sugar people are consuming in fruit juice. In Britain, for example, the government just announced a forthcoming sugary drinks tax  —   but it only applies to soft drinks with added sugar, and excludes all   beverages and fruit juices. (See the Treasury Department’s fact sheet on the soda tax). That means beverages like milkshakes and cranberry juices won’t be taxed even though they’re nearly as damaging to health from a nutrition standpoint.    Berkeley, California, has a tax on sugary drinks, but it also excludes sweetened milk products and 100 percent juices. Soda companies in the UK are considering legal action over the tax on the basis of discrimination, since the tax excludes other sugary drinks. They raise a fair point. If the taxes focused on sugar content and calories, many more beverage companies  —   makers of chocolate milk, energy drinks, and fruit juice  —   would be affected. But as Nestle pointed out, there are political reasons that doesn’t happen. ”A tax on sweetened milk,” she said, ”will bring down the wrath of the dairy industry, which no legislator wants to take on.” Correction: A previous version of this article incorrectly stated the details of exclusions on Berkeley’s soda tax.           ',\n",
              " 'Sessions won’t testify at congressional budget hearings but at Senate intelligence hearing instead  Attorney General Jeff Sessions, who had agreed to testify this week before the Senate and House appropriations committees about the Justice Department budget, wrote the chairmen of the committees Saturday and said he was sending his deputy to testify instead.  Sessions was scheduled to testify before Congress on Tuesday for the first time since he was confirmed as attorney general in February. In light of former FBI director James B. Comey’s testimony last week, Sessions was expected to get many questions from lawmakers about his contacts with Russian officials during the 2016 election campaign. Sessions wrote to the two chairmen that he would testify before the Senate Intelligence Committee on Tuesday instead. A Justice Department official said that committee hearing probably will be closed to the public.  In early March, The Washington Post reported that Sessions twice met with Russian Ambassador Sergey Kislyak during the campaign and did not disclose that to the Senate Judiciary Committee during his confirmation hearing in January. The next day, Sessions recused himself from the Russia investigation and said it would be overseen by his deputy attorney general, who last month appointed a special counsel to handle the probe.  [  Sessions recuses himself from Russia investigation probe]        (Victoria   Washington Post)   Sessions also was expected to get questions about his involvement in the firing of Comey and the news that he offered his resignation to President Trump at one point recently. “I previously accepted an invitation to testify on behalf of the Department of Justice before the House and Senate Appropriations Subcommittees about the department’s FY18 budget, which funds the department’s efforts in several important areas such as combating the opioid crisis and violent crime,” Sessions wrote to Sen. Richard C. Shelby ( .) chairman of the Appropriations subcommittee on commerce, justice, science and related agencies, and Rep. John Abney Culberson ( .) chairman of the House Appropriations subcommittee on commerce, justice, science and related agencies. “In light of reports regarding Mr. Comey’s recent testimony before the Senate Select Committee on Intelligence, it is important that I have an opportunity to address these matters in the appropriate forum,” Sessions wrote. “The Senate Intelligence Committee is the most appropriate forum for such matters, as it has been conducting an investigation and has access to relevant, classified information. ” Comey testified Thursday that the bureau had information about Sessions  —   before he recused himself from overseeing the investigation into Russian meddling in the 2016 election  —   that would have made it “problematic” for him to be involved in the probe.  [Comey said FBI information about Sessions would have made his involvement in Russia probe problematic]  Sessions wrote the chairmen that Deputy Attorney General Rod J. Rosenstein will take his place before both the House and Senate subcommittees to testify about the Justice Department’s budget.  Sessions said he was “pleased to accept” the invitation to appear before members of the Senate Select Committee on Tuesday. Spokesmen for the chairman and ranking minority member of the committee could not be reached to confirm whether the hearing will be open or closed to the public.       (Zoeann   Washington Post)   ']"
            ]
          },
          "metadata": {
            "tags": []
          },
          "execution_count": 12
        }
      ]
    },
    {
      "cell_type": "code",
      "metadata": {
        "id": "dH0EFhZAitgI",
        "colab_type": "code",
        "outputId": "273aec9c-0273-4d71-806d-47be07fb3f9e",
        "colab": {
          "base_uri": "https://localhost:8080/",
          "height": 34
        }
      },
      "source": [
        "len(small_text)"
      ],
      "execution_count": 13,
      "outputs": [
        {
          "output_type": "execute_result",
          "data": {
            "text/plain": [
              "10000"
            ]
          },
          "metadata": {
            "tags": []
          },
          "execution_count": 13
        }
      ]
    },
    {
      "cell_type": "markdown",
      "metadata": {
        "id": "d_ZMQTurrcB3",
        "colab_type": "text"
      },
      "source": [
        "## Create Matrix of TF-IDF Features"
      ]
    },
    {
      "cell_type": "code",
      "metadata": {
        "id": "2hMvyiEgMB9s",
        "colab_type": "code",
        "colab": {}
      },
      "source": [
        "def preprocess_text(text):\n",
        "\n",
        "  # function to remove punctuation \n",
        "  def Punctuation(string): \n",
        "    return re.sub(r'[\\W_]', ' ', string)\n",
        "\n",
        "  # remove punctuation and perform tokenization\n",
        "  text = Punctuation(text.lower()).split()\n",
        "\n",
        "  # remove stop words and stem\n",
        "  stop_words = set(stopwords.words('english'))\n",
        "  stemmer = SnowballStemmer(\"english\")\n",
        "  text = [stemmer.stem(t) for t in text if not t in stop_words]\n",
        "\n",
        "  return text\n"
      ],
      "execution_count": 0,
      "outputs": []
    },
    {
      "cell_type": "code",
      "metadata": {
        "id": "BlMVZ3R6m3u4",
        "colab_type": "code",
        "colab": {}
      },
      "source": [
        "# tfidf vectorizer\n",
        "tfidf_vectorizer = TfidfVectorizer(max_features=5000, stop_words='english', use_idf=True, tokenizer=preprocess_text, ngram_range=(1,3))"
      ],
      "execution_count": 0,
      "outputs": []
    },
    {
      "cell_type": "code",
      "metadata": {
        "id": "ERDwOvRIqOzz",
        "colab_type": "code",
        "outputId": "bd6aee4a-141e-4617-83b0-94dc6ae9b1b9",
        "colab": {
          "base_uri": "https://localhost:8080/",
          "height": 88
        }
      },
      "source": [
        "# fit just_titles to vectorizer\n",
        "tfidf_matrix = tfidf_vectorizer.fit_transform(small_text)\n",
        "print(tfidf_matrix.shape)"
      ],
      "execution_count": 0,
      "outputs": [
        {
          "output_type": "stream",
          "text": [
            "/usr/local/lib/python3.6/dist-packages/sklearn/feature_extraction/text.py:385: UserWarning: Your stop_words may be inconsistent with your preprocessing. Tokenizing the stop words generated tokens ['afterward', 'alon', 'alreadi', 'alway', 'anoth', 'anyon', 'anyth', 'anywher', 'becam', 'becom', 'besid', 'cri', 'describ', 'els', 'elsewher', 'empti', 'everi', 'everyon', 'everyth', 'everywher', 'fifti', 'forti', 'henc', 'hereaft', 'herebi', 'howev', 'hundr', 'inde', 'mani', 'meanwhil', 'moreov', 'nobodi', 'noon', 'noth', 'nowher', 'otherwis', 'perhap', 'pleas', 'sever', 'sinc', 'sincer', 'sixti', 'someon', 'someth', 'sometim', 'somewher', 'thenc', 'thereaft', 'therebi', 'therefor', 'togeth', 'twelv', 'twenti', 'whatev', 'whenc', 'whenev', 'wherea', 'whereaft', 'wherebi', 'wherev'] not in stop_words.\n",
            "  'stop_words.' % sorted(inconsistent))\n"
          ],
          "name": "stderr"
        },
        {
          "output_type": "stream",
          "text": [
            "(10000, 5000)\n"
          ],
          "name": "stdout"
        }
      ]
    },
    {
      "cell_type": "code",
      "metadata": {
        "id": "qQdkuVXpsGS4",
        "colab_type": "code",
        "colab": {}
      },
      "source": [
        "# reduce memory \n",
        "tfidf_matrix = tfidf_matrix.astype(np.float32)"
      ],
      "execution_count": 0,
      "outputs": []
    },
    {
      "cell_type": "code",
      "metadata": {
        "id": "2ZwlJKk4roJM",
        "colab_type": "code",
        "outputId": "ffc93d5f-a9d1-4fdd-b7ac-086c8d9c7460",
        "colab": {
          "base_uri": "https://localhost:8080/",
          "height": 51
        }
      },
      "source": [
        "tfidf_matrix"
      ],
      "execution_count": 0,
      "outputs": [
        {
          "output_type": "execute_result",
          "data": {
            "text/plain": [
              "<10000x5000 sparse matrix of type '<class 'numpy.float32'>'\n",
              "\twith 2077663 stored elements in Compressed Sparse Row format>"
            ]
          },
          "metadata": {
            "tags": []
          },
          "execution_count": 42
        }
      ]
    },
    {
      "cell_type": "markdown",
      "metadata": {
        "id": "mwqgQwAbdAqG",
        "colab_type": "text"
      },
      "source": [
        "## Create Matrix of Word2Vec Features"
      ]
    },
    {
      "cell_type": "code",
      "metadata": {
        "id": "pyn8iahAwQNV",
        "colab_type": "code",
        "colab": {}
      },
      "source": [
        ""
      ],
      "execution_count": 0,
      "outputs": []
    },
    {
      "cell_type": "markdown",
      "metadata": {
        "id": "tK-5qkWX0fcK",
        "colab_type": "text"
      },
      "source": [
        "## Universal Encoder"
      ]
    },
    {
      "cell_type": "code",
      "metadata": {
        "id": "c1szPzWf0ohZ",
        "colab_type": "code",
        "colab": {}
      },
      "source": [
        "# load the Universal Sentence Encoder's TF Hub module\n",
        "\n",
        "# module_url = \"https://tfhub.dev/google/universal-sentence-encoder/4\" #param [\"https://tfhub.dev/google/universal-sentence-encoder/4\", \"https://tfhub.dev/google/universal-sentence-encoder-large/5\"]\n",
        "# model = hub.load(module_url)\n",
        "# print (\"module %s loaded\" % module_url)\n",
        "\n",
        "model = hub.load(\"w266/tmp\")\n"
      ],
      "execution_count": 0,
      "outputs": []
    },
    {
      "cell_type": "code",
      "metadata": {
        "id": "I89VehR_0osy",
        "colab_type": "code",
        "colab": {}
      },
      "source": [
        "# reduce logging output\n",
        "logging.set_verbosity(logging.ERROR)\n",
        "\n",
        "# compute a representation for each message\n",
        "message_embeddings = model(small_text)"
      ],
      "execution_count": 0,
      "outputs": []
    },
    {
      "cell_type": "code",
      "metadata": {
        "id": "yQIBcTS88NEu",
        "colab_type": "code",
        "colab": {}
      },
      "source": [
        "# semantic similarity of two sentences can be trivially computed as the inner product of the encodings\n",
        "corr = np.inner(message_embeddings, message_embeddings)"
      ],
      "execution_count": 0,
      "outputs": []
    },
    {
      "cell_type": "code",
      "metadata": {
        "id": "3Nn_UqU_AxFN",
        "colab_type": "code",
        "outputId": "984f640f-c5bc-4e55-dfc1-030bb32c8b52",
        "colab": {
          "base_uri": "https://localhost:8080/",
          "height": 984
        }
      },
      "source": [
        "# data frame of titles and semantic similarities\n",
        "corr_df = pd.DataFrame(corr)\n",
        "corr_df.columns = just_titles\n",
        "corr_df.index = just_titles\n",
        "\n",
        "corr_df.head()"
      ],
      "execution_count": 17,
      "outputs": [
        {
          "output_type": "execute_result",
          "data": {
            "text/plain": [
              "                                                    Chaos in the Family, Chaos in the State: The White Working Class’s Dysfunction  \\\n",
              "Chaos in the Family, Chaos in the State: The Wh...                                           1.000000                                \n",
              " US Civil Rights Commission Will Observe Standi...                                           0.291457                                \n",
              "Venezuela hunts rogue helicopter attackers, Mad...                                           0.336936                                \n",
              "Fruit juice isn’t much better for you than soda...                                           0.256971                                \n",
              "Sessions won’t testify at congressional budget ...                                           0.181461                                \n",
              "\n",
              "                                                     US Civil Rights Commission Will Observe Standing Rock Standoff  \\\n",
              "Chaos in the Family, Chaos in the State: The Wh...                                           0.291457                 \n",
              " US Civil Rights Commission Will Observe Standi...                                           1.000000                 \n",
              "Venezuela hunts rogue helicopter attackers, Mad...                                           0.543982                 \n",
              "Fruit juice isn’t much better for you than soda...                                           0.109070                 \n",
              "Sessions won’t testify at congressional budget ...                                           0.411541                 \n",
              "\n",
              "                                                    Venezuela hunts rogue helicopter attackers, Maduro foes suspicious  \\\n",
              "Chaos in the Family, Chaos in the State: The Wh...                                           0.336936                    \n",
              " US Civil Rights Commission Will Observe Standi...                                           0.543982                    \n",
              "Venezuela hunts rogue helicopter attackers, Mad...                                           1.000000                    \n",
              "Fruit juice isn’t much better for you than soda...                                           0.106961                    \n",
              "Sessions won’t testify at congressional budget ...                                           0.405647                    \n",
              "\n",
              "                                                    Fruit juice isn’t much better for you than soda. Let’s stop pretending otherwise.  \\\n",
              "Chaos in the Family, Chaos in the State: The Wh...                                           0.256971                                   \n",
              " US Civil Rights Commission Will Observe Standi...                                           0.109070                                   \n",
              "Venezuela hunts rogue helicopter attackers, Mad...                                           0.106961                                   \n",
              "Fruit juice isn’t much better for you than soda...                                           1.000000                                   \n",
              "Sessions won’t testify at congressional budget ...                                           0.052951                                   \n",
              "\n",
              "                                                    Sessions won’t testify at congressional budget hearings but at Senate intelligence hearing instead  \\\n",
              "Chaos in the Family, Chaos in the State: The Wh...                                           0.181461                                                    \n",
              " US Civil Rights Commission Will Observe Standi...                                           0.411541                                                    \n",
              "Venezuela hunts rogue helicopter attackers, Mad...                                           0.405647                                                    \n",
              "Fruit juice isn’t much better for you than soda...                                           0.052951                                                    \n",
              "Sessions won’t testify at congressional budget ...                                           1.000000                                                    \n",
              "\n",
              "                                                    Qatar: UAE and Saudi Arabia step up pressure in diplomatic crisis  \\\n",
              "Chaos in the Family, Chaos in the State: The Wh...                                           0.282036                   \n",
              " US Civil Rights Commission Will Observe Standi...                                           0.422529                   \n",
              "Venezuela hunts rogue helicopter attackers, Mad...                                           0.540752                   \n",
              "Fruit juice isn’t much better for you than soda...                                           0.109257                   \n",
              "Sessions won’t testify at congressional budget ...                                           0.384612                   \n",
              "\n",
              "                                                    ’The 4-Hour Workweek’ author says a 3-step process he learned from Tony Robbins drastically improved his life  \\\n",
              "Chaos in the Family, Chaos in the State: The Wh...                                           0.389552                                                               \n",
              " US Civil Rights Commission Will Observe Standi...                                           0.224046                                                               \n",
              "Venezuela hunts rogue helicopter attackers, Mad...                                           0.184615                                                               \n",
              "Fruit juice isn’t much better for you than soda...                                           0.242693                                                               \n",
              "Sessions won’t testify at congressional budget ...                                           0.176325                                                               \n",
              "\n",
              "                                                    Rick Perry Attacked for Keeping His Word  \\\n",
              "Chaos in the Family, Chaos in the State: The Wh...                                  0.316919   \n",
              " US Civil Rights Commission Will Observe Standi...                                  0.271750   \n",
              "Venezuela hunts rogue helicopter attackers, Mad...                                  0.287032   \n",
              "Fruit juice isn’t much better for you than soda...                                  0.108912   \n",
              "Sessions won’t testify at congressional budget ...                                  0.368784   \n",
              "\n",
              "                                                    Watch how a mathematician explains an astonishing coincidence  \\\n",
              "Chaos in the Family, Chaos in the State: The Wh...                                           0.289691               \n",
              " US Civil Rights Commission Will Observe Standi...                                           0.141546               \n",
              "Venezuela hunts rogue helicopter attackers, Mad...                                           0.161188               \n",
              "Fruit juice isn’t much better for you than soda...                                           0.146040               \n",
              "Sessions won’t testify at congressional budget ...                                           0.109351               \n",
              "\n",
              "                                                    Second baby bald eagle begins hatching process at National Arboretum  \\\n",
              "Chaos in the Family, Chaos in the State: The Wh...                                           0.295462                      \n",
              " US Civil Rights Commission Will Observe Standi...                                           0.381025                      \n",
              "Venezuela hunts rogue helicopter attackers, Mad...                                           0.340552                      \n",
              "Fruit juice isn’t much better for you than soda...                                           0.155383                      \n",
              "Sessions won’t testify at congressional budget ...                                           0.225344                      \n",
              "\n",
              "                                                    ...  \\\n",
              "Chaos in the Family, Chaos in the State: The Wh...  ...   \n",
              " US Civil Rights Commission Will Observe Standi...  ...   \n",
              "Venezuela hunts rogue helicopter attackers, Mad...  ...   \n",
              "Fruit juice isn’t much better for you than soda...  ...   \n",
              "Sessions won’t testify at congressional budget ...  ...   \n",
              "\n",
              "                                                    Auto CEOs want Trump to order review of 2025 fuel rules  \\\n",
              "Chaos in the Family, Chaos in the State: The Wh...                                           0.370325         \n",
              " US Civil Rights Commission Will Observe Standi...                                           0.372918         \n",
              "Venezuela hunts rogue helicopter attackers, Mad...                                           0.420927         \n",
              "Fruit juice isn’t much better for you than soda...                                           0.163759         \n",
              "Sessions won’t testify at congressional budget ...                                           0.321637         \n",
              "\n",
              "                                                    Golden State Warriors NBA champions after downing Cavs  \\\n",
              "Chaos in the Family, Chaos in the State: The Wh...                                           0.228231        \n",
              " US Civil Rights Commission Will Observe Standi...                                           0.220481        \n",
              "Venezuela hunts rogue helicopter attackers, Mad...                                           0.220260        \n",
              "Fruit juice isn’t much better for you than soda...                                           0.123956        \n",
              "Sessions won’t testify at congressional budget ...                                           0.142903        \n",
              "\n",
              "                                                    Look Who Now Refuses to ‘Accept the Result of This Election’  \\\n",
              "Chaos in the Family, Chaos in the State: The Wh...                                           0.486348              \n",
              " US Civil Rights Commission Will Observe Standi...                                           0.457202              \n",
              "Venezuela hunts rogue helicopter attackers, Mad...                                           0.459930              \n",
              "Fruit juice isn’t much better for you than soda...                                           0.148778              \n",
              "Sessions won’t testify at congressional budget ...                                           0.362914              \n",
              "\n",
              "                                                    Obama Climate Plan, Now in Court, May Hinge on Error in 1990 Law   \\\n",
              "Chaos in the Family, Chaos in the State: The Wh...                                           0.346315                   \n",
              " US Civil Rights Commission Will Observe Standi...                                           0.428989                   \n",
              "Venezuela hunts rogue helicopter attackers, Mad...                                           0.459599                   \n",
              "Fruit juice isn’t much better for you than soda...                                           0.166097                   \n",
              "Sessions won’t testify at congressional budget ...                                           0.371471                   \n",
              "\n",
              "                                                    E.P.A. Head Stacks Agency With Climate Change Skeptics   \\\n",
              "Chaos in the Family, Chaos in the State: The Wh...                                           0.391943         \n",
              " US Civil Rights Commission Will Observe Standi...                                           0.450195         \n",
              "Venezuela hunts rogue helicopter attackers, Mad...                                           0.428584         \n",
              "Fruit juice isn’t much better for you than soda...                                           0.169043         \n",
              "Sessions won’t testify at congressional budget ...                                           0.451796         \n",
              "\n",
              "                                                    Patient secretly recorded doctors as they operated on her. Should she be so distressed by what she heard?  \\\n",
              "Chaos in the Family, Chaos in the State: The Wh...                                           0.235392                                                           \n",
              " US Civil Rights Commission Will Observe Standi...                                           0.283310                                                           \n",
              "Venezuela hunts rogue helicopter attackers, Mad...                                           0.283553                                                           \n",
              "Fruit juice isn’t much better for you than soda...                                           0.156256                                                           \n",
              "Sessions won’t testify at congressional budget ...                                           0.283832                                                           \n",
              "\n",
              "                                                    Fox News Poll: Clinton edges Trump by two points one month ahead of election  \\\n",
              "Chaos in the Family, Chaos in the State: The Wh...                                           0.379992                              \n",
              " US Civil Rights Commission Will Observe Standi...                                           0.232701                              \n",
              "Venezuela hunts rogue helicopter attackers, Mad...                                           0.278399                              \n",
              "Fruit juice isn’t much better for you than soda...                                           0.197509                              \n",
              "Sessions won’t testify at congressional budget ...                                           0.320866                              \n",
              "\n",
              "                                                    The Atlantic  Politics & Policy Daily: Trump’s Campaign Goes South  \\\n",
              "Chaos in the Family, Chaos in the State: The Wh...                                           0.467373                    \n",
              " US Civil Rights Commission Will Observe Standi...                                           0.420117                    \n",
              "Venezuela hunts rogue helicopter attackers, Mad...                                           0.467480                    \n",
              "Fruit juice isn’t much better for you than soda...                                           0.187718                    \n",
              "Sessions won’t testify at congressional budget ...                                           0.450300                    \n",
              "\n",
              "                                                    A Son In Chains. A Depressed Mom. Here’s What Helped  \\\n",
              "Chaos in the Family, Chaos in the State: The Wh...                                           0.384896      \n",
              " US Civil Rights Commission Will Observe Standi...                                           0.282087      \n",
              "Venezuela hunts rogue helicopter attackers, Mad...                                           0.296813      \n",
              "Fruit juice isn’t much better for you than soda...                                           0.171532      \n",
              "Sessions won’t testify at congressional budget ...                                           0.158671      \n",
              "\n",
              "                                                    Trump’s expected VP pick: coal advocate who defied Obama’s climate agenda  \n",
              "Chaos in the Family, Chaos in the State: The Wh...                                           0.380097                          \n",
              " US Civil Rights Commission Will Observe Standi...                                           0.371748                          \n",
              "Venezuela hunts rogue helicopter attackers, Mad...                                           0.345345                          \n",
              "Fruit juice isn’t much better for you than soda...                                           0.155491                          \n",
              "Sessions won’t testify at congressional budget ...                                           0.378904                          \n",
              "\n",
              "[5 rows x 10000 columns]"
            ],
            "text/html": [
              "<div>\n",
              "<style scoped>\n",
              "    .dataframe tbody tr th:only-of-type {\n",
              "        vertical-align: middle;\n",
              "    }\n",
              "\n",
              "    .dataframe tbody tr th {\n",
              "        vertical-align: top;\n",
              "    }\n",
              "\n",
              "    .dataframe thead th {\n",
              "        text-align: right;\n",
              "    }\n",
              "</style>\n",
              "<table border=\"1\" class=\"dataframe\">\n",
              "  <thead>\n",
              "    <tr style=\"text-align: right;\">\n",
              "      <th></th>\n",
              "      <th>Chaos in the Family, Chaos in the State: The White Working Class’s Dysfunction</th>\n",
              "      <th>US Civil Rights Commission Will Observe Standing Rock Standoff</th>\n",
              "      <th>Venezuela hunts rogue helicopter attackers, Maduro foes suspicious</th>\n",
              "      <th>Fruit juice isn’t much better for you than soda. Let’s stop pretending otherwise.</th>\n",
              "      <th>Sessions won’t testify at congressional budget hearings but at Senate intelligence hearing instead</th>\n",
              "      <th>Qatar: UAE and Saudi Arabia step up pressure in diplomatic crisis</th>\n",
              "      <th>’The 4-Hour Workweek’ author says a 3-step process he learned from Tony Robbins drastically improved his life</th>\n",
              "      <th>Rick Perry Attacked for Keeping His Word</th>\n",
              "      <th>Watch how a mathematician explains an astonishing coincidence</th>\n",
              "      <th>Second baby bald eagle begins hatching process at National Arboretum</th>\n",
              "      <th>...</th>\n",
              "      <th>Auto CEOs want Trump to order review of 2025 fuel rules</th>\n",
              "      <th>Golden State Warriors NBA champions after downing Cavs</th>\n",
              "      <th>Look Who Now Refuses to ‘Accept the Result of This Election’</th>\n",
              "      <th>Obama Climate Plan, Now in Court, May Hinge on Error in 1990 Law</th>\n",
              "      <th>E.P.A. Head Stacks Agency With Climate Change Skeptics</th>\n",
              "      <th>Patient secretly recorded doctors as they operated on her. Should she be so distressed by what she heard?</th>\n",
              "      <th>Fox News Poll: Clinton edges Trump by two points one month ahead of election</th>\n",
              "      <th>The Atlantic  Politics &amp; Policy Daily: Trump’s Campaign Goes South</th>\n",
              "      <th>A Son In Chains. A Depressed Mom. Here’s What Helped</th>\n",
              "      <th>Trump’s expected VP pick: coal advocate who defied Obama’s climate agenda</th>\n",
              "    </tr>\n",
              "  </thead>\n",
              "  <tbody>\n",
              "    <tr>\n",
              "      <td>Chaos in the Family, Chaos in the State: The White Working Class’s Dysfunction</td>\n",
              "      <td>1.000000</td>\n",
              "      <td>0.291457</td>\n",
              "      <td>0.336936</td>\n",
              "      <td>0.256971</td>\n",
              "      <td>0.181461</td>\n",
              "      <td>0.282036</td>\n",
              "      <td>0.389552</td>\n",
              "      <td>0.316919</td>\n",
              "      <td>0.289691</td>\n",
              "      <td>0.295462</td>\n",
              "      <td>...</td>\n",
              "      <td>0.370325</td>\n",
              "      <td>0.228231</td>\n",
              "      <td>0.486348</td>\n",
              "      <td>0.346315</td>\n",
              "      <td>0.391943</td>\n",
              "      <td>0.235392</td>\n",
              "      <td>0.379992</td>\n",
              "      <td>0.467373</td>\n",
              "      <td>0.384896</td>\n",
              "      <td>0.380097</td>\n",
              "    </tr>\n",
              "    <tr>\n",
              "      <td>US Civil Rights Commission Will Observe Standing Rock Standoff</td>\n",
              "      <td>0.291457</td>\n",
              "      <td>1.000000</td>\n",
              "      <td>0.543982</td>\n",
              "      <td>0.109070</td>\n",
              "      <td>0.411541</td>\n",
              "      <td>0.422529</td>\n",
              "      <td>0.224046</td>\n",
              "      <td>0.271750</td>\n",
              "      <td>0.141546</td>\n",
              "      <td>0.381025</td>\n",
              "      <td>...</td>\n",
              "      <td>0.372918</td>\n",
              "      <td>0.220481</td>\n",
              "      <td>0.457202</td>\n",
              "      <td>0.428989</td>\n",
              "      <td>0.450195</td>\n",
              "      <td>0.283310</td>\n",
              "      <td>0.232701</td>\n",
              "      <td>0.420117</td>\n",
              "      <td>0.282087</td>\n",
              "      <td>0.371748</td>\n",
              "    </tr>\n",
              "    <tr>\n",
              "      <td>Venezuela hunts rogue helicopter attackers, Maduro foes suspicious</td>\n",
              "      <td>0.336936</td>\n",
              "      <td>0.543982</td>\n",
              "      <td>1.000000</td>\n",
              "      <td>0.106961</td>\n",
              "      <td>0.405647</td>\n",
              "      <td>0.540752</td>\n",
              "      <td>0.184615</td>\n",
              "      <td>0.287032</td>\n",
              "      <td>0.161188</td>\n",
              "      <td>0.340552</td>\n",
              "      <td>...</td>\n",
              "      <td>0.420927</td>\n",
              "      <td>0.220260</td>\n",
              "      <td>0.459930</td>\n",
              "      <td>0.459599</td>\n",
              "      <td>0.428584</td>\n",
              "      <td>0.283553</td>\n",
              "      <td>0.278399</td>\n",
              "      <td>0.467480</td>\n",
              "      <td>0.296813</td>\n",
              "      <td>0.345345</td>\n",
              "    </tr>\n",
              "    <tr>\n",
              "      <td>Fruit juice isn’t much better for you than soda. Let’s stop pretending otherwise.</td>\n",
              "      <td>0.256971</td>\n",
              "      <td>0.109070</td>\n",
              "      <td>0.106961</td>\n",
              "      <td>1.000000</td>\n",
              "      <td>0.052951</td>\n",
              "      <td>0.109257</td>\n",
              "      <td>0.242693</td>\n",
              "      <td>0.108912</td>\n",
              "      <td>0.146040</td>\n",
              "      <td>0.155383</td>\n",
              "      <td>...</td>\n",
              "      <td>0.163759</td>\n",
              "      <td>0.123956</td>\n",
              "      <td>0.148778</td>\n",
              "      <td>0.166097</td>\n",
              "      <td>0.169043</td>\n",
              "      <td>0.156256</td>\n",
              "      <td>0.197509</td>\n",
              "      <td>0.187718</td>\n",
              "      <td>0.171532</td>\n",
              "      <td>0.155491</td>\n",
              "    </tr>\n",
              "    <tr>\n",
              "      <td>Sessions won’t testify at congressional budget hearings but at Senate intelligence hearing instead</td>\n",
              "      <td>0.181461</td>\n",
              "      <td>0.411541</td>\n",
              "      <td>0.405647</td>\n",
              "      <td>0.052951</td>\n",
              "      <td>1.000000</td>\n",
              "      <td>0.384612</td>\n",
              "      <td>0.176325</td>\n",
              "      <td>0.368784</td>\n",
              "      <td>0.109351</td>\n",
              "      <td>0.225344</td>\n",
              "      <td>...</td>\n",
              "      <td>0.321637</td>\n",
              "      <td>0.142903</td>\n",
              "      <td>0.362914</td>\n",
              "      <td>0.371471</td>\n",
              "      <td>0.451796</td>\n",
              "      <td>0.283832</td>\n",
              "      <td>0.320866</td>\n",
              "      <td>0.450300</td>\n",
              "      <td>0.158671</td>\n",
              "      <td>0.378904</td>\n",
              "    </tr>\n",
              "  </tbody>\n",
              "</table>\n",
              "<p>5 rows × 10000 columns</p>\n",
              "</div>"
            ]
          },
          "metadata": {
            "tags": []
          },
          "execution_count": 17
        }
      ]
    },
    {
      "cell_type": "code",
      "metadata": {
        "id": "BzfcHB1YBFd-",
        "colab_type": "code",
        "outputId": "4685b70a-4619-4351-9ca3-9b830acf2977",
        "colab": {
          "base_uri": "https://localhost:8080/",
          "height": 442
        }
      },
      "source": [
        "# find index of 5 most similar titles \n",
        "top5_ind = [] \n",
        "for i in range(len(corr_df)):\n",
        "  top5_ind.append(list(list(zip(*heapq.nlargest(5, enumerate(corr_df.iloc[i,:]), key=operator.itemgetter(1))))[0]))\n",
        "\n",
        "# show most similar titles -- sanity check\n",
        "top5 = []\n",
        "for ind in top5_ind:\n",
        "  top5.append([just_titles[i] for i in ind])\n",
        "\n",
        "top5[:5]"
      ],
      "execution_count": 18,
      "outputs": [
        {
          "output_type": "execute_result",
          "data": {
            "text/plain": [
              "[['Chaos in the Family, Chaos in the State: The White Working Class’s Dysfunction',\n",
              "  'After Trump, conservatives should stop longing for the past — and learn a little humility',\n",
              "  'The alt-right is more than warmed-over white supremacy. It’s that, but way way weirder.',\n",
              "  'The Return of ‘Street Corner Conservatism’',\n",
              "  'Liberals should get behind marriage (Opinion)'],\n",
              " [' US Civil Rights Commission Will Observe Standing Rock\\xa0Standoff',\n",
              "  ' Cory Booker Calls For Federal Investigation Into Police Tactics At Dakota Access\\xa0Pipeline',\n",
              "  'Army will close Dakota pipeline protesters’ campsite, Sioux leader\\xa0says',\n",
              "  'Dakota Access Pipeline protest site is cleared',\n",
              "  'Protesters, Police Still Clashing Over Disputed North Dakota Pipeline'],\n",
              " ['Venezuela hunts rogue helicopter attackers, Maduro foes suspicious',\n",
              "  'Protester dies, minister sacked after Paraguay re-election vote',\n",
              "  'Venezuela Erupts In ’Mother Of All Protests’ As Anti-Maduro Sentiment Seethes',\n",
              "  'Confusion In Venezuela After Helicopter Attack On Supreme Court',\n",
              "  'Slain Venezuelan protester’s father appeals to ’friend’ Maduro'],\n",
              " ['Fruit juice isn’t much better for you than soda. Let’s stop pretending otherwise.',\n",
              "  'Tax Soda To Fight Obesity, WHO Urges Nations Around The Globe',\n",
              "  'How The Food Industry Manipulates Taste Buds With ’Salt Sugar Fat’',\n",
              "  ' Nutrition Labels Will Now Show Calories For The Whole Tub Of Ice\\xa0Cream',\n",
              "  'Philly’s Drink Tax Is Hurting Consumers, Businesses, and the Poor'],\n",
              " ['Sessions won’t testify at congressional budget hearings but at Senate intelligence hearing instead',\n",
              "  'Feinstein calls for investigation of ’all matters related to obstruction of justice’',\n",
              "  'Jeff Sessions Pushes Back On Parts Of Comey’s Testimony',\n",
              "  'Top Democrat calls for investigation of Loretta Lynch’s Clinton\\xa0probe',\n",
              "  ' Jeff Sessions Recuses Himself From Any Federal Investigation Into The Presidential Election']]"
            ]
          },
          "metadata": {
            "tags": []
          },
          "execution_count": 18
        }
      ]
    },
    {
      "cell_type": "code",
      "metadata": {
        "id": "HstcwU-620RZ",
        "colab_type": "code",
        "colab": {}
      },
      "source": [
        ""
      ],
      "execution_count": 0,
      "outputs": []
    },
    {
      "cell_type": "code",
      "metadata": {
        "id": "3l6KLEeOgnzm",
        "colab_type": "code",
        "colab": {}
      },
      "source": [
        ""
      ],
      "execution_count": 0,
      "outputs": []
    },
    {
      "cell_type": "code",
      "metadata": {
        "id": "9tcp-NDvgn2L",
        "colab_type": "code",
        "colab": {}
      },
      "source": [
        ""
      ],
      "execution_count": 0,
      "outputs": []
    },
    {
      "cell_type": "code",
      "metadata": {
        "id": "5UdmMXZugn60",
        "colab_type": "code",
        "colab": {}
      },
      "source": [
        ""
      ],
      "execution_count": 0,
      "outputs": []
    },
    {
      "cell_type": "code",
      "metadata": {
        "id": "Jz-mIc2Jgn-U",
        "colab_type": "code",
        "colab": {}
      },
      "source": [
        ""
      ],
      "execution_count": 0,
      "outputs": []
    },
    {
      "cell_type": "code",
      "metadata": {
        "id": "CtQFIOVKgoBN",
        "colab_type": "code",
        "colab": {}
      },
      "source": [
        ""
      ],
      "execution_count": 0,
      "outputs": []
    },
    {
      "cell_type": "code",
      "metadata": {
        "id": "3_NCbtoHgn5l",
        "colab_type": "code",
        "colab": {}
      },
      "source": [
        ""
      ],
      "execution_count": 0,
      "outputs": []
    },
    {
      "cell_type": "code",
      "metadata": {
        "id": "HwllfzHt20QO",
        "colab_type": "code",
        "outputId": "18d7f159-c415-45e0-a73a-249788bd3795",
        "colab": {
          "base_uri": "https://localhost:8080/",
          "height": 34
        }
      },
      "source": [
        "np.array(message_embeddings).shape"
      ],
      "execution_count": 0,
      "outputs": [
        {
          "output_type": "execute_result",
          "data": {
            "text/plain": [
              "(1000, 512)"
            ]
          },
          "metadata": {
            "tags": []
          },
          "execution_count": 21
        }
      ]
    },
    {
      "cell_type": "code",
      "metadata": {
        "id": "ZHMgPr4lpjyC",
        "colab_type": "code",
        "outputId": "b915c99e-fcc8-4ddc-ae60-0c258e5c9229",
        "colab": {
          "base_uri": "https://localhost:8080/",
          "height": 255
        }
      },
      "source": [
        "message_embeddings"
      ],
      "execution_count": 0,
      "outputs": [
        {
          "output_type": "execute_result",
          "data": {
            "text/plain": [
              "<tf.Tensor: shape=(1000, 512), dtype=float32, numpy=\n",
              "array([[ 0.01333818, -0.05380408,  0.00232677, ...,  0.0533301 ,\n",
              "        -0.03825486,  0.04241087],\n",
              "       [-0.01210087, -0.01844358,  0.05187282, ...,  0.05565305,\n",
              "        -0.05972204,  0.04307982],\n",
              "       [-0.00471127, -0.04964766, -0.05074216, ...,  0.05359754,\n",
              "        -0.05339101, -0.05365704],\n",
              "       ...,\n",
              "       [ 0.00479301,  0.04639916, -0.04595203, ...,  0.0533572 ,\n",
              "        -0.05650016,  0.02762916],\n",
              "       [-0.04229458, -0.06001651,  0.03259774, ...,  0.03309052,\n",
              "        -0.04628655,  0.05280183],\n",
              "       [ 0.04829948, -0.05886184, -0.01870255, ...,  0.05115974,\n",
              "        -0.0572932 ,  0.05578536]], dtype=float32)>"
            ]
          },
          "metadata": {
            "tags": []
          },
          "execution_count": 22
        }
      ]
    },
    {
      "cell_type": "code",
      "metadata": {
        "id": "bi70kAvPrz6B",
        "colab_type": "code",
        "outputId": "e9448ef1-9889-4c89-e97c-4ff7b104645c",
        "colab": {
          "base_uri": "https://localhost:8080/",
          "height": 164
        }
      },
      "source": [
        " km.cluster_centers_.shape\n"
      ],
      "execution_count": 0,
      "outputs": [
        {
          "output_type": "error",
          "ename": "NameError",
          "evalue": "ignored",
          "traceback": [
            "\u001b[0;31m---------------------------------------------------------------------------\u001b[0m",
            "\u001b[0;31mNameError\u001b[0m                                 Traceback (most recent call last)",
            "\u001b[0;32m<ipython-input-23-e041f2e12d79>\u001b[0m in \u001b[0;36m<module>\u001b[0;34m\u001b[0m\n\u001b[0;32m----> 1\u001b[0;31m \u001b[0mkm\u001b[0m\u001b[0;34m.\u001b[0m\u001b[0mcluster_centers_\u001b[0m\u001b[0;34m.\u001b[0m\u001b[0mshape\u001b[0m\u001b[0;34m\u001b[0m\u001b[0;34m\u001b[0m\u001b[0m\n\u001b[0m",
            "\u001b[0;31mNameError\u001b[0m: name 'km' is not defined"
          ]
        }
      ]
    },
    {
      "cell_type": "markdown",
      "metadata": {
        "id": "buQTeidTrTdd",
        "colab_type": "text"
      },
      "source": [
        "## Run KMeans Clustering "
      ]
    },
    {
      "cell_type": "code",
      "metadata": {
        "id": "qZOcpt_JzrJ5",
        "colab_type": "code",
        "colab": {}
      },
      "source": [
        "num_clusters = 25\n",
        "\n",
        "km = KMeans(n_clusters=num_clusters, random_state=10)\n",
        "\n",
        "#km.fit(tfidf_matrix)\n",
        "km.fit(message_embeddings)\n",
        "\n",
        "clusters = km.labels_.tolist()"
      ],
      "execution_count": 0,
      "outputs": []
    },
    {
      "cell_type": "code",
      "metadata": {
        "id": "PGgSlunJBdyB",
        "colab_type": "code",
        "colab": {}
      },
      "source": [
        "# cosine similarities for each row with cluster center\n",
        "#cos_sim = [cosine_similarity(tfidf_matrix[i].toarray(), km.cluster_centers_[label].reshape(1, -1))[0][0] for i,label in enumerate(km.labels_)]\n",
        "cos_sim = [cosine_similarity(np.array(message_embeddings[i]).reshape(1, -1), km.cluster_centers_[label].reshape(1, -1))[0][0] for i,label in enumerate(km.labels_)]\n",
        "#sem_sim = [np.inner(np.array(message_embeddings[i]).reshape(1, -1), km.cluster_centers_[label].reshape(1, -1))[0][0] for i,label in enumerate(km.labels_)]\n"
      ],
      "execution_count": 0,
      "outputs": []
    },
    {
      "cell_type": "code",
      "metadata": {
        "id": "ZvAUqB9N89BL",
        "colab_type": "code",
        "outputId": "50eaa062-ac91-4105-d49f-cad6a7a13341",
        "colab": {
          "base_uri": "https://localhost:8080/",
          "height": 34
        }
      },
      "source": [
        "# sum of squared distances of samples to their closest cluster center.\n",
        "km.inertia_"
      ],
      "execution_count": 21,
      "outputs": [
        {
          "output_type": "execute_result",
          "data": {
            "text/plain": [
              "5733.306836503798"
            ]
          },
          "metadata": {
            "tags": []
          },
          "execution_count": 21
        }
      ]
    },
    {
      "cell_type": "code",
      "metadata": {
        "id": "N7g5G8jD6KMT",
        "colab_type": "code",
        "colab": {}
      },
      "source": [
        "# simple dataframe with title, cluster, and cosine similarity \n",
        "title_data = pd.DataFrame({'title':small_data.title, 'cluster':clusters, 'cos_sim':cos_sim})"
      ],
      "execution_count": 0,
      "outputs": []
    },
    {
      "cell_type": "code",
      "metadata": {
        "id": "W0jSRaADmGRv",
        "colab_type": "code",
        "outputId": "102267c7-8d82-46d5-e86b-9ebc6131f572",
        "colab": {
          "base_uri": "https://localhost:8080/",
          "height": 419
        }
      },
      "source": [
        "title_data"
      ],
      "execution_count": 24,
      "outputs": [
        {
          "output_type": "execute_result",
          "data": {
            "text/plain": [
              "                                                  title  cluster   cos_sim\n",
              "0     Chaos in the Family, Chaos in the State: The W...        3  0.649303\n",
              "1      US Civil Rights Commission Will Observe Stand...        3  0.629662\n",
              "2     Venezuela hunts rogue helicopter attackers, Ma...       10  0.683993\n",
              "3     Fruit juice isn’t much better for you than sod...        1  0.408172\n",
              "4     Sessions won’t testify at congressional budget...        5  0.760302\n",
              "...                                                 ...      ...       ...\n",
              "9995  Patient secretly recorded doctors as they oper...       11  0.566854\n",
              "9996  Fox News Poll: Clinton edges Trump by two poin...       19  0.718047\n",
              "9997  The Atlantic  Politics & Policy Daily: Trump’s...       22  0.777570\n",
              "9998  A Son In Chains. A Depressed Mom. Here’s What ...       11  0.621257\n",
              "9999  Trump’s expected VP pick: coal advocate who de...       20  0.715449\n",
              "\n",
              "[10000 rows x 3 columns]"
            ],
            "text/html": [
              "<div>\n",
              "<style scoped>\n",
              "    .dataframe tbody tr th:only-of-type {\n",
              "        vertical-align: middle;\n",
              "    }\n",
              "\n",
              "    .dataframe tbody tr th {\n",
              "        vertical-align: top;\n",
              "    }\n",
              "\n",
              "    .dataframe thead th {\n",
              "        text-align: right;\n",
              "    }\n",
              "</style>\n",
              "<table border=\"1\" class=\"dataframe\">\n",
              "  <thead>\n",
              "    <tr style=\"text-align: right;\">\n",
              "      <th></th>\n",
              "      <th>title</th>\n",
              "      <th>cluster</th>\n",
              "      <th>cos_sim</th>\n",
              "    </tr>\n",
              "  </thead>\n",
              "  <tbody>\n",
              "    <tr>\n",
              "      <td>0</td>\n",
              "      <td>Chaos in the Family, Chaos in the State: The W...</td>\n",
              "      <td>3</td>\n",
              "      <td>0.649303</td>\n",
              "    </tr>\n",
              "    <tr>\n",
              "      <td>1</td>\n",
              "      <td>US Civil Rights Commission Will Observe Stand...</td>\n",
              "      <td>3</td>\n",
              "      <td>0.629662</td>\n",
              "    </tr>\n",
              "    <tr>\n",
              "      <td>2</td>\n",
              "      <td>Venezuela hunts rogue helicopter attackers, Ma...</td>\n",
              "      <td>10</td>\n",
              "      <td>0.683993</td>\n",
              "    </tr>\n",
              "    <tr>\n",
              "      <td>3</td>\n",
              "      <td>Fruit juice isn’t much better for you than sod...</td>\n",
              "      <td>1</td>\n",
              "      <td>0.408172</td>\n",
              "    </tr>\n",
              "    <tr>\n",
              "      <td>4</td>\n",
              "      <td>Sessions won’t testify at congressional budget...</td>\n",
              "      <td>5</td>\n",
              "      <td>0.760302</td>\n",
              "    </tr>\n",
              "    <tr>\n",
              "      <td>...</td>\n",
              "      <td>...</td>\n",
              "      <td>...</td>\n",
              "      <td>...</td>\n",
              "    </tr>\n",
              "    <tr>\n",
              "      <td>9995</td>\n",
              "      <td>Patient secretly recorded doctors as they oper...</td>\n",
              "      <td>11</td>\n",
              "      <td>0.566854</td>\n",
              "    </tr>\n",
              "    <tr>\n",
              "      <td>9996</td>\n",
              "      <td>Fox News Poll: Clinton edges Trump by two poin...</td>\n",
              "      <td>19</td>\n",
              "      <td>0.718047</td>\n",
              "    </tr>\n",
              "    <tr>\n",
              "      <td>9997</td>\n",
              "      <td>The Atlantic  Politics &amp; Policy Daily: Trump’s...</td>\n",
              "      <td>22</td>\n",
              "      <td>0.777570</td>\n",
              "    </tr>\n",
              "    <tr>\n",
              "      <td>9998</td>\n",
              "      <td>A Son In Chains. A Depressed Mom. Here’s What ...</td>\n",
              "      <td>11</td>\n",
              "      <td>0.621257</td>\n",
              "    </tr>\n",
              "    <tr>\n",
              "      <td>9999</td>\n",
              "      <td>Trump’s expected VP pick: coal advocate who de...</td>\n",
              "      <td>20</td>\n",
              "      <td>0.715449</td>\n",
              "    </tr>\n",
              "  </tbody>\n",
              "</table>\n",
              "<p>10000 rows × 3 columns</p>\n",
              "</div>"
            ]
          },
          "metadata": {
            "tags": []
          },
          "execution_count": 24
        }
      ]
    },
    {
      "cell_type": "code",
      "metadata": {
        "id": "BCKbniucOLbA",
        "colab_type": "code",
        "outputId": "e6f81335-0036-478b-e039-f848eaca7c45",
        "colab": {
          "base_uri": "https://localhost:8080/",
          "height": 1000
        }
      },
      "source": [
        "# inspect titles with highest cosine similarity in clusters \n",
        "top_5 = title_data.groupby('cluster')['cos_sim'].nlargest(5)\n",
        "for i,ind in top_5.index:\n",
        "  print(\"cluster\", i)\n",
        "  print(just_titles[ind])\n",
        "  print('-------------')"
      ],
      "execution_count": 25,
      "outputs": [
        {
          "output_type": "stream",
          "text": [
            "cluster 0\n",
            "23 killed in West Virginia floods that swept preschooler away from grandfather’s reach\n",
            "-------------\n",
            "cluster 0\n",
            "At least 26 dead in West Virginia flooding\n",
            "-------------\n",
            "cluster 0\n",
            "As floods threaten N.C., officials urge: ‘Move to higher ground now’\n",
            "-------------\n",
            "cluster 0\n",
            "More than 280 reported dead in Haiti as extent of Hurricane Matthew damage comes into focus\n",
            "-------------\n",
            "cluster 0\n",
            "Lake Oroville dam: emergency staff race to fix spillway before more rain strikes\n",
            "-------------\n",
            "cluster 1\n",
            "Routine DNA Sequencing May Be Helpful And Not As Scary As Feared\n",
            "-------------\n",
            "cluster 1\n",
            "’Minibrains’ Could Help Drug Discovery For Zika And For Alzheimer’s \n",
            "-------------\n",
            "cluster 1\n",
            " At Gene Editing Meeting, Scientists Discuss God, Racism, Designer Babies\n",
            "-------------\n",
            "cluster 1\n",
            "Can Web Search Predict Cancer? Promise And Worry Of Big Data And Health\n",
            "-------------\n",
            "cluster 1\n",
            "Debunking the Debunkers on Sugar\n",
            "-------------\n",
            "cluster 2\n",
            "House Republicans repeal Obamacare, hurdles await in U.S. Senate\n",
            "-------------\n",
            "cluster 2\n",
            "Republicans rush to prevent health bill’s collapse after vote postponed\n",
            "-------------\n",
            "cluster 2\n",
            "GOP Looks To Trump’s Address To Rally Lawmakers Around An Obamacare Strategy\n",
            "-------------\n",
            "cluster 2\n",
            "Let’s speculate about what the Kansas special election means for health care\n",
            "-------------\n",
            "cluster 2\n",
            "House Republicans plan Thursday vote on bill to repeal and replace Obamacare\n",
            "-------------\n",
            "cluster 3\n",
            "Milo Yiannopoulos is trying to convince colleges that hate speech is cool\n",
            "-------------\n",
            "cluster 3\n",
            "Trump fans’ ’Deploraball’ party shows rift in alt-right movement\n",
            "-------------\n",
            "cluster 3\n",
            "Yes, there is a free speech crisis. But its victims are not white men\n",
            "-------------\n",
            "cluster 3\n",
            "Hate speech seeps into U.S. mainstream amid bitter campaign\n",
            "-------------\n",
            "cluster 3\n",
            "Ciccotta: Guest Speaker’s Call to Violence Reveals Bucknell’s Radicalism \n",
            "-------------\n",
            "cluster 4\n",
            "Investigators are trying to figure out whether a corrupt Chicago cop tainted additional drug convictions\n",
            "-------------\n",
            "cluster 4\n",
            "NBA star Derrick Rose and friends cleared in rape case\n",
            "-------------\n",
            "cluster 4\n",
            "Judge fears for witnesses’ safety in mob bust\n",
            "-------------\n",
            "cluster 4\n",
            "San Francisco text scandal: Police arrests questioned\n",
            "-------------\n",
            "cluster 4\n",
            "Derrick Rose rape trial: LAPD detective’s apparent suicide complicates case\n",
            "-------------\n",
            "cluster 5\n",
            "Trump knows the feds are closing in on him\n",
            "-------------\n",
            "cluster 5\n",
            "Comey to be pressed on whether Trump interfered with Russia probe\n",
            "-------------\n",
            "cluster 5\n",
            "The FBI probe into Trump and Russia is huge news. Our political system isn’t ready for it.\n",
            "-------------\n",
            "cluster 5\n",
            "Senate intelligence committee to question Trump team on links with Russia\n",
            "-------------\n",
            "cluster 5\n",
            "Trump finds himself exactly where he doesn’t want to be\n",
            "-------------\n",
            "cluster 6\n",
            "Dollar hits eight-month high; stocks post weekly gain\n",
            "-------------\n",
            "cluster 6\n",
            "Wall Street rises as data points to accelerating economy\n",
            "-------------\n",
            "cluster 6\n",
            "Pharma, bank stocks pull Wall Street lower\n",
            "-------------\n",
            "cluster 6\n",
            "Wall Street ticks up as hawkish Fed fears ebb; Apple weighs\n",
            "-------------\n",
            "cluster 6\n",
            "Oil falls 5 percent on supply woes; euro up before French vote\n",
            "-------------\n",
            "cluster 7\n",
            "Wounded fight for life in Nice as killer’s brother tells of pre-attack call\n",
            "-------------\n",
            "cluster 7\n",
            "Nice attack: Ties to ISIS not yet established, official says\n",
            "-------------\n",
            "cluster 7\n",
            "Germany’s first attack by radicalised asylum seeker alarms officials\n",
            "-------------\n",
            "cluster 7\n",
            "Islamic State suspected after suicide bombers kill 42 at Istanbul airport\n",
            "-------------\n",
            "cluster 7\n",
            "Islamic State claims Paris shooting, one policeman killed\n",
            "-------------\n",
            "cluster 8\n",
            "Toned-down Trump does not mean retreat from policy: aide\n",
            "-------------\n",
            "cluster 8\n",
            "The GOP now belongs to Trump. What are Republicans going to do about it?\n",
            "-------------\n",
            "cluster 8\n",
            "Trump In Triumph: The Man Who Wasn’t Welcome In The Game Takes Home The Prize\n",
            "-------------\n",
            "cluster 8\n",
            "Breitbart News Daily: Showdown Between Trump, GOP Establishment Looms on the Horizon \n",
            "-------------\n",
            "cluster 8\n",
            "Trump’s surge confounds rivals, makes him betting favorite\n",
            "-------------\n",
            "cluster 9\n",
            "Factory outlet: the art inspired by Joy Division and New Order\n",
            "-------------\n",
            "cluster 9\n",
            "Review: The Smithsonian African American Museum Is Here at Last. And It Uplifts and Upsets. \n",
            "-------------\n",
            "cluster 9\n",
            "Welcome to the LOLhouse: how Berlin’s Biennale became a slick, sarcastic joke\n",
            "-------------\n",
            "cluster 9\n",
            "French pop star Jain: an electropop journey from Congo to Colbert\n",
            "-------------\n",
            "cluster 9\n",
            " Prince Remade Pop Stardom In His Own Singular Image\n",
            "-------------\n",
            "cluster 10\n",
            "A Blunt Message After ‘Brexit’: Bolting Will Carry a Heavy Price \n",
            "-------------\n",
            "cluster 10\n",
            "Albania’s ruling Socialists set to win Sunday vote: exit poll\n",
            "-------------\n",
            "cluster 10\n",
            "Serbia’s Vucic confirms domination with presidential win\n",
            "-------------\n",
            "cluster 10\n",
            "Europe’s populist wave encounters first test with votes in Italy and Austria\n",
            "-------------\n",
            "cluster 10\n",
            "Thousands of Hungarians rally to mock PM Orban\n",
            "-------------\n",
            "cluster 11\n",
            "#NPRreads: 4 Winning Stories To Tackle This Weekend\n",
            "-------------\n",
            "cluster 11\n",
            "Annie Proulx: ‘I’ve had a life. I see how slippery things can be’\n",
            "-------------\n",
            "cluster 11\n",
            "Quoted: The Chosen Edition\n",
            "-------------\n",
            "cluster 11\n",
            "Slain jogger’s dad can’t bear holidays: ‘There’s nothing for me to celebrate’\n",
            "-------------\n",
            "cluster 11\n",
            "What One Family Sacrificed To Help Black People Vote In 1966\n",
            "-------------\n",
            "cluster 12\n",
            "Stop pandering to MLB stars who get hurt because they don’t hustle\n",
            "-------------\n",
            "cluster 12\n",
            "A late HR to save a sinking team? Mets’ eerie July 31 flashback\n",
            "-------------\n",
            "cluster 12\n",
            "Why the name James Kaprielian represents the new Yankee way\n",
            "-------------\n",
            "cluster 12\n",
            "Ryan Howard desperately reminds baseball: I’m not retired\n",
            "-------------\n",
            "cluster 12\n",
            "Steve Lombardozzi’s journey from the Washington Nationals to Crustacean Nation\n",
            "-------------\n",
            "cluster 13\n",
            "Google to revamp policies, hire staff after UK ad scandal\n",
            "-------------\n",
            "cluster 13\n",
            "A year ago, Google blew itself up to become Alphabet — and a lot has changed since then ...\n",
            "-------------\n",
            "cluster 13\n",
            "Snapchat Files $3 Billion IPO, But May Never Be Profitable\n",
            "-------------\n",
            "cluster 13\n",
            "Wal-Mart says tech investments will boost online sales\n",
            "-------------\n",
            "cluster 13\n",
            "Why a hacker is giving away a special code that turns cars into self-driving machines\n",
            "-------------\n",
            "cluster 14\n",
            "What you need to watch in January\n",
            "-------------\n",
            "cluster 14\n",
            "11 buzzy films to watch, fresh from Sundance\n",
            "-------------\n",
            "cluster 14\n",
            "The 21 best movies of 2016\n",
            "-------------\n",
            "cluster 14\n",
            "Meet the season’s five best TV scene stealers\n",
            "-------------\n",
            "cluster 14\n",
            "50 Wonderful Things From 2016\n",
            "-------------\n",
            "cluster 15\n",
            "Gorka: Leaks from Obama Loyalists ‘Dangerous Politicization of Intelligence’\n",
            "-------------\n",
            "cluster 15\n",
            "Patient Diplomacy And A Reluctance To Act: Obama’s Mark On Foreign Policy\n",
            "-------------\n",
            "cluster 15\n",
            "Exclusive: Trump says Clinton policy on Syria would lead to World War Three\n",
            "-------------\n",
            "cluster 15\n",
            "John Bolton: Left ‘Engaging in Collective Hysteria’ Because They Cannot Make ‘Substantive Arguments’ Against Trump Policies\n",
            "-------------\n",
            "cluster 15\n",
            "Obama Puts Syria at Arm’s Length as Carnage Drags On \n",
            "-------------\n",
            "cluster 16\n",
            "In Syria and Iraq, the Islamic State is in retreat on multiple fronts\n",
            "-------------\n",
            "cluster 16\n",
            "Islamic State kills civilians in Mosul to deter support for army\n",
            "-------------\n",
            "cluster 16\n",
            "Iraqi forces launch operation to seize last Islamic State enclave in Mosul\n",
            "-------------\n",
            "cluster 16\n",
            "U.S. air raid hits Islamic State in Libya, 43 dead\n",
            "-------------\n",
            "cluster 16\n",
            "U.S. Strengthens Its Forces in a Crowded Syrian Battlefield \n",
            "-------------\n",
            "cluster 17\n",
            " Watch This Judge: A Conservative Happy Warrior Dons Black Robes\n",
            "-------------\n",
            "cluster 17\n",
            "The Supreme Courtâ€™s choice: chaos or more chaos\n",
            "-------------\n",
            "cluster 17\n",
            "Who is Neil Gorsuch? A staunch conservative with a background to worry liberals\n",
            "-------------\n",
            "cluster 17\n",
            "GOP’s illegal power grab in North Carolina\n",
            "-------------\n",
            "cluster 17\n",
            "Supreme Court justices seem divided on Obama immigration actions; Roberts the wild card\n",
            "-------------\n",
            "cluster 18\n",
            "Showdown looms between Trump administration, sanctuary cities\n",
            "-------------\n",
            "cluster 18\n",
            "L.A. Sheriff Faces Protests for Opposition to ’Sanctuary State’ \n",
            "-------------\n",
            "cluster 18\n",
            "Hispanic lawmakers make third ask for meeting to admin \n",
            "-------------\n",
            "cluster 18\n",
            "Mexico Launches $50M Effort to Help Illegal Aliens in U.S.\n",
            "-------------\n",
            "cluster 18\n",
            "For years, immigration authorities gave this mother a pass. On Wednesday, when she checked in with them, they seized her.\n",
            "-------------\n",
            "cluster 19\n",
            "Clinton sets sights on Trump, general election after huge win in South Carolina\n",
            "-------------\n",
            "cluster 19\n",
            "Hillary Campaign Denies Report of Campaign Shake-up After New Hampshire \n",
            "-------------\n",
            "cluster 19\n",
            "Clinton, Trump victories foreshadow a nasty, contentious fall campaign\n",
            "-------------\n",
            "cluster 19\n",
            "Being Moody: Where Bernie Sanders is king\n",
            "-------------\n",
            "cluster 19\n",
            "Why Hillary Clinton lost the election: the economy, trust and a weak message\n",
            "-------------\n",
            "cluster 20\n",
            "U.S. industry seeks faster permits, simpler rules in Trump regulation reset\n",
            "-------------\n",
            "cluster 20\n",
            "Big win for automakers as Trump orders fuel economy standards review\n",
            "-------------\n",
            "cluster 20\n",
            "Fact-checking President Trump’s claims on the Paris climate change deal\n",
            "-------------\n",
            "cluster 20\n",
            "Trump faces dilemma as U.S. oil reels from record biofuels targets\n",
            "-------------\n",
            "cluster 20\n",
            "Treasury’s Mnuchin to ’push hard’ for U.S. interests at G20: official\n",
            "-------------\n",
            "cluster 21\n",
            "As concern about North Korea deepens, the U.S. and China are at odds  \n",
            "-------------\n",
            "cluster 21\n",
            "North Korea missile launch marks a direct challenge to Trump administration\n",
            "-------------\n",
            "cluster 21\n",
            "North Korea tests ballistic missile; U.S. to avoid escalation\n",
            "-------------\n",
            "cluster 21\n",
            "North Korea Conducts Its 5th Test Of Nuclear Weapon\n",
            "-------------\n",
            "cluster 21\n",
            "North Korea stages 3rd missile test in 3 weeks\n",
            "-------------\n",
            "cluster 22\n",
            "6 takeaways from Trump’s Times meeting\n",
            "-------------\n",
            "cluster 22\n",
            "Donald Trump’s candidacy is the first time American politics has left me truly afraid\n",
            "-------------\n",
            "cluster 22\n",
            "Donald Trump: The Art of Self-Sabotage\n",
            "-------------\n",
            "cluster 22\n",
            "Donald Trump renews war with media as transition chaos continues\n",
            "-------------\n",
            "cluster 22\n",
            "Why Letting Go, for Trump, Is No Small or Simple Task \n",
            "-------------\n",
            "cluster 23\n",
            "Fatal shooting of Kansas City police officer not premeditated, authorities say\n",
            "-------------\n",
            "cluster 23\n",
            "Woman records horrific scene after boyfriend is fatally shot by police\n",
            "-------------\n",
            "cluster 23\n",
            "Police Officer Shot, Killed During Traffic Stop\n",
            "-------------\n",
            "cluster 23\n",
            " Protests break out in Milwaukee after officer fatally shoots man\n",
            "-------------\n",
            "cluster 23\n",
            "Maryland Cop Killed by Fellow Officers During Ambush, Says Police Chief\n",
            "-------------\n",
            "cluster 24\n",
            "The million-dollar condos that killed old New York\n",
            "-------------\n",
            "cluster 24\n",
            "How Flushing is becoming Queens’ must-buy ‘hood\n",
            "-------------\n",
            "cluster 24\n",
            "Four Seasons restaurant to live on at 280 Park Ave.\n",
            "-------------\n",
            "cluster 24\n",
            "$40M mansion forecloses in New Jersey\n",
            "-------------\n",
            "cluster 24\n",
            "Ralph Lauren still paying rent at abandoned former flagship store\n",
            "-------------\n"
          ],
          "name": "stdout"
        }
      ]
    },
    {
      "cell_type": "code",
      "metadata": {
        "id": "GIKKD6VrSCtd",
        "colab_type": "code",
        "outputId": "f28866d9-6d25-474c-f3ad-9f8d3d7fbb50",
        "colab": {
          "base_uri": "https://localhost:8080/",
          "height": 238
        }
      },
      "source": [
        "top_5"
      ],
      "execution_count": 26,
      "outputs": [
        {
          "output_type": "execute_result",
          "data": {
            "text/plain": [
              "cluster      \n",
              "0        7054    0.782964\n",
              "         7073    0.779029\n",
              "         3178    0.766450\n",
              "         6440    0.757836\n",
              "         24      0.736117\n",
              "                   ...   \n",
              "24       3765    0.753378\n",
              "         6195    0.740042\n",
              "         3141    0.730567\n",
              "         4448    0.719834\n",
              "         7532    0.718625\n",
              "Name: cos_sim, Length: 125, dtype: float64"
            ]
          },
          "metadata": {
            "tags": []
          },
          "execution_count": 26
        }
      ]
    },
    {
      "cell_type": "markdown",
      "metadata": {
        "id": "AgFJfTEFwFDo",
        "colab_type": "text"
      },
      "source": [
        "## Predict Input"
      ]
    },
    {
      "cell_type": "code",
      "metadata": {
        "id": "szMoBqi1wSuD",
        "colab_type": "code",
        "colab": {}
      },
      "source": [
        "input_topic = [\"Hillary Clinton defends handling of Benghazi attack\", \"Women's March Highlights\", \"Hillary Clinton emails\"]"
      ],
      "execution_count": 0,
      "outputs": []
    },
    {
      "cell_type": "code",
      "metadata": {
        "id": "Y4feyPvMwObG",
        "colab_type": "code",
        "colab": {}
      },
      "source": [
        "# run tfidf on input \n",
        "#tfidf_input = tfidf_vectorizer.transform(input_topic)\n",
        "\n",
        "# make list of tfidf_input\n",
        "#tfidf_input = [tfidf_input.getrow(i).toarray()[0].tolist() for i in range(tfidf_input.shape[0])]"
      ],
      "execution_count": 0,
      "outputs": []
    },
    {
      "cell_type": "code",
      "metadata": {
        "id": "6mtCkj3iwdvH",
        "colab_type": "code",
        "colab": {}
      },
      "source": [
        "# run encoder on input \n",
        "enc_input = model(input_topic)\n",
        "\n",
        "# make list of enc_input\n",
        "enc_input = [list(np.array(enc_input)[i]) for i in range(enc_input.shape[0])]"
      ],
      "execution_count": 0,
      "outputs": []
    },
    {
      "cell_type": "code",
      "metadata": {
        "id": "pWK5pgF-s8JX",
        "colab_type": "code",
        "colab": {}
      },
      "source": [
        "# make list of tfidf_matrix\n",
        "#tfidf_list = [tfidf_matrix.getrow(i).toarray()[0].tolist() for i in range(tfidf_matrix.shape[0])]\n"
      ],
      "execution_count": 0,
      "outputs": []
    },
    {
      "cell_type": "code",
      "metadata": {
        "id": "_dLiQxWSwfJC",
        "colab_type": "code",
        "colab": {}
      },
      "source": [
        "# make list of message_embeddings\n",
        "enc_list = [list(np.array(message_embeddings)[i]) for i in range(message_embeddings.shape[0])]\n"
      ],
      "execution_count": 0,
      "outputs": []
    },
    {
      "cell_type": "code",
      "metadata": {
        "id": "wF5olG5tYnDs",
        "colab_type": "code",
        "outputId": "dea91844-766a-4c76-e429-29ff6a8a7a24",
        "colab": {
          "base_uri": "https://localhost:8080/",
          "height": 34
        }
      },
      "source": [
        "len(title_data.cluster)"
      ],
      "execution_count": 30,
      "outputs": [
        {
          "output_type": "execute_result",
          "data": {
            "text/plain": [
              "10000"
            ]
          },
          "metadata": {
            "tags": []
          },
          "execution_count": 30
        }
      ]
    },
    {
      "cell_type": "code",
      "metadata": {
        "id": "hcdaRmCDlnXt",
        "colab_type": "code",
        "colab": {}
      },
      "source": [
        "# np.random.seed(5)\n",
        "# X_train = tfidf_list\n",
        "# y_train = title_data.cluster\n",
        "# X_test  = tfidf_input\n",
        "\n",
        "# # Create and fit a nearest-neighbor classifier\n",
        "# from sklearn.neighbors import KNeighborsClassifier\n",
        "# knn = KNeighborsClassifier()\n",
        "# knn.fit(X_train, y_train) \n",
        "\n",
        "# res = knn.predict(X_test)"
      ],
      "execution_count": 0,
      "outputs": []
    },
    {
      "cell_type": "code",
      "metadata": {
        "id": "0zvRwjAtZhDK",
        "colab_type": "code",
        "colab": {}
      },
      "source": [
        "np.random.seed(5)\n",
        "X_train = enc_list\n",
        "y_train = title_data.cluster\n",
        "X_test  = enc_input\n",
        "\n",
        "# Create and fit a nearest-neighbor classifier\n",
        "from sklearn.neighbors import KNeighborsClassifier\n",
        "knn = KNeighborsClassifier()\n",
        "knn.fit(X_train, y_train) \n",
        "\n",
        "res = knn.predict(X_test)"
      ],
      "execution_count": 0,
      "outputs": []
    },
    {
      "cell_type": "code",
      "metadata": {
        "id": "AuXKhKub7Ov_",
        "colab_type": "code",
        "outputId": "ec25b92e-288d-42c6-f7e3-5344d72e796e",
        "colab": {
          "base_uri": "https://localhost:8080/",
          "height": 34
        }
      },
      "source": [
        "print(res)"
      ],
      "execution_count": 32,
      "outputs": [
        {
          "output_type": "stream",
          "text": [
            "[5 3 5]\n"
          ],
          "name": "stdout"
        }
      ]
    },
    {
      "cell_type": "code",
      "metadata": {
        "id": "yR_arJegAV15",
        "colab_type": "code",
        "outputId": "1b1446cc-a10b-40a1-8021-bfad07ce3758",
        "colab": {
          "base_uri": "https://localhost:8080/",
          "height": 527
        }
      },
      "source": [
        "for i,ind in top_5.index:\n",
        "  if (i==3) | (i==5):\n",
        "    print(\"cluster\", i)\n",
        "    print(just_titles[ind])\n",
        "    print('-------------')\n",
        "\n",
        "# [\"Hillary Clinton defends handling of Benghazi attack\", \"Women's March Highlights\", \"Hillary Clinton emails\"]"
      ],
      "execution_count": 34,
      "outputs": [
        {
          "output_type": "stream",
          "text": [
            "cluster 3\n",
            "Milo Yiannopoulos is trying to convince colleges that hate speech is cool\n",
            "-------------\n",
            "cluster 3\n",
            "Trump fans’ ’Deploraball’ party shows rift in alt-right movement\n",
            "-------------\n",
            "cluster 3\n",
            "Yes, there is a free speech crisis. But its victims are not white men\n",
            "-------------\n",
            "cluster 3\n",
            "Hate speech seeps into U.S. mainstream amid bitter campaign\n",
            "-------------\n",
            "cluster 3\n",
            "Ciccotta: Guest Speaker’s Call to Violence Reveals Bucknell’s Radicalism \n",
            "-------------\n",
            "cluster 5\n",
            "Trump knows the feds are closing in on him\n",
            "-------------\n",
            "cluster 5\n",
            "Comey to be pressed on whether Trump interfered with Russia probe\n",
            "-------------\n",
            "cluster 5\n",
            "The FBI probe into Trump and Russia is huge news. Our political system isn’t ready for it.\n",
            "-------------\n",
            "cluster 5\n",
            "Senate intelligence committee to question Trump team on links with Russia\n",
            "-------------\n",
            "cluster 5\n",
            "Trump finds himself exactly where he doesn’t want to be\n",
            "-------------\n"
          ],
          "name": "stdout"
        }
      ]
    },
    {
      "cell_type": "code",
      "metadata": {
        "id": "_sYUfZF3Afdb",
        "colab_type": "code",
        "colab": {}
      },
      "source": [
        ""
      ],
      "execution_count": 0,
      "outputs": []
    },
    {
      "cell_type": "code",
      "metadata": {
        "id": "QXk6-xjYnsFt",
        "colab_type": "code",
        "colab": {}
      },
      "source": [
        ""
      ],
      "execution_count": 0,
      "outputs": []
    },
    {
      "cell_type": "code",
      "metadata": {
        "id": "dTfLRP80pM6A",
        "colab_type": "code",
        "colab": {}
      },
      "source": [
        ""
      ],
      "execution_count": 0,
      "outputs": []
    },
    {
      "cell_type": "code",
      "metadata": {
        "id": "0OwGPtAZpNG3",
        "colab_type": "code",
        "colab": {}
      },
      "source": [
        ""
      ],
      "execution_count": 0,
      "outputs": []
    },
    {
      "cell_type": "code",
      "metadata": {
        "id": "q1NeEOrYpNFy",
        "colab_type": "code",
        "colab": {}
      },
      "source": [
        ""
      ],
      "execution_count": 0,
      "outputs": []
    },
    {
      "cell_type": "code",
      "metadata": {
        "id": "waw-GjFzpNET",
        "colab_type": "code",
        "colab": {}
      },
      "source": [
        ""
      ],
      "execution_count": 0,
      "outputs": []
    },
    {
      "cell_type": "markdown",
      "metadata": {
        "id": "Nxz6ruD2pOQ_",
        "colab_type": "text"
      },
      "source": [
        "Check to see if individual vs mass inputs create different embeddings -- NO"
      ]
    },
    {
      "cell_type": "code",
      "metadata": {
        "id": "Qd5T0SESnsNr",
        "colab_type": "code",
        "colab": {}
      },
      "source": [
        "a = model([\"hi my name is emma\"])\n",
        "b = model([\"nice to meet you\"])\n",
        "c = model([\"hi what's your name\"])"
      ],
      "execution_count": 0,
      "outputs": []
    },
    {
      "cell_type": "code",
      "metadata": {
        "id": "kWwl5j7_n4Uq",
        "colab_type": "code",
        "colab": {}
      },
      "source": [
        "d = model([\"hi my name is emma\", \"nice to meet you\", \"hi what's your name\"])"
      ],
      "execution_count": 0,
      "outputs": []
    },
    {
      "cell_type": "code",
      "metadata": {
        "id": "WR5AvYhaoPQx",
        "colab_type": "code",
        "colab": {}
      },
      "source": [
        "e = np.concatenate((a, b, c))"
      ],
      "execution_count": 0,
      "outputs": []
    },
    {
      "cell_type": "code",
      "metadata": {
        "id": "iDEafG2DoWiS",
        "colab_type": "code",
        "colab": {}
      },
      "source": [
        "f = np.array(d)"
      ],
      "execution_count": 0,
      "outputs": []
    },
    {
      "cell_type": "code",
      "metadata": {
        "id": "I1MtlmAaoq3U",
        "colab_type": "code",
        "colab": {
          "base_uri": "https://localhost:8080/",
          "height": 68
        },
        "outputId": "e5a9d678-8477-42ca-8d9f-f20dfb81b38d"
      },
      "source": [
        "np.inner(e, e)"
      ],
      "execution_count": 54,
      "outputs": [
        {
          "output_type": "execute_result",
          "data": {
            "text/plain": [
              "array([[1.        , 0.23792592, 0.5253966 ],\n",
              "       [0.23792592, 1.        , 0.43527788],\n",
              "       [0.5253966 , 0.43527788, 1.        ]], dtype=float32)"
            ]
          },
          "metadata": {
            "tags": []
          },
          "execution_count": 54
        }
      ]
    },
    {
      "cell_type": "code",
      "metadata": {
        "id": "HvCWvQALpcu9",
        "colab_type": "code",
        "colab": {
          "base_uri": "https://localhost:8080/",
          "height": 68
        },
        "outputId": "471aba88-e138-43f3-c7a4-ae64acfc241c"
      },
      "source": [
        "np.inner(f, f)"
      ],
      "execution_count": 55,
      "outputs": [
        {
          "output_type": "execute_result",
          "data": {
            "text/plain": [
              "array([[0.9999999 , 0.23792589, 0.5253966 ],\n",
              "       [0.23792589, 1.        , 0.43527794],\n",
              "       [0.5253966 , 0.43527794, 1.0000001 ]], dtype=float32)"
            ]
          },
          "metadata": {
            "tags": []
          },
          "execution_count": 55
        }
      ]
    },
    {
      "cell_type": "code",
      "metadata": {
        "id": "UzG8RSFIpmY1",
        "colab_type": "code",
        "colab": {}
      },
      "source": [
        ""
      ],
      "execution_count": 0,
      "outputs": []
    },
    {
      "cell_type": "code",
      "metadata": {
        "id": "uOQiDZwIpz12",
        "colab_type": "code",
        "colab": {}
      },
      "source": [
        ""
      ],
      "execution_count": 0,
      "outputs": []
    },
    {
      "cell_type": "code",
      "metadata": {
        "id": "s9C0UzC_pz0_",
        "colab_type": "code",
        "colab": {}
      },
      "source": [
        ""
      ],
      "execution_count": 0,
      "outputs": []
    },
    {
      "cell_type": "code",
      "metadata": {
        "id": "gGMtcSCYpz0G",
        "colab_type": "code",
        "colab": {}
      },
      "source": [
        ""
      ],
      "execution_count": 0,
      "outputs": []
    },
    {
      "cell_type": "code",
      "metadata": {
        "id": "pnHDATxnpzzN",
        "colab_type": "code",
        "colab": {
          "base_uri": "https://localhost:8080/",
          "height": 255
        },
        "outputId": "47521f9a-486a-47b1-83c9-84cbc191c1a8"
      },
      "source": [
        "message_embeddings"
      ],
      "execution_count": 57,
      "outputs": [
        {
          "output_type": "execute_result",
          "data": {
            "text/plain": [
              "<tf.Tensor: shape=(10000, 512), dtype=float32, numpy=\n",
              "array([[ 0.01333818, -0.05380408,  0.00232677, ...,  0.0533301 ,\n",
              "        -0.03825486,  0.04241087],\n",
              "       [-0.01210087, -0.01844358,  0.05187282, ...,  0.05565305,\n",
              "        -0.05972204,  0.04307982],\n",
              "       [-0.00471127, -0.04964766, -0.05074216, ...,  0.05359754,\n",
              "        -0.05339101, -0.05365704],\n",
              "       ...,\n",
              "       [-0.03098017, -0.05402634, -0.04946342, ...,  0.05646259,\n",
              "        -0.05528343, -0.04850345],\n",
              "       [ 0.0071629 , -0.05772226,  0.05848116, ...,  0.05804956,\n",
              "        -0.05633788, -0.05588677],\n",
              "       [ 0.03915349, -0.0549503 , -0.05372609, ...,  0.05495479,\n",
              "        -0.05285954,  0.03810295]], dtype=float32)>"
            ]
          },
          "metadata": {
            "tags": []
          },
          "execution_count": 57
        }
      ]
    },
    {
      "cell_type": "code",
      "metadata": {
        "id": "dR1IAgUzpzx_",
        "colab_type": "code",
        "colab": {}
      },
      "source": [
        "input_embeddings = model(input_topic)"
      ],
      "execution_count": 0,
      "outputs": []
    },
    {
      "cell_type": "code",
      "metadata": {
        "id": "MlHyzm_vqRRe",
        "colab_type": "code",
        "colab": {
          "base_uri": "https://localhost:8080/",
          "height": 136
        },
        "outputId": "085ce8f3-a887-4037-ff05-dd8f8c4e53fb"
      },
      "source": [
        "input_embeddings"
      ],
      "execution_count": 59,
      "outputs": [
        {
          "output_type": "execute_result",
          "data": {
            "text/plain": [
              "<tf.Tensor: shape=(3, 512), dtype=float32, numpy=\n",
              "array([[-0.00043203,  0.03228568, -0.04395936, ...,  0.06762028,\n",
              "        -0.03446475,  0.00829037],\n",
              "       [-0.04381321,  0.0106896 ,  0.00313417, ...,  0.02813102,\n",
              "        -0.07244141,  0.02743991],\n",
              "       [ 0.00777211,  0.04472262,  0.00644468, ...,  0.03325547,\n",
              "        -0.0335868 ,  0.00524749]], dtype=float32)>"
            ]
          },
          "metadata": {
            "tags": []
          },
          "execution_count": 59
        }
      ]
    },
    {
      "cell_type": "code",
      "metadata": {
        "id": "gTCA7uDVqTBs",
        "colab_type": "code",
        "colab": {}
      },
      "source": [
        "inp_corr = np.inner(input_embeddings, message_embeddings)"
      ],
      "execution_count": 0,
      "outputs": []
    },
    {
      "cell_type": "code",
      "metadata": {
        "id": "4yXrp2mjqZjV",
        "colab_type": "code",
        "colab": {
          "base_uri": "https://localhost:8080/",
          "height": 548
        },
        "outputId": "07fdc3ca-2f89-483a-caf0-2cb5ca578392"
      },
      "source": [
        "# data frame of titles and semantic similarities\n",
        "inp_df = pd.DataFrame(inp_corr)\n",
        "inp_df.columns = just_titles\n",
        "inp_df.index = input_topic\n",
        "\n",
        "inp_df"
      ],
      "execution_count": 64,
      "outputs": [
        {
          "output_type": "execute_result",
          "data": {
            "text/plain": [
              "                                                    Chaos in the Family, Chaos in the State: The White Working Class’s Dysfunction  \\\n",
              "Hillary Clinton defends handling of Benghazi at...                                           0.019261                                \n",
              "Women's March Highlights                                                                     0.045296                                \n",
              "Hillary Clinton emails                                                                       0.036642                                \n",
              "\n",
              "                                                     US Civil Rights Commission Will Observe Standing Rock Standoff  \\\n",
              "Hillary Clinton defends handling of Benghazi at...                                           0.135737                 \n",
              "Women's March Highlights                                                                     0.119294                 \n",
              "Hillary Clinton emails                                                                       0.032883                 \n",
              "\n",
              "                                                    Venezuela hunts rogue helicopter attackers, Maduro foes suspicious  \\\n",
              "Hillary Clinton defends handling of Benghazi at...                                           0.213940                    \n",
              "Women's March Highlights                                                                    -0.000519                    \n",
              "Hillary Clinton emails                                                                       0.058746                    \n",
              "\n",
              "                                                    Fruit juice isn’t much better for you than soda. Let’s stop pretending otherwise.  \\\n",
              "Hillary Clinton defends handling of Benghazi at...                                          -0.040233                                   \n",
              "Women's March Highlights                                                                     0.065587                                   \n",
              "Hillary Clinton emails                                                                       0.017771                                   \n",
              "\n",
              "                                                    Sessions won’t testify at congressional budget hearings but at Senate intelligence hearing instead  \\\n",
              "Hillary Clinton defends handling of Benghazi at...                                           0.270479                                                    \n",
              "Women's March Highlights                                                                     0.049757                                                    \n",
              "Hillary Clinton emails                                                                       0.199208                                                    \n",
              "\n",
              "                                                    Qatar: UAE and Saudi Arabia step up pressure in diplomatic crisis  \\\n",
              "Hillary Clinton defends handling of Benghazi at...                                           0.242178                   \n",
              "Women's March Highlights                                                                    -0.028455                   \n",
              "Hillary Clinton emails                                                                       0.109163                   \n",
              "\n",
              "                                                    ’The 4-Hour Workweek’ author says a 3-step process he learned from Tony Robbins drastically improved his life  \\\n",
              "Hillary Clinton defends handling of Benghazi at...                                          -0.059264                                                               \n",
              "Women's March Highlights                                                                    -0.019417                                                               \n",
              "Hillary Clinton emails                                                                      -0.048110                                                               \n",
              "\n",
              "                                                    Rick Perry Attacked for Keeping His Word  \\\n",
              "Hillary Clinton defends handling of Benghazi at...                                  0.235375   \n",
              "Women's March Highlights                                                            0.070615   \n",
              "Hillary Clinton emails                                                              0.151369   \n",
              "\n",
              "                                                    Watch how a mathematician explains an astonishing coincidence  \\\n",
              "Hillary Clinton defends handling of Benghazi at...                                           0.039634               \n",
              "Women's March Highlights                                                                     0.004875               \n",
              "Hillary Clinton emails                                                                       0.013369               \n",
              "\n",
              "                                                    Second baby bald eagle begins hatching process at National Arboretum  \\\n",
              "Hillary Clinton defends handling of Benghazi at...                                           0.098044                      \n",
              "Women's March Highlights                                                                     0.166220                      \n",
              "Hillary Clinton emails                                                                       0.053923                      \n",
              "\n",
              "                                                    ...  \\\n",
              "Hillary Clinton defends handling of Benghazi at...  ...   \n",
              "Women's March Highlights                            ...   \n",
              "Hillary Clinton emails                              ...   \n",
              "\n",
              "                                                    Auto CEOs want Trump to order review of 2025 fuel rules  \\\n",
              "Hillary Clinton defends handling of Benghazi at...                                           0.203220         \n",
              "Women's March Highlights                                                                    -0.015162         \n",
              "Hillary Clinton emails                                                                       0.119110         \n",
              "\n",
              "                                                    Golden State Warriors NBA champions after downing Cavs  \\\n",
              "Hillary Clinton defends handling of Benghazi at...                                           0.059251        \n",
              "Women's March Highlights                                                                     0.082744        \n",
              "Hillary Clinton emails                                                                       0.073826        \n",
              "\n",
              "                                                    Look Who Now Refuses to ‘Accept the Result of This Election’  \\\n",
              "Hillary Clinton defends handling of Benghazi at...                                           0.264680              \n",
              "Women's March Highlights                                                                     0.106243              \n",
              "Hillary Clinton emails                                                                       0.273021              \n",
              "\n",
              "                                                    Obama Climate Plan, Now in Court, May Hinge on Error in 1990 Law   \\\n",
              "Hillary Clinton defends handling of Benghazi at...                                           0.107626                   \n",
              "Women's March Highlights                                                                     0.013035                   \n",
              "Hillary Clinton emails                                                                       0.035931                   \n",
              "\n",
              "                                                    E.P.A. Head Stacks Agency With Climate Change Skeptics   \\\n",
              "Hillary Clinton defends handling of Benghazi at...                                           0.163884         \n",
              "Women's March Highlights                                                                    -0.002550         \n",
              "Hillary Clinton emails                                                                       0.121179         \n",
              "\n",
              "                                                    Patient secretly recorded doctors as they operated on her. Should she be so distressed by what she heard?  \\\n",
              "Hillary Clinton defends handling of Benghazi at...                                           0.137996                                                           \n",
              "Women's March Highlights                                                                     0.052811                                                           \n",
              "Hillary Clinton emails                                                                       0.079669                                                           \n",
              "\n",
              "                                                    Fox News Poll: Clinton edges Trump by two points one month ahead of election  \\\n",
              "Hillary Clinton defends handling of Benghazi at...                                           0.252123                              \n",
              "Women's March Highlights                                                                     0.098290                              \n",
              "Hillary Clinton emails                                                                       0.269662                              \n",
              "\n",
              "                                                    The Atlantic  Politics & Policy Daily: Trump’s Campaign Goes South  \\\n",
              "Hillary Clinton defends handling of Benghazi at...                                           0.317374                    \n",
              "Women's March Highlights                                                                     0.124025                    \n",
              "Hillary Clinton emails                                                                       0.281040                    \n",
              "\n",
              "                                                    A Son In Chains. A Depressed Mom. Here’s What Helped  \\\n",
              "Hillary Clinton defends handling of Benghazi at...                                           0.092810      \n",
              "Women's March Highlights                                                                     0.028465      \n",
              "Hillary Clinton emails                                                                       0.044456      \n",
              "\n",
              "                                                    Trump’s expected VP pick: coal advocate who defied Obama’s climate agenda  \n",
              "Hillary Clinton defends handling of Benghazi at...                                           0.221320                          \n",
              "Women's March Highlights                                                                     0.090474                          \n",
              "Hillary Clinton emails                                                                       0.205921                          \n",
              "\n",
              "[3 rows x 10000 columns]"
            ],
            "text/html": [
              "<div>\n",
              "<style scoped>\n",
              "    .dataframe tbody tr th:only-of-type {\n",
              "        vertical-align: middle;\n",
              "    }\n",
              "\n",
              "    .dataframe tbody tr th {\n",
              "        vertical-align: top;\n",
              "    }\n",
              "\n",
              "    .dataframe thead th {\n",
              "        text-align: right;\n",
              "    }\n",
              "</style>\n",
              "<table border=\"1\" class=\"dataframe\">\n",
              "  <thead>\n",
              "    <tr style=\"text-align: right;\">\n",
              "      <th></th>\n",
              "      <th>Chaos in the Family, Chaos in the State: The White Working Class’s Dysfunction</th>\n",
              "      <th>US Civil Rights Commission Will Observe Standing Rock Standoff</th>\n",
              "      <th>Venezuela hunts rogue helicopter attackers, Maduro foes suspicious</th>\n",
              "      <th>Fruit juice isn’t much better for you than soda. Let’s stop pretending otherwise.</th>\n",
              "      <th>Sessions won’t testify at congressional budget hearings but at Senate intelligence hearing instead</th>\n",
              "      <th>Qatar: UAE and Saudi Arabia step up pressure in diplomatic crisis</th>\n",
              "      <th>’The 4-Hour Workweek’ author says a 3-step process he learned from Tony Robbins drastically improved his life</th>\n",
              "      <th>Rick Perry Attacked for Keeping His Word</th>\n",
              "      <th>Watch how a mathematician explains an astonishing coincidence</th>\n",
              "      <th>Second baby bald eagle begins hatching process at National Arboretum</th>\n",
              "      <th>...</th>\n",
              "      <th>Auto CEOs want Trump to order review of 2025 fuel rules</th>\n",
              "      <th>Golden State Warriors NBA champions after downing Cavs</th>\n",
              "      <th>Look Who Now Refuses to ‘Accept the Result of This Election’</th>\n",
              "      <th>Obama Climate Plan, Now in Court, May Hinge on Error in 1990 Law</th>\n",
              "      <th>E.P.A. Head Stacks Agency With Climate Change Skeptics</th>\n",
              "      <th>Patient secretly recorded doctors as they operated on her. Should she be so distressed by what she heard?</th>\n",
              "      <th>Fox News Poll: Clinton edges Trump by two points one month ahead of election</th>\n",
              "      <th>The Atlantic  Politics &amp; Policy Daily: Trump’s Campaign Goes South</th>\n",
              "      <th>A Son In Chains. A Depressed Mom. Here’s What Helped</th>\n",
              "      <th>Trump’s expected VP pick: coal advocate who defied Obama’s climate agenda</th>\n",
              "    </tr>\n",
              "  </thead>\n",
              "  <tbody>\n",
              "    <tr>\n",
              "      <td>Hillary Clinton defends handling of Benghazi attack</td>\n",
              "      <td>0.019261</td>\n",
              "      <td>0.135737</td>\n",
              "      <td>0.213940</td>\n",
              "      <td>-0.040233</td>\n",
              "      <td>0.270479</td>\n",
              "      <td>0.242178</td>\n",
              "      <td>-0.059264</td>\n",
              "      <td>0.235375</td>\n",
              "      <td>0.039634</td>\n",
              "      <td>0.098044</td>\n",
              "      <td>...</td>\n",
              "      <td>0.203220</td>\n",
              "      <td>0.059251</td>\n",
              "      <td>0.264680</td>\n",
              "      <td>0.107626</td>\n",
              "      <td>0.163884</td>\n",
              "      <td>0.137996</td>\n",
              "      <td>0.252123</td>\n",
              "      <td>0.317374</td>\n",
              "      <td>0.092810</td>\n",
              "      <td>0.221320</td>\n",
              "    </tr>\n",
              "    <tr>\n",
              "      <td>Women's March Highlights</td>\n",
              "      <td>0.045296</td>\n",
              "      <td>0.119294</td>\n",
              "      <td>-0.000519</td>\n",
              "      <td>0.065587</td>\n",
              "      <td>0.049757</td>\n",
              "      <td>-0.028455</td>\n",
              "      <td>-0.019417</td>\n",
              "      <td>0.070615</td>\n",
              "      <td>0.004875</td>\n",
              "      <td>0.166220</td>\n",
              "      <td>...</td>\n",
              "      <td>-0.015162</td>\n",
              "      <td>0.082744</td>\n",
              "      <td>0.106243</td>\n",
              "      <td>0.013035</td>\n",
              "      <td>-0.002550</td>\n",
              "      <td>0.052811</td>\n",
              "      <td>0.098290</td>\n",
              "      <td>0.124025</td>\n",
              "      <td>0.028465</td>\n",
              "      <td>0.090474</td>\n",
              "    </tr>\n",
              "    <tr>\n",
              "      <td>Hillary Clinton emails</td>\n",
              "      <td>0.036642</td>\n",
              "      <td>0.032883</td>\n",
              "      <td>0.058746</td>\n",
              "      <td>0.017771</td>\n",
              "      <td>0.199208</td>\n",
              "      <td>0.109163</td>\n",
              "      <td>-0.048110</td>\n",
              "      <td>0.151369</td>\n",
              "      <td>0.013369</td>\n",
              "      <td>0.053923</td>\n",
              "      <td>...</td>\n",
              "      <td>0.119110</td>\n",
              "      <td>0.073826</td>\n",
              "      <td>0.273021</td>\n",
              "      <td>0.035931</td>\n",
              "      <td>0.121179</td>\n",
              "      <td>0.079669</td>\n",
              "      <td>0.269662</td>\n",
              "      <td>0.281040</td>\n",
              "      <td>0.044456</td>\n",
              "      <td>0.205921</td>\n",
              "    </tr>\n",
              "  </tbody>\n",
              "</table>\n",
              "<p>3 rows × 10000 columns</p>\n",
              "</div>"
            ]
          },
          "metadata": {
            "tags": []
          },
          "execution_count": 64
        }
      ]
    },
    {
      "cell_type": "code",
      "metadata": {
        "id": "YbSILk45qv0L",
        "colab_type": "code",
        "colab": {
          "base_uri": "https://localhost:8080/",
          "height": 272
        },
        "outputId": "8c4e1987-15a4-4cf2-e8b5-5ac0721e6cfa"
      },
      "source": [
        "# find index of 5 most similar titles \n",
        "top5_ind = [] \n",
        "for i in range(len(inp_df)):\n",
        "  top5_ind.append(list(list(zip(*heapq.nlargest(5, enumerate(inp_df.iloc[i,:]), key=operator.itemgetter(1))))[0]))\n",
        "\n",
        "# show most similar titles -- sanity check\n",
        "top5 = []\n",
        "for ind in top5_ind:\n",
        "  top5.append([just_titles[i] for i in ind])\n",
        "\n",
        "top5[:5]\n",
        "# [\"Hillary Clinton defends handling of Benghazi attack\", \"Women's March Highlights\", \"Hillary Clinton emails\"]"
      ],
      "execution_count": 65,
      "outputs": [
        {
          "output_type": "execute_result",
          "data": {
            "text/plain": [
              "[['Benghazi may be over, but #Benghazi has a life of its own',\n",
              "  'The GOP stoops for scandal',\n",
              "  'Exclusive - Sarah Palin: Administration Lies, Soldiers Die. Yes, Hillary, at Every Point ‘It Matters’ ',\n",
              "  'Read the House Benghazi report',\n",
              "  'Clinton Bristles at Question on E-mail Indictment: ‘It’s Not Going to Happen’'],\n",
              " ['The Women’s March on Washington is becoming a\\xa0joke',\n",
              "  ' Women Share Why They Hit The Streets At The Sundance Women’s\\xa0March',\n",
              "  'Women will march on – What would a feminist do? podcast',\n",
              "  'The Exhausting Work of Tallying America’s Largest Protest',\n",
              "  'Women’s March organizers prepare for hundreds of thousands of protesters'],\n",
              " ['Donald Trump: ’Good Job, Huma. Thank you, Anthony Weiner’ ',\n",
              "  'Fox News anchor grills Hillary Clinton on her email scandal',\n",
              "  'Hillary Clinton’s email problems might be even worse than we thought',\n",
              "  'Hillary Clinton pal Neera Tanden’s greatest hits from WikiLeaks emails',\n",
              "  'Hillary Clinton Deleted More Emails Than She Sent to the State Department ']]"
            ]
          },
          "metadata": {
            "tags": []
          },
          "execution_count": 65
        }
      ]
    },
    {
      "cell_type": "code",
      "metadata": {
        "id": "h5Y4qit2rHJ_",
        "colab_type": "code",
        "colab": {}
      },
      "source": [
        ""
      ],
      "execution_count": 0,
      "outputs": []
    }
  ]
}