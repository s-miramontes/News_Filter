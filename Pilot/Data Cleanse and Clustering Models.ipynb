{
  "nbformat": 4,
  "nbformat_minor": 0,
  "metadata": {
    "kernelspec": {
      "name": "python3",
      "display_name": "Python 3"
    },
    "language_info": {
      "codemirror_mode": {
        "name": "ipython",
        "version": 3
      },
      "file_extension": ".py",
      "mimetype": "text/x-python",
      "name": "python",
      "nbconvert_exporter": "python",
      "pygments_lexer": "ipython3",
      "version": "3.7.3"
    },
    "colab": {
      "name": "Data Cleanse and Clustering Models.ipynb",
      "provenance": [],
      "machine_shape": "hm",
      "include_colab_link": true
    },
    "accelerator": "TPU"
  },
  "cells": [
    {
      "cell_type": "markdown",
      "metadata": {
        "id": "view-in-github",
        "colab_type": "text"
      },
      "source": [
        "<a href=\"https://colab.research.google.com/github/s-miramontes/News_Filter/blob/emma/Pilot/Data%20Cleanse%20and%20Clustering%20Models.ipynb\" target=\"_parent\"><img src=\"https://colab.research.google.com/assets/colab-badge.svg\" alt=\"Open In Colab\"/></a>"
      ]
    },
    {
      "cell_type": "markdown",
      "metadata": {
        "id": "XcKFzFa9rw7L",
        "colab_type": "text"
      },
      "source": [
        "# Clustering News Headlines\n",
        "\n",
        "In this notebook we begin my importing data to analyze its contents and be able to determine the best clustering algorithm to determine the articles that are mostly related to each other."
      ]
    },
    {
      "cell_type": "markdown",
      "metadata": {
        "id": "9_yv0Wugrw7Q",
        "colab_type": "text"
      },
      "source": [
        "We start by importing some dependencies"
      ]
    },
    {
      "cell_type": "code",
      "metadata": {
        "id": "qfPkC9ajrw7S",
        "colab_type": "code",
        "colab": {
          "base_uri": "https://localhost:8080/",
          "height": 50
        },
        "outputId": "927a0ca7-01c8-4dce-b127-98fd89665372"
      },
      "source": [
        "import numpy as np\n",
        "import pandas as pd\n",
        "\n",
        "import nltk\n",
        "from nltk.corpus import stopwords\n",
        "nltk.download('stopwords')\n",
        "\n",
        "import re\n",
        "from nltk.stem.snowball import SnowballStemmer\n",
        "\n",
        "from sklearn.feature_extraction.text import TfidfVectorizer\n",
        "\n",
        "from sklearn.cluster import KMeans"
      ],
      "execution_count": 1,
      "outputs": [
        {
          "output_type": "stream",
          "text": [
            "[nltk_data] Downloading package stopwords to /root/nltk_data...\n",
            "[nltk_data]   Package stopwords is already up-to-date!\n"
          ],
          "name": "stdout"
        }
      ]
    },
    {
      "cell_type": "code",
      "metadata": {
        "id": "7oeFeduMy0d9",
        "colab_type": "code",
        "colab": {}
      },
      "source": [
        "from sklearn.metrics.pairwise import cosine_similarity"
      ],
      "execution_count": 0,
      "outputs": []
    },
    {
      "cell_type": "markdown",
      "metadata": {
        "id": "1vaQv_w0sd2J",
        "colab_type": "text"
      },
      "source": [
        "## Importing Data from Local File System\n",
        "\n",
        "Datasets are located here: https://www.kaggle.com/snapcrack/all-the-news/version/4#articles3.csv\n",
        "\n",
        "Proceed to download all three 'csv' files, and store them in a 'data' directory at the location of your choice.\n"
      ]
    },
    {
      "cell_type": "markdown",
      "metadata": {
        "id": "NvT6334UtXp8",
        "colab_type": "text"
      },
      "source": [
        "*Note: It might be a better idea to have a way to import the data from the cloud (google drive) rather than from the user's local file system. Let's leave it like this for now, mainly bringing this up for easy reproducibility.*"
      ]
    },
    {
      "cell_type": "markdown",
      "metadata": {
        "id": "NjY6UfPdtXUE",
        "colab_type": "text"
      },
      "source": [
        "Instead, we can mount google drive and import the datasets from an existing file in the cloud."
      ]
    },
    {
      "cell_type": "code",
      "metadata": {
        "id": "z0OVNb1IGYsJ",
        "colab_type": "code",
        "colab": {}
      },
      "source": [
        "from pydrive.auth import GoogleAuth\n",
        "from pydrive.drive import GoogleDrive\n",
        "from google.colab import auth\n",
        "from oauth2client.client import GoogleCredentials"
      ],
      "execution_count": 0,
      "outputs": []
    },
    {
      "cell_type": "code",
      "metadata": {
        "id": "W-C_jjIx_ovd",
        "colab_type": "code",
        "colab": {}
      },
      "source": [
        "auth.authenticate_user()\n",
        "gauth = GoogleAuth()\n",
        "gauth.credentials = GoogleCredentials.get_application_default()\n",
        "drive = GoogleDrive(gauth)"
      ],
      "execution_count": 0,
      "outputs": []
    },
    {
      "cell_type": "markdown",
      "metadata": {
        "id": "-lmS8cQ2_oru",
        "colab_type": "text"
      },
      "source": [
        "For every file available we have a shared link:\n",
        "\n",
        "CSV File: 'Articles 3':\n",
        "https://drive.google.com/a/berkeley.edu/file/d/1BDhi5FuIvJ_6jiIdIFXRjT0w6tgfNk10/view?usp=sharing\n",
        "\n",
        "CSV File: 'Articles 2':\n",
        "https://drive.google.com/a/berkeley.edu/file/d/1qpoRkKEOnxYg_12e0RdeRi-JWUGWNFP3/view?usp=sharing\n",
        "\n",
        "CSV File: 'Articles 1':\n",
        "https://drive.google.com/a/berkeley.edu/file/d/1c9NbOIx7M6PgyJKxR9E7HgzuJlxGIaXU/view?usp=sharing\n",
        "\n",
        "\n",
        "For each of the links above, we utiliz the File ID provided:\n",
        "\n",
        "- Articles 1 File ID: '1BDhi5FuIvJ_6jiIdIFXRjT0w6tgfNk10'\n",
        "- Articles 2 File ID: '1qpoRkKEOnxYg_12e0RdeRi-JWUGWNFP3'\n",
        "- Articles 3 File ID: '1c9NbOIx7M6PgyJKxR9E7HgzuJlxGIaXU'\n"
      ]
    },
    {
      "cell_type": "code",
      "metadata": {
        "id": "Yo9j0HpN_om3",
        "colab_type": "code",
        "colab": {}
      },
      "source": [
        "downloaded3 = drive.CreateFile({'id':\"1BDhi5FuIvJ_6jiIdIFXRjT0w6tgfNk10\"})   # replace the id with id of file you want to access\n",
        "downloaded3.GetContentFile('articles3.csv.zip')        # replace the file name with your file\n",
        "\n",
        "downloaded2 = drive.CreateFile({'id': \"1qpoRkKEOnxYg_12e0RdeRi-JWUGWNFP3\"})\n",
        "downloaded2.GetContentFile('articles2.csv.zip')\n",
        "\n",
        "downloaded1 = drive.CreateFile({'id': \"1c9NbOIx7M6PgyJKxR9E7HgzuJlxGIaXU\"})\n",
        "downloaded1.GetContentFile('articles1.csv.zip')"
      ],
      "execution_count": 0,
      "outputs": []
    },
    {
      "cell_type": "code",
      "metadata": {
        "id": "LWGIyGKy_ohe",
        "colab_type": "code",
        "colab": {}
      },
      "source": [
        "articles_3 = pd.read_csv('articles3.csv.zip', compression='zip')\n",
        "articles_2 = pd.read_csv('articles2.csv.zip', compression='zip')\n",
        "articles_1 = pd.read_csv('articles1.csv.zip', compression='zip')"
      ],
      "execution_count": 0,
      "outputs": []
    },
    {
      "cell_type": "code",
      "metadata": {
        "id": "BMp3ER1V_oZW",
        "colab_type": "code",
        "outputId": "2ff0aec8-8da6-48e9-c901-e629bc40fba7",
        "colab": {
          "base_uri": "https://localhost:8080/",
          "height": 191
        }
      },
      "source": [
        "articles_3.head()"
      ],
      "execution_count": 7,
      "outputs": [
        {
          "output_type": "execute_result",
          "data": {
            "text/html": [
              "<div>\n",
              "<style scoped>\n",
              "    .dataframe tbody tr th:only-of-type {\n",
              "        vertical-align: middle;\n",
              "    }\n",
              "\n",
              "    .dataframe tbody tr th {\n",
              "        vertical-align: top;\n",
              "    }\n",
              "\n",
              "    .dataframe thead th {\n",
              "        text-align: right;\n",
              "    }\n",
              "</style>\n",
              "<table border=\"1\" class=\"dataframe\">\n",
              "  <thead>\n",
              "    <tr style=\"text-align: right;\">\n",
              "      <th></th>\n",
              "      <th>Unnamed: 0</th>\n",
              "      <th>id</th>\n",
              "      <th>title</th>\n",
              "      <th>publication</th>\n",
              "      <th>author</th>\n",
              "      <th>date</th>\n",
              "      <th>year</th>\n",
              "      <th>month</th>\n",
              "      <th>url</th>\n",
              "      <th>content</th>\n",
              "    </tr>\n",
              "  </thead>\n",
              "  <tbody>\n",
              "    <tr>\n",
              "      <th>0</th>\n",
              "      <td>103459</td>\n",
              "      <td>151908</td>\n",
              "      <td>Alton Sterling’s son: ’Everyone needs to prote...</td>\n",
              "      <td>Guardian</td>\n",
              "      <td>Jessica Glenza</td>\n",
              "      <td>2016-07-13</td>\n",
              "      <td>2016.0</td>\n",
              "      <td>7.0</td>\n",
              "      <td>https://www.theguardian.com/us-news/2016/jul/1...</td>\n",
              "      <td>The son of a Louisiana man whose father was sh...</td>\n",
              "    </tr>\n",
              "    <tr>\n",
              "      <th>1</th>\n",
              "      <td>103460</td>\n",
              "      <td>151909</td>\n",
              "      <td>Shakespeare’s first four folios sell at auctio...</td>\n",
              "      <td>Guardian</td>\n",
              "      <td>NaN</td>\n",
              "      <td>2016-05-25</td>\n",
              "      <td>2016.0</td>\n",
              "      <td>5.0</td>\n",
              "      <td>https://www.theguardian.com/culture/2016/may/2...</td>\n",
              "      <td>Copies of William Shakespeare’s first four boo...</td>\n",
              "    </tr>\n",
              "    <tr>\n",
              "      <th>2</th>\n",
              "      <td>103461</td>\n",
              "      <td>151910</td>\n",
              "      <td>My grandmother’s death saved me from a life of...</td>\n",
              "      <td>Guardian</td>\n",
              "      <td>Robert Pendry</td>\n",
              "      <td>2016-10-31</td>\n",
              "      <td>2016.0</td>\n",
              "      <td>10.0</td>\n",
              "      <td>https://www.theguardian.com/commentisfree/2016...</td>\n",
              "      <td>Debt: $20, 000, Source: College, credit cards,...</td>\n",
              "    </tr>\n",
              "    <tr>\n",
              "      <th>3</th>\n",
              "      <td>103462</td>\n",
              "      <td>151911</td>\n",
              "      <td>I feared my life lacked meaning. Cancer pushed...</td>\n",
              "      <td>Guardian</td>\n",
              "      <td>Bradford Frost</td>\n",
              "      <td>2016-11-26</td>\n",
              "      <td>2016.0</td>\n",
              "      <td>11.0</td>\n",
              "      <td>https://www.theguardian.com/commentisfree/2016...</td>\n",
              "      <td>It was late. I was drunk, nearing my 35th birt...</td>\n",
              "    </tr>\n",
              "    <tr>\n",
              "      <th>4</th>\n",
              "      <td>103463</td>\n",
              "      <td>151912</td>\n",
              "      <td>Texas man serving life sentence innocent of do...</td>\n",
              "      <td>Guardian</td>\n",
              "      <td>NaN</td>\n",
              "      <td>2016-08-20</td>\n",
              "      <td>2016.0</td>\n",
              "      <td>8.0</td>\n",
              "      <td>https://www.theguardian.com/us-news/2016/aug/2...</td>\n",
              "      <td>A central Texas man serving a life sentence fo...</td>\n",
              "    </tr>\n",
              "  </tbody>\n",
              "</table>\n",
              "</div>"
            ],
            "text/plain": [
              "   Unnamed: 0  ...                                            content\n",
              "0      103459  ...  The son of a Louisiana man whose father was sh...\n",
              "1      103460  ...  Copies of William Shakespeare’s first four boo...\n",
              "2      103461  ...  Debt: $20, 000, Source: College, credit cards,...\n",
              "3      103462  ...  It was late. I was drunk, nearing my 35th birt...\n",
              "4      103463  ...  A central Texas man serving a life sentence fo...\n",
              "\n",
              "[5 rows x 10 columns]"
            ]
          },
          "metadata": {
            "tags": []
          },
          "execution_count": 7
        }
      ]
    },
    {
      "cell_type": "code",
      "metadata": {
        "id": "bWjyZH92_oFe",
        "colab_type": "code",
        "outputId": "20a8015a-f2b9-4744-881c-04ec2e61f73c",
        "colab": {
          "base_uri": "https://localhost:8080/",
          "height": 191
        }
      },
      "source": [
        "articles_2.head()"
      ],
      "execution_count": 8,
      "outputs": [
        {
          "output_type": "execute_result",
          "data": {
            "text/html": [
              "<div>\n",
              "<style scoped>\n",
              "    .dataframe tbody tr th:only-of-type {\n",
              "        vertical-align: middle;\n",
              "    }\n",
              "\n",
              "    .dataframe tbody tr th {\n",
              "        vertical-align: top;\n",
              "    }\n",
              "\n",
              "    .dataframe thead th {\n",
              "        text-align: right;\n",
              "    }\n",
              "</style>\n",
              "<table border=\"1\" class=\"dataframe\">\n",
              "  <thead>\n",
              "    <tr style=\"text-align: right;\">\n",
              "      <th></th>\n",
              "      <th>Unnamed: 0</th>\n",
              "      <th>id</th>\n",
              "      <th>title</th>\n",
              "      <th>publication</th>\n",
              "      <th>author</th>\n",
              "      <th>date</th>\n",
              "      <th>year</th>\n",
              "      <th>month</th>\n",
              "      <th>url</th>\n",
              "      <th>content</th>\n",
              "    </tr>\n",
              "  </thead>\n",
              "  <tbody>\n",
              "    <tr>\n",
              "      <th>0</th>\n",
              "      <td>53293</td>\n",
              "      <td>73471</td>\n",
              "      <td>Patriots Day Is Best When It Digs Past the Her...</td>\n",
              "      <td>Atlantic</td>\n",
              "      <td>David Sims</td>\n",
              "      <td>2017-01-11</td>\n",
              "      <td>2017.0</td>\n",
              "      <td>1.0</td>\n",
              "      <td>NaN</td>\n",
              "      <td>Patriots Day, Peter Berg’s new thriller that r...</td>\n",
              "    </tr>\n",
              "    <tr>\n",
              "      <th>1</th>\n",
              "      <td>53294</td>\n",
              "      <td>73472</td>\n",
              "      <td>A Break in the Search for the Origin of Comple...</td>\n",
              "      <td>Atlantic</td>\n",
              "      <td>Ed Yong</td>\n",
              "      <td>2017-01-11</td>\n",
              "      <td>2017.0</td>\n",
              "      <td>1.0</td>\n",
              "      <td>NaN</td>\n",
              "      <td>In Norse mythology, humans and our world were ...</td>\n",
              "    </tr>\n",
              "    <tr>\n",
              "      <th>2</th>\n",
              "      <td>53295</td>\n",
              "      <td>73474</td>\n",
              "      <td>Obama’s Ingenious Mention of Atticus Finch</td>\n",
              "      <td>Atlantic</td>\n",
              "      <td>Spencer Kornhaber</td>\n",
              "      <td>2017-01-11</td>\n",
              "      <td>2017.0</td>\n",
              "      <td>1.0</td>\n",
              "      <td>NaN</td>\n",
              "      <td>“If our democracy is to work in this increasin...</td>\n",
              "    </tr>\n",
              "    <tr>\n",
              "      <th>3</th>\n",
              "      <td>53296</td>\n",
              "      <td>73475</td>\n",
              "      <td>Donald Trump Meets, and Assails, the Press</td>\n",
              "      <td>Atlantic</td>\n",
              "      <td>David A. Graham</td>\n",
              "      <td>2017-01-11</td>\n",
              "      <td>2017.0</td>\n",
              "      <td>1.0</td>\n",
              "      <td>NaN</td>\n",
              "      <td>Updated on January 11 at 5:05 p. m. In his fir...</td>\n",
              "    </tr>\n",
              "    <tr>\n",
              "      <th>4</th>\n",
              "      <td>53297</td>\n",
              "      <td>73476</td>\n",
              "      <td>Trump: ’I Think’ Hacking Was Russian</td>\n",
              "      <td>Atlantic</td>\n",
              "      <td>Kaveh Waddell</td>\n",
              "      <td>2017-01-11</td>\n",
              "      <td>2017.0</td>\n",
              "      <td>1.0</td>\n",
              "      <td>NaN</td>\n",
              "      <td>Updated at 12:25 p. m. After months of equivoc...</td>\n",
              "    </tr>\n",
              "  </tbody>\n",
              "</table>\n",
              "</div>"
            ],
            "text/plain": [
              "   Unnamed: 0     id  ...  url                                            content\n",
              "0       53293  73471  ...  NaN  Patriots Day, Peter Berg’s new thriller that r...\n",
              "1       53294  73472  ...  NaN  In Norse mythology, humans and our world were ...\n",
              "2       53295  73474  ...  NaN  “If our democracy is to work in this increasin...\n",
              "3       53296  73475  ...  NaN  Updated on January 11 at 5:05 p. m. In his fir...\n",
              "4       53297  73476  ...  NaN  Updated at 12:25 p. m. After months of equivoc...\n",
              "\n",
              "[5 rows x 10 columns]"
            ]
          },
          "metadata": {
            "tags": []
          },
          "execution_count": 8
        }
      ]
    },
    {
      "cell_type": "code",
      "metadata": {
        "id": "I2qaWd4A_nmv",
        "colab_type": "code",
        "outputId": "ccabb1da-65d5-47b9-ca1b-21906ab55f7e",
        "colab": {
          "base_uri": "https://localhost:8080/",
          "height": 191
        }
      },
      "source": [
        "articles_1.head()"
      ],
      "execution_count": 9,
      "outputs": [
        {
          "output_type": "execute_result",
          "data": {
            "text/html": [
              "<div>\n",
              "<style scoped>\n",
              "    .dataframe tbody tr th:only-of-type {\n",
              "        vertical-align: middle;\n",
              "    }\n",
              "\n",
              "    .dataframe tbody tr th {\n",
              "        vertical-align: top;\n",
              "    }\n",
              "\n",
              "    .dataframe thead th {\n",
              "        text-align: right;\n",
              "    }\n",
              "</style>\n",
              "<table border=\"1\" class=\"dataframe\">\n",
              "  <thead>\n",
              "    <tr style=\"text-align: right;\">\n",
              "      <th></th>\n",
              "      <th>Unnamed: 0</th>\n",
              "      <th>id</th>\n",
              "      <th>title</th>\n",
              "      <th>publication</th>\n",
              "      <th>author</th>\n",
              "      <th>date</th>\n",
              "      <th>year</th>\n",
              "      <th>month</th>\n",
              "      <th>url</th>\n",
              "      <th>content</th>\n",
              "    </tr>\n",
              "  </thead>\n",
              "  <tbody>\n",
              "    <tr>\n",
              "      <th>0</th>\n",
              "      <td>0</td>\n",
              "      <td>17283</td>\n",
              "      <td>House Republicans Fret About Winning Their Hea...</td>\n",
              "      <td>New York Times</td>\n",
              "      <td>Carl Hulse</td>\n",
              "      <td>2016-12-31</td>\n",
              "      <td>2016.0</td>\n",
              "      <td>12.0</td>\n",
              "      <td>NaN</td>\n",
              "      <td>WASHINGTON  —   Congressional Republicans have...</td>\n",
              "    </tr>\n",
              "    <tr>\n",
              "      <th>1</th>\n",
              "      <td>1</td>\n",
              "      <td>17284</td>\n",
              "      <td>Rift Between Officers and Residents as Killing...</td>\n",
              "      <td>New York Times</td>\n",
              "      <td>Benjamin Mueller and Al Baker</td>\n",
              "      <td>2017-06-19</td>\n",
              "      <td>2017.0</td>\n",
              "      <td>6.0</td>\n",
              "      <td>NaN</td>\n",
              "      <td>After the bullet shells get counted, the blood...</td>\n",
              "    </tr>\n",
              "    <tr>\n",
              "      <th>2</th>\n",
              "      <td>2</td>\n",
              "      <td>17285</td>\n",
              "      <td>Tyrus Wong, ‘Bambi’ Artist Thwarted by Racial ...</td>\n",
              "      <td>New York Times</td>\n",
              "      <td>Margalit Fox</td>\n",
              "      <td>2017-01-06</td>\n",
              "      <td>2017.0</td>\n",
              "      <td>1.0</td>\n",
              "      <td>NaN</td>\n",
              "      <td>When Walt Disney’s “Bambi” opened in 1942, cri...</td>\n",
              "    </tr>\n",
              "    <tr>\n",
              "      <th>3</th>\n",
              "      <td>3</td>\n",
              "      <td>17286</td>\n",
              "      <td>Among Deaths in 2016, a Heavy Toll in Pop Musi...</td>\n",
              "      <td>New York Times</td>\n",
              "      <td>William McDonald</td>\n",
              "      <td>2017-04-10</td>\n",
              "      <td>2017.0</td>\n",
              "      <td>4.0</td>\n",
              "      <td>NaN</td>\n",
              "      <td>Death may be the great equalizer, but it isn’t...</td>\n",
              "    </tr>\n",
              "    <tr>\n",
              "      <th>4</th>\n",
              "      <td>4</td>\n",
              "      <td>17287</td>\n",
              "      <td>Kim Jong-un Says North Korea Is Preparing to T...</td>\n",
              "      <td>New York Times</td>\n",
              "      <td>Choe Sang-Hun</td>\n",
              "      <td>2017-01-02</td>\n",
              "      <td>2017.0</td>\n",
              "      <td>1.0</td>\n",
              "      <td>NaN</td>\n",
              "      <td>SEOUL, South Korea  —   North Korea’s leader, ...</td>\n",
              "    </tr>\n",
              "  </tbody>\n",
              "</table>\n",
              "</div>"
            ],
            "text/plain": [
              "   Unnamed: 0     id  ... url                                            content\n",
              "0           0  17283  ... NaN  WASHINGTON  —   Congressional Republicans have...\n",
              "1           1  17284  ... NaN  After the bullet shells get counted, the blood...\n",
              "2           2  17285  ... NaN  When Walt Disney’s “Bambi” opened in 1942, cri...\n",
              "3           3  17286  ... NaN  Death may be the great equalizer, but it isn’t...\n",
              "4           4  17287  ... NaN  SEOUL, South Korea  —   North Korea’s leader, ...\n",
              "\n",
              "[5 rows x 10 columns]"
            ]
          },
          "metadata": {
            "tags": []
          },
          "execution_count": 9
        }
      ]
    },
    {
      "cell_type": "code",
      "metadata": {
        "id": "Q62vtXwaR9og",
        "colab_type": "code",
        "outputId": "f32e8135-aaaf-451f-b575-6012c1989c01",
        "colab": {
          "base_uri": "https://localhost:8080/",
          "height": 33
        }
      },
      "source": [
        "set(articles_3.publication)"
      ],
      "execution_count": 10,
      "outputs": [
        {
          "output_type": "execute_result",
          "data": {
            "text/plain": [
              "{'Guardian', 'NPR', 'Reuters', 'Vox', 'Washington Post'}"
            ]
          },
          "metadata": {
            "tags": []
          },
          "execution_count": 10
        }
      ]
    },
    {
      "cell_type": "code",
      "metadata": {
        "id": "n9ILnYjuGgjC",
        "colab_type": "code",
        "outputId": "78ceac22-f18f-47f1-e3ef-6e1f64a4f87f",
        "colab": {
          "base_uri": "https://localhost:8080/",
          "height": 131
        }
      },
      "source": [
        "set(articles_2.publication)"
      ],
      "execution_count": 11,
      "outputs": [
        {
          "output_type": "execute_result",
          "data": {
            "text/plain": [
              "{'Atlantic',\n",
              " 'Buzzfeed News',\n",
              " 'Fox News',\n",
              " 'Guardian',\n",
              " 'National Review',\n",
              " 'New York Post',\n",
              " 'Talking Points Memo'}"
            ]
          },
          "metadata": {
            "tags": []
          },
          "execution_count": 11
        }
      ]
    },
    {
      "cell_type": "code",
      "metadata": {
        "id": "_GuTjI-0G7U5",
        "colab_type": "code",
        "outputId": "a067d515-a456-4d48-f3b7-4452b0c0c930",
        "colab": {
          "base_uri": "https://localhost:8080/",
          "height": 33
        }
      },
      "source": [
        "set(articles_1.publication)"
      ],
      "execution_count": 12,
      "outputs": [
        {
          "output_type": "execute_result",
          "data": {
            "text/plain": [
              "{'Atlantic', 'Breitbart', 'Business Insider', 'CNN', 'New York Times'}"
            ]
          },
          "metadata": {
            "tags": []
          },
          "execution_count": 12
        }
      ]
    },
    {
      "cell_type": "code",
      "metadata": {
        "id": "6-c_j1F0G8YL",
        "colab_type": "code",
        "colab": {}
      },
      "source": [
        "# full_data = pd.concat([articles_1, articles_2, articles_3], ignore_index=True)\n",
        "full_data = pd.concat([articles_1, articles_2, articles_3], ignore_index=True)"
      ],
      "execution_count": 0,
      "outputs": []
    },
    {
      "cell_type": "code",
      "metadata": {
        "id": "Nusfid1cHd8l",
        "colab_type": "code",
        "outputId": "280a3e55-97a2-4937-80cb-609fce1b55ec",
        "colab": {
          "base_uri": "https://localhost:8080/",
          "height": 570
        }
      },
      "source": [
        "full_data"
      ],
      "execution_count": 36,
      "outputs": [
        {
          "output_type": "execute_result",
          "data": {
            "text/html": [
              "<div>\n",
              "<style scoped>\n",
              "    .dataframe tbody tr th:only-of-type {\n",
              "        vertical-align: middle;\n",
              "    }\n",
              "\n",
              "    .dataframe tbody tr th {\n",
              "        vertical-align: top;\n",
              "    }\n",
              "\n",
              "    .dataframe thead th {\n",
              "        text-align: right;\n",
              "    }\n",
              "</style>\n",
              "<table border=\"1\" class=\"dataframe\">\n",
              "  <thead>\n",
              "    <tr style=\"text-align: right;\">\n",
              "      <th></th>\n",
              "      <th>Unnamed: 0</th>\n",
              "      <th>id</th>\n",
              "      <th>title</th>\n",
              "      <th>publication</th>\n",
              "      <th>author</th>\n",
              "      <th>date</th>\n",
              "      <th>year</th>\n",
              "      <th>month</th>\n",
              "      <th>url</th>\n",
              "      <th>content</th>\n",
              "    </tr>\n",
              "  </thead>\n",
              "  <tbody>\n",
              "    <tr>\n",
              "      <th>0</th>\n",
              "      <td>0</td>\n",
              "      <td>17283</td>\n",
              "      <td>House Republicans Fret About Winning Their Hea...</td>\n",
              "      <td>New York Times</td>\n",
              "      <td>Carl Hulse</td>\n",
              "      <td>2016-12-31</td>\n",
              "      <td>2016.0</td>\n",
              "      <td>12.0</td>\n",
              "      <td>NaN</td>\n",
              "      <td>WASHINGTON  —   Congressional Republicans have...</td>\n",
              "    </tr>\n",
              "    <tr>\n",
              "      <th>1</th>\n",
              "      <td>1</td>\n",
              "      <td>17284</td>\n",
              "      <td>Rift Between Officers and Residents as Killing...</td>\n",
              "      <td>New York Times</td>\n",
              "      <td>Benjamin Mueller and Al Baker</td>\n",
              "      <td>2017-06-19</td>\n",
              "      <td>2017.0</td>\n",
              "      <td>6.0</td>\n",
              "      <td>NaN</td>\n",
              "      <td>After the bullet shells get counted, the blood...</td>\n",
              "    </tr>\n",
              "    <tr>\n",
              "      <th>2</th>\n",
              "      <td>2</td>\n",
              "      <td>17285</td>\n",
              "      <td>Tyrus Wong, ‘Bambi’ Artist Thwarted by Racial ...</td>\n",
              "      <td>New York Times</td>\n",
              "      <td>Margalit Fox</td>\n",
              "      <td>2017-01-06</td>\n",
              "      <td>2017.0</td>\n",
              "      <td>1.0</td>\n",
              "      <td>NaN</td>\n",
              "      <td>When Walt Disney’s “Bambi” opened in 1942, cri...</td>\n",
              "    </tr>\n",
              "    <tr>\n",
              "      <th>3</th>\n",
              "      <td>3</td>\n",
              "      <td>17286</td>\n",
              "      <td>Among Deaths in 2016, a Heavy Toll in Pop Musi...</td>\n",
              "      <td>New York Times</td>\n",
              "      <td>William McDonald</td>\n",
              "      <td>2017-04-10</td>\n",
              "      <td>2017.0</td>\n",
              "      <td>4.0</td>\n",
              "      <td>NaN</td>\n",
              "      <td>Death may be the great equalizer, but it isn’t...</td>\n",
              "    </tr>\n",
              "    <tr>\n",
              "      <th>4</th>\n",
              "      <td>4</td>\n",
              "      <td>17287</td>\n",
              "      <td>Kim Jong-un Says North Korea Is Preparing to T...</td>\n",
              "      <td>New York Times</td>\n",
              "      <td>Choe Sang-Hun</td>\n",
              "      <td>2017-01-02</td>\n",
              "      <td>2017.0</td>\n",
              "      <td>1.0</td>\n",
              "      <td>NaN</td>\n",
              "      <td>SEOUL, South Korea  —   North Korea’s leader, ...</td>\n",
              "    </tr>\n",
              "    <tr>\n",
              "      <th>...</th>\n",
              "      <td>...</td>\n",
              "      <td>...</td>\n",
              "      <td>...</td>\n",
              "      <td>...</td>\n",
              "      <td>...</td>\n",
              "      <td>...</td>\n",
              "      <td>...</td>\n",
              "      <td>...</td>\n",
              "      <td>...</td>\n",
              "      <td>...</td>\n",
              "    </tr>\n",
              "    <tr>\n",
              "      <th>142565</th>\n",
              "      <td>146028</td>\n",
              "      <td>218078</td>\n",
              "      <td>An eavesdropping Uber driver saved his 16-year...</td>\n",
              "      <td>Washington Post</td>\n",
              "      <td>Avi Selk</td>\n",
              "      <td>2016-12-30</td>\n",
              "      <td>2016.0</td>\n",
              "      <td>12.0</td>\n",
              "      <td>https://web.archive.org/web/20161231004909/htt...</td>\n",
              "      <td>Uber driver Keith Avila picked up a p...</td>\n",
              "    </tr>\n",
              "    <tr>\n",
              "      <th>142566</th>\n",
              "      <td>146029</td>\n",
              "      <td>218079</td>\n",
              "      <td>Plane carrying six people returning from a Cav...</td>\n",
              "      <td>Washington Post</td>\n",
              "      <td>Sarah Larimer</td>\n",
              "      <td>2016-12-30</td>\n",
              "      <td>2016.0</td>\n",
              "      <td>12.0</td>\n",
              "      <td>https://web.archive.org/web/20161231004909/htt...</td>\n",
              "      <td>Crews on Friday continued to search L...</td>\n",
              "    </tr>\n",
              "    <tr>\n",
              "      <th>142567</th>\n",
              "      <td>146030</td>\n",
              "      <td>218080</td>\n",
              "      <td>After helping a fraction of homeowners expecte...</td>\n",
              "      <td>Washington Post</td>\n",
              "      <td>Renae Merle</td>\n",
              "      <td>2016-12-30</td>\n",
              "      <td>2016.0</td>\n",
              "      <td>12.0</td>\n",
              "      <td>https://web.archive.org/web/20161231004909/htt...</td>\n",
              "      <td>When the Obama administration announced a...</td>\n",
              "    </tr>\n",
              "    <tr>\n",
              "      <th>142568</th>\n",
              "      <td>146031</td>\n",
              "      <td>218081</td>\n",
              "      <td>Yes, this is real: Michigan just banned bannin...</td>\n",
              "      <td>Washington Post</td>\n",
              "      <td>Chelsea Harvey</td>\n",
              "      <td>2016-12-30</td>\n",
              "      <td>2016.0</td>\n",
              "      <td>12.0</td>\n",
              "      <td>https://web.archive.org/web/20161231004909/htt...</td>\n",
              "      <td>This story has been updated. A new law in...</td>\n",
              "    </tr>\n",
              "    <tr>\n",
              "      <th>142569</th>\n",
              "      <td>146032</td>\n",
              "      <td>218082</td>\n",
              "      <td>What happened in Washington state after voters...</td>\n",
              "      <td>Washington Post</td>\n",
              "      <td>Christopher Ingraham</td>\n",
              "      <td>2016-12-29</td>\n",
              "      <td>2016.0</td>\n",
              "      <td>12.0</td>\n",
              "      <td>https://web.archive.org/web/20161231004909/htt...</td>\n",
              "      <td>The nation’s first recreational marijuana...</td>\n",
              "    </tr>\n",
              "  </tbody>\n",
              "</table>\n",
              "<p>142570 rows × 10 columns</p>\n",
              "</div>"
            ],
            "text/plain": [
              "        Unnamed: 0  ...                                            content\n",
              "0                0  ...  WASHINGTON  —   Congressional Republicans have...\n",
              "1                1  ...  After the bullet shells get counted, the blood...\n",
              "2                2  ...  When Walt Disney’s “Bambi” opened in 1942, cri...\n",
              "3                3  ...  Death may be the great equalizer, but it isn’t...\n",
              "4                4  ...  SEOUL, South Korea  —   North Korea’s leader, ...\n",
              "...            ...  ...                                                ...\n",
              "142565      146028  ...           Uber driver Keith Avila picked up a p...\n",
              "142566      146029  ...           Crews on Friday continued to search L...\n",
              "142567      146030  ...       When the Obama administration announced a...\n",
              "142568      146031  ...       This story has been updated. A new law in...\n",
              "142569      146032  ...       The nation’s first recreational marijuana...\n",
              "\n",
              "[142570 rows x 10 columns]"
            ]
          },
          "metadata": {
            "tags": []
          },
          "execution_count": 36
        }
      ]
    },
    {
      "cell_type": "code",
      "metadata": {
        "id": "KF1gdGRjK7HB",
        "colab_type": "code",
        "colab": {}
      },
      "source": [
        "# remove duplicates\n",
        "full_data = full_data.drop_duplicates(subset=['title', 'publication', 'author', 'date'])"
      ],
      "execution_count": 0,
      "outputs": []
    },
    {
      "cell_type": "code",
      "metadata": {
        "id": "FoumqwwKQJ29",
        "colab_type": "code",
        "colab": {}
      },
      "source": [
        "# remove missing titles \n",
        "full_data = full_data.dropna(subset=['title'])"
      ],
      "execution_count": 0,
      "outputs": []
    },
    {
      "cell_type": "code",
      "metadata": {
        "id": "geKADAkQ1isB",
        "colab_type": "code",
        "colab": {
          "base_uri": "https://localhost:8080/",
          "height": 261
        },
        "outputId": "9ffe96f7-80d0-473f-f0ba-2442f700b412"
      },
      "source": [
        "# sample from full_data (set seed to 5)\n",
        "small_data = full_data.sample(n=5000, random_state=5)\n",
        "set(small_data.publication)"
      ],
      "execution_count": 41,
      "outputs": [
        {
          "output_type": "execute_result",
          "data": {
            "text/plain": [
              "{'Atlantic',\n",
              " 'Breitbart',\n",
              " 'Business Insider',\n",
              " 'Buzzfeed News',\n",
              " 'CNN',\n",
              " 'Fox News',\n",
              " 'Guardian',\n",
              " 'NPR',\n",
              " 'National Review',\n",
              " 'New York Post',\n",
              " 'New York Times',\n",
              " 'Reuters',\n",
              " 'Talking Points Memo',\n",
              " 'Vox',\n",
              " 'Washington Post'}"
            ]
          },
          "metadata": {
            "tags": []
          },
          "execution_count": 41
        }
      ]
    },
    {
      "cell_type": "code",
      "metadata": {
        "id": "2hMvyiEgMB9s",
        "colab_type": "code",
        "colab": {}
      },
      "source": [
        "def preprocess_text(text):\n",
        "\n",
        "  # function to remove punctuation \n",
        "  def Punctuation(string): \n",
        "    return re.sub(r'[\\W]', ' ', string)\n",
        "\n",
        "  # remove punctuation and perform tokenization\n",
        "  text = Punctuation(text.lower()).split()\n",
        "\n",
        "  # remove stop words and stem\n",
        "  stop_words = set(stopwords.words('english'))\n",
        "  stemmer = SnowballStemmer(\"english\")\n",
        "  text = [stemmer.stem(t) for t in text if not t in stop_words]\n",
        "\n",
        "  return text\n"
      ],
      "execution_count": 0,
      "outputs": []
    },
    {
      "cell_type": "code",
      "metadata": {
        "id": "BlMVZ3R6m3u4",
        "colab_type": "code",
        "colab": {}
      },
      "source": [
        "tfidf_vectorizer = TfidfVectorizer(stop_words='english', use_idf=True, tokenizer=preprocess_text, ngram_range=(1,3))"
      ],
      "execution_count": 0,
      "outputs": []
    },
    {
      "cell_type": "code",
      "metadata": {
        "id": "ERDwOvRIqOzz",
        "colab_type": "code",
        "outputId": "a852750c-d3d2-4328-cf62-4d1cb70b9c75",
        "colab": {
          "base_uri": "https://localhost:8080/",
          "height": 86
        }
      },
      "source": [
        "tfidf_matrix = tfidf_vectorizer.fit_transform(small_data.title)\n",
        "print(tfidf_matrix.shape)"
      ],
      "execution_count": 44,
      "outputs": [
        {
          "output_type": "stream",
          "text": [
            "/usr/local/lib/python3.6/dist-packages/sklearn/feature_extraction/text.py:385: UserWarning: Your stop_words may be inconsistent with your preprocessing. Tokenizing the stop words generated tokens ['afterward', 'alon', 'alreadi', 'alway', 'anoth', 'anyon', 'anyth', 'anywher', 'becam', 'becom', 'besid', 'cri', 'describ', 'els', 'elsewher', 'empti', 'everi', 'everyon', 'everyth', 'everywher', 'fifti', 'forti', 'henc', 'hereaft', 'herebi', 'howev', 'hundr', 'inde', 'mani', 'meanwhil', 'moreov', 'nobodi', 'noon', 'noth', 'nowher', 'otherwis', 'perhap', 'pleas', 'sever', 'sinc', 'sincer', 'sixti', 'someon', 'someth', 'sometim', 'somewher', 'thenc', 'thereaft', 'therebi', 'therefor', 'togeth', 'twelv', 'twenti', 'whatev', 'whenc', 'whenev', 'wherea', 'whereaft', 'wherebi', 'wherev'] not in stop_words.\n",
            "  'stop_words.' % sorted(inconsistent))\n"
          ],
          "name": "stderr"
        },
        {
          "output_type": "stream",
          "text": [
            "(5000, 59822)\n"
          ],
          "name": "stdout"
        }
      ]
    },
    {
      "cell_type": "code",
      "metadata": {
        "id": "qQdkuVXpsGS4",
        "colab_type": "code",
        "colab": {}
      },
      "source": [
        "tfidf_matrix = tfidf_matrix.astype(np.float32)"
      ],
      "execution_count": 0,
      "outputs": []
    },
    {
      "cell_type": "code",
      "metadata": {
        "id": "qZOcpt_JzrJ5",
        "colab_type": "code",
        "colab": {}
      },
      "source": [
        "num_clusters = 10\n",
        "\n",
        "km = KMeans(n_clusters=num_clusters)\n",
        "\n",
        "km.fit(tfidf_matrix)\n",
        "\n",
        "clusters = km.labels_.tolist()"
      ],
      "execution_count": 0,
      "outputs": []
    },
    {
      "cell_type": "code",
      "metadata": {
        "id": "PGgSlunJBdyB",
        "colab_type": "code",
        "colab": {}
      },
      "source": [
        "# cosine similarities for each row with cluster center\n",
        "cos_sim = [cosine_similarity(tfidf_matrix[i].toarray(), km.cluster_centers_[label].reshape(1, -1))[0][0] for i,label in enumerate(km.labels_)]"
      ],
      "execution_count": 0,
      "outputs": []
    },
    {
      "cell_type": "code",
      "metadata": {
        "id": "ZvAUqB9N89BL",
        "colab_type": "code",
        "colab": {
          "base_uri": "https://localhost:8080/",
          "height": 33
        },
        "outputId": "a6157fbe-0310-465e-a8f4-94e50f3c28cc"
      },
      "source": [
        "# sum of squared distances of samples to their closest cluster center.\n",
        "km.inertia_"
      ],
      "execution_count": 131,
      "outputs": [
        {
          "output_type": "execute_result",
          "data": {
            "text/plain": [
              "4945.050041235834"
            ]
          },
          "metadata": {
            "tags": []
          },
          "execution_count": 131
        }
      ]
    },
    {
      "cell_type": "code",
      "metadata": {
        "id": "N7g5G8jD6KMT",
        "colab_type": "code",
        "colab": {}
      },
      "source": [
        "title_data = pd.DataFrame({'title':small_data.title, 'cluster':clusters, 'cos_sim':cos_sim})"
      ],
      "execution_count": 0,
      "outputs": []
    },
    {
      "cell_type": "code",
      "metadata": {
        "id": "W0jSRaADmGRv",
        "colab_type": "code",
        "colab": {
          "base_uri": "https://localhost:8080/"
        },
        "outputId": "27f8c39c-c68b-4a60-de7d-5229918041c0"
      },
      "source": [
        "title_data"
      ],
      "execution_count": 156,
      "outputs": [
        {
          "output_type": "execute_result",
          "data": {
            "text/html": [
              "<div>\n",
              "<style scoped>\n",
              "    .dataframe tbody tr th:only-of-type {\n",
              "        vertical-align: middle;\n",
              "    }\n",
              "\n",
              "    .dataframe tbody tr th {\n",
              "        vertical-align: top;\n",
              "    }\n",
              "\n",
              "    .dataframe thead th {\n",
              "        text-align: right;\n",
              "    }\n",
              "</style>\n",
              "<table border=\"1\" class=\"dataframe\">\n",
              "  <thead>\n",
              "    <tr style=\"text-align: right;\">\n",
              "      <th></th>\n",
              "      <th>title</th>\n",
              "      <th>cluster</th>\n",
              "      <th>cos_sim</th>\n",
              "    </tr>\n",
              "  </thead>\n",
              "  <tbody>\n",
              "    <tr>\n",
              "      <th>74496</th>\n",
              "      <td>Chaos in the Family, Chaos in the State: The W...</td>\n",
              "      <td>8</td>\n",
              "      <td>0.048520</td>\n",
              "    </tr>\n",
              "    <tr>\n",
              "      <th>71184</th>\n",
              "      <td>US Civil Rights Commission Will Observe Stand...</td>\n",
              "      <td>6</td>\n",
              "      <td>0.131244</td>\n",
              "    </tr>\n",
              "    <tr>\n",
              "      <th>120205</th>\n",
              "      <td>Venezuela hunts rogue helicopter attackers, Ma...</td>\n",
              "      <td>8</td>\n",
              "      <td>0.026423</td>\n",
              "    </tr>\n",
              "    <tr>\n",
              "      <th>128977</th>\n",
              "      <td>Fruit juice isn’t much better for you than sod...</td>\n",
              "      <td>8</td>\n",
              "      <td>0.027221</td>\n",
              "    </tr>\n",
              "    <tr>\n",
              "      <th>134837</th>\n",
              "      <td>Sessions won’t testify at congressional budget...</td>\n",
              "      <td>8</td>\n",
              "      <td>0.030122</td>\n",
              "    </tr>\n",
              "    <tr>\n",
              "      <th>...</th>\n",
              "      <td>...</td>\n",
              "      <td>...</td>\n",
              "      <td>...</td>\n",
              "    </tr>\n",
              "    <tr>\n",
              "      <th>122054</th>\n",
              "      <td>Obama challenges Communist-led Cuba with call ...</td>\n",
              "      <td>8</td>\n",
              "      <td>0.035952</td>\n",
              "    </tr>\n",
              "    <tr>\n",
              "      <th>93373</th>\n",
              "      <td>This hip menswear designer is also a DJ and an...</td>\n",
              "      <td>8</td>\n",
              "      <td>0.013156</td>\n",
              "    </tr>\n",
              "    <tr>\n",
              "      <th>43628</th>\n",
              "      <td>Luxury shoppers have a completely new attitude...</td>\n",
              "      <td>8</td>\n",
              "      <td>0.041695</td>\n",
              "    </tr>\n",
              "    <tr>\n",
              "      <th>135393</th>\n",
              "      <td>Steelers steal playoff spot, Jets fall to Rex ...</td>\n",
              "      <td>8</td>\n",
              "      <td>0.038417</td>\n",
              "    </tr>\n",
              "    <tr>\n",
              "      <th>57202</th>\n",
              "      <td>Carson cancels campaign events after fatal car...</td>\n",
              "      <td>8</td>\n",
              "      <td>0.031349</td>\n",
              "    </tr>\n",
              "  </tbody>\n",
              "</table>\n",
              "<p>5000 rows × 3 columns</p>\n",
              "</div>"
            ],
            "text/plain": [
              "                                                    title  cluster   cos_sim\n",
              "74496   Chaos in the Family, Chaos in the State: The W...        8  0.048520\n",
              "71184    US Civil Rights Commission Will Observe Stand...        6  0.131244\n",
              "120205  Venezuela hunts rogue helicopter attackers, Ma...        8  0.026423\n",
              "128977  Fruit juice isn’t much better for you than sod...        8  0.027221\n",
              "134837  Sessions won’t testify at congressional budget...        8  0.030122\n",
              "...                                                   ...      ...       ...\n",
              "122054  Obama challenges Communist-led Cuba with call ...        8  0.035952\n",
              "93373   This hip menswear designer is also a DJ and an...        8  0.013156\n",
              "43628   Luxury shoppers have a completely new attitude...        8  0.041695\n",
              "135393  Steelers steal playoff spot, Jets fall to Rex ...        8  0.038417\n",
              "57202   Carson cancels campaign events after fatal car...        8  0.031349\n",
              "\n",
              "[5000 rows x 3 columns]"
            ]
          },
          "metadata": {
            "tags": []
          },
          "execution_count": 156
        }
      ]
    },
    {
      "cell_type": "code",
      "metadata": {
        "id": "BCKbniucOLbA",
        "colab_type": "code",
        "colab": {
          "base_uri": "https://localhost:8080/",
          "height": 328
        },
        "outputId": "a632babc-dc8d-426f-bb40-5f05901af75e"
      },
      "source": [
        "top_5 = title_data.groupby('cluster')['cos_sim'].nlargest(5)\n",
        "for i,ind in top_5.index:\n",
        "  print(small_data.iloc[ind, :])"
      ],
      "execution_count": 151,
      "outputs": [
        {
          "output_type": "error",
          "ename": "IndexError",
          "evalue": "ignored",
          "traceback": [
            "\u001b[0;31m---------------------------------------------------------------------------\u001b[0m",
            "\u001b[0;31mIndexError\u001b[0m                                Traceback (most recent call last)",
            "\u001b[0;32m<ipython-input-151-a1e18da88606>\u001b[0m in \u001b[0;36m<module>\u001b[0;34m()\u001b[0m\n\u001b[1;32m      1\u001b[0m \u001b[0mtop_5\u001b[0m \u001b[0;34m=\u001b[0m \u001b[0mtitle_data\u001b[0m\u001b[0;34m.\u001b[0m\u001b[0mgroupby\u001b[0m\u001b[0;34m(\u001b[0m\u001b[0;34m'cluster'\u001b[0m\u001b[0;34m)\u001b[0m\u001b[0;34m[\u001b[0m\u001b[0;34m'cos_sim'\u001b[0m\u001b[0;34m]\u001b[0m\u001b[0;34m.\u001b[0m\u001b[0mnlargest\u001b[0m\u001b[0;34m(\u001b[0m\u001b[0;36m5\u001b[0m\u001b[0;34m)\u001b[0m\u001b[0;34m\u001b[0m\u001b[0;34m\u001b[0m\u001b[0m\n\u001b[1;32m      2\u001b[0m \u001b[0;32mfor\u001b[0m \u001b[0mi\u001b[0m\u001b[0;34m,\u001b[0m\u001b[0mind\u001b[0m \u001b[0;32min\u001b[0m \u001b[0mtop_5\u001b[0m\u001b[0;34m.\u001b[0m\u001b[0mindex\u001b[0m\u001b[0;34m:\u001b[0m\u001b[0;34m\u001b[0m\u001b[0;34m\u001b[0m\u001b[0m\n\u001b[0;32m----> 3\u001b[0;31m   \u001b[0mprint\u001b[0m\u001b[0;34m(\u001b[0m\u001b[0msmall_data\u001b[0m\u001b[0;34m.\u001b[0m\u001b[0miloc\u001b[0m\u001b[0;34m[\u001b[0m\u001b[0mind\u001b[0m\u001b[0;34m,\u001b[0m \u001b[0;34m:\u001b[0m\u001b[0;34m]\u001b[0m\u001b[0;34m)\u001b[0m\u001b[0;34m\u001b[0m\u001b[0;34m\u001b[0m\u001b[0m\n\u001b[0m",
            "\u001b[0;32m/usr/local/lib/python3.6/dist-packages/pandas/core/indexing.py\u001b[0m in \u001b[0;36m__getitem__\u001b[0;34m(self, key)\u001b[0m\n\u001b[1;32m   1416\u001b[0m                 \u001b[0;32mexcept\u001b[0m \u001b[0;34m(\u001b[0m\u001b[0mKeyError\u001b[0m\u001b[0;34m,\u001b[0m \u001b[0mIndexError\u001b[0m\u001b[0;34m,\u001b[0m \u001b[0mAttributeError\u001b[0m\u001b[0;34m)\u001b[0m\u001b[0;34m:\u001b[0m\u001b[0;34m\u001b[0m\u001b[0;34m\u001b[0m\u001b[0m\n\u001b[1;32m   1417\u001b[0m                     \u001b[0;32mpass\u001b[0m\u001b[0;34m\u001b[0m\u001b[0;34m\u001b[0m\u001b[0m\n\u001b[0;32m-> 1418\u001b[0;31m             \u001b[0;32mreturn\u001b[0m \u001b[0mself\u001b[0m\u001b[0;34m.\u001b[0m\u001b[0m_getitem_tuple\u001b[0m\u001b[0;34m(\u001b[0m\u001b[0mkey\u001b[0m\u001b[0;34m)\u001b[0m\u001b[0;34m\u001b[0m\u001b[0;34m\u001b[0m\u001b[0m\n\u001b[0m\u001b[1;32m   1419\u001b[0m         \u001b[0;32melse\u001b[0m\u001b[0;34m:\u001b[0m\u001b[0;34m\u001b[0m\u001b[0;34m\u001b[0m\u001b[0m\n\u001b[1;32m   1420\u001b[0m             \u001b[0;31m# we by definition only have the 0th axis\u001b[0m\u001b[0;34m\u001b[0m\u001b[0;34m\u001b[0m\u001b[0;34m\u001b[0m\u001b[0m\n",
            "\u001b[0;32m/usr/local/lib/python3.6/dist-packages/pandas/core/indexing.py\u001b[0m in \u001b[0;36m_getitem_tuple\u001b[0;34m(self, tup)\u001b[0m\n\u001b[1;32m   2090\u001b[0m     \u001b[0;32mdef\u001b[0m \u001b[0m_getitem_tuple\u001b[0m\u001b[0;34m(\u001b[0m\u001b[0mself\u001b[0m\u001b[0;34m,\u001b[0m \u001b[0mtup\u001b[0m\u001b[0;34m)\u001b[0m\u001b[0;34m:\u001b[0m\u001b[0;34m\u001b[0m\u001b[0;34m\u001b[0m\u001b[0m\n\u001b[1;32m   2091\u001b[0m \u001b[0;34m\u001b[0m\u001b[0m\n\u001b[0;32m-> 2092\u001b[0;31m         \u001b[0mself\u001b[0m\u001b[0;34m.\u001b[0m\u001b[0m_has_valid_tuple\u001b[0m\u001b[0;34m(\u001b[0m\u001b[0mtup\u001b[0m\u001b[0;34m)\u001b[0m\u001b[0;34m\u001b[0m\u001b[0;34m\u001b[0m\u001b[0m\n\u001b[0m\u001b[1;32m   2093\u001b[0m         \u001b[0;32mtry\u001b[0m\u001b[0;34m:\u001b[0m\u001b[0;34m\u001b[0m\u001b[0;34m\u001b[0m\u001b[0m\n\u001b[1;32m   2094\u001b[0m             \u001b[0;32mreturn\u001b[0m \u001b[0mself\u001b[0m\u001b[0;34m.\u001b[0m\u001b[0m_getitem_lowerdim\u001b[0m\u001b[0;34m(\u001b[0m\u001b[0mtup\u001b[0m\u001b[0;34m)\u001b[0m\u001b[0;34m\u001b[0m\u001b[0;34m\u001b[0m\u001b[0m\n",
            "\u001b[0;32m/usr/local/lib/python3.6/dist-packages/pandas/core/indexing.py\u001b[0m in \u001b[0;36m_has_valid_tuple\u001b[0;34m(self, key)\u001b[0m\n\u001b[1;32m    233\u001b[0m                 \u001b[0;32mraise\u001b[0m \u001b[0mIndexingError\u001b[0m\u001b[0;34m(\u001b[0m\u001b[0;34m\"Too many indexers\"\u001b[0m\u001b[0;34m)\u001b[0m\u001b[0;34m\u001b[0m\u001b[0;34m\u001b[0m\u001b[0m\n\u001b[1;32m    234\u001b[0m             \u001b[0;32mtry\u001b[0m\u001b[0;34m:\u001b[0m\u001b[0;34m\u001b[0m\u001b[0;34m\u001b[0m\u001b[0m\n\u001b[0;32m--> 235\u001b[0;31m                 \u001b[0mself\u001b[0m\u001b[0;34m.\u001b[0m\u001b[0m_validate_key\u001b[0m\u001b[0;34m(\u001b[0m\u001b[0mk\u001b[0m\u001b[0;34m,\u001b[0m \u001b[0mi\u001b[0m\u001b[0;34m)\u001b[0m\u001b[0;34m\u001b[0m\u001b[0;34m\u001b[0m\u001b[0m\n\u001b[0m\u001b[1;32m    236\u001b[0m             \u001b[0;32mexcept\u001b[0m \u001b[0mValueError\u001b[0m\u001b[0;34m:\u001b[0m\u001b[0;34m\u001b[0m\u001b[0;34m\u001b[0m\u001b[0m\n\u001b[1;32m    237\u001b[0m                 raise ValueError(\n",
            "\u001b[0;32m/usr/local/lib/python3.6/dist-packages/pandas/core/indexing.py\u001b[0m in \u001b[0;36m_validate_key\u001b[0;34m(self, key, axis)\u001b[0m\n\u001b[1;32m   2012\u001b[0m             \u001b[0;32mreturn\u001b[0m\u001b[0;34m\u001b[0m\u001b[0;34m\u001b[0m\u001b[0m\n\u001b[1;32m   2013\u001b[0m         \u001b[0;32melif\u001b[0m \u001b[0mis_integer\u001b[0m\u001b[0;34m(\u001b[0m\u001b[0mkey\u001b[0m\u001b[0;34m)\u001b[0m\u001b[0;34m:\u001b[0m\u001b[0;34m\u001b[0m\u001b[0;34m\u001b[0m\u001b[0m\n\u001b[0;32m-> 2014\u001b[0;31m             \u001b[0mself\u001b[0m\u001b[0;34m.\u001b[0m\u001b[0m_validate_integer\u001b[0m\u001b[0;34m(\u001b[0m\u001b[0mkey\u001b[0m\u001b[0;34m,\u001b[0m \u001b[0maxis\u001b[0m\u001b[0;34m)\u001b[0m\u001b[0;34m\u001b[0m\u001b[0;34m\u001b[0m\u001b[0m\n\u001b[0m\u001b[1;32m   2015\u001b[0m         \u001b[0;32melif\u001b[0m \u001b[0misinstance\u001b[0m\u001b[0;34m(\u001b[0m\u001b[0mkey\u001b[0m\u001b[0;34m,\u001b[0m \u001b[0mtuple\u001b[0m\u001b[0;34m)\u001b[0m\u001b[0;34m:\u001b[0m\u001b[0;34m\u001b[0m\u001b[0;34m\u001b[0m\u001b[0m\n\u001b[1;32m   2016\u001b[0m             \u001b[0;31m# a tuple should already have been caught by this point\u001b[0m\u001b[0;34m\u001b[0m\u001b[0;34m\u001b[0m\u001b[0;34m\u001b[0m\u001b[0m\n",
            "\u001b[0;32m/usr/local/lib/python3.6/dist-packages/pandas/core/indexing.py\u001b[0m in \u001b[0;36m_validate_integer\u001b[0;34m(self, key, axis)\u001b[0m\n\u001b[1;32m   2086\u001b[0m         \u001b[0mlen_axis\u001b[0m \u001b[0;34m=\u001b[0m \u001b[0mlen\u001b[0m\u001b[0;34m(\u001b[0m\u001b[0mself\u001b[0m\u001b[0;34m.\u001b[0m\u001b[0mobj\u001b[0m\u001b[0;34m.\u001b[0m\u001b[0m_get_axis\u001b[0m\u001b[0;34m(\u001b[0m\u001b[0maxis\u001b[0m\u001b[0;34m)\u001b[0m\u001b[0;34m)\u001b[0m\u001b[0;34m\u001b[0m\u001b[0;34m\u001b[0m\u001b[0m\n\u001b[1;32m   2087\u001b[0m         \u001b[0;32mif\u001b[0m \u001b[0mkey\u001b[0m \u001b[0;34m>=\u001b[0m \u001b[0mlen_axis\u001b[0m \u001b[0;32mor\u001b[0m \u001b[0mkey\u001b[0m \u001b[0;34m<\u001b[0m \u001b[0;34m-\u001b[0m\u001b[0mlen_axis\u001b[0m\u001b[0;34m:\u001b[0m\u001b[0;34m\u001b[0m\u001b[0;34m\u001b[0m\u001b[0m\n\u001b[0;32m-> 2088\u001b[0;31m             \u001b[0;32mraise\u001b[0m \u001b[0mIndexError\u001b[0m\u001b[0;34m(\u001b[0m\u001b[0;34m\"single positional indexer is out-of-bounds\"\u001b[0m\u001b[0;34m)\u001b[0m\u001b[0;34m\u001b[0m\u001b[0;34m\u001b[0m\u001b[0m\n\u001b[0m\u001b[1;32m   2089\u001b[0m \u001b[0;34m\u001b[0m\u001b[0m\n\u001b[1;32m   2090\u001b[0m     \u001b[0;32mdef\u001b[0m \u001b[0m_getitem_tuple\u001b[0m\u001b[0;34m(\u001b[0m\u001b[0mself\u001b[0m\u001b[0;34m,\u001b[0m \u001b[0mtup\u001b[0m\u001b[0;34m)\u001b[0m\u001b[0;34m:\u001b[0m\u001b[0;34m\u001b[0m\u001b[0;34m\u001b[0m\u001b[0m\n",
            "\u001b[0;31mIndexError\u001b[0m: single positional indexer is out-of-bounds"
          ]
        }
      ]
    },
    {
      "cell_type": "code",
      "metadata": {
        "id": "7yjDa1o_UAaq",
        "colab_type": "code",
        "colab": {
          "base_uri": "https://localhost:8080/",
          "height": 862
        },
        "outputId": "edff2e0c-c2ff-4d01-febd-4fb6eba42722"
      },
      "source": [
        "top_5"
      ],
      "execution_count": 143,
      "outputs": [
        {
          "output_type": "execute_result",
          "data": {
            "text/plain": [
              "cluster        \n",
              "0        128475    0.370033\n",
              "         37747     0.345671\n",
              "         71624     0.345626\n",
              "         38623     0.338239\n",
              "         101084    0.328942\n",
              "1        82614     0.234350\n",
              "         77423     0.218116\n",
              "         77123     0.201838\n",
              "         133274    0.196147\n",
              "         47449     0.184659\n",
              "2        4344      0.421250\n",
              "         4198      0.416017\n",
              "         2219      0.413054\n",
              "         2676      0.410118\n",
              "         5623      0.407483\n",
              "3        142031    0.316119\n",
              "         139900    0.182044\n",
              "         113229    0.163913\n",
              "         114978    0.163278\n",
              "         57921     0.162863\n",
              "4        18233     0.236148\n",
              "         18808     0.216348\n",
              "         23377     0.208208\n",
              "         18559     0.206055\n",
              "         22128     0.202388\n",
              "5        138908    0.283431\n",
              "         101542    0.237460\n",
              "         20202     0.204008\n",
              "         129095    0.201867\n",
              "         28745     0.200319\n",
              "6        113198    0.349170\n",
              "         76030     0.247242\n",
              "         64155     0.231699\n",
              "         136266    0.207138\n",
              "         76014     0.207087\n",
              "7        52521     0.396753\n",
              "         135552    0.338143\n",
              "         137300    0.324903\n",
              "         130883    0.313685\n",
              "         73740     0.311547\n",
              "8        124034    0.082334\n",
              "         44769     0.082281\n",
              "         140251    0.081756\n",
              "         69069     0.079488\n",
              "         90115     0.077904\n",
              "9        21669     0.347187\n",
              "         19383     0.225352\n",
              "         28137     0.198206\n",
              "         27530     0.196671\n",
              "         73786     0.195956\n",
              "Name: cos_sim, dtype: float64"
            ]
          },
          "metadata": {
            "tags": []
          },
          "execution_count": 143
        }
      ]
    },
    {
      "cell_type": "code",
      "metadata": {
        "id": "QDOYwSyPjkc-",
        "colab_type": "code",
        "colab": {
          "base_uri": "https://localhost:8080/",
          "height": 296
        },
        "outputId": "594132a7-46ca-4ba0-db2e-3f5141d702bc"
      },
      "source": [
        "small_data.iloc[135552,:]"
      ],
      "execution_count": 154,
      "outputs": [
        {
          "output_type": "error",
          "ename": "IndexError",
          "evalue": "ignored",
          "traceback": [
            "\u001b[0;31m---------------------------------------------------------------------------\u001b[0m",
            "\u001b[0;31mIndexError\u001b[0m                                Traceback (most recent call last)",
            "\u001b[0;32m<ipython-input-154-a105feff963d>\u001b[0m in \u001b[0;36m<module>\u001b[0;34m()\u001b[0m\n\u001b[0;32m----> 1\u001b[0;31m \u001b[0msmall_data\u001b[0m\u001b[0;34m.\u001b[0m\u001b[0miloc\u001b[0m\u001b[0;34m[\u001b[0m\u001b[0;36m135552\u001b[0m\u001b[0;34m,\u001b[0m\u001b[0;34m:\u001b[0m\u001b[0;34m]\u001b[0m\u001b[0;34m\u001b[0m\u001b[0;34m\u001b[0m\u001b[0m\n\u001b[0m",
            "\u001b[0;32m/usr/local/lib/python3.6/dist-packages/pandas/core/indexing.py\u001b[0m in \u001b[0;36m__getitem__\u001b[0;34m(self, key)\u001b[0m\n\u001b[1;32m   1416\u001b[0m                 \u001b[0;32mexcept\u001b[0m \u001b[0;34m(\u001b[0m\u001b[0mKeyError\u001b[0m\u001b[0;34m,\u001b[0m \u001b[0mIndexError\u001b[0m\u001b[0;34m,\u001b[0m \u001b[0mAttributeError\u001b[0m\u001b[0;34m)\u001b[0m\u001b[0;34m:\u001b[0m\u001b[0;34m\u001b[0m\u001b[0;34m\u001b[0m\u001b[0m\n\u001b[1;32m   1417\u001b[0m                     \u001b[0;32mpass\u001b[0m\u001b[0;34m\u001b[0m\u001b[0;34m\u001b[0m\u001b[0m\n\u001b[0;32m-> 1418\u001b[0;31m             \u001b[0;32mreturn\u001b[0m \u001b[0mself\u001b[0m\u001b[0;34m.\u001b[0m\u001b[0m_getitem_tuple\u001b[0m\u001b[0;34m(\u001b[0m\u001b[0mkey\u001b[0m\u001b[0;34m)\u001b[0m\u001b[0;34m\u001b[0m\u001b[0;34m\u001b[0m\u001b[0m\n\u001b[0m\u001b[1;32m   1419\u001b[0m         \u001b[0;32melse\u001b[0m\u001b[0;34m:\u001b[0m\u001b[0;34m\u001b[0m\u001b[0;34m\u001b[0m\u001b[0m\n\u001b[1;32m   1420\u001b[0m             \u001b[0;31m# we by definition only have the 0th axis\u001b[0m\u001b[0;34m\u001b[0m\u001b[0;34m\u001b[0m\u001b[0;34m\u001b[0m\u001b[0m\n",
            "\u001b[0;32m/usr/local/lib/python3.6/dist-packages/pandas/core/indexing.py\u001b[0m in \u001b[0;36m_getitem_tuple\u001b[0;34m(self, tup)\u001b[0m\n\u001b[1;32m   2090\u001b[0m     \u001b[0;32mdef\u001b[0m \u001b[0m_getitem_tuple\u001b[0m\u001b[0;34m(\u001b[0m\u001b[0mself\u001b[0m\u001b[0;34m,\u001b[0m \u001b[0mtup\u001b[0m\u001b[0;34m)\u001b[0m\u001b[0;34m:\u001b[0m\u001b[0;34m\u001b[0m\u001b[0;34m\u001b[0m\u001b[0m\n\u001b[1;32m   2091\u001b[0m \u001b[0;34m\u001b[0m\u001b[0m\n\u001b[0;32m-> 2092\u001b[0;31m         \u001b[0mself\u001b[0m\u001b[0;34m.\u001b[0m\u001b[0m_has_valid_tuple\u001b[0m\u001b[0;34m(\u001b[0m\u001b[0mtup\u001b[0m\u001b[0;34m)\u001b[0m\u001b[0;34m\u001b[0m\u001b[0;34m\u001b[0m\u001b[0m\n\u001b[0m\u001b[1;32m   2093\u001b[0m         \u001b[0;32mtry\u001b[0m\u001b[0;34m:\u001b[0m\u001b[0;34m\u001b[0m\u001b[0;34m\u001b[0m\u001b[0m\n\u001b[1;32m   2094\u001b[0m             \u001b[0;32mreturn\u001b[0m \u001b[0mself\u001b[0m\u001b[0;34m.\u001b[0m\u001b[0m_getitem_lowerdim\u001b[0m\u001b[0;34m(\u001b[0m\u001b[0mtup\u001b[0m\u001b[0;34m)\u001b[0m\u001b[0;34m\u001b[0m\u001b[0;34m\u001b[0m\u001b[0m\n",
            "\u001b[0;32m/usr/local/lib/python3.6/dist-packages/pandas/core/indexing.py\u001b[0m in \u001b[0;36m_has_valid_tuple\u001b[0;34m(self, key)\u001b[0m\n\u001b[1;32m    233\u001b[0m                 \u001b[0;32mraise\u001b[0m \u001b[0mIndexingError\u001b[0m\u001b[0;34m(\u001b[0m\u001b[0;34m\"Too many indexers\"\u001b[0m\u001b[0;34m)\u001b[0m\u001b[0;34m\u001b[0m\u001b[0;34m\u001b[0m\u001b[0m\n\u001b[1;32m    234\u001b[0m             \u001b[0;32mtry\u001b[0m\u001b[0;34m:\u001b[0m\u001b[0;34m\u001b[0m\u001b[0;34m\u001b[0m\u001b[0m\n\u001b[0;32m--> 235\u001b[0;31m                 \u001b[0mself\u001b[0m\u001b[0;34m.\u001b[0m\u001b[0m_validate_key\u001b[0m\u001b[0;34m(\u001b[0m\u001b[0mk\u001b[0m\u001b[0;34m,\u001b[0m \u001b[0mi\u001b[0m\u001b[0;34m)\u001b[0m\u001b[0;34m\u001b[0m\u001b[0;34m\u001b[0m\u001b[0m\n\u001b[0m\u001b[1;32m    236\u001b[0m             \u001b[0;32mexcept\u001b[0m \u001b[0mValueError\u001b[0m\u001b[0;34m:\u001b[0m\u001b[0;34m\u001b[0m\u001b[0;34m\u001b[0m\u001b[0m\n\u001b[1;32m    237\u001b[0m                 raise ValueError(\n",
            "\u001b[0;32m/usr/local/lib/python3.6/dist-packages/pandas/core/indexing.py\u001b[0m in \u001b[0;36m_validate_key\u001b[0;34m(self, key, axis)\u001b[0m\n\u001b[1;32m   2012\u001b[0m             \u001b[0;32mreturn\u001b[0m\u001b[0;34m\u001b[0m\u001b[0;34m\u001b[0m\u001b[0m\n\u001b[1;32m   2013\u001b[0m         \u001b[0;32melif\u001b[0m \u001b[0mis_integer\u001b[0m\u001b[0;34m(\u001b[0m\u001b[0mkey\u001b[0m\u001b[0;34m)\u001b[0m\u001b[0;34m:\u001b[0m\u001b[0;34m\u001b[0m\u001b[0;34m\u001b[0m\u001b[0m\n\u001b[0;32m-> 2014\u001b[0;31m             \u001b[0mself\u001b[0m\u001b[0;34m.\u001b[0m\u001b[0m_validate_integer\u001b[0m\u001b[0;34m(\u001b[0m\u001b[0mkey\u001b[0m\u001b[0;34m,\u001b[0m \u001b[0maxis\u001b[0m\u001b[0;34m)\u001b[0m\u001b[0;34m\u001b[0m\u001b[0;34m\u001b[0m\u001b[0m\n\u001b[0m\u001b[1;32m   2015\u001b[0m         \u001b[0;32melif\u001b[0m \u001b[0misinstance\u001b[0m\u001b[0;34m(\u001b[0m\u001b[0mkey\u001b[0m\u001b[0;34m,\u001b[0m \u001b[0mtuple\u001b[0m\u001b[0;34m)\u001b[0m\u001b[0;34m:\u001b[0m\u001b[0;34m\u001b[0m\u001b[0;34m\u001b[0m\u001b[0m\n\u001b[1;32m   2016\u001b[0m             \u001b[0;31m# a tuple should already have been caught by this point\u001b[0m\u001b[0;34m\u001b[0m\u001b[0;34m\u001b[0m\u001b[0;34m\u001b[0m\u001b[0m\n",
            "\u001b[0;32m/usr/local/lib/python3.6/dist-packages/pandas/core/indexing.py\u001b[0m in \u001b[0;36m_validate_integer\u001b[0;34m(self, key, axis)\u001b[0m\n\u001b[1;32m   2086\u001b[0m         \u001b[0mlen_axis\u001b[0m \u001b[0;34m=\u001b[0m \u001b[0mlen\u001b[0m\u001b[0;34m(\u001b[0m\u001b[0mself\u001b[0m\u001b[0;34m.\u001b[0m\u001b[0mobj\u001b[0m\u001b[0;34m.\u001b[0m\u001b[0m_get_axis\u001b[0m\u001b[0;34m(\u001b[0m\u001b[0maxis\u001b[0m\u001b[0;34m)\u001b[0m\u001b[0;34m)\u001b[0m\u001b[0;34m\u001b[0m\u001b[0;34m\u001b[0m\u001b[0m\n\u001b[1;32m   2087\u001b[0m         \u001b[0;32mif\u001b[0m \u001b[0mkey\u001b[0m \u001b[0;34m>=\u001b[0m \u001b[0mlen_axis\u001b[0m \u001b[0;32mor\u001b[0m \u001b[0mkey\u001b[0m \u001b[0;34m<\u001b[0m \u001b[0;34m-\u001b[0m\u001b[0mlen_axis\u001b[0m\u001b[0;34m:\u001b[0m\u001b[0;34m\u001b[0m\u001b[0;34m\u001b[0m\u001b[0m\n\u001b[0;32m-> 2088\u001b[0;31m             \u001b[0;32mraise\u001b[0m \u001b[0mIndexError\u001b[0m\u001b[0;34m(\u001b[0m\u001b[0;34m\"single positional indexer is out-of-bounds\"\u001b[0m\u001b[0;34m)\u001b[0m\u001b[0;34m\u001b[0m\u001b[0;34m\u001b[0m\u001b[0m\n\u001b[0m\u001b[1;32m   2089\u001b[0m \u001b[0;34m\u001b[0m\u001b[0m\n\u001b[1;32m   2090\u001b[0m     \u001b[0;32mdef\u001b[0m \u001b[0m_getitem_tuple\u001b[0m\u001b[0;34m(\u001b[0m\u001b[0mself\u001b[0m\u001b[0;34m,\u001b[0m \u001b[0mtup\u001b[0m\u001b[0;34m)\u001b[0m\u001b[0;34m:\u001b[0m\u001b[0;34m\u001b[0m\u001b[0;34m\u001b[0m\u001b[0m\n",
            "\u001b[0;31mIndexError\u001b[0m: single positional indexer is out-of-bounds"
          ]
        }
      ]
    },
    {
      "cell_type": "code",
      "metadata": {
        "id": "8TB-FwxHlern",
        "colab_type": "code",
        "colab": {
          "base_uri": "https://localhost:8080/",
          "height": 570
        },
        "outputId": "753bbc80-4f08-4a0a-a3ff-210ad5cd5801"
      },
      "source": [
        "small_data"
      ],
      "execution_count": 155,
      "outputs": [
        {
          "output_type": "execute_result",
          "data": {
            "text/html": [
              "<div>\n",
              "<style scoped>\n",
              "    .dataframe tbody tr th:only-of-type {\n",
              "        vertical-align: middle;\n",
              "    }\n",
              "\n",
              "    .dataframe tbody tr th {\n",
              "        vertical-align: top;\n",
              "    }\n",
              "\n",
              "    .dataframe thead th {\n",
              "        text-align: right;\n",
              "    }\n",
              "</style>\n",
              "<table border=\"1\" class=\"dataframe\">\n",
              "  <thead>\n",
              "    <tr style=\"text-align: right;\">\n",
              "      <th></th>\n",
              "      <th>Unnamed: 0</th>\n",
              "      <th>id</th>\n",
              "      <th>title</th>\n",
              "      <th>publication</th>\n",
              "      <th>author</th>\n",
              "      <th>date</th>\n",
              "      <th>year</th>\n",
              "      <th>month</th>\n",
              "      <th>url</th>\n",
              "      <th>content</th>\n",
              "    </tr>\n",
              "  </thead>\n",
              "  <tbody>\n",
              "    <tr>\n",
              "      <th>74496</th>\n",
              "      <td>77946</td>\n",
              "      <td>118473</td>\n",
              "      <td>Chaos in the Family, Chaos in the State: The W...</td>\n",
              "      <td>National Review</td>\n",
              "      <td>Kevin D. Williamson</td>\n",
              "      <td>2016-03-17</td>\n",
              "      <td>2016.0</td>\n",
              "      <td>3.0</td>\n",
              "      <td>http://www.nationalreview.com/article/432876/d...</td>\n",
              "      <td>Michael Brendan Dougherty is bitter. I think t...</td>\n",
              "    </tr>\n",
              "    <tr>\n",
              "      <th>71184</th>\n",
              "      <td>74592</td>\n",
              "      <td>113594</td>\n",
              "      <td>US Civil Rights Commission Will Observe Stand...</td>\n",
              "      <td>Buzzfeed News</td>\n",
              "      <td>Nidhi Subbaraman</td>\n",
              "      <td>2016-12-08</td>\n",
              "      <td>2016.0</td>\n",
              "      <td>12.0</td>\n",
              "      <td>https://web.archive.org/web/20161208153906/htt...</td>\n",
              "      <td>WASHINGTON  —   The US Commission on Civil Ri...</td>\n",
              "    </tr>\n",
              "    <tr>\n",
              "      <th>120205</th>\n",
              "      <td>123668</td>\n",
              "      <td>184574</td>\n",
              "      <td>Venezuela hunts rogue helicopter attackers, Ma...</td>\n",
              "      <td>Reuters</td>\n",
              "      <td>Andrew Cawthorne and Victoria Ramirez</td>\n",
              "      <td>2017-06-29</td>\n",
              "      <td>2017.0</td>\n",
              "      <td>6.0</td>\n",
              "      <td>http://www.reuters.com/article/us-venezuela-po...</td>\n",
              "      <td>The Venezuelan government hunted on Wednesday...</td>\n",
              "    </tr>\n",
              "    <tr>\n",
              "      <th>128977</th>\n",
              "      <td>132440</td>\n",
              "      <td>199665</td>\n",
              "      <td>Fruit juice isn’t much better for you than sod...</td>\n",
              "      <td>Vox</td>\n",
              "      <td>Julia Belluz</td>\n",
              "      <td>2016/3/25</td>\n",
              "      <td>2016.0</td>\n",
              "      <td>3.0</td>\n",
              "      <td>http://www.vox.com/2016/3/25/11305614/soda-jui...</td>\n",
              "      <td>One of the biggest public health wins of rece...</td>\n",
              "    </tr>\n",
              "    <tr>\n",
              "      <th>134837</th>\n",
              "      <td>138300</td>\n",
              "      <td>208223</td>\n",
              "      <td>Sessions won’t testify at congressional budget...</td>\n",
              "      <td>Washington Post</td>\n",
              "      <td>Sari Horwitz</td>\n",
              "      <td>2017-06-10</td>\n",
              "      <td>2017.0</td>\n",
              "      <td>6.0</td>\n",
              "      <td>https://web.archive.org/web/20170611000758/htt...</td>\n",
              "      <td>Attorney General Jeff Sessions, who had agree...</td>\n",
              "    </tr>\n",
              "    <tr>\n",
              "      <th>...</th>\n",
              "      <td>...</td>\n",
              "      <td>...</td>\n",
              "      <td>...</td>\n",
              "      <td>...</td>\n",
              "      <td>...</td>\n",
              "      <td>...</td>\n",
              "      <td>...</td>\n",
              "      <td>...</td>\n",
              "      <td>...</td>\n",
              "      <td>...</td>\n",
              "    </tr>\n",
              "    <tr>\n",
              "      <th>122054</th>\n",
              "      <td>125517</td>\n",
              "      <td>187521</td>\n",
              "      <td>Obama challenges Communist-led Cuba with call ...</td>\n",
              "      <td>Reuters</td>\n",
              "      <td>Matt Spetalnick, Jeff Mason and Frank Jack Daniel</td>\n",
              "      <td>2016-03-22</td>\n",
              "      <td>2016.0</td>\n",
              "      <td>3.0</td>\n",
              "      <td>http://www.reuters.com/article/us-usa-cuba-idU...</td>\n",
              "      <td>U. S. President Barack Obama challenged Cuba’...</td>\n",
              "    </tr>\n",
              "    <tr>\n",
              "      <th>93373</th>\n",
              "      <td>96832</td>\n",
              "      <td>143086</td>\n",
              "      <td>This hip menswear designer is also a DJ and an...</td>\n",
              "      <td>New York Post</td>\n",
              "      <td>Asaf Rotman</td>\n",
              "      <td>2016-03-28</td>\n",
              "      <td>2016.0</td>\n",
              "      <td>3.0</td>\n",
              "      <td>http://nypost.com/2016/03/28/this-hip-menswear...</td>\n",
              "      <td>With love of meticulous and rugged tailoring a...</td>\n",
              "    </tr>\n",
              "    <tr>\n",
              "      <th>43628</th>\n",
              "      <td>46436</td>\n",
              "      <td>65511</td>\n",
              "      <td>Luxury shoppers have a completely new attitude...</td>\n",
              "      <td>Business Insider</td>\n",
              "      <td>Dennis Green</td>\n",
              "      <td>2017-02-13</td>\n",
              "      <td>2017.0</td>\n",
              "      <td>2.0</td>\n",
              "      <td>NaN</td>\n",
              "      <td>’  ’ ’   As evidence that   retail has lost it...</td>\n",
              "    </tr>\n",
              "    <tr>\n",
              "      <th>135393</th>\n",
              "      <td>138856</td>\n",
              "      <td>208937</td>\n",
              "      <td>Steelers steal playoff spot, Jets fall to Rex ...</td>\n",
              "      <td>Washington Post</td>\n",
              "      <td>Washington Post</td>\n",
              "      <td>2016-01-03</td>\n",
              "      <td>2016.0</td>\n",
              "      <td>1.0</td>\n",
              "      <td>https://web.archive.org/web/20160104002408/htt...</td>\n",
              "      <td>NFL Week 17 Top Story Lines | Injury News...</td>\n",
              "    </tr>\n",
              "    <tr>\n",
              "      <th>57202</th>\n",
              "      <td>60521</td>\n",
              "      <td>82821</td>\n",
              "      <td>Carson cancels campaign events after fatal car...</td>\n",
              "      <td>Fox News</td>\n",
              "      <td>NaN</td>\n",
              "      <td>2016-01-19</td>\n",
              "      <td>2016.0</td>\n",
              "      <td>1.0</td>\n",
              "      <td>https://web.archive.org/web/20160120023941/htt...</td>\n",
              "      <td>Republican presidential candidate Ben Carson ...</td>\n",
              "    </tr>\n",
              "  </tbody>\n",
              "</table>\n",
              "<p>5000 rows × 10 columns</p>\n",
              "</div>"
            ],
            "text/plain": [
              "        Unnamed: 0  ...                                            content\n",
              "74496        77946  ...  Michael Brendan Dougherty is bitter. I think t...\n",
              "71184        74592  ...   WASHINGTON  —   The US Commission on Civil Ri...\n",
              "120205      123668  ...   The Venezuelan government hunted on Wednesday...\n",
              "128977      132440  ...   One of the biggest public health wins of rece...\n",
              "134837      138300  ...   Attorney General Jeff Sessions, who had agree...\n",
              "...            ...  ...                                                ...\n",
              "122054      125517  ...   U. S. President Barack Obama challenged Cuba’...\n",
              "93373        96832  ...  With love of meticulous and rugged tailoring a...\n",
              "43628        46436  ...  ’  ’ ’   As evidence that   retail has lost it...\n",
              "135393      138856  ...       NFL Week 17 Top Story Lines | Injury News...\n",
              "57202        60521  ...   Republican presidential candidate Ben Carson ...\n",
              "\n",
              "[5000 rows x 10 columns]"
            ]
          },
          "metadata": {
            "tags": []
          },
          "execution_count": 155
        }
      ]
    },
    {
      "cell_type": "code",
      "metadata": {
        "id": "hcdaRmCDlnXt",
        "colab_type": "code",
        "colab": {}
      },
      "source": [
        ""
      ],
      "execution_count": 0,
      "outputs": []
    }
  ]
}