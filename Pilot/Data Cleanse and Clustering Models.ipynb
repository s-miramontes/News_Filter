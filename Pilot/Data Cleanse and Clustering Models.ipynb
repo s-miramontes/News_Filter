{
  "nbformat": 4,
  "nbformat_minor": 0,
  "metadata": {
    "kernelspec": {
      "name": "python3",
      "display_name": "Python 3"
    },
    "language_info": {
      "codemirror_mode": {
        "name": "ipython",
        "version": 3
      },
      "file_extension": ".py",
      "mimetype": "text/x-python",
      "name": "python",
      "nbconvert_exporter": "python",
      "pygments_lexer": "ipython3",
      "version": "3.7.3"
    },
    "colab": {
      "name": "Data Cleanse and Clustering Models.ipynb",
      "provenance": [],
      "machine_shape": "hm",
      "include_colab_link": true
    },
    "accelerator": "TPU"
  },
  "cells": [
    {
      "cell_type": "markdown",
      "metadata": {
        "id": "view-in-github",
        "colab_type": "text"
      },
      "source": [
        "<a href=\"https://colab.research.google.com/github/s-miramontes/News_Filter/blob/emma/Pilot/Data%20Cleanse%20and%20Clustering%20Models.ipynb\" target=\"_parent\"><img src=\"https://colab.research.google.com/assets/colab-badge.svg\" alt=\"Open In Colab\"/></a>"
      ]
    },
    {
      "cell_type": "markdown",
      "metadata": {
        "id": "XcKFzFa9rw7L",
        "colab_type": "text"
      },
      "source": [
        "# Clustering News Headlines\n",
        "\n",
        "In this notebook we begin my importing data to analyze its contents and be able to determine the best clustering algorithm to determine the articles that are mostly related to each other."
      ]
    },
    {
      "cell_type": "markdown",
      "metadata": {
        "id": "9_yv0Wugrw7Q",
        "colab_type": "text"
      },
      "source": [
        "We start by importing some dependencies"
      ]
    },
    {
      "cell_type": "code",
      "metadata": {
        "id": "qfPkC9ajrw7S",
        "colab_type": "code",
        "outputId": "78b4e646-cdf5-4827-f11f-e457b0a0baeb",
        "colab": {
          "base_uri": "https://localhost:8080/",
          "height": 68
        }
      },
      "source": [
        "import numpy as np\n",
        "import pandas as pd\n",
        "\n",
        "import nltk\n",
        "from nltk.corpus import stopwords\n",
        "nltk.download('stopwords')\n",
        "\n",
        "import re\n",
        "from nltk.stem.snowball import SnowballStemmer\n",
        "\n",
        "from sklearn.feature_extraction.text import TfidfVectorizer\n",
        "\n",
        "from sklearn.cluster import KMeans\n",
        "\n",
        "from sklearn.metrics.pairwise import cosine_similarity"
      ],
      "execution_count": 1,
      "outputs": [
        {
          "output_type": "stream",
          "text": [
            "[nltk_data] Downloading package stopwords to\n",
            "[nltk_data]     /home/erusson/nltk_data...\n",
            "[nltk_data]   Package stopwords is already up-to-date!\n"
          ],
          "name": "stderr"
        }
      ]
    },
    {
      "cell_type": "code",
      "metadata": {
        "id": "nMXlP5VTfMDZ",
        "colab_type": "code",
        "colab": {}
      },
      "source": [
        "%%capture\n",
        "# Install the latest Tensorflow version.\n",
        "!pip3 install --upgrade tensorflow-gpu\n",
        "# Install TF-Hub.\n",
        "!pip3 install tensorflow-hub\n",
        "!pip3 install seaborn"
      ],
      "execution_count": 0,
      "outputs": []
    },
    {
      "cell_type": "code",
      "metadata": {
        "id": "DL-MzysMfN6c",
        "colab_type": "code",
        "colab": {}
      },
      "source": [
        "from absl import logging\n",
        "\n",
        "import tensorflow as tf\n",
        "import tensorflow_hub as hub\n",
        "\n",
        "import os\n",
        "\n",
        "import heapq\n",
        "import operator"
      ],
      "execution_count": 0,
      "outputs": []
    },
    {
      "cell_type": "markdown",
      "metadata": {
        "id": "1vaQv_w0sd2J",
        "colab_type": "text"
      },
      "source": [
        "## Importing Data from Local File System\n",
        "\n",
        "Datasets are located here: https://www.kaggle.com/snapcrack/all-the-news/version/4#articles3.csv\n",
        "\n",
        "Proceed to download all three 'csv' files, and store them in a 'data' directory at the location of your choice.\n"
      ]
    },
    {
      "cell_type": "markdown",
      "metadata": {
        "id": "NvT6334UtXp8",
        "colab_type": "text"
      },
      "source": [
        "*Note: It might be a better idea to have a way to import the data from the cloud (google drive) rather than from the user's local file system. Let's leave it like this for now, mainly bringing this up for easy reproducibility.*"
      ]
    },
    {
      "cell_type": "markdown",
      "metadata": {
        "id": "NjY6UfPdtXUE",
        "colab_type": "text"
      },
      "source": [
        "Instead, we can mount google drive and import the datasets from an existing file in the cloud."
      ]
    },
    {
      "cell_type": "code",
      "metadata": {
        "id": "z0OVNb1IGYsJ",
        "colab_type": "code",
        "outputId": "268229a0-59f1-40e3-8095-d1ebc5bb64a5",
        "colab": {
          "base_uri": "https://localhost:8080/"
        }
      },
      "source": [
        "# from pydrive.auth import GoogleAuth\n",
        "# from pydrive.drive import GoogleDrive\n",
        "# from google.colab import auth\n",
        "# from oauth2client.client import GoogleCredentials"
      ],
      "execution_count": 0,
      "outputs": [
        {
          "output_type": "error",
          "ename": "ModuleNotFoundError",
          "evalue": "ignored",
          "traceback": [
            "\u001b[0;31m---------------------------------------------------------------------------\u001b[0m",
            "\u001b[0;31mModuleNotFoundError\u001b[0m                       Traceback (most recent call last)",
            "\u001b[0;32m<ipython-input-4-761aabc1b564>\u001b[0m in \u001b[0;36m<module>\u001b[0;34m\u001b[0m\n\u001b[0;32m----> 1\u001b[0;31m \u001b[0;32mfrom\u001b[0m \u001b[0mpydrive\u001b[0m\u001b[0;34m.\u001b[0m\u001b[0mauth\u001b[0m \u001b[0;32mimport\u001b[0m \u001b[0mGoogleAuth\u001b[0m\u001b[0;34m\u001b[0m\u001b[0;34m\u001b[0m\u001b[0m\n\u001b[0m\u001b[1;32m      2\u001b[0m \u001b[0;32mfrom\u001b[0m \u001b[0mpydrive\u001b[0m\u001b[0;34m.\u001b[0m\u001b[0mdrive\u001b[0m \u001b[0;32mimport\u001b[0m \u001b[0mGoogleDrive\u001b[0m\u001b[0;34m\u001b[0m\u001b[0;34m\u001b[0m\u001b[0m\n\u001b[1;32m      3\u001b[0m \u001b[0;32mfrom\u001b[0m \u001b[0mgoogle\u001b[0m\u001b[0;34m.\u001b[0m\u001b[0mcolab\u001b[0m \u001b[0;32mimport\u001b[0m \u001b[0mauth\u001b[0m\u001b[0;34m\u001b[0m\u001b[0;34m\u001b[0m\u001b[0m\n\u001b[1;32m      4\u001b[0m \u001b[0;32mfrom\u001b[0m \u001b[0moauth2client\u001b[0m\u001b[0;34m.\u001b[0m\u001b[0mclient\u001b[0m \u001b[0;32mimport\u001b[0m \u001b[0mGoogleCredentials\u001b[0m\u001b[0;34m\u001b[0m\u001b[0;34m\u001b[0m\u001b[0m\n",
            "\u001b[0;31mModuleNotFoundError\u001b[0m: No module named 'pydrive'"
          ]
        }
      ]
    },
    {
      "cell_type": "code",
      "metadata": {
        "id": "W-C_jjIx_ovd",
        "colab_type": "code",
        "colab": {}
      },
      "source": [
        "# auth.authenticate_user()\n",
        "# gauth = GoogleAuth()\n",
        "# gauth.credentials = GoogleCredentials.get_application_default()\n",
        "# drive = GoogleDrive(gauth)"
      ],
      "execution_count": 0,
      "outputs": []
    },
    {
      "cell_type": "markdown",
      "metadata": {
        "id": "-lmS8cQ2_oru",
        "colab_type": "text"
      },
      "source": [
        "For every file available we have a shared link:\n",
        "\n",
        "CSV File: 'Articles 3':\n",
        "https://drive.google.com/a/berkeley.edu/file/d/1BDhi5FuIvJ_6jiIdIFXRjT0w6tgfNk10/view?usp=sharing\n",
        "\n",
        "CSV File: 'Articles 2':\n",
        "https://drive.google.com/a/berkeley.edu/file/d/1qpoRkKEOnxYg_12e0RdeRi-JWUGWNFP3/view?usp=sharing\n",
        "\n",
        "CSV File: 'Articles 1':\n",
        "https://drive.google.com/a/berkeley.edu/file/d/1c9NbOIx7M6PgyJKxR9E7HgzuJlxGIaXU/view?usp=sharing\n",
        "\n",
        "\n",
        "For each of the links above, we utiliz the File ID provided:\n",
        "\n",
        "- Articles 1 File ID: '1BDhi5FuIvJ_6jiIdIFXRjT0w6tgfNk10'\n",
        "- Articles 2 File ID: '1qpoRkKEOnxYg_12e0RdeRi-JWUGWNFP3'\n",
        "- Articles 3 File ID: '1c9NbOIx7M6PgyJKxR9E7HgzuJlxGIaXU'\n"
      ]
    },
    {
      "cell_type": "code",
      "metadata": {
        "id": "Yo9j0HpN_om3",
        "colab_type": "code",
        "colab": {}
      },
      "source": [
        "# downloaded3 = drive.CreateFile({'id':\"1BDhi5FuIvJ_6jiIdIFXRjT0w6tgfNk10\"})   # replace the id with id of file you want to access\n",
        "# downloaded3.GetContentFile('articles3.csv.zip')        # replace the file name with your file\n",
        "\n",
        "# downloaded2 = drive.CreateFile({'id': \"1qpoRkKEOnxYg_12e0RdeRi-JWUGWNFP3\"})\n",
        "# downloaded2.GetContentFile('articles2.csv.zip')\n",
        "\n",
        "# downloaded1 = drive.CreateFile({'id': \"1c9NbOIx7M6PgyJKxR9E7HgzuJlxGIaXU\"})\n",
        "# downloaded1.GetContentFile('articles1.csv.zip')"
      ],
      "execution_count": 0,
      "outputs": []
    },
    {
      "cell_type": "code",
      "metadata": {
        "id": "LWGIyGKy_ohe",
        "colab_type": "code",
        "colab": {}
      },
      "source": [
        "articles_3 = pd.read_csv('w266/articles3.csv')\n",
        "articles_2 = pd.read_csv('w266/articles2.csv')\n",
        "articles_1 = pd.read_csv('w266/articles1.csv')"
      ],
      "execution_count": 0,
      "outputs": []
    },
    {
      "cell_type": "code",
      "metadata": {
        "id": "BMp3ER1V_oZW",
        "colab_type": "code",
        "outputId": "09aa7eef-eca3-4a3e-f451-19cacff6e766",
        "colab": {
          "base_uri": "https://localhost:8080/",
          "height": 564
        }
      },
      "source": [
        "articles_3.head()"
      ],
      "execution_count": 0,
      "outputs": [
        {
          "output_type": "execute_result",
          "data": {
            "text/html": [
              "<div>\n",
              "<style scoped>\n",
              "    .dataframe tbody tr th:only-of-type {\n",
              "        vertical-align: middle;\n",
              "    }\n",
              "\n",
              "    .dataframe tbody tr th {\n",
              "        vertical-align: top;\n",
              "    }\n",
              "\n",
              "    .dataframe thead th {\n",
              "        text-align: right;\n",
              "    }\n",
              "</style>\n",
              "<table border=\"1\" class=\"dataframe\">\n",
              "  <thead>\n",
              "    <tr style=\"text-align: right;\">\n",
              "      <th></th>\n",
              "      <th>Unnamed: 0</th>\n",
              "      <th>id</th>\n",
              "      <th>title</th>\n",
              "      <th>publication</th>\n",
              "      <th>author</th>\n",
              "      <th>date</th>\n",
              "      <th>year</th>\n",
              "      <th>month</th>\n",
              "      <th>url</th>\n",
              "      <th>content</th>\n",
              "    </tr>\n",
              "  </thead>\n",
              "  <tbody>\n",
              "    <tr>\n",
              "      <th>0</th>\n",
              "      <td>103459</td>\n",
              "      <td>151908</td>\n",
              "      <td>Alton Sterling’s son: ’Everyone needs to prote...</td>\n",
              "      <td>Guardian</td>\n",
              "      <td>Jessica Glenza</td>\n",
              "      <td>2016-07-13</td>\n",
              "      <td>2016.0</td>\n",
              "      <td>7.0</td>\n",
              "      <td>https://www.theguardian.com/us-news/2016/jul/1...</td>\n",
              "      <td>The son of a Louisiana man whose father was sh...</td>\n",
              "    </tr>\n",
              "    <tr>\n",
              "      <th>1</th>\n",
              "      <td>103460</td>\n",
              "      <td>151909</td>\n",
              "      <td>Shakespeare’s first four folios sell at auctio...</td>\n",
              "      <td>Guardian</td>\n",
              "      <td>NaN</td>\n",
              "      <td>2016-05-25</td>\n",
              "      <td>2016.0</td>\n",
              "      <td>5.0</td>\n",
              "      <td>https://www.theguardian.com/culture/2016/may/2...</td>\n",
              "      <td>Copies of William Shakespeare’s first four boo...</td>\n",
              "    </tr>\n",
              "    <tr>\n",
              "      <th>2</th>\n",
              "      <td>103461</td>\n",
              "      <td>151910</td>\n",
              "      <td>My grandmother’s death saved me from a life of...</td>\n",
              "      <td>Guardian</td>\n",
              "      <td>Robert Pendry</td>\n",
              "      <td>2016-10-31</td>\n",
              "      <td>2016.0</td>\n",
              "      <td>10.0</td>\n",
              "      <td>https://www.theguardian.com/commentisfree/2016...</td>\n",
              "      <td>Debt: $20, 000, Source: College, credit cards,...</td>\n",
              "    </tr>\n",
              "    <tr>\n",
              "      <th>3</th>\n",
              "      <td>103462</td>\n",
              "      <td>151911</td>\n",
              "      <td>I feared my life lacked meaning. Cancer pushed...</td>\n",
              "      <td>Guardian</td>\n",
              "      <td>Bradford Frost</td>\n",
              "      <td>2016-11-26</td>\n",
              "      <td>2016.0</td>\n",
              "      <td>11.0</td>\n",
              "      <td>https://www.theguardian.com/commentisfree/2016...</td>\n",
              "      <td>It was late. I was drunk, nearing my 35th birt...</td>\n",
              "    </tr>\n",
              "    <tr>\n",
              "      <th>4</th>\n",
              "      <td>103463</td>\n",
              "      <td>151912</td>\n",
              "      <td>Texas man serving life sentence innocent of do...</td>\n",
              "      <td>Guardian</td>\n",
              "      <td>NaN</td>\n",
              "      <td>2016-08-20</td>\n",
              "      <td>2016.0</td>\n",
              "      <td>8.0</td>\n",
              "      <td>https://www.theguardian.com/us-news/2016/aug/2...</td>\n",
              "      <td>A central Texas man serving a life sentence fo...</td>\n",
              "    </tr>\n",
              "  </tbody>\n",
              "</table>\n",
              "</div>"
            ],
            "text/plain": [
              "   Unnamed: 0  ...                                            content\n",
              "0      103459  ...  The son of a Louisiana man whose father was sh...\n",
              "1      103460  ...  Copies of William Shakespeare’s first four boo...\n",
              "2      103461  ...  Debt: $20, 000, Source: College, credit cards,...\n",
              "3      103462  ...  It was late. I was drunk, nearing my 35th birt...\n",
              "4      103463  ...  A central Texas man serving a life sentence fo...\n",
              "\n",
              "[5 rows x 10 columns]"
            ]
          },
          "metadata": {
            "tags": []
          },
          "execution_count": 8
        }
      ]
    },
    {
      "cell_type": "code",
      "metadata": {
        "id": "bWjyZH92_oFe",
        "colab_type": "code",
        "outputId": "621ddc7b-ca20-42d6-d5cc-a85413878885",
        "colab": {
          "base_uri": "https://localhost:8080/",
          "height": 595
        }
      },
      "source": [
        "articles_2.head()"
      ],
      "execution_count": 0,
      "outputs": [
        {
          "output_type": "execute_result",
          "data": {
            "text/html": [
              "<div>\n",
              "<style scoped>\n",
              "    .dataframe tbody tr th:only-of-type {\n",
              "        vertical-align: middle;\n",
              "    }\n",
              "\n",
              "    .dataframe tbody tr th {\n",
              "        vertical-align: top;\n",
              "    }\n",
              "\n",
              "    .dataframe thead th {\n",
              "        text-align: right;\n",
              "    }\n",
              "</style>\n",
              "<table border=\"1\" class=\"dataframe\">\n",
              "  <thead>\n",
              "    <tr style=\"text-align: right;\">\n",
              "      <th></th>\n",
              "      <th>Unnamed: 0</th>\n",
              "      <th>id</th>\n",
              "      <th>title</th>\n",
              "      <th>publication</th>\n",
              "      <th>author</th>\n",
              "      <th>date</th>\n",
              "      <th>year</th>\n",
              "      <th>month</th>\n",
              "      <th>url</th>\n",
              "      <th>content</th>\n",
              "    </tr>\n",
              "  </thead>\n",
              "  <tbody>\n",
              "    <tr>\n",
              "      <th>0</th>\n",
              "      <td>53293</td>\n",
              "      <td>73471</td>\n",
              "      <td>Patriots Day Is Best When It Digs Past the Her...</td>\n",
              "      <td>Atlantic</td>\n",
              "      <td>David Sims</td>\n",
              "      <td>2017-01-11</td>\n",
              "      <td>2017.0</td>\n",
              "      <td>1.0</td>\n",
              "      <td>NaN</td>\n",
              "      <td>Patriots Day, Peter Berg’s new thriller that r...</td>\n",
              "    </tr>\n",
              "    <tr>\n",
              "      <th>1</th>\n",
              "      <td>53294</td>\n",
              "      <td>73472</td>\n",
              "      <td>A Break in the Search for the Origin of Comple...</td>\n",
              "      <td>Atlantic</td>\n",
              "      <td>Ed Yong</td>\n",
              "      <td>2017-01-11</td>\n",
              "      <td>2017.0</td>\n",
              "      <td>1.0</td>\n",
              "      <td>NaN</td>\n",
              "      <td>In Norse mythology, humans and our world were ...</td>\n",
              "    </tr>\n",
              "    <tr>\n",
              "      <th>2</th>\n",
              "      <td>53295</td>\n",
              "      <td>73474</td>\n",
              "      <td>Obama’s Ingenious Mention of Atticus Finch</td>\n",
              "      <td>Atlantic</td>\n",
              "      <td>Spencer Kornhaber</td>\n",
              "      <td>2017-01-11</td>\n",
              "      <td>2017.0</td>\n",
              "      <td>1.0</td>\n",
              "      <td>NaN</td>\n",
              "      <td>“If our democracy is to work in this increasin...</td>\n",
              "    </tr>\n",
              "    <tr>\n",
              "      <th>3</th>\n",
              "      <td>53296</td>\n",
              "      <td>73475</td>\n",
              "      <td>Donald Trump Meets, and Assails, the Press</td>\n",
              "      <td>Atlantic</td>\n",
              "      <td>David A. Graham</td>\n",
              "      <td>2017-01-11</td>\n",
              "      <td>2017.0</td>\n",
              "      <td>1.0</td>\n",
              "      <td>NaN</td>\n",
              "      <td>Updated on January 11 at 5:05 p. m. In his fir...</td>\n",
              "    </tr>\n",
              "    <tr>\n",
              "      <th>4</th>\n",
              "      <td>53297</td>\n",
              "      <td>73476</td>\n",
              "      <td>Trump: ’I Think’ Hacking Was Russian</td>\n",
              "      <td>Atlantic</td>\n",
              "      <td>Kaveh Waddell</td>\n",
              "      <td>2017-01-11</td>\n",
              "      <td>2017.0</td>\n",
              "      <td>1.0</td>\n",
              "      <td>NaN</td>\n",
              "      <td>Updated at 12:25 p. m. After months of equivoc...</td>\n",
              "    </tr>\n",
              "  </tbody>\n",
              "</table>\n",
              "</div>"
            ],
            "text/plain": [
              "   Unnamed: 0     id  ...  url                                            content\n",
              "0       53293  73471  ...  NaN  Patriots Day, Peter Berg’s new thriller that r...\n",
              "1       53294  73472  ...  NaN  In Norse mythology, humans and our world were ...\n",
              "2       53295  73474  ...  NaN  “If our democracy is to work in this increasin...\n",
              "3       53296  73475  ...  NaN  Updated on January 11 at 5:05 p. m. In his fir...\n",
              "4       53297  73476  ...  NaN  Updated at 12:25 p. m. After months of equivoc...\n",
              "\n",
              "[5 rows x 10 columns]"
            ]
          },
          "metadata": {
            "tags": []
          },
          "execution_count": 9
        }
      ]
    },
    {
      "cell_type": "code",
      "metadata": {
        "id": "I2qaWd4A_nmv",
        "colab_type": "code",
        "outputId": "80191102-ee1c-4f8b-f7e5-c321030f2c02",
        "colab": {
          "base_uri": "https://localhost:8080/",
          "height": 615
        }
      },
      "source": [
        "articles_1.head()"
      ],
      "execution_count": 0,
      "outputs": [
        {
          "output_type": "execute_result",
          "data": {
            "text/html": [
              "<div>\n",
              "<style scoped>\n",
              "    .dataframe tbody tr th:only-of-type {\n",
              "        vertical-align: middle;\n",
              "    }\n",
              "\n",
              "    .dataframe tbody tr th {\n",
              "        vertical-align: top;\n",
              "    }\n",
              "\n",
              "    .dataframe thead th {\n",
              "        text-align: right;\n",
              "    }\n",
              "</style>\n",
              "<table border=\"1\" class=\"dataframe\">\n",
              "  <thead>\n",
              "    <tr style=\"text-align: right;\">\n",
              "      <th></th>\n",
              "      <th>Unnamed: 0</th>\n",
              "      <th>id</th>\n",
              "      <th>title</th>\n",
              "      <th>publication</th>\n",
              "      <th>author</th>\n",
              "      <th>date</th>\n",
              "      <th>year</th>\n",
              "      <th>month</th>\n",
              "      <th>url</th>\n",
              "      <th>content</th>\n",
              "    </tr>\n",
              "  </thead>\n",
              "  <tbody>\n",
              "    <tr>\n",
              "      <th>0</th>\n",
              "      <td>0</td>\n",
              "      <td>17283</td>\n",
              "      <td>House Republicans Fret About Winning Their Hea...</td>\n",
              "      <td>New York Times</td>\n",
              "      <td>Carl Hulse</td>\n",
              "      <td>2016-12-31</td>\n",
              "      <td>2016.0</td>\n",
              "      <td>12.0</td>\n",
              "      <td>NaN</td>\n",
              "      <td>WASHINGTON  —   Congressional Republicans have...</td>\n",
              "    </tr>\n",
              "    <tr>\n",
              "      <th>1</th>\n",
              "      <td>1</td>\n",
              "      <td>17284</td>\n",
              "      <td>Rift Between Officers and Residents as Killing...</td>\n",
              "      <td>New York Times</td>\n",
              "      <td>Benjamin Mueller and Al Baker</td>\n",
              "      <td>2017-06-19</td>\n",
              "      <td>2017.0</td>\n",
              "      <td>6.0</td>\n",
              "      <td>NaN</td>\n",
              "      <td>After the bullet shells get counted, the blood...</td>\n",
              "    </tr>\n",
              "    <tr>\n",
              "      <th>2</th>\n",
              "      <td>2</td>\n",
              "      <td>17285</td>\n",
              "      <td>Tyrus Wong, ‘Bambi’ Artist Thwarted by Racial ...</td>\n",
              "      <td>New York Times</td>\n",
              "      <td>Margalit Fox</td>\n",
              "      <td>2017-01-06</td>\n",
              "      <td>2017.0</td>\n",
              "      <td>1.0</td>\n",
              "      <td>NaN</td>\n",
              "      <td>When Walt Disney’s “Bambi” opened in 1942, cri...</td>\n",
              "    </tr>\n",
              "    <tr>\n",
              "      <th>3</th>\n",
              "      <td>3</td>\n",
              "      <td>17286</td>\n",
              "      <td>Among Deaths in 2016, a Heavy Toll in Pop Musi...</td>\n",
              "      <td>New York Times</td>\n",
              "      <td>William McDonald</td>\n",
              "      <td>2017-04-10</td>\n",
              "      <td>2017.0</td>\n",
              "      <td>4.0</td>\n",
              "      <td>NaN</td>\n",
              "      <td>Death may be the great equalizer, but it isn’t...</td>\n",
              "    </tr>\n",
              "    <tr>\n",
              "      <th>4</th>\n",
              "      <td>4</td>\n",
              "      <td>17287</td>\n",
              "      <td>Kim Jong-un Says North Korea Is Preparing to T...</td>\n",
              "      <td>New York Times</td>\n",
              "      <td>Choe Sang-Hun</td>\n",
              "      <td>2017-01-02</td>\n",
              "      <td>2017.0</td>\n",
              "      <td>1.0</td>\n",
              "      <td>NaN</td>\n",
              "      <td>SEOUL, South Korea  —   North Korea’s leader, ...</td>\n",
              "    </tr>\n",
              "  </tbody>\n",
              "</table>\n",
              "</div>"
            ],
            "text/plain": [
              "   Unnamed: 0     id  ... url                                            content\n",
              "0           0  17283  ... NaN  WASHINGTON  —   Congressional Republicans have...\n",
              "1           1  17284  ... NaN  After the bullet shells get counted, the blood...\n",
              "2           2  17285  ... NaN  When Walt Disney’s “Bambi” opened in 1942, cri...\n",
              "3           3  17286  ... NaN  Death may be the great equalizer, but it isn’t...\n",
              "4           4  17287  ... NaN  SEOUL, South Korea  —   North Korea’s leader, ...\n",
              "\n",
              "[5 rows x 10 columns]"
            ]
          },
          "metadata": {
            "tags": []
          },
          "execution_count": 10
        }
      ]
    },
    {
      "cell_type": "code",
      "metadata": {
        "id": "Q62vtXwaR9og",
        "colab_type": "code",
        "outputId": "c9f1757b-7a1c-423b-b5b0-0d71b719de2e",
        "colab": {
          "base_uri": "https://localhost:8080/",
          "height": 34
        }
      },
      "source": [
        "set(articles_3.publication)"
      ],
      "execution_count": 0,
      "outputs": [
        {
          "output_type": "execute_result",
          "data": {
            "text/plain": [
              "{'Guardian', 'NPR', 'Reuters', 'Vox', 'Washington Post'}"
            ]
          },
          "metadata": {
            "tags": []
          },
          "execution_count": 11
        }
      ]
    },
    {
      "cell_type": "code",
      "metadata": {
        "id": "n9ILnYjuGgjC",
        "colab_type": "code",
        "outputId": "6e084778-233b-4ccf-9804-32b08c0471e8",
        "colab": {
          "base_uri": "https://localhost:8080/",
          "height": 136
        }
      },
      "source": [
        "set(articles_2.publication)"
      ],
      "execution_count": 0,
      "outputs": [
        {
          "output_type": "execute_result",
          "data": {
            "text/plain": [
              "{'Atlantic',\n",
              " 'Buzzfeed News',\n",
              " 'Fox News',\n",
              " 'Guardian',\n",
              " 'National Review',\n",
              " 'New York Post',\n",
              " 'Talking Points Memo'}"
            ]
          },
          "metadata": {
            "tags": []
          },
          "execution_count": 12
        }
      ]
    },
    {
      "cell_type": "code",
      "metadata": {
        "id": "_GuTjI-0G7U5",
        "colab_type": "code",
        "outputId": "cb9d2d4b-c815-44dc-cbb9-176a27fbf9d0",
        "colab": {
          "base_uri": "https://localhost:8080/",
          "height": 34
        }
      },
      "source": [
        "set(articles_1.publication)"
      ],
      "execution_count": 0,
      "outputs": [
        {
          "output_type": "execute_result",
          "data": {
            "text/plain": [
              "{'Atlantic', 'Breitbart', 'Business Insider', 'CNN', 'New York Times'}"
            ]
          },
          "metadata": {
            "tags": []
          },
          "execution_count": 13
        }
      ]
    },
    {
      "cell_type": "code",
      "metadata": {
        "id": "6-c_j1F0G8YL",
        "colab_type": "code",
        "colab": {}
      },
      "source": [
        "full_data = pd.concat([articles_1, articles_2, articles_3], ignore_index=True)"
      ],
      "execution_count": 0,
      "outputs": []
    },
    {
      "cell_type": "code",
      "metadata": {
        "id": "Nusfid1cHd8l",
        "colab_type": "code",
        "outputId": "6b08bc52-d6bc-4a14-87f8-39b380d234bb",
        "colab": {
          "base_uri": "https://localhost:8080/",
          "height": 1000
        }
      },
      "source": [
        "full_data"
      ],
      "execution_count": 5,
      "outputs": [
        {
          "output_type": "execute_result",
          "data": {
            "text/plain": [
              "        Unnamed: 0      id                                              title  \\\n",
              "0                0   17283  House Republicans Fret About Winning Their Hea...   \n",
              "1                1   17284  Rift Between Officers and Residents as Killing...   \n",
              "2                2   17285  Tyrus Wong, ‘Bambi’ Artist Thwarted by Racial ...   \n",
              "3                3   17286  Among Deaths in 2016, a Heavy Toll in Pop Musi...   \n",
              "4                4   17287  Kim Jong-un Says North Korea Is Preparing to T...   \n",
              "...            ...     ...                                                ...   \n",
              "142565      146028  218078  An eavesdropping Uber driver saved his 16-year...   \n",
              "142566      146029  218079  Plane carrying six people returning from a Cav...   \n",
              "142567      146030  218080  After helping a fraction of homeowners expecte...   \n",
              "142568      146031  218081  Yes, this is real: Michigan just banned bannin...   \n",
              "142569      146032  218082  What happened in Washington state after voters...   \n",
              "\n",
              "            publication                         author        date    year  \\\n",
              "0        New York Times                     Carl Hulse  2016-12-31  2016.0   \n",
              "1        New York Times  Benjamin Mueller and Al Baker  2017-06-19  2017.0   \n",
              "2        New York Times                   Margalit Fox  2017-01-06  2017.0   \n",
              "3        New York Times               William McDonald  2017-04-10  2017.0   \n",
              "4        New York Times                  Choe Sang-Hun  2017-01-02  2017.0   \n",
              "...                 ...                            ...         ...     ...   \n",
              "142565  Washington Post                       Avi Selk  2016-12-30  2016.0   \n",
              "142566  Washington Post                  Sarah Larimer  2016-12-30  2016.0   \n",
              "142567  Washington Post                    Renae Merle  2016-12-30  2016.0   \n",
              "142568  Washington Post                 Chelsea Harvey  2016-12-30  2016.0   \n",
              "142569  Washington Post           Christopher Ingraham  2016-12-29  2016.0   \n",
              "\n",
              "        month                                                url  \\\n",
              "0        12.0                                                NaN   \n",
              "1         6.0                                                NaN   \n",
              "2         1.0                                                NaN   \n",
              "3         4.0                                                NaN   \n",
              "4         1.0                                                NaN   \n",
              "...       ...                                                ...   \n",
              "142565   12.0  https://web.archive.org/web/20161231004909/htt...   \n",
              "142566   12.0  https://web.archive.org/web/20161231004909/htt...   \n",
              "142567   12.0  https://web.archive.org/web/20161231004909/htt...   \n",
              "142568   12.0  https://web.archive.org/web/20161231004909/htt...   \n",
              "142569   12.0  https://web.archive.org/web/20161231004909/htt...   \n",
              "\n",
              "                                                  content  \n",
              "0       WASHINGTON  —   Congressional Republicans have...  \n",
              "1       After the bullet shells get counted, the blood...  \n",
              "2       When Walt Disney’s “Bambi” opened in 1942, cri...  \n",
              "3       Death may be the great equalizer, but it isn’t...  \n",
              "4       SEOUL, South Korea  —   North Korea’s leader, ...  \n",
              "...                                                   ...  \n",
              "142565           Uber driver Keith Avila picked up a p...  \n",
              "142566           Crews on Friday continued to search L...  \n",
              "142567       When the Obama administration announced a...  \n",
              "142568       This story has been updated. A new law in...  \n",
              "142569       The nation’s first recreational marijuana...  \n",
              "\n",
              "[142570 rows x 10 columns]"
            ],
            "text/html": [
              "<div>\n",
              "<style scoped>\n",
              "    .dataframe tbody tr th:only-of-type {\n",
              "        vertical-align: middle;\n",
              "    }\n",
              "\n",
              "    .dataframe tbody tr th {\n",
              "        vertical-align: top;\n",
              "    }\n",
              "\n",
              "    .dataframe thead th {\n",
              "        text-align: right;\n",
              "    }\n",
              "</style>\n",
              "<table border=\"1\" class=\"dataframe\">\n",
              "  <thead>\n",
              "    <tr style=\"text-align: right;\">\n",
              "      <th></th>\n",
              "      <th>Unnamed: 0</th>\n",
              "      <th>id</th>\n",
              "      <th>title</th>\n",
              "      <th>publication</th>\n",
              "      <th>author</th>\n",
              "      <th>date</th>\n",
              "      <th>year</th>\n",
              "      <th>month</th>\n",
              "      <th>url</th>\n",
              "      <th>content</th>\n",
              "    </tr>\n",
              "  </thead>\n",
              "  <tbody>\n",
              "    <tr>\n",
              "      <td>0</td>\n",
              "      <td>0</td>\n",
              "      <td>17283</td>\n",
              "      <td>House Republicans Fret About Winning Their Hea...</td>\n",
              "      <td>New York Times</td>\n",
              "      <td>Carl Hulse</td>\n",
              "      <td>2016-12-31</td>\n",
              "      <td>2016.0</td>\n",
              "      <td>12.0</td>\n",
              "      <td>NaN</td>\n",
              "      <td>WASHINGTON  —   Congressional Republicans have...</td>\n",
              "    </tr>\n",
              "    <tr>\n",
              "      <td>1</td>\n",
              "      <td>1</td>\n",
              "      <td>17284</td>\n",
              "      <td>Rift Between Officers and Residents as Killing...</td>\n",
              "      <td>New York Times</td>\n",
              "      <td>Benjamin Mueller and Al Baker</td>\n",
              "      <td>2017-06-19</td>\n",
              "      <td>2017.0</td>\n",
              "      <td>6.0</td>\n",
              "      <td>NaN</td>\n",
              "      <td>After the bullet shells get counted, the blood...</td>\n",
              "    </tr>\n",
              "    <tr>\n",
              "      <td>2</td>\n",
              "      <td>2</td>\n",
              "      <td>17285</td>\n",
              "      <td>Tyrus Wong, ‘Bambi’ Artist Thwarted by Racial ...</td>\n",
              "      <td>New York Times</td>\n",
              "      <td>Margalit Fox</td>\n",
              "      <td>2017-01-06</td>\n",
              "      <td>2017.0</td>\n",
              "      <td>1.0</td>\n",
              "      <td>NaN</td>\n",
              "      <td>When Walt Disney’s “Bambi” opened in 1942, cri...</td>\n",
              "    </tr>\n",
              "    <tr>\n",
              "      <td>3</td>\n",
              "      <td>3</td>\n",
              "      <td>17286</td>\n",
              "      <td>Among Deaths in 2016, a Heavy Toll in Pop Musi...</td>\n",
              "      <td>New York Times</td>\n",
              "      <td>William McDonald</td>\n",
              "      <td>2017-04-10</td>\n",
              "      <td>2017.0</td>\n",
              "      <td>4.0</td>\n",
              "      <td>NaN</td>\n",
              "      <td>Death may be the great equalizer, but it isn’t...</td>\n",
              "    </tr>\n",
              "    <tr>\n",
              "      <td>4</td>\n",
              "      <td>4</td>\n",
              "      <td>17287</td>\n",
              "      <td>Kim Jong-un Says North Korea Is Preparing to T...</td>\n",
              "      <td>New York Times</td>\n",
              "      <td>Choe Sang-Hun</td>\n",
              "      <td>2017-01-02</td>\n",
              "      <td>2017.0</td>\n",
              "      <td>1.0</td>\n",
              "      <td>NaN</td>\n",
              "      <td>SEOUL, South Korea  —   North Korea’s leader, ...</td>\n",
              "    </tr>\n",
              "    <tr>\n",
              "      <td>...</td>\n",
              "      <td>...</td>\n",
              "      <td>...</td>\n",
              "      <td>...</td>\n",
              "      <td>...</td>\n",
              "      <td>...</td>\n",
              "      <td>...</td>\n",
              "      <td>...</td>\n",
              "      <td>...</td>\n",
              "      <td>...</td>\n",
              "      <td>...</td>\n",
              "    </tr>\n",
              "    <tr>\n",
              "      <td>142565</td>\n",
              "      <td>146028</td>\n",
              "      <td>218078</td>\n",
              "      <td>An eavesdropping Uber driver saved his 16-year...</td>\n",
              "      <td>Washington Post</td>\n",
              "      <td>Avi Selk</td>\n",
              "      <td>2016-12-30</td>\n",
              "      <td>2016.0</td>\n",
              "      <td>12.0</td>\n",
              "      <td>https://web.archive.org/web/20161231004909/htt...</td>\n",
              "      <td>Uber driver Keith Avila picked up a p...</td>\n",
              "    </tr>\n",
              "    <tr>\n",
              "      <td>142566</td>\n",
              "      <td>146029</td>\n",
              "      <td>218079</td>\n",
              "      <td>Plane carrying six people returning from a Cav...</td>\n",
              "      <td>Washington Post</td>\n",
              "      <td>Sarah Larimer</td>\n",
              "      <td>2016-12-30</td>\n",
              "      <td>2016.0</td>\n",
              "      <td>12.0</td>\n",
              "      <td>https://web.archive.org/web/20161231004909/htt...</td>\n",
              "      <td>Crews on Friday continued to search L...</td>\n",
              "    </tr>\n",
              "    <tr>\n",
              "      <td>142567</td>\n",
              "      <td>146030</td>\n",
              "      <td>218080</td>\n",
              "      <td>After helping a fraction of homeowners expecte...</td>\n",
              "      <td>Washington Post</td>\n",
              "      <td>Renae Merle</td>\n",
              "      <td>2016-12-30</td>\n",
              "      <td>2016.0</td>\n",
              "      <td>12.0</td>\n",
              "      <td>https://web.archive.org/web/20161231004909/htt...</td>\n",
              "      <td>When the Obama administration announced a...</td>\n",
              "    </tr>\n",
              "    <tr>\n",
              "      <td>142568</td>\n",
              "      <td>146031</td>\n",
              "      <td>218081</td>\n",
              "      <td>Yes, this is real: Michigan just banned bannin...</td>\n",
              "      <td>Washington Post</td>\n",
              "      <td>Chelsea Harvey</td>\n",
              "      <td>2016-12-30</td>\n",
              "      <td>2016.0</td>\n",
              "      <td>12.0</td>\n",
              "      <td>https://web.archive.org/web/20161231004909/htt...</td>\n",
              "      <td>This story has been updated. A new law in...</td>\n",
              "    </tr>\n",
              "    <tr>\n",
              "      <td>142569</td>\n",
              "      <td>146032</td>\n",
              "      <td>218082</td>\n",
              "      <td>What happened in Washington state after voters...</td>\n",
              "      <td>Washington Post</td>\n",
              "      <td>Christopher Ingraham</td>\n",
              "      <td>2016-12-29</td>\n",
              "      <td>2016.0</td>\n",
              "      <td>12.0</td>\n",
              "      <td>https://web.archive.org/web/20161231004909/htt...</td>\n",
              "      <td>The nation’s first recreational marijuana...</td>\n",
              "    </tr>\n",
              "  </tbody>\n",
              "</table>\n",
              "<p>142570 rows × 10 columns</p>\n",
              "</div>"
            ]
          },
          "metadata": {
            "tags": []
          },
          "execution_count": 5
        }
      ]
    },
    {
      "cell_type": "code",
      "metadata": {
        "id": "KF1gdGRjK7HB",
        "colab_type": "code",
        "colab": {}
      },
      "source": [
        "# remove duplicates\n",
        "full_data = full_data.drop_duplicates(subset=['title', 'publication', 'author', 'date'])"
      ],
      "execution_count": 0,
      "outputs": []
    },
    {
      "cell_type": "code",
      "metadata": {
        "id": "FoumqwwKQJ29",
        "colab_type": "code",
        "colab": {}
      },
      "source": [
        "# remove missing titles \n",
        "full_data = full_data.dropna(subset=['title'])"
      ],
      "execution_count": 0,
      "outputs": []
    },
    {
      "cell_type": "code",
      "metadata": {
        "id": "geKADAkQ1isB",
        "colab_type": "code",
        "outputId": "2a167353-a18d-4cab-f3cc-fecad9b53bfd",
        "colab": {
          "base_uri": "https://localhost:8080/",
          "height": 272
        }
      },
      "source": [
        "# sample from full_data (set seed to 5)\n",
        "small_data = full_data.sample(n=10000, random_state=5).reset_index()\n",
        "set(small_data.publication)"
      ],
      "execution_count": 8,
      "outputs": [
        {
          "output_type": "execute_result",
          "data": {
            "text/plain": [
              "{'Atlantic',\n",
              " 'Breitbart',\n",
              " 'Business Insider',\n",
              " 'Buzzfeed News',\n",
              " 'CNN',\n",
              " 'Fox News',\n",
              " 'Guardian',\n",
              " 'NPR',\n",
              " 'National Review',\n",
              " 'New York Post',\n",
              " 'New York Times',\n",
              " 'Reuters',\n",
              " 'Talking Points Memo',\n",
              " 'Vox',\n",
              " 'Washington Post'}"
            ]
          },
          "metadata": {
            "tags": []
          },
          "execution_count": 8
        }
      ]
    },
    {
      "cell_type": "code",
      "metadata": {
        "id": "oHsWKlomnvcj",
        "colab_type": "code",
        "outputId": "7635773b-c797-43f9-a6fb-51645096ec2f",
        "colab": {
          "base_uri": "https://localhost:8080/",
          "height": 1000
        }
      },
      "source": [
        "small_data"
      ],
      "execution_count": 9,
      "outputs": [
        {
          "output_type": "execute_result",
          "data": {
            "text/plain": [
              "       index  Unnamed: 0      id  \\\n",
              "0      74496       77946  118473   \n",
              "1      71184       74592  113594   \n",
              "2     120205      123668  184574   \n",
              "3     128977      132440  199665   \n",
              "4     134837      138300  208223   \n",
              "...      ...         ...     ...   \n",
              "9995  137105      140568  211140   \n",
              "9996   60293       63612   86308   \n",
              "9997   55079       58389   80070   \n",
              "9998  110248      113711  168509   \n",
              "9999  123649      127112  190014   \n",
              "\n",
              "                                                  title      publication  \\\n",
              "0     Chaos in the Family, Chaos in the State: The W...  National Review   \n",
              "1      US Civil Rights Commission Will Observe Stand...    Buzzfeed News   \n",
              "2     Venezuela hunts rogue helicopter attackers, Ma...          Reuters   \n",
              "3     Fruit juice isn’t much better for you than sod...              Vox   \n",
              "4     Sessions won’t testify at congressional budget...  Washington Post   \n",
              "...                                                 ...              ...   \n",
              "9995  Patient secretly recorded doctors as they oper...  Washington Post   \n",
              "9996  Fox News Poll: Clinton edges Trump by two poin...         Fox News   \n",
              "9997  The Atlantic  Politics & Policy Daily: Trump’s...         Atlantic   \n",
              "9998  A Son In Chains. A Depressed Mom. Here’s What ...              NPR   \n",
              "9999  Trump’s expected VP pick: coal advocate who de...          Reuters   \n",
              "\n",
              "                                     author        date    year  month  \\\n",
              "0                       Kevin D. Williamson  2016-03-17  2016.0    3.0   \n",
              "1                          Nidhi Subbaraman  2016-12-08  2016.0   12.0   \n",
              "2     Andrew Cawthorne and Victoria Ramirez  2017-06-29  2017.0    6.0   \n",
              "3                              Julia Belluz   2016/3/25  2016.0    3.0   \n",
              "4                              Sari Horwitz  2017-06-10  2017.0    6.0   \n",
              "...                                     ...         ...     ...    ...   \n",
              "9995                             Yanan Wang  2016-04-07  2016.0    4.0   \n",
              "9996                           Dana Blanton  2016-10-07  2016.0   10.0   \n",
              "9997                         Elaine Godfrey  2016-08-31  2016.0    8.0   \n",
              "9998                        Nurith Aizenman  2016-04-15  2016.0    4.0   \n",
              "9999      Valerie Volcovici and Grant Smith  2016-07-15  2016.0    7.0   \n",
              "\n",
              "                                                    url  \\\n",
              "0     http://www.nationalreview.com/article/432876/d...   \n",
              "1     https://web.archive.org/web/20161208153906/htt...   \n",
              "2     http://www.reuters.com/article/us-venezuela-po...   \n",
              "3     http://www.vox.com/2016/3/25/11305614/soda-jui...   \n",
              "4     https://web.archive.org/web/20170611000758/htt...   \n",
              "...                                                 ...   \n",
              "9995  https://web.archive.org/web/20160408000201/htt...   \n",
              "9996  https://web.archive.org/web/20161008002456/htt...   \n",
              "9997                                                NaN   \n",
              "9998  http://www.npr.org/sections/goatsandsoda/2016/...   \n",
              "9999  http://www.reuters.com/article/us-usa-election...   \n",
              "\n",
              "                                                content  \n",
              "0     Michael Brendan Dougherty is bitter. I think t...  \n",
              "1      WASHINGTON  —   The US Commission on Civil Ri...  \n",
              "2      The Venezuelan government hunted on Wednesday...  \n",
              "3      One of the biggest public health wins of rece...  \n",
              "4      Attorney General Jeff Sessions, who had agree...  \n",
              "...                                                 ...  \n",
              "9995         Last summer, Ethel Easter wanted nothin...  \n",
              "9996  Third party candidates Gary Johnson (6 percent...  \n",
              "9997          For us to continue writing great stori...  \n",
              "9998  It was a hospital  —   but to psychologist Ink...  \n",
              "9999   Republican Donald Trump’s selection of Indian...  \n",
              "\n",
              "[10000 rows x 11 columns]"
            ],
            "text/html": [
              "<div>\n",
              "<style scoped>\n",
              "    .dataframe tbody tr th:only-of-type {\n",
              "        vertical-align: middle;\n",
              "    }\n",
              "\n",
              "    .dataframe tbody tr th {\n",
              "        vertical-align: top;\n",
              "    }\n",
              "\n",
              "    .dataframe thead th {\n",
              "        text-align: right;\n",
              "    }\n",
              "</style>\n",
              "<table border=\"1\" class=\"dataframe\">\n",
              "  <thead>\n",
              "    <tr style=\"text-align: right;\">\n",
              "      <th></th>\n",
              "      <th>index</th>\n",
              "      <th>Unnamed: 0</th>\n",
              "      <th>id</th>\n",
              "      <th>title</th>\n",
              "      <th>publication</th>\n",
              "      <th>author</th>\n",
              "      <th>date</th>\n",
              "      <th>year</th>\n",
              "      <th>month</th>\n",
              "      <th>url</th>\n",
              "      <th>content</th>\n",
              "    </tr>\n",
              "  </thead>\n",
              "  <tbody>\n",
              "    <tr>\n",
              "      <td>0</td>\n",
              "      <td>74496</td>\n",
              "      <td>77946</td>\n",
              "      <td>118473</td>\n",
              "      <td>Chaos in the Family, Chaos in the State: The W...</td>\n",
              "      <td>National Review</td>\n",
              "      <td>Kevin D. Williamson</td>\n",
              "      <td>2016-03-17</td>\n",
              "      <td>2016.0</td>\n",
              "      <td>3.0</td>\n",
              "      <td>http://www.nationalreview.com/article/432876/d...</td>\n",
              "      <td>Michael Brendan Dougherty is bitter. I think t...</td>\n",
              "    </tr>\n",
              "    <tr>\n",
              "      <td>1</td>\n",
              "      <td>71184</td>\n",
              "      <td>74592</td>\n",
              "      <td>113594</td>\n",
              "      <td>US Civil Rights Commission Will Observe Stand...</td>\n",
              "      <td>Buzzfeed News</td>\n",
              "      <td>Nidhi Subbaraman</td>\n",
              "      <td>2016-12-08</td>\n",
              "      <td>2016.0</td>\n",
              "      <td>12.0</td>\n",
              "      <td>https://web.archive.org/web/20161208153906/htt...</td>\n",
              "      <td>WASHINGTON  —   The US Commission on Civil Ri...</td>\n",
              "    </tr>\n",
              "    <tr>\n",
              "      <td>2</td>\n",
              "      <td>120205</td>\n",
              "      <td>123668</td>\n",
              "      <td>184574</td>\n",
              "      <td>Venezuela hunts rogue helicopter attackers, Ma...</td>\n",
              "      <td>Reuters</td>\n",
              "      <td>Andrew Cawthorne and Victoria Ramirez</td>\n",
              "      <td>2017-06-29</td>\n",
              "      <td>2017.0</td>\n",
              "      <td>6.0</td>\n",
              "      <td>http://www.reuters.com/article/us-venezuela-po...</td>\n",
              "      <td>The Venezuelan government hunted on Wednesday...</td>\n",
              "    </tr>\n",
              "    <tr>\n",
              "      <td>3</td>\n",
              "      <td>128977</td>\n",
              "      <td>132440</td>\n",
              "      <td>199665</td>\n",
              "      <td>Fruit juice isn’t much better for you than sod...</td>\n",
              "      <td>Vox</td>\n",
              "      <td>Julia Belluz</td>\n",
              "      <td>2016/3/25</td>\n",
              "      <td>2016.0</td>\n",
              "      <td>3.0</td>\n",
              "      <td>http://www.vox.com/2016/3/25/11305614/soda-jui...</td>\n",
              "      <td>One of the biggest public health wins of rece...</td>\n",
              "    </tr>\n",
              "    <tr>\n",
              "      <td>4</td>\n",
              "      <td>134837</td>\n",
              "      <td>138300</td>\n",
              "      <td>208223</td>\n",
              "      <td>Sessions won’t testify at congressional budget...</td>\n",
              "      <td>Washington Post</td>\n",
              "      <td>Sari Horwitz</td>\n",
              "      <td>2017-06-10</td>\n",
              "      <td>2017.0</td>\n",
              "      <td>6.0</td>\n",
              "      <td>https://web.archive.org/web/20170611000758/htt...</td>\n",
              "      <td>Attorney General Jeff Sessions, who had agree...</td>\n",
              "    </tr>\n",
              "    <tr>\n",
              "      <td>...</td>\n",
              "      <td>...</td>\n",
              "      <td>...</td>\n",
              "      <td>...</td>\n",
              "      <td>...</td>\n",
              "      <td>...</td>\n",
              "      <td>...</td>\n",
              "      <td>...</td>\n",
              "      <td>...</td>\n",
              "      <td>...</td>\n",
              "      <td>...</td>\n",
              "      <td>...</td>\n",
              "    </tr>\n",
              "    <tr>\n",
              "      <td>9995</td>\n",
              "      <td>137105</td>\n",
              "      <td>140568</td>\n",
              "      <td>211140</td>\n",
              "      <td>Patient secretly recorded doctors as they oper...</td>\n",
              "      <td>Washington Post</td>\n",
              "      <td>Yanan Wang</td>\n",
              "      <td>2016-04-07</td>\n",
              "      <td>2016.0</td>\n",
              "      <td>4.0</td>\n",
              "      <td>https://web.archive.org/web/20160408000201/htt...</td>\n",
              "      <td>Last summer, Ethel Easter wanted nothin...</td>\n",
              "    </tr>\n",
              "    <tr>\n",
              "      <td>9996</td>\n",
              "      <td>60293</td>\n",
              "      <td>63612</td>\n",
              "      <td>86308</td>\n",
              "      <td>Fox News Poll: Clinton edges Trump by two poin...</td>\n",
              "      <td>Fox News</td>\n",
              "      <td>Dana Blanton</td>\n",
              "      <td>2016-10-07</td>\n",
              "      <td>2016.0</td>\n",
              "      <td>10.0</td>\n",
              "      <td>https://web.archive.org/web/20161008002456/htt...</td>\n",
              "      <td>Third party candidates Gary Johnson (6 percent...</td>\n",
              "    </tr>\n",
              "    <tr>\n",
              "      <td>9997</td>\n",
              "      <td>55079</td>\n",
              "      <td>58389</td>\n",
              "      <td>80070</td>\n",
              "      <td>The Atlantic  Politics &amp; Policy Daily: Trump’s...</td>\n",
              "      <td>Atlantic</td>\n",
              "      <td>Elaine Godfrey</td>\n",
              "      <td>2016-08-31</td>\n",
              "      <td>2016.0</td>\n",
              "      <td>8.0</td>\n",
              "      <td>NaN</td>\n",
              "      <td>For us to continue writing great stori...</td>\n",
              "    </tr>\n",
              "    <tr>\n",
              "      <td>9998</td>\n",
              "      <td>110248</td>\n",
              "      <td>113711</td>\n",
              "      <td>168509</td>\n",
              "      <td>A Son In Chains. A Depressed Mom. Here’s What ...</td>\n",
              "      <td>NPR</td>\n",
              "      <td>Nurith Aizenman</td>\n",
              "      <td>2016-04-15</td>\n",
              "      <td>2016.0</td>\n",
              "      <td>4.0</td>\n",
              "      <td>http://www.npr.org/sections/goatsandsoda/2016/...</td>\n",
              "      <td>It was a hospital  —   but to psychologist Ink...</td>\n",
              "    </tr>\n",
              "    <tr>\n",
              "      <td>9999</td>\n",
              "      <td>123649</td>\n",
              "      <td>127112</td>\n",
              "      <td>190014</td>\n",
              "      <td>Trump’s expected VP pick: coal advocate who de...</td>\n",
              "      <td>Reuters</td>\n",
              "      <td>Valerie Volcovici and Grant Smith</td>\n",
              "      <td>2016-07-15</td>\n",
              "      <td>2016.0</td>\n",
              "      <td>7.0</td>\n",
              "      <td>http://www.reuters.com/article/us-usa-election...</td>\n",
              "      <td>Republican Donald Trump’s selection of Indian...</td>\n",
              "    </tr>\n",
              "  </tbody>\n",
              "</table>\n",
              "<p>10000 rows × 11 columns</p>\n",
              "</div>"
            ]
          },
          "metadata": {
            "tags": []
          },
          "execution_count": 9
        }
      ]
    },
    {
      "cell_type": "code",
      "metadata": {
        "id": "Fz-CUd81yb81",
        "colab_type": "code",
        "outputId": "9b9f8c79-1336-4c98-dcc6-6dcd2a27f0bc",
        "colab": {
          "base_uri": "https://localhost:8080/",
          "height": 102
        }
      },
      "source": [
        "# remove publisher tags from article titles \n",
        "\n",
        "just_titles = []\n",
        "\n",
        "for title in small_data.title:\n",
        "  title = re.sub(r\"(- Breitbart)(?!.*\\1)\", '', title)\n",
        "  title = re.sub(r'(- The New York Times)(?!.*\\1)', '', title)\n",
        "  just_titles.append(title)\n",
        "\n",
        "just_titles[:5]"
      ],
      "execution_count": 10,
      "outputs": [
        {
          "output_type": "execute_result",
          "data": {
            "text/plain": [
              "['Chaos in the Family, Chaos in the State: The White Working Class’s Dysfunction',\n",
              " ' US Civil Rights Commission Will Observe Standing Rock\\xa0Standoff',\n",
              " 'Venezuela hunts rogue helicopter attackers, Maduro foes suspicious',\n",
              " 'Fruit juice isn’t much better for you than soda. Let’s stop pretending otherwise.',\n",
              " 'Sessions won’t testify at congressional budget hearings but at Senate intelligence hearing instead']"
            ]
          },
          "metadata": {
            "tags": []
          },
          "execution_count": 10
        }
      ]
    },
    {
      "cell_type": "code",
      "metadata": {
        "id": "W-KoWU84-e4B",
        "colab_type": "code",
        "outputId": "25d9d97a-33f9-4175-b329-9369831d1ff6",
        "colab": {
          "base_uri": "https://localhost:8080/",
          "height": 34
        }
      },
      "source": [
        "len(just_titles)"
      ],
      "execution_count": 11,
      "outputs": [
        {
          "output_type": "execute_result",
          "data": {
            "text/plain": [
              "10000"
            ]
          },
          "metadata": {
            "tags": []
          },
          "execution_count": 11
        }
      ]
    },
    {
      "cell_type": "code",
      "metadata": {
        "id": "iXEvn1pUgb9h",
        "colab_type": "code",
        "outputId": "707c558a-e3ab-4881-9300-7f165d7b754d",
        "colab": {
          "base_uri": "https://localhost:8080/",
          "height": 122
        }
      },
      "source": [
        "# join with content of article\n",
        "\n",
        "small_text = list(map(lambda i,j: i + \" \" + j, just_titles, small_data.content))\n",
        "\n",
        "small_text[:5]"
      ],
      "execution_count": 11,
      "outputs": [
        {
          "output_type": "execute_result",
          "data": {
            "text/plain": [
              "['Chaos in the Family, Chaos in the State: The White Working Class’s Dysfunction Michael Brendan Dougherty is bitter. I think that I can write that in both truth and charity. (I think you might even say that he and I are friends.) Dougherty is a conservative of the sort sometimes advertised as “paleo” and served as national correspondent for The American Conservative. Like many conservative writers with those associations, Dougherty spends a great deal of time lambasting the conservative movement and its organs, from which he feels, for whatever reason, estranged  —   an alienation that carries with it more than a little to suggest that it is somewhat personal. You know: Them. Donald Trump is the headline, and explaining the benighted white working class to Them is the main matter. Sanctimony is the literary mode, for Dougherty and for many others doing the same work with less literary facility. Never mind the petty sneering (as though the conservative movement were populated by septuagenarians who say things like “learn computers”) and the rhetorical need to invent moral debasement (tax cuts are good for the rich people in Connecticut who don’t use cocaine, too) and Dougherty’s ignoring out of existence those   parts of the economy that are outside of the Manhattan —  Connecticut finance corridor. And never mind the math, too: It is really quite difficult to design federal tax cuts that benefit people who do not pay much in the way of federal taxes. Set all that aside: What, really, is the case for staying in Garbutt? RELATED: If Your Town Is Failing, Just Go: A Prescription for Impoverished Communities, There was no Garbutt, N. Y. until 1804, when Zachariah Garbutt and his son John settled there. They built a grist mill, and, in the course of digging its foundations, they discovered a rich vein of gypsum, at that time used as a fertilizer. A gypsum industry sprang up and ran its course. Then Garbutt died. “As the years passed away, a change came over the spirit of their dream,” wrote local historian George E. Slocum. “Their church was demolished and its timber put to an ignoble use their schools were reduced to one, and that a primary their hotels were converted into dwelling houses their workshops, one by one, slowly and silently sank from sight until there was but little left to the burg except its name. ” Slocum wrote that in . . . 1908. The emergence of the   wallboard industry gave Garbutt a little bump at the beginning of the 20th century, but it wasn’t enough. The U. S. Census Bureau doesn’t even keep data on Garbutt. To invoke Burkean conservatism in the service of preserving a community that was exnihilated into existence around a single commodity and lasted barely a century is the indulgence of absurd sentimentality. Yes, young men of Garbutt  —   get off your asses and go find a job: You’re a   bus ride away from the gas fields of Pennsylvania. Stonehenge didn’t work out, either: Good luck. Garbutt is Trump Country, and Dougherty, while not a   Trumpkin, is generally sympathetic to Trump’s critique of current American economic policy, namely that international trade and immigration are dispossessing the white working class. There is not, in fact, very much evidence for those claims: Immigration does put some downward pressure on wages, but it also puts downward pressure on prices.     workers’ money income may have stagnated, but their real income  —   what they can buy with the money they earn  —   has continued to improve modestly. The main effect of new immigrants’ wage competition is felt in the wages of earlier immigrants. But the effects of immigration overall are tiny compared with the effects of factors such as   expenses. In many   occupations, overall compensation in fact has gone up over the years, but the additional compensation has come largely or entirely in the form of medical benefits. In some cases, the expense of medical benefits has gone up so much that total compensation has increased even while money wages have gone down. That’s the worst of all possible worlds: It costs more to employ those   American workers, but they don’t feel any richer  —   and if their employers are paying more for the same benefits (or paying more for inferior benefits under the   Affordable Care Act) they aren’t any richer, practically speaking. On the trade front, American manufacturing continues to expand and thrive  —   an absolute economic fact that is, perversely, unknown to the great majority of Americans, who believe precisely the opposite to be the case. Americans have false beliefs about manufacturing for a few reasons: One is that while our factories produce much more than in the past, they employ fewer people another is that we tend to produce capital goods and import consumer goods  —   you won’t see much labeled “Made in the USA” at Walmart, but you’ll see it on everything from the aircraft flown by foreign airlines to the robotics in automobile factories overseas. Another factor, particularly relevant to the question of manufacturing and trade, is that a large (but declining) share of those imported consumer goods comes from China, a country with which we have a large trade deficit. That isn’t because the Chinese are clever, but because they are poor: With an average annual income of less than $9, 000, the typical Chinese household is not well positioned to buy   goods, which are generally expensive. (China is a large consumer of U. S. agricultural products, especially soybeans.) Add to that poorly informed and sentimental ideas about what those old Rust Belt factory jobs actually paid  —   you can have a 1957 standard of living, if you really want it, quite cheap  —   and you get a holistic critique of U. S. economic policy that is wholly bunk. Which isn’t to say that the Mikes of Dougherty’s world have it good  —   they don’t. But they aren’t victims of the wily Chinese, scheming to make them poor: In the story of the white working class’s descent into dysfunction, they are the victims and the villains both. RELATED: The White Ghetto: In Appalachia, The Country Is Beautiful and the Society is Broken, The Washington Post’s “Wonkbook” newsletter compared the counties Trump won in the   Super Tuesday primaries with the demographic data and found trends that will surprise no one who has been paying attention (and certainly no one, I hope, who has been reading this magazine). The life expectancies among    white Americans have been plummeting in an almost unprecedented fashion, a trend not seen on such a large scale since the collapse of the Soviet Union and the social anarchy that prevailed in Russia afterward. Trump counties had proportionally fewer people with college degrees. Trump counties had fewer people working. And the white people in Trump counties were likely to die younger. The causes of death were “increased rates of disease and ill health, increased drug overdose and abuse, and suicide,” the Post’s Wonkblog website reported. This is horrifyingly consistent with other findings. The manufacturing numbers  —   and the entire gloriously complex tale of globalization  —   go in fits and starts: a little improvement here, a little improvement there, and a radically better world in raw material terms (and let’s not sniff at those) every couple of decades. Go back and read the novels of the 1980s or watch The Brady Bunch and ask yourself why    suburban families living in large, comfortable homes and holding down prestigious jobs were worried about the price of butter and meat, and then ask yourself when was the last time you heard someone complain that he couldn’t afford a stick of butter. That change happened a little at a time, here and there. RELATED:    Deaths Are a Cultural Problem, The   numbers, on the other hand, came down on us like a meteor. Before the war, divorce had been such an alien phenomenon that it animated such   stories as The Gay Divorcee, a play in which a fictitious act of adultery had to be invented to move the plot forward. Divorce in 1960 was so rare as to carry a hint of scandalous glamour, which it kept throughout the 1970s and 1980s, with women’s magazines writing lifestyle pieces about informal weekday dinner parties for divorcées (the word itself is today faintly ludicrous) and men’s magazines celebrating divorce as a second adolescence. The divorce rate doubled over the span of a few decades  —   even as the marriage rate was declining. Add to that the violence of abortion, which fundamentally alters the relationship between men, women, and children, and what exactly “family” means to those of us born around the time Roe v. Wade was decided becomes a very difficult question. The concept of the nation as an extended family is the notion that separates   conservatism, with its roots in the   ideas that informed the American founding, from       European nationalism. In Europe, this is an idea popular with the Right: It is entirely unsurprising that Trump has enjoyed the endorsement of, among other European rightists,   Le Pen. In the United States, it is an idea  —   and an error  —   popular on both sides of the political divide: The distastefully squishy progressive writer George Lakoff argues that the American Right prefers a strict patriarchal model of the family and, therefore, a similar model of political life, while the Left is inclined toward the maternal and the nurturing. (  critics of free trade and free enterprise in the   world often speak of “nurturing” economic policies, because they do not wish to write the word “socialism. ”) But it is an idea that fits at best uneasily with the aspirations of American conservatism. One of the worst errors in public life is the common one of mistaking the metaphor for the thing itself. In reality  —   and reality is not optional  —   the president isn’t the national dad (Governor John Kasich’s insistence notwithstanding) and government is neither paternal nor maternal. The nation isn’t your family. Your family is your family. RELATED: The Buchanan Boys: The Trump Voters Aren’t a New Phenomenon, The metaphor points both ways: Nationalism may speak to a longing for lost national greatness, but in our own time, it speaks at least as strongly to the longing after  —   the great howling lamentation for  —   the ideal family that never was lost, because it never was formed. The Mikes of the world may be struggling to make it in the global economy, but what they really are shut out of is the traditional family. The current social regime of illegitimacy, serial monogamy, abortion, and liberal divorce has rendered traditional families optional, at best  —   the great majority of divorces are initiated by wives, not by husbands  —   and the welfare state has at least in part supplanted the Mikes in their role as providers, assuming that they have the wherewithal to fill that role in the first place. Traditional avenues for achieving respect, status, and permanence are lost to them. Milo Yiannopoulos of Breitbart London has done more to put homosexual camp in the service of   authoritarianism than any man has since the fellows at Hugo Boss sewed all those nifty SS uniforms. He refers to Trump  —   this will not surprise you  —   as “Daddy,”  . It is easy to imagine a generation of young men being raised without fathers and looking out the window like a kid in an   special, waiting for Daddy to come home. Many of them slip into harmless Clark Griswold —  ism, trying to provide for their own children the ideal families they themselves never had. But some of them end up grown men still staring out that window, waiting for the   figure they have spent their lives imagining, the protector and vindicator who will protect them, provide for them, and set things in order. RELATED: How   Abuse Unleashed a Heroin Epidemic, Dougherty cites the work of the conservative polemicist Sam Francis, one of those old   conservatives who very much embraced the paterfamilias model of government. His analysis, like mine, finds emotional and policy links between the Trump movement and its earlier incarnation, the Pat Buchanan movement. For Dougherty, Francis provides the philosophical link. He also provides the stylistic link: He was a kook. “Francis eventually turned into something resembling an   white nationalist,” Dougherty writes, “penning his most racist material under a pen name. Buchanan didn’t take Francis’s advice in 1996, not entirely. But 20 years later, [Francis’s book] From Household to Nation reads like a political manifesto from which the Trump campaign springs. ” From Household to Nation is typical in that it is based on a category error, asking economics to do what economics doesn’t: to provide the means “not simply to gain material satisfaction but to support families and the social institutions and identities that evolve from families as the fundamental units of human society and human action. ” Economics is about satisfying human wants, not defining them. The problem isn’t that Americans cannot sustain families, but that they do not wish to. It is therefore strange to me that Dougherty so fundamentally misdiagnoses the conservative reaction to Trump: “A Trump win,” he writes in another piece, “at least temporarily threatens the conservative movement, because it threatens to expose how inessential its ideas are to holding together the party. ” (Dougherty also equates the fundraising engaged in by conservative organizations with the Social Security fraud that sustains his fictional Mike, a characterization that indicates the emotional temperament at work here.) Of course there is careerism in the conservative movement, but to proceed as though it were impossible to imagine that conservatives oppose a man running (knowingly or not) on a Sam Francis platform because we oppose the loopy crackpot racist ideas of Sam Francis is to perform an intellectual disservice. It is also immoral. It is immoral because it perpetuates a lie: that the white working class that finds itself attracted to Trump has been victimized by outside forces. It hasn’t. The white middle class may like the idea of Trump as a giant pulsing humanoid middle finger held up in the face of the Cathedral, they may sing hymns to Trump the destroyer and whisper darkly about “globalists” and  —   odious, stupid term  —   “the Establishment,” but nobody did this to them. They failed themselves. RELATED:   Whites Have Moral Responsibilities  —   In Defense of Kevin Williamson, If you spend time in hardscrabble, white upstate New York, or eastern Kentucky, or my own native West Texas, and you take an honest look at the welfare dependency, the drug and alcohol addiction, the family anarchy  —   which is to say, the whelping of human children with all the respect and wisdom of a stray dog  —   you will come to an awful realization. It wasn’t Beijing. It wasn’t even Washington, as bad as Washington can be. It wasn’t immigrants from Mexico, excessive and problematic as our current immigration levels are. It wasn’t any of that. Nothing happened to them. There wasn’t some awful disaster. There wasn’t a war or a famine or a plague or a foreign occupation. Even the economic changes of the past few decades do very little to explain the dysfunction and negligence  —   and the incomprehensible malice  —   of poor white America. So the gypsum business in Garbutt ain’t what it used to be. There is more to life in the 21st century than wallboard and cheap sentimentality about how the Man closed the factories down. The truth about these dysfunctional, downscale communities is that they deserve to die. Economically, they are negative assets. Morally, they are indefensible. Forget all your cheap theatrical Bruce Springsteen crap. Forget your sanctimony about struggling Rust Belt factory towns and your conspiracy theories about the wily Orientals stealing our jobs. Forget your goddamned gypsum, and, if he has a problem with that, forget Ed Burke, too. The white American underclass is in thrall to a vicious, selfish culture whose main products are misery and used heroin needles. Donald Trump’s speeches make them feel good. So does OxyContin. What they need isn’t analgesics, literal or political. They need real opportunity, which means that they need real change, which means that they need  . If you want to live, get out of Garbutt.,',\n",
              " ' US Civil Rights Commission Will Observe Standing Rock\\xa0Standoff  WASHINGTON  —   The US Commission on Civil Rights will send a delegation to visit the campsite in North Dakota, where hundreds of people have gathered to protest the building of the Dakota Access Pipeline. The goal is to meet with tribal leaders, water protectors, as well as state and government authorities. The commission is the independent, bipartisan federal civil rights watchdog group, established by the 1957 Civil Rights Act. “That has become the seminal issue of the day when it comes to Native American rights,” commission chair Martin Castro, who will travel to Standing Rock, told BuzzFeed News. “This is to me the closest thing to what we’ve done since the time that we would go down in the 1960s to the Jim Crow South, to examine what’s going on on the ground, on an open active issue, where there is engagement between the community and the government. ” Commissioners voted in a Friday meeting to make the trip, after David Archambault II, chairman of the Standing Rock Sioux tribe, sent a letter inviting the commission to visit. The observers intend to travel there early next week. The commission is currently researching an update to its 2003 report, “Unmet Needs,” that examines Native American life as well as the government’s stewardship of the communities and their lands. “We cannot as a commission be looking at civil rights for Native Americans and unmet needs in Indian Country in the 21st century without now looking at what’s going on in Standing Rock,” Castro said. “Ideally we’d want to observe and meet with all parties involved, from the Army Corps of engineers to the protestor who just got hit with the water cannon,” Castro said. “Hopefully we will not only write a report about what we’ve seen, but also   with players involved to see how matters may be improved. ”The visit follows two weeks of mounting tensions at Standing Rock. On November 21, police drenched protestors with water cannons in frigid temperatures, leading to the hospitalization of at least 17 people. The Army Corps of Engineers last Friday said that it intends to close lands that include the campsite by Dec. 5. On Monday, the North Dakota governor Jack Dalrymple issued an emergency evacuation order that called on protestors to vacate campsite, citing incoming cold weather. State officials have threatened to fine people traveling to the site. US Senator Corey Booker this week called for a Department of Justice investigation into the police actions in Standing Rock. In the past, police have used tear gas, rubber bullets, and police dogs against people who have gathered at the site. At least 2, 000 veterans plan to travel to the site this weekend, in solidarity with the movement.  ',\n",
              " 'Venezuela hunts rogue helicopter attackers, Maduro foes suspicious  The Venezuelan government hunted on Wednesday for rogue policemen who attacked key installations by helicopter, but critics of President Nicolas Maduro suspected the raid may have been staged to justify repression. In extraordinary scenes over Caracas around sunset on Tuesday, the stolen helicopter fired shots at the Interior Ministry and dropped grenades on the Supreme Court, both viewed by Venezuela’s opposition as bastions of support for a dictator. Nobody was injured. Officials said special forces were seeking Oscar Perez, 36, a police pilot named as the mastermind of the raid by the helicopter that carried a banner saying ”Freedom!” In 2015, Perez   and starred in ”Death Suspended,” an action film in which he played the lead role as a government agent rescuing a kidnapped businessman. There was no sign on Wednesday of Perez, whom officials condemned as a ”psychopath” but the helicopter was found on Venezuela’s northern Caribbean coastline. ”We ask for maximum support to find this fanatic, extremist terrorist,” vice president Tareck El Aissami said. The attack exacerbated an already   political crisis in Venezuela after three months of opposition protests demanding general elections and fixes for the sinking economy. At least 76 people have died in the unrest since April, the latest a    man shot in the head near a protest in the Petare slum of Caracas, authorities said on Wednesday.  Hundreds more people have been injured and arrested in what Maduro terms an ongoing coup attempt with U. S. encouragement. The attack fed a conspiracy theory by opposition supporters that it may have been a government setup and overshadowed other drama on Tuesday, including the besieging of opposition legislators by gangs in the National Assembly. The helicopter raid also coincided with a judicial measure weakening the powers of dissident chief state prosecutor Luisa Ortega, who has emerged as a major challenger to Maduro. ”It seems like a movie,” said Julio Borges, leader of the   legislature, of the helicopter raid. ”Some people say it is a   some that it is real . .. Yesterday was full of contradictions . .. A thousand things are happening, but I summarize it like this: a government is decaying and rotting, while a nation is fighting for dignity.”  Though Perez posted a video on social media showing himself in front of four hooded armed men and claiming to represent a coalition of security and civilian officials rising up against ”tyranny,” there was no evidence of deeper support.  ”CHEAP SHOW” The government, however, accused the policemen of links to the CIA and to Miguel Rodriguez, a former interior minister and intelligence chief under Maduro and his predecessor Hugo Chavez, who recently broke with the government. ”I’m not at all convinced by the helicopter incident,” Rodriguez told Reuters on Wednesday, saying the figures behind Perez in the video looked like dummies and expressing surprise the helicopter could fly freely and also not injure anyone. ”Conclusion: a cheap show. Who gains from this? Only Nicolas for two reasons: to give credibility to his coup d’etat talk, and to blame Rodriguez,” he added, referring to himself. Around the time of the attack, the   Supreme Court expanded the role of the state ombudsman, a human rights guarantor who is closely allied with Maduro, by giving him powers previously held only by the state prosecutor’s office.     Opposition leaders described that as an attempt to supplant chief prosecutor Ortega, who has confronted both Maduro and the Supreme Court this year after splitting ranks. The Supreme Court on Wednesday evening said it approved a measure blocking Ortega from leaving the country, freezing her bank accounts, and summoning her to a July 4 hearing to discuss whether she has committed ”serious offenses.”  Adding to Venezuela’s   atmosphere, opposition supporters again took to the streets nationwide on Wednesday to barricade roads.  One opposition lawmaker, Juan Guaido, filmed himself bleeding from wounds he said were inflicted by rubber bullets.  Opposition supporters hope that cracks within government may swing the crisis their way, and have been delighted to see heavyweights like Ortega and Rodriguez oppose Maduro. Their main focus is to stop a July 30 vote called by Maduro to form a   known as a Constituent Assembly, with powers to rewrite the constitution and supersede other institutions. Maduro says the assembly is the only way to bring peace to Venezuela, but opponents say it is a sham vote intended solely to keep an unpopular government in power.  ”We can’t let July 30 happen, we mustn’t,” said children’s health worker Rosa Toro, 52, blocking a road with friends. ”We’re being governed by criminals, traffickers and thieves,” added lawyer Matias Perez, 40, protesting with a plastic trumpet. Government officials lined up on Wednesday to condemn the helicopter attack, insisting it was the work of a few individuals and not representative of wider dissent.  Foreign Minister Samuel Moncada complained about the lack of international condemnation of the attack, saying it contrasted with the barrage of foreign criticism of the government. ”In Europe it’s now eight at night, but we’ve not had any reaction from European Union countries,” he said of a bloc that has been strongly critical of Maduro in recent months. The minister rejected accusations that the attack was carried out by the government for its own purposes.  ”Who can believe we are that sophisticated? Sending someone to throw grenades, who can believe that?” he asked.        (Additional reporting by Eyanir Chinea, Silene Ramirez, Brian Ellsworth, Herbert Villaraga, Diego Ore, Corina Pons and Girish Gupta; Editing by Jeffrey Benkoe and Andrew Hay) SEOUL North Korea said on Wednesday its newly developed intercontinental ballistic missile (ICBM) can carry a large nuclear warhead, triggering a call by Washington for global action to hold it accountable for pursuing nuclear weapons. WASHINGTON U. S. President Donald Trump will get a chance to patch up   ties this week when he meets with NATO allies still rattled by his failure on an earlier trip to embrace the principle that an attack against one member is an attack against all. ',\n",
              " 'Fruit juice isn’t much better for you than soda. Let’s stop pretending otherwise.  One of the biggest public health wins of recent decades has been America’s slow shift away from soda.    With more awareness about the very strong correlation between guzzling sweet, fizzy drinks, and obesity and tooth decay, sales of beverages like   and Pepsi have slumped. But there’s pretty good evidence that Americans are still getting hoodwinked by juices and other sugary beverages.         ”Cola” refers to both   and   cola carbonates. ”Juice” covers all packaged juices from fruits or vegetables, including 100% juice, nectars ( % juice content) juice drinks (up to 24% juice content) and   drinks (no juice content). ”Sports and energy drinks” refers to drinks that promise to boost energy levels such as  Red Bull, Monster, and RockStar.    Check out this data from Euromonitor. Its analysis of US retail beverage sales over the past five years finds that while the soda category is shrinking, juice sales have held steady, and sales of energy and sports drinks have been growing. Here’s how the market looks in terms of volume (millions of liters) sold:         This article in BMJ Open demonstrated the extent of the problem: The researchers looked at how much of the American diet is composed of   foods and added sugars. They found that 58 percent of total energy intake  —   more than half of the calories Americans consume!  —   came from foods that are packed with lots of flavors, colors, and sweeteners. And almost 90 percent of the added sugars Americans consume came from heavily processed foods  —   the two main sources being soft drinks (17 percent) closely followed by fruit drinks (14 percent). (In this case, ”fruit drinks” refers to processed juices with added sugars.) To be clear: Soda remains a big public health threat. As Marion Nestle, a New York University professor and author of the new book Soda Politics. points out, ”Sales of [soda alternatives] are up, but not nearly so much as to compensate for the decline in Coke and Pepsi.” But the data suggests that Americans are finding new ways to pack calories into their diet through other sugary drinks. We should think of juice as soda without the fizz Most juices and sports drinks have as much or even more sugar than soda, as you can see in this chart from the Harvard School of Public Health:               You might think fruit juice is inherently healthier than soda because it comes from fruit. But that’s not always the case. I asked nutrition researchers this question, and they all pointed out that the sugar in fruit juice is more concentrated than it is in whole fruits. When you drink fruit juice, you get a mega dose of sugar the same way you do when you drink soda. ”Juices have some nutritional value when the sugars are not added. But people don’t drink all that much [natural fruit] juice  —   it’s too expensive. They drink juice drinks with added sugars,” said Nestle.  These juices drinks  —   like bottled cranberry or grape juices  —   are basically sugar water with artificial flavors and little nutritional benefit. And even pure fruit juices that deliver vitamins and nutrients  —   like freshly squeezed orange juice  —   also deliver a lot of calories and sugar.  That said, nutritionists aren’t arguing you have to avoid fruit juice entirely. Real fruit juices are nutritionally superior to sodas and can be part of a healthy diet  —   albeit in moderation, Nestle said. ”Juices, like any other source of liquid sugars, are best consumed in small amounts.”  We’re starting to tax soda  —   but not juice A handful of countries are moving to tax sugary drinks in an effort to fight obesity. But in some instances, the taxes continue to focus on soda, and overlook the huge quantities of sugar people are consuming in fruit juice. In Britain, for example, the government just announced a forthcoming sugary drinks tax  —   but it only applies to soft drinks with added sugar, and excludes all   beverages and fruit juices. (See the Treasury Department’s fact sheet on the soda tax). That means beverages like milkshakes and cranberry juices won’t be taxed even though they’re nearly as damaging to health from a nutrition standpoint.    Berkeley, California, has a tax on sugary drinks, but it also excludes sweetened milk products and 100 percent juices. Soda companies in the UK are considering legal action over the tax on the basis of discrimination, since the tax excludes other sugary drinks. They raise a fair point. If the taxes focused on sugar content and calories, many more beverage companies  —   makers of chocolate milk, energy drinks, and fruit juice  —   would be affected. But as Nestle pointed out, there are political reasons that doesn’t happen. ”A tax on sweetened milk,” she said, ”will bring down the wrath of the dairy industry, which no legislator wants to take on.” Correction: A previous version of this article incorrectly stated the details of exclusions on Berkeley’s soda tax.           ',\n",
              " 'Sessions won’t testify at congressional budget hearings but at Senate intelligence hearing instead  Attorney General Jeff Sessions, who had agreed to testify this week before the Senate and House appropriations committees about the Justice Department budget, wrote the chairmen of the committees Saturday and said he was sending his deputy to testify instead.  Sessions was scheduled to testify before Congress on Tuesday for the first time since he was confirmed as attorney general in February. In light of former FBI director James B. Comey’s testimony last week, Sessions was expected to get many questions from lawmakers about his contacts with Russian officials during the 2016 election campaign. Sessions wrote to the two chairmen that he would testify before the Senate Intelligence Committee on Tuesday instead. A Justice Department official said that committee hearing probably will be closed to the public.  In early March, The Washington Post reported that Sessions twice met with Russian Ambassador Sergey Kislyak during the campaign and did not disclose that to the Senate Judiciary Committee during his confirmation hearing in January. The next day, Sessions recused himself from the Russia investigation and said it would be overseen by his deputy attorney general, who last month appointed a special counsel to handle the probe.  [  Sessions recuses himself from Russia investigation probe]        (Victoria   Washington Post)   Sessions also was expected to get questions about his involvement in the firing of Comey and the news that he offered his resignation to President Trump at one point recently. “I previously accepted an invitation to testify on behalf of the Department of Justice before the House and Senate Appropriations Subcommittees about the department’s FY18 budget, which funds the department’s efforts in several important areas such as combating the opioid crisis and violent crime,” Sessions wrote to Sen. Richard C. Shelby ( .) chairman of the Appropriations subcommittee on commerce, justice, science and related agencies, and Rep. John Abney Culberson ( .) chairman of the House Appropriations subcommittee on commerce, justice, science and related agencies. “In light of reports regarding Mr. Comey’s recent testimony before the Senate Select Committee on Intelligence, it is important that I have an opportunity to address these matters in the appropriate forum,” Sessions wrote. “The Senate Intelligence Committee is the most appropriate forum for such matters, as it has been conducting an investigation and has access to relevant, classified information. ” Comey testified Thursday that the bureau had information about Sessions  —   before he recused himself from overseeing the investigation into Russian meddling in the 2016 election  —   that would have made it “problematic” for him to be involved in the probe.  [Comey said FBI information about Sessions would have made his involvement in Russia probe problematic]  Sessions wrote the chairmen that Deputy Attorney General Rod J. Rosenstein will take his place before both the House and Senate subcommittees to testify about the Justice Department’s budget.  Sessions said he was “pleased to accept” the invitation to appear before members of the Senate Select Committee on Tuesday. Spokesmen for the chairman and ranking minority member of the committee could not be reached to confirm whether the hearing will be open or closed to the public.       (Zoeann   Washington Post)   ']"
            ]
          },
          "metadata": {
            "tags": []
          },
          "execution_count": 11
        }
      ]
    },
    {
      "cell_type": "code",
      "metadata": {
        "id": "dH0EFhZAitgI",
        "colab_type": "code",
        "outputId": "1bac5ba5-0b55-4526-b38c-eec2a1dc3e05",
        "colab": {
          "base_uri": "https://localhost:8080/",
          "height": 34
        }
      },
      "source": [
        "len(small_text)"
      ],
      "execution_count": 12,
      "outputs": [
        {
          "output_type": "execute_result",
          "data": {
            "text/plain": [
              "10000"
            ]
          },
          "metadata": {
            "tags": []
          },
          "execution_count": 12
        }
      ]
    },
    {
      "cell_type": "markdown",
      "metadata": {
        "id": "d_ZMQTurrcB3",
        "colab_type": "text"
      },
      "source": [
        "## Create Matrix of TF-IDF Features"
      ]
    },
    {
      "cell_type": "code",
      "metadata": {
        "id": "2hMvyiEgMB9s",
        "colab_type": "code",
        "colab": {}
      },
      "source": [
        "def preprocess_text(text):\n",
        "\n",
        "  # function to remove punctuation \n",
        "  def Punctuation(string): \n",
        "    return re.sub(r'[\\W_]', ' ', string)\n",
        "\n",
        "  # remove punctuation and perform tokenization\n",
        "  text = Punctuation(text.lower()).split()\n",
        "\n",
        "  # remove stop words and stem\n",
        "  stop_words = set(stopwords.words('english'))\n",
        "  stemmer = SnowballStemmer(\"english\")\n",
        "  text = [stemmer.stem(t) for t in text if not t in stop_words]\n",
        "\n",
        "  return text\n"
      ],
      "execution_count": 0,
      "outputs": []
    },
    {
      "cell_type": "code",
      "metadata": {
        "id": "BlMVZ3R6m3u4",
        "colab_type": "code",
        "colab": {}
      },
      "source": [
        "# tfidf vectorizer\n",
        "tfidf_vectorizer = TfidfVectorizer(max_features=5000, stop_words='english', use_idf=True, tokenizer=preprocess_text, ngram_range=(1,3))"
      ],
      "execution_count": 0,
      "outputs": []
    },
    {
      "cell_type": "code",
      "metadata": {
        "id": "ERDwOvRIqOzz",
        "colab_type": "code",
        "outputId": "bd6aee4a-141e-4617-83b0-94dc6ae9b1b9",
        "colab": {
          "base_uri": "https://localhost:8080/",
          "height": 88
        }
      },
      "source": [
        "# fit just_titles to vectorizer\n",
        "tfidf_matrix = tfidf_vectorizer.fit_transform(small_text)\n",
        "print(tfidf_matrix.shape)"
      ],
      "execution_count": 0,
      "outputs": [
        {
          "output_type": "stream",
          "text": [
            "/usr/local/lib/python3.6/dist-packages/sklearn/feature_extraction/text.py:385: UserWarning: Your stop_words may be inconsistent with your preprocessing. Tokenizing the stop words generated tokens ['afterward', 'alon', 'alreadi', 'alway', 'anoth', 'anyon', 'anyth', 'anywher', 'becam', 'becom', 'besid', 'cri', 'describ', 'els', 'elsewher', 'empti', 'everi', 'everyon', 'everyth', 'everywher', 'fifti', 'forti', 'henc', 'hereaft', 'herebi', 'howev', 'hundr', 'inde', 'mani', 'meanwhil', 'moreov', 'nobodi', 'noon', 'noth', 'nowher', 'otherwis', 'perhap', 'pleas', 'sever', 'sinc', 'sincer', 'sixti', 'someon', 'someth', 'sometim', 'somewher', 'thenc', 'thereaft', 'therebi', 'therefor', 'togeth', 'twelv', 'twenti', 'whatev', 'whenc', 'whenev', 'wherea', 'whereaft', 'wherebi', 'wherev'] not in stop_words.\n",
            "  'stop_words.' % sorted(inconsistent))\n"
          ],
          "name": "stderr"
        },
        {
          "output_type": "stream",
          "text": [
            "(10000, 5000)\n"
          ],
          "name": "stdout"
        }
      ]
    },
    {
      "cell_type": "code",
      "metadata": {
        "id": "qQdkuVXpsGS4",
        "colab_type": "code",
        "colab": {}
      },
      "source": [
        "# reduce memory \n",
        "tfidf_matrix = tfidf_matrix.astype(np.float32)"
      ],
      "execution_count": 0,
      "outputs": []
    },
    {
      "cell_type": "code",
      "metadata": {
        "id": "2ZwlJKk4roJM",
        "colab_type": "code",
        "outputId": "ffc93d5f-a9d1-4fdd-b7ac-086c8d9c7460",
        "colab": {
          "base_uri": "https://localhost:8080/",
          "height": 51
        }
      },
      "source": [
        "tfidf_matrix"
      ],
      "execution_count": 0,
      "outputs": [
        {
          "output_type": "execute_result",
          "data": {
            "text/plain": [
              "<10000x5000 sparse matrix of type '<class 'numpy.float32'>'\n",
              "\twith 2077663 stored elements in Compressed Sparse Row format>"
            ]
          },
          "metadata": {
            "tags": []
          },
          "execution_count": 42
        }
      ]
    },
    {
      "cell_type": "markdown",
      "metadata": {
        "id": "mwqgQwAbdAqG",
        "colab_type": "text"
      },
      "source": [
        "## Create Matrix of Word2Vec Features"
      ]
    },
    {
      "cell_type": "code",
      "metadata": {
        "id": "pyn8iahAwQNV",
        "colab_type": "code",
        "colab": {}
      },
      "source": [
        ""
      ],
      "execution_count": 0,
      "outputs": []
    },
    {
      "cell_type": "markdown",
      "metadata": {
        "id": "tK-5qkWX0fcK",
        "colab_type": "text"
      },
      "source": [
        "## Universal Encoder"
      ]
    },
    {
      "cell_type": "code",
      "metadata": {
        "id": "c1szPzWf0ohZ",
        "colab_type": "code",
        "colab": {}
      },
      "source": [
        "# load the Universal Sentence Encoder's TF Hub module\n",
        "\n",
        "# module_url = \"https://tfhub.dev/google/universal-sentence-encoder/4\" #param [\"https://tfhub.dev/google/universal-sentence-encoder/4\", \"https://tfhub.dev/google/universal-sentence-encoder-large/5\"]\n",
        "# model = hub.load(module_url)\n",
        "# print (\"module %s loaded\" % module_url)\n",
        "\n",
        "model = hub.load(\"w266/tmp\")\n"
      ],
      "execution_count": 0,
      "outputs": []
    },
    {
      "cell_type": "code",
      "metadata": {
        "id": "I89VehR_0osy",
        "colab_type": "code",
        "colab": {
          "base_uri": "https://localhost:8080/",
          "height": 1000
        },
        "outputId": "1c71a31a-4e4c-434a-e3c5-e36dbe1c6a57"
      },
      "source": [
        "# reduce logging output\n",
        "logging.set_verbosity(logging.ERROR)\n",
        "\n",
        "# compute a representation for each message\n",
        "message_embeddings = model(small_text)"
      ],
      "execution_count": 22,
      "outputs": [
        {
          "output_type": "error",
          "ename": "ResourceExhaustedError",
          "evalue": "ignored",
          "traceback": [
            "\u001b[0;31m---------------------------------------------------------------------------\u001b[0m",
            "\u001b[0;31mResourceExhaustedError\u001b[0m                    Traceback (most recent call last)",
            "\u001b[0;32m<ipython-input-22-d2375b170e83>\u001b[0m in \u001b[0;36m<module>\u001b[0;34m\u001b[0m\n\u001b[1;32m      2\u001b[0m \u001b[0;34m\u001b[0m\u001b[0m\n\u001b[1;32m      3\u001b[0m \u001b[0;31m# compute a representation for each message\u001b[0m\u001b[0;34m\u001b[0m\u001b[0;34m\u001b[0m\u001b[0;34m\u001b[0m\u001b[0m\n\u001b[0;32m----> 4\u001b[0;31m \u001b[0mmessage_embeddings\u001b[0m \u001b[0;34m=\u001b[0m \u001b[0mmodel\u001b[0m\u001b[0;34m(\u001b[0m\u001b[0msmall_text\u001b[0m\u001b[0;34m)\u001b[0m\u001b[0;34m\u001b[0m\u001b[0;34m\u001b[0m\u001b[0m\n\u001b[0m",
            "\u001b[0;32m~/anaconda3/lib/python3.7/site-packages/tensorflow_core/python/saved_model/load.py\u001b[0m in \u001b[0;36m_call_attribute\u001b[0;34m(instance, *args, **kwargs)\u001b[0m\n\u001b[1;32m    436\u001b[0m \u001b[0;34m\u001b[0m\u001b[0m\n\u001b[1;32m    437\u001b[0m \u001b[0;32mdef\u001b[0m \u001b[0m_call_attribute\u001b[0m\u001b[0;34m(\u001b[0m\u001b[0minstance\u001b[0m\u001b[0;34m,\u001b[0m \u001b[0;34m*\u001b[0m\u001b[0margs\u001b[0m\u001b[0;34m,\u001b[0m \u001b[0;34m**\u001b[0m\u001b[0mkwargs\u001b[0m\u001b[0;34m)\u001b[0m\u001b[0;34m:\u001b[0m\u001b[0;34m\u001b[0m\u001b[0;34m\u001b[0m\u001b[0m\n\u001b[0;32m--> 438\u001b[0;31m   \u001b[0;32mreturn\u001b[0m \u001b[0minstance\u001b[0m\u001b[0;34m.\u001b[0m\u001b[0m__call__\u001b[0m\u001b[0;34m(\u001b[0m\u001b[0;34m*\u001b[0m\u001b[0margs\u001b[0m\u001b[0;34m,\u001b[0m \u001b[0;34m**\u001b[0m\u001b[0mkwargs\u001b[0m\u001b[0;34m)\u001b[0m\u001b[0;34m\u001b[0m\u001b[0;34m\u001b[0m\u001b[0m\n\u001b[0m\u001b[1;32m    439\u001b[0m \u001b[0;34m\u001b[0m\u001b[0m\n\u001b[1;32m    440\u001b[0m \u001b[0;34m\u001b[0m\u001b[0m\n",
            "\u001b[0;32m~/anaconda3/lib/python3.7/site-packages/tensorflow_core/python/eager/def_function.py\u001b[0m in \u001b[0;36m__call__\u001b[0;34m(self, *args, **kwds)\u001b[0m\n\u001b[1;32m    566\u001b[0m         \u001b[0mxla_context\u001b[0m\u001b[0;34m.\u001b[0m\u001b[0mExit\u001b[0m\u001b[0;34m(\u001b[0m\u001b[0;34m)\u001b[0m\u001b[0;34m\u001b[0m\u001b[0;34m\u001b[0m\u001b[0m\n\u001b[1;32m    567\u001b[0m     \u001b[0;32melse\u001b[0m\u001b[0;34m:\u001b[0m\u001b[0;34m\u001b[0m\u001b[0;34m\u001b[0m\u001b[0m\n\u001b[0;32m--> 568\u001b[0;31m       \u001b[0mresult\u001b[0m \u001b[0;34m=\u001b[0m \u001b[0mself\u001b[0m\u001b[0;34m.\u001b[0m\u001b[0m_call\u001b[0m\u001b[0;34m(\u001b[0m\u001b[0;34m*\u001b[0m\u001b[0margs\u001b[0m\u001b[0;34m,\u001b[0m \u001b[0;34m**\u001b[0m\u001b[0mkwds\u001b[0m\u001b[0;34m)\u001b[0m\u001b[0;34m\u001b[0m\u001b[0;34m\u001b[0m\u001b[0m\n\u001b[0m\u001b[1;32m    569\u001b[0m \u001b[0;34m\u001b[0m\u001b[0m\n\u001b[1;32m    570\u001b[0m     \u001b[0;32mif\u001b[0m \u001b[0mtracing_count\u001b[0m \u001b[0;34m==\u001b[0m \u001b[0mself\u001b[0m\u001b[0;34m.\u001b[0m\u001b[0m_get_tracing_count\u001b[0m\u001b[0;34m(\u001b[0m\u001b[0;34m)\u001b[0m\u001b[0;34m:\u001b[0m\u001b[0;34m\u001b[0m\u001b[0;34m\u001b[0m\u001b[0m\n",
            "\u001b[0;32m~/anaconda3/lib/python3.7/site-packages/tensorflow_core/python/eager/def_function.py\u001b[0m in \u001b[0;36m_call\u001b[0;34m(self, *args, **kwds)\u001b[0m\n\u001b[1;32m    636\u001b[0m               *args, **kwds)\n\u001b[1;32m    637\u001b[0m       \u001b[0;31m# If we did not create any variables the trace we have is good enough.\u001b[0m\u001b[0;34m\u001b[0m\u001b[0;34m\u001b[0m\u001b[0;34m\u001b[0m\u001b[0m\n\u001b[0;32m--> 638\u001b[0;31m       \u001b[0;32mreturn\u001b[0m \u001b[0mself\u001b[0m\u001b[0;34m.\u001b[0m\u001b[0m_concrete_stateful_fn\u001b[0m\u001b[0;34m.\u001b[0m\u001b[0m_filtered_call\u001b[0m\u001b[0;34m(\u001b[0m\u001b[0mcanon_args\u001b[0m\u001b[0;34m,\u001b[0m \u001b[0mcanon_kwds\u001b[0m\u001b[0;34m)\u001b[0m  \u001b[0;31m# pylint: disable=protected-access\u001b[0m\u001b[0;34m\u001b[0m\u001b[0;34m\u001b[0m\u001b[0m\n\u001b[0m\u001b[1;32m    639\u001b[0m \u001b[0;34m\u001b[0m\u001b[0m\n\u001b[1;32m    640\u001b[0m     \u001b[0;32mdef\u001b[0m \u001b[0mfn_with_cond\u001b[0m\u001b[0;34m(\u001b[0m\u001b[0;34m*\u001b[0m\u001b[0minner_args\u001b[0m\u001b[0;34m,\u001b[0m \u001b[0;34m**\u001b[0m\u001b[0minner_kwds\u001b[0m\u001b[0;34m)\u001b[0m\u001b[0;34m:\u001b[0m\u001b[0;34m\u001b[0m\u001b[0;34m\u001b[0m\u001b[0m\n",
            "\u001b[0;32m~/anaconda3/lib/python3.7/site-packages/tensorflow_core/python/eager/function.py\u001b[0m in \u001b[0;36m_filtered_call\u001b[0;34m(self, args, kwargs)\u001b[0m\n\u001b[1;32m   1609\u001b[0m          if isinstance(t, (ops.Tensor,\n\u001b[1;32m   1610\u001b[0m                            resource_variable_ops.BaseResourceVariable))),\n\u001b[0;32m-> 1611\u001b[0;31m         self.captured_inputs)\n\u001b[0m\u001b[1;32m   1612\u001b[0m \u001b[0;34m\u001b[0m\u001b[0m\n\u001b[1;32m   1613\u001b[0m   \u001b[0;32mdef\u001b[0m \u001b[0m_call_flat\u001b[0m\u001b[0;34m(\u001b[0m\u001b[0mself\u001b[0m\u001b[0;34m,\u001b[0m \u001b[0margs\u001b[0m\u001b[0;34m,\u001b[0m \u001b[0mcaptured_inputs\u001b[0m\u001b[0;34m,\u001b[0m \u001b[0mcancellation_manager\u001b[0m\u001b[0;34m=\u001b[0m\u001b[0;32mNone\u001b[0m\u001b[0;34m)\u001b[0m\u001b[0;34m:\u001b[0m\u001b[0;34m\u001b[0m\u001b[0;34m\u001b[0m\u001b[0m\n",
            "\u001b[0;32m~/anaconda3/lib/python3.7/site-packages/tensorflow_core/python/eager/function.py\u001b[0m in \u001b[0;36m_call_flat\u001b[0;34m(self, args, captured_inputs, cancellation_manager)\u001b[0m\n\u001b[1;32m   1690\u001b[0m       \u001b[0;31m# No tape is watching; skip to running the function.\u001b[0m\u001b[0;34m\u001b[0m\u001b[0;34m\u001b[0m\u001b[0;34m\u001b[0m\u001b[0m\n\u001b[1;32m   1691\u001b[0m       return self._build_call_outputs(self._inference_function.call(\n\u001b[0;32m-> 1692\u001b[0;31m           ctx, args, cancellation_manager=cancellation_manager))\n\u001b[0m\u001b[1;32m   1693\u001b[0m     forward_backward = self._select_forward_and_backward_functions(\n\u001b[1;32m   1694\u001b[0m         \u001b[0margs\u001b[0m\u001b[0;34m,\u001b[0m\u001b[0;34m\u001b[0m\u001b[0;34m\u001b[0m\u001b[0m\n",
            "\u001b[0;32m~/anaconda3/lib/python3.7/site-packages/tensorflow_core/python/eager/function.py\u001b[0m in \u001b[0;36mcall\u001b[0;34m(self, ctx, args, cancellation_manager)\u001b[0m\n\u001b[1;32m    543\u001b[0m               \u001b[0minputs\u001b[0m\u001b[0;34m=\u001b[0m\u001b[0margs\u001b[0m\u001b[0;34m,\u001b[0m\u001b[0;34m\u001b[0m\u001b[0;34m\u001b[0m\u001b[0m\n\u001b[1;32m    544\u001b[0m               \u001b[0mattrs\u001b[0m\u001b[0;34m=\u001b[0m\u001b[0;34m(\u001b[0m\u001b[0;34m\"executor_type\"\u001b[0m\u001b[0;34m,\u001b[0m \u001b[0mexecutor_type\u001b[0m\u001b[0;34m,\u001b[0m \u001b[0;34m\"config_proto\"\u001b[0m\u001b[0;34m,\u001b[0m \u001b[0mconfig\u001b[0m\u001b[0;34m)\u001b[0m\u001b[0;34m,\u001b[0m\u001b[0;34m\u001b[0m\u001b[0;34m\u001b[0m\u001b[0m\n\u001b[0;32m--> 545\u001b[0;31m               ctx=ctx)\n\u001b[0m\u001b[1;32m    546\u001b[0m         \u001b[0;32melse\u001b[0m\u001b[0;34m:\u001b[0m\u001b[0;34m\u001b[0m\u001b[0;34m\u001b[0m\u001b[0m\n\u001b[1;32m    547\u001b[0m           outputs = execute.execute_with_cancellation(\n",
            "\u001b[0;32m~/anaconda3/lib/python3.7/site-packages/tensorflow_core/python/eager/execute.py\u001b[0m in \u001b[0;36mquick_execute\u001b[0;34m(op_name, num_outputs, inputs, attrs, ctx, name)\u001b[0m\n\u001b[1;32m     65\u001b[0m     \u001b[0;32melse\u001b[0m\u001b[0;34m:\u001b[0m\u001b[0;34m\u001b[0m\u001b[0;34m\u001b[0m\u001b[0m\n\u001b[1;32m     66\u001b[0m       \u001b[0mmessage\u001b[0m \u001b[0;34m=\u001b[0m \u001b[0me\u001b[0m\u001b[0;34m.\u001b[0m\u001b[0mmessage\u001b[0m\u001b[0;34m\u001b[0m\u001b[0;34m\u001b[0m\u001b[0m\n\u001b[0;32m---> 67\u001b[0;31m     \u001b[0msix\u001b[0m\u001b[0;34m.\u001b[0m\u001b[0mraise_from\u001b[0m\u001b[0;34m(\u001b[0m\u001b[0mcore\u001b[0m\u001b[0;34m.\u001b[0m\u001b[0m_status_to_exception\u001b[0m\u001b[0;34m(\u001b[0m\u001b[0me\u001b[0m\u001b[0;34m.\u001b[0m\u001b[0mcode\u001b[0m\u001b[0;34m,\u001b[0m \u001b[0mmessage\u001b[0m\u001b[0;34m)\u001b[0m\u001b[0;34m,\u001b[0m \u001b[0;32mNone\u001b[0m\u001b[0;34m)\u001b[0m\u001b[0;34m\u001b[0m\u001b[0;34m\u001b[0m\u001b[0m\n\u001b[0m\u001b[1;32m     68\u001b[0m   \u001b[0;32mexcept\u001b[0m \u001b[0mTypeError\u001b[0m \u001b[0;32mas\u001b[0m \u001b[0me\u001b[0m\u001b[0;34m:\u001b[0m\u001b[0;34m\u001b[0m\u001b[0;34m\u001b[0m\u001b[0m\n\u001b[1;32m     69\u001b[0m     keras_symbolic_tensors = [\n",
            "\u001b[0;32m~/anaconda3/lib/python3.7/site-packages/six.py\u001b[0m in \u001b[0;36mraise_from\u001b[0;34m(value, from_value)\u001b[0m\n",
            "\u001b[0;31mResourceExhaustedError\u001b[0m:  OOM when allocating tensor with shape[10000,49917] and type string on /job:localhost/replica:0/task:0/device:CPU:0 by allocator cpu\n\t [[{{node StatefulPartitionedCall/StatefulPartitionedCall/text_preprocessor/add_bigrams/concat}}]]\nHint: If you want to see a list of allocated tensors when OOM happens, add report_tensor_allocations_upon_oom to RunOptions for current allocation info.\n [Op:__inference_restored_function_body_15860]\n\nFunction call stack:\nrestored_function_body\n"
          ]
        }
      ]
    },
    {
      "cell_type": "code",
      "metadata": {
        "id": "yQIBcTS88NEu",
        "colab_type": "code",
        "colab": {
          "base_uri": "https://localhost:8080/",
          "height": 337
        },
        "outputId": "cf0f8cb2-22d6-45c8-a58d-90db3fd49660"
      },
      "source": [
        "# semantic similarity of two sentences can be trivially computed as the inner product of the encodings\n",
        "corr = np.inner(message_embeddings, message_embeddings)"
      ],
      "execution_count": 21,
      "outputs": [
        {
          "output_type": "error",
          "ename": "NotImplementedError",
          "evalue": "ignored",
          "traceback": [
            "\u001b[0;31m---------------------------------------------------------------------------\u001b[0m",
            "\u001b[0;31mNotImplementedError\u001b[0m                       Traceback (most recent call last)",
            "\u001b[0;32m<ipython-input-21-a051e04b2ab0>\u001b[0m in \u001b[0;36m<module>\u001b[0;34m\u001b[0m\n\u001b[0;32m----> 1\u001b[0;31m \u001b[0mcorr\u001b[0m \u001b[0;34m=\u001b[0m \u001b[0mnp\u001b[0m\u001b[0;34m.\u001b[0m\u001b[0minner\u001b[0m\u001b[0;34m(\u001b[0m\u001b[0mmessage_embeddings\u001b[0m\u001b[0;34m,\u001b[0m \u001b[0mmessage_embeddings\u001b[0m\u001b[0;34m)\u001b[0m\u001b[0;34m\u001b[0m\u001b[0;34m\u001b[0m\u001b[0m\n\u001b[0m",
            "\u001b[0;32m<__array_function__ internals>\u001b[0m in \u001b[0;36minner\u001b[0;34m(*args, **kwargs)\u001b[0m\n",
            "\u001b[0;32m~/anaconda3/lib/python3.7/site-packages/tensorflow_core/python/framework/ops.py\u001b[0m in \u001b[0;36m__array__\u001b[0;34m(self)\u001b[0m\n\u001b[1;32m    726\u001b[0m   \u001b[0;32mdef\u001b[0m \u001b[0m__array__\u001b[0m\u001b[0;34m(\u001b[0m\u001b[0mself\u001b[0m\u001b[0;34m)\u001b[0m\u001b[0;34m:\u001b[0m\u001b[0;34m\u001b[0m\u001b[0;34m\u001b[0m\u001b[0m\n\u001b[1;32m    727\u001b[0m     raise NotImplementedError(\"Cannot convert a symbolic Tensor ({}) to a numpy\"\n\u001b[0;32m--> 728\u001b[0;31m                               \" array.\".format(self.name))\n\u001b[0m\u001b[1;32m    729\u001b[0m \u001b[0;34m\u001b[0m\u001b[0m\n\u001b[1;32m    730\u001b[0m   \u001b[0;32mdef\u001b[0m \u001b[0m__len__\u001b[0m\u001b[0;34m(\u001b[0m\u001b[0mself\u001b[0m\u001b[0;34m)\u001b[0m\u001b[0;34m:\u001b[0m\u001b[0;34m\u001b[0m\u001b[0;34m\u001b[0m\u001b[0m\n",
            "\u001b[0;31mNotImplementedError\u001b[0m: Cannot convert a symbolic Tensor (StatefulPartitionedCall_1:0) to a numpy array."
          ]
        }
      ]
    },
    {
      "cell_type": "code",
      "metadata": {
        "id": "3Nn_UqU_AxFN",
        "colab_type": "code",
        "outputId": "2d4f3d39-a14d-4b0f-ba4b-dfc4a3312682",
        "colab": {
          "base_uri": "https://localhost:8080/",
          "height": 1000
        }
      },
      "source": [
        "# data frame of titles and semantic similarities\n",
        "corr_df = pd.DataFrame(corr)\n",
        "corr_df.columns = just_titles\n",
        "corr_df.index = just_titles\n",
        "\n",
        "corr_df.head()"
      ],
      "execution_count": 0,
      "outputs": [
        {
          "output_type": "execute_result",
          "data": {
            "text/html": [
              "<div>\n",
              "<style scoped>\n",
              "    .dataframe tbody tr th:only-of-type {\n",
              "        vertical-align: middle;\n",
              "    }\n",
              "\n",
              "    .dataframe tbody tr th {\n",
              "        vertical-align: top;\n",
              "    }\n",
              "\n",
              "    .dataframe thead th {\n",
              "        text-align: right;\n",
              "    }\n",
              "</style>\n",
              "<table border=\"1\" class=\"dataframe\">\n",
              "  <thead>\n",
              "    <tr style=\"text-align: right;\">\n",
              "      <th></th>\n",
              "      <th>Chaos in the Family, Chaos in the State: The White Working Class’s Dysfunction</th>\n",
              "      <th>US Civil Rights Commission Will Observe Standing Rock Standoff</th>\n",
              "      <th>Venezuela hunts rogue helicopter attackers, Maduro foes suspicious</th>\n",
              "      <th>Fruit juice isn’t much better for you than soda. Let’s stop pretending otherwise.</th>\n",
              "      <th>Sessions won’t testify at congressional budget hearings but at Senate intelligence hearing instead</th>\n",
              "      <th>Qatar: UAE and Saudi Arabia step up pressure in diplomatic crisis</th>\n",
              "      <th>’The 4-Hour Workweek’ author says a 3-step process he learned from Tony Robbins drastically improved his life</th>\n",
              "      <th>Rick Perry Attacked for Keeping His Word</th>\n",
              "      <th>Watch how a mathematician explains an astonishing coincidence</th>\n",
              "      <th>Second baby bald eagle begins hatching process at National Arboretum</th>\n",
              "      <th>In search of the Chibok girls and the meaning of their kidnapping</th>\n",
              "      <th>Biden Jokingly Thanks Trump for ’Making the American People Look in the Mirror’</th>\n",
              "      <th>Hillary Clinton’s plan to undo the school-to-prison pipeline, explained</th>\n",
              "      <th>HIV Was Likely Transmitted On A Gay Porn Set, CDC Reports</th>\n",
              "      <th>Man survives knife in eye socket</th>\n",
              "      <th>Viacom in talks with Jim Gianopulos to head Paramount</th>\n",
              "      <th>Emmanuel Macron Declared Next French President</th>\n",
              "      <th>Ivanka Trump cuts off Cosmo interview after tough questioning</th>\n",
              "      <th>Hillary Campaign Denies Report of Campaign Shake-up After New Hampshire</th>\n",
              "      <th>VIDEO: Alabama High School Girl Fires Stun Gun at Teacher</th>\n",
              "      <th>How Sexism Held Back Space Exploration</th>\n",
              "      <th>Trump-Clinton Showdown Most-Watched Debate in History</th>\n",
              "      <th>How Republicans came to embrace anti-environmentalism</th>\n",
              "      <th>Taliban storm German consulate in Afghan city, four killed</th>\n",
              "      <th>Lake Oroville dam: emergency staff race to fix spillway before more rain strikes</th>\n",
              "      <th>Viewsroom Predictions 2017: Part 2</th>\n",
              "      <th>Trump is finding it easier to tear down old policies than to build his own</th>\n",
              "      <th>Iran’s ex-president writes Obama on seized assets</th>\n",
              "      <th>U.S. charges Florida man in case linked to JPMorgan hacking probe</th>\n",
              "      <th>The real reason superrich people hate Obama</th>\n",
              "      <th>Trump Tower Lobby Evacuated by Police after Reports of Suspicious Package</th>\n",
              "      <th>Stormtrooper behind infamous ‘Star Wars’ blooper breaks his silence</th>\n",
              "      <th>Patient Diplomacy And A Reluctance To Act: Obama’s Mark On Foreign Policy</th>\n",
              "      <th>Millennials are totally mixed up about what they believe in</th>\n",
              "      <th>Cologne Police Attacked for ’Racial Profiling’ During NYE</th>\n",
              "      <th>BIAS ALERT: CNN reporter says Hannity, Limbaugh want Hillary ’dying’</th>\n",
              "      <th>Jill Stein files for recount in Wisconsin</th>\n",
              "      <th>A little-known Pakistani tribe that loves wine and whiskey fears its Muslim neighbors</th>\n",
              "      <th>Valeant to appoint interim CEO as Pearson remains hospitalized: source</th>\n",
              "      <th>Wall Street rises as data points to accelerating economy</th>\n",
              "      <th>...</th>\n",
              "      <th>This week we saw that the Republican Party — not just Trump — is the problem</th>\n",
              "      <th>What the holidays are like for a recovering alcoholic like me</th>\n",
              "      <th>Doping has always been part of the Olympics. Of course Russia got off the hook.</th>\n",
              "      <th>Here’s how to not to get old lady hands</th>\n",
              "      <th>Texas Health Officials Brace for More Zika Virus Cases After Six Confirmed Statewide</th>\n",
              "      <th>Cruz: Trump Attacked My Wife Because He’s ’Scared’</th>\n",
              "      <th>Canada says most border-crossing asylum seekers were in U.S. legally</th>\n",
              "      <th>LGBT employees protected from workplace discrimination, appeals court rules</th>\n",
              "      <th>Outgoing US ambassador: America is ’not an ethno-state’</th>\n",
              "      <th>We asked legal experts if Greg Gianforte can serve in Congress if he’s convicted of assault in reporter ’body-slam’ case</th>\n",
              "      <th>What next for Maria Sharapova as she prepares to appeal against her drug ban?</th>\n",
              "      <th>Donald Trump promises to deport 3 million “illegal immigrant criminals.” That’s literally impossible.</th>\n",
              "      <th>American democracy is winning... so far</th>\n",
              "      <th>USSS chief says ’No friction’ with Trump’s private security</th>\n",
              "      <th>The simple arithmetic that could jump-start America’s economic growth</th>\n",
              "      <th>Trump and Clinton join mourners at 9/11 anniversary ceremony</th>\n",
              "      <th>Lucille Ball statue needs a makeover, locals say</th>\n",
              "      <th>FBI monitored former Trump campaign adviser Carter Page on Russia</th>\n",
              "      <th>Dr. Jane Orient: ‘Universal Coverage Means Less Care’</th>\n",
              "      <th>Pro-Trump Art Show Finds New Venue, Despite Cancellation Attempt And Legal Threats</th>\n",
              "      <th>Marvel Comics Cancels Black Lives Matter-Themed ’Black Panther’ Due to Poor Sales</th>\n",
              "      <th>Libya national army recaptures oil ports at Sidra and Ras Lanuf</th>\n",
              "      <th>What Bernie Sanders needs to learn from Hillary Clinton, and vice versa</th>\n",
              "      <th>Stay angry after Manchester</th>\n",
              "      <th>TIME: Trump Loss Could Result in ’A New Right-Wing Populist Party, Anchored by a Trump-Breitbart-Ailes Media Empire’</th>\n",
              "      <th>Clinton Powers Through Super Tuesday, Sets Sights On Trump</th>\n",
              "      <th>Warren Buffett: I bought $12 billion of stock after Trump won</th>\n",
              "      <th>GOP Mega-Debate Blog</th>\n",
              "      <th>Volkswagen America Chief Michael Horn Resigns</th>\n",
              "      <th>Teenager Seeks to Honor Veterans of War by Preserving Their Stories</th>\n",
              "      <th>Auto CEOs want Trump to order review of 2025 fuel rules</th>\n",
              "      <th>Golden State Warriors NBA champions after downing Cavs</th>\n",
              "      <th>Look Who Now Refuses to ‘Accept the Result of This Election’</th>\n",
              "      <th>Obama Climate Plan, Now in Court, May Hinge on Error in 1990 Law</th>\n",
              "      <th>E.P.A. Head Stacks Agency With Climate Change Skeptics</th>\n",
              "      <th>Patient secretly recorded doctors as they operated on her. Should she be so distressed by what she heard?</th>\n",
              "      <th>Fox News Poll: Clinton edges Trump by two points one month ahead of election</th>\n",
              "      <th>The Atlantic  Politics &amp; Policy Daily: Trump’s Campaign Goes South</th>\n",
              "      <th>A Son In Chains. A Depressed Mom. Here’s What Helped</th>\n",
              "      <th>Trump’s expected VP pick: coal advocate who defied Obama’s climate agenda</th>\n",
              "    </tr>\n",
              "  </thead>\n",
              "  <tbody>\n",
              "    <tr>\n",
              "      <th>Chaos in the Family, Chaos in the State: The White Working Class’s Dysfunction</th>\n",
              "      <td>1.000000</td>\n",
              "      <td>0.291457</td>\n",
              "      <td>0.336936</td>\n",
              "      <td>0.256971</td>\n",
              "      <td>0.181461</td>\n",
              "      <td>0.282036</td>\n",
              "      <td>0.389551</td>\n",
              "      <td>0.316919</td>\n",
              "      <td>0.289691</td>\n",
              "      <td>0.295462</td>\n",
              "      <td>0.440229</td>\n",
              "      <td>0.249661</td>\n",
              "      <td>0.423986</td>\n",
              "      <td>0.195106</td>\n",
              "      <td>0.188498</td>\n",
              "      <td>0.195321</td>\n",
              "      <td>0.402051</td>\n",
              "      <td>0.435655</td>\n",
              "      <td>0.366493</td>\n",
              "      <td>0.194521</td>\n",
              "      <td>0.391413</td>\n",
              "      <td>0.230025</td>\n",
              "      <td>0.495496</td>\n",
              "      <td>0.290977</td>\n",
              "      <td>0.247193</td>\n",
              "      <td>0.392017</td>\n",
              "      <td>0.461511</td>\n",
              "      <td>0.259906</td>\n",
              "      <td>0.300757</td>\n",
              "      <td>0.300338</td>\n",
              "      <td>0.293250</td>\n",
              "      <td>0.180506</td>\n",
              "      <td>0.327410</td>\n",
              "      <td>0.595260</td>\n",
              "      <td>0.343602</td>\n",
              "      <td>0.284286</td>\n",
              "      <td>0.334819</td>\n",
              "      <td>0.395611</td>\n",
              "      <td>0.350891</td>\n",
              "      <td>0.332254</td>\n",
              "      <td>...</td>\n",
              "      <td>0.561130</td>\n",
              "      <td>0.288338</td>\n",
              "      <td>0.361339</td>\n",
              "      <td>0.142494</td>\n",
              "      <td>0.250517</td>\n",
              "      <td>0.356758</td>\n",
              "      <td>0.361094</td>\n",
              "      <td>0.315388</td>\n",
              "      <td>0.383622</td>\n",
              "      <td>0.305031</td>\n",
              "      <td>0.190893</td>\n",
              "      <td>0.402139</td>\n",
              "      <td>0.486652</td>\n",
              "      <td>0.357250</td>\n",
              "      <td>0.568888</td>\n",
              "      <td>0.356364</td>\n",
              "      <td>0.307867</td>\n",
              "      <td>0.251892</td>\n",
              "      <td>0.364093</td>\n",
              "      <td>0.377043</td>\n",
              "      <td>0.281445</td>\n",
              "      <td>0.223061</td>\n",
              "      <td>0.358147</td>\n",
              "      <td>0.368368</td>\n",
              "      <td>0.447582</td>\n",
              "      <td>0.444941</td>\n",
              "      <td>0.372099</td>\n",
              "      <td>0.338761</td>\n",
              "      <td>0.331583</td>\n",
              "      <td>0.277880</td>\n",
              "      <td>0.370325</td>\n",
              "      <td>0.228231</td>\n",
              "      <td>0.486348</td>\n",
              "      <td>0.346315</td>\n",
              "      <td>0.391943</td>\n",
              "      <td>0.235392</td>\n",
              "      <td>0.379992</td>\n",
              "      <td>0.467373</td>\n",
              "      <td>0.384896</td>\n",
              "      <td>0.380097</td>\n",
              "    </tr>\n",
              "    <tr>\n",
              "      <th>US Civil Rights Commission Will Observe Standing Rock Standoff</th>\n",
              "      <td>0.291457</td>\n",
              "      <td>1.000000</td>\n",
              "      <td>0.543982</td>\n",
              "      <td>0.109070</td>\n",
              "      <td>0.411541</td>\n",
              "      <td>0.422529</td>\n",
              "      <td>0.224046</td>\n",
              "      <td>0.271750</td>\n",
              "      <td>0.141546</td>\n",
              "      <td>0.381025</td>\n",
              "      <td>0.394586</td>\n",
              "      <td>0.254232</td>\n",
              "      <td>0.409052</td>\n",
              "      <td>0.303505</td>\n",
              "      <td>0.289978</td>\n",
              "      <td>0.238294</td>\n",
              "      <td>0.315366</td>\n",
              "      <td>0.248853</td>\n",
              "      <td>0.309557</td>\n",
              "      <td>0.357640</td>\n",
              "      <td>0.250740</td>\n",
              "      <td>0.227431</td>\n",
              "      <td>0.426162</td>\n",
              "      <td>0.446733</td>\n",
              "      <td>0.488827</td>\n",
              "      <td>0.257067</td>\n",
              "      <td>0.376665</td>\n",
              "      <td>0.325969</td>\n",
              "      <td>0.322797</td>\n",
              "      <td>0.119291</td>\n",
              "      <td>0.321066</td>\n",
              "      <td>0.198248</td>\n",
              "      <td>0.300885</td>\n",
              "      <td>0.227979</td>\n",
              "      <td>0.469392</td>\n",
              "      <td>0.302752</td>\n",
              "      <td>0.345799</td>\n",
              "      <td>0.344382</td>\n",
              "      <td>0.373645</td>\n",
              "      <td>0.357101</td>\n",
              "      <td>...</td>\n",
              "      <td>0.355217</td>\n",
              "      <td>0.242404</td>\n",
              "      <td>0.334919</td>\n",
              "      <td>0.098917</td>\n",
              "      <td>0.346023</td>\n",
              "      <td>0.277401</td>\n",
              "      <td>0.540610</td>\n",
              "      <td>0.404285</td>\n",
              "      <td>0.467805</td>\n",
              "      <td>0.479594</td>\n",
              "      <td>0.294901</td>\n",
              "      <td>0.278824</td>\n",
              "      <td>0.378827</td>\n",
              "      <td>0.364401</td>\n",
              "      <td>0.270305</td>\n",
              "      <td>0.365561</td>\n",
              "      <td>0.317745</td>\n",
              "      <td>0.303007</td>\n",
              "      <td>0.261098</td>\n",
              "      <td>0.460971</td>\n",
              "      <td>0.345169</td>\n",
              "      <td>0.525177</td>\n",
              "      <td>0.289962</td>\n",
              "      <td>0.312449</td>\n",
              "      <td>0.249073</td>\n",
              "      <td>0.296501</td>\n",
              "      <td>0.238153</td>\n",
              "      <td>0.218928</td>\n",
              "      <td>0.277692</td>\n",
              "      <td>0.453544</td>\n",
              "      <td>0.372918</td>\n",
              "      <td>0.220481</td>\n",
              "      <td>0.457202</td>\n",
              "      <td>0.428989</td>\n",
              "      <td>0.450195</td>\n",
              "      <td>0.283310</td>\n",
              "      <td>0.232701</td>\n",
              "      <td>0.420117</td>\n",
              "      <td>0.282087</td>\n",
              "      <td>0.371748</td>\n",
              "    </tr>\n",
              "    <tr>\n",
              "      <th>Venezuela hunts rogue helicopter attackers, Maduro foes suspicious</th>\n",
              "      <td>0.336936</td>\n",
              "      <td>0.543982</td>\n",
              "      <td>1.000000</td>\n",
              "      <td>0.106961</td>\n",
              "      <td>0.405647</td>\n",
              "      <td>0.540752</td>\n",
              "      <td>0.184615</td>\n",
              "      <td>0.287032</td>\n",
              "      <td>0.161188</td>\n",
              "      <td>0.340552</td>\n",
              "      <td>0.496353</td>\n",
              "      <td>0.262362</td>\n",
              "      <td>0.344230</td>\n",
              "      <td>0.302758</td>\n",
              "      <td>0.436904</td>\n",
              "      <td>0.283682</td>\n",
              "      <td>0.461428</td>\n",
              "      <td>0.242524</td>\n",
              "      <td>0.362011</td>\n",
              "      <td>0.350824</td>\n",
              "      <td>0.269456</td>\n",
              "      <td>0.266465</td>\n",
              "      <td>0.417118</td>\n",
              "      <td>0.556532</td>\n",
              "      <td>0.493539</td>\n",
              "      <td>0.361689</td>\n",
              "      <td>0.366373</td>\n",
              "      <td>0.475206</td>\n",
              "      <td>0.435180</td>\n",
              "      <td>0.242520</td>\n",
              "      <td>0.341805</td>\n",
              "      <td>0.239511</td>\n",
              "      <td>0.445015</td>\n",
              "      <td>0.262305</td>\n",
              "      <td>0.492565</td>\n",
              "      <td>0.324988</td>\n",
              "      <td>0.288255</td>\n",
              "      <td>0.364235</td>\n",
              "      <td>0.471169</td>\n",
              "      <td>0.401487</td>\n",
              "      <td>...</td>\n",
              "      <td>0.394198</td>\n",
              "      <td>0.259664</td>\n",
              "      <td>0.354480</td>\n",
              "      <td>0.102672</td>\n",
              "      <td>0.359986</td>\n",
              "      <td>0.391297</td>\n",
              "      <td>0.436070</td>\n",
              "      <td>0.323494</td>\n",
              "      <td>0.515974</td>\n",
              "      <td>0.440763</td>\n",
              "      <td>0.334845</td>\n",
              "      <td>0.313370</td>\n",
              "      <td>0.483248</td>\n",
              "      <td>0.324152</td>\n",
              "      <td>0.325420</td>\n",
              "      <td>0.372635</td>\n",
              "      <td>0.307279</td>\n",
              "      <td>0.311935</td>\n",
              "      <td>0.288056</td>\n",
              "      <td>0.355572</td>\n",
              "      <td>0.321760</td>\n",
              "      <td>0.608213</td>\n",
              "      <td>0.342764</td>\n",
              "      <td>0.411887</td>\n",
              "      <td>0.359434</td>\n",
              "      <td>0.285848</td>\n",
              "      <td>0.321542</td>\n",
              "      <td>0.272913</td>\n",
              "      <td>0.372750</td>\n",
              "      <td>0.332260</td>\n",
              "      <td>0.420927</td>\n",
              "      <td>0.220260</td>\n",
              "      <td>0.459930</td>\n",
              "      <td>0.459599</td>\n",
              "      <td>0.428584</td>\n",
              "      <td>0.283553</td>\n",
              "      <td>0.278399</td>\n",
              "      <td>0.467480</td>\n",
              "      <td>0.296813</td>\n",
              "      <td>0.345345</td>\n",
              "    </tr>\n",
              "    <tr>\n",
              "      <th>Fruit juice isn’t much better for you than soda. Let’s stop pretending otherwise.</th>\n",
              "      <td>0.256971</td>\n",
              "      <td>0.109070</td>\n",
              "      <td>0.106961</td>\n",
              "      <td>0.999999</td>\n",
              "      <td>0.052951</td>\n",
              "      <td>0.109257</td>\n",
              "      <td>0.242693</td>\n",
              "      <td>0.108912</td>\n",
              "      <td>0.146040</td>\n",
              "      <td>0.155383</td>\n",
              "      <td>0.169326</td>\n",
              "      <td>0.133344</td>\n",
              "      <td>0.213598</td>\n",
              "      <td>0.126937</td>\n",
              "      <td>0.060196</td>\n",
              "      <td>0.159555</td>\n",
              "      <td>0.138772</td>\n",
              "      <td>0.192490</td>\n",
              "      <td>0.207176</td>\n",
              "      <td>0.143686</td>\n",
              "      <td>0.137557</td>\n",
              "      <td>0.185294</td>\n",
              "      <td>0.137274</td>\n",
              "      <td>0.147131</td>\n",
              "      <td>0.198811</td>\n",
              "      <td>0.209470</td>\n",
              "      <td>0.215257</td>\n",
              "      <td>0.028350</td>\n",
              "      <td>0.150327</td>\n",
              "      <td>0.308400</td>\n",
              "      <td>0.139774</td>\n",
              "      <td>0.070090</td>\n",
              "      <td>0.156332</td>\n",
              "      <td>0.230201</td>\n",
              "      <td>0.104554</td>\n",
              "      <td>0.180427</td>\n",
              "      <td>0.168984</td>\n",
              "      <td>0.153244</td>\n",
              "      <td>0.168052</td>\n",
              "      <td>0.138021</td>\n",
              "      <td>...</td>\n",
              "      <td>0.221460</td>\n",
              "      <td>0.207075</td>\n",
              "      <td>0.317575</td>\n",
              "      <td>0.197903</td>\n",
              "      <td>0.139864</td>\n",
              "      <td>0.105257</td>\n",
              "      <td>0.175732</td>\n",
              "      <td>0.103050</td>\n",
              "      <td>0.113901</td>\n",
              "      <td>0.173156</td>\n",
              "      <td>0.232171</td>\n",
              "      <td>0.144789</td>\n",
              "      <td>0.197923</td>\n",
              "      <td>0.154879</td>\n",
              "      <td>0.322481</td>\n",
              "      <td>0.087798</td>\n",
              "      <td>0.172873</td>\n",
              "      <td>0.117933</td>\n",
              "      <td>0.257364</td>\n",
              "      <td>0.143244</td>\n",
              "      <td>0.164409</td>\n",
              "      <td>0.132387</td>\n",
              "      <td>0.279697</td>\n",
              "      <td>0.218400</td>\n",
              "      <td>0.146807</td>\n",
              "      <td>0.230288</td>\n",
              "      <td>0.201782</td>\n",
              "      <td>0.146811</td>\n",
              "      <td>0.203473</td>\n",
              "      <td>0.113018</td>\n",
              "      <td>0.163759</td>\n",
              "      <td>0.123956</td>\n",
              "      <td>0.148778</td>\n",
              "      <td>0.166097</td>\n",
              "      <td>0.169043</td>\n",
              "      <td>0.156256</td>\n",
              "      <td>0.197509</td>\n",
              "      <td>0.187718</td>\n",
              "      <td>0.171532</td>\n",
              "      <td>0.155491</td>\n",
              "    </tr>\n",
              "    <tr>\n",
              "      <th>Sessions won’t testify at congressional budget hearings but at Senate intelligence hearing instead</th>\n",
              "      <td>0.181461</td>\n",
              "      <td>0.411541</td>\n",
              "      <td>0.405647</td>\n",
              "      <td>0.052951</td>\n",
              "      <td>1.000000</td>\n",
              "      <td>0.384612</td>\n",
              "      <td>0.176325</td>\n",
              "      <td>0.368784</td>\n",
              "      <td>0.109351</td>\n",
              "      <td>0.225344</td>\n",
              "      <td>0.200232</td>\n",
              "      <td>0.323061</td>\n",
              "      <td>0.323962</td>\n",
              "      <td>0.133778</td>\n",
              "      <td>0.251900</td>\n",
              "      <td>0.239904</td>\n",
              "      <td>0.268766</td>\n",
              "      <td>0.330142</td>\n",
              "      <td>0.351093</td>\n",
              "      <td>0.248917</td>\n",
              "      <td>0.240766</td>\n",
              "      <td>0.312375</td>\n",
              "      <td>0.378555</td>\n",
              "      <td>0.293382</td>\n",
              "      <td>0.257763</td>\n",
              "      <td>0.151555</td>\n",
              "      <td>0.462101</td>\n",
              "      <td>0.324921</td>\n",
              "      <td>0.406046</td>\n",
              "      <td>0.240509</td>\n",
              "      <td>0.331039</td>\n",
              "      <td>0.240964</td>\n",
              "      <td>0.315641</td>\n",
              "      <td>0.168998</td>\n",
              "      <td>0.338324</td>\n",
              "      <td>0.366980</td>\n",
              "      <td>0.371093</td>\n",
              "      <td>0.167109</td>\n",
              "      <td>0.339653</td>\n",
              "      <td>0.317318</td>\n",
              "      <td>...</td>\n",
              "      <td>0.441263</td>\n",
              "      <td>0.191015</td>\n",
              "      <td>0.252760</td>\n",
              "      <td>0.121867</td>\n",
              "      <td>0.248112</td>\n",
              "      <td>0.301005</td>\n",
              "      <td>0.251728</td>\n",
              "      <td>0.340361</td>\n",
              "      <td>0.453017</td>\n",
              "      <td>0.501037</td>\n",
              "      <td>0.337584</td>\n",
              "      <td>0.303857</td>\n",
              "      <td>0.479369</td>\n",
              "      <td>0.345872</td>\n",
              "      <td>0.314085</td>\n",
              "      <td>0.267156</td>\n",
              "      <td>0.148301</td>\n",
              "      <td>0.582224</td>\n",
              "      <td>0.281912</td>\n",
              "      <td>0.256051</td>\n",
              "      <td>0.281738</td>\n",
              "      <td>0.379716</td>\n",
              "      <td>0.233785</td>\n",
              "      <td>0.174403</td>\n",
              "      <td>0.423505</td>\n",
              "      <td>0.244356</td>\n",
              "      <td>0.303939</td>\n",
              "      <td>0.328788</td>\n",
              "      <td>0.310806</td>\n",
              "      <td>0.153719</td>\n",
              "      <td>0.321637</td>\n",
              "      <td>0.142903</td>\n",
              "      <td>0.362913</td>\n",
              "      <td>0.371471</td>\n",
              "      <td>0.451796</td>\n",
              "      <td>0.283832</td>\n",
              "      <td>0.320866</td>\n",
              "      <td>0.450300</td>\n",
              "      <td>0.158671</td>\n",
              "      <td>0.378904</td>\n",
              "    </tr>\n",
              "  </tbody>\n",
              "</table>\n",
              "<p>5 rows × 10000 columns</p>\n",
              "</div>"
            ],
            "text/plain": [
              "                                                    Chaos in the Family, Chaos in the State: The White Working Class’s Dysfunction  ...  Trump’s expected VP pick: coal advocate who defied Obama’s climate agenda\n",
              "Chaos in the Family, Chaos in the State: The Wh...                                           1.000000                               ...                                           0.380097                        \n",
              " US Civil Rights Commission Will Observe Standi...                                           0.291457                               ...                                           0.371748                        \n",
              "Venezuela hunts rogue helicopter attackers, Mad...                                           0.336936                               ...                                           0.345345                        \n",
              "Fruit juice isn’t much better for you than soda...                                           0.256971                               ...                                           0.155491                        \n",
              "Sessions won’t testify at congressional budget ...                                           0.181461                               ...                                           0.378904                        \n",
              "\n",
              "[5 rows x 10000 columns]"
            ]
          },
          "metadata": {
            "tags": []
          },
          "execution_count": 27
        }
      ]
    },
    {
      "cell_type": "code",
      "metadata": {
        "id": "BzfcHB1YBFd-",
        "colab_type": "code",
        "outputId": "1e760539-c08e-40d7-8606-378d939bc273",
        "colab": {
          "base_uri": "https://localhost:8080/",
          "height": 462
        }
      },
      "source": [
        "# find index of 5 most similar titles \n",
        "top5_ind = [] \n",
        "for i in range(len(corr_df)):\n",
        "  top5_ind.append(list(list(zip(*heapq.nlargest(5, enumerate(corr_df.iloc[i,:]), key=operator.itemgetter(1))))[0]))\n",
        "\n",
        "# show most similar titles -- sanity check\n",
        "top5 = []\n",
        "for ind in top5_ind:\n",
        "  top5.append([just_titles[i] for i in ind])\n",
        "\n",
        "top5[:5]"
      ],
      "execution_count": 0,
      "outputs": [
        {
          "output_type": "execute_result",
          "data": {
            "text/plain": [
              "[['Chaos in the Family, Chaos in the State: The White Working Class’s Dysfunction',\n",
              "  'After Trump, conservatives should stop longing for the past — and learn a little humility',\n",
              "  'The alt-right is more than warmed-over white supremacy. It’s that, but way way weirder.',\n",
              "  'The Return of ‘Street Corner Conservatism’',\n",
              "  'Liberals should get behind marriage (Opinion)'],\n",
              " [' US Civil Rights Commission Will Observe Standing Rock\\xa0Standoff',\n",
              "  ' Cory Booker Calls For Federal Investigation Into Police Tactics At Dakota Access\\xa0Pipeline',\n",
              "  'Army will close Dakota pipeline protesters’ campsite, Sioux leader\\xa0says',\n",
              "  'Dakota Access Pipeline protest site is cleared',\n",
              "  'Protesters, Police Still Clashing Over Disputed North Dakota Pipeline'],\n",
              " ['Venezuela hunts rogue helicopter attackers, Maduro foes suspicious',\n",
              "  'Protester dies, minister sacked after Paraguay re-election vote',\n",
              "  'Venezuela Erupts In ’Mother Of All Protests’ As Anti-Maduro Sentiment Seethes',\n",
              "  'Confusion In Venezuela After Helicopter Attack On Supreme Court',\n",
              "  'Slain Venezuelan protester’s father appeals to ’friend’ Maduro'],\n",
              " ['Fruit juice isn’t much better for you than soda. Let’s stop pretending otherwise.',\n",
              "  'Tax Soda To Fight Obesity, WHO Urges Nations Around The Globe',\n",
              "  'How The Food Industry Manipulates Taste Buds With ’Salt Sugar Fat’',\n",
              "  ' Nutrition Labels Will Now Show Calories For The Whole Tub Of Ice\\xa0Cream',\n",
              "  'Philly’s Drink Tax Is Hurting Consumers, Businesses, and the Poor'],\n",
              " ['Sessions won’t testify at congressional budget hearings but at Senate intelligence hearing instead',\n",
              "  'Feinstein calls for investigation of ’all matters related to obstruction of justice’',\n",
              "  'Jeff Sessions Pushes Back On Parts Of Comey’s Testimony',\n",
              "  'Top Democrat calls for investigation of Loretta Lynch’s Clinton\\xa0probe',\n",
              "  ' Jeff Sessions Recuses Himself From Any Federal Investigation Into The Presidential Election']]"
            ]
          },
          "metadata": {
            "tags": []
          },
          "execution_count": 28
        }
      ]
    },
    {
      "cell_type": "code",
      "metadata": {
        "id": "HstcwU-620RZ",
        "colab_type": "code",
        "colab": {}
      },
      "source": [
        ""
      ],
      "execution_count": 0,
      "outputs": []
    },
    {
      "cell_type": "code",
      "metadata": {
        "id": "HwllfzHt20QO",
        "colab_type": "code",
        "outputId": "6e6bf950-4163-4ef0-ac31-3d5520f2139c",
        "colab": {
          "base_uri": "https://localhost:8080/",
          "height": 34
        }
      },
      "source": [
        "np.array(message_embeddings).shape"
      ],
      "execution_count": 0,
      "outputs": [
        {
          "output_type": "execute_result",
          "data": {
            "text/plain": [
              "(10000, 512)"
            ]
          },
          "metadata": {
            "tags": []
          },
          "execution_count": 36
        }
      ]
    },
    {
      "cell_type": "code",
      "metadata": {
        "id": "ZHMgPr4lpjyC",
        "colab_type": "code",
        "outputId": "446b40d5-ca47-40a1-cdf4-995bc31ee48e",
        "colab": {
          "base_uri": "https://localhost:8080/",
          "height": 255
        }
      },
      "source": [
        "message_embeddings"
      ],
      "execution_count": 0,
      "outputs": [
        {
          "output_type": "execute_result",
          "data": {
            "text/plain": [
              "<tf.Tensor: shape=(10000, 512), dtype=float32, numpy=\n",
              "array([[ 0.01333818, -0.05380408,  0.00232677, ...,  0.0533301 ,\n",
              "        -0.03825486,  0.04241087],\n",
              "       [-0.01210087, -0.01844358,  0.05187282, ...,  0.05565305,\n",
              "        -0.05972204,  0.04307982],\n",
              "       [-0.00471127, -0.04964766, -0.05074216, ...,  0.05359754,\n",
              "        -0.05339101, -0.05365704],\n",
              "       ...,\n",
              "       [-0.03098017, -0.05402634, -0.04946342, ...,  0.05646259,\n",
              "        -0.05528343, -0.04850345],\n",
              "       [ 0.0071629 , -0.05772226,  0.05848116, ...,  0.05804956,\n",
              "        -0.05633788, -0.05588677],\n",
              "       [ 0.03915349, -0.0549503 , -0.05372609, ...,  0.05495479,\n",
              "        -0.05285954,  0.03810295]], dtype=float32)>"
            ]
          },
          "metadata": {
            "tags": []
          },
          "execution_count": 35
        }
      ]
    },
    {
      "cell_type": "code",
      "metadata": {
        "id": "bi70kAvPrz6B",
        "colab_type": "code",
        "outputId": "759391bb-1814-4d24-da38-215eb4ca5b93",
        "colab": {
          "base_uri": "https://localhost:8080/",
          "height": 34
        }
      },
      "source": [
        " km.cluster_centers_.shape\n"
      ],
      "execution_count": 0,
      "outputs": [
        {
          "output_type": "execute_result",
          "data": {
            "text/plain": [
              "(25, 512)"
            ]
          },
          "metadata": {
            "tags": []
          },
          "execution_count": 37
        }
      ]
    },
    {
      "cell_type": "markdown",
      "metadata": {
        "id": "buQTeidTrTdd",
        "colab_type": "text"
      },
      "source": [
        "## Run KMeans Clustering "
      ]
    },
    {
      "cell_type": "code",
      "metadata": {
        "id": "qZOcpt_JzrJ5",
        "colab_type": "code",
        "colab": {}
      },
      "source": [
        "num_clusters = 25\n",
        "\n",
        "km = KMeans(n_clusters=num_clusters, random_state=10)\n",
        "\n",
        "#km.fit(tfidf_matrix)\n",
        "km.fit(message_embeddings)\n",
        "\n",
        "clusters = km.labels_.tolist()"
      ],
      "execution_count": 0,
      "outputs": []
    },
    {
      "cell_type": "code",
      "metadata": {
        "id": "PGgSlunJBdyB",
        "colab_type": "code",
        "colab": {}
      },
      "source": [
        "# cosine similarities for each row with cluster center\n",
        "#cos_sim = [cosine_similarity(tfidf_matrix[i].toarray(), km.cluster_centers_[label].reshape(1, -1))[0][0] for i,label in enumerate(km.labels_)]\n",
        "#cos_sim = [cosine_similarity(np.array(message_embeddings[i]).reshape(1, -1), km.cluster_centers_[label].reshape(1, -1))[0][0] for i,label in enumerate(km.labels_)]\n",
        "sem_sim = [np.inner(np.array(message_embeddings[i]).reshape(1, -1), km.cluster_centers_[label].reshape(1, -1))[0][0] for i,label in enumerate(km.labels_)]\n"
      ],
      "execution_count": 0,
      "outputs": []
    },
    {
      "cell_type": "code",
      "metadata": {
        "id": "ZvAUqB9N89BL",
        "colab_type": "code",
        "outputId": "714a2cb8-fab8-4098-a9d6-965e5983c90d",
        "colab": {
          "base_uri": "https://localhost:8080/",
          "height": 34
        }
      },
      "source": [
        "# sum of squared distances of samples to their closest cluster center.\n",
        "km.inertia_"
      ],
      "execution_count": 0,
      "outputs": [
        {
          "output_type": "execute_result",
          "data": {
            "text/plain": [
              "5733.665032091101"
            ]
          },
          "metadata": {
            "tags": []
          },
          "execution_count": 44
        }
      ]
    },
    {
      "cell_type": "code",
      "metadata": {
        "id": "N7g5G8jD6KMT",
        "colab_type": "code",
        "colab": {}
      },
      "source": [
        "# simple dataframe with title, cluster, and cosine similarity \n",
        "title_data = pd.DataFrame({'title':small_data.title, 'cluster':clusters, 'cos_sim':sem_sim})"
      ],
      "execution_count": 0,
      "outputs": []
    },
    {
      "cell_type": "code",
      "metadata": {
        "id": "W0jSRaADmGRv",
        "colab_type": "code",
        "outputId": "588a3355-9bc4-4e63-fa36-d444cdd81323",
        "colab": {
          "base_uri": "https://localhost:8080/",
          "height": 419
        }
      },
      "source": [
        "title_data"
      ],
      "execution_count": 0,
      "outputs": [
        {
          "output_type": "execute_result",
          "data": {
            "text/html": [
              "<div>\n",
              "<style scoped>\n",
              "    .dataframe tbody tr th:only-of-type {\n",
              "        vertical-align: middle;\n",
              "    }\n",
              "\n",
              "    .dataframe tbody tr th {\n",
              "        vertical-align: top;\n",
              "    }\n",
              "\n",
              "    .dataframe thead th {\n",
              "        text-align: right;\n",
              "    }\n",
              "</style>\n",
              "<table border=\"1\" class=\"dataframe\">\n",
              "  <thead>\n",
              "    <tr style=\"text-align: right;\">\n",
              "      <th></th>\n",
              "      <th>title</th>\n",
              "      <th>cluster</th>\n",
              "      <th>cos_sim</th>\n",
              "    </tr>\n",
              "  </thead>\n",
              "  <tbody>\n",
              "    <tr>\n",
              "      <th>0</th>\n",
              "      <td>Chaos in the Family, Chaos in the State: The W...</td>\n",
              "      <td>20</td>\n",
              "      <td>0.418738</td>\n",
              "    </tr>\n",
              "    <tr>\n",
              "      <th>1</th>\n",
              "      <td>US Civil Rights Commission Will Observe Stand...</td>\n",
              "      <td>20</td>\n",
              "      <td>0.404143</td>\n",
              "    </tr>\n",
              "    <tr>\n",
              "      <th>2</th>\n",
              "      <td>Venezuela hunts rogue helicopter attackers, Ma...</td>\n",
              "      <td>13</td>\n",
              "      <td>0.535839</td>\n",
              "    </tr>\n",
              "    <tr>\n",
              "      <th>3</th>\n",
              "      <td>Fruit juice isn’t much better for you than sod...</td>\n",
              "      <td>1</td>\n",
              "      <td>0.217789</td>\n",
              "    </tr>\n",
              "    <tr>\n",
              "      <th>4</th>\n",
              "      <td>Sessions won’t testify at congressional budget...</td>\n",
              "      <td>9</td>\n",
              "      <td>0.567057</td>\n",
              "    </tr>\n",
              "    <tr>\n",
              "      <th>...</th>\n",
              "      <td>...</td>\n",
              "      <td>...</td>\n",
              "      <td>...</td>\n",
              "    </tr>\n",
              "    <tr>\n",
              "      <th>9995</th>\n",
              "      <td>Patient secretly recorded doctors as they oper...</td>\n",
              "      <td>7</td>\n",
              "      <td>0.319828</td>\n",
              "    </tr>\n",
              "    <tr>\n",
              "      <th>9996</th>\n",
              "      <td>Fox News Poll: Clinton edges Trump by two poin...</td>\n",
              "      <td>2</td>\n",
              "      <td>0.519872</td>\n",
              "    </tr>\n",
              "    <tr>\n",
              "      <th>9997</th>\n",
              "      <td>The Atlantic  Politics &amp; Policy Daily: Trump’s...</td>\n",
              "      <td>23</td>\n",
              "      <td>0.562736</td>\n",
              "    </tr>\n",
              "    <tr>\n",
              "      <th>9998</th>\n",
              "      <td>A Son In Chains. A Depressed Mom. Here’s What ...</td>\n",
              "      <td>7</td>\n",
              "      <td>0.344693</td>\n",
              "    </tr>\n",
              "    <tr>\n",
              "      <th>9999</th>\n",
              "      <td>Trump’s expected VP pick: coal advocate who de...</td>\n",
              "      <td>19</td>\n",
              "      <td>0.424698</td>\n",
              "    </tr>\n",
              "  </tbody>\n",
              "</table>\n",
              "<p>10000 rows × 3 columns</p>\n",
              "</div>"
            ],
            "text/plain": [
              "                                                  title  cluster   cos_sim\n",
              "0     Chaos in the Family, Chaos in the State: The W...       20  0.418738\n",
              "1      US Civil Rights Commission Will Observe Stand...       20  0.404143\n",
              "2     Venezuela hunts rogue helicopter attackers, Ma...       13  0.535839\n",
              "3     Fruit juice isn’t much better for you than sod...        1  0.217789\n",
              "4     Sessions won’t testify at congressional budget...        9  0.567057\n",
              "...                                                 ...      ...       ...\n",
              "9995  Patient secretly recorded doctors as they oper...        7  0.319828\n",
              "9996  Fox News Poll: Clinton edges Trump by two poin...        2  0.519872\n",
              "9997  The Atlantic  Politics & Policy Daily: Trump’s...       23  0.562736\n",
              "9998  A Son In Chains. A Depressed Mom. Here’s What ...        7  0.344693\n",
              "9999  Trump’s expected VP pick: coal advocate who de...       19  0.424698\n",
              "\n",
              "[10000 rows x 3 columns]"
            ]
          },
          "metadata": {
            "tags": []
          },
          "execution_count": 50
        }
      ]
    },
    {
      "cell_type": "code",
      "metadata": {
        "id": "BCKbniucOLbA",
        "colab_type": "code",
        "outputId": "7f861dbc-2dde-4eed-b8d0-69464039d4c8",
        "colab": {
          "base_uri": "https://localhost:8080/",
          "height": 1000
        }
      },
      "source": [
        "# inspect titles with highest cosine similarity in clusters \n",
        "top_5 = title_data.groupby('cluster')['cos_sim'].nlargest(5)\n",
        "for i,ind in top_5.index:\n",
        "  print(\"cluster\", i)\n",
        "  print(just_titles[ind])\n",
        "  print('-------------')"
      ],
      "execution_count": 0,
      "outputs": [
        {
          "output_type": "stream",
          "text": [
            "cluster 0\n",
            "11 buzzy films to watch, fresh from Sundance\n",
            "-------------\n",
            "cluster 0\n",
            "The 21 best movies of 2016\n",
            "-------------\n",
            "cluster 0\n",
            "50 Wonderful Things From 2016\n",
            "-------------\n",
            "cluster 0\n",
            "What you need to watch in January\n",
            "-------------\n",
            "cluster 0\n",
            "Meet the season’s five best TV scene stealers\n",
            "-------------\n",
            "cluster 1\n",
            "Routine DNA Sequencing May Be Helpful And Not As Scary As Feared\n",
            "-------------\n",
            "cluster 1\n",
            "’Minibrains’ Could Help Drug Discovery For Zika And For Alzheimer’s \n",
            "-------------\n",
            "cluster 1\n",
            "Can Web Search Predict Cancer? Promise And Worry Of Big Data And Health\n",
            "-------------\n",
            "cluster 1\n",
            "Drugs That Work In Mice Often Fail When Tried In People\n",
            "-------------\n",
            "cluster 1\n",
            " At Gene Editing Meeting, Scientists Discuss God, Racism, Designer Babies\n",
            "-------------\n",
            "cluster 2\n",
            "Toned-down Trump does not mean retreat from policy: aide\n",
            "-------------\n",
            "cluster 2\n",
            "The GOP now belongs to Trump. What are Republicans going to do about it?\n",
            "-------------\n",
            "cluster 2\n",
            "Trump In Triumph: The Man Who Wasn’t Welcome In The Game Takes Home The Prize\n",
            "-------------\n",
            "cluster 2\n",
            "Trump’s surge confounds rivals, makes him betting favorite\n",
            "-------------\n",
            "cluster 2\n",
            "Karl Rove: Key questions this week for Trump, Hillary\n",
            "-------------\n",
            "cluster 3\n",
            "Nice attack: Ties to ISIS not yet established, official says\n",
            "-------------\n",
            "cluster 3\n",
            "Wounded fight for life in Nice as killer’s brother tells of pre-attack call\n",
            "-------------\n",
            "cluster 3\n",
            "Germany’s first attack by radicalised asylum seeker alarms officials\n",
            "-------------\n",
            "cluster 3\n",
            "Islamic State suspected after suicide bombers kill 42 at Istanbul airport\n",
            "-------------\n",
            "cluster 3\n",
            " Live Updates: ISIS Claims Responsibility For Truck Attack That Claimed 84 Lives In Nice, France\n",
            "-------------\n",
            "cluster 4\n",
            " Watch This Judge: A Conservative Happy Warrior Dons Black Robes\n",
            "-------------\n",
            "cluster 4\n",
            "Trump and Republicans face a fresh test to shape Supreme Court, assert their power with Gorsuch hearings\n",
            "-------------\n",
            "cluster 4\n",
            "The Supreme Courtâ€™s choice: chaos or more chaos\n",
            "-------------\n",
            "cluster 4\n",
            "Gorsuch’s big fat lie\n",
            "-------------\n",
            "cluster 4\n",
            "Republicans Praise Gorsuch, Democrats Decry Garland Treatment On Day 1 Of Hearings\n",
            "-------------\n",
            "cluster 5\n",
            "Fatal shooting of Kansas City police officer not premeditated, authorities say\n",
            "-------------\n",
            "cluster 5\n",
            "Woman records horrific scene after boyfriend is fatally shot by police\n",
            "-------------\n",
            "cluster 5\n",
            " Protests break out in Milwaukee after officer fatally shoots man\n",
            "-------------\n",
            "cluster 5\n",
            "Police Officer Shot, Killed During Traffic Stop\n",
            "-------------\n",
            "cluster 5\n",
            "Maryland Cop Killed by Fellow Officers During Ambush, Says Police Chief\n",
            "-------------\n",
            "cluster 6\n",
            "Dollar hits eight-month high; stocks post weekly gain\n",
            "-------------\n",
            "cluster 6\n",
            "Pharma, bank stocks pull Wall Street lower\n",
            "-------------\n",
            "cluster 6\n",
            "Wall Street rises as data points to accelerating economy\n",
            "-------------\n",
            "cluster 6\n",
            "Oil falls 5 percent on supply woes; euro up before French vote\n",
            "-------------\n",
            "cluster 6\n",
            "Wall Street ticks up as hawkish Fed fears ebb; Apple weighs\n",
            "-------------\n",
            "cluster 7\n",
            "#NPRreads: 4 Winning Stories To Tackle This Weekend\n",
            "-------------\n",
            "cluster 7\n",
            "Annie Proulx: ‘I’ve had a life. I see how slippery things can be’\n",
            "-------------\n",
            "cluster 7\n",
            "Slain jogger’s dad can’t bear holidays: ‘There’s nothing for me to celebrate’\n",
            "-------------\n",
            "cluster 7\n",
            "What One Family Sacrificed To Help Black People Vote In 1966\n",
            "-------------\n",
            "cluster 7\n",
            "The unknown power couple behind Hollywood’s greatest hits\n",
            "-------------\n",
            "cluster 8\n",
            "In high-level talks, U.S. asks China to do more to rein in North Korea\n",
            "-------------\n",
            "cluster 8\n",
            "Tillerson: China agrees on ’action’ on North Korea as navy strike group sails\n",
            "-------------\n",
            "cluster 8\n",
            "Trump, China’s top diplomat, discuss cooperation, possible Xi meeting\n",
            "-------------\n",
            "cluster 8\n",
            "North Korea missile launch marks a direct challenge to Trump administration\n",
            "-------------\n",
            "cluster 8\n",
            "John Bolton: Left ‘Engaging in Collective Hysteria’ Because They Cannot Make ‘Substantive Arguments’ Against Trump Policies\n",
            "-------------\n",
            "cluster 9\n",
            "Trump knows the feds are closing in on him\n",
            "-------------\n",
            "cluster 9\n",
            "Comey to be pressed on whether Trump interfered with Russia probe\n",
            "-------------\n",
            "cluster 9\n",
            "Senate intelligence committee to question Trump team on links with Russia\n",
            "-------------\n",
            "cluster 9\n",
            "The FBI probe into Trump and Russia is huge news. Our political system isn’t ready for it.\n",
            "-------------\n",
            "cluster 9\n",
            "Trump finds himself exactly where he doesn’t want to be\n",
            "-------------\n",
            "cluster 10\n",
            "Investigators are trying to figure out whether a corrupt Chicago cop tainted additional drug convictions\n",
            "-------------\n",
            "cluster 10\n",
            "NBA star Derrick Rose and friends cleared in rape case\n",
            "-------------\n",
            "cluster 10\n",
            "Derrick Rose rape trial: LAPD detective’s apparent suicide complicates case\n",
            "-------------\n",
            "cluster 10\n",
            "Judge declares mistrial in ex-South Carolina policeman’s murder trial\n",
            "-------------\n",
            "cluster 10\n",
            "Texas Rape Victim Was Jailed for Fear She Would Not Testify, Lawsuit Says \n",
            "-------------\n",
            "cluster 11\n",
            "A Blunt Message After ‘Brexit’: Bolting Will Carry a Heavy Price \n",
            "-------------\n",
            "cluster 11\n",
            "Europe’s populist wave encounters first test with votes in Italy and Austria\n",
            "-------------\n",
            "cluster 11\n",
            "Next EU Prez: ’Islam Has No Place’... ’Migrants Change The Character Of Our Country’\n",
            "-------------\n",
            "cluster 11\n",
            "Why the Brexit vote is so close\n",
            "-------------\n",
            "cluster 11\n",
            "Brussels ’Crossing Fingers’ For Macron in French Vote\n",
            "-------------\n",
            "cluster 12\n",
            "23 killed in West Virginia floods that swept preschooler away from grandfather’s reach\n",
            "-------------\n",
            "cluster 12\n",
            "At least 26 dead in West Virginia flooding\n",
            "-------------\n",
            "cluster 12\n",
            "As floods threaten N.C., officials urge: ‘Move to higher ground now’\n",
            "-------------\n",
            "cluster 12\n",
            "More than 280 reported dead in Haiti as extent of Hurricane Matthew damage comes into focus\n",
            "-------------\n",
            "cluster 12\n",
            "Deadly California wildfire destroys 150 homes, more threatened\n",
            "-------------\n",
            "cluster 13\n",
            "Venezuela hunts rogue helicopter attackers, Maduro foes suspicious\n",
            "-------------\n",
            "cluster 13\n",
            "Ranks of Political Prisoners Grow as Democracy Ebbs in Venezuela \n",
            "-------------\n",
            "cluster 13\n",
            "Protester dies, minister sacked after Paraguay re-election vote\n",
            "-------------\n",
            "cluster 13\n",
            "Ex-coup leader, DEA fugitive wins Haitian Senate seat\n",
            "-------------\n",
            "cluster 13\n",
            "Slain Venezuelan protester’s father appeals to ’friend’ Maduro\n",
            "-------------\n",
            "cluster 14\n",
            "Tracking the special treatment media get when they play nice with the White House\n",
            "-------------\n",
            "cluster 14\n",
            "The Atlantic  Politics & Policy Daily: Can Anybody Read This?\n",
            "-------------\n",
            "cluster 14\n",
            "Trump TV Offers (Fledgling) Framework for Potential Media Future \n",
            "-------------\n",
            "cluster 14\n",
            "Guardian journalists denied entry into Donald Trump UK event\n",
            "-------------\n",
            "cluster 14\n",
            "Calls emerge for a boycott of the White House Correspondents’ Association dinner\n",
            "-------------\n",
            "cluster 15\n",
            "In Syria and Iraq, the Islamic State is in retreat on multiple fronts\n",
            "-------------\n",
            "cluster 15\n",
            "Tillerson pledges safe areas for refugees, more pressure on Islamic State\n",
            "-------------\n",
            "cluster 15\n",
            "U.S. air raid hits Islamic State in Libya, 43 dead\n",
            "-------------\n",
            "cluster 15\n",
            "Syrian rebels see flaws in U.S.-Russian truce plan\n",
            "-------------\n",
            "cluster 15\n",
            "U.S. Strengthens Its Forces in a Crowded Syrian Battlefield \n",
            "-------------\n",
            "cluster 16\n",
            "House Republicans repeal Obamacare, hurdles await in U.S. Senate\n",
            "-------------\n",
            "cluster 16\n",
            "GOP Looks To Trump’s Address To Rally Lawmakers Around An Obamacare Strategy\n",
            "-------------\n",
            "cluster 16\n",
            "Republicans rush to prevent health bill’s collapse after vote postponed\n",
            "-------------\n",
            "cluster 16\n",
            "Ahead Of Trump Visit To Hill, GOP Unveils Changes To Repeal Bill\n",
            "-------------\n",
            "cluster 16\n",
            "House Republicans plan Thursday vote on bill to repeal and replace Obamacare\n",
            "-------------\n",
            "cluster 17\n",
            "Showdown looms between Trump administration, sanctuary cities\n",
            "-------------\n",
            "cluster 17\n",
            "L.A. Sheriff Faces Protests for Opposition to ’Sanctuary State’ \n",
            "-------------\n",
            "cluster 17\n",
            "Hispanic lawmakers make third ask for meeting to admin \n",
            "-------------\n",
            "cluster 17\n",
            "Federal agents conduct immigration enforcement raids in at least six states\n",
            "-------------\n",
            "cluster 17\n",
            "ICE Union Head Savages Paul Ryan on Out-Of-Control Illegal Immigration \n",
            "-------------\n",
            "cluster 18\n",
            "Hillary Campaign Denies Report of Campaign Shake-up After New Hampshire \n",
            "-------------\n",
            "cluster 18\n",
            "Sorry, Hillary: You are the establishment\n",
            "-------------\n",
            "cluster 18\n",
            "Being Moody: Where Bernie Sanders is king\n",
            "-------------\n",
            "cluster 18\n",
            "Can we please be really truly done with Hillary?\n",
            "-------------\n",
            "cluster 18\n",
            "Politico: Hillary Campaign Plans ‘Run-Out-the-Clock Strategy’ to Dodge Clinton Foundation Scandals\n",
            "-------------\n",
            "cluster 19\n",
            "U.S. industry seeks faster permits, simpler rules in Trump regulation reset\n",
            "-------------\n",
            "cluster 19\n",
            "Big win for automakers as Trump orders fuel economy standards review\n",
            "-------------\n",
            "cluster 19\n",
            "EPA to pull back on fuel-efficiency standards for cars, trucks in future model years\n",
            "-------------\n",
            "cluster 19\n",
            "DELINGPOLE: Donald Trump’s Environment Chief Could be his Best Pick Yet...\n",
            "-------------\n",
            "cluster 19\n",
            "Bid to revoke Obama methane rule fails in surprise U.S. Senate vote\n",
            "-------------\n",
            "cluster 20\n",
            "Ciccotta: Guest Speaker’s Call to Violence Reveals Bucknell’s Radicalism \n",
            "-------------\n",
            "cluster 20\n",
            "The Oregon standoff and America’s double standards on race and religion\n",
            "-------------\n",
            "cluster 20\n",
            "Milo Yiannopoulos is trying to convince colleges that hate speech is cool\n",
            "-------------\n",
            "cluster 20\n",
            "Yes, there is a free speech crisis. But its victims are not white men\n",
            "-------------\n",
            "cluster 20\n",
            "Hate speech seeps into U.S. mainstream amid bitter campaign\n",
            "-------------\n",
            "cluster 21\n",
            "A man for Four Seasons: my goodbye to New York’s modernist cathedral\n",
            "-------------\n",
            "cluster 21\n",
            "What Hollywood’s favorite designer buys for herself\n",
            "-------------\n",
            "cluster 21\n",
            "‘Monk’ star nabs new NYC home\n",
            "-------------\n",
            "cluster 21\n",
            "More Than Coffee: New York’s Vanishing Diner Culture \n",
            "-------------\n",
            "cluster 21\n",
            "Brooklyn’s wildest artist tames parrots, collects harps and talks to Abe Lincoln’s ghost\n",
            "-------------\n",
            "cluster 22\n",
            "A year ago, Google blew itself up to become Alphabet — and a lot has changed since then ...\n",
            "-------------\n",
            "cluster 22\n",
            "Google to revamp policies, hire staff after UK ad scandal\n",
            "-------------\n",
            "cluster 22\n",
            "Wal-Mart says tech investments will boost online sales\n",
            "-------------\n",
            "cluster 22\n",
            "Amazon revenue soars as cloud, retail businesses dominate\n",
            "-------------\n",
            "cluster 22\n",
            "Snapchat Files $3 Billion IPO, But May Never Be Profitable\n",
            "-------------\n",
            "cluster 23\n",
            "6 takeaways from Trump’s Times meeting\n",
            "-------------\n",
            "cluster 23\n",
            "Donald Trump’s candidacy is the first time American politics has left me truly afraid\n",
            "-------------\n",
            "cluster 23\n",
            "Donald Trump: The Art of Self-Sabotage\n",
            "-------------\n",
            "cluster 23\n",
            "Trump Time Capsule #38: Two Lists\n",
            "-------------\n",
            "cluster 23\n",
            "Trump Wins. Now What?  \n",
            "-------------\n",
            "cluster 24\n",
            "A late HR to save a sinking team? Mets’ eerie July 31 flashback\n",
            "-------------\n",
            "cluster 24\n",
            "Stop pandering to MLB stars who get hurt because they don’t hustle\n",
            "-------------\n",
            "cluster 24\n",
            "Why the name James Kaprielian represents the new Yankee way\n",
            "-------------\n",
            "cluster 24\n",
            "Ryan Howard desperately reminds baseball: I’m not retired\n",
            "-------------\n",
            "cluster 24\n",
            "Steve Lombardozzi’s journey from the Washington Nationals to Crustacean Nation\n",
            "-------------\n"
          ],
          "name": "stdout"
        }
      ]
    },
    {
      "cell_type": "code",
      "metadata": {
        "id": "GIKKD6VrSCtd",
        "colab_type": "code",
        "outputId": "7174cb22-f80a-4b07-8d2e-613e775d783f",
        "colab": {
          "base_uri": "https://localhost:8080/",
          "height": 238
        }
      },
      "source": [
        "top_5"
      ],
      "execution_count": 0,
      "outputs": [
        {
          "output_type": "execute_result",
          "data": {
            "text/plain": [
              "cluster      \n",
              "0        7113    0.447678\n",
              "         6807    0.443326\n",
              "         9247    0.439750\n",
              "         4082    0.437896\n",
              "         6401    0.437303\n",
              "                   ...   \n",
              "24       8908    0.440174\n",
              "         2859    0.439857\n",
              "         9265    0.431000\n",
              "         8623    0.420604\n",
              "         6322    0.418994\n",
              "Name: cos_sim, Length: 125, dtype: float64"
            ]
          },
          "metadata": {
            "tags": []
          },
          "execution_count": 52
        }
      ]
    },
    {
      "cell_type": "markdown",
      "metadata": {
        "id": "AgFJfTEFwFDo",
        "colab_type": "text"
      },
      "source": [
        "## Predict Input"
      ]
    },
    {
      "cell_type": "code",
      "metadata": {
        "id": "szMoBqi1wSuD",
        "colab_type": "code",
        "colab": {}
      },
      "source": [
        "input_topic = [\"Hillary Clinton defends handling of Benghazi attack\", \"Women's March Highlights\", \"Hillary Clinton emails\"]"
      ],
      "execution_count": 0,
      "outputs": []
    },
    {
      "cell_type": "code",
      "metadata": {
        "id": "Y4feyPvMwObG",
        "colab_type": "code",
        "colab": {}
      },
      "source": [
        "# run tfidf on input \n",
        "#tfidf_input = tfidf_vectorizer.transform(input_topic)\n",
        "\n",
        "# make list of tfidf_input\n",
        "#tfidf_input = [tfidf_input.getrow(i).toarray()[0].tolist() for i in range(tfidf_input.shape[0])]"
      ],
      "execution_count": 0,
      "outputs": []
    },
    {
      "cell_type": "code",
      "metadata": {
        "id": "6mtCkj3iwdvH",
        "colab_type": "code",
        "colab": {}
      },
      "source": [
        "# run encoder on input \n",
        "enc_input = embed(input_topic)\n",
        "\n",
        "# make list of enc_input\n",
        "enc_input = [list(np.array(enc_input)[i]) for i in range(enc_input.shape[0])]"
      ],
      "execution_count": 0,
      "outputs": []
    },
    {
      "cell_type": "code",
      "metadata": {
        "id": "pWK5pgF-s8JX",
        "colab_type": "code",
        "colab": {}
      },
      "source": [
        "# make list of tfidf_matrix\n",
        "#tfidf_list = [tfidf_matrix.getrow(i).toarray()[0].tolist() for i in range(tfidf_matrix.shape[0])]\n"
      ],
      "execution_count": 0,
      "outputs": []
    },
    {
      "cell_type": "code",
      "metadata": {
        "id": "_dLiQxWSwfJC",
        "colab_type": "code",
        "colab": {}
      },
      "source": [
        "# make list of message_embeddings\n",
        "enc_list = [list(np.array(message_embeddings)[i]) for i in range(message_embeddings.shape[0])]\n"
      ],
      "execution_count": 0,
      "outputs": []
    },
    {
      "cell_type": "code",
      "metadata": {
        "id": "wF5olG5tYnDs",
        "colab_type": "code",
        "outputId": "e585307b-005a-43aa-c4d6-e14469bd0595",
        "colab": {
          "base_uri": "https://localhost:8080/",
          "height": 34
        }
      },
      "source": [
        "len(title_data.cluster)"
      ],
      "execution_count": 0,
      "outputs": [
        {
          "output_type": "execute_result",
          "data": {
            "text/plain": [
              "10000"
            ]
          },
          "metadata": {
            "tags": []
          },
          "execution_count": 81
        }
      ]
    },
    {
      "cell_type": "code",
      "metadata": {
        "id": "hcdaRmCDlnXt",
        "colab_type": "code",
        "colab": {}
      },
      "source": [
        "# np.random.seed(5)\n",
        "# X_train = tfidf_list\n",
        "# y_train = title_data.cluster\n",
        "# X_test  = tfidf_input\n",
        "\n",
        "# # Create and fit a nearest-neighbor classifier\n",
        "# from sklearn.neighbors import KNeighborsClassifier\n",
        "# knn = KNeighborsClassifier()\n",
        "# knn.fit(X_train, y_train) \n",
        "\n",
        "# res = knn.predict(X_test)"
      ],
      "execution_count": 0,
      "outputs": []
    },
    {
      "cell_type": "code",
      "metadata": {
        "id": "0zvRwjAtZhDK",
        "colab_type": "code",
        "colab": {}
      },
      "source": [
        "np.random.seed(5)\n",
        "X_train = enc_list\n",
        "y_train = title_data.cluster\n",
        "X_test  = enc_input\n",
        "\n",
        "# Create and fit a nearest-neighbor classifier\n",
        "from sklearn.neighbors import KNeighborsClassifier\n",
        "knn = KNeighborsClassifier()\n",
        "knn.fit(X_train, y_train) \n",
        "\n",
        "res = knn.predict(X_test)"
      ],
      "execution_count": 0,
      "outputs": []
    },
    {
      "cell_type": "code",
      "metadata": {
        "id": "AuXKhKub7Ov_",
        "colab_type": "code",
        "outputId": "f6b7a116-0374-4dd3-dbbd-2f2b244c91c1",
        "colab": {
          "base_uri": "https://localhost:8080/",
          "height": 34
        }
      },
      "source": [
        "print(res)"
      ],
      "execution_count": 0,
      "outputs": [
        {
          "output_type": "stream",
          "text": [
            "[ 9 20  9]\n"
          ],
          "name": "stdout"
        }
      ]
    },
    {
      "cell_type": "code",
      "metadata": {
        "id": "yR_arJegAV15",
        "colab_type": "code",
        "outputId": "6697ac71-0270-4077-c1a3-d612e1d416b5",
        "colab": {
          "base_uri": "https://localhost:8080/",
          "height": 547
        }
      },
      "source": [
        "for i,ind in top_5.index:\n",
        "  if (i==9) | (i==20):\n",
        "    print(\"cluster\", i)\n",
        "    print(just_titles[ind])\n",
        "    print('-------------')\n",
        "\n",
        "# [\"Hillary Clinton defends handling of Benghazi attack\", \"Women's March Highlights\", \"Hillary Clinton emails\"]"
      ],
      "execution_count": 0,
      "outputs": [
        {
          "output_type": "stream",
          "text": [
            "cluster 9\n",
            "Trump knows the feds are closing in on him\n",
            "-------------\n",
            "cluster 9\n",
            "Comey to be pressed on whether Trump interfered with Russia probe\n",
            "-------------\n",
            "cluster 9\n",
            "Senate intelligence committee to question Trump team on links with Russia\n",
            "-------------\n",
            "cluster 9\n",
            "The FBI probe into Trump and Russia is huge news. Our political system isn’t ready for it.\n",
            "-------------\n",
            "cluster 9\n",
            "Trump finds himself exactly where he doesn’t want to be\n",
            "-------------\n",
            "cluster 20\n",
            "Ciccotta: Guest Speaker’s Call to Violence Reveals Bucknell’s Radicalism \n",
            "-------------\n",
            "cluster 20\n",
            "The Oregon standoff and America’s double standards on race and religion\n",
            "-------------\n",
            "cluster 20\n",
            "Milo Yiannopoulos is trying to convince colleges that hate speech is cool\n",
            "-------------\n",
            "cluster 20\n",
            "Yes, there is a free speech crisis. But its victims are not white men\n",
            "-------------\n",
            "cluster 20\n",
            "Hate speech seeps into U.S. mainstream amid bitter campaign\n",
            "-------------\n"
          ],
          "name": "stdout"
        }
      ]
    },
    {
      "cell_type": "code",
      "metadata": {
        "id": "_sYUfZF3Afdb",
        "colab_type": "code",
        "colab": {}
      },
      "source": [
        ""
      ],
      "execution_count": 0,
      "outputs": []
    }
  ]
}