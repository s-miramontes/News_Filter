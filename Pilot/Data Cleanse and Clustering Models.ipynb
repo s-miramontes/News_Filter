{
 "cells": [
  {
   "cell_type": "markdown",
   "metadata": {
    "colab_type": "text",
    "id": "view-in-github"
   },
   "source": [
    "<a href=\"https://colab.research.google.com/github/s-miramontes/News_Filter/blob/master/Pilot/Data%20Cleanse%20and%20Clustering%20Models.ipynb\" target=\"_parent\"><img src=\"https://colab.research.google.com/assets/colab-badge.svg\" alt=\"Open In Colab\"/></a>"
   ]
  },
  {
   "cell_type": "markdown",
   "metadata": {
    "colab_type": "text",
    "id": "EgUlD7ylibyq"
   },
   "source": [
    "X"
   ]
  },
  {
   "cell_type": "markdown",
   "metadata": {
    "colab_type": "text",
    "id": "XcKFzFa9rw7L"
   },
   "source": [
    "# Clustering News Headlines\n",
    "\n",
    "In this notebook we begin my importing data to analyze its contents and be able to determine the best clustering algorithm to determine the articles that are mostly related to each other."
   ]
  },
  {
   "cell_type": "markdown",
   "metadata": {
    "colab_type": "text",
    "id": "9_yv0Wugrw7Q"
   },
   "source": [
    "We start by importing some dependencies"
   ]
  },
  {
   "cell_type": "code",
   "execution_count": 2,
   "metadata": {
    "colab": {},
    "colab_type": "code",
    "id": "qfPkC9ajrw7S"
   },
   "outputs": [],
   "source": [
    "import numpy as np\n",
    "import pandas as pd"
   ]
  },
  {
   "cell_type": "markdown",
   "metadata": {
    "colab_type": "text",
    "id": "1vaQv_w0sd2J"
   },
   "source": [
    "## Importing Data from Local File System\n",
    "\n",
    "Datasets are located here: https://www.kaggle.com/snapcrack/all-the-news/version/4#articles3.csv\n",
    "\n",
    "Proceed to download all three 'csv' files, and store them in a 'data' directory at the location of your choice.\n"
   ]
  },
  {
   "cell_type": "code",
   "execution_count": 3,
   "metadata": {
    "colab": {},
    "colab_type": "code",
    "id": "LWGIyGKy_ohe"
   },
   "outputs": [],
   "source": [
    "articles_3 = pd.read_csv('/Users/mirasilvia/mids/w266/News_Filter/data/articles3.csv.zip', compression='zip')\n",
    "articles_2 = pd.read_csv('/Users/mirasilvia/mids/w266/News_Filter/data/articles2.csv.zip', compression='zip')\n",
    "articles_1 = pd.read_csv('/Users/mirasilvia/mids/w266/News_Filter/data/articles1.csv.zip', compression='zip')"
   ]
  },
  {
   "cell_type": "code",
   "execution_count": 4,
   "metadata": {
    "colab": {},
    "colab_type": "code",
    "id": "6-c_j1F0G8YL"
   },
   "outputs": [],
   "source": [
    "full_data = pd.concat([articles_1, articles_2, articles_3], ignore_index=True)"
   ]
  },
  {
   "cell_type": "code",
   "execution_count": 5,
   "metadata": {
    "colab": {},
    "colab_type": "code",
    "id": "KF1gdGRjK7HB"
   },
   "outputs": [],
   "source": [
    "# remove duplicates\n",
    "full_data = full_data.drop_duplicates(subset=['title', 'publication', 'author', 'date'])"
   ]
  },
  {
   "cell_type": "code",
   "execution_count": 6,
   "metadata": {
    "colab": {},
    "colab_type": "code",
    "id": "FoumqwwKQJ29"
   },
   "outputs": [],
   "source": [
    "# remove missing titles \n",
    "full_data = full_data.dropna(subset=['title'])"
   ]
  },
  {
   "cell_type": "code",
   "execution_count": 7,
   "metadata": {},
   "outputs": [],
   "source": [
    "title_lengths = [len(s) for s in full_data['title']]"
   ]
  },
  {
   "cell_type": "code",
   "execution_count": 8,
   "metadata": {},
   "outputs": [
    {
     "data": {
      "text/plain": [
       "(142568, 142568)"
      ]
     },
     "execution_count": 8,
     "metadata": {},
     "output_type": "execute_result"
    }
   ],
   "source": [
    "len(title_lengths), len(full_data)"
   ]
  },
  {
   "cell_type": "code",
   "execution_count": 9,
   "metadata": {},
   "outputs": [],
   "source": [
    "full_data['title_length'] = full_data['title'].apply(len)"
   ]
  },
  {
   "cell_type": "code",
   "execution_count": 10,
   "metadata": {},
   "outputs": [],
   "source": [
    "full_data = full_data[full_data.title_length > 2]"
   ]
  },
  {
   "cell_type": "code",
   "execution_count": 11,
   "metadata": {},
   "outputs": [
    {
     "data": {
      "text/plain": [
       "{'Atlantic',\n",
       " 'Breitbart',\n",
       " 'Business Insider',\n",
       " 'Buzzfeed News',\n",
       " 'CNN',\n",
       " 'Fox News',\n",
       " 'Guardian',\n",
       " 'NPR',\n",
       " 'National Review',\n",
       " 'New York Post',\n",
       " 'New York Times',\n",
       " 'Reuters',\n",
       " 'Talking Points Memo',\n",
       " 'Vox',\n",
       " 'Washington Post'}"
      ]
     },
     "execution_count": 11,
     "metadata": {},
     "output_type": "execute_result"
    }
   ],
   "source": [
    "# sample from full_data (set seed to 5)\n",
    "small_data = full_data.sample(n=10000, random_state=5).reset_index()\n",
    "set(small_data.publication)"
   ]
  },
  {
   "cell_type": "code",
   "execution_count": 12,
   "metadata": {
    "colab": {},
    "colab_type": "code",
    "id": "2hMvyiEgMB9s",
    "scrolled": true
   },
   "outputs": [],
   "source": [
    "# tokenization\n",
    "tok_title = [title.lower().split() for title in small_data.title]"
   ]
  },
  {
   "cell_type": "code",
   "execution_count": null,
   "metadata": {},
   "outputs": [],
   "source": []
  },
  {
   "cell_type": "code",
   "execution_count": null,
   "metadata": {},
   "outputs": [],
   "source": []
  },
  {
   "cell_type": "code",
   "execution_count": null,
   "metadata": {
    "colab": {},
    "colab_type": "code",
    "id": "ogK3PU8kUeGR"
   },
   "outputs": [],
   "source": []
  },
  {
   "cell_type": "code",
   "execution_count": null,
   "metadata": {
    "colab": {},
    "colab_type": "code",
    "id": "ugelfkxiUeL8"
   },
   "outputs": [],
   "source": []
  },
  {
   "cell_type": "code",
   "execution_count": null,
   "metadata": {
    "colab": {},
    "colab_type": "code",
    "id": "mbMvTkS6UeQR"
   },
   "outputs": [],
   "source": []
  },
  {
   "cell_type": "code",
   "execution_count": null,
   "metadata": {
    "colab": {},
    "colab_type": "code",
    "id": "eG3A_UoWUeVu"
   },
   "outputs": [],
   "source": []
  },
  {
   "cell_type": "code",
   "execution_count": null,
   "metadata": {
    "colab": {},
    "colab_type": "code",
    "id": "7lr1FB9zUebK"
   },
   "outputs": [],
   "source": []
  },
  {
   "cell_type": "code",
   "execution_count": null,
   "metadata": {
    "colab": {},
    "colab_type": "code",
    "id": "ZsynecTkUegw"
   },
   "outputs": [],
   "source": []
  },
  {
   "cell_type": "markdown",
   "metadata": {
    "colab_type": "text",
    "id": "7W3mMM2JUenQ"
   },
   "source": []
  },
  {
   "cell_type": "markdown",
   "metadata": {
    "colab_type": "text",
    "id": "GQYR5DG9UfCP"
   },
   "source": [
    "## Cluster Model 2 (Silvia's)\n",
    "\n",
    "Similarity Measures we attempt:\n",
    "1. Word2Vec\n",
    "2. Word embeddings\n",
    "3. Knowledge-based Measures (wordNet).\n",
    "\n",
    "Clustering methods to attempt:\n",
    "1. TFIDF + K-Means\n",
    "2. Hierarchical Clustering?\n",
    "\n"
   ]
  },
  {
   "cell_type": "markdown",
   "metadata": {
    "colab_type": "text",
    "id": "adaSts49UfUR"
   },
   "source": [
    "**Word2Vec as Preprocessing of Text.**"
   ]
  },
  {
   "cell_type": "code",
   "execution_count": 13,
   "metadata": {
    "colab": {},
    "colab_type": "code",
    "id": "9W_oLtwhcA22",
    "scrolled": true
   },
   "outputs": [],
   "source": [
    "from gensim.models import Word2Vec\n",
    "from nltk.cluster import KMeansClusterer\n",
    "import nltk\n",
    "\n",
    "from sklearn import cluster\n",
    "from sklearn import metrics"
   ]
  },
  {
   "cell_type": "code",
   "execution_count": 14,
   "metadata": {
    "colab": {},
    "colab_type": "code",
    "id": "lsYONk3-cA9y"
   },
   "outputs": [],
   "source": [
    "model = Word2Vec(tok_title, min_count=1)"
   ]
  },
  {
   "cell_type": "code",
   "execution_count": 15,
   "metadata": {
    "colab": {},
    "colab_type": "code",
    "id": "boIg74k7cBEL"
   },
   "outputs": [],
   "source": [
    "def sentence_vectorizer(s, model):\n",
    "    \n",
    "    sent_vector = []\n",
    "    num_words = 0\n",
    "    \n",
    "    for word in s:\n",
    "        try:\n",
    "            if num_words == 0:\n",
    "                sent_vector = model[word]\n",
    "            else:\n",
    "                sent_vector = np.add(sent_vector, \n",
    "                                     model[word])\n",
    "            num_words += 1\n",
    "        except:\n",
    "            pass\n",
    "    \n",
    "    return np.asarray(sent_vector) / num_words\n",
    "    "
   ]
  },
  {
   "cell_type": "code",
   "execution_count": 16,
   "metadata": {
    "colab": {},
    "colab_type": "code",
    "id": "GUVmdzMbcBLQ"
   },
   "outputs": [
    {
     "name": "stderr",
     "output_type": "stream",
     "text": [
      "/Users/mirasilvia/anaconda3/lib/python3.7/site-packages/ipykernel_launcher.py:9: DeprecationWarning: Call to deprecated `__getitem__` (Method will be removed in 4.0.0, use self.wv.__getitem__() instead).\n",
      "  if __name__ == '__main__':\n",
      "/Users/mirasilvia/anaconda3/lib/python3.7/site-packages/ipykernel_launcher.py:12: DeprecationWarning: Call to deprecated `__getitem__` (Method will be removed in 4.0.0, use self.wv.__getitem__() instead).\n",
      "  if sys.path[0] == '':\n"
     ]
    },
    {
     "name": "stdout",
     "output_type": "stream",
     "text": [
      "======================\n"
     ]
    }
   ],
   "source": [
    "X = []\n",
    "\n",
    "for sentence in tok_title:\n",
    "    X.append(sentence_vectorizer(sentence, model))\n",
    "    \n",
    "print(\"======================\")\n",
    "#print(X)"
   ]
  },
  {
   "cell_type": "code",
   "execution_count": 17,
   "metadata": {
    "colab": {},
    "colab_type": "code",
    "id": "EKUkLs7AcBR-",
    "scrolled": false
   },
   "outputs": [],
   "source": [
    "#print(model[model.wv.vocab])"
   ]
  },
  {
   "cell_type": "code",
   "execution_count": 18,
   "metadata": {
    "scrolled": false
   },
   "outputs": [
    {
     "name": "stdout",
     "output_type": "stream",
     "text": [
      "0.9992844\n",
      "[('for', 0.9999223947525024), ('by', 0.9999154210090637)]\n"
     ]
    },
    {
     "name": "stderr",
     "output_type": "stream",
     "text": [
      "/Users/mirasilvia/anaconda3/lib/python3.7/site-packages/ipykernel_launcher.py:2: DeprecationWarning: Call to deprecated `similarity` (Method will be removed in 4.0.0, use self.wv.similarity() instead).\n",
      "  \n",
      "/Users/mirasilvia/anaconda3/lib/python3.7/site-packages/ipykernel_launcher.py:3: DeprecationWarning: Call to deprecated `most_similar` (Method will be removed in 4.0.0, use self.wv.most_similar() instead).\n",
      "  This is separate from the ipykernel package so we can avoid doing imports until\n"
     ]
    }
   ],
   "source": [
    "# what is the similarity between trump and sanders?\n",
    "print(model.similarity('trump', 'sanders'))\n",
    "print(model.most_similar(positive=['trump'], negative=[], topn=2))"
   ]
  },
  {
   "cell_type": "markdown",
   "metadata": {},
   "source": [
    "Introducing Clustering. \n",
    "\n",
    "- How could we determine the best number of clusters? \n",
    "- I think at the moment its best to estimate based on 10 topics? \n",
    "- Bring this up for discussion"
   ]
  },
  {
   "cell_type": "code",
   "execution_count": 19,
   "metadata": {},
   "outputs": [],
   "source": [
    "NUM_CLUSTERS = 15\n",
    "\n",
    "kclusterer = KMeansClusterer(NUM_CLUSTERS, \n",
    "                             distance = nltk.cluster.util.cosine_distance,\n",
    "                             repeats=25)\n",
    "\n",
    "assigned_clusters = kclusterer.cluster(X, assign_clusters=True)\n"
   ]
  },
  {
   "cell_type": "markdown",
   "metadata": {},
   "source": [
    "Note that here we used cosine distance to cluster our data.\n",
    "After we got cluster results we can associate each sentence with the cluster that it got assigned to"
   ]
  },
  {
   "cell_type": "markdown",
   "metadata": {},
   "source": [
    "**Below we see what cluster each sentence was assigned to.**"
   ]
  },
  {
   "cell_type": "code",
   "execution_count": 20,
   "metadata": {
    "scrolled": true
   },
   "outputs": [],
   "source": [
    "\n",
    "#for index, sentence in enumerate(tok_title):\n",
    "#    print(str(assigned_clusters[index]) + \":\" + str(sentence))"
   ]
  },
  {
   "cell_type": "markdown",
   "metadata": {},
   "source": [
    "**Now we proceed to apply KMeans**"
   ]
  },
  {
   "cell_type": "code",
   "execution_count": 21,
   "metadata": {},
   "outputs": [
    {
     "data": {
      "text/plain": [
       "KMeans(algorithm='auto', copy_x=True, init='k-means++', max_iter=300,\n",
       "       n_clusters=15, n_init=10, n_jobs=None, precompute_distances='auto',\n",
       "       random_state=None, tol=0.0001, verbose=0)"
      ]
     },
     "execution_count": 21,
     "metadata": {},
     "output_type": "execute_result"
    }
   ],
   "source": [
    "kmeans = cluster.KMeans(n_clusters = NUM_CLUSTERS)\n",
    "kmeans.fit(X)"
   ]
  },
  {
   "cell_type": "code",
   "execution_count": 22,
   "metadata": {},
   "outputs": [],
   "source": [
    "labels = kmeans.labels_\n",
    "centroids = kmeans.cluster_centers_"
   ]
  },
  {
   "cell_type": "code",
   "execution_count": 28,
   "metadata": {},
   "outputs": [
    {
     "data": {
      "text/plain": [
       "565.483632094283"
      ]
     },
     "execution_count": 28,
     "metadata": {},
     "output_type": "execute_result"
    }
   ],
   "source": [
    "# sum of squared distances of samples to their closest cluster center.\n",
    "kmeans.inertia_"
   ]
  },
  {
   "cell_type": "code",
   "execution_count": 32,
   "metadata": {},
   "outputs": [],
   "source": [
    "from sklearn.metrics.pairwise import cosine_similarity"
   ]
  },
  {
   "cell_type": "code",
   "execution_count": 41,
   "metadata": {
    "scrolled": true
   },
   "outputs": [],
   "source": [
    "# cosine similarities for each row with cluster center\n",
    "cos_sim = [cosine_similarity(X[i].reshape(1,-1), kmeans.cluster_centers_[label].reshape(1, -1))[0][0] for i,label in enumerate(labels)]"
   ]
  },
  {
   "cell_type": "code",
   "execution_count": 42,
   "metadata": {},
   "outputs": [],
   "source": [
    "# simple dataframe with title, cluster, and distance metric used\n",
    "title_data = pd.DataFrame({'title':small_data.title, \n",
    "                          'cluster':labels,\n",
    "                          'cos_sim':cos_sim})"
   ]
  },
  {
   "cell_type": "code",
   "execution_count": 43,
   "metadata": {
    "scrolled": true
   },
   "outputs": [
    {
     "data": {
      "text/html": [
       "<div>\n",
       "<style scoped>\n",
       "    .dataframe tbody tr th:only-of-type {\n",
       "        vertical-align: middle;\n",
       "    }\n",
       "\n",
       "    .dataframe tbody tr th {\n",
       "        vertical-align: top;\n",
       "    }\n",
       "\n",
       "    .dataframe thead th {\n",
       "        text-align: right;\n",
       "    }\n",
       "</style>\n",
       "<table border=\"1\" class=\"dataframe\">\n",
       "  <thead>\n",
       "    <tr style=\"text-align: right;\">\n",
       "      <th></th>\n",
       "      <th>title</th>\n",
       "      <th>cluster</th>\n",
       "      <th>cos_sim</th>\n",
       "    </tr>\n",
       "  </thead>\n",
       "  <tbody>\n",
       "    <tr>\n",
       "      <th>0</th>\n",
       "      <td>’Window Into The Future’: Scientists Document ...</td>\n",
       "      <td>1</td>\n",
       "      <td>0.988962</td>\n",
       "    </tr>\n",
       "    <tr>\n",
       "      <th>1</th>\n",
       "      <td>How museums are quietly resisting President Trump</td>\n",
       "      <td>7</td>\n",
       "      <td>0.999906</td>\n",
       "    </tr>\n",
       "    <tr>\n",
       "      <th>2</th>\n",
       "      <td>Pro boxer beats up NYPD sergeant during traffi...</td>\n",
       "      <td>9</td>\n",
       "      <td>0.999633</td>\n",
       "    </tr>\n",
       "    <tr>\n",
       "      <th>3</th>\n",
       "      <td>Whoopi ’Implores’ People to Vote So ‘Fearmonge...</td>\n",
       "      <td>4</td>\n",
       "      <td>0.998595</td>\n",
       "    </tr>\n",
       "    <tr>\n",
       "      <th>4</th>\n",
       "      <td>People who took a gamble on Trump’s nomination...</td>\n",
       "      <td>0</td>\n",
       "      <td>0.999871</td>\n",
       "    </tr>\n",
       "    <tr>\n",
       "      <th>5</th>\n",
       "      <td>New technique may prevent the gruesome deaths ...</td>\n",
       "      <td>14</td>\n",
       "      <td>0.998786</td>\n",
       "    </tr>\n",
       "    <tr>\n",
       "      <th>6</th>\n",
       "      <td>Justin Wolfe admits role in drug dealer’s slay...</td>\n",
       "      <td>5</td>\n",
       "      <td>0.999975</td>\n",
       "    </tr>\n",
       "    <tr>\n",
       "      <th>7</th>\n",
       "      <td>Why Did It Take So Long for Class-Based School...</td>\n",
       "      <td>0</td>\n",
       "      <td>0.999709</td>\n",
       "    </tr>\n",
       "    <tr>\n",
       "      <th>8</th>\n",
       "      <td>Why celebrities are wearing a T-shirt in winter</td>\n",
       "      <td>4</td>\n",
       "      <td>0.998995</td>\n",
       "    </tr>\n",
       "    <tr>\n",
       "      <th>9</th>\n",
       "      <td>Hillary Clinton to Wellesley Grads: ’Cheer Up’...</td>\n",
       "      <td>7</td>\n",
       "      <td>0.999470</td>\n",
       "    </tr>\n",
       "    <tr>\n",
       "      <th>10</th>\n",
       "      <td>Scalia’s Son Dismisses Conspiracy Theories Abo...</td>\n",
       "      <td>5</td>\n",
       "      <td>0.993499</td>\n",
       "    </tr>\n",
       "    <tr>\n",
       "      <th>11</th>\n",
       "      <td>Phil Jackson leads Knicks’ crash in ugly midse...</td>\n",
       "      <td>9</td>\n",
       "      <td>0.999837</td>\n",
       "    </tr>\n",
       "    <tr>\n",
       "      <th>12</th>\n",
       "      <td>Donald Trump: Media, Clinton Campaign ’Want to...</td>\n",
       "      <td>14</td>\n",
       "      <td>0.999403</td>\n",
       "    </tr>\n",
       "    <tr>\n",
       "      <th>13</th>\n",
       "      <td>OAS head says Venezuela should hold elections ...</td>\n",
       "      <td>5</td>\n",
       "      <td>0.999942</td>\n",
       "    </tr>\n",
       "    <tr>\n",
       "      <th>14</th>\n",
       "      <td>How Much Is Donald Trump Hurting the G.O.P.? H...</td>\n",
       "      <td>12</td>\n",
       "      <td>0.997392</td>\n",
       "    </tr>\n",
       "    <tr>\n",
       "      <th>15</th>\n",
       "      <td>The Product-Placement Presidency</td>\n",
       "      <td>10</td>\n",
       "      <td>0.990260</td>\n",
       "    </tr>\n",
       "    <tr>\n",
       "      <th>16</th>\n",
       "      <td>EU agrees extending Russia economic sanctions,...</td>\n",
       "      <td>3</td>\n",
       "      <td>0.999949</td>\n",
       "    </tr>\n",
       "    <tr>\n",
       "      <th>17</th>\n",
       "      <td>Baghdad rocked by blasts as Islamic State clai...</td>\n",
       "      <td>0</td>\n",
       "      <td>0.999965</td>\n",
       "    </tr>\n",
       "    <tr>\n",
       "      <th>18</th>\n",
       "      <td>‘America First’ Should Not Mean Putting Allies...</td>\n",
       "      <td>1</td>\n",
       "      <td>0.998562</td>\n",
       "    </tr>\n",
       "    <tr>\n",
       "      <th>19</th>\n",
       "      <td>Beijing buyers club? China’s cancer patients g...</td>\n",
       "      <td>9</td>\n",
       "      <td>0.999894</td>\n",
       "    </tr>\n",
       "    <tr>\n",
       "      <th>20</th>\n",
       "      <td>Study: Fastest-growing churches have modern wo...</td>\n",
       "      <td>9</td>\n",
       "      <td>0.999970</td>\n",
       "    </tr>\n",
       "    <tr>\n",
       "      <th>21</th>\n",
       "      <td>This is how much food you’re wasting on Thanks...</td>\n",
       "      <td>7</td>\n",
       "      <td>0.999485</td>\n",
       "    </tr>\n",
       "    <tr>\n",
       "      <th>22</th>\n",
       "      <td>Criticized Abroad, Philippines’ Leader Remains...</td>\n",
       "      <td>1</td>\n",
       "      <td>0.999617</td>\n",
       "    </tr>\n",
       "    <tr>\n",
       "      <th>23</th>\n",
       "      <td>Left-Wing Attack Site Claims They Obtained Cru...</td>\n",
       "      <td>13</td>\n",
       "      <td>0.998940</td>\n",
       "    </tr>\n",
       "    <tr>\n",
       "      <th>24</th>\n",
       "      <td>Children are dying because of America’s lax gu...</td>\n",
       "      <td>11</td>\n",
       "      <td>0.999946</td>\n",
       "    </tr>\n",
       "    <tr>\n",
       "      <th>25</th>\n",
       "      <td>Boy, 10, killed in attempted blasphemy lynchin...</td>\n",
       "      <td>11</td>\n",
       "      <td>0.999608</td>\n",
       "    </tr>\n",
       "    <tr>\n",
       "      <th>26</th>\n",
       "      <td>Former Kentucky governor to give response to T...</td>\n",
       "      <td>0</td>\n",
       "      <td>0.999747</td>\n",
       "    </tr>\n",
       "    <tr>\n",
       "      <th>27</th>\n",
       "      <td>’ARK: Survival Evolved’ Trailer - The Center -...</td>\n",
       "      <td>6</td>\n",
       "      <td>0.999754</td>\n",
       "    </tr>\n",
       "    <tr>\n",
       "      <th>28</th>\n",
       "      <td>Legendary Marine General James Mattis may be t...</td>\n",
       "      <td>11</td>\n",
       "      <td>0.999326</td>\n",
       "    </tr>\n",
       "    <tr>\n",
       "      <th>29</th>\n",
       "      <td>U.S. stocks slip on earnings, dollar off highs</td>\n",
       "      <td>5</td>\n",
       "      <td>0.999919</td>\n",
       "    </tr>\n",
       "    <tr>\n",
       "      <th>...</th>\n",
       "      <td>...</td>\n",
       "      <td>...</td>\n",
       "      <td>...</td>\n",
       "    </tr>\n",
       "    <tr>\n",
       "      <th>9970</th>\n",
       "      <td>Teenager Seeks to Honor Veterans of War by Pre...</td>\n",
       "      <td>2</td>\n",
       "      <td>0.999782</td>\n",
       "    </tr>\n",
       "    <tr>\n",
       "      <th>9971</th>\n",
       "      <td>The Hill: FBI’s James Comey Is Complicit Over ...</td>\n",
       "      <td>14</td>\n",
       "      <td>0.998891</td>\n",
       "    </tr>\n",
       "    <tr>\n",
       "      <th>9972</th>\n",
       "      <td>Sen. Menendez Faces Federal Corruption Trial, ...</td>\n",
       "      <td>1</td>\n",
       "      <td>0.980648</td>\n",
       "    </tr>\n",
       "    <tr>\n",
       "      <th>9973</th>\n",
       "      <td>Power Ranger jewelry celebs will be wearing</td>\n",
       "      <td>5</td>\n",
       "      <td>0.998960</td>\n",
       "    </tr>\n",
       "    <tr>\n",
       "      <th>9974</th>\n",
       "      <td>Obama Climate Plan, Now in Court, May Hinge on...</td>\n",
       "      <td>2</td>\n",
       "      <td>0.999048</td>\n",
       "    </tr>\n",
       "    <tr>\n",
       "      <th>9975</th>\n",
       "      <td>E.P.A. Head Stacks Agency With Climate Change ...</td>\n",
       "      <td>6</td>\n",
       "      <td>0.999600</td>\n",
       "    </tr>\n",
       "    <tr>\n",
       "      <th>9976</th>\n",
       "      <td>The Russia Probe Is a Vast Lava Flow Moving To...</td>\n",
       "      <td>14</td>\n",
       "      <td>0.998525</td>\n",
       "    </tr>\n",
       "    <tr>\n",
       "      <th>9977</th>\n",
       "      <td>’Bars Medley’: Classic Literature Remixed Into...</td>\n",
       "      <td>1</td>\n",
       "      <td>0.999841</td>\n",
       "    </tr>\n",
       "    <tr>\n",
       "      <th>9978</th>\n",
       "      <td>Portugal crowned Euro 2016 champions</td>\n",
       "      <td>3</td>\n",
       "      <td>0.998621</td>\n",
       "    </tr>\n",
       "    <tr>\n",
       "      <th>9979</th>\n",
       "      <td>Russell Moore and the Fight for the Soul of th...</td>\n",
       "      <td>4</td>\n",
       "      <td>0.996449</td>\n",
       "    </tr>\n",
       "    <tr>\n",
       "      <th>9980</th>\n",
       "      <td>IBM’s CEO has a perfect response to her critics</td>\n",
       "      <td>7</td>\n",
       "      <td>0.999846</td>\n",
       "    </tr>\n",
       "    <tr>\n",
       "      <th>9981</th>\n",
       "      <td>Review: KING, ’We Are KING’</td>\n",
       "      <td>1</td>\n",
       "      <td>0.999815</td>\n",
       "    </tr>\n",
       "    <tr>\n",
       "      <th>9982</th>\n",
       "      <td>Goldman Sachs to pay $5 billion in mortgage se...</td>\n",
       "      <td>11</td>\n",
       "      <td>0.999922</td>\n",
       "    </tr>\n",
       "    <tr>\n",
       "      <th>9983</th>\n",
       "      <td>Why DVDs and Blu-rays remain essential in the ...</td>\n",
       "      <td>4</td>\n",
       "      <td>0.999779</td>\n",
       "    </tr>\n",
       "    <tr>\n",
       "      <th>9984</th>\n",
       "      <td>How ‘Fat Leonard’ bribed the Navy to get U.S. ...</td>\n",
       "      <td>0</td>\n",
       "      <td>0.998915</td>\n",
       "    </tr>\n",
       "    <tr>\n",
       "      <th>9985</th>\n",
       "      <td>Secret Service Shoots Man Near White House - T...</td>\n",
       "      <td>2</td>\n",
       "      <td>0.997152</td>\n",
       "    </tr>\n",
       "    <tr>\n",
       "      <th>9986</th>\n",
       "      <td>Judge seeks criminal contempt charges against ...</td>\n",
       "      <td>9</td>\n",
       "      <td>0.999500</td>\n",
       "    </tr>\n",
       "    <tr>\n",
       "      <th>9987</th>\n",
       "      <td>Playboy Explores $500 Million Sale - Breitbart</td>\n",
       "      <td>13</td>\n",
       "      <td>0.993397</td>\n",
       "    </tr>\n",
       "    <tr>\n",
       "      <th>9988</th>\n",
       "      <td>10 words that don’t mean what they used to: wh...</td>\n",
       "      <td>5</td>\n",
       "      <td>0.999807</td>\n",
       "    </tr>\n",
       "    <tr>\n",
       "      <th>9989</th>\n",
       "      <td>Elon Musk’s solar panel factory gets $260M inv...</td>\n",
       "      <td>3</td>\n",
       "      <td>0.999877</td>\n",
       "    </tr>\n",
       "    <tr>\n",
       "      <th>9990</th>\n",
       "      <td>What Are U.S. Forces Doing in Yemen in the Fir...</td>\n",
       "      <td>8</td>\n",
       "      <td>0.999995</td>\n",
       "    </tr>\n",
       "    <tr>\n",
       "      <th>9991</th>\n",
       "      <td>Why Hunting Down ’Authentic Ethnic Food’ Is A ...</td>\n",
       "      <td>11</td>\n",
       "      <td>0.999913</td>\n",
       "    </tr>\n",
       "    <tr>\n",
       "      <th>9992</th>\n",
       "      <td>The Photos Coming Out Of Syria After A Suspec...</td>\n",
       "      <td>4</td>\n",
       "      <td>0.999969</td>\n",
       "    </tr>\n",
       "    <tr>\n",
       "      <th>9993</th>\n",
       "      <td>Kuwait woman detained for filming maid’s suici...</td>\n",
       "      <td>9</td>\n",
       "      <td>0.999785</td>\n",
       "    </tr>\n",
       "    <tr>\n",
       "      <th>9994</th>\n",
       "      <td>’I’m Not Going To Lie To You,’ Dylann Roof Tel...</td>\n",
       "      <td>11</td>\n",
       "      <td>0.999981</td>\n",
       "    </tr>\n",
       "    <tr>\n",
       "      <th>9995</th>\n",
       "      <td>Apple is killing the headphone jack — here’s h...</td>\n",
       "      <td>0</td>\n",
       "      <td>0.999718</td>\n",
       "    </tr>\n",
       "    <tr>\n",
       "      <th>9996</th>\n",
       "      <td>Microsoft Sues Justice Dept., Seeking To Infor...</td>\n",
       "      <td>1</td>\n",
       "      <td>0.999326</td>\n",
       "    </tr>\n",
       "    <tr>\n",
       "      <th>9997</th>\n",
       "      <td>Are European Countries Really ‘Free Riders’?</td>\n",
       "      <td>1</td>\n",
       "      <td>0.999844</td>\n",
       "    </tr>\n",
       "    <tr>\n",
       "      <th>9998</th>\n",
       "      <td>This NY Times story exposes the paper’s libera...</td>\n",
       "      <td>13</td>\n",
       "      <td>0.991298</td>\n",
       "    </tr>\n",
       "    <tr>\n",
       "      <th>9999</th>\n",
       "      <td>Presidential candidate Sanders takes aim at Wa...</td>\n",
       "      <td>0</td>\n",
       "      <td>0.999961</td>\n",
       "    </tr>\n",
       "  </tbody>\n",
       "</table>\n",
       "<p>10000 rows × 3 columns</p>\n",
       "</div>"
      ],
      "text/plain": [
       "                                                  title  cluster   cos_sim\n",
       "0     ’Window Into The Future’: Scientists Document ...        1  0.988962\n",
       "1     How museums are quietly resisting President Trump        7  0.999906\n",
       "2     Pro boxer beats up NYPD sergeant during traffi...        9  0.999633\n",
       "3     Whoopi ’Implores’ People to Vote So ‘Fearmonge...        4  0.998595\n",
       "4     People who took a gamble on Trump’s nomination...        0  0.999871\n",
       "5     New technique may prevent the gruesome deaths ...       14  0.998786\n",
       "6     Justin Wolfe admits role in drug dealer’s slay...        5  0.999975\n",
       "7     Why Did It Take So Long for Class-Based School...        0  0.999709\n",
       "8       Why celebrities are wearing a T-shirt in winter        4  0.998995\n",
       "9     Hillary Clinton to Wellesley Grads: ’Cheer Up’...        7  0.999470\n",
       "10    Scalia’s Son Dismisses Conspiracy Theories Abo...        5  0.993499\n",
       "11    Phil Jackson leads Knicks’ crash in ugly midse...        9  0.999837\n",
       "12    Donald Trump: Media, Clinton Campaign ’Want to...       14  0.999403\n",
       "13    OAS head says Venezuela should hold elections ...        5  0.999942\n",
       "14    How Much Is Donald Trump Hurting the G.O.P.? H...       12  0.997392\n",
       "15                     The Product-Placement Presidency       10  0.990260\n",
       "16    EU agrees extending Russia economic sanctions,...        3  0.999949\n",
       "17    Baghdad rocked by blasts as Islamic State clai...        0  0.999965\n",
       "18    ‘America First’ Should Not Mean Putting Allies...        1  0.998562\n",
       "19    Beijing buyers club? China’s cancer patients g...        9  0.999894\n",
       "20    Study: Fastest-growing churches have modern wo...        9  0.999970\n",
       "21    This is how much food you’re wasting on Thanks...        7  0.999485\n",
       "22    Criticized Abroad, Philippines’ Leader Remains...        1  0.999617\n",
       "23    Left-Wing Attack Site Claims They Obtained Cru...       13  0.998940\n",
       "24    Children are dying because of America’s lax gu...       11  0.999946\n",
       "25    Boy, 10, killed in attempted blasphemy lynchin...       11  0.999608\n",
       "26    Former Kentucky governor to give response to T...        0  0.999747\n",
       "27    ’ARK: Survival Evolved’ Trailer - The Center -...        6  0.999754\n",
       "28    Legendary Marine General James Mattis may be t...       11  0.999326\n",
       "29       U.S. stocks slip on earnings, dollar off highs        5  0.999919\n",
       "...                                                 ...      ...       ...\n",
       "9970  Teenager Seeks to Honor Veterans of War by Pre...        2  0.999782\n",
       "9971  The Hill: FBI’s James Comey Is Complicit Over ...       14  0.998891\n",
       "9972  Sen. Menendez Faces Federal Corruption Trial, ...        1  0.980648\n",
       "9973        Power Ranger jewelry celebs will be wearing        5  0.998960\n",
       "9974  Obama Climate Plan, Now in Court, May Hinge on...        2  0.999048\n",
       "9975  E.P.A. Head Stacks Agency With Climate Change ...        6  0.999600\n",
       "9976  The Russia Probe Is a Vast Lava Flow Moving To...       14  0.998525\n",
       "9977  ’Bars Medley’: Classic Literature Remixed Into...        1  0.999841\n",
       "9978               Portugal crowned Euro 2016 champions        3  0.998621\n",
       "9979  Russell Moore and the Fight for the Soul of th...        4  0.996449\n",
       "9980    IBM’s CEO has a perfect response to her critics        7  0.999846\n",
       "9981                        Review: KING, ’We Are KING’        1  0.999815\n",
       "9982  Goldman Sachs to pay $5 billion in mortgage se...       11  0.999922\n",
       "9983  Why DVDs and Blu-rays remain essential in the ...        4  0.999779\n",
       "9984  How ‘Fat Leonard’ bribed the Navy to get U.S. ...        0  0.998915\n",
       "9985  Secret Service Shoots Man Near White House - T...        2  0.997152\n",
       "9986  Judge seeks criminal contempt charges against ...        9  0.999500\n",
       "9987     Playboy Explores $500 Million Sale - Breitbart       13  0.993397\n",
       "9988  10 words that don’t mean what they used to: wh...        5  0.999807\n",
       "9989  Elon Musk’s solar panel factory gets $260M inv...        3  0.999877\n",
       "9990  What Are U.S. Forces Doing in Yemen in the Fir...        8  0.999995\n",
       "9991  Why Hunting Down ’Authentic Ethnic Food’ Is A ...       11  0.999913\n",
       "9992   The Photos Coming Out Of Syria After A Suspec...        4  0.999969\n",
       "9993  Kuwait woman detained for filming maid’s suici...        9  0.999785\n",
       "9994  ’I’m Not Going To Lie To You,’ Dylann Roof Tel...       11  0.999981\n",
       "9995  Apple is killing the headphone jack — here’s h...        0  0.999718\n",
       "9996  Microsoft Sues Justice Dept., Seeking To Infor...        1  0.999326\n",
       "9997       Are European Countries Really ‘Free Riders’?        1  0.999844\n",
       "9998  This NY Times story exposes the paper’s libera...       13  0.991298\n",
       "9999  Presidential candidate Sanders takes aim at Wa...        0  0.999961\n",
       "\n",
       "[10000 rows x 3 columns]"
      ]
     },
     "execution_count": 43,
     "metadata": {},
     "output_type": "execute_result"
    }
   ],
   "source": [
    "title_data"
   ]
  },
  {
   "cell_type": "code",
   "execution_count": 50,
   "metadata": {
    "scrolled": true
   },
   "outputs": [
    {
     "name": "stdout",
     "output_type": "stream",
     "text": [
      "cluster 0\n",
      "EPA to pull back on fuel-efficiency standards for cars, trucks in future model years\n",
      "----------------\n",
      "cluster 0\n",
      "GOP Senator To Angry Constituents: Schedule Your Protest In Advance!\n",
      "----------------\n",
      "cluster 0\n",
      "Cleveland police shooting of Tamir Rice: city to pay $6 million after 12-year-old’s death\n",
      "----------------\n",
      "cluster 0\n",
      "This woman chose to go homeless in San Francisco instead of paying high rent\n",
      "----------------\n",
      "cluster 0\n",
      "Trump tours a hulking aircraft carrier to promote hike in military spending\n",
      "----------------\n",
      "cluster 1\n",
      "Louisiana’s Democratic Governor Robs Kids of School Choice\n",
      "----------------\n",
      "cluster 1\n",
      "Protesters Crowd Outside Fox News’ GOP Debate In Detroit (PHOTOS)\n",
      "----------------\n",
      "cluster 1\n",
      "Mary Tyler Moore, TV legend, has died at 80\n",
      "----------------\n",
      "cluster 1\n",
      "ICE Deports MS-13 Gang Member Wanted for Violent Crimes in El Salvador\n",
      "----------------\n",
      "cluster 1\n",
      "Fifa hands authorities 20,000 pieces of evidence as internal inquiry concludes\n",
      "----------------\n",
      "cluster 2\n",
      "How Malay Spends His Sundays: Cooking at Home, Music in the Studio - The New York Times\n",
      "----------------\n",
      "cluster 2\n",
      "On Twitter, Hate Speech Bounded Only by a Character Limit - The New York Times\n",
      "----------------\n",
      "cluster 2\n",
      "Japanese Boy, 7, Left on Mountain by Parents Is Found Alive - The New York Times\n",
      "----------------\n",
      "cluster 2\n",
      "Warren Buffett and Dan Gilbert Unite in Bid to Acquire Yahoo - The New York Times\n",
      "----------------\n",
      "cluster 2\n",
      "Donald Trump, After Difficult Stretch, Shows a Softer Side - The New York Times\n",
      "----------------\n",
      "cluster 3\n",
      "U.S., Japan first ladies: both unconventional yet poles apart\n",
      "----------------\n",
      "cluster 3\n",
      "Using Another Secret Tunnel, Drug Kingpin ’El Chapo’ Almost Evaded Capture\n",
      "----------------\n",
      "cluster 3\n",
      "Military Convoy Sporting ’Trump’ Flag Was Naval Special Warfare Unit\n",
      "----------------\n",
      "cluster 3\n",
      "Wall St. ends flat amid election doubts, M&A flurry\n",
      "----------------\n",
      "cluster 3\n",
      "Rio Highlights: Simone Biles Wins All-Around; Michael Phelps Gets 22nd Gold \n",
      "----------------\n",
      "cluster 4\n",
      "Why Is Obama Stonewalling on Details of the $1.7 Billion in Iransom Payoffs?\n",
      "----------------\n",
      "cluster 4\n",
      "Megyn Kelly On Trump And The Media: ’We’re In A Dangerous Phase Right Now’\n",
      "----------------\n",
      "cluster 4\n",
      "’This was a moment of great failure’: Top journalists ruminate on Trump’s upset victory and the threat he poses to the media\n",
      "----------------\n",
      "cluster 4\n",
      "’The President Went Out of His Way to Recognize the Holocaust’\n",
      "----------------\n",
      "cluster 4\n",
      "Why Michelle Obama has a prime spot at the Democratic National Convention\n",
      "----------------\n",
      "cluster 5\n",
      "Gosnell Authors: Minority Women and Children’s Bodies Were Piling Up in Abortion Clinic, and ’Liberals Didn’t Care’\n",
      "----------------\n",
      "cluster 5\n",
      "This dentist office on wheels gives teeth cleanings and exams in Silicon Valley parking lots\n",
      "----------------\n",
      "cluster 5\n",
      "Cuts In Texas Medicaid Hit Rural Kids With Disabilities Especially Hard\n",
      "----------------\n",
      "cluster 5\n",
      "858 immigrants from ‘special interest countries’ were mistakenly given citizenship. That’s a gift to Trump.\n",
      "----------------\n",
      "cluster 5\n",
      "Artist makes statement about gun violence in skies above American cities\n",
      "----------------\n",
      "cluster 6\n",
      "Seeking Best Fit, Women’s Final Four Returns to Friday-Sunday - The New York Times\n",
      "----------------\n",
      "cluster 6\n",
      "Trump Institute Offered Get-Rich Schemes With Plagiarized Lessons - The New York Times\n",
      "----------------\n",
      "cluster 6\n",
      "‘Captain America’ Smites Rory McIlroy in Spirited Duel at Ryder Cup - The New York Times\n",
      "----------------\n",
      "cluster 6\n",
      "North Korean Missile Test Brings Temporary Unity in East Asia - The New York Times\n",
      "----------------\n",
      "cluster 6\n",
      "Did Kuwait Copy Trump’s Travel Ban? Not Quite - The New York Times\n",
      "----------------\n",
      "cluster 7\n",
      "In A Film Industry Focused On Youth, Older Characters Are Tough To Find\n",
      "----------------\n",
      "cluster 7\n",
      "Sony Entertainment’s CEO is stepping down to go all in as Snap’s chairman ahead of IPO\n",
      "----------------\n",
      "cluster 7\n",
      "Who is Theresa May, next in line to steer Britain?\n",
      "----------------\n",
      "cluster 7\n",
      "Ted Cruz all of a sudden showered praise on Marco Rubio in his election night speech\n",
      "----------------\n",
      "cluster 7\n",
      "How Domestic Violence In One Home Affects Every Child In A Class\n",
      "----------------\n",
      "cluster 8\n",
      "This is AT&T’s strategy to conquer the future of TV\n",
      "----------------\n",
      "cluster 8\n",
      "When a homeless alcoholic bounces in and out of the ER\n",
      "----------------\n",
      "cluster 8\n",
      "FACT CHECK: Donald Trump And The Victimization Of U.S. Steel\n",
      "----------------\n",
      "cluster 8\n",
      "It’s the circle of life – and it starts in September\n",
      "----------------\n",
      "cluster 8\n",
      "What Are U.S. Forces Doing in Yemen in the First Place?\n",
      "----------------\n",
      "cluster 9\n",
      "AT&T unveils DirecTV Now streaming service ahead of November 30 launch\n",
      "----------------\n",
      "cluster 9\n",
      "Some 900 Jordanians fight in Syria, Iraq; recruitment slumps: senior official\n",
      "----------------\n",
      "cluster 9\n",
      "Kurt Rambis declares triangle war on Derek Fisher\n",
      "----------------\n",
      "cluster 9\n",
      " Cookbook Explores Recipes From India’s Most Famous Slum\n",
      "----------------\n",
      "cluster 9\n",
      "Safety tip from India’s tourism minister: Don’t wear skirts\n",
      "----------------\n",
      "cluster 10\n",
      "David Ortiz Looks to Hit Ball to the ’Choo Choo Train’ in Last Yankee Stadium Appearances - Breitbart\n",
      "----------------\n",
      "cluster 10\n",
      "Dem Rep Meeks: Trump Is Using Similar Tactics as Putin, Hugo Chavez Against the Press - Breitbart\n",
      "----------------\n",
      "cluster 10\n",
      "Donald Trump: ’Probably Won’t Be Doing the Debate’ with ’Third Rate Reporter’ Megyn Kelly - Breitbart\n",
      "----------------\n",
      "cluster 10\n",
      "Venezuela Takes CNN en Español – But Not English-Language CNN – Off the Air - Breitbart\n",
      "----------------\n",
      "cluster 10\n",
      "Spike Lee: ’A Lot of the Stuff’ Black People Have Accomplished Has ’Been Through Sports’ - Breitbart\n",
      "----------------\n",
      "cluster 11\n",
      "A dentist is being sued for harassing staff by constantly playing Christian music\n",
      "----------------\n",
      "cluster 11\n",
      "’Give them a pill’: Putin accuses US of hysteria over election hacking inquiry\n",
      "----------------\n",
      "cluster 11\n",
      "Scotland police probe killing of Muslim shopkeeper who posted Facebook Easter message to Christians\n",
      "----------------\n",
      "cluster 11\n",
      "US forces attempted to rescue two hostages kidnapped in Kabul\n",
      "----------------\n",
      "cluster 11\n",
      "Former University of Missouri tutor says she took exams for student athletes\n",
      "----------------\n",
      "cluster 12\n",
      "Renegotiate Nafta? Mexicans Say Get On With It - The New York Times\n",
      "----------------\n",
      "cluster 12\n",
      "How to form healthy habits in your 20s - The New York Times\n",
      "----------------\n",
      "cluster 12\n",
      "How the Split Screen Framed Trump and Clinton - The New York Times\n",
      "----------------\n",
      "cluster 12\n",
      "How (and Why) to Camp in the National Parks - The New York Times\n",
      "----------------\n",
      "cluster 12\n",
      "South Korea to Elect New President in May, Government Says - The New York Times\n",
      "----------------\n",
      "cluster 13\n",
      "WATCH: James Earl Jones Reads Frederick Douglass Speech ’The Meaning of July Fourth for the Negro’ - Breitbart\n",
      "----------------\n",
      "cluster 13\n",
      "Watch: Shaq, Charles Barkley Wrestle Backstage of ’NBA on TNT’ Studio - Breitbart\n",
      "----------------\n",
      "cluster 13\n",
      "Egypt Says Scan of King Tut’s Burial Tomb Shows Hidden Rooms - Breitbart\n",
      "----------------\n",
      "cluster 13\n",
      "EXCLUSIVE PHOTOS: Inside, Outside Anti-Trump Protest at Grand Central Station in Midtown Manhattan - Breitbart\n",
      "----------------\n",
      "cluster 13\n",
      "Dem. Congressman: 40,000 Cuban Asylum Seekers Could Arrive in Coming Months - Breitbart\n",
      "----------------\n",
      "cluster 14\n",
      "Ted Cruz to Donald Trump: ‘Donald You’re a Sniveling Coward and Leave Heidi the Hell Alone’ - Breitbart\n",
      "----------------\n",
      "cluster 14\n",
      "Milo on CNBC: The Only Reason People Are Buying Kaepernick Jerseys Is to Burn Them - Breitbart\n",
      "----------------\n",
      "cluster 14\n",
      "Rubio on Surrogates Who Can’t Name His Accomplishments: ’They’re Signing Up At The Last Second’ - Breitbart\n",
      "----------------\n",
      "cluster 14\n",
      "At CPAC Mark Levin Slams the Establishment, Calls for All Conservatives to Get Behind One Candidate - Breitbart\n",
      "----------------\n",
      "cluster 14\n",
      "The week in patriarchy: your worst nightmare\n",
      "----------------\n"
     ]
    }
   ],
   "source": [
    "# inspect titles highest cosine similarity in clusters\n",
    "top_5 = title_data.groupby('cluster')['cos_sim'].nlargest(5)\n",
    "for i, ind in top_5.index:\n",
    "    print(\"cluster\", i)\n",
    "    print(title_data['title'][ind])\n",
    "    print('----------------')"
   ]
  },
  {
   "cell_type": "markdown",
   "metadata": {},
   "source": [
    "### Predict Input"
   ]
  },
  {
   "cell_type": "code",
   "execution_count": 52,
   "metadata": {},
   "outputs": [],
   "source": [
    "input_topic = [\"Hillary Clinton defends handling of Benghazi attack\",\n",
    "              \"Women's March Highlights\", \"Hillary Clinton emails\"]"
   ]
  },
  {
   "cell_type": "code",
   "execution_count": 53,
   "metadata": {},
   "outputs": [],
   "source": [
    "# run word2vec\n",
    "w2v = Word2Vec(input_topic, min_count=1)"
   ]
  },
  {
   "cell_type": "code",
   "execution_count": 54,
   "metadata": {},
   "outputs": [
    {
     "name": "stderr",
     "output_type": "stream",
     "text": [
      "/Users/mirasilvia/anaconda3/lib/python3.7/site-packages/ipykernel_launcher.py:9: DeprecationWarning: Call to deprecated `__getitem__` (Method will be removed in 4.0.0, use self.wv.__getitem__() instead).\n",
      "  if __name__ == '__main__':\n",
      "/Users/mirasilvia/anaconda3/lib/python3.7/site-packages/ipykernel_launcher.py:12: DeprecationWarning: Call to deprecated `__getitem__` (Method will be removed in 4.0.0, use self.wv.__getitem__() instead).\n",
      "  if sys.path[0] == '':\n"
     ]
    }
   ],
   "source": [
    "X2 = []\n",
    "\n",
    "for sent in input_topic:\n",
    "    X2.append(sentence_vectorizer(sent, w2v))"
   ]
  },
  {
   "cell_type": "code",
   "execution_count": 57,
   "metadata": {},
   "outputs": [],
   "source": [
    "X_train = X\n",
    "y_train = title_data.cluster\n",
    "X_test = X2\n",
    "\n",
    "from sklearn.neighbors import KNeighborsClassifier\n",
    "\n",
    "knn = KNeighborsClassifier()\n",
    "knn.fit(X_train, y_train)\n",
    "\n",
    "res = knn.predict(X_test)"
   ]
  },
  {
   "cell_type": "code",
   "execution_count": 58,
   "metadata": {},
   "outputs": [
    {
     "name": "stdout",
     "output_type": "stream",
     "text": [
      "[3 3 3]\n"
     ]
    }
   ],
   "source": [
    "print(res)"
   ]
  },
  {
   "cell_type": "code",
   "execution_count": 65,
   "metadata": {},
   "outputs": [
    {
     "name": "stdout",
     "output_type": "stream",
     "text": [
      "cluster 3\n",
      "U.S., Japan first ladies: both unconventional yet poles apart\n",
      "-------------------\n",
      "cluster 3\n",
      "Using Another Secret Tunnel, Drug Kingpin ’El Chapo’ Almost Evaded Capture\n",
      "-------------------\n",
      "cluster 3\n",
      "Military Convoy Sporting ’Trump’ Flag Was Naval Special Warfare Unit\n",
      "-------------------\n",
      "cluster 3\n",
      "Wall St. ends flat amid election doubts, M&A flurry\n",
      "-------------------\n",
      "cluster 3\n",
      "Rio Highlights: Simone Biles Wins All-Around; Michael Phelps Gets 22nd Gold \n",
      "-------------------\n"
     ]
    }
   ],
   "source": [
    "for i,ind in top_5.index:\n",
    "    if (i==3):\n",
    "        print(\"cluster\", i)\n",
    "        print(title_data['title'][ind])\n",
    "        print('-------------------')"
   ]
  },
  {
   "cell_type": "code",
   "execution_count": null,
   "metadata": {},
   "outputs": [],
   "source": []
  },
  {
   "cell_type": "code",
   "execution_count": null,
   "metadata": {},
   "outputs": [],
   "source": []
  },
  {
   "cell_type": "code",
   "execution_count": null,
   "metadata": {},
   "outputs": [],
   "source": []
  },
  {
   "cell_type": "code",
   "execution_count": null,
   "metadata": {},
   "outputs": [],
   "source": []
  },
  {
   "cell_type": "code",
   "execution_count": null,
   "metadata": {},
   "outputs": [],
   "source": []
  },
  {
   "cell_type": "code",
   "execution_count": null,
   "metadata": {},
   "outputs": [],
   "source": []
  },
  {
   "cell_type": "code",
   "execution_count": null,
   "metadata": {},
   "outputs": [],
   "source": []
  },
  {
   "cell_type": "code",
   "execution_count": null,
   "metadata": {},
   "outputs": [],
   "source": []
  }
 ],
 "metadata": {
  "colab": {
   "include_colab_link": true,
   "name": "Data Cleanse and Clustering Models.ipynb",
   "provenance": []
  },
  "kernelspec": {
   "display_name": "Python 3",
   "language": "python",
   "name": "python3"
  },
  "language_info": {
   "codemirror_mode": {
    "name": "ipython",
    "version": 3
   },
   "file_extension": ".py",
   "mimetype": "text/x-python",
   "name": "python",
   "nbconvert_exporter": "python",
   "pygments_lexer": "ipython3",
   "version": "3.7.3"
  }
 },
 "nbformat": 4,
 "nbformat_minor": 1
}
