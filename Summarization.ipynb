{
  "nbformat": 4,
  "nbformat_minor": 0,
  "metadata": {
    "colab": {
      "name": "Summarization.ipynb",
      "provenance": [],
      "authorship_tag": "ABX9TyN/XCy69wLq7feBzoWRxbG6",
      "include_colab_link": true
    },
    "kernelspec": {
      "name": "python3",
      "display_name": "Python 3"
    }
  },
  "cells": [
    {
      "cell_type": "markdown",
      "metadata": {
        "id": "view-in-github",
        "colab_type": "text"
      },
      "source": [
        "<a href=\"https://colab.research.google.com/github/s-miramontes/News_Filter/blob/emma/Summarization.ipynb\" target=\"_parent\"><img src=\"https://colab.research.google.com/assets/colab-badge.svg\" alt=\"Open In Colab\"/></a>"
      ]
    },
    {
      "cell_type": "markdown",
      "metadata": {
        "id": "nUam-k50Z15W",
        "colab_type": "text"
      },
      "source": [
        "# Summarize Clusters"
      ]
    },
    {
      "cell_type": "markdown",
      "metadata": {
        "id": "VYcEPbXgZ1-v",
        "colab_type": "text"
      },
      "source": [
        "## BERT method"
      ]
    },
    {
      "cell_type": "code",
      "metadata": {
        "id": "oEXgpzo6Zxqb",
        "colab_type": "code",
        "colab": {}
      },
      "source": [
        ""
      ],
      "execution_count": 0,
      "outputs": []
    }
  ]
}