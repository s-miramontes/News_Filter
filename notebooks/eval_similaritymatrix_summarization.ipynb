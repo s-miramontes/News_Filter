{
  "nbformat": 4,
  "nbformat_minor": 0,
  "metadata": {
    "colab": {
      "name": "eval_similaritymatrix_summarization.ipynb",
      "provenance": [],
      "authorship_tag": "ABX9TyP2rDtguvLI0usVrD3BRh25",
      "include_colab_link": true
    },
    "kernelspec": {
      "name": "python3",
      "display_name": "Python 3"
    }
  },
  "cells": [
    {
      "cell_type": "markdown",
      "metadata": {
        "id": "view-in-github",
        "colab_type": "text"
      },
      "source": [
        "<a href=\"https://colab.research.google.com/github/s-miramontes/News_Filter/blob/master/notebooks/eval_similaritymatrix_summarization.ipynb\" target=\"_parent\"><img src=\"https://colab.research.google.com/assets/colab-badge.svg\" alt=\"Open In Colab\"/></a>"
      ]
    },
    {
      "cell_type": "code",
      "metadata": {
        "id": "GjxRzXNmwvY8",
        "colab_type": "code",
        "colab": {
          "base_uri": "https://localhost:8080/",
          "height": 69
        },
        "outputId": "0bbad452-a197-4d0d-f1f1-c93535e88f06"
      },
      "source": [
        "import os\n",
        "\n",
        "import numpy as np\n",
        "import pandas as pd\n",
        "\n",
        "import nltk\n",
        "from nltk.corpus import stopwords\n",
        "nltk.download('stopwords')\n",
        "from nltk.stem.snowball import SnowballStemmer\n",
        "import re\n",
        "\n",
        "from sklearn.feature_extraction.text import TfidfVectorizer\n",
        "\n",
        "from sklearn.cluster import KMeans\n",
        "\n",
        "from sklearn.metrics.pairwise import cosine_similarity\n",
        "\n",
        "from absl import logging\n",
        "\n",
        "import tensorflow as tf\n",
        "import tensorflow_hub as hub\n",
        "\n",
        "import heapq\n",
        "import operator\n",
        "\n",
        "from math import sqrt\n",
        "from joblib import Parallel, delayed\n"
      ],
      "execution_count": 4,
      "outputs": [
        {
          "output_type": "stream",
          "text": [
            "[nltk_data] Downloading package stopwords to\n",
            "[nltk_data]     /home/silvsilva/nltk_data...\n",
            "[nltk_data]   Package stopwords is already up-to-date!\n"
          ],
          "name": "stderr"
        }
      ]
    },
    {
      "cell_type": "markdown",
      "metadata": {
        "id": "YcoixOdo--Q4",
        "colab_type": "text"
      },
      "source": [
        "# Load Universal Sentence Encoder and Training Data for Evaluation"
      ]
    },
    {
      "cell_type": "code",
      "metadata": {
        "id": "pQKnGZsK_OzT",
        "colab_type": "code",
        "colab": {}
      },
      "source": [
        "# import the training data\n",
        "small_data = pd.read_csv(\"small_data.csv\")"
      ],
      "execution_count": 0,
      "outputs": []
    },
    {
      "cell_type": "code",
      "metadata": {
        "id": "hsu8hNC6_P4d",
        "colab_type": "code",
        "colab": {}
      },
      "source": [
        "# download model from https://tfhub.dev/google/universal-sentence-encoder/4 and save locally \n",
        "emb_model = hub.load(\"tmp\")"
      ],
      "execution_count": 0,
      "outputs": []
    },
    {
      "cell_type": "code",
      "metadata": {
        "id": "1zPMrq1q_Ywc",
        "colab_type": "code",
        "colab": {}
      },
      "source": [
        "# reduce logging output\n",
        "logging.set_verbosity(logging.ERROR)\n",
        "\n",
        "# compute embeddings for each article\n",
        "train_embeddings = emb_model(small_data.content)"
      ],
      "execution_count": 0,
      "outputs": []
    },
    {
      "cell_type": "markdown",
      "metadata": {
        "id": "6MXmAstxC06r",
        "colab_type": "text"
      },
      "source": [
        "# Create Summaries for Clusters from Training Data"
      ]
    },
    {
      "cell_type": "markdown",
      "metadata": {
        "id": "Z21OrgsbID5a",
        "colab_type": "text"
      },
      "source": [
        "Some functions to make this possible."
      ]
    },
    {
      "cell_type": "code",
      "metadata": {
        "id": "gWMNzmaI3gXK",
        "colab_type": "code",
        "colab": {}
      },
      "source": [
        "clusters = pd.read_csv(\"clusters.csv\")"
      ],
      "execution_count": 0,
      "outputs": []
    },
    {
      "cell_type": "code",
      "metadata": {
        "id": "ZjmLxmyfITy-",
        "colab_type": "code",
        "colab": {}
      },
      "source": [
        "def read_content(piece):\n",
        "  article = piece.split(\". \")\n",
        "  sentences = []\n",
        "\n",
        "  for sentence in article:\n",
        "    #print(sentence)\n",
        "    sentences.append(sentence.replace(\"[^a-zA-Z]\", \" \").split(\" \"))\n",
        "    #sentences.pop()\n",
        "\n",
        "  return sentences"
      ],
      "execution_count": 0,
      "outputs": []
    },
    {
      "cell_type": "code",
      "metadata": {
        "id": "hTXzmguDIT72",
        "colab_type": "code",
        "colab": {}
      },
      "source": [
        "# measuring similarity\n",
        "def sentence_similarity(sent1, sent2, stopwords=None):\n",
        "  if stopwords is None:\n",
        "    stopwords=[]\n",
        "\n",
        "  sent1 = [w.lower() for w in sent1]\n",
        "  sent2 = [w.lower() for w in sent2]\n",
        "\n",
        "  all_words = list(set(sent1 + sent2))\n",
        "\n",
        "  vector1 = [0] * len(all_words)\n",
        "  vector2 = [0] * len(all_words)\n",
        "\n",
        "  # build vector for the first sentence\n",
        "  for w in sent1:\n",
        "    if w in stopwords:\n",
        "      continue\n",
        "    vector1[all_words.index(w)] += 1\n",
        "\n",
        "  # build vector for second sentence\n",
        "  for w in sent2:\n",
        "    if w in stopwords:\n",
        "      continue\n",
        "    vector2[all_words.index(w)] += 1\n",
        "\n",
        "  return 1 - cosine_distance(vector1, vector2)"
      ],
      "execution_count": 0,
      "outputs": []
    },
    {
      "cell_type": "code",
      "metadata": {
        "id": "ZcHUdJCBIUDu",
        "colab_type": "code",
        "colab": {}
      },
      "source": [
        "# similarity matrix: cos sim to find similarity btw sent\n",
        "def build_sim_matrix(sentences, stop_words):\n",
        "  # create empty sim matrix\n",
        "  sim_matrix = np.zeros((len(sentences), len(sentences)))\n",
        "\n",
        "  for i in range(len(sentences)):\n",
        "    for j in range(len(sentences)):\n",
        "      if i == j: # skip if both are same sent\n",
        "        continue\n",
        "      sim_matrix[i][j] = sentence_similarity(sentences[i],\n",
        "                                             sentences[j],\n",
        "                                             stop_words)\n",
        "  return sim_matrix"
      ],
      "execution_count": 0,
      "outputs": []
    },
    {
      "cell_type": "code",
      "metadata": {
        "id": "Uxr41QnBIgCt",
        "colab_type": "code",
        "colab": {}
      },
      "source": [
        "# generate summary method\n",
        "def generate_summary(content, top_n=5):\n",
        "  stop_words = stopwords.words('english')\n",
        "  summarized_text=[]\n",
        "\n",
        "  # first read in article and tokenize\n",
        "  sentences = read_content(content)\n",
        "\n",
        "  # second generate sim matrix accross sents\n",
        "  sent_sim_mat = build_sim_matrix(sentences, stop_words)\n",
        "\n",
        "  # third rank sentences in sim matrix\n",
        "  sent_sim_graph = nx.from_numpy_array(sent_sim_mat)\n",
        "\n",
        "  scores = nx.pagerank(sent_sim_graph, max_iter=5000)\n",
        "\n",
        "  # fourth sort the rank and pick top sent\n",
        "  ranked_sent = sorted(((scores[i],s) for i,s in enumerate(sentences)),\n",
        "                       reverse=True)\n",
        "\n",
        "  for i in range(top_n):\n",
        "    summarized_text.append(\" \".join(ranked_sent[i][1]))\n",
        "\n",
        "  # fifth, output the sumarized text\n",
        "  output = \". \".join(summarized_text)\n",
        "  #print(\"Summarized Text: \\n\", \". \".join(summarized_text))\n",
        "\n",
        "  return output"
      ],
      "execution_count": 0,
      "outputs": []
    },
    {
      "cell_type": "code",
      "metadata": {
        "id": "Je64LLhwIgK-",
        "colab_type": "code",
        "colab": {}
      },
      "source": [
        "def get_summaries(cluster_name):\n",
        "  '''\n",
        "  input: list of articles in cluster\n",
        "  output: dictionary with valid summaries\n",
        "  '''\n",
        "\n",
        "  summa = {}\n",
        "  for j in range(len(cluster_name)):\n",
        "    try:\n",
        "      out = generate_summary(cluster_name[j])\n",
        "      summa[j] = out\n",
        "    except:\n",
        "      continue\n",
        "  \n",
        "  return summa\n"
      ],
      "execution_count": 0,
      "outputs": []
    },
    {
      "cell_type": "code",
      "metadata": {
        "id": "t1DFbUgzk9YE",
        "colab_type": "code",
        "colab": {}
      },
      "source": [
        "def summary_summaries(cluster):\n",
        "  \"\"\"\n",
        "  Recall that each cluster is a dictionary\n",
        "  Key: Article number\n",
        "  Values: Text\n",
        "\n",
        "  Thus, cluster - dictionary\n",
        "  \"\"\"\n",
        "  articles = cluster.values()\n",
        "  concat_ = \"\"\n",
        "  for article in articles:\n",
        "    concat_ += article\n",
        "  \n",
        "  summary = generate_summary(concat_)\n",
        "\n",
        "  return summary"
      ],
      "execution_count": 0,
      "outputs": []
    },
    {
      "cell_type": "markdown",
      "metadata": {
        "id": "_uwqE7JVlrkV",
        "colab_type": "text"
      },
      "source": [
        "# Generation of Summaries per Cluster\n"
      ]
    },
    {
      "cell_type": "code",
      "metadata": {
        "id": "s3hKdpymlx_Q",
        "colab_type": "code",
        "colab": {
          "base_uri": "https://localhost:8080/",
          "height": 52
        },
        "outputId": "e13ec63d-4cb4-4019-bf6b-3464591da018"
      },
      "source": [
        "# Summarizing based on the given clusters\n",
        "\n",
        "cluster_summaries = []\n",
        "for i in range(1,6):\n",
        "  # argument below is the list of articles for each cluster\n",
        "  summaries = get_summaries(clusters[clusters.cluster_labels == i].reset_index().content)\n",
        "  cluster_summaries.append(summaries)"
      ],
      "execution_count": 17,
      "outputs": [
        {
          "output_type": "stream",
          "text": [
            "/home/silvsilva/anaconda3/lib/python3.7/site-packages/nltk/cluster/util.py:133: RuntimeWarning: invalid value encountered in true_divide\n",
            "  return 1 - (numpy.dot(u, v) / (sqrt(numpy.dot(u, u)) * sqrt(numpy.dot(v, v))))\n"
          ],
          "name": "stderr"
        }
      ]
    },
    {
      "cell_type": "code",
      "metadata": {
        "id": "Uy33pbur363O",
        "colab_type": "code",
        "colab": {
          "base_uri": "https://localhost:8080/",
          "height": 555
        },
        "outputId": "0c852bc8-798f-4a9e-9284-892ea373a93d"
      },
      "source": [
        "cluster_summaries"
      ],
      "execution_count": 18,
      "outputs": [
        {
          "output_type": "execute_result",
          "data": {
            "text/plain": [
              "[{3: ' The attempts appear to trace back to some of the same Russian hackers behind the breaches of Democratic Party organizations in the past year, one official said.  Russians ”continue to do all kinds of stuff” against American political organizations, think tanks and thought leaders another US official said.  (CNN) Russian cyberhacking activity has continued largely unabated since the November election, including against US political organizations, US officials briefed on the investigation told CNN on Thursday.  Among the attempted cyber breaches are phishing attempts targeting Democratic presidential nominee Hillary Clinton’s campaign, one official says.   ”It’s not like the one and done deal here',\n",
              "  6: '’ ’   The NSA document offers the  ’ ’  ’ ’  ’ ’   ’ ’’ ’  ’ ’  ’ ’  ’ ’   ’ ’  ’ ” Kremlin had ordered cyberattacks on the   Democratic National Committee and Hillary Clinton’s campaign   chairman, John Podesta, during the 2016 election. ’  ’ ’   Hackers associated with Russia’’s military intelligence agency   targeted a company with information on US voting software days   before the election and used the data to launch ”voter    ” cyberattacks on local government officials,   according to a    that was leaked to . ” ’   But he said last week that ”patriotically minded” Russians,   whom he compared to artists, might have taken it upon themselves   ”to fight against those who say bad things about Russia,”   according to The    which was present at his news conference with Russian and foreign   outlets in St. ’ ’  ’ ’  ’ ”Hackers associated with Russia’s military. ..” ’’ ’’ ’’',\n",
              "  7: '’ ’   Ten of the electors  Director of National Intelligence James   Clapper to brief the Electoral College before its December 19   vote. This should distress every   American.” ’ ’   The Washington Post and The New York Times reported on Friday   that  concluded that   Russia interfered in the election to help   Donald   Trump. ’  ’ ’   A top adviser to Hillary Clinton said on Monday that the campaign   wants Electoral College members to receive a briefing on Russian   interference in the US presidential election. ’ ’   ”Electors have a solemn responsibility under the Constitution,   and we support their efforts to have their questions addressed,”   John Podesta, who chaired the Clinton campaign, said in a   statement. ’ ’   Podesta added: ”Each day that month, our campaign decried the   interference of Russia in our campaign and its evident goal of   hurting our campaign to aid Donald Trump',\n",
              "  8: '’ ’   One ”  scenario” the officials envision is a     that shuts down part of the internet. ’ ’   Other   operations could include the release of fake   documents that could damage one of the candidates without giving   the media a chance to   them. ” ’   The White House and the Department of Homeland Security are   leading the effort against Russian   government   officials told NBC News. ’  ’ ”   The US government is launching a massive effort to stop Russian   hackers from interfering with the results of next week’s   presidential election, according to a major report . ’ ’’ ’   ”Given [the Russians’’] past behavior in other contexts, we   understand the way they like to go about potentially causing   confusion and so we want to make sure that we are mitigating that   potential,” a Department of Homeland Security official told NBC   News',\n",
              "  9: '“Has there been a president ever who’s been that obsessed about proving that he’s legitimate?” Yet Palmieri’s remarks, and the Times’ reporting, ignores the role Palmieri  —   as well as others on the Clinton campaign team  —   have played in trying to delegitimize Trump’s election.   —   Jennifer Palmieri (@jmpalmieri) May 12, 2017,  On Friday, the Washington Post published an   by Podesta, which called for the firing of Trump’s top aides who refuse to speak “truth to power,” and called for “a special counsel to investigate Russia’s interference in our election, possible collusion by the Trump campaign, and Trump’s ongoing attempts to interfere in the investigation. Palmieri retweeted the rambling   minute video complete with meandering spider diagrams: Watch this: https:  . ”  In March, Palmieri wrote a piece for the Washington Post, ominously titled “The Clinton campaign warned you about Russia. ” Later in the article, Palmieri expressed shock about Trump’s frequent references to his   win in November'},\n",
              " {0: '”Our adversaries almost certainly have a   blackmail file on Hillary Clinton, and this fact alone   disqualifies her from service.” ’ ’   Comey announced Tuesday that the FBI would  be filed against Clinton, despite   characterizing her conduct handling classified information as   ”extremely careless.” ’ ’   ”The final jury will be the American people, and they will issue   the verdict on her corruption, incompetence, and bad judgment on   November 8,” Trump said. ’ ’   The presumptive Republican nominee said Comey laid out a   ”detailed case” of how Clinton ”compromised the safety of the   American people by storing highly classified information on a   private email server with no security.” ’ ’   ”He confirmed that her email could easily have been hacked by   hostile actors, and confirmed that those she emailed with were   hacked,” he said. ’ ’   Trump alleged ”it was no accident” charges were not filed against   Clinton ”the exact same day as President Barack Obama campaigns   with her for the first time.” ’ ’   ”Folks  —   the system is rigged,” he said. Bill Clinton didn’’t accidentally run   into the attorney general on the airport tarmac last week in   Phoenix.” ’ ”   Attorney General Loretta Lynch maintained last week that she   chatted with the former president about grandchildren and golf,   not the FBI’s probe into his wife’s handling of classified   information. ”The normal punishment,   in this case, would include losing authority to handle classified   information, and that too disqualifies Hillary Clinton from being   president.” ’ ’   Trump added: ”But because of our rigged system that holds the   American people to one standard and people like Hillary Clinton   to another, it does not look like she will be facing the criminal   charges that she deserves',\n",
              "  1: 'Rand Paul ( ) said that if WikiLeaks has emails that prove Democratic presidential nominee Hillary Clinton and her State Department were aware weapons were going to Islamic terrorists, Clinton could get five years in prison for lying to Congress. You can get five years in prison. I do believe that the CIA annex in Benghazi was procuring weapons, some of them to get them away from the jihadists in Libya.  “It’s a felony to lie to Congress. He added, “I find it hard to believe that Hillary Clinton, who all the news report have said she was the biggest advocate for arming the Islamic rebels in Syria, many of them turned out to be not only enemies of ours, some of them also turned out to be enemies of Israel',\n",
              "  2: ' (CNN) WikiLeaks founder Julian Assange is boasting about how his group’s release of hacked Democratic National Committee emails is affecting the US presidential election    and says it has unreleased information about Hillary Clinton’s campaign. Assange said release of the information was timed to coincide with the start of the Democratic National Convention. ”It was the presenter that used that term.” Assange also said more material is forthcoming that is ”extremely interesting.” ”We have more material related to the Hillary Clinton campaign. It had to had to have been before (the convention).”  Cooper asked Assange if the hack was connected to his ”personal animus” toward Clinton.  ”That’s when we knew there would be maximum interest by readers, but also, we have a responsibility to,” Assange said',\n",
              "  3: '“She said she did it for convenience, but I didn’t see the   questions. 13 to show which emails are  .     . Aside from the   email review process, WikiLeaks founder Julian Assange told Fox News’ “The Kelly File” he has more documents and plans to release the emails before November. Trey Gowdy,  ',\n",
              "  5: '’’ ’Fox News host Bret Baier grilled Hillary Clinton over her use of a private email server during her first appearance on the network in more than two years on Monday.’ ’In a network   event, Baier pressed Clinton at length about her use of a private email server while she was the US secretary of state.’ ’”The FBI investigation is still hanging over your campaign, and there are some Democrats who are worried about the other shoe dropping,” Baier said.’ ’The former secretary of state vigorously refuted claims that her past statements about sharing classified information on her private server were inaccurate.’ ’”There’’s a lot of misinformation going on around here, so let me start with the facts,” Clinton said.’ ’Last March, facing ’ ’Clinton reiterated that she believed she made a ”mistake” in using a personal email account instead of an official government account. ”’ ’Baier then confronted Clinton about the classification process itself, asking whether she believed the   emails even needed to be classified.’ ’”So your contention now is the 2, 100 or so emails should not have been classified at any time, now or then?” Baier asked.’ ’Clinton, disagreed, but called for the emails to be released.’ ’”Release it, and once the American people see it, they will see how absurd this is,” Clinton said, spurring applause in the audience.’ ’Fox News host Bret Baier grilled Hillary. It was a mistake,” Clinton said. But she argued that none of the emails she sent or received were marked classified at the time.’ ’”I have said it wasn’’t the best choice to use a personal email. Many people in the government, past and current, have on occasion or in practice have done the same',\n",
              "  6: 'Thank you, Huma. Thank you, Huma. Thank you, Anthony Weiner.”  —   @realDonaldTrump on @HillaryClinton email investigation pic. ” ”Thank you, Huma. “Thank you, Huma',\n",
              "  9: '” CLINTON AIDE CRIED FOUL ON OBAMA’S EMAIL DENIAL, That conversation wasn’t the first time Podesta and Tanden had speculated that Mills played a central role in the establishment of Clinton’s private email system. Just hours after The New York Times broke the Clinton email story on March 2, Podesta and Tanden exchanged emails about the nascent controversy that would dog Clinton throughout her run to the Democratic presidential nomination. The exchange between Podesta and Center for American Progress head Neera Tanden on July 24, 2015, started when Tanden asked if Podesta knew “who told Hillary she could use a private email? Has that person been drawn and quartered?” “Don’t you think Cheryl?” Podesta answered. ” Podesta replied “Unbelievable” before Tanden answered her earlier question: “I guess I know the answer[.] they wanted to get away with it. The FBI interviewed Mills during its probe into Clinton’s private email server, but Mills was granted partial immunity for her cooperation and wasn’t charged with a crime'},\n",
              " {0: 'I also think it’s really important to understand so many women aren’t raised with the rhetoric of  . ”  Partial transcript as follows: DUNHAM: I think it’s really important to remember that it is an incredible problem that 53% of women in this country  —   53% of white women in this country voted for Donald Trump which means that they’re not only voting against the interests of their sisters, of women who may not look like them, who they may not understand but whose rights are just as important, but also remember that they are in that case voting against their own best interest. To me a part of feminism  —   it’s almost like being a parent to a teenager where they’re so mad at you, they think you’re such a piece of crap and you’re like, I know you hate me right now but the reason I’m doing this is because I love you and I want us all to be safe. DUNHAM: I think it’s really important —  Of course I understand what you’re saying. DUNHAM: But what I was going to say is that  —   FARIS: Without food on the table it’s hard for them to see another perspective when they’re clearing no money and to pay for their healthcare',\n",
              "  1: '’ Earlier this morning, protesters marched down Main Street in Park City, Utah  —   where the Sundance Film Festival is currently taking place  —   in a Women’s March organized by Chelsea Handler.’ ’ BuzzFeed News was on site and asked women why they were participating in the march. ‘Balance’ ‘Spiritual’ Beginning Life Happiness ‘Fire in the Home’  —   LOVE”’ ’ “I marched for Civil Rights. ”’ ’ “So I can be anything when I grow up”’]   . Here are their answers:’ ’ “Marching for my grandchildren & 30 years of students in public schools”’ ’ “Trump is not an ally to the colorful, complicated, spirited people of this country! ”’ ’ “We need to advocate for EVERYONE, regardless of political climate”’ ’ “Equality for WOMEN  —   no harassment”’ ’ “I march for THE FUTURE”’ ’ “I’m a school counselor #publicschool”’ ’ “Inequality is unsustainable”’ ’ “I’m here to stand up for the rights of those that are threatened  —   minorities, women, & OUR EARTH”’ ’ “To put Trump on notice”’ ’ “I will no longer be silent”’ ’ “For the radical idea that women are people, too”’ ’ “Future is female. I marched against the war',\n",
              "  2: '  —   DoSomething. [The New York     DoSomething. The    singer sparked controversy in February when she performed her anthem “Formation” at the Super Bowl halftime show.   Follow Jerome Hudson on Twitter @jeromeehudson. ” After the   shooting deaths of two black men in July, the singer penned an open later directed at American law enforcement',\n",
              "  6: 'Actor Tony Goldwyn  —   best known for his role as President Fitzgerald Grant on ABC’s Scandal  —   introduced the Mothers of the Movement, a politically active group of mothers whose children were killed in   shootings in recent years, at the Democratic National Convention on Tuesday evening.   —   Hollywood Reporter (@THR) July 27, 2016,  Goldwyn is a longtime supporter of Hillary Clinton.  #DemsInPhilly https:  . We have to name them and own them  —   and then change them. Tony Goldwyn Introduces Mothers of the Movement: ”We Can Change the World” https:  ',\n",
              "  7: '” You see, 1997 saw a Million Woman March in DC for    —   a follow to Louis Farrakhan’s 1995 Million Man March. ”  But it’s The Washington Post’s debacle that makes us suspect a curse: Thursday’s edition of the paper’s free giveaway, Express, was all about the march  —   but the cover was dominated by a giant male symbol, rather than the female one. Is the Women’s March on Washington cursed? The   protest set for Jan. (Organizers’ dodge: Claim the whole thing is a tribute to King.) And,   the event’s page is still plagued with “arguments about whether an event organized primarily by white women can be sufficiently ‘intersectional’  —   or attuned to the issues faced by, say, poor minority women who reside at the ‘intersection’ of class, race, and gender concerns in America.  1963 March on Washington',\n",
              "  8: 'The march organizers are still officially only expecting a crowd of 200, 000 to 250, 000 people  —   mostly women, but also many men  —   based on the number who have registered. “I am a woman of color and a Muslim from an immigrant family whose country is now going to be led by someone who has been openly   and sexist, has attacked Muslims and is surrounding himself with some horrible people for his cabinet,” said Zahra Billoo, director of the San Francisco chapter of the Council on   Relations and a speaker at the march. But the roar of the masses will surely reach the president’s ears later, as the speeches and   performers wrap up the    hour rally and the demonstrators march to the Ellipse, the large green space opposite the White House. But Linda Sarsour, one of the four march   hopes that the end of the event will mark the beginning of a new movement. The event began to be physically realized on Friday as buses, trains and planes started pouring into Washington, packed full of women  —   and supportive male friends dotted among them'},\n",
              " {0: '”We are going to be taking on a very powerful and   super PAC, a super PAC that receives significant amounts of money from Wall Street and wealthy special interests,” he said.. ”What this entire campaign has been about is the issue of momentum, is the issue of bringing more and more people into the political process,” he continued, noting that people are starting to hear his message. ”And together we are going to create an economy that works for all of us and not just the top one percent.” Sanders thanked his supporters and said he believes he has ”an excellent chance to win many” of the Super Tuesday primaries in March. Bernie Sanders ( ) conceded the Democratic Nevada caucus in a Saturday speech, noting that his presidential campaign has come a long way in the past few months. And the American people are catching on that we have a rigged economy',\n",
              "  1: 'SANDERS: CLINTON SUPPORTS   IN MIDDLE EAST THROUGH WAR AND INVASION, Senator Sanders continued to take subtle shots at Clinton even as he endorsed her.  —   #ThirdPartyorBust (@ausgates) July 12, 2016,  Presumptive Republican nominee Donald Trump’s campaign issued a statement ahead of the Sanders endorsement of Hillary titled, “Top Five Reasons Sanders Supporters Will Never Be Excited About Hillary Clinton.   —   Bernie Wan’s Ghost (@Old_Bern_Kenobi) July 12, 2016,   Black Men for Bernie founder Bruce Carter gave his reaction to Breitbart News in a short statement: As a true supporter of people I am saddened by Senator Sanders decision. After how the democrats sabotaged  backstabbed Bernie and his supporters he’s going to us be used, Hillary is lying  corrupt #NeverHillary,  —   #BernieOrBust (@MalyndaNyc) July 12, 2016,  @LostDiva Watching Hillary stand there next to Bernie Sanders with fake smile and clap was really disgustingWonder if Bernie was threatened,  —   Ninjetta (@RealNinjetta) July 12, 2016,  @JenBumpas @F5Huffman it looked as if Hillary was holding a gun to him. SANDERS: HILLARY CLINTON = D',\n",
              "  2: 'But 51 percent of likely Democratic   say Sanders “cares about people like you,” compared to just 37 percent for Clinton. Cedar Rapids, Iowa  —   Senator Bernie Sanders came out swinging Saturday night after the release of the   final Des Moines Register before Monday’s Iowa caucuses, arguing at a raucous Cedar Rapids rally that the Hawkeye State remains “virtually tied” as he and Hillary Clinton enter the home stretch. “I think any objective observer  —   somebody who’s not partisan on either side  —   will come to the clear conclusion that the campaign, right now, that has the energy, that has the momentum, that is bringing working people and young people in, is our campaign!” Sanders crowed to thunderous applause at a rally here. More Bernie Sanders Senator Sanders’s Wife Lawyers Up after Allegations of Bank FraudBernie Sanders, Theocrat‘They Reject Christ, They Stand Condemned’: What Sanders Probably HeardSanders was also careful to tout his political viability in a   matchup, seeking to blunt the Clinton’s campaign’s line that he is too extreme to win against a Republican. RELATED: Final   Poll: Trump Holds His Lead, There’s more mixed news for both candidates buried deeper in the poll',\n",
              "  4: '\\r  —   Arabs For Bernie (@ArabsForBernie) March 30, 2016      #ToneDownForWhat #StillSanders #Bernie2016 #WeNotMe pic. \\r  —   Travis Ruger (@TravisRuger) March 30, 2016    And then there’s Rand Paul, who seems to just be trolling the whole thing:      So @HillaryClinton doesn’t like your tone @SenSanders? She clearly has never heard your folk album https:  . \\r  —   People For Bernie (@People4Bernie) March 28, 2016      . \\r  —   NC For Bernie (@NCForBernie) March 29, 2016      . #ToneDownForWhat\\r  —   Maddie Moore (@mooooregasm) March 28, 2016    The hashtag formed after Clinton’s strategist Joel Benenson said the campaign was weary of participating in a debate because the Sanders campaign told the Washington Post the team was polling which issues would cause the most damage in the New York primary',\n",
              "  5: 'It led the Clinton campaign to hold a conference call with reporters and accuse Sanders of breaking a pledge not to run negative ads during the campaign.” ’”We were very surprised today to see that Bernie Sanders had launched a negative television advertisement against Hillary,” Clinton campaign manager Robby Mook said on the call.’ ’”We were particularly surprised because he had personally pledged  —   and his campaign had pledged  —   never to run a negative advertisement,” he added. ”’ ’”It’ll be interesting to see  —   Sanders has never shrunk from a fight. ”And the reason that you know that it is tightening is that in the last week, I’ve seen more attacks from Clinton and   group on Bernie Sanders than in the months prior combined. ..”   ’ ’’ ” ’t’t’tIf you ever want to work for a campaign that shares your values on health care, there’s always room at Bernie 2016. Bernie is showing that you can take on the corrupt   system',\n",
              "  6: 'The president of Correct the Record, a   group, issued a statement criticizing Sanders. ”But perhaps nothing from this debate will be more memorable than Bernie Sanders rudely flying off the handle  —   losing his temper and shushing Secretary Clinton, wagging his finger and repeatedly yelling the likes of ’excuse me, I’m talking’ and ’let me finish. ”It was a cringe worthy moment from Senator Sanders more fitting of the GOP debate stage than the Democratic one.” Words Clinton aides are using in spin room to describe Sanders’ tone tonight: ”desperate”  ”disrespectful” #DemDebate,  —   Monica Alba (@AlbaMonica) March 7, 2016, . Because I’ll tell you, the thing that’s connecting with him is his honesty, his authenticity, and the fact that he his who he is.” During a discussion on the auto industry, Clinton started to interject while Sanders was speaking. ”Excuse me, I’m talking,” Sanders told Clinton',\n",
              "  7: ' A Tuesday Sanders endorsement of Clinton would still cut timing close, though, with the Democratic convention in Philadelphia set to open in just over two weeks..  A pending Sanders endorsement was among two outstanding issues for the Clinton campaign, along with questions over Clinton’s email server use.  Climate change, health care and a minimum wage hike are among the issues that the Sanders campaign are calling victories.  Even after the primary season ended, Sanders stayed in the race and vowed to carry his fight to the convention. The Sanders campaign confirmed Monday that the Vermont senator will appear with Clinton at a Portsmouth High School rally',\n",
              "  8: '  —   Hillary Clinton (@HillaryClinton) February 20, 2016,  The Clinton campaign confirmed to CNN that Ferrell supported Clinton and is even hosting a fundraiser for the former secretary of state in Los Angeles. :  .  CNN also has a screenshot of the Sanders campaign webpage that listed Ferrell supporting Sanders.. Your location: https:  . Hillary Clinton’s presidential campaign on Saturday touted a video of Will Ferrell telling Nevadans to caucus for her —  even though the actor had been listed as a supporter on Sen',\n",
              "  9: '[“Wake up, South Carolina!” Lee said in the   radio spot. Hillary Clinton currently holds a   lead over Bernie Sanders in South Carolina, according to the Real Clear Politics average of polls. “That’s why I’m officially endorsing my brother Bernie Sanders,” Lee said, adding: Bernie takes no money from corporations —  nada! Which means he is not on the take. Bernie Sanders known in a radio ad released Tuesday morning. ”   Lee referred to the socialist senator from Vermont as “Bernie from Brooklyn,” while detailing the Democratic hopeful’s   civil rights record'},\n",
              " {0: '. ” Elzea’s statement went on to say that while ICE “focuses its enforcement resources on individuals who pose a threat to national security, public safety, and border security  …    [Homeland Security] Secretary [John] Kelly has made clear, ICE will no longer exempt classes or categories of removable aliens from potential enforcement. FaceBook: https:  .  Twitter:  @PatriotNotPol. Even though Trump’s arrest and deportation statistics haven’t surpassed Obama’s according to The Week, “It’s the tactics Trump’s ICE agents use  —   arresting [illegal] immigrants in state and local courthouses and on the way to work, as well as apparently targeting immigrant advocates who speak out  —   that has struck terror into [illegal] immigrant communities',\n",
              "  3: '[In a New Hampshire town hall meeting, the Florida Senator argued that he was not a supporter of amnesty  —   even though his immigration bill proposed by the Senate “Gang of Eight” offered illegal immigrants a path to citizenship. “It’s very easy to stand up and talk tough on immigration, it’s very easy for someone in Congress to say, ‘I’m against illegal immigration’ but offer no ideas,” he said, “And that’s why for thirty years nothing has happened on this issue   …     it’s gotten worse because they talk about it but they don’t do anything about it. But Rubio criticized his Republican colleagues running for president for refusing to come up with a solution to deal with the millions of illegal immigrants currently in the country  —   arguing that they were making the problem worse.  “No one who has ever run for president understands this issue personally better than I do and that’s why I can tell you and you should tell your friends that no one running for president is better prepared to fix it than me,” he said in response to a voter who asked Rubio how voters would ever trust him on immigration because of his “soft” reputation on the issue. “There has to be real consequences for violating our immigration laws, so if you are a criminal you going to be immediately deported   …     if you violated our immigration laws there will be a substantial consequences for having done so',\n",
              "  9: 'TODD: So not  —   RUBIO: Under immigration law. It’s clear now more than ever that we won’t be able to do anything on people here illegally until we first prove to people that illegal immigration is under control and America is safe. It’s clear now more than ever that we won’t be able to do anything on people here illegally until we first prove to people that illegal immigration is under control and America is safe. ”  Partial transcript as follows: TODD: Let me ask you on the 11 million, are you still for finding a way for them to legally stay in the United States? RUBIO: If you’re a criminal alien, no, you can’t stay. I’ve said that before, that’s been  —   a felon, someone who’s committed a crime, a   related  —   obviously  —   and that’s what I’ve talked about in the past'}]"
            ]
          },
          "metadata": {
            "tags": []
          },
          "execution_count": 18
        }
      ]
    },
    {
      "cell_type": "markdown",
      "metadata": {
        "id": "3Pj7Qc5Kvo1j",
        "colab_type": "text"
      },
      "source": [
        "# Create Summary of Summaries for each Cluster\n",
        "Since there are five clusters, each of them with summaries of relevant artciles, we now concatenate and return a final summary per cluster. The following operation yields a single summary per cluster."
      ]
    },
    {
      "cell_type": "code",
      "metadata": {
        "id": "HShrAq2EzSDp",
        "colab_type": "code",
        "colab": {}
      },
      "source": [
        "summary_of_summaries = []\n",
        "for summaries in cluster_summaries:\n",
        "  # this is a summary of concatenated text\n",
        "  summario = summary_summaries(summaries)\n",
        "  summary_of_summaries.append(summario)\n"
      ],
      "execution_count": 0,
      "outputs": []
    },
    {
      "cell_type": "code",
      "metadata": {
        "id": "wCNuMY8gzZ1B",
        "colab_type": "code",
        "colab": {
          "base_uri": "https://localhost:8080/",
          "height": 35
        },
        "outputId": "3148837d-8630-46ed-b63f-69a4537f7e01"
      },
      "source": [
        "# making sure that the number of clusters, matches the summaries\n",
        "len(cluster_summaries) == len(summary_of_summaries)"
      ],
      "execution_count": 20,
      "outputs": [
        {
          "output_type": "execute_result",
          "data": {
            "text/plain": [
              "True"
            ]
          },
          "metadata": {
            "tags": []
          },
          "execution_count": 20
        }
      ]
    },
    {
      "cell_type": "code",
      "metadata": {
        "id": "I_wC5GyR4G_e",
        "colab_type": "code",
        "colab": {
          "base_uri": "https://localhost:8080/",
          "height": 124
        },
        "outputId": "150b7f47-c7ef-49c0-ae0b-ebb1dd4b759e"
      },
      "source": [
        "summary_of_summaries"
      ],
      "execution_count": 21,
      "outputs": [
        {
          "output_type": "execute_result",
          "data": {
            "text/plain": [
              "['’  ’ ’   Hackers associated with Russia’’s military intelligence agency   targeted a company with information on US voting software days   before the election and used the data to launch ”voter    ” cyberattacks on local government officials,   according to a    that was leaked to . This should distress every   American.” ’ ’   The Washington Post and The New York Times reported on Friday   that  concluded that   Russia interfered in the election to help   Donald   Trump. ’ ’   Podesta added: ”Each day that month, our campaign decried the   interference of Russia in our campaign and its evident goal of   hurting our campaign to aid Donald Trump’ ’   One ”  scenario” the officials envision is a     that shuts down part of the internet. ’ ’   Other   operations could include the release of fake   documents that could damage one of the candidates without giving   the media a chance to   them. ” ’   But he said last week that ”patriotically minded” Russians,   whom he compared to artists, might have taken it upon themselves   ”to fight against those who say bad things about Russia,”   according to The    which was present at his news conference with Russian and foreign   outlets in St',\n",
              " '”The normal punishment,   in this case, would include losing authority to handle classified   information, and that too disqualifies Hillary Clinton from being   president.” ’ ’   Trump added: ”But because of our rigged system that holds the   American people to one standard and people like Hillary Clinton   to another, it does not look like she will be facing the criminal   charges that she deservesRand Paul ( ) said that if WikiLeaks has emails that prove Democratic presidential nominee Hillary Clinton and her State Department were aware weapons were going to Islamic terrorists, Clinton could get five years in prison for lying to Congress. ’ ’   The presumptive Republican nominee said Comey laid out a   ”detailed case” of how Clinton ”compromised the safety of the   American people by storing highly classified information on a   private email server with no security.” ’ ’   ”He confirmed that her email could easily have been hacked by   hostile actors, and confirmed that those she emailed with were   hacked,” he said.     . ”Our adversaries almost certainly have a   blackmail file on Hillary Clinton, and this fact alone   disqualifies her from service.” ’ ’   Comey announced Tuesday that the FBI would  be filed against Clinton, despite   characterizing her conduct handling classified information as   ”extremely careless.” ’ ’   ”The final jury will be the American people, and they will issue   the verdict on her corruption, incompetence, and bad judgment on   November 8,” Trump said. ’ ’   Trump alleged ”it was no accident” charges were not filed against   Clinton ”the exact same day as President Barack Obama campaigns   with her for the first time.” ’ ’   ”Folks  —   the system is rigged,” he said',\n",
              " 'We have to name them and own them  —   and then change them.  #DemsInPhilly https:  . [The New York     DoSomething. I marched against the war  —   DoSomething. DUNHAM: But what I was going to say is that  —   FARIS: Without food on the table it’s hard for them to see another perspective when they’re clearing no money and to pay for their healthcare’ Earlier this morning, protesters marched down Main Street in Park City, Utah  —   where the Sundance Film Festival is currently taking place  —   in a Women’s March organized by Chelsea Handler.’ ’ BuzzFeed News was on site and asked women why they were participating in the march',\n",
              " '\\r  —   People For Bernie (@People4Bernie) March 28, 2016      . \\r  —   NC For Bernie (@NCForBernie) March 29, 2016      . \\r  —   Travis Ruger (@TravisRuger) March 30, 2016    And then there’s Rand Paul, who seems to just be trolling the whole thing:      So @HillaryClinton doesn’t like your tone @SenSanders? She clearly has never heard your folk album https:  . RELATED: Final   Poll: Trump Holds His Lead, There’s more mixed news for both candidates buried deeper in the poll\\r  —   Arabs For Bernie (@ArabsForBernie) March 30, 2016      #ToneDownForWhat #StillSanders #Bernie2016 #WeNotMe pic. #ToneDownForWhat\\r  —   Maddie Moore (@mooooregasm) March 28, 2016    The hashtag formed after Clinton’s strategist Joel Benenson said the campaign was weary of participating in a debate because the Sanders campaign told the Washington Post the team was polling which issues would cause the most damage in the New York primaryIt led the Clinton campaign to hold a conference call with reporters and accuse Sanders of breaking a pledge not to run negative ads during the campaign.” ’”We were very surprised today to see that Bernie Sanders had launched a negative television advertisement against Hillary,” Clinton campaign manager Robby Mook said on the call.’ ’”We were particularly surprised because he had personally pledged  —   and his campaign had pledged  —   never to run a negative advertisement,” he added',\n",
              " '. I’ve said that before, that’s been  —   a felon, someone who’s committed a crime, a   related  —   obviously  —   and that’s what I’ve talked about in the past. “There has to be real consequences for violating our immigration laws, so if you are a criminal you going to be immediately deported   …     if you violated our immigration laws there will be a substantial consequences for having done soTODD: So not  —   RUBIO: Under immigration law. FaceBook: https:  .  Twitter:  @PatriotNotPol']"
            ]
          },
          "metadata": {
            "tags": []
          },
          "execution_count": 21
        }
      ]
    },
    {
      "cell_type": "markdown",
      "metadata": {
        "id": "-Xj8YN1rzgPa",
        "colab_type": "text"
      },
      "source": [
        "#Evaluation of Summaries\n",
        "Goal: Each summary is clustered with the original articles that were used to create the summaries."
      ]
    },
    {
      "cell_type": "code",
      "metadata": {
        "id": "0rQzCLh_0OUW",
        "colab_type": "code",
        "colab": {}
      },
      "source": [
        "# create embeddings for each summary\n",
        "summary_embeddings = emb_model(summary_of_summaries)"
      ],
      "execution_count": 0,
      "outputs": []
    },
    {
      "cell_type": "code",
      "metadata": {
        "id": "w4SpdvbQ0akn",
        "colab_type": "code",
        "colab": {
          "base_uri": "https://localhost:8080/",
          "height": 35
        },
        "outputId": "235c0379-d597-4bcf-fb66-ff158f0ccfb4"
      },
      "source": [
        "# create DF with titles on axis, and semantic similarities in cells\n",
        "cos_df = pd.DataFrame(cosine_similarity(summary_embeddings, train_embeddings))\n",
        "cos_df.columns = small_data.title\n",
        "cos_df.index = [summary_of_summaries[i][:50] for i in range(len(summary_of_summaries))]\n",
        "\n",
        "cos_df.shape"
      ],
      "execution_count": 24,
      "outputs": [
        {
          "output_type": "execute_result",
          "data": {
            "text/plain": [
              "(5, 13000)"
            ]
          },
          "metadata": {
            "tags": []
          },
          "execution_count": 24
        }
      ]
    },
    {
      "cell_type": "code",
      "metadata": {
        "id": "hl27iryC0iw_",
        "colab_type": "code",
        "colab": {}
      },
      "source": [
        "# func to return the column index of the top n values in a row of a dataframe\n",
        "\n",
        "def find_topind(df, i ,n):\n",
        "  return list(list(zip(*heapq.nlargest(n, enumerate(df.iloc[i,:]), key=operator.itemgetter(1))))[0])\n",
        "\n",
        "# function to return the top n values in a list\n",
        "def find_top(lst, ind):\n",
        "  return [lst[i] for i in ind]\n",
        "\n",
        "# how many articles per cluster\n",
        "n = 10\n",
        "\n",
        "#find index of n most similar articles\n",
        "top_ind = Parallel(n_jobs=16)(delayed(find_topind)(cos_df, i, n) for i in range(len(cos_df)))"
      ],
      "execution_count": 0,
      "outputs": []
    },
    {
      "cell_type": "code",
      "metadata": {
        "id": "CoSn_juJ0pKl",
        "colab_type": "code",
        "colab": {}
      },
      "source": [
        "# ids of most similar articles \n",
        "top_id = Parallel(n_jobs=16)(delayed(find_top)(small_data.id, ind) for ind in top_ind)"
      ],
      "execution_count": 0,
      "outputs": []
    },
    {
      "cell_type": "code",
      "metadata": {
        "id": "u-ZLUuZR0tZN",
        "colab_type": "code",
        "colab": {}
      },
      "source": [
        "# ids of original articles  \n",
        "og_ids = []\n",
        "for i in range(1,6):\n",
        "  cluster = clusters[clusters.cluster_labels == i]\n",
        "  og_ids.append(list(cluster.id))"
      ],
      "execution_count": 0,
      "outputs": []
    },
    {
      "cell_type": "markdown",
      "metadata": {
        "id": "2BDDhGY90y1M",
        "colab_type": "text"
      },
      "source": [
        "So what is the percentage in accuracy?"
      ]
    },
    {
      "cell_type": "code",
      "metadata": {
        "id": "jNH3b50A02tQ",
        "colab_type": "code",
        "colab": {
          "base_uri": "https://localhost:8080/",
          "height": 35
        },
        "outputId": "b131d0e8-1fe0-4c22-8738-759c6f861806"
      },
      "source": [
        "# proportion of original articles clustered with summaries \n",
        "np.mean([sum([id in top_id[i] for id in og_ids[i]])/10 for i in range(len(og_ids))])"
      ],
      "execution_count": 28,
      "outputs": [
        {
          "output_type": "execute_result",
          "data": {
            "text/plain": [
              "0.38"
            ]
          },
          "metadata": {
            "tags": []
          },
          "execution_count": 28
        }
      ]
    }
  ]
}