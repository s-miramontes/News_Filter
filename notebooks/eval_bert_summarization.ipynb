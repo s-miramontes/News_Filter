{
  "nbformat": 4,
  "nbformat_minor": 0,
  "metadata": {
    "colab": {
      "name": "eval_bert_summarization.ipynb",
      "provenance": [],
      "authorship_tag": "ABX9TyOPS3CFEZIHf4KVjbwFypqY",
      "include_colab_link": true
    },
    "kernelspec": {
      "name": "python3",
      "display_name": "Python 3"
    }
  },
  "cells": [
    {
      "cell_type": "markdown",
      "metadata": {
        "id": "view-in-github",
        "colab_type": "text"
      },
      "source": [
        "<a href=\"https://colab.research.google.com/github/s-miramontes/News_Filter/blob/master/notebooks/eval_bert_summarization.ipynb\" target=\"_parent\"><img src=\"https://colab.research.google.com/assets/colab-badge.svg\" alt=\"Open In Colab\"/></a>"
      ]
    },
    {
      "cell_type": "markdown",
      "metadata": {
        "id": "hFoFqpgCcD3N",
        "colab_type": "text"
      },
      "source": [
        "# Summarize Clusters from Training Data"
      ]
    },
    {
      "cell_type": "code",
      "metadata": {
        "id": "VQJXMInxb9y3",
        "colab_type": "code",
        "colab": {}
      },
      "source": [
        "import pandas as pd"
      ],
      "execution_count": 0,
      "outputs": []
    },
    {
      "cell_type": "code",
      "metadata": {
        "id": "F9wx99oiclaJ",
        "colab_type": "code",
        "colab": {}
      },
      "source": [
        "clusters = pd.read_csv(\"news_filter/data/clusters.csv\")"
      ],
      "execution_count": 0,
      "outputs": []
    },
    {
      "cell_type": "code",
      "metadata": {
        "id": "o6d3qvSZcu0X",
        "colab_type": "code",
        "colab": {
          "base_uri": "https://localhost:8080/",
          "height": 102
        },
        "outputId": "9cc7f6f9-3804-4bfa-cd74-f5baf393b9cc"
      },
      "source": [
        "for i in range(1,6):\n",
        "  print(len(clusters[clusters.cluster_labels == i]))"
      ],
      "execution_count": 7,
      "outputs": [
        {
          "output_type": "stream",
          "text": [
            "10\n",
            "10\n",
            "10\n",
            "10\n",
            "10\n"
          ],
          "name": "stdout"
        }
      ]
    },
    {
      "cell_type": "code",
      "metadata": {
        "id": "auBrZqoddN-f",
        "colab_type": "code",
        "colab": {}
      },
      "source": [
        ""
      ],
      "execution_count": 0,
      "outputs": []
    }
  ]
}