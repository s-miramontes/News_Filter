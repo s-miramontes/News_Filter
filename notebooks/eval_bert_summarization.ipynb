{
  "nbformat": 4,
  "nbformat_minor": 0,
  "metadata": {
    "colab": {
      "name": "eval_bert_summarization.ipynb",
      "provenance": [],
      "authorship_tag": "ABX9TyOmf6CZGz56s/7reUO7PHw5",
      "include_colab_link": true
    },
    "kernelspec": {
      "name": "python3",
      "display_name": "Python 3"
    }
  },
  "cells": [
    {
      "cell_type": "markdown",
      "metadata": {
        "id": "view-in-github",
        "colab_type": "text"
      },
      "source": [
        "<a href=\"https://colab.research.google.com/github/s-miramontes/News_Filter/blob/master/notebooks/eval_bert_summarization.ipynb\" target=\"_parent\"><img src=\"https://colab.research.google.com/assets/colab-badge.svg\" alt=\"Open In Colab\"/></a>"
      ]
    },
    {
      "cell_type": "markdown",
      "metadata": {
        "id": "hFoFqpgCcD3N",
        "colab_type": "text"
      },
      "source": [
        "# Evaluation of Summarization with BERT"
      ]
    },
    {
      "cell_type": "code",
      "metadata": {
        "id": "FSIb5rQCx9uo",
        "colab_type": "code",
        "colab": {}
      },
      "source": [
        "# install libraries \n",
        "\n",
        "#!pip install bert-extractive-summarizer\n",
        "\n",
        "#!pip install spacy==2.1.3\n",
        "#!pip install transformers==2.2.2\n",
        "#!pip install neuralcoref\n",
        "\n",
        "#!pip install torch"
      ],
      "execution_count": 0,
      "outputs": []
    },
    {
      "cell_type": "code",
      "metadata": {
        "id": "VQJXMInxb9y3",
        "colab_type": "code",
        "colab": {}
      },
      "source": [
        "# import statements \n",
        "\n",
        "import pandas as pd\n",
        "import numpy as np\n",
        "\n",
        "from summarizer import Summarizer\n",
        "\n",
        "from sklearn.metrics.pairwise import cosine_similarity\n",
        "\n",
        "from joblib import Parallel, delayed\n",
        "\n",
        "import heapq\n",
        "import operator\n",
        "\n",
        "from absl import logging\n",
        "\n",
        "import tensorflow as tf\n",
        "import tensorflow_hub as hub"
      ],
      "execution_count": 0,
      "outputs": []
    },
    {
      "cell_type": "markdown",
      "metadata": {
        "id": "EcixDoHvngun",
        "colab_type": "text"
      },
      "source": [
        "## Load Universal Sentence Encoder and Training Data for Evaluation"
      ]
    },
    {
      "cell_type": "code",
      "metadata": {
        "id": "4A1T0Jb-O0z1",
        "colab_type": "code",
        "colab": {}
      },
      "source": [
        "# import original training data\n",
        "small_data = pd.read_csv(\"news_filter/data/small_data.csv\")"
      ],
      "execution_count": 0,
      "outputs": []
    },
    {
      "cell_type": "code",
      "metadata": {
        "id": "0k_8iWvFOKCH",
        "colab_type": "code",
        "colab": {}
      },
      "source": [
        "# download model from https://tfhub.dev/google/universal-sentence-encoder/4 and save locally \n",
        "emb_model = hub.load(\"news_filter/tmp\")"
      ],
      "execution_count": 0,
      "outputs": []
    },
    {
      "cell_type": "code",
      "metadata": {
        "id": "Ts_K0qXCPCq9",
        "colab_type": "code",
        "colab": {}
      },
      "source": [
        "# reduce logging output\n",
        "logging.set_verbosity(logging.ERROR)\n",
        "\n",
        "# compute embeddings for each article\n",
        "train_embeddings = emb_model(small_data.content)"
      ],
      "execution_count": 0,
      "outputs": []
    },
    {
      "cell_type": "markdown",
      "metadata": {
        "id": "kUzIhtsVyqgI",
        "colab_type": "text"
      },
      "source": [
        "## Create Summaries for Clusters from Training Data"
      ]
    },
    {
      "cell_type": "code",
      "metadata": {
        "id": "F9wx99oiclaJ",
        "colab_type": "code",
        "colab": {}
      },
      "source": [
        "# import cluster data\n",
        "\n",
        "clusters = pd.read_csv(\"news_filter/data/clusters.csv\")"
      ],
      "execution_count": 0,
      "outputs": []
    },
    {
      "cell_type": "code",
      "metadata": {
        "id": "_8RjrbjNy92r",
        "colab_type": "code",
        "colab": {}
      },
      "source": [
        "# instantiate summarizer\n",
        "model = Summarizer()\n",
        "\n",
        "# function to return summary of each article in cluster\n",
        "def make_summaries(cluster):\n",
        "  result = {}\n",
        "  for i in range(len(cluster.content)):\n",
        "    summary = model(cluster.content[i], min_length=50, ratio=0.20) \n",
        "    result[i] = ''.join(summary)\n",
        "  return result"
      ],
      "execution_count": 0,
      "outputs": []
    },
    {
      "cell_type": "code",
      "metadata": {
        "id": "o6d3qvSZcu0X",
        "colab_type": "code",
        "colab": {}
      },
      "source": [
        "# summarize every aritcle in clusters\n",
        "cluster_summaries = []\n",
        "for i in range(1,6):\n",
        "  summaries = make_summaries(clusters[clusters.cluster_labels == i].reset_index())\n",
        "  cluster_summaries.append(summaries)\n",
        "\n",
        "#Parallel(n_jobs=16)(delayed(make_summaries)(clusters[clusters.cluster_labels == i].reset_index()) for i in range(1,6)) # pickling error "
      ],
      "execution_count": 0,
      "outputs": []
    },
    {
      "cell_type": "code",
      "metadata": {
        "id": "5CGPfkaV8-FA",
        "colab_type": "code",
        "colab": {
          "base_uri": "https://localhost:8080/",
          "height": 887
        },
        "outputId": "0d571179-bc64-4a3b-8e2b-55813863da11"
      },
      "source": [
        "cluster_summaries"
      ],
      "execution_count": 9,
      "outputs": [
        {
          "output_type": "execute_result",
          "data": {
            "text/plain": [
              "[{0: 'House Speaker Paul Ryan issued a statement on Thursday backing President Barack Obama’s new sanctions against Russia. [ However, there is no proof that the Russian government was involved to this effect. The Hill reported, [w]hile lawmakers were seemingly united on the need to present a strong bipartisan response, the FBI and CIA gave lawmakers differing accounts on Russia’s motives, according to The Post. ” Follow Adelle Nazarian on Twitter and Periscope @AdelleNaz.',\n",
              "  1: '’  ’ ’   Back in March, when the U. S. elections still seemed far away  —     back before anyone had heard the name Fancy Bear and before   everyone knew John Podesta’s risotto secrets  —   I was in Moscow   talking to a Russian who had previously worked in the Kremlin. ’ ’ Over the course of a   conversation, it became clear   that we agreed on one key characteristic of Vladimir Putin. This is tame, by the way, in comparison with the      rhetoric of Russian TV host and propagandist Dmitry   Kiselyov, who claimed the U. S. establishment might kill Trump   rather than let him become president  —   but such bombast is   intended for domestic consumption and not to influence the U. S.   vote.) And yet, for all this effort, what has been achieved? It is too early to be sure, but if anything, the hacks   actually seem to be doing the unthinkable and bringing Democrats   and mainstream Republicans together in their shared anger at   Moscow. ’ ’ With his      antics, though, Putin appears to have managed to   convince Clinton and those around her that the Kremlin represents   a clear and present danger to American democracy and Western   unity. Even the spooks who orchestrated all this have their qualms. These are relatively meaningless  —   but do   attract alarmed attention from the West. And America’s increasingly bitter and divided political landscape   produced an exceedingly hostile presidential campaign that   maximized the impact of strategic leaks and other “active   measures”  —   as the Russian spooks call political operations. He is focused on what he   can accomplish tomorrow, without necessarily thinking through to   what the consequences may be the day after. When the Kremlin decided to intervene in Ukraine’s Donbass   region, arming local malcontents and sending men and guns to back   them, it must have looked like a shrewd tactic. Kiev, the   thinking went, would be forced to capitulate, and Moscow could   claim not to be involved.',\n",
              "  2: 'U. S. intelligence analysts have concluded that Russia intervened in the 2016 election to help   Donald Trump win the White House, and not just to undermine confidence in the U. S. electoral system, a senior U. S. official said on Friday. U. S. intelligence agencies have assessed that as the 2016 presidential campaign progressed, Russian government officials devoted increasing attention to assisting Trump’s effort to win the election, the U. S. official familiar with the finding told Reuters on Friday night, speaking on condition of anonymity. The election ended a long time ago in one of the biggest Electoral College victories in history. Protecting the integrity of our elections is hindered when   Trump and his transition team minimize or dismiss the intelligence assessments themselves,” Representative Adam Schiff of California, the ranking Democrat on the House intelligence committee, said in a statement issued on Saturday. The president has directed the intelligence community to conduct a full review of what happened during the 2016 election process . .. That was a major clue to their intent,” the official said. ” That became a laughing point, not a talking point, a laughing point.',\n",
              "  3: '(CNN) Russian cyberhacking activity has continued largely unabated since the November election, including against US political organizations, US officials briefed on the investigation told CNN on Thursday. In terms of retaliation against Russia this person said a variety of options are on the table but everything is being carefully considered because ”right now it’s like the old cold cyber war and the last thing you want to do is turn it into a hot shooting war.” US intelligence and law enforcement officials believe even with a new president considered more friendly to Russia, the Russian intelligence agencies will continue to carry out such hacks.',\n",
              "  4: 'President Donald Trump responded Wednesday to the appointment of a special counselÂ to head the Justice Department s investigation of Russian interference in the 2016 election, saying the development would “confirm” that there was “no collusion” between his campaign and Russia.',\n",
              "  5: 'One of the most startling allegations in a January report by U. S. intelligence agencies about Russian hacking was this sentence: “Russia has sought to influence elections across Europe. ” This warning of a campaign far broader than the United States got little attention in America. We may be missing the forest for the trees in the Russia story: The Kremlin’s attempt to meddle in the 2016 U. S. presidential election is part of a much bigger tale of Russian covert action  —   in which Donald Trump’s campaign was perhaps a tool, witting or unwitting. Unless the United States stands solidly with its allies, Lavrov’s claim may prove accurate. Let’s look at Germany, which faces parliamentary elections in September. The German government told the Bundestag in a Dec. 22 report that German computer networks were hit once a week last year by foreign intelligence services. The transatlantic alliance has survived nearly 70 years of Russian manipulation, but it’s fragile these days. Katrina vanden Heuvel:   furor around Russia is counterproductive',\n",
              "  6: '’  ’ ’   Hackers associated with Russia’’s military intelligence agency   targeted a company with information on US voting software days   before the election and used the data to launch ”voter    ” cyberattacks on local government officials,   according to a    that was leaked to . ’ ’ The NSA document offers the  ’ ’  ’ ’  ’ ’   ’ ’’ ’  ’ ’  ’ ’  ’ ’   ’ ’  ’ ” Kremlin had ordered cyberattacks on the   Democratic National Committee and Hillary Clinton’s campaign   chairman, John Podesta, during the 2016 election. ” ’',\n",
              "  7: '’  ’ ’   A top adviser to Hillary Clinton said on Monday that the campaign   wants Electoral College members to receive a briefing on Russian   interference in the US presidential election. ’ ’ ”Electors have a solemn responsibility under the Constitution,   and we support their efforts to have their questions addressed,”   John Podesta, who chaired the Clinton campaign, said in a   statement. ’ ’',\n",
              "  8: '’  ’ ”   The US government is launching a massive effort to stop Russian   hackers from interfering with the results of next week’s   presidential election, according to a major report . ” ’ The White House and the Department of Homeland Security are   leading the effort against Russian   government   officials told NBC News. ”Given [the Russians’’] past behavior in other contexts, we   understand the way they like to go about potentially causing   confusion and so we want to make sure that we are mitigating that   potential,” a Department of Homeland Security official told NBC   News. ’ ’',\n",
              "  9: 'Former Clinton aide Jennifer Palmieri has blasted President Trump for being “preoccupied” with allegations of ties between Russia and the Trump campaign and called him “obsessed” with proving he is a legitimate president. Palmieri, who served as the communications director for the Clinton campaign, told the New York Times in a weekend article that Trump’s tweeting after his firing of FBI Director James Comey shows he is “more preoccupied” with the Russia controversy than once thought. He’s clearly been more preoccupied with it than we understood. ” That narrative has been peddled by Clinton aides and media outlets ever since. At an event in New York in May, Clinton herself blamed Russia for her election woes.'},\n",
              " {0: '’  ’ ’   Donald Trump said in a Tuesday statement that ”our adversaries   almost certainly have a blackmail file” on Hillary Clinton after   FBI Director James Comey announced it was certainly ”possible”   hostile actors gained access to her private email account. ’ ’ The presumptive Republican nominee said Comey laid out a   ”detailed case” of how Clinton ”compromised the safety of the   American people by storing highly classified information on a   private email server with no security.” ’ ’ ”He confirmed that her email could easily have been hacked by   hostile actors, and confirmed that those she emailed with were   hacked,” he said. ”',\n",
              "  1: 'During Thursday’s “O’Reilly Factor,” Sen. Rand Paul ( ) said that if WikiLeaks has emails that prove Democratic presidential nominee Hillary Clinton and her State Department were aware weapons were going to Islamic terrorists, Clinton could get five years in prison for lying to Congress. There have been many, many first hand accounts, The New York Times, London Times, Washington Times have all reported upon this,” Paul told guest host Eric Bolling.',\n",
              "  2: '(CNN) WikiLeaks founder Julian Assange is boasting about how his group’s release of hacked Democratic National Committee emails is affecting the US presidential election    and says it has unreleased information about Hillary Clinton’s campaign. ” We have more material related to the Hillary Clinton campaign,” Assange told CNN’s Anderson Cooper on ”Anderson 360” Friday night. ” The revelation comes just days after the leak of thousands of Democratic National Committee emails    US officials allege Russian hackers    prompted major turmoil within the party, causing the abrupt resignation of its chairwoman, Rep. Debbie Wasserman Schultz. We have more material related to the Hillary Clinton campaign.',\n",
              "  3: 'They had them deleted where even God can’t read them,” Rep. Trey Gowdy,  . Yet Gowdy said her team was using BleachBit, which is like an electronic shredder that permanently scrambles data. A federal judge has now ruled that the State Department has until Sept. 13 to show which emails are  . Based on the FBI investigative file, including notes from Clinton’s July interview, Gowdy said it doesn’t appear agents pressed Clinton on why she set up the server. “',\n",
              "  4: 'President Donald Trump on Tuesday night bashed his FBI director, James Comey, and Hillary Clinton, after Clinton placed some blame on the FBI for her loss in the 2016 election. —   Donald J. Trump (@realDonaldTrump) May 3, 2017,  During an interview at a Women for Women International luncheon on Tuesday, Clinton said that she was “on the way to winning” the presidency until Wikileaks published her campaign staffers’ emails and the FBI reopened its investigation into her emails.',\n",
              "  5: '’’ ’Fox News host Bret Baier grilled Hillary Clinton over her use of a private email server during her first appearance on the network in more than two years on Monday.’ ’ In a network   event, Baier pressed Clinton at length about her use of a private email server while she was the US secretary of state.’ ’” There’’s a lot of misinformation going on around here, so let me start with the facts,” Clinton said.’ ’',\n",
              "  6: 'Donald Trump thanked Hillary Clinton’s top aide Huma Abedin and her estranged husband, disgraced former lawmaker Anthony Weiner, during his campaign rally in Grand Rapids, Michigan. [ “As you know, the FBI has reopened its investigation into Hillary Clinton and discovered another 650, 000 emails,” Trump announced. “ She lied under oath when she turned over all of her work related emails.',\n",
              "  7: 'A man who has described himself as “Julian Assange’s Personal Internet Service” stood outside of the Ecuadorian Embassy in London on Wednesday, shouting news headlines to WikiLeaks editor Julian Assange after his internet was cut. [ In the leaked Podesta emails, several controversies have been revealed, including how the Clinton Campaign disregarded shootings that didn’t fit their gun control narrative, were disappointed that the San Bernadino shooter wasn’t white, and invited top mainstream media reporters to dine at their houses prior to Clinton’s campaign launch. You can follow him on Twitter @MrNashington or like his page at Facebook.',\n",
              "  8: 'The Republican yearning to pin a scandal on Hillary Clinton knows no bounds. Adding insult to injury, the Benghazi committee came up  . The September 2012 attacks on U. S. diplomatic and intelligence facilities in Benghazi, Libya, that killed Ambassador J. Christopher Stevens and three other Americans should be blamed on the terrorists who committed the assault  —   not on the secretary of state. Trump keeps threatening to   the 1990s by dredging up Bill Clinton’s womanizing and even the suicide of Clinton friend and associate Vince Foster. Here are the 5 most serious accusations in the report. ( Clinton’s critics note that David Petraeus, a former CIA director and one of the most lauded military officers of his time, pleaded guilty to a misdemeanor charge and was hit with a $100, 000 fine for that offense.',\n",
              "  9: 'The exchange between Podesta and Center for American Progress head Neera Tanden on July 24, 2015, started when Tanden asked if Podesta knew “who told Hillary she could use a private email? CLINTON AIDE CRIED FOUL ON OBAMA’S EMAIL DENIAL, That conversation wasn’t the first time Podesta and Tanden had speculated that Mills played a central role in the establishment of Clinton’s private email system. Know you love her, but this stuff is like her Achilles heal.'},\n",
              " {0: 'Friday on ABC’s “The View,” actress Lena Dunham said being that “a part of feminism” is almost like “being a parent” and that the white women who voted for Donald Trump need to be enlightened “with the rhetoric of  . ” DUNHAM: But what I was going to say is that  —   FARIS: Without food on the table it’s hard for them to see another perspective when they’re clearing no money and to pay for their healthcare. And so, while I think we have an incredible amount of work to do with enlightening those women, I also have sympathy for the societal structures that keep them from understanding what they need to keep themselves safe. (',\n",
              "  1: '’ Earlier this morning, protesters marched down Main Street in Park City, Utah  —   where the Sundance Film Festival is currently taking place  —   in a Women’s March organized by Chelsea Handler.’ ’',\n",
              "  2: 'Pop superstar Beyoncé Knowles has been named 2016’s most charitable celebrity for her work in support of the social justice movement Black Lives Matter and for gender equality. [ “Beyoncé topped this year’s list for using her platform to bring light to a variety of causes including representation of black women in popular culture, the water crisis in Flint, Michigan, and gender equality,” the organization’s website read. “ org (@dosomething) December 27, 2016,  Beyoncé was one of the year’s most politically outspoken stars. Singers Taylor Swift and Demi Lavato and actress Shailene Woodley round out the top five spots, respectively.',\n",
              "  3: 'But over the weekend, as President Donald Trump fought with the media over the attendance at his inauguration —  experts’ estimates put the crowd at about 160, 000 people, while Trump falsely claimed an attendance of 1. He added each to a Google spreadsheet, with a high and low estimate for attendance in each city he found. They set up a Google form for people to send in their own estimates and share sources. The spreadsheet also tallies attendance at rallies in more than 100 cities around the world. Chenoweth studies emerging political movements, so she jumped on the opportunity to watch a new one perhaps begin to unfold here in the U. S. But more fundamentally, she said, the act of counting itself is an important one. “ Chenoweth and Pressman’s spreadsheet is separate from another effort to gather attendance data using SMS messaging. It’s Time Network had been in touch with the organizers of the Women’s March since early January, the spokesperson said, and had offered to turn over all the data they gathered by SMS —  they asked participants for their phone number, zip code, email, and where they marched —  to the organizers. While participants were asked to text in order to be counted, one of the main goals of the campaign is to build a list of phone numbers that belong to people who demonstrated on Saturday, or who supported the marches. Some privacy advocates pointed out on Twitter that the number that march participants were asked to text —  89800 —  appears to be connected to a company that uses the number to send up to eight monthly “alerts regarding promotions, coupons, and time sensitive deals from local businesses. ” For now, they hope that a running count of will offer march leaders and participants a rare commodity in organizing: a way to measure their success.',\n",
              "  4: 'According to a study by the Center of American Progress, a   think tank, it would cost the U. S. gross domestic product $21 billion if all American women who work outside of the home for pay took a day off. Some employers have come out in support of female employees who want to participate. The music network MTV is also participating, including flipping the M in its logo into a W . Several school districts are closing in order to facilitate leave requests from staffers who plan on participating. In northern Virginia, schools are closed in one district after 300 staff members requested the day off for the protest. The organizers are encouraging women to refrain from both paid and unpaid labor and to avoid shopping —  unless it’s at a   establishment. Others have criticized the timing of the strike, saying that strategic changes, such as having a protest later in the day, could have been made so more women could participate. In Texas, which is an   employment state, the organizers of Austin’s Women’s March have opted not to participate in Wednesday’s strike due to concerns it might result in those protesting losing their jobs. As some have joked, some industries are still so   that they may be insulated from the message: I want to make a joke about how several venture capital firms are already partaking in ”A Day Without a Woman” but it’s just too real.',\n",
              "  5: '',\n",
              "  6: 'Actor Tony Goldwyn  —   best known for his role as President Fitzgerald Grant on ABC’s Scandal  —   introduced the Mothers of the Movement, a politically active group of mothers whose children were killed in   shootings in recent years, at the Democratic National Convention on Tuesday evening. [“ —   Hollywood Reporter (@THR) July 27, 2016,  Goldwyn is a longtime supporter of Hillary Clinton.',\n",
              "  7: 'The   protest set for Jan. 21 keeps running into weird trouble. But it’s The Washington Post’s debacle that makes us suspect a curse: Thursday’s edition of the paper’s free giveaway, Express, was all about the march  —   but the cover was dominated by a giant male symbol, rather than the female one.',\n",
              "  8: 'At about 10am on Saturday, as a quarter of a million or more people gather in protest at the base of Capitol Hill for the Women’s March on Washington, the newly minted President Donald Trump will be on his knees at “a service of prayer and reflection” at the National Cathedral. I hope he will be praying about how to be the president of all the people. But those close to the planning acknowledge that they are prepared, in coordination with the police, city officials and thousands of volunteers and private security staff, if the numbers swell considerably, to half a million or beyond. I put a lot of my energy under Obama into supporting black women’s leadership and women’s leadership overall  —   we could have broken the glass ceiling with Hillary Clinton and it didn’t happen, so that’s what’s motivated me to take part,” she added. Not that there are not problems, but it’s not all rocked with violence and poverty. She saw in it coded language designed to further divide rather than unite voters and to erase civil liberties, she said. Following scuffles and arrests in protests coinciding with the inauguration on Friday, Billoo said she hoped the Women’s March on Washington itself would be a wholly peaceful rally and demonstration. Making the march happen has been one of the largest grassroots efforts that anyone has ever seen.',\n",
              "  9: 'Once more, the National Mall has swelled with demonstrators. And Pence wasn’t the only representative from the White House on the rally’s schedule. It is a right it is not a privilege it is not a choice. Amid the crowd, which began gathering hours early for the rally, NPR’s Sarah McCammon noted that many of the protesters’ signs quote biblical verses  —   among a spate of other signs calling for defunding Planned Parenthood. ” As Sarah has reported, the brief interlude between this rally and the march that flooded the same spaces last Saturday makes for an abrupt juxtaposition.'},\n",
              " {0: 'Sen. Bernie Sanders ( ) conceded the Democratic Nevada caucus in a Saturday speech, noting that his presidential campaign has come a long way in the past few months. ” Five weeks ago, we were 25 points behind in the polls and we have made some real progress,” Sanders told his supporters about his standing in Nevada. ” We are going to be taking on a very powerful and   super PAC, a super PAC that receives significant amounts of money from Wall Street and wealthy special interests,” he said.',\n",
              "  1: 'Senator Bernie Sanders endorsed former Secretary of State Hillary Clinton at an event in Portsmouth New Hampshire. First the #ClintonContamination got Elizabeth Warren now the Hillary and Bernie event has proven it got Bernie too. The masses will not vote for the Democratic Party because they are untrustworthy. He brought up unelected super delegates which went overwhelmingly for Clinton and talked about besting Clinton in a number of contests, saying, “Our campaign won the primaries and caucuses in 22 states, and when the roll call at the Democratic National Convention in Philadelphia is announced it will show that we won almost 1, 900 delegates.',\n",
              "  2: 'Cedar Rapids, Iowa  —   Senator Bernie Sanders came out swinging Saturday night after the release of the   final Des Moines Register before Monday’s Iowa caucuses, arguing at a raucous Cedar Rapids rally that the Hawkeye State remains “virtually tied” as he and Hillary Clinton enter the home stretch. “ Sanders crowed to thunderous applause at a rally here. Perhaps cognizant of just how close the race has become, Sanders pulled no punches against Clinton, telling the crowd of 1, 200 that she “brag[s] about raising tens of millions of dollars for her Super PAC,” saying he’s “disappointed by the tone of her campaign,” and blasting her willingness to accept donations from Wall Street.',\n",
              "  3: '’’ ’Democratic presidential candidates Sen. Bernie Sanders ( ) and Hillary Clinton have stopped calling each other to offer their congratulations on caucus and primary victories, according to a Sunday ’ ”After Clinton won five states on March 15, Sanders’ campaign manager, Jeff Weaver, reportedly didn’t phone Clinton’s aide, Huma Abedin, to connect the candidates until 1:30 a. m.  —   after Clinton had retired for the evening.',\n",
              "  4: 'Hillary Clinton’s campaign says Bernie Sanders needs to tone it down. On Tuesday, Clinton said she was open to a debate in Brooklyn while on the campaign trail in Wisconsin. —   Arabs For Bernie (@ArabsForBernie) March 30, 2016      #ToneDownForWhat #StillSanders #Bernie2016 #WeNotMe pic. —   Travis Ruger (@TravisRuger) March 30, 2016    And then there’s Rand Paul, who seems to just be trolling the whole thing:      So @HillaryClinton doesn’t like your tone @SenSanders? She clearly has never heard your folk album https:  . #ToneDownForWhat\\r  —   Dr. Rand Paul (@RandPaul) March 29, 2016    We’ve seen this grassroots effort from Sanders’s people before Similarly, Sanders supporters engaged Twitter users in another   social campaign with the #HillarySoProgressive hashtag earlier in February when the two candidates engaged in an ideological debate over Clinton’s commitment to progressive values.',\n",
              "  5: '’’ ’For months, when Sen. Bernie Sanders ( ) had a clear shot at Hillary Clinton, he pretty much stepped aside. ’ ” The American people are sick and tired of hearing about your damn emails!” I think that Clinton is going to be a lot more aggressive. I mean he’s pretty abrasive to begin with, even when he’s trying to be nice. People close to the Sanders campaign have said recently that given the nasty rhetorical turn in both camps, it’s hard to see how the debate itself won’t be nastier than past meetings. t’t’t”To Bernie Sanders with thanks for your commitment to real health care access for all Americans. ..” We were very surprised today to see that Bernie Sanders had launched a negative television advertisement against Hillary,” Clinton campaign manager Robby Mook said on the call.’ ’” This is not an ad directed at Secretary Clinton exclusively. She wants Wall Street and corporate special interests to like her.',\n",
              "  6: 'Following the Democratic presidential debate in Flint, Michigan, on Sunday night, Sen. Bernie Sanders’ ( ) presidential campaign defended a comment made by the senator when Hillary Clinton attempted to interject while he was responding. ” I think Bernie was being himself, I think he’s a real person,” Tad Devine, a top strategist with the Sanders campaign, told Buzzfeed News. ” Some people may not like the way he wags his finger.',\n",
              "  7: 'Washington (CNN) Bernie Sanders is positioned to officially throw his support behind Democratic rival Hillary Clinton in New Hampshire on Tuesday, CNN’s John King reported on ”Inside Politics” Sunday. Climate change, health care and a minimum wage hike are among the issues that the Sanders campaign are calling victories. Even after the primary season ended, Sanders stayed in the race and vowed to carry his fight to the convention.',\n",
              "  8: 'Hillary Clinton’s presidential campaign on Saturday touted a video of Will Ferrell telling Nevadans to caucus for her —  even though the actor had been listed as a supporter on Sen. Bernie Sanders’ ( ) campaign website. —   Hillary Clinton (@HillaryClinton) February 20, 2016,  The Clinton campaign confirmed to CNN that Ferrell supported Clinton and is even hosting a fundraiser for the former secretary of state in Los Angeles.',\n",
              "  9: 'Filmmaker and New York native Spike Lee made his support for presidential candidate Sen. Bernie Sanders known in a radio ad released Tuesday morning. [“ He was arrested in Chicago for protesting segregation in public schools. Lee’s endorsement and this new radio ad come just four days ahead of Saturday’s Democratic primary in South Carolina, where Clinton and Sanders have gone out of their way to appeal to the Palmetto State’s heavily black electorate.'},\n",
              " {0: 'Immigration and Customs Enforcement (ICE) is no longer “shielding”   aliens who are present in the US illegally, and arrests among that group have doubled since President Trump took office, according to a Washington Post report:[“[Illegal Alien] arrests rose 32. The threat of enforcement has reportedly resulted in fewer crimes being reported in some communities heavily populated by illegal aliens. First, the 11 million number has been quoted by media sources since 2005 —  even though a source is never quoted.',\n",
              "  1: 'On Monday, Donald Trump gave a speech at Youngstown State University in which he offered some more detail to his foreign policy proposals. Hood shooting, the Boston Bombing, the San Bernardino attack, the Orlando attack  —   is that they have involved immigrants or the children of immigrants. In Cologne, Germany, on New Year’s Eve, we have seen the reports of sexual violence and assault. In the Cold War, we had an ideological screening test. We will stop processing visas from those areas until such time as it is deemed safe to resume based on new circumstances or new procedures. The United States Senate Subcommittee on Immigration estimates that Hillary Clinton’s plan would mean roughly 620, 000 refugees from all current   nations in her first term, assuming no cuts to other refugee programs.',\n",
              "  2: 'For us to continue writing great stories, we need to display ads. It’s rare to hear many voices that reside in neither camp. Borjas’ message is that the United States is not just attracting the best and brightest immigrants from around the world —  it’s also attracting a large number of poor, uneducated, unskilled immigrants, who he says are more of a burden to the American economy than a benefit. Limiting immigration to   immigrants, he argues, is the best solution if the point of immigration law were to make all Americans wealthier. “ While Borjas insists his focus is on pure economics, there are racial implications of his analysis. Borjas attempts to differentiate between the economic circumstances of a certain group and their nationality. Comments like these risk painting a whole group as dangerous, when in reality the vast, vast majority of people will come to America and lead peaceful, productive lives. The Naturalization Act of 1790 first established that only free, white immigrants could become U. S. citizens. In 1882, Congress passed the Chinese Exclusion Act to halt immigration of Chinese laborers during the Gold Rush. ( It also limited Jewish and African immigration, and outright banned Arabs from moving to the country.',\n",
              "  3: 'Republican presidential candidate Senator Marco Rubio says that no one who has ever run for president knows more about fixing immigration in the United States than he does. [ “No one who has ever run for president understands this issue personally better than I do and that’s why I can tell you and you should tell your friends that no one running for president is better prepared to fix it than me,” he said in response to a voter who asked Rubio how voters would ever trust him on immigration because of his “soft” reputation on the issue. Rubio grew increasingly passionate as he discussed the issue which has nagged him on the campaign trail as he has tried to emphasize his conservative credentials. There has to be real consequences for violating our immigration laws, so if you are a criminal you going to be immediately deported   …     if you violated our immigration laws there will be a substantial consequences for having done so. ”',\n",
              "  4: 'While the level of border apprehensions of unaccompanied minors and adults traveling with children this fiscal year has dwarfed years past, the month of January saw fewer migrants detained illegally entering the U. S. than months prior. [ The level of apprehensions represents a decline compared to earlier months. Jeh Johnson highlighted the new numbers as representing a decline in attempts to illegally cross the U. S.  border.',\n",
              "  5: 'U. S. immigration law is a mess, and U. S.   enforcement is a worse mess. It is a fixable mess, if we wanted to fix it  —   but we don’t. Much of that mess is a result of destructive political incentives and extraordinarily shallow political thinking. RELATED: The Only Immigration Solution, This puts additional burdens on   residing in the United States, which is unfortunate for them but which is nonetheless the most desirable place to put such burdens, while adding trivially to the regulatory burden of already heavily regulated institutions such as financial firms and airlines. People reside, sometimes permanently, in foreign countries for economic and other reasons all the time, and the decision to do so is fundamentally different from the decision to become a citizen of that country. Assimilation is not only a cultural concern but an economic one, too, and it is much more difficult to bring   immigrants into the economic mainstream with high levels of similar immigration. But it is a job that someone is going to have to do.,',\n",
              "  6: 'Florinda Lorenzo has been in the U. S. illegally for more than a decade but checks in with federal immigration agents in Baltimore several times a year. Until recently, it had become routine, almost like a trip to the dentist. Many immigrants who are here illegally  —   like Lorenzo  —   are not in hiding. I know lots of people are getting deported now, and I wouldn’t want to be deported.” The charges were dropped, but she’s been required to check in with ICE since then. We know of at least one mother who was taken into custody out of a  .” Across the U. S. judges have issued final removal orders for more than 900, 000 people in the country illegally. Several cases of unauthorized immigrants being detained at their ICE appointments have gotten widespread attention. If agents detain large numbers of immigrants at their   he says, other immigrants may decide it’s too risky to report. ”',\n",
              "  7: 'U. S. immigration authorities made a series of arrests in at least half a dozen states across the country on Thursday and Friday, sweeping up an unknown number of undocumented immigrants, immigration lawyers and advocates said. The raids, which appeared to target scores of people, including those without criminal records, mark the first largescale episode of immigration enforcement inside the United States since President Trump’s Jan. 26 order to crack down on the estimated 11 million immigrants living here illegally. But immigration activists said Friday that they had documented ICE raids of unusual intensity in the past 48 hours in Vista, Pomona and Compton, Calif.; Austin, Dallas, and Pflugerville, Texas; Alexandria and Annandale, Va.; Charlotte and Burlington, N. C.; Plant City, Fla.; the Hudson Valley region of New York; and Wichita, Kan.  There were also reports of ICE checkpoints, targeting immigrants for random ID checks, in North Carolina and in Austin, according to advocates. Meanwhile, immigration advocacy and legal aid groups said ICE had declined to give them any information about how many people had been taken into custody. Advocates from United We Dream, the Center for Community Change and Make the Road said on a Friday conference call with reporters that they believed hundreds to have been detained, including undocumented immigrants who had no prior criminal record. We’re trying to do some legal triage,” said Bob Libal, the executive director of Grassroots Leadership, which provides assistance and advocacy work to immigrants in Austin. “',\n",
              "  8: 'As Donald Trump regularly spotlights violent crimes committed by immigrants who are in the country illegally, outrage is increasingly bubbling up in communities across the country. There was a case in Massachusetts not too long ago that I read about where a teacher was murdered by her illegal immigrant boyfriend. What we’re really doing is saying that we don’t trust and we don’t believe in our own Constitution that affords fundamental rights, including due process, to all people in this country.” Jessica Vaughan of the Center for Immigration Studies, which supports Trump’s crackdown, says the public should be outraged about the uneven enforcement of immigration laws. For well over a century, immigrants have faced hostility in the United States going back to Italians, Irish and Chinese. So far, the research is not finding that the undocumented is offending or being rearrested at rates that are any different from the U. S.  population,” Bersani says. What is certain is that the increasing focus on the worst immigrant crimes  —   whether justified or not  —   helps to drum up support for the president’s immigration dragnet.',\n",
              "  9: 'Sunday on NBC’s “Meet the Press,” Republican presidential candidate Senator Marco Rubio ( ) said, “I don’t think you’ll round up and deport 12 million people. It’s clear now more than ever that we won’t be able to do anything on people here illegally until we first prove to people that illegal immigration is under control and America is safe.'}]"
            ]
          },
          "metadata": {
            "tags": []
          },
          "execution_count": 9
        }
      ]
    },
    {
      "cell_type": "markdown",
      "metadata": {
        "id": "oUincDunCdLM",
        "colab_type": "text"
      },
      "source": [
        "## Create Summary of Summaries for each Cluster"
      ]
    },
    {
      "cell_type": "code",
      "metadata": {
        "id": "j-39SLBcAxS2",
        "colab_type": "code",
        "colab": {}
      },
      "source": [
        "# summarize summaries of each cluster \n",
        "summary_of_summaries = []\n",
        "for summaries in cluster_summaries:\n",
        "  summary = ' '.join(list(summaries.values()))\n",
        "  summary_of_summaries.append(model(summary))"
      ],
      "execution_count": 0,
      "outputs": []
    },
    {
      "cell_type": "code",
      "metadata": {
        "id": "olEsIY9RFBtW",
        "colab_type": "code",
        "colab": {
          "base_uri": "https://localhost:8080/",
          "height": 122
        },
        "outputId": "f9288083-e409-4570-9a08-8888425a2bca"
      },
      "source": [
        "summary_of_summaries"
      ],
      "execution_count": 11,
      "outputs": [
        {
          "output_type": "execute_result",
          "data": {
            "text/plain": [
              "['House Speaker Paul Ryan issued a statement on Thursday backing President Barack Obama’s new sanctions against Russia. [ These are relatively meaningless  —   but do   attract alarmed attention from the West. U. S. intelligence agencies have assessed that as the 2016 presidential campaign progressed, Russian government officials devoted increasing attention to assisting Trump’s effort to win the election, the U. S. official familiar with the finding told Reuters on Friday night, speaking on condition of anonymity. The election ended a long time ago in one of the biggest Electoral College victories in history. That became a laughing point, not a talking point, a laughing point. ( This warning of a campaign far broader than the United States got little attention in America. Unless the United States stands solidly with its allies, Lavrov’s claim may prove accurate. Let’s look at Germany, which faces parliamentary elections in September. The transatlantic alliance has survived nearly 70 years of Russian manipulation, but it’s fragile these days. Palmieri, who served as the communications director for the Clinton campaign, told the New York Times in a weekend article that Trump’s tweeting after his firing of FBI Director James Comey shows he is “more preoccupied” with the Russia controversy than once thought.',\n",
              " '’  ’ ’   Donald Trump said in a Tuesday statement that ”our adversaries   almost certainly have a blackmail file” on Hillary Clinton after   FBI Director James Comey announced it was certainly ”possible”   hostile actors gained access to her private email account. ’ ’ The revelation comes just days after the leak of thousands of Democratic National Committee emails    US officials allege Russian hackers    prompted major turmoil within the party, causing the abrupt resignation of its chairwoman, Rep. Debbie Wasserman Schultz. Based on the FBI investigative file, including notes from Clinton’s July interview, Gowdy said it doesn’t appear agents pressed Clinton on why she set up the server. “ She lied under oath when she turned over all of her work related emails. The Republican yearning to pin a scandal on Hillary Clinton knows no bounds. Here are the 5 most serious accusations in the report. ( Know you love her, but this stuff is like her Achilles heal.',\n",
              " 'Friday on ABC’s “The View,” actress Lena Dunham said being that “a part of feminism” is almost like “being a parent” and that the white women who voted for Donald Trump need to be enlightened “with the rhetoric of  . ” They set up a Google form for people to send in their own estimates and share sources. Chenoweth studies emerging political movements, so she jumped on the opportunity to watch a new one perhaps begin to unfold here in the U. S. But more fundamentally, she said, the act of counting itself is an important one. “ For now, they hope that a running count of will offer march leaders and participants a rare commodity in organizing: a way to measure their success. Some employers have come out in support of female employees who want to participate. The music network MTV is also participating, including flipping the M in its logo into a W . Several school districts are closing in order to facilitate leave requests from staffers who plan on participating. The organizers are encouraging women to refrain from both paid and unpaid labor and to avoid shopping —  unless it’s at a   establishment. Amid the crowd, which began gathering hours early for the rally, NPR’s Sarah McCammon noted that many of the protesters’ signs quote biblical verses  —   among a spate of other signs calling for defunding Planned Parenthood. ”',\n",
              " 'Sen. Bernie Sanders ( ) conceded the Democratic Nevada caucus in a Saturday speech, noting that his presidential campaign has come a long way in the past few months. ” Senator Bernie Sanders endorsed former Secretary of State Hillary Clinton at an event in Portsmouth New Hampshire. Sanders crowed to thunderous applause at a rally here. Democratic presidential candidates Sen. Bernie Sanders ( ) and Hillary Clinton have stopped calling each other to offer their congratulations on caucus and primary victories, according to a Sunday ’ ”After Clinton won five states on March 15, Sanders’ campaign manager, Jeff Weaver, reportedly didn’t phone Clinton’s aide, Huma Abedin, to connect the candidates until 1:30 a. m.  —   after Clinton had retired for the evening. Travis Ruger (@TravisRuger) March 30, 2016    And then there’s Rand Paul, who seems to just be trolling the whole thing:      So @HillaryClinton doesn’t like your tone @SenSanders? Some people may not like the way he wags his finger. Climate change, health care and a minimum wage hike are among the issues that the Sanders campaign are calling victories. Hillary Clinton (@HillaryClinton) February 20, 2016,  The Clinton campaign confirmed to CNN that Ferrell supported Clinton and is even hosting a fundraiser for the former secretary of state in Los Angeles.',\n",
              " 'Immigration and Customs Enforcement (ICE) is no longer “shielding”   aliens who are present in the US illegally, and arrests among that group have doubled since President Trump took office, according to a Washington Post report:[“[Illegal Alien] arrests rose 32. In the Cold War, we had an ideological screening test. While Borjas insists his focus is on pure economics, there are racial implications of his analysis. The Naturalization Act of 1790 first established that only free, white immigrants could become U. S. citizens. It is a fixable mess, if we wanted to fix it  —   but we don’t. Assimilation is not only a cultural concern but an economic one, too, and it is much more difficult to bring   immigrants into the economic mainstream with high levels of similar immigration. We know of at least one mother who was taken into custody out of a  .” U. S. immigration authorities made a series of arrests in at least half a dozen states across the country on Thursday and Friday, sweeping up an unknown number of undocumented immigrants, immigration lawyers and advocates said. But immigration activists said Friday that they had documented ICE raids of unusual intensity in the past 48 hours in Vista, Pomona and Compton, Calif.; Austin, Dallas, and Pflugerville, Texas; Alexandria and Annandale, Va.; Charlotte and Burlington, N. C.; Plant City, Fla.; the Hudson Valley region of New York; and Wichita, Kan.  There were also reports of ICE checkpoints, targeting immigrants for random ID checks, in North Carolina and in Austin, according to advocates. For well over a century, immigrants have faced hostility in the United States going back to Italians, Irish and Chinese. So far, the research is not finding that the undocumented is offending or being rearrested at rates that are any different from the U. S.  population,” Bersani says. What is certain is that the increasing focus on the worst immigrant crimes  —   whether justified or not  —   helps to drum up support for the president’s immigration dragnet.']"
            ]
          },
          "metadata": {
            "tags": []
          },
          "execution_count": 11
        }
      ]
    },
    {
      "cell_type": "markdown",
      "metadata": {
        "id": "ek9drTGuOYz1",
        "colab_type": "text"
      },
      "source": [
        "## Evaluate Summary of Summaries with Universal Sentence Encoder\n",
        "\n",
        "Goal: each summary is clustered with original articles used to create the summaries"
      ]
    },
    {
      "cell_type": "code",
      "metadata": {
        "id": "rfBVPMHmPGyu",
        "colab_type": "code",
        "colab": {}
      },
      "source": [
        "# create embeddings for each user summary \n",
        "summary_embeddings = emb_model(summary_of_summaries)"
      ],
      "execution_count": 0,
      "outputs": []
    },
    {
      "cell_type": "code",
      "metadata": {
        "id": "pB212UPcRssB",
        "colab_type": "code",
        "colab": {
          "base_uri": "https://localhost:8080/",
          "height": 34
        },
        "outputId": "a2f5d9d8-788c-44cd-b295-e4ae276163d9"
      },
      "source": [
        "# data frame of titles and semantic similarities\n",
        "cos_df = pd.DataFrame(cosine_similarity(summary_embeddings, train_embeddings))\n",
        "cos_df.columns = small_data.title\n",
        "cos_df.index = [summary_of_summaries[i][:50] for i in range(len(summary_of_summaries))]\n",
        "\n",
        "cos_df.shape"
      ],
      "execution_count": 13,
      "outputs": [
        {
          "output_type": "execute_result",
          "data": {
            "text/plain": [
              "(5, 13000)"
            ]
          },
          "metadata": {
            "tags": []
          },
          "execution_count": 13
        }
      ]
    },
    {
      "cell_type": "code",
      "metadata": {
        "id": "Wug80MNhSOxU",
        "colab_type": "code",
        "colab": {}
      },
      "source": [
        "# function to return the column index of the top n values in a row of a dataframe\n",
        "def find_topind(df, i, n):\n",
        "  return list(list(zip(*heapq.nlargest(n, enumerate(df.iloc[i,:]), key=operator.itemgetter(1))))[0])\n",
        "\n",
        "# function to return the top n values in a list\n",
        "def find_top(lst, ind):\n",
        "  return [lst[i] for i in ind]\n",
        "\n",
        "# how many articles per cluster\n",
        "n = 10\n",
        "\n",
        "# find index of n most similar articles \n",
        "top_ind = Parallel(n_jobs=16)(delayed(find_topind)(cos_df, i, n) for i in range(len(cos_df)))"
      ],
      "execution_count": 0,
      "outputs": []
    },
    {
      "cell_type": "code",
      "metadata": {
        "id": "tfNrj6_JSTXD",
        "colab_type": "code",
        "colab": {
          "base_uri": "https://localhost:8080/",
          "height": 102
        },
        "outputId": "9d671ceb-21a7-43d2-c151-28ffe7272637"
      },
      "source": [
        "# ids of most similar articles \n",
        "top_id = Parallel(n_jobs=16)(delayed(find_top)(small_data.id, ind) for ind in top_ind)\n",
        "\n",
        "top_id"
      ],
      "execution_count": 15,
      "outputs": [
        {
          "output_type": "execute_result",
          "data": {
            "text/plain": [
              "[[194362, 31540, 203681, 148535, 205453, 21609, 52955, 38873, 73049, 204147],\n",
              " [72262, 86661, 70464, 189841, 40329, 86746, 216655, 85727, 56856, 121493],\n",
              " [161410, 157279, 73686, 147468, 149141, 74730, 40421, 30697, 50953, 42962],\n",
              " [68874, 55909, 96452, 39532, 199737, 209550, 212779, 97167, 67766, 68517],\n",
              " [205111, 163453, 28111, 80967, 46778, 38958, 29675, 87437, 214420, 120670]]"
            ]
          },
          "metadata": {
            "tags": []
          },
          "execution_count": 15
        }
      ]
    },
    {
      "cell_type": "code",
      "metadata": {
        "id": "agkwy7xgfrkl",
        "colab_type": "code",
        "colab": {
          "base_uri": "https://localhost:8080/",
          "height": 102
        },
        "outputId": "924d0deb-8b24-470f-b263-849bba9c6746"
      },
      "source": [
        "# ids of original articles  \n",
        "og_ids = []\n",
        "for i in range(1,6):\n",
        "  cluster = clusters[clusters.cluster_labels == i]\n",
        "  og_ids.append(list(cluster.id))\n",
        "\n",
        "og_ids"
      ],
      "execution_count": 19,
      "outputs": [
        {
          "output_type": "execute_result",
          "data": {
            "text/plain": [
              "[[45558, 72300, 194362, 59828, 92926, 205453, 67261, 72962, 72358, 31540],\n",
              " [70464, 49591, 56439, 85727, 92404, 68550, 40299, 39429, 213302, 86771],\n",
              " [34095, 103164, 48701, 73686, 74730, 60705, 38222, 122748, 147468, 161410],\n",
              " [96444, 39532, 117693, 68874, 199737, 67766, 97167, 55909, 96452, 49182],\n",
              " [28111, 214420, 80967, 45658, 46778, 120670, 163918, 205111, 163453, 34717]]"
            ]
          },
          "metadata": {
            "tags": []
          },
          "execution_count": 19
        }
      ]
    },
    {
      "cell_type": "code",
      "metadata": {
        "id": "Q3ydEsuhgToU",
        "colab_type": "code",
        "colab": {
          "base_uri": "https://localhost:8080/",
          "height": 34
        },
        "outputId": "c6d7bfa4-91d3-429d-dd92-1836039a4558"
      },
      "source": [
        "# proportion of original articles clustered with summaries \n",
        "np.mean([sum([id in top_id[i] for id in og_ids[i]])/10 for i in range(len(og_ids))])  "
      ],
      "execution_count": 36,
      "outputs": [
        {
          "output_type": "execute_result",
          "data": {
            "text/plain": [
              "0.45999999999999996"
            ]
          },
          "metadata": {
            "tags": []
          },
          "execution_count": 36
        }
      ]
    },
    {
      "cell_type": "code",
      "metadata": {
        "id": "e3_el6S8mS7s",
        "colab_type": "code",
        "colab": {}
      },
      "source": [
        ""
      ],
      "execution_count": 0,
      "outputs": []
    }
  ]
}