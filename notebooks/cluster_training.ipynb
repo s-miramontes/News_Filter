{
  "nbformat": 4,
  "nbformat_minor": 0,
  "metadata": {
    "colab": {
      "name": "cluster_training.ipynb",
      "provenance": [],
      "authorship_tag": "ABX9TyNEe/VmiHp9leOFIn4BvHlh",
      "include_colab_link": true
    },
    "kernelspec": {
      "name": "python3",
      "display_name": "Python 3"
    }
  },
  "cells": [
    {
      "cell_type": "markdown",
      "metadata": {
        "id": "view-in-github",
        "colab_type": "text"
      },
      "source": [
        "<a href=\"https://colab.research.google.com/github/s-miramontes/News_Filter/blob/master/notebooks/cluster_training.ipynb\" target=\"_parent\"><img src=\"https://colab.research.google.com/assets/colab-badge.svg\" alt=\"Open In Colab\"/></a>"
      ]
    },
    {
      "cell_type": "markdown",
      "metadata": {
        "id": "FY-ZKnw7eyEv",
        "colab_type": "text"
      },
      "source": [
        "# Cluster Training Data with Universal Sentence Encoder on Article Content"
      ]
    },
    {
      "cell_type": "code",
      "metadata": {
        "id": "ttTwDul-fkKX",
        "colab_type": "code",
        "colab": {}
      },
      "source": [
        "# %%capture\n",
        "# # Install the latest Tensorflow version.\n",
        "# !pip3 install --upgrade tensorflow-gpu\n",
        "# # Install TF-Hub.\n",
        "# !pip3 install tensorflow-hub\n",
        "# !pip3 install seaborn"
      ],
      "execution_count": 0,
      "outputs": []
    },
    {
      "cell_type": "code",
      "metadata": {
        "id": "A9le5EUTepeq",
        "colab_type": "code",
        "colab": {}
      },
      "source": [
        "# import statements \n",
        "\n",
        "import pandas as pd\n",
        "import numpy as np\n",
        "\n",
        "from sklearn.metrics.pairwise import cosine_similarity\n",
        "\n",
        "from joblib import Parallel, delayed\n",
        "\n",
        "import heapq\n",
        "import operator\n",
        "\n",
        "from absl import logging\n",
        "\n",
        "import tensorflow as tf\n",
        "import tensorflow_hub as hub"
      ],
      "execution_count": 0,
      "outputs": []
    },
    {
      "cell_type": "markdown",
      "metadata": {
        "id": "K53AgnhXfpXe",
        "colab_type": "text"
      },
      "source": [
        "## Import Training Data"
      ]
    },
    {
      "cell_type": "code",
      "metadata": {
        "id": "WFhMhJeNfq4a",
        "colab_type": "code",
        "colab": {}
      },
      "source": [
        "small_data = pd.read_csv(\"news_filter/data/small_data.csv\")\n",
        "\n",
        "small_data.shape"
      ],
      "execution_count": 0,
      "outputs": []
    },
    {
      "cell_type": "code",
      "metadata": {
        "id": "QJTAhSa3f0FV",
        "colab_type": "code",
        "colab": {}
      },
      "source": [
        "small_data.head()"
      ],
      "execution_count": 0,
      "outputs": []
    },
    {
      "cell_type": "markdown",
      "metadata": {
        "id": "j5V0hIpsf7Td",
        "colab_type": "text"
      },
      "source": [
        "## Create Embeddings on Training Data"
      ]
    },
    {
      "cell_type": "code",
      "metadata": {
        "id": "3CG__XYHhENS",
        "colab_type": "code",
        "colab": {}
      },
      "source": [
        "# download model from https://tfhub.dev/google/universal-sentence-encoder/4 and save locally \n",
        "model = hub.load(\"news_filter/tmp\")"
      ],
      "execution_count": 0,
      "outputs": []
    },
    {
      "cell_type": "code",
      "metadata": {
        "id": "ejxnEG5QhF3f",
        "colab_type": "code",
        "colab": {}
      },
      "source": [
        "# reduce logging output\n",
        "logging.set_verbosity(logging.ERROR)\n",
        "\n",
        "# compute embeddings for each article\n",
        "train_embeddings = model(small_data.content)"
      ],
      "execution_count": 0,
      "outputs": []
    },
    {
      "cell_type": "code",
      "metadata": {
        "id": "vmiFfVqShF8F",
        "colab_type": "code",
        "colab": {}
      },
      "source": [
        "# sanity check of cosine similarity of training embeddings\n",
        "cosine_similarity(train_embeddings, train_embeddings)"
      ],
      "execution_count": 0,
      "outputs": []
    },
    {
      "cell_type": "markdown",
      "metadata": {
        "id": "QVW9ddKrhxG7",
        "colab_type": "text"
      },
      "source": [
        "## Create Embeddings on Example Input Data"
      ]
    },
    {
      "cell_type": "code",
      "metadata": {
        "id": "DuoyalZPhGBB",
        "colab_type": "code",
        "colab": {}
      },
      "source": [
        "# example user inputs \n",
        "input_topics = [\"Russian interference with election\", \"Hillary Clinton WikiLeaks email Benghazi\", \"Women's march highlights\", \"Bernie Sander's Campaign\", \"ICE immigration policies\"]"
      ],
      "execution_count": 0,
      "outputs": []
    },
    {
      "cell_type": "code",
      "metadata": {
        "id": "J7488SnnhvPh",
        "colab_type": "code",
        "colab": {}
      },
      "source": [
        "# create embeddings for each user input \n",
        "input_embeddings = model(input_topics)"
      ],
      "execution_count": 0,
      "outputs": []
    },
    {
      "cell_type": "code",
      "metadata": {
        "id": "j5w_FW4phGEG",
        "colab_type": "code",
        "colab": {}
      },
      "source": [
        "# data frame of titles and semantic similarities\n",
        "cos_df = pd.DataFrame(cosine_similarity(input_embeddings, train_embeddings))\n",
        "cos_df.columns = small_data.title\n",
        "cos_df.index = input_topics\n",
        "\n",
        "cos_df.shape"
      ],
      "execution_count": 0,
      "outputs": []
    },
    {
      "cell_type": "markdown",
      "metadata": {
        "id": "VLOdlSZTlWJc",
        "colab_type": "text"
      },
      "source": [
        "## Create Clusters for Each Input"
      ]
    },
    {
      "cell_type": "code",
      "metadata": {
        "id": "702iRu4mhGRi",
        "colab_type": "code",
        "colab": {}
      },
      "source": [
        "# function to return the column index of the top n values in a row of a dataframe\n",
        "def find_topind(df, i, n):\n",
        "  return list(list(zip(*heapq.nlargest(n, enumerate(df.iloc[i,:]), key=operator.itemgetter(1))))[0])\n",
        "\n",
        "# function to return the top n values in a list\n",
        "def find_top(lst, ind):\n",
        "  return [lst[i] for i in ind]\n",
        "\n",
        "# how many articles per cluster\n",
        "n = 10\n",
        "\n",
        "# find index of n most similar titles \n",
        "top_ind = Parallel(n_jobs=16)(delayed(find_topind)(cos_df, i, n) for i in range(len(cos_df)))\n",
        "\n",
        "# show most similar titles -- predicted clusters\n",
        "top = Parallel(n_jobs=16)(delayed(find_top)(small_data.title, ind) for ind in top_ind)\n",
        "\n",
        "top\n",
        "# topics: \"Russian interference with election\", \"Wikileaks hacking Hillary Clinton's email\", \"democratic campaigns\", \"Trump against Obamacare\", \"Trump's Campaign\""
      ],
      "execution_count": 0,
      "outputs": []
    },
    {
      "cell_type": "code",
      "metadata": {
        "id": "Rz0Jk9JnhGT5",
        "colab_type": "code",
        "colab": {}
      },
      "source": [
        "# id of most similar titles \n",
        "top_id = Parallel(n_jobs=16)(delayed(find_top)(small_data.id, ind) for ind in top_ind)\n",
        "\n",
        "top_id"
      ],
      "execution_count": 0,
      "outputs": []
    },
    {
      "cell_type": "markdown",
      "metadata": {
        "id": "Dbf9RFwxlTMO",
        "colab_type": "text"
      },
      "source": [
        "## Output Clusters"
      ]
    },
    {
      "cell_type": "code",
      "metadata": {
        "id": "jlZpkpbOhGPd",
        "colab_type": "code",
        "colab": {}
      },
      "source": [
        "for c in range(len(input_topics)):\n",
        "  cluster = small_data.iloc[[i in top_id[c] for i in small_data.id]]\n",
        "  print(cluster)"
      ],
      "execution_count": 0,
      "outputs": []
    },
    {
      "cell_type": "code",
      "metadata": {
        "id": "k9uQN5pXhGM6",
        "colab_type": "code",
        "colab": {}
      },
      "source": [
        ""
      ],
      "execution_count": 0,
      "outputs": []
    },
    {
      "cell_type": "code",
      "metadata": {
        "id": "doZMWtJJhGKh",
        "colab_type": "code",
        "colab": {}
      },
      "source": [
        ""
      ],
      "execution_count": 0,
      "outputs": []
    },
    {
      "cell_type": "code",
      "metadata": {
        "id": "wurfoXe6hGH3",
        "colab_type": "code",
        "colab": {}
      },
      "source": [
        ""
      ],
      "execution_count": 0,
      "outputs": []
    },
    {
      "cell_type": "code",
      "metadata": {
        "id": "e53Bjqx-hGHG",
        "colab_type": "code",
        "colab": {}
      },
      "source": [
        ""
      ],
      "execution_count": 0,
      "outputs": []
    },
    {
      "cell_type": "code",
      "metadata": {
        "id": "Sj3RW4YMhF_S",
        "colab_type": "code",
        "colab": {}
      },
      "source": [
        ""
      ],
      "execution_count": 0,
      "outputs": []
    },
    {
      "cell_type": "code",
      "metadata": {
        "id": "9SZaXMIThF7R",
        "colab_type": "code",
        "colab": {}
      },
      "source": [
        ""
      ],
      "execution_count": 0,
      "outputs": []
    }
  ]
}