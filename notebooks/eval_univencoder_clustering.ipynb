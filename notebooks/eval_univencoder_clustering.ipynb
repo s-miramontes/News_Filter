{
  "nbformat": 4,
  "nbformat_minor": 0,
  "metadata": {
    "colab": {
      "name": "clustering_univencoder.ipynb",
      "provenance": [],
      "authorship_tag": "ABX9TyOmB6yvZlLrM3GpkeBJA72N",
      "include_colab_link": true
    },
    "kernelspec": {
      "name": "python3",
      "display_name": "Python 3"
    }
  },
  "cells": [
    {
      "cell_type": "markdown",
      "metadata": {
        "id": "view-in-github",
        "colab_type": "text"
      },
      "source": [
        "<a href=\"https://colab.research.google.com/github/s-miramontes/News_Filter/blob/master/scripts/clustering_univencoder.ipynb\" target=\"_parent\"><img src=\"https://colab.research.google.com/assets/colab-badge.svg\" alt=\"Open In Colab\"/></a>"
      ]
    },
    {
      "cell_type": "markdown",
      "metadata": {
        "id": "M9mTWc5D6ei_",
        "colab_type": "text"
      },
      "source": [
        "# Evaluation of Clustering with Universal Sentence Encoder "
      ]
    },
    {
      "cell_type": "code",
      "metadata": {
        "id": "qR3ES3LE6ubx",
        "colab_type": "code",
        "colab": {}
      },
      "source": [
        "# %%capture\n",
        "# # Install the latest Tensorflow version.\n",
        "# !pip3 install --upgrade tensorflow-gpu\n",
        "# # Install TF-Hub.\n",
        "# !pip3 install tensorflow-hub\n",
        "# !pip3 install seaborn"
      ],
      "execution_count": 0,
      "outputs": []
    },
    {
      "cell_type": "code",
      "metadata": {
        "id": "IGBHX-VF6j-a",
        "colab_type": "code",
        "colab": {}
      },
      "source": [
        "# import statements \n",
        "\n",
        "import pandas as pd\n",
        "import numpy as np\n",
        "\n",
        "from sklearn.metrics.pairwise import cosine_similarity\n",
        "\n",
        "from joblib import Parallel, delayed\n",
        "\n",
        "import heapq\n",
        "import operator\n",
        "\n",
        "from absl import logging\n",
        "\n",
        "import tensorflow as tf\n",
        "import tensorflow_hub as hub\n",
        "\n",
        "from collections import Counter"
      ],
      "execution_count": 0,
      "outputs": []
    },
    {
      "cell_type": "markdown",
      "metadata": {
        "id": "A4HcYTmZ6jHC",
        "colab_type": "text"
      },
      "source": [
        "## Import Eval Data "
      ]
    },
    {
      "cell_type": "code",
      "metadata": {
        "id": "g5oTaMIg6P_i",
        "colab_type": "code",
        "colab": {
          "base_uri": "https://localhost:8080/"
        },
        "outputId": "004172cf-a4da-41b8-809b-53f7e54fe202"
      },
      "source": [
        "eval_data = pd.read_csv(\"news_filter/data/eval_data.csv\")\n",
        "\n",
        "eval_data.shape"
      ],
      "execution_count": 3,
      "outputs": [
        {
          "output_type": "execute_result",
          "data": {
            "text/plain": [
              "(200, 13)"
            ]
          },
          "metadata": {
            "tags": []
          },
          "execution_count": 3
        }
      ]
    },
    {
      "cell_type": "code",
      "metadata": {
        "id": "rLAfZzHt-FuU",
        "colab_type": "code",
        "colab": {
          "base_uri": "https://localhost:8080/",
          "height": 564
        },
        "outputId": "d973441b-5045-4f6e-8e02-6c7bb7a05d31"
      },
      "source": [
        "eval_data.head()"
      ],
      "execution_count": 4,
      "outputs": [
        {
          "output_type": "execute_result",
          "data": {
            "text/plain": [
              "    index  Unnamed: 0      id  \\\n",
              "0   74496       77946  118473   \n",
              "1   71184       74592  113594   \n",
              "2  120205      123668  184574   \n",
              "3  128977      132440  199665   \n",
              "4  134837      138300  208223   \n",
              "\n",
              "                                               title      publication  \\\n",
              "0  Chaos in the Family, Chaos in the State: The W...  National Review   \n",
              "1  US Civil Rights Commission Will Observe Standi...    Buzzfeed News   \n",
              "2  Venezuela hunts rogue helicopter attackers, Ma...          Reuters   \n",
              "3  Fruit juice isn’t much better for you than sod...              Vox   \n",
              "4  Sessions won’t testify at congressional budget...  Washington Post   \n",
              "\n",
              "                                  author        date    year  month  \\\n",
              "0                    Kevin D. Williamson  2016-03-17  2016.0    3.0   \n",
              "1                       Nidhi Subbaraman  2016-12-08  2016.0   12.0   \n",
              "2  Andrew Cawthorne and Victoria Ramirez  2017-06-29  2017.0    6.0   \n",
              "3                           Julia Belluz   2016/3/25  2016.0    3.0   \n",
              "4                           Sari Horwitz  2017-06-10  2017.0    6.0   \n",
              "\n",
              "                                                 url  \\\n",
              "0  http://www.nationalreview.com/article/432876/d...   \n",
              "1  https://web.archive.org/web/20161208153906/htt...   \n",
              "2  http://www.reuters.com/article/us-venezuela-po...   \n",
              "3  http://www.vox.com/2016/3/25/11305614/soda-jui...   \n",
              "4  https://web.archive.org/web/20170611000758/htt...   \n",
              "\n",
              "                                             content  label  \\\n",
              "0  Michael Brendan Dougherty is bitter. I think t...      0   \n",
              "1   WASHINGTON  —   The US Commission on Civil Ri...      0   \n",
              "2   The Venezuelan government hunted on Wednesday...      0   \n",
              "3   One of the biggest public health wins of rece...      0   \n",
              "4   Attorney General Jeff Sessions, who had agree...      1   \n",
              "\n",
              "                                                text  \n",
              "0  Chaos in the Family, Chaos in the State: The W...  \n",
              "1  US Civil Rights Commission Will Observe Standi...  \n",
              "2  Venezuela hunts rogue helicopter attackers, Ma...  \n",
              "3  Fruit juice isn’t much better for you than sod...  \n",
              "4  Sessions won’t testify at congressional budget...  "
            ],
            "text/html": [
              "<div>\n",
              "<style scoped>\n",
              "    .dataframe tbody tr th:only-of-type {\n",
              "        vertical-align: middle;\n",
              "    }\n",
              "\n",
              "    .dataframe tbody tr th {\n",
              "        vertical-align: top;\n",
              "    }\n",
              "\n",
              "    .dataframe thead th {\n",
              "        text-align: right;\n",
              "    }\n",
              "</style>\n",
              "<table border=\"1\" class=\"dataframe\">\n",
              "  <thead>\n",
              "    <tr style=\"text-align: right;\">\n",
              "      <th></th>\n",
              "      <th>index</th>\n",
              "      <th>Unnamed: 0</th>\n",
              "      <th>id</th>\n",
              "      <th>title</th>\n",
              "      <th>publication</th>\n",
              "      <th>author</th>\n",
              "      <th>date</th>\n",
              "      <th>year</th>\n",
              "      <th>month</th>\n",
              "      <th>url</th>\n",
              "      <th>content</th>\n",
              "      <th>label</th>\n",
              "      <th>text</th>\n",
              "    </tr>\n",
              "  </thead>\n",
              "  <tbody>\n",
              "    <tr>\n",
              "      <td>0</td>\n",
              "      <td>74496</td>\n",
              "      <td>77946</td>\n",
              "      <td>118473</td>\n",
              "      <td>Chaos in the Family, Chaos in the State: The W...</td>\n",
              "      <td>National Review</td>\n",
              "      <td>Kevin D. Williamson</td>\n",
              "      <td>2016-03-17</td>\n",
              "      <td>2016.0</td>\n",
              "      <td>3.0</td>\n",
              "      <td>http://www.nationalreview.com/article/432876/d...</td>\n",
              "      <td>Michael Brendan Dougherty is bitter. I think t...</td>\n",
              "      <td>0</td>\n",
              "      <td>Chaos in the Family, Chaos in the State: The W...</td>\n",
              "    </tr>\n",
              "    <tr>\n",
              "      <td>1</td>\n",
              "      <td>71184</td>\n",
              "      <td>74592</td>\n",
              "      <td>113594</td>\n",
              "      <td>US Civil Rights Commission Will Observe Standi...</td>\n",
              "      <td>Buzzfeed News</td>\n",
              "      <td>Nidhi Subbaraman</td>\n",
              "      <td>2016-12-08</td>\n",
              "      <td>2016.0</td>\n",
              "      <td>12.0</td>\n",
              "      <td>https://web.archive.org/web/20161208153906/htt...</td>\n",
              "      <td>WASHINGTON  —   The US Commission on Civil Ri...</td>\n",
              "      <td>0</td>\n",
              "      <td>US Civil Rights Commission Will Observe Standi...</td>\n",
              "    </tr>\n",
              "    <tr>\n",
              "      <td>2</td>\n",
              "      <td>120205</td>\n",
              "      <td>123668</td>\n",
              "      <td>184574</td>\n",
              "      <td>Venezuela hunts rogue helicopter attackers, Ma...</td>\n",
              "      <td>Reuters</td>\n",
              "      <td>Andrew Cawthorne and Victoria Ramirez</td>\n",
              "      <td>2017-06-29</td>\n",
              "      <td>2017.0</td>\n",
              "      <td>6.0</td>\n",
              "      <td>http://www.reuters.com/article/us-venezuela-po...</td>\n",
              "      <td>The Venezuelan government hunted on Wednesday...</td>\n",
              "      <td>0</td>\n",
              "      <td>Venezuela hunts rogue helicopter attackers, Ma...</td>\n",
              "    </tr>\n",
              "    <tr>\n",
              "      <td>3</td>\n",
              "      <td>128977</td>\n",
              "      <td>132440</td>\n",
              "      <td>199665</td>\n",
              "      <td>Fruit juice isn’t much better for you than sod...</td>\n",
              "      <td>Vox</td>\n",
              "      <td>Julia Belluz</td>\n",
              "      <td>2016/3/25</td>\n",
              "      <td>2016.0</td>\n",
              "      <td>3.0</td>\n",
              "      <td>http://www.vox.com/2016/3/25/11305614/soda-jui...</td>\n",
              "      <td>One of the biggest public health wins of rece...</td>\n",
              "      <td>0</td>\n",
              "      <td>Fruit juice isn’t much better for you than sod...</td>\n",
              "    </tr>\n",
              "    <tr>\n",
              "      <td>4</td>\n",
              "      <td>134837</td>\n",
              "      <td>138300</td>\n",
              "      <td>208223</td>\n",
              "      <td>Sessions won’t testify at congressional budget...</td>\n",
              "      <td>Washington Post</td>\n",
              "      <td>Sari Horwitz</td>\n",
              "      <td>2017-06-10</td>\n",
              "      <td>2017.0</td>\n",
              "      <td>6.0</td>\n",
              "      <td>https://web.archive.org/web/20170611000758/htt...</td>\n",
              "      <td>Attorney General Jeff Sessions, who had agree...</td>\n",
              "      <td>1</td>\n",
              "      <td>Sessions won’t testify at congressional budget...</td>\n",
              "    </tr>\n",
              "  </tbody>\n",
              "</table>\n",
              "</div>"
            ]
          },
          "metadata": {
            "tags": []
          },
          "execution_count": 4
        }
      ]
    },
    {
      "cell_type": "markdown",
      "metadata": {
        "id": "rRLFui1K-Kii",
        "colab_type": "text"
      },
      "source": [
        "## Create Embeddings of Eval Data"
      ]
    },
    {
      "cell_type": "code",
      "metadata": {
        "id": "HO1-wiY6-HZF",
        "colab_type": "code",
        "colab": {}
      },
      "source": [
        "# download model from https://tfhub.dev/google/universal-sentence-encoder/4 and save locally \n",
        "model = hub.load(\"news_filter/tmp\")"
      ],
      "execution_count": 0,
      "outputs": []
    },
    {
      "cell_type": "code",
      "metadata": {
        "id": "_bBF5Y-4-SZ0",
        "colab_type": "code",
        "colab": {}
      },
      "source": [
        "# reduce logging output\n",
        "logging.set_verbosity(logging.ERROR)\n",
        "\n",
        "# compute embeddings for each article\n",
        "eval_embeddings = model(eval_data.text)"
      ],
      "execution_count": 0,
      "outputs": []
    },
    {
      "cell_type": "code",
      "metadata": {
        "id": "kzBMixJN-vJt",
        "colab_type": "code",
        "colab": {
          "base_uri": "https://localhost:8080/",
          "height": 238
        },
        "outputId": "2b1ed6ab-229a-4442-dbc5-2c3a2f929a97"
      },
      "source": [
        "# sanity check of cosine similarity of eval embeddings\n",
        "cosine_similarity(eval_embeddings, eval_embeddings)"
      ],
      "execution_count": 7,
      "outputs": [
        {
          "output_type": "execute_result",
          "data": {
            "text/plain": [
              "array([[1.0000001 , 0.2914571 , 0.33693594, ..., 0.28300524, 0.32328773,\n",
              "        0.33720085],\n",
              "       [0.2914571 , 0.99999994, 0.5439817 , ..., 0.39472055, 0.45258018,\n",
              "        0.32834154],\n",
              "       [0.33693594, 0.5439817 , 1.0000002 , ..., 0.41472793, 0.4813952 ,\n",
              "        0.35500538],\n",
              "       ...,\n",
              "       [0.28300518, 0.3947206 , 0.41472793, ..., 1.        , 0.26588523,\n",
              "        0.28309864],\n",
              "       [0.3232877 , 0.45258015, 0.48139524, ..., 0.26588523, 1.0000002 ,\n",
              "        0.32311845],\n",
              "       [0.33720073, 0.32834148, 0.35500535, ..., 0.28309864, 0.32311845,\n",
              "        1.0000002 ]], dtype=float32)"
            ]
          },
          "metadata": {
            "tags": []
          },
          "execution_count": 7
        }
      ]
    },
    {
      "cell_type": "markdown",
      "metadata": {
        "id": "oTsOEGXi_VyJ",
        "colab_type": "text"
      },
      "source": [
        "## Assign Cluster to Inputs "
      ]
    },
    {
      "cell_type": "code",
      "metadata": {
        "id": "Afllm0sm-4Ns",
        "colab_type": "code",
        "colab": {}
      },
      "source": [
        "# example user inputs \n",
        "input_topics = [\"Russian interference with election\", \"Wikileaks hacking Hillary Clinton's email\", \"democratic campaigns\", \"Trump against Obamacare\", \"Trump's Campaign\"]"
      ],
      "execution_count": 0,
      "outputs": []
    },
    {
      "cell_type": "code",
      "metadata": {
        "id": "f4iTpxSR_fqk",
        "colab_type": "code",
        "colab": {}
      },
      "source": [
        "# create embeddings for each user input \n",
        "input_embeddings = model(input_topics)"
      ],
      "execution_count": 0,
      "outputs": []
    },
    {
      "cell_type": "code",
      "metadata": {
        "id": "P0AeuO2X_r2j",
        "colab_type": "code",
        "colab": {
          "base_uri": "https://localhost:8080/",
          "height": 34
        },
        "outputId": "a9c38c95-0168-4a40-85da-7a6a21b8984c"
      },
      "source": [
        "# data frame of titles and semantic similarities\n",
        "cos_df = pd.DataFrame(cosine_similarity(input_embeddings, eval_embeddings))\n",
        "cos_df.columns = eval_data.title\n",
        "cos_df.index = input_topics\n",
        "\n",
        "cos_df.shape"
      ],
      "execution_count": 10,
      "outputs": [
        {
          "output_type": "execute_result",
          "data": {
            "text/plain": [
              "(5, 200)"
            ]
          },
          "metadata": {
            "tags": []
          },
          "execution_count": 10
        }
      ]
    },
    {
      "cell_type": "code",
      "metadata": {
        "id": "vfZd5Onw_4VZ",
        "colab_type": "code",
        "colab": {
          "base_uri": "https://localhost:8080/"
        },
        "outputId": "149fd0e0-4d4d-48af-8180-f408b0d3a972"
      },
      "source": [
        "# function to return the column index of the top n values in a row of a dataframe\n",
        "def find_topind(df, i, n):\n",
        "  return list(list(zip(*heapq.nlargest(n, enumerate(df.iloc[i,:]), key=operator.itemgetter(1))))[0])\n",
        "\n",
        "# function to return the top n values in a list\n",
        "def find_top(lst, ind):\n",
        "  return [lst[i] for i in ind]\n",
        "\n",
        "# how many articles per cluster\n",
        "n = 10\n",
        "\n",
        "# find index of n most similar titles \n",
        "top_ind = Parallel(n_jobs=16)(delayed(find_topind)(cos_df, i, n) for i in range(len(cos_df)))\n",
        "\n",
        "# show most similar titles -- predicted clusters\n",
        "top = Parallel(n_jobs=16)(delayed(find_top)(eval_data.title, ind) for ind in top_ind)\n",
        "\n",
        "top[:5]\n",
        "# topics: \"Russian interference with election\", \"Wikileaks hacking Hillary Clinton's email\", \"democratic campaigns\", \"Trump against Obamacare\", \"Trump's Campaign\""
      ],
      "execution_count": 11,
      "outputs": [
        {
          "output_type": "execute_result",
          "data": {
            "text/plain": [
              "[['US kicks out dozens of Russian diplomats over election\\xa0hacking',\n",
              "  'Use the Electoral College Properly or Lose It',\n",
              "  'Officials ’identify White House person of interest’ in Trump-Russia investigation',\n",
              "  'Trump knew for weeks Michael Flynn misled over Russia contact',\n",
              "  'Jill Stein files for recount in\\xa0Wisconsin',\n",
              "  'Obama’s State Department Sponsored 2016 Meeting of Russian Ambassador with Sen. Sessions ',\n",
              "  'Exclusive: Say goodbye to OPEC, powerful Putin pal predicts',\n",
              "  'FBI Director asked Justice Department to reject Trump’s wiretapping claim — they haven’t listened',\n",
              "  'Russia, Iran sanctions bill hits roadblock in U.S. House',\n",
              "  'Emmanuel Macron Declared Next French President'],\n",
              " ['TRUMP: Adversaries of US ’almost certainly have a blackmail file’ on Clinton',\n",
              "  'Hillary Clinton Campaign Meltdown: Top-Secret Emails ’Innocuous,’ Should Be Released ',\n",
              "  'AP: Gov’t Declares 22 Clinton Emails ’Top Secret’',\n",
              "  'FBI: Clinton ’extremely careless’ but no charges recommended',\n",
              "  'Wikileaks: Clinton Team Feared Labor Backlash After Obama Cleared Malaysia’s Human Rights Record to Push TPP ',\n",
              "  'Trump campaign talking points: Bring up Monica',\n",
              "  'Hillary Campaign Denies Report of Campaign Shake-up After New Hampshire ',\n",
              "  'BIAS ALERT: CNN reporter says Hannity, Limbaugh want Hillary ’dying’',\n",
              "  'Officials ’identify White House person of interest’ in Trump-Russia investigation',\n",
              "  'Movie Review: Oliver Stone’s ’Snowden’'],\n",
              " ['Hillary Campaign Denies Report of Campaign Shake-up After New Hampshire ',\n",
              "  'Pelosi: Can’t Let Our Democracy Be ’Subverted By the Dark Operations of a Foreign Regime’ ',\n",
              "  'Socialism after Bernie Sanders: \"Being a radical isn’t about being too pure for the world\"',\n",
              "  'Bernie Sanders Projected Winner Of Kansas Dem. Caucuses',\n",
              "  'The Election Highlighted a Growing Rural-Urban Split ',\n",
              "  'Use the Electoral College Properly or Lose It',\n",
              "  'Sanders: I’ll Beat Hillary in Iowa If There Is a Large Turnout ',\n",
              "  'Sanders: Trump ’Can Not Stop Lying,’ My Campaign Had Nothing to Do With Protests ',\n",
              "  'Marco Rubio Slams NSA Spying on Israel',\n",
              "  'Hillary Clinton Campaign Meltdown: Top-Secret Emails ’Innocuous,’ Should Be Released '],\n",
              " ['Trump Blasts Obamacare At His Miami Golf Course But Misstates Employees’ Coverage',\n",
              "  'Trump is finding it easier to tear down old policies than to build his own',\n",
              "  'Let’s Agree Not To Lie About GOPCare',\n",
              "  'The Budget Battles to Come',\n",
              "  'Donald Trump’s big, bizarre religious day ',\n",
              "  'Biden Jokingly Thanks Trump for ’Making the American People Look in the Mirror’ ',\n",
              "  'Ivanka Trump cuts off Cosmo interview after tough questioning',\n",
              "  'FBI Director asked Justice Department to reject Trump’s wiretapping claim — they haven’t listened',\n",
              "  ' In Reversal, Trump Indicates To Hispanic Leaders Openness To Legalization For Immigrants',\n",
              "  'It’s down to Trump and Cruz. Kasich is not part of the equation'],\n",
              " ['Sanders: Trump ’Can Not Stop Lying,’ My Campaign Had Nothing to Do With Protests ',\n",
              "  'Trump Coins a New Nickname for John Kasich ',\n",
              "  'Trump campaign talking points: Bring up Monica',\n",
              "  'It’s down to Trump and Cruz. Kasich is not part of the equation',\n",
              "  ' In Reversal, Trump Indicates To Hispanic Leaders Openness To Legalization For Immigrants',\n",
              "  'TRUMP: Adversaries of US ’almost certainly have a blackmail file’ on Clinton',\n",
              "  'Golf diplomacy teed up at the Winter White House',\n",
              "  'Locked in tight duel in Iowa, Trump stresses need to win state',\n",
              "  'Joss Whedon: ’I Want a Rhino to F*ck Paul Ryan to Death’',\n",
              "  'Ivanka Trump cuts off Cosmo interview after tough questioning']]"
            ]
          },
          "metadata": {
            "tags": []
          },
          "execution_count": 11
        }
      ]
    },
    {
      "cell_type": "code",
      "metadata": {
        "id": "_pPi4mz1_69E",
        "colab_type": "code",
        "colab": {
          "base_uri": "https://localhost:8080/",
          "height": 102
        },
        "outputId": "e4dd8e01-0e62-43b7-ca07-20420814b35e"
      },
      "source": [
        "# original annotations of articles in each cluster (true and false positives)\n",
        "top_lab = Parallel(n_jobs=16)(delayed(find_top)(eval_data.label, ind) for ind in top_ind)\n",
        "\n",
        "top_lab[:5]"
      ],
      "execution_count": 12,
      "outputs": [
        {
          "output_type": "execute_result",
          "data": {
            "text/plain": [
              "[[1, 3, 1, 1, 0, 1, 0, 1, 0, 0],\n",
              " [2, 2, 2, 2, 3, 5, 3, 0, 1, 0],\n",
              " [3, 1, 3, 3, 0, 3, 3, 3, 0, 2],\n",
              " [4, 0, 0, 0, 0, 0, 0, 1, 5, 5],\n",
              " [3, 5, 5, 5, 5, 2, 0, 5, 0, 0]]"
            ]
          },
          "metadata": {
            "tags": []
          },
          "execution_count": 12
        }
      ]
    },
    {
      "cell_type": "code",
      "metadata": {
        "id": "gtIg-f_7C6OY",
        "colab_type": "code",
        "colab": {}
      },
      "source": [
        "# how many articles annotated to each label (ground truth)\n",
        "num_lab = dict(Counter(eval_data.label))"
      ],
      "execution_count": 0,
      "outputs": []
    },
    {
      "cell_type": "code",
      "metadata": {
        "id": "Pg7Yxp5zC8yF",
        "colab_type": "code",
        "colab": {
          "base_uri": "https://localhost:8080/",
          "height": 34
        },
        "outputId": "39ee2c3a-1a4a-4eae-b08b-9b846ee287d2"
      },
      "source": [
        "# how many of articles land in correct cluster (true positives)\n",
        "i=1\n",
        "true_pos = []\n",
        "for cluster in top_lab:\n",
        "  true_pos.append(sum([l == i for l in cluster]))\n",
        "  i+=1\n",
        "true_pos"
      ],
      "execution_count": 14,
      "outputs": [
        {
          "output_type": "execute_result",
          "data": {
            "text/plain": [
              "[5, 4, 6, 1, 5]"
            ]
          },
          "metadata": {
            "tags": []
          },
          "execution_count": 14
        }
      ]
    },
    {
      "cell_type": "code",
      "metadata": {
        "id": "a4sOMdQpEJ3l",
        "colab_type": "code",
        "colab": {
          "base_uri": "https://localhost:8080/"
        },
        "outputId": "5661d463-4ac9-432f-b677-7c639e343e84"
      },
      "source": [
        "# percent of correct predictions out of original assignments (recall)\n",
        "recall = []\n",
        "for i in range(len(true_pos)):\n",
        "  recall.append(true_pos[i]/num_lab[i+1])\n",
        "\n",
        "# average recall \n",
        "np.mean(recall)"
      ],
      "execution_count": 15,
      "outputs": [
        {
          "output_type": "execute_result",
          "data": {
            "text/plain": [
              "0.6583333333333333"
            ]
          },
          "metadata": {
            "tags": []
          },
          "execution_count": 15
        }
      ]
    },
    {
      "cell_type": "code",
      "metadata": {
        "id": "NS0Gr4lOFZ3x",
        "colab_type": "code",
        "colab": {
          "base_uri": "https://localhost:8080/",
          "height": 34
        },
        "outputId": "eb73e004-3f76-4ee7-a3dd-9b2d74f939c6"
      },
      "source": [
        "# percent of correct predictions out of all predictions (precision)\n",
        "precision = [i/n for i in true_pos]\n",
        "\n",
        "# average precision\n",
        "np.mean(precision)"
      ],
      "execution_count": 16,
      "outputs": [
        {
          "output_type": "execute_result",
          "data": {
            "text/plain": [
              "0.42000000000000004"
            ]
          },
          "metadata": {
            "tags": []
          },
          "execution_count": 16
        }
      ]
    }
  ]
}
