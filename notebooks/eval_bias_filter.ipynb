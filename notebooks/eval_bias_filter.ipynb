{
  "nbformat": 4,
  "nbformat_minor": 0,
  "metadata": {
    "colab": {
      "name": "eval_bias_filter.ipynb",
      "provenance": [],
      "authorship_tag": "ABX9TyOvOp0XzolIcvCfgqgHGOSL",
      "include_colab_link": true
    },
    "kernelspec": {
      "name": "python3",
      "display_name": "Python 3"
    }
  },
  "cells": [
    {
      "cell_type": "markdown",
      "metadata": {
        "id": "view-in-github",
        "colab_type": "text"
      },
      "source": [
        "<a href=\"https://colab.research.google.com/github/s-miramontes/News_Filter/blob/master/notebooks/eval_bias_filter.ipynb\" target=\"_parent\"><img src=\"https://colab.research.google.com/assets/colab-badge.svg\" alt=\"Open In Colab\"/></a>"
      ]
    },
    {
      "cell_type": "markdown",
      "metadata": {
        "id": "pc2JCDobyHGF",
        "colab_type": "text"
      },
      "source": [
        "# Evaluation of Bias Filter "
      ]
    },
    {
      "cell_type": "code",
      "metadata": {
        "id": "7aa0N8E_yCj5",
        "colab_type": "code",
        "colab": {}
      },
      "source": [
        "# import statements \n",
        "\n",
        "import pandas as pd\n",
        "from textblob import TextBlob "
      ],
      "execution_count": 0,
      "outputs": []
    },
    {
      "cell_type": "code",
      "metadata": {
        "id": "fBOnuMplzPVM",
        "colab_type": "code",
        "colab": {}
      },
      "source": [
        "# import data \n",
        "\n",
        "bias_summaries = pd.read_csv(\"news_filter/data/summaries.csv\")\n",
        "\n",
        "unbias_summaries = pd.read_csv(\"news_filter/data/filter_summaries.csv\")"
      ],
      "execution_count": 0,
      "outputs": []
    },
    {
      "cell_type": "code",
      "metadata": {
        "id": "WBw6m4ZWSsWD",
        "colab_type": "code",
        "colab": {
          "base_uri": "https://localhost:8080/",
          "height": 204
        },
        "outputId": "49418590-2077-4e03-fd67-b1af29acb8b8"
      },
      "source": [
        "bias_summaries"
      ],
      "execution_count": 21,
      "outputs": [
        {
          "output_type": "execute_result",
          "data": {
            "text/plain": [
              "                                      topic  \\\n",
              "0        Russian interference with election   \n",
              "1  Hillary Clinton WikiLeaks email Benghazi   \n",
              "2                  Women's march highlights   \n",
              "3                  Bernie Sander's Campaign   \n",
              "4                  ICE immigration policies   \n",
              "\n",
              "                                             summary  \n",
              "0  House Speaker Paul Ryan issued a statement on ...  \n",
              "1  ’  ’ ’   Donald Trump said in a Tuesday statem...  \n",
              "2  Friday on ABC’s “The View,” actress Lena Dunha...  \n",
              "3  Sen. Bernie Sanders ( ) conceded the Democrati...  \n",
              "4  Immigration and Customs Enforcement (ICE) is n...  "
            ],
            "text/html": [
              "<div>\n",
              "<style scoped>\n",
              "    .dataframe tbody tr th:only-of-type {\n",
              "        vertical-align: middle;\n",
              "    }\n",
              "\n",
              "    .dataframe tbody tr th {\n",
              "        vertical-align: top;\n",
              "    }\n",
              "\n",
              "    .dataframe thead th {\n",
              "        text-align: right;\n",
              "    }\n",
              "</style>\n",
              "<table border=\"1\" class=\"dataframe\">\n",
              "  <thead>\n",
              "    <tr style=\"text-align: right;\">\n",
              "      <th></th>\n",
              "      <th>topic</th>\n",
              "      <th>summary</th>\n",
              "    </tr>\n",
              "  </thead>\n",
              "  <tbody>\n",
              "    <tr>\n",
              "      <td>0</td>\n",
              "      <td>Russian interference with election</td>\n",
              "      <td>House Speaker Paul Ryan issued a statement on ...</td>\n",
              "    </tr>\n",
              "    <tr>\n",
              "      <td>1</td>\n",
              "      <td>Hillary Clinton WikiLeaks email Benghazi</td>\n",
              "      <td>’  ’ ’   Donald Trump said in a Tuesday statem...</td>\n",
              "    </tr>\n",
              "    <tr>\n",
              "      <td>2</td>\n",
              "      <td>Women's march highlights</td>\n",
              "      <td>Friday on ABC’s “The View,” actress Lena Dunha...</td>\n",
              "    </tr>\n",
              "    <tr>\n",
              "      <td>3</td>\n",
              "      <td>Bernie Sander's Campaign</td>\n",
              "      <td>Sen. Bernie Sanders ( ) conceded the Democrati...</td>\n",
              "    </tr>\n",
              "    <tr>\n",
              "      <td>4</td>\n",
              "      <td>ICE immigration policies</td>\n",
              "      <td>Immigration and Customs Enforcement (ICE) is n...</td>\n",
              "    </tr>\n",
              "  </tbody>\n",
              "</table>\n",
              "</div>"
            ]
          },
          "metadata": {
            "tags": []
          },
          "execution_count": 21
        }
      ]
    },
    {
      "cell_type": "code",
      "metadata": {
        "id": "FSNRfR_9SwHp",
        "colab_type": "code",
        "colab": {
          "base_uri": "https://localhost:8080/",
          "height": 204
        },
        "outputId": "b4ead9a3-067a-49f8-936d-a0a98defbb51"
      },
      "source": [
        "unbias_summaries"
      ],
      "execution_count": 22,
      "outputs": [
        {
          "output_type": "execute_result",
          "data": {
            "text/plain": [
              "                                      topic  \\\n",
              "0        Russian interference with election   \n",
              "1  Hillary Clinton WikiLeaks email Benghazi   \n",
              "2                  Women's march highlights   \n",
              "3                  Bernie Sander's Campaign   \n",
              "4                  ICE immigration policies   \n",
              "\n",
              "                                             summary  \n",
              "0  THE MASSIVE leak of documents from the campaig...  \n",
              "1  To understand the story of Benghazi, you first...  \n",
              "2  That’s what the Internet is agonizing over aft...  \n",
              "3  Democratic presidential candidate Sen. Bernie ...  \n",
              "4  For us to continue writing great stories, we n...  "
            ],
            "text/html": [
              "<div>\n",
              "<style scoped>\n",
              "    .dataframe tbody tr th:only-of-type {\n",
              "        vertical-align: middle;\n",
              "    }\n",
              "\n",
              "    .dataframe tbody tr th {\n",
              "        vertical-align: top;\n",
              "    }\n",
              "\n",
              "    .dataframe thead th {\n",
              "        text-align: right;\n",
              "    }\n",
              "</style>\n",
              "<table border=\"1\" class=\"dataframe\">\n",
              "  <thead>\n",
              "    <tr style=\"text-align: right;\">\n",
              "      <th></th>\n",
              "      <th>topic</th>\n",
              "      <th>summary</th>\n",
              "    </tr>\n",
              "  </thead>\n",
              "  <tbody>\n",
              "    <tr>\n",
              "      <td>0</td>\n",
              "      <td>Russian interference with election</td>\n",
              "      <td>THE MASSIVE leak of documents from the campaig...</td>\n",
              "    </tr>\n",
              "    <tr>\n",
              "      <td>1</td>\n",
              "      <td>Hillary Clinton WikiLeaks email Benghazi</td>\n",
              "      <td>To understand the story of Benghazi, you first...</td>\n",
              "    </tr>\n",
              "    <tr>\n",
              "      <td>2</td>\n",
              "      <td>Women's march highlights</td>\n",
              "      <td>That’s what the Internet is agonizing over aft...</td>\n",
              "    </tr>\n",
              "    <tr>\n",
              "      <td>3</td>\n",
              "      <td>Bernie Sander's Campaign</td>\n",
              "      <td>Democratic presidential candidate Sen. Bernie ...</td>\n",
              "    </tr>\n",
              "    <tr>\n",
              "      <td>4</td>\n",
              "      <td>ICE immigration policies</td>\n",
              "      <td>For us to continue writing great stories, we n...</td>\n",
              "    </tr>\n",
              "  </tbody>\n",
              "</table>\n",
              "</div>"
            ]
          },
          "metadata": {
            "tags": []
          },
          "execution_count": 22
        }
      ]
    },
    {
      "cell_type": "markdown",
      "metadata": {
        "id": "bKEmARIIzkj6",
        "colab_type": "text"
      },
      "source": [
        "## Run Sentiment Analysis on Summaries"
      ]
    },
    {
      "cell_type": "code",
      "metadata": {
        "id": "5FZJwQcrzbw4",
        "colab_type": "code",
        "colab": {}
      },
      "source": [
        "# function to return the polarity and subjectivity score of each summary ([-1, 1], [0,1])\n",
        "def get_summary_sentiment(summary): \n",
        "    analysis = TextBlob(summary) \n",
        "    return (analysis.sentiment.polarity, analysis.sentiment.subjectivity)"
      ],
      "execution_count": 0,
      "outputs": []
    },
    {
      "cell_type": "code",
      "metadata": {
        "id": "pUEC3IMNzquf",
        "colab_type": "code",
        "colab": {}
      },
      "source": [
        "# use get_summary_sentiment to get sentiment score for all the summaries\n",
        "bias_sentiment = bias_summaries.apply(lambda row: get_summary_sentiment(row['summary']), axis =1)\n",
        "unbias_sentiment = unbias_summaries.apply(lambda row: get_summary_sentiment(row['summary']), axis =1)\n",
        "\n",
        "bias_polarity, bias_subjectivity = zip(*bias_sentiment)\n",
        "unbias_polarity, unbias_subjectivity = zip(*unbias_sentiment)"
      ],
      "execution_count": 0,
      "outputs": []
    },
    {
      "cell_type": "markdown",
      "metadata": {
        "id": "N12SoehT0aQA",
        "colab_type": "text"
      },
      "source": [
        "## Compare Sentiment of Summaries"
      ]
    },
    {
      "cell_type": "code",
      "metadata": {
        "id": "vUqPOPsu0eCi",
        "colab_type": "code",
        "colab": {
          "base_uri": "https://localhost:8080/",
          "height": 34
        },
        "outputId": "aa12f398-1c44-4574-ff0e-fb8f7bf29d80"
      },
      "source": [
        "[abs(i)>abs(j) for i,j in zip(bias_polarity, unbias_polarity)]"
      ],
      "execution_count": 15,
      "outputs": [
        {
          "output_type": "execute_result",
          "data": {
            "text/plain": [
              "[True, True, True, False, False]"
            ]
          },
          "metadata": {
            "tags": []
          },
          "execution_count": 15
        }
      ]
    },
    {
      "cell_type": "code",
      "metadata": {
        "id": "apuh3xVKQ9Bf",
        "colab_type": "code",
        "colab": {
          "base_uri": "https://localhost:8080/",
          "height": 102
        },
        "outputId": "509399bc-ebec-4cf9-b92f-3d0339ab9f5e"
      },
      "source": [
        "bias_polarity"
      ],
      "execution_count": 16,
      "outputs": [
        {
          "output_type": "execute_result",
          "data": {
            "text/plain": [
              "(0.1206818181818182,\n",
              " 0.0818452380952381,\n",
              " 0.20795454545454548,\n",
              " 0.051136363636363646,\n",
              " -0.05991166491166492)"
            ]
          },
          "metadata": {
            "tags": []
          },
          "execution_count": 16
        }
      ]
    },
    {
      "cell_type": "code",
      "metadata": {
        "id": "3daOWFXnQ7ky",
        "colab_type": "code",
        "colab": {
          "base_uri": "https://localhost:8080/",
          "height": 102
        },
        "outputId": "45bd2a35-435f-4da9-a3ed-fa9978268135"
      },
      "source": [
        "unbias_polarity"
      ],
      "execution_count": 8,
      "outputs": [
        {
          "output_type": "execute_result",
          "data": {
            "text/plain": [
              "(0.029861111111111116,\n",
              " 0.06856060606060606,\n",
              " 0.02222222222222223,\n",
              " 0.25,\n",
              " 0.06341991341991342)"
            ]
          },
          "metadata": {
            "tags": []
          },
          "execution_count": 8
        }
      ]
    },
    {
      "cell_type": "code",
      "metadata": {
        "id": "mJzoXchtROIA",
        "colab_type": "code",
        "colab": {
          "base_uri": "https://localhost:8080/",
          "height": 34
        },
        "outputId": "120c6e2b-b8d2-42a5-bc73-dfd82cf599dc"
      },
      "source": [
        "[i>j for i,j in zip(bias_subjectivity, unbias_subjectivity)]"
      ],
      "execution_count": 17,
      "outputs": [
        {
          "output_type": "execute_result",
          "data": {
            "text/plain": [
              "[True, True, True, False, True]"
            ]
          },
          "metadata": {
            "tags": []
          },
          "execution_count": 17
        }
      ]
    },
    {
      "cell_type": "code",
      "metadata": {
        "id": "s_vGqan_SHX7",
        "colab_type": "code",
        "colab": {
          "base_uri": "https://localhost:8080/",
          "height": 102
        },
        "outputId": "8d5916dc-4fb1-4954-97b2-abf2069e6360"
      },
      "source": [
        "bias_subjectivity"
      ],
      "execution_count": 18,
      "outputs": [
        {
          "output_type": "execute_result",
          "data": {
            "text/plain": [
              "(0.4561616161616161,\n",
              " 0.5613095238095238,\n",
              " 0.4068722943722944,\n",
              " 0.34795454545454546,\n",
              " 0.5213776763776764)"
            ]
          },
          "metadata": {
            "tags": []
          },
          "execution_count": 18
        }
      ]
    },
    {
      "cell_type": "code",
      "metadata": {
        "id": "xOxpKRT6SKYd",
        "colab_type": "code",
        "colab": {
          "base_uri": "https://localhost:8080/",
          "height": 102
        },
        "outputId": "608b9d62-84d1-440d-b0d4-5ed2a817ab88"
      },
      "source": [
        "unbias_subjectivity"
      ],
      "execution_count": 19,
      "outputs": [
        {
          "output_type": "execute_result",
          "data": {
            "text/plain": [
              "(0.3923611111111111,\n",
              " 0.46252228163992865,\n",
              " 0.26555555555555554,\n",
              " 0.6,\n",
              " 0.4585714285714286)"
            ]
          },
          "metadata": {
            "tags": []
          },
          "execution_count": 19
        }
      ]
    },
    {
      "cell_type": "code",
      "metadata": {
        "id": "p9ALjhoKSNAj",
        "colab_type": "code",
        "colab": {}
      },
      "source": [
        ""
      ],
      "execution_count": 0,
      "outputs": []
    }
  ]
}