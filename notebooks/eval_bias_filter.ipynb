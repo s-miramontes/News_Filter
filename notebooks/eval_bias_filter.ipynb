{
  "nbformat": 4,
  "nbformat_minor": 0,
  "metadata": {
    "colab": {
      "name": "eval_bias_filter.ipynb",
      "provenance": [],
      "authorship_tag": "ABX9TyOVSnHXPfQPwcSoypzCTUyF",
      "include_colab_link": true
    },
    "kernelspec": {
      "name": "python3",
      "display_name": "Python 3"
    }
  },
  "cells": [
    {
      "cell_type": "markdown",
      "metadata": {
        "id": "view-in-github",
        "colab_type": "text"
      },
      "source": [
        "<a href=\"https://colab.research.google.com/github/s-miramontes/News_Filter/blob/master/notebooks/eval_bias_filter.ipynb\" target=\"_parent\"><img src=\"https://colab.research.google.com/assets/colab-badge.svg\" alt=\"Open In Colab\"/></a>"
      ]
    },
    {
      "cell_type": "markdown",
      "metadata": {
        "id": "pc2JCDobyHGF",
        "colab_type": "text"
      },
      "source": [
        "# Evaluation of Bias Filter "
      ]
    },
    {
      "cell_type": "code",
      "metadata": {
        "id": "7aa0N8E_yCj5",
        "colab_type": "code",
        "colab": {}
      },
      "source": [
        "# import statements \n",
        "\n",
        "import pandas as pd\n",
        "from textblob import TextBlob "
      ],
      "execution_count": 0,
      "outputs": []
    },
    {
      "cell_type": "code",
      "metadata": {
        "id": "fBOnuMplzPVM",
        "colab_type": "code",
        "colab": {}
      },
      "source": [
        "# import data \n",
        "\n",
        "bias_summaries = pd.read_csv(\"news_filter/data/summaries.csv\")\n",
        "\n",
        "unbias_summaries = pd.read_csv(\"news_filter/data/filter_summaries.csv\")"
      ],
      "execution_count": 0,
      "outputs": []
    },
    {
      "cell_type": "markdown",
      "metadata": {
        "id": "bKEmARIIzkj6",
        "colab_type": "text"
      },
      "source": [
        "## Run Sentiment Analysis on Summaries"
      ]
    },
    {
      "cell_type": "code",
      "metadata": {
        "id": "5FZJwQcrzbw4",
        "colab_type": "code",
        "colab": {}
      },
      "source": [
        "# function to return the polarity and subjectivity score of each summary ([-1, 1], [0,1])\n",
        "def get_summary_sentiment(summary): \n",
        "    analysis = TextBlob(summary) \n",
        "    return (analysis.sentiment.polarity, analysis.sentiment.subjectivity)"
      ],
      "execution_count": 0,
      "outputs": []
    },
    {
      "cell_type": "code",
      "metadata": {
        "id": "pUEC3IMNzquf",
        "colab_type": "code",
        "colab": {}
      },
      "source": [
        "# use get_summary_sentiment to get sentiment score for all the summaries\n",
        "bias_sentiment = bias_summaries.apply(lambda row: get_summary_sentiment(row['summary']), axis =1)\n",
        "unbias_sentiment = unbias_summaries.apply(lambda row: get_summary_sentiment(row['summary']), axis =1)\n",
        "\n",
        "bias_polarity, bias_subjectivity = zip(*bias_sentiment)\n",
        "unbias_polarity, unbias_subjectivity = zip(*unbias_sentiment)"
      ],
      "execution_count": 0,
      "outputs": []
    },
    {
      "cell_type": "markdown",
      "metadata": {
        "id": "N12SoehT0aQA",
        "colab_type": "text"
      },
      "source": [
        "## Compare Sentiment of Summaries"
      ]
    },
    {
      "cell_type": "code",
      "metadata": {
        "id": "vUqPOPsu0eCi",
        "colab_type": "code",
        "colab": {
          "base_uri": "https://localhost:8080/",
          "height": 34
        },
        "outputId": "aa12f398-1c44-4574-ff0e-fb8f7bf29d80"
      },
      "source": [
        "[abs(i)>abs(j) for i,j in zip(bias_polarity, unbias_polarity)]"
      ],
      "execution_count": 15,
      "outputs": [
        {
          "output_type": "execute_result",
          "data": {
            "text/plain": [
              "[True, True, True, False, False]"
            ]
          },
          "metadata": {
            "tags": []
          },
          "execution_count": 15
        }
      ]
    },
    {
      "cell_type": "code",
      "metadata": {
        "id": "apuh3xVKQ9Bf",
        "colab_type": "code",
        "colab": {
          "base_uri": "https://localhost:8080/",
          "height": 102
        },
        "outputId": "509399bc-ebec-4cf9-b92f-3d0339ab9f5e"
      },
      "source": [
        "bias_polarity"
      ],
      "execution_count": 16,
      "outputs": [
        {
          "output_type": "execute_result",
          "data": {
            "text/plain": [
              "(0.1206818181818182,\n",
              " 0.0818452380952381,\n",
              " 0.20795454545454548,\n",
              " 0.051136363636363646,\n",
              " -0.05991166491166492)"
            ]
          },
          "metadata": {
            "tags": []
          },
          "execution_count": 16
        }
      ]
    },
    {
      "cell_type": "code",
      "metadata": {
        "id": "3daOWFXnQ7ky",
        "colab_type": "code",
        "colab": {
          "base_uri": "https://localhost:8080/",
          "height": 102
        },
        "outputId": "45bd2a35-435f-4da9-a3ed-fa9978268135"
      },
      "source": [
        "unbias_polarity"
      ],
      "execution_count": 8,
      "outputs": [
        {
          "output_type": "execute_result",
          "data": {
            "text/plain": [
              "(0.029861111111111116,\n",
              " 0.06856060606060606,\n",
              " 0.02222222222222223,\n",
              " 0.25,\n",
              " 0.06341991341991342)"
            ]
          },
          "metadata": {
            "tags": []
          },
          "execution_count": 8
        }
      ]
    },
    {
      "cell_type": "code",
      "metadata": {
        "id": "mJzoXchtROIA",
        "colab_type": "code",
        "colab": {
          "base_uri": "https://localhost:8080/",
          "height": 34
        },
        "outputId": "120c6e2b-b8d2-42a5-bc73-dfd82cf599dc"
      },
      "source": [
        "[i>j for i,j in zip(bias_subjectivity, unbias_subjectivity)]"
      ],
      "execution_count": 17,
      "outputs": [
        {
          "output_type": "execute_result",
          "data": {
            "text/plain": [
              "[True, True, True, False, True]"
            ]
          },
          "metadata": {
            "tags": []
          },
          "execution_count": 17
        }
      ]
    },
    {
      "cell_type": "code",
      "metadata": {
        "id": "s_vGqan_SHX7",
        "colab_type": "code",
        "colab": {
          "base_uri": "https://localhost:8080/",
          "height": 102
        },
        "outputId": "8d5916dc-4fb1-4954-97b2-abf2069e6360"
      },
      "source": [
        "bias_subjectivity"
      ],
      "execution_count": 18,
      "outputs": [
        {
          "output_type": "execute_result",
          "data": {
            "text/plain": [
              "(0.4561616161616161,\n",
              " 0.5613095238095238,\n",
              " 0.4068722943722944,\n",
              " 0.34795454545454546,\n",
              " 0.5213776763776764)"
            ]
          },
          "metadata": {
            "tags": []
          },
          "execution_count": 18
        }
      ]
    },
    {
      "cell_type": "code",
      "metadata": {
        "id": "xOxpKRT6SKYd",
        "colab_type": "code",
        "colab": {
          "base_uri": "https://localhost:8080/",
          "height": 102
        },
        "outputId": "608b9d62-84d1-440d-b0d4-5ed2a817ab88"
      },
      "source": [
        "unbias_subjectivity"
      ],
      "execution_count": 19,
      "outputs": [
        {
          "output_type": "execute_result",
          "data": {
            "text/plain": [
              "(0.3923611111111111,\n",
              " 0.46252228163992865,\n",
              " 0.26555555555555554,\n",
              " 0.6,\n",
              " 0.4585714285714286)"
            ]
          },
          "metadata": {
            "tags": []
          },
          "execution_count": 19
        }
      ]
    },
    {
      "cell_type": "code",
      "metadata": {
        "id": "p9ALjhoKSNAj",
        "colab_type": "code",
        "colab": {}
      },
      "source": [
        ""
      ],
      "execution_count": 0,
      "outputs": []
    }
  ]
}