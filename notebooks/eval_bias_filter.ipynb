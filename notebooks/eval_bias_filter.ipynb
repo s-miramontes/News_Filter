{
  "nbformat": 4,
  "nbformat_minor": 0,
  "metadata": {
    "colab": {
      "name": "eval_bias_filter.ipynb",
      "provenance": [],
      "authorship_tag": "ABX9TyPd2LqtJPXHMNnusjrdBVGx",
      "include_colab_link": true
    },
    "kernelspec": {
      "name": "python3",
      "display_name": "Python 3"
    }
  },
  "cells": [
    {
      "cell_type": "markdown",
      "metadata": {
        "id": "view-in-github",
        "colab_type": "text"
      },
      "source": [
        "<a href=\"https://colab.research.google.com/github/s-miramontes/News_Filter/blob/master/notebooks/eval_bias_filter.ipynb\" target=\"_parent\"><img src=\"https://colab.research.google.com/assets/colab-badge.svg\" alt=\"Open In Colab\"/></a>"
      ]
    },
    {
      "cell_type": "markdown",
      "metadata": {
        "id": "pc2JCDobyHGF",
        "colab_type": "text"
      },
      "source": [
        "# Evaluation of Bias Filter "
      ]
    },
    {
      "cell_type": "code",
      "metadata": {
        "id": "7aa0N8E_yCj5",
        "colab_type": "code",
        "colab": {}
      },
      "source": [
        "# import statements \n",
        "\n",
        "import pandas as pd\n",
        "from textblob import TextBlob "
      ],
      "execution_count": 0,
      "outputs": []
    },
    {
      "cell_type": "code",
      "metadata": {
        "id": "fBOnuMplzPVM",
        "colab_type": "code",
        "colab": {}
      },
      "source": [
        "# import data \n",
        "\n",
        "bias_summaries = pd.read_csv(\"bias_summaries.csv\")\n",
        "\n",
        "unbias_summaries = pd.read_csv(\"unbias_summaries.csv\")"
      ],
      "execution_count": 0,
      "outputs": []
    },
    {
      "cell_type": "markdown",
      "metadata": {
        "id": "bKEmARIIzkj6",
        "colab_type": "text"
      },
      "source": [
        "## Run Sentiment Analysis on Summaries"
      ]
    },
    {
      "cell_type": "code",
      "metadata": {
        "id": "5FZJwQcrzbw4",
        "colab_type": "code",
        "colab": {}
      },
      "source": [
        "# function to return the polarity and subjectivity score of each summary ([-1, 1], [0,1])\n",
        "def get_summary_sentiment(summary): \n",
        "    analysis = TextBlob(summary) \n",
        "    return (analysis.sentiment.polarity, analysis.sentiment.subjectivity)"
      ],
      "execution_count": 0,
      "outputs": []
    },
    {
      "cell_type": "code",
      "metadata": {
        "id": "pUEC3IMNzquf",
        "colab_type": "code",
        "colab": {}
      },
      "source": [
        "# use get_summary_sentiment to get sentiment score for all the summaries\n",
        "bias_sentiment = bias_summaries.apply(lambda row: get_summary_sentiment(row['summary']), axis =1)\n",
        "unbias_sentiment = unbias_summaries.apply(lambda row: get_summary_sentiment(row['summary']), axis =1)\n",
        "\n",
        "bias_polarity, bias_subjectivity = zip(*bias_sentiment)\n",
        "unbias_polarity, unbias_subjectivity = zip(*unbias_sentiment)"
      ],
      "execution_count": 0,
      "outputs": []
    },
    {
      "cell_type": "markdown",
      "metadata": {
        "id": "N12SoehT0aQA",
        "colab_type": "text"
      },
      "source": [
        "## Compare Sentiment of Summaries"
      ]
    },
    {
      "cell_type": "code",
      "metadata": {
        "id": "vUqPOPsu0eCi",
        "colab_type": "code",
        "colab": {}
      },
      "source": [
        ""
      ],
      "execution_count": 0,
      "outputs": []
    }
  ]
}