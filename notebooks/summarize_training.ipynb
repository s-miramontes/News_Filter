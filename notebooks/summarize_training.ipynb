{
  "nbformat": 4,
  "nbformat_minor": 0,
  "metadata": {
    "colab": {
      "name": "summarize_training.ipynb",
      "provenance": [],
      "authorship_tag": "ABX9TyPG/FRbFWC3y/u+eYpuZtSH",
      "include_colab_link": true
    },
    "kernelspec": {
      "name": "python3",
      "display_name": "Python 3"
    }
  },
  "cells": [
    {
      "cell_type": "markdown",
      "metadata": {
        "id": "view-in-github",
        "colab_type": "text"
      },
      "source": [
        "<a href=\"https://colab.research.google.com/github/s-miramontes/News_Filter/blob/master/notebooks/summarize_training.ipynb\" target=\"_parent\"><img src=\"https://colab.research.google.com/assets/colab-badge.svg\" alt=\"Open In Colab\"/></a>"
      ]
    },
    {
      "cell_type": "markdown",
      "metadata": {
        "id": "8V7WZMc5vk3d",
        "colab_type": "text"
      },
      "source": [
        "# Summarize Training Clusters with BERT "
      ]
    },
    {
      "cell_type": "code",
      "metadata": {
        "id": "LrjRONvMvj_Z",
        "colab_type": "code",
        "colab": {}
      },
      "source": [
        "# %%capture\n",
        "# # Install the latest Tensorflow version.\n",
        "# !pip3 install --upgrade tensorflow-gpu\n",
        "# # Install TF-Hub.\n",
        "# !pip3 install tensorflow-hub"
      ],
      "execution_count": 0,
      "outputs": []
    },
    {
      "cell_type": "code",
      "metadata": {
        "id": "byhfZO1avrwl",
        "colab_type": "code",
        "colab": {}
      },
      "source": [
        "# import statements \n",
        "\n",
        "import pandas as pd\n",
        "import numpy as np\n",
        "\n",
        "from sklearn.metrics.pairwise import cosine_similarity\n",
        "\n",
        "from joblib import Parallel, delayed\n",
        "\n",
        "import heapq\n",
        "import operator\n",
        "\n",
        "from absl import logging\n",
        "\n",
        "import tensorflow as tf\n",
        "import tensorflow_hub as hub"
      ],
      "execution_count": 0,
      "outputs": []
    },
    {
      "cell_type": "markdown",
      "metadata": {
        "id": "Dr4PRD4rvubi",
        "colab_type": "text"
      },
      "source": [
        "## Create Summaries for Clusters from Training Data"
      ]
    },
    {
      "cell_type": "code",
      "metadata": {
        "id": "0IPs3fvIvtpC",
        "colab_type": "code",
        "colab": {}
      },
      "source": [
        "# import cluster data\n",
        "\n",
        "clusters = pd.read_csv(\"news_filter/data/clusters.csv\") "
      ],
      "execution_count": 0,
      "outputs": []
    },
    {
      "cell_type": "code",
      "metadata": {
        "id": "WOZNCkXov8L1",
        "colab_type": "code",
        "colab": {}
      },
      "source": [
        "# instantiate summarizer\n",
        "model = Summarizer()\n",
        "\n",
        "# function to return summary of each article in cluster\n",
        "def make_summaries(cluster):\n",
        "  result = {}\n",
        "  for i in range(len(cluster.content)):\n",
        "    summary = model(cluster.content[i], min_length=50, ratio=0.20) \n",
        "    result[i] = ''.join(summary)\n",
        "  return result"
      ],
      "execution_count": 0,
      "outputs": []
    },
    {
      "cell_type": "code",
      "metadata": {
        "id": "vf9t0f_Wv-Rt",
        "colab_type": "code",
        "colab": {}
      },
      "source": [
        "# summarize every aritcle in clusters\n",
        "cluster_summaries = []\n",
        "for i in range(1,6):\n",
        "  summaries = make_summaries(clusters[clusters.cluster_labels == i].reset_index())\n",
        "  cluster_summaries.append(summaries)"
      ],
      "execution_count": 0,
      "outputs": []
    },
    {
      "cell_type": "code",
      "metadata": {
        "id": "ap6x7NgJwBZc",
        "colab_type": "code",
        "colab": {}
      },
      "source": [
        "cluster_summaries"
      ],
      "execution_count": 0,
      "outputs": []
    },
    {
      "cell_type": "markdown",
      "metadata": {
        "id": "jWqTB0SPwAl0",
        "colab_type": "text"
      },
      "source": [
        "## Create Summary of Summaries for each Cluster"
      ]
    },
    {
      "cell_type": "code",
      "metadata": {
        "id": "WzfCPOngwLaO",
        "colab_type": "code",
        "colab": {}
      },
      "source": [
        "# summarize summaries of each cluster \n",
        "summary_of_summaries = []\n",
        "for summaries in cluster_summaries:\n",
        "  summary = ' '.join(list(summaries.values()))\n",
        "  summary_of_summaries.append(model(summary))"
      ],
      "execution_count": 0,
      "outputs": []
    },
    {
      "cell_type": "code",
      "metadata": {
        "id": "rmXG8LoNwOhs",
        "colab_type": "code",
        "colab": {}
      },
      "source": [
        "summary_of_summaries"
      ],
      "execution_count": 0,
      "outputs": []
    },
    {
      "cell_type": "markdown",
      "metadata": {
        "id": "B4WQNu5QwSZ8",
        "colab_type": "text"
      },
      "source": [
        "## Output Final Summary"
      ]
    },
    {
      "cell_type": "code",
      "metadata": {
        "id": "6aFfhEuhwcZw",
        "colab_type": "code",
        "colab": {}
      },
      "source": [
        "input_topics = [\"Russian interference with election\", \"Hillary Clinton WikiLeaks email Benghazi\", \"Women's march highlights\", \"Bernie Sander's Campaign\", \"ICE immigration policies\"]\n",
        "\n",
        "summaries_df = pd.DataFrame({'topic': input_topics, 'summary': summary_of_summaries})\n",
        "summaries_df\n",
        "# summaries_df.to_csv('news_filter/data/summaries.csv', index=False)"
      ],
      "execution_count": 0,
      "outputs": []
    }
  ]
}