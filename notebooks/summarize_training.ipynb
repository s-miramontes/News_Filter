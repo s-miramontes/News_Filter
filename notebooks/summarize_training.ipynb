{
  "nbformat": 4,
  "nbformat_minor": 0,
  "metadata": {
    "colab": {
      "name": "summarize_training.ipynb",
      "provenance": [],
      "authorship_tag": "ABX9TyPFN1rI1pP7brAk4RHtWyrp",
      "include_colab_link": true
    },
    "kernelspec": {
      "name": "python3",
      "display_name": "Python 3"
    }
  },
  "cells": [
    {
      "cell_type": "markdown",
      "metadata": {
        "id": "view-in-github",
        "colab_type": "text"
      },
      "source": [
        "<a href=\"https://colab.research.google.com/github/s-miramontes/News_Filter/blob/master/notebooks/summarize_training.ipynb\" target=\"_parent\"><img src=\"https://colab.research.google.com/assets/colab-badge.svg\" alt=\"Open In Colab\"/></a>"
      ]
    },
    {
      "cell_type": "markdown",
      "metadata": {
        "id": "8V7WZMc5vk3d",
        "colab_type": "text"
      },
      "source": [
        "# Summarize Training Clusters with BERT "
      ]
    },
    {
      "cell_type": "code",
      "metadata": {
        "id": "LrjRONvMvj_Z",
        "colab_type": "code",
        "colab": {}
      },
      "source": [
        "# %%capture\n",
        "# # Install the latest Tensorflow version.\n",
        "# !pip3 install --upgrade tensorflow-gpu\n",
        "# # Install TF-Hub.\n",
        "# !pip3 install tensorflow-hub"
      ],
      "execution_count": 0,
      "outputs": []
    },
    {
      "cell_type": "code",
      "metadata": {
        "id": "byhfZO1avrwl",
        "colab_type": "code",
        "colab": {}
      },
      "source": [
        "# import statements \n",
        "\n",
        "import pandas as pd\n",
        "import numpy as np\n",
        "\n",
        "from summarizer import Summarizer\n",
        "\n",
        "from sklearn.metrics.pairwise import cosine_similarity\n",
        "\n",
        "from joblib import Parallel, delayed\n",
        "\n",
        "import heapq\n",
        "import operator\n",
        "\n",
        "from absl import logging\n",
        "\n",
        "import tensorflow as tf\n",
        "import tensorflow_hub as hub"
      ],
      "execution_count": 0,
      "outputs": []
    },
    {
      "cell_type": "markdown",
      "metadata": {
        "id": "Dr4PRD4rvubi",
        "colab_type": "text"
      },
      "source": [
        "## Create Summaries for Clusters from Training Data"
      ]
    },
    {
      "cell_type": "code",
      "metadata": {
        "id": "0IPs3fvIvtpC",
        "colab_type": "code",
        "colab": {}
      },
      "source": [
        "# import cluster data\n",
        "\n",
        "# clusters = pd.read_csv(\"news_filter/data/clusters.csv\") \n",
        "clusters = pd.read_csv(\"news_filter/data/filter_clusters.csv\") # filtered data"
      ],
      "execution_count": 0,
      "outputs": []
    },
    {
      "cell_type": "code",
      "metadata": {
        "id": "WOZNCkXov8L1",
        "colab_type": "code",
        "colab": {}
      },
      "source": [
        "# instantiate summarizer\n",
        "model = Summarizer()\n",
        "\n",
        "# function to return summary of each article in cluster\n",
        "def make_summaries(cluster):\n",
        "  result = {}\n",
        "  for i in range(len(cluster.content)):\n",
        "    summary = model(cluster.content[i], min_length=50, ratio=0.20) \n",
        "    result[i] = ''.join(summary)\n",
        "  return result"
      ],
      "execution_count": 0,
      "outputs": []
    },
    {
      "cell_type": "code",
      "metadata": {
        "id": "vf9t0f_Wv-Rt",
        "colab_type": "code",
        "colab": {}
      },
      "source": [
        "# summarize every aritcle in clusters\n",
        "cluster_summaries = []\n",
        "for i in range(1,6):\n",
        "  summaries = make_summaries(clusters[clusters.cluster_labels == i].reset_index())\n",
        "  cluster_summaries.append(summaries)"
      ],
      "execution_count": 0,
      "outputs": []
    },
    {
      "cell_type": "code",
      "metadata": {
        "id": "ap6x7NgJwBZc",
        "colab_type": "code",
        "colab": {
          "base_uri": "https://localhost:8080/",
          "height": 887
        },
        "outputId": "b6cca97e-7813-4321-aa3e-b15ad91dbe1a"
      },
      "source": [
        "cluster_summaries"
      ],
      "execution_count": 16,
      "outputs": [
        {
          "output_type": "execute_result",
          "data": {
            "text/plain": [
              "[{0: 'THE MASSIVE leak of documents from the campaign of Emmanuel Macron failed to prevent his landslide victory Sunday in the French presidential election. What was most striking about the operation was not its impact on the election, but its sheer audacity. Russia must be deterred from waging cyberwar against core democratic institutions of the United States and its NATO allies. An appropriate response must begin with full investigation and disclosure. Marine Le Pen, Mr. Macron’s   opponent, traveled to Moscow to meet Mr. Putin during the campaign and spoke publicly about what Mr. Macron says were fabricated reports that he holds an offshore bank account.',\n",
              "  1: '(CNN) Sen. Lindsey Graham said Saturday that Russia is trying to ”is trying to break the backs of democracies.” ” Donald Trump’s presidential transition team issued Friday a stunning rebuke of Intelligence communities who have said, in recent reports from CNN and the Washington Post, that Russian hackers not only wanted to disrupt US elections but actively worked toward getting the Republican presidential nominee elected. ”I’m not challenging the outcome of the election, but very concerned about Russian   at home  throughout the world,” he said.',\n",
              "  2: 'Washington (CNN) The top Democrats on Congress’ intelligence committees boldly blamed Russian intelligence agencies for a series of hacks designed to influence the US presidential election. And in tying the hacking directly to Putin   senior levels of Russian government, the Democrats were more forceful than the administration or Congress has been in the past. ” We call on President Putin to immediately order a halt to this activity. Though nothing was done to influence elections in those states, experts believe Russian hacking is designed to cast doubt in the security and validity of the election. Intelligence Committee members receive classified briefings they can’t speak about in public. They also broke with the administration in their condemnation of Russia.',\n",
              "  3: '’  ’ ’     Donald Trump said Saturday that the only reason   the hacking of the Democratic National Committee is   discussed is because Democrats are ”totally embarrassed” about   their election loss, and he urged friendlier relations with   Russia. ’ ’ ’ ’   He also denied suggestions that the Russian hacking   could have affected the election results, saying ”there was   absolutely no evidence that hacking affected the election   results” because voting machines weren’’t ”touched.” t’t’ ’ ’t’t’tHaving a good relationship with Russia is a good thing, not a bad thing. When I am President, Russia will respect us far more than they do now and. ...’',\n",
              "  4: 'WASHINGTON  —   A day after the release of a damning intelligence report on Russia’s   efforts to influence the American election,   Donald J. Trump called on Saturday for a closer relationship between the two nations, saying only “stupid” people or “fools” would think this was unwise. Mr. Trump has consistently dismissed the intelligence agencies’ conclusions as politically motivated, but he appeared to soften that stance in a statement his transition team released after the briefing. Mr. Trump has said repeatedly that it is time to “move on” from the focus on Russian meddling in the election, arguing that it has received such attention only because Democrats are embarrassed about their loss  —   an assertion he repeated on Twitter on Saturday.',\n",
              "  5: 'Last month, The Post reported: CrowdStrike had installed software on the [Democratic National Committee’s] computers so that it could analyze data that could indicate who had gained access, when and how. Ukrainian computer specialists mobilized to restore operations in time for the elections. We saw this clearly in elections in Georgia in 2012. Meanwhile, on   channels, Russian military officials talked darkly of preparing to intercede in Georgia to restore order. It may be that Putin is trying directly to give a leg up to Trump (the Republican National Committee was apparently not hacked, after all) who unaware of or indifferent to Russia’s interests in harming the West, would abandon criticism of human rights and allow Putin freer rein in Europe. The Fix’s Chris Cillizza explains why Donald Trump made a mistake when he called on Russia to find Hillary Clinton’s missing emails. ( for suggesting that Trump not get a security briefing. He even had the nerve to compare Reid to Putin  —   when his own candidate is playing the role of Putin’s pet poodle. He underscored that lots of countries, including China, have been hacking the United States. “ Trump not only invited more Russian espionage and suggested Russia might get to keep Crimea but also demonstrated his utter unfamiliarity with the issue and his desire to buddy up to Putin as the latter seeks to damage the West. In doing so, Trump left Republicans once more tied up in knots, a result that inevitably flows from supporting a candidate like Trump. Donald Trump speaks at a campaign event at Trump Doral golf course in Miami.',\n",
              "  6: 'Kellyanne Conway, senior adviser to   Donald Trump, said Sunday on CBS that any concerns about Russia’s alleged interference with the 2016 presidential election were unfounded. “ FBI Director James B. Comey and Director of National Intelligence James R. Clapper Jr. agreed with the CIA’s assessment. @KellyannePolls responds to reports electoral voters troubled by Russian hacking. Says electors potentially undermining democracy pic. It does seem to be a political response at this point, because it seems like the president is under pressure from Team Hillary, who can’t accept the election results. ” Earlier this month, four   senators called for a thorough investigation of alleged Russian meddling in the election.',\n",
              "  7: 'Throughout his testimony Thursday, former FBI Director James Comey repeatedly stressed the serious implications of Russia’s attempts to interfere in the 2016 election. Toward the beginning of the hearing, Comey said that he has no doubt that Russia attempted to interfere in the 2016 election and that Russian government officials were aware of the meddling. In response, Comey stressed that there’s no doubt that the Russian government tried to interfere in the 2016 election and that the conclusion on Russia’s actions is “about as unfake as you can possibly get. ” “ And it was an active measures campaign driven from the top of the government. It is a high confidence judgment of the entire intelligence community  —   and the members of this committee have seen the intelligence  —   it’s not a close call,” he continued. “ And so they’re going to try to run it down and dirty it up as much as possible.',\n",
              "  8: '’  ’ ”   A declassified version of a  on Russian hacking has concluded that   Russian President Vladimir Putin ordered a campaign to influence   the US presidential election with the aim of hurting Hillary   Clinton’s chance of winning. ” ’ The report also concluded that Russia aimed to help     Donald Trump win the election. ’ ’ ”Putin and the Russian government aspired to help     Trump’’s election chances when possible by discrediting Secretary   Clinton and publicly contrasting her unfavorably to him,” it   continued.',\n",
              "  9: 'US intelligence officials are investigating the possibility that the Russian government is attempting to influence the US election, according to a new report. The director of national intelligence, James Clapper, is leading an inquiry into whether and how Russian officials may be attempting to influence the election and “provide propaganda fodder to attack US   policies around the world” the Washington Post reported on Monday, Officials who spoke to the Post on condition of anonymity said there was no confirmation of any executed or planned attack, but according to one “even the hint of something impacting the security of our election system would be of significant concern”. Multiple officials told the Post that if proven, the Russian attempts at sabotage may not be intended to swing the election any particular way, but rather to generally promote chaos and mistrust that could make the US seem less stable and trustworthy in international affairs, potentially diminishing its authorities.'},\n",
              " {0: 'To understand the story of Benghazi, you first have to understand there are two of them. But this report was different this report was put forth by the House Benghazi committee itself, the culmination of a   $7m investigation, the upshot of which is that nobody not reached during the attack could have been saved, and further that the Obama administration talking points, while initially misinformed, were not intentionally misleading. It is, in short, the last word on Benghazi for sometime. Never mind that we’ve now had more investigations of Benghazi than every   terror attack in recent history combined. The second biggest upshot is likely the personal misfortune for Kevin McCarthy, who  —   as result of his comment suggesting the entire   Benghazi investigation is a patently political attempt to tar Clinton  —   is not the House speaker.',\n",
              "  1: '’   CNN anchor Jake Tapper asked Clinton campaign manager Robby Mook   on Sunday to answer why an IT worker who maintained Clinton’’s   private email server referred to a     policy   as a ”.” ’ ’ In an interview on ”State of the Union,” Tapper asked why an   employee of Platte River, which hosted Clinton’’s private email   server, referred to the policy of deleting emails   during the time after Clinton was out of office as a ”    operation,” a comment the IT worker told the FBI was a joke. ’ ’ The   email was released as part of an almost     document dump of interview summaries from the FBI’s investigation   into Clinton’s use of a private email server.',\n",
              "  2: 'Washington (CNN) Wikileaks founder Julian Assange refused Monday to say whether Russian hackers were responsible for the leak of damning emails which ultimately forced Democratic National Committee Chairwoman Debbie Wasserman Schultz to resign. Donald Trump, whose ties to Russia have come under scrutiny, came under fire last week after he said that Russian hackers should search for thousands of emails missing from Clinton’s private email server.',\n",
              "  3: 'Julian Assange says if the United States government sees him as a threat to national security, it should see Hillary Clinton as one, too. In an interview with Morning Edition’s David Greene, the founder of WikiLeaks called the Department of Justice’s decision not to prosecute Clinton for handling classified information on her private email server an ”incredible double standard.” Chelsea Manning was convicted of the Espionage Act after disclosing classified military information to WikiLeaks. In his NPR interview, Assange regarded the open disclosure of information with reverence. Four DNC officials resigned in the aftermath, including its chair, Florida Rep. Debbie Wasserman Schultz. But, he added, ”I’m not confident that in fact all media in the United States would have published those emails,” referring to what he called the partisan nature of the U. S. media landscape leading up to the election.',\n",
              "  4: '’  ’ ”   Donald Trump on Tuesday called for an investigation into   President Barack Obama after hacked emails from Hillary Clinton   campaign chairman John Podesta, published by WikiLeaks,    Clinton’s use of a private email server. ” ’ ”Because he didn’’t want to get caught up in the big lie,” he   said. ” Press   secretary Josh Earnest said after the CBS interview aired that   Obama ”was referring specifically to the arrangement associated   with Secretary Clinton’’s email.” ’ ’ That shouldn’’t be a surprise   that the president of the United States is going to trade emails   with the secretary of state. The Clinton campaign has tied WikiLeaks to Russian hackers   looking to swing the election in favor of Trump.',\n",
              "  5: '’  ’ ’   A US intelligence    on Russian hacking concluded that Russian military   intelligence relayed material to WikiLeaks and other websites   that published emails hacked from Democratic Party organizations. ’ ’ WikiLeaks published hacked emails from the Democratic National   Committee and Hillary Clinton campaign chairman John Podesta. ”We assess with high confidence that Russian military   intelligence (General Staff Main Intelligence Directorate or GRU)   used the Guccifer 2. As for how Assange could insist the hacked material WikiLeaks   published wasn’’t provided by the Russian government, a US   official familiar with the full version of the US intelligence   report  that the material followed a ”circuitous route”   from the GRU to WikiLeaks in order to obscure the origins of the   material. ’ ” The US intelligence report did not assess ”the impact that   Russian activities had on the outcome of the 2016 election.” ’',\n",
              "  6: ', I want to receive updates from partners and sponsors. The final decision rests with Attorney General Loretta Lynch. She has repeatedly said that she will cooperate if asked to speak.) One of the aides to speak is Huma Abedin, one of Clinton’s closest and   confidants. It’s not clear what other staffers have been interviewed. Also this week, the hacker Guccifer —  most famous for publishing George W. Bush’s paintings —  claimed he had hacked Clinton’s server, though FBI investigators apparently see no basis for the claim. The good news for Clinton is that there appears to be no evidence so far that she broke U. S. law, both CNN and The Washington Post report. Investigators reportedly still want to interview her. Besides, as the case has shown time and again, the leaks making it to the press have not always been reliable. The fact that Clinton was using a private server for her work email emerged in the course of the investigation into the September 11, 2012, attacks in Benghazi, which killed four Americans. The canonical case is Whitewater, a failed   investment Bill and Hillary Clinton made in 1978. Initially, it seemed that the interest in the emails would stem from damaging things that Clinton or other aides had said:   misrepresentations, who knows? The question is whether any of it, and how much of it, was classified at the time it was sent. Before becoming Clinton’s chief of staff, Cheryl Mills worked for Clinton on an unpaid basis for four month while also working for New York University, in which capacity she negotiated on the school’s behalf with the government of Abu Dhabi, where it was building a campus. She also earned money from the Clinton Foundation and was paid directly by Hillary Clinton. At the same time, Blumenthal was drawing a check from the Clinton Foundation. Blumenthal was apparently the source of the idea that the Benghazi attacks were spontaneous, a notion that proved incorrect and provided a political bludgeon against Clinton and Obama. Hillary Clinton Bill Clinton Chelsea Clinton, How serious is it? The first is the seemingly unavoidable conflicts of interest: How did the Clintons’ charitable work intersect with their   speeches? Bill Clinton Hillary Clinton a brigade of supporting characters, How serious is it?',\n",
              "  7: 'Two aides in charge of running Hillary Clinton’s presidential campaign were taken aback as news broke in March 2015 of Clinton’s use of private email for her work as U. S. secretary of state, according to stolen emails published on Thursday by WikiLeaks. The   exchange between Robby Mook, Clinton’s campaign manager, and John Podesta, the campaign chairman, happened within hours of the New York Times breaking the news that Clinton exclusively used a private email account in a way that may have broken records rules. ” A few hours later, at 1:32 a. m. Mook wrote back: ”Nope. Clinton, the Democratic candidate, remains the   in opinion polls over Republican opponent Donald Trump. Podesta replied with a single word: ”Unbelievable.” ” David Kendall is another lawyer working for Clinton, and Philippe Reines, whose first name Podesta appeared to have misspelled, is a Clinton adviser who handled her news coverage at the State Department.',\n",
              "  8: 'For weeks, backers of Republican nominee Donald Trump hyped the tantalizing possibility that the   organization WikiLeaks was on the verge of publishing a set of documents that would doom Hillary Clinton’s chances in November. “ The     media world rippled with fevered speculation. But if an October surprise about the Democratic nominee really is coming, it will have to wait a little longer. Assange, whose group released a trove of hacked Democratic National Committee documents on the eve of the party’s convention this summer, breezily dismissed the idea that anyone should have expected any news at his news conference. [Snowden and WikiLeaks clash over leaked Democratic Party emails]   “If we are going to make a major publication about the U. S. we wouldn’t do it at 3 a. m.,” Assange said at one point, referring to the Eastern daylight start time for the event. We think they’re significant,” he coyly informed his worldwide audience.',\n",
              "  9: '’   Matt Lauer grilled Hillary Clinton on Wednesday evening over her   handling of classified information and use of a private email   server while she was secretary of state. ’ ” ”The word judgment has been used a lot around you, Secretary   Clinton over the last year and a half, and in particular   concerning your use of your personal email and server to   communicate while you were secretary of state,” Lauer said. ’ ’ Clinton repeated past statements about her use of a private   server being a mistake. ’ ’’ ’ ”As I have said repeatedly, it was a mistake to have a personal   account,” Clinton said. ” Classified material has a   header which has top secret, secret, confidential.'},\n",
              " {0: 'That’s what the Internet is agonizing over after she posted a photo on Instagram of herself on Sunday. The move is classic Beyonce, who has a history of   the message when it comes to personal announcements.',\n",
              "  1: '(CNN) For those looking to participate in the upcoming ”A Day Without A Woman” strike, organizers of the Women’s March on Washington have released additional information on how to observe the day. The concept and date were announced via social media earlier in February, and the Women’s March website says it ”supports the feminists of color and   groups organizing the International Women’s Strike.”',\n",
              "  2: '(CNN) The plane bound for DC was packed with women, mothers and daughters, aunts and nieces    all headed to the Women’s March on Washington,   in their mission but spirited in mood. Little Ashby, all of 6, was on her way with her mom and grandma.',\n",
              "  3: '’  ’ ’   The US may as well be renamed the land of the red, white, and   pink on Saturday, January 21. ’ ’ Besides the     shape, the hat’s name was inspired by Trump’s 2005   comments in the  leaked in October 2016, in which he   bragged about grabbing women by their genitals. ” ’ The Pussyhat project is ”about women  ’ ’   The team has also organized    —   where people can learn   how to make the hats together  —   in 100 knitting shops across the   country.',\n",
              "  4: 'This was how Harry Belafonte, the performer and civil rights activist, referred to the street march in a recent interview. From the suffrage processions of the early 20th century to the Tea Party rallies of 2009, marches have drawn attention to crucial issues, occasionally resulted in violence and often prompted opposing gatherings. Are they continuing to be fired up when they get back? Woodrow Wilson skipped the event, taking side streets to a hotel to avoid the crowds. But the 1913 march kicked off a series of political actions that swayed the public and male politicians, finally pushing them to pass the 19th Amendment to the Constitution. The Bonus Army gathering, in which an estimated 20, 000 World War I veterans demanded the payment of bonuses guaranteed under a 1924 law, is among the   marches in American history. The gathering was followed by sustained activism  —   including a   drive in Mississippi and a march in Alabama from Selma to Montgomery  —   that helped pass the Civil Rights Act of 1964 and the Voting Rights Act of 1965. Three drummers led the procession, followed by people carrying 11 coffins bearing names of the dead. A year after Roe v. Wade, on Jan. 22, 1974, thousands gathered in Washington to urge Congress to support a constitutional amendment, known as the Buckley Amendment, which would have effectively overturned the decision. AIDS deaths continued to climb each year until 1995.) It was contentious  —   Mr. Farrakhan had been criticized previously for sexist and   remarks  —   and was attended by the poet Maya Angelou but opposed by the N. A. A. C. P. Organizers said the event spurred 1. Much of the discussion centered on the use of force by the police and continued discrimination. I think that’s the feeling in the black community right now. ”',\n",
              "  5: '(CNN) The three   members of 1990s RB group Destiny’s Child reunited onstage Saturday night in a surprise performance. Then, Rowland and Beyonce emerged from the shadows, cheers growing as it became clear that a reunion was in progress.',\n",
              "  6: 'Washington (CNN) Thirteen women were arrested for disorderly conduct outside the Trump International Hotel and Tower during the ”Day Without a Woman” march Wednesday,  a spokesman for the New York Police Department said.',\n",
              "  7: 'The day after   Donald Trump’s inauguration, Jan. 20, 2017, a march is slated to take place on the National Mall. Historical significance is embedded in the event’s name: To march in Washington evokes the legacies of powerful public demonstrations in American history, such as Martin Luther King Jr. ’s March on Washington for Jobs and Freedom, the Moratorium March to End the War in Vietnam, the Million Man March to highlight the collective power of the   community, and the 2004 March for Women’s Lives as a demonstration for reproductive and women’s rights. Organizers are hoping to create a social movement, but Marcia Chatelain, a faculty fellow at Georgetown University’s Center for Social Justice, said doing that depends on whether the Women’s March’s momentum can be sustained long after the march itself. ” Organizers and activists can use the march to proffer alternative ways to create change in their communities and contribute to a greater movement from a local, everyday standpoint. ” It’s about the everyday acts of resistance that the marches are also trying to represent. To affect policy, Kazin said, a march needs to be part of a greater social movement with clear and consistent objectives, constant pressure on the Legislature, dedicated support from its base and continued momentum.',\n",
              "  8: 'It was a call to action that forced listeners to consider what would happen after the march —  a natural concern for   protesters bent on opposing Donald Trump, and one that hung over the event. Some marchers also appear to be seeking out opportunities for activism on their own. Abby Wright, 36, who traveled from Atlanta, Georgia, to march in Washington, was not involved in political activism prior to November. She has since joined her local   association and is working on a website that seeks to keep residents of her district informed about local policies. Does a successful movement require cooperation with the other side, or can women effect the change they want through sheer resistance? Stephanie Zhou, a    living in New York City, said she failed to see much unity. In an opinion piece for The Huffington Post, Zhou’s friend Chi Nguyen called out some of these white marchers for failing to chant “Black Lives Matter” and for ignoring   speakers during the   rally. Black women have been shot in the streets and discriminated against for years. In an essay explaining why she would not attend the Women’s March, Jamilah Lemieux notes that many white women have not responded to the crises of minority communities with the same force they’re deploying now, in response to perceived threats against themselves. NOW’s Terry O’Neill said that women of color have every right to be skeptical. In order to succeed, she added, white women of the movement will have to reckon with this critique if they want to fulfill the march’s goals of unified political resistance.',\n",
              "  9: 'WASHINGTON    Thousands of men wearing Planned Parenthood gear and carrying signs reading ”the future is female” joined the sea of women in pink ”pussyhats” assembled for Saturday’s Women’s March on Washington. Despite a flurry of stories predicting that men may not understand that they were welcome at the march, they turned out in droves. John McDonald, John McDonald, a biology professor at the University of Delaware, volunteered to help direct the crowds. A closeup of Bobby Williams’ march sign, For Williams, the march represented an opportunity to directly show the President Donald Trump and his supporters that tens of thousands of Americans disagree with his agenda and attitude towards women’s rights. ”'},\n",
              " {0: 'Democratic presidential candidate Sen. Bernie Sanders ( ) said in an interview aired Sunday that he was thankful to Bill Clinton for serving as his ”psychoanalyst.” Sanders continued saying the Clinton campaign had become ”very negative” and ”about to beat us up.” ”',\n",
              "  1: 'The Democratic presidential primaries ended two weeks ago today. Caption   The presumptive Democratic presidential nominee and the Massachusetts senator electrified a crowd by locking arms and excoriating Donald Trump, the GOP presumptive nominee.',\n",
              "  2: 'Democratic presidential candidate Hillary Clinton said, when asked about opponent Sen. Bernie Sanders ( )’s campaign, that it was ”hard” to quit a race for the presidency.',\n",
              "  3: 'Washington (CNN) It’s been a while since Bernie Sanders has attended the weekly Senate Democratic lunch in the Capitol.',\n",
              "  4: 'Democratic presidential candidate Hillary Clinton argued in an interview aired Sunday that rival Sen. Bernie Sanders ( ) was putting forth an ”artful smear” to spin the donations she has received from Wall Street. I’ve never ever done that and I really do resent the implication or as I said the other night the insinuation,” Clinton said. ”',\n",
              "  5: 'Sen. Bernie Sanders ( ) wouldn’t say if he will turn his fundraising juggernaut toward the Democratic House and Senate campaign committees and   Democratic candidates in a Wednesday night interview on MSNBC’s ”The Rachel Maddow Show.” ” Right now, our job is to, what I’m trying to do is win the Democratic nomination,” Sanders said.',\n",
              "  6: '’Hillary Clinton is sinking in the polls, falling behind Bernie Sanders in a ’',\n",
              "  7: 'President Donald Trump on Sunday morning relitigated the Democratic primaries, which ended more than a year ago, in one of his regular early morning tweets.',\n",
              "  8: 'Washington (CNN) Bernie Sanders is positioned to officially throw his support behind Democratic rival Hillary Clinton in New Hampshire on Tuesday, CNN’s John King reported on ”Inside Politics” Sunday. Climate change, health care and a minimum wage hike are among the issues that the Sanders campaign are calling victories. Even after the primary season ended, Sanders stayed in the race and vowed to carry his fight to the convention.',\n",
              "  9: 'Sen. Bernie Sanders ( ) on Monday night conceded that he and Democratic presidential rival Hillary Clinton were locked in a ”virtual tie” in the Iowa caucuses —  but his supporters responded as if he had already won. “ As his voice got raspy, he told the crowd that he was ”very proud” to note that he was the only Democratic candidate without a super PAC. “'},\n",
              " {0: 'For us to continue writing great stories, we need to display ads. Please follow the steps below, In Monday’s night   debate, Donald Trump barely made mention of an issue that has been the cornerstone of his presidential campaign since its launch: immigration. But he left the matter untouched in the first debate with his Democratic rival, Hillary Clinton, despite numerous opportunities to it bring up. All of those signature Trump proposals went unmentioned Monday night. That might have been an opportunity for Trump to plug his line that he would build a great wall on the U. S.  border that would be paid for by Mexico, but he refrained.',\n",
              "  1: 'THE   immigrant rancor and outright nativism afoot in the Republican primary field give rise to the impression that illegal immigration has soared to unprecedented levels and that the border is no more than a line in the sand, scarcely monitored and easily crossed. 7 million   immigrants, roughly half of them undocumented, are now in this country, down from 12. Most of those who have left have done so of their own accord; comparatively few were deported. Republican rhetoric on immigration has not caught up to those numbers, nor to the reality that the U. S. economy, like other Western economies, cannot function without     labor, which Mexico has supplied.',\n",
              "  2: '(CNN) Two   opponents of illegal immigration have obtained   advisory jobs at federal immigration agencies in the Department of Homeland Security. CIS and FAIR are think tanks based in Washington that advocate restricting legal and illegal immigration. While at CIS, Feere promoted legislation to end automatic citizenship for   children of undocumented immigrants. The Pew Research Center also has found that the number of babies born to unauthorized immigrants in the United States has been declining steadily in recent years. In one article published by CIS, Feere questioned whether children brought to the United States at an early age were sufficiently assimilated or loyal to this nation to be granted any type of legal status. ”CIS has published articles that labeled immigrants ’third world gold diggers’ and that blamed Central American asylum seekers for the ’burgeoning street gang problem’ in the US, while Dan Stein has said that many immigrants that come to the US hate America and everything the country stands for,” said Heidi Beirich, director of Southern Poverty Law Center’s Intelligence Project, which oversees the center’s yearly count of   groups. ” Feere, Kirchner, acting ICE Director Homan and acting Customs and Border Protection Commissioner McAleenan declined requests for interviews. Some   advocates already sense a growing breakdown in their ability to effectively get information from ICE. During the Bush administration, a coalition of   groups known as the   Working Group started holding confidential,   stakeholder meetings several times a year with   immigration officials as an opportunity to express concerns and ask specific questions about enforcement policy, the rights of immigrants and their treatment while in detention. In February, at the first such   under the Trump administration, members of the working group felt blindsided to discover that some     groups also were in attendance. advocates have told ICE they would prefer if the agency met with those groups separately, which ICE has declined to do. The agency continues to expand engagement with stakeholders and community members. Peter Robbio a spokesman for NumbersUSA, a group that also scored its first invitation to the stakeholder meeting, described this as the best relationship the organization has had with any administration in 21 years.',\n",
              "  3: 'For us to continue writing great stories, we need to display ads. It’s rare to hear many voices that reside in neither camp. Borjas’ message is that the United States is not just attracting the best and brightest immigrants from around the world —  it’s also attracting a large number of poor, uneducated, unskilled immigrants, who he says are more of a burden to the American economy than a benefit. Limiting immigration to   immigrants, he argues, is the best solution if the point of immigration law were to make all Americans wealthier. “ While Borjas insists his focus is on pure economics, there are racial implications of his analysis. Borjas attempts to differentiate between the economic circumstances of a certain group and their nationality. Comments like these risk painting a whole group as dangerous, when in reality the vast, vast majority of people will come to America and lead peaceful, productive lives. The Naturalization Act of 1790 first established that only free, white immigrants could become U. S. citizens. In 1882, Congress passed the Chinese Exclusion Act to halt immigration of Chinese laborers during the Gold Rush. ( It also limited Jewish and African immigration, and outright banned Arabs from moving to the country.',\n",
              "  4: 'In January, President Trump signed an executive order that vastly expands who the U. S. considers a deportation priority. This may, in part, be true, but it will be so because Trump’s order greatly increased the number of people considered criminals worthy of deportation. But in reality they’re going after anyone they can get their hands on —  period. To get the job she used a fake social security number. The language in the order says that any unauthorized immigrant convicted of any crime can be deported. Another tool implemented by George W. Bush, and that Trump will likely use, is giving back 287 (g) authority to local law enforcement. Trump’s order said explicitly that he wanted “to empower State and local law enforcement agencies across the country to perform the functions of an immigration officer. ” If they couldn’t prove citizenship, local authorities handed them over to ICE. This was used most pervasively, and attracted the most attention nationally, in Phoenix. There the Maricopa County Sheriff’s Office, led by Arpaio, descended upon   neighborhoods and stopped people for trivial traffic violations, emptied out restaurant kitchens, even arrested workers at local water parks, like in the case of Rayos.',\n",
              "  5: 'The sudden and unexpected deportation of undocumented Mexican immigrant Guadalupe Garcia de Rayos has sparked fears that President Donald Trump is beginning to fulfill his campaign promise to expel 11 million people from the United States. Among the tips: ”If they ask to enter, ask if they have a warrant signed by a judge and if so, ask to see it (through a window or slipped under the door).” ’ Fight your case’ United We Dream, which says it’s the ”largest immigrant   organization in the nation,” also shared fliers on social media instructing undocumented immigrants how to interact with ICE agents and even fight back. ”',\n",
              "  6: 'To carry out his   immigration policy, Donald Trump proposed hiring 5, 000 additional Border Patrol agents and tripling the number of ”deportation officers.” Apprehensions are down: Despite the growing number of officers patrolling the border, fewer   crossers are being caught. Since then, deportations have been dropping to a low of 235, 413 last year. There have been fewer deportations of immigrants who have lived in the U. S. for years and whose only crime was crossing the border illegally. The Washington Post estimates that, in all, some 6 million people could be subject to deportation if Trump’s promised policies were to take effect. Criminal deportation because of   or something else? That figure comes from an analysis of ICE data by the Center for Immigration Studies, a group that advocates for low immigration.',\n",
              "  7: '(CNN) Guadalupe Garcia de Rayos went to Mass and said a prayer before her immigration   Wednesday in Phoenix. It was her eighth visit since her 2008 arrest and conviction for using a fake Social Security number. After each meeting, the married mother of two was released and went back to her family. The undocumented immigrant was detained Wednesday and deported within 24 hours to her native Mexico, in what her lawyer claims is a direct result of US President Donald Trump’s crackdown on illegal immigration. Whatever the reason, Garcia de Rayos, 35, said she has no regrets. The truth is I was there [in the United States] for my children. I think this is a direct result of the new executive orders that are being put into actions by President Trump calling them ’enhancing public safety,’ which really appears only to be attacking immigrant communities and people of color,” her attorney Ray Maldonado said. Phoenix Mayor Greg Stanton, a Democrat, called her deportation a travesty. She came illegally to the United States in the   with her parents when she was 14. After her conviction she appealed a court order to voluntarily deport and lost.',\n",
              "  8: 'Univision anchor Jorge Ramos grilled Hillary Clinton for a commitment that she would not deport children during Wednesday night’s Democratic presidential debate, asking her to clarify her stance nearly a   times. So if you really don’t want to be the next    can you promise tonight that you won’t deport children and that you won’t deport immigrants who don’t have a criminal record and this time, could I get a yes or no answer?” As I said, I want to prioritize who would be deported. Now I don’t  —   because I’m not contradicting what I told you in the interview.',\n",
              "  9: 'When you think of illegal immigration in the U. S. do you picture a border crosser or a visa overstayer? Different research groups use different methodologies, and in some cases, they rely on estimates. We’ve included links to all our data sources so you can read about their methods in more detail. Mexico is ”the leading nation of origin for U. S. unauthorized immigrants,” Pew writes, but the share of immigrants from Mexico is also declining. The population from that one country far outnumbers the population from entire continents. The percentage arriving from Mexico has dropped markedly, while more immigrants are coming from Africa, Central America and Asia. The Department of Homeland Security has estimated that as of Jan. 4, 2016, about 416, 500 people overstayed their visas in fiscal year 2015. Still, it’s unclear how many visa overstayers make up the total number of unauthorized immigrants. A Pew estimate from 2006 says it could be as high as 45 percent. You probably know that people living in the U. S. without legal status, as well as other immigrants, are a big part of the farm labor force. Far, far more work in service jobs or in construction. That’s far more than the number who live only with noncitizen children  —   that’s just 6 percent of the population.'}]"
            ]
          },
          "metadata": {
            "tags": []
          },
          "execution_count": 16
        }
      ]
    },
    {
      "cell_type": "markdown",
      "metadata": {
        "id": "jWqTB0SPwAl0",
        "colab_type": "text"
      },
      "source": [
        "## Create Summary of Summaries for each Cluster"
      ]
    },
    {
      "cell_type": "code",
      "metadata": {
        "id": "WzfCPOngwLaO",
        "colab_type": "code",
        "colab": {}
      },
      "source": [
        "# summarize summaries of each cluster \n",
        "summary_of_summaries = []\n",
        "for summaries in cluster_summaries:\n",
        "  summary = ' '.join(list(summaries.values()))\n",
        "  summary_of_summaries.append(model(summary))"
      ],
      "execution_count": 0,
      "outputs": []
    },
    {
      "cell_type": "code",
      "metadata": {
        "id": "rmXG8LoNwOhs",
        "colab_type": "code",
        "colab": {
          "base_uri": "https://localhost:8080/",
          "height": 122
        },
        "outputId": "1aa7ba47-bb00-4d1a-d940-b517f2085a92"
      },
      "source": [
        "summary_of_summaries"
      ],
      "execution_count": 18,
      "outputs": [
        {
          "output_type": "execute_result",
          "data": {
            "text/plain": [
              "['THE MASSIVE leak of documents from the campaign of Emmanuel Macron failed to prevent his landslide victory Sunday in the French presidential election. An appropriate response must begin with full investigation and disclosure. We call on President Putin to immediately order a halt to this activity. Intelligence Committee members receive classified briefings they can’t speak about in public. WASHINGTON  —   A day after the release of a damning intelligence report on Russia’s   efforts to influence the American election,   Donald J. Trump called on Saturday for a closer relationship between the two nations, saying only “stupid” people or “fools” would think this was unwise. Ukrainian computer specialists mobilized to restore operations in time for the elections. Says electors potentially undermining democracy pic. Toward the beginning of the hearing, Comey said that he has no doubt that Russia attempted to interfere in the 2016 election and that Russian government officials were aware of the meddling. And it was an active measures campaign driven from the top of the government. ’ ”   A declassified version of a  on Russian hacking has concluded that   Russian President Vladimir Putin ordered a campaign to influence   the US presidential election with the aim of hurting Hillary   Clinton’s chance of winning. ” ’ Multiple officials told the Post that if proven, the Russian attempts at sabotage may not be intended to swing the election any particular way, but rather to generally promote chaos and mistrust that could make the US seem less stable and trustworthy in international affairs, potentially diminishing its authorities.',\n",
              " 'To understand the story of Benghazi, you first have to understand there are two of them. I want to receive updates from partners and sponsors. The final decision rests with Attorney General Loretta Lynch. Investigators reportedly still want to interview her. Besides, as the case has shown time and again, the leaks making it to the press have not always been reliable. The fact that Clinton was using a private server for her work email emerged in the course of the investigation into the September 11, 2012, attacks in Benghazi, which killed four Americans. She also earned money from the Clinton Foundation and was paid directly by Hillary Clinton. Blumenthal was apparently the source of the idea that the Benghazi attacks were spontaneous, a notion that proved incorrect and provided a political bludgeon against Clinton and Obama. Hillary Clinton Bill Clinton Chelsea Clinton, How serious is it? The first is the seemingly unavoidable conflicts of interest: How did the Clintons’ charitable work intersect with their   speeches? Two aides in charge of running Hillary Clinton’s presidential campaign were taken aback as news broke in March 2015 of Clinton’s use of private email for her work as U. S. secretary of state, according to stolen emails published on Thursday by WikiLeaks. The   exchange between Robby Mook, Clinton’s campaign manager, and John Podesta, the campaign chairman, happened within hours of the New York Times breaking the news that Clinton exclusively used a private email account in a way that may have broken records rules. ” Snowden and WikiLeaks clash over leaked Democratic Party emails]   “If we are going to make a major publication about the U. S. we wouldn’t do it at 3 a. m.,” Assange said at one point, referring to the Eastern daylight start time for the event.',\n",
              " 'That’s what the Internet is agonizing over after she posted a photo on Instagram of herself on Sunday. The concept and date were announced via social media earlier in February, and the Women’s March website says it ”supports the feminists of color and   groups organizing the International Women’s Strike.” ( This was how Harry Belafonte, the performer and civil rights activist, referred to the street march in a recent interview. Are they continuing to be fired up when they get back? Woodrow Wilson skipped the event, taking side streets to a hotel to avoid the crowds. But the 1913 march kicked off a series of political actions that swayed the public and male politicians, finally pushing them to pass the 19th Amendment to the Constitution. The Bonus Army gathering, in which an estimated 20, 000 World War I veterans demanded the payment of bonuses guaranteed under a 1924 law, is among the   marches in American history. Much of the discussion centered on the use of force by the police and continued discrimination. Organizers and activists can use the march to proffer alternative ways to create change in their communities and contribute to a greater movement from a local, everyday standpoint. ” It’s about the everyday acts of resistance that the marches are also trying to represent.',\n",
              " 'Democratic presidential candidate Sen. Bernie Sanders ( ) said in an interview aired Sunday that he was thankful to Bill Clinton for serving as his ”psychoanalyst.” Sen. Bernie Sanders ( ) wouldn’t say if he will turn his fundraising juggernaut toward the Democratic House and Senate campaign committees and   Democratic candidates in a Wednesday night interview on MSNBC’s ”The Rachel Maddow Show.” ” Climate change, health care and a minimum wage hike are among the issues that the Sanders campaign are calling victories. Even after the primary season ended, Sanders stayed in the race and vowed to carry his fight to the convention.',\n",
              " 'For us to continue writing great stories, we need to display ads. Most of those who have left have done so of their own accord; comparatively few were deported. CIS and FAIR are think tanks based in Washington that advocate restricting legal and illegal immigration. CIS has published articles that labeled immigrants ’third world gold diggers’ and that blamed Central American asylum seekers for the ’burgeoning street gang problem’ in the US, while Dan Stein has said that many immigrants that come to the US hate America and everything the country stands for,” said Heidi Beirich, director of Southern Poverty Law Center’s Intelligence Project, which oversees the center’s yearly count of   groups. ” advocates have told ICE they would prefer if the agency met with those groups separately, which ICE has declined to do. The agency continues to expand engagement with stakeholders and community members. The Naturalization Act of 1790 first established that only free, white immigrants could become U. S. citizens. In January, President Trump signed an executive order that vastly expands who the U. S. considers a deportation priority. But in reality they’re going after anyone they can get their hands on —  period. To get the job she used a fake social security number. Another tool implemented by George W. Bush, and that Trump will likely use, is giving back 287 (g) authority to local law enforcement. If they couldn’t prove citizenship, local authorities handed them over to ICE. The sudden and unexpected deportation of undocumented Mexican immigrant Guadalupe Garcia de Rayos has sparked fears that President Donald Trump is beginning to fulfill his campaign promise to expel 11 million people from the United States. Criminal deportation because of   or something else? That’s far more than the number who live only with noncitizen children  —   that’s just 6 percent of the population.']"
            ]
          },
          "metadata": {
            "tags": []
          },
          "execution_count": 18
        }
      ]
    },
    {
      "cell_type": "markdown",
      "metadata": {
        "id": "B4WQNu5QwSZ8",
        "colab_type": "text"
      },
      "source": [
        "## Output Final Summary"
      ]
    },
    {
      "cell_type": "code",
      "metadata": {
        "id": "6aFfhEuhwcZw",
        "colab_type": "code",
        "colab": {
          "base_uri": "https://localhost:8080/",
          "height": 204
        },
        "outputId": "3c70ac77-916b-4757-c6ae-b87df6a8f765"
      },
      "source": [
        "input_topics = [\"Russian interference with election\", \"Hillary Clinton WikiLeaks email Benghazi\", \"Women's march highlights\", \"Bernie Sander's Campaign\", \"ICE immigration policies\"]\n",
        "\n",
        "summaries_df = pd.DataFrame({'topic': input_topics, 'summary': summary_of_summaries})\n",
        "summaries_df"
      ],
      "execution_count": 19,
      "outputs": [
        {
          "output_type": "execute_result",
          "data": {
            "text/plain": [
              "                                      topic  \\\n",
              "0        Russian interference with election   \n",
              "1  Hillary Clinton WikiLeaks email Benghazi   \n",
              "2                  Women's march highlights   \n",
              "3                  Bernie Sander's Campaign   \n",
              "4                  ICE immigration policies   \n",
              "\n",
              "                                             summary  \n",
              "0  THE MASSIVE leak of documents from the campaig...  \n",
              "1  To understand the story of Benghazi, you first...  \n",
              "2  That’s what the Internet is agonizing over aft...  \n",
              "3  Democratic presidential candidate Sen. Bernie ...  \n",
              "4  For us to continue writing great stories, we n...  "
            ],
            "text/html": [
              "<div>\n",
              "<style scoped>\n",
              "    .dataframe tbody tr th:only-of-type {\n",
              "        vertical-align: middle;\n",
              "    }\n",
              "\n",
              "    .dataframe tbody tr th {\n",
              "        vertical-align: top;\n",
              "    }\n",
              "\n",
              "    .dataframe thead th {\n",
              "        text-align: right;\n",
              "    }\n",
              "</style>\n",
              "<table border=\"1\" class=\"dataframe\">\n",
              "  <thead>\n",
              "    <tr style=\"text-align: right;\">\n",
              "      <th></th>\n",
              "      <th>topic</th>\n",
              "      <th>summary</th>\n",
              "    </tr>\n",
              "  </thead>\n",
              "  <tbody>\n",
              "    <tr>\n",
              "      <td>0</td>\n",
              "      <td>Russian interference with election</td>\n",
              "      <td>THE MASSIVE leak of documents from the campaig...</td>\n",
              "    </tr>\n",
              "    <tr>\n",
              "      <td>1</td>\n",
              "      <td>Hillary Clinton WikiLeaks email Benghazi</td>\n",
              "      <td>To understand the story of Benghazi, you first...</td>\n",
              "    </tr>\n",
              "    <tr>\n",
              "      <td>2</td>\n",
              "      <td>Women's march highlights</td>\n",
              "      <td>That’s what the Internet is agonizing over aft...</td>\n",
              "    </tr>\n",
              "    <tr>\n",
              "      <td>3</td>\n",
              "      <td>Bernie Sander's Campaign</td>\n",
              "      <td>Democratic presidential candidate Sen. Bernie ...</td>\n",
              "    </tr>\n",
              "    <tr>\n",
              "      <td>4</td>\n",
              "      <td>ICE immigration policies</td>\n",
              "      <td>For us to continue writing great stories, we n...</td>\n",
              "    </tr>\n",
              "  </tbody>\n",
              "</table>\n",
              "</div>"
            ]
          },
          "metadata": {
            "tags": []
          },
          "execution_count": 19
        }
      ]
    },
    {
      "cell_type": "code",
      "metadata": {
        "id": "vr7rzlIv__ut",
        "colab_type": "code",
        "colab": {}
      },
      "source": [
        "summaries_df.to_csv('news_filter/data/filter_summaries.csv', index=False)"
      ],
      "execution_count": 0,
      "outputs": []
    },
    {
      "cell_type": "code",
      "metadata": {
        "id": "JJWfYSYjAD80",
        "colab_type": "code",
        "colab": {}
      },
      "source": [
        ""
      ],
      "execution_count": 0,
      "outputs": []
    }
  ]
}