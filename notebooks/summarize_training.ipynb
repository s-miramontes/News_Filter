{
  "nbformat": 4,
  "nbformat_minor": 0,
  "metadata": {
    "colab": {
      "name": "summarize_training.ipynb",
      "provenance": [],
      "authorship_tag": "ABX9TyPdK6nkwnGJhHW+IecNGPGE",
      "include_colab_link": true
    },
    "kernelspec": {
      "name": "python3",
      "display_name": "Python 3"
    }
  },
  "cells": [
    {
      "cell_type": "markdown",
      "metadata": {
        "id": "view-in-github",
        "colab_type": "text"
      },
      "source": [
        "<a href=\"https://colab.research.google.com/github/s-miramontes/News_Filter/blob/master/notebooks/summarize_training.ipynb\" target=\"_parent\"><img src=\"https://colab.research.google.com/assets/colab-badge.svg\" alt=\"Open In Colab\"/></a>"
      ]
    },
    {
      "cell_type": "markdown",
      "metadata": {
        "id": "8V7WZMc5vk3d",
        "colab_type": "text"
      },
      "source": [
        "# Summarize Training Clusters with BERT "
      ]
    },
    {
      "cell_type": "code",
      "metadata": {
        "id": "LrjRONvMvj_Z",
        "colab_type": "code",
        "colab": {}
      },
      "source": [
        "# %%capture\n",
        "# # Install the latest Tensorflow version.\n",
        "# !pip3 install --upgrade tensorflow-gpu\n",
        "# # Install TF-Hub.\n",
        "# !pip3 install tensorflow-hub"
      ],
      "execution_count": 0,
      "outputs": []
    },
    {
      "cell_type": "code",
      "metadata": {
        "id": "byhfZO1avrwl",
        "colab_type": "code",
        "colab": {}
      },
      "source": [
        "# import statements \n",
        "\n",
        "import pandas as pd\n",
        "import numpy as np\n",
        "\n",
        "from summarizer import Summarizer\n",
        "\n",
        "from sklearn.metrics.pairwise import cosine_similarity\n",
        "\n",
        "from joblib import Parallel, delayed\n",
        "\n",
        "import heapq\n",
        "import operator\n",
        "\n",
        "from absl import logging\n",
        "\n",
        "import tensorflow as tf\n",
        "import tensorflow_hub as hub"
      ],
      "execution_count": 0,
      "outputs": []
    },
    {
      "cell_type": "markdown",
      "metadata": {
        "id": "Dr4PRD4rvubi",
        "colab_type": "text"
      },
      "source": [
        "## Create Summaries for Clusters from Training Data"
      ]
    },
    {
      "cell_type": "code",
      "metadata": {
        "id": "0IPs3fvIvtpC",
        "colab_type": "code",
        "colab": {}
      },
      "source": [
        "# import cluster data\n",
        "\n",
        "# clusters = pd.read_csv(\"news_filter/data/clusters.csv\") \n",
        "clusters = pd.read_csv(\"news_filter/data/filter_clusters.csv\") # filtered data"
      ],
      "execution_count": 0,
      "outputs": []
    },
    {
      "cell_type": "code",
      "metadata": {
        "id": "HK98nTa6DXL3",
        "colab_type": "code",
        "colab": {
          "base_uri": "https://localhost:8080/",
          "height": 547
        },
        "outputId": "2f58969c-6a91-4237-b555-e2e819644982"
      },
      "source": [
        "clusters.head()"
      ],
      "execution_count": 12,
      "outputs": [
        {
          "output_type": "execute_result",
          "data": {
            "text/plain": [
              "       id                                              title  \\\n",
              "0  207361  Here’s how the West should respond to the Macr...   \n",
              "1   59653  Graham: Russia’s ’trying to undermine democrac...   \n",
              "2   57968  Russian intelligence agencies behind US electi...   \n",
              "3   64937  ’They are totally embarrassed!’: Trump goes on...   \n",
              "4   17439  Trump Calls for Closer Relationship Between U....   \n",
              "\n",
              "        publication           author        date    year  month  \\\n",
              "0   Washington Post  Editorial Board  2017-05-08  2017.0    5.0   \n",
              "1               CNN     Eugene Scott  2016-12-10  2016.0   12.0   \n",
              "2               CNN        Tal Kopan  2016-09-22  2016.0    9.0   \n",
              "3  Business Insider     Jeremy Berke  2017-01-08  2017.0    1.0   \n",
              "4    New York Times  Nicholas Fandos  2017-01-08  2017.0    1.0   \n",
              "\n",
              "                                                 url  \\\n",
              "0  https://web.archive.org/web/20170509003603/htt...   \n",
              "1                                                NaN   \n",
              "2                                                NaN   \n",
              "3                                                NaN   \n",
              "4                                                NaN   \n",
              "\n",
              "                                             content     pub_bias  polarity  \\\n",
              "0   THE MASSIVE leak of documents from the campai...  left-center  0.097736   \n",
              "1   (CNN) Sen. Lindsey Graham said Saturday that ...  left-center  0.058119   \n",
              "2  Washington (CNN) The top Democrats on Congress...  left-center  0.018389   \n",
              "3  ’  ’ ’     Donald Trump said Saturday that the...       center  0.095214   \n",
              "4  WASHINGTON  —   A day after the release of a d...  left-center  0.036063   \n",
              "\n",
              "   subjectivity                                               text  \\\n",
              "0      0.345380  Here’s how the West should respond to the Macr...   \n",
              "1      0.383503  Graham: Russia’s ’trying to undermine democrac...   \n",
              "2      0.290897  Russian intelligence agencies behind US electi...   \n",
              "3      0.618889  ’They are totally embarrassed!’: Trump goes on...   \n",
              "4      0.344684  Trump Calls for Closer Relationship Between U....   \n",
              "\n",
              "   cluster_labels  \n",
              "0               1  \n",
              "1               1  \n",
              "2               1  \n",
              "3               1  \n",
              "4               1  "
            ],
            "text/html": [
              "<div>\n",
              "<style scoped>\n",
              "    .dataframe tbody tr th:only-of-type {\n",
              "        vertical-align: middle;\n",
              "    }\n",
              "\n",
              "    .dataframe tbody tr th {\n",
              "        vertical-align: top;\n",
              "    }\n",
              "\n",
              "    .dataframe thead th {\n",
              "        text-align: right;\n",
              "    }\n",
              "</style>\n",
              "<table border=\"1\" class=\"dataframe\">\n",
              "  <thead>\n",
              "    <tr style=\"text-align: right;\">\n",
              "      <th></th>\n",
              "      <th>id</th>\n",
              "      <th>title</th>\n",
              "      <th>publication</th>\n",
              "      <th>author</th>\n",
              "      <th>date</th>\n",
              "      <th>year</th>\n",
              "      <th>month</th>\n",
              "      <th>url</th>\n",
              "      <th>content</th>\n",
              "      <th>pub_bias</th>\n",
              "      <th>polarity</th>\n",
              "      <th>subjectivity</th>\n",
              "      <th>text</th>\n",
              "      <th>cluster_labels</th>\n",
              "    </tr>\n",
              "  </thead>\n",
              "  <tbody>\n",
              "    <tr>\n",
              "      <td>0</td>\n",
              "      <td>207361</td>\n",
              "      <td>Here’s how the West should respond to the Macr...</td>\n",
              "      <td>Washington Post</td>\n",
              "      <td>Editorial Board</td>\n",
              "      <td>2017-05-08</td>\n",
              "      <td>2017.0</td>\n",
              "      <td>5.0</td>\n",
              "      <td>https://web.archive.org/web/20170509003603/htt...</td>\n",
              "      <td>THE MASSIVE leak of documents from the campai...</td>\n",
              "      <td>left-center</td>\n",
              "      <td>0.097736</td>\n",
              "      <td>0.345380</td>\n",
              "      <td>Here’s how the West should respond to the Macr...</td>\n",
              "      <td>1</td>\n",
              "    </tr>\n",
              "    <tr>\n",
              "      <td>1</td>\n",
              "      <td>59653</td>\n",
              "      <td>Graham: Russia’s ’trying to undermine democrac...</td>\n",
              "      <td>CNN</td>\n",
              "      <td>Eugene Scott</td>\n",
              "      <td>2016-12-10</td>\n",
              "      <td>2016.0</td>\n",
              "      <td>12.0</td>\n",
              "      <td>NaN</td>\n",
              "      <td>(CNN) Sen. Lindsey Graham said Saturday that ...</td>\n",
              "      <td>left-center</td>\n",
              "      <td>0.058119</td>\n",
              "      <td>0.383503</td>\n",
              "      <td>Graham: Russia’s ’trying to undermine democrac...</td>\n",
              "      <td>1</td>\n",
              "    </tr>\n",
              "    <tr>\n",
              "      <td>2</td>\n",
              "      <td>57968</td>\n",
              "      <td>Russian intelligence agencies behind US electi...</td>\n",
              "      <td>CNN</td>\n",
              "      <td>Tal Kopan</td>\n",
              "      <td>2016-09-22</td>\n",
              "      <td>2016.0</td>\n",
              "      <td>9.0</td>\n",
              "      <td>NaN</td>\n",
              "      <td>Washington (CNN) The top Democrats on Congress...</td>\n",
              "      <td>left-center</td>\n",
              "      <td>0.018389</td>\n",
              "      <td>0.290897</td>\n",
              "      <td>Russian intelligence agencies behind US electi...</td>\n",
              "      <td>1</td>\n",
              "    </tr>\n",
              "    <tr>\n",
              "      <td>3</td>\n",
              "      <td>64937</td>\n",
              "      <td>’They are totally embarrassed!’: Trump goes on...</td>\n",
              "      <td>Business Insider</td>\n",
              "      <td>Jeremy Berke</td>\n",
              "      <td>2017-01-08</td>\n",
              "      <td>2017.0</td>\n",
              "      <td>1.0</td>\n",
              "      <td>NaN</td>\n",
              "      <td>’  ’ ’     Donald Trump said Saturday that the...</td>\n",
              "      <td>center</td>\n",
              "      <td>0.095214</td>\n",
              "      <td>0.618889</td>\n",
              "      <td>’They are totally embarrassed!’: Trump goes on...</td>\n",
              "      <td>1</td>\n",
              "    </tr>\n",
              "    <tr>\n",
              "      <td>4</td>\n",
              "      <td>17439</td>\n",
              "      <td>Trump Calls for Closer Relationship Between U....</td>\n",
              "      <td>New York Times</td>\n",
              "      <td>Nicholas Fandos</td>\n",
              "      <td>2017-01-08</td>\n",
              "      <td>2017.0</td>\n",
              "      <td>1.0</td>\n",
              "      <td>NaN</td>\n",
              "      <td>WASHINGTON  —   A day after the release of a d...</td>\n",
              "      <td>left-center</td>\n",
              "      <td>0.036063</td>\n",
              "      <td>0.344684</td>\n",
              "      <td>Trump Calls for Closer Relationship Between U....</td>\n",
              "      <td>1</td>\n",
              "    </tr>\n",
              "  </tbody>\n",
              "</table>\n",
              "</div>"
            ]
          },
          "metadata": {
            "tags": []
          },
          "execution_count": 12
        }
      ]
    },
    {
      "cell_type": "code",
      "metadata": {
        "id": "WOZNCkXov8L1",
        "colab_type": "code",
        "colab": {}
      },
      "source": [
        "# instantiate summarizer\n",
        "model = Summarizer()\n",
        "\n",
        "# function to return summary of each article in cluster\n",
        "def make_summaries(cluster):\n",
        "  result = {}\n",
        "  for i in range(len(cluster.content)):\n",
        "    summary = model(cluster.content[i], min_length=50, ratio=0.20) \n",
        "    result[i] = ''.join(summary)\n",
        "  return result"
      ],
      "execution_count": 0,
      "outputs": []
    },
    {
      "cell_type": "code",
      "metadata": {
        "id": "vf9t0f_Wv-Rt",
        "colab_type": "code",
        "colab": {}
      },
      "source": [
        "# summarize every aritcle in clusters\n",
        "cluster_summaries = []\n",
        "for i in range(1,6):\n",
        "  summaries = make_summaries(clusters[clusters.cluster_labels == i].reset_index())\n",
        "  cluster_summaries.append(summaries)"
      ],
      "execution_count": 0,
      "outputs": []
    },
    {
      "cell_type": "code",
      "metadata": {
        "id": "ap6x7NgJwBZc",
        "colab_type": "code",
        "outputId": "c2c14926-5ed4-467b-c921-e0dec5f8dfd7",
        "colab": {
          "base_uri": "https://localhost:8080/",
          "height": 887
        }
      },
      "source": [
        "cluster_summaries"
      ],
      "execution_count": 15,
      "outputs": [
        {
          "output_type": "execute_result",
          "data": {
            "text/plain": [
              "[{0: 'THE MASSIVE leak of documents from the campaign of Emmanuel Macron failed to prevent his landslide victory Sunday in the French presidential election. What was most striking about the operation was not its impact on the election, but its sheer audacity. Russia must be deterred from waging cyberwar against core democratic institutions of the United States and its NATO allies. An appropriate response must begin with full investigation and disclosure. Marine Le Pen, Mr. Macron’s   opponent, traveled to Moscow to meet Mr. Putin during the campaign and spoke publicly about what Mr. Macron says were fabricated reports that he holds an offshore bank account.',\n",
              "  1: '(CNN) Sen. Lindsey Graham said Saturday that Russia is trying to ”is trying to break the backs of democracies.” ” Donald Trump’s presidential transition team issued Friday a stunning rebuke of Intelligence communities who have said, in recent reports from CNN and the Washington Post, that Russian hackers not only wanted to disrupt US elections but actively worked toward getting the Republican presidential nominee elected. ”I’m not challenging the outcome of the election, but very concerned about Russian   at home  throughout the world,” he said.',\n",
              "  2: 'Washington (CNN) The top Democrats on Congress’ intelligence committees boldly blamed Russian intelligence agencies for a series of hacks designed to influence the US presidential election. And in tying the hacking directly to Putin   senior levels of Russian government, the Democrats were more forceful than the administration or Congress has been in the past. ” We call on President Putin to immediately order a halt to this activity. Though nothing was done to influence elections in those states, experts believe Russian hacking is designed to cast doubt in the security and validity of the election. Intelligence Committee members receive classified briefings they can’t speak about in public. They also broke with the administration in their condemnation of Russia.',\n",
              "  3: '’  ’ ’     Donald Trump said Saturday that the only reason   the hacking of the Democratic National Committee is   discussed is because Democrats are ”totally embarrassed” about   their election loss, and he urged friendlier relations with   Russia. ’ ’ ’ ’   He also denied suggestions that the Russian hacking   could have affected the election results, saying ”there was   absolutely no evidence that hacking affected the election   results” because voting machines weren’’t ”touched.” t’t’ ’ ’t’t’tHaving a good relationship with Russia is a good thing, not a bad thing. When I am President, Russia will respect us far more than they do now and. ...’',\n",
              "  4: 'WASHINGTON  —   A day after the release of a damning intelligence report on Russia’s   efforts to influence the American election,   Donald J. Trump called on Saturday for a closer relationship between the two nations, saying only “stupid” people or “fools” would think this was unwise. Mr. Trump has consistently dismissed the intelligence agencies’ conclusions as politically motivated, but he appeared to soften that stance in a statement his transition team released after the briefing. Mr. Trump has said repeatedly that it is time to “move on” from the focus on Russian meddling in the election, arguing that it has received such attention only because Democrats are embarrassed about their loss  —   an assertion he repeated on Twitter on Saturday.',\n",
              "  5: 'Last month, The Post reported: CrowdStrike had installed software on the [Democratic National Committee’s] computers so that it could analyze data that could indicate who had gained access, when and how. Ukrainian computer specialists mobilized to restore operations in time for the elections. We saw this clearly in elections in Georgia in 2012. Meanwhile, on   channels, Russian military officials talked darkly of preparing to intercede in Georgia to restore order. It may be that Putin is trying directly to give a leg up to Trump (the Republican National Committee was apparently not hacked, after all) who unaware of or indifferent to Russia’s interests in harming the West, would abandon criticism of human rights and allow Putin freer rein in Europe. The Fix’s Chris Cillizza explains why Donald Trump made a mistake when he called on Russia to find Hillary Clinton’s missing emails. ( for suggesting that Trump not get a security briefing. He even had the nerve to compare Reid to Putin  —   when his own candidate is playing the role of Putin’s pet poodle. He underscored that lots of countries, including China, have been hacking the United States. “ Trump not only invited more Russian espionage and suggested Russia might get to keep Crimea but also demonstrated his utter unfamiliarity with the issue and his desire to buddy up to Putin as the latter seeks to damage the West. In doing so, Trump left Republicans once more tied up in knots, a result that inevitably flows from supporting a candidate like Trump. Donald Trump speaks at a campaign event at Trump Doral golf course in Miami.',\n",
              "  6: 'Kellyanne Conway, senior adviser to   Donald Trump, said Sunday on CBS that any concerns about Russia’s alleged interference with the 2016 presidential election were unfounded. “ FBI Director James B. Comey and Director of National Intelligence James R. Clapper Jr. agreed with the CIA’s assessment. @KellyannePolls responds to reports electoral voters troubled by Russian hacking. Says electors potentially undermining democracy pic. It does seem to be a political response at this point, because it seems like the president is under pressure from Team Hillary, who can’t accept the election results. ” Earlier this month, four   senators called for a thorough investigation of alleged Russian meddling in the election.',\n",
              "  7: 'Throughout his testimony Thursday, former FBI Director James Comey repeatedly stressed the serious implications of Russia’s attempts to interfere in the 2016 election. Toward the beginning of the hearing, Comey said that he has no doubt that Russia attempted to interfere in the 2016 election and that Russian government officials were aware of the meddling. In response, Comey stressed that there’s no doubt that the Russian government tried to interfere in the 2016 election and that the conclusion on Russia’s actions is “about as unfake as you can possibly get. ” “ And it was an active measures campaign driven from the top of the government. It is a high confidence judgment of the entire intelligence community  —   and the members of this committee have seen the intelligence  —   it’s not a close call,” he continued. “ And so they’re going to try to run it down and dirty it up as much as possible.',\n",
              "  8: '’  ’ ”   A declassified version of a  on Russian hacking has concluded that   Russian President Vladimir Putin ordered a campaign to influence   the US presidential election with the aim of hurting Hillary   Clinton’s chance of winning. ” ’ The report also concluded that Russia aimed to help     Donald Trump win the election. ’ ’ ”Putin and the Russian government aspired to help     Trump’’s election chances when possible by discrediting Secretary   Clinton and publicly contrasting her unfavorably to him,” it   continued.',\n",
              "  9: 'US intelligence officials are investigating the possibility that the Russian government is attempting to influence the US election, according to a new report. The director of national intelligence, James Clapper, is leading an inquiry into whether and how Russian officials may be attempting to influence the election and “provide propaganda fodder to attack US   policies around the world” the Washington Post reported on Monday, Officials who spoke to the Post on condition of anonymity said there was no confirmation of any executed or planned attack, but according to one “even the hint of something impacting the security of our election system would be of significant concern”. Multiple officials told the Post that if proven, the Russian attempts at sabotage may not be intended to swing the election any particular way, but rather to generally promote chaos and mistrust that could make the US seem less stable and trustworthy in international affairs, potentially diminishing its authorities.'},\n",
              " {0: 'Reports of immigration sweeps this week sparked concern among immigration advocates and families, coming on the heels of President Donald Trump’s executive order barring refugees and immigrants from seven   nations. Only five of 161 people arrested in Southern California would not have been enforcement priorities under the Obama administration, he said. It sounds as if the majority are people who would have been priorities under Obama as well,” Kagan said in a telephone interview. ” NEW YORK Federal prosecutors on Monday asked a U. S. judge for a gag order muzzling former drug company executive Martin Shkreli, on trial for securities fraud charges, arguing that his statements to media could taint the jury and disrupt the case, court papers show.',\n",
              "  1: 'U. S. arrests of suspected illegal immigrants rose by nearly 40 percent in the first 100 days of Donald Trump’s presidency, following executive orders that broadened the scope of who could be targeted for immigration violations, according to government data released on Wednesday. If we don’t take action on those orders, then we are just spinning our wheels.” Immigration advocates and some cities with large immigrant populations have raised concerns about the stepped up enforcement in the interior of the country.',\n",
              "  2: 'In January, President Trump signed an executive order that vastly expands who the U. S. considers a deportation priority. This may, in part, be true, but it will be so because Trump’s order greatly increased the number of people considered criminals worthy of deportation. But in reality they’re going after anyone they can get their hands on —  period. To get the job she used a fake social security number. The language in the order says that any unauthorized immigrant convicted of any crime can be deported. Another tool implemented by George W. Bush, and that Trump will likely use, is giving back 287 (g) authority to local law enforcement. Trump’s order said explicitly that he wanted “to empower State and local law enforcement agencies across the country to perform the functions of an immigration officer. ” If they couldn’t prove citizenship, local authorities handed them over to ICE. This was used most pervasively, and attracted the most attention nationally, in Phoenix. There the Maricopa County Sheriff’s Office, led by Arpaio, descended upon   neighborhoods and stopped people for trivial traffic violations, emptied out restaurant kitchens, even arrested workers at local water parks, like in the case of Rayos.',\n",
              "  3: 'The Trump administration on Tuesday sought to allay growing fears among immigrant communities over   new directives to ramp up enforcement against illegal immigrants, insisting the measures are not intended to produce “mass deportations. ” Federal officials cautioned that many of the changes detailed in a pair of memos from Homeland Security Secretary John F. Kelly will take time to implement because of costs and logistical challenges and that border patrol agents and immigration officers will use their expanded powers with care and discretion. Yet the official public rollout of Kelly’s directives, first disclosed in media reports over the weekend, was met with outrage from immigrant rights advocates over concerns the new policies will result in widespread abuses as authorities attempt to fulfill President Trump’s goals of tightening border control. The number of people deported in 2015 was just over 333, 000, the lowest number since 2007, according to federal data. The Trump administration “is using the specter of crime to create fear   …     in the American community about immigrants in order to create an opening to advance the indiscriminate persecution of immigrants,” said Clarissa    deputy vice president at the National Council of La Raza. “ “We are not creating anything out of whole cloth,” the DHS official said. Democrats and human rights groups blasted the administration. 2 million, according to a report last fall from Pew Research Center. That is in part because of stricter border control measures have flattened the net flow of illegal immigrants to roughly zero, according to the report. The provisions also allow federal authorities to prosecute the parents of unaccompanied minors who enter the country illegally if they are found to have paid smugglers.',\n",
              "  4: 'The sudden and unexpected deportation of undocumented Mexican immigrant Guadalupe Garcia de Rayos has sparked fears that President Donald Trump is beginning to fulfill his campaign promise to expel 11 million people from the United States. Among the tips: ”If they ask to enter, ask if they have a warrant signed by a judge and if so, ask to see it (through a window or slipped under the door).” ’ Fight your case’ United We Dream, which says it’s the ”largest immigrant   organization in the nation,” also shared fliers on social media instructing undocumented immigrants how to interact with ICE agents and even fight back. ”',\n",
              "  5: 'To carry out his   immigration policy, Donald Trump proposed hiring 5, 000 additional Border Patrol agents and tripling the number of ”deportation officers.” Apprehensions are down: Despite the growing number of officers patrolling the border, fewer   crossers are being caught. Since then, deportations have been dropping to a low of 235, 413 last year. There have been fewer deportations of immigrants who have lived in the U. S. for years and whose only crime was crossing the border illegally. The Washington Post estimates that, in all, some 6 million people could be subject to deportation if Trump’s promised policies were to take effect. Criminal deportation because of   or something else? That figure comes from an analysis of ICE data by the Center for Immigration Studies, a group that advocates for low immigration.',\n",
              "  6: '(CNN) Guadalupe Garcia de Rayos went to Mass and said a prayer before her immigration   Wednesday in Phoenix. It was her eighth visit since her 2008 arrest and conviction for using a fake Social Security number. After each meeting, the married mother of two was released and went back to her family. The undocumented immigrant was detained Wednesday and deported within 24 hours to her native Mexico, in what her lawyer claims is a direct result of US President Donald Trump’s crackdown on illegal immigration. Whatever the reason, Garcia de Rayos, 35, said she has no regrets. The truth is I was there [in the United States] for my children. I think this is a direct result of the new executive orders that are being put into actions by President Trump calling them ’enhancing public safety,’ which really appears only to be attacking immigrant communities and people of color,” her attorney Ray Maldonado said. Phoenix Mayor Greg Stanton, a Democrat, called her deportation a travesty. She came illegally to the United States in the   with her parents when she was 14. After her conviction she appealed a court order to voluntarily deport and lost.',\n",
              "  7: 'Washington (CNN) President Donald Trump says he plans to crack down on illegal immigration. Under federal law, it is a crime for anyone to enter into the US without the approval of an immigration officer    it’s a misdemeanor offense that carries fines and no more than six months in prison.',\n",
              "  8: '(CNN) The leading Republican candidates for president, led by Donald Trump, are off and running with a round of   rhetoric, denouncing   bastions San Francisco, New York and Los Angeles. But it is talk that will ensure little or no progress on an issue that has bedeviled America for decades. He claims to have found a weapon, which discharged randomly and killed Steinle. The Supreme Court made clear in a 2012 case, Arizona v. United States, that the federal government has sole authority to enforce border and immigration laws. According to the high court, local law enforcement agencies can’t start investigating and arresting people on suspicion that they may in the U. S. illegally. We’ve gone from 44% to 27% among Hispanic voters, for a reason,” Graham told CNN. ” You’ll never convince me that it hasn’t been about the way that we’ve handled this issue.”',\n",
              "  9: 'Police chiefs from across the US, including several from states that voted for Donald Trump, are resisting White House moves to force them to become more involved in deporting undocumented immigrants. In a joint letter, more than 60 law enforcement heads are appealing to Trump in all but name to soften his aggressive drive to enlist police officers in the highly contentious job of deporting millions of immigrants living without permission in the country. The authors put forward a very different vision, arguing that police engagement should be strictly limited to targeting “threats such as dangerous criminals and criminal organizations causing harm”. Cecilia Muñoz, former director of the White House domestic policy council under President Obama, told the Guardian that by ditching the PEP agreements that had been painstakingly reached with local police chiefs, the incoming Trump administration was paradoxically running the risk of making communities less secure. “ For all the Trump administration’s tough rhetoric on security and safety, they are in practice discarding reasonable agreements in order to force local police chiefs into something that they think is unwise,” she said. That allowed federal agents of Immigration and Customs Enforcement (Ice) to sweep up large numbers of undocumented migrants arrested by police irrespective of the severity of their crimes. Following an outpouring of criticism, the Obama administration abandoned the policy in 2014, leading to the creation of PEP.'},\n",
              " {0: 'Manchester, England (CNN) Monday’s attack outside an Ariana Grande concert at Manchester Arena killed at least 22 people, including children, and was carried out by a lone suspect carrying a bomb, Manchester Police said. ” While police believe the suspect was acting alone, investigations are ongoing to establish if he was part of a network. The incident happened shortly after Grande had left the stage, according to eyewitnesses. Ariana Grande concert incident: Live updates, Social media posts from the scene showed panicked concertgoers running down the arena’s stairs in an attempt to get away. The city’s Manchester Royal Infirmary Hospital was blocked off to all but essential staff due to what the facility called a major incident. Eyewitness Karen Ford had taken her    daughter to the concert. A nearby Holiday Inn hotel became a focal point for parents searching for their children who had been at the concert. Taxis and local people offered free rides to those affected. Our thoughts and prayers are with all those affected by this tragedy,” the post says.',\n",
              "  1: '(CNN) Extra security was visible across London Monday as police carried out more raids at addresses in the city’s east following the terror attack on the weekend. It was the third terror strike in the UK this year, after a man drove a car into pedestrians on Westminster Bridge in March and a bomb attack on an Ariana Grande concert in Manchester two weeks ago.',\n",
              "  2: '(CNN) Miley Cyrus showed her support for Ariana Grande and the victims of the recent Manchester terror attack on Tuesday’s season finale of ”The Voice.” Cyrus joins a chorus of other celebrities and performers who have shown their support in the aftermath of the attack that occurred following Grande’s performance at Manchester Arena on Monday.',\n",
              "  3: 'LONDON  —   An explosion at a pop concert in the northern English city of Manchester late Monday night left at least 19 people dead and around 50 others injured, according to police. “ Witnesses interviewed by the BBC reported hearing a loud blast following a performance by American pop singer Ariana Grande at Manchester Arena. Initially,   said they thought popping balloons had set off a panic. It was really scary,” Michelle Sullivan, who was attending the concert with her   and    daughters, told BBC. “',\n",
              "  4: 'MANCHESTER, England  —   The final lines of the star’s provocative pop anthem, “Dangerous Woman,” still rang in Stacey Brown’s ears. It was her first Ariana Grande concert, a surprise for her 11th birthday. The bombing, in which the attacker himself was killed, was the deadliest terrorist strike in Britain since 2005. As they fled, some parents assured their children that the noise had just been the popping of a balloon. Forensic officers investigate the scene near the Manchester Arena on Tuesday, a day after a suicide attack at an Ariana Grande concert left 22 people dead. ( Kirsty  )  “Stick together  —   let’s get out, get out,” Heidi Hemblys, 43, told her two young daughters. They followed a train of people through a fire exit. By 10:46, emergency health workers were on the scene, said David Ratcliff, director of the ambulance services.',\n",
              "  5: '’LONDON  —   London was hit by a terrorist attack on Wednesday and  that the capital would carry on ”as normal” despite the ”sick and depraved” attacks.’ ’',\n",
              "  6: 'A Manchester crowd’s impromptu rendition of ”Don’t Look Back in Anger,” by hometown band Oasis, emerged as an uplifting emblem of resilience after Monday’s deadly bombing there. Soon others joined in and the song swept through the crowd in St. Ann’s Square. ”',\n",
              "  7: 'When the bomb went off, Saffie Rose Roussos, 8, her mother and her older sister were heading out of Manchester Arena, among hundreds of concertgoers scrambling for Ariana Grande souvenirs before reaching the exits. Lisa Roussos and Saffie’s sister, Ashlee Bromwich, both injured by shrapnel, were taken to separate hospitals. But as Monday night turned into Tuesday morning, no one could find Saffie. Amplifying fears: reports from police that children were among the dead. The Telegraph reported that they run a    shop in Leyland, about 30 miles northwest of Manchester. In an emailed statement, Chris Upton, the head teacher at Tarleton Community Primary School, said the learning community was still coming to terms with Saffie’s death. “ Saffie was simply a beautiful little girl in every aspect of the word.',\n",
              "  8: '’  ’ ’   LONDON  —   The man who detonated a fatal bomb in the Manchester   Arena on Monday night has been formally identified as      Salman Abedi, British police said Tuesday. ’ ’ The US media outlets CBS and NBC identified the attacker as Abedi   earlier Tuesday. Abedi, also known as Salman Ramadan Abedi, is believed to have   travelled to Manchester from London by train before the attack,   Reuters reported. ’ ’',\n",
              "  9: 'MANCHESTER, England  —   The tens of thousands of young Brits who descended on this city’s largest cricket ground weren’t there just for a   concert. They also wanted to send a message: We are not afraid. [London attack toll rises to 7 dead as Theresa May insists ‘things need to change’]   Amid heavy, almost omnipresent security at Old Trafford, hordes of girls wearing hot pants and bunny ears approached the grounds. Keavy Smith, 17, was there that fateful night and remembers calling her mother, Angie, screaming and crying after the bomb went off. Almost everyone seemed to be holding someone else’s hand. Ratcliffe wasn’t at the original concert but said she was born and raised in the city and felt that she had to be at Sunday’s show. “ Authorities have identified the bomber as Salman Abedi, a    Briton of Libyan descent, who lived in Manchester. A total of 17 people have been arrested as part of the investigation.'},\n",
              " {0: 'They gathered near the White House, disheartened and dismayed. ” It’s been really frustrating, because as a nation we thought we had come so far but it seems like we’re taking many steps back,” another woman said, ”so we want to come together to change that and make sure we keep going forward.” In Austin, protesters blocked a highway Wednesday afternoon. The    voted for Hillary Clinton and was disappointed. In Des Moines, Iowa it was hundred of high school students who left class to protest of election results. Protests after the vote count, In the wee hours of Wednesday morning after the votes were counted, one member of the crowd near the White House held an   American flag, alongside the LGBT rainbow flag, in silent protest. ”Everything that has been built up has been destroyed. . .. He doesn’t respect women, Black Lives Matter, Latinos. Nicholas Elliot, a student at Washington’s Georgetown University, said he was elated about Trump’s election. In New York on Wednesday morning, groups of Trump supporters cheered his victory outside Trump Tower. Pop star Lady Gaga, a vocal Hillary Clinton supporter who had performed at the Democratic candidate’s final rally in North Carolina, stood atop a sanitation truck outside Trump Tower in New York, brandishing a sign that read: ”Love trumps hate.”',\n",
              "  1: 'BERKELEY, Calif.  —   Fires burned in the cradle of free speech. Furious at a lecture organized on campus, demonstrators wearing   outfits smashed windows, threw rocks at the police and stormed a building. The university estimated on Thursday that the rioting had caused around $100, 000 in damage. Criticism of the decision to cancel the speech came from outside the university as well. Mr. Yiannopoulos has cultivated a sizable following among the     movement with his speaking events, podcast interviews and articles. He travels around California on a tour bus airbrushed with his likeness. A week later, on Inauguration Day, a man was shot during protests outside Mr. Yiannopoulos’s speech at the University of Washington in Seattle. I’m really a little fatigued with all of this, ‘Oh my goodness, cover my ears, someone will say something that will upset me, I can’t tolerate that,’ ” said Jack Radey, who was a    activist during the original free speech movement at Berkeley. “ There are racists, sexists, piggery of various kinds who will say really terrible things.',\n",
              "  2: 'After a violent rampage by anarchists forced the University of California at Berkeley to cancel   provocateur Milo Yiannopoulos’s speech Wednesday night, President Trump was quick to blame the University. It did so despite the urging of many students and faculty that it ban the event outright. ( In an interview Friday, Peter Sittler, a sophomore at Berkeley and vice president of the organization that sponsored Yiannopoulos’s visit, the Berkeley College Republicans, told me the school’s administration, from Chancellor Nicholas Dirks on down, “worked tirelessly to plan [the event] and make sure it went through. ” On the other hand, those who decry the lack of arrests should acknowledge that, for all the chaos, only six people reported minor injuries on Wednesday night. With the safety of students and Yiannopoulos himself as their prime directive, the police commanders on scene decided “we’ll trade a few broken windows for that,” as university spokesman Dan Mogulof told me. Contrary to Internet myth, there was no “stand down” order to the police from Cal’s administration.',\n",
              "  3: '’  ’ ’   Right and   protesters clashed on Saturday at a park in   downtown Berkeley, California, exchanging blows and throwing   bottles and cans as police in riot gear sought to separate the   two camps, using explosive devices at one point. ’ ’ Police initially announced that there had   been 15 arrests, but later tweeted out a correction. ’ ’  ’ ’   And although a makeshift barrier had been raised between the two   groups, it did not deter demonstrators, . ’ ’ ”As a veteran, I like the track America is on, and that Trump is   willing to stand and say we are still America and we are not   going to be globalist, we’’re not going to be a communist country.',\n",
              "  4: 'Updated at 6:40 a. m. ET, A planned appearance by   commentator Milo Yiannopoulos was canceled Wednesday at the University of California, Berkeley, after a group of protesters shot fireworks at police, broke windows, started fires and threw barricades. Police put the campus on lock down for several hours. Sukey Lewis of NPR member station KQED captured images of the demonstrations. According to the university, the talk was canceled and Yiannopoulos was ”escorted from the building and left campus” about two hours before the planned start time of 8 p. m. Yiannopoulos is an editor for the   website Breitbart News, which has promoted conspiracy theories and has been described by its former chief as ”the platform of the  .” The   is an   movement widely seen as espousing white supremacist and   views. He was banned from Twitter for inspiring racist tweets against actress Leslie Jones. He continued: ”You know, I am not a scary   you know, kind of   as some of the posters claim.',\n",
              "  5: 'The University of California at Berkeley is bracing for massive protests and potential violence in an open, public space known as Sproul Plaza after learning that conservative commentator Ann Coulter plans to give a speech there Thursday afternoon. [Berkeley gave birth to the Free Speech Movement in the 1960s. activists have clashed with Trump supporters, and anarchists in black masks have squared off against   militia groups. On Monday she retweeted a weather forecast with this comment: “Nice day for an outdoor speech at Berkeley. ” The university, facing backlash, quickly reversed course and invited her to speak next week instead at an indoor location. On Monday, student groups filed a lawsuit against university officials, complaining that the university’s decision was stifling free speech at the school, particularly for politically conservative students whose views are controversial on the liberal campus. [Lawsuit filed against UC Berkeley for canceling Ann Coulter speech]   He said the exact time of Coulter’s speech is still uncertain, but he expects it likely will be at about 4 p. m. “She said she doesn’t even know her full schedule on Thursday right now. Her outdoor speech at the plaza likely will make it difficult for any dialogue or interaction with students, he said, and his group is trying to have a separate event with her that would allow for conversation.',\n",
              "  6: 'Republican frontrunner Donald Trump holds a rally in Fountain Hills, a suburb outside Phoenix Arizona, on Saturday afternoon.',\n",
              "  7: 'Ann Coulter has canceled a speech that had been planned for Thursday on the University of California’s Berkeley campus after initially claiming she would defy the administration’s request that she hold her event a week later at a secure venue. “ There will be no speech,” the rightwing commentator told Reuters in an email, blaming her reversal on conservative groups that had originally said they would sponsor her talk but apparently withdrew their backing. The college town so deeply liberal that it is referred to as “the people’s republic of Berkeley” is now a favored destination for the far right, resulting in a number of violent encounters on the city’s streets and the University of California’s flagship campus. The cancellation, which the university said was due to safety concerns and not Yiannopoulos’s political views, nevertheless drew cries of outrage over the alleged suppression of free speech on a college campus. Yiannopoulos has seized on the free speech issue as well, declaring that he will return to Berkeley for a “free speech week” and give out a new award named after Mario Savio, one of the key student leaders of the free speech movement. This argument was echoed by Dan Mogulof, a university spokesman, who said that Coulter was “welcome on this campus” but that the college Republicans had not consulted with the administration to find an appropriate date and venue before booking the speaker, making it difficult for them to ensure public safety. But beyond the violence and beyond the rhetorical struggle for the moral high ground, Rosenthal argued, some extreme rightwing figures were targeting the city because they view streetfighting as a precursor to a radical rightwing revolution, as was seen in the Weimar Republic in   Germany. “ The school at least seems resigned to confronting its role as host as it attempts to stay true to its principles of academic freedom. “',\n",
              "  8: '(CNN) The showdown continues between the University of California, Berkeley, and Ann Coulter over whether the conservative firebrand will speak at the famously progressive school. Coulter’s threat to speak on April 27 ”regardless” of Berkeley’s wishes forced the school to act fast and reschedule the appearance for May 2, said Dan Mogulof, assistant vice chancellor for public affairs. Coulter said the school attached a series of conditions to the April 27 appearance: She had to deliver her speech in the afternoon, only students could attend and the venue would not be announced until close to the event. Friday, Berkeley College Republicans and conservative conference organizer Young America’s Foundation    which had been trying to organize the Coulter event    rejected the May 2 proposal. The school rejected the allegations said it would discontinue efforts to plan the May 2 event.',\n",
              "  9: 'Dueling   and   rallies in Berkeley, Calif. turned violent Saturday as numerous fistfights broke out and protesters fired pepper spray into a crowd. Reuters)   Photos and video of the protests showed some protesters were bloodied and injured. Ten people were arrested during the March 4 protests on charges of battery, assault and resisting arrest, according to local news reports. City officials had shut down a farmers market in the park in anticipation of Saturday’s rally, and warned against vandalism and violence.'},\n",
              " {0: 'Los Angeles (CNN)”Suicide Squad” once seemed to offer Warner Bros. and DC Entertainment a shot at redemption after the creatively botched ”Batman v Superman: Dawn of Justice.” Yet this       tale hits its own snags, generating only sporadic moments of fun amid   chaos. It’s a concept with roots in ”The Dirty Dozen” (down to the promise of shortened or commuted sentences) although to be honest, this Hellacious   wouldn’t stand much of a chance against the Man of Steel. Frankly, they look mismatched even against the underwhelming threat they face in the movie, the Enchantress (Cara Delevingne) an ancient sorceress with a hazily defined scheme to destroy the world. But there’s too much going on to grow particularly attached to any of them. Suicide Squad” does yield moments of irreverence, though.',\n",
              "  1: 'For those unfamiliar with her name, the    actress is best known for her roles in four ”Fast and Furious” films.’ ’ She’’s bringing the   Amazonian princess to life alongside Ben Affleck and Henry Cavill in ”,” out March 25.’ ’',\n",
              "  2: 'LOS ANGELES  —   Ben Affleck’s star power, apparently undiminished after a rough run last year, helped “The Accountant” overcome anemic reviews to place No. com   meter and was an equal bomb with ticket buyers.',\n",
              "  3: 'Like the last couple of years (and in contrast to 2013) 2016 was light on great films but offered a solid share of good ones —  so many, in fact, that I’ve considerably expanded my list of honorable mentions. As always, my favorites are somewhat eclectic and the individual awards that follow more eclectic still. And I should again caveat the entire enterprise with the note that, while I saw a great many films this year there are still quite a few of the more than 700 movies released domestically that I missed. Manchester by the Sea, Pitch perfect from first frame to last, Kenneth Lonergan’s portrait of   New England is sensitive but unsentimental. The Lobster, A stunning exercise in dystopian absurdism and   comedy.',\n",
              "  4: 'That’s the point of the yearly Razzie Awards, which recognize the best of the worst (or the worst of the worst, depending on how you see it) for a good old   suck fest. Dirty Grandpa  Plot: Zac Efron is visited by the Ghost of Efron Future  Gods of Egypt  Plot: Egypt outsources all of its God jobs to the Scottish  Hillary’s America: The Secret History of the Democratic Party  Plot: Honestly, we are not touching this one  Independence Day: Resurgence    Plot: Members of the original cast search for Will Smith, Zoolander No.',\n",
              "  5: '(CNN) Catwoman has been an   for Batman for 75 years, becoming an antihero over time and spinning off into her own comic book series. Please be assured that Selina’s longstanding connection to Batman has not been forgotten that is not how bisexuality (or humanity) works,” she wrote. In 2004, Catwoman was awarded a GLAAD media award for its portrayal of the character Holly Robinson as openly gay.',\n",
              "  6: 'Viola Davis has paired up with 12 Years a Slave director Steve McQueen for the  ’s forthcoming heist thriller Widows. That project, set to star Devon Terrell, Helena Bonham Carter and Rebecca Hall, has, however, been put on the back burner, per Variety, to allow McQueen to place all of his focus on Widows. Jennifer Lawrence is rumored to have been approached to   alongside Davis but was forced to pass due to scheduling conflicts.',\n",
              "  7: 'For us to continue writing great stories, we need to display ads. Please follow the steps below, Imagine, for a moment, that Marvel Studios had decided to launch its vast cinematic universe with Captain America: Civil War. It needed to set up backstories and narrative arcs and romantic entanglements for everyone involved. And it needed to do all of this in about 15 minutes in order to subsequently come up with a lame supervillain for them to fight. Batman v Superman: Dawn of Rubbish, This is the challenge that Suicide Squad sets for itself early, and it succeeds just about as poorly as you might imagine. This is by no means the last time the movie proposes that its bad guys are actually good guys. For reasons that remain hazy (other than to demonstrate how cunning she is) Waller engineers a love affair between the Enchantress and Rick Flag (Joel Kinnaman) “the finest special forces officer this nation has ever produced. ” That it took DC so long to figure out what Marvel has known from the start is no small amazement.) And yes, for those curious: This central,   motivation plays virtually no role in anything that ensues.) But she is undeterred, sending the rest of the team in to deal with the sibling demigods. ( Part of the problem lies in the characters themselves. That this oversight is presumably deliberate makes it no less inept.) Indeed, the fact that virtually all of the film’s action takes place at night can’t help but leave the impression that the filmmakers don’t actually want us to see what’s going on.',\n",
              "  8: 'The CW has beat Marvel and DC’s   film universes to introduce a gay lead superhero. At the network’s Television Critics Association panel on Thursday in Los Angeles, the channel revealed that its sister streaming site, CW Seed, will premiere a new animated show, Freedom Fighters: The Ray, centered on the Ray, a gay DC Comics superhero.',\n",
              "  9: 'Before Warner Bros. gets too carried away with the   box office take of “Batman v Superman: Dawn of Justice” over the weekend, the studio might want to take a breath. Warner was so successful with the Chris   “Batman” movies that setting the Caped Crusader up for similar   was a vertically integrated  . Nolan and his star, Christian Bale, were widely credited with lending soul and gravitas to the brooding, broken Bruce Wayne, who presided over a   company by day and turned   vigilante by night. By the time of the final installment of the Nolan trilogy, though, the   was starting to wear thin. “ This year’s version of the “Guardians” zag is “Deadpool,” a similarly cheeky, if far more cynical, exercise in   japery. In counting on Snyder to usher in a new era of   glory, Warner Bros. might have made a fatal error: At a time when everything is “execution dependent”  —   a term that was once reserved for quirky   comedies and sophisticated dramas with no   audiences  —   the person behind the camera needs to have unerring instincts for fan service plus an impeccable sense of story, aesthetics, tone and performance.'}]"
            ]
          },
          "metadata": {
            "tags": []
          },
          "execution_count": 15
        }
      ]
    },
    {
      "cell_type": "markdown",
      "metadata": {
        "id": "jWqTB0SPwAl0",
        "colab_type": "text"
      },
      "source": [
        "## Create Summary of Summaries for each Cluster"
      ]
    },
    {
      "cell_type": "code",
      "metadata": {
        "id": "WzfCPOngwLaO",
        "colab_type": "code",
        "colab": {}
      },
      "source": [
        "# summarize summaries of each cluster \n",
        "summary_of_summaries = []\n",
        "for summaries in cluster_summaries:\n",
        "  summary = ' '.join(list(summaries.values()))\n",
        "  summary_of_summaries.append(model(summary))"
      ],
      "execution_count": 0,
      "outputs": []
    },
    {
      "cell_type": "code",
      "metadata": {
        "id": "rmXG8LoNwOhs",
        "colab_type": "code",
        "outputId": "bb3beb7d-b96b-4b59-8e49-3ad1313650f7",
        "colab": {
          "base_uri": "https://localhost:8080/",
          "height": 122
        }
      },
      "source": [
        "summary_of_summaries"
      ],
      "execution_count": 18,
      "outputs": [
        {
          "output_type": "execute_result",
          "data": {
            "text/plain": [
              "['THE MASSIVE leak of documents from the campaign of Emmanuel Macron failed to prevent his landslide victory Sunday in the French presidential election. An appropriate response must begin with full investigation and disclosure. We call on President Putin to immediately order a halt to this activity. Intelligence Committee members receive classified briefings they can’t speak about in public. WASHINGTON  —   A day after the release of a damning intelligence report on Russia’s   efforts to influence the American election,   Donald J. Trump called on Saturday for a closer relationship between the two nations, saying only “stupid” people or “fools” would think this was unwise. Ukrainian computer specialists mobilized to restore operations in time for the elections. Says electors potentially undermining democracy pic. Toward the beginning of the hearing, Comey said that he has no doubt that Russia attempted to interfere in the 2016 election and that Russian government officials were aware of the meddling. And it was an active measures campaign driven from the top of the government. ’ ”   A declassified version of a  on Russian hacking has concluded that   Russian President Vladimir Putin ordered a campaign to influence   the US presidential election with the aim of hurting Hillary   Clinton’s chance of winning. ” ’ Multiple officials told the Post that if proven, the Russian attempts at sabotage may not be intended to swing the election any particular way, but rather to generally promote chaos and mistrust that could make the US seem less stable and trustworthy in international affairs, potentially diminishing its authorities.',\n",
              " 'Reports of immigration sweeps this week sparked concern among immigration advocates and families, coming on the heels of President Donald Trump’s executive order barring refugees and immigrants from seven   nations. But in reality they’re going after anyone they can get their hands on —  period. The language in the order says that any unauthorized immigrant convicted of any crime can be deported. This was used most pervasively, and attracted the most attention nationally, in Phoenix. Apprehensions are down: Despite the growing number of officers patrolling the border, fewer   crossers are being caught. Criminal deportation because of   or something else? Whatever the reason, Garcia de Rayos, 35, said she has no regrets. I think this is a direct result of the new executive orders that are being put into actions by President Trump calling them ’enhancing public safety,’ which really appears only to be attacking immigrant communities and people of color,” her attorney Ray Maldonado said. She came illegally to the United States in the   with her parents when she was 14. After her conviction she appealed a court order to voluntarily deport and lost. He claims to have found a weapon, which discharged randomly and killed Steinle. You’ll never convince me that it hasn’t been about the way that we’ve handled this issue.” In a joint letter, more than 60 law enforcement heads are appealing to Trump in all but name to soften his aggressive drive to enlist police officers in the highly contentious job of deporting millions of immigrants living without permission in the country.',\n",
              " 'Manchester, England (CNN) Monday’s attack outside an Ariana Grande concert at Manchester Arena killed at least 22 people, including children, and was carried out by a lone suspect carrying a bomb, Manchester Police said. ” The incident happened shortly after Grande had left the stage, according to eyewitnesses. Eyewitness Karen Ford had taken her    daughter to the concert. Taxis and local people offered free rides to those affected. Initially,   said they thought popping balloons had set off a panic. In an emailed statement, Chris Upton, the head teacher at Tarleton Community Primary School, said the learning community was still coming to terms with Saffie’s death. “ They also wanted to send a message: We are not afraid. [ Keavy Smith, 17, was there that fateful night and remembers calling her mother, Angie, screaming and crying after the bomb went off. Almost everyone seemed to be holding someone else’s hand. Authorities have identified the bomber as Salman Abedi, a    Briton of Libyan descent, who lived in Manchester.',\n",
              " 'They gathered near the White House, disheartened and dismayed. ” In Austin, protesters blocked a highway Wednesday afternoon. The    voted for Hillary Clinton and was disappointed. In Des Moines, Iowa it was hundred of high school students who left class to protest of election results. He doesn’t respect women, Black Lives Matter, Latinos. In New York on Wednesday morning, groups of Trump supporters cheered his victory outside Trump Tower. Furious at a lecture organized on campus, demonstrators wearing   outfits smashed windows, threw rocks at the police and stormed a building. He travels around California on a tour bus airbrushed with his likeness. There are racists, sexists, piggery of various kinds who will say really terrible things. In an interview Friday, Peter Sittler, a sophomore at Berkeley and vice president of the organization that sponsored Yiannopoulos’s visit, the Berkeley College Republicans, told me the school’s administration, from Chancellor Nicholas Dirks on down, “worked tirelessly to plan [the event] and make sure it went through. ” The   is an   movement widely seen as espousing white supremacist and   views. The University of California at Berkeley is bracing for massive protests and potential violence in an open, public space known as Sproul Plaza after learning that conservative commentator Ann Coulter plans to give a speech there Thursday afternoon. [ CNN) The showdown continues between the University of California, Berkeley, and Ann Coulter over whether the conservative firebrand will speak at the famously progressive school.',\n",
              " 'Los Angeles (CNN)”Suicide Squad” once seemed to offer Warner Bros. and DC Entertainment a shot at redemption after the creatively botched ”Batman v Superman: Dawn of Justice.” Yet this       tale hits its own snags, generating only sporadic moments of fun amid   chaos. It’s a concept with roots in ”The Dirty Dozen” (down to the promise of shortened or commuted sentences) although to be honest, this Hellacious   wouldn’t stand much of a chance against the Man of Steel. Frankly, they look mismatched even against the underwhelming threat they face in the movie, the Enchantress (Cara Delevingne) an ancient sorceress with a hazily defined scheme to destroy the world. Suicide Squad” does yield moments of irreverence, though. The Lobster, A stunning exercise in dystopian absurdism and   comedy. In 2004, Catwoman was awarded a GLAAD media award for its portrayal of the character Holly Robinson as openly gay. Batman v Superman: Dawn of Rubbish, This is the challenge that Suicide Squad sets for itself early, and it succeeds just about as poorly as you might imagine. That it took DC so long to figure out what Marvel has known from the start is no small amazement.)']"
            ]
          },
          "metadata": {
            "tags": []
          },
          "execution_count": 18
        }
      ]
    },
    {
      "cell_type": "markdown",
      "metadata": {
        "id": "B4WQNu5QwSZ8",
        "colab_type": "text"
      },
      "source": [
        "## Output Final Summary"
      ]
    },
    {
      "cell_type": "code",
      "metadata": {
        "id": "6aFfhEuhwcZw",
        "colab_type": "code",
        "outputId": "9da66c2e-7fb9-4191-f1f9-2ffa2602b6d7",
        "colab": {
          "base_uri": "https://localhost:8080/",
          "height": 204
        }
      },
      "source": [
        "input_topics = [\"Russian interference with election\", \"Immigration and customs enforcement\", \"Ariana Grande Manchester bombing\", \"UC Berkeley student protests\", \"Suicide Squad movie\"]\n",
        "\n",
        "summaries_df = pd.DataFrame({'topic': input_topics, 'summary': summary_of_summaries})\n",
        "summaries_df"
      ],
      "execution_count": 19,
      "outputs": [
        {
          "output_type": "execute_result",
          "data": {
            "text/plain": [
              "                                 topic  \\\n",
              "0   Russian interference with election   \n",
              "1  Immigration and customs enforcement   \n",
              "2     Ariana Grande Manchester bombing   \n",
              "3         UC Berkeley student protests   \n",
              "4                  Suicide Squad movie   \n",
              "\n",
              "                                             summary  \n",
              "0  THE MASSIVE leak of documents from the campaig...  \n",
              "1  Reports of immigration sweeps this week sparke...  \n",
              "2  Manchester, England (CNN) Monday’s attack outs...  \n",
              "3  They gathered near the White House, dishearten...  \n",
              "4  Los Angeles (CNN)”Suicide Squad” once seemed t...  "
            ],
            "text/html": [
              "<div>\n",
              "<style scoped>\n",
              "    .dataframe tbody tr th:only-of-type {\n",
              "        vertical-align: middle;\n",
              "    }\n",
              "\n",
              "    .dataframe tbody tr th {\n",
              "        vertical-align: top;\n",
              "    }\n",
              "\n",
              "    .dataframe thead th {\n",
              "        text-align: right;\n",
              "    }\n",
              "</style>\n",
              "<table border=\"1\" class=\"dataframe\">\n",
              "  <thead>\n",
              "    <tr style=\"text-align: right;\">\n",
              "      <th></th>\n",
              "      <th>topic</th>\n",
              "      <th>summary</th>\n",
              "    </tr>\n",
              "  </thead>\n",
              "  <tbody>\n",
              "    <tr>\n",
              "      <td>0</td>\n",
              "      <td>Russian interference with election</td>\n",
              "      <td>THE MASSIVE leak of documents from the campaig...</td>\n",
              "    </tr>\n",
              "    <tr>\n",
              "      <td>1</td>\n",
              "      <td>Immigration and customs enforcement</td>\n",
              "      <td>Reports of immigration sweeps this week sparke...</td>\n",
              "    </tr>\n",
              "    <tr>\n",
              "      <td>2</td>\n",
              "      <td>Ariana Grande Manchester bombing</td>\n",
              "      <td>Manchester, England (CNN) Monday’s attack outs...</td>\n",
              "    </tr>\n",
              "    <tr>\n",
              "      <td>3</td>\n",
              "      <td>UC Berkeley student protests</td>\n",
              "      <td>They gathered near the White House, dishearten...</td>\n",
              "    </tr>\n",
              "    <tr>\n",
              "      <td>4</td>\n",
              "      <td>Suicide Squad movie</td>\n",
              "      <td>Los Angeles (CNN)”Suicide Squad” once seemed t...</td>\n",
              "    </tr>\n",
              "  </tbody>\n",
              "</table>\n",
              "</div>"
            ]
          },
          "metadata": {
            "tags": []
          },
          "execution_count": 19
        }
      ]
    },
    {
      "cell_type": "code",
      "metadata": {
        "id": "vr7rzlIv__ut",
        "colab_type": "code",
        "colab": {}
      },
      "source": [
        "summaries_df.to_csv('news_filter/data/filter_summaries.csv', index=False)"
      ],
      "execution_count": 0,
      "outputs": []
    },
    {
      "cell_type": "code",
      "metadata": {
        "id": "JJWfYSYjAD80",
        "colab_type": "code",
        "colab": {}
      },
      "source": [
        ""
      ],
      "execution_count": 0,
      "outputs": []
    }
  ]
}