{
  "nbformat": 4,
  "nbformat_minor": 0,
  "metadata": {
    "colab": {
      "name": "data_cleaning.ipynb",
      "provenance": [],
      "include_colab_link": true
    },
    "kernelspec": {
      "name": "python3",
      "display_name": "Python 3"
    }
  },
  "cells": [
    {
      "cell_type": "markdown",
      "metadata": {
        "id": "view-in-github",
        "colab_type": "text"
      },
      "source": [
        "<a href=\"https://colab.research.google.com/github/s-miramontes/News_Filter/blob/master/notebooks/data_cleaning.ipynb\" target=\"_parent\"><img src=\"https://colab.research.google.com/assets/colab-badge.svg\" alt=\"Open In Colab\"/></a>"
      ]
    },
    {
      "cell_type": "markdown",
      "metadata": {
        "id": "kI2kb4iJI3_n",
        "colab_type": "text"
      },
      "source": [
        "# Prepare Data for Clustering"
      ]
    },
    {
      "cell_type": "code",
      "metadata": {
        "id": "HWbnKPcGIzos",
        "colab_type": "code",
        "colab": {}
      },
      "source": [
        "# import statements \n",
        "\n",
        "import pandas as pd\n",
        "import re\n",
        "from joblib import Parallel, delayed\n",
        "from textblob import TextBlob \n",
        "import matplotlib.pyplot as plt\n",
        "import seaborn as sns"
      ],
      "execution_count": 0,
      "outputs": []
    },
    {
      "cell_type": "markdown",
      "metadata": {
        "id": "Yrq79lu4KJzP",
        "colab_type": "text"
      },
      "source": [
        "## Importing Data from Local File System\n",
        "\n",
        "Datasets are located here: https://www.kaggle.com/snapcrack/all-the-news/version/4#articles3.csv\n",
        "\n",
        "*   download and store all three 'csv' files in a 'data' directory at the location of your choice\n",
        "*   concatenate the three into one dataframe "
      ]
    },
    {
      "cell_type": "code",
      "metadata": {
        "id": "t9kpR8B_JN8F",
        "colab_type": "code",
        "colab": {}
      },
      "source": [
        "# import raw data\n",
        "articles_3 = pd.read_csv('news_filter/data/articles3.csv')\n",
        "articles_2 = pd.read_csv('news_filter/data/articles2.csv')\n",
        "articles_1 = pd.read_csv('news_filter/data/articles1.csv')"
      ],
      "execution_count": 0,
      "outputs": []
    },
    {
      "cell_type": "code",
      "metadata": {
        "id": "XWRJWcHkJmYR",
        "colab_type": "code",
        "outputId": "15faf12c-f4f7-417f-dd90-2200e6b3db65",
        "colab": {
          "base_uri": "https://localhost:8080/",
          "height": 408
        }
      },
      "source": [
        "articles_3.head()"
      ],
      "execution_count": 3,
      "outputs": [
        {
          "output_type": "execute_result",
          "data": {
            "text/plain": [
              "   Unnamed: 0      id                                              title  \\\n",
              "0      103459  151908  Alton Sterling’s son: ’Everyone needs to prote...   \n",
              "1      103460  151909  Shakespeare’s first four folios sell at auctio...   \n",
              "2      103461  151910  My grandmother’s death saved me from a life of...   \n",
              "3      103462  151911  I feared my life lacked meaning. Cancer pushed...   \n",
              "4      103463  151912  Texas man serving life sentence innocent of do...   \n",
              "\n",
              "  publication          author        date    year  month  \\\n",
              "0    Guardian  Jessica Glenza  2016-07-13  2016.0    7.0   \n",
              "1    Guardian             NaN  2016-05-25  2016.0    5.0   \n",
              "2    Guardian   Robert Pendry  2016-10-31  2016.0   10.0   \n",
              "3    Guardian  Bradford Frost  2016-11-26  2016.0   11.0   \n",
              "4    Guardian             NaN  2016-08-20  2016.0    8.0   \n",
              "\n",
              "                                                 url  \\\n",
              "0  https://www.theguardian.com/us-news/2016/jul/1...   \n",
              "1  https://www.theguardian.com/culture/2016/may/2...   \n",
              "2  https://www.theguardian.com/commentisfree/2016...   \n",
              "3  https://www.theguardian.com/commentisfree/2016...   \n",
              "4  https://www.theguardian.com/us-news/2016/aug/2...   \n",
              "\n",
              "                                             content  \n",
              "0  The son of a Louisiana man whose father was sh...  \n",
              "1  Copies of William Shakespeare’s first four boo...  \n",
              "2  Debt: $20, 000, Source: College, credit cards,...  \n",
              "3  It was late. I was drunk, nearing my 35th birt...  \n",
              "4  A central Texas man serving a life sentence fo...  "
            ],
            "text/html": [
              "<div>\n",
              "<style scoped>\n",
              "    .dataframe tbody tr th:only-of-type {\n",
              "        vertical-align: middle;\n",
              "    }\n",
              "\n",
              "    .dataframe tbody tr th {\n",
              "        vertical-align: top;\n",
              "    }\n",
              "\n",
              "    .dataframe thead th {\n",
              "        text-align: right;\n",
              "    }\n",
              "</style>\n",
              "<table border=\"1\" class=\"dataframe\">\n",
              "  <thead>\n",
              "    <tr style=\"text-align: right;\">\n",
              "      <th></th>\n",
              "      <th>Unnamed: 0</th>\n",
              "      <th>id</th>\n",
              "      <th>title</th>\n",
              "      <th>publication</th>\n",
              "      <th>author</th>\n",
              "      <th>date</th>\n",
              "      <th>year</th>\n",
              "      <th>month</th>\n",
              "      <th>url</th>\n",
              "      <th>content</th>\n",
              "    </tr>\n",
              "  </thead>\n",
              "  <tbody>\n",
              "    <tr>\n",
              "      <td>0</td>\n",
              "      <td>103459</td>\n",
              "      <td>151908</td>\n",
              "      <td>Alton Sterling’s son: ’Everyone needs to prote...</td>\n",
              "      <td>Guardian</td>\n",
              "      <td>Jessica Glenza</td>\n",
              "      <td>2016-07-13</td>\n",
              "      <td>2016.0</td>\n",
              "      <td>7.0</td>\n",
              "      <td>https://www.theguardian.com/us-news/2016/jul/1...</td>\n",
              "      <td>The son of a Louisiana man whose father was sh...</td>\n",
              "    </tr>\n",
              "    <tr>\n",
              "      <td>1</td>\n",
              "      <td>103460</td>\n",
              "      <td>151909</td>\n",
              "      <td>Shakespeare’s first four folios sell at auctio...</td>\n",
              "      <td>Guardian</td>\n",
              "      <td>NaN</td>\n",
              "      <td>2016-05-25</td>\n",
              "      <td>2016.0</td>\n",
              "      <td>5.0</td>\n",
              "      <td>https://www.theguardian.com/culture/2016/may/2...</td>\n",
              "      <td>Copies of William Shakespeare’s first four boo...</td>\n",
              "    </tr>\n",
              "    <tr>\n",
              "      <td>2</td>\n",
              "      <td>103461</td>\n",
              "      <td>151910</td>\n",
              "      <td>My grandmother’s death saved me from a life of...</td>\n",
              "      <td>Guardian</td>\n",
              "      <td>Robert Pendry</td>\n",
              "      <td>2016-10-31</td>\n",
              "      <td>2016.0</td>\n",
              "      <td>10.0</td>\n",
              "      <td>https://www.theguardian.com/commentisfree/2016...</td>\n",
              "      <td>Debt: $20, 000, Source: College, credit cards,...</td>\n",
              "    </tr>\n",
              "    <tr>\n",
              "      <td>3</td>\n",
              "      <td>103462</td>\n",
              "      <td>151911</td>\n",
              "      <td>I feared my life lacked meaning. Cancer pushed...</td>\n",
              "      <td>Guardian</td>\n",
              "      <td>Bradford Frost</td>\n",
              "      <td>2016-11-26</td>\n",
              "      <td>2016.0</td>\n",
              "      <td>11.0</td>\n",
              "      <td>https://www.theguardian.com/commentisfree/2016...</td>\n",
              "      <td>It was late. I was drunk, nearing my 35th birt...</td>\n",
              "    </tr>\n",
              "    <tr>\n",
              "      <td>4</td>\n",
              "      <td>103463</td>\n",
              "      <td>151912</td>\n",
              "      <td>Texas man serving life sentence innocent of do...</td>\n",
              "      <td>Guardian</td>\n",
              "      <td>NaN</td>\n",
              "      <td>2016-08-20</td>\n",
              "      <td>2016.0</td>\n",
              "      <td>8.0</td>\n",
              "      <td>https://www.theguardian.com/us-news/2016/aug/2...</td>\n",
              "      <td>A central Texas man serving a life sentence fo...</td>\n",
              "    </tr>\n",
              "  </tbody>\n",
              "</table>\n",
              "</div>"
            ]
          },
          "metadata": {
            "tags": []
          },
          "execution_count": 3
        }
      ]
    },
    {
      "cell_type": "code",
      "metadata": {
        "id": "xRtIAJDUJmZ7",
        "colab_type": "code",
        "outputId": "99d7ef61-853f-44c7-d149-e72fc9adcd4e",
        "colab": {
          "base_uri": "https://localhost:8080/",
          "height": 306
        }
      },
      "source": [
        "articles_2.head()"
      ],
      "execution_count": 4,
      "outputs": [
        {
          "output_type": "execute_result",
          "data": {
            "text/plain": [
              "   Unnamed: 0     id                                              title  \\\n",
              "0       53293  73471  Patriots Day Is Best When It Digs Past the Her...   \n",
              "1       53294  73472  A Break in the Search for the Origin of Comple...   \n",
              "2       53295  73474         Obama’s Ingenious Mention of Atticus Finch   \n",
              "3       53296  73475         Donald Trump Meets, and Assails, the Press   \n",
              "4       53297  73476               Trump: ’I Think’ Hacking Was Russian   \n",
              "\n",
              "  publication             author        date    year  month  url  \\\n",
              "0    Atlantic         David Sims  2017-01-11  2017.0    1.0  NaN   \n",
              "1    Atlantic            Ed Yong  2017-01-11  2017.0    1.0  NaN   \n",
              "2    Atlantic  Spencer Kornhaber  2017-01-11  2017.0    1.0  NaN   \n",
              "3    Atlantic    David A. Graham  2017-01-11  2017.0    1.0  NaN   \n",
              "4    Atlantic      Kaveh Waddell  2017-01-11  2017.0    1.0  NaN   \n",
              "\n",
              "                                             content  \n",
              "0  Patriots Day, Peter Berg’s new thriller that r...  \n",
              "1  In Norse mythology, humans and our world were ...  \n",
              "2  “If our democracy is to work in this increasin...  \n",
              "3  Updated on January 11 at 5:05 p. m. In his fir...  \n",
              "4  Updated at 12:25 p. m. After months of equivoc...  "
            ],
            "text/html": [
              "<div>\n",
              "<style scoped>\n",
              "    .dataframe tbody tr th:only-of-type {\n",
              "        vertical-align: middle;\n",
              "    }\n",
              "\n",
              "    .dataframe tbody tr th {\n",
              "        vertical-align: top;\n",
              "    }\n",
              "\n",
              "    .dataframe thead th {\n",
              "        text-align: right;\n",
              "    }\n",
              "</style>\n",
              "<table border=\"1\" class=\"dataframe\">\n",
              "  <thead>\n",
              "    <tr style=\"text-align: right;\">\n",
              "      <th></th>\n",
              "      <th>Unnamed: 0</th>\n",
              "      <th>id</th>\n",
              "      <th>title</th>\n",
              "      <th>publication</th>\n",
              "      <th>author</th>\n",
              "      <th>date</th>\n",
              "      <th>year</th>\n",
              "      <th>month</th>\n",
              "      <th>url</th>\n",
              "      <th>content</th>\n",
              "    </tr>\n",
              "  </thead>\n",
              "  <tbody>\n",
              "    <tr>\n",
              "      <td>0</td>\n",
              "      <td>53293</td>\n",
              "      <td>73471</td>\n",
              "      <td>Patriots Day Is Best When It Digs Past the Her...</td>\n",
              "      <td>Atlantic</td>\n",
              "      <td>David Sims</td>\n",
              "      <td>2017-01-11</td>\n",
              "      <td>2017.0</td>\n",
              "      <td>1.0</td>\n",
              "      <td>NaN</td>\n",
              "      <td>Patriots Day, Peter Berg’s new thriller that r...</td>\n",
              "    </tr>\n",
              "    <tr>\n",
              "      <td>1</td>\n",
              "      <td>53294</td>\n",
              "      <td>73472</td>\n",
              "      <td>A Break in the Search for the Origin of Comple...</td>\n",
              "      <td>Atlantic</td>\n",
              "      <td>Ed Yong</td>\n",
              "      <td>2017-01-11</td>\n",
              "      <td>2017.0</td>\n",
              "      <td>1.0</td>\n",
              "      <td>NaN</td>\n",
              "      <td>In Norse mythology, humans and our world were ...</td>\n",
              "    </tr>\n",
              "    <tr>\n",
              "      <td>2</td>\n",
              "      <td>53295</td>\n",
              "      <td>73474</td>\n",
              "      <td>Obama’s Ingenious Mention of Atticus Finch</td>\n",
              "      <td>Atlantic</td>\n",
              "      <td>Spencer Kornhaber</td>\n",
              "      <td>2017-01-11</td>\n",
              "      <td>2017.0</td>\n",
              "      <td>1.0</td>\n",
              "      <td>NaN</td>\n",
              "      <td>“If our democracy is to work in this increasin...</td>\n",
              "    </tr>\n",
              "    <tr>\n",
              "      <td>3</td>\n",
              "      <td>53296</td>\n",
              "      <td>73475</td>\n",
              "      <td>Donald Trump Meets, and Assails, the Press</td>\n",
              "      <td>Atlantic</td>\n",
              "      <td>David A. Graham</td>\n",
              "      <td>2017-01-11</td>\n",
              "      <td>2017.0</td>\n",
              "      <td>1.0</td>\n",
              "      <td>NaN</td>\n",
              "      <td>Updated on January 11 at 5:05 p. m. In his fir...</td>\n",
              "    </tr>\n",
              "    <tr>\n",
              "      <td>4</td>\n",
              "      <td>53297</td>\n",
              "      <td>73476</td>\n",
              "      <td>Trump: ’I Think’ Hacking Was Russian</td>\n",
              "      <td>Atlantic</td>\n",
              "      <td>Kaveh Waddell</td>\n",
              "      <td>2017-01-11</td>\n",
              "      <td>2017.0</td>\n",
              "      <td>1.0</td>\n",
              "      <td>NaN</td>\n",
              "      <td>Updated at 12:25 p. m. After months of equivoc...</td>\n",
              "    </tr>\n",
              "  </tbody>\n",
              "</table>\n",
              "</div>"
            ]
          },
          "metadata": {
            "tags": []
          },
          "execution_count": 4
        }
      ]
    },
    {
      "cell_type": "code",
      "metadata": {
        "id": "vCO97kiAJmcv",
        "colab_type": "code",
        "outputId": "0a134411-a34e-4328-e3d3-9a39eec90619",
        "colab": {
          "base_uri": "https://localhost:8080/",
          "height": 306
        }
      },
      "source": [
        "articles_1.head()"
      ],
      "execution_count": 5,
      "outputs": [
        {
          "output_type": "execute_result",
          "data": {
            "text/plain": [
              "   Unnamed: 0     id                                              title  \\\n",
              "0           0  17283  House Republicans Fret About Winning Their Hea...   \n",
              "1           1  17284  Rift Between Officers and Residents as Killing...   \n",
              "2           2  17285  Tyrus Wong, ‘Bambi’ Artist Thwarted by Racial ...   \n",
              "3           3  17286  Among Deaths in 2016, a Heavy Toll in Pop Musi...   \n",
              "4           4  17287  Kim Jong-un Says North Korea Is Preparing to T...   \n",
              "\n",
              "      publication                         author        date    year  month  \\\n",
              "0  New York Times                     Carl Hulse  2016-12-31  2016.0   12.0   \n",
              "1  New York Times  Benjamin Mueller and Al Baker  2017-06-19  2017.0    6.0   \n",
              "2  New York Times                   Margalit Fox  2017-01-06  2017.0    1.0   \n",
              "3  New York Times               William McDonald  2017-04-10  2017.0    4.0   \n",
              "4  New York Times                  Choe Sang-Hun  2017-01-02  2017.0    1.0   \n",
              "\n",
              "   url                                            content  \n",
              "0  NaN  WASHINGTON  —   Congressional Republicans have...  \n",
              "1  NaN  After the bullet shells get counted, the blood...  \n",
              "2  NaN  When Walt Disney’s “Bambi” opened in 1942, cri...  \n",
              "3  NaN  Death may be the great equalizer, but it isn’t...  \n",
              "4  NaN  SEOUL, South Korea  —   North Korea’s leader, ...  "
            ],
            "text/html": [
              "<div>\n",
              "<style scoped>\n",
              "    .dataframe tbody tr th:only-of-type {\n",
              "        vertical-align: middle;\n",
              "    }\n",
              "\n",
              "    .dataframe tbody tr th {\n",
              "        vertical-align: top;\n",
              "    }\n",
              "\n",
              "    .dataframe thead th {\n",
              "        text-align: right;\n",
              "    }\n",
              "</style>\n",
              "<table border=\"1\" class=\"dataframe\">\n",
              "  <thead>\n",
              "    <tr style=\"text-align: right;\">\n",
              "      <th></th>\n",
              "      <th>Unnamed: 0</th>\n",
              "      <th>id</th>\n",
              "      <th>title</th>\n",
              "      <th>publication</th>\n",
              "      <th>author</th>\n",
              "      <th>date</th>\n",
              "      <th>year</th>\n",
              "      <th>month</th>\n",
              "      <th>url</th>\n",
              "      <th>content</th>\n",
              "    </tr>\n",
              "  </thead>\n",
              "  <tbody>\n",
              "    <tr>\n",
              "      <td>0</td>\n",
              "      <td>0</td>\n",
              "      <td>17283</td>\n",
              "      <td>House Republicans Fret About Winning Their Hea...</td>\n",
              "      <td>New York Times</td>\n",
              "      <td>Carl Hulse</td>\n",
              "      <td>2016-12-31</td>\n",
              "      <td>2016.0</td>\n",
              "      <td>12.0</td>\n",
              "      <td>NaN</td>\n",
              "      <td>WASHINGTON  —   Congressional Republicans have...</td>\n",
              "    </tr>\n",
              "    <tr>\n",
              "      <td>1</td>\n",
              "      <td>1</td>\n",
              "      <td>17284</td>\n",
              "      <td>Rift Between Officers and Residents as Killing...</td>\n",
              "      <td>New York Times</td>\n",
              "      <td>Benjamin Mueller and Al Baker</td>\n",
              "      <td>2017-06-19</td>\n",
              "      <td>2017.0</td>\n",
              "      <td>6.0</td>\n",
              "      <td>NaN</td>\n",
              "      <td>After the bullet shells get counted, the blood...</td>\n",
              "    </tr>\n",
              "    <tr>\n",
              "      <td>2</td>\n",
              "      <td>2</td>\n",
              "      <td>17285</td>\n",
              "      <td>Tyrus Wong, ‘Bambi’ Artist Thwarted by Racial ...</td>\n",
              "      <td>New York Times</td>\n",
              "      <td>Margalit Fox</td>\n",
              "      <td>2017-01-06</td>\n",
              "      <td>2017.0</td>\n",
              "      <td>1.0</td>\n",
              "      <td>NaN</td>\n",
              "      <td>When Walt Disney’s “Bambi” opened in 1942, cri...</td>\n",
              "    </tr>\n",
              "    <tr>\n",
              "      <td>3</td>\n",
              "      <td>3</td>\n",
              "      <td>17286</td>\n",
              "      <td>Among Deaths in 2016, a Heavy Toll in Pop Musi...</td>\n",
              "      <td>New York Times</td>\n",
              "      <td>William McDonald</td>\n",
              "      <td>2017-04-10</td>\n",
              "      <td>2017.0</td>\n",
              "      <td>4.0</td>\n",
              "      <td>NaN</td>\n",
              "      <td>Death may be the great equalizer, but it isn’t...</td>\n",
              "    </tr>\n",
              "    <tr>\n",
              "      <td>4</td>\n",
              "      <td>4</td>\n",
              "      <td>17287</td>\n",
              "      <td>Kim Jong-un Says North Korea Is Preparing to T...</td>\n",
              "      <td>New York Times</td>\n",
              "      <td>Choe Sang-Hun</td>\n",
              "      <td>2017-01-02</td>\n",
              "      <td>2017.0</td>\n",
              "      <td>1.0</td>\n",
              "      <td>NaN</td>\n",
              "      <td>SEOUL, South Korea  —   North Korea’s leader, ...</td>\n",
              "    </tr>\n",
              "  </tbody>\n",
              "</table>\n",
              "</div>"
            ]
          },
          "metadata": {
            "tags": []
          },
          "execution_count": 5
        }
      ]
    },
    {
      "cell_type": "code",
      "metadata": {
        "id": "tytUfBFuJqGm",
        "colab_type": "code",
        "outputId": "9d3010da-5819-4ffa-b094-5e3af32f4ed4",
        "colab": {
          "base_uri": "https://localhost:8080/",
          "height": 34
        }
      },
      "source": [
        "# publications in articles_3.csv\n",
        "set(articles_3.publication)"
      ],
      "execution_count": 6,
      "outputs": [
        {
          "output_type": "execute_result",
          "data": {
            "text/plain": [
              "{'Guardian', 'NPR', 'Reuters', 'Vox', 'Washington Post'}"
            ]
          },
          "metadata": {
            "tags": []
          },
          "execution_count": 6
        }
      ]
    },
    {
      "cell_type": "code",
      "metadata": {
        "id": "sRR3NYluJqJB",
        "colab_type": "code",
        "outputId": "de04f6c2-372f-4721-c3f3-c5daeb7078ed",
        "colab": {
          "base_uri": "https://localhost:8080/",
          "height": 136
        }
      },
      "source": [
        "# publications in articles_2.csv\n",
        "set(articles_2.publication)"
      ],
      "execution_count": 7,
      "outputs": [
        {
          "output_type": "execute_result",
          "data": {
            "text/plain": [
              "{'Atlantic',\n",
              " 'Buzzfeed News',\n",
              " 'Fox News',\n",
              " 'Guardian',\n",
              " 'National Review',\n",
              " 'New York Post',\n",
              " 'Talking Points Memo'}"
            ]
          },
          "metadata": {
            "tags": []
          },
          "execution_count": 7
        }
      ]
    },
    {
      "cell_type": "code",
      "metadata": {
        "id": "fQ3TThJ3JqLL",
        "colab_type": "code",
        "outputId": "c26c608e-ce37-4ea4-cccd-3dbb9188f07c",
        "colab": {
          "base_uri": "https://localhost:8080/",
          "height": 34
        }
      },
      "source": [
        "# publications in articles_1.csv\n",
        "set(articles_1.publication)"
      ],
      "execution_count": 8,
      "outputs": [
        {
          "output_type": "execute_result",
          "data": {
            "text/plain": [
              "{'Atlantic', 'Breitbart', 'Business Insider', 'CNN', 'New York Times'}"
            ]
          },
          "metadata": {
            "tags": []
          },
          "execution_count": 8
        }
      ]
    },
    {
      "cell_type": "code",
      "metadata": {
        "id": "MnFRCDXoJqN6",
        "colab_type": "code",
        "outputId": "3da14f36-84c1-472d-8312-324603b9b570",
        "colab": {
          "base_uri": "https://localhost:8080/",
          "height": 34
        }
      },
      "source": [
        "# join all datasets into one\n",
        "full_data = pd.concat([articles_1, articles_2, articles_3], ignore_index=True)\n",
        "\n",
        "full_data.shape"
      ],
      "execution_count": 9,
      "outputs": [
        {
          "output_type": "execute_result",
          "data": {
            "text/plain": [
              "(142570, 10)"
            ]
          },
          "metadata": {
            "tags": []
          },
          "execution_count": 9
        }
      ]
    },
    {
      "cell_type": "code",
      "metadata": {
        "id": "6xxLPgTCJqUi",
        "colab_type": "code",
        "outputId": "77c2a5a6-fff7-4548-8e1e-1978a57dffc3",
        "colab": {
          "base_uri": "https://localhost:8080/",
          "height": 306
        }
      },
      "source": [
        "full_data.head()"
      ],
      "execution_count": 10,
      "outputs": [
        {
          "output_type": "execute_result",
          "data": {
            "text/plain": [
              "   Unnamed: 0     id                                              title  \\\n",
              "0           0  17283  House Republicans Fret About Winning Their Hea...   \n",
              "1           1  17284  Rift Between Officers and Residents as Killing...   \n",
              "2           2  17285  Tyrus Wong, ‘Bambi’ Artist Thwarted by Racial ...   \n",
              "3           3  17286  Among Deaths in 2016, a Heavy Toll in Pop Musi...   \n",
              "4           4  17287  Kim Jong-un Says North Korea Is Preparing to T...   \n",
              "\n",
              "      publication                         author        date    year  month  \\\n",
              "0  New York Times                     Carl Hulse  2016-12-31  2016.0   12.0   \n",
              "1  New York Times  Benjamin Mueller and Al Baker  2017-06-19  2017.0    6.0   \n",
              "2  New York Times                   Margalit Fox  2017-01-06  2017.0    1.0   \n",
              "3  New York Times               William McDonald  2017-04-10  2017.0    4.0   \n",
              "4  New York Times                  Choe Sang-Hun  2017-01-02  2017.0    1.0   \n",
              "\n",
              "   url                                            content  \n",
              "0  NaN  WASHINGTON  —   Congressional Republicans have...  \n",
              "1  NaN  After the bullet shells get counted, the blood...  \n",
              "2  NaN  When Walt Disney’s “Bambi” opened in 1942, cri...  \n",
              "3  NaN  Death may be the great equalizer, but it isn’t...  \n",
              "4  NaN  SEOUL, South Korea  —   North Korea’s leader, ...  "
            ],
            "text/html": [
              "<div>\n",
              "<style scoped>\n",
              "    .dataframe tbody tr th:only-of-type {\n",
              "        vertical-align: middle;\n",
              "    }\n",
              "\n",
              "    .dataframe tbody tr th {\n",
              "        vertical-align: top;\n",
              "    }\n",
              "\n",
              "    .dataframe thead th {\n",
              "        text-align: right;\n",
              "    }\n",
              "</style>\n",
              "<table border=\"1\" class=\"dataframe\">\n",
              "  <thead>\n",
              "    <tr style=\"text-align: right;\">\n",
              "      <th></th>\n",
              "      <th>Unnamed: 0</th>\n",
              "      <th>id</th>\n",
              "      <th>title</th>\n",
              "      <th>publication</th>\n",
              "      <th>author</th>\n",
              "      <th>date</th>\n",
              "      <th>year</th>\n",
              "      <th>month</th>\n",
              "      <th>url</th>\n",
              "      <th>content</th>\n",
              "    </tr>\n",
              "  </thead>\n",
              "  <tbody>\n",
              "    <tr>\n",
              "      <td>0</td>\n",
              "      <td>0</td>\n",
              "      <td>17283</td>\n",
              "      <td>House Republicans Fret About Winning Their Hea...</td>\n",
              "      <td>New York Times</td>\n",
              "      <td>Carl Hulse</td>\n",
              "      <td>2016-12-31</td>\n",
              "      <td>2016.0</td>\n",
              "      <td>12.0</td>\n",
              "      <td>NaN</td>\n",
              "      <td>WASHINGTON  —   Congressional Republicans have...</td>\n",
              "    </tr>\n",
              "    <tr>\n",
              "      <td>1</td>\n",
              "      <td>1</td>\n",
              "      <td>17284</td>\n",
              "      <td>Rift Between Officers and Residents as Killing...</td>\n",
              "      <td>New York Times</td>\n",
              "      <td>Benjamin Mueller and Al Baker</td>\n",
              "      <td>2017-06-19</td>\n",
              "      <td>2017.0</td>\n",
              "      <td>6.0</td>\n",
              "      <td>NaN</td>\n",
              "      <td>After the bullet shells get counted, the blood...</td>\n",
              "    </tr>\n",
              "    <tr>\n",
              "      <td>2</td>\n",
              "      <td>2</td>\n",
              "      <td>17285</td>\n",
              "      <td>Tyrus Wong, ‘Bambi’ Artist Thwarted by Racial ...</td>\n",
              "      <td>New York Times</td>\n",
              "      <td>Margalit Fox</td>\n",
              "      <td>2017-01-06</td>\n",
              "      <td>2017.0</td>\n",
              "      <td>1.0</td>\n",
              "      <td>NaN</td>\n",
              "      <td>When Walt Disney’s “Bambi” opened in 1942, cri...</td>\n",
              "    </tr>\n",
              "    <tr>\n",
              "      <td>3</td>\n",
              "      <td>3</td>\n",
              "      <td>17286</td>\n",
              "      <td>Among Deaths in 2016, a Heavy Toll in Pop Musi...</td>\n",
              "      <td>New York Times</td>\n",
              "      <td>William McDonald</td>\n",
              "      <td>2017-04-10</td>\n",
              "      <td>2017.0</td>\n",
              "      <td>4.0</td>\n",
              "      <td>NaN</td>\n",
              "      <td>Death may be the great equalizer, but it isn’t...</td>\n",
              "    </tr>\n",
              "    <tr>\n",
              "      <td>4</td>\n",
              "      <td>4</td>\n",
              "      <td>17287</td>\n",
              "      <td>Kim Jong-un Says North Korea Is Preparing to T...</td>\n",
              "      <td>New York Times</td>\n",
              "      <td>Choe Sang-Hun</td>\n",
              "      <td>2017-01-02</td>\n",
              "      <td>2017.0</td>\n",
              "      <td>1.0</td>\n",
              "      <td>NaN</td>\n",
              "      <td>SEOUL, South Korea  —   North Korea’s leader, ...</td>\n",
              "    </tr>\n",
              "  </tbody>\n",
              "</table>\n",
              "</div>"
            ]
          },
          "metadata": {
            "tags": []
          },
          "execution_count": 10
        }
      ]
    },
    {
      "cell_type": "markdown",
      "metadata": {
        "id": "skRT6ShIRYmh",
        "colab_type": "text"
      },
      "source": [
        "## Bias Filter\n",
        "\n",
        "\n",
        "\n",
        "*   Naive: [all-sides](https://www.allsides.com/media-bias/media-bias-ratings) to filter by publication\n",
        "*   Sentiment: polarity and subjectivity of articles \n",
        "*   Frequency: number of articles/publication that mention a topic\n",
        "\n"
      ]
    },
    {
      "cell_type": "markdown",
      "metadata": {
        "id": "m9QV87i-wzAu",
        "colab_type": "text"
      },
      "source": [
        "### Publisher Bias"
      ]
    },
    {
      "cell_type": "code",
      "metadata": {
        "id": "FlWCvZp2kotR",
        "colab_type": "code",
        "colab": {}
      },
      "source": [
        "# publisher bias ratings from AllSides\n",
        "publisher_bias = {'Atlantic': 'left-center',\n",
        " 'Breitbart': 'right',\n",
        " 'Business Insider': 'center',\n",
        " 'Buzzfeed News': 'left',\n",
        " 'CNN': 'left-center',\n",
        " 'Fox News': 'right',\n",
        " 'Guardian': 'left-center',\n",
        " 'NPR': 'center',\n",
        " 'National Review': 'right',\n",
        " 'New York Post': 'right',\n",
        " 'New York Times': 'left-center',\n",
        " 'Reuters': 'center',\n",
        " 'Talking Points Memo': 'left-center',\n",
        " 'Vox': 'left',\n",
        " 'Washington Post': 'left-center'}"
      ],
      "execution_count": 0,
      "outputs": []
    },
    {
      "cell_type": "code",
      "metadata": {
        "id": "Dv59UweHkrBx",
        "colab_type": "code",
        "colab": {}
      },
      "source": [
        "# dataframe with publisher and bias rating\n",
        "pbias_df = pd.DataFrame({'publication':list(publisher_bias.keys()), 'pub_bias':list(publisher_bias.values())})"
      ],
      "execution_count": 0,
      "outputs": []
    },
    {
      "cell_type": "code",
      "metadata": {
        "id": "D3-ljHAoxBe9",
        "colab_type": "code",
        "outputId": "c389538d-3001-4f41-88e8-cc2e5d24759f",
        "colab": {
          "base_uri": "https://localhost:8080/",
          "height": 34
        }
      },
      "source": [
        "# merge full_data with publisher bias\n",
        "full_data = full_data.merge(pbias_df, how=\"inner\", on='publication')\n",
        "\n",
        "full_data.shape"
      ],
      "execution_count": 13,
      "outputs": [
        {
          "output_type": "execute_result",
          "data": {
            "text/plain": [
              "(142570, 11)"
            ]
          },
          "metadata": {
            "tags": []
          },
          "execution_count": 13
        }
      ]
    },
    {
      "cell_type": "code",
      "metadata": {
        "id": "K7tL3c2SxuIz",
        "colab_type": "code",
        "outputId": "aa228813-3cde-4c0f-e68c-a35c0df48b4a",
        "colab": {
          "base_uri": "https://localhost:8080/",
          "height": 306
        }
      },
      "source": [
        "full_data.head()"
      ],
      "execution_count": 14,
      "outputs": [
        {
          "output_type": "execute_result",
          "data": {
            "text/plain": [
              "   Unnamed: 0     id                                              title  \\\n",
              "0           0  17283  House Republicans Fret About Winning Their Hea...   \n",
              "1           1  17284  Rift Between Officers and Residents as Killing...   \n",
              "2           2  17285  Tyrus Wong, ‘Bambi’ Artist Thwarted by Racial ...   \n",
              "3           3  17286  Among Deaths in 2016, a Heavy Toll in Pop Musi...   \n",
              "4           4  17287  Kim Jong-un Says North Korea Is Preparing to T...   \n",
              "\n",
              "      publication                         author        date    year  month  \\\n",
              "0  New York Times                     Carl Hulse  2016-12-31  2016.0   12.0   \n",
              "1  New York Times  Benjamin Mueller and Al Baker  2017-06-19  2017.0    6.0   \n",
              "2  New York Times                   Margalit Fox  2017-01-06  2017.0    1.0   \n",
              "3  New York Times               William McDonald  2017-04-10  2017.0    4.0   \n",
              "4  New York Times                  Choe Sang-Hun  2017-01-02  2017.0    1.0   \n",
              "\n",
              "   url                                            content     pub_bias  \n",
              "0  NaN  WASHINGTON  —   Congressional Republicans have...  left-center  \n",
              "1  NaN  After the bullet shells get counted, the blood...  left-center  \n",
              "2  NaN  When Walt Disney’s “Bambi” opened in 1942, cri...  left-center  \n",
              "3  NaN  Death may be the great equalizer, but it isn’t...  left-center  \n",
              "4  NaN  SEOUL, South Korea  —   North Korea’s leader, ...  left-center  "
            ],
            "text/html": [
              "<div>\n",
              "<style scoped>\n",
              "    .dataframe tbody tr th:only-of-type {\n",
              "        vertical-align: middle;\n",
              "    }\n",
              "\n",
              "    .dataframe tbody tr th {\n",
              "        vertical-align: top;\n",
              "    }\n",
              "\n",
              "    .dataframe thead th {\n",
              "        text-align: right;\n",
              "    }\n",
              "</style>\n",
              "<table border=\"1\" class=\"dataframe\">\n",
              "  <thead>\n",
              "    <tr style=\"text-align: right;\">\n",
              "      <th></th>\n",
              "      <th>Unnamed: 0</th>\n",
              "      <th>id</th>\n",
              "      <th>title</th>\n",
              "      <th>publication</th>\n",
              "      <th>author</th>\n",
              "      <th>date</th>\n",
              "      <th>year</th>\n",
              "      <th>month</th>\n",
              "      <th>url</th>\n",
              "      <th>content</th>\n",
              "      <th>pub_bias</th>\n",
              "    </tr>\n",
              "  </thead>\n",
              "  <tbody>\n",
              "    <tr>\n",
              "      <td>0</td>\n",
              "      <td>0</td>\n",
              "      <td>17283</td>\n",
              "      <td>House Republicans Fret About Winning Their Hea...</td>\n",
              "      <td>New York Times</td>\n",
              "      <td>Carl Hulse</td>\n",
              "      <td>2016-12-31</td>\n",
              "      <td>2016.0</td>\n",
              "      <td>12.0</td>\n",
              "      <td>NaN</td>\n",
              "      <td>WASHINGTON  —   Congressional Republicans have...</td>\n",
              "      <td>left-center</td>\n",
              "    </tr>\n",
              "    <tr>\n",
              "      <td>1</td>\n",
              "      <td>1</td>\n",
              "      <td>17284</td>\n",
              "      <td>Rift Between Officers and Residents as Killing...</td>\n",
              "      <td>New York Times</td>\n",
              "      <td>Benjamin Mueller and Al Baker</td>\n",
              "      <td>2017-06-19</td>\n",
              "      <td>2017.0</td>\n",
              "      <td>6.0</td>\n",
              "      <td>NaN</td>\n",
              "      <td>After the bullet shells get counted, the blood...</td>\n",
              "      <td>left-center</td>\n",
              "    </tr>\n",
              "    <tr>\n",
              "      <td>2</td>\n",
              "      <td>2</td>\n",
              "      <td>17285</td>\n",
              "      <td>Tyrus Wong, ‘Bambi’ Artist Thwarted by Racial ...</td>\n",
              "      <td>New York Times</td>\n",
              "      <td>Margalit Fox</td>\n",
              "      <td>2017-01-06</td>\n",
              "      <td>2017.0</td>\n",
              "      <td>1.0</td>\n",
              "      <td>NaN</td>\n",
              "      <td>When Walt Disney’s “Bambi” opened in 1942, cri...</td>\n",
              "      <td>left-center</td>\n",
              "    </tr>\n",
              "    <tr>\n",
              "      <td>3</td>\n",
              "      <td>3</td>\n",
              "      <td>17286</td>\n",
              "      <td>Among Deaths in 2016, a Heavy Toll in Pop Musi...</td>\n",
              "      <td>New York Times</td>\n",
              "      <td>William McDonald</td>\n",
              "      <td>2017-04-10</td>\n",
              "      <td>2017.0</td>\n",
              "      <td>4.0</td>\n",
              "      <td>NaN</td>\n",
              "      <td>Death may be the great equalizer, but it isn’t...</td>\n",
              "      <td>left-center</td>\n",
              "    </tr>\n",
              "    <tr>\n",
              "      <td>4</td>\n",
              "      <td>4</td>\n",
              "      <td>17287</td>\n",
              "      <td>Kim Jong-un Says North Korea Is Preparing to T...</td>\n",
              "      <td>New York Times</td>\n",
              "      <td>Choe Sang-Hun</td>\n",
              "      <td>2017-01-02</td>\n",
              "      <td>2017.0</td>\n",
              "      <td>1.0</td>\n",
              "      <td>NaN</td>\n",
              "      <td>SEOUL, South Korea  —   North Korea’s leader, ...</td>\n",
              "      <td>left-center</td>\n",
              "    </tr>\n",
              "  </tbody>\n",
              "</table>\n",
              "</div>"
            ]
          },
          "metadata": {
            "tags": []
          },
          "execution_count": 14
        }
      ]
    },
    {
      "cell_type": "markdown",
      "metadata": {
        "id": "ssymhIR0wvp7",
        "colab_type": "text"
      },
      "source": [
        "### Sentiment"
      ]
    },
    {
      "cell_type": "code",
      "metadata": {
        "id": "Aca_I1wWlKed",
        "colab_type": "code",
        "colab": {}
      },
      "source": [
        "# function to return the polarity and subjectivity score of each article ([-1, 1], [0,1])\n",
        "def get_article_sentiment(article): \n",
        "    analysis = TextBlob(article) \n",
        "    return (analysis.sentiment.polarity, analysis.sentiment.subjectivity)"
      ],
      "execution_count": 0,
      "outputs": []
    },
    {
      "cell_type": "code",
      "metadata": {
        "id": "yWb17bXjlVRa",
        "colab_type": "code",
        "colab": {}
      },
      "source": [
        "# use get_article_sentiment to get sentiment score for all the article contents\n",
        "sentiment = full_data.apply(lambda row: get_article_sentiment(row['content']), axis =1)\n",
        "\n",
        "polarity, subjectivity = zip(*sentiment)"
      ],
      "execution_count": 0,
      "outputs": []
    },
    {
      "cell_type": "code",
      "metadata": {
        "id": "fpcQ9Svh1m8b",
        "colab_type": "code",
        "colab": {
          "base_uri": "https://localhost:8080/",
          "height": 34
        },
        "outputId": "21d303d4-f286-40e8-987e-5e2e92e003f3"
      },
      "source": [
        "full_data['polarity'] = polarity\n",
        "full_data['subjectivity'] = subjectivity\n",
        "\n",
        "full_data.shape"
      ],
      "execution_count": 17,
      "outputs": [
        {
          "output_type": "execute_result",
          "data": {
            "text/plain": [
              "(142570, 13)"
            ]
          },
          "metadata": {
            "tags": []
          },
          "execution_count": 17
        }
      ]
    },
    {
      "cell_type": "code",
      "metadata": {
        "id": "cdqPex0l1slL",
        "colab_type": "code",
        "outputId": "e03eb401-c59a-456f-cb4b-b36ae076c8cc",
        "colab": {
          "base_uri": "https://localhost:8080/",
          "height": 357
        }
      },
      "source": [
        "full_data.head()"
      ],
      "execution_count": 18,
      "outputs": [
        {
          "output_type": "execute_result",
          "data": {
            "text/plain": [
              "   Unnamed: 0     id                                              title  \\\n",
              "0           0  17283  House Republicans Fret About Winning Their Hea...   \n",
              "1           1  17284  Rift Between Officers and Residents as Killing...   \n",
              "2           2  17285  Tyrus Wong, ‘Bambi’ Artist Thwarted by Racial ...   \n",
              "3           3  17286  Among Deaths in 2016, a Heavy Toll in Pop Musi...   \n",
              "4           4  17287  Kim Jong-un Says North Korea Is Preparing to T...   \n",
              "\n",
              "      publication                         author        date    year  month  \\\n",
              "0  New York Times                     Carl Hulse  2016-12-31  2016.0   12.0   \n",
              "1  New York Times  Benjamin Mueller and Al Baker  2017-06-19  2017.0    6.0   \n",
              "2  New York Times                   Margalit Fox  2017-01-06  2017.0    1.0   \n",
              "3  New York Times               William McDonald  2017-04-10  2017.0    4.0   \n",
              "4  New York Times                  Choe Sang-Hun  2017-01-02  2017.0    1.0   \n",
              "\n",
              "   url                                            content     pub_bias  \\\n",
              "0  NaN  WASHINGTON  —   Congressional Republicans have...  left-center   \n",
              "1  NaN  After the bullet shells get counted, the blood...  left-center   \n",
              "2  NaN  When Walt Disney’s “Bambi” opened in 1942, cri...  left-center   \n",
              "3  NaN  Death may be the great equalizer, but it isn’t...  left-center   \n",
              "4  NaN  SEOUL, South Korea  —   North Korea’s leader, ...  left-center   \n",
              "\n",
              "   polarity  subjectivity  \n",
              "0  0.028842      0.455535  \n",
              "1 -0.001750      0.391766  \n",
              "2  0.067972      0.436291  \n",
              "3  0.129795      0.435646  \n",
              "4  0.186427      0.519223  "
            ],
            "text/html": [
              "<div>\n",
              "<style scoped>\n",
              "    .dataframe tbody tr th:only-of-type {\n",
              "        vertical-align: middle;\n",
              "    }\n",
              "\n",
              "    .dataframe tbody tr th {\n",
              "        vertical-align: top;\n",
              "    }\n",
              "\n",
              "    .dataframe thead th {\n",
              "        text-align: right;\n",
              "    }\n",
              "</style>\n",
              "<table border=\"1\" class=\"dataframe\">\n",
              "  <thead>\n",
              "    <tr style=\"text-align: right;\">\n",
              "      <th></th>\n",
              "      <th>Unnamed: 0</th>\n",
              "      <th>id</th>\n",
              "      <th>title</th>\n",
              "      <th>publication</th>\n",
              "      <th>author</th>\n",
              "      <th>date</th>\n",
              "      <th>year</th>\n",
              "      <th>month</th>\n",
              "      <th>url</th>\n",
              "      <th>content</th>\n",
              "      <th>pub_bias</th>\n",
              "      <th>polarity</th>\n",
              "      <th>subjectivity</th>\n",
              "    </tr>\n",
              "  </thead>\n",
              "  <tbody>\n",
              "    <tr>\n",
              "      <td>0</td>\n",
              "      <td>0</td>\n",
              "      <td>17283</td>\n",
              "      <td>House Republicans Fret About Winning Their Hea...</td>\n",
              "      <td>New York Times</td>\n",
              "      <td>Carl Hulse</td>\n",
              "      <td>2016-12-31</td>\n",
              "      <td>2016.0</td>\n",
              "      <td>12.0</td>\n",
              "      <td>NaN</td>\n",
              "      <td>WASHINGTON  —   Congressional Republicans have...</td>\n",
              "      <td>left-center</td>\n",
              "      <td>0.028842</td>\n",
              "      <td>0.455535</td>\n",
              "    </tr>\n",
              "    <tr>\n",
              "      <td>1</td>\n",
              "      <td>1</td>\n",
              "      <td>17284</td>\n",
              "      <td>Rift Between Officers and Residents as Killing...</td>\n",
              "      <td>New York Times</td>\n",
              "      <td>Benjamin Mueller and Al Baker</td>\n",
              "      <td>2017-06-19</td>\n",
              "      <td>2017.0</td>\n",
              "      <td>6.0</td>\n",
              "      <td>NaN</td>\n",
              "      <td>After the bullet shells get counted, the blood...</td>\n",
              "      <td>left-center</td>\n",
              "      <td>-0.001750</td>\n",
              "      <td>0.391766</td>\n",
              "    </tr>\n",
              "    <tr>\n",
              "      <td>2</td>\n",
              "      <td>2</td>\n",
              "      <td>17285</td>\n",
              "      <td>Tyrus Wong, ‘Bambi’ Artist Thwarted by Racial ...</td>\n",
              "      <td>New York Times</td>\n",
              "      <td>Margalit Fox</td>\n",
              "      <td>2017-01-06</td>\n",
              "      <td>2017.0</td>\n",
              "      <td>1.0</td>\n",
              "      <td>NaN</td>\n",
              "      <td>When Walt Disney’s “Bambi” opened in 1942, cri...</td>\n",
              "      <td>left-center</td>\n",
              "      <td>0.067972</td>\n",
              "      <td>0.436291</td>\n",
              "    </tr>\n",
              "    <tr>\n",
              "      <td>3</td>\n",
              "      <td>3</td>\n",
              "      <td>17286</td>\n",
              "      <td>Among Deaths in 2016, a Heavy Toll in Pop Musi...</td>\n",
              "      <td>New York Times</td>\n",
              "      <td>William McDonald</td>\n",
              "      <td>2017-04-10</td>\n",
              "      <td>2017.0</td>\n",
              "      <td>4.0</td>\n",
              "      <td>NaN</td>\n",
              "      <td>Death may be the great equalizer, but it isn’t...</td>\n",
              "      <td>left-center</td>\n",
              "      <td>0.129795</td>\n",
              "      <td>0.435646</td>\n",
              "    </tr>\n",
              "    <tr>\n",
              "      <td>4</td>\n",
              "      <td>4</td>\n",
              "      <td>17287</td>\n",
              "      <td>Kim Jong-un Says North Korea Is Preparing to T...</td>\n",
              "      <td>New York Times</td>\n",
              "      <td>Choe Sang-Hun</td>\n",
              "      <td>2017-01-02</td>\n",
              "      <td>2017.0</td>\n",
              "      <td>1.0</td>\n",
              "      <td>NaN</td>\n",
              "      <td>SEOUL, South Korea  —   North Korea’s leader, ...</td>\n",
              "      <td>left-center</td>\n",
              "      <td>0.186427</td>\n",
              "      <td>0.519223</td>\n",
              "    </tr>\n",
              "  </tbody>\n",
              "</table>\n",
              "</div>"
            ]
          },
          "metadata": {
            "tags": []
          },
          "execution_count": 18
        }
      ]
    },
    {
      "cell_type": "markdown",
      "metadata": {
        "id": "5zTeEGpaLIA8",
        "colab_type": "text"
      },
      "source": [
        "### Topic Frequency"
      ]
    },
    {
      "cell_type": "code",
      "metadata": {
        "id": "9wODdf6fMh6y",
        "colab_type": "code",
        "colab": {}
      },
      "source": [
        "# topic frequencies and proportions from each publisher \n",
        "\n",
        "pub_topic_freq = {'Atlantic':[],\n",
        "                    'Breitbart':[],\n",
        "                    'Business Insider':[],\n",
        "                    'Buzzfeed News':[],\n",
        "                    'CNN':[],\n",
        "                    'Fox News':[],\n",
        "                    'Guardian':[],\n",
        "                    'NPR':[],\n",
        "                    'National Review':[],\n",
        "                    'New York Post':[],\n",
        "                    'New York Times':[],\n",
        "                    'Reuters':[],\n",
        "                    'Talking Points Memo':[],\n",
        "                    'Vox':[],\n",
        "                    'Washington Post':[]}\n",
        "\n",
        "\n",
        "for pub in pub_topic_freq.keys():\n",
        "  pub_content = full_data.content[full_data.publication == pub]\n",
        "  topic_freq = {'russia': {}, 'hillary clinton': {}, 'benghazi': {}, 'bernie sanders': {}, 'immigration': {}, 'trump': {}}\n",
        "  for topic in topic_freq.keys():\n",
        "    freq = sum([topic in content.lower() for content in pub_content])\n",
        "    topic_freq[topic]['freq'] = freq \n",
        "    topic_freq[topic]['prop'] = freq/len(pub_content) \n",
        "  pub_topic_freq[pub] = topic_freq # number and proportion of articles from publisher that mention topic"
      ],
      "execution_count": 0,
      "outputs": []
    },
    {
      "cell_type": "code",
      "metadata": {
        "id": "qJjt2WKrYp6R",
        "colab_type": "code",
        "colab": {}
      },
      "source": [
        "# create dataframe with topic frequencies and proportions for each publisher \n",
        "\n",
        "pubs = [[pub]*len(pub_topic_freq[pub]) for pub in pub_topic_freq.keys()]\n",
        "publication = [j for i in pubs for j in i]\n",
        "\n",
        "topic = list(topic_freq.keys())*len(pub_topic_freq.keys())\n",
        "\n",
        "freqs = [[pub_topic_freq[pub][topic]['freq'] for topic in topic_freq.keys()] for pub in pub_topic_freq.keys()]\n",
        "frequency = [j for i in freqs for j in i]\n",
        "\n",
        "props = [[pub_topic_freq[pub][topic]['prop'] for topic in topic_freq.keys()] for pub in pub_topic_freq.keys()]\n",
        "proportion = [j for i in props for j in i]\n",
        "\n",
        "pub_topic_freq_df = pd.DataFrame({'publication':publication, 'topic': topic, 'frequency': frequency, 'proportion': proportion})"
      ],
      "execution_count": 0,
      "outputs": []
    },
    {
      "cell_type": "code",
      "metadata": {
        "id": "RtmkltAJee3Q",
        "colab_type": "code",
        "outputId": "76faaa09-0689-4aa2-ea04-32098f47a70e",
        "colab": {
          "base_uri": "https://localhost:8080/",
          "height": 204
        }
      },
      "source": [
        "pub_topic_freq_df.head()"
      ],
      "execution_count": 21,
      "outputs": [
        {
          "output_type": "execute_result",
          "data": {
            "text/plain": [
              "  publication            topic  frequency  proportion\n",
              "0    Atlantic           russia        969    0.134977\n",
              "1    Atlantic  hillary clinton       1367    0.190416\n",
              "2    Atlantic         benghazi         99    0.013790\n",
              "3    Atlantic   bernie sanders        465    0.064772\n",
              "4    Atlantic      immigration        769    0.107118"
            ],
            "text/html": [
              "<div>\n",
              "<style scoped>\n",
              "    .dataframe tbody tr th:only-of-type {\n",
              "        vertical-align: middle;\n",
              "    }\n",
              "\n",
              "    .dataframe tbody tr th {\n",
              "        vertical-align: top;\n",
              "    }\n",
              "\n",
              "    .dataframe thead th {\n",
              "        text-align: right;\n",
              "    }\n",
              "</style>\n",
              "<table border=\"1\" class=\"dataframe\">\n",
              "  <thead>\n",
              "    <tr style=\"text-align: right;\">\n",
              "      <th></th>\n",
              "      <th>publication</th>\n",
              "      <th>topic</th>\n",
              "      <th>frequency</th>\n",
              "      <th>proportion</th>\n",
              "    </tr>\n",
              "  </thead>\n",
              "  <tbody>\n",
              "    <tr>\n",
              "      <td>0</td>\n",
              "      <td>Atlantic</td>\n",
              "      <td>russia</td>\n",
              "      <td>969</td>\n",
              "      <td>0.134977</td>\n",
              "    </tr>\n",
              "    <tr>\n",
              "      <td>1</td>\n",
              "      <td>Atlantic</td>\n",
              "      <td>hillary clinton</td>\n",
              "      <td>1367</td>\n",
              "      <td>0.190416</td>\n",
              "    </tr>\n",
              "    <tr>\n",
              "      <td>2</td>\n",
              "      <td>Atlantic</td>\n",
              "      <td>benghazi</td>\n",
              "      <td>99</td>\n",
              "      <td>0.013790</td>\n",
              "    </tr>\n",
              "    <tr>\n",
              "      <td>3</td>\n",
              "      <td>Atlantic</td>\n",
              "      <td>bernie sanders</td>\n",
              "      <td>465</td>\n",
              "      <td>0.064772</td>\n",
              "    </tr>\n",
              "    <tr>\n",
              "      <td>4</td>\n",
              "      <td>Atlantic</td>\n",
              "      <td>immigration</td>\n",
              "      <td>769</td>\n",
              "      <td>0.107118</td>\n",
              "    </tr>\n",
              "  </tbody>\n",
              "</table>\n",
              "</div>"
            ]
          },
          "metadata": {
            "tags": []
          },
          "execution_count": 21
        }
      ]
    },
    {
      "cell_type": "markdown",
      "metadata": {
        "id": "94UktIpiK-UP",
        "colab_type": "text"
      },
      "source": [
        "### Visualizations "
      ]
    },
    {
      "cell_type": "markdown",
      "metadata": {
        "id": "ywSq5rDwra8X",
        "colab_type": "text"
      },
      "source": [
        "#### Frequencies and Porportion of Topics"
      ]
    },
    {
      "cell_type": "code",
      "metadata": {
        "id": "y7lQgBdjirjN",
        "colab_type": "code",
        "outputId": "e738ed29-498b-4596-f196-da506cee577b",
        "colab": {
          "base_uri": "https://localhost:8080/",
          "height": 605
        }
      },
      "source": [
        "# frequency of topics \n",
        "pub_topic_freq_plt = sns.catplot(y='frequency', x='topic', hue='publication', data=pub_topic_freq_df, kind=\"bar\", height=8.27, aspect=11.7/8.27).fig.suptitle('Frequency of Topics among Publications')\n"
      ],
      "execution_count": 22,
      "outputs": [
        {
          "output_type": "display_data",
          "data": {
            "text/plain": [
              "<Figure size 981.759x595.44 with 1 Axes>"
            ],
            "image/png": "[encoded data removed]"
          },
          "metadata": {
            "tags": [],
            "needs_background": "light"
          }
        }
      ]
    },
    {
      "cell_type": "code",
      "metadata": {
        "id": "n_ZpuXTTm_Ju",
        "colab_type": "code",
        "outputId": "147b14b6-1d3e-4af0-d7ca-3c5609324056",
        "colab": {
          "base_uri": "https://localhost:8080/",
          "height": 605
        }
      },
      "source": [
        "# proportion of topics \n",
        "pub_topic_prop_plt = sns.catplot(y='proportion', x='topic', hue='publication', data=pub_topic_freq_df, kind=\"bar\", height=8.27, aspect=11.7/8.27).fig.suptitle('Proportion of Topics among Publications')\n"
      ],
      "execution_count": 23,
      "outputs": [
        {
          "output_type": "display_data",
          "data": {
            "text/plain": [
              "<Figure size 981.759x595.44 with 1 Axes>"
            ],
            "image/png": "[encoded data removed]"
          },
          "metadata": {
            "tags": [],
            "needs_background": "light"
          }
        }
      ]
    },
    {
      "cell_type": "markdown",
      "metadata": {
        "id": "_I2XAUyhrjBZ",
        "colab_type": "text"
      },
      "source": [
        "#### Sentiment of Articles"
      ]
    },
    {
      "cell_type": "code",
      "metadata": {
        "id": "PDNq8VHQpVd_",
        "colab_type": "code",
        "outputId": "4be15d6a-6419-4496-cb48-847913682cb3",
        "colab": {
          "base_uri": "https://localhost:8080/",
          "height": 628
        }
      },
      "source": [
        "# distribution of polarity of publishers \n",
        "pub_polarity_plt = sns.boxplot(x='publication', y='polarity', data=full_data)\n",
        "pub_polarity_plt.set_xticklabels(pub_polarity_plt.get_xticklabels(), rotation=90)"
      ],
      "execution_count": 24,
      "outputs": [
        {
          "output_type": "execute_result",
          "data": {
            "text/plain": [
              "[Text(0, 0, 'New York Times'),\n",
              " Text(0, 0, 'Breitbart'),\n",
              " Text(0, 0, 'CNN'),\n",
              " Text(0, 0, 'Business Insider'),\n",
              " Text(0, 0, 'Atlantic'),\n",
              " Text(0, 0, 'Fox News'),\n",
              " Text(0, 0, 'Talking Points Memo'),\n",
              " Text(0, 0, 'Buzzfeed News'),\n",
              " Text(0, 0, 'National Review'),\n",
              " Text(0, 0, 'New York Post'),\n",
              " Text(0, 0, 'Guardian'),\n",
              " Text(0, 0, 'NPR'),\n",
              " Text(0, 0, 'Reuters'),\n",
              " Text(0, 0, 'Vox'),\n",
              " Text(0, 0, 'Washington Post')]"
            ]
          },
          "metadata": {
            "tags": []
          },
          "execution_count": 24
        },
        {
          "output_type": "display_data",
          "data": {
            "text/plain": [
              "<Figure size 432x288 with 1 Axes>"
            ],
            "image/png": "[encoded data removed]"
          },
          "metadata": {
            "tags": [],
            "needs_background": "light"
          }
        }
      ]
    },
    {
      "cell_type": "code",
      "metadata": {
        "id": "y-hFKK6zIcWt",
        "colab_type": "code",
        "outputId": "212c3005-25af-485e-aca3-ff72b34094da",
        "colab": {
          "base_uri": "https://localhost:8080/",
          "height": 393
        }
      },
      "source": [
        "# average polarity of publishers\n",
        "\n",
        "pub_avg_polarity = full_data.groupby('publication').mean().polarity\n",
        "avg_polarity_df = pd.DataFrame(pub_avg_polarity).sort_values('polarity', ascending=False)\n",
        "\n",
        "plt.bar(avg_polarity_df.index.values, avg_polarity_df.values.reshape([1,-1])[0])\n",
        "plt.xticks(rotation='vertical')"
      ],
      "execution_count": 25,
      "outputs": [
        {
          "output_type": "execute_result",
          "data": {
            "text/plain": [
              "([0, 1, 2, 3, 4, 5, 6, 7, 8, 9, 10, 11, 12, 13, 14],\n",
              " <a list of 15 Text xticklabel objects>)"
            ]
          },
          "metadata": {
            "tags": []
          },
          "execution_count": 25
        },
        {
          "output_type": "display_data",
          "data": {
            "text/plain": [
              "<Figure size 432x288 with 1 Axes>"
            ],
            "image/png": "[encoded data removed]"
          },
          "metadata": {
            "tags": [],
            "needs_background": "light"
          }
        }
      ]
    },
    {
      "cell_type": "code",
      "metadata": {
        "id": "Wh233Y7brI2Z",
        "colab_type": "code",
        "outputId": "b70fb8df-990e-4d7e-e7d6-aed22dd91cf8",
        "colab": {
          "base_uri": "https://localhost:8080/",
          "height": 628
        }
      },
      "source": [
        "# distribution of subjectivity of publishers \n",
        "pub_subject_plt = sns.boxplot(x='publication', y='subjectivity', data=full_data)\n",
        "pub_subject_plt.set_xticklabels(pub_subject_plt.get_xticklabels(), rotation=90)"
      ],
      "execution_count": 26,
      "outputs": [
        {
          "output_type": "execute_result",
          "data": {
            "text/plain": [
              "[Text(0, 0, 'New York Times'),\n",
              " Text(0, 0, 'Breitbart'),\n",
              " Text(0, 0, 'CNN'),\n",
              " Text(0, 0, 'Business Insider'),\n",
              " Text(0, 0, 'Atlantic'),\n",
              " Text(0, 0, 'Fox News'),\n",
              " Text(0, 0, 'Talking Points Memo'),\n",
              " Text(0, 0, 'Buzzfeed News'),\n",
              " Text(0, 0, 'National Review'),\n",
              " Text(0, 0, 'New York Post'),\n",
              " Text(0, 0, 'Guardian'),\n",
              " Text(0, 0, 'NPR'),\n",
              " Text(0, 0, 'Reuters'),\n",
              " Text(0, 0, 'Vox'),\n",
              " Text(0, 0, 'Washington Post')]"
            ]
          },
          "metadata": {
            "tags": []
          },
          "execution_count": 26
        },
        {
          "output_type": "display_data",
          "data": {
            "text/plain": [
              "<Figure size 432x288 with 1 Axes>"
            ],
            "image/png": "[encoded data removed]"
          },
          "metadata": {
            "tags": [],
            "needs_background": "light"
          }
        }
      ]
    },
    {
      "cell_type": "code",
      "metadata": {
        "id": "t62DaVByJwg5",
        "colab_type": "code",
        "outputId": "05c01d73-9017-4d54-a6e5-85c32daeab14",
        "colab": {
          "base_uri": "https://localhost:8080/",
          "height": 393
        }
      },
      "source": [
        "# average subjectivity of publishers\n",
        "\n",
        "pub_avg_subject = full_data.groupby('publication').mean().subjectivity\n",
        "avg_subject_df = pd.DataFrame(pub_avg_subject).sort_values('subjectivity', ascending=False)\n",
        "\n",
        "plt.bar(avg_subject_df.index.values, avg_subject_df.values.reshape([1,-1])[0])\n",
        "plt.xticks(rotation='vertical')"
      ],
      "execution_count": 27,
      "outputs": [
        {
          "output_type": "execute_result",
          "data": {
            "text/plain": [
              "([0, 1, 2, 3, 4, 5, 6, 7, 8, 9, 10, 11, 12, 13, 14],\n",
              " <a list of 15 Text xticklabel objects>)"
            ]
          },
          "metadata": {
            "tags": []
          },
          "execution_count": 27
        },
        {
          "output_type": "display_data",
          "data": {
            "text/plain": [
              "<Figure size 432x288 with 1 Axes>"
            ],
            "image/png": "[encoded data removed]"
          },
          "metadata": {
            "tags": [],
            "needs_background": "light"
          }
        }
      ]
    },
    {
      "cell_type": "markdown",
      "metadata": {
        "id": "zYk2V_dptlJT",
        "colab_type": "text"
      },
      "source": [
        "### Filter for Unbiased Articles"
      ]
    },
    {
      "cell_type": "code",
      "metadata": {
        "id": "-27FA1petzqZ",
        "colab_type": "code",
        "colab": {
          "base_uri": "https://localhost:8080/",
          "height": 34
        },
        "outputId": "85d2fc1e-0a53-4384-b344-4a3e557418d0"
      },
      "source": [
        "# remove left or right publications \n",
        "filter_data = full_data[[bias not in ['left', 'right'] for bias in full_data.pub_bias]]\n",
        "\n",
        "# keep articles with -0.5< polarity <0.5 \n",
        "filter_data = filter_data[[(polarity>-0.5) and (polarity<0.5) for polarity in filter_data.polarity]]\n",
        "\n",
        "# keep articles with subjectivity <0.75\n",
        "filter_data = filter_data[[subj<0.75 for subj in filter_data.subjectivity]]\n",
        "\n",
        "filter_data.shape"
      ],
      "execution_count": 28,
      "outputs": [
        {
          "output_type": "execute_result",
          "data": {
            "text/plain": [
              "(80687, 13)"
            ]
          },
          "metadata": {
            "tags": []
          },
          "execution_count": 28
        }
      ]
    },
    {
      "cell_type": "code",
      "metadata": {
        "id": "cFU7y_-W4ZhY",
        "colab_type": "code",
        "colab": {
          "base_uri": "https://localhost:8080/",
          "height": 357
        },
        "outputId": "437ad24e-ffff-4ce7-9ef2-6b19777b4a8d"
      },
      "source": [
        "filter_data.head()"
      ],
      "execution_count": 29,
      "outputs": [
        {
          "output_type": "execute_result",
          "data": {
            "text/plain": [
              "   Unnamed: 0     id                                              title  \\\n",
              "0           0  17283  House Republicans Fret About Winning Their Hea...   \n",
              "1           1  17284  Rift Between Officers and Residents as Killing...   \n",
              "2           2  17285  Tyrus Wong, ‘Bambi’ Artist Thwarted by Racial ...   \n",
              "3           3  17286  Among Deaths in 2016, a Heavy Toll in Pop Musi...   \n",
              "4           4  17287  Kim Jong-un Says North Korea Is Preparing to T...   \n",
              "\n",
              "      publication                         author        date    year  month  \\\n",
              "0  New York Times                     Carl Hulse  2016-12-31  2016.0   12.0   \n",
              "1  New York Times  Benjamin Mueller and Al Baker  2017-06-19  2017.0    6.0   \n",
              "2  New York Times                   Margalit Fox  2017-01-06  2017.0    1.0   \n",
              "3  New York Times               William McDonald  2017-04-10  2017.0    4.0   \n",
              "4  New York Times                  Choe Sang-Hun  2017-01-02  2017.0    1.0   \n",
              "\n",
              "   url                                            content     pub_bias  \\\n",
              "0  NaN  WASHINGTON  —   Congressional Republicans have...  left-center   \n",
              "1  NaN  After the bullet shells get counted, the blood...  left-center   \n",
              "2  NaN  When Walt Disney’s “Bambi” opened in 1942, cri...  left-center   \n",
              "3  NaN  Death may be the great equalizer, but it isn’t...  left-center   \n",
              "4  NaN  SEOUL, South Korea  —   North Korea’s leader, ...  left-center   \n",
              "\n",
              "   polarity  subjectivity  \n",
              "0  0.028842      0.455535  \n",
              "1 -0.001750      0.391766  \n",
              "2  0.067972      0.436291  \n",
              "3  0.129795      0.435646  \n",
              "4  0.186427      0.519223  "
            ],
            "text/html": [
              "<div>\n",
              "<style scoped>\n",
              "    .dataframe tbody tr th:only-of-type {\n",
              "        vertical-align: middle;\n",
              "    }\n",
              "\n",
              "    .dataframe tbody tr th {\n",
              "        vertical-align: top;\n",
              "    }\n",
              "\n",
              "    .dataframe thead th {\n",
              "        text-align: right;\n",
              "    }\n",
              "</style>\n",
              "<table border=\"1\" class=\"dataframe\">\n",
              "  <thead>\n",
              "    <tr style=\"text-align: right;\">\n",
              "      <th></th>\n",
              "      <th>Unnamed: 0</th>\n",
              "      <th>id</th>\n",
              "      <th>title</th>\n",
              "      <th>publication</th>\n",
              "      <th>author</th>\n",
              "      <th>date</th>\n",
              "      <th>year</th>\n",
              "      <th>month</th>\n",
              "      <th>url</th>\n",
              "      <th>content</th>\n",
              "      <th>pub_bias</th>\n",
              "      <th>polarity</th>\n",
              "      <th>subjectivity</th>\n",
              "    </tr>\n",
              "  </thead>\n",
              "  <tbody>\n",
              "    <tr>\n",
              "      <td>0</td>\n",
              "      <td>0</td>\n",
              "      <td>17283</td>\n",
              "      <td>House Republicans Fret About Winning Their Hea...</td>\n",
              "      <td>New York Times</td>\n",
              "      <td>Carl Hulse</td>\n",
              "      <td>2016-12-31</td>\n",
              "      <td>2016.0</td>\n",
              "      <td>12.0</td>\n",
              "      <td>NaN</td>\n",
              "      <td>WASHINGTON  —   Congressional Republicans have...</td>\n",
              "      <td>left-center</td>\n",
              "      <td>0.028842</td>\n",
              "      <td>0.455535</td>\n",
              "    </tr>\n",
              "    <tr>\n",
              "      <td>1</td>\n",
              "      <td>1</td>\n",
              "      <td>17284</td>\n",
              "      <td>Rift Between Officers and Residents as Killing...</td>\n",
              "      <td>New York Times</td>\n",
              "      <td>Benjamin Mueller and Al Baker</td>\n",
              "      <td>2017-06-19</td>\n",
              "      <td>2017.0</td>\n",
              "      <td>6.0</td>\n",
              "      <td>NaN</td>\n",
              "      <td>After the bullet shells get counted, the blood...</td>\n",
              "      <td>left-center</td>\n",
              "      <td>-0.001750</td>\n",
              "      <td>0.391766</td>\n",
              "    </tr>\n",
              "    <tr>\n",
              "      <td>2</td>\n",
              "      <td>2</td>\n",
              "      <td>17285</td>\n",
              "      <td>Tyrus Wong, ‘Bambi’ Artist Thwarted by Racial ...</td>\n",
              "      <td>New York Times</td>\n",
              "      <td>Margalit Fox</td>\n",
              "      <td>2017-01-06</td>\n",
              "      <td>2017.0</td>\n",
              "      <td>1.0</td>\n",
              "      <td>NaN</td>\n",
              "      <td>When Walt Disney’s “Bambi” opened in 1942, cri...</td>\n",
              "      <td>left-center</td>\n",
              "      <td>0.067972</td>\n",
              "      <td>0.436291</td>\n",
              "    </tr>\n",
              "    <tr>\n",
              "      <td>3</td>\n",
              "      <td>3</td>\n",
              "      <td>17286</td>\n",
              "      <td>Among Deaths in 2016, a Heavy Toll in Pop Musi...</td>\n",
              "      <td>New York Times</td>\n",
              "      <td>William McDonald</td>\n",
              "      <td>2017-04-10</td>\n",
              "      <td>2017.0</td>\n",
              "      <td>4.0</td>\n",
              "      <td>NaN</td>\n",
              "      <td>Death may be the great equalizer, but it isn’t...</td>\n",
              "      <td>left-center</td>\n",
              "      <td>0.129795</td>\n",
              "      <td>0.435646</td>\n",
              "    </tr>\n",
              "    <tr>\n",
              "      <td>4</td>\n",
              "      <td>4</td>\n",
              "      <td>17287</td>\n",
              "      <td>Kim Jong-un Says North Korea Is Preparing to T...</td>\n",
              "      <td>New York Times</td>\n",
              "      <td>Choe Sang-Hun</td>\n",
              "      <td>2017-01-02</td>\n",
              "      <td>2017.0</td>\n",
              "      <td>1.0</td>\n",
              "      <td>NaN</td>\n",
              "      <td>SEOUL, South Korea  —   North Korea’s leader, ...</td>\n",
              "      <td>left-center</td>\n",
              "      <td>0.186427</td>\n",
              "      <td>0.519223</td>\n",
              "    </tr>\n",
              "  </tbody>\n",
              "</table>\n",
              "</div>"
            ]
          },
          "metadata": {
            "tags": []
          },
          "execution_count": 29
        }
      ]
    },
    {
      "cell_type": "markdown",
      "metadata": {
        "id": "cbUWiCwUKtai",
        "colab_type": "text"
      },
      "source": [
        "## Clean Data \n",
        "\n",
        "\n",
        "\n",
        "*   remove duplicates and missing titles \n",
        "*   sample/import 200 for model evaluation  \n",
        "*   sample 13k for training \n",
        "*   remove publisher tags from titles \n",
        "*   remove publisher tags from titles \n",
        "\n"
      ]
    },
    {
      "cell_type": "code",
      "metadata": {
        "id": "nmJnsuqjJqZz",
        "colab_type": "code",
        "colab": {}
      },
      "source": [
        "# remove duplicates from full\n",
        "full_data = full_data.drop_duplicates(subset=['title', 'publication', 'author', 'date'])\n",
        "\n",
        "# remove duplicates from filter\n",
        "filter_data = filter_data.drop_duplicates(subset=['title', 'publication', 'author', 'date'])"
      ],
      "execution_count": 0,
      "outputs": []
    },
    {
      "cell_type": "code",
      "metadata": {
        "id": "LeMrKUMfJqZU",
        "colab_type": "code",
        "colab": {}
      },
      "source": [
        "# remove missing titles from full\n",
        "full_data = full_data.dropna(subset=['title'])\n",
        "\n",
        "# remove missing titles from filter\n",
        "filter_data = filter_data.dropna(subset=['title'])"
      ],
      "execution_count": 0,
      "outputs": []
    },
    {
      "cell_type": "code",
      "metadata": {
        "id": "GwYUjvyDKmtD",
        "colab_type": "code",
        "outputId": "49c36af2-e3ab-44ee-e2d5-019ed75e9e33",
        "colab": {
          "base_uri": "https://localhost:8080/",
          "height": 272
        }
      },
      "source": [
        "## sample 200 observations from full_data (set seed to 5) for evaluation \n",
        "#sample200 = full_data.sample(n=200, random_state=5).reset_index()\n",
        "#sample200.to_csv('news_filter/data/sample200', index=False) # annotate cluster labels \n",
        "\n",
        "# import annotated evaluation data \n",
        "eval_data = pd.read_csv('news_filter/data/sample200.csv')\n",
        "set(eval_data.publication)"
      ],
      "execution_count": 32,
      "outputs": [
        {
          "output_type": "execute_result",
          "data": {
            "text/plain": [
              "{'Atlantic',\n",
              " 'Breitbart',\n",
              " 'Business Insider',\n",
              " 'Buzzfeed News',\n",
              " 'CNN',\n",
              " 'Fox News',\n",
              " 'Guardian',\n",
              " 'NPR',\n",
              " 'National Review',\n",
              " 'New York Post',\n",
              " 'New York Times',\n",
              " 'Reuters',\n",
              " 'Talking Points Memo',\n",
              " 'Vox',\n",
              " 'Washington Post'}"
            ]
          },
          "metadata": {
            "tags": []
          },
          "execution_count": 32
        }
      ]
    },
    {
      "cell_type": "code",
      "metadata": {
        "id": "J1ENMLHnQde5",
        "colab_type": "code",
        "outputId": "2c760551-928a-4b70-9dd8-cfab0d544a11",
        "colab": {
          "base_uri": "https://localhost:8080/",
          "height": 34
        }
      },
      "source": [
        "eval_data.shape"
      ],
      "execution_count": 33,
      "outputs": [
        {
          "output_type": "execute_result",
          "data": {
            "text/plain": [
              "(200, 12)"
            ]
          },
          "metadata": {
            "tags": []
          },
          "execution_count": 33
        }
      ]
    },
    {
      "cell_type": "code",
      "metadata": {
        "id": "XvAFqJ7TQd7d",
        "colab_type": "code",
        "outputId": "16f90d3c-507b-4a23-bd9a-311a548274a9",
        "colab": {
          "base_uri": "https://localhost:8080/",
          "height": 493
        }
      },
      "source": [
        "eval_data.head()"
      ],
      "execution_count": 34,
      "outputs": [
        {
          "output_type": "execute_result",
          "data": {
            "text/plain": [
              "    index  Unnamed: 0      id  \\\n",
              "0   74496       77946  118473   \n",
              "1   71184       74592  113594   \n",
              "2  120205      123668  184574   \n",
              "3  128977      132440  199665   \n",
              "4  134837      138300  208223   \n",
              "\n",
              "                                               title      publication  \\\n",
              "0  Chaos in the Family, Chaos in the State: The W...  National Review   \n",
              "1  US Civil Rights Commission Will Observe Standi...    Buzzfeed News   \n",
              "2  Venezuela hunts rogue helicopter attackers, Ma...          Reuters   \n",
              "3  Fruit juice isn’t much better for you than sod...              Vox   \n",
              "4  Sessions won’t testify at congressional budget...  Washington Post   \n",
              "\n",
              "                                  author        date    year  month  \\\n",
              "0                    Kevin D. Williamson  2016-03-17  2016.0    3.0   \n",
              "1                       Nidhi Subbaraman  2016-12-08  2016.0   12.0   \n",
              "2  Andrew Cawthorne and Victoria Ramirez  2017-06-29  2017.0    6.0   \n",
              "3                           Julia Belluz   2016/3/25  2016.0    3.0   \n",
              "4                           Sari Horwitz  2017-06-10  2017.0    6.0   \n",
              "\n",
              "                                                 url  \\\n",
              "0  http://www.nationalreview.com/article/432876/d...   \n",
              "1  https://web.archive.org/web/20161208153906/htt...   \n",
              "2  http://www.reuters.com/article/us-venezuela-po...   \n",
              "3  http://www.vox.com/2016/3/25/11305614/soda-jui...   \n",
              "4  https://web.archive.org/web/20170611000758/htt...   \n",
              "\n",
              "                                             content  label  \n",
              "0  Michael Brendan Dougherty is bitter. I think t...      0  \n",
              "1   WASHINGTON  —   The US Commission on Civil Ri...      0  \n",
              "2   The Venezuelan government hunted on Wednesday...      0  \n",
              "3   One of the biggest public health wins of rece...      0  \n",
              "4   Attorney General Jeff Sessions, who had agree...      1  "
            ],
            "text/html": [
              "<div>\n",
              "<style scoped>\n",
              "    .dataframe tbody tr th:only-of-type {\n",
              "        vertical-align: middle;\n",
              "    }\n",
              "\n",
              "    .dataframe tbody tr th {\n",
              "        vertical-align: top;\n",
              "    }\n",
              "\n",
              "    .dataframe thead th {\n",
              "        text-align: right;\n",
              "    }\n",
              "</style>\n",
              "<table border=\"1\" class=\"dataframe\">\n",
              "  <thead>\n",
              "    <tr style=\"text-align: right;\">\n",
              "      <th></th>\n",
              "      <th>index</th>\n",
              "      <th>Unnamed: 0</th>\n",
              "      <th>id</th>\n",
              "      <th>title</th>\n",
              "      <th>publication</th>\n",
              "      <th>author</th>\n",
              "      <th>date</th>\n",
              "      <th>year</th>\n",
              "      <th>month</th>\n",
              "      <th>url</th>\n",
              "      <th>content</th>\n",
              "      <th>label</th>\n",
              "    </tr>\n",
              "  </thead>\n",
              "  <tbody>\n",
              "    <tr>\n",
              "      <td>0</td>\n",
              "      <td>74496</td>\n",
              "      <td>77946</td>\n",
              "      <td>118473</td>\n",
              "      <td>Chaos in the Family, Chaos in the State: The W...</td>\n",
              "      <td>National Review</td>\n",
              "      <td>Kevin D. Williamson</td>\n",
              "      <td>2016-03-17</td>\n",
              "      <td>2016.0</td>\n",
              "      <td>3.0</td>\n",
              "      <td>http://www.nationalreview.com/article/432876/d...</td>\n",
              "      <td>Michael Brendan Dougherty is bitter. I think t...</td>\n",
              "      <td>0</td>\n",
              "    </tr>\n",
              "    <tr>\n",
              "      <td>1</td>\n",
              "      <td>71184</td>\n",
              "      <td>74592</td>\n",
              "      <td>113594</td>\n",
              "      <td>US Civil Rights Commission Will Observe Standi...</td>\n",
              "      <td>Buzzfeed News</td>\n",
              "      <td>Nidhi Subbaraman</td>\n",
              "      <td>2016-12-08</td>\n",
              "      <td>2016.0</td>\n",
              "      <td>12.0</td>\n",
              "      <td>https://web.archive.org/web/20161208153906/htt...</td>\n",
              "      <td>WASHINGTON  —   The US Commission on Civil Ri...</td>\n",
              "      <td>0</td>\n",
              "    </tr>\n",
              "    <tr>\n",
              "      <td>2</td>\n",
              "      <td>120205</td>\n",
              "      <td>123668</td>\n",
              "      <td>184574</td>\n",
              "      <td>Venezuela hunts rogue helicopter attackers, Ma...</td>\n",
              "      <td>Reuters</td>\n",
              "      <td>Andrew Cawthorne and Victoria Ramirez</td>\n",
              "      <td>2017-06-29</td>\n",
              "      <td>2017.0</td>\n",
              "      <td>6.0</td>\n",
              "      <td>http://www.reuters.com/article/us-venezuela-po...</td>\n",
              "      <td>The Venezuelan government hunted on Wednesday...</td>\n",
              "      <td>0</td>\n",
              "    </tr>\n",
              "    <tr>\n",
              "      <td>3</td>\n",
              "      <td>128977</td>\n",
              "      <td>132440</td>\n",
              "      <td>199665</td>\n",
              "      <td>Fruit juice isn’t much better for you than sod...</td>\n",
              "      <td>Vox</td>\n",
              "      <td>Julia Belluz</td>\n",
              "      <td>2016/3/25</td>\n",
              "      <td>2016.0</td>\n",
              "      <td>3.0</td>\n",
              "      <td>http://www.vox.com/2016/3/25/11305614/soda-jui...</td>\n",
              "      <td>One of the biggest public health wins of rece...</td>\n",
              "      <td>0</td>\n",
              "    </tr>\n",
              "    <tr>\n",
              "      <td>4</td>\n",
              "      <td>134837</td>\n",
              "      <td>138300</td>\n",
              "      <td>208223</td>\n",
              "      <td>Sessions won’t testify at congressional budget...</td>\n",
              "      <td>Washington Post</td>\n",
              "      <td>Sari Horwitz</td>\n",
              "      <td>2017-06-10</td>\n",
              "      <td>2017.0</td>\n",
              "      <td>6.0</td>\n",
              "      <td>https://web.archive.org/web/20170611000758/htt...</td>\n",
              "      <td>Attorney General Jeff Sessions, who had agree...</td>\n",
              "      <td>1</td>\n",
              "    </tr>\n",
              "  </tbody>\n",
              "</table>\n",
              "</div>"
            ]
          },
          "metadata": {
            "tags": []
          },
          "execution_count": 34
        }
      ]
    },
    {
      "cell_type": "code",
      "metadata": {
        "id": "cKovkAuxJqTD",
        "colab_type": "code",
        "outputId": "9cf10b64-f628-4717-f1da-9d489a3aba16",
        "colab": {
          "base_uri": "https://localhost:8080/",
          "height": 272
        }
      },
      "source": [
        "# sample 13k observations from full_data (set seed to 5) for training\n",
        "small_data = full_data.sample(n=13000, random_state=5).reset_index()\n",
        "set(small_data.publication)"
      ],
      "execution_count": 35,
      "outputs": [
        {
          "output_type": "execute_result",
          "data": {
            "text/plain": [
              "{'Atlantic',\n",
              " 'Breitbart',\n",
              " 'Business Insider',\n",
              " 'Buzzfeed News',\n",
              " 'CNN',\n",
              " 'Fox News',\n",
              " 'Guardian',\n",
              " 'NPR',\n",
              " 'National Review',\n",
              " 'New York Post',\n",
              " 'New York Times',\n",
              " 'Reuters',\n",
              " 'Talking Points Memo',\n",
              " 'Vox',\n",
              " 'Washington Post'}"
            ]
          },
          "metadata": {
            "tags": []
          },
          "execution_count": 35
        }
      ]
    },
    {
      "cell_type": "code",
      "metadata": {
        "id": "WYOdAGAoJ1qC",
        "colab_type": "code",
        "outputId": "030a5e8e-10b5-4b5e-8683-3782bde0e561",
        "colab": {
          "base_uri": "https://localhost:8080/",
          "height": 34
        }
      },
      "source": [
        "small_data.shape"
      ],
      "execution_count": 36,
      "outputs": [
        {
          "output_type": "execute_result",
          "data": {
            "text/plain": [
              "(13000, 14)"
            ]
          },
          "metadata": {
            "tags": []
          },
          "execution_count": 36
        }
      ]
    },
    {
      "cell_type": "code",
      "metadata": {
        "id": "sYKX063BJ1sn",
        "colab_type": "code",
        "outputId": "7e1fae4d-4d7e-4453-8e88-c021eabbce90",
        "colab": {
          "base_uri": "https://localhost:8080/",
          "height": 564
        }
      },
      "source": [
        "small_data.head()"
      ],
      "execution_count": 37,
      "outputs": [
        {
          "output_type": "execute_result",
          "data": {
            "text/plain": [
              "    index  Unnamed: 0      id  \\\n",
              "0   74496       77946  118473   \n",
              "1   71184       74592  113594   \n",
              "2  120205      123668  184574   \n",
              "3  128977      132440  199665   \n",
              "4  134837      138300  208223   \n",
              "\n",
              "                                               title      publication  \\\n",
              "0  Chaos in the Family, Chaos in the State: The W...  National Review   \n",
              "1   US Civil Rights Commission Will Observe Stand...    Buzzfeed News   \n",
              "2  Venezuela hunts rogue helicopter attackers, Ma...          Reuters   \n",
              "3  Fruit juice isn’t much better for you than sod...              Vox   \n",
              "4  Sessions won’t testify at congressional budget...  Washington Post   \n",
              "\n",
              "                                  author        date    year  month  \\\n",
              "0                    Kevin D. Williamson  2016-03-17  2016.0    3.0   \n",
              "1                       Nidhi Subbaraman  2016-12-08  2016.0   12.0   \n",
              "2  Andrew Cawthorne and Victoria Ramirez  2017-06-29  2017.0    6.0   \n",
              "3                           Julia Belluz   2016/3/25  2016.0    3.0   \n",
              "4                           Sari Horwitz  2017-06-10  2017.0    6.0   \n",
              "\n",
              "                                                 url  \\\n",
              "0  http://www.nationalreview.com/article/432876/d...   \n",
              "1  https://web.archive.org/web/20161208153906/htt...   \n",
              "2  http://www.reuters.com/article/us-venezuela-po...   \n",
              "3  http://www.vox.com/2016/3/25/11305614/soda-jui...   \n",
              "4  https://web.archive.org/web/20170611000758/htt...   \n",
              "\n",
              "                                             content     pub_bias  polarity  \\\n",
              "0  Michael Brendan Dougherty is bitter. I think t...        right  0.058027   \n",
              "1   WASHINGTON  —   The US Commission on Civil Ri...         left -0.064327   \n",
              "2   The Venezuelan government hunted on Wednesday...       center  0.082447   \n",
              "3   One of the biggest public health wins of rece...         left  0.132338   \n",
              "4   Attorney General Jeff Sessions, who had agree...  left-center  0.111012   \n",
              "\n",
              "   subjectivity  \n",
              "0      0.408620  \n",
              "1      0.412135  \n",
              "2      0.469048  \n",
              "3      0.410475  \n",
              "4      0.412202  "
            ],
            "text/html": [
              "<div>\n",
              "<style scoped>\n",
              "    .dataframe tbody tr th:only-of-type {\n",
              "        vertical-align: middle;\n",
              "    }\n",
              "\n",
              "    .dataframe tbody tr th {\n",
              "        vertical-align: top;\n",
              "    }\n",
              "\n",
              "    .dataframe thead th {\n",
              "        text-align: right;\n",
              "    }\n",
              "</style>\n",
              "<table border=\"1\" class=\"dataframe\">\n",
              "  <thead>\n",
              "    <tr style=\"text-align: right;\">\n",
              "      <th></th>\n",
              "      <th>index</th>\n",
              "      <th>Unnamed: 0</th>\n",
              "      <th>id</th>\n",
              "      <th>title</th>\n",
              "      <th>publication</th>\n",
              "      <th>author</th>\n",
              "      <th>date</th>\n",
              "      <th>year</th>\n",
              "      <th>month</th>\n",
              "      <th>url</th>\n",
              "      <th>content</th>\n",
              "      <th>pub_bias</th>\n",
              "      <th>polarity</th>\n",
              "      <th>subjectivity</th>\n",
              "    </tr>\n",
              "  </thead>\n",
              "  <tbody>\n",
              "    <tr>\n",
              "      <td>0</td>\n",
              "      <td>74496</td>\n",
              "      <td>77946</td>\n",
              "      <td>118473</td>\n",
              "      <td>Chaos in the Family, Chaos in the State: The W...</td>\n",
              "      <td>National Review</td>\n",
              "      <td>Kevin D. Williamson</td>\n",
              "      <td>2016-03-17</td>\n",
              "      <td>2016.0</td>\n",
              "      <td>3.0</td>\n",
              "      <td>http://www.nationalreview.com/article/432876/d...</td>\n",
              "      <td>Michael Brendan Dougherty is bitter. I think t...</td>\n",
              "      <td>right</td>\n",
              "      <td>0.058027</td>\n",
              "      <td>0.408620</td>\n",
              "    </tr>\n",
              "    <tr>\n",
              "      <td>1</td>\n",
              "      <td>71184</td>\n",
              "      <td>74592</td>\n",
              "      <td>113594</td>\n",
              "      <td>US Civil Rights Commission Will Observe Stand...</td>\n",
              "      <td>Buzzfeed News</td>\n",
              "      <td>Nidhi Subbaraman</td>\n",
              "      <td>2016-12-08</td>\n",
              "      <td>2016.0</td>\n",
              "      <td>12.0</td>\n",
              "      <td>https://web.archive.org/web/20161208153906/htt...</td>\n",
              "      <td>WASHINGTON  —   The US Commission on Civil Ri...</td>\n",
              "      <td>left</td>\n",
              "      <td>-0.064327</td>\n",
              "      <td>0.412135</td>\n",
              "    </tr>\n",
              "    <tr>\n",
              "      <td>2</td>\n",
              "      <td>120205</td>\n",
              "      <td>123668</td>\n",
              "      <td>184574</td>\n",
              "      <td>Venezuela hunts rogue helicopter attackers, Ma...</td>\n",
              "      <td>Reuters</td>\n",
              "      <td>Andrew Cawthorne and Victoria Ramirez</td>\n",
              "      <td>2017-06-29</td>\n",
              "      <td>2017.0</td>\n",
              "      <td>6.0</td>\n",
              "      <td>http://www.reuters.com/article/us-venezuela-po...</td>\n",
              "      <td>The Venezuelan government hunted on Wednesday...</td>\n",
              "      <td>center</td>\n",
              "      <td>0.082447</td>\n",
              "      <td>0.469048</td>\n",
              "    </tr>\n",
              "    <tr>\n",
              "      <td>3</td>\n",
              "      <td>128977</td>\n",
              "      <td>132440</td>\n",
              "      <td>199665</td>\n",
              "      <td>Fruit juice isn’t much better for you than sod...</td>\n",
              "      <td>Vox</td>\n",
              "      <td>Julia Belluz</td>\n",
              "      <td>2016/3/25</td>\n",
              "      <td>2016.0</td>\n",
              "      <td>3.0</td>\n",
              "      <td>http://www.vox.com/2016/3/25/11305614/soda-jui...</td>\n",
              "      <td>One of the biggest public health wins of rece...</td>\n",
              "      <td>left</td>\n",
              "      <td>0.132338</td>\n",
              "      <td>0.410475</td>\n",
              "    </tr>\n",
              "    <tr>\n",
              "      <td>4</td>\n",
              "      <td>134837</td>\n",
              "      <td>138300</td>\n",
              "      <td>208223</td>\n",
              "      <td>Sessions won’t testify at congressional budget...</td>\n",
              "      <td>Washington Post</td>\n",
              "      <td>Sari Horwitz</td>\n",
              "      <td>2017-06-10</td>\n",
              "      <td>2017.0</td>\n",
              "      <td>6.0</td>\n",
              "      <td>https://web.archive.org/web/20170611000758/htt...</td>\n",
              "      <td>Attorney General Jeff Sessions, who had agree...</td>\n",
              "      <td>left-center</td>\n",
              "      <td>0.111012</td>\n",
              "      <td>0.412202</td>\n",
              "    </tr>\n",
              "  </tbody>\n",
              "</table>\n",
              "</div>"
            ]
          },
          "metadata": {
            "tags": []
          },
          "execution_count": 37
        }
      ]
    },
    {
      "cell_type": "code",
      "metadata": {
        "id": "lFKu_BOi5OWy",
        "colab_type": "code",
        "colab": {
          "base_uri": "https://localhost:8080/",
          "height": 170
        },
        "outputId": "1546611a-b829-4078-e2f5-5eb4de7c3eff"
      },
      "source": [
        "# sample 13k observations from full_data (set seed to 5) for training\n",
        "filter_small_data = filter_data.sample(n=13000, random_state=5).reset_index()\n",
        "set(filter_small_data.publication)"
      ],
      "execution_count": 38,
      "outputs": [
        {
          "output_type": "execute_result",
          "data": {
            "text/plain": [
              "{'Atlantic',\n",
              " 'Business Insider',\n",
              " 'CNN',\n",
              " 'Guardian',\n",
              " 'NPR',\n",
              " 'New York Times',\n",
              " 'Reuters',\n",
              " 'Talking Points Memo',\n",
              " 'Washington Post'}"
            ]
          },
          "metadata": {
            "tags": []
          },
          "execution_count": 38
        }
      ]
    },
    {
      "cell_type": "code",
      "metadata": {
        "id": "AFabgM0_5Oy-",
        "colab_type": "code",
        "colab": {
          "base_uri": "https://localhost:8080/",
          "height": 34
        },
        "outputId": "ffba7636-7be6-4d60-fa95-d6d3a4961db3"
      },
      "source": [
        "filter_small_data.shape"
      ],
      "execution_count": 39,
      "outputs": [
        {
          "output_type": "execute_result",
          "data": {
            "text/plain": [
              "(13000, 14)"
            ]
          },
          "metadata": {
            "tags": []
          },
          "execution_count": 39
        }
      ]
    },
    {
      "cell_type": "code",
      "metadata": {
        "id": "F_ohkXFB5PCs",
        "colab_type": "code",
        "colab": {
          "base_uri": "https://localhost:8080/",
          "height": 649
        },
        "outputId": "702f0134-dbbd-4c02-b665-2564e7024eeb"
      },
      "source": [
        "filter_small_data.head()"
      ],
      "execution_count": 40,
      "outputs": [
        {
          "output_type": "execute_result",
          "data": {
            "text/plain": [
              "    index  Unnamed: 0      id  \\\n",
              "0  101379      104839  153712   \n",
              "1   65920       69328   98425   \n",
              "2   35078       35798   54621   \n",
              "3  101226      104686  153505   \n",
              "4   62873       66194   91357   \n",
              "\n",
              "                                               title          publication  \\\n",
              "0          Has the age of quantum computing arrived?             Guardian   \n",
              "1  Sanders Projected To Win The Wisconsin Democra...  Talking Points Memo   \n",
              "2         Toxic foam floods the streets of Bangalore                  CNN   \n",
              "3               Soul star Sharon Jones dies, aged 60             Guardian   \n",
              "4  GOPers Make Last-Ditch Attempt To Tie Georgia ...  Talking Points Memo   \n",
              "\n",
              "            author        date    year  month  \\\n",
              "0   Andrew Anthony  2016-05-22  2016.0    5.0   \n",
              "1              NaN  2016-04-06  2016.0    4.0   \n",
              "2              NaN  2017-05-31  2017.0    5.0   \n",
              "3     Michael Hann  2016-11-18  2016.0   11.0   \n",
              "4  Caitlin MacNeal         NaN     NaN    NaN   \n",
              "\n",
              "                                                 url  \\\n",
              "0  https://www.theguardian.com/technology/2016/ma...   \n",
              "1  https://web.archive.org/web/20160406060830/htt...   \n",
              "2                                                NaN   \n",
              "3  https://www.theguardian.com/music/2016/nov/19/...   \n",
              "4  https://web.archive.org/web/20170407001946/htt...   \n",
              "\n",
              "                                             content     pub_bias  polarity  \\\n",
              "0  Ever since Charles Babbage’s conceptual, unrea...  left-center  0.136875   \n",
              "1  Sen. Bernie Sanders ( ) was projected to win t...  left-center  0.319638   \n",
              "2  New Delhi (CNN) In the southern Indian city of...  left-center  0.028901   \n",
              "3  The soul singer Sharon Jones has died, aged 60...  left-center  0.158978   \n",
              "4  With just under two weeks to go until a specia...  left-center  0.115283   \n",
              "\n",
              "   subjectivity  \n",
              "0      0.497199  \n",
              "1      0.418182  \n",
              "2      0.362504  \n",
              "3      0.453571  \n",
              "4      0.462200  "
            ],
            "text/html": [
              "<div>\n",
              "<style scoped>\n",
              "    .dataframe tbody tr th:only-of-type {\n",
              "        vertical-align: middle;\n",
              "    }\n",
              "\n",
              "    .dataframe tbody tr th {\n",
              "        vertical-align: top;\n",
              "    }\n",
              "\n",
              "    .dataframe thead th {\n",
              "        text-align: right;\n",
              "    }\n",
              "</style>\n",
              "<table border=\"1\" class=\"dataframe\">\n",
              "  <thead>\n",
              "    <tr style=\"text-align: right;\">\n",
              "      <th></th>\n",
              "      <th>index</th>\n",
              "      <th>Unnamed: 0</th>\n",
              "      <th>id</th>\n",
              "      <th>title</th>\n",
              "      <th>publication</th>\n",
              "      <th>author</th>\n",
              "      <th>date</th>\n",
              "      <th>year</th>\n",
              "      <th>month</th>\n",
              "      <th>url</th>\n",
              "      <th>content</th>\n",
              "      <th>pub_bias</th>\n",
              "      <th>polarity</th>\n",
              "      <th>subjectivity</th>\n",
              "    </tr>\n",
              "  </thead>\n",
              "  <tbody>\n",
              "    <tr>\n",
              "      <td>0</td>\n",
              "      <td>101379</td>\n",
              "      <td>104839</td>\n",
              "      <td>153712</td>\n",
              "      <td>Has the age of quantum computing arrived?</td>\n",
              "      <td>Guardian</td>\n",
              "      <td>Andrew Anthony</td>\n",
              "      <td>2016-05-22</td>\n",
              "      <td>2016.0</td>\n",
              "      <td>5.0</td>\n",
              "      <td>https://www.theguardian.com/technology/2016/ma...</td>\n",
              "      <td>Ever since Charles Babbage’s conceptual, unrea...</td>\n",
              "      <td>left-center</td>\n",
              "      <td>0.136875</td>\n",
              "      <td>0.497199</td>\n",
              "    </tr>\n",
              "    <tr>\n",
              "      <td>1</td>\n",
              "      <td>65920</td>\n",
              "      <td>69328</td>\n",
              "      <td>98425</td>\n",
              "      <td>Sanders Projected To Win The Wisconsin Democra...</td>\n",
              "      <td>Talking Points Memo</td>\n",
              "      <td>NaN</td>\n",
              "      <td>2016-04-06</td>\n",
              "      <td>2016.0</td>\n",
              "      <td>4.0</td>\n",
              "      <td>https://web.archive.org/web/20160406060830/htt...</td>\n",
              "      <td>Sen. Bernie Sanders ( ) was projected to win t...</td>\n",
              "      <td>left-center</td>\n",
              "      <td>0.319638</td>\n",
              "      <td>0.418182</td>\n",
              "    </tr>\n",
              "    <tr>\n",
              "      <td>2</td>\n",
              "      <td>35078</td>\n",
              "      <td>35798</td>\n",
              "      <td>54621</td>\n",
              "      <td>Toxic foam floods the streets of Bangalore</td>\n",
              "      <td>CNN</td>\n",
              "      <td>NaN</td>\n",
              "      <td>2017-05-31</td>\n",
              "      <td>2017.0</td>\n",
              "      <td>5.0</td>\n",
              "      <td>NaN</td>\n",
              "      <td>New Delhi (CNN) In the southern Indian city of...</td>\n",
              "      <td>left-center</td>\n",
              "      <td>0.028901</td>\n",
              "      <td>0.362504</td>\n",
              "    </tr>\n",
              "    <tr>\n",
              "      <td>3</td>\n",
              "      <td>101226</td>\n",
              "      <td>104686</td>\n",
              "      <td>153505</td>\n",
              "      <td>Soul star Sharon Jones dies, aged 60</td>\n",
              "      <td>Guardian</td>\n",
              "      <td>Michael Hann</td>\n",
              "      <td>2016-11-18</td>\n",
              "      <td>2016.0</td>\n",
              "      <td>11.0</td>\n",
              "      <td>https://www.theguardian.com/music/2016/nov/19/...</td>\n",
              "      <td>The soul singer Sharon Jones has died, aged 60...</td>\n",
              "      <td>left-center</td>\n",
              "      <td>0.158978</td>\n",
              "      <td>0.453571</td>\n",
              "    </tr>\n",
              "    <tr>\n",
              "      <td>4</td>\n",
              "      <td>62873</td>\n",
              "      <td>66194</td>\n",
              "      <td>91357</td>\n",
              "      <td>GOPers Make Last-Ditch Attempt To Tie Georgia ...</td>\n",
              "      <td>Talking Points Memo</td>\n",
              "      <td>Caitlin MacNeal</td>\n",
              "      <td>NaN</td>\n",
              "      <td>NaN</td>\n",
              "      <td>NaN</td>\n",
              "      <td>https://web.archive.org/web/20170407001946/htt...</td>\n",
              "      <td>With just under two weeks to go until a specia...</td>\n",
              "      <td>left-center</td>\n",
              "      <td>0.115283</td>\n",
              "      <td>0.462200</td>\n",
              "    </tr>\n",
              "  </tbody>\n",
              "</table>\n",
              "</div>"
            ]
          },
          "metadata": {
            "tags": []
          },
          "execution_count": 40
        }
      ]
    },
    {
      "cell_type": "code",
      "metadata": {
        "id": "fHaPfsZmJ1xR",
        "colab_type": "code",
        "colab": {}
      },
      "source": [
        "# remove publisher tags from article titles \n",
        "\n",
        "def clean_title(title):\n",
        "  title = re.sub(r\"(- Breitbart)(?!.*\\1)\", '', title)\n",
        "  title = re.sub(r'(- The New York Times)(?!.*\\1)', '', title)\n",
        "  return title\n",
        "  \n",
        "eval_data['title'] = Parallel(n_jobs=16)(delayed(clean_title)(title) for title in eval_data.title)\n",
        "small_data['title'] = Parallel(n_jobs=16)(delayed(clean_title)(title) for title in small_data.title)\n",
        "filter_small_data['title'] = Parallel(n_jobs=16)(delayed(clean_title)(title) for title in filter_small_data.title)"
      ],
      "execution_count": 0,
      "outputs": []
    },
    {
      "cell_type": "code",
      "metadata": {
        "id": "-vCyFsAAUJmW",
        "colab_type": "code",
        "colab": {}
      },
      "source": [
        "# change output settings to view entire text\n",
        "pd.set_option('display.max_colwidth', -1)"
      ],
      "execution_count": 0,
      "outputs": []
    },
    {
      "cell_type": "code",
      "metadata": {
        "id": "q-86JpWwJ1wC",
        "colab_type": "code",
        "outputId": "315b3123-2b80-4000-d83b-3af3546ac337",
        "colab": {
          "base_uri": "https://localhost:8080/",
          "height": 204
        }
      },
      "source": [
        "# check if titles were successfully cleaned\n",
        "eval_data.title[120:130]"
      ],
      "execution_count": 43,
      "outputs": [
        {
          "output_type": "execute_result",
          "data": {
            "text/plain": [
              "120    Nine Charged with Sex Assault in Texas High School Hazing Scandal                                            \n",
              "121    Lou Dobbs: ’Eager Tool of the Establishment’ Paul Ryan ’an Embarrassment’ to the GOP                         \n",
              "122    Obama’s State Department Sponsored 2016 Meeting of Russian Ambassador with Sen. Sessions                     \n",
              "123    MS-13 gang member turned FBI informant describes life in the violent street gang                             \n",
              "124    Wikileaks: Clinton Team Feared Labor Backlash After Obama Cleared Malaysia’s Human Rights Record to Push TPP \n",
              "125    Obama Eid Celebration Again Empowers Islamists Over Reformers                                                \n",
              "126    The Edge: But Who Will Get the Crucial Pizza Rat Vote?                                                       \n",
              "127    FBI: Clinton ’extremely careless’ but no charges recommended                                                 \n",
              "128    The New Normal of Colin Kaepernick’s Protest                                                                 \n",
              "129    Airbnb Ends Fight With New York City Over Fines                                                              \n",
              "Name: title, dtype: object"
            ]
          },
          "metadata": {
            "tags": []
          },
          "execution_count": 43
        }
      ]
    },
    {
      "cell_type": "code",
      "metadata": {
        "id": "NnSIDTABTJWH",
        "colab_type": "code",
        "outputId": "d548cbb0-ce32-4107-cc6d-2e978b991fc7",
        "colab": {
          "base_uri": "https://localhost:8080/",
          "height": 204
        }
      },
      "source": [
        "# check if titles were successfully cleaned\n",
        "small_data.title[120:130]"
      ],
      "execution_count": 44,
      "outputs": [
        {
          "output_type": "execute_result",
          "data": {
            "text/plain": [
              "120    Nine Charged with Sex Assault in Texas High School Hazing Scandal                                            \n",
              "121    Lou Dobbs: ’Eager Tool of the Establishment’ Paul Ryan ’an Embarrassment’ to the GOP                         \n",
              "122    Obama’s State Department Sponsored 2016 Meeting of Russian Ambassador with Sen. Sessions                     \n",
              "123    MS-13 gang member turned FBI informant describes life in the violent street gang                             \n",
              "124    Wikileaks: Clinton Team Feared Labor Backlash After Obama Cleared Malaysia’s Human Rights Record to Push TPP \n",
              "125    Obama Eid Celebration Again Empowers Islamists Over Reformers                                                \n",
              "126     The Edge: But Who Will Get the Crucial Pizza Rat Vote?                                                      \n",
              "127    FBI: Clinton ’extremely careless’ but no charges recommended                                                 \n",
              "128    The New Normal of Colin Kaepernick’s Protest                                                                 \n",
              "129    Airbnb Ends Fight With New York City Over Fines                                                              \n",
              "Name: title, dtype: object"
            ]
          },
          "metadata": {
            "tags": []
          },
          "execution_count": 44
        }
      ]
    },
    {
      "cell_type": "code",
      "metadata": {
        "id": "ifWTMp73J72T",
        "colab_type": "code",
        "colab": {}
      },
      "source": [
        "# join titles with content of article\n",
        "eval_data['text'] = list(map(lambda i,j: i + \" \" + j, eval_data.title, eval_data.content))\n",
        "small_data['text'] = list(map(lambda i,j: i + \" \" + j, small_data.title, small_data.content))\n",
        "filter_small_data['text'] = list(map(lambda i,j: i + \" \" + j, filter_small_data.title, filter_small_data.content))"
      ],
      "execution_count": 0,
      "outputs": []
    },
    {
      "cell_type": "code",
      "metadata": {
        "id": "N0s1U3fqYHnD",
        "colab_type": "code",
        "outputId": "9b331305-1a32-4add-8204-fc1a0ce26df4",
        "colab": {
          "base_uri": "https://localhost:8080/",
          "height": 204
        }
      },
      "source": [
        "# reset display settings \n",
        "pd.reset_option(\"all\")"
      ],
      "execution_count": 46,
      "outputs": [
        {
          "output_type": "stream",
          "text": [
            "\n",
            ": boolean\n",
            "    use_inf_as_null had been deprecated and will be removed in a future\n",
            "    version. Use `use_inf_as_na` instead.\n",
            "\n"
          ],
          "name": "stdout"
        },
        {
          "output_type": "stream",
          "text": [
            "/home/erusson/anaconda3/lib/python3.7/site-packages/pandas/_config/config.py:622: FutureWarning: \n",
            ": boolean\n",
            "    use_inf_as_null had been deprecated and will be removed in a future\n",
            "    version. Use `use_inf_as_na` instead.\n",
            "\n",
            "  warnings.warn(d.msg, FutureWarning)\n"
          ],
          "name": "stderr"
        }
      ]
    },
    {
      "cell_type": "code",
      "metadata": {
        "id": "H--J1RTeJ77h",
        "colab_type": "code",
        "outputId": "7944b65c-a255-47d0-8a28-749ec1e450ee",
        "colab": {
          "base_uri": "https://localhost:8080/",
          "height": 564
        }
      },
      "source": [
        "eval_data.head()"
      ],
      "execution_count": 47,
      "outputs": [
        {
          "output_type": "execute_result",
          "data": {
            "text/plain": [
              "    index  Unnamed: 0      id  \\\n",
              "0   74496       77946  118473   \n",
              "1   71184       74592  113594   \n",
              "2  120205      123668  184574   \n",
              "3  128977      132440  199665   \n",
              "4  134837      138300  208223   \n",
              "\n",
              "                                               title      publication  \\\n",
              "0  Chaos in the Family, Chaos in the State: The W...  National Review   \n",
              "1  US Civil Rights Commission Will Observe Standi...    Buzzfeed News   \n",
              "2  Venezuela hunts rogue helicopter attackers, Ma...          Reuters   \n",
              "3  Fruit juice isn’t much better for you than sod...              Vox   \n",
              "4  Sessions won’t testify at congressional budget...  Washington Post   \n",
              "\n",
              "                                  author        date    year  month  \\\n",
              "0                    Kevin D. Williamson  2016-03-17  2016.0    3.0   \n",
              "1                       Nidhi Subbaraman  2016-12-08  2016.0   12.0   \n",
              "2  Andrew Cawthorne and Victoria Ramirez  2017-06-29  2017.0    6.0   \n",
              "3                           Julia Belluz   2016/3/25  2016.0    3.0   \n",
              "4                           Sari Horwitz  2017-06-10  2017.0    6.0   \n",
              "\n",
              "                                                 url  \\\n",
              "0  http://www.nationalreview.com/article/432876/d...   \n",
              "1  https://web.archive.org/web/20161208153906/htt...   \n",
              "2  http://www.reuters.com/article/us-venezuela-po...   \n",
              "3  http://www.vox.com/2016/3/25/11305614/soda-jui...   \n",
              "4  https://web.archive.org/web/20170611000758/htt...   \n",
              "\n",
              "                                             content  label  \\\n",
              "0  Michael Brendan Dougherty is bitter. I think t...      0   \n",
              "1   WASHINGTON  —   The US Commission on Civil Ri...      0   \n",
              "2   The Venezuelan government hunted on Wednesday...      0   \n",
              "3   One of the biggest public health wins of rece...      0   \n",
              "4   Attorney General Jeff Sessions, who had agree...      1   \n",
              "\n",
              "                                                text  \n",
              "0  Chaos in the Family, Chaos in the State: The W...  \n",
              "1  US Civil Rights Commission Will Observe Standi...  \n",
              "2  Venezuela hunts rogue helicopter attackers, Ma...  \n",
              "3  Fruit juice isn’t much better for you than sod...  \n",
              "4  Sessions won’t testify at congressional budget...  "
            ],
            "text/html": [
              "<div>\n",
              "<style scoped>\n",
              "    .dataframe tbody tr th:only-of-type {\n",
              "        vertical-align: middle;\n",
              "    }\n",
              "\n",
              "    .dataframe tbody tr th {\n",
              "        vertical-align: top;\n",
              "    }\n",
              "\n",
              "    .dataframe thead th {\n",
              "        text-align: right;\n",
              "    }\n",
              "</style>\n",
              "<table border=\"1\" class=\"dataframe\">\n",
              "  <thead>\n",
              "    <tr style=\"text-align: right;\">\n",
              "      <th></th>\n",
              "      <th>index</th>\n",
              "      <th>Unnamed: 0</th>\n",
              "      <th>id</th>\n",
              "      <th>title</th>\n",
              "      <th>publication</th>\n",
              "      <th>author</th>\n",
              "      <th>date</th>\n",
              "      <th>year</th>\n",
              "      <th>month</th>\n",
              "      <th>url</th>\n",
              "      <th>content</th>\n",
              "      <th>label</th>\n",
              "      <th>text</th>\n",
              "    </tr>\n",
              "  </thead>\n",
              "  <tbody>\n",
              "    <tr>\n",
              "      <td>0</td>\n",
              "      <td>74496</td>\n",
              "      <td>77946</td>\n",
              "      <td>118473</td>\n",
              "      <td>Chaos in the Family, Chaos in the State: The W...</td>\n",
              "      <td>National Review</td>\n",
              "      <td>Kevin D. Williamson</td>\n",
              "      <td>2016-03-17</td>\n",
              "      <td>2016.0</td>\n",
              "      <td>3.0</td>\n",
              "      <td>http://www.nationalreview.com/article/432876/d...</td>\n",
              "      <td>Michael Brendan Dougherty is bitter. I think t...</td>\n",
              "      <td>0</td>\n",
              "      <td>Chaos in the Family, Chaos in the State: The W...</td>\n",
              "    </tr>\n",
              "    <tr>\n",
              "      <td>1</td>\n",
              "      <td>71184</td>\n",
              "      <td>74592</td>\n",
              "      <td>113594</td>\n",
              "      <td>US Civil Rights Commission Will Observe Standi...</td>\n",
              "      <td>Buzzfeed News</td>\n",
              "      <td>Nidhi Subbaraman</td>\n",
              "      <td>2016-12-08</td>\n",
              "      <td>2016.0</td>\n",
              "      <td>12.0</td>\n",
              "      <td>https://web.archive.org/web/20161208153906/htt...</td>\n",
              "      <td>WASHINGTON  —   The US Commission on Civil Ri...</td>\n",
              "      <td>0</td>\n",
              "      <td>US Civil Rights Commission Will Observe Standi...</td>\n",
              "    </tr>\n",
              "    <tr>\n",
              "      <td>2</td>\n",
              "      <td>120205</td>\n",
              "      <td>123668</td>\n",
              "      <td>184574</td>\n",
              "      <td>Venezuela hunts rogue helicopter attackers, Ma...</td>\n",
              "      <td>Reuters</td>\n",
              "      <td>Andrew Cawthorne and Victoria Ramirez</td>\n",
              "      <td>2017-06-29</td>\n",
              "      <td>2017.0</td>\n",
              "      <td>6.0</td>\n",
              "      <td>http://www.reuters.com/article/us-venezuela-po...</td>\n",
              "      <td>The Venezuelan government hunted on Wednesday...</td>\n",
              "      <td>0</td>\n",
              "      <td>Venezuela hunts rogue helicopter attackers, Ma...</td>\n",
              "    </tr>\n",
              "    <tr>\n",
              "      <td>3</td>\n",
              "      <td>128977</td>\n",
              "      <td>132440</td>\n",
              "      <td>199665</td>\n",
              "      <td>Fruit juice isn’t much better for you than sod...</td>\n",
              "      <td>Vox</td>\n",
              "      <td>Julia Belluz</td>\n",
              "      <td>2016/3/25</td>\n",
              "      <td>2016.0</td>\n",
              "      <td>3.0</td>\n",
              "      <td>http://www.vox.com/2016/3/25/11305614/soda-jui...</td>\n",
              "      <td>One of the biggest public health wins of rece...</td>\n",
              "      <td>0</td>\n",
              "      <td>Fruit juice isn’t much better for you than sod...</td>\n",
              "    </tr>\n",
              "    <tr>\n",
              "      <td>4</td>\n",
              "      <td>134837</td>\n",
              "      <td>138300</td>\n",
              "      <td>208223</td>\n",
              "      <td>Sessions won’t testify at congressional budget...</td>\n",
              "      <td>Washington Post</td>\n",
              "      <td>Sari Horwitz</td>\n",
              "      <td>2017-06-10</td>\n",
              "      <td>2017.0</td>\n",
              "      <td>6.0</td>\n",
              "      <td>https://web.archive.org/web/20170611000758/htt...</td>\n",
              "      <td>Attorney General Jeff Sessions, who had agree...</td>\n",
              "      <td>1</td>\n",
              "      <td>Sessions won’t testify at congressional budget...</td>\n",
              "    </tr>\n",
              "  </tbody>\n",
              "</table>\n",
              "</div>"
            ]
          },
          "metadata": {
            "tags": []
          },
          "execution_count": 47
        }
      ]
    },
    {
      "cell_type": "code",
      "metadata": {
        "id": "yask-VniJ764",
        "colab_type": "code",
        "outputId": "970a63e3-54bf-4fcd-f875-d5d43d03e35b",
        "colab": {
          "base_uri": "https://localhost:8080/",
          "height": 564
        }
      },
      "source": [
        "small_data.head()"
      ],
      "execution_count": 48,
      "outputs": [
        {
          "output_type": "execute_result",
          "data": {
            "text/plain": [
              "    index  Unnamed: 0      id  \\\n",
              "0   74496       77946  118473   \n",
              "1   71184       74592  113594   \n",
              "2  120205      123668  184574   \n",
              "3  128977      132440  199665   \n",
              "4  134837      138300  208223   \n",
              "\n",
              "                                               title      publication  \\\n",
              "0  Chaos in the Family, Chaos in the State: The W...  National Review   \n",
              "1   US Civil Rights Commission Will Observe Stand...    Buzzfeed News   \n",
              "2  Venezuela hunts rogue helicopter attackers, Ma...          Reuters   \n",
              "3  Fruit juice isn’t much better for you than sod...              Vox   \n",
              "4  Sessions won’t testify at congressional budget...  Washington Post   \n",
              "\n",
              "                                  author        date    year  month  \\\n",
              "0                    Kevin D. Williamson  2016-03-17  2016.0    3.0   \n",
              "1                       Nidhi Subbaraman  2016-12-08  2016.0   12.0   \n",
              "2  Andrew Cawthorne and Victoria Ramirez  2017-06-29  2017.0    6.0   \n",
              "3                           Julia Belluz   2016/3/25  2016.0    3.0   \n",
              "4                           Sari Horwitz  2017-06-10  2017.0    6.0   \n",
              "\n",
              "                                                 url  \\\n",
              "0  http://www.nationalreview.com/article/432876/d...   \n",
              "1  https://web.archive.org/web/20161208153906/htt...   \n",
              "2  http://www.reuters.com/article/us-venezuela-po...   \n",
              "3  http://www.vox.com/2016/3/25/11305614/soda-jui...   \n",
              "4  https://web.archive.org/web/20170611000758/htt...   \n",
              "\n",
              "                                             content     pub_bias  polarity  \\\n",
              "0  Michael Brendan Dougherty is bitter. I think t...        right  0.058027   \n",
              "1   WASHINGTON  —   The US Commission on Civil Ri...         left -0.064327   \n",
              "2   The Venezuelan government hunted on Wednesday...       center  0.082447   \n",
              "3   One of the biggest public health wins of rece...         left  0.132338   \n",
              "4   Attorney General Jeff Sessions, who had agree...  left-center  0.111012   \n",
              "\n",
              "   subjectivity                                               text  \n",
              "0      0.408620  Chaos in the Family, Chaos in the State: The W...  \n",
              "1      0.412135   US Civil Rights Commission Will Observe Stand...  \n",
              "2      0.469048  Venezuela hunts rogue helicopter attackers, Ma...  \n",
              "3      0.410475  Fruit juice isn’t much better for you than sod...  \n",
              "4      0.412202  Sessions won’t testify at congressional budget...  "
            ],
            "text/html": [
              "<div>\n",
              "<style scoped>\n",
              "    .dataframe tbody tr th:only-of-type {\n",
              "        vertical-align: middle;\n",
              "    }\n",
              "\n",
              "    .dataframe tbody tr th {\n",
              "        vertical-align: top;\n",
              "    }\n",
              "\n",
              "    .dataframe thead th {\n",
              "        text-align: right;\n",
              "    }\n",
              "</style>\n",
              "<table border=\"1\" class=\"dataframe\">\n",
              "  <thead>\n",
              "    <tr style=\"text-align: right;\">\n",
              "      <th></th>\n",
              "      <th>index</th>\n",
              "      <th>Unnamed: 0</th>\n",
              "      <th>id</th>\n",
              "      <th>title</th>\n",
              "      <th>publication</th>\n",
              "      <th>author</th>\n",
              "      <th>date</th>\n",
              "      <th>year</th>\n",
              "      <th>month</th>\n",
              "      <th>url</th>\n",
              "      <th>content</th>\n",
              "      <th>pub_bias</th>\n",
              "      <th>polarity</th>\n",
              "      <th>subjectivity</th>\n",
              "      <th>text</th>\n",
              "    </tr>\n",
              "  </thead>\n",
              "  <tbody>\n",
              "    <tr>\n",
              "      <td>0</td>\n",
              "      <td>74496</td>\n",
              "      <td>77946</td>\n",
              "      <td>118473</td>\n",
              "      <td>Chaos in the Family, Chaos in the State: The W...</td>\n",
              "      <td>National Review</td>\n",
              "      <td>Kevin D. Williamson</td>\n",
              "      <td>2016-03-17</td>\n",
              "      <td>2016.0</td>\n",
              "      <td>3.0</td>\n",
              "      <td>http://www.nationalreview.com/article/432876/d...</td>\n",
              "      <td>Michael Brendan Dougherty is bitter. I think t...</td>\n",
              "      <td>right</td>\n",
              "      <td>0.058027</td>\n",
              "      <td>0.408620</td>\n",
              "      <td>Chaos in the Family, Chaos in the State: The W...</td>\n",
              "    </tr>\n",
              "    <tr>\n",
              "      <td>1</td>\n",
              "      <td>71184</td>\n",
              "      <td>74592</td>\n",
              "      <td>113594</td>\n",
              "      <td>US Civil Rights Commission Will Observe Stand...</td>\n",
              "      <td>Buzzfeed News</td>\n",
              "      <td>Nidhi Subbaraman</td>\n",
              "      <td>2016-12-08</td>\n",
              "      <td>2016.0</td>\n",
              "      <td>12.0</td>\n",
              "      <td>https://web.archive.org/web/20161208153906/htt...</td>\n",
              "      <td>WASHINGTON  —   The US Commission on Civil Ri...</td>\n",
              "      <td>left</td>\n",
              "      <td>-0.064327</td>\n",
              "      <td>0.412135</td>\n",
              "      <td>US Civil Rights Commission Will Observe Stand...</td>\n",
              "    </tr>\n",
              "    <tr>\n",
              "      <td>2</td>\n",
              "      <td>120205</td>\n",
              "      <td>123668</td>\n",
              "      <td>184574</td>\n",
              "      <td>Venezuela hunts rogue helicopter attackers, Ma...</td>\n",
              "      <td>Reuters</td>\n",
              "      <td>Andrew Cawthorne and Victoria Ramirez</td>\n",
              "      <td>2017-06-29</td>\n",
              "      <td>2017.0</td>\n",
              "      <td>6.0</td>\n",
              "      <td>http://www.reuters.com/article/us-venezuela-po...</td>\n",
              "      <td>The Venezuelan government hunted on Wednesday...</td>\n",
              "      <td>center</td>\n",
              "      <td>0.082447</td>\n",
              "      <td>0.469048</td>\n",
              "      <td>Venezuela hunts rogue helicopter attackers, Ma...</td>\n",
              "    </tr>\n",
              "    <tr>\n",
              "      <td>3</td>\n",
              "      <td>128977</td>\n",
              "      <td>132440</td>\n",
              "      <td>199665</td>\n",
              "      <td>Fruit juice isn’t much better for you than sod...</td>\n",
              "      <td>Vox</td>\n",
              "      <td>Julia Belluz</td>\n",
              "      <td>2016/3/25</td>\n",
              "      <td>2016.0</td>\n",
              "      <td>3.0</td>\n",
              "      <td>http://www.vox.com/2016/3/25/11305614/soda-jui...</td>\n",
              "      <td>One of the biggest public health wins of rece...</td>\n",
              "      <td>left</td>\n",
              "      <td>0.132338</td>\n",
              "      <td>0.410475</td>\n",
              "      <td>Fruit juice isn’t much better for you than sod...</td>\n",
              "    </tr>\n",
              "    <tr>\n",
              "      <td>4</td>\n",
              "      <td>134837</td>\n",
              "      <td>138300</td>\n",
              "      <td>208223</td>\n",
              "      <td>Sessions won’t testify at congressional budget...</td>\n",
              "      <td>Washington Post</td>\n",
              "      <td>Sari Horwitz</td>\n",
              "      <td>2017-06-10</td>\n",
              "      <td>2017.0</td>\n",
              "      <td>6.0</td>\n",
              "      <td>https://web.archive.org/web/20170611000758/htt...</td>\n",
              "      <td>Attorney General Jeff Sessions, who had agree...</td>\n",
              "      <td>left-center</td>\n",
              "      <td>0.111012</td>\n",
              "      <td>0.412202</td>\n",
              "      <td>Sessions won’t testify at congressional budget...</td>\n",
              "    </tr>\n",
              "  </tbody>\n",
              "</table>\n",
              "</div>"
            ]
          },
          "metadata": {
            "tags": []
          },
          "execution_count": 48
        }
      ]
    },
    {
      "cell_type": "code",
      "metadata": {
        "id": "bRVnLwcx6uKJ",
        "colab_type": "code",
        "colab": {
          "base_uri": "https://localhost:8080/",
          "height": 666
        },
        "outputId": "8b162f35-bbb3-4855-b9b2-ba89c3e3bfa8"
      },
      "source": [
        "filter_small_data.head()"
      ],
      "execution_count": 49,
      "outputs": [
        {
          "output_type": "execute_result",
          "data": {
            "text/plain": [
              "    index  Unnamed: 0      id  \\\n",
              "0  101379      104839  153712   \n",
              "1   65920       69328   98425   \n",
              "2   35078       35798   54621   \n",
              "3  101226      104686  153505   \n",
              "4   62873       66194   91357   \n",
              "\n",
              "                                               title          publication  \\\n",
              "0          Has the age of quantum computing arrived?             Guardian   \n",
              "1  Sanders Projected To Win The Wisconsin Democra...  Talking Points Memo   \n",
              "2         Toxic foam floods the streets of Bangalore                  CNN   \n",
              "3               Soul star Sharon Jones dies, aged 60             Guardian   \n",
              "4  GOPers Make Last-Ditch Attempt To Tie Georgia ...  Talking Points Memo   \n",
              "\n",
              "            author        date    year  month  \\\n",
              "0   Andrew Anthony  2016-05-22  2016.0    5.0   \n",
              "1              NaN  2016-04-06  2016.0    4.0   \n",
              "2              NaN  2017-05-31  2017.0    5.0   \n",
              "3     Michael Hann  2016-11-18  2016.0   11.0   \n",
              "4  Caitlin MacNeal         NaN     NaN    NaN   \n",
              "\n",
              "                                                 url  \\\n",
              "0  https://www.theguardian.com/technology/2016/ma...   \n",
              "1  https://web.archive.org/web/20160406060830/htt...   \n",
              "2                                                NaN   \n",
              "3  https://www.theguardian.com/music/2016/nov/19/...   \n",
              "4  https://web.archive.org/web/20170407001946/htt...   \n",
              "\n",
              "                                             content     pub_bias  polarity  \\\n",
              "0  Ever since Charles Babbage’s conceptual, unrea...  left-center  0.136875   \n",
              "1  Sen. Bernie Sanders ( ) was projected to win t...  left-center  0.319638   \n",
              "2  New Delhi (CNN) In the southern Indian city of...  left-center  0.028901   \n",
              "3  The soul singer Sharon Jones has died, aged 60...  left-center  0.158978   \n",
              "4  With just under two weeks to go until a specia...  left-center  0.115283   \n",
              "\n",
              "   subjectivity                                               text  \n",
              "0      0.497199  Has the age of quantum computing arrived? Ever...  \n",
              "1      0.418182  Sanders Projected To Win The Wisconsin Democra...  \n",
              "2      0.362504  Toxic foam floods the streets of Bangalore New...  \n",
              "3      0.453571  Soul star Sharon Jones dies, aged 60 The soul ...  \n",
              "4      0.462200  GOPers Make Last-Ditch Attempt To Tie Georgia ...  "
            ],
            "text/html": [
              "<div>\n",
              "<style scoped>\n",
              "    .dataframe tbody tr th:only-of-type {\n",
              "        vertical-align: middle;\n",
              "    }\n",
              "\n",
              "    .dataframe tbody tr th {\n",
              "        vertical-align: top;\n",
              "    }\n",
              "\n",
              "    .dataframe thead th {\n",
              "        text-align: right;\n",
              "    }\n",
              "</style>\n",
              "<table border=\"1\" class=\"dataframe\">\n",
              "  <thead>\n",
              "    <tr style=\"text-align: right;\">\n",
              "      <th></th>\n",
              "      <th>index</th>\n",
              "      <th>Unnamed: 0</th>\n",
              "      <th>id</th>\n",
              "      <th>title</th>\n",
              "      <th>publication</th>\n",
              "      <th>author</th>\n",
              "      <th>date</th>\n",
              "      <th>year</th>\n",
              "      <th>month</th>\n",
              "      <th>url</th>\n",
              "      <th>content</th>\n",
              "      <th>pub_bias</th>\n",
              "      <th>polarity</th>\n",
              "      <th>subjectivity</th>\n",
              "      <th>text</th>\n",
              "    </tr>\n",
              "  </thead>\n",
              "  <tbody>\n",
              "    <tr>\n",
              "      <td>0</td>\n",
              "      <td>101379</td>\n",
              "      <td>104839</td>\n",
              "      <td>153712</td>\n",
              "      <td>Has the age of quantum computing arrived?</td>\n",
              "      <td>Guardian</td>\n",
              "      <td>Andrew Anthony</td>\n",
              "      <td>2016-05-22</td>\n",
              "      <td>2016.0</td>\n",
              "      <td>5.0</td>\n",
              "      <td>https://www.theguardian.com/technology/2016/ma...</td>\n",
              "      <td>Ever since Charles Babbage’s conceptual, unrea...</td>\n",
              "      <td>left-center</td>\n",
              "      <td>0.136875</td>\n",
              "      <td>0.497199</td>\n",
              "      <td>Has the age of quantum computing arrived? Ever...</td>\n",
              "    </tr>\n",
              "    <tr>\n",
              "      <td>1</td>\n",
              "      <td>65920</td>\n",
              "      <td>69328</td>\n",
              "      <td>98425</td>\n",
              "      <td>Sanders Projected To Win The Wisconsin Democra...</td>\n",
              "      <td>Talking Points Memo</td>\n",
              "      <td>NaN</td>\n",
              "      <td>2016-04-06</td>\n",
              "      <td>2016.0</td>\n",
              "      <td>4.0</td>\n",
              "      <td>https://web.archive.org/web/20160406060830/htt...</td>\n",
              "      <td>Sen. Bernie Sanders ( ) was projected to win t...</td>\n",
              "      <td>left-center</td>\n",
              "      <td>0.319638</td>\n",
              "      <td>0.418182</td>\n",
              "      <td>Sanders Projected To Win The Wisconsin Democra...</td>\n",
              "    </tr>\n",
              "    <tr>\n",
              "      <td>2</td>\n",
              "      <td>35078</td>\n",
              "      <td>35798</td>\n",
              "      <td>54621</td>\n",
              "      <td>Toxic foam floods the streets of Bangalore</td>\n",
              "      <td>CNN</td>\n",
              "      <td>NaN</td>\n",
              "      <td>2017-05-31</td>\n",
              "      <td>2017.0</td>\n",
              "      <td>5.0</td>\n",
              "      <td>NaN</td>\n",
              "      <td>New Delhi (CNN) In the southern Indian city of...</td>\n",
              "      <td>left-center</td>\n",
              "      <td>0.028901</td>\n",
              "      <td>0.362504</td>\n",
              "      <td>Toxic foam floods the streets of Bangalore New...</td>\n",
              "    </tr>\n",
              "    <tr>\n",
              "      <td>3</td>\n",
              "      <td>101226</td>\n",
              "      <td>104686</td>\n",
              "      <td>153505</td>\n",
              "      <td>Soul star Sharon Jones dies, aged 60</td>\n",
              "      <td>Guardian</td>\n",
              "      <td>Michael Hann</td>\n",
              "      <td>2016-11-18</td>\n",
              "      <td>2016.0</td>\n",
              "      <td>11.0</td>\n",
              "      <td>https://www.theguardian.com/music/2016/nov/19/...</td>\n",
              "      <td>The soul singer Sharon Jones has died, aged 60...</td>\n",
              "      <td>left-center</td>\n",
              "      <td>0.158978</td>\n",
              "      <td>0.453571</td>\n",
              "      <td>Soul star Sharon Jones dies, aged 60 The soul ...</td>\n",
              "    </tr>\n",
              "    <tr>\n",
              "      <td>4</td>\n",
              "      <td>62873</td>\n",
              "      <td>66194</td>\n",
              "      <td>91357</td>\n",
              "      <td>GOPers Make Last-Ditch Attempt To Tie Georgia ...</td>\n",
              "      <td>Talking Points Memo</td>\n",
              "      <td>Caitlin MacNeal</td>\n",
              "      <td>NaN</td>\n",
              "      <td>NaN</td>\n",
              "      <td>NaN</td>\n",
              "      <td>https://web.archive.org/web/20170407001946/htt...</td>\n",
              "      <td>With just under two weeks to go until a specia...</td>\n",
              "      <td>left-center</td>\n",
              "      <td>0.115283</td>\n",
              "      <td>0.462200</td>\n",
              "      <td>GOPers Make Last-Ditch Attempt To Tie Georgia ...</td>\n",
              "    </tr>\n",
              "  </tbody>\n",
              "</table>\n",
              "</div>"
            ]
          },
          "metadata": {
            "tags": []
          },
          "execution_count": 49
        }
      ]
    },
    {
      "cell_type": "code",
      "metadata": {
        "id": "V0TcXHu3JqQQ",
        "colab_type": "code",
        "colab": {}
      },
      "source": [
        "# output csv files for eval and train data\n",
        "eval_data.to_csv('news_filter/data/eval_data.csv', index=False)\n",
        "small_data.to_csv('news_filter/data/small_data.csv', index=False)\n",
        "filter_small_data.to_csv('news_filter/data/filter_small_data.csv', index=False)"
      ],
      "execution_count": 0,
      "outputs": []
    },
    {
      "cell_type": "code",
      "metadata": {
        "id": "92UIoyIMJmgi",
        "colab_type": "code",
        "colab": {}
      },
      "source": [
        ""
      ],
      "execution_count": 0,
      "outputs": []
    }
  ]
}