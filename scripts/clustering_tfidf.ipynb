{
  "nbformat": 4,
  "nbformat_minor": 0,
  "metadata": {
    "colab": {
      "name": "clustering_tfidf.ipynb",
      "provenance": [],
      "authorship_tag": "ABX9TyNo/0ajfvQIpum4QNikCbKn",
      "include_colab_link": true
    },
    "kernelspec": {
      "name": "python3",
      "display_name": "Python 3"
    }
  },
  "cells": [
    {
      "cell_type": "markdown",
      "metadata": {
        "id": "view-in-github",
        "colab_type": "text"
      },
      "source": [
        "<a href=\"https://colab.research.google.com/github/s-miramontes/News_Filter/blob/master/scripts/clustering_tfidf.ipynb\" target=\"_parent\"><img src=\"https://colab.research.google.com/assets/colab-badge.svg\" alt=\"Open In Colab\"/></a>"
      ]
    },
    {
      "cell_type": "markdown",
      "metadata": {
        "id": "UkOLiINQjEw-",
        "colab_type": "text"
      },
      "source": [
        "# Clustering with tf-idf"
      ]
    },
    {
      "cell_type": "code",
      "metadata": {
        "id": "9YX0BB7njT03",
        "colab_type": "code",
        "colab": {
          "base_uri": "https://localhost:8080/",
          "height": 68
        },
        "outputId": "6ac0f1a8-0f49-4c34-dba3-952efded4106"
      },
      "source": [
        "# import statements \n",
        "\n",
        "import pandas as pd\n",
        "import numpy as np\n",
        "\n",
        "import nltk\n",
        "from nltk.corpus import stopwords\n",
        "nltk.download('stopwords')\n",
        "from nltk.stem.snowball import SnowballStemmer\n",
        "import re\n",
        "\n",
        "from sklearn.feature_extraction.text import TfidfVectorizer\n",
        "\n",
        "from sklearn.cluster import KMeans\n",
        "\n",
        "from sklearn.metrics.pairwise import cosine_similarity\n",
        "\n",
        "from joblib import Parallel, delayed\n",
        "\n",
        "import heapq\n",
        "import operator"
      ],
      "execution_count": 1,
      "outputs": [
        {
          "output_type": "stream",
          "text": [
            "[nltk_data] Downloading package stopwords to\n",
            "[nltk_data]     /home/erusson/nltk_data...\n",
            "[nltk_data]   Package stopwords is already up-to-date!\n"
          ],
          "name": "stderr"
        }
      ]
    },
    {
      "cell_type": "markdown",
      "metadata": {
        "id": "DCvdxYp_jWdl",
        "colab_type": "text"
      },
      "source": [
        "## Import Data"
      ]
    },
    {
      "cell_type": "code",
      "metadata": {
        "id": "dFZLL5sjjVZi",
        "colab_type": "code",
        "colab": {
          "base_uri": "https://localhost:8080/",
          "height": 34
        },
        "outputId": "639991c4-17c0-4264-f0b3-431b8e37a97e"
      },
      "source": [
        "eval_data = pd.read_csv(\"news_filter/data/eval_data.csv\")\n",
        "\n",
        "eval_data.shape"
      ],
      "execution_count": 2,
      "outputs": [
        {
          "output_type": "execute_result",
          "data": {
            "text/plain": [
              "(200, 13)"
            ]
          },
          "metadata": {
            "tags": []
          },
          "execution_count": 2
        }
      ]
    },
    {
      "cell_type": "code",
      "metadata": {
        "id": "CD79EdIGjwml",
        "colab_type": "code",
        "colab": {
          "base_uri": "https://localhost:8080/",
          "height": 564
        },
        "outputId": "e16520fd-d994-4ee0-cfcf-b4b6ac7ea982"
      },
      "source": [
        "eval_data.head()"
      ],
      "execution_count": 3,
      "outputs": [
        {
          "output_type": "execute_result",
          "data": {
            "text/plain": [
              "    index  Unnamed: 0      id  \\\n",
              "0   74496       77946  118473   \n",
              "1   71184       74592  113594   \n",
              "2  120205      123668  184574   \n",
              "3  128977      132440  199665   \n",
              "4  134837      138300  208223   \n",
              "\n",
              "                                               title      publication  \\\n",
              "0  Chaos in the Family, Chaos in the State: The W...  National Review   \n",
              "1  US Civil Rights Commission Will Observe Standi...    Buzzfeed News   \n",
              "2  Venezuela hunts rogue helicopter attackers, Ma...          Reuters   \n",
              "3  Fruit juice isn’t much better for you than sod...              Vox   \n",
              "4  Sessions won’t testify at congressional budget...  Washington Post   \n",
              "\n",
              "                                  author        date    year  month  \\\n",
              "0                    Kevin D. Williamson  2016-03-17  2016.0    3.0   \n",
              "1                       Nidhi Subbaraman  2016-12-08  2016.0   12.0   \n",
              "2  Andrew Cawthorne and Victoria Ramirez  2017-06-29  2017.0    6.0   \n",
              "3                           Julia Belluz   2016/3/25  2016.0    3.0   \n",
              "4                           Sari Horwitz  2017-06-10  2017.0    6.0   \n",
              "\n",
              "                                                 url  \\\n",
              "0  http://www.nationalreview.com/article/432876/d...   \n",
              "1  https://web.archive.org/web/20161208153906/htt...   \n",
              "2  http://www.reuters.com/article/us-venezuela-po...   \n",
              "3  http://www.vox.com/2016/3/25/11305614/soda-jui...   \n",
              "4  https://web.archive.org/web/20170611000758/htt...   \n",
              "\n",
              "                                             content  label  \\\n",
              "0  Michael Brendan Dougherty is bitter. I think t...      0   \n",
              "1   WASHINGTON  —   The US Commission on Civil Ri...      0   \n",
              "2   The Venezuelan government hunted on Wednesday...      0   \n",
              "3   One of the biggest public health wins of rece...      0   \n",
              "4   Attorney General Jeff Sessions, who had agree...      1   \n",
              "\n",
              "                                                text  \n",
              "0  Chaos in the Family, Chaos in the State: The W...  \n",
              "1  US Civil Rights Commission Will Observe Standi...  \n",
              "2  Venezuela hunts rogue helicopter attackers, Ma...  \n",
              "3  Fruit juice isn’t much better for you than sod...  \n",
              "4  Sessions won’t testify at congressional budget...  "
            ],
            "text/html": [
              "<div>\n",
              "<style scoped>\n",
              "    .dataframe tbody tr th:only-of-type {\n",
              "        vertical-align: middle;\n",
              "    }\n",
              "\n",
              "    .dataframe tbody tr th {\n",
              "        vertical-align: top;\n",
              "    }\n",
              "\n",
              "    .dataframe thead th {\n",
              "        text-align: right;\n",
              "    }\n",
              "</style>\n",
              "<table border=\"1\" class=\"dataframe\">\n",
              "  <thead>\n",
              "    <tr style=\"text-align: right;\">\n",
              "      <th></th>\n",
              "      <th>index</th>\n",
              "      <th>Unnamed: 0</th>\n",
              "      <th>id</th>\n",
              "      <th>title</th>\n",
              "      <th>publication</th>\n",
              "      <th>author</th>\n",
              "      <th>date</th>\n",
              "      <th>year</th>\n",
              "      <th>month</th>\n",
              "      <th>url</th>\n",
              "      <th>content</th>\n",
              "      <th>label</th>\n",
              "      <th>text</th>\n",
              "    </tr>\n",
              "  </thead>\n",
              "  <tbody>\n",
              "    <tr>\n",
              "      <td>0</td>\n",
              "      <td>74496</td>\n",
              "      <td>77946</td>\n",
              "      <td>118473</td>\n",
              "      <td>Chaos in the Family, Chaos in the State: The W...</td>\n",
              "      <td>National Review</td>\n",
              "      <td>Kevin D. Williamson</td>\n",
              "      <td>2016-03-17</td>\n",
              "      <td>2016.0</td>\n",
              "      <td>3.0</td>\n",
              "      <td>http://www.nationalreview.com/article/432876/d...</td>\n",
              "      <td>Michael Brendan Dougherty is bitter. I think t...</td>\n",
              "      <td>0</td>\n",
              "      <td>Chaos in the Family, Chaos in the State: The W...</td>\n",
              "    </tr>\n",
              "    <tr>\n",
              "      <td>1</td>\n",
              "      <td>71184</td>\n",
              "      <td>74592</td>\n",
              "      <td>113594</td>\n",
              "      <td>US Civil Rights Commission Will Observe Standi...</td>\n",
              "      <td>Buzzfeed News</td>\n",
              "      <td>Nidhi Subbaraman</td>\n",
              "      <td>2016-12-08</td>\n",
              "      <td>2016.0</td>\n",
              "      <td>12.0</td>\n",
              "      <td>https://web.archive.org/web/20161208153906/htt...</td>\n",
              "      <td>WASHINGTON  —   The US Commission on Civil Ri...</td>\n",
              "      <td>0</td>\n",
              "      <td>US Civil Rights Commission Will Observe Standi...</td>\n",
              "    </tr>\n",
              "    <tr>\n",
              "      <td>2</td>\n",
              "      <td>120205</td>\n",
              "      <td>123668</td>\n",
              "      <td>184574</td>\n",
              "      <td>Venezuela hunts rogue helicopter attackers, Ma...</td>\n",
              "      <td>Reuters</td>\n",
              "      <td>Andrew Cawthorne and Victoria Ramirez</td>\n",
              "      <td>2017-06-29</td>\n",
              "      <td>2017.0</td>\n",
              "      <td>6.0</td>\n",
              "      <td>http://www.reuters.com/article/us-venezuela-po...</td>\n",
              "      <td>The Venezuelan government hunted on Wednesday...</td>\n",
              "      <td>0</td>\n",
              "      <td>Venezuela hunts rogue helicopter attackers, Ma...</td>\n",
              "    </tr>\n",
              "    <tr>\n",
              "      <td>3</td>\n",
              "      <td>128977</td>\n",
              "      <td>132440</td>\n",
              "      <td>199665</td>\n",
              "      <td>Fruit juice isn’t much better for you than sod...</td>\n",
              "      <td>Vox</td>\n",
              "      <td>Julia Belluz</td>\n",
              "      <td>2016/3/25</td>\n",
              "      <td>2016.0</td>\n",
              "      <td>3.0</td>\n",
              "      <td>http://www.vox.com/2016/3/25/11305614/soda-jui...</td>\n",
              "      <td>One of the biggest public health wins of rece...</td>\n",
              "      <td>0</td>\n",
              "      <td>Fruit juice isn’t much better for you than sod...</td>\n",
              "    </tr>\n",
              "    <tr>\n",
              "      <td>4</td>\n",
              "      <td>134837</td>\n",
              "      <td>138300</td>\n",
              "      <td>208223</td>\n",
              "      <td>Sessions won’t testify at congressional budget...</td>\n",
              "      <td>Washington Post</td>\n",
              "      <td>Sari Horwitz</td>\n",
              "      <td>2017-06-10</td>\n",
              "      <td>2017.0</td>\n",
              "      <td>6.0</td>\n",
              "      <td>https://web.archive.org/web/20170611000758/htt...</td>\n",
              "      <td>Attorney General Jeff Sessions, who had agree...</td>\n",
              "      <td>1</td>\n",
              "      <td>Sessions won’t testify at congressional budget...</td>\n",
              "    </tr>\n",
              "  </tbody>\n",
              "</table>\n",
              "</div>"
            ]
          },
          "metadata": {
            "tags": []
          },
          "execution_count": 3
        }
      ]
    },
    {
      "cell_type": "markdown",
      "metadata": {
        "id": "8bANSbyTjKCd",
        "colab_type": "text"
      },
      "source": [
        "## Create Matrix of tf-idf Features "
      ]
    },
    {
      "cell_type": "code",
      "metadata": {
        "id": "WrtZBoirh_n2",
        "colab_type": "code",
        "colab": {}
      },
      "source": [
        "# define tokenizer for tf-idf vectorizer\n",
        "\n",
        "def preprocess_text(text):\n",
        "\n",
        "  # function to remove punctuation \n",
        "  def Punctuation(string): \n",
        "    return re.sub(r'[\\W_]', ' ', string)\n",
        "\n",
        "  # remove punctuation and perform tokenization\n",
        "  text = Punctuation(text.lower()).split()\n",
        "\n",
        "  # remove stop words and stem\n",
        "  stop_words = set(stopwords.words('english'))\n",
        "  stemmer = SnowballStemmer(\"english\")\n",
        "  text = Parallel(n_jobs=16)(delayed(stemmer.stem)(t) for t in text if not t in stop_words)\n",
        "\n",
        "  return text"
      ],
      "execution_count": 0,
      "outputs": []
    },
    {
      "cell_type": "code",
      "metadata": {
        "id": "6QOi5PmokBPR",
        "colab_type": "code",
        "colab": {}
      },
      "source": [
        "# set number of features to be proportional to 5k features for 13k samples\n",
        "num_features = int(200*5000/13000)\n",
        "\n",
        "# instantiate tfidf vectorizer \n",
        "tfidf_vectorizer = TfidfVectorizer(max_features=num_features, stop_words='english', use_idf=True, tokenizer=preprocess_text, ngram_range=(1,3))"
      ],
      "execution_count": 0,
      "outputs": []
    },
    {
      "cell_type": "code",
      "metadata": {
        "id": "fDN4F-kKoN2e",
        "colab_type": "code",
        "colab": {
          "base_uri": "https://localhost:8080/",
          "height": 88
        },
        "outputId": "dda8ada0-cdf7-4ddf-94b8-15551bbd9c15"
      },
      "source": [
        "# fit text of eval_data to vectorizer (fit and transform)\n",
        "eval_matrix = tfidf_vectorizer.fit_transform(eval_data.text)\n",
        "print(eval_matrix.shape)"
      ],
      "execution_count": 6,
      "outputs": [
        {
          "output_type": "stream",
          "text": [
            "/home/erusson/anaconda3/lib/python3.7/site-packages/sklearn/feature_extraction/text.py:300: UserWarning: Your stop_words may be inconsistent with your preprocessing. Tokenizing the stop words generated tokens ['afterward', 'alon', 'alreadi', 'alway', 'anoth', 'anyon', 'anyth', 'anywher', 'becam', 'becom', 'besid', 'cri', 'describ', 'els', 'elsewher', 'empti', 'everi', 'everyon', 'everyth', 'everywher', 'fifti', 'forti', 'henc', 'hereaft', 'herebi', 'howev', 'hundr', 'inde', 'mani', 'meanwhil', 'moreov', 'nobodi', 'noon', 'noth', 'nowher', 'otherwis', 'perhap', 'pleas', 'sever', 'sinc', 'sincer', 'sixti', 'someon', 'someth', 'sometim', 'somewher', 'thenc', 'thereaft', 'therebi', 'therefor', 'togeth', 'twelv', 'twenti', 'whatev', 'whenc', 'whenev', 'wherea', 'whereaft', 'wherebi', 'wherev'] not in stop_words.\n",
            "  'stop_words.' % sorted(inconsistent))\n"
          ],
          "name": "stderr"
        },
        {
          "output_type": "stream",
          "text": [
            "(200, 76)\n"
          ],
          "name": "stdout"
        }
      ]
    },
    {
      "cell_type": "code",
      "metadata": {
        "id": "ySRZZ9VloqbM",
        "colab_type": "code",
        "colab": {
          "base_uri": "https://localhost:8080/",
          "height": 238
        },
        "outputId": "357133f9-26fd-4132-c650-7aaa1aaaf0c8"
      },
      "source": [
        "# sanity check of cosine similarity of eval matrix\n",
        "cosine_similarity(eval_matrix, eval_matrix) "
      ],
      "execution_count": 7,
      "outputs": [
        {
          "output_type": "execute_result",
          "data": {
            "text/plain": [
              "array([[1.        , 0.27673884, 0.22421466, ..., 0.07289879, 0.38299339,\n",
              "        0.28004707],\n",
              "       [0.27673884, 1.        , 0.34701032, ..., 0.33303765, 0.31704066,\n",
              "        0.2346992 ],\n",
              "       [0.22421466, 0.34701032, 1.        , ..., 0.30553886, 0.32502581,\n",
              "        0.20244243],\n",
              "       ...,\n",
              "       [0.07289879, 0.33303765, 0.30553886, ..., 1.        , 0.19593706,\n",
              "        0.0555759 ],\n",
              "       [0.38299339, 0.31704066, 0.32502581, ..., 0.19593706, 1.        ,\n",
              "        0.17704205],\n",
              "       [0.28004707, 0.2346992 , 0.20244243, ..., 0.0555759 , 0.17704205,\n",
              "        1.        ]])"
            ]
          },
          "metadata": {
            "tags": []
          },
          "execution_count": 7
        }
      ]
    },
    {
      "cell_type": "markdown",
      "metadata": {
        "id": "O_NwUjnb3YzP",
        "colab_type": "text"
      },
      "source": [
        "## Assign Cluster to Input "
      ]
    },
    {
      "cell_type": "code",
      "metadata": {
        "id": "1sy73keS2nA4",
        "colab_type": "code",
        "colab": {}
      },
      "source": [
        "# example user inputs \n",
        "input_topics = [\"Russian interference with election\", \"Wikileaks hacking Hillary Clinton's email\", \"democratic campaigns\", \"Trump against Obamacare\", \"Trump's Campaign\"]"
      ],
      "execution_count": 0,
      "outputs": []
    },
    {
      "cell_type": "code",
      "metadata": {
        "id": "DenBZ54A3zQO",
        "colab_type": "code",
        "colab": {
          "base_uri": "https://localhost:8080/",
          "height": 34
        },
        "outputId": "4338b29e-474d-41c5-81b7-ae78cb5d5f5f"
      },
      "source": [
        "# create tf-idf features for user inputs (transform)\n",
        "input_matrix = tfidf_vectorizer.transform(input_topics)\n",
        "print(input_matrix.shape)"
      ],
      "execution_count": 10,
      "outputs": [
        {
          "output_type": "stream",
          "text": [
            "(5, 76)\n"
          ],
          "name": "stdout"
        }
      ]
    },
    {
      "cell_type": "code",
      "metadata": {
        "id": "R40-XNF230Qc",
        "colab_type": "code",
        "colab": {
          "base_uri": "https://localhost:8080/",
          "height": 34
        },
        "outputId": "e0202095-3568-41be-dcba-9358ba7730bb"
      },
      "source": [
        "# data frame of titles and semantic similarities\n",
        "cos_df = pd.DataFrame(cosine_similarity(input_matrix, eval_matrix))\n",
        "cos_df.columns = eval_data.title\n",
        "cos_df.index = input_topics\n",
        "\n",
        "cos_df.shape"
      ],
      "execution_count": 12,
      "outputs": [
        {
          "output_type": "execute_result",
          "data": {
            "text/plain": [
              "(5, 200)"
            ]
          },
          "metadata": {
            "tags": []
          },
          "execution_count": 12
        }
      ]
    },
    {
      "cell_type": "code",
      "metadata": {
        "id": "IykaOzx75LR_",
        "colab_type": "code",
        "colab": {
          "base_uri": "https://localhost:8080/",
          "height": 442
        },
        "outputId": "1fd92999-2aa3-4c4e-a75e-4c95af9162ca"
      },
      "source": [
        "# function to return the column index of the top five values in a row of a dataframe\n",
        "def find_top5ind(df, i):\n",
        "  return list(list(zip(*heapq.nlargest(5, enumerate(df.iloc[i,:]), key=operator.itemgetter(1))))[0])\n",
        "\n",
        "# function to return the top 5 values in a list\n",
        "def find_top5(lst, ind):\n",
        "  return [lst[i] for i in ind]\n",
        "\n",
        "# find index of 5 most similar titles \n",
        "top5_ind = Parallel(n_jobs=16)(delayed(find_top5ind)(cos_df, i) for i in range(len(cos_df)))\n",
        "\n",
        "# show most similar titles -- final clusters\n",
        "top5 = Parallel(n_jobs=16)(delayed(find_top5)(eval_data.title, ind) for ind in top5_ind)\n",
        "\n",
        "top5[:5]\n",
        "# topics: \"Russian interference with election\", \"Wikileaks hacking Hillary Clinton's email\", \"democratic campaigns\", \"Trump against Obamacare\", \"Trump's Campaign\""
      ],
      "execution_count": 17,
      "outputs": [
        {
          "output_type": "execute_result",
          "data": {
            "text/plain": [
              "[['From disputes to a breakup: wounds still raw after U.S. election',\n",
              "  'Emmanuel Macron Declared Next French President',\n",
              "  'Jill Stein files for recount in\\xa0Wisconsin',\n",
              "  'Use the Electoral College Properly or Lose It',\n",
              "  'The Election Highlighted a Growing Rural-Urban Split '],\n",
              " ['Bill Clinton’s birthday present from granddaughter Charlotte',\n",
              "  'Hillary Campaign Denies Report of Campaign Shake-up After New Hampshire ',\n",
              "  'TRUMP: Adversaries of US ’almost certainly have a blackmail file’ on Clinton',\n",
              "  'AP: Gov’t Declares 22 Clinton Emails ’Top Secret’',\n",
              "  'FBI: Clinton ’extremely careless’ but no charges recommended'],\n",
              " ['Senate Democrats have a $1 trillion infrastructure plan — and it’s very different from Trump’s',\n",
              "  'Ted Cruz’s SCOTUS Pick Gave to Democrats in 2008',\n",
              "  'Socialism after Bernie Sanders: \"Being a radical isn’t about being too pure for the world\"',\n",
              "  'Trump Coins a New Nickname for John Kasich ',\n",
              "  'Photographer exhibits ’Magnificent Failures’'],\n",
              " ['How Donald Trump Lost $916 Million',\n",
              "  'It’s down to Trump and Cruz. Kasich is not part of the equation',\n",
              "  'Ivanka Trump cuts off Cosmo interview after tough questioning',\n",
              "  'Donald Trump’s big, bizarre religious day ',\n",
              "  ' In Reversal, Trump Indicates To Hispanic Leaders Openness To Legalization For Immigrants'],\n",
              " ['Trump Coins a New Nickname for John Kasich ',\n",
              "  ' In Reversal, Trump Indicates To Hispanic Leaders Openness To Legalization For Immigrants',\n",
              "  'It’s down to Trump and Cruz. Kasich is not part of the equation',\n",
              "  'Ivanka Trump cuts off Cosmo interview after tough questioning',\n",
              "  'How Donald Trump Lost $916 Million']]"
            ]
          },
          "metadata": {
            "tags": []
          },
          "execution_count": 17
        }
      ]
    },
    {
      "cell_type": "code",
      "metadata": {
        "id": "3mGoXHY25_fv",
        "colab_type": "code",
        "colab": {}
      },
      "source": [
        ""
      ],
      "execution_count": 0,
      "outputs": []
    }
  ]
}