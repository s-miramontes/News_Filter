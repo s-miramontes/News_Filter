{
  "nbformat": 4,
  "nbformat_minor": 0,
  "metadata": {
    "colab": {
      "name": "compare_corpus.ipynb",
      "provenance": [],
      "authorship_tag": "ABX9TyOItaLCiG2DMAAnUBUAMX6V",
      "include_colab_link": true
    },
    "kernelspec": {
      "name": "python3",
      "display_name": "Python 3"
    }
  },
  "cells": [
    {
      "cell_type": "markdown",
      "metadata": {
        "id": "view-in-github",
        "colab_type": "text"
      },
      "source": [
        "<a href=\"https://colab.research.google.com/github/s-miramontes/News_Filter/blob/master/scripts/compare_corpus.ipynb\" target=\"_parent\"><img src=\"https://colab.research.google.com/assets/colab-badge.svg\" alt=\"Open In Colab\"/></a>"
      ]
    },
    {
      "cell_type": "markdown",
      "metadata": {
        "id": "ACGdGuc1X043",
        "colab_type": "text"
      },
      "source": [
        "# Evaluation of Clustering with Universal Sentence Encoder on Different Corpus \n",
        "\n",
        "\n",
        "*   just title\n",
        "*   just content\n",
        "*   text: title + content\n",
        "\n",
        "\n"
      ]
    },
    {
      "cell_type": "code",
      "metadata": {
        "id": "kvjMESdMYOqU",
        "colab_type": "code",
        "colab": {}
      },
      "source": [
        "# %%capture\n",
        "# # Install the latest Tensorflow version.\n",
        "# !pip3 install --upgrade tensorflow-gpu\n",
        "# # Install TF-Hub.\n",
        "# !pip3 install tensorflow-hub\n",
        "# !pip3 install seaborn"
      ],
      "execution_count": 0,
      "outputs": []
    },
    {
      "cell_type": "code",
      "metadata": {
        "id": "wlacagOtYOyw",
        "colab_type": "code",
        "colab": {}
      },
      "source": [
        "# import statements \n",
        "\n",
        "import pandas as pd\n",
        "import numpy as np\n",
        "\n",
        "from sklearn.metrics.pairwise import cosine_similarity\n",
        "\n",
        "from joblib import Parallel, delayed\n",
        "\n",
        "import heapq\n",
        "import operator\n",
        "\n",
        "from absl import logging\n",
        "\n",
        "import tensorflow as tf\n",
        "import tensorflow_hub as hub\n",
        "\n",
        "from collections import Counter"
      ],
      "execution_count": 0,
      "outputs": []
    },
    {
      "cell_type": "markdown",
      "metadata": {
        "id": "LQMZouysYKQ8",
        "colab_type": "text"
      },
      "source": [
        "## Import Data"
      ]
    },
    {
      "cell_type": "code",
      "metadata": {
        "id": "PBmP2hPrYJ5p",
        "colab_type": "code",
        "colab": {
          "base_uri": "https://localhost:8080/",
          "height": 34
        },
        "outputId": "017dfb27-5764-48f8-cb6c-4ac009572ca3"
      },
      "source": [
        "eval_data = pd.read_csv(\"news_filter/data/eval_data.csv\")\n",
        "\n",
        "eval_data.shape"
      ],
      "execution_count": 2,
      "outputs": [
        {
          "output_type": "execute_result",
          "data": {
            "text/plain": [
              "(200, 13)"
            ]
          },
          "metadata": {
            "tags": []
          },
          "execution_count": 2
        }
      ]
    },
    {
      "cell_type": "code",
      "metadata": {
        "id": "97dBA6l4XxCC",
        "colab_type": "code",
        "colab": {
          "base_uri": "https://localhost:8080/",
          "height": 564
        },
        "outputId": "da9ad42f-1b7c-4af2-c42f-759e97269c1b"
      },
      "source": [
        "eval_data.head()"
      ],
      "execution_count": 3,
      "outputs": [
        {
          "output_type": "execute_result",
          "data": {
            "text/plain": [
              "    index  Unnamed: 0      id  \\\n",
              "0   74496       77946  118473   \n",
              "1   71184       74592  113594   \n",
              "2  120205      123668  184574   \n",
              "3  128977      132440  199665   \n",
              "4  134837      138300  208223   \n",
              "\n",
              "                                               title      publication  \\\n",
              "0  Chaos in the Family, Chaos in the State: The W...  National Review   \n",
              "1  US Civil Rights Commission Will Observe Standi...    Buzzfeed News   \n",
              "2  Venezuela hunts rogue helicopter attackers, Ma...          Reuters   \n",
              "3  Fruit juice isn’t much better for you than sod...              Vox   \n",
              "4  Sessions won’t testify at congressional budget...  Washington Post   \n",
              "\n",
              "                                  author        date    year  month  \\\n",
              "0                    Kevin D. Williamson  2016-03-17  2016.0    3.0   \n",
              "1                       Nidhi Subbaraman  2016-12-08  2016.0   12.0   \n",
              "2  Andrew Cawthorne and Victoria Ramirez  2017-06-29  2017.0    6.0   \n",
              "3                           Julia Belluz   2016/3/25  2016.0    3.0   \n",
              "4                           Sari Horwitz  2017-06-10  2017.0    6.0   \n",
              "\n",
              "                                                 url  \\\n",
              "0  http://www.nationalreview.com/article/432876/d...   \n",
              "1  https://web.archive.org/web/20161208153906/htt...   \n",
              "2  http://www.reuters.com/article/us-venezuela-po...   \n",
              "3  http://www.vox.com/2016/3/25/11305614/soda-jui...   \n",
              "4  https://web.archive.org/web/20170611000758/htt...   \n",
              "\n",
              "                                             content  label  \\\n",
              "0  Michael Brendan Dougherty is bitter. I think t...      0   \n",
              "1   WASHINGTON  —   The US Commission on Civil Ri...      0   \n",
              "2   The Venezuelan government hunted on Wednesday...      0   \n",
              "3   One of the biggest public health wins of rece...      0   \n",
              "4   Attorney General Jeff Sessions, who had agree...      1   \n",
              "\n",
              "                                                text  \n",
              "0  Chaos in the Family, Chaos in the State: The W...  \n",
              "1  US Civil Rights Commission Will Observe Standi...  \n",
              "2  Venezuela hunts rogue helicopter attackers, Ma...  \n",
              "3  Fruit juice isn’t much better for you than sod...  \n",
              "4  Sessions won’t testify at congressional budget...  "
            ],
            "text/html": [
              "<div>\n",
              "<style scoped>\n",
              "    .dataframe tbody tr th:only-of-type {\n",
              "        vertical-align: middle;\n",
              "    }\n",
              "\n",
              "    .dataframe tbody tr th {\n",
              "        vertical-align: top;\n",
              "    }\n",
              "\n",
              "    .dataframe thead th {\n",
              "        text-align: right;\n",
              "    }\n",
              "</style>\n",
              "<table border=\"1\" class=\"dataframe\">\n",
              "  <thead>\n",
              "    <tr style=\"text-align: right;\">\n",
              "      <th></th>\n",
              "      <th>index</th>\n",
              "      <th>Unnamed: 0</th>\n",
              "      <th>id</th>\n",
              "      <th>title</th>\n",
              "      <th>publication</th>\n",
              "      <th>author</th>\n",
              "      <th>date</th>\n",
              "      <th>year</th>\n",
              "      <th>month</th>\n",
              "      <th>url</th>\n",
              "      <th>content</th>\n",
              "      <th>label</th>\n",
              "      <th>text</th>\n",
              "    </tr>\n",
              "  </thead>\n",
              "  <tbody>\n",
              "    <tr>\n",
              "      <td>0</td>\n",
              "      <td>74496</td>\n",
              "      <td>77946</td>\n",
              "      <td>118473</td>\n",
              "      <td>Chaos in the Family, Chaos in the State: The W...</td>\n",
              "      <td>National Review</td>\n",
              "      <td>Kevin D. Williamson</td>\n",
              "      <td>2016-03-17</td>\n",
              "      <td>2016.0</td>\n",
              "      <td>3.0</td>\n",
              "      <td>http://www.nationalreview.com/article/432876/d...</td>\n",
              "      <td>Michael Brendan Dougherty is bitter. I think t...</td>\n",
              "      <td>0</td>\n",
              "      <td>Chaos in the Family, Chaos in the State: The W...</td>\n",
              "    </tr>\n",
              "    <tr>\n",
              "      <td>1</td>\n",
              "      <td>71184</td>\n",
              "      <td>74592</td>\n",
              "      <td>113594</td>\n",
              "      <td>US Civil Rights Commission Will Observe Standi...</td>\n",
              "      <td>Buzzfeed News</td>\n",
              "      <td>Nidhi Subbaraman</td>\n",
              "      <td>2016-12-08</td>\n",
              "      <td>2016.0</td>\n",
              "      <td>12.0</td>\n",
              "      <td>https://web.archive.org/web/20161208153906/htt...</td>\n",
              "      <td>WASHINGTON  —   The US Commission on Civil Ri...</td>\n",
              "      <td>0</td>\n",
              "      <td>US Civil Rights Commission Will Observe Standi...</td>\n",
              "    </tr>\n",
              "    <tr>\n",
              "      <td>2</td>\n",
              "      <td>120205</td>\n",
              "      <td>123668</td>\n",
              "      <td>184574</td>\n",
              "      <td>Venezuela hunts rogue helicopter attackers, Ma...</td>\n",
              "      <td>Reuters</td>\n",
              "      <td>Andrew Cawthorne and Victoria Ramirez</td>\n",
              "      <td>2017-06-29</td>\n",
              "      <td>2017.0</td>\n",
              "      <td>6.0</td>\n",
              "      <td>http://www.reuters.com/article/us-venezuela-po...</td>\n",
              "      <td>The Venezuelan government hunted on Wednesday...</td>\n",
              "      <td>0</td>\n",
              "      <td>Venezuela hunts rogue helicopter attackers, Ma...</td>\n",
              "    </tr>\n",
              "    <tr>\n",
              "      <td>3</td>\n",
              "      <td>128977</td>\n",
              "      <td>132440</td>\n",
              "      <td>199665</td>\n",
              "      <td>Fruit juice isn’t much better for you than sod...</td>\n",
              "      <td>Vox</td>\n",
              "      <td>Julia Belluz</td>\n",
              "      <td>2016/3/25</td>\n",
              "      <td>2016.0</td>\n",
              "      <td>3.0</td>\n",
              "      <td>http://www.vox.com/2016/3/25/11305614/soda-jui...</td>\n",
              "      <td>One of the biggest public health wins of rece...</td>\n",
              "      <td>0</td>\n",
              "      <td>Fruit juice isn’t much better for you than sod...</td>\n",
              "    </tr>\n",
              "    <tr>\n",
              "      <td>4</td>\n",
              "      <td>134837</td>\n",
              "      <td>138300</td>\n",
              "      <td>208223</td>\n",
              "      <td>Sessions won’t testify at congressional budget...</td>\n",
              "      <td>Washington Post</td>\n",
              "      <td>Sari Horwitz</td>\n",
              "      <td>2017-06-10</td>\n",
              "      <td>2017.0</td>\n",
              "      <td>6.0</td>\n",
              "      <td>https://web.archive.org/web/20170611000758/htt...</td>\n",
              "      <td>Attorney General Jeff Sessions, who had agree...</td>\n",
              "      <td>1</td>\n",
              "      <td>Sessions won’t testify at congressional budget...</td>\n",
              "    </tr>\n",
              "  </tbody>\n",
              "</table>\n",
              "</div>"
            ]
          },
          "metadata": {
            "tags": []
          },
          "execution_count": 3
        }
      ]
    },
    {
      "cell_type": "markdown",
      "metadata": {
        "id": "KNgkJ7YZYavA",
        "colab_type": "text"
      },
      "source": [
        "## Compare Corpus for Universal Encoder"
      ]
    },
    {
      "cell_type": "markdown",
      "metadata": {
        "id": "zMqvz49GYe05",
        "colab_type": "text"
      },
      "source": [
        "### Output Precision and Recall"
      ]
    },
    {
      "cell_type": "code",
      "metadata": {
        "id": "q8VgwOoCYc_7",
        "colab_type": "code",
        "colab": {}
      },
      "source": [
        "def prec_recall(corpus):\n",
        "\n",
        "  # download model from https://tfhub.dev/google/universal-sentence-encoder/4 and save locally in 'tmp' folder\n",
        "  model = hub.load(\"news_filter/tmp\")\n",
        "\n",
        "  # reduce logging output\n",
        "  logging.set_verbosity(logging.ERROR)\n",
        "\n",
        "  # compute embeddings for each article\n",
        "  eval_embeddings = model(corpus)\n",
        "\n",
        "  # example user inputs \n",
        "  input_topics = [\"Russian interference with election\", \"Wikileaks hacking Hillary Clinton's email\", \"democratic campaigns\", \"Trump against Obamacare\", \"Trump's Campaign\"]\n",
        "\n",
        "  # create embeddings for each user input \n",
        "  input_embeddings = model(input_topics)\n",
        "\n",
        "  # data frame of titles and semantic similarities\n",
        "  cos_df = pd.DataFrame(cosine_similarity(input_embeddings, eval_embeddings))\n",
        "\n",
        "  # function to return the column index of the top n values in a row of a dataframe\n",
        "  def find_topind(df, i, n):\n",
        "    return list(list(zip(*heapq.nlargest(n, enumerate(df.iloc[i,:]), key=operator.itemgetter(1))))[0])\n",
        "\n",
        "  # function to return the top n values in a list\n",
        "  def find_top(lst, ind):\n",
        "    return [lst[i] for i in ind]\n",
        "\n",
        "  # how many articles per cluster\n",
        "  n = 10\n",
        "\n",
        "  # find index of n most similar articles \n",
        "  top_ind = Parallel(n_jobs=16)(delayed(find_topind)(cos_df, i, n) for i in range(len(cos_df)))\n",
        "\n",
        "  # original annotations of articles in each cluster (true and false positives)\n",
        "  top_lab = Parallel(n_jobs=16)(delayed(find_top)(eval_data.label, ind) for ind in top_ind)\n",
        "\n",
        "  # how many articles annotated to each label (ground truth)\n",
        "  num_lab = dict(Counter(eval_data.label))\n",
        "\n",
        "  # how many of articles land in correct cluster (true positives)\n",
        "  i=1\n",
        "  true_pos = []\n",
        "  for cluster in top_lab:\n",
        "    true_pos.append(sum([l == i for l in cluster]))\n",
        "    i+=1\n",
        "\n",
        "  # percent of correct predictions out of original assignments (recall)\n",
        "  recall = []\n",
        "  for i in range(len(true_pos)):\n",
        "    recall.append(true_pos[i]/num_lab[i+1])\n",
        "\n",
        "  # average recall \n",
        "  avg_recall = np.mean(recall)\n",
        "\n",
        "  # percent of correct predictions out of all predictions (precision)\n",
        "  precision = [i/n for i in true_pos]\n",
        "\n",
        "  # average precision\n",
        "  avg_precision = np.mean(precision)\n",
        "\n",
        "  return (avg_precision, avg_recall)\n",
        "\n"
      ],
      "execution_count": 0,
      "outputs": []
    },
    {
      "cell_type": "code",
      "metadata": {
        "id": "I2cvJKD8cLBk",
        "colab_type": "code",
        "colab": {
          "base_uri": "https://localhost:8080/",
          "height": 34
        },
        "outputId": "563016ec-bc01-4043-8d46-c95c1eefecbd"
      },
      "source": [
        "# average precision and recall on titles\n",
        "prec_recall(eval_data.title)"
      ],
      "execution_count": 8,
      "outputs": [
        {
          "output_type": "execute_result",
          "data": {
            "text/plain": [
              "(0.32, 0.55)"
            ]
          },
          "metadata": {
            "tags": []
          },
          "execution_count": 8
        }
      ]
    },
    {
      "cell_type": "code",
      "metadata": {
        "id": "QBRLZXSgcKlW",
        "colab_type": "code",
        "colab": {
          "base_uri": "https://localhost:8080/",
          "height": 34
        },
        "outputId": "7aaab3f8-0803-481b-fe1e-bc33ae893d0a"
      },
      "source": [
        "# average precision and recall on content\n",
        "prec_recall(eval_data.content)"
      ],
      "execution_count": 9,
      "outputs": [
        {
          "output_type": "execute_result",
          "data": {
            "text/plain": [
              "(0.42000000000000004, 0.6583333333333333)"
            ]
          },
          "metadata": {
            "tags": []
          },
          "execution_count": 9
        }
      ]
    },
    {
      "cell_type": "code",
      "metadata": {
        "id": "48jrEdK1ZdSv",
        "colab_type": "code",
        "colab": {
          "base_uri": "https://localhost:8080/",
          "height": 34
        },
        "outputId": "6ad82423-d043-49d8-bb67-d25db03778dd"
      },
      "source": [
        "# average precision and recall on text\n",
        "prec_recall(eval_data.text)"
      ],
      "execution_count": 7,
      "outputs": [
        {
          "output_type": "execute_result",
          "data": {
            "text/plain": [
              "(0.42000000000000004, 0.6583333333333333)"
            ]
          },
          "metadata": {
            "tags": []
          },
          "execution_count": 7
        }
      ]
    },
    {
      "cell_type": "code",
      "metadata": {
        "id": "-CpXckCObPJ8",
        "colab_type": "code",
        "colab": {}
      },
      "source": [
        ""
      ],
      "execution_count": 0,
      "outputs": []
    }
  ]
}